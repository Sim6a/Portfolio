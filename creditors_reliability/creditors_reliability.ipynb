{
 "cells": [
  {
   "cell_type": "markdown",
   "id": "74070d51",
   "metadata": {
    "deletable": false,
    "editable": false,
    "id": "c81daeeb"
   },
   "source": [
    "# Исследование надежности заемщиков\n"
   ]
  },
  {
   "cell_type": "markdown",
   "id": "fbd29132",
   "metadata": {
    "deletable": false,
    "editable": false,
    "id": "827c20bf"
   },
   "source": [
    "Во второй части проекта вы выполните шаги 3 и 4. Их вручную проверит ревьюер.\n",
    "Чтобы вам не пришлось писать код заново для шагов 1 и 2, мы добавили авторские решения в ячейки с кодом. \n",
    "\n"
   ]
  },
  {
   "cell_type": "markdown",
   "id": "1ed5ee92",
   "metadata": {
    "deletable": false,
    "editable": false,
    "id": "744d7639"
   },
   "source": [
    "## Откройте таблицу и изучите общую информацию о данных"
   ]
  },
  {
   "cell_type": "markdown",
   "id": "92630338",
   "metadata": {
    "deletable": false,
    "editable": false,
    "id": "e7a14c31"
   },
   "source": [
    "**Задание 1. Импортируйте библиотеку pandas. Считайте данные из csv-файла в датафрейм и сохраните в переменную `data`. Путь к файлу:**\n",
    "\n",
    "`/datasets/data.csv`"
   ]
  },
  {
   "cell_type": "code",
   "execution_count": 1,
   "id": "1f2e287f",
   "metadata": {
    "deletable": false,
    "id": "7bcf75c9"
   },
   "outputs": [],
   "source": [
    "import pandas as pd\n",
    "\n",
    "try:\n",
    "    data = pd.read_csv('/datasets/data.csv')\n",
    "except:\n",
    "    data = pd.read_csv('https://code.s3.yandex.net/datasets/data.csv')"
   ]
  },
  {
   "cell_type": "markdown",
   "id": "ba7607da",
   "metadata": {
    "deletable": false,
    "editable": false,
    "id": "b8038fe3"
   },
   "source": [
    "**Задание 2. Выведите первые 20 строчек датафрейма `data` на экран.**"
   ]
  },
  {
   "cell_type": "code",
   "execution_count": 2,
   "id": "3c7fb9aa",
   "metadata": {
    "deletable": false,
    "id": "2a7cab99",
    "outputId": "1a8f3ef2-d323-4ec2-ddf7-89670b5944c4"
   },
   "outputs": [
    {
     "data": {
      "text/html": [
       "<div>\n",
       "<style scoped>\n",
       "    .dataframe tbody tr th:only-of-type {\n",
       "        vertical-align: middle;\n",
       "    }\n",
       "\n",
       "    .dataframe tbody tr th {\n",
       "        vertical-align: top;\n",
       "    }\n",
       "\n",
       "    .dataframe thead th {\n",
       "        text-align: right;\n",
       "    }\n",
       "</style>\n",
       "<table border=\"1\" class=\"dataframe\">\n",
       "  <thead>\n",
       "    <tr style=\"text-align: right;\">\n",
       "      <th></th>\n",
       "      <th>children</th>\n",
       "      <th>days_employed</th>\n",
       "      <th>dob_years</th>\n",
       "      <th>education</th>\n",
       "      <th>education_id</th>\n",
       "      <th>family_status</th>\n",
       "      <th>family_status_id</th>\n",
       "      <th>gender</th>\n",
       "      <th>income_type</th>\n",
       "      <th>debt</th>\n",
       "      <th>total_income</th>\n",
       "      <th>purpose</th>\n",
       "    </tr>\n",
       "  </thead>\n",
       "  <tbody>\n",
       "    <tr>\n",
       "      <th>0</th>\n",
       "      <td>1</td>\n",
       "      <td>-8437.673028</td>\n",
       "      <td>42</td>\n",
       "      <td>высшее</td>\n",
       "      <td>0</td>\n",
       "      <td>женат / замужем</td>\n",
       "      <td>0</td>\n",
       "      <td>F</td>\n",
       "      <td>сотрудник</td>\n",
       "      <td>0</td>\n",
       "      <td>253875.639453</td>\n",
       "      <td>покупка жилья</td>\n",
       "    </tr>\n",
       "    <tr>\n",
       "      <th>1</th>\n",
       "      <td>1</td>\n",
       "      <td>-4024.803754</td>\n",
       "      <td>36</td>\n",
       "      <td>среднее</td>\n",
       "      <td>1</td>\n",
       "      <td>женат / замужем</td>\n",
       "      <td>0</td>\n",
       "      <td>F</td>\n",
       "      <td>сотрудник</td>\n",
       "      <td>0</td>\n",
       "      <td>112080.014102</td>\n",
       "      <td>приобретение автомобиля</td>\n",
       "    </tr>\n",
       "    <tr>\n",
       "      <th>2</th>\n",
       "      <td>0</td>\n",
       "      <td>-5623.422610</td>\n",
       "      <td>33</td>\n",
       "      <td>Среднее</td>\n",
       "      <td>1</td>\n",
       "      <td>женат / замужем</td>\n",
       "      <td>0</td>\n",
       "      <td>M</td>\n",
       "      <td>сотрудник</td>\n",
       "      <td>0</td>\n",
       "      <td>145885.952297</td>\n",
       "      <td>покупка жилья</td>\n",
       "    </tr>\n",
       "    <tr>\n",
       "      <th>3</th>\n",
       "      <td>3</td>\n",
       "      <td>-4124.747207</td>\n",
       "      <td>32</td>\n",
       "      <td>среднее</td>\n",
       "      <td>1</td>\n",
       "      <td>женат / замужем</td>\n",
       "      <td>0</td>\n",
       "      <td>M</td>\n",
       "      <td>сотрудник</td>\n",
       "      <td>0</td>\n",
       "      <td>267628.550329</td>\n",
       "      <td>дополнительное образование</td>\n",
       "    </tr>\n",
       "    <tr>\n",
       "      <th>4</th>\n",
       "      <td>0</td>\n",
       "      <td>340266.072047</td>\n",
       "      <td>53</td>\n",
       "      <td>среднее</td>\n",
       "      <td>1</td>\n",
       "      <td>гражданский брак</td>\n",
       "      <td>1</td>\n",
       "      <td>F</td>\n",
       "      <td>пенсионер</td>\n",
       "      <td>0</td>\n",
       "      <td>158616.077870</td>\n",
       "      <td>сыграть свадьбу</td>\n",
       "    </tr>\n",
       "    <tr>\n",
       "      <th>5</th>\n",
       "      <td>0</td>\n",
       "      <td>-926.185831</td>\n",
       "      <td>27</td>\n",
       "      <td>высшее</td>\n",
       "      <td>0</td>\n",
       "      <td>гражданский брак</td>\n",
       "      <td>1</td>\n",
       "      <td>M</td>\n",
       "      <td>компаньон</td>\n",
       "      <td>0</td>\n",
       "      <td>255763.565419</td>\n",
       "      <td>покупка жилья</td>\n",
       "    </tr>\n",
       "    <tr>\n",
       "      <th>6</th>\n",
       "      <td>0</td>\n",
       "      <td>-2879.202052</td>\n",
       "      <td>43</td>\n",
       "      <td>высшее</td>\n",
       "      <td>0</td>\n",
       "      <td>женат / замужем</td>\n",
       "      <td>0</td>\n",
       "      <td>F</td>\n",
       "      <td>компаньон</td>\n",
       "      <td>0</td>\n",
       "      <td>240525.971920</td>\n",
       "      <td>операции с жильем</td>\n",
       "    </tr>\n",
       "    <tr>\n",
       "      <th>7</th>\n",
       "      <td>0</td>\n",
       "      <td>-152.779569</td>\n",
       "      <td>50</td>\n",
       "      <td>СРЕДНЕЕ</td>\n",
       "      <td>1</td>\n",
       "      <td>женат / замужем</td>\n",
       "      <td>0</td>\n",
       "      <td>M</td>\n",
       "      <td>сотрудник</td>\n",
       "      <td>0</td>\n",
       "      <td>135823.934197</td>\n",
       "      <td>образование</td>\n",
       "    </tr>\n",
       "    <tr>\n",
       "      <th>8</th>\n",
       "      <td>2</td>\n",
       "      <td>-6929.865299</td>\n",
       "      <td>35</td>\n",
       "      <td>ВЫСШЕЕ</td>\n",
       "      <td>0</td>\n",
       "      <td>гражданский брак</td>\n",
       "      <td>1</td>\n",
       "      <td>F</td>\n",
       "      <td>сотрудник</td>\n",
       "      <td>0</td>\n",
       "      <td>95856.832424</td>\n",
       "      <td>на проведение свадьбы</td>\n",
       "    </tr>\n",
       "    <tr>\n",
       "      <th>9</th>\n",
       "      <td>0</td>\n",
       "      <td>-2188.756445</td>\n",
       "      <td>41</td>\n",
       "      <td>среднее</td>\n",
       "      <td>1</td>\n",
       "      <td>женат / замужем</td>\n",
       "      <td>0</td>\n",
       "      <td>M</td>\n",
       "      <td>сотрудник</td>\n",
       "      <td>0</td>\n",
       "      <td>144425.938277</td>\n",
       "      <td>покупка жилья для семьи</td>\n",
       "    </tr>\n",
       "    <tr>\n",
       "      <th>10</th>\n",
       "      <td>2</td>\n",
       "      <td>-4171.483647</td>\n",
       "      <td>36</td>\n",
       "      <td>высшее</td>\n",
       "      <td>0</td>\n",
       "      <td>женат / замужем</td>\n",
       "      <td>0</td>\n",
       "      <td>M</td>\n",
       "      <td>компаньон</td>\n",
       "      <td>0</td>\n",
       "      <td>113943.491460</td>\n",
       "      <td>покупка недвижимости</td>\n",
       "    </tr>\n",
       "    <tr>\n",
       "      <th>11</th>\n",
       "      <td>0</td>\n",
       "      <td>-792.701887</td>\n",
       "      <td>40</td>\n",
       "      <td>среднее</td>\n",
       "      <td>1</td>\n",
       "      <td>женат / замужем</td>\n",
       "      <td>0</td>\n",
       "      <td>F</td>\n",
       "      <td>сотрудник</td>\n",
       "      <td>0</td>\n",
       "      <td>77069.234271</td>\n",
       "      <td>покупка коммерческой недвижимости</td>\n",
       "    </tr>\n",
       "    <tr>\n",
       "      <th>12</th>\n",
       "      <td>0</td>\n",
       "      <td>NaN</td>\n",
       "      <td>65</td>\n",
       "      <td>среднее</td>\n",
       "      <td>1</td>\n",
       "      <td>гражданский брак</td>\n",
       "      <td>1</td>\n",
       "      <td>M</td>\n",
       "      <td>пенсионер</td>\n",
       "      <td>0</td>\n",
       "      <td>NaN</td>\n",
       "      <td>сыграть свадьбу</td>\n",
       "    </tr>\n",
       "    <tr>\n",
       "      <th>13</th>\n",
       "      <td>0</td>\n",
       "      <td>-1846.641941</td>\n",
       "      <td>54</td>\n",
       "      <td>неоконченное высшее</td>\n",
       "      <td>2</td>\n",
       "      <td>женат / замужем</td>\n",
       "      <td>0</td>\n",
       "      <td>F</td>\n",
       "      <td>сотрудник</td>\n",
       "      <td>0</td>\n",
       "      <td>130458.228857</td>\n",
       "      <td>приобретение автомобиля</td>\n",
       "    </tr>\n",
       "    <tr>\n",
       "      <th>14</th>\n",
       "      <td>0</td>\n",
       "      <td>-1844.956182</td>\n",
       "      <td>56</td>\n",
       "      <td>высшее</td>\n",
       "      <td>0</td>\n",
       "      <td>гражданский брак</td>\n",
       "      <td>1</td>\n",
       "      <td>F</td>\n",
       "      <td>компаньон</td>\n",
       "      <td>1</td>\n",
       "      <td>165127.911772</td>\n",
       "      <td>покупка жилой недвижимости</td>\n",
       "    </tr>\n",
       "    <tr>\n",
       "      <th>15</th>\n",
       "      <td>1</td>\n",
       "      <td>-972.364419</td>\n",
       "      <td>26</td>\n",
       "      <td>среднее</td>\n",
       "      <td>1</td>\n",
       "      <td>женат / замужем</td>\n",
       "      <td>0</td>\n",
       "      <td>F</td>\n",
       "      <td>сотрудник</td>\n",
       "      <td>0</td>\n",
       "      <td>116820.904450</td>\n",
       "      <td>строительство собственной недвижимости</td>\n",
       "    </tr>\n",
       "    <tr>\n",
       "      <th>16</th>\n",
       "      <td>0</td>\n",
       "      <td>-1719.934226</td>\n",
       "      <td>35</td>\n",
       "      <td>среднее</td>\n",
       "      <td>1</td>\n",
       "      <td>женат / замужем</td>\n",
       "      <td>0</td>\n",
       "      <td>F</td>\n",
       "      <td>сотрудник</td>\n",
       "      <td>0</td>\n",
       "      <td>289202.704229</td>\n",
       "      <td>недвижимость</td>\n",
       "    </tr>\n",
       "    <tr>\n",
       "      <th>17</th>\n",
       "      <td>0</td>\n",
       "      <td>-2369.999720</td>\n",
       "      <td>33</td>\n",
       "      <td>высшее</td>\n",
       "      <td>0</td>\n",
       "      <td>гражданский брак</td>\n",
       "      <td>1</td>\n",
       "      <td>M</td>\n",
       "      <td>сотрудник</td>\n",
       "      <td>0</td>\n",
       "      <td>90410.586745</td>\n",
       "      <td>строительство недвижимости</td>\n",
       "    </tr>\n",
       "    <tr>\n",
       "      <th>18</th>\n",
       "      <td>0</td>\n",
       "      <td>400281.136913</td>\n",
       "      <td>53</td>\n",
       "      <td>среднее</td>\n",
       "      <td>1</td>\n",
       "      <td>вдовец / вдова</td>\n",
       "      <td>2</td>\n",
       "      <td>F</td>\n",
       "      <td>пенсионер</td>\n",
       "      <td>0</td>\n",
       "      <td>56823.777243</td>\n",
       "      <td>на покупку подержанного автомобиля</td>\n",
       "    </tr>\n",
       "    <tr>\n",
       "      <th>19</th>\n",
       "      <td>0</td>\n",
       "      <td>-10038.818549</td>\n",
       "      <td>48</td>\n",
       "      <td>СРЕДНЕЕ</td>\n",
       "      <td>1</td>\n",
       "      <td>в разводе</td>\n",
       "      <td>3</td>\n",
       "      <td>F</td>\n",
       "      <td>сотрудник</td>\n",
       "      <td>0</td>\n",
       "      <td>242831.107982</td>\n",
       "      <td>на покупку своего автомобиля</td>\n",
       "    </tr>\n",
       "  </tbody>\n",
       "</table>\n",
       "</div>"
      ],
      "text/plain": [
       "    children  days_employed  dob_years            education  education_id  \\\n",
       "0          1   -8437.673028         42               высшее             0   \n",
       "1          1   -4024.803754         36              среднее             1   \n",
       "2          0   -5623.422610         33              Среднее             1   \n",
       "3          3   -4124.747207         32              среднее             1   \n",
       "4          0  340266.072047         53              среднее             1   \n",
       "5          0    -926.185831         27               высшее             0   \n",
       "6          0   -2879.202052         43               высшее             0   \n",
       "7          0    -152.779569         50              СРЕДНЕЕ             1   \n",
       "8          2   -6929.865299         35               ВЫСШЕЕ             0   \n",
       "9          0   -2188.756445         41              среднее             1   \n",
       "10         2   -4171.483647         36               высшее             0   \n",
       "11         0    -792.701887         40              среднее             1   \n",
       "12         0            NaN         65              среднее             1   \n",
       "13         0   -1846.641941         54  неоконченное высшее             2   \n",
       "14         0   -1844.956182         56               высшее             0   \n",
       "15         1    -972.364419         26              среднее             1   \n",
       "16         0   -1719.934226         35              среднее             1   \n",
       "17         0   -2369.999720         33               высшее             0   \n",
       "18         0  400281.136913         53              среднее             1   \n",
       "19         0  -10038.818549         48              СРЕДНЕЕ             1   \n",
       "\n",
       "       family_status  family_status_id gender income_type  debt  \\\n",
       "0    женат / замужем                 0      F   сотрудник     0   \n",
       "1    женат / замужем                 0      F   сотрудник     0   \n",
       "2    женат / замужем                 0      M   сотрудник     0   \n",
       "3    женат / замужем                 0      M   сотрудник     0   \n",
       "4   гражданский брак                 1      F   пенсионер     0   \n",
       "5   гражданский брак                 1      M   компаньон     0   \n",
       "6    женат / замужем                 0      F   компаньон     0   \n",
       "7    женат / замужем                 0      M   сотрудник     0   \n",
       "8   гражданский брак                 1      F   сотрудник     0   \n",
       "9    женат / замужем                 0      M   сотрудник     0   \n",
       "10   женат / замужем                 0      M   компаньон     0   \n",
       "11   женат / замужем                 0      F   сотрудник     0   \n",
       "12  гражданский брак                 1      M   пенсионер     0   \n",
       "13   женат / замужем                 0      F   сотрудник     0   \n",
       "14  гражданский брак                 1      F   компаньон     1   \n",
       "15   женат / замужем                 0      F   сотрудник     0   \n",
       "16   женат / замужем                 0      F   сотрудник     0   \n",
       "17  гражданский брак                 1      M   сотрудник     0   \n",
       "18    вдовец / вдова                 2      F   пенсионер     0   \n",
       "19         в разводе                 3      F   сотрудник     0   \n",
       "\n",
       "     total_income                                 purpose  \n",
       "0   253875.639453                           покупка жилья  \n",
       "1   112080.014102                 приобретение автомобиля  \n",
       "2   145885.952297                           покупка жилья  \n",
       "3   267628.550329              дополнительное образование  \n",
       "4   158616.077870                         сыграть свадьбу  \n",
       "5   255763.565419                           покупка жилья  \n",
       "6   240525.971920                       операции с жильем  \n",
       "7   135823.934197                             образование  \n",
       "8    95856.832424                   на проведение свадьбы  \n",
       "9   144425.938277                 покупка жилья для семьи  \n",
       "10  113943.491460                    покупка недвижимости  \n",
       "11   77069.234271       покупка коммерческой недвижимости  \n",
       "12            NaN                         сыграть свадьбу  \n",
       "13  130458.228857                 приобретение автомобиля  \n",
       "14  165127.911772              покупка жилой недвижимости  \n",
       "15  116820.904450  строительство собственной недвижимости  \n",
       "16  289202.704229                            недвижимость  \n",
       "17   90410.586745              строительство недвижимости  \n",
       "18   56823.777243      на покупку подержанного автомобиля  \n",
       "19  242831.107982            на покупку своего автомобиля  "
      ]
     },
     "execution_count": 2,
     "metadata": {},
     "output_type": "execute_result"
    }
   ],
   "source": [
    "data.head(20)"
   ]
  },
  {
   "cell_type": "markdown",
   "id": "d37c6f71",
   "metadata": {
    "deletable": false,
    "editable": false,
    "id": "1c12e233"
   },
   "source": [
    "**Задание 3. Выведите основную информацию о датафрейме с помощью метода `info()`.**"
   ]
  },
  {
   "cell_type": "code",
   "execution_count": 3,
   "id": "276576d2",
   "metadata": {
    "deletable": false,
    "id": "2b757bca",
    "outputId": "15376089-8dad-46c9-b520-c05248d43158"
   },
   "outputs": [
    {
     "name": "stdout",
     "output_type": "stream",
     "text": [
      "<class 'pandas.core.frame.DataFrame'>\n",
      "RangeIndex: 21525 entries, 0 to 21524\n",
      "Data columns (total 12 columns):\n",
      " #   Column            Non-Null Count  Dtype  \n",
      "---  ------            --------------  -----  \n",
      " 0   children          21525 non-null  int64  \n",
      " 1   days_employed     19351 non-null  float64\n",
      " 2   dob_years         21525 non-null  int64  \n",
      " 3   education         21525 non-null  object \n",
      " 4   education_id      21525 non-null  int64  \n",
      " 5   family_status     21525 non-null  object \n",
      " 6   family_status_id  21525 non-null  int64  \n",
      " 7   gender            21525 non-null  object \n",
      " 8   income_type       21525 non-null  object \n",
      " 9   debt              21525 non-null  int64  \n",
      " 10  total_income      19351 non-null  float64\n",
      " 11  purpose           21525 non-null  object \n",
      "dtypes: float64(2), int64(5), object(5)\n",
      "memory usage: 2.0+ MB\n"
     ]
    }
   ],
   "source": [
    "data.info()"
   ]
  },
  {
   "cell_type": "markdown",
   "id": "c651b6c1",
   "metadata": {
    "deletable": false,
    "editable": false,
    "id": "333ec665"
   },
   "source": [
    "## Предобработка данных"
   ]
  },
  {
   "cell_type": "markdown",
   "id": "8276dc04",
   "metadata": {
    "deletable": false,
    "editable": false,
    "id": "02d92d53"
   },
   "source": [
    "### Удаление пропусков"
   ]
  },
  {
   "cell_type": "markdown",
   "id": "6b77a31e",
   "metadata": {
    "deletable": false,
    "editable": false,
    "id": "cd84967c"
   },
   "source": [
    "**Задание 4. Выведите количество пропущенных значений для каждого столбца. Используйте комбинацию двух методов.**"
   ]
  },
  {
   "cell_type": "code",
   "execution_count": 4,
   "id": "42ef72ba",
   "metadata": {
    "deletable": false,
    "id": "7f9b2309",
    "outputId": "81f4d817-781c-465c-ed15-91ce4446810d"
   },
   "outputs": [
    {
     "data": {
      "text/plain": [
       "children               0\n",
       "days_employed       2174\n",
       "dob_years              0\n",
       "education              0\n",
       "education_id           0\n",
       "family_status          0\n",
       "family_status_id       0\n",
       "gender                 0\n",
       "income_type            0\n",
       "debt                   0\n",
       "total_income        2174\n",
       "purpose                0\n",
       "dtype: int64"
      ]
     },
     "execution_count": 4,
     "metadata": {},
     "output_type": "execute_result"
    }
   ],
   "source": [
    "data.isna().sum()"
   ]
  },
  {
   "cell_type": "markdown",
   "id": "8a4c1b8c",
   "metadata": {
    "deletable": false,
    "editable": false,
    "id": "db86e27b"
   },
   "source": [
    "**Задание 5. В двух столбцах есть пропущенные значения. Один из них — `days_employed`. Пропуски в этом столбце вы обработаете на следующем этапе. Другой столбец с пропущенными значениями — `total_income` — хранит данные о доходах. На сумму дохода сильнее всего влияет тип занятости, поэтому заполнить пропуски в этом столбце нужно медианным значением по каждому типу из столбца `income_type`. Например, у человека с типом занятости `сотрудник` пропуск в столбце `total_income` должен быть заполнен медианным доходом среди всех записей с тем же типом.**"
   ]
  },
  {
   "cell_type": "code",
   "execution_count": 5,
   "id": "adb8e9e2",
   "metadata": {
    "deletable": false,
    "id": "42006a93"
   },
   "outputs": [],
   "source": [
    "for t in data['income_type'].unique():\n",
    "    data.loc[(data['income_type'] == t) & (data['total_income'].isna()), 'total_income'] = \\\n",
    "    data.loc[(data['income_type'] == t), 'total_income'].median()"
   ]
  },
  {
   "cell_type": "markdown",
   "id": "478b7778",
   "metadata": {
    "deletable": false,
    "editable": false,
    "id": "89da5ece"
   },
   "source": [
    "### Обработка аномальных значений"
   ]
  },
  {
   "cell_type": "markdown",
   "id": "c0fe4b47",
   "metadata": {
    "deletable": false,
    "editable": false,
    "id": "57964554"
   },
   "source": [
    "**Задание 6. В данных могут встречаться артефакты (аномалии) — значения, которые не отражают действительность и появились по какой-то ошибке. таким артефактом будет отрицательное количество дней трудового стажа в столбце `days_employed`. Для реальных данных это нормально. Обработайте значения в этом столбце: замените все отрицательные значения положительными с помощью метода `abs()`.**"
   ]
  },
  {
   "cell_type": "code",
   "execution_count": 6,
   "id": "f70d47a4",
   "metadata": {
    "deletable": false,
    "id": "f6f055bf"
   },
   "outputs": [],
   "source": [
    "data['days_employed'] = data['days_employed'].abs()"
   ]
  },
  {
   "cell_type": "markdown",
   "id": "48544d2b",
   "metadata": {
    "deletable": false,
    "editable": false,
    "id": "6107dd2f"
   },
   "source": [
    "**Задание 7. Для каждого типа занятости выведите медианное значение трудового стажа `days_employed` в днях.**"
   ]
  },
  {
   "cell_type": "code",
   "execution_count": 7,
   "id": "97bd6c8e",
   "metadata": {
    "deletable": false,
    "id": "85a5faf6",
    "outputId": "801ef80e-522b-4668-f34e-565af7432bcf"
   },
   "outputs": [
    {
     "data": {
      "text/plain": [
       "income_type\n",
       "безработный        366413.652744\n",
       "в декрете            3296.759962\n",
       "госслужащий          2689.368353\n",
       "компаньон            1547.382223\n",
       "пенсионер          365213.306266\n",
       "предприниматель       520.848083\n",
       "сотрудник            1574.202821\n",
       "студент               578.751554\n",
       "Name: days_employed, dtype: float64"
      ]
     },
     "execution_count": 7,
     "metadata": {},
     "output_type": "execute_result"
    }
   ],
   "source": [
    "data.groupby('income_type')['days_employed'].agg('median')"
   ]
  },
  {
   "cell_type": "markdown",
   "id": "b76f9b31",
   "metadata": {
    "deletable": false,
    "editable": false,
    "id": "38d1a030"
   },
   "source": [
    "У двух типов (безработные и пенсионеры) получатся аномально большие значения. Исправить такие значения сложно, поэтому оставьте их как есть. Тем более этот столбец не понадобится вам для исследования."
   ]
  },
  {
   "cell_type": "markdown",
   "id": "ef803340",
   "metadata": {
    "deletable": false,
    "editable": false,
    "id": "d8a9f147"
   },
   "source": [
    "**Задание 8. Выведите перечень уникальных значений столбца `children`.**"
   ]
  },
  {
   "cell_type": "code",
   "execution_count": 8,
   "id": "7df9994b",
   "metadata": {
    "deletable": false,
    "id": "ef5056eb",
    "outputId": "6975b15c-7f95-4697-d16d-a0c79b657b03"
   },
   "outputs": [
    {
     "data": {
      "text/plain": [
       "array([ 1,  0,  3,  2, -1,  4, 20,  5])"
      ]
     },
     "execution_count": 8,
     "metadata": {},
     "output_type": "execute_result"
    }
   ],
   "source": [
    "data['children'].unique()"
   ]
  },
  {
   "cell_type": "markdown",
   "id": "952d6b8b",
   "metadata": {
    "deletable": false,
    "editable": false,
    "id": "40b9ebf2"
   },
   "source": [
    "**Задание 9. В столбце `children` есть два аномальных значения. Удалите строки, в которых встречаются такие аномальные значения из датафрейма `data`.**"
   ]
  },
  {
   "cell_type": "code",
   "execution_count": 9,
   "id": "35f6e9d4",
   "metadata": {
    "deletable": false,
    "id": "3ff9801d"
   },
   "outputs": [],
   "source": [
    "data = data[(data['children'] != -1) & (data['children'] != 20)]"
   ]
  },
  {
   "cell_type": "markdown",
   "id": "f7e0874d",
   "metadata": {
    "deletable": false,
    "editable": false,
    "id": "bbc4d0ce"
   },
   "source": [
    "**Задание 10. Ещё раз выведите перечень уникальных значений столбца `children`, чтобы убедиться, что артефакты удалены.**"
   ]
  },
  {
   "cell_type": "code",
   "execution_count": 10,
   "id": "26f20d58",
   "metadata": {
    "deletable": false,
    "id": "ad4fa8b7",
    "outputId": "b2097101-d49d-44d9-901b-32a65c9463d1"
   },
   "outputs": [
    {
     "data": {
      "text/plain": [
       "array([1, 0, 3, 2, 4, 5])"
      ]
     },
     "execution_count": 10,
     "metadata": {},
     "output_type": "execute_result"
    }
   ],
   "source": [
    "data['children'].unique()"
   ]
  },
  {
   "cell_type": "markdown",
   "id": "bbef1ed5",
   "metadata": {
    "deletable": false,
    "editable": false,
    "id": "75440b63"
   },
   "source": [
    "### Удаление пропусков (продолжение)"
   ]
  },
  {
   "cell_type": "markdown",
   "id": "66596ba4",
   "metadata": {
    "deletable": false,
    "editable": false,
    "id": "f4ea573f"
   },
   "source": [
    "**Задание 11. Заполните пропуски в столбце `days_employed` медианными значениями по каждого типа занятости `income_type`.**"
   ]
  },
  {
   "cell_type": "code",
   "execution_count": 11,
   "id": "62e09505",
   "metadata": {
    "deletable": false,
    "id": "af6b1a7e"
   },
   "outputs": [],
   "source": [
    "for t in data['income_type'].unique():\n",
    "    data.loc[(data['income_type'] == t) & (data['days_employed'].isna()), 'days_employed'] = \\\n",
    "    data.loc[(data['income_type'] == t), 'days_employed'].median()"
   ]
  },
  {
   "cell_type": "markdown",
   "id": "eea7cf89",
   "metadata": {
    "deletable": false,
    "editable": false,
    "id": "2753f40d"
   },
   "source": [
    "**Задание 12. Убедитесь, что все пропуски заполнены. Проверьте себя и ещё раз выведите количество пропущенных значений для каждого столбца с помощью двух методов.**"
   ]
  },
  {
   "cell_type": "code",
   "execution_count": 12,
   "id": "663ab3eb",
   "metadata": {
    "deletable": false,
    "id": "55f78bc2",
    "outputId": "8da1e4e1-358e-4e87-98c9-f261bce0a7b2"
   },
   "outputs": [
    {
     "data": {
      "text/plain": [
       "children            0\n",
       "days_employed       0\n",
       "dob_years           0\n",
       "education           0\n",
       "education_id        0\n",
       "family_status       0\n",
       "family_status_id    0\n",
       "gender              0\n",
       "income_type         0\n",
       "debt                0\n",
       "total_income        0\n",
       "purpose             0\n",
       "dtype: int64"
      ]
     },
     "execution_count": 12,
     "metadata": {},
     "output_type": "execute_result"
    }
   ],
   "source": [
    "data.isna().sum()"
   ]
  },
  {
   "cell_type": "markdown",
   "id": "c38f69e0",
   "metadata": {
    "deletable": false,
    "editable": false,
    "id": "ddc81e43"
   },
   "source": [
    "### Изменение типов данных"
   ]
  },
  {
   "cell_type": "markdown",
   "id": "76fc2364",
   "metadata": {
    "deletable": false,
    "editable": false,
    "id": "42d19d24"
   },
   "source": [
    "**Задание 13. Замените вещественный тип данных в столбце `total_income` на целочисленный с помощью метода `astype()`.**"
   ]
  },
  {
   "cell_type": "code",
   "execution_count": 13,
   "id": "33a06f15",
   "metadata": {
    "deletable": false,
    "id": "920b65ad"
   },
   "outputs": [],
   "source": [
    "data['total_income'] = data['total_income'].astype(int)"
   ]
  },
  {
   "cell_type": "markdown",
   "id": "390a91e7",
   "metadata": {
    "deletable": false,
    "editable": false,
    "id": "80c420ba"
   },
   "source": [
    "### Обработка дубликатов"
   ]
  },
  {
   "cell_type": "markdown",
   "id": "b981d1d0",
   "metadata": {
    "deletable": false,
    "editable": false
   },
   "source": [
    "**Задание 14. Обработайте неявные дубликаты в столбце `education`. В этом столбце есть одни и те же значения, но записанные по-разному: с использованием заглавных и строчных букв. Приведите их к нижнему регистру. Проверьте остальные столбцы.**"
   ]
  },
  {
   "cell_type": "code",
   "execution_count": 14,
   "id": "96465b43",
   "metadata": {
    "deletable": false
   },
   "outputs": [],
   "source": [
    "data['education'] = data['education'].str.lower()"
   ]
  },
  {
   "cell_type": "markdown",
   "id": "426065de",
   "metadata": {
    "deletable": false,
    "editable": false,
    "id": "dc587695"
   },
   "source": [
    "**Задание 15. Выведите на экран количество строк-дубликатов в данных. Если такие строки присутствуют, удалите их.**"
   ]
  },
  {
   "cell_type": "code",
   "execution_count": 15,
   "id": "6c8e2881",
   "metadata": {
    "deletable": false,
    "id": "3ee445e4",
    "outputId": "9684deba-1934-42d1-99e1-cda61740f822"
   },
   "outputs": [
    {
     "data": {
      "text/plain": [
       "71"
      ]
     },
     "execution_count": 15,
     "metadata": {},
     "output_type": "execute_result"
    }
   ],
   "source": [
    "data.duplicated().sum()"
   ]
  },
  {
   "cell_type": "code",
   "execution_count": 16,
   "id": "f48b0c6a",
   "metadata": {
    "deletable": false,
    "id": "8575fe05"
   },
   "outputs": [],
   "source": [
    "data = data.drop_duplicates()"
   ]
  },
  {
   "cell_type": "markdown",
   "id": "821ee4f6",
   "metadata": {
    "deletable": false,
    "editable": false,
    "id": "9904cf55"
   },
   "source": [
    "### Категоризация данных"
   ]
  },
  {
   "cell_type": "markdown",
   "id": "40f46bea",
   "metadata": {
    "deletable": false,
    "editable": false,
    "id": "72fcc8a2"
   },
   "source": [
    "**Задание 16. На основании диапазонов, указанных ниже, создайте в датафрейме `data` столбец `total_income_category` с категориями:**\n",
    "\n",
    "- 0–30000 — `'E'`;\n",
    "- 30001–50000 — `'D'`;\n",
    "- 50001–200000 — `'C'`;\n",
    "- 200001–1000000 — `'B'`;\n",
    "- 1000001 и выше — `'A'`.\n",
    "\n",
    "\n",
    "**Например, кредитополучателю с доходом 25000 нужно назначить категорию `'E'`, а клиенту, получающему 235000, — `'B'`. Используйте собственную функцию с именем `categorize_income()` и метод `apply()`.**"
   ]
  },
  {
   "cell_type": "code",
   "execution_count": 17,
   "id": "173dba62",
   "metadata": {
    "deletable": false,
    "id": "e1771346"
   },
   "outputs": [],
   "source": [
    "def categorize_income(income):\n",
    "    try:\n",
    "        if 0 <= income <= 30000:\n",
    "            return 'E - менее 30 000'\n",
    "        elif 30001 <= income <= 50000:\n",
    "            return 'D - от 30 000 до 50 000'\n",
    "        elif 50001 <= income <= 200000:\n",
    "            return 'C - от 50 000 до 200 000'\n",
    "        elif 200001 <= income <= 1000000:\n",
    "            return 'B - от 200 000 до 1 000 000'\n",
    "        elif income >= 1000001:\n",
    "            return 'A - больше 1 000 000'\n",
    "    except:\n",
    "        pass"
   ]
  },
  {
   "cell_type": "code",
   "execution_count": 18,
   "id": "e210fc27",
   "metadata": {
    "deletable": false,
    "id": "d5f3586d"
   },
   "outputs": [],
   "source": [
    "data['total_income_category'] = data['total_income'].apply(categorize_income)"
   ]
  },
  {
   "cell_type": "markdown",
   "id": "1ac751ae",
   "metadata": {
    "deletable": false,
    "editable": false,
    "id": "dde49b5c"
   },
   "source": [
    "**Задание 17. Выведите на экран перечень уникальных целей взятия кредита из столбца `purpose`.**"
   ]
  },
  {
   "cell_type": "code",
   "execution_count": 19,
   "id": "43f1e75a",
   "metadata": {
    "deletable": false,
    "id": "f67ce9b3",
    "outputId": "673c12d9-7d7e-4ae0-9812-c622c89dd244"
   },
   "outputs": [
    {
     "data": {
      "text/plain": [
       "array(['покупка жилья', 'приобретение автомобиля',\n",
       "       'дополнительное образование', 'сыграть свадьбу',\n",
       "       'операции с жильем', 'образование', 'на проведение свадьбы',\n",
       "       'покупка жилья для семьи', 'покупка недвижимости',\n",
       "       'покупка коммерческой недвижимости', 'покупка жилой недвижимости',\n",
       "       'строительство собственной недвижимости', 'недвижимость',\n",
       "       'строительство недвижимости', 'на покупку подержанного автомобиля',\n",
       "       'на покупку своего автомобиля',\n",
       "       'операции с коммерческой недвижимостью',\n",
       "       'строительство жилой недвижимости', 'жилье',\n",
       "       'операции со своей недвижимостью', 'автомобили',\n",
       "       'заняться образованием', 'сделка с подержанным автомобилем',\n",
       "       'получение образования', 'автомобиль', 'свадьба',\n",
       "       'получение дополнительного образования', 'покупка своего жилья',\n",
       "       'операции с недвижимостью', 'получение высшего образования',\n",
       "       'свой автомобиль', 'сделка с автомобилем',\n",
       "       'профильное образование', 'высшее образование',\n",
       "       'покупка жилья для сдачи', 'на покупку автомобиля', 'ремонт жилью',\n",
       "       'заняться высшим образованием'], dtype=object)"
      ]
     },
     "execution_count": 19,
     "metadata": {},
     "output_type": "execute_result"
    }
   ],
   "source": [
    "data['purpose'].unique()"
   ]
  },
  {
   "cell_type": "markdown",
   "id": "2be75f78",
   "metadata": {
    "deletable": false,
    "editable": false,
    "id": "85d0aef0"
   },
   "source": [
    "**Задание 18. Создайте функцию, которая на основании данных из столбца `purpose` сформирует новый столбец `purpose_category`, в который войдут следующие категории:**\n",
    "\n",
    "- `'операции с автомобилем'`,\n",
    "- `'операции с недвижимостью'`,\n",
    "- `'проведение свадьбы'`,\n",
    "- `'получение образования'`.\n",
    "\n",
    "**Например, если в столбце `purpose` находится подстрока `'на покупку автомобиля'`, то в столбце `purpose_category` должна появиться строка `'операции с автомобилем'`.**\n",
    "\n",
    "**Используйте собственную функцию с именем `categorize_purpose()` и метод `apply()`. Изучите данные в столбце `purpose` и определите, какие подстроки помогут вам правильно определить категорию.**"
   ]
  },
  {
   "cell_type": "code",
   "execution_count": 20,
   "id": "959cd902",
   "metadata": {
    "deletable": false,
    "id": "e149fab4"
   },
   "outputs": [],
   "source": [
    "def categorize_purpose(row):\n",
    "    try:\n",
    "        if 'автом' in row:\n",
    "            return 'операции с автомобилем'\n",
    "        elif 'жил' in row or 'недвиж' in row:\n",
    "            return 'операции с недвижимостью'\n",
    "        elif 'свад' in row:\n",
    "            return 'проведение свадьбы'\n",
    "        elif 'образов' in row:\n",
    "            return 'получение образования'\n",
    "    except:\n",
    "        return 'нет категории'"
   ]
  },
  {
   "cell_type": "code",
   "execution_count": 21,
   "id": "967ceb4a",
   "metadata": {
    "deletable": false,
    "id": "bf36e69b"
   },
   "outputs": [],
   "source": [
    "data['purpose_category'] = data['purpose'].apply(categorize_purpose)"
   ]
  },
  {
   "cell_type": "markdown",
   "id": "e6943e19",
   "metadata": {
    "deletable": false,
    "editable": false,
    "id": "09b242bf"
   },
   "source": [
    "### Шаг 3. Исследуйте данные и ответьте на вопросы"
   ]
  },
  {
   "cell_type": "markdown",
   "id": "cd57fe90",
   "metadata": {
    "deletable": false,
    "editable": false,
    "id": "c5d66278"
   },
   "source": [
    "#### 3.1 Есть ли зависимость между количеством детей и возвратом кредита в срок?"
   ]
  },
  {
   "cell_type": "markdown",
   "id": "ac30ef61",
   "metadata": {},
   "source": [
    "Сгруппируем данные по столбцу **children** и посчитаем процент должников для каждого значения. Для этого разделим количество должников (подсчитанное методом **sum**, т.к. единица в столбце **debt** указывает на наличие задолженности) на общее количество заемщиков (подсчитанное методом **count**) и умножим на 100. \n",
    "\n",
    "Объединим эти данные в одну таблицу методом **concat** и переименуем столбцы для более удобного представления. Для наглядности используем метод **display**."
   ]
  },
  {
   "cell_type": "code",
   "execution_count": 22,
   "id": "6a73c763",
   "metadata": {
    "deletable": false,
    "id": "2cacfc4a"
   },
   "outputs": [
    {
     "data": {
      "text/html": [
       "<div>\n",
       "<style scoped>\n",
       "    .dataframe tbody tr th:only-of-type {\n",
       "        vertical-align: middle;\n",
       "    }\n",
       "\n",
       "    .dataframe tbody tr th {\n",
       "        vertical-align: top;\n",
       "    }\n",
       "\n",
       "    .dataframe thead th {\n",
       "        text-align: right;\n",
       "    }\n",
       "</style>\n",
       "<table border=\"1\" class=\"dataframe\">\n",
       "  <thead>\n",
       "    <tr style=\"text-align: right;\">\n",
       "      <th></th>\n",
       "      <th>percentage_of_debts</th>\n",
       "      <th>count</th>\n",
       "      <th>sum</th>\n",
       "    </tr>\n",
       "    <tr>\n",
       "      <th>children</th>\n",
       "      <th></th>\n",
       "      <th></th>\n",
       "      <th></th>\n",
       "    </tr>\n",
       "  </thead>\n",
       "  <tbody>\n",
       "    <tr>\n",
       "      <th>0</th>\n",
       "      <td>7.543822</td>\n",
       "      <td>14091</td>\n",
       "      <td>1063</td>\n",
       "    </tr>\n",
       "    <tr>\n",
       "      <th>1</th>\n",
       "      <td>9.234609</td>\n",
       "      <td>4808</td>\n",
       "      <td>444</td>\n",
       "    </tr>\n",
       "    <tr>\n",
       "      <th>2</th>\n",
       "      <td>9.454191</td>\n",
       "      <td>2052</td>\n",
       "      <td>194</td>\n",
       "    </tr>\n",
       "    <tr>\n",
       "      <th>3</th>\n",
       "      <td>8.181818</td>\n",
       "      <td>330</td>\n",
       "      <td>27</td>\n",
       "    </tr>\n",
       "    <tr>\n",
       "      <th>4</th>\n",
       "      <td>9.756098</td>\n",
       "      <td>41</td>\n",
       "      <td>4</td>\n",
       "    </tr>\n",
       "    <tr>\n",
       "      <th>5</th>\n",
       "      <td>0.000000</td>\n",
       "      <td>9</td>\n",
       "      <td>0</td>\n",
       "    </tr>\n",
       "  </tbody>\n",
       "</table>\n",
       "</div>"
      ],
      "text/plain": [
       "          percentage_of_debts  count   sum\n",
       "children                                  \n",
       "0                    7.543822  14091  1063\n",
       "1                    9.234609   4808   444\n",
       "2                    9.454191   2052   194\n",
       "3                    8.181818    330    27\n",
       "4                    9.756098     41     4\n",
       "5                    0.000000      9     0"
      ]
     },
     "metadata": {},
     "output_type": "display_data"
    }
   ],
   "source": [
    "child_debt_sum = data.groupby('children')['debt'].sum()\n",
    "child_debt_count = data.groupby('children')['debt'].count()\n",
    "child_data_debt_percent = child_debt_sum / child_debt_count * 100\n",
    "\n",
    "case_children = pd.concat([child_data_debt_percent, child_debt_count, child_debt_sum], axis=1)\n",
    "case_children.columns = ['percentage_of_debts','count','sum']\n",
    "display(case_children)"
   ]
  },
  {
   "cell_type": "markdown",
   "id": "251d9f7d",
   "metadata": {
    "deletable": false,
    "id": "3a6b99ec"
   },
   "source": [
    "**Вывод:** \n",
    "Общее количество заемщиков больше всего в группе без детей, но при этом самый низкий процент должников.\n",
    "\n",
    "Можно видеть, что чем больше детей - тем меньше люди берут кредит в принципе, однако у тех, что берут вероятность вернуть во время меньше, чем у группы без детей. У группы с 5 детьми отсутствуют задолженности, но девять таких случаев - это не показатель, её можно исключить.\n",
    "\n",
    "В целом, наличие детей уменьшает вероятность возврата кредита в срок, т.к. процент должников в группах с детьми больше. Можно сделать вывод, что чем больше детей - тем больше процент должников, но в третьей группе он ниже, чем у остальных, на это нужно обратить внимание. "
   ]
  },
  {
   "cell_type": "markdown",
   "id": "f36c71d9",
   "metadata": {
    "deletable": false,
    "editable": false,
    "id": "97be82ca"
   },
   "source": [
    "#### 3.2 Есть ли зависимость между семейным положением и возвратом кредита в срок?"
   ]
  },
  {
   "cell_type": "markdown",
   "id": "458f7e6c",
   "metadata": {},
   "source": [
    "Возьмем за основу порядок действий из предыдущего исследования. Используя группировку по столбцу **family_status** для столбца **debt**, найдем общее число заемщиков **(count)** и количество должников **(sum)**. Разделив число должников на общее число заемщиков, получим процент должников в каждой группе.\n",
    "\n",
    "Объединим эти данные в одну таблицу методом concat и переименуем столбцы для более удобного представления. Для наглядности используем метод **display** и отсортируем по столбцу с процентом должников по возрастанию."
   ]
  },
  {
   "cell_type": "code",
   "execution_count": 23,
   "id": "53d7f3ad",
   "metadata": {
    "deletable": false,
    "id": "dc3f7ee8"
   },
   "outputs": [
    {
     "data": {
      "text/html": [
       "<div>\n",
       "<style scoped>\n",
       "    .dataframe tbody tr th:only-of-type {\n",
       "        vertical-align: middle;\n",
       "    }\n",
       "\n",
       "    .dataframe tbody tr th {\n",
       "        vertical-align: top;\n",
       "    }\n",
       "\n",
       "    .dataframe thead th {\n",
       "        text-align: right;\n",
       "    }\n",
       "</style>\n",
       "<table border=\"1\" class=\"dataframe\">\n",
       "  <thead>\n",
       "    <tr style=\"text-align: right;\">\n",
       "      <th></th>\n",
       "      <th>percentage_of_debts</th>\n",
       "      <th>count</th>\n",
       "      <th>sum</th>\n",
       "    </tr>\n",
       "    <tr>\n",
       "      <th>family_status</th>\n",
       "      <th></th>\n",
       "      <th></th>\n",
       "      <th></th>\n",
       "    </tr>\n",
       "  </thead>\n",
       "  <tbody>\n",
       "    <tr>\n",
       "      <th>вдовец / вдова</th>\n",
       "      <td>6.624606</td>\n",
       "      <td>951</td>\n",
       "      <td>63</td>\n",
       "    </tr>\n",
       "    <tr>\n",
       "      <th>в разводе</th>\n",
       "      <td>7.064760</td>\n",
       "      <td>1189</td>\n",
       "      <td>84</td>\n",
       "    </tr>\n",
       "    <tr>\n",
       "      <th>женат / замужем</th>\n",
       "      <td>7.560558</td>\n",
       "      <td>12261</td>\n",
       "      <td>927</td>\n",
       "    </tr>\n",
       "    <tr>\n",
       "      <th>гражданский брак</th>\n",
       "      <td>9.313014</td>\n",
       "      <td>4134</td>\n",
       "      <td>385</td>\n",
       "    </tr>\n",
       "    <tr>\n",
       "      <th>Не женат / не замужем</th>\n",
       "      <td>9.763948</td>\n",
       "      <td>2796</td>\n",
       "      <td>273</td>\n",
       "    </tr>\n",
       "  </tbody>\n",
       "</table>\n",
       "</div>"
      ],
      "text/plain": [
       "                       percentage_of_debts  count  sum\n",
       "family_status                                         \n",
       "вдовец / вдова                    6.624606    951   63\n",
       "в разводе                         7.064760   1189   84\n",
       "женат / замужем                   7.560558  12261  927\n",
       "гражданский брак                  9.313014   4134  385\n",
       "Не женат / не замужем             9.763948   2796  273"
      ]
     },
     "metadata": {},
     "output_type": "display_data"
    }
   ],
   "source": [
    "family_debt_sum = data.groupby('family_status')['debt'].sum()\n",
    "family_debt_count = data.groupby('family_status')['debt'].count()\n",
    "family_data_debt_percent = family_debt_sum / family_debt_count * 100\n",
    "\n",
    "case_family = pd.concat([family_data_debt_percent, family_debt_count, family_debt_sum], axis=1)\n",
    "case_family.columns = ['percentage_of_debts','count','sum']\n",
    "display(case_family.sort_values('percentage_of_debts'))"
   ]
  },
  {
   "cell_type": "markdown",
   "id": "503f3eb0",
   "metadata": {
    "deletable": false,
    "id": "1cef7837"
   },
   "source": [
    "**Вывод:** \n",
    "Наименьший процент должников среди тех, кто потерял семью (вдовец/вдова). Они же реже всех остальных берут кредиты. Можно предположить, что такие люди, в виду одиночества, проявляют бОльшую осторожность и ответственность при взаимодействии с долговыми обязательствами.\n",
    "\n",
    "Больше всего берут кредиты женатые пары. Процент должников средний. Вполне логичный показатель, семьям, в особенности молодым, требуются ресурсы на обустройство и развитие, но в виду обстоятельств, не все могут закрыть долги во время. Тем не менее, это не самая большая группа должников, следовательно, наличие семьи способствует возврату кредита вовремя.\n",
    "\n",
    "Самый большой процент должников в группе тех, кто не был женат/замужем. Но общее число заемщиков в этой группе не самое большое.\n",
    "\n",
    "Опираясь на результаты предыдущего исследования, можно сделать вывод, что меньше всего вероятность вернуть кредит у тех, кто имеет детей (причем, чем больше - тем хуже), и при этом никогда не был в браке."
   ]
  },
  {
   "cell_type": "markdown",
   "id": "ca2994c4",
   "metadata": {
    "deletable": false,
    "editable": false,
    "id": "1e8b2fca"
   },
   "source": [
    "#### 3.3 Есть ли зависимость между уровнем дохода и возвратом кредита в срок?"
   ]
  },
  {
   "cell_type": "markdown",
   "id": "d1eceeb8",
   "metadata": {},
   "source": [
    "Возьмем два столбца исходных данных (**total_income** и **debt**). Создадим отдельную таблицу **case_income_data_categorized**, отсортированную по столбцу дохода и применим функцию **categorize_income** из 16 задания, чтобы создать в ней столбец **total_income_category** с категорями уровня дохода. В функции дополнены описания к категориям, чтобы можно было видеть числовые диапазоны в выходных данных.\n",
    "\n",
    "Теперь можно применить шаги из предыдущих исследований - при помощи группировки по новому столбцу **total_income_category** найти общее число заемщиков **(income_debt_count)**, количество должников **(income_debt_sum)** и процент тех, кто имеет задолженность **(income_data_debt_percent)**.\n",
    "\n",
    "Выходные данные отсортируем по проценту должников и выведем результат **case_income**."
   ]
  },
  {
   "cell_type": "code",
   "execution_count": 24,
   "id": "ed1a5f40",
   "metadata": {
    "deletable": false,
    "id": "cd7e3720"
   },
   "outputs": [
    {
     "data": {
      "text/html": [
       "<div>\n",
       "<style scoped>\n",
       "    .dataframe tbody tr th:only-of-type {\n",
       "        vertical-align: middle;\n",
       "    }\n",
       "\n",
       "    .dataframe tbody tr th {\n",
       "        vertical-align: top;\n",
       "    }\n",
       "\n",
       "    .dataframe thead th {\n",
       "        text-align: right;\n",
       "    }\n",
       "</style>\n",
       "<table border=\"1\" class=\"dataframe\">\n",
       "  <thead>\n",
       "    <tr style=\"text-align: right;\">\n",
       "      <th></th>\n",
       "      <th>percentage_of_debts</th>\n",
       "      <th>count</th>\n",
       "      <th>sum</th>\n",
       "    </tr>\n",
       "    <tr>\n",
       "      <th>total_income_category</th>\n",
       "      <th></th>\n",
       "      <th></th>\n",
       "      <th></th>\n",
       "    </tr>\n",
       "  </thead>\n",
       "  <tbody>\n",
       "    <tr>\n",
       "      <th>C - от 50 000 до 200 000</th>\n",
       "      <td>8.094756</td>\n",
       "      <td>15788</td>\n",
       "      <td>1278</td>\n",
       "    </tr>\n",
       "    <tr>\n",
       "      <th>D - от 30 000 до 50 000</th>\n",
       "      <td>8.139535</td>\n",
       "      <td>344</td>\n",
       "      <td>28</td>\n",
       "    </tr>\n",
       "    <tr>\n",
       "      <th>B - от 200 000 до 1 000 000</th>\n",
       "      <td>8.202338</td>\n",
       "      <td>4962</td>\n",
       "      <td>407</td>\n",
       "    </tr>\n",
       "    <tr>\n",
       "      <th>E - менее 30 000</th>\n",
       "      <td>9.090909</td>\n",
       "      <td>22</td>\n",
       "      <td>2</td>\n",
       "    </tr>\n",
       "    <tr>\n",
       "      <th>A - больше 1 000 000</th>\n",
       "      <td>12.000000</td>\n",
       "      <td>25</td>\n",
       "      <td>3</td>\n",
       "    </tr>\n",
       "  </tbody>\n",
       "</table>\n",
       "</div>"
      ],
      "text/plain": [
       "                             percentage_of_debts  count   sum\n",
       "total_income_category                                        \n",
       "C - от 50 000 до 200 000                8.094756  15788  1278\n",
       "D - от 30 000 до 50 000                 8.139535    344    28\n",
       "B - от 200 000 до 1 000 000             8.202338   4962   407\n",
       "E - менее 30 000                        9.090909     22     2\n",
       "A - больше 1 000 000                   12.000000     25     3"
      ]
     },
     "metadata": {},
     "output_type": "display_data"
    }
   ],
   "source": [
    "case_income_data = data[['total_income','debt']]\n",
    "\n",
    "case_income_data_categorized = case_income_data.sort_values(by='total_income').reset_index(drop=True)\n",
    "case_income_data_categorized['total_income_category'] = case_income_data['total_income'].apply(categorize_income)\n",
    "\n",
    "income_debt_sum = case_income_data_categorized.groupby('total_income_category')['debt'].sum()\n",
    "income_debt_count = case_income_data_categorized.groupby('total_income_category')['debt'].count()\n",
    "income_data_debt_percent = income_debt_sum / income_debt_count * 100\n",
    "\n",
    "\n",
    "case_income = pd.concat([income_data_debt_percent, income_debt_count, income_debt_sum], axis=1)\n",
    "case_income.columns = ['percentage_of_debts','count','sum']\n",
    "display(case_income.sort_values('percentage_of_debts'))\n"
   ]
  },
  {
   "cell_type": "markdown",
   "id": "6a78eb81",
   "metadata": {
    "deletable": false,
    "id": "e8593def"
   },
   "source": [
    "**Вывод:** \n",
    "Две крайние категории (A, у кого доход менее 30 000 и D, у кого доход более 1 000 000) имеют наибольший процент должников. Однако, общее количество заемщиков в этих группах крайне мало, выводы по ним нельзя считать показательными. Все логично - люди с крайне низким доходом не хотят брать на себя лишние долговые обязательства, а людям с крайне высоким доходом кредиты не нужны.\n",
    "По категории E тоже недостаточно данных, чтобы считать её значимой, будем делать вывод на основании оставшихся категорий.\n",
    "\n",
    "Больше всего кредитов берут люди из средней категории C (от 50 000 до 200 000). В этой же категории наименьшее количество должников. Можно предположить, что она является предпочтительной при оценке. Примерно такой же процент должников и в картегории B, но число заемщиков там в три раза меньше. На основании этого, можно сделать вывод, что в данном исследовании вероятность вернуть кредит в срок не зависит от уровня дохода. Однако, стоит учитывать и простую логику - чем выше доход, тем меньше берут кредиты и тем проще их вернуть в срок."
   ]
  },
  {
   "cell_type": "markdown",
   "id": "5ce5a174",
   "metadata": {
    "deletable": false,
    "editable": false,
    "id": "99ecbd1f"
   },
   "source": [
    "#### 3.4 Как разные цели кредита влияют на его возврат в срок?"
   ]
  },
  {
   "cell_type": "markdown",
   "id": "4fc62bd4",
   "metadata": {},
   "source": [
    "Воспользуемся схемой действий из предыдущего исследования. Возьмем два столбца (**purpose** и **debt**), но будем применять функцию **categorize_purpose** из задания 18 к столбцу **purpose**, чтобы создать новый столбец с категориями по целям (**purpose_category**).\n",
    "\n",
    "Далее при помощи группировки по новому столбцу **purpose_category** найдем общее число заемщиков (**purpose_debt_count**), количество должников (**purpose_debt_sum**) и процент тех, кто имеет задолженность (**purpose_data_debt_percent**).\n",
    "\n",
    "Выходные данные отсортируем по проценту должников и выведем результат **case_purpose**."
   ]
  },
  {
   "cell_type": "code",
   "execution_count": 25,
   "id": "b67bdcaa",
   "metadata": {
    "deletable": false,
    "id": "2b687290"
   },
   "outputs": [
    {
     "data": {
      "text/html": [
       "<div>\n",
       "<style scoped>\n",
       "    .dataframe tbody tr th:only-of-type {\n",
       "        vertical-align: middle;\n",
       "    }\n",
       "\n",
       "    .dataframe tbody tr th {\n",
       "        vertical-align: top;\n",
       "    }\n",
       "\n",
       "    .dataframe thead th {\n",
       "        text-align: right;\n",
       "    }\n",
       "</style>\n",
       "<table border=\"1\" class=\"dataframe\">\n",
       "  <thead>\n",
       "    <tr style=\"text-align: right;\">\n",
       "      <th></th>\n",
       "      <th>percentage_of_debts</th>\n",
       "      <th>count</th>\n",
       "      <th>sum</th>\n",
       "    </tr>\n",
       "    <tr>\n",
       "      <th>purpose_category</th>\n",
       "      <th></th>\n",
       "      <th></th>\n",
       "      <th></th>\n",
       "    </tr>\n",
       "  </thead>\n",
       "  <tbody>\n",
       "    <tr>\n",
       "      <th>операции с автомобилем</th>\n",
       "      <td>7.666903</td>\n",
       "      <td>4239</td>\n",
       "      <td>325</td>\n",
       "    </tr>\n",
       "    <tr>\n",
       "      <th>получение образования</th>\n",
       "      <td>7.849571</td>\n",
       "      <td>3962</td>\n",
       "      <td>311</td>\n",
       "    </tr>\n",
       "    <tr>\n",
       "      <th>операции с недвижимостью</th>\n",
       "      <td>8.235515</td>\n",
       "      <td>10649</td>\n",
       "      <td>877</td>\n",
       "    </tr>\n",
       "    <tr>\n",
       "      <th>проведение свадьбы</th>\n",
       "      <td>8.904409</td>\n",
       "      <td>2291</td>\n",
       "      <td>204</td>\n",
       "    </tr>\n",
       "  </tbody>\n",
       "</table>\n",
       "</div>"
      ],
      "text/plain": [
       "                          percentage_of_debts  count  sum\n",
       "purpose_category                                         \n",
       "операции с автомобилем               7.666903   4239  325\n",
       "получение образования                7.849571   3962  311\n",
       "операции с недвижимостью             8.235515  10649  877\n",
       "проведение свадьбы                   8.904409   2291  204"
      ]
     },
     "metadata": {},
     "output_type": "display_data"
    }
   ],
   "source": [
    "case_purpose_data = data[['purpose','debt']]\n",
    "\n",
    "case_purpose_data_categorized = case_purpose_data.sort_values(by='purpose').reset_index(drop=True)\n",
    "case_purpose_data_categorized['purpose_category'] = case_purpose_data['purpose'].apply(categorize_purpose)\n",
    "\n",
    "purpose_debt_sum = case_purpose_data_categorized.groupby('purpose_category')['debt'].sum()\n",
    "purpose_debt_count = case_purpose_data_categorized.groupby('purpose_category')['debt'].count()\n",
    "purpose_data_debt_percent = purpose_debt_sum / purpose_debt_count * 100\n",
    "\n",
    "\n",
    "case_purpose = pd.concat([purpose_data_debt_percent, purpose_debt_count, purpose_debt_sum], axis=1)\n",
    "case_purpose.columns = ['percentage_of_debts','count','sum']\n",
    "display(case_purpose.sort_values('percentage_of_debts'))\n"
   ]
  },
  {
   "cell_type": "markdown",
   "id": "5ac6c423",
   "metadata": {
    "deletable": false,
    "id": "b4bb2ce6"
   },
   "source": [
    "**Вывод:** \n",
    "Наиболее надежная категория - **операции с автомобилем**. Низкий процент должников и большое число заёмщиков говорят о том, что люди стараются вовремя закрывать свои кредитные обязательства в этой области. \n",
    "\n",
    "Наибольшее число заемщиков в категории **операции с недвижимостью**. Процент должников средний. Жильё нужно всем, суммы кредитов в этой категории большие, поэтому не все могут справиться. К тому же, если рассматривать ипотеку, сроки кредитования очень долгие и по ним нужна дополнительная информация, чтобы подробнее изучить эту группу.\n",
    "\n",
    "Наконец, самая ненадежная категория - **проведение свадьбы**. В ней меньше всего заемщиков (но достаточно, чтобы сделать выводы) и самый большой процент должников. Можно сделать вывод, что неадекватная оценка своей платежеспособности происходит под воздействием импульсивных мыслей, что и приводит людей из этой категории к необдуманному решению."
   ]
  },
  {
   "cell_type": "markdown",
   "id": "01bcac4c",
   "metadata": {
    "deletable": false,
    "editable": false,
    "id": "09c3ac4c"
   },
   "source": [
    "#### 3.5 Приведите возможные причины появления пропусков в исходных данных."
   ]
  },
  {
   "cell_type": "markdown",
   "id": "0d17ad90",
   "metadata": {
    "deletable": false,
    "id": "9da2ceda"
   },
   "source": [
    "*Ответ:* пропуски обнаружены в столбцах с трудовым стажем (**days_employed**) и доходом (**total_income**).\n",
    "\n",
    "Возможные причины пропусков в данных: \n",
    " - техническая ошибка: неправильная обработка нулевых данных при заполнении (когда стажа/дохода действительно нет);\n",
    " - техническая ошибка при считывании;\n",
    " - человоческий фактор (невнимательность при заполнении данных)."
   ]
  },
  {
   "cell_type": "markdown",
   "id": "09559479",
   "metadata": {
    "deletable": false,
    "editable": false,
    "id": "7b0487d6"
   },
   "source": [
    "#### 3.6 Объясните, почему заполнить пропуски медианным значением — лучшее решение для количественных переменных."
   ]
  },
  {
   "cell_type": "markdown",
   "id": "96a46229",
   "metadata": {
    "deletable": false,
    "id": "7ecf2b8e"
   },
   "source": [
    "*Ответ:* медиана лучше характеризует выборку из количественных элементов, т.к. она показывает центральное местоположение в последовательности и меньше зависит от резких перепадов значений в выборке. Функия **median( )** упорядочивает выборку и возвращает её центральное значение, если наблюдений нечетное количество и среднее арифметическое двух центральных значений, если количество наблюдений в выборке четное."
   ]
  },
  {
   "cell_type": "markdown",
   "id": "11baf1df",
   "metadata": {
    "deletable": false,
    "editable": false,
    "id": "6db5255a"
   },
   "source": [
    "### Шаг 4: общий вывод."
   ]
  },
  {
   "cell_type": "markdown",
   "id": "d47ec870",
   "metadata": {
    "deletable": false,
    "id": "bad65432"
   },
   "source": [
    "Мы провели предварительную обработку данных:\n",
    " - **заполнили пропуски** количественных значений в **доходе** и **стаже** медианой по каждой категории типа занятости;\n",
    " - обработали **аномальные отрицательные значения** в столбце со **стажем** и **количеством детей**; \n",
    " - в столбце **дохода** заменили **вещественный** тип данных на **целочисленный**;\n",
    " - удалили дубликаты;\n",
    " - подготовили функции для категоризации данных по **уровню дохода** и **целям** кредита;\n",
    " \n",
    " После этого приступили к исследованию.\n",
    "\n",
    "**1) Есть ли зависимость между количеством детей и возвратом кредита в срок?**\n",
    "\n",
    "Исследование **подтвердило гипотезу** о зависимости между количеством детей и возвратом кредита в срок. Чем больше детей, тем меньше вероятность возврата. К примеру, в группе **без детей** **7.5%** должников, а в группе с **двумя детьми** уже **9.4%**.\n",
    "\n",
    "**2) Есть ли зависимость между семейным положением и возвратом кредита в срок?**\n",
    "\n",
    "Эта гипотеза так же **подтвердилась**. Самый большой процент должников **9,7%** - у тех, кто **не был женат/замужем**, что говорит о том, что наличие семьи благоприятно сказывается на вероятности возврата вовремя. У людей **в браке** процент должников заметно ниже -  **7,5%**.\n",
    "\n",
    "**3) Есть ли зависимость между уровнем дохода и возвратом кредита в срок?**\n",
    "\n",
    "На основе имеющихся данных эта гипотеза **не подтвердилась**. Процент должников по основным группам был примерно одинаковый. Однако, стоит учитывать и простую логику - чем выше доход, тем меньше берут кредиты и тем проще их вернуть в срок.\n",
    "\n",
    "**4) Как разные цели кредита влияют на его возврат в срок?**\n",
    "\n",
    "Эта гипотеза **подтвердилась**, самой ненадежной оказалась наиболее импульсивная группа - тех, кто брал кредит на проведение **свадьбы (8.9% должников)**, а самой надежной - **на операции с автомобилем (7.6%)**.\n",
    "\n",
    "Можно отметить, что во всех проведенных исследованиях, **процент должников по каждой статистически значимой группе не превышал 10 от общего числа заемщиков в своей группе**, резких и аномальных отклонений замечено не было. Это говорит о хорошей статистике возвратов и о надежности данных, на основании которых были проведены исследования."
   ]
  }
 ],
 "metadata": {
  "ExecuteTimeLog": [
   {
    "duration": 48,
    "start_time": "2023-05-01T09:18:54.450Z"
   },
   {
    "duration": 697,
    "start_time": "2023-05-01T09:19:08.057Z"
   },
   {
    "duration": 22,
    "start_time": "2023-05-01T09:19:08.756Z"
   },
   {
    "duration": 20,
    "start_time": "2023-05-01T09:19:08.780Z"
   },
   {
    "duration": 23,
    "start_time": "2023-05-01T09:19:08.802Z"
   },
   {
    "duration": 40,
    "start_time": "2023-05-01T09:19:08.827Z"
   },
   {
    "duration": 4,
    "start_time": "2023-05-01T09:19:08.869Z"
   },
   {
    "duration": 19,
    "start_time": "2023-05-01T09:19:08.875Z"
   },
   {
    "duration": 5,
    "start_time": "2023-05-01T09:19:08.895Z"
   },
   {
    "duration": 12,
    "start_time": "2023-05-01T09:19:08.902Z"
   },
   {
    "duration": 7,
    "start_time": "2023-05-01T09:19:08.916Z"
   },
   {
    "duration": 46,
    "start_time": "2023-05-01T09:19:08.925Z"
   },
   {
    "duration": 10,
    "start_time": "2023-05-01T09:19:08.973Z"
   },
   {
    "duration": 7,
    "start_time": "2023-05-01T09:19:08.985Z"
   },
   {
    "duration": 17,
    "start_time": "2023-05-01T09:19:08.994Z"
   },
   {
    "duration": 22,
    "start_time": "2023-05-01T09:19:09.012Z"
   },
   {
    "duration": 15,
    "start_time": "2023-05-01T09:19:09.035Z"
   },
   {
    "duration": 3,
    "start_time": "2023-05-01T09:19:09.052Z"
   },
   {
    "duration": 13,
    "start_time": "2023-05-01T09:19:09.057Z"
   },
   {
    "duration": 6,
    "start_time": "2023-05-01T09:19:09.071Z"
   },
   {
    "duration": 10,
    "start_time": "2023-05-01T09:19:09.078Z"
   },
   {
    "duration": 14,
    "start_time": "2023-05-01T09:19:09.089Z"
   },
   {
    "duration": 16,
    "start_time": "2023-05-01T09:19:09.845Z"
   },
   {
    "duration": 23,
    "start_time": "2023-05-01T09:19:57.933Z"
   },
   {
    "duration": 53,
    "start_time": "2023-05-01T12:35:07.384Z"
   },
   {
    "duration": 496,
    "start_time": "2023-05-01T12:35:17.309Z"
   },
   {
    "duration": 23,
    "start_time": "2023-05-01T12:35:17.807Z"
   },
   {
    "duration": 23,
    "start_time": "2023-05-01T12:35:17.832Z"
   },
   {
    "duration": 12,
    "start_time": "2023-05-01T12:35:17.856Z"
   },
   {
    "duration": 32,
    "start_time": "2023-05-01T12:35:17.870Z"
   },
   {
    "duration": 3,
    "start_time": "2023-05-01T12:35:17.904Z"
   },
   {
    "duration": 10,
    "start_time": "2023-05-01T12:35:17.908Z"
   },
   {
    "duration": 4,
    "start_time": "2023-05-01T12:35:17.919Z"
   },
   {
    "duration": 15,
    "start_time": "2023-05-01T12:35:17.924Z"
   },
   {
    "duration": 22,
    "start_time": "2023-05-01T12:35:17.940Z"
   },
   {
    "duration": 52,
    "start_time": "2023-05-01T12:35:17.964Z"
   },
   {
    "duration": 14,
    "start_time": "2023-05-01T12:35:18.018Z"
   },
   {
    "duration": 11,
    "start_time": "2023-05-01T12:35:18.034Z"
   },
   {
    "duration": 11,
    "start_time": "2023-05-01T12:35:18.061Z"
   },
   {
    "duration": 22,
    "start_time": "2023-05-01T12:35:18.074Z"
   },
   {
    "duration": 17,
    "start_time": "2023-05-01T12:35:18.098Z"
   },
   {
    "duration": 7,
    "start_time": "2023-05-01T12:35:18.117Z"
   },
   {
    "duration": 24,
    "start_time": "2023-05-01T12:35:18.126Z"
   },
   {
    "duration": 21,
    "start_time": "2023-05-01T12:35:18.151Z"
   },
   {
    "duration": 5,
    "start_time": "2023-05-01T12:35:18.173Z"
   },
   {
    "duration": 26,
    "start_time": "2023-05-01T12:35:18.180Z"
   },
   {
    "duration": 19,
    "start_time": "2023-05-01T12:35:21.089Z"
   },
   {
    "duration": 28,
    "start_time": "2023-05-01T12:35:34.191Z"
   },
   {
    "duration": 8,
    "start_time": "2023-05-01T12:35:40.287Z"
   },
   {
    "duration": 6,
    "start_time": "2023-05-01T12:52:52.643Z"
   },
   {
    "duration": 839,
    "start_time": "2023-05-01T12:53:30.855Z"
   },
   {
    "duration": 608,
    "start_time": "2023-05-01T12:53:49.604Z"
   },
   {
    "duration": 16,
    "start_time": "2023-05-01T12:54:04.063Z"
   },
   {
    "duration": 11,
    "start_time": "2023-05-01T12:58:54.913Z"
   },
   {
    "duration": 6,
    "start_time": "2023-05-01T13:04:59.451Z"
   },
   {
    "duration": 7,
    "start_time": "2023-05-01T13:06:01.095Z"
   },
   {
    "duration": 6,
    "start_time": "2023-05-01T13:06:30.018Z"
   },
   {
    "duration": 5,
    "start_time": "2023-05-01T13:06:46.893Z"
   },
   {
    "duration": 6,
    "start_time": "2023-05-01T13:07:08.385Z"
   },
   {
    "duration": 6,
    "start_time": "2023-05-01T13:07:19.219Z"
   },
   {
    "duration": 10,
    "start_time": "2023-05-01T13:15:20.045Z"
   },
   {
    "duration": 15,
    "start_time": "2023-05-01T13:16:05.142Z"
   },
   {
    "duration": 7,
    "start_time": "2023-05-01T13:16:10.905Z"
   },
   {
    "duration": 5,
    "start_time": "2023-05-01T13:16:20.521Z"
   },
   {
    "duration": 5,
    "start_time": "2023-05-01T13:16:41.519Z"
   },
   {
    "duration": 7,
    "start_time": "2023-05-01T13:16:55.355Z"
   },
   {
    "duration": 6,
    "start_time": "2023-05-01T13:17:24.251Z"
   },
   {
    "duration": 11,
    "start_time": "2023-05-01T13:18:03.322Z"
   },
   {
    "duration": 5,
    "start_time": "2023-05-01T13:18:11.613Z"
   },
   {
    "duration": 5,
    "start_time": "2023-05-01T13:19:45.702Z"
   },
   {
    "duration": 5,
    "start_time": "2023-05-01T13:19:52.833Z"
   },
   {
    "duration": 5,
    "start_time": "2023-05-01T13:19:56.944Z"
   },
   {
    "duration": 8,
    "start_time": "2023-05-01T13:20:01.088Z"
   },
   {
    "duration": 8,
    "start_time": "2023-05-01T13:21:52.225Z"
   },
   {
    "duration": 6,
    "start_time": "2023-05-01T13:22:32.591Z"
   },
   {
    "duration": 8,
    "start_time": "2023-05-01T13:23:09.702Z"
   },
   {
    "duration": 12,
    "start_time": "2023-05-01T13:25:29.806Z"
   },
   {
    "duration": 13,
    "start_time": "2023-05-01T13:27:24.352Z"
   },
   {
    "duration": 3,
    "start_time": "2023-05-01T13:39:02.011Z"
   },
   {
    "duration": 4,
    "start_time": "2023-05-01T13:39:12.100Z"
   },
   {
    "duration": 15,
    "start_time": "2023-05-01T13:39:28.997Z"
   },
   {
    "duration": 1161,
    "start_time": "2023-05-01T13:42:10.249Z"
   },
   {
    "duration": 138,
    "start_time": "2023-05-01T13:42:42.394Z"
   },
   {
    "duration": 215,
    "start_time": "2023-05-01T13:43:15.429Z"
   },
   {
    "duration": 144,
    "start_time": "2023-05-01T13:43:32.225Z"
   },
   {
    "duration": 10,
    "start_time": "2023-05-01T13:43:38.138Z"
   },
   {
    "duration": 105,
    "start_time": "2023-05-01T13:44:08.426Z"
   },
   {
    "duration": 23,
    "start_time": "2023-05-01T13:44:08.536Z"
   },
   {
    "duration": 35,
    "start_time": "2023-05-01T13:44:08.560Z"
   },
   {
    "duration": 28,
    "start_time": "2023-05-01T13:44:08.597Z"
   },
   {
    "duration": 64,
    "start_time": "2023-05-01T13:44:08.627Z"
   },
   {
    "duration": 8,
    "start_time": "2023-05-01T13:44:08.693Z"
   },
   {
    "duration": 28,
    "start_time": "2023-05-01T13:44:08.703Z"
   },
   {
    "duration": 6,
    "start_time": "2023-05-01T13:44:08.736Z"
   },
   {
    "duration": 9,
    "start_time": "2023-05-01T13:44:08.744Z"
   },
   {
    "duration": 10,
    "start_time": "2023-05-01T13:44:08.755Z"
   },
   {
    "duration": 65,
    "start_time": "2023-05-01T13:44:08.991Z"
   },
   {
    "duration": 23,
    "start_time": "2023-05-01T13:44:09.061Z"
   },
   {
    "duration": 15,
    "start_time": "2023-05-01T13:44:09.092Z"
   },
   {
    "duration": 25,
    "start_time": "2023-05-01T13:44:09.109Z"
   },
   {
    "duration": 37,
    "start_time": "2023-05-01T13:44:09.139Z"
   },
   {
    "duration": 35,
    "start_time": "2023-05-01T13:44:09.187Z"
   },
   {
    "duration": 4,
    "start_time": "2023-05-01T13:44:09.227Z"
   },
   {
    "duration": 21,
    "start_time": "2023-05-01T13:44:09.233Z"
   },
   {
    "duration": 38,
    "start_time": "2023-05-01T13:44:09.257Z"
   },
   {
    "duration": 16,
    "start_time": "2023-05-01T13:44:09.307Z"
   },
   {
    "duration": 19,
    "start_time": "2023-05-01T13:44:09.325Z"
   },
   {
    "duration": 12,
    "start_time": "2023-05-01T13:44:11.595Z"
   },
   {
    "duration": 10,
    "start_time": "2023-05-01T13:44:37.287Z"
   },
   {
    "duration": 101,
    "start_time": "2023-05-01T13:44:41.344Z"
   },
   {
    "duration": 21,
    "start_time": "2023-05-01T13:44:41.447Z"
   },
   {
    "duration": 32,
    "start_time": "2023-05-01T13:44:41.470Z"
   },
   {
    "duration": 16,
    "start_time": "2023-05-01T13:44:41.505Z"
   },
   {
    "duration": 73,
    "start_time": "2023-05-01T13:44:41.523Z"
   },
   {
    "duration": 4,
    "start_time": "2023-05-01T13:44:41.603Z"
   },
   {
    "duration": 24,
    "start_time": "2023-05-01T13:44:41.609Z"
   },
   {
    "duration": 14,
    "start_time": "2023-05-01T13:44:41.635Z"
   },
   {
    "duration": 52,
    "start_time": "2023-05-01T13:44:41.651Z"
   },
   {
    "duration": 6,
    "start_time": "2023-05-01T13:44:41.707Z"
   },
   {
    "duration": 78,
    "start_time": "2023-05-01T13:44:41.715Z"
   },
   {
    "duration": 22,
    "start_time": "2023-05-01T13:44:41.795Z"
   },
   {
    "duration": 8,
    "start_time": "2023-05-01T13:44:41.819Z"
   },
   {
    "duration": 22,
    "start_time": "2023-05-01T13:44:41.828Z"
   },
   {
    "duration": 48,
    "start_time": "2023-05-01T13:44:41.852Z"
   },
   {
    "duration": 27,
    "start_time": "2023-05-01T13:44:41.902Z"
   },
   {
    "duration": 4,
    "start_time": "2023-05-01T13:44:41.931Z"
   },
   {
    "duration": 18,
    "start_time": "2023-05-01T13:44:41.937Z"
   },
   {
    "duration": 15,
    "start_time": "2023-05-01T13:44:41.960Z"
   },
   {
    "duration": 5,
    "start_time": "2023-05-01T13:44:41.978Z"
   },
   {
    "duration": 17,
    "start_time": "2023-05-01T13:44:41.986Z"
   },
   {
    "duration": 8,
    "start_time": "2023-05-01T13:44:44.040Z"
   },
   {
    "duration": 16,
    "start_time": "2023-05-01T13:45:25.033Z"
   },
   {
    "duration": 10,
    "start_time": "2023-05-01T13:46:08.309Z"
   },
   {
    "duration": 18,
    "start_time": "2023-05-01T13:54:53.801Z"
   },
   {
    "duration": 23,
    "start_time": "2023-05-01T13:58:04.660Z"
   },
   {
    "duration": 14,
    "start_time": "2023-05-01T13:58:19.300Z"
   },
   {
    "duration": 11,
    "start_time": "2023-05-01T13:58:32.330Z"
   },
   {
    "duration": 10,
    "start_time": "2023-05-01T13:58:38.137Z"
   },
   {
    "duration": 13,
    "start_time": "2023-05-01T14:01:17.296Z"
   },
   {
    "duration": 11,
    "start_time": "2023-05-01T14:01:59.832Z"
   },
   {
    "duration": 9,
    "start_time": "2023-05-01T14:02:37.121Z"
   },
   {
    "duration": 15,
    "start_time": "2023-05-01T14:04:25.993Z"
   },
   {
    "duration": 44,
    "start_time": "2023-05-01T14:05:39.054Z"
   },
   {
    "duration": 90,
    "start_time": "2023-05-01T14:05:53.132Z"
   },
   {
    "duration": 18,
    "start_time": "2023-05-01T14:05:53.224Z"
   },
   {
    "duration": 43,
    "start_time": "2023-05-01T14:05:53.244Z"
   },
   {
    "duration": 31,
    "start_time": "2023-05-01T14:05:53.289Z"
   },
   {
    "duration": 35,
    "start_time": "2023-05-01T14:05:53.323Z"
   },
   {
    "duration": 6,
    "start_time": "2023-05-01T14:05:53.365Z"
   },
   {
    "duration": 32,
    "start_time": "2023-05-01T14:05:53.375Z"
   },
   {
    "duration": 7,
    "start_time": "2023-05-01T14:05:53.412Z"
   },
   {
    "duration": 26,
    "start_time": "2023-05-01T14:05:53.421Z"
   },
   {
    "duration": 35,
    "start_time": "2023-05-01T14:05:53.449Z"
   },
   {
    "duration": 58,
    "start_time": "2023-05-01T14:05:53.485Z"
   },
   {
    "duration": 11,
    "start_time": "2023-05-01T14:05:53.544Z"
   },
   {
    "duration": 38,
    "start_time": "2023-05-01T14:05:53.556Z"
   },
   {
    "duration": 22,
    "start_time": "2023-05-01T14:05:53.601Z"
   },
   {
    "duration": 24,
    "start_time": "2023-05-01T14:05:53.625Z"
   },
   {
    "duration": 21,
    "start_time": "2023-05-01T14:05:53.651Z"
   },
   {
    "duration": 10,
    "start_time": "2023-05-01T14:05:53.673Z"
   },
   {
    "duration": 31,
    "start_time": "2023-05-01T14:05:53.685Z"
   },
   {
    "duration": 13,
    "start_time": "2023-05-01T14:05:53.718Z"
   },
   {
    "duration": 13,
    "start_time": "2023-05-01T14:05:53.732Z"
   },
   {
    "duration": 64,
    "start_time": "2023-05-01T14:05:53.747Z"
   },
   {
    "duration": 17,
    "start_time": "2023-05-01T14:05:54.815Z"
   },
   {
    "duration": 13,
    "start_time": "2023-05-01T14:12:28.738Z"
   },
   {
    "duration": 14,
    "start_time": "2023-05-01T14:12:35.709Z"
   },
   {
    "duration": 16,
    "start_time": "2023-05-01T14:13:52.188Z"
   },
   {
    "duration": 10,
    "start_time": "2023-05-01T14:14:05.040Z"
   },
   {
    "duration": 9,
    "start_time": "2023-05-01T14:14:26.208Z"
   },
   {
    "duration": 11,
    "start_time": "2023-05-01T14:15:16.733Z"
   },
   {
    "duration": 14,
    "start_time": "2023-05-01T14:23:39.848Z"
   },
   {
    "duration": 10,
    "start_time": "2023-05-01T14:24:03.522Z"
   },
   {
    "duration": 11,
    "start_time": "2023-05-01T14:42:35.820Z"
   },
   {
    "duration": 18,
    "start_time": "2023-05-01T14:45:12.225Z"
   },
   {
    "duration": 22,
    "start_time": "2023-05-01T14:46:24.773Z"
   },
   {
    "duration": 19,
    "start_time": "2023-05-01T14:47:14.483Z"
   },
   {
    "duration": 17,
    "start_time": "2023-05-01T14:48:39.504Z"
   },
   {
    "duration": 13,
    "start_time": "2023-05-01T15:04:28.697Z"
   },
   {
    "duration": 33,
    "start_time": "2023-05-01T15:05:30.166Z"
   },
   {
    "duration": 17,
    "start_time": "2023-05-01T15:07:17.784Z"
   },
   {
    "duration": 14,
    "start_time": "2023-05-01T15:07:24.127Z"
   },
   {
    "duration": 16,
    "start_time": "2023-05-01T15:07:41.218Z"
   },
   {
    "duration": 21,
    "start_time": "2023-05-01T15:09:36.578Z"
   },
   {
    "duration": 25,
    "start_time": "2023-05-01T15:09:52.480Z"
   },
   {
    "duration": 24,
    "start_time": "2023-05-01T15:10:34.983Z"
   },
   {
    "duration": 20,
    "start_time": "2023-05-01T15:12:18.684Z"
   },
   {
    "duration": 18,
    "start_time": "2023-05-01T15:15:59.544Z"
   },
   {
    "duration": 14,
    "start_time": "2023-05-01T15:17:01.814Z"
   },
   {
    "duration": 468,
    "start_time": "2023-05-01T15:22:39.751Z"
   },
   {
    "duration": 11,
    "start_time": "2023-05-01T15:22:52.115Z"
   },
   {
    "duration": 12,
    "start_time": "2023-05-01T15:23:04.438Z"
   },
   {
    "duration": 16,
    "start_time": "2023-05-01T15:23:34.681Z"
   },
   {
    "duration": 11,
    "start_time": "2023-05-01T15:24:37.619Z"
   },
   {
    "duration": 11,
    "start_time": "2023-05-01T15:25:03.713Z"
   },
   {
    "duration": 79,
    "start_time": "2023-05-01T15:32:54.210Z"
   },
   {
    "duration": 20,
    "start_time": "2023-05-01T15:32:54.291Z"
   },
   {
    "duration": 21,
    "start_time": "2023-05-01T15:32:54.313Z"
   },
   {
    "duration": 31,
    "start_time": "2023-05-01T15:32:54.335Z"
   },
   {
    "duration": 55,
    "start_time": "2023-05-01T15:32:54.374Z"
   },
   {
    "duration": 4,
    "start_time": "2023-05-01T15:32:54.431Z"
   },
   {
    "duration": 43,
    "start_time": "2023-05-01T15:32:54.437Z"
   },
   {
    "duration": 13,
    "start_time": "2023-05-01T15:32:54.486Z"
   },
   {
    "duration": 25,
    "start_time": "2023-05-01T15:32:54.501Z"
   },
   {
    "duration": 11,
    "start_time": "2023-05-01T15:32:54.528Z"
   },
   {
    "duration": 75,
    "start_time": "2023-05-01T15:32:54.541Z"
   },
   {
    "duration": 18,
    "start_time": "2023-05-01T15:32:54.618Z"
   },
   {
    "duration": 5,
    "start_time": "2023-05-01T15:32:54.639Z"
   },
   {
    "duration": 34,
    "start_time": "2023-05-01T15:32:54.661Z"
   },
   {
    "duration": 27,
    "start_time": "2023-05-01T15:32:54.704Z"
   },
   {
    "duration": 22,
    "start_time": "2023-05-01T15:32:54.733Z"
   },
   {
    "duration": 17,
    "start_time": "2023-05-01T15:32:54.757Z"
   },
   {
    "duration": 39,
    "start_time": "2023-05-01T15:32:54.784Z"
   },
   {
    "duration": 21,
    "start_time": "2023-05-01T15:32:54.826Z"
   },
   {
    "duration": 22,
    "start_time": "2023-05-01T15:32:54.849Z"
   },
   {
    "duration": 16,
    "start_time": "2023-05-01T15:32:54.875Z"
   },
   {
    "duration": 31,
    "start_time": "2023-05-01T15:32:54.892Z"
   },
   {
    "duration": 11,
    "start_time": "2023-05-01T15:40:33.138Z"
   },
   {
    "duration": 15,
    "start_time": "2023-05-01T15:44:54.235Z"
   },
   {
    "duration": 17,
    "start_time": "2023-05-01T15:45:08.605Z"
   },
   {
    "duration": 12,
    "start_time": "2023-05-01T15:45:18.532Z"
   },
   {
    "duration": 13,
    "start_time": "2023-05-01T15:48:05.493Z"
   },
   {
    "duration": 24,
    "start_time": "2023-05-01T15:49:07.488Z"
   },
   {
    "duration": 26,
    "start_time": "2023-05-01T15:49:22.244Z"
   },
   {
    "duration": 35,
    "start_time": "2023-05-01T15:49:29.639Z"
   },
   {
    "duration": 518,
    "start_time": "2023-05-01T15:49:52.145Z"
   },
   {
    "duration": 27,
    "start_time": "2023-05-01T15:49:52.668Z"
   },
   {
    "duration": 27,
    "start_time": "2023-05-01T15:49:52.697Z"
   },
   {
    "duration": 10,
    "start_time": "2023-05-01T15:49:52.726Z"
   },
   {
    "duration": 63,
    "start_time": "2023-05-01T15:49:52.737Z"
   },
   {
    "duration": 3,
    "start_time": "2023-05-01T15:49:52.805Z"
   },
   {
    "duration": 10,
    "start_time": "2023-05-01T15:49:52.810Z"
   },
   {
    "duration": 25,
    "start_time": "2023-05-01T15:49:52.822Z"
   },
   {
    "duration": 10,
    "start_time": "2023-05-01T15:49:52.849Z"
   },
   {
    "duration": 10,
    "start_time": "2023-05-01T15:49:52.873Z"
   },
   {
    "duration": 52,
    "start_time": "2023-05-01T15:49:52.885Z"
   },
   {
    "duration": 13,
    "start_time": "2023-05-01T15:49:52.939Z"
   },
   {
    "duration": 14,
    "start_time": "2023-05-01T15:49:52.953Z"
   },
   {
    "duration": 28,
    "start_time": "2023-05-01T15:49:52.970Z"
   },
   {
    "duration": 24,
    "start_time": "2023-05-01T15:49:53.000Z"
   },
   {
    "duration": 21,
    "start_time": "2023-05-01T15:49:53.026Z"
   },
   {
    "duration": 4,
    "start_time": "2023-05-01T15:49:53.049Z"
   },
   {
    "duration": 30,
    "start_time": "2023-05-01T15:49:53.055Z"
   },
   {
    "duration": 13,
    "start_time": "2023-05-01T15:49:53.087Z"
   },
   {
    "duration": 4,
    "start_time": "2023-05-01T15:49:53.102Z"
   },
   {
    "duration": 25,
    "start_time": "2023-05-01T15:49:53.108Z"
   },
   {
    "duration": 94,
    "start_time": "2023-05-01T15:49:53.135Z"
   },
   {
    "duration": 16,
    "start_time": "2023-05-01T15:50:31.096Z"
   },
   {
    "duration": 24,
    "start_time": "2023-05-01T15:50:43.189Z"
   },
   {
    "duration": 57,
    "start_time": "2023-05-01T15:56:58.602Z"
   },
   {
    "duration": 19,
    "start_time": "2023-05-01T16:04:54.279Z"
   },
   {
    "duration": 13,
    "start_time": "2023-05-01T16:31:02.305Z"
   },
   {
    "duration": 14,
    "start_time": "2023-05-01T16:31:19.028Z"
   },
   {
    "duration": 23,
    "start_time": "2023-05-01T16:31:47.989Z"
   },
   {
    "duration": 46,
    "start_time": "2023-05-01T16:33:07.080Z"
   },
   {
    "duration": 4,
    "start_time": "2023-05-01T16:33:14.348Z"
   },
   {
    "duration": 8,
    "start_time": "2023-05-01T16:35:05.888Z"
   },
   {
    "duration": 5,
    "start_time": "2023-05-01T16:35:11.396Z"
   },
   {
    "duration": 10,
    "start_time": "2023-05-01T16:35:22.803Z"
   },
   {
    "duration": 8,
    "start_time": "2023-05-01T16:35:26.795Z"
   },
   {
    "duration": 4,
    "start_time": "2023-05-01T16:35:57.280Z"
   },
   {
    "duration": 10,
    "start_time": "2023-05-01T16:36:06.943Z"
   },
   {
    "duration": 10,
    "start_time": "2023-05-01T16:36:11.183Z"
   },
   {
    "duration": 51,
    "start_time": "2023-05-01T16:36:21.753Z"
   },
   {
    "duration": 11,
    "start_time": "2023-05-01T16:37:51.940Z"
   },
   {
    "duration": 8,
    "start_time": "2023-05-01T16:38:55.285Z"
   },
   {
    "duration": 11,
    "start_time": "2023-05-01T16:39:09.896Z"
   },
   {
    "duration": 9,
    "start_time": "2023-05-01T16:39:24.109Z"
   },
   {
    "duration": 7,
    "start_time": "2023-05-01T16:39:29.531Z"
   },
   {
    "duration": 7,
    "start_time": "2023-05-01T16:40:07.201Z"
   },
   {
    "duration": 8,
    "start_time": "2023-05-01T16:40:24.932Z"
   },
   {
    "duration": 11,
    "start_time": "2023-05-01T16:40:31.892Z"
   },
   {
    "duration": 76,
    "start_time": "2023-05-01T16:41:42.451Z"
   },
   {
    "duration": 71,
    "start_time": "2023-05-01T16:41:48.534Z"
   },
   {
    "duration": 6,
    "start_time": "2023-05-01T16:42:01.782Z"
   },
   {
    "duration": 14,
    "start_time": "2023-05-01T16:42:27.770Z"
   },
   {
    "duration": 9,
    "start_time": "2023-05-01T16:51:14.983Z"
   },
   {
    "duration": 10,
    "start_time": "2023-05-01T16:51:54.437Z"
   },
   {
    "duration": 11,
    "start_time": "2023-05-01T16:52:16.944Z"
   },
   {
    "duration": 11,
    "start_time": "2023-05-01T16:52:57.626Z"
   },
   {
    "duration": 20,
    "start_time": "2023-05-01T16:57:55.906Z"
   },
   {
    "duration": 25,
    "start_time": "2023-05-01T17:02:03.395Z"
   },
   {
    "duration": 30,
    "start_time": "2023-05-01T17:02:31.261Z"
   },
   {
    "duration": 24,
    "start_time": "2023-05-01T17:09:17.633Z"
   },
   {
    "duration": 13,
    "start_time": "2023-05-01T17:09:27.323Z"
   },
   {
    "duration": 12,
    "start_time": "2023-05-01T17:09:31.225Z"
   },
   {
    "duration": 24,
    "start_time": "2023-05-01T17:09:50.972Z"
   },
   {
    "duration": 12,
    "start_time": "2023-05-01T17:10:06.015Z"
   },
   {
    "duration": 13,
    "start_time": "2023-05-01T17:10:12.697Z"
   },
   {
    "duration": 36,
    "start_time": "2023-05-01T17:10:32.138Z"
   },
   {
    "duration": 17,
    "start_time": "2023-05-01T17:12:00.489Z"
   },
   {
    "duration": 25,
    "start_time": "2023-05-01T17:12:48.729Z"
   },
   {
    "duration": 70,
    "start_time": "2023-05-01T17:12:58.770Z"
   },
   {
    "duration": 16,
    "start_time": "2023-05-01T17:12:58.842Z"
   },
   {
    "duration": 17,
    "start_time": "2023-05-01T17:12:58.871Z"
   },
   {
    "duration": 10,
    "start_time": "2023-05-01T17:12:58.889Z"
   },
   {
    "duration": 40,
    "start_time": "2023-05-01T17:12:58.901Z"
   },
   {
    "duration": 3,
    "start_time": "2023-05-01T17:12:58.943Z"
   },
   {
    "duration": 26,
    "start_time": "2023-05-01T17:12:58.947Z"
   },
   {
    "duration": 5,
    "start_time": "2023-05-01T17:12:58.975Z"
   },
   {
    "duration": 6,
    "start_time": "2023-05-01T17:12:58.982Z"
   },
   {
    "duration": 5,
    "start_time": "2023-05-01T17:12:58.989Z"
   },
   {
    "duration": 36,
    "start_time": "2023-05-01T17:12:58.995Z"
   },
   {
    "duration": 48,
    "start_time": "2023-05-01T17:12:59.033Z"
   },
   {
    "duration": 4,
    "start_time": "2023-05-01T17:12:59.082Z"
   },
   {
    "duration": 19,
    "start_time": "2023-05-01T17:12:59.088Z"
   },
   {
    "duration": 23,
    "start_time": "2023-05-01T17:12:59.109Z"
   },
   {
    "duration": 46,
    "start_time": "2023-05-01T17:12:59.134Z"
   },
   {
    "duration": 4,
    "start_time": "2023-05-01T17:12:59.184Z"
   },
   {
    "duration": 12,
    "start_time": "2023-05-01T17:12:59.190Z"
   },
   {
    "duration": 7,
    "start_time": "2023-05-01T17:12:59.204Z"
   },
   {
    "duration": 4,
    "start_time": "2023-05-01T17:12:59.213Z"
   },
   {
    "duration": 11,
    "start_time": "2023-05-01T17:12:59.219Z"
   },
   {
    "duration": 45,
    "start_time": "2023-05-01T17:12:59.232Z"
   },
   {
    "duration": 20,
    "start_time": "2023-05-01T17:12:59.279Z"
   },
   {
    "duration": 35,
    "start_time": "2023-05-01T17:13:00.948Z"
   },
   {
    "duration": 25,
    "start_time": "2023-05-01T17:13:43.688Z"
   },
   {
    "duration": 23,
    "start_time": "2023-05-01T17:14:06.016Z"
   },
   {
    "duration": 12,
    "start_time": "2023-05-01T17:15:32.393Z"
   },
   {
    "duration": 503,
    "start_time": "2023-05-01T17:15:54.163Z"
   },
   {
    "duration": 25,
    "start_time": "2023-05-01T17:15:54.669Z"
   },
   {
    "duration": 17,
    "start_time": "2023-05-01T17:15:54.696Z"
   },
   {
    "duration": 11,
    "start_time": "2023-05-01T17:15:54.715Z"
   },
   {
    "duration": 65,
    "start_time": "2023-05-01T17:15:54.729Z"
   },
   {
    "duration": 4,
    "start_time": "2023-05-01T17:15:54.796Z"
   },
   {
    "duration": 9,
    "start_time": "2023-05-01T17:15:54.802Z"
   },
   {
    "duration": 7,
    "start_time": "2023-05-01T17:15:54.814Z"
   },
   {
    "duration": 8,
    "start_time": "2023-05-01T17:15:54.823Z"
   },
   {
    "duration": 8,
    "start_time": "2023-05-01T17:15:54.859Z"
   },
   {
    "duration": 33,
    "start_time": "2023-05-01T17:15:54.873Z"
   },
   {
    "duration": 10,
    "start_time": "2023-05-01T17:15:54.908Z"
   },
   {
    "duration": 6,
    "start_time": "2023-05-01T17:15:54.919Z"
   },
   {
    "duration": 20,
    "start_time": "2023-05-01T17:15:54.927Z"
   },
   {
    "duration": 34,
    "start_time": "2023-05-01T17:15:54.959Z"
   },
   {
    "duration": 21,
    "start_time": "2023-05-01T17:15:54.995Z"
   },
   {
    "duration": 3,
    "start_time": "2023-05-01T17:15:55.018Z"
   },
   {
    "duration": 15,
    "start_time": "2023-05-01T17:15:55.023Z"
   },
   {
    "duration": 28,
    "start_time": "2023-05-01T17:15:55.040Z"
   },
   {
    "duration": 5,
    "start_time": "2023-05-01T17:15:55.070Z"
   },
   {
    "duration": 23,
    "start_time": "2023-05-01T17:15:55.076Z"
   },
   {
    "duration": 14,
    "start_time": "2023-05-01T17:15:55.101Z"
   },
   {
    "duration": 15,
    "start_time": "2023-05-01T17:15:55.116Z"
   },
   {
    "duration": 71,
    "start_time": "2023-05-01T17:15:57.275Z"
   },
   {
    "duration": 24,
    "start_time": "2023-05-01T17:16:09.849Z"
   },
   {
    "duration": 12,
    "start_time": "2023-05-01T17:16:30.746Z"
   },
   {
    "duration": 16,
    "start_time": "2023-05-01T17:16:54.285Z"
   },
   {
    "duration": 26,
    "start_time": "2023-05-01T17:17:10.074Z"
   },
   {
    "duration": 41,
    "start_time": "2023-05-01T17:17:44.637Z"
   },
   {
    "duration": 440,
    "start_time": "2023-05-01T17:17:59.110Z"
   },
   {
    "duration": 34,
    "start_time": "2023-05-01T17:17:59.552Z"
   },
   {
    "duration": 21,
    "start_time": "2023-05-01T17:17:59.588Z"
   },
   {
    "duration": 13,
    "start_time": "2023-05-01T17:17:59.612Z"
   },
   {
    "duration": 74,
    "start_time": "2023-05-01T17:17:59.627Z"
   },
   {
    "duration": 3,
    "start_time": "2023-05-01T17:17:59.704Z"
   },
   {
    "duration": 10,
    "start_time": "2023-05-01T17:17:59.709Z"
   },
   {
    "duration": 5,
    "start_time": "2023-05-01T17:17:59.721Z"
   },
   {
    "duration": 11,
    "start_time": "2023-05-01T17:17:59.727Z"
   },
   {
    "duration": 22,
    "start_time": "2023-05-01T17:17:59.741Z"
   },
   {
    "duration": 53,
    "start_time": "2023-05-01T17:17:59.765Z"
   },
   {
    "duration": 12,
    "start_time": "2023-05-01T17:17:59.820Z"
   },
   {
    "duration": 5,
    "start_time": "2023-05-01T17:17:59.862Z"
   },
   {
    "duration": 16,
    "start_time": "2023-05-01T17:17:59.873Z"
   },
   {
    "duration": 27,
    "start_time": "2023-05-01T17:17:59.891Z"
   },
   {
    "duration": 19,
    "start_time": "2023-05-01T17:17:59.920Z"
   },
   {
    "duration": 20,
    "start_time": "2023-05-01T17:17:59.942Z"
   },
   {
    "duration": 20,
    "start_time": "2023-05-01T17:17:59.964Z"
   },
   {
    "duration": 13,
    "start_time": "2023-05-01T17:17:59.985Z"
   },
   {
    "duration": 34,
    "start_time": "2023-05-01T17:18:00.000Z"
   },
   {
    "duration": 15,
    "start_time": "2023-05-01T17:18:00.036Z"
   },
   {
    "duration": 24,
    "start_time": "2023-05-01T17:18:00.053Z"
   },
   {
    "duration": 17,
    "start_time": "2023-05-01T17:18:00.079Z"
   },
   {
    "duration": 30,
    "start_time": "2023-05-01T17:18:02.483Z"
   },
   {
    "duration": 5,
    "start_time": "2023-05-01T17:22:42.759Z"
   },
   {
    "duration": 12,
    "start_time": "2023-05-01T17:22:44.823Z"
   },
   {
    "duration": 32,
    "start_time": "2023-05-01T17:22:49.892Z"
   },
   {
    "duration": 34,
    "start_time": "2023-05-01T17:27:59.834Z"
   },
   {
    "duration": 27,
    "start_time": "2023-05-01T17:28:04.507Z"
   },
   {
    "duration": 489,
    "start_time": "2023-05-01T17:28:17.183Z"
   },
   {
    "duration": 23,
    "start_time": "2023-05-01T17:28:17.674Z"
   },
   {
    "duration": 15,
    "start_time": "2023-05-01T17:28:17.699Z"
   },
   {
    "duration": 11,
    "start_time": "2023-05-01T17:28:17.716Z"
   },
   {
    "duration": 56,
    "start_time": "2023-05-01T17:28:17.729Z"
   },
   {
    "duration": 4,
    "start_time": "2023-05-01T17:28:17.786Z"
   },
   {
    "duration": 19,
    "start_time": "2023-05-01T17:28:17.791Z"
   },
   {
    "duration": 5,
    "start_time": "2023-05-01T17:28:17.812Z"
   },
   {
    "duration": 10,
    "start_time": "2023-05-01T17:28:17.818Z"
   },
   {
    "duration": 4,
    "start_time": "2023-05-01T17:28:17.830Z"
   },
   {
    "duration": 60,
    "start_time": "2023-05-01T17:28:17.835Z"
   },
   {
    "duration": 10,
    "start_time": "2023-05-01T17:28:17.896Z"
   },
   {
    "duration": 4,
    "start_time": "2023-05-01T17:28:17.907Z"
   },
   {
    "duration": 11,
    "start_time": "2023-05-01T17:28:17.913Z"
   },
   {
    "duration": 47,
    "start_time": "2023-05-01T17:28:17.926Z"
   },
   {
    "duration": 18,
    "start_time": "2023-05-01T17:28:17.975Z"
   },
   {
    "duration": 4,
    "start_time": "2023-05-01T17:28:17.994Z"
   },
   {
    "duration": 13,
    "start_time": "2023-05-01T17:28:17.999Z"
   },
   {
    "duration": 6,
    "start_time": "2023-05-01T17:28:18.013Z"
   },
   {
    "duration": 6,
    "start_time": "2023-05-01T17:28:18.021Z"
   },
   {
    "duration": 9,
    "start_time": "2023-05-01T17:28:18.029Z"
   },
   {
    "duration": 32,
    "start_time": "2023-05-01T17:28:18.040Z"
   },
   {
    "duration": 15,
    "start_time": "2023-05-01T17:28:18.074Z"
   },
   {
    "duration": 28,
    "start_time": "2023-05-01T17:28:18.773Z"
   },
   {
    "duration": 47,
    "start_time": "2023-05-01T17:34:50.228Z"
   },
   {
    "duration": 26,
    "start_time": "2023-05-01T17:41:35.375Z"
   },
   {
    "duration": 35,
    "start_time": "2023-05-01T17:57:04.533Z"
   },
   {
    "duration": 34,
    "start_time": "2023-05-01T17:57:20.286Z"
   },
   {
    "duration": 490,
    "start_time": "2023-05-01T17:57:37.577Z"
   },
   {
    "duration": 23,
    "start_time": "2023-05-01T17:57:38.073Z"
   },
   {
    "duration": 16,
    "start_time": "2023-05-01T17:57:38.097Z"
   },
   {
    "duration": 10,
    "start_time": "2023-05-01T17:57:38.115Z"
   },
   {
    "duration": 53,
    "start_time": "2023-05-01T17:57:38.127Z"
   },
   {
    "duration": 3,
    "start_time": "2023-05-01T17:57:38.182Z"
   },
   {
    "duration": 9,
    "start_time": "2023-05-01T17:57:38.187Z"
   },
   {
    "duration": 4,
    "start_time": "2023-05-01T17:57:38.197Z"
   },
   {
    "duration": 8,
    "start_time": "2023-05-01T17:57:38.202Z"
   },
   {
    "duration": 4,
    "start_time": "2023-05-01T17:57:38.213Z"
   },
   {
    "duration": 73,
    "start_time": "2023-05-01T17:57:38.218Z"
   },
   {
    "duration": 10,
    "start_time": "2023-05-01T17:57:38.292Z"
   },
   {
    "duration": 3,
    "start_time": "2023-05-01T17:57:38.304Z"
   },
   {
    "duration": 15,
    "start_time": "2023-05-01T17:57:38.308Z"
   },
   {
    "duration": 36,
    "start_time": "2023-05-01T17:57:38.325Z"
   },
   {
    "duration": 24,
    "start_time": "2023-05-01T17:57:38.364Z"
   },
   {
    "duration": 4,
    "start_time": "2023-05-01T17:57:38.390Z"
   },
   {
    "duration": 24,
    "start_time": "2023-05-01T17:57:38.396Z"
   },
   {
    "duration": 9,
    "start_time": "2023-05-01T17:57:38.421Z"
   },
   {
    "duration": 4,
    "start_time": "2023-05-01T17:57:38.432Z"
   },
   {
    "duration": 33,
    "start_time": "2023-05-01T17:57:38.438Z"
   },
   {
    "duration": 13,
    "start_time": "2023-05-01T17:57:38.475Z"
   },
   {
    "duration": 15,
    "start_time": "2023-05-01T17:57:38.489Z"
   },
   {
    "duration": 29,
    "start_time": "2023-05-01T17:57:38.506Z"
   },
   {
    "duration": 36,
    "start_time": "2023-05-01T17:57:45.596Z"
   },
   {
    "duration": 52,
    "start_time": "2023-05-01T18:32:19.968Z"
   },
   {
    "duration": 35,
    "start_time": "2023-05-01T18:38:03.719Z"
   },
   {
    "duration": 11,
    "start_time": "2023-05-01T19:58:32.001Z"
   },
   {
    "duration": 15,
    "start_time": "2023-05-01T19:58:52.654Z"
   },
   {
    "duration": 496,
    "start_time": "2023-05-01T20:00:32.380Z"
   },
   {
    "duration": 23,
    "start_time": "2023-05-01T20:00:32.878Z"
   },
   {
    "duration": 28,
    "start_time": "2023-05-01T20:00:32.903Z"
   },
   {
    "duration": 16,
    "start_time": "2023-05-01T20:00:32.932Z"
   },
   {
    "duration": 51,
    "start_time": "2023-05-01T20:00:32.950Z"
   },
   {
    "duration": 3,
    "start_time": "2023-05-01T20:00:33.002Z"
   },
   {
    "duration": 19,
    "start_time": "2023-05-01T20:00:33.007Z"
   },
   {
    "duration": 14,
    "start_time": "2023-05-01T20:00:33.027Z"
   },
   {
    "duration": 34,
    "start_time": "2023-05-01T20:00:33.043Z"
   },
   {
    "duration": 13,
    "start_time": "2023-05-01T20:00:33.079Z"
   },
   {
    "duration": 55,
    "start_time": "2023-05-01T20:00:33.093Z"
   },
   {
    "duration": 16,
    "start_time": "2023-05-01T20:00:33.149Z"
   },
   {
    "duration": 39,
    "start_time": "2023-05-01T20:00:33.167Z"
   },
   {
    "duration": 20,
    "start_time": "2023-05-01T20:00:33.209Z"
   },
   {
    "duration": 65,
    "start_time": "2023-05-01T20:00:33.231Z"
   },
   {
    "duration": 19,
    "start_time": "2023-05-01T20:00:33.300Z"
   },
   {
    "duration": 11,
    "start_time": "2023-05-01T20:00:33.321Z"
   },
   {
    "duration": 44,
    "start_time": "2023-05-01T20:00:33.334Z"
   },
   {
    "duration": 23,
    "start_time": "2023-05-01T20:00:33.380Z"
   },
   {
    "duration": 24,
    "start_time": "2023-05-01T20:00:33.405Z"
   },
   {
    "duration": 25,
    "start_time": "2023-05-01T20:00:33.430Z"
   },
   {
    "duration": 26,
    "start_time": "2023-05-01T20:00:33.457Z"
   },
   {
    "duration": 29,
    "start_time": "2023-05-01T20:00:33.485Z"
   },
   {
    "duration": 29,
    "start_time": "2023-05-01T20:00:33.515Z"
   },
   {
    "duration": 37,
    "start_time": "2023-05-01T20:00:33.546Z"
   },
   {
    "duration": 1453,
    "start_time": "2023-05-02T09:05:44.962Z"
   },
   {
    "duration": 39,
    "start_time": "2023-05-02T09:05:46.417Z"
   },
   {
    "duration": 34,
    "start_time": "2023-05-02T09:05:46.458Z"
   },
   {
    "duration": 23,
    "start_time": "2023-05-02T09:05:46.514Z"
   },
   {
    "duration": 56,
    "start_time": "2023-05-02T09:05:46.539Z"
   },
   {
    "duration": 20,
    "start_time": "2023-05-02T09:05:46.605Z"
   },
   {
    "duration": 12,
    "start_time": "2023-05-02T09:05:46.627Z"
   },
   {
    "duration": 4,
    "start_time": "2023-05-02T09:05:46.640Z"
   },
   {
    "duration": 22,
    "start_time": "2023-05-02T09:05:46.646Z"
   },
   {
    "duration": 42,
    "start_time": "2023-05-02T09:05:46.671Z"
   },
   {
    "duration": 40,
    "start_time": "2023-05-02T09:05:46.715Z"
   },
   {
    "duration": 8,
    "start_time": "2023-05-02T09:05:46.757Z"
   },
   {
    "duration": 50,
    "start_time": "2023-05-02T09:05:46.767Z"
   },
   {
    "duration": 28,
    "start_time": "2023-05-02T09:05:46.821Z"
   },
   {
    "duration": 51,
    "start_time": "2023-05-02T09:05:46.850Z"
   },
   {
    "duration": 42,
    "start_time": "2023-05-02T09:05:46.902Z"
   },
   {
    "duration": 4,
    "start_time": "2023-05-02T09:05:46.947Z"
   },
   {
    "duration": 13,
    "start_time": "2023-05-02T09:05:46.952Z"
   },
   {
    "duration": 71,
    "start_time": "2023-05-02T09:05:46.966Z"
   },
   {
    "duration": 6,
    "start_time": "2023-05-02T09:05:47.038Z"
   },
   {
    "duration": 22,
    "start_time": "2023-05-02T09:05:47.046Z"
   },
   {
    "duration": 60,
    "start_time": "2023-05-02T09:05:47.069Z"
   },
   {
    "duration": 25,
    "start_time": "2023-05-02T09:05:47.131Z"
   },
   {
    "duration": 33,
    "start_time": "2023-05-02T09:05:47.158Z"
   },
   {
    "duration": 39,
    "start_time": "2023-05-02T09:05:47.193Z"
   },
   {
    "duration": 1041,
    "start_time": "2023-05-02T14:16:02.245Z"
   },
   {
    "duration": 23,
    "start_time": "2023-05-02T14:16:03.288Z"
   },
   {
    "duration": 15,
    "start_time": "2023-05-02T14:16:03.313Z"
   },
   {
    "duration": 17,
    "start_time": "2023-05-02T14:16:03.330Z"
   },
   {
    "duration": 44,
    "start_time": "2023-05-02T14:16:03.348Z"
   },
   {
    "duration": 4,
    "start_time": "2023-05-02T14:16:03.398Z"
   },
   {
    "duration": 20,
    "start_time": "2023-05-02T14:16:03.403Z"
   },
   {
    "duration": 5,
    "start_time": "2023-05-02T14:16:03.425Z"
   },
   {
    "duration": 10,
    "start_time": "2023-05-02T14:16:03.432Z"
   },
   {
    "duration": 5,
    "start_time": "2023-05-02T14:16:03.444Z"
   },
   {
    "duration": 56,
    "start_time": "2023-05-02T14:16:03.450Z"
   },
   {
    "duration": 9,
    "start_time": "2023-05-02T14:16:03.508Z"
   },
   {
    "duration": 27,
    "start_time": "2023-05-02T14:16:03.519Z"
   },
   {
    "duration": 21,
    "start_time": "2023-05-02T14:16:03.547Z"
   },
   {
    "duration": 31,
    "start_time": "2023-05-02T14:16:03.569Z"
   },
   {
    "duration": 26,
    "start_time": "2023-05-02T14:16:03.602Z"
   },
   {
    "duration": 6,
    "start_time": "2023-05-02T14:16:03.630Z"
   },
   {
    "duration": 15,
    "start_time": "2023-05-02T14:16:03.637Z"
   },
   {
    "duration": 22,
    "start_time": "2023-05-02T14:16:03.654Z"
   },
   {
    "duration": 24,
    "start_time": "2023-05-02T14:16:03.678Z"
   },
   {
    "duration": 29,
    "start_time": "2023-05-02T14:16:03.704Z"
   },
   {
    "duration": 22,
    "start_time": "2023-05-02T14:16:03.735Z"
   },
   {
    "duration": 25,
    "start_time": "2023-05-02T14:16:03.758Z"
   },
   {
    "duration": 35,
    "start_time": "2023-05-02T14:16:03.791Z"
   },
   {
    "duration": 41,
    "start_time": "2023-05-02T14:16:03.828Z"
   },
   {
    "duration": 699,
    "start_time": "2023-05-02T20:15:12.403Z"
   },
   {
    "duration": 25,
    "start_time": "2023-05-02T20:15:13.105Z"
   },
   {
    "duration": 13,
    "start_time": "2023-05-02T20:15:13.131Z"
   },
   {
    "duration": 9,
    "start_time": "2023-05-02T20:15:13.146Z"
   },
   {
    "duration": 55,
    "start_time": "2023-05-02T20:15:13.157Z"
   },
   {
    "duration": 3,
    "start_time": "2023-05-02T20:15:13.217Z"
   },
   {
    "duration": 10,
    "start_time": "2023-05-02T20:15:13.222Z"
   },
   {
    "duration": 5,
    "start_time": "2023-05-02T20:15:13.234Z"
   },
   {
    "duration": 10,
    "start_time": "2023-05-02T20:15:13.240Z"
   },
   {
    "duration": 7,
    "start_time": "2023-05-02T20:15:13.254Z"
   },
   {
    "duration": 52,
    "start_time": "2023-05-02T20:15:13.262Z"
   },
   {
    "duration": 10,
    "start_time": "2023-05-02T20:15:13.316Z"
   },
   {
    "duration": 3,
    "start_time": "2023-05-02T20:15:13.328Z"
   },
   {
    "duration": 13,
    "start_time": "2023-05-02T20:15:13.333Z"
   },
   {
    "duration": 21,
    "start_time": "2023-05-02T20:15:13.348Z"
   },
   {
    "duration": 43,
    "start_time": "2023-05-02T20:15:13.370Z"
   },
   {
    "duration": 4,
    "start_time": "2023-05-02T20:15:13.416Z"
   },
   {
    "duration": 24,
    "start_time": "2023-05-02T20:15:13.422Z"
   },
   {
    "duration": 13,
    "start_time": "2023-05-02T20:15:13.448Z"
   },
   {
    "duration": 6,
    "start_time": "2023-05-02T20:15:13.462Z"
   },
   {
    "duration": 14,
    "start_time": "2023-05-02T20:15:13.470Z"
   },
   {
    "duration": 23,
    "start_time": "2023-05-02T20:15:13.486Z"
   },
   {
    "duration": 21,
    "start_time": "2023-05-02T20:15:13.512Z"
   },
   {
    "duration": 59,
    "start_time": "2023-05-02T20:15:13.535Z"
   },
   {
    "duration": 46,
    "start_time": "2023-05-02T20:15:13.596Z"
   }
  ],
  "colab": {
   "name": "dpp_template_part2.ipynb",
   "provenance": []
  },
  "kernelspec": {
   "display_name": "Python 3 (ipykernel)",
   "language": "python",
   "name": "python3"
  },
  "language_info": {
   "codemirror_mode": {
    "name": "ipython",
    "version": 3
   },
   "file_extension": ".py",
   "mimetype": "text/x-python",
   "name": "python",
   "nbconvert_exporter": "python",
   "pygments_lexer": "ipython3",
   "version": "3.11.4"
  },
  "toc": {
   "base_numbering": 1,
   "nav_menu": {},
   "number_sections": true,
   "sideBar": true,
   "skip_h1_title": true,
   "title_cell": "Table of Contents",
   "title_sidebar": "Contents",
   "toc_cell": false,
   "toc_position": {
    "height": "calc(100% - 180px)",
    "left": "10px",
    "top": "150px",
    "width": "275px"
   },
   "toc_section_display": true,
   "toc_window_display": true
  }
 },
 "nbformat": 4,
 "nbformat_minor": 5
}
