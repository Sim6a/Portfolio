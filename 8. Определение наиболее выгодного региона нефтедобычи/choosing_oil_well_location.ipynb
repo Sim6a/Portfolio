{
 "cells": [
  {
   "cell_type": "markdown",
   "metadata": {},
   "source": [
    "# Выбор локации для скважины"
   ]
  },
  {
   "cell_type": "markdown",
   "metadata": {},
   "source": [
    "Нужно решить, где бурить новую скважину.\n",
    "\n",
    "Нам предоставлены пробы нефти в трёх регионах: в каждом 100 000 месторождений, где измерили качество нефти и объём её запасов. Нужно построить модель машинного обучения, которая поможет определить регион, где добыча принесёт наибольшую прибыль. Нужно проанализировать возможную прибыль и риски техникой *Bootstrap.*\n",
    "\n",
    "Шаги для выбора локации:\n",
    "\n",
    "- В избранном регионе ищут месторождения, для каждого определяют значения признаков;\n",
    "- Строят модель и оценивают объём запасов;\n",
    "- Выбирают месторождения с самым высокими оценками значений. Количество месторождений зависит от бюджета компании и стоимости разработки одной скважины;\n",
    "- Прибыль равна суммарной прибыли отобранных месторождений."
   ]
  },
  {
   "cell_type": "markdown",
   "metadata": {},
   "source": [
    "## Загрузка и подготовка данных"
   ]
  },
  {
   "cell_type": "markdown",
   "metadata": {},
   "source": [
    "### Импортируем библиотеки"
   ]
  },
  {
   "cell_type": "code",
   "execution_count": 1,
   "metadata": {},
   "outputs": [],
   "source": [
    "import pandas as pd\n",
    "import numpy as np\n",
    "import seaborn as sns\n",
    "import matplotlib\n",
    "import matplotlib.pyplot as plt\n",
    "\n",
    "from sklearn.model_selection import GridSearchCV, train_test_split\n",
    "\n",
    "from sklearn.preprocessing import StandardScaler\n",
    "\n",
    "from sklearn.linear_model import LinearRegression\n",
    "from sklearn.dummy import DummyRegressor\n",
    "\n",
    "from sklearn.metrics import mean_squared_error\n",
    "\n",
    "from sklearn.utils import shuffle"
   ]
  },
  {
   "cell_type": "markdown",
   "metadata": {},
   "source": [
    "### Загружаем датасеты"
   ]
  },
  {
   "cell_type": "code",
   "execution_count": 3,
   "metadata": {},
   "outputs": [
    {
     "data": {
      "text/html": [
       "<div>\n",
       "<style scoped>\n",
       "    .dataframe tbody tr th:only-of-type {\n",
       "        vertical-align: middle;\n",
       "    }\n",
       "\n",
       "    .dataframe tbody tr th {\n",
       "        vertical-align: top;\n",
       "    }\n",
       "\n",
       "    .dataframe thead th {\n",
       "        text-align: right;\n",
       "    }\n",
       "</style>\n",
       "<table border=\"1\" class=\"dataframe\">\n",
       "  <thead>\n",
       "    <tr style=\"text-align: right;\">\n",
       "      <th></th>\n",
       "      <th>id</th>\n",
       "      <th>f0</th>\n",
       "      <th>f1</th>\n",
       "      <th>f2</th>\n",
       "      <th>product</th>\n",
       "    </tr>\n",
       "  </thead>\n",
       "  <tbody>\n",
       "    <tr>\n",
       "      <th>0</th>\n",
       "      <td>txEyH</td>\n",
       "      <td>0.705745</td>\n",
       "      <td>-0.497823</td>\n",
       "      <td>1.221170</td>\n",
       "      <td>105.280062</td>\n",
       "    </tr>\n",
       "    <tr>\n",
       "      <th>1</th>\n",
       "      <td>2acmU</td>\n",
       "      <td>1.334711</td>\n",
       "      <td>-0.340164</td>\n",
       "      <td>4.365080</td>\n",
       "      <td>73.037750</td>\n",
       "    </tr>\n",
       "    <tr>\n",
       "      <th>2</th>\n",
       "      <td>409Wp</td>\n",
       "      <td>1.022732</td>\n",
       "      <td>0.151990</td>\n",
       "      <td>1.419926</td>\n",
       "      <td>85.265647</td>\n",
       "    </tr>\n",
       "    <tr>\n",
       "      <th>3</th>\n",
       "      <td>iJLyR</td>\n",
       "      <td>-0.032172</td>\n",
       "      <td>0.139033</td>\n",
       "      <td>2.978566</td>\n",
       "      <td>168.620776</td>\n",
       "    </tr>\n",
       "    <tr>\n",
       "      <th>4</th>\n",
       "      <td>Xdl7t</td>\n",
       "      <td>1.988431</td>\n",
       "      <td>0.155413</td>\n",
       "      <td>4.751769</td>\n",
       "      <td>154.036647</td>\n",
       "    </tr>\n",
       "  </tbody>\n",
       "</table>\n",
       "</div>"
      ],
      "text/plain": [
       "      id        f0        f1        f2     product\n",
       "0  txEyH  0.705745 -0.497823  1.221170  105.280062\n",
       "1  2acmU  1.334711 -0.340164  4.365080   73.037750\n",
       "2  409Wp  1.022732  0.151990  1.419926   85.265647\n",
       "3  iJLyR -0.032172  0.139033  2.978566  168.620776\n",
       "4  Xdl7t  1.988431  0.155413  4.751769  154.036647"
      ]
     },
     "metadata": {},
     "output_type": "display_data"
    },
    {
     "name": "stdout",
     "output_type": "stream",
     "text": [
      "<class 'pandas.core.frame.DataFrame'>\n",
      "RangeIndex: 100000 entries, 0 to 99999\n",
      "Data columns (total 5 columns):\n",
      " #   Column   Non-Null Count   Dtype  \n",
      "---  ------   --------------   -----  \n",
      " 0   id       100000 non-null  object \n",
      " 1   f0       100000 non-null  float64\n",
      " 2   f1       100000 non-null  float64\n",
      " 3   f2       100000 non-null  float64\n",
      " 4   product  100000 non-null  float64\n",
      "dtypes: float64(4), object(1)\n",
      "memory usage: 3.8+ MB\n",
      "None\n"
     ]
    },
    {
     "data": {
      "text/html": [
       "<div>\n",
       "<style scoped>\n",
       "    .dataframe tbody tr th:only-of-type {\n",
       "        vertical-align: middle;\n",
       "    }\n",
       "\n",
       "    .dataframe tbody tr th {\n",
       "        vertical-align: top;\n",
       "    }\n",
       "\n",
       "    .dataframe thead th {\n",
       "        text-align: right;\n",
       "    }\n",
       "</style>\n",
       "<table border=\"1\" class=\"dataframe\">\n",
       "  <thead>\n",
       "    <tr style=\"text-align: right;\">\n",
       "      <th></th>\n",
       "      <th>id</th>\n",
       "      <th>f0</th>\n",
       "      <th>f1</th>\n",
       "      <th>f2</th>\n",
       "      <th>product</th>\n",
       "    </tr>\n",
       "  </thead>\n",
       "  <tbody>\n",
       "    <tr>\n",
       "      <th>0</th>\n",
       "      <td>kBEdx</td>\n",
       "      <td>-15.001348</td>\n",
       "      <td>-8.276000</td>\n",
       "      <td>-0.005876</td>\n",
       "      <td>3.179103</td>\n",
       "    </tr>\n",
       "    <tr>\n",
       "      <th>1</th>\n",
       "      <td>62mP7</td>\n",
       "      <td>14.272088</td>\n",
       "      <td>-3.475083</td>\n",
       "      <td>0.999183</td>\n",
       "      <td>26.953261</td>\n",
       "    </tr>\n",
       "    <tr>\n",
       "      <th>2</th>\n",
       "      <td>vyE1P</td>\n",
       "      <td>6.263187</td>\n",
       "      <td>-5.948386</td>\n",
       "      <td>5.001160</td>\n",
       "      <td>134.766305</td>\n",
       "    </tr>\n",
       "    <tr>\n",
       "      <th>3</th>\n",
       "      <td>KcrkZ</td>\n",
       "      <td>-13.081196</td>\n",
       "      <td>-11.506057</td>\n",
       "      <td>4.999415</td>\n",
       "      <td>137.945408</td>\n",
       "    </tr>\n",
       "    <tr>\n",
       "      <th>4</th>\n",
       "      <td>AHL4O</td>\n",
       "      <td>12.702195</td>\n",
       "      <td>-8.147433</td>\n",
       "      <td>5.004363</td>\n",
       "      <td>134.766305</td>\n",
       "    </tr>\n",
       "  </tbody>\n",
       "</table>\n",
       "</div>"
      ],
      "text/plain": [
       "      id         f0         f1        f2     product\n",
       "0  kBEdx -15.001348  -8.276000 -0.005876    3.179103\n",
       "1  62mP7  14.272088  -3.475083  0.999183   26.953261\n",
       "2  vyE1P   6.263187  -5.948386  5.001160  134.766305\n",
       "3  KcrkZ -13.081196 -11.506057  4.999415  137.945408\n",
       "4  AHL4O  12.702195  -8.147433  5.004363  134.766305"
      ]
     },
     "metadata": {},
     "output_type": "display_data"
    },
    {
     "name": "stdout",
     "output_type": "stream",
     "text": [
      "<class 'pandas.core.frame.DataFrame'>\n",
      "RangeIndex: 100000 entries, 0 to 99999\n",
      "Data columns (total 5 columns):\n",
      " #   Column   Non-Null Count   Dtype  \n",
      "---  ------   --------------   -----  \n",
      " 0   id       100000 non-null  object \n",
      " 1   f0       100000 non-null  float64\n",
      " 2   f1       100000 non-null  float64\n",
      " 3   f2       100000 non-null  float64\n",
      " 4   product  100000 non-null  float64\n",
      "dtypes: float64(4), object(1)\n",
      "memory usage: 3.8+ MB\n",
      "None\n"
     ]
    },
    {
     "data": {
      "text/html": [
       "<div>\n",
       "<style scoped>\n",
       "    .dataframe tbody tr th:only-of-type {\n",
       "        vertical-align: middle;\n",
       "    }\n",
       "\n",
       "    .dataframe tbody tr th {\n",
       "        vertical-align: top;\n",
       "    }\n",
       "\n",
       "    .dataframe thead th {\n",
       "        text-align: right;\n",
       "    }\n",
       "</style>\n",
       "<table border=\"1\" class=\"dataframe\">\n",
       "  <thead>\n",
       "    <tr style=\"text-align: right;\">\n",
       "      <th></th>\n",
       "      <th>id</th>\n",
       "      <th>f0</th>\n",
       "      <th>f1</th>\n",
       "      <th>f2</th>\n",
       "      <th>product</th>\n",
       "    </tr>\n",
       "  </thead>\n",
       "  <tbody>\n",
       "    <tr>\n",
       "      <th>0</th>\n",
       "      <td>fwXo0</td>\n",
       "      <td>-1.146987</td>\n",
       "      <td>0.963328</td>\n",
       "      <td>-0.828965</td>\n",
       "      <td>27.758673</td>\n",
       "    </tr>\n",
       "    <tr>\n",
       "      <th>1</th>\n",
       "      <td>WJtFt</td>\n",
       "      <td>0.262778</td>\n",
       "      <td>0.269839</td>\n",
       "      <td>-2.530187</td>\n",
       "      <td>56.069697</td>\n",
       "    </tr>\n",
       "    <tr>\n",
       "      <th>2</th>\n",
       "      <td>ovLUW</td>\n",
       "      <td>0.194587</td>\n",
       "      <td>0.289035</td>\n",
       "      <td>-5.586433</td>\n",
       "      <td>62.871910</td>\n",
       "    </tr>\n",
       "    <tr>\n",
       "      <th>3</th>\n",
       "      <td>q6cA6</td>\n",
       "      <td>2.236060</td>\n",
       "      <td>-0.553760</td>\n",
       "      <td>0.930038</td>\n",
       "      <td>114.572842</td>\n",
       "    </tr>\n",
       "    <tr>\n",
       "      <th>4</th>\n",
       "      <td>WPMUX</td>\n",
       "      <td>-0.515993</td>\n",
       "      <td>1.716266</td>\n",
       "      <td>5.899011</td>\n",
       "      <td>149.600746</td>\n",
       "    </tr>\n",
       "  </tbody>\n",
       "</table>\n",
       "</div>"
      ],
      "text/plain": [
       "      id        f0        f1        f2     product\n",
       "0  fwXo0 -1.146987  0.963328 -0.828965   27.758673\n",
       "1  WJtFt  0.262778  0.269839 -2.530187   56.069697\n",
       "2  ovLUW  0.194587  0.289035 -5.586433   62.871910\n",
       "3  q6cA6  2.236060 -0.553760  0.930038  114.572842\n",
       "4  WPMUX -0.515993  1.716266  5.899011  149.600746"
      ]
     },
     "metadata": {},
     "output_type": "display_data"
    },
    {
     "name": "stdout",
     "output_type": "stream",
     "text": [
      "<class 'pandas.core.frame.DataFrame'>\n",
      "RangeIndex: 100000 entries, 0 to 99999\n",
      "Data columns (total 5 columns):\n",
      " #   Column   Non-Null Count   Dtype  \n",
      "---  ------   --------------   -----  \n",
      " 0   id       100000 non-null  object \n",
      " 1   f0       100000 non-null  float64\n",
      " 2   f1       100000 non-null  float64\n",
      " 3   f2       100000 non-null  float64\n",
      " 4   product  100000 non-null  float64\n",
      "dtypes: float64(4), object(1)\n",
      "memory usage: 3.8+ MB\n",
      "None\n"
     ]
    }
   ],
   "source": [
    "df1 = pd.read_csv('geo_data_0.csv')\n",
    "display(df1.head())\n",
    "print(df1.info())\n",
    "\n",
    "df2 = pd.read_csv('geo_data_1.csv')\n",
    "display(df2.head())\n",
    "print(df2.info())\n",
    "\n",
    "df3 = pd.read_csv('geo_data_2.csv')\n",
    "display(df3.head())\n",
    "print(df3.info())"
   ]
  },
  {
   "cell_type": "markdown",
   "metadata": {},
   "source": [
    "### Проверка на дубликаты"
   ]
  },
  {
   "cell_type": "code",
   "execution_count": 4,
   "metadata": {},
   "outputs": [
    {
     "name": "stdout",
     "output_type": "stream",
     "text": [
      "Количество дубликатов в первом датафрейме: 0\n",
      "Количество дубликатов во втором датафрейме: 0\n",
      "Количество дубликатов в третьем датафрейме: 0\n"
     ]
    }
   ],
   "source": [
    "print('Количество дубликатов в первом датафрейме:',df1.duplicated().sum())\n",
    "print('Количество дубликатов во втором датафрейме:',df2.duplicated().sum())\n",
    "print('Количество дубликатов в третьем датафрейме:',df3.duplicated().sum())"
   ]
  },
  {
   "cell_type": "markdown",
   "metadata": {},
   "source": [
    "#### Неявные дубликаты"
   ]
  },
  {
   "cell_type": "code",
   "execution_count": 5,
   "metadata": {},
   "outputs": [
    {
     "data": {
      "text/html": [
       "<div>\n",
       "<style scoped>\n",
       "    .dataframe tbody tr th:only-of-type {\n",
       "        vertical-align: middle;\n",
       "    }\n",
       "\n",
       "    .dataframe tbody tr th {\n",
       "        vertical-align: top;\n",
       "    }\n",
       "\n",
       "    .dataframe thead th {\n",
       "        text-align: right;\n",
       "    }\n",
       "</style>\n",
       "<table border=\"1\" class=\"dataframe\">\n",
       "  <thead>\n",
       "    <tr style=\"text-align: right;\">\n",
       "      <th></th>\n",
       "      <th>id</th>\n",
       "      <th>f0</th>\n",
       "      <th>f1</th>\n",
       "      <th>f2</th>\n",
       "      <th>product</th>\n",
       "    </tr>\n",
       "  </thead>\n",
       "  <tbody>\n",
       "    <tr>\n",
       "      <th>7530</th>\n",
       "      <td>HZww2</td>\n",
       "      <td>1.061194</td>\n",
       "      <td>-0.373969</td>\n",
       "      <td>10.430210</td>\n",
       "      <td>158.828695</td>\n",
       "    </tr>\n",
       "    <tr>\n",
       "      <th>41724</th>\n",
       "      <td>bxg6G</td>\n",
       "      <td>-0.823752</td>\n",
       "      <td>0.546319</td>\n",
       "      <td>3.630479</td>\n",
       "      <td>93.007798</td>\n",
       "    </tr>\n",
       "    <tr>\n",
       "      <th>51970</th>\n",
       "      <td>A5aEY</td>\n",
       "      <td>-0.180335</td>\n",
       "      <td>0.935548</td>\n",
       "      <td>-2.094773</td>\n",
       "      <td>33.020205</td>\n",
       "    </tr>\n",
       "    <tr>\n",
       "      <th>63593</th>\n",
       "      <td>QcMuo</td>\n",
       "      <td>0.635635</td>\n",
       "      <td>-0.473422</td>\n",
       "      <td>0.862670</td>\n",
       "      <td>64.578675</td>\n",
       "    </tr>\n",
       "    <tr>\n",
       "      <th>66136</th>\n",
       "      <td>74z30</td>\n",
       "      <td>1.084962</td>\n",
       "      <td>-0.312358</td>\n",
       "      <td>6.990771</td>\n",
       "      <td>127.643327</td>\n",
       "    </tr>\n",
       "    <tr>\n",
       "      <th>69163</th>\n",
       "      <td>AGS9W</td>\n",
       "      <td>-0.933795</td>\n",
       "      <td>0.116194</td>\n",
       "      <td>-3.655896</td>\n",
       "      <td>19.230453</td>\n",
       "    </tr>\n",
       "    <tr>\n",
       "      <th>75715</th>\n",
       "      <td>Tdehs</td>\n",
       "      <td>0.112079</td>\n",
       "      <td>0.430296</td>\n",
       "      <td>3.218993</td>\n",
       "      <td>60.964018</td>\n",
       "    </tr>\n",
       "    <tr>\n",
       "      <th>90815</th>\n",
       "      <td>fiKDv</td>\n",
       "      <td>0.049883</td>\n",
       "      <td>0.841313</td>\n",
       "      <td>6.394613</td>\n",
       "      <td>137.346586</td>\n",
       "    </tr>\n",
       "    <tr>\n",
       "      <th>92341</th>\n",
       "      <td>TtcGQ</td>\n",
       "      <td>0.110711</td>\n",
       "      <td>1.022689</td>\n",
       "      <td>0.911381</td>\n",
       "      <td>101.318008</td>\n",
       "    </tr>\n",
       "    <tr>\n",
       "      <th>97785</th>\n",
       "      <td>bsk9y</td>\n",
       "      <td>0.378429</td>\n",
       "      <td>0.005837</td>\n",
       "      <td>0.160827</td>\n",
       "      <td>160.637302</td>\n",
       "    </tr>\n",
       "  </tbody>\n",
       "</table>\n",
       "</div>"
      ],
      "text/plain": [
       "          id        f0        f1         f2     product\n",
       "7530   HZww2  1.061194 -0.373969  10.430210  158.828695\n",
       "41724  bxg6G -0.823752  0.546319   3.630479   93.007798\n",
       "51970  A5aEY -0.180335  0.935548  -2.094773   33.020205\n",
       "63593  QcMuo  0.635635 -0.473422   0.862670   64.578675\n",
       "66136  74z30  1.084962 -0.312358   6.990771  127.643327\n",
       "69163  AGS9W -0.933795  0.116194  -3.655896   19.230453\n",
       "75715  Tdehs  0.112079  0.430296   3.218993   60.964018\n",
       "90815  fiKDv  0.049883  0.841313   6.394613  137.346586\n",
       "92341  TtcGQ  0.110711  1.022689   0.911381  101.318008\n",
       "97785  bsk9y  0.378429  0.005837   0.160827  160.637302"
      ]
     },
     "metadata": {},
     "output_type": "display_data"
    },
    {
     "data": {
      "text/html": [
       "<div>\n",
       "<style scoped>\n",
       "    .dataframe tbody tr th:only-of-type {\n",
       "        vertical-align: middle;\n",
       "    }\n",
       "\n",
       "    .dataframe tbody tr th {\n",
       "        vertical-align: top;\n",
       "    }\n",
       "\n",
       "    .dataframe thead th {\n",
       "        text-align: right;\n",
       "    }\n",
       "</style>\n",
       "<table border=\"1\" class=\"dataframe\">\n",
       "  <thead>\n",
       "    <tr style=\"text-align: right;\">\n",
       "      <th></th>\n",
       "      <th>id</th>\n",
       "      <th>f0</th>\n",
       "      <th>f1</th>\n",
       "      <th>f2</th>\n",
       "      <th>product</th>\n",
       "    </tr>\n",
       "  </thead>\n",
       "  <tbody>\n",
       "    <tr>\n",
       "      <th>41906</th>\n",
       "      <td>LHZR0</td>\n",
       "      <td>-8.989672</td>\n",
       "      <td>-4.286607</td>\n",
       "      <td>2.009139</td>\n",
       "      <td>57.085625</td>\n",
       "    </tr>\n",
       "    <tr>\n",
       "      <th>82178</th>\n",
       "      <td>bfPNe</td>\n",
       "      <td>-6.202799</td>\n",
       "      <td>-4.820045</td>\n",
       "      <td>2.995107</td>\n",
       "      <td>84.038886</td>\n",
       "    </tr>\n",
       "    <tr>\n",
       "      <th>82873</th>\n",
       "      <td>wt4Uk</td>\n",
       "      <td>10.259972</td>\n",
       "      <td>-9.376355</td>\n",
       "      <td>4.994297</td>\n",
       "      <td>134.766305</td>\n",
       "    </tr>\n",
       "    <tr>\n",
       "      <th>84461</th>\n",
       "      <td>5ltQ6</td>\n",
       "      <td>18.213839</td>\n",
       "      <td>2.191999</td>\n",
       "      <td>3.993869</td>\n",
       "      <td>107.813044</td>\n",
       "    </tr>\n",
       "  </tbody>\n",
       "</table>\n",
       "</div>"
      ],
      "text/plain": [
       "          id         f0        f1        f2     product\n",
       "41906  LHZR0  -8.989672 -4.286607  2.009139   57.085625\n",
       "82178  bfPNe  -6.202799 -4.820045  2.995107   84.038886\n",
       "82873  wt4Uk  10.259972 -9.376355  4.994297  134.766305\n",
       "84461  5ltQ6  18.213839  2.191999  3.993869  107.813044"
      ]
     },
     "metadata": {},
     "output_type": "display_data"
    },
    {
     "data": {
      "text/html": [
       "<div>\n",
       "<style scoped>\n",
       "    .dataframe tbody tr th:only-of-type {\n",
       "        vertical-align: middle;\n",
       "    }\n",
       "\n",
       "    .dataframe tbody tr th {\n",
       "        vertical-align: top;\n",
       "    }\n",
       "\n",
       "    .dataframe thead th {\n",
       "        text-align: right;\n",
       "    }\n",
       "</style>\n",
       "<table border=\"1\" class=\"dataframe\">\n",
       "  <thead>\n",
       "    <tr style=\"text-align: right;\">\n",
       "      <th></th>\n",
       "      <th>id</th>\n",
       "      <th>f0</th>\n",
       "      <th>f1</th>\n",
       "      <th>f2</th>\n",
       "      <th>product</th>\n",
       "    </tr>\n",
       "  </thead>\n",
       "  <tbody>\n",
       "    <tr>\n",
       "      <th>43233</th>\n",
       "      <td>xCHr8</td>\n",
       "      <td>-0.847066</td>\n",
       "      <td>2.101796</td>\n",
       "      <td>5.597130</td>\n",
       "      <td>184.388641</td>\n",
       "    </tr>\n",
       "    <tr>\n",
       "      <th>49564</th>\n",
       "      <td>VF7Jo</td>\n",
       "      <td>-0.883115</td>\n",
       "      <td>0.560537</td>\n",
       "      <td>0.723601</td>\n",
       "      <td>136.233420</td>\n",
       "    </tr>\n",
       "    <tr>\n",
       "      <th>55967</th>\n",
       "      <td>KUPhW</td>\n",
       "      <td>1.211150</td>\n",
       "      <td>3.176408</td>\n",
       "      <td>5.543540</td>\n",
       "      <td>132.831802</td>\n",
       "    </tr>\n",
       "    <tr>\n",
       "      <th>95090</th>\n",
       "      <td>Vcm5J</td>\n",
       "      <td>2.587702</td>\n",
       "      <td>1.986875</td>\n",
       "      <td>2.482245</td>\n",
       "      <td>92.327572</td>\n",
       "    </tr>\n",
       "  </tbody>\n",
       "</table>\n",
       "</div>"
      ],
      "text/plain": [
       "          id        f0        f1        f2     product\n",
       "43233  xCHr8 -0.847066  2.101796  5.597130  184.388641\n",
       "49564  VF7Jo -0.883115  0.560537  0.723601  136.233420\n",
       "55967  KUPhW  1.211150  3.176408  5.543540  132.831802\n",
       "95090  Vcm5J  2.587702  1.986875  2.482245   92.327572"
      ]
     },
     "metadata": {},
     "output_type": "display_data"
    }
   ],
   "source": [
    "display(df1[df1.duplicated(subset='id')])\n",
    "display(df2[df2.duplicated(subset='id')])\n",
    "display(df3[df3.duplicated(subset='id')])"
   ]
  },
  {
   "cell_type": "markdown",
   "metadata": {},
   "source": [
    "В каждом датасете присутствуют дубликаты по столбцу id. Т.к. их количество невелико, а значения признаков отличаются, их можно оставить."
   ]
  },
  {
   "cell_type": "markdown",
   "metadata": {},
   "source": [
    "### Посмотрим на корреляцию признаков\n",
    "\n",
    "Столбец id нам не пригодится, сразу же исключим его."
   ]
  },
  {
   "cell_type": "code",
   "execution_count": 5,
   "metadata": {},
   "outputs": [],
   "source": [
    "df1 = df1.drop('id', axis=1)\n",
    "df2 = df2.drop('id', axis=1)\n",
    "df3 = df3.drop('id', axis=1)"
   ]
  },
  {
   "cell_type": "code",
   "execution_count": 6,
   "metadata": {},
   "outputs": [
    {
     "data": {
      "image/png": "[encoded data removed]",
      "text/plain": [
       "<Figure size 432x288 with 2 Axes>"
      ]
     },
     "metadata": {
      "needs_background": "light"
     },
     "output_type": "display_data"
    }
   ],
   "source": [
    "sns.heatmap(df1.corr(), xticklabels=df1.columns, yticklabels=df1.columns,cmap= 'coolwarm', linewidths=3,\\\n",
    "            linecolor='black', annot = True).set_title('Первый регион');"
   ]
  },
  {
   "cell_type": "code",
   "execution_count": 7,
   "metadata": {},
   "outputs": [
    {
     "data": {
      "image/png": "[encoded data removed]",
      "text/plain": [
       "<Figure size 432x288 with 2 Axes>"
      ]
     },
     "metadata": {
      "needs_background": "light"
     },
     "output_type": "display_data"
    }
   ],
   "source": [
    "sns.heatmap(df2.corr(), xticklabels=df2.columns, yticklabels=df2.columns,cmap= 'coolwarm', linewidths=3,\\\n",
    "            linecolor='black', annot = True).set_title('Второй регион');"
   ]
  },
  {
   "cell_type": "code",
   "execution_count": 8,
   "metadata": {},
   "outputs": [
    {
     "data": {
      "image/png": "[encoded data removed]",
      "text/plain": [
       "<Figure size 432x288 with 2 Axes>"
      ]
     },
     "metadata": {
      "needs_background": "light"
     },
     "output_type": "display_data"
    }
   ],
   "source": [
    "sns.heatmap(df3.corr(), xticklabels=df3.columns, yticklabels=df3.columns,cmap= 'coolwarm', linewidths=3,\\\n",
    "            linecolor='black', annot = True).set_title('Третий регион');"
   ]
  },
  {
   "cell_type": "markdown",
   "metadata": {},
   "source": [
    "Видим сильную корреляцию между признаком f2 и целевым признаком во втором регионе. Это хорошо, модель для этого региона будет точнее."
   ]
  },
  {
   "cell_type": "markdown",
   "metadata": {},
   "source": [
    "### Преобразуем типы для экономии памяти"
   ]
  },
  {
   "cell_type": "code",
   "execution_count": 9,
   "metadata": {},
   "outputs": [
    {
     "name": "stdout",
     "output_type": "stream",
     "text": [
      "<class 'pandas.core.frame.DataFrame'>\n",
      "RangeIndex: 100000 entries, 0 to 99999\n",
      "Data columns (total 4 columns):\n",
      " #   Column   Non-Null Count   Dtype  \n",
      "---  ------   --------------   -----  \n",
      " 0   f0       100000 non-null  float32\n",
      " 1   f1       100000 non-null  float32\n",
      " 2   f2       100000 non-null  float32\n",
      " 3   product  100000 non-null  float32\n",
      "dtypes: float32(4)\n",
      "memory usage: 1.5 MB\n",
      "None\n",
      "<class 'pandas.core.frame.DataFrame'>\n",
      "RangeIndex: 100000 entries, 0 to 99999\n",
      "Data columns (total 4 columns):\n",
      " #   Column   Non-Null Count   Dtype  \n",
      "---  ------   --------------   -----  \n",
      " 0   f0       100000 non-null  float32\n",
      " 1   f1       100000 non-null  float32\n",
      " 2   f2       100000 non-null  float32\n",
      " 3   product  100000 non-null  float32\n",
      "dtypes: float32(4)\n",
      "memory usage: 1.5 MB\n",
      "None\n",
      "<class 'pandas.core.frame.DataFrame'>\n",
      "RangeIndex: 100000 entries, 0 to 99999\n",
      "Data columns (total 4 columns):\n",
      " #   Column   Non-Null Count   Dtype  \n",
      "---  ------   --------------   -----  \n",
      " 0   f0       100000 non-null  float32\n",
      " 1   f1       100000 non-null  float32\n",
      " 2   f2       100000 non-null  float32\n",
      " 3   product  100000 non-null  float32\n",
      "dtypes: float32(4)\n",
      "memory usage: 1.5 MB\n",
      "None\n"
     ]
    }
   ],
   "source": [
    "numeric_float = ['f0', 'f1', 'f2', 'product']\n",
    "for i in numeric_float:\n",
    "    df1[i] = pd.to_numeric(df1[i], downcast='float')\n",
    "    df2[i] = pd.to_numeric(df2[i], downcast='float')\n",
    "    df3[i] = pd.to_numeric(df3[i], downcast='float')\n",
    "    \n",
    "print(df1.info())\n",
    "print(df2.info())\n",
    "print(df3.info())"
   ]
  },
  {
   "cell_type": "markdown",
   "metadata": {},
   "source": [
    "### Определим признаки и целевой признак\n",
    "\n",
    "Столбец id с идетификатором скважины нам не нужен. Признаки - f0, f1, f2. Целевой признак - product."
   ]
  },
  {
   "cell_type": "code",
   "execution_count": 10,
   "metadata": {},
   "outputs": [],
   "source": [
    "features1 = df1.drop('product', axis=1)\n",
    "features2 = df2.drop('product', axis=1)\n",
    "features3 = df3.drop('product', axis=1)\n",
    "\n",
    "target1 = df1['product']\n",
    "target2 = df2['product']\n",
    "target3 = df3['product']"
   ]
  },
  {
   "cell_type": "markdown",
   "metadata": {},
   "source": [
    "### Разделим данные на тренировочную и валидационную выборки\n",
    "\n",
    "Тренировочная - 75%, валидационная - 25%."
   ]
  },
  {
   "cell_type": "code",
   "execution_count": 11,
   "metadata": {},
   "outputs": [],
   "source": [
    "state = np.random.RandomState(12345)\n",
    "\n",
    "def split(features, target):\n",
    "    features_train, features_valid, target_train, target_valid = train_test_split(\n",
    "    features, target, train_size=0.75, random_state=state)\n",
    "    print('Размер тренировочной выборки с признаками:', features_train.shape)\n",
    "    print('Размер валидационной выборки с признаками:', features_valid.shape)\n",
    "    print('Размер тренировочной выборки с целевым признаком:', target_train.shape)\n",
    "    print('Размер валидационной выборки с целевым признаком:', target_valid.shape)\n",
    "    print()\n",
    "    return features_train, features_valid, target_train, target_valid"
   ]
  },
  {
   "cell_type": "code",
   "execution_count": 12,
   "metadata": {},
   "outputs": [
    {
     "name": "stdout",
     "output_type": "stream",
     "text": [
      "1 регион\n",
      "Размер тренировочной выборки с признаками: (75000, 3)\n",
      "Размер валидационной выборки с признаками: (25000, 3)\n",
      "Размер тренировочной выборки с целевым признаком: (75000,)\n",
      "Размер валидационной выборки с целевым признаком: (25000,)\n",
      "\n",
      "2 регион\n",
      "Размер тренировочной выборки с признаками: (75000, 3)\n",
      "Размер валидационной выборки с признаками: (25000, 3)\n",
      "Размер тренировочной выборки с целевым признаком: (75000,)\n",
      "Размер валидационной выборки с целевым признаком: (25000,)\n",
      "\n",
      "3 регион\n",
      "Размер тренировочной выборки с признаками: (75000, 3)\n",
      "Размер валидационной выборки с признаками: (25000, 3)\n",
      "Размер тренировочной выборки с целевым признаком: (75000,)\n",
      "Размер валидационной выборки с целевым признаком: (25000,)\n",
      "\n"
     ]
    }
   ],
   "source": [
    "print('1 регион')\n",
    "features_train1, features_valid1, target_train1, target_valid1 = split(features1, target1)\n",
    "\n",
    "print('2 регион')\n",
    "features_train2, features_valid2, target_train2, target_valid2 = split(features2, target2)\n",
    "\n",
    "print('3 регион')\n",
    "features_train3, features_valid3, target_train3, target_valid3 = split(features3, target3)"
   ]
  },
  {
   "cell_type": "markdown",
   "metadata": {},
   "source": [
    "### Выполним масштабирование признаков\n",
    "\n",
    "Применим стандартизацию, чтобы модели считали все признаки одинаково значимыми."
   ]
  },
  {
   "cell_type": "code",
   "execution_count": 13,
   "metadata": {},
   "outputs": [],
   "source": [
    "numeric = ['f0', 'f1', 'f2']\n",
    "\n",
    "pd.options.mode.chained_assignment = None\n",
    "\n",
    "scaler = StandardScaler()\n",
    "scaler.fit(features_train1[numeric])\n",
    "\n",
    "features_train1[numeric] = scaler.transform(features_train1[numeric])\n",
    "features_valid1[numeric] = scaler.transform(features_valid1[numeric])\n",
    "\n",
    "scaler.fit(features_train2[numeric])\n",
    "\n",
    "features_train2[numeric] = scaler.transform(features_train2[numeric])\n",
    "features_valid2[numeric] = scaler.transform(features_valid2[numeric])\n",
    "\n",
    "scaler.fit(features_train3[numeric])\n",
    "\n",
    "features_train3[numeric] = scaler.transform(features_train3[numeric])\n",
    "features_valid3[numeric] = scaler.transform(features_valid3[numeric])"
   ]
  },
  {
   "cell_type": "markdown",
   "metadata": {},
   "source": [
    "## Обучение и проверка модели\n",
    "\n",
    "Будем использовать модель линейной регрессии."
   ]
  },
  {
   "cell_type": "markdown",
   "metadata": {},
   "source": [
    "### Модель для 1 региона"
   ]
  },
  {
   "cell_type": "code",
   "execution_count": 14,
   "metadata": {
    "scrolled": true
   },
   "outputs": [
    {
     "name": "stdout",
     "output_type": "stream",
     "text": [
      "Средний запас предсказанного сырья 92.59258\n",
      "RMSE: 37.57941948134228\n"
     ]
    }
   ],
   "source": [
    "model1 = LinearRegression(n_jobs=-1)\n",
    "model1.fit(features_train1, target_train1)\n",
    "predictions_valid1 = model1.predict(features_valid1)\n",
    "predicted_mean1 = predictions_valid1.sum() / len(predictions_valid1)\n",
    "\n",
    "print('Средний запас предсказанного сырья', predicted_mean1)\n",
    "print('RMSE:', (mean_squared_error(target_valid1, predictions_valid1) ** 0.5))"
   ]
  },
  {
   "cell_type": "markdown",
   "metadata": {},
   "source": [
    "#### Проверка модели\n",
    "\n",
    "Используем DummyRegressor, который будет предсказывать среднее."
   ]
  },
  {
   "cell_type": "code",
   "execution_count": 15,
   "metadata": {},
   "outputs": [
    {
     "name": "stdout",
     "output_type": "stream",
     "text": [
      "RMSE dummy: 44.28959237974608\n"
     ]
    }
   ],
   "source": [
    "dummy = DummyRegressor(strategy='mean')\n",
    "dummy.fit(features_train1, target_train1)\n",
    "dummy_pred_valid1 = dummy.predict(features_valid1)\n",
    "print('RMSE dummy:', (mean_squared_error(target_valid1, dummy_pred_valid1) ** 0.5))"
   ]
  },
  {
   "cell_type": "markdown",
   "metadata": {},
   "source": [
    "### Модель для 2 региона"
   ]
  },
  {
   "cell_type": "code",
   "execution_count": 16,
   "metadata": {},
   "outputs": [
    {
     "name": "stdout",
     "output_type": "stream",
     "text": [
      "Средний запас предсказанного сырья 68.76995\n",
      "RMSE: 0.889736870433275\n"
     ]
    }
   ],
   "source": [
    "model2 = LinearRegression(n_jobs=-1)\n",
    "model2.fit(features_train2, target_train2)\n",
    "predictions_valid2 = model2.predict(features_valid2)\n",
    "predicted_mean2 = predictions_valid2.sum() / len(predictions_valid2)\n",
    "\n",
    "print('Средний запас предсказанного сырья', predicted_mean2)\n",
    "print('RMSE:', (mean_squared_error(target_valid2, predictions_valid2) ** 0.5))"
   ]
  },
  {
   "cell_type": "markdown",
   "metadata": {},
   "source": [
    "#### Проверка модели"
   ]
  },
  {
   "cell_type": "code",
   "execution_count": 17,
   "metadata": {},
   "outputs": [
    {
     "name": "stdout",
     "output_type": "stream",
     "text": [
      "RMSE dummy: 46.037555788385966\n"
     ]
    }
   ],
   "source": [
    "dummy.fit(features_train2, target_train2)\n",
    "dummy_pred_valid2 = dummy.predict(features_valid2)\n",
    "print('RMSE dummy:', (mean_squared_error(target_valid2, dummy_pred_valid2) ** 0.5))"
   ]
  },
  {
   "cell_type": "markdown",
   "metadata": {},
   "source": [
    "### Модель для 3 региона"
   ]
  },
  {
   "cell_type": "code",
   "execution_count": 18,
   "metadata": {},
   "outputs": [
    {
     "name": "stdout",
     "output_type": "stream",
     "text": [
      "Средний запас предсказанного сырья 95.08753\n",
      "RMSE: 39.9580422643748\n"
     ]
    }
   ],
   "source": [
    "model3 = LinearRegression(n_jobs=-1)\n",
    "model3.fit(features_train3, target_train3)\n",
    "predictions_valid3 = model3.predict(features_valid3)\n",
    "predicted_mean3 = predictions_valid3.sum() / len(predictions_valid3)\n",
    "\n",
    "print('Средний запас предсказанного сырья', predicted_mean3)\n",
    "print('RMSE:', (mean_squared_error(target_valid3, predictions_valid3) ** 0.5))"
   ]
  },
  {
   "cell_type": "markdown",
   "metadata": {},
   "source": [
    "#### Проверка модели"
   ]
  },
  {
   "cell_type": "code",
   "execution_count": 19,
   "metadata": {},
   "outputs": [
    {
     "name": "stdout",
     "output_type": "stream",
     "text": [
      "RMSE dummy: 44.74889794383209\n"
     ]
    }
   ],
   "source": [
    "dummy.fit(features_train3, target_train3)\n",
    "dummy_pred_valid3 = dummy.predict(features_valid3)\n",
    "print('RMSE dummy:', (mean_squared_error(target_valid3, dummy_pred_valid3) ** 0.5))"
   ]
  },
  {
   "cell_type": "markdown",
   "metadata": {},
   "source": [
    "### Промежуточный вывод\n",
    "\n",
    "- Все модели проходят проверку на адекватность;\n",
    "\n",
    "- Наибольший средний запас предсказанного сырья у 3 региона - 95 тысяч баррелей;\n",
    "\n",
    "- Наименьшая ошибка у модели для 2 региона - 0.89, но средний предсказанный запас в этом регионе меньше всего."
   ]
  },
  {
   "cell_type": "markdown",
   "metadata": {},
   "source": [
    "## Подготовка к расчёту прибыли"
   ]
  },
  {
   "cell_type": "markdown",
   "metadata": {},
   "source": [
    "### Рассчитаем достаточный объём сырья для безубыточной разработки новой скважины"
   ]
  },
  {
   "cell_type": "code",
   "execution_count": 20,
   "metadata": {},
   "outputs": [
    {
     "name": "stdout",
     "output_type": "stream",
     "text": [
      "Необходимый запас сырья для безубыточной разработки скважины 111.11111111111111\n"
     ]
    }
   ],
   "source": [
    "BUDGET = 10000000000 # бюджет на разработку\n",
    "PRODUCT_PRICE = 450000 # за тысячу баррелей (единицу продукта)\n",
    "POINTS_DEV = 500 # количество точек, выбранных для исследования\n",
    "POINTS_CHOSEN = 200 # количество точек, выбранных для разработки\n",
    "POINT_PRICE = BUDGET / POINTS_CHOSEN\n",
    "POINT_TRESHOLD = POINT_PRICE / PRODUCT_PRICE\n",
    "\n",
    "print('Необходимый запас сырья для безубыточной разработки скважины', POINT_TRESHOLD)"
   ]
  },
  {
   "cell_type": "markdown",
   "metadata": {},
   "source": [
    "### Сравним со средним запасом в каждом регионе"
   ]
  },
  {
   "cell_type": "code",
   "execution_count": 21,
   "metadata": {},
   "outputs": [
    {
     "name": "stdout",
     "output_type": "stream",
     "text": [
      "Средний объем запасов скважины в 1-м регионе:  92.5\n",
      "Средний объем запасов скважины в 2-м регионе:  68.825\n",
      "Средний объем запасов скважины в 3-м регионе:  95.0\n"
     ]
    }
   ],
   "source": [
    "print('Средний объем запасов скважины в 1-м регионе: ', df1['product'].mean())\n",
    "print('Средний объем запасов скважины в 2-м регионе: ', df2['product'].mean())\n",
    "print('Средний объем запасов скважины в 3-м регионе: ', df3['product'].mean())"
   ]
  },
  {
   "cell_type": "code",
   "execution_count": 22,
   "metadata": {},
   "outputs": [
    {
     "name": "stdout",
     "output_type": "stream",
     "text": [
      "count    100000.000000\n",
      "mean         92.500000\n",
      "std          44.288692\n",
      "min           0.000000\n",
      "25%          56.497507\n",
      "50%          91.849972\n",
      "75%         128.564087\n",
      "max         185.364349\n",
      "Name: product, dtype: float64\n",
      "\n",
      "count    100000.000000\n",
      "mean         68.824997\n",
      "std          45.944424\n",
      "min           0.000000\n",
      "25%          26.953260\n",
      "50%          57.085625\n",
      "75%         107.813042\n",
      "max         137.945404\n",
      "Name: product, dtype: float64\n",
      "\n",
      "count    100000.000000\n",
      "mean         95.000000\n",
      "std          44.749920\n",
      "min           0.000000\n",
      "25%          59.450439\n",
      "50%          94.925613\n",
      "75%         130.595024\n",
      "max         190.029831\n",
      "Name: product, dtype: float64\n"
     ]
    }
   ],
   "source": [
    "print(df1['product'].describe())\n",
    "print()\n",
    "print(df2['product'].describe())\n",
    "print()\n",
    "print(df3['product'].describe())"
   ]
  },
  {
   "cell_type": "code",
   "execution_count": 23,
   "metadata": {},
   "outputs": [
    {
     "name": "stdout",
     "output_type": "stream",
     "text": [
      "110.99214935302734\n"
     ]
    }
   ],
   "source": [
    "print(df2['product'].quantile(0.80))"
   ]
  },
  {
   "cell_type": "markdown",
   "metadata": {},
   "source": [
    "### Промежуточный вывод\n",
    "\n",
    "На первый взгляд, средних запасов не достаточно для прохождения порога безубыточной разработки. Однако, если посмотреть на 75% квантили, то можно заметить, что в 1 и 3 регионах 25% скважин имеют необходимый запас. Учитывая объемы выборок, это 25 тысяч скважин. У второго региона - около 20 тысяч.\n",
    "\n",
    "Все регионы потенциально подходят для разработки."
   ]
  },
  {
   "cell_type": "markdown",
   "metadata": {},
   "source": [
    "## Расчёт прибыли и рисков "
   ]
  },
  {
   "cell_type": "markdown",
   "metadata": {},
   "source": [
    "### Функция расчета прибыли"
   ]
  },
  {
   "cell_type": "markdown",
   "metadata": {},
   "source": [
    "#### Сбрасываем индексы"
   ]
  },
  {
   "cell_type": "code",
   "execution_count": 24,
   "metadata": {},
   "outputs": [],
   "source": [
    "target_valid1 = target_valid1.reset_index(drop=True)\n",
    "target_valid2 = target_valid2.reset_index(drop=True)\n",
    "target_valid3 = target_valid3.reset_index(drop=True)"
   ]
  },
  {
   "cell_type": "markdown",
   "metadata": {},
   "source": [
    "#### Пишем функцию для расчетов"
   ]
  },
  {
   "cell_type": "code",
   "execution_count": 25,
   "metadata": {},
   "outputs": [],
   "source": [
    "def revenue(target, predictions1):\n",
    "    predictions1 = predictions1.reset_index(drop=True)\n",
    "    target = target.reset_index(drop=True)\n",
    "    \n",
    "    pred_sorted = predictions1.sort_values(ascending=False)\n",
    "    selected = target[pred_sorted.index][:POINTS_CHOSEN]\n",
    "\n",
    "\n",
    "\n",
    "    # КОД РЕВЬЮЕРА, debug\n",
    "    if target[pred_sorted.index].shape[0] != pred_sorted.shape[0]:\n",
    "        print(\"Shape mismatch! Selected targets shape:\", target[pred_sorted.index].shape)\n",
    "\n",
    "\n",
    "    result = selected.sum()*PRODUCT_PRICE - BUDGET\n",
    "    return result"
   ]
  },
  {
   "cell_type": "markdown",
   "metadata": {},
   "source": [
    "#### Выводим результаты"
   ]
  },
  {
   "cell_type": "code",
   "execution_count": 28,
   "metadata": {},
   "outputs": [
    {
     "name": "stdout",
     "output_type": "stream",
     "text": [
      "Предсказанная прибыль с 200 лучших скважин 1 региона 3320826171.88\n",
      "Предсказанная прибыль с 200 лучших скважин 2 региона 2415088671.88\n",
      "Предсказанная прибыль с 200 лучших скважин 3 региона 2539916210.94\n"
     ]
    }
   ],
   "source": [
    "print('Предсказанная прибыль с 200 лучших скважин 1 региона',round(revenue(target_valid1, pd.Series(predictions_valid1)), 2))\n",
    "print('Предсказанная прибыль с 200 лучших скважин 2 региона', round(revenue(target_valid2, pd.Series(predictions_valid2)), 2))\n",
    "print('Предсказанная прибыль с 200 лучших скважин 3 региона', round(revenue(target_valid3, pd.Series(predictions_valid3)), 2))"
   ]
  },
  {
   "cell_type": "markdown",
   "metadata": {},
   "source": [
    "### Считаем риски и прибыль для каждого региона\n",
    "\n",
    "Напишем функцию bootstrap для получения распределения прибыли, подсчета доверительного интервала и риска убытков."
   ]
  },
  {
   "cell_type": "code",
   "execution_count": 29,
   "metadata": {},
   "outputs": [],
   "source": [
    "def bootstrap(target_valid, predictions_valid):\n",
    "    state = np.random.RandomState(12345)\n",
    "    values = []\n",
    "    \n",
    "    for i in range(1000):\n",
    "        target_subsample = target_valid.sample(POINTS_DEV, replace=True, random_state=state)\n",
    "        predictions_subsample = predictions_valid[target_subsample.index]\n",
    "        \n",
    "        values.append(revenue(target_subsample, predictions_subsample))\n",
    "\n",
    "    values = pd.Series(values)\n",
    "    \n",
    "    lower = round(values.quantile(0.025), 2)\n",
    "    upper = round(values.quantile(0.975), 2)\n",
    "    mean = values.mean()\n",
    "    \n",
    "    h = sns.histplot(values)\n",
    "    plt.xlabel('млрд. руб.')\n",
    "    plt.ylabel('')\n",
    "    plt.axvline(x=lower, color='green')\n",
    "    plt.axvline(x=upper, color='green')\n",
    "    \n",
    "    print('Средняя прибыль:', round(mean, 2))\n",
    "    print('95% доверительный интервал: от', lower, 'до', upper)\n",
    "    print('Риск убытков:', round(values[values<0].count() / values.count() * 100, 2), '%')"
   ]
  },
  {
   "cell_type": "markdown",
   "metadata": {},
   "source": [
    "#### Регион 1"
   ]
  },
  {
   "cell_type": "code",
   "execution_count": 32,
   "metadata": {},
   "outputs": [
    {
     "name": "stdout",
     "output_type": "stream",
     "text": [
      "Средняя прибыль: 396164978.81\n",
      "95% доверительный интервал: от -111215019.53 до 909767150.88\n",
      "Риск убытков: 6.9 %\n"
     ]
    },
    {
     "data": {
      "image/png": "[encoded data removed]",
      "text/plain": [
       "<Figure size 432x288 with 1 Axes>"
      ]
     },
     "metadata": {
      "needs_background": "light"
     },
     "output_type": "display_data"
    }
   ],
   "source": [
    "bootstrap(target_valid1, pd.Series(predictions_valid1))"
   ]
  },
  {
   "cell_type": "markdown",
   "metadata": {},
   "source": [
    "#### Регион 2"
   ]
  },
  {
   "cell_type": "code",
   "execution_count": 33,
   "metadata": {},
   "outputs": [
    {
     "name": "stdout",
     "output_type": "stream",
     "text": [
      "Средняя прибыль: 445618806.35\n",
      "95% доверительный интервал: от 54586030.27 до 833069660.64\n",
      "Риск убытков: 1.1 %\n"
     ]
    },
    {
     "data": {
      "image/png": "[encoded data removed]",
      "text/plain": [
       "<Figure size 432x288 with 1 Axes>"
      ]
     },
     "metadata": {
      "needs_background": "light"
     },
     "output_type": "display_data"
    }
   ],
   "source": [
    "bootstrap(target_valid2, pd.Series(predictions_valid2))"
   ]
  },
  {
   "cell_type": "markdown",
   "metadata": {},
   "source": [
    "#### Регион 3"
   ]
  },
  {
   "cell_type": "code",
   "execution_count": 34,
   "metadata": {},
   "outputs": [
    {
     "name": "stdout",
     "output_type": "stream",
     "text": [
      "Средняя прибыль: 340026911.04\n",
      "95% доверительный интервал: от -208030102.54 до 868855493.16\n",
      "Риск убытков: 10.7 %\n"
     ]
    },
    {
     "data": {
      "image/png": "[encoded data removed]",
      "text/plain": [
       "<Figure size 432x288 with 1 Axes>"
      ]
     },
     "metadata": {
      "needs_background": "light"
     },
     "output_type": "display_data"
    }
   ],
   "source": [
    "bootstrap(target_valid3, pd.Series(predictions_valid3))"
   ]
  },
  {
   "cell_type": "markdown",
   "metadata": {},
   "source": [
    "## Вывод\n",
    "\n",
    "Мы изучили данные по скважинам в трех регионах нефтедобычи. На основе данных о пробах нефти, нам необходимо было определить регион, в котором будут разрабатываться новые скважины.\n",
    "\n",
    "На этапе **подготовки данных** мы загрузили датасеты и подготовили данные к исследованию. Проверили на пропуски, определили признаки и целевой признак. Получили валидационные и тестовые выборки, выполнили масштабирование численных признаков.\n",
    "\n",
    "На этапе **обучения моделей** мы создали и обучили модели для каждого региона, предсказывающие запас сырья. Наибольший средний запас предсказанного сырья у 3 региона - 95 тысяч баррелей, однако, наименьшая ошибка у модели для 2 региона - 0.89, но в этом регионе средний предсказанный запас оказался меньше всего.\n",
    "\n",
    "При **подготовке к расчёту прибыли** мы выполнили следующие действия:\n",
    "- рассчитали достаточный объём сырья для безубыточной разработки новой скважины - 112 тысяч баррелей;\n",
    "- сравнили со средними запасами в каждом регионе: средних запасов недостаточно, однако, учитывая объемы данных, в каждом регионе хватает скважин с высокими запасам, это видно при взгляде на 75% квантили;\n",
    "\n",
    "После **рассчета прибыли и рисков** можно сделать следующие выводы:\n",
    "- для разработки рекомендуется второй регион;\n",
    "- по итогам исследования, средняя прибыль второго региона выше, чем у остальных;\n",
    "- это единственный регион, с удовлетворительными показателями вероятности убытков - 1.1%\n",
    "- модель для этого региона обучилась лучше остальных и дает наименьшую ошибку, что может быть полезно в дальнейших исследованиях;"
   ]
  }
 ],
 "metadata": {
  "ExecuteTimeLog": [
   {
    "duration": 1503,
    "start_time": "2023-06-23T19:18:58.236Z"
   },
   {
    "duration": 3149,
    "start_time": "2023-06-23T19:18:59.748Z"
   },
   {
    "duration": 158,
    "start_time": "2023-06-23T19:19:02.899Z"
   },
   {
    "duration": 70,
    "start_time": "2023-06-23T19:19:03.059Z"
   },
   {
    "duration": 16,
    "start_time": "2023-06-23T19:19:03.134Z"
   },
   {
    "duration": 118,
    "start_time": "2023-06-23T19:19:03.153Z"
   },
   {
    "duration": 74,
    "start_time": "2023-06-23T19:19:03.274Z"
   },
   {
    "duration": 83,
    "start_time": "2023-06-23T19:19:03.350Z"
   },
   {
    "duration": 9,
    "start_time": "2023-06-23T19:19:03.436Z"
   },
   {
    "duration": 118,
    "start_time": "2023-06-23T19:19:03.447Z"
   },
   {
    "duration": 37,
    "start_time": "2023-06-23T19:19:03.619Z"
   },
   {
    "duration": 92,
    "start_time": "2023-06-23T19:19:03.662Z"
   },
   {
    "duration": 9,
    "start_time": "2023-06-23T19:19:03.756Z"
   },
   {
    "duration": 10,
    "start_time": "2023-06-23T19:19:03.820Z"
   },
   {
    "duration": 83,
    "start_time": "2023-06-23T19:19:03.835Z"
   },
   {
    "duration": 51,
    "start_time": "2023-06-23T19:19:03.921Z"
   },
   {
    "duration": 7,
    "start_time": "2023-06-23T19:19:03.976Z"
   },
   {
    "duration": 53,
    "start_time": "2023-06-23T19:19:03.985Z"
   },
   {
    "duration": 7,
    "start_time": "2023-06-23T19:19:04.042Z"
   },
   {
    "duration": 4404,
    "start_time": "2023-06-23T19:19:04.051Z"
   },
   {
    "duration": 4408,
    "start_time": "2023-06-23T19:19:08.459Z"
   },
   {
    "duration": 4283,
    "start_time": "2023-06-23T19:19:12.870Z"
   },
   {
    "duration": 1489,
    "start_time": "2023-06-23T19:19:23.939Z"
   },
   {
    "duration": 525,
    "start_time": "2023-06-23T19:19:25.438Z"
   },
   {
    "duration": 156,
    "start_time": "2023-06-23T19:19:25.965Z"
   },
   {
    "duration": 59,
    "start_time": "2023-06-23T19:19:26.135Z"
   },
   {
    "duration": 11,
    "start_time": "2023-06-23T19:19:26.197Z"
   },
   {
    "duration": 62,
    "start_time": "2023-06-23T19:19:26.210Z"
   },
   {
    "duration": 43,
    "start_time": "2023-06-23T19:19:26.273Z"
   },
   {
    "duration": 130,
    "start_time": "2023-06-23T19:19:26.318Z"
   },
   {
    "duration": 60,
    "start_time": "2023-06-23T19:19:26.459Z"
   },
   {
    "duration": 44,
    "start_time": "2023-06-23T19:19:26.525Z"
   },
   {
    "duration": 56,
    "start_time": "2023-06-23T19:19:26.571Z"
   },
   {
    "duration": 110,
    "start_time": "2023-06-23T19:19:26.633Z"
   },
   {
    "duration": 84,
    "start_time": "2023-06-23T19:19:26.745Z"
   },
   {
    "duration": 39,
    "start_time": "2023-06-23T19:19:26.835Z"
   },
   {
    "duration": 61,
    "start_time": "2023-06-23T19:19:26.876Z"
   },
   {
    "duration": 56,
    "start_time": "2023-06-23T19:19:26.940Z"
   },
   {
    "duration": 6,
    "start_time": "2023-06-23T19:19:26.998Z"
   },
   {
    "duration": 59,
    "start_time": "2023-06-23T19:19:27.006Z"
   },
   {
    "duration": 28,
    "start_time": "2023-06-23T19:19:27.067Z"
   },
   {
    "duration": 3354,
    "start_time": "2023-06-23T19:19:27.097Z"
   },
   {
    "duration": 3272,
    "start_time": "2023-06-23T19:19:30.456Z"
   },
   {
    "duration": 3241,
    "start_time": "2023-06-23T19:19:33.729Z"
   },
   {
    "duration": 2056,
    "start_time": "2023-06-25T09:06:24.822Z"
   },
   {
    "duration": 873,
    "start_time": "2023-06-25T09:06:26.880Z"
   },
   {
    "duration": 128,
    "start_time": "2023-06-25T09:06:27.755Z"
   },
   {
    "duration": 71,
    "start_time": "2023-06-25T09:06:27.885Z"
   },
   {
    "duration": 15,
    "start_time": "2023-06-25T09:06:27.958Z"
   },
   {
    "duration": 252,
    "start_time": "2023-06-25T09:06:27.975Z"
   },
   {
    "duration": 206,
    "start_time": "2023-06-25T09:06:28.229Z"
   },
   {
    "duration": 187,
    "start_time": "2023-06-25T09:06:28.436Z"
   },
   {
    "duration": 32,
    "start_time": "2023-06-25T09:06:28.625Z"
   },
   {
    "duration": 9,
    "start_time": "2023-06-25T09:06:28.660Z"
   },
   {
    "duration": 52,
    "start_time": "2023-06-25T09:06:28.671Z"
   },
   {
    "duration": 50,
    "start_time": "2023-06-25T09:06:28.726Z"
   },
   {
    "duration": 260,
    "start_time": "2023-06-25T09:06:28.777Z"
   },
   {
    "duration": 17,
    "start_time": "2023-06-25T09:06:29.105Z"
   },
   {
    "duration": 104,
    "start_time": "2023-06-25T09:06:29.132Z"
   },
   {
    "duration": 197,
    "start_time": "2023-06-25T09:06:29.238Z"
   },
   {
    "duration": 118,
    "start_time": "2023-06-25T09:06:29.439Z"
   },
   {
    "duration": 73,
    "start_time": "2023-06-25T09:06:29.559Z"
   },
   {
    "duration": 64,
    "start_time": "2023-06-25T09:06:29.639Z"
   },
   {
    "duration": 35,
    "start_time": "2023-06-25T09:06:29.705Z"
   },
   {
    "duration": 88,
    "start_time": "2023-06-25T09:06:29.742Z"
   },
   {
    "duration": 27,
    "start_time": "2023-06-25T09:06:29.834Z"
   },
   {
    "duration": 7,
    "start_time": "2023-06-25T09:06:29.863Z"
   },
   {
    "duration": 40,
    "start_time": "2023-06-25T09:06:29.871Z"
   },
   {
    "duration": 14,
    "start_time": "2023-06-25T09:06:29.913Z"
   },
   {
    "duration": 33,
    "start_time": "2023-06-25T09:06:29.929Z"
   },
   {
    "duration": 1899,
    "start_time": "2023-06-25T09:06:29.964Z"
   },
   {
    "duration": 1918,
    "start_time": "2023-06-25T09:06:31.865Z"
   },
   {
    "duration": 1941,
    "start_time": "2023-06-25T09:06:33.800Z"
   },
   {
    "duration": 1695,
    "start_time": "2023-06-25T09:06:53.492Z"
   },
   {
    "duration": 487,
    "start_time": "2023-06-25T09:06:55.190Z"
   },
   {
    "duration": 133,
    "start_time": "2023-06-25T09:06:55.679Z"
   },
   {
    "duration": 97,
    "start_time": "2023-06-25T09:06:55.815Z"
   },
   {
    "duration": 19,
    "start_time": "2023-06-25T09:06:55.914Z"
   },
   {
    "duration": 258,
    "start_time": "2023-06-25T09:06:55.935Z"
   },
   {
    "duration": 244,
    "start_time": "2023-06-25T09:06:56.195Z"
   },
   {
    "duration": 183,
    "start_time": "2023-06-25T09:06:56.441Z"
   },
   {
    "duration": 32,
    "start_time": "2023-06-25T09:06:56.626Z"
   },
   {
    "duration": 9,
    "start_time": "2023-06-25T09:06:56.662Z"
   },
   {
    "duration": 53,
    "start_time": "2023-06-25T09:06:56.672Z"
   },
   {
    "duration": 35,
    "start_time": "2023-06-25T09:06:56.726Z"
   },
   {
    "duration": 57,
    "start_time": "2023-06-25T09:06:56.763Z"
   },
   {
    "duration": 105,
    "start_time": "2023-06-25T09:06:56.822Z"
   },
   {
    "duration": 11,
    "start_time": "2023-06-25T09:06:56.929Z"
   },
   {
    "duration": 71,
    "start_time": "2023-06-25T09:06:56.942Z"
   },
   {
    "duration": 89,
    "start_time": "2023-06-25T09:06:57.016Z"
   },
   {
    "duration": 28,
    "start_time": "2023-06-25T09:06:57.109Z"
   },
   {
    "duration": 191,
    "start_time": "2023-06-25T09:06:57.139Z"
   },
   {
    "duration": 30,
    "start_time": "2023-06-25T09:06:57.332Z"
   },
   {
    "duration": 58,
    "start_time": "2023-06-25T09:06:57.364Z"
   },
   {
    "duration": 80,
    "start_time": "2023-06-25T09:06:57.424Z"
   },
   {
    "duration": 22,
    "start_time": "2023-06-25T09:06:57.506Z"
   },
   {
    "duration": 33,
    "start_time": "2023-06-25T09:06:57.530Z"
   },
   {
    "duration": 5,
    "start_time": "2023-06-25T09:06:57.565Z"
   },
   {
    "duration": 23,
    "start_time": "2023-06-25T09:06:57.572Z"
   },
   {
    "duration": 1070,
    "start_time": "2023-06-25T09:06:57.597Z"
   },
   {
    "duration": 945,
    "start_time": "2023-06-25T09:06:58.670Z"
   },
   {
    "duration": 979,
    "start_time": "2023-06-25T09:06:59.617Z"
   },
   {
    "duration": 6,
    "start_time": "2023-06-25T09:07:41.940Z"
   },
   {
    "duration": 6,
    "start_time": "2023-06-25T09:07:55.286Z"
   },
   {
    "duration": 10,
    "start_time": "2023-06-25T09:09:27.900Z"
   },
   {
    "duration": 9,
    "start_time": "2023-06-25T09:09:40.729Z"
   },
   {
    "duration": 9,
    "start_time": "2023-06-25T09:17:11.945Z"
   },
   {
    "duration": 9,
    "start_time": "2023-06-25T09:18:08.757Z"
   },
   {
    "duration": 2176,
    "start_time": "2023-06-26T11:41:11.302Z"
   },
   {
    "duration": 911,
    "start_time": "2023-06-26T11:41:13.480Z"
   },
   {
    "duration": 175,
    "start_time": "2023-06-26T11:41:14.394Z"
   },
   {
    "duration": 103,
    "start_time": "2023-06-26T11:41:14.571Z"
   },
   {
    "duration": 33,
    "start_time": "2023-06-26T11:41:14.677Z"
   },
   {
    "duration": 248,
    "start_time": "2023-06-26T11:41:14.712Z"
   },
   {
    "duration": 224,
    "start_time": "2023-06-26T11:41:14.962Z"
   },
   {
    "duration": 227,
    "start_time": "2023-06-26T11:41:15.188Z"
   },
   {
    "duration": 42,
    "start_time": "2023-06-26T11:41:15.417Z"
   },
   {
    "duration": 13,
    "start_time": "2023-06-26T11:41:15.461Z"
   },
   {
    "duration": 33,
    "start_time": "2023-06-26T11:41:15.476Z"
   },
   {
    "duration": 46,
    "start_time": "2023-06-26T11:41:15.513Z"
   },
   {
    "duration": 61,
    "start_time": "2023-06-26T11:41:15.562Z"
   },
   {
    "duration": 285,
    "start_time": "2023-06-26T11:41:15.627Z"
   },
   {
    "duration": 7,
    "start_time": "2023-06-26T11:41:15.914Z"
   },
   {
    "duration": 225,
    "start_time": "2023-06-26T11:41:15.923Z"
   },
   {
    "duration": 173,
    "start_time": "2023-06-26T11:41:16.155Z"
   },
   {
    "duration": 19,
    "start_time": "2023-06-26T11:41:16.330Z"
   },
   {
    "duration": 207,
    "start_time": "2023-06-26T11:41:16.351Z"
   },
   {
    "duration": 23,
    "start_time": "2023-06-26T11:41:16.560Z"
   },
   {
    "duration": 42,
    "start_time": "2023-06-26T11:41:16.585Z"
   },
   {
    "duration": 61,
    "start_time": "2023-06-26T11:41:16.628Z"
   },
   {
    "duration": 16,
    "start_time": "2023-06-26T11:41:16.692Z"
   },
   {
    "duration": 38,
    "start_time": "2023-06-26T11:41:16.710Z"
   },
   {
    "duration": 12,
    "start_time": "2023-06-26T11:41:16.750Z"
   },
   {
    "duration": 43,
    "start_time": "2023-06-26T11:41:16.764Z"
   },
   {
    "duration": 6,
    "start_time": "2023-06-26T11:41:16.809Z"
   },
   {
    "duration": 29,
    "start_time": "2023-06-26T11:41:16.817Z"
   },
   {
    "duration": 14,
    "start_time": "2023-06-26T11:41:16.848Z"
   },
   {
    "duration": 1706,
    "start_time": "2023-06-26T11:41:16.864Z"
   },
   {
    "duration": 1808,
    "start_time": "2023-06-26T11:41:18.572Z"
   },
   {
    "duration": 1692,
    "start_time": "2023-06-26T11:41:20.382Z"
   },
   {
    "duration": 1779,
    "start_time": "2023-06-26T11:43:01.016Z"
   },
   {
    "duration": 455,
    "start_time": "2023-06-26T11:43:02.797Z"
   },
   {
    "duration": 158,
    "start_time": "2023-06-26T11:43:03.254Z"
   },
   {
    "duration": 99,
    "start_time": "2023-06-26T11:43:03.415Z"
   },
   {
    "duration": 18,
    "start_time": "2023-06-26T11:43:03.516Z"
   },
   {
    "duration": 264,
    "start_time": "2023-06-26T11:43:03.536Z"
   },
   {
    "duration": 226,
    "start_time": "2023-06-26T11:43:03.808Z"
   },
   {
    "duration": 221,
    "start_time": "2023-06-26T11:43:04.036Z"
   },
   {
    "duration": 51,
    "start_time": "2023-06-26T11:43:04.259Z"
   },
   {
    "duration": 10,
    "start_time": "2023-06-26T11:43:04.313Z"
   },
   {
    "duration": 17,
    "start_time": "2023-06-26T11:43:04.325Z"
   },
   {
    "duration": 40,
    "start_time": "2023-06-26T11:43:04.344Z"
   },
   {
    "duration": 51,
    "start_time": "2023-06-26T11:43:04.386Z"
   },
   {
    "duration": 17,
    "start_time": "2023-06-26T11:43:04.439Z"
   },
   {
    "duration": 8,
    "start_time": "2023-06-26T11:43:04.511Z"
   },
   {
    "duration": 111,
    "start_time": "2023-06-26T11:43:04.521Z"
   },
   {
    "duration": 77,
    "start_time": "2023-06-26T11:43:04.633Z"
   },
   {
    "duration": 110,
    "start_time": "2023-06-26T11:43:04.712Z"
   },
   {
    "duration": 85,
    "start_time": "2023-06-26T11:43:04.825Z"
   },
   {
    "duration": 97,
    "start_time": "2023-06-26T11:43:04.914Z"
   },
   {
    "duration": 18,
    "start_time": "2023-06-26T11:43:05.012Z"
   },
   {
    "duration": 42,
    "start_time": "2023-06-26T11:43:05.032Z"
   },
   {
    "duration": 7,
    "start_time": "2023-06-26T11:43:05.076Z"
   },
   {
    "duration": 13,
    "start_time": "2023-06-26T11:43:05.085Z"
   },
   {
    "duration": 26,
    "start_time": "2023-06-26T11:43:05.100Z"
   },
   {
    "duration": 62,
    "start_time": "2023-06-26T11:43:05.128Z"
   },
   {
    "duration": 8,
    "start_time": "2023-06-26T11:43:05.192Z"
   },
   {
    "duration": 42,
    "start_time": "2023-06-26T11:43:05.203Z"
   },
   {
    "duration": 28,
    "start_time": "2023-06-26T11:43:05.247Z"
   },
   {
    "duration": 3002,
    "start_time": "2023-06-26T11:43:05.277Z"
   },
   {
    "duration": 2899,
    "start_time": "2023-06-26T11:43:08.281Z"
   },
   {
    "duration": 2781,
    "start_time": "2023-06-26T11:43:11.182Z"
   },
   {
    "duration": 8,
    "start_time": "2023-06-26T11:45:24.032Z"
   },
   {
    "duration": 8,
    "start_time": "2023-06-26T11:45:42.151Z"
   },
   {
    "duration": 1808,
    "start_time": "2023-06-26T11:46:22.339Z"
   },
   {
    "duration": 474,
    "start_time": "2023-06-26T11:46:24.149Z"
   },
   {
    "duration": 164,
    "start_time": "2023-06-26T11:46:24.625Z"
   },
   {
    "duration": 100,
    "start_time": "2023-06-26T11:46:24.791Z"
   },
   {
    "duration": 32,
    "start_time": "2023-06-26T11:46:24.893Z"
   },
   {
    "duration": 254,
    "start_time": "2023-06-26T11:46:24.928Z"
   },
   {
    "duration": 219,
    "start_time": "2023-06-26T11:46:25.184Z"
   },
   {
    "duration": 234,
    "start_time": "2023-06-26T11:46:25.408Z"
   },
   {
    "duration": 43,
    "start_time": "2023-06-26T11:46:25.644Z"
   },
   {
    "duration": 13,
    "start_time": "2023-06-26T11:46:25.708Z"
   },
   {
    "duration": 6,
    "start_time": "2023-06-26T11:46:25.723Z"
   },
   {
    "duration": 59,
    "start_time": "2023-06-26T11:46:25.731Z"
   },
   {
    "duration": 65,
    "start_time": "2023-06-26T11:46:25.792Z"
   },
   {
    "duration": 63,
    "start_time": "2023-06-26T11:46:25.859Z"
   },
   {
    "duration": 15,
    "start_time": "2023-06-26T11:46:26.008Z"
   },
   {
    "duration": 85,
    "start_time": "2023-06-26T11:46:26.026Z"
   },
   {
    "duration": 103,
    "start_time": "2023-06-26T11:46:26.113Z"
   },
   {
    "duration": 18,
    "start_time": "2023-06-26T11:46:26.218Z"
   },
   {
    "duration": 114,
    "start_time": "2023-06-26T11:46:26.308Z"
   },
   {
    "duration": 45,
    "start_time": "2023-06-26T11:46:26.424Z"
   },
   {
    "duration": 32,
    "start_time": "2023-06-26T11:46:26.471Z"
   },
   {
    "duration": 29,
    "start_time": "2023-06-26T11:46:26.505Z"
   },
   {
    "duration": 7,
    "start_time": "2023-06-26T11:46:26.536Z"
   },
   {
    "duration": 10,
    "start_time": "2023-06-26T11:46:26.545Z"
   },
   {
    "duration": 14,
    "start_time": "2023-06-26T11:46:26.556Z"
   },
   {
    "duration": 17,
    "start_time": "2023-06-26T11:46:26.572Z"
   },
   {
    "duration": 18,
    "start_time": "2023-06-26T11:46:26.591Z"
   },
   {
    "duration": 26,
    "start_time": "2023-06-26T11:46:26.613Z"
   },
   {
    "duration": 6,
    "start_time": "2023-06-26T11:46:26.641Z"
   },
   {
    "duration": 25,
    "start_time": "2023-06-26T11:46:26.649Z"
   },
   {
    "duration": 33,
    "start_time": "2023-06-26T11:46:26.675Z"
   },
   {
    "duration": 3833,
    "start_time": "2023-06-26T11:46:26.710Z"
   },
   {
    "duration": 3731,
    "start_time": "2023-06-26T11:46:30.545Z"
   },
   {
    "duration": 3616,
    "start_time": "2023-06-26T11:46:34.277Z"
   },
   {
    "duration": 2331,
    "start_time": "2023-06-27T12:33:20.409Z"
   },
   {
    "duration": 2606,
    "start_time": "2023-06-27T12:33:22.743Z"
   },
   {
    "duration": 179,
    "start_time": "2023-06-27T12:33:25.352Z"
   },
   {
    "duration": 135,
    "start_time": "2023-06-27T12:33:25.534Z"
   },
   {
    "duration": 22,
    "start_time": "2023-06-27T12:33:25.678Z"
   },
   {
    "duration": 299,
    "start_time": "2023-06-27T12:33:25.702Z"
   },
   {
    "duration": 309,
    "start_time": "2023-06-27T12:33:26.003Z"
   },
   {
    "duration": 315,
    "start_time": "2023-06-27T12:33:26.315Z"
   },
   {
    "duration": 67,
    "start_time": "2023-06-27T12:33:26.634Z"
   },
   {
    "duration": 14,
    "start_time": "2023-06-27T12:33:26.705Z"
   },
   {
    "duration": 37,
    "start_time": "2023-06-27T12:33:26.722Z"
   },
   {
    "duration": 56,
    "start_time": "2023-06-27T12:33:26.764Z"
   },
   {
    "duration": 87,
    "start_time": "2023-06-27T12:33:26.823Z"
   },
   {
    "duration": 152,
    "start_time": "2023-06-27T12:33:26.914Z"
   },
   {
    "duration": 15,
    "start_time": "2023-06-27T12:33:27.074Z"
   },
   {
    "duration": 162,
    "start_time": "2023-06-27T12:33:27.097Z"
   },
   {
    "duration": 21,
    "start_time": "2023-06-27T12:33:27.261Z"
   },
   {
    "duration": 112,
    "start_time": "2023-06-27T12:33:27.287Z"
   },
   {
    "duration": 21,
    "start_time": "2023-06-27T12:33:27.403Z"
   },
   {
    "duration": 17,
    "start_time": "2023-06-27T12:33:27.457Z"
   },
   {
    "duration": 16,
    "start_time": "2023-06-27T12:33:27.483Z"
   },
   {
    "duration": 111,
    "start_time": "2023-06-27T12:33:27.504Z"
   },
   {
    "duration": 10,
    "start_time": "2023-06-27T12:33:27.617Z"
   },
   {
    "duration": 9,
    "start_time": "2023-06-27T12:33:27.629Z"
   },
   {
    "duration": 19,
    "start_time": "2023-06-27T12:33:27.640Z"
   },
   {
    "duration": 55,
    "start_time": "2023-06-27T12:33:27.662Z"
   },
   {
    "duration": 16,
    "start_time": "2023-06-27T12:33:27.719Z"
   },
   {
    "duration": 49,
    "start_time": "2023-06-27T12:33:27.741Z"
   },
   {
    "duration": 9,
    "start_time": "2023-06-27T12:33:27.794Z"
   },
   {
    "duration": 27,
    "start_time": "2023-06-27T12:33:27.806Z"
   },
   {
    "duration": 33,
    "start_time": "2023-06-27T12:33:27.836Z"
   },
   {
    "duration": 2067,
    "start_time": "2023-06-27T12:33:27.871Z"
   },
   {
    "duration": 2096,
    "start_time": "2023-06-27T12:33:29.940Z"
   },
   {
    "duration": 2022,
    "start_time": "2023-06-27T12:33:32.038Z"
   }
  ],
  "kernelspec": {
   "display_name": "Python 3 (ipykernel)",
   "language": "python",
   "name": "python3"
  },
  "language_info": {
   "codemirror_mode": {
    "name": "ipython",
    "version": 3
   },
   "file_extension": ".py",
   "mimetype": "text/x-python",
   "name": "python",
   "nbconvert_exporter": "python",
   "pygments_lexer": "ipython3",
   "version": "3.9.16"
  },
  "toc": {
   "base_numbering": 1,
   "nav_menu": {},
   "number_sections": true,
   "sideBar": true,
   "skip_h1_title": true,
   "title_cell": "Table of Contents",
   "title_sidebar": "Contents",
   "toc_cell": false,
   "toc_position": {},
   "toc_section_display": true,
   "toc_window_display": false
  }
 },
 "nbformat": 4,
 "nbformat_minor": 4
}
