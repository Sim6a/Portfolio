{
 "cells": [
  {
   "cell_type": "markdown",
   "metadata": {
    "toc": true
   },
   "source": [
    "<h1>Содержание<span class=\"tocSkip\"></span></h1>\n",
    "<div class=\"toc\"><ul class=\"toc-item\"><li><span><a href=\"#Подготовка\" data-toc-modified-id=\"Подготовка-1\"><span class=\"toc-item-num\">1&nbsp;&nbsp;</span>Подготовка</a></span><ul class=\"toc-item\"><li><span><a href=\"#Импортируем-библиотеки\" data-toc-modified-id=\"Импортируем-библиотеки-1.1\"><span class=\"toc-item-num\">1.1&nbsp;&nbsp;</span>Импортируем библиотеки</a></span></li><li><span><a href=\"#Загружаем-датасет\" data-toc-modified-id=\"Загружаем-датасет-1.2\"><span class=\"toc-item-num\">1.2&nbsp;&nbsp;</span>Загружаем датасет</a></span></li><li><span><a href=\"#Баланс-классов\" data-toc-modified-id=\"Баланс-классов-1.3\"><span class=\"toc-item-num\">1.3&nbsp;&nbsp;</span>Баланс классов</a></span></li><li><span><a href=\"#Очистка-текста\" data-toc-modified-id=\"Очистка-текста-1.4\"><span class=\"toc-item-num\">1.4&nbsp;&nbsp;</span>Очистка текста</a></span></li><li><span><a href=\"#Лемматизация\" data-toc-modified-id=\"Лемматизация-1.5\"><span class=\"toc-item-num\">1.5&nbsp;&nbsp;</span>Лемматизация</a></span></li><li><span><a href=\"#Промежуточный-вывод\" data-toc-modified-id=\"Промежуточный-вывод-1.6\"><span class=\"toc-item-num\">1.6&nbsp;&nbsp;</span>Промежуточный вывод</a></span></li></ul></li><li><span><a href=\"#Обучение\" data-toc-modified-id=\"Обучение-2\"><span class=\"toc-item-num\">2&nbsp;&nbsp;</span>Обучение</a></span><ul class=\"toc-item\"><li><span><a href=\"#Мешок-слов\" data-toc-modified-id=\"Мешок-слов-2.1\"><span class=\"toc-item-num\">2.1&nbsp;&nbsp;</span>Мешок слов</a></span><ul class=\"toc-item\"><li><span><a href=\"#Дерево-решений\" data-toc-modified-id=\"Дерево-решений-2.1.1\"><span class=\"toc-item-num\">2.1.1&nbsp;&nbsp;</span>Дерево решений</a></span></li><li><span><a href=\"#CatBoost-Classifier\" data-toc-modified-id=\"CatBoost-Classifier-2.1.2\"><span class=\"toc-item-num\">2.1.2&nbsp;&nbsp;</span>CatBoost Classifier</a></span></li><li><span><a href=\"#Логистическая-регрессия\" data-toc-modified-id=\"Логистическая-регрессия-2.1.3\"><span class=\"toc-item-num\">2.1.3&nbsp;&nbsp;</span>Логистическая регрессия</a></span></li></ul></li><li><span><a href=\"#TF-IDF\" data-toc-modified-id=\"TF-IDF-2.2\"><span class=\"toc-item-num\">2.2&nbsp;&nbsp;</span>TF-IDF</a></span><ul class=\"toc-item\"><li><span><a href=\"#Дерево-решений\" data-toc-modified-id=\"Дерево-решений-2.2.1\"><span class=\"toc-item-num\">2.2.1&nbsp;&nbsp;</span>Дерево решений</a></span></li><li><span><a href=\"#CatBoost-Classifier\" data-toc-modified-id=\"CatBoost-Classifier-2.2.2\"><span class=\"toc-item-num\">2.2.2&nbsp;&nbsp;</span>CatBoost Classifier</a></span></li><li><span><a href=\"#Логистическая-регрессия\" data-toc-modified-id=\"Логистическая-регрессия-2.2.3\"><span class=\"toc-item-num\">2.2.3&nbsp;&nbsp;</span>Логистическая регрессия</a></span></li><li><span><a href=\"#Промежуточный-вывод\" data-toc-modified-id=\"Промежуточный-вывод-2.2.4\"><span class=\"toc-item-num\">2.2.4&nbsp;&nbsp;</span>Промежуточный вывод</a></span></li></ul></li><li><span><a href=\"#BERT\" data-toc-modified-id=\"BERT-2.3\"><span class=\"toc-item-num\">2.3&nbsp;&nbsp;</span>BERT</a></span><ul class=\"toc-item\"><li><span><a href=\"#Дерево-решений\" data-toc-modified-id=\"Дерево-решений-2.3.1\"><span class=\"toc-item-num\">2.3.1&nbsp;&nbsp;</span>Дерево решений</a></span></li><li><span><a href=\"#CatBoost-Classifier\" data-toc-modified-id=\"CatBoost-Classifier-2.3.2\"><span class=\"toc-item-num\">2.3.2&nbsp;&nbsp;</span>CatBoost Classifier</a></span></li><li><span><a href=\"#Логистическая-регрессия\" data-toc-modified-id=\"Логистическая-регрессия-2.3.3\"><span class=\"toc-item-num\">2.3.3&nbsp;&nbsp;</span>Логистическая регрессия</a></span></li></ul></li></ul></li><li><span><a href=\"#Выводы\" data-toc-modified-id=\"Выводы-3\"><span class=\"toc-item-num\">3&nbsp;&nbsp;</span>Выводы</a></span></li><li><span><a href=\"#Чек-лист-проверки\" data-toc-modified-id=\"Чек-лист-проверки-4\"><span class=\"toc-item-num\">4&nbsp;&nbsp;</span>Чек-лист проверки</a></span></li></ul></div>"
   ]
  },
  {
   "cell_type": "markdown",
   "metadata": {},
   "source": [
    "# Анализ токсичных комментариев c BERT"
   ]
  },
  {
   "cell_type": "markdown",
   "metadata": {},
   "source": [
    "Интернет-магазин запускает новый сервис. Теперь пользователи могут редактировать и дополнять описания товаров, как в вики-сообществах. То есть клиенты предлагают свои правки и комментируют изменения других. Магазину нужен инструмент, который будет искать токсичные комментарии и отправлять их на модерацию. \n",
    "\n",
    "Нужно обучить модель классифицировать комментарии на позитивные и негативные. В нашем распоряжении набор данных с разметкой о токсичности правок."
   ]
  },
  {
   "cell_type": "markdown",
   "metadata": {},
   "source": [
    "## Подготовка"
   ]
  },
  {
   "cell_type": "markdown",
   "metadata": {},
   "source": [
    "### Импортируем библиотеки"
   ]
  },
  {
   "cell_type": "code",
   "execution_count": 1,
   "metadata": {
    "scrolled": true
   },
   "outputs": [
    {
     "name": "stderr",
     "output_type": "stream",
     "text": [
      "[nltk_data] Downloading package stopwords to /home/jovyan/nltk_data...\n",
      "[nltk_data]   Package stopwords is already up-to-date!\n",
      "[nltk_data] Downloading package wordnet to /home/jovyan/nltk_data...\n",
      "[nltk_data]   Package wordnet is already up-to-date!\n",
      "[nltk_data] Downloading package punkt to /home/jovyan/nltk_data...\n",
      "[nltk_data]   Package punkt is already up-to-date!\n",
      "[nltk_data] Downloading package averaged_perceptron_tagger to\n",
      "[nltk_data]     /home/jovyan/nltk_data...\n",
      "[nltk_data]   Package averaged_perceptron_tagger is already up-to-\n",
      "[nltk_data]       date!\n"
     ]
    }
   ],
   "source": [
    "import pandas as pd\n",
    "import numpy as np\n",
    "import os\n",
    "import re\n",
    "import torch\n",
    "import transformers\n",
    "import matplotlib.pyplot as plt\n",
    "\n",
    "from sklearn.feature_extraction.text import CountVectorizer, TfidfVectorizer\n",
    "from tqdm import notebook\n",
    "from tqdm.notebook import tqdm\n",
    "from sklearn.linear_model import LogisticRegression\n",
    "from sklearn.tree import DecisionTreeClassifier\n",
    "from lightgbm import LGBMClassifier\n",
    "from catboost import CatBoostClassifier\n",
    "from sklearn.pipeline import Pipeline\n",
    "from sklearn.model_selection import train_test_split, cross_val_score\n",
    "from sklearn.metrics import f1_score\n",
    "\n",
    "import nltk\n",
    "from nltk.stem import WordNetLemmatizer\n",
    "from nltk.corpus import stopwords as nltk_stopwords\n",
    "from nltk.corpus import wordnet\n",
    "nltk.download('stopwords')\n",
    "nltk.download('wordnet')\n",
    "nltk.download('punkt')\n",
    "nltk.download('averaged_perceptron_tagger')\n",
    "\n",
    "import warnings\n",
    "\n",
    "warnings.filterwarnings(\"ignore\")\n",
    "state = np.random.RandomState(12345)"
   ]
  },
  {
   "cell_type": "markdown",
   "metadata": {},
   "source": [
    "### Загружаем датасет"
   ]
  },
  {
   "cell_type": "code",
   "execution_count": 2,
   "metadata": {},
   "outputs": [],
   "source": [
    "path1 = 'toxic_comments.csv'\n",
    "path2 = '/datasets/toxic_comments.csv'\n",
    "\n",
    "def read_file(path1, path2):\n",
    "    if os.path.exists(path1):\n",
    "        df = pd.read_csv(path1, parse_dates = [0])\n",
    "    elif os.path.exists(path2):\n",
    "        df = pd.read_csv(path2, parse_dates = [0])\n",
    "    else:\n",
    "        print('File not found')\n",
    "    return df\n",
    "\n",
    "df = read_file(path1, path2)"
   ]
  },
  {
   "cell_type": "code",
   "execution_count": 3,
   "metadata": {},
   "outputs": [
    {
     "name": "stdout",
     "output_type": "stream",
     "text": [
      "<class 'pandas.core.frame.DataFrame'>\n",
      "RangeIndex: 159292 entries, 0 to 159291\n",
      "Data columns (total 3 columns):\n",
      " #   Column      Non-Null Count   Dtype \n",
      "---  ------      --------------   ----- \n",
      " 0   Unnamed: 0  159292 non-null  object\n",
      " 1   text        159292 non-null  object\n",
      " 2   toxic       159292 non-null  int64 \n",
      "dtypes: int64(1), object(2)\n",
      "memory usage: 3.6+ MB\n"
     ]
    },
    {
     "data": {
      "text/html": [
       "<div>\n",
       "<style scoped>\n",
       "    .dataframe tbody tr th:only-of-type {\n",
       "        vertical-align: middle;\n",
       "    }\n",
       "\n",
       "    .dataframe tbody tr th {\n",
       "        vertical-align: top;\n",
       "    }\n",
       "\n",
       "    .dataframe thead th {\n",
       "        text-align: right;\n",
       "    }\n",
       "</style>\n",
       "<table border=\"1\" class=\"dataframe\">\n",
       "  <thead>\n",
       "    <tr style=\"text-align: right;\">\n",
       "      <th></th>\n",
       "      <th>Unnamed: 0</th>\n",
       "      <th>text</th>\n",
       "      <th>toxic</th>\n",
       "    </tr>\n",
       "  </thead>\n",
       "  <tbody>\n",
       "    <tr>\n",
       "      <th>0</th>\n",
       "      <td>0</td>\n",
       "      <td>Explanation\\nWhy the edits made under my usern...</td>\n",
       "      <td>0</td>\n",
       "    </tr>\n",
       "    <tr>\n",
       "      <th>1</th>\n",
       "      <td>1</td>\n",
       "      <td>D'aww! He matches this background colour I'm s...</td>\n",
       "      <td>0</td>\n",
       "    </tr>\n",
       "    <tr>\n",
       "      <th>2</th>\n",
       "      <td>2</td>\n",
       "      <td>Hey man, I'm really not trying to edit war. It...</td>\n",
       "      <td>0</td>\n",
       "    </tr>\n",
       "    <tr>\n",
       "      <th>3</th>\n",
       "      <td>3</td>\n",
       "      <td>\"\\nMore\\nI can't make any real suggestions on ...</td>\n",
       "      <td>0</td>\n",
       "    </tr>\n",
       "    <tr>\n",
       "      <th>4</th>\n",
       "      <td>4</td>\n",
       "      <td>You, sir, are my hero. Any chance you remember...</td>\n",
       "      <td>0</td>\n",
       "    </tr>\n",
       "  </tbody>\n",
       "</table>\n",
       "</div>"
      ],
      "text/plain": [
       "  Unnamed: 0                                               text  toxic\n",
       "0          0  Explanation\\nWhy the edits made under my usern...      0\n",
       "1          1  D'aww! He matches this background colour I'm s...      0\n",
       "2          2  Hey man, I'm really not trying to edit war. It...      0\n",
       "3          3  \"\\nMore\\nI can't make any real suggestions on ...      0\n",
       "4          4  You, sir, are my hero. Any chance you remember...      0"
      ]
     },
     "execution_count": 3,
     "metadata": {},
     "output_type": "execute_result"
    }
   ],
   "source": [
    "df.info()\n",
    "df.head()"
   ]
  },
  {
   "cell_type": "markdown",
   "metadata": {},
   "source": [
    "Удалим столбец, повторяющий индексы."
   ]
  },
  {
   "cell_type": "code",
   "execution_count": 4,
   "metadata": {},
   "outputs": [],
   "source": [
    "df = df.drop('Unnamed: 0', axis=1)"
   ]
  },
  {
   "cell_type": "markdown",
   "metadata": {},
   "source": [
    "### Баланс классов"
   ]
  },
  {
   "cell_type": "code",
   "execution_count": 5,
   "metadata": {},
   "outputs": [
    {
     "name": "stdout",
     "output_type": "stream",
     "text": [
      "0    143106\n",
      "1     16186\n",
      "Name: toxic, dtype: int64\n"
     ]
    },
    {
     "data": {
      "image/png": "[encoded data removed]",
      "text/plain": [
       "<Figure size 720x432 with 1 Axes>"
      ]
     },
     "metadata": {},
     "output_type": "display_data"
    }
   ],
   "source": [
    "print(df['toxic'].value_counts())\n",
    "plt.figure(figsize=(10,6))\n",
    "plt.pie(df['toxic'].value_counts(), labels=['normal', 'toxic'], autopct='%.0f%%')\n",
    "plt.title('Баланс классов')\n",
    "plt.show()"
   ]
  },
  {
   "cell_type": "markdown",
   "metadata": {},
   "source": [
    "Видим большой дисбаланс классов. Однако, нам это не помешает, т.к. в логистической регрессии можно указать соответствующий параметр class_weight, а на разделение в деревянных моделях это почти не повлияет."
   ]
  },
  {
   "cell_type": "markdown",
   "metadata": {},
   "source": [
    "### Очистка текста\n",
    "\n",
    "При помощи регулярных выражений, напишем функцию, которая оставит в тексте только латинские символы и пробелы."
   ]
  },
  {
   "cell_type": "code",
   "execution_count": 6,
   "metadata": {},
   "outputs": [],
   "source": [
    "def clear_text(text):\n",
    "    clear = re.sub(r'[^a-zA-Z ] ', ' ', text.lower())\n",
    "    clear = clear.split()\n",
    "    clear = ' '.join(clear)\n",
    "    return clear\n",
    "\n",
    "df['text'] = df['text'].apply(clear_text)"
   ]
  },
  {
   "cell_type": "markdown",
   "metadata": {},
   "source": [
    "### Лемматизация\n",
    "\n",
    "Выполним лемматизацию английского текста при помощи WordNetLemmatizer."
   ]
  },
  {
   "cell_type": "code",
   "execution_count": 7,
   "metadata": {},
   "outputs": [],
   "source": [
    " def get_wordnet_pos(word):\n",
    "     tag = nltk.pos_tag([word])[0][1][0].upper()\n",
    "     tag_dict = {\"J\": wordnet.ADJ,\n",
    "                 \"N\": wordnet.NOUN,\n",
    "                 \"V\": wordnet.VERB,\n",
    "                 \"R\": wordnet.ADV}\n",
    "     return tag_dict.get(tag, wordnet.NOUN)"
   ]
  },
  {
   "cell_type": "code",
   "execution_count": 8,
   "metadata": {},
   "outputs": [
    {
     "data": {
      "application/vnd.jupyter.widget-view+json": {
       "model_id": "2611795bc9414ff796846b3cd846705d",
       "version_major": 2,
       "version_minor": 0
      },
      "text/plain": [
       "  0%|          | 0/159292 [00:00<?, ?it/s]"
      ]
     },
     "metadata": {},
     "output_type": "display_data"
    }
   ],
   "source": [
    "tqdm.pandas()\n",
    "\n",
    "stopwords = set(nltk_stopwords.words('english'))\n",
    "\n",
    "def lemmatize(text):  \n",
    "    lemmatizer = WordNetLemmatizer()\n",
    "    word_list = nltk.word_tokenize(text)\n",
    "    lemm_text = ' '.join([lemmatizer.lemmatize(w, get_wordnet_pos(w)) for w in word_list if w not in stopwords])\n",
    "    return lemm_text\n",
    "\n",
    "df['lemm_text'] = df['text'].progress_apply(lemmatize)"
   ]
  },
  {
   "cell_type": "code",
   "execution_count": 9,
   "metadata": {},
   "outputs": [
    {
     "data": {
      "text/html": [
       "<div>\n",
       "<style scoped>\n",
       "    .dataframe tbody tr th:only-of-type {\n",
       "        vertical-align: middle;\n",
       "    }\n",
       "\n",
       "    .dataframe tbody tr th {\n",
       "        vertical-align: top;\n",
       "    }\n",
       "\n",
       "    .dataframe thead th {\n",
       "        text-align: right;\n",
       "    }\n",
       "</style>\n",
       "<table border=\"1\" class=\"dataframe\">\n",
       "  <thead>\n",
       "    <tr style=\"text-align: right;\">\n",
       "      <th></th>\n",
       "      <th>text</th>\n",
       "      <th>toxic</th>\n",
       "      <th>lemm_text</th>\n",
       "    </tr>\n",
       "  </thead>\n",
       "  <tbody>\n",
       "    <tr>\n",
       "      <th>0</th>\n",
       "      <td>explanation why the edits made under my userna...</td>\n",
       "      <td>0</td>\n",
       "      <td>explanation edits make username hardcore metal...</td>\n",
       "    </tr>\n",
       "    <tr>\n",
       "      <th>1</th>\n",
       "      <td>d'aww he matches this background colour i'm se...</td>\n",
       "      <td>0</td>\n",
       "      <td>d'aww match background colour 'm seemingly stu...</td>\n",
       "    </tr>\n",
       "    <tr>\n",
       "      <th>2</th>\n",
       "      <td>hey man i'm really not trying to edit war it's...</td>\n",
       "      <td>0</td>\n",
       "      <td>hey man 'm really try edit war 's guy constant...</td>\n",
       "    </tr>\n",
       "    <tr>\n",
       "      <th>3</th>\n",
       "      <td>\" more i can't make any real suggestions on im...</td>\n",
       "      <td>0</td>\n",
       "      <td>`` ca n't make real suggestion improvement won...</td>\n",
       "    </tr>\n",
       "    <tr>\n",
       "      <th>4</th>\n",
       "      <td>you sir are my hero any chance you remember wh...</td>\n",
       "      <td>0</td>\n",
       "      <td>sir hero chance remember page 's ?</td>\n",
       "    </tr>\n",
       "  </tbody>\n",
       "</table>\n",
       "</div>"
      ],
      "text/plain": [
       "                                                text  toxic  \\\n",
       "0  explanation why the edits made under my userna...      0   \n",
       "1  d'aww he matches this background colour i'm se...      0   \n",
       "2  hey man i'm really not trying to edit war it's...      0   \n",
       "3  \" more i can't make any real suggestions on im...      0   \n",
       "4  you sir are my hero any chance you remember wh...      0   \n",
       "\n",
       "                                           lemm_text  \n",
       "0  explanation edits make username hardcore metal...  \n",
       "1  d'aww match background colour 'm seemingly stu...  \n",
       "2  hey man 'm really try edit war 's guy constant...  \n",
       "3  `` ca n't make real suggestion improvement won...  \n",
       "4                 sir hero chance remember page 's ?  "
      ]
     },
     "execution_count": 9,
     "metadata": {},
     "output_type": "execute_result"
    }
   ],
   "source": [
    "df.head()"
   ]
  },
  {
   "cell_type": "markdown",
   "metadata": {},
   "source": [
    "### Промежуточный вывод\n",
    "\n",
    "- данные загружены и изучены\n",
    "- проанализирован дисбаланс классов\n",
    "- выполнены очистка и лемматизация текста."
   ]
  },
  {
   "cell_type": "markdown",
   "metadata": {},
   "source": [
    "## Обучение"
   ]
  },
  {
   "cell_type": "markdown",
   "metadata": {},
   "source": [
    "Разделим данные на тренировочную и тестовую выборки"
   ]
  },
  {
   "cell_type": "code",
   "execution_count": 10,
   "metadata": {},
   "outputs": [],
   "source": [
    "features = df['lemm_text']\n",
    "target = df['toxic']\n",
    "\n",
    "features_train, features_test, target_train, target_test = train_test_split(features, target, test_size=0.1, \\\n",
    "                                                                           random_state = state)"
   ]
  },
  {
   "cell_type": "code",
   "execution_count": 11,
   "metadata": {},
   "outputs": [
    {
     "name": "stdout",
     "output_type": "stream",
     "text": [
      "(143362,)\n",
      "(143362,)\n",
      "(15930,)\n",
      "(15930,)\n"
     ]
    }
   ],
   "source": [
    "print(features_train.shape)\n",
    "print(target_train.shape)\n",
    "print(features_test.shape)\n",
    "print(target_test.shape)"
   ]
  },
  {
   "cell_type": "markdown",
   "metadata": {},
   "source": [
    "### TF-IDF"
   ]
  },
  {
   "cell_type": "code",
   "execution_count": 17,
   "metadata": {},
   "outputs": [],
   "source": [
    "stopwords = set(nltk_stopwords.words('english'))"
   ]
  },
  {
   "cell_type": "code",
   "execution_count": 18,
   "metadata": {},
   "outputs": [],
   "source": [
    "count_tf_idf = TfidfVectorizer(stop_words=stopwords)\n",
    "tf_idf_train = count_tf_idf.fit_transform(features_train)\n",
    "tf_idf_test = count_tf_idf.transform(features_test)"
   ]
  },
  {
   "cell_type": "code",
   "execution_count": 19,
   "metadata": {},
   "outputs": [],
   "source": [
    "print(tf_idf_train.shape)"
   ]
  },
  {
   "cell_type": "markdown",
   "metadata": {},
   "source": [
    "#### Дерево решений"
   ]
  },
  {
   "cell_type": "code",
   "execution_count": 20,
   "metadata": {},
   "outputs": [],
   "source": [
    "pipe_tree_tfidf = Pipeline([\n",
    "    ('tfidf', TfidfVectorizer(stop_words=stopwords)),\n",
    "    ('tree', DecisionTreeClassifier(max_depth = 6, min_samples_leaf = 10,\\\n",
    "                                    min_samples_split = 2, random_state = state))\n",
    "])"
   ]
  },
  {
   "cell_type": "code",
   "execution_count": 21,
   "metadata": {
    "scrolled": true
   },
   "outputs": [
    {
     "name": "stderr",
     "output_type": "stream",
     "text": [
      "[Parallel(n_jobs=-1)]: Using backend SequentialBackend with 1 concurrent workers.\n"
     ]
    },
    {
     "name": "stdout",
     "output_type": "stream",
     "text": [
      "[CV] END ................................ score: (test=0.554) total time=   7.7s\n"
     ]
    },
    {
     "name": "stderr",
     "output_type": "stream",
     "text": [
      "[Parallel(n_jobs=-1)]: Done   1 out of   1 | elapsed:    7.7s remaining:    0.0s\n"
     ]
    },
    {
     "name": "stdout",
     "output_type": "stream",
     "text": [
      "[CV] END ................................ score: (test=0.546) total time=   8.1s\n"
     ]
    },
    {
     "name": "stderr",
     "output_type": "stream",
     "text": [
      "[Parallel(n_jobs=-1)]: Done   2 out of   2 | elapsed:   15.8s remaining:    0.0s\n"
     ]
    },
    {
     "name": "stdout",
     "output_type": "stream",
     "text": [
      "[CV] END ................................ score: (test=0.564) total time=   8.0s\n"
     ]
    },
    {
     "name": "stderr",
     "output_type": "stream",
     "text": [
      "[Parallel(n_jobs=-1)]: Done   3 out of   3 | elapsed:   23.8s remaining:    0.0s\n"
     ]
    },
    {
     "name": "stdout",
     "output_type": "stream",
     "text": [
      "[CV] END ................................ score: (test=0.556) total time=   7.8s\n",
      "[CV] END ................................ score: (test=0.543) total time=   7.7s\n",
      "F1 решающего дерева 0.5524398977420499\n",
      "CPU times: user 38.7 s, sys: 534 ms, total: 39.3 s\n",
      "Wall time: 39.3 s\n"
     ]
    },
    {
     "name": "stderr",
     "output_type": "stream",
     "text": [
      "[Parallel(n_jobs=-1)]: Done   5 out of   5 | elapsed:   39.3s finished\n"
     ]
    }
   ],
   "source": [
    "%%time\n",
    "\n",
    "tree_tfidf_res = cross_val_score(pipe_tree_tfidf, features_train, target_train,\\\n",
    "                                 scoring = 'f1', cv = 5, n_jobs = -1, verbose = 4).mean()\n",
    "print('F1 решающего дерева', tree_tfidf_res)"
   ]
  },
  {
   "cell_type": "markdown",
   "metadata": {},
   "source": [
    "#### CatBoost Classifier"
   ]
  },
  {
   "cell_type": "code",
   "execution_count": 22,
   "metadata": {},
   "outputs": [],
   "source": [
    "pipe_cb_tfidf = Pipeline([\n",
    "    ('tfidf', TfidfVectorizer(stop_words=stopwords)),\n",
    "    ('cb', CatBoostClassifier(n_estimators = 50, depth = 6, learning_rate = 0.01, logging_level='Silent',\\\n",
    "                              custom_metric = 'F1'))\n",
    "])"
   ]
  },
  {
   "cell_type": "code",
   "execution_count": 23,
   "metadata": {},
   "outputs": [
    {
     "name": "stderr",
     "output_type": "stream",
     "text": [
      "[Parallel(n_jobs=-1)]: Using backend SequentialBackend with 1 concurrent workers.\n"
     ]
    },
    {
     "name": "stdout",
     "output_type": "stream",
     "text": [
      "[CV] END ................................ score: (test=0.474) total time= 2.6min\n"
     ]
    },
    {
     "name": "stderr",
     "output_type": "stream",
     "text": [
      "[Parallel(n_jobs=-1)]: Done   1 out of   1 | elapsed:  2.6min remaining:    0.0s\n"
     ]
    },
    {
     "name": "stdout",
     "output_type": "stream",
     "text": [
      "[CV] END ................................ score: (test=0.475) total time= 2.6min\n"
     ]
    },
    {
     "name": "stderr",
     "output_type": "stream",
     "text": [
      "[Parallel(n_jobs=-1)]: Done   2 out of   2 | elapsed:  5.2min remaining:    0.0s\n"
     ]
    },
    {
     "name": "stdout",
     "output_type": "stream",
     "text": [
      "[CV] END ................................ score: (test=0.484) total time= 2.6min\n"
     ]
    },
    {
     "name": "stderr",
     "output_type": "stream",
     "text": [
      "[Parallel(n_jobs=-1)]: Done   3 out of   3 | elapsed:  7.8min remaining:    0.0s\n"
     ]
    },
    {
     "name": "stdout",
     "output_type": "stream",
     "text": [
      "[CV] END ................................ score: (test=0.473) total time= 2.6min\n",
      "[CV] END ................................ score: (test=0.469) total time= 2.6min\n",
      "F1 CatBoost Classifier: 0.47508125210144314\n",
      "CPU times: user 12min 45s, sys: 9.46 s, total: 12min 55s\n",
      "Wall time: 12min 59s\n"
     ]
    },
    {
     "name": "stderr",
     "output_type": "stream",
     "text": [
      "[Parallel(n_jobs=-1)]: Done   5 out of   5 | elapsed: 13.0min finished\n"
     ]
    }
   ],
   "source": [
    "%%time\n",
    "\n",
    "cb_tfidf_res = cross_val_score(pipe_cb_tfidf, features_train, target_train,\\\n",
    "                               scoring = 'f1', cv = 5, n_jobs = -1, verbose = 4).mean()\n",
    "print('F1 CatBoost Classifier:', cb_tfidf_res)"
   ]
  },
  {
   "cell_type": "markdown",
   "metadata": {},
   "source": [
    "#### Логистическая регрессия"
   ]
  },
  {
   "cell_type": "code",
   "execution_count": 24,
   "metadata": {},
   "outputs": [],
   "source": [
    "pipe_lr_tfidf = Pipeline([\n",
    "    ('tfidf', TfidfVectorizer(stop_words=stopwords)),\n",
    "    ('cb', LogisticRegression(solver = 'lbfgs', C = 10, class_weight = 'balanced',\\\n",
    "                              max_iter = 100, random_state = state))\n",
    "])"
   ]
  },
  {
   "cell_type": "code",
   "execution_count": 25,
   "metadata": {},
   "outputs": [
    {
     "name": "stderr",
     "output_type": "stream",
     "text": [
      "[Parallel(n_jobs=-1)]: Using backend SequentialBackend with 1 concurrent workers.\n"
     ]
    },
    {
     "name": "stdout",
     "output_type": "stream",
     "text": [
      "[CV] END ................................ score: (test=0.763) total time=  55.6s\n"
     ]
    },
    {
     "name": "stderr",
     "output_type": "stream",
     "text": [
      "[Parallel(n_jobs=-1)]: Done   1 out of   1 | elapsed:   55.6s remaining:    0.0s\n"
     ]
    },
    {
     "name": "stdout",
     "output_type": "stream",
     "text": [
      "[CV] END ................................ score: (test=0.753) total time=  55.6s\n"
     ]
    },
    {
     "name": "stderr",
     "output_type": "stream",
     "text": [
      "[Parallel(n_jobs=-1)]: Done   2 out of   2 | elapsed:  1.9min remaining:    0.0s\n"
     ]
    },
    {
     "name": "stdout",
     "output_type": "stream",
     "text": [
      "[CV] END ................................ score: (test=0.749) total time=  53.7s\n"
     ]
    },
    {
     "name": "stderr",
     "output_type": "stream",
     "text": [
      "[Parallel(n_jobs=-1)]: Done   3 out of   3 | elapsed:  2.8min remaining:    0.0s\n"
     ]
    },
    {
     "name": "stdout",
     "output_type": "stream",
     "text": [
      "[CV] END ................................ score: (test=0.758) total time=  56.0s\n",
      "[CV] END ................................ score: (test=0.760) total time=  54.1s\n",
      "F1 Логистической регрессии: 0.7566750724278505\n",
      "CPU times: user 1min 41s, sys: 2min 53s, total: 4min 34s\n",
      "Wall time: 4min 35s\n"
     ]
    },
    {
     "name": "stderr",
     "output_type": "stream",
     "text": [
      "[Parallel(n_jobs=-1)]: Done   5 out of   5 | elapsed:  4.6min finished\n"
     ]
    }
   ],
   "source": [
    "%%time\n",
    "\n",
    "lr_tfidf_res = cross_val_score(pipe_lr_tfidf, features_train, target_train,\\\n",
    "                               scoring = 'f1', cv = 5, n_jobs = -1, verbose = 4).mean()\n",
    "print('F1 Логистической регрессии:', lr_tfidf_res)"
   ]
  },
  {
   "cell_type": "markdown",
   "metadata": {},
   "source": [
    "#### Промежуточный вывод"
   ]
  },
  {
   "cell_type": "markdown",
   "metadata": {},
   "source": [
    "После кросс-валидации, необходимый порог целевой метрики показала логистическая регрессия."
   ]
  },
  {
   "cell_type": "markdown",
   "metadata": {},
   "source": [
    "### BERT"
   ]
  },
  {
   "cell_type": "markdown",
   "metadata": {},
   "source": [
    "Возьмем модель для английского языка toxic-bert."
   ]
  },
  {
   "cell_type": "code",
   "execution_count": 26,
   "metadata": {},
   "outputs": [],
   "source": [
    "# ограничим выборку 700 сэмплов\n",
    "df_bert = read_file(path1, path2)\n",
    "df_bert = df.sample(700).reset_index(drop=True)"
   ]
  },
  {
   "cell_type": "code",
   "execution_count": 27,
   "metadata": {},
   "outputs": [
    {
     "name": "stderr",
     "output_type": "stream",
     "text": [
      "Some weights of the model checkpoint at unitary/toxic-bert were not used when initializing BertModel: ['classifier.weight', 'classifier.bias']\n",
      "- This IS expected if you are initializing BertModel from the checkpoint of a model trained on another task or with another architecture (e.g. initializing a BertForSequenceClassification model from a BertForPreTraining model).\n",
      "- This IS NOT expected if you are initializing BertModel from the checkpoint of a model that you expect to be exactly identical (initializing a BertForSequenceClassification model from a BertForSequenceClassification model).\n"
     ]
    }
   ],
   "source": [
    "tokenizer = transformers.BertTokenizer.from_pretrained('unitary/toxic-bert')\n",
    "config = transformers.BertConfig.from_pretrained('unitary/toxic-bert')\n",
    "model = transformers.BertModel.from_pretrained('unitary/toxic-bert', config=config)"
   ]
  },
  {
   "cell_type": "code",
   "execution_count": 28,
   "metadata": {},
   "outputs": [],
   "source": [
    "tokenized = df_bert['text'].apply(\n",
    "    lambda x: tokenizer.encode(x, max_length = 512, truncation=True, add_special_tokens=True))\n",
    "\n",
    "max_len = 0\n",
    "for i in tokenized.values:\n",
    "    if len(i) > max_len:\n",
    "        max_len = len(i)\n",
    "\n",
    "padded = np.array([i + [0]*(max_len - len(i)) for i in tokenized.values])\n",
    "\n",
    "attention_mask = np.where(padded != 0, 1, 0)"
   ]
  },
  {
   "cell_type": "code",
   "execution_count": 29,
   "metadata": {},
   "outputs": [
    {
     "data": {
      "application/vnd.jupyter.widget-view+json": {
       "model_id": "a8cb56bfadff4f54aa3bfa96c8a360fa",
       "version_major": 2,
       "version_minor": 0
      },
      "text/plain": [
       "  0%|          | 0/140 [00:00<?, ?it/s]"
      ]
     },
     "metadata": {},
     "output_type": "display_data"
    }
   ],
   "source": [
    "batch_size = 5\n",
    "embeddings = []\n",
    "for i in notebook.tqdm(range(padded.shape[0] // batch_size)):\n",
    "        batch = torch.LongTensor(padded[batch_size*i:batch_size*(i+1)]) \n",
    "        attention_mask_batch = torch.LongTensor(attention_mask[batch_size*i:batch_size*(i+1)])\n",
    "        \n",
    "        with torch.no_grad():\n",
    "            batch_embeddings = model(batch, attention_mask=attention_mask_batch)\n",
    "        \n",
    "        embeddings.append(batch_embeddings[0][:,0,:].numpy())"
   ]
  },
  {
   "cell_type": "code",
   "execution_count": 30,
   "metadata": {},
   "outputs": [],
   "source": [
    "features_bert = np.concatenate(embeddings)\n",
    "target_bert = df_bert['toxic']\n",
    "\n",
    "features_bert_train, features_bert_test, target_bert_train, target_bert_test = train_test_split(\n",
    "features_bert, target_bert, test_size=0.1, random_state = state)"
   ]
  },
  {
   "cell_type": "markdown",
   "metadata": {},
   "source": [
    "#### Дерево решений"
   ]
  },
  {
   "cell_type": "code",
   "execution_count": 35,
   "metadata": {},
   "outputs": [
    {
     "name": "stderr",
     "output_type": "stream",
     "text": [
      "[Parallel(n_jobs=-1)]: Using backend SequentialBackend with 1 concurrent workers.\n",
      "[Parallel(n_jobs=-1)]: Done   1 out of   1 | elapsed:    0.1s remaining:    0.0s\n",
      "[Parallel(n_jobs=-1)]: Done   2 out of   2 | elapsed:    0.1s remaining:    0.0s\n",
      "[Parallel(n_jobs=-1)]: Done   3 out of   3 | elapsed:    0.2s remaining:    0.0s\n"
     ]
    },
    {
     "name": "stdout",
     "output_type": "stream",
     "text": [
      "[CV] END ................................ score: (test=0.897) total time=   0.1s\n",
      "[CV] END ................................ score: (test=0.963) total time=   0.0s\n",
      "[CV] END ................................ score: (test=1.000) total time=   0.1s\n",
      "[CV] END ................................ score: (test=0.867) total time=   0.1s\n",
      "[CV] END ................................ score: (test=0.929) total time=   0.1s\n",
      "F1 решающего дерева: 0.9309505564677979\n",
      "CPU times: user 317 ms, sys: 5.75 ms, total: 323 ms\n",
      "Wall time: 329 ms\n"
     ]
    },
    {
     "name": "stderr",
     "output_type": "stream",
     "text": [
      "[Parallel(n_jobs=-1)]: Done   5 out of   5 | elapsed:    0.3s finished\n"
     ]
    }
   ],
   "source": [
    "%%time\n",
    "\n",
    "model_tree_bert = DecisionTreeClassifier(max_depth = 6, min_samples_leaf = 10,\\\n",
    "                                    min_samples_split = 2, random_state = state)\n",
    "tree_bert_res = cross_val_score(model_tree_bert, features_bert_train, target_bert_train,\\\n",
    "                                scoring = 'f1', cv = 5, n_jobs = -1, verbose = 4).mean()\n",
    "print('F1 решающего дерева:', tree_bert_res)"
   ]
  },
  {
   "cell_type": "markdown",
   "metadata": {},
   "source": [
    "#### CatBoost Classifier"
   ]
  },
  {
   "cell_type": "code",
   "execution_count": 37,
   "metadata": {
    "scrolled": true
   },
   "outputs": [
    {
     "name": "stderr",
     "output_type": "stream",
     "text": [
      "[Parallel(n_jobs=-1)]: Using backend SequentialBackend with 1 concurrent workers.\n"
     ]
    },
    {
     "name": "stdout",
     "output_type": "stream",
     "text": [
      "[CV] END ................................ score: (test=0.889) total time=  10.8s\n"
     ]
    },
    {
     "name": "stderr",
     "output_type": "stream",
     "text": [
      "[Parallel(n_jobs=-1)]: Done   1 out of   1 | elapsed:   10.8s remaining:    0.0s\n"
     ]
    },
    {
     "name": "stdout",
     "output_type": "stream",
     "text": [
      "[CV] END ................................ score: (test=0.963) total time=  11.2s\n"
     ]
    },
    {
     "name": "stderr",
     "output_type": "stream",
     "text": [
      "[Parallel(n_jobs=-1)]: Done   2 out of   2 | elapsed:   21.9s remaining:    0.0s\n"
     ]
    },
    {
     "name": "stdout",
     "output_type": "stream",
     "text": [
      "[CV] END ................................ score: (test=0.963) total time=  10.8s\n"
     ]
    },
    {
     "name": "stderr",
     "output_type": "stream",
     "text": [
      "[Parallel(n_jobs=-1)]: Done   3 out of   3 | elapsed:   32.7s remaining:    0.0s\n"
     ]
    },
    {
     "name": "stdout",
     "output_type": "stream",
     "text": [
      "[CV] END ................................ score: (test=0.963) total time=  11.1s\n",
      "[CV] END ................................ score: (test=0.966) total time=  11.2s\n",
      "F1 CatBoost Classifier: 0.9486590038314177\n",
      "CPU times: user 51.5 s, sys: 1.1 s, total: 52.6 s\n",
      "Wall time: 55 s\n"
     ]
    },
    {
     "name": "stderr",
     "output_type": "stream",
     "text": [
      "[Parallel(n_jobs=-1)]: Done   5 out of   5 | elapsed:   55.0s finished\n"
     ]
    }
   ],
   "source": [
    "%%time\n",
    "\n",
    "model_cb_bert = CatBoostClassifier(n_estimators = 50, depth = 6, learning_rate = 0.01,\\\n",
    "                                   logging_level='Silent', custom_metric = 'F1')\n",
    "cb_bert_res = cross_val_score(model_cb_bert, features_bert_train, target_bert_train,\\\n",
    "                              scoring = 'f1', cv = 5, n_jobs = -1, verbose = 4).mean()\n",
    "print('F1 CatBoost Classifier:', cb_bert_res)"
   ]
  },
  {
   "cell_type": "markdown",
   "metadata": {},
   "source": [
    "#### Логистическая регрессия"
   ]
  },
  {
   "cell_type": "code",
   "execution_count": 39,
   "metadata": {},
   "outputs": [
    {
     "name": "stderr",
     "output_type": "stream",
     "text": [
      "[Parallel(n_jobs=-1)]: Using backend SequentialBackend with 1 concurrent workers.\n"
     ]
    },
    {
     "name": "stdout",
     "output_type": "stream",
     "text": [
      "[CV] END ................................ score: (test=0.897) total time=   0.5s\n"
     ]
    },
    {
     "name": "stderr",
     "output_type": "stream",
     "text": [
      "[Parallel(n_jobs=-1)]: Done   1 out of   1 | elapsed:    0.5s remaining:    0.0s\n"
     ]
    },
    {
     "name": "stdout",
     "output_type": "stream",
     "text": [
      "[CV] END ................................ score: (test=0.966) total time=   0.8s\n"
     ]
    },
    {
     "name": "stderr",
     "output_type": "stream",
     "text": [
      "[Parallel(n_jobs=-1)]: Done   2 out of   2 | elapsed:    1.3s remaining:    0.0s\n"
     ]
    },
    {
     "name": "stdout",
     "output_type": "stream",
     "text": [
      "[CV] END ................................ score: (test=1.000) total time=   0.8s\n"
     ]
    },
    {
     "name": "stderr",
     "output_type": "stream",
     "text": [
      "[Parallel(n_jobs=-1)]: Done   3 out of   3 | elapsed:    2.1s remaining:    0.0s\n"
     ]
    },
    {
     "name": "stdout",
     "output_type": "stream",
     "text": [
      "[CV] END ................................ score: (test=0.963) total time=   0.7s\n",
      "[CV] END ................................ score: (test=0.966) total time=   0.8s\n",
      "F1 Логистической регрессии: 0.9581098339719031\n",
      "CPU times: user 1.29 s, sys: 2.37 s, total: 3.66 s\n",
      "Wall time: 3.6 s\n"
     ]
    },
    {
     "name": "stderr",
     "output_type": "stream",
     "text": [
      "[Parallel(n_jobs=-1)]: Done   5 out of   5 | elapsed:    3.6s finished\n"
     ]
    }
   ],
   "source": [
    "%%time\n",
    "\n",
    "model_lr_bert = LogisticRegression(solver = 'lbfgs', C = 10, class_weight = 'balanced',\\\n",
    "                                   max_iter = 100, random_state = state)\n",
    "lr_bert_res = cross_val_score(model_lr_bert, features_bert_train, target_bert_train,\\\n",
    "                              scoring = 'f1', cv = 5, n_jobs = -1, verbose = 4).mean()\n",
    "print('F1 Логистической регрессии:', lr_bert_res)"
   ]
  },
  {
   "cell_type": "markdown",
   "metadata": {},
   "source": [
    "## Выводы"
   ]
  },
  {
   "cell_type": "code",
   "execution_count": 40,
   "metadata": {},
   "outputs": [
    {
     "data": {
      "text/html": [
       "<div>\n",
       "<style scoped>\n",
       "    .dataframe tbody tr th:only-of-type {\n",
       "        vertical-align: middle;\n",
       "    }\n",
       "\n",
       "    .dataframe tbody tr th {\n",
       "        vertical-align: top;\n",
       "    }\n",
       "\n",
       "    .dataframe thead th {\n",
       "        text-align: right;\n",
       "    }\n",
       "</style>\n",
       "<table border=\"1\" class=\"dataframe\">\n",
       "  <thead>\n",
       "    <tr style=\"text-align: right;\">\n",
       "      <th></th>\n",
       "      <th>Модель</th>\n",
       "      <th>F1 на TF-IDF</th>\n",
       "      <th>F1 после BERT</th>\n",
       "    </tr>\n",
       "  </thead>\n",
       "  <tbody>\n",
       "    <tr>\n",
       "      <th>0</th>\n",
       "      <td>Decision Tree</td>\n",
       "      <td>0.552440</td>\n",
       "      <td>0.930951</td>\n",
       "    </tr>\n",
       "    <tr>\n",
       "      <th>1</th>\n",
       "      <td>CatBoost Classifier</td>\n",
       "      <td>0.475081</td>\n",
       "      <td>0.948659</td>\n",
       "    </tr>\n",
       "    <tr>\n",
       "      <th>2</th>\n",
       "      <td>Logistic Regression</td>\n",
       "      <td>0.756675</td>\n",
       "      <td>0.958110</td>\n",
       "    </tr>\n",
       "  </tbody>\n",
       "</table>\n",
       "</div>"
      ],
      "text/plain": [
       "                Модель  F1 на TF-IDF  F1 после BERT\n",
       "0        Decision Tree      0.552440       0.930951\n",
       "1  CatBoost Classifier      0.475081       0.948659\n",
       "2  Logistic Regression      0.756675       0.958110"
      ]
     },
     "metadata": {},
     "output_type": "display_data"
    }
   ],
   "source": [
    "results = pd.DataFrame({\n",
    "    'Модель':          ['Decision Tree', 'CatBoost Classifier', 'Logistic Regression'],\n",
    "    'F1 на TF-IDF':    [tree_tfidf_res, cb_tfidf_res, lr_tfidf_res],\n",
    "    'F1 после BERT':    [tree_bert_res, cb_bert_res, lr_bert_res]                      \n",
    "                          \n",
    "                      \n",
    "})\n",
    "display(results)"
   ]
  },
  {
   "cell_type": "markdown",
   "metadata": {},
   "source": [
    "Видим, что лучше всех показали себя модели логистической регрессии. В обоих вариантах было достигнуто требуемое значение целевой метрики. Выполним тестирование этих моделей."
   ]
  },
  {
   "cell_type": "code",
   "execution_count": 41,
   "metadata": {},
   "outputs": [
    {
     "name": "stdout",
     "output_type": "stream",
     "text": [
      "F1 логистической регрессии на TF-IDF после тестирования: 0.7601706970128023\n"
     ]
    }
   ],
   "source": [
    "pipe_lr_tfidf.fit(features_train, target_train)\n",
    "preds = pipe_lr_tfidf.predict(features_test)\n",
    "print('F1 логистической регрессии на TF-IDF после тестирования:', f1_score(target_test, preds))"
   ]
  },
  {
   "cell_type": "code",
   "execution_count": 43,
   "metadata": {},
   "outputs": [
    {
     "name": "stdout",
     "output_type": "stream",
     "text": [
      "F1 логистической регрессии при помощи BERT после тестирования: 1.0\n"
     ]
    }
   ],
   "source": [
    "model_lr_bert.fit(features_bert_train, target_bert_train)\n",
    "preds = model_lr_bert.predict(features_bert_test)\n",
    "print('F1 логистической регрессии при помощи BERT после тестирования:', f1_score(target_bert_test, preds))"
   ]
  },
  {
   "cell_type": "markdown",
   "metadata": {},
   "source": [
    "**Итог**\n",
    "\n",
    "Магазину \"Викишоп\" нужен инструмент, который будет искать токсичные комментарии и отправлять их на модерацию. Для этого нам нужно было проанализировать датасет с размеченными комментариями, и обучить модели, которые достигнут значения метрики F1 75.\n",
    "\n",
    "Мы выполнили очистку текста, оставив только латинские символы и пробелы, после чего провели лемматизацию.\n",
    "\n",
    "Для перевода слов в векторную форму использовали TfidfVectorizer. Лучше всего показала себя модель логистической регрессии.\n",
    "\n",
    "На следующем этапе мы взяли готовую модель toxic-bert, получили эмбеддинги, которые передали в качестве признаков для наших моделей.\n",
    "\n",
    "После итогового тестирования, лучше всего показала себя модель логистической регрессии, со значением метрики F1 = 94.7"
   ]
  }
 ],
 "metadata": {
  "ExecuteTimeLog": [
   {
    "duration": 3290,
    "start_time": "2023-08-01T16:30:12.260Z"
   },
   {
    "duration": 2324,
    "start_time": "2023-08-01T16:30:15.553Z"
   },
   {
    "duration": 36,
    "start_time": "2023-08-01T16:30:17.878Z"
   },
   {
    "duration": 6,
    "start_time": "2023-08-01T16:30:17.915Z"
   },
   {
    "duration": 108,
    "start_time": "2023-08-01T16:30:17.922Z"
   },
   {
    "duration": 1928,
    "start_time": "2023-08-01T16:30:18.032Z"
   },
   {
    "duration": 85506,
    "start_time": "2023-08-01T16:30:19.961Z"
   },
   {
    "duration": 9,
    "start_time": "2023-08-01T16:31:45.468Z"
   },
   {
    "duration": 32,
    "start_time": "2023-08-01T16:31:45.479Z"
   },
   {
    "duration": 3,
    "start_time": "2023-08-01T16:31:45.513Z"
   },
   {
    "duration": 6535,
    "start_time": "2023-08-01T17:12:15.392Z"
   },
   {
    "duration": 2508,
    "start_time": "2023-08-01T17:12:21.930Z"
   },
   {
    "duration": 36,
    "start_time": "2023-08-01T17:12:24.439Z"
   },
   {
    "duration": 62,
    "start_time": "2023-08-01T17:12:24.477Z"
   },
   {
    "duration": 101,
    "start_time": "2023-08-01T17:12:24.541Z"
   },
   {
    "duration": 1927,
    "start_time": "2023-08-01T17:12:24.643Z"
   },
   {
    "duration": 92453,
    "start_time": "2023-08-01T17:12:26.572Z"
   },
   {
    "duration": 11,
    "start_time": "2023-08-01T17:13:59.026Z"
   },
   {
    "duration": 66,
    "start_time": "2023-08-01T17:13:59.039Z"
   },
   {
    "duration": 39,
    "start_time": "2023-08-01T17:13:59.107Z"
   },
   {
    "duration": 5636,
    "start_time": "2023-08-02T12:49:34.408Z"
   },
   {
    "duration": 1881,
    "start_time": "2023-08-02T12:49:44.204Z"
   },
   {
    "duration": 228,
    "start_time": "2023-08-02T12:50:23.111Z"
   },
   {
    "duration": 6,
    "start_time": "2023-08-02T13:02:28.608Z"
   },
   {
    "duration": 14,
    "start_time": "2023-08-02T13:02:38.865Z"
   },
   {
    "duration": 4048,
    "start_time": "2023-08-02T13:17:02.706Z"
   },
   {
    "duration": 16262,
    "start_time": "2023-08-02T13:17:13.073Z"
   },
   {
    "duration": 208,
    "start_time": "2023-08-02T13:35:04.744Z"
   },
   {
    "duration": 9,
    "start_time": "2023-08-02T13:36:16.294Z"
   },
   {
    "duration": 4588,
    "start_time": "2023-08-02T13:36:19.951Z"
   },
   {
    "duration": 4055,
    "start_time": "2023-08-02T13:36:37.689Z"
   },
   {
    "duration": 4654,
    "start_time": "2023-08-02T13:37:13.682Z"
   },
   {
    "duration": 5309,
    "start_time": "2023-08-02T13:38:09.018Z"
   },
   {
    "duration": 4222,
    "start_time": "2023-08-02T13:38:24.316Z"
   },
   {
    "duration": 261,
    "start_time": "2023-08-02T14:36:11.156Z"
   },
   {
    "duration": 20,
    "start_time": "2023-08-02T14:36:56.957Z"
   },
   {
    "duration": 63,
    "start_time": "2023-08-02T14:38:46.926Z"
   },
   {
    "duration": 52,
    "start_time": "2023-08-02T14:38:59.849Z"
   },
   {
    "duration": 107,
    "start_time": "2023-08-02T14:39:42.765Z"
   },
   {
    "duration": 4821,
    "start_time": "2023-08-02T14:40:52.276Z"
   },
   {
    "duration": 6,
    "start_time": "2023-08-02T14:43:44.261Z"
   },
   {
    "duration": 2382,
    "start_time": "2023-08-02T14:43:44.269Z"
   },
   {
    "duration": 37,
    "start_time": "2023-08-02T14:43:46.653Z"
   },
   {
    "duration": 8,
    "start_time": "2023-08-02T14:43:46.692Z"
   },
   {
    "duration": 79,
    "start_time": "2023-08-02T14:43:46.702Z"
   },
   {
    "duration": 1802,
    "start_time": "2023-08-02T14:43:46.783Z"
   },
   {
    "duration": 86135,
    "start_time": "2023-08-02T14:43:48.586Z"
   },
   {
    "duration": 7,
    "start_time": "2023-08-02T14:45:14.722Z"
   },
   {
    "duration": 4157,
    "start_time": "2023-08-02T14:45:41.043Z"
   },
   {
    "duration": 17,
    "start_time": "2023-08-02T14:46:50.267Z"
   },
   {
    "duration": 503,
    "start_time": "2023-08-02T14:47:38.646Z"
   },
   {
    "duration": 100,
    "start_time": "2023-08-02T14:48:51.215Z"
   },
   {
    "duration": 683,
    "start_time": "2023-08-02T14:49:21.067Z"
   },
   {
    "duration": 41,
    "start_time": "2023-08-02T14:49:24.481Z"
   },
   {
    "duration": 61,
    "start_time": "2023-08-02T14:49:29.155Z"
   },
   {
    "duration": 675,
    "start_time": "2023-08-02T14:49:32.149Z"
   },
   {
    "duration": 22,
    "start_time": "2023-08-02T14:49:37.519Z"
   },
   {
    "duration": 273,
    "start_time": "2023-08-02T14:51:08.307Z"
   },
   {
    "duration": 45,
    "start_time": "2023-08-02T14:51:19.669Z"
   },
   {
    "duration": 41,
    "start_time": "2023-08-02T14:51:26.939Z"
   },
   {
    "duration": 22,
    "start_time": "2023-08-02T14:51:38.495Z"
   },
   {
    "duration": 764,
    "start_time": "2023-08-02T14:51:40.817Z"
   },
   {
    "duration": 41,
    "start_time": "2023-08-02T14:53:31.047Z"
   },
   {
    "duration": 48,
    "start_time": "2023-08-02T14:54:03.004Z"
   },
   {
    "duration": 21,
    "start_time": "2023-08-02T14:54:06.126Z"
   },
   {
    "duration": 157,
    "start_time": "2023-08-02T14:54:08.430Z"
   },
   {
    "duration": 20,
    "start_time": "2023-08-02T14:54:12.454Z"
   },
   {
    "duration": 171,
    "start_time": "2023-08-02T14:54:14.999Z"
   },
   {
    "duration": 4712,
    "start_time": "2023-08-02T14:59:07.808Z"
   },
   {
    "duration": 784,
    "start_time": "2023-08-02T14:59:54.968Z"
   },
   {
    "duration": 15,
    "start_time": "2023-08-02T15:00:10.091Z"
   },
   {
    "duration": 18,
    "start_time": "2023-08-02T15:00:20.026Z"
   },
   {
    "duration": 693,
    "start_time": "2023-08-02T15:01:39.380Z"
   },
   {
    "duration": 6,
    "start_time": "2023-08-02T15:01:48.807Z"
   },
   {
    "duration": 10,
    "start_time": "2023-08-02T15:01:53.162Z"
   },
   {
    "duration": 639,
    "start_time": "2023-08-02T15:02:58.878Z"
   },
   {
    "duration": 543,
    "start_time": "2023-08-02T15:03:10.846Z"
   },
   {
    "duration": 5063,
    "start_time": "2023-08-02T15:03:53.785Z"
   },
   {
    "duration": 2285,
    "start_time": "2023-08-02T15:03:58.850Z"
   },
   {
    "duration": 38,
    "start_time": "2023-08-02T15:04:01.136Z"
   },
   {
    "duration": 3333,
    "start_time": "2023-08-02T15:04:21.755Z"
   },
   {
    "duration": 1037,
    "start_time": "2023-08-02T15:04:25.090Z"
   },
   {
    "duration": 42,
    "start_time": "2023-08-02T15:04:26.128Z"
   },
   {
    "duration": 7,
    "start_time": "2023-08-02T15:04:29.837Z"
   },
   {
    "duration": 90,
    "start_time": "2023-08-02T15:04:31.800Z"
   },
   {
    "duration": 1712,
    "start_time": "2023-08-02T15:04:40.435Z"
   },
   {
    "duration": 83490,
    "start_time": "2023-08-02T15:04:43.166Z"
   },
   {
    "duration": 9883,
    "start_time": "2023-08-02T15:09:02.306Z"
   },
   {
    "duration": 666,
    "start_time": "2023-08-02T15:09:15.771Z"
   },
   {
    "duration": 1001821,
    "start_time": "2023-08-02T15:09:20.237Z"
   },
   {
    "duration": 5,
    "start_time": "2023-08-02T15:27:11.732Z"
   },
   {
    "duration": 346,
    "start_time": "2023-08-02T15:29:22.762Z"
   },
   {
    "duration": 97,
    "start_time": "2023-08-02T15:29:47.876Z"
   },
   {
    "duration": 21,
    "start_time": "2023-08-02T15:29:58.313Z"
   },
   {
    "duration": 3,
    "start_time": "2023-08-02T15:29:58.800Z"
   },
   {
    "duration": 4,
    "start_time": "2023-08-02T15:30:00.402Z"
   },
   {
    "duration": 6207,
    "start_time": "2023-08-02T15:30:00.847Z"
   },
   {
    "duration": 3,
    "start_time": "2023-08-02T15:30:10.605Z"
   },
   {
    "duration": 303338,
    "start_time": "2023-08-02T15:30:13.580Z"
   },
   {
    "duration": 2696,
    "start_time": "2023-08-02T15:35:37.637Z"
   },
   {
    "duration": 7978,
    "start_time": "2023-08-02T15:35:52.844Z"
   },
   {
    "duration": 3499,
    "start_time": "2023-08-02T15:36:22.330Z"
   },
   {
    "duration": 2521,
    "start_time": "2023-08-02T15:36:50.209Z"
   },
   {
    "duration": 389,
    "start_time": "2023-08-02T15:39:34.176Z"
   },
   {
    "duration": 278,
    "start_time": "2023-08-02T15:40:17.637Z"
   },
   {
    "duration": 234,
    "start_time": "2023-08-02T15:40:22.849Z"
   },
   {
    "duration": 371,
    "start_time": "2023-08-02T15:40:30.863Z"
   },
   {
    "duration": 231,
    "start_time": "2023-08-02T15:40:41.394Z"
   },
   {
    "duration": 237,
    "start_time": "2023-08-02T15:40:46.803Z"
   },
   {
    "duration": 372,
    "start_time": "2023-08-02T15:40:50.011Z"
   },
   {
    "duration": 182,
    "start_time": "2023-08-02T15:40:53.356Z"
   },
   {
    "duration": 240,
    "start_time": "2023-08-02T15:40:57.720Z"
   },
   {
    "duration": 288,
    "start_time": "2023-08-02T15:41:02.104Z"
   },
   {
    "duration": 260,
    "start_time": "2023-08-02T15:41:05.734Z"
   },
   {
    "duration": 277,
    "start_time": "2023-08-02T15:41:09.647Z"
   },
   {
    "duration": 292,
    "start_time": "2023-08-02T15:41:12.754Z"
   },
   {
    "duration": 323,
    "start_time": "2023-08-02T15:41:17.006Z"
   },
   {
    "duration": 273,
    "start_time": "2023-08-02T15:41:22.304Z"
   },
   {
    "duration": 280,
    "start_time": "2023-08-02T15:41:26.224Z"
   },
   {
    "duration": 281,
    "start_time": "2023-08-02T15:41:29.513Z"
   },
   {
    "duration": 281,
    "start_time": "2023-08-02T15:41:34.578Z"
   },
   {
    "duration": 269,
    "start_time": "2023-08-02T15:41:37.962Z"
   },
   {
    "duration": 203,
    "start_time": "2023-08-02T15:41:41.234Z"
   },
   {
    "duration": 145,
    "start_time": "2023-08-02T15:41:43.582Z"
   },
   {
    "duration": 84,
    "start_time": "2023-08-02T15:41:45.837Z"
   },
   {
    "duration": 274,
    "start_time": "2023-08-02T15:41:50.777Z"
   },
   {
    "duration": 280,
    "start_time": "2023-08-02T15:41:53.932Z"
   },
   {
    "duration": 277,
    "start_time": "2023-08-02T15:41:56.541Z"
   },
   {
    "duration": 280,
    "start_time": "2023-08-02T15:41:59.882Z"
   },
   {
    "duration": 281,
    "start_time": "2023-08-02T15:42:05.541Z"
   },
   {
    "duration": 78787,
    "start_time": "2023-08-02T15:44:29.357Z"
   },
   {
    "duration": 15,
    "start_time": "2023-08-02T15:49:11.614Z"
   },
   {
    "duration": 2287,
    "start_time": "2023-08-02T15:49:24.743Z"
   },
   {
    "duration": 20,
    "start_time": "2023-08-02T15:49:34.105Z"
   },
   {
    "duration": 2610,
    "start_time": "2023-08-02T15:50:29.313Z"
   },
   {
    "duration": 17,
    "start_time": "2023-08-02T15:50:34.754Z"
   },
   {
    "duration": 419,
    "start_time": "2023-08-02T15:51:06.007Z"
   },
   {
    "duration": 545,
    "start_time": "2023-08-02T15:51:40.686Z"
   },
   {
    "duration": 546,
    "start_time": "2023-08-02T15:51:59.277Z"
   },
   {
    "duration": 3581,
    "start_time": "2023-08-02T15:57:48.635Z"
   },
   {
    "duration": 879,
    "start_time": "2023-08-02T15:57:52.218Z"
   },
   {
    "duration": 32,
    "start_time": "2023-08-02T15:57:53.098Z"
   },
   {
    "duration": 7,
    "start_time": "2023-08-02T15:57:53.132Z"
   },
   {
    "duration": 94,
    "start_time": "2023-08-02T15:57:53.140Z"
   },
   {
    "duration": 1717,
    "start_time": "2023-08-02T15:57:53.235Z"
   },
   {
    "duration": 82482,
    "start_time": "2023-08-02T15:57:54.954Z"
   },
   {
    "duration": 10,
    "start_time": "2023-08-02T15:59:17.437Z"
   },
   {
    "duration": 28,
    "start_time": "2023-08-02T15:59:17.449Z"
   },
   {
    "duration": 3,
    "start_time": "2023-08-02T15:59:17.479Z"
   },
   {
    "duration": 19,
    "start_time": "2023-08-02T15:59:17.484Z"
   },
   {
    "duration": 6418,
    "start_time": "2023-08-02T15:59:17.504Z"
   },
   {
    "duration": 2,
    "start_time": "2023-08-02T15:59:23.923Z"
   },
   {
    "duration": 40994,
    "start_time": "2023-08-02T15:59:23.926Z"
   },
   {
    "duration": 634288,
    "start_time": "2023-08-02T16:00:04.921Z"
   },
   {
    "duration": 2557320,
    "start_time": "2023-08-02T16:10:39.210Z"
   },
   {
    "duration": 5956,
    "start_time": "2023-08-02T16:53:16.621Z"
   },
   {
    "duration": 3,
    "start_time": "2023-08-02T16:53:22.578Z"
   },
   {
    "duration": 47309,
    "start_time": "2023-08-02T16:53:22.583Z"
   },
   {
    "duration": 1077846,
    "start_time": "2023-08-02T16:54:09.894Z"
   },
   {
    "duration": 530380,
    "start_time": "2023-08-02T17:12:07.741Z"
   },
   {
    "duration": 12154,
    "start_time": "2023-08-02T17:20:58.123Z"
   },
   {
    "duration": 1134,
    "start_time": "2023-08-02T17:21:10.278Z"
   },
   {
    "duration": 4386,
    "start_time": "2023-08-02T18:27:17.672Z"
   },
   {
    "duration": 2243,
    "start_time": "2023-08-02T18:27:27.264Z"
   },
   {
    "duration": 35,
    "start_time": "2023-08-02T18:27:29.508Z"
   },
   {
    "duration": 6,
    "start_time": "2023-08-02T18:27:32.097Z"
   },
   {
    "duration": 68,
    "start_time": "2023-08-02T18:27:33.603Z"
   },
   {
    "duration": 82,
    "start_time": "2023-08-02T18:28:48.500Z"
   },
   {
    "duration": 138,
    "start_time": "2023-08-02T18:28:54.234Z"
   },
   {
    "duration": 82,
    "start_time": "2023-08-02T18:29:00.443Z"
   },
   {
    "duration": 73,
    "start_time": "2023-08-02T18:29:05.845Z"
   },
   {
    "duration": 1696,
    "start_time": "2023-08-02T18:29:56.524Z"
   },
   {
    "duration": 81716,
    "start_time": "2023-08-02T18:30:01.028Z"
   },
   {
    "duration": 14,
    "start_time": "2023-08-02T18:31:25.405Z"
   },
   {
    "duration": 22,
    "start_time": "2023-08-02T18:31:42.051Z"
   },
   {
    "duration": 3,
    "start_time": "2023-08-02T18:31:42.556Z"
   },
   {
    "duration": 3,
    "start_time": "2023-08-02T18:31:57.648Z"
   },
   {
    "duration": 5575,
    "start_time": "2023-08-02T18:31:58.347Z"
   },
   {
    "duration": 3,
    "start_time": "2023-08-02T18:32:07.022Z"
   },
   {
    "duration": 1210,
    "start_time": "2023-08-02T18:32:13.384Z"
   },
   {
    "duration": 85533,
    "start_time": "2023-08-02T18:32:39.105Z"
   },
   {
    "duration": 9356,
    "start_time": "2023-08-02T18:34:40.241Z"
   },
   {
    "duration": 5745,
    "start_time": "2023-08-02T18:35:10.659Z"
   },
   {
    "duration": 3,
    "start_time": "2023-08-02T18:35:17.609Z"
   },
   {
    "duration": 4600,
    "start_time": "2023-08-02T18:35:30.288Z"
   },
   {
    "duration": 140107,
    "start_time": "2023-08-02T18:35:46.530Z"
   },
   {
    "duration": 5328,
    "start_time": "2023-08-02T18:38:42.064Z"
   },
   {
    "duration": 818,
    "start_time": "2023-08-02T18:40:12.645Z"
   },
   {
    "duration": 11340,
    "start_time": "2023-08-02T18:40:18.657Z"
   },
   {
    "duration": 1246,
    "start_time": "2023-08-02T18:42:08.694Z"
   },
   {
    "duration": 1174,
    "start_time": "2023-08-02T18:42:43.668Z"
   },
   {
    "duration": 47,
    "start_time": "2023-08-02T18:57:16.621Z"
   },
   {
    "duration": 4039,
    "start_time": "2023-08-02T18:57:38.712Z"
   },
   {
    "duration": 2212,
    "start_time": "2023-08-02T18:57:42.754Z"
   },
   {
    "duration": 34,
    "start_time": "2023-08-02T18:57:44.968Z"
   },
   {
    "duration": 8,
    "start_time": "2023-08-02T18:57:45.003Z"
   },
   {
    "duration": 108,
    "start_time": "2023-08-02T18:57:45.012Z"
   },
   {
    "duration": 1750,
    "start_time": "2023-08-02T18:57:45.121Z"
   },
   {
    "duration": 81657,
    "start_time": "2023-08-02T18:57:46.872Z"
   },
   {
    "duration": 9,
    "start_time": "2023-08-02T18:59:08.530Z"
   },
   {
    "duration": 31,
    "start_time": "2023-08-02T18:59:08.540Z"
   },
   {
    "duration": 20,
    "start_time": "2023-08-02T18:59:08.572Z"
   },
   {
    "duration": 19,
    "start_time": "2023-08-02T18:59:08.593Z"
   },
   {
    "duration": 5525,
    "start_time": "2023-08-02T18:59:08.613Z"
   },
   {
    "duration": 3,
    "start_time": "2023-08-02T18:59:14.140Z"
   },
   {
    "duration": 1247,
    "start_time": "2023-08-02T18:59:14.145Z"
   },
   {
    "duration": 88164,
    "start_time": "2023-08-02T18:59:15.393Z"
   },
   {
    "duration": 10181,
    "start_time": "2023-08-02T19:00:43.559Z"
   },
   {
    "duration": 5817,
    "start_time": "2023-08-02T19:00:53.742Z"
   },
   {
    "duration": 3,
    "start_time": "2023-08-02T19:00:59.560Z"
   },
   {
    "duration": 4719,
    "start_time": "2023-08-02T19:00:59.565Z"
   },
   {
    "duration": 140954,
    "start_time": "2023-08-02T19:01:04.286Z"
   },
   {
    "duration": 5388,
    "start_time": "2023-08-02T19:03:25.244Z"
   },
   {
    "duration": 820,
    "start_time": "2023-08-02T19:03:30.633Z"
   },
   {
    "duration": 13124,
    "start_time": "2023-08-02T19:03:31.455Z"
   },
   {
    "duration": 1209,
    "start_time": "2023-08-02T19:03:44.580Z"
   },
   {
    "duration": 50,
    "start_time": "2023-08-02T19:35:45.946Z"
   },
   {
    "duration": 4451,
    "start_time": "2023-08-02T19:35:52.873Z"
   },
   {
    "duration": 11154,
    "start_time": "2023-08-02T19:36:03.536Z"
   },
   {
    "duration": 291,
    "start_time": "2023-08-02T19:36:19.315Z"
   },
   {
    "duration": 15,
    "start_time": "2023-08-02T19:36:25.916Z"
   },
   {
    "duration": 4860,
    "start_time": "2023-08-02T19:36:27.179Z"
   },
   {
    "duration": 17,
    "start_time": "2023-08-02T19:36:33.011Z"
   },
   {
    "duration": 16,
    "start_time": "2023-08-02T19:36:42.729Z"
   },
   {
    "duration": 16,
    "start_time": "2023-08-02T19:36:57.159Z"
   },
   {
    "duration": 6,
    "start_time": "2023-08-02T19:37:03.231Z"
   },
   {
    "duration": 2259,
    "start_time": "2023-08-02T19:37:06.069Z"
   },
   {
    "duration": 826,
    "start_time": "2023-08-02T19:37:16.258Z"
   },
   {
    "duration": 3421,
    "start_time": "2023-08-02T19:37:17.912Z"
   },
   {
    "duration": 1248,
    "start_time": "2023-08-02T19:37:22.526Z"
   },
   {
    "duration": 4894,
    "start_time": "2023-08-02T20:01:43.425Z"
   },
   {
    "duration": 2348,
    "start_time": "2023-08-02T20:01:53.036Z"
   },
   {
    "duration": 47,
    "start_time": "2023-08-02T20:01:55.386Z"
   },
   {
    "duration": 929,
    "start_time": "2023-08-02T20:02:06.196Z"
   },
   {
    "duration": 13454,
    "start_time": "2023-08-02T20:02:07.792Z"
   },
   {
    "duration": 968,
    "start_time": "2023-08-02T20:02:25.934Z"
   },
   {
    "duration": 1503122,
    "start_time": "2023-08-02T20:02:35.802Z"
   },
   {
    "duration": 308,
    "start_time": "2023-08-02T20:30:07.813Z"
   },
   {
    "duration": 20,
    "start_time": "2023-08-02T20:31:06.685Z"
   },
   {
    "duration": 17,
    "start_time": "2023-08-02T20:31:10.864Z"
   },
   {
    "duration": 17,
    "start_time": "2023-08-02T20:31:43.191Z"
   },
   {
    "duration": 30,
    "start_time": "2023-08-02T20:31:48.144Z"
   },
   {
    "duration": 17,
    "start_time": "2023-08-02T20:32:00.886Z"
   },
   {
    "duration": 3,
    "start_time": "2023-08-02T20:32:09.983Z"
   },
   {
    "duration": 22,
    "start_time": "2023-08-02T20:32:41.364Z"
   },
   {
    "duration": 880,
    "start_time": "2023-08-02T20:33:53.894Z"
   },
   {
    "duration": 7564,
    "start_time": "2023-08-02T20:33:55.617Z"
   },
   {
    "duration": 897,
    "start_time": "2023-08-02T20:34:04.339Z"
   },
   {
    "duration": 1160379,
    "start_time": "2023-08-02T20:34:17.452Z"
   },
   {
    "duration": 4,
    "start_time": "2023-08-02T20:53:43.982Z"
   },
   {
    "duration": 889,
    "start_time": "2023-08-02T20:53:47.822Z"
   },
   {
    "duration": 93237,
    "start_time": "2023-08-02T20:53:53.029Z"
   },
   {
    "duration": 3698,
    "start_time": "2023-08-02T20:56:04.124Z"
   },
   {
    "duration": 1592,
    "start_time": "2023-08-02T20:56:12.238Z"
   },
   {
    "duration": 3351,
    "start_time": "2023-08-03T05:57:42.444Z"
   },
   {
    "duration": 2284,
    "start_time": "2023-08-03T05:57:45.797Z"
   },
   {
    "duration": 39,
    "start_time": "2023-08-03T05:57:48.083Z"
   },
   {
    "duration": 6,
    "start_time": "2023-08-03T05:57:48.125Z"
   },
   {
    "duration": 118,
    "start_time": "2023-08-03T05:57:48.134Z"
   },
   {
    "duration": 1810,
    "start_time": "2023-08-03T05:57:48.253Z"
   },
   {
    "duration": 88414,
    "start_time": "2023-08-03T05:57:50.064Z"
   },
   {
    "duration": 11,
    "start_time": "2023-08-03T05:59:18.480Z"
   },
   {
    "duration": 48,
    "start_time": "2023-08-03T05:59:18.493Z"
   },
   {
    "duration": 4,
    "start_time": "2023-08-03T05:59:18.544Z"
   },
   {
    "duration": 11,
    "start_time": "2023-08-03T05:59:18.550Z"
   },
   {
    "duration": 6035,
    "start_time": "2023-08-03T05:59:18.562Z"
   },
   {
    "duration": 2,
    "start_time": "2023-08-03T05:59:24.599Z"
   },
   {
    "duration": 1259,
    "start_time": "2023-08-03T05:59:24.602Z"
   },
   {
    "duration": 92926,
    "start_time": "2023-08-03T05:59:25.863Z"
   },
   {
    "duration": 10170,
    "start_time": "2023-08-03T06:00:58.791Z"
   },
   {
    "duration": 5957,
    "start_time": "2023-08-03T06:01:08.963Z"
   },
   {
    "duration": 3,
    "start_time": "2023-08-03T06:01:14.922Z"
   },
   {
    "duration": 5050,
    "start_time": "2023-08-03T06:01:14.927Z"
   },
   {
    "duration": 148958,
    "start_time": "2023-08-03T06:01:19.978Z"
   },
   {
    "duration": 6006,
    "start_time": "2023-08-03T06:03:48.938Z"
   },
   {
    "duration": 1165,
    "start_time": "2023-08-03T06:03:54.946Z"
   },
   {
    "duration": 11667,
    "start_time": "2023-08-03T06:03:56.113Z"
   },
   {
    "duration": 1242,
    "start_time": "2023-08-03T06:04:07.782Z"
   },
   {
    "duration": 5116,
    "start_time": "2023-08-03T06:29:59.721Z"
   },
   {
    "duration": 2568,
    "start_time": "2023-08-03T06:30:04.839Z"
   },
   {
    "duration": 38,
    "start_time": "2023-08-03T06:30:07.409Z"
   },
   {
    "duration": 6,
    "start_time": "2023-08-03T06:30:07.448Z"
   },
   {
    "duration": 97,
    "start_time": "2023-08-03T06:30:07.456Z"
   },
   {
    "duration": 1873,
    "start_time": "2023-08-03T06:30:07.554Z"
   },
   {
    "duration": 89978,
    "start_time": "2023-08-03T06:30:09.429Z"
   },
   {
    "duration": 12,
    "start_time": "2023-08-03T06:31:39.409Z"
   },
   {
    "duration": 35,
    "start_time": "2023-08-03T06:31:39.423Z"
   },
   {
    "duration": 4,
    "start_time": "2023-08-03T06:31:39.460Z"
   },
   {
    "duration": 9,
    "start_time": "2023-08-03T06:31:39.466Z"
   },
   {
    "duration": 6044,
    "start_time": "2023-08-03T06:31:39.477Z"
   },
   {
    "duration": 3,
    "start_time": "2023-08-03T06:31:45.523Z"
   },
   {
    "duration": 1329,
    "start_time": "2023-08-03T06:31:45.528Z"
   },
   {
    "duration": 3238,
    "start_time": "2023-08-03T06:32:12.917Z"
   },
   {
    "duration": 923,
    "start_time": "2023-08-03T06:32:16.157Z"
   },
   {
    "duration": 45,
    "start_time": "2023-08-03T06:32:17.081Z"
   },
   {
    "duration": 7,
    "start_time": "2023-08-03T06:32:17.127Z"
   },
   {
    "duration": 112,
    "start_time": "2023-08-03T06:32:17.136Z"
   },
   {
    "duration": 1869,
    "start_time": "2023-08-03T06:32:17.249Z"
   },
   {
    "duration": 88754,
    "start_time": "2023-08-03T06:32:19.119Z"
   },
   {
    "duration": 11,
    "start_time": "2023-08-03T06:33:47.875Z"
   },
   {
    "duration": 35,
    "start_time": "2023-08-03T06:33:47.888Z"
   },
   {
    "duration": 5,
    "start_time": "2023-08-03T06:33:47.925Z"
   },
   {
    "duration": 6,
    "start_time": "2023-08-03T06:33:47.931Z"
   },
   {
    "duration": 6021,
    "start_time": "2023-08-03T06:33:47.939Z"
   },
   {
    "duration": 2,
    "start_time": "2023-08-03T06:33:53.962Z"
   },
   {
    "duration": 1312,
    "start_time": "2023-08-03T06:33:53.967Z"
   },
   {
    "duration": 91982,
    "start_time": "2023-08-03T06:33:55.281Z"
   },
   {
    "duration": 11138,
    "start_time": "2023-08-03T06:35:27.265Z"
   },
   {
    "duration": 6117,
    "start_time": "2023-08-03T06:35:38.405Z"
   },
   {
    "duration": 3,
    "start_time": "2023-08-03T06:35:44.524Z"
   },
   {
    "duration": 4882,
    "start_time": "2023-08-03T06:35:44.528Z"
   },
   {
    "duration": 151045,
    "start_time": "2023-08-03T06:35:49.412Z"
   },
   {
    "duration": 6429,
    "start_time": "2023-08-03T06:38:20.459Z"
   },
   {
    "duration": 899,
    "start_time": "2023-08-03T06:38:26.890Z"
   },
   {
    "duration": 9761,
    "start_time": "2023-08-03T06:38:27.791Z"
   },
   {
    "duration": 1013,
    "start_time": "2023-08-03T06:38:37.555Z"
   },
   {
    "duration": 4354,
    "start_time": "2023-08-03T07:08:08.945Z"
   },
   {
    "duration": 2660,
    "start_time": "2023-08-03T07:08:13.301Z"
   },
   {
    "duration": 37,
    "start_time": "2023-08-03T07:08:15.962Z"
   },
   {
    "duration": 6,
    "start_time": "2023-08-03T07:08:16.001Z"
   },
   {
    "duration": 93,
    "start_time": "2023-08-03T07:08:16.009Z"
   },
   {
    "duration": 2139,
    "start_time": "2023-08-03T07:08:16.104Z"
   },
   {
    "duration": 98450,
    "start_time": "2023-08-03T07:08:18.244Z"
   },
   {
    "duration": 10,
    "start_time": "2023-08-03T07:09:56.695Z"
   },
   {
    "duration": 67,
    "start_time": "2023-08-03T07:09:56.706Z"
   },
   {
    "duration": 6,
    "start_time": "2023-08-03T07:09:56.775Z"
   },
   {
    "duration": 21,
    "start_time": "2023-08-03T07:09:56.783Z"
   },
   {
    "duration": 6610,
    "start_time": "2023-08-03T07:09:56.806Z"
   },
   {
    "duration": 4,
    "start_time": "2023-08-03T07:10:03.417Z"
   },
   {
    "duration": 1340,
    "start_time": "2023-08-03T07:10:03.425Z"
   },
   {
    "duration": 96490,
    "start_time": "2023-08-03T07:10:04.767Z"
   },
   {
    "duration": 11756,
    "start_time": "2023-08-03T07:11:41.259Z"
   },
   {
    "duration": 7225,
    "start_time": "2023-08-03T07:11:53.017Z"
   },
   {
    "duration": 3,
    "start_time": "2023-08-03T07:12:00.244Z"
   },
   {
    "duration": 5269,
    "start_time": "2023-08-03T07:12:00.248Z"
   },
   {
    "duration": 160776,
    "start_time": "2023-08-03T07:12:05.520Z"
   },
   {
    "duration": 6715,
    "start_time": "2023-08-03T07:14:46.298Z"
   },
   {
    "duration": 2622,
    "start_time": "2023-08-03T07:14:53.015Z"
   },
   {
    "duration": 19024,
    "start_time": "2023-08-03T07:14:55.639Z"
   },
   {
    "duration": 937,
    "start_time": "2023-08-03T07:15:14.665Z"
   },
   {
    "duration": 1698832,
    "start_time": "2023-08-03T07:15:15.603Z"
   },
   {
    "duration": 83,
    "start_time": "2023-08-03T07:43:34.437Z"
   },
   {
    "duration": 977,
    "start_time": "2023-08-03T07:43:34.522Z"
   },
   {
    "duration": 53424,
    "start_time": "2023-08-03T07:43:35.501Z"
   },
   {
    "duration": 8698,
    "start_time": "2023-08-03T07:44:28.927Z"
   },
   {
    "duration": 899,
    "start_time": "2023-08-03T07:44:37.627Z"
   },
   {
    "duration": 4239,
    "start_time": "2023-08-03T08:05:38.382Z"
   },
   {
    "duration": 848,
    "start_time": "2023-08-03T08:05:44.482Z"
   },
   {
    "duration": 49,
    "start_time": "2023-08-03T12:40:21.064Z"
   },
   {
    "duration": 8,
    "start_time": "2023-08-03T12:41:09.297Z"
   },
   {
    "duration": 4223,
    "start_time": "2023-08-03T12:48:21.958Z"
   },
   {
    "duration": 4777,
    "start_time": "2023-08-03T12:48:26.184Z"
   },
   {
    "duration": 52,
    "start_time": "2023-08-03T12:48:30.963Z"
   },
   {
    "duration": 26,
    "start_time": "2023-08-03T12:48:31.018Z"
   },
   {
    "duration": 150,
    "start_time": "2023-08-03T12:48:31.046Z"
   },
   {
    "duration": 2135,
    "start_time": "2023-08-03T12:48:31.198Z"
   },
   {
    "duration": 101492,
    "start_time": "2023-08-03T12:48:33.335Z"
   },
   {
    "duration": 13,
    "start_time": "2023-08-03T12:50:14.829Z"
   },
   {
    "duration": 37,
    "start_time": "2023-08-03T12:50:14.852Z"
   },
   {
    "duration": 4,
    "start_time": "2023-08-03T12:50:14.892Z"
   },
   {
    "duration": 11,
    "start_time": "2023-08-03T12:50:14.898Z"
   },
   {
    "duration": 7763,
    "start_time": "2023-08-03T12:50:14.911Z"
   },
   {
    "duration": 4,
    "start_time": "2023-08-03T12:50:22.676Z"
   },
   {
    "duration": 1564,
    "start_time": "2023-08-03T12:50:22.683Z"
   },
   {
    "duration": 557,
    "start_time": "2023-08-03T12:50:24.251Z"
   },
   {
    "duration": 14038,
    "start_time": "2023-08-03T12:50:24.810Z"
   },
   {
    "duration": 7408,
    "start_time": "2023-08-03T12:50:38.851Z"
   },
   {
    "duration": 8,
    "start_time": "2023-08-03T12:50:46.261Z"
   },
   {
    "duration": 5169,
    "start_time": "2023-08-03T12:50:46.271Z"
   },
   {
    "duration": 183,
    "start_time": "2023-08-03T12:50:51.442Z"
   },
   {
    "duration": 7928,
    "start_time": "2023-08-03T12:50:51.627Z"
   },
   {
    "duration": 1007,
    "start_time": "2023-08-03T12:50:59.558Z"
   },
   {
    "duration": 10069,
    "start_time": "2023-08-03T12:51:00.567Z"
   },
   {
    "duration": 989,
    "start_time": "2023-08-03T12:51:10.638Z"
   },
   {
    "duration": 4763,
    "start_time": "2023-08-03T13:24:42.444Z"
   },
   {
    "duration": 4711,
    "start_time": "2023-08-03T13:24:47.209Z"
   },
   {
    "duration": 60,
    "start_time": "2023-08-03T13:24:51.922Z"
   },
   {
    "duration": 12,
    "start_time": "2023-08-03T13:24:51.985Z"
   },
   {
    "duration": 137,
    "start_time": "2023-08-03T13:24:51.999Z"
   },
   {
    "duration": 2246,
    "start_time": "2023-08-03T13:24:52.138Z"
   },
   {
    "duration": 4,
    "start_time": "2023-08-03T13:24:54.386Z"
   },
   {
    "duration": 880,
    "start_time": "2023-08-03T13:24:54.392Z"
   },
   {
    "duration": 0,
    "start_time": "2023-08-03T13:24:55.276Z"
   },
   {
    "duration": 0,
    "start_time": "2023-08-03T13:24:55.277Z"
   },
   {
    "duration": 0,
    "start_time": "2023-08-03T13:24:55.279Z"
   },
   {
    "duration": 0,
    "start_time": "2023-08-03T13:24:55.280Z"
   },
   {
    "duration": 0,
    "start_time": "2023-08-03T13:24:55.282Z"
   },
   {
    "duration": 0,
    "start_time": "2023-08-03T13:24:55.283Z"
   },
   {
    "duration": 0,
    "start_time": "2023-08-03T13:24:55.285Z"
   },
   {
    "duration": 0,
    "start_time": "2023-08-03T13:24:55.286Z"
   },
   {
    "duration": 0,
    "start_time": "2023-08-03T13:24:55.288Z"
   },
   {
    "duration": 0,
    "start_time": "2023-08-03T13:24:55.290Z"
   },
   {
    "duration": 0,
    "start_time": "2023-08-03T13:24:55.291Z"
   },
   {
    "duration": 0,
    "start_time": "2023-08-03T13:24:55.293Z"
   },
   {
    "duration": 0,
    "start_time": "2023-08-03T13:24:55.294Z"
   },
   {
    "duration": 0,
    "start_time": "2023-08-03T13:24:55.296Z"
   },
   {
    "duration": 0,
    "start_time": "2023-08-03T13:24:55.298Z"
   },
   {
    "duration": 0,
    "start_time": "2023-08-03T13:24:55.299Z"
   },
   {
    "duration": 0,
    "start_time": "2023-08-03T13:24:55.301Z"
   },
   {
    "duration": 0,
    "start_time": "2023-08-03T13:24:55.302Z"
   },
   {
    "duration": 0,
    "start_time": "2023-08-03T13:24:55.304Z"
   },
   {
    "duration": 0,
    "start_time": "2023-08-03T13:24:55.305Z"
   },
   {
    "duration": 0,
    "start_time": "2023-08-03T13:24:55.307Z"
   },
   {
    "duration": 0,
    "start_time": "2023-08-03T13:24:55.308Z"
   },
   {
    "duration": 0,
    "start_time": "2023-08-03T13:24:55.309Z"
   },
   {
    "duration": 4886,
    "start_time": "2023-08-03T13:33:03.570Z"
   },
   {
    "duration": 1077,
    "start_time": "2023-08-03T13:33:08.461Z"
   },
   {
    "duration": 59,
    "start_time": "2023-08-03T13:33:09.540Z"
   },
   {
    "duration": 10,
    "start_time": "2023-08-03T13:33:09.601Z"
   },
   {
    "duration": 131,
    "start_time": "2023-08-03T13:33:09.614Z"
   },
   {
    "duration": 2199,
    "start_time": "2023-08-03T13:33:09.752Z"
   },
   {
    "duration": 8,
    "start_time": "2023-08-03T13:33:11.957Z"
   },
   {
    "duration": 1156,
    "start_time": "2023-08-03T13:33:11.971Z"
   },
   {
    "duration": 0,
    "start_time": "2023-08-03T13:33:13.129Z"
   },
   {
    "duration": 0,
    "start_time": "2023-08-03T13:33:13.131Z"
   },
   {
    "duration": 0,
    "start_time": "2023-08-03T13:33:13.132Z"
   },
   {
    "duration": 0,
    "start_time": "2023-08-03T13:33:13.134Z"
   },
   {
    "duration": 0,
    "start_time": "2023-08-03T13:33:13.135Z"
   },
   {
    "duration": 0,
    "start_time": "2023-08-03T13:33:13.136Z"
   },
   {
    "duration": 0,
    "start_time": "2023-08-03T13:33:13.137Z"
   },
   {
    "duration": 0,
    "start_time": "2023-08-03T13:33:13.138Z"
   },
   {
    "duration": 0,
    "start_time": "2023-08-03T13:33:13.140Z"
   },
   {
    "duration": 0,
    "start_time": "2023-08-03T13:33:13.141Z"
   },
   {
    "duration": 0,
    "start_time": "2023-08-03T13:33:13.142Z"
   },
   {
    "duration": 0,
    "start_time": "2023-08-03T13:33:13.143Z"
   },
   {
    "duration": 0,
    "start_time": "2023-08-03T13:33:13.144Z"
   },
   {
    "duration": 0,
    "start_time": "2023-08-03T13:33:13.145Z"
   },
   {
    "duration": 0,
    "start_time": "2023-08-03T13:33:13.146Z"
   },
   {
    "duration": 0,
    "start_time": "2023-08-03T13:33:13.147Z"
   },
   {
    "duration": 0,
    "start_time": "2023-08-03T13:33:13.149Z"
   },
   {
    "duration": 0,
    "start_time": "2023-08-03T13:33:13.150Z"
   },
   {
    "duration": 0,
    "start_time": "2023-08-03T13:33:13.152Z"
   },
   {
    "duration": 0,
    "start_time": "2023-08-03T13:33:13.153Z"
   },
   {
    "duration": 0,
    "start_time": "2023-08-03T13:33:13.154Z"
   },
   {
    "duration": 0,
    "start_time": "2023-08-03T13:33:13.155Z"
   },
   {
    "duration": 0,
    "start_time": "2023-08-03T13:33:13.158Z"
   },
   {
    "duration": 3986,
    "start_time": "2023-08-03T13:35:18.302Z"
   },
   {
    "duration": 1182,
    "start_time": "2023-08-03T13:35:22.291Z"
   },
   {
    "duration": 65,
    "start_time": "2023-08-03T13:35:23.474Z"
   },
   {
    "duration": 14,
    "start_time": "2023-08-03T13:35:23.541Z"
   },
   {
    "duration": 155,
    "start_time": "2023-08-03T13:35:23.557Z"
   },
   {
    "duration": 2386,
    "start_time": "2023-08-03T13:35:23.714Z"
   },
   {
    "duration": 5,
    "start_time": "2023-08-03T13:35:26.103Z"
   },
   {
    "duration": 1536219,
    "start_time": "2023-08-03T13:35:26.111Z"
   },
   {
    "duration": 0,
    "start_time": "2023-08-03T14:01:02.333Z"
   },
   {
    "duration": 0,
    "start_time": "2023-08-03T14:01:02.335Z"
   },
   {
    "duration": 0,
    "start_time": "2023-08-03T14:01:02.336Z"
   },
   {
    "duration": 0,
    "start_time": "2023-08-03T14:01:02.340Z"
   },
   {
    "duration": 0,
    "start_time": "2023-08-03T14:01:02.341Z"
   },
   {
    "duration": 0,
    "start_time": "2023-08-03T14:01:02.342Z"
   },
   {
    "duration": 0,
    "start_time": "2023-08-03T14:01:02.343Z"
   },
   {
    "duration": 0,
    "start_time": "2023-08-03T14:01:02.344Z"
   },
   {
    "duration": 0,
    "start_time": "2023-08-03T14:01:02.346Z"
   },
   {
    "duration": 0,
    "start_time": "2023-08-03T14:01:02.348Z"
   },
   {
    "duration": 0,
    "start_time": "2023-08-03T14:01:02.349Z"
   },
   {
    "duration": 0,
    "start_time": "2023-08-03T14:01:02.350Z"
   },
   {
    "duration": 0,
    "start_time": "2023-08-03T14:01:02.353Z"
   },
   {
    "duration": 0,
    "start_time": "2023-08-03T14:01:02.357Z"
   },
   {
    "duration": 0,
    "start_time": "2023-08-03T14:01:02.359Z"
   },
   {
    "duration": 0,
    "start_time": "2023-08-03T14:01:02.360Z"
   },
   {
    "duration": 0,
    "start_time": "2023-08-03T14:01:02.362Z"
   },
   {
    "duration": 0,
    "start_time": "2023-08-03T14:01:02.363Z"
   },
   {
    "duration": 0,
    "start_time": "2023-08-03T14:01:02.365Z"
   },
   {
    "duration": 0,
    "start_time": "2023-08-03T14:01:02.366Z"
   },
   {
    "duration": 0,
    "start_time": "2023-08-03T14:01:02.368Z"
   },
   {
    "duration": 0,
    "start_time": "2023-08-03T14:01:02.369Z"
   },
   {
    "duration": 0,
    "start_time": "2023-08-03T14:01:02.371Z"
   },
   {
    "duration": 119,
    "start_time": "2023-08-03T14:01:13.317Z"
   },
   {
    "duration": 1996,
    "start_time": "2023-08-03T14:01:18.687Z"
   },
   {
    "duration": 4,
    "start_time": "2023-08-03T14:01:22.899Z"
   },
   {
    "duration": 283074,
    "start_time": "2023-08-03T14:01:23.840Z"
   },
   {
    "duration": 107,
    "start_time": "2023-08-03T14:06:54.195Z"
   },
   {
    "duration": 2097,
    "start_time": "2023-08-03T14:06:57.266Z"
   },
   {
    "duration": 10,
    "start_time": "2023-08-03T14:07:01.783Z"
   },
   {
    "duration": 1476,
    "start_time": "2023-08-03T14:07:03.531Z"
   },
   {
    "duration": 634,
    "start_time": "2023-08-03T14:07:17.023Z"
   },
   {
    "duration": 97877,
    "start_time": "2023-08-03T14:07:44.917Z"
   },
   {
    "duration": 24,
    "start_time": "2023-08-03T14:09:30.090Z"
   },
   {
    "duration": 62,
    "start_time": "2023-08-03T14:10:16.141Z"
   },
   {
    "duration": 4,
    "start_time": "2023-08-03T14:10:16.206Z"
   },
   {
    "duration": 6224,
    "start_time": "2023-08-03T14:10:20.872Z"
   },
   {
    "duration": 4,
    "start_time": "2023-08-03T14:10:30.118Z"
   },
   {
    "duration": 1529,
    "start_time": "2023-08-03T14:10:32.244Z"
   },
   {
    "duration": 13210,
    "start_time": "2023-08-03T14:10:40.977Z"
   },
   {
    "duration": 6925,
    "start_time": "2023-08-03T14:11:19.843Z"
   },
   {
    "duration": 13,
    "start_time": "2023-08-03T14:11:27.673Z"
   },
   {
    "duration": 52329,
    "start_time": "2023-08-03T14:11:30.182Z"
   },
   {
    "duration": 265515,
    "start_time": "2023-08-03T14:12:28.693Z"
   },
   {
    "duration": 6489,
    "start_time": "2023-08-03T14:17:05.081Z"
   },
   {
    "duration": 5,
    "start_time": "2023-08-03T14:17:12.524Z"
   },
   {
    "duration": 1585,
    "start_time": "2023-08-03T14:17:13.840Z"
   },
   {
    "duration": 13564,
    "start_time": "2023-08-03T14:17:18.706Z"
   },
   {
    "duration": 2369,
    "start_time": "2023-08-03T14:17:36.098Z"
   },
   {
    "duration": 1656,
    "start_time": "2023-08-03T14:18:03.179Z"
   },
   {
    "duration": 57053,
    "start_time": "2023-08-03T14:18:24.794Z"
   },
   {
    "duration": 7322,
    "start_time": "2023-08-03T14:19:45.171Z"
   },
   {
    "duration": 9,
    "start_time": "2023-08-03T14:19:52.498Z"
   },
   {
    "duration": 6198,
    "start_time": "2023-08-03T14:20:11.438Z"
   },
   {
    "duration": 108595,
    "start_time": "2023-08-03T14:20:19.123Z"
   },
   {
    "duration": 8608,
    "start_time": "2023-08-03T14:22:07.720Z"
   },
   {
    "duration": 1197,
    "start_time": "2023-08-03T14:23:24.721Z"
   },
   {
    "duration": 16827,
    "start_time": "2023-08-03T14:23:26.611Z"
   },
   {
    "duration": 1389,
    "start_time": "2023-08-03T14:23:47.014Z"
   },
   {
    "duration": 3978,
    "start_time": "2023-08-03T14:49:26.102Z"
   },
   {
    "duration": 3503,
    "start_time": "2023-08-03T14:49:30.082Z"
   },
   {
    "duration": 48,
    "start_time": "2023-08-03T14:49:33.587Z"
   },
   {
    "duration": 9,
    "start_time": "2023-08-03T14:49:33.637Z"
   },
   {
    "duration": 109,
    "start_time": "2023-08-03T14:49:33.648Z"
   },
   {
    "duration": 1822,
    "start_time": "2023-08-03T14:49:33.759Z"
   },
   {
    "duration": 4,
    "start_time": "2023-08-03T14:49:35.582Z"
   },
   {
    "duration": 87865,
    "start_time": "2023-08-03T14:49:35.588Z"
   },
   {
    "duration": 15,
    "start_time": "2023-08-03T14:51:03.456Z"
   },
   {
    "duration": 43,
    "start_time": "2023-08-03T14:51:03.474Z"
   },
   {
    "duration": 4,
    "start_time": "2023-08-03T14:51:03.520Z"
   },
   {
    "duration": 6,
    "start_time": "2023-08-03T14:51:03.525Z"
   },
   {
    "duration": 5949,
    "start_time": "2023-08-03T14:51:03.533Z"
   },
   {
    "duration": 6,
    "start_time": "2023-08-03T14:51:09.488Z"
   },
   {
    "duration": 1558,
    "start_time": "2023-08-03T14:51:09.497Z"
   },
   {
    "duration": 50281,
    "start_time": "2023-08-03T14:51:11.065Z"
   },
   {
    "duration": 13022,
    "start_time": "2023-08-03T14:52:01.348Z"
   },
   {
    "duration": 5458,
    "start_time": "2023-08-03T14:52:14.374Z"
   },
   {
    "duration": 4,
    "start_time": "2023-08-03T14:52:19.834Z"
   },
   {
    "duration": 4834,
    "start_time": "2023-08-03T14:52:19.840Z"
   },
   {
    "duration": 88342,
    "start_time": "2023-08-03T14:52:24.677Z"
   },
   {
    "duration": 7167,
    "start_time": "2023-08-03T14:53:53.021Z"
   },
   {
    "duration": 990,
    "start_time": "2023-08-03T14:54:00.190Z"
   },
   {
    "duration": 9149,
    "start_time": "2023-08-03T14:54:01.182Z"
   },
   {
    "duration": 991,
    "start_time": "2023-08-03T14:54:10.333Z"
   },
   {
    "duration": 1973361,
    "start_time": "2023-08-03T14:54:11.326Z"
   },
   {
    "duration": 73,
    "start_time": "2023-08-03T15:27:04.688Z"
   },
   {
    "duration": 724,
    "start_time": "2023-08-03T15:27:04.762Z"
   },
   {
    "duration": 57672,
    "start_time": "2023-08-03T15:27:05.488Z"
   },
   {
    "duration": 7604,
    "start_time": "2023-08-03T15:28:03.162Z"
   },
   {
    "duration": 1496,
    "start_time": "2023-08-03T15:28:10.768Z"
   },
   {
    "duration": 14,
    "start_time": "2023-08-03T15:53:59.116Z"
   },
   {
    "duration": 17,
    "start_time": "2023-08-03T15:54:39.001Z"
   },
   {
    "duration": 10,
    "start_time": "2023-08-03T15:55:38.703Z"
   },
   {
    "duration": 12946,
    "start_time": "2023-08-03T15:56:13.653Z"
   },
   {
    "duration": 19750,
    "start_time": "2023-08-03T15:56:31.692Z"
   },
   {
    "duration": 12848,
    "start_time": "2023-08-03T15:56:54.932Z"
   },
   {
    "duration": 3082,
    "start_time": "2023-08-03T15:57:16.242Z"
   },
   {
    "duration": 1786,
    "start_time": "2023-08-03T15:57:22.827Z"
   },
   {
    "duration": 5109,
    "start_time": "2023-08-03T15:57:27.240Z"
   },
   {
    "duration": 1335,
    "start_time": "2023-08-03T15:57:35.569Z"
   },
   {
    "duration": 1721,
    "start_time": "2023-08-03T15:57:40.056Z"
   },
   {
    "duration": 10,
    "start_time": "2023-08-03T15:57:48.943Z"
   },
   {
    "duration": 48,
    "start_time": "2023-08-03T19:17:20.343Z"
   },
   {
    "duration": 4167,
    "start_time": "2023-08-04T10:55:51.947Z"
   },
   {
    "duration": 3495,
    "start_time": "2023-08-04T10:55:56.117Z"
   },
   {
    "duration": 47,
    "start_time": "2023-08-04T10:55:59.614Z"
   },
   {
    "duration": 8,
    "start_time": "2023-08-04T10:55:59.663Z"
   },
   {
    "duration": 103,
    "start_time": "2023-08-04T10:55:59.673Z"
   },
   {
    "duration": 1816,
    "start_time": "2023-08-04T10:55:59.778Z"
   },
   {
    "duration": 128,
    "start_time": "2023-08-04T10:57:25.804Z"
   },
   {
    "duration": 15,
    "start_time": "2023-08-04T10:58:00.029Z"
   },
   {
    "duration": 643,
    "start_time": "2023-08-04T10:58:04.730Z"
   },
   {
    "duration": 3,
    "start_time": "2023-08-04T10:58:11.548Z"
   },
   {
    "duration": 449,
    "start_time": "2023-08-04T10:58:14.141Z"
   },
   {
    "duration": 833046,
    "start_time": "2023-08-04T10:58:27.326Z"
   },
   {
    "duration": 9,
    "start_time": "2023-08-04T11:13:18.338Z"
   },
   {
    "duration": 45,
    "start_time": "2023-08-04T11:13:39.021Z"
   },
   {
    "duration": 5,
    "start_time": "2023-08-04T11:13:41.817Z"
   },
   {
    "duration": 4,
    "start_time": "2023-08-04T11:13:45.150Z"
   },
   {
    "duration": 5714,
    "start_time": "2023-08-04T11:13:53.005Z"
   },
   {
    "duration": 4,
    "start_time": "2023-08-04T11:14:01.745Z"
   },
   {
    "duration": 19,
    "start_time": "2023-08-04T11:15:53.402Z"
   },
   {
    "duration": 44525,
    "start_time": "2023-08-04T11:16:35.076Z"
   },
   {
    "duration": 44043,
    "start_time": "2023-08-04T11:17:57.570Z"
   },
   {
    "duration": 39,
    "start_time": "2023-08-04T11:24:39.824Z"
   },
   {
    "duration": 37,
    "start_time": "2023-08-04T11:25:49.098Z"
   },
   {
    "duration": 45039,
    "start_time": "2023-08-04T11:26:26.080Z"
   },
   {
    "duration": 43340,
    "start_time": "2023-08-04T11:33:59.697Z"
   },
   {
    "duration": 18123,
    "start_time": "2023-08-04T11:37:52.668Z"
   },
   {
    "duration": 228357,
    "start_time": "2023-08-04T11:38:15.305Z"
   },
   {
    "duration": 391281,
    "start_time": "2023-08-04T11:42:17.985Z"
   },
   {
    "duration": 5614,
    "start_time": "2023-08-04T11:49:31.271Z"
   },
   {
    "duration": 4,
    "start_time": "2023-08-04T11:49:37.968Z"
   },
   {
    "duration": 49658,
    "start_time": "2023-08-04T11:50:06.610Z"
   },
   {
    "duration": 8,
    "start_time": "2023-08-04T11:51:15.825Z"
   },
   {
    "duration": 230026,
    "start_time": "2023-08-04T11:51:33.233Z"
   },
   {
    "duration": 663062,
    "start_time": "2023-08-04T11:57:39.297Z"
   },
   {
    "duration": 26,
    "start_time": "2023-08-04T12:10:55.112Z"
   },
   {
    "duration": 5,
    "start_time": "2023-08-04T12:11:17.104Z"
   },
   {
    "duration": 5,
    "start_time": "2023-08-04T12:11:43.621Z"
   },
   {
    "duration": 308,
    "start_time": "2023-08-04T12:37:44.363Z"
   },
   {
    "duration": 3,
    "start_time": "2023-08-04T12:44:14.736Z"
   },
   {
    "duration": 106,
    "start_time": "2023-08-04T12:44:23.686Z"
   },
   {
    "duration": 3,
    "start_time": "2023-08-04T12:44:51.938Z"
   },
   {
    "duration": 92,
    "start_time": "2023-08-04T12:44:53.649Z"
   },
   {
    "duration": 111,
    "start_time": "2023-08-04T12:45:13.840Z"
   },
   {
    "duration": 3,
    "start_time": "2023-08-04T12:45:23.548Z"
   },
   {
    "duration": 91,
    "start_time": "2023-08-04T12:45:26.834Z"
   },
   {
    "duration": 990,
    "start_time": "2023-08-04T12:50:00.516Z"
   },
   {
    "duration": 955,
    "start_time": "2023-08-04T12:50:04.377Z"
   },
   {
    "duration": 16035,
    "start_time": "2023-08-04T12:51:38.845Z"
   },
   {
    "duration": 1023,
    "start_time": "2023-08-04T12:52:08.495Z"
   },
   {
    "duration": 34932,
    "start_time": "2023-08-04T12:52:24.480Z"
   },
   {
    "duration": 8,
    "start_time": "2023-08-04T13:05:38.253Z"
   },
   {
    "duration": 861,
    "start_time": "2023-08-04T13:05:38.263Z"
   },
   {
    "duration": 47,
    "start_time": "2023-08-04T13:05:39.126Z"
   },
   {
    "duration": 14,
    "start_time": "2023-08-04T13:05:39.175Z"
   },
   {
    "duration": 107,
    "start_time": "2023-08-04T13:05:39.191Z"
   },
   {
    "duration": 2019,
    "start_time": "2023-08-04T13:05:39.300Z"
   },
   {
    "duration": 3,
    "start_time": "2023-08-04T13:05:41.321Z"
   },
   {
    "duration": 1018094,
    "start_time": "2023-08-04T13:05:41.326Z"
   },
   {
    "duration": 10,
    "start_time": "2023-08-04T13:22:39.423Z"
   },
   {
    "duration": 72,
    "start_time": "2023-08-04T13:22:39.435Z"
   },
   {
    "duration": 14,
    "start_time": "2023-08-04T13:22:51.790Z"
   },
   {
    "duration": 51,
    "start_time": "2023-08-04T13:24:06.420Z"
   },
   {
    "duration": 7,
    "start_time": "2023-08-04T13:24:08.876Z"
   },
   {
    "duration": 4,
    "start_time": "2023-08-04T13:24:17.850Z"
   },
   {
    "duration": 3,
    "start_time": "2023-08-04T13:24:22.609Z"
   },
   {
    "duration": 2,
    "start_time": "2023-08-04T13:24:24.494Z"
   },
   {
    "duration": 4,
    "start_time": "2023-08-04T13:24:26.555Z"
   },
   {
    "duration": 2,
    "start_time": "2023-08-04T13:24:27.614Z"
   },
   {
    "duration": 4,
    "start_time": "2023-08-04T13:24:29.947Z"
   },
   {
    "duration": 3,
    "start_time": "2023-08-04T13:24:31.376Z"
   },
   {
    "duration": 3,
    "start_time": "2023-08-04T13:24:31.647Z"
   },
   {
    "duration": 108,
    "start_time": "2023-08-04T13:24:38.131Z"
   },
   {
    "duration": 99,
    "start_time": "2023-08-04T13:24:59.084Z"
   },
   {
    "duration": 4,
    "start_time": "2023-08-04T13:25:15.273Z"
   },
   {
    "duration": 4,
    "start_time": "2023-08-04T13:25:36.636Z"
   },
   {
    "duration": 3,
    "start_time": "2023-08-04T13:25:45.504Z"
   },
   {
    "duration": 124,
    "start_time": "2023-08-04T13:25:53.099Z"
   },
   {
    "duration": 5,
    "start_time": "2023-08-04T13:26:04.330Z"
   },
   {
    "duration": 102,
    "start_time": "2023-08-04T13:26:05.084Z"
   },
   {
    "duration": 5,
    "start_time": "2023-08-04T13:26:15.101Z"
   },
   {
    "duration": 46,
    "start_time": "2023-08-04T13:26:17.980Z"
   },
   {
    "duration": 4,
    "start_time": "2023-08-04T13:26:19.294Z"
   },
   {
    "duration": 4,
    "start_time": "2023-08-04T13:26:28.695Z"
   },
   {
    "duration": 4,
    "start_time": "2023-08-04T13:26:31.245Z"
   },
   {
    "duration": 113,
    "start_time": "2023-08-04T13:26:31.854Z"
   },
   {
    "duration": 45867,
    "start_time": "2023-08-04T13:27:05.591Z"
   },
   {
    "duration": 3,
    "start_time": "2023-08-04T13:28:47.741Z"
   },
   {
    "duration": 860186,
    "start_time": "2023-08-04T13:28:54.495Z"
   },
   {
    "duration": 3,
    "start_time": "2023-08-04T13:43:27.370Z"
   },
   {
    "duration": 266816,
    "start_time": "2023-08-04T13:43:37.880Z"
   },
   {
    "duration": 30601,
    "start_time": "2023-08-04T13:53:03.287Z"
   },
   {
    "duration": 58278,
    "start_time": "2023-08-04T13:55:16.348Z"
   },
   {
    "duration": 880,
    "start_time": "2023-08-04T13:58:50.930Z"
   },
   {
    "duration": 10288,
    "start_time": "2023-08-04T13:58:53.596Z"
   },
   {
    "duration": 971,
    "start_time": "2023-08-04T13:59:21.401Z"
   },
   {
    "duration": 1805001,
    "start_time": "2023-08-04T13:59:46.383Z"
   },
   {
    "duration": 7,
    "start_time": "2023-08-04T14:30:50.183Z"
   },
   {
    "duration": 202,
    "start_time": "2023-08-04T14:30:52.024Z"
   },
   {
    "duration": 40624,
    "start_time": "2023-08-04T14:31:06.420Z"
   },
   {
    "duration": 210,
    "start_time": "2023-08-04T14:31:51.904Z"
   },
   {
    "duration": 231,
    "start_time": "2023-08-04T14:32:09.649Z"
   },
   {
    "duration": 211,
    "start_time": "2023-08-04T14:32:26.675Z"
   },
   {
    "duration": 61276,
    "start_time": "2023-08-04T14:32:49.089Z"
   },
   {
    "duration": 6145,
    "start_time": "2023-08-04T14:34:32.228Z"
   },
   {
    "duration": 13583,
    "start_time": "2023-08-04T14:34:48.696Z"
   },
   {
    "duration": 22,
    "start_time": "2023-08-04T14:35:36.071Z"
   },
   {
    "duration": 3297,
    "start_time": "2023-08-04T14:37:51.695Z"
   },
   {
    "duration": 62004,
    "start_time": "2023-08-04T14:39:58.589Z"
   },
   {
    "duration": 7,
    "start_time": "2023-08-04T14:42:19.845Z"
   },
   {
    "duration": 272,
    "start_time": "2023-08-04T14:42:21.775Z"
   },
   {
    "duration": 62876,
    "start_time": "2023-08-04T14:42:30.164Z"
   },
   {
    "duration": 14170,
    "start_time": "2023-08-04T14:49:56.493Z"
   },
   {
    "duration": 12,
    "start_time": "2023-08-04T14:52:03.873Z"
   },
   {
    "duration": 63319,
    "start_time": "2023-08-04T14:52:12.308Z"
   },
   {
    "duration": 71,
    "start_time": "2023-08-04T15:17:35.808Z"
   },
   {
    "duration": 4119,
    "start_time": "2023-08-04T15:18:26.348Z"
   },
   {
    "duration": 1633,
    "start_time": "2023-08-04T15:18:43.555Z"
   },
   {
    "duration": 3255,
    "start_time": "2023-08-04T15:18:48.616Z"
   },
   {
    "duration": 65,
    "start_time": "2023-08-04T15:19:25.836Z"
   },
   {
    "duration": 61,
    "start_time": "2023-08-04T15:19:28.004Z"
   },
   {
    "duration": 2874,
    "start_time": "2023-08-04T15:19:30.705Z"
   },
   {
    "duration": 57924,
    "start_time": "2023-08-04T15:20:37.015Z"
   },
   {
    "duration": 814,
    "start_time": "2023-08-04T15:22:00.657Z"
   },
   {
    "duration": 3228,
    "start_time": "2023-08-04T15:22:29.953Z"
   },
   {
    "duration": 3379,
    "start_time": "2023-08-04T15:22:33.183Z"
   },
   {
    "duration": 49,
    "start_time": "2023-08-04T15:22:36.566Z"
   },
   {
    "duration": 12,
    "start_time": "2023-08-04T15:22:36.616Z"
   },
   {
    "duration": 102,
    "start_time": "2023-08-04T15:22:36.629Z"
   },
   {
    "duration": 1788,
    "start_time": "2023-08-04T15:22:36.732Z"
   },
   {
    "duration": 4,
    "start_time": "2023-08-04T15:22:38.521Z"
   },
   {
    "duration": 856109,
    "start_time": "2023-08-04T15:22:38.526Z"
   },
   {
    "duration": 11,
    "start_time": "2023-08-04T15:36:54.637Z"
   },
   {
    "duration": 39,
    "start_time": "2023-08-04T15:36:54.664Z"
   },
   {
    "duration": 4,
    "start_time": "2023-08-04T15:36:54.705Z"
   },
   {
    "duration": 6,
    "start_time": "2023-08-04T15:36:54.711Z"
   },
   {
    "duration": 6,
    "start_time": "2023-08-04T15:36:54.719Z"
   },
   {
    "duration": 7,
    "start_time": "2023-08-04T15:36:54.727Z"
   },
   {
    "duration": 6,
    "start_time": "2023-08-04T15:36:54.735Z"
   },
   {
    "duration": 7,
    "start_time": "2023-08-04T15:36:54.742Z"
   },
   {
    "duration": 22,
    "start_time": "2023-08-04T15:36:54.751Z"
   },
   {
    "duration": 5,
    "start_time": "2023-08-04T15:36:54.775Z"
   },
   {
    "duration": 8,
    "start_time": "2023-08-04T15:36:54.781Z"
   },
   {
    "duration": 11,
    "start_time": "2023-08-04T15:36:54.791Z"
   },
   {
    "duration": 39981,
    "start_time": "2023-08-04T15:36:54.804Z"
   },
   {
    "duration": 4,
    "start_time": "2023-08-04T15:37:34.786Z"
   },
   {
    "duration": 843080,
    "start_time": "2023-08-04T15:37:34.791Z"
   },
   {
    "duration": 3,
    "start_time": "2023-08-04T15:51:37.876Z"
   },
   {
    "duration": 266335,
    "start_time": "2023-08-04T15:51:37.881Z"
   },
   {
    "duration": 971,
    "start_time": "2023-08-04T15:56:04.218Z"
   },
   {
    "duration": 13367,
    "start_time": "2023-08-04T15:56:05.193Z"
   },
   {
    "duration": 986,
    "start_time": "2023-08-04T15:56:18.564Z"
   },
   {
    "duration": 350,
    "start_time": "2023-08-04T15:56:19.553Z"
   },
   {
    "duration": 0,
    "start_time": "2023-08-04T15:56:19.904Z"
   },
   {
    "duration": 0,
    "start_time": "2023-08-04T15:56:19.906Z"
   },
   {
    "duration": 0,
    "start_time": "2023-08-04T15:56:19.907Z"
   },
   {
    "duration": 0,
    "start_time": "2023-08-04T15:56:19.908Z"
   },
   {
    "duration": 0,
    "start_time": "2023-08-04T15:56:19.909Z"
   },
   {
    "duration": 0,
    "start_time": "2023-08-04T15:56:19.910Z"
   },
   {
    "duration": 0,
    "start_time": "2023-08-04T15:56:19.911Z"
   },
   {
    "duration": 0,
    "start_time": "2023-08-04T15:56:19.912Z"
   },
   {
    "duration": 1098,
    "start_time": "2023-08-04T15:56:50.940Z"
   },
   {
    "duration": 4565,
    "start_time": "2023-08-04T15:56:54.224Z"
   },
   {
    "duration": 973,
    "start_time": "2023-08-04T15:57:17.481Z"
   },
   {
    "duration": 20,
    "start_time": "2023-08-04T15:57:20.613Z"
   },
   {
    "duration": 11,
    "start_time": "2023-08-04T15:58:13.784Z"
   },
   {
    "duration": 3427,
    "start_time": "2023-08-04T16:23:28.675Z"
   },
   {
    "duration": 4017,
    "start_time": "2023-08-04T16:23:32.104Z"
   },
   {
    "duration": 60,
    "start_time": "2023-08-04T16:23:36.123Z"
   },
   {
    "duration": 9,
    "start_time": "2023-08-04T16:23:36.184Z"
   },
   {
    "duration": 108,
    "start_time": "2023-08-04T16:23:36.195Z"
   },
   {
    "duration": 1966,
    "start_time": "2023-08-04T16:23:36.305Z"
   },
   {
    "duration": 4,
    "start_time": "2023-08-04T16:23:38.274Z"
   },
   {
    "duration": 884707,
    "start_time": "2023-08-04T16:23:38.279Z"
   },
   {
    "duration": 11,
    "start_time": "2023-08-04T16:38:22.988Z"
   },
   {
    "duration": 58,
    "start_time": "2023-08-04T16:38:23.001Z"
   },
   {
    "duration": 17,
    "start_time": "2023-08-04T16:38:23.063Z"
   },
   {
    "duration": 3,
    "start_time": "2023-08-04T16:38:23.083Z"
   },
   {
    "duration": 27,
    "start_time": "2023-08-04T16:38:23.088Z"
   },
   {
    "duration": 32,
    "start_time": "2023-08-04T16:38:23.118Z"
   },
   {
    "duration": 21,
    "start_time": "2023-08-04T16:38:23.152Z"
   },
   {
    "duration": 15,
    "start_time": "2023-08-04T16:38:23.175Z"
   },
   {
    "duration": 21,
    "start_time": "2023-08-04T16:38:23.192Z"
   },
   {
    "duration": 11,
    "start_time": "2023-08-04T16:38:23.215Z"
   },
   {
    "duration": 16,
    "start_time": "2023-08-04T16:38:23.227Z"
   },
   {
    "duration": 31,
    "start_time": "2023-08-04T16:38:23.245Z"
   },
   {
    "duration": 41021,
    "start_time": "2023-08-04T16:38:23.278Z"
   },
   {
    "duration": 5,
    "start_time": "2023-08-04T16:39:04.302Z"
   },
   {
    "duration": 803676,
    "start_time": "2023-08-04T16:39:04.309Z"
   },
   {
    "duration": 4,
    "start_time": "2023-08-04T16:52:27.987Z"
   },
   {
    "duration": 297927,
    "start_time": "2023-08-04T16:52:27.993Z"
   },
   {
    "duration": 979,
    "start_time": "2023-08-04T16:57:25.922Z"
   },
   {
    "duration": 13569,
    "start_time": "2023-08-04T16:57:26.903Z"
   },
   {
    "duration": 1180,
    "start_time": "2023-08-04T16:57:40.473Z"
   },
   {
    "duration": 3798,
    "start_time": "2023-08-04T17:40:33.295Z"
   },
   {
    "duration": 4283,
    "start_time": "2023-08-04T17:40:48.715Z"
   },
   {
    "duration": 64,
    "start_time": "2023-08-04T17:40:53.000Z"
   },
   {
    "duration": 1035,
    "start_time": "2023-08-04T17:41:00.806Z"
   },
   {
    "duration": 14465,
    "start_time": "2023-08-04T17:41:02.545Z"
   },
   {
    "duration": 1180,
    "start_time": "2023-08-04T17:41:18.802Z"
   },
   {
    "duration": 3475819,
    "start_time": "2023-08-04T17:41:21.984Z"
   },
   {
    "duration": 7,
    "start_time": "2023-08-04T18:48:11.255Z"
   },
   {
    "duration": 402,
    "start_time": "2023-08-04T18:48:13.098Z"
   },
   {
    "duration": 302,
    "start_time": "2023-08-04T18:48:46.417Z"
   },
   {
    "duration": 894,
    "start_time": "2023-08-04T18:48:46.722Z"
   },
   {
    "duration": 72,
    "start_time": "2023-08-04T18:48:47.618Z"
   },
   {
    "duration": 9,
    "start_time": "2023-08-04T18:48:47.691Z"
   },
   {
    "duration": 113,
    "start_time": "2023-08-04T18:48:47.702Z"
   },
   {
    "duration": 1957,
    "start_time": "2023-08-04T18:48:47.817Z"
   },
   {
    "duration": 4,
    "start_time": "2023-08-04T18:48:49.776Z"
   },
   {
    "duration": 942431,
    "start_time": "2023-08-04T18:48:49.781Z"
   },
   {
    "duration": 7,
    "start_time": "2023-08-04T19:04:32.214Z"
   },
   {
    "duration": 56,
    "start_time": "2023-08-04T19:04:32.223Z"
   },
   {
    "duration": 3,
    "start_time": "2023-08-04T19:04:32.281Z"
   },
   {
    "duration": 22,
    "start_time": "2023-08-04T19:04:32.286Z"
   },
   {
    "duration": 36,
    "start_time": "2023-08-04T19:04:32.310Z"
   },
   {
    "duration": 25,
    "start_time": "2023-08-04T19:04:32.350Z"
   },
   {
    "duration": 22,
    "start_time": "2023-08-04T19:04:32.377Z"
   },
   {
    "duration": 30,
    "start_time": "2023-08-04T19:04:32.401Z"
   },
   {
    "duration": 49,
    "start_time": "2023-08-04T19:04:32.435Z"
   },
   {
    "duration": 11,
    "start_time": "2023-08-04T19:04:32.486Z"
   },
   {
    "duration": 14,
    "start_time": "2023-08-04T19:04:32.499Z"
   },
   {
    "duration": 17,
    "start_time": "2023-08-04T19:04:32.514Z"
   },
   {
    "duration": 41343,
    "start_time": "2023-08-04T19:04:32.533Z"
   },
   {
    "duration": 3,
    "start_time": "2023-08-04T19:05:13.878Z"
   },
   {
    "duration": 3327,
    "start_time": "2023-08-04T19:06:22.783Z"
   },
   {
    "duration": 3740,
    "start_time": "2023-08-04T19:06:26.112Z"
   },
   {
    "duration": 52,
    "start_time": "2023-08-04T19:06:29.854Z"
   },
   {
    "duration": 9,
    "start_time": "2023-08-04T19:06:29.909Z"
   },
   {
    "duration": 118,
    "start_time": "2023-08-04T19:06:29.920Z"
   },
   {
    "duration": 1912,
    "start_time": "2023-08-04T19:06:30.040Z"
   },
   {
    "duration": 16,
    "start_time": "2023-08-04T19:06:31.954Z"
   },
   {
    "duration": 861702,
    "start_time": "2023-08-04T19:06:31.972Z"
   },
   {
    "duration": 11,
    "start_time": "2023-08-04T19:20:53.676Z"
   },
   {
    "duration": 52,
    "start_time": "2023-08-04T19:20:53.689Z"
   },
   {
    "duration": 4,
    "start_time": "2023-08-04T19:20:53.743Z"
   },
   {
    "duration": 18,
    "start_time": "2023-08-04T19:20:53.748Z"
   },
   {
    "duration": 18,
    "start_time": "2023-08-04T19:20:53.768Z"
   },
   {
    "duration": 25,
    "start_time": "2023-08-04T19:20:53.788Z"
   },
   {
    "duration": 24,
    "start_time": "2023-08-04T19:20:53.816Z"
   },
   {
    "duration": 32,
    "start_time": "2023-08-04T19:20:53.841Z"
   },
   {
    "duration": 12,
    "start_time": "2023-08-04T19:20:53.875Z"
   },
   {
    "duration": 27,
    "start_time": "2023-08-04T19:20:53.888Z"
   },
   {
    "duration": 6,
    "start_time": "2023-08-04T19:20:53.917Z"
   },
   {
    "duration": 4,
    "start_time": "2023-08-04T19:20:53.926Z"
   },
   {
    "duration": 39344,
    "start_time": "2023-08-04T19:20:53.932Z"
   },
   {
    "duration": 4,
    "start_time": "2023-08-04T19:21:33.277Z"
   },
   {
    "duration": 779168,
    "start_time": "2023-08-04T19:21:33.283Z"
   },
   {
    "duration": 4,
    "start_time": "2023-08-04T19:34:32.460Z"
   },
   {
    "duration": 275200,
    "start_time": "2023-08-04T19:34:32.465Z"
   },
   {
    "duration": 887,
    "start_time": "2023-08-04T19:39:07.666Z"
   },
   {
    "duration": 14204,
    "start_time": "2023-08-04T19:39:08.555Z"
   },
   {
    "duration": 924,
    "start_time": "2023-08-04T19:39:22.762Z"
   },
   {
    "duration": 1489177,
    "start_time": "2023-08-04T19:39:23.688Z"
   },
   {
    "duration": 7,
    "start_time": "2023-08-04T20:04:12.867Z"
   },
   {
    "duration": 402,
    "start_time": "2023-08-04T20:04:12.876Z"
   },
   {
    "duration": 83,
    "start_time": "2023-08-04T20:04:13.280Z"
   },
   {
    "duration": 79,
    "start_time": "2023-08-04T20:04:13.365Z"
   },
   {
    "duration": 17,
    "start_time": "2023-08-04T20:04:13.446Z"
   },
   {
    "duration": 0,
    "start_time": "2023-08-04T20:04:13.464Z"
   },
   {
    "duration": 0,
    "start_time": "2023-08-04T20:04:13.465Z"
   },
   {
    "duration": 0,
    "start_time": "2023-08-04T20:04:13.466Z"
   },
   {
    "duration": 333,
    "start_time": "2023-08-04T20:06:28.760Z"
   },
   {
    "duration": 5,
    "start_time": "2023-08-04T20:07:30.673Z"
   },
   {
    "duration": 55004,
    "start_time": "2023-08-04T20:07:43.005Z"
   },
   {
    "duration": 88,
    "start_time": "2023-08-04T20:10:24.694Z"
   },
   {
    "duration": 3699,
    "start_time": "2023-08-04T20:10:30.162Z"
   },
   {
    "duration": 12,
    "start_time": "2023-08-04T20:10:38.179Z"
   },
   {
    "duration": 57238,
    "start_time": "2023-08-04T20:10:52.692Z"
   },
   {
    "duration": 740,
    "start_time": "2023-08-04T20:11:53.720Z"
   },
   {
    "duration": 701,
    "start_time": "2023-08-04T20:12:00.764Z"
   }
  ],
  "kernelspec": {
   "display_name": "Python 3 (ipykernel)",
   "language": "python",
   "name": "python3"
  },
  "language_info": {
   "codemirror_mode": {
    "name": "ipython",
    "version": 3
   },
   "file_extension": ".py",
   "mimetype": "text/x-python",
   "name": "python",
   "nbconvert_exporter": "python",
   "pygments_lexer": "ipython3",
   "version": "3.11.4"
  },
  "toc": {
   "base_numbering": 1,
   "nav_menu": {},
   "number_sections": true,
   "sideBar": true,
   "skip_h1_title": true,
   "title_cell": "Содержание",
   "title_sidebar": "Contents",
   "toc_cell": true,
   "toc_position": {
    "height": "calc(100% - 180px)",
    "left": "10px",
    "top": "150px",
    "width": "302.391px"
   },
   "toc_section_display": true,
   "toc_window_display": false
  }
 },
 "nbformat": 4,
 "nbformat_minor": 4
}
