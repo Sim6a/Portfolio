{
 "cells": [
  {
   "cell_type": "markdown",
   "metadata": {
    "toc": true
   },
   "source": [
    "<h1>Table of Contents<span class=\"tocSkip\"></span></h1>\n",
    "<div class=\"toc\"><ul class=\"toc-item\"><li><span><a href=\"#Подготовка-данных\" data-toc-modified-id=\"Подготовка-данных-1\"><span class=\"toc-item-num\">1&nbsp;&nbsp;</span>Подготовка данных</a></span><ul class=\"toc-item\"><li><span><a href=\"#Импортируем-библиотеки\" data-toc-modified-id=\"Импортируем-библиотеки-1.1\"><span class=\"toc-item-num\">1.1&nbsp;&nbsp;</span>Импортируем библиотеки</a></span></li><li><span><a href=\"#Загружаем-датасеты\" data-toc-modified-id=\"Загружаем-датасеты-1.2\"><span class=\"toc-item-num\">1.2&nbsp;&nbsp;</span>Загружаем датасеты</a></span></li></ul></li><li><span><a href=\"#Изучаем-данные\" data-toc-modified-id=\"Изучаем-данные-2\"><span class=\"toc-item-num\">2&nbsp;&nbsp;</span>Изучаем данные</a></span><ul class=\"toc-item\"><li><span><a href=\"#Данные-об-электродах\" data-toc-modified-id=\"Данные-об-электродах-2.1\"><span class=\"toc-item-num\">2.1&nbsp;&nbsp;</span>Данные об электродах</a></span></li><li><span><a href=\"#Данные-о-подаче-сыпучих-материалов-(объем)\" data-toc-modified-id=\"Данные-о-подаче-сыпучих-материалов-(объем)-2.2\"><span class=\"toc-item-num\">2.2&nbsp;&nbsp;</span>Данные о подаче сыпучих материалов (объем)</a></span></li><li><span><a href=\"#Данные-о-подаче-сыпучих-материалов-(время)\" data-toc-modified-id=\"Данные-о-подаче-сыпучих-материалов-(время)-2.3\"><span class=\"toc-item-num\">2.3&nbsp;&nbsp;</span>Данные о подаче сыпучих материалов (время)</a></span></li><li><span><a href=\"#Данные-о-подаче-проволочных-материалов-(объем)\" data-toc-modified-id=\"Данные-о-подаче-проволочных-материалов-(объем)-2.4\"><span class=\"toc-item-num\">2.4&nbsp;&nbsp;</span>Данные о подаче проволочных материалов (объем)</a></span></li><li><span><a href=\"#Данные-о-подаче-проволочных-материалов-(время)\" data-toc-modified-id=\"Данные-о-подаче-проволочных-материалов-(время)-2.5\"><span class=\"toc-item-num\">2.5&nbsp;&nbsp;</span>Данные о подаче проволочных материалов (время)</a></span></li><li><span><a href=\"#Данные-о-продувке-сплава-газом\" data-toc-modified-id=\"Данные-о-продувке-сплава-газом-2.6\"><span class=\"toc-item-num\">2.6&nbsp;&nbsp;</span>Данные о продувке сплава газом</a></span></li><li><span><a href=\"#Результаты-измерения-температуры\" data-toc-modified-id=\"Результаты-измерения-температуры-2.7\"><span class=\"toc-item-num\">2.7&nbsp;&nbsp;</span>Результаты измерения температуры</a></span></li></ul></li><li><span><a href=\"#Промежуточный-вывод\" data-toc-modified-id=\"Промежуточный-вывод-3\"><span class=\"toc-item-num\">3&nbsp;&nbsp;</span>Промежуточный вывод</a></span></li><li><span><a href=\"#Создание-признаков-и-объединение-таблиц\" data-toc-modified-id=\"Создание-признаков-и-объединение-таблиц-4\"><span class=\"toc-item-num\">4&nbsp;&nbsp;</span>Создание признаков и объединение таблиц</a></span><ul class=\"toc-item\"><li><span><a href=\"#Данные-об-электродах\" data-toc-modified-id=\"Данные-об-электродах-4.1\"><span class=\"toc-item-num\">4.1&nbsp;&nbsp;</span>Данные об электродах</a></span></li><li><span><a href=\"#Данные-о-сыпучих-материалах\" data-toc-modified-id=\"Данные-о-сыпучих-материалах-4.2\"><span class=\"toc-item-num\">4.2&nbsp;&nbsp;</span>Данные о сыпучих материалах</a></span></li><li><span><a href=\"#Данные-о-проволочных-материалах\" data-toc-modified-id=\"Данные-о-проволочных-материалах-4.3\"><span class=\"toc-item-num\">4.3&nbsp;&nbsp;</span>Данные о проволочных материалах</a></span></li><li><span><a href=\"#Данные-о-температуре\" data-toc-modified-id=\"Данные-о-температуре-4.4\"><span class=\"toc-item-num\">4.4&nbsp;&nbsp;</span>Данные о температуре</a></span></li><li><span><a href=\"#Итоговый-датафрейм\" data-toc-modified-id=\"Итоговый-датафрейм-4.5\"><span class=\"toc-item-num\">4.5&nbsp;&nbsp;</span>Итоговый датафрейм</a></span></li><li><span><a href=\"#Корреляция\" data-toc-modified-id=\"Корреляция-4.6\"><span class=\"toc-item-num\">4.6&nbsp;&nbsp;</span>Корреляция</a></span></li><li><span><a href=\"#Промежуточный-вывод\" data-toc-modified-id=\"Промежуточный-вывод-4.7\"><span class=\"toc-item-num\">4.7&nbsp;&nbsp;</span>Промежуточный вывод</a></span></li></ul></li><li><span><a href=\"#Обучение-моделей\" data-toc-modified-id=\"Обучение-моделей-5\"><span class=\"toc-item-num\">5&nbsp;&nbsp;</span>Обучение моделей</a></span><ul class=\"toc-item\"><li><span><a href=\"#Создание-обучающей-и-тестовой-выборок\" data-toc-modified-id=\"Создание-обучающей-и-тестовой-выборок-5.1\"><span class=\"toc-item-num\">5.1&nbsp;&nbsp;</span>Создание обучающей и тестовой выборок</a></span></li><li><span><a href=\"#Выполним-масштабирование-признаков\" data-toc-modified-id=\"Выполним-масштабирование-признаков-5.2\"><span class=\"toc-item-num\">5.2&nbsp;&nbsp;</span>Выполним масштабирование признаков</a></span></li><li><span><a href=\"#Линейная-регрессия\" data-toc-modified-id=\"Линейная-регрессия-5.3\"><span class=\"toc-item-num\">5.3&nbsp;&nbsp;</span>Линейная регрессия</a></span></li><li><span><a href=\"#Случайный-лес\" data-toc-modified-id=\"Случайный-лес-5.4\"><span class=\"toc-item-num\">5.4&nbsp;&nbsp;</span>Случайный лес</a></span></li><li><span><a href=\"#CatBoost-Regressor\" data-toc-modified-id=\"CatBoost-Regressor-5.5\"><span class=\"toc-item-num\">5.5&nbsp;&nbsp;</span>CatBoost Regressor</a></span></li><li><span><a href=\"#Optuna-+-CatBoost\" data-toc-modified-id=\"Optuna-+-CatBoost-5.6\"><span class=\"toc-item-num\">5.6&nbsp;&nbsp;</span>Optuna + CatBoost</a></span></li><li><span><a href=\"#Optuna-+-LigthGBM\" data-toc-modified-id=\"Optuna-+-LigthGBM-5.7\"><span class=\"toc-item-num\">5.7&nbsp;&nbsp;</span>Optuna + LigthGBM</a></span></li><li><span><a href=\"#Тестирование\" data-toc-modified-id=\"Тестирование-5.8\"><span class=\"toc-item-num\">5.8&nbsp;&nbsp;</span>Тестирование</a></span></li><li><span><a href=\"#Сравнение-важности-признаков\" data-toc-modified-id=\"Сравнение-важности-признаков-5.9\"><span class=\"toc-item-num\">5.9&nbsp;&nbsp;</span>Сравнение важности признаков</a></span></li><li><span><a href=\"#Промежуточный-вывод\" data-toc-modified-id=\"Промежуточный-вывод-5.10\"><span class=\"toc-item-num\">5.10&nbsp;&nbsp;</span>Промежуточный вывод</a></span></li></ul></li><li><span><a href=\"#Отчет\" data-toc-modified-id=\"Отчет-6\"><span class=\"toc-item-num\">6&nbsp;&nbsp;</span>Отчет</a></span></li><li><span><a href=\"#Вывод\" data-toc-modified-id=\"Вывод-7\"><span class=\"toc-item-num\">7&nbsp;&nbsp;</span>Вывод</a></span></li></ul></div>"
   ]
  },
  {
   "cell_type": "markdown",
   "metadata": {},
   "source": [
    "# Промышленность"
   ]
  },
  {
   "cell_type": "markdown",
   "metadata": {},
   "source": [
    "Чтобы оптимизировать производственные расходы, металлургический комбинат ООО «Так закаляем сталь» решил уменьшить потребление электроэнергии на этапе обработки стали. Необходимо предстоит построить модель, которая предскажет температуру стали."
   ]
  },
  {
   "cell_type": "markdown",
   "metadata": {},
   "source": [
    "**Описание этапа обработки**"
   ]
  },
  {
   "cell_type": "markdown",
   "metadata": {},
   "source": [
    "Сталь обрабатывают в металлическом ковше вместимостью около 100 тонн. Чтобы ковш выдерживал высокие температуры, изнутри его облицовывают огнеупорным кирпичом. Расплавленную сталь заливают в ковш и подогревают до нужной температуры графитовыми электродами. Они установлены в крышке ковша.\n",
    "\n",
    "Из сплава выводится сера (десульфурация), добавлением примесей корректируется химический состав и отбираются пробы. Сталь легируют — изменяют её состав — подавая куски сплава из бункера для сыпучих материалов или проволоку через специальный трайб-аппарат.\n",
    "\n",
    "Перед тем как первый раз ввести легирующие добавки, измеряют температуру стали и производят её химический анализ. Потом температуру на несколько минут повышают, добавляют легирующие материалы и продувают сплав инертным газом. Затем его перемешивают и снова проводят измерения. Такой цикл повторяется до достижения целевого химического состава и оптимальной температуры плавки.\n",
    "\n",
    "Тогда расплавленная сталь отправляется на доводку металла или поступает в машину непрерывной разливки. Оттуда готовый продукт выходит в виде заготовок-слябов."
   ]
  },
  {
   "cell_type": "markdown",
   "metadata": {},
   "source": [
    "**Описание данных**"
   ]
  },
  {
   "cell_type": "markdown",
   "metadata": {},
   "source": [
    "Данные состоят из файлов, полученных из разных источников:\n",
    "- data_arc_new.csv — данные об электродах;\n",
    "- data_bulk_new.csv — данные о подаче сыпучих материалов (объём);\n",
    "- data_bulk_time_new.csv — данные о подаче сыпучих материалов (время);\n",
    "- data_gas_new.csv — данные о продувке сплава газом;\n",
    "- data_temp_new.csv — результаты измерения температуры;\n",
    "- data_wire_new.csv — данные о проволочных материалах (объём);\n",
    "- data_wire_time_new.csv — данные о проволочных материалах (время).\n",
    "\n",
    "Во всех файлах столбец key содержит номер партии. В файлах может быть несколько строк с одинаковым значением key: они соответствуют разным итерациям обработки.\n"
   ]
  },
  {
   "cell_type": "markdown",
   "metadata": {},
   "source": [
    "**План работы:**\n",
    "\n",
    "- изучить данные - обработать пропуски, исключить аномальные значения, проверить выбросы;\n",
    "- определиться с тем, какие данные нужно оставить, а какие не пригодятся;\n",
    "- определить, какие новые признаки можно сформировать из имеющихся данных;\n",
    "- выделить признаки для моделей;\n",
    "- объединить таблицы в итоговый датафрейм;\n",
    "- выполнить предобработку признаков и разделение на выборки;\n",
    "- построить и обучить разные модели;\n",
    "- выполнить тестирование лучшей модели и провести анализ значимости признаков;\n",
    "\n",
    "**Вопросы:**\n",
    "\n",
    "- нужно понять, так ли необходимо оставить данные о всех материалах, или можно отсеять самые нишевые;\n",
    "- разобрать на живом примере процесс для конкретной партии;\n",
    "- нужно больше подробностей о том, как предсказание температуры поможет предприятию;"
   ]
  },
  {
   "cell_type": "markdown",
   "metadata": {},
   "source": [
    "## Подготовка данных"
   ]
  },
  {
   "cell_type": "markdown",
   "metadata": {},
   "source": [
    "### Импортируем библиотеки"
   ]
  },
  {
   "cell_type": "code",
   "execution_count": 2,
   "metadata": {},
   "outputs": [],
   "source": [
    "import pandas as pd\n",
    "import numpy as np\n",
    "import os\n",
    "import seaborn as sns\n",
    "import matplotlib.pyplot as plt\n",
    "from skimpy import clean_columns\n",
    "\n",
    "import optuna\n",
    "from optuna.integration import OptunaSearchCV\n",
    "from sklearn.model_selection import RandomizedSearchCV, train_test_split\n",
    "from sklearn.preprocessing import StandardScaler\n",
    "from sklearn.linear_model import LinearRegression\n",
    "from sklearn.ensemble import RandomForestRegressor\n",
    "from catboost import CatBoostRegressor\n",
    "from lightgbm import LGBMRegressor\n",
    "from sklearn.metrics import mean_absolute_error\n",
    "\n",
    "import warnings\n",
    "warnings.filterwarnings('ignore')\n",
    "STATE = 1092023"
   ]
  },
  {
   "cell_type": "markdown",
   "metadata": {},
   "source": [
    "### Загружаем датасеты"
   ]
  },
  {
   "cell_type": "code",
   "execution_count": 3,
   "metadata": {},
   "outputs": [],
   "source": [
    "PATH_ARC1 = 'data_arc_new.csv'\n",
    "PATH_ARC2 = '/datasets/data_arc_new.csv'\n",
    "\n",
    "PATH_BULK1 = 'data_bulk_new.csv'\n",
    "PATH_BULK2 = '/datasets/data_bulk_new.csv'\n",
    "\n",
    "PATH_BULK_TIME1 = 'data_bulk_time_new.csv'\n",
    "PATH_BULK_TIME2 = '/datasets/data_bulk_time_new.csv'\n",
    "\n",
    "PATH_GAS1 = 'data_gas_new.csv'\n",
    "PATH_GAS2 = '/datasets/data_gas_new.csv'\n",
    "\n",
    "PATH_TEMP1 = 'data_temp_new.csv'\n",
    "PATH_TEMP2 = '/datasets/data_temp_new.csv'\n",
    "\n",
    "PATH_WIRE1 = 'data_wire_new.csv'\n",
    "PATH_WIRE2 = '/datasets/data_wire_new.csv'\n",
    "\n",
    "PATH_WIRE_TIME1 = 'data_wire_time_new.csv'\n",
    "PATH_WIRE_TIME2 = '/datasets/data_wire_time_new.csv'\n",
    "\n",
    "def read_file(path1, path2):\n",
    "    if os.path.exists(path1):\n",
    "        df = pd.read_csv(path1)\n",
    "    elif os.path.exists(path2):\n",
    "        df = pd.read_csv(path2)\n",
    "    else:\n",
    "        print('File not found')\n",
    "    return df\n",
    "\n",
    "df_arc = read_file(PATH_ARC1, PATH_ARC2)\n",
    "df_bulk = read_file(PATH_BULK1, PATH_BULK2)\n",
    "df_bulk_time = read_file(PATH_BULK_TIME1, PATH_BULK_TIME2)\n",
    "df_gas = read_file(PATH_GAS1, PATH_GAS2)\n",
    "df_temp = read_file(PATH_TEMP1, PATH_TEMP2)\n",
    "df_wire = read_file(PATH_WIRE1, PATH_WIRE2)\n",
    "df_wire_time = read_file(PATH_WIRE_TIME1, PATH_WIRE_TIME2)"
   ]
  },
  {
   "cell_type": "markdown",
   "metadata": {},
   "source": [
    "## Изучаем данные"
   ]
  },
  {
   "cell_type": "markdown",
   "metadata": {},
   "source": [
    "### Данные об электродах"
   ]
  },
  {
   "cell_type": "code",
   "execution_count": 4,
   "metadata": {},
   "outputs": [
    {
     "data": {
      "text/html": [
       "<div>\n",
       "<style scoped>\n",
       "    .dataframe tbody tr th:only-of-type {\n",
       "        vertical-align: middle;\n",
       "    }\n",
       "\n",
       "    .dataframe tbody tr th {\n",
       "        vertical-align: top;\n",
       "    }\n",
       "\n",
       "    .dataframe thead th {\n",
       "        text-align: right;\n",
       "    }\n",
       "</style>\n",
       "<table border=\"1\" class=\"dataframe\">\n",
       "  <thead>\n",
       "    <tr style=\"text-align: right;\">\n",
       "      <th></th>\n",
       "      <th>key</th>\n",
       "      <th>Начало нагрева дугой</th>\n",
       "      <th>Конец нагрева дугой</th>\n",
       "      <th>Активная мощность</th>\n",
       "      <th>Реактивная мощность</th>\n",
       "    </tr>\n",
       "  </thead>\n",
       "  <tbody>\n",
       "    <tr>\n",
       "      <th>0</th>\n",
       "      <td>1</td>\n",
       "      <td>2019-05-03 11:02:14</td>\n",
       "      <td>2019-05-03 11:06:02</td>\n",
       "      <td>0.305130</td>\n",
       "      <td>0.211253</td>\n",
       "    </tr>\n",
       "    <tr>\n",
       "      <th>1</th>\n",
       "      <td>1</td>\n",
       "      <td>2019-05-03 11:07:28</td>\n",
       "      <td>2019-05-03 11:10:33</td>\n",
       "      <td>0.765658</td>\n",
       "      <td>0.477438</td>\n",
       "    </tr>\n",
       "    <tr>\n",
       "      <th>2</th>\n",
       "      <td>1</td>\n",
       "      <td>2019-05-03 11:11:44</td>\n",
       "      <td>2019-05-03 11:14:36</td>\n",
       "      <td>0.580313</td>\n",
       "      <td>0.430460</td>\n",
       "    </tr>\n",
       "    <tr>\n",
       "      <th>3</th>\n",
       "      <td>1</td>\n",
       "      <td>2019-05-03 11:18:14</td>\n",
       "      <td>2019-05-03 11:24:19</td>\n",
       "      <td>0.518496</td>\n",
       "      <td>0.379979</td>\n",
       "    </tr>\n",
       "    <tr>\n",
       "      <th>4</th>\n",
       "      <td>1</td>\n",
       "      <td>2019-05-03 11:26:09</td>\n",
       "      <td>2019-05-03 11:28:37</td>\n",
       "      <td>0.867133</td>\n",
       "      <td>0.643691</td>\n",
       "    </tr>\n",
       "    <tr>\n",
       "      <th>...</th>\n",
       "      <td>...</td>\n",
       "      <td>...</td>\n",
       "      <td>...</td>\n",
       "      <td>...</td>\n",
       "      <td>...</td>\n",
       "    </tr>\n",
       "    <tr>\n",
       "      <th>14871</th>\n",
       "      <td>3241</td>\n",
       "      <td>2019-09-06 16:49:05</td>\n",
       "      <td>2019-09-06 16:51:42</td>\n",
       "      <td>0.439735</td>\n",
       "      <td>0.299579</td>\n",
       "    </tr>\n",
       "    <tr>\n",
       "      <th>14872</th>\n",
       "      <td>3241</td>\n",
       "      <td>2019-09-06 16:55:11</td>\n",
       "      <td>2019-09-06 16:58:11</td>\n",
       "      <td>0.646498</td>\n",
       "      <td>0.458240</td>\n",
       "    </tr>\n",
       "    <tr>\n",
       "      <th>14873</th>\n",
       "      <td>3241</td>\n",
       "      <td>2019-09-06 17:06:48</td>\n",
       "      <td>2019-09-06 17:09:52</td>\n",
       "      <td>1.039726</td>\n",
       "      <td>0.769302</td>\n",
       "    </tr>\n",
       "    <tr>\n",
       "      <th>14874</th>\n",
       "      <td>3241</td>\n",
       "      <td>2019-09-06 17:21:58</td>\n",
       "      <td>2019-09-06 17:22:55</td>\n",
       "      <td>0.530267</td>\n",
       "      <td>0.361543</td>\n",
       "    </tr>\n",
       "    <tr>\n",
       "      <th>14875</th>\n",
       "      <td>3241</td>\n",
       "      <td>2019-09-06 17:24:54</td>\n",
       "      <td>2019-09-06 17:26:15</td>\n",
       "      <td>0.389057</td>\n",
       "      <td>0.251347</td>\n",
       "    </tr>\n",
       "  </tbody>\n",
       "</table>\n",
       "<p>14876 rows × 5 columns</p>\n",
       "</div>"
      ],
      "text/plain": [
       "        key Начало нагрева дугой  Конец нагрева дугой  Активная мощность  \\\n",
       "0         1  2019-05-03 11:02:14  2019-05-03 11:06:02           0.305130   \n",
       "1         1  2019-05-03 11:07:28  2019-05-03 11:10:33           0.765658   \n",
       "2         1  2019-05-03 11:11:44  2019-05-03 11:14:36           0.580313   \n",
       "3         1  2019-05-03 11:18:14  2019-05-03 11:24:19           0.518496   \n",
       "4         1  2019-05-03 11:26:09  2019-05-03 11:28:37           0.867133   \n",
       "...     ...                  ...                  ...                ...   \n",
       "14871  3241  2019-09-06 16:49:05  2019-09-06 16:51:42           0.439735   \n",
       "14872  3241  2019-09-06 16:55:11  2019-09-06 16:58:11           0.646498   \n",
       "14873  3241  2019-09-06 17:06:48  2019-09-06 17:09:52           1.039726   \n",
       "14874  3241  2019-09-06 17:21:58  2019-09-06 17:22:55           0.530267   \n",
       "14875  3241  2019-09-06 17:24:54  2019-09-06 17:26:15           0.389057   \n",
       "\n",
       "       Реактивная мощность  \n",
       "0                 0.211253  \n",
       "1                 0.477438  \n",
       "2                 0.430460  \n",
       "3                 0.379979  \n",
       "4                 0.643691  \n",
       "...                    ...  \n",
       "14871             0.299579  \n",
       "14872             0.458240  \n",
       "14873             0.769302  \n",
       "14874             0.361543  \n",
       "14875             0.251347  \n",
       "\n",
       "[14876 rows x 5 columns]"
      ]
     },
     "execution_count": 4,
     "metadata": {},
     "output_type": "execute_result"
    }
   ],
   "source": [
    "df_arc"
   ]
  },
  {
   "cell_type": "markdown",
   "metadata": {},
   "source": [
    "Приведем в порядок названия столбцов."
   ]
  },
  {
   "cell_type": "code",
   "execution_count": 5,
   "metadata": {},
   "outputs": [],
   "source": [
    "df_arc.columns = ['key', 'arc_heating_start', 'arc_heating_end', 'active_power', 'reactive_power']"
   ]
  },
  {
   "cell_type": "markdown",
   "metadata": {},
   "source": [
    "Проверим описание данных."
   ]
  },
  {
   "cell_type": "code",
   "execution_count": 6,
   "metadata": {},
   "outputs": [
    {
     "name": "stdout",
     "output_type": "stream",
     "text": [
      "<class 'pandas.core.frame.DataFrame'>\n",
      "RangeIndex: 14876 entries, 0 to 14875\n",
      "Data columns (total 5 columns):\n",
      " #   Column             Non-Null Count  Dtype  \n",
      "---  ------             --------------  -----  \n",
      " 0   key                14876 non-null  int64  \n",
      " 1   arc_heating_start  14876 non-null  object \n",
      " 2   arc_heating_end    14876 non-null  object \n",
      " 3   active_power       14876 non-null  float64\n",
      " 4   reactive_power     14876 non-null  float64\n",
      "dtypes: float64(2), int64(1), object(2)\n",
      "memory usage: 581.2+ KB\n"
     ]
    }
   ],
   "source": [
    "df_arc.info()"
   ]
  },
  {
   "cell_type": "markdown",
   "metadata": {},
   "source": [
    "Пропусков нет. Приведем столбцы с датой и временем к нужному типу."
   ]
  },
  {
   "cell_type": "code",
   "execution_count": 7,
   "metadata": {},
   "outputs": [],
   "source": [
    "df_arc['arc_heating_start'] = pd.to_datetime(df_arc['arc_heating_start'])\n",
    "df_arc['arc_heating_end'] = pd.to_datetime(df_arc['arc_heating_end'])"
   ]
  },
  {
   "cell_type": "markdown",
   "metadata": {},
   "source": [
    "Посмотрим на описательную статистику."
   ]
  },
  {
   "cell_type": "code",
   "execution_count": 8,
   "metadata": {},
   "outputs": [
    {
     "data": {
      "text/html": [
       "<div>\n",
       "<style scoped>\n",
       "    .dataframe tbody tr th:only-of-type {\n",
       "        vertical-align: middle;\n",
       "    }\n",
       "\n",
       "    .dataframe tbody tr th {\n",
       "        vertical-align: top;\n",
       "    }\n",
       "\n",
       "    .dataframe thead th {\n",
       "        text-align: right;\n",
       "    }\n",
       "</style>\n",
       "<table border=\"1\" class=\"dataframe\">\n",
       "  <thead>\n",
       "    <tr style=\"text-align: right;\">\n",
       "      <th></th>\n",
       "      <th>key</th>\n",
       "      <th>arc_heating_start</th>\n",
       "      <th>arc_heating_end</th>\n",
       "      <th>active_power</th>\n",
       "      <th>reactive_power</th>\n",
       "    </tr>\n",
       "  </thead>\n",
       "  <tbody>\n",
       "    <tr>\n",
       "      <th>count</th>\n",
       "      <td>14876.000000</td>\n",
       "      <td>14876</td>\n",
       "      <td>14876</td>\n",
       "      <td>14876.000000</td>\n",
       "      <td>14876.000000</td>\n",
       "    </tr>\n",
       "    <tr>\n",
       "      <th>mean</th>\n",
       "      <td>1615.220422</td>\n",
       "      <td>2019-07-05 12:25:51.921081088</td>\n",
       "      <td>2019-07-05 12:28:43.592027392</td>\n",
       "      <td>0.662752</td>\n",
       "      <td>0.438986</td>\n",
       "    </tr>\n",
       "    <tr>\n",
       "      <th>min</th>\n",
       "      <td>1.000000</td>\n",
       "      <td>2019-05-03 11:02:14</td>\n",
       "      <td>2019-05-03 11:06:02</td>\n",
       "      <td>0.223120</td>\n",
       "      <td>-715.479924</td>\n",
       "    </tr>\n",
       "    <tr>\n",
       "      <th>25%</th>\n",
       "      <td>806.000000</td>\n",
       "      <td>2019-06-03 23:18:23.249999872</td>\n",
       "      <td>2019-06-03 23:21:35</td>\n",
       "      <td>0.467115</td>\n",
       "      <td>0.337175</td>\n",
       "    </tr>\n",
       "    <tr>\n",
       "      <th>50%</th>\n",
       "      <td>1617.000000</td>\n",
       "      <td>2019-07-03 01:31:26.500000</td>\n",
       "      <td>2019-07-03 01:35:13</td>\n",
       "      <td>0.599587</td>\n",
       "      <td>0.441639</td>\n",
       "    </tr>\n",
       "    <tr>\n",
       "      <th>75%</th>\n",
       "      <td>2429.000000</td>\n",
       "      <td>2019-08-07 22:52:20.750000128</td>\n",
       "      <td>2019-08-07 22:56:47</td>\n",
       "      <td>0.830070</td>\n",
       "      <td>0.608201</td>\n",
       "    </tr>\n",
       "    <tr>\n",
       "      <th>max</th>\n",
       "      <td>3241.000000</td>\n",
       "      <td>2019-09-06 17:24:54</td>\n",
       "      <td>2019-09-06 17:26:15</td>\n",
       "      <td>1.463773</td>\n",
       "      <td>1.270284</td>\n",
       "    </tr>\n",
       "    <tr>\n",
       "      <th>std</th>\n",
       "      <td>934.571502</td>\n",
       "      <td>NaN</td>\n",
       "      <td>NaN</td>\n",
       "      <td>0.258885</td>\n",
       "      <td>5.873485</td>\n",
       "    </tr>\n",
       "  </tbody>\n",
       "</table>\n",
       "</div>"
      ],
      "text/plain": [
       "                key              arc_heating_start  \\\n",
       "count  14876.000000                          14876   \n",
       "mean    1615.220422  2019-07-05 12:25:51.921081088   \n",
       "min        1.000000            2019-05-03 11:02:14   \n",
       "25%      806.000000  2019-06-03 23:18:23.249999872   \n",
       "50%     1617.000000     2019-07-03 01:31:26.500000   \n",
       "75%     2429.000000  2019-08-07 22:52:20.750000128   \n",
       "max     3241.000000            2019-09-06 17:24:54   \n",
       "std      934.571502                            NaN   \n",
       "\n",
       "                     arc_heating_end  active_power  reactive_power  \n",
       "count                          14876  14876.000000    14876.000000  \n",
       "mean   2019-07-05 12:28:43.592027392      0.662752        0.438986  \n",
       "min              2019-05-03 11:06:02      0.223120     -715.479924  \n",
       "25%              2019-06-03 23:21:35      0.467115        0.337175  \n",
       "50%              2019-07-03 01:35:13      0.599587        0.441639  \n",
       "75%              2019-08-07 22:56:47      0.830070        0.608201  \n",
       "max              2019-09-06 17:26:15      1.463773        1.270284  \n",
       "std                              NaN      0.258885        5.873485  "
      ]
     },
     "execution_count": 8,
     "metadata": {},
     "output_type": "execute_result"
    }
   ],
   "source": [
    "df_arc.describe()"
   ]
  },
  {
   "cell_type": "markdown",
   "metadata": {},
   "source": [
    "Видим отрицательное значение реактивной мощности. Проверим, нормально ли это, или это выброс."
   ]
  },
  {
   "cell_type": "code",
   "execution_count": 9,
   "metadata": {},
   "outputs": [
    {
     "data": {
      "text/html": [
       "<div>\n",
       "<style scoped>\n",
       "    .dataframe tbody tr th:only-of-type {\n",
       "        vertical-align: middle;\n",
       "    }\n",
       "\n",
       "    .dataframe tbody tr th {\n",
       "        vertical-align: top;\n",
       "    }\n",
       "\n",
       "    .dataframe thead th {\n",
       "        text-align: right;\n",
       "    }\n",
       "</style>\n",
       "<table border=\"1\" class=\"dataframe\">\n",
       "  <thead>\n",
       "    <tr style=\"text-align: right;\">\n",
       "      <th></th>\n",
       "      <th>key</th>\n",
       "      <th>arc_heating_start</th>\n",
       "      <th>arc_heating_end</th>\n",
       "      <th>active_power</th>\n",
       "      <th>reactive_power</th>\n",
       "    </tr>\n",
       "  </thead>\n",
       "  <tbody>\n",
       "    <tr>\n",
       "      <th>9780</th>\n",
       "      <td>2116</td>\n",
       "      <td>2019-07-28 02:22:08</td>\n",
       "      <td>2019-07-28 02:23:57</td>\n",
       "      <td>0.705344</td>\n",
       "      <td>-715.479924</td>\n",
       "    </tr>\n",
       "  </tbody>\n",
       "</table>\n",
       "</div>"
      ],
      "text/plain": [
       "       key   arc_heating_start     arc_heating_end  active_power  \\\n",
       "9780  2116 2019-07-28 02:22:08 2019-07-28 02:23:57      0.705344   \n",
       "\n",
       "      reactive_power  \n",
       "9780     -715.479924  "
      ]
     },
     "metadata": {},
     "output_type": "display_data"
    }
   ],
   "source": [
    "display(df_arc[df_arc['reactive_power'] < 0])"
   ]
  },
  {
   "cell_type": "markdown",
   "metadata": {},
   "source": [
    "Единичный случай, это точно выброс. Удалим эту запись из всех таблиц."
   ]
  },
  {
   "cell_type": "code",
   "execution_count": 10,
   "metadata": {},
   "outputs": [],
   "source": [
    "def clean_df(bad_keys):\n",
    "    global df_arc, df_bulk, df_bulk_time, df_gas, df_temp, df_wire, df_wire_time\n",
    "    df_arc = df_arc.query('key not in @bad_keys')\n",
    "    df_bulk = df_bulk.query('key not in @bad_keys')\n",
    "    df_bulk_time = df_bulk_time.query('key not in @bad_keys')\n",
    "    df_gas = df_gas.query('key not in @bad_keys')\n",
    "    df_temp = df_temp.query('key not in @bad_keys')\n",
    "    df_wire = df_wire.query('key not in @bad_keys')\n",
    "    df_wire_time = df_wire_time.query('key not in @bad_keys')"
   ]
  },
  {
   "cell_type": "code",
   "execution_count": 11,
   "metadata": {},
   "outputs": [],
   "source": [
    "clean_df([2116])"
   ]
  },
  {
   "cell_type": "markdown",
   "metadata": {},
   "source": [
    "Посмотрим на распределение столбцов с мощностью"
   ]
  },
  {
   "cell_type": "code",
   "execution_count": 12,
   "metadata": {},
   "outputs": [
    {
     "data": {
      "image/png": "[encoded data removed]",
      "text/plain": [
       "<Figure size 640x480 with 1 Axes>"
      ]
     },
     "metadata": {},
     "output_type": "display_data"
    }
   ],
   "source": [
    "plt.figure()\n",
    "ax = df_arc['active_power'].hist(bins = 20)\n",
    "ax.set_title('Распределение активных мощностей нагрева')\n",
    "ax.set_ylabel('Количество наблюдений')\n",
    "ax.set_xlabel('Активная мощность');"
   ]
  },
  {
   "cell_type": "code",
   "execution_count": 13,
   "metadata": {},
   "outputs": [
    {
     "data": {
      "image/png": "[encoded data removed]",
      "text/plain": [
       "<Figure size 640x480 with 1 Axes>"
      ]
     },
     "metadata": {},
     "output_type": "display_data"
    }
   ],
   "source": [
    "plt.figure()\n",
    "ax = df_arc.boxplot(column = 'active_power')\n",
    "ax.set_title('Диаграмма размаха активных мощностей нагрева')\n",
    "ax.set_ylabel('Значения')\n",
    "ax.set_xlabel('Активная мощность');"
   ]
  },
  {
   "cell_type": "code",
   "execution_count": 14,
   "metadata": {},
   "outputs": [
    {
     "data": {
      "image/png": "[encoded data removed]",
      "text/plain": [
       "<Figure size 640x480 with 1 Axes>"
      ]
     },
     "metadata": {},
     "output_type": "display_data"
    }
   ],
   "source": [
    "plt.figure()\n",
    "ax = df_arc['reactive_power'].hist(bins = 20)\n",
    "ax.set_title('Распределение реактивных мощностей нагрева')\n",
    "ax.set_ylabel('Количество наблюдений')\n",
    "ax.set_xlabel('Реактивная мощность');"
   ]
  },
  {
   "cell_type": "code",
   "execution_count": 15,
   "metadata": {},
   "outputs": [
    {
     "data": {
      "image/png": "[encoded data removed]",
      "text/plain": [
       "<Figure size 640x480 with 1 Axes>"
      ]
     },
     "metadata": {},
     "output_type": "display_data"
    }
   ],
   "source": [
    "plt.figure()\n",
    "ax = df_arc.boxplot(column = 'reactive_power')\n",
    "ax.set_title('Диаграмма размаха реактивных мощностей нагрева')\n",
    "ax.set_ylabel('Значения')\n",
    "ax.set_xlabel('Реактивная мощность');"
   ]
  },
  {
   "cell_type": "markdown",
   "metadata": {},
   "source": [
    "Видим, что распределения в порядке, но диаграммы размаха показывают большое количество выбросов. Однако, каких-то явно аномальных значений нет. В дальнейшем, наша модель должна работать на практике со всеми возможными диапазонами значений, поэтому оставим всё как есть."
   ]
  },
  {
   "cell_type": "markdown",
   "metadata": {},
   "source": [
    "### Данные о подаче сыпучих материалов (объем)"
   ]
  },
  {
   "cell_type": "code",
   "execution_count": 16,
   "metadata": {},
   "outputs": [
    {
     "data": {
      "text/html": [
       "<div>\n",
       "<style scoped>\n",
       "    .dataframe tbody tr th:only-of-type {\n",
       "        vertical-align: middle;\n",
       "    }\n",
       "\n",
       "    .dataframe tbody tr th {\n",
       "        vertical-align: top;\n",
       "    }\n",
       "\n",
       "    .dataframe thead th {\n",
       "        text-align: right;\n",
       "    }\n",
       "</style>\n",
       "<table border=\"1\" class=\"dataframe\">\n",
       "  <thead>\n",
       "    <tr style=\"text-align: right;\">\n",
       "      <th></th>\n",
       "      <th>key</th>\n",
       "      <th>Bulk 1</th>\n",
       "      <th>Bulk 2</th>\n",
       "      <th>Bulk 3</th>\n",
       "      <th>Bulk 4</th>\n",
       "      <th>Bulk 5</th>\n",
       "      <th>Bulk 6</th>\n",
       "      <th>Bulk 7</th>\n",
       "      <th>Bulk 8</th>\n",
       "      <th>Bulk 9</th>\n",
       "      <th>Bulk 10</th>\n",
       "      <th>Bulk 11</th>\n",
       "      <th>Bulk 12</th>\n",
       "      <th>Bulk 13</th>\n",
       "      <th>Bulk 14</th>\n",
       "      <th>Bulk 15</th>\n",
       "    </tr>\n",
       "  </thead>\n",
       "  <tbody>\n",
       "    <tr>\n",
       "      <th>0</th>\n",
       "      <td>1</td>\n",
       "      <td>NaN</td>\n",
       "      <td>NaN</td>\n",
       "      <td>NaN</td>\n",
       "      <td>43.0</td>\n",
       "      <td>NaN</td>\n",
       "      <td>NaN</td>\n",
       "      <td>NaN</td>\n",
       "      <td>NaN</td>\n",
       "      <td>NaN</td>\n",
       "      <td>NaN</td>\n",
       "      <td>NaN</td>\n",
       "      <td>206.0</td>\n",
       "      <td>NaN</td>\n",
       "      <td>150.0</td>\n",
       "      <td>154.0</td>\n",
       "    </tr>\n",
       "    <tr>\n",
       "      <th>1</th>\n",
       "      <td>2</td>\n",
       "      <td>NaN</td>\n",
       "      <td>NaN</td>\n",
       "      <td>NaN</td>\n",
       "      <td>73.0</td>\n",
       "      <td>NaN</td>\n",
       "      <td>NaN</td>\n",
       "      <td>NaN</td>\n",
       "      <td>NaN</td>\n",
       "      <td>NaN</td>\n",
       "      <td>NaN</td>\n",
       "      <td>NaN</td>\n",
       "      <td>206.0</td>\n",
       "      <td>NaN</td>\n",
       "      <td>149.0</td>\n",
       "      <td>154.0</td>\n",
       "    </tr>\n",
       "    <tr>\n",
       "      <th>2</th>\n",
       "      <td>3</td>\n",
       "      <td>NaN</td>\n",
       "      <td>NaN</td>\n",
       "      <td>NaN</td>\n",
       "      <td>34.0</td>\n",
       "      <td>NaN</td>\n",
       "      <td>NaN</td>\n",
       "      <td>NaN</td>\n",
       "      <td>NaN</td>\n",
       "      <td>NaN</td>\n",
       "      <td>NaN</td>\n",
       "      <td>NaN</td>\n",
       "      <td>205.0</td>\n",
       "      <td>NaN</td>\n",
       "      <td>152.0</td>\n",
       "      <td>153.0</td>\n",
       "    </tr>\n",
       "    <tr>\n",
       "      <th>3</th>\n",
       "      <td>4</td>\n",
       "      <td>NaN</td>\n",
       "      <td>NaN</td>\n",
       "      <td>NaN</td>\n",
       "      <td>81.0</td>\n",
       "      <td>NaN</td>\n",
       "      <td>NaN</td>\n",
       "      <td>NaN</td>\n",
       "      <td>NaN</td>\n",
       "      <td>NaN</td>\n",
       "      <td>NaN</td>\n",
       "      <td>NaN</td>\n",
       "      <td>207.0</td>\n",
       "      <td>NaN</td>\n",
       "      <td>153.0</td>\n",
       "      <td>154.0</td>\n",
       "    </tr>\n",
       "    <tr>\n",
       "      <th>4</th>\n",
       "      <td>5</td>\n",
       "      <td>NaN</td>\n",
       "      <td>NaN</td>\n",
       "      <td>NaN</td>\n",
       "      <td>78.0</td>\n",
       "      <td>NaN</td>\n",
       "      <td>NaN</td>\n",
       "      <td>NaN</td>\n",
       "      <td>NaN</td>\n",
       "      <td>NaN</td>\n",
       "      <td>NaN</td>\n",
       "      <td>NaN</td>\n",
       "      <td>203.0</td>\n",
       "      <td>NaN</td>\n",
       "      <td>151.0</td>\n",
       "      <td>152.0</td>\n",
       "    </tr>\n",
       "    <tr>\n",
       "      <th>...</th>\n",
       "      <td>...</td>\n",
       "      <td>...</td>\n",
       "      <td>...</td>\n",
       "      <td>...</td>\n",
       "      <td>...</td>\n",
       "      <td>...</td>\n",
       "      <td>...</td>\n",
       "      <td>...</td>\n",
       "      <td>...</td>\n",
       "      <td>...</td>\n",
       "      <td>...</td>\n",
       "      <td>...</td>\n",
       "      <td>...</td>\n",
       "      <td>...</td>\n",
       "      <td>...</td>\n",
       "      <td>...</td>\n",
       "    </tr>\n",
       "    <tr>\n",
       "      <th>3124</th>\n",
       "      <td>3237</td>\n",
       "      <td>NaN</td>\n",
       "      <td>NaN</td>\n",
       "      <td>170.0</td>\n",
       "      <td>NaN</td>\n",
       "      <td>NaN</td>\n",
       "      <td>NaN</td>\n",
       "      <td>NaN</td>\n",
       "      <td>NaN</td>\n",
       "      <td>NaN</td>\n",
       "      <td>NaN</td>\n",
       "      <td>NaN</td>\n",
       "      <td>252.0</td>\n",
       "      <td>NaN</td>\n",
       "      <td>130.0</td>\n",
       "      <td>206.0</td>\n",
       "    </tr>\n",
       "    <tr>\n",
       "      <th>3125</th>\n",
       "      <td>3238</td>\n",
       "      <td>NaN</td>\n",
       "      <td>NaN</td>\n",
       "      <td>126.0</td>\n",
       "      <td>NaN</td>\n",
       "      <td>NaN</td>\n",
       "      <td>NaN</td>\n",
       "      <td>NaN</td>\n",
       "      <td>NaN</td>\n",
       "      <td>NaN</td>\n",
       "      <td>NaN</td>\n",
       "      <td>NaN</td>\n",
       "      <td>254.0</td>\n",
       "      <td>NaN</td>\n",
       "      <td>108.0</td>\n",
       "      <td>106.0</td>\n",
       "    </tr>\n",
       "    <tr>\n",
       "      <th>3126</th>\n",
       "      <td>3239</td>\n",
       "      <td>NaN</td>\n",
       "      <td>NaN</td>\n",
       "      <td>NaN</td>\n",
       "      <td>NaN</td>\n",
       "      <td>NaN</td>\n",
       "      <td>114.0</td>\n",
       "      <td>NaN</td>\n",
       "      <td>NaN</td>\n",
       "      <td>NaN</td>\n",
       "      <td>NaN</td>\n",
       "      <td>NaN</td>\n",
       "      <td>158.0</td>\n",
       "      <td>NaN</td>\n",
       "      <td>270.0</td>\n",
       "      <td>88.0</td>\n",
       "    </tr>\n",
       "    <tr>\n",
       "      <th>3127</th>\n",
       "      <td>3240</td>\n",
       "      <td>NaN</td>\n",
       "      <td>NaN</td>\n",
       "      <td>NaN</td>\n",
       "      <td>NaN</td>\n",
       "      <td>NaN</td>\n",
       "      <td>26.0</td>\n",
       "      <td>NaN</td>\n",
       "      <td>NaN</td>\n",
       "      <td>NaN</td>\n",
       "      <td>NaN</td>\n",
       "      <td>NaN</td>\n",
       "      <td>NaN</td>\n",
       "      <td>NaN</td>\n",
       "      <td>192.0</td>\n",
       "      <td>54.0</td>\n",
       "    </tr>\n",
       "    <tr>\n",
       "      <th>3128</th>\n",
       "      <td>3241</td>\n",
       "      <td>NaN</td>\n",
       "      <td>NaN</td>\n",
       "      <td>NaN</td>\n",
       "      <td>NaN</td>\n",
       "      <td>NaN</td>\n",
       "      <td>NaN</td>\n",
       "      <td>NaN</td>\n",
       "      <td>NaN</td>\n",
       "      <td>NaN</td>\n",
       "      <td>NaN</td>\n",
       "      <td>NaN</td>\n",
       "      <td>NaN</td>\n",
       "      <td>NaN</td>\n",
       "      <td>180.0</td>\n",
       "      <td>52.0</td>\n",
       "    </tr>\n",
       "  </tbody>\n",
       "</table>\n",
       "<p>3128 rows × 16 columns</p>\n",
       "</div>"
      ],
      "text/plain": [
       "       key  Bulk 1  Bulk 2  Bulk 3  Bulk 4  Bulk 5  Bulk 6  Bulk 7  Bulk 8  \\\n",
       "0        1     NaN     NaN     NaN    43.0     NaN     NaN     NaN     NaN   \n",
       "1        2     NaN     NaN     NaN    73.0     NaN     NaN     NaN     NaN   \n",
       "2        3     NaN     NaN     NaN    34.0     NaN     NaN     NaN     NaN   \n",
       "3        4     NaN     NaN     NaN    81.0     NaN     NaN     NaN     NaN   \n",
       "4        5     NaN     NaN     NaN    78.0     NaN     NaN     NaN     NaN   \n",
       "...    ...     ...     ...     ...     ...     ...     ...     ...     ...   \n",
       "3124  3237     NaN     NaN   170.0     NaN     NaN     NaN     NaN     NaN   \n",
       "3125  3238     NaN     NaN   126.0     NaN     NaN     NaN     NaN     NaN   \n",
       "3126  3239     NaN     NaN     NaN     NaN     NaN   114.0     NaN     NaN   \n",
       "3127  3240     NaN     NaN     NaN     NaN     NaN    26.0     NaN     NaN   \n",
       "3128  3241     NaN     NaN     NaN     NaN     NaN     NaN     NaN     NaN   \n",
       "\n",
       "      Bulk 9  Bulk 10  Bulk 11  Bulk 12  Bulk 13  Bulk 14  Bulk 15  \n",
       "0        NaN      NaN      NaN    206.0      NaN    150.0    154.0  \n",
       "1        NaN      NaN      NaN    206.0      NaN    149.0    154.0  \n",
       "2        NaN      NaN      NaN    205.0      NaN    152.0    153.0  \n",
       "3        NaN      NaN      NaN    207.0      NaN    153.0    154.0  \n",
       "4        NaN      NaN      NaN    203.0      NaN    151.0    152.0  \n",
       "...      ...      ...      ...      ...      ...      ...      ...  \n",
       "3124     NaN      NaN      NaN    252.0      NaN    130.0    206.0  \n",
       "3125     NaN      NaN      NaN    254.0      NaN    108.0    106.0  \n",
       "3126     NaN      NaN      NaN    158.0      NaN    270.0     88.0  \n",
       "3127     NaN      NaN      NaN      NaN      NaN    192.0     54.0  \n",
       "3128     NaN      NaN      NaN      NaN      NaN    180.0     52.0  \n",
       "\n",
       "[3128 rows x 16 columns]"
      ]
     },
     "execution_count": 16,
     "metadata": {},
     "output_type": "execute_result"
    }
   ],
   "source": [
    "df_bulk"
   ]
  },
  {
   "cell_type": "markdown",
   "metadata": {},
   "source": [
    "Заполним нулями пропуски в материалах, которые не использовались."
   ]
  },
  {
   "cell_type": "code",
   "execution_count": 17,
   "metadata": {},
   "outputs": [],
   "source": [
    "df_bulk = df_bulk.fillna(0)"
   ]
  },
  {
   "cell_type": "code",
   "execution_count": 18,
   "metadata": {},
   "outputs": [
    {
     "name": "stdout",
     "output_type": "stream",
     "text": [
      "<class 'pandas.core.frame.DataFrame'>\n",
      "Index: 3128 entries, 0 to 3128\n",
      "Data columns (total 16 columns):\n",
      " #   Column   Non-Null Count  Dtype  \n",
      "---  ------   --------------  -----  \n",
      " 0   key      3128 non-null   int64  \n",
      " 1   Bulk 1   3128 non-null   float64\n",
      " 2   Bulk 2   3128 non-null   float64\n",
      " 3   Bulk 3   3128 non-null   float64\n",
      " 4   Bulk 4   3128 non-null   float64\n",
      " 5   Bulk 5   3128 non-null   float64\n",
      " 6   Bulk 6   3128 non-null   float64\n",
      " 7   Bulk 7   3128 non-null   float64\n",
      " 8   Bulk 8   3128 non-null   float64\n",
      " 9   Bulk 9   3128 non-null   float64\n",
      " 10  Bulk 10  3128 non-null   float64\n",
      " 11  Bulk 11  3128 non-null   float64\n",
      " 12  Bulk 12  3128 non-null   float64\n",
      " 13  Bulk 13  3128 non-null   float64\n",
      " 14  Bulk 14  3128 non-null   float64\n",
      " 15  Bulk 15  3128 non-null   float64\n",
      "dtypes: float64(15), int64(1)\n",
      "memory usage: 415.4 KB\n"
     ]
    }
   ],
   "source": [
    "df_bulk.info()"
   ]
  },
  {
   "cell_type": "code",
   "execution_count": 19,
   "metadata": {},
   "outputs": [
    {
     "data": {
      "text/html": [
       "<div>\n",
       "<style scoped>\n",
       "    .dataframe tbody tr th:only-of-type {\n",
       "        vertical-align: middle;\n",
       "    }\n",
       "\n",
       "    .dataframe tbody tr th {\n",
       "        vertical-align: top;\n",
       "    }\n",
       "\n",
       "    .dataframe thead th {\n",
       "        text-align: right;\n",
       "    }\n",
       "</style>\n",
       "<table border=\"1\" class=\"dataframe\">\n",
       "  <thead>\n",
       "    <tr style=\"text-align: right;\">\n",
       "      <th></th>\n",
       "      <th>key</th>\n",
       "      <th>bulk_1</th>\n",
       "      <th>bulk_2</th>\n",
       "      <th>bulk_3</th>\n",
       "      <th>bulk_4</th>\n",
       "      <th>bulk_5</th>\n",
       "      <th>bulk_6</th>\n",
       "      <th>bulk_7</th>\n",
       "      <th>bulk_8</th>\n",
       "      <th>bulk_9</th>\n",
       "      <th>bulk_10</th>\n",
       "      <th>bulk_11</th>\n",
       "      <th>bulk_12</th>\n",
       "      <th>bulk_13</th>\n",
       "      <th>bulk_14</th>\n",
       "      <th>bulk_15</th>\n",
       "    </tr>\n",
       "  </thead>\n",
       "  <tbody>\n",
       "    <tr>\n",
       "      <th>count</th>\n",
       "      <td>3128.000000</td>\n",
       "      <td>3128.000000</td>\n",
       "      <td>3128.000000</td>\n",
       "      <td>3128.000000</td>\n",
       "      <td>3128.000000</td>\n",
       "      <td>3128.000000</td>\n",
       "      <td>3128.000000</td>\n",
       "      <td>3128.000000</td>\n",
       "      <td>3128.000000</td>\n",
       "      <td>3128.000000</td>\n",
       "      <td>3128.000000</td>\n",
       "      <td>3128.000000</td>\n",
       "      <td>3128.000000</td>\n",
       "      <td>3128.000000</td>\n",
       "      <td>3128.000000</td>\n",
       "      <td>3128.000000</td>\n",
       "    </tr>\n",
       "    <tr>\n",
       "      <th>mean</th>\n",
       "      <td>1624.226343</td>\n",
       "      <td>3.161445</td>\n",
       "      <td>1.779731</td>\n",
       "      <td>47.255435</td>\n",
       "      <td>33.841432</td>\n",
       "      <td>2.634591</td>\n",
       "      <td>21.855499</td>\n",
       "      <td>2.442455</td>\n",
       "      <td>0.015665</td>\n",
       "      <td>0.463555</td>\n",
       "      <td>4.686061</td>\n",
       "      <td>4.346867</td>\n",
       "      <td>204.013427</td>\n",
       "      <td>1.042199</td>\n",
       "      <td>152.692136</td>\n",
       "      <td>115.356138</td>\n",
       "    </tr>\n",
       "    <tr>\n",
       "      <th>std</th>\n",
       "      <td>933.445456</td>\n",
       "      <td>11.870928</td>\n",
       "      <td>21.221246</td>\n",
       "      <td>74.247016</td>\n",
       "      <td>56.040198</td>\n",
       "      <td>20.921430</td>\n",
       "      <td>55.463257</td>\n",
       "      <td>31.949140</td>\n",
       "      <td>0.876118</td>\n",
       "      <td>6.155377</td>\n",
       "      <td>20.160372</td>\n",
       "      <td>22.703077</td>\n",
       "      <td>151.399912</td>\n",
       "      <td>14.116497</td>\n",
       "      <td>81.100341</td>\n",
       "      <td>84.477031</td>\n",
       "    </tr>\n",
       "    <tr>\n",
       "      <th>min</th>\n",
       "      <td>1.000000</td>\n",
       "      <td>0.000000</td>\n",
       "      <td>0.000000</td>\n",
       "      <td>0.000000</td>\n",
       "      <td>0.000000</td>\n",
       "      <td>0.000000</td>\n",
       "      <td>0.000000</td>\n",
       "      <td>0.000000</td>\n",
       "      <td>0.000000</td>\n",
       "      <td>0.000000</td>\n",
       "      <td>0.000000</td>\n",
       "      <td>0.000000</td>\n",
       "      <td>0.000000</td>\n",
       "      <td>0.000000</td>\n",
       "      <td>0.000000</td>\n",
       "      <td>0.000000</td>\n",
       "    </tr>\n",
       "    <tr>\n",
       "      <th>25%</th>\n",
       "      <td>815.750000</td>\n",
       "      <td>0.000000</td>\n",
       "      <td>0.000000</td>\n",
       "      <td>0.000000</td>\n",
       "      <td>0.000000</td>\n",
       "      <td>0.000000</td>\n",
       "      <td>0.000000</td>\n",
       "      <td>0.000000</td>\n",
       "      <td>0.000000</td>\n",
       "      <td>0.000000</td>\n",
       "      <td>0.000000</td>\n",
       "      <td>0.000000</td>\n",
       "      <td>105.000000</td>\n",
       "      <td>0.000000</td>\n",
       "      <td>104.000000</td>\n",
       "      <td>0.000000</td>\n",
       "    </tr>\n",
       "    <tr>\n",
       "      <th>50%</th>\n",
       "      <td>1621.500000</td>\n",
       "      <td>0.000000</td>\n",
       "      <td>0.000000</td>\n",
       "      <td>0.000000</td>\n",
       "      <td>0.000000</td>\n",
       "      <td>0.000000</td>\n",
       "      <td>0.000000</td>\n",
       "      <td>0.000000</td>\n",
       "      <td>0.000000</td>\n",
       "      <td>0.000000</td>\n",
       "      <td>0.000000</td>\n",
       "      <td>0.000000</td>\n",
       "      <td>206.000000</td>\n",
       "      <td>0.000000</td>\n",
       "      <td>148.000000</td>\n",
       "      <td>106.000000</td>\n",
       "    </tr>\n",
       "    <tr>\n",
       "      <th>75%</th>\n",
       "      <td>2431.250000</td>\n",
       "      <td>0.000000</td>\n",
       "      <td>0.000000</td>\n",
       "      <td>80.000000</td>\n",
       "      <td>68.000000</td>\n",
       "      <td>0.000000</td>\n",
       "      <td>0.000000</td>\n",
       "      <td>0.000000</td>\n",
       "      <td>0.000000</td>\n",
       "      <td>0.000000</td>\n",
       "      <td>0.000000</td>\n",
       "      <td>0.000000</td>\n",
       "      <td>263.000000</td>\n",
       "      <td>0.000000</td>\n",
       "      <td>202.000000</td>\n",
       "      <td>204.000000</td>\n",
       "    </tr>\n",
       "    <tr>\n",
       "      <th>max</th>\n",
       "      <td>3241.000000</td>\n",
       "      <td>185.000000</td>\n",
       "      <td>325.000000</td>\n",
       "      <td>454.000000</td>\n",
       "      <td>281.000000</td>\n",
       "      <td>603.000000</td>\n",
       "      <td>503.000000</td>\n",
       "      <td>772.000000</td>\n",
       "      <td>49.000000</td>\n",
       "      <td>147.000000</td>\n",
       "      <td>159.000000</td>\n",
       "      <td>313.000000</td>\n",
       "      <td>1849.000000</td>\n",
       "      <td>305.000000</td>\n",
       "      <td>636.000000</td>\n",
       "      <td>405.000000</td>\n",
       "    </tr>\n",
       "  </tbody>\n",
       "</table>\n",
       "</div>"
      ],
      "text/plain": [
       "               key       bulk_1       bulk_2       bulk_3       bulk_4  \\\n",
       "count  3128.000000  3128.000000  3128.000000  3128.000000  3128.000000   \n",
       "mean   1624.226343     3.161445     1.779731    47.255435    33.841432   \n",
       "std     933.445456    11.870928    21.221246    74.247016    56.040198   \n",
       "min       1.000000     0.000000     0.000000     0.000000     0.000000   \n",
       "25%     815.750000     0.000000     0.000000     0.000000     0.000000   \n",
       "50%    1621.500000     0.000000     0.000000     0.000000     0.000000   \n",
       "75%    2431.250000     0.000000     0.000000    80.000000    68.000000   \n",
       "max    3241.000000   185.000000   325.000000   454.000000   281.000000   \n",
       "\n",
       "            bulk_5       bulk_6       bulk_7       bulk_8       bulk_9  \\\n",
       "count  3128.000000  3128.000000  3128.000000  3128.000000  3128.000000   \n",
       "mean      2.634591    21.855499     2.442455     0.015665     0.463555   \n",
       "std      20.921430    55.463257    31.949140     0.876118     6.155377   \n",
       "min       0.000000     0.000000     0.000000     0.000000     0.000000   \n",
       "25%       0.000000     0.000000     0.000000     0.000000     0.000000   \n",
       "50%       0.000000     0.000000     0.000000     0.000000     0.000000   \n",
       "75%       0.000000     0.000000     0.000000     0.000000     0.000000   \n",
       "max     603.000000   503.000000   772.000000    49.000000   147.000000   \n",
       "\n",
       "           bulk_10      bulk_11      bulk_12      bulk_13      bulk_14  \\\n",
       "count  3128.000000  3128.000000  3128.000000  3128.000000  3128.000000   \n",
       "mean      4.686061     4.346867   204.013427     1.042199   152.692136   \n",
       "std      20.160372    22.703077   151.399912    14.116497    81.100341   \n",
       "min       0.000000     0.000000     0.000000     0.000000     0.000000   \n",
       "25%       0.000000     0.000000   105.000000     0.000000   104.000000   \n",
       "50%       0.000000     0.000000   206.000000     0.000000   148.000000   \n",
       "75%       0.000000     0.000000   263.000000     0.000000   202.000000   \n",
       "max     159.000000   313.000000  1849.000000   305.000000   636.000000   \n",
       "\n",
       "           bulk_15  \n",
       "count  3128.000000  \n",
       "mean    115.356138  \n",
       "std      84.477031  \n",
       "min       0.000000  \n",
       "25%       0.000000  \n",
       "50%     106.000000  \n",
       "75%     204.000000  \n",
       "max     405.000000  "
      ]
     },
     "execution_count": 19,
     "metadata": {},
     "output_type": "execute_result"
    }
   ],
   "source": [
    "df_bulk = clean_columns(df_bulk)\n",
    "df_bulk.describe()"
   ]
  },
  {
   "cell_type": "code",
   "execution_count": 20,
   "metadata": {},
   "outputs": [
    {
     "data": {
      "image/png": "[encoded data removed]",
      "text/plain": [
       "<Figure size 800x500 with 1 Axes>"
      ]
     },
     "metadata": {},
     "output_type": "display_data"
    }
   ],
   "source": [
    "plt.figure(figsize = (8,5))\n",
    "ax = (df_bulk.drop(['key'], axis=1)).sum().sort_values(ascending=False).plot(kind = 'bar')\n",
    "ax.set_title('Сравнение использования сыпучих материалов')\n",
    "ax.set_ylabel('Суммарный объем использования')\n",
    "ax.set_xlabel('Тип сыпучего материала');"
   ]
  },
  {
   "cell_type": "markdown",
   "metadata": {},
   "source": [
    "Видим, что некоторые материалы используются крайне мало. Фактически, доля материалов 1, 5, 7, 2, 13, 9, 8 настолько мала, что не представляет статистической значимости. Исключим эти признаки."
   ]
  },
  {
   "cell_type": "code",
   "execution_count": 21,
   "metadata": {},
   "outputs": [],
   "source": [
    "df_bulk = df_bulk.drop(['bulk_1', 'bulk_5', 'bulk_7', 'bulk_2', 'bulk_13', 'bulk_9', 'bulk_8'], axis = 1)"
   ]
  },
  {
   "cell_type": "markdown",
   "metadata": {},
   "source": [
    "### Данные о подаче сыпучих материалов (время)"
   ]
  },
  {
   "cell_type": "code",
   "execution_count": 22,
   "metadata": {},
   "outputs": [
    {
     "data": {
      "text/html": [
       "<div>\n",
       "<style scoped>\n",
       "    .dataframe tbody tr th:only-of-type {\n",
       "        vertical-align: middle;\n",
       "    }\n",
       "\n",
       "    .dataframe tbody tr th {\n",
       "        vertical-align: top;\n",
       "    }\n",
       "\n",
       "    .dataframe thead th {\n",
       "        text-align: right;\n",
       "    }\n",
       "</style>\n",
       "<table border=\"1\" class=\"dataframe\">\n",
       "  <thead>\n",
       "    <tr style=\"text-align: right;\">\n",
       "      <th></th>\n",
       "      <th>key</th>\n",
       "      <th>Bulk 1</th>\n",
       "      <th>Bulk 2</th>\n",
       "      <th>Bulk 3</th>\n",
       "      <th>Bulk 4</th>\n",
       "      <th>Bulk 5</th>\n",
       "      <th>Bulk 6</th>\n",
       "      <th>Bulk 7</th>\n",
       "      <th>Bulk 8</th>\n",
       "      <th>Bulk 9</th>\n",
       "      <th>Bulk 10</th>\n",
       "      <th>Bulk 11</th>\n",
       "      <th>Bulk 12</th>\n",
       "      <th>Bulk 13</th>\n",
       "      <th>Bulk 14</th>\n",
       "      <th>Bulk 15</th>\n",
       "    </tr>\n",
       "  </thead>\n",
       "  <tbody>\n",
       "    <tr>\n",
       "      <th>0</th>\n",
       "      <td>1</td>\n",
       "      <td>NaN</td>\n",
       "      <td>NaN</td>\n",
       "      <td>NaN</td>\n",
       "      <td>2019-05-03 11:28:48</td>\n",
       "      <td>NaN</td>\n",
       "      <td>NaN</td>\n",
       "      <td>NaN</td>\n",
       "      <td>NaN</td>\n",
       "      <td>NaN</td>\n",
       "      <td>NaN</td>\n",
       "      <td>NaN</td>\n",
       "      <td>2019-05-03 11:24:31</td>\n",
       "      <td>NaN</td>\n",
       "      <td>2019-05-03 11:14:50</td>\n",
       "      <td>2019-05-03 11:10:43</td>\n",
       "    </tr>\n",
       "    <tr>\n",
       "      <th>1</th>\n",
       "      <td>2</td>\n",
       "      <td>NaN</td>\n",
       "      <td>NaN</td>\n",
       "      <td>NaN</td>\n",
       "      <td>2019-05-03 11:36:50</td>\n",
       "      <td>NaN</td>\n",
       "      <td>NaN</td>\n",
       "      <td>NaN</td>\n",
       "      <td>NaN</td>\n",
       "      <td>NaN</td>\n",
       "      <td>NaN</td>\n",
       "      <td>NaN</td>\n",
       "      <td>2019-05-03 11:53:30</td>\n",
       "      <td>NaN</td>\n",
       "      <td>2019-05-03 11:48:37</td>\n",
       "      <td>2019-05-03 11:44:39</td>\n",
       "    </tr>\n",
       "    <tr>\n",
       "      <th>2</th>\n",
       "      <td>3</td>\n",
       "      <td>NaN</td>\n",
       "      <td>NaN</td>\n",
       "      <td>NaN</td>\n",
       "      <td>2019-05-03 12:32:39</td>\n",
       "      <td>NaN</td>\n",
       "      <td>NaN</td>\n",
       "      <td>NaN</td>\n",
       "      <td>NaN</td>\n",
       "      <td>NaN</td>\n",
       "      <td>NaN</td>\n",
       "      <td>NaN</td>\n",
       "      <td>2019-05-03 12:27:13</td>\n",
       "      <td>NaN</td>\n",
       "      <td>2019-05-03 12:21:01</td>\n",
       "      <td>2019-05-03 12:16:16</td>\n",
       "    </tr>\n",
       "    <tr>\n",
       "      <th>3</th>\n",
       "      <td>4</td>\n",
       "      <td>NaN</td>\n",
       "      <td>NaN</td>\n",
       "      <td>NaN</td>\n",
       "      <td>2019-05-03 12:43:22</td>\n",
       "      <td>NaN</td>\n",
       "      <td>NaN</td>\n",
       "      <td>NaN</td>\n",
       "      <td>NaN</td>\n",
       "      <td>NaN</td>\n",
       "      <td>NaN</td>\n",
       "      <td>NaN</td>\n",
       "      <td>2019-05-03 12:58:00</td>\n",
       "      <td>NaN</td>\n",
       "      <td>2019-05-03 12:51:11</td>\n",
       "      <td>2019-05-03 12:46:36</td>\n",
       "    </tr>\n",
       "    <tr>\n",
       "      <th>4</th>\n",
       "      <td>5</td>\n",
       "      <td>NaN</td>\n",
       "      <td>NaN</td>\n",
       "      <td>NaN</td>\n",
       "      <td>2019-05-03 13:30:47</td>\n",
       "      <td>NaN</td>\n",
       "      <td>NaN</td>\n",
       "      <td>NaN</td>\n",
       "      <td>NaN</td>\n",
       "      <td>NaN</td>\n",
       "      <td>NaN</td>\n",
       "      <td>NaN</td>\n",
       "      <td>2019-05-03 13:30:47</td>\n",
       "      <td>NaN</td>\n",
       "      <td>2019-05-03 13:34:12</td>\n",
       "      <td>2019-05-03 13:30:47</td>\n",
       "    </tr>\n",
       "    <tr>\n",
       "      <th>...</th>\n",
       "      <td>...</td>\n",
       "      <td>...</td>\n",
       "      <td>...</td>\n",
       "      <td>...</td>\n",
       "      <td>...</td>\n",
       "      <td>...</td>\n",
       "      <td>...</td>\n",
       "      <td>...</td>\n",
       "      <td>...</td>\n",
       "      <td>...</td>\n",
       "      <td>...</td>\n",
       "      <td>...</td>\n",
       "      <td>...</td>\n",
       "      <td>...</td>\n",
       "      <td>...</td>\n",
       "      <td>...</td>\n",
       "    </tr>\n",
       "    <tr>\n",
       "      <th>3124</th>\n",
       "      <td>3237</td>\n",
       "      <td>NaN</td>\n",
       "      <td>NaN</td>\n",
       "      <td>2019-09-06 11:54:15</td>\n",
       "      <td>NaN</td>\n",
       "      <td>NaN</td>\n",
       "      <td>NaN</td>\n",
       "      <td>NaN</td>\n",
       "      <td>NaN</td>\n",
       "      <td>NaN</td>\n",
       "      <td>NaN</td>\n",
       "      <td>NaN</td>\n",
       "      <td>2019-09-06 11:49:45</td>\n",
       "      <td>NaN</td>\n",
       "      <td>2019-09-06 11:45:22</td>\n",
       "      <td>2019-09-06 11:40:06</td>\n",
       "    </tr>\n",
       "    <tr>\n",
       "      <th>3125</th>\n",
       "      <td>3238</td>\n",
       "      <td>NaN</td>\n",
       "      <td>NaN</td>\n",
       "      <td>2019-09-06 12:26:52</td>\n",
       "      <td>NaN</td>\n",
       "      <td>NaN</td>\n",
       "      <td>NaN</td>\n",
       "      <td>NaN</td>\n",
       "      <td>NaN</td>\n",
       "      <td>NaN</td>\n",
       "      <td>NaN</td>\n",
       "      <td>NaN</td>\n",
       "      <td>2019-09-06 12:18:35</td>\n",
       "      <td>NaN</td>\n",
       "      <td>2019-09-06 12:31:49</td>\n",
       "      <td>2019-09-06 12:26:52</td>\n",
       "    </tr>\n",
       "    <tr>\n",
       "      <th>3126</th>\n",
       "      <td>3239</td>\n",
       "      <td>NaN</td>\n",
       "      <td>NaN</td>\n",
       "      <td>NaN</td>\n",
       "      <td>NaN</td>\n",
       "      <td>NaN</td>\n",
       "      <td>2019-09-06 15:06:00</td>\n",
       "      <td>NaN</td>\n",
       "      <td>NaN</td>\n",
       "      <td>NaN</td>\n",
       "      <td>NaN</td>\n",
       "      <td>NaN</td>\n",
       "      <td>2019-09-06 15:01:44</td>\n",
       "      <td>NaN</td>\n",
       "      <td>2019-09-06 14:58:15</td>\n",
       "      <td>2019-09-06 14:48:06</td>\n",
       "    </tr>\n",
       "    <tr>\n",
       "      <th>3127</th>\n",
       "      <td>3240</td>\n",
       "      <td>NaN</td>\n",
       "      <td>NaN</td>\n",
       "      <td>NaN</td>\n",
       "      <td>NaN</td>\n",
       "      <td>NaN</td>\n",
       "      <td>2019-09-06 16:24:28</td>\n",
       "      <td>NaN</td>\n",
       "      <td>NaN</td>\n",
       "      <td>NaN</td>\n",
       "      <td>NaN</td>\n",
       "      <td>NaN</td>\n",
       "      <td>NaN</td>\n",
       "      <td>NaN</td>\n",
       "      <td>2019-09-06 16:07:29</td>\n",
       "      <td>2019-09-06 16:01:34</td>\n",
       "    </tr>\n",
       "    <tr>\n",
       "      <th>3128</th>\n",
       "      <td>3241</td>\n",
       "      <td>NaN</td>\n",
       "      <td>NaN</td>\n",
       "      <td>NaN</td>\n",
       "      <td>NaN</td>\n",
       "      <td>NaN</td>\n",
       "      <td>NaN</td>\n",
       "      <td>NaN</td>\n",
       "      <td>NaN</td>\n",
       "      <td>NaN</td>\n",
       "      <td>NaN</td>\n",
       "      <td>NaN</td>\n",
       "      <td>NaN</td>\n",
       "      <td>NaN</td>\n",
       "      <td>2019-09-06 17:26:33</td>\n",
       "      <td>2019-09-06 17:23:15</td>\n",
       "    </tr>\n",
       "  </tbody>\n",
       "</table>\n",
       "<p>3128 rows × 16 columns</p>\n",
       "</div>"
      ],
      "text/plain": [
       "       key Bulk 1 Bulk 2               Bulk 3               Bulk 4 Bulk 5  \\\n",
       "0        1    NaN    NaN                  NaN  2019-05-03 11:28:48    NaN   \n",
       "1        2    NaN    NaN                  NaN  2019-05-03 11:36:50    NaN   \n",
       "2        3    NaN    NaN                  NaN  2019-05-03 12:32:39    NaN   \n",
       "3        4    NaN    NaN                  NaN  2019-05-03 12:43:22    NaN   \n",
       "4        5    NaN    NaN                  NaN  2019-05-03 13:30:47    NaN   \n",
       "...    ...    ...    ...                  ...                  ...    ...   \n",
       "3124  3237    NaN    NaN  2019-09-06 11:54:15                  NaN    NaN   \n",
       "3125  3238    NaN    NaN  2019-09-06 12:26:52                  NaN    NaN   \n",
       "3126  3239    NaN    NaN                  NaN                  NaN    NaN   \n",
       "3127  3240    NaN    NaN                  NaN                  NaN    NaN   \n",
       "3128  3241    NaN    NaN                  NaN                  NaN    NaN   \n",
       "\n",
       "                   Bulk 6 Bulk 7 Bulk 8 Bulk 9 Bulk 10 Bulk 11  \\\n",
       "0                     NaN    NaN    NaN    NaN     NaN     NaN   \n",
       "1                     NaN    NaN    NaN    NaN     NaN     NaN   \n",
       "2                     NaN    NaN    NaN    NaN     NaN     NaN   \n",
       "3                     NaN    NaN    NaN    NaN     NaN     NaN   \n",
       "4                     NaN    NaN    NaN    NaN     NaN     NaN   \n",
       "...                   ...    ...    ...    ...     ...     ...   \n",
       "3124                  NaN    NaN    NaN    NaN     NaN     NaN   \n",
       "3125                  NaN    NaN    NaN    NaN     NaN     NaN   \n",
       "3126  2019-09-06 15:06:00    NaN    NaN    NaN     NaN     NaN   \n",
       "3127  2019-09-06 16:24:28    NaN    NaN    NaN     NaN     NaN   \n",
       "3128                  NaN    NaN    NaN    NaN     NaN     NaN   \n",
       "\n",
       "                  Bulk 12 Bulk 13              Bulk 14              Bulk 15  \n",
       "0     2019-05-03 11:24:31     NaN  2019-05-03 11:14:50  2019-05-03 11:10:43  \n",
       "1     2019-05-03 11:53:30     NaN  2019-05-03 11:48:37  2019-05-03 11:44:39  \n",
       "2     2019-05-03 12:27:13     NaN  2019-05-03 12:21:01  2019-05-03 12:16:16  \n",
       "3     2019-05-03 12:58:00     NaN  2019-05-03 12:51:11  2019-05-03 12:46:36  \n",
       "4     2019-05-03 13:30:47     NaN  2019-05-03 13:34:12  2019-05-03 13:30:47  \n",
       "...                   ...     ...                  ...                  ...  \n",
       "3124  2019-09-06 11:49:45     NaN  2019-09-06 11:45:22  2019-09-06 11:40:06  \n",
       "3125  2019-09-06 12:18:35     NaN  2019-09-06 12:31:49  2019-09-06 12:26:52  \n",
       "3126  2019-09-06 15:01:44     NaN  2019-09-06 14:58:15  2019-09-06 14:48:06  \n",
       "3127                  NaN     NaN  2019-09-06 16:07:29  2019-09-06 16:01:34  \n",
       "3128                  NaN     NaN  2019-09-06 17:26:33  2019-09-06 17:23:15  \n",
       "\n",
       "[3128 rows x 16 columns]"
      ]
     },
     "execution_count": 22,
     "metadata": {},
     "output_type": "execute_result"
    }
   ],
   "source": [
    "df_bulk_time"
   ]
  },
  {
   "cell_type": "code",
   "execution_count": 23,
   "metadata": {},
   "outputs": [
    {
     "name": "stdout",
     "output_type": "stream",
     "text": [
      "<class 'pandas.core.frame.DataFrame'>\n",
      "Index: 3128 entries, 0 to 3128\n",
      "Data columns (total 16 columns):\n",
      " #   Column   Non-Null Count  Dtype \n",
      "---  ------   --------------  ----- \n",
      " 0   key      3128 non-null   int64 \n",
      " 1   Bulk 1   252 non-null    object\n",
      " 2   Bulk 2   22 non-null     object\n",
      " 3   Bulk 3   1298 non-null   object\n",
      " 4   Bulk 4   1014 non-null   object\n",
      " 5   Bulk 5   77 non-null     object\n",
      " 6   Bulk 6   575 non-null    object\n",
      " 7   Bulk 7   25 non-null     object\n",
      " 8   Bulk 8   1 non-null      object\n",
      " 9   Bulk 9   19 non-null     object\n",
      " 10  Bulk 10  176 non-null    object\n",
      " 11  Bulk 11  177 non-null    object\n",
      " 12  Bulk 12  2450 non-null   object\n",
      " 13  Bulk 13  18 non-null     object\n",
      " 14  Bulk 14  2805 non-null   object\n",
      " 15  Bulk 15  2248 non-null   object\n",
      "dtypes: int64(1), object(15)\n",
      "memory usage: 415.4+ KB\n"
     ]
    }
   ],
   "source": [
    "df_bulk_time.info()"
   ]
  },
  {
   "cell_type": "markdown",
   "metadata": {},
   "source": [
    "Видим схожую структуру с предыдущей таблицей. Если материал не использовался, то и записи о времени его подачи нет."
   ]
  },
  {
   "cell_type": "code",
   "execution_count": 24,
   "metadata": {},
   "outputs": [
    {
     "name": "stdout",
     "output_type": "stream",
     "text": [
      "<class 'pandas.core.frame.DataFrame'>\n",
      "Index: 3128 entries, 0 to 3128\n",
      "Data columns (total 16 columns):\n",
      " #   Column   Non-Null Count  Dtype         \n",
      "---  ------   --------------  -----         \n",
      " 0   key      3128 non-null   int64         \n",
      " 1   bulk_1   252 non-null    datetime64[ns]\n",
      " 2   bulk_2   22 non-null     datetime64[ns]\n",
      " 3   bulk_3   1298 non-null   datetime64[ns]\n",
      " 4   bulk_4   1014 non-null   datetime64[ns]\n",
      " 5   bulk_5   77 non-null     datetime64[ns]\n",
      " 6   bulk_6   575 non-null    datetime64[ns]\n",
      " 7   bulk_7   25 non-null     datetime64[ns]\n",
      " 8   bulk_8   1 non-null      datetime64[ns]\n",
      " 9   bulk_9   19 non-null     datetime64[ns]\n",
      " 10  bulk_10  176 non-null    datetime64[ns]\n",
      " 11  bulk_11  177 non-null    datetime64[ns]\n",
      " 12  bulk_12  2450 non-null   datetime64[ns]\n",
      " 13  bulk_13  18 non-null     datetime64[ns]\n",
      " 14  bulk_14  2805 non-null   datetime64[ns]\n",
      " 15  bulk_15  2248 non-null   datetime64[ns]\n",
      "dtypes: datetime64[ns](15), int64(1)\n",
      "memory usage: 415.4 KB\n"
     ]
    }
   ],
   "source": [
    "df_bulk_time = clean_columns(df_bulk_time)\n",
    "cols = df_bulk_time.columns.tolist()\n",
    "cols.remove('key')\n",
    "df_bulk_time[cols] = df_bulk_time[cols].astype('datetime64[ns]')\n",
    "df_bulk_time.info()"
   ]
  },
  {
   "cell_type": "markdown",
   "metadata": {},
   "source": [
    "Структура данных об объеме и времени подачи сыпучих материалов схожа."
   ]
  },
  {
   "cell_type": "markdown",
   "metadata": {},
   "source": [
    "### Данные о подаче проволочных материалов (объем)"
   ]
  },
  {
   "cell_type": "code",
   "execution_count": 25,
   "metadata": {},
   "outputs": [
    {
     "data": {
      "text/html": [
       "<div>\n",
       "<style scoped>\n",
       "    .dataframe tbody tr th:only-of-type {\n",
       "        vertical-align: middle;\n",
       "    }\n",
       "\n",
       "    .dataframe tbody tr th {\n",
       "        vertical-align: top;\n",
       "    }\n",
       "\n",
       "    .dataframe thead th {\n",
       "        text-align: right;\n",
       "    }\n",
       "</style>\n",
       "<table border=\"1\" class=\"dataframe\">\n",
       "  <thead>\n",
       "    <tr style=\"text-align: right;\">\n",
       "      <th></th>\n",
       "      <th>key</th>\n",
       "      <th>Wire 1</th>\n",
       "      <th>Wire 2</th>\n",
       "      <th>Wire 3</th>\n",
       "      <th>Wire 4</th>\n",
       "      <th>Wire 5</th>\n",
       "      <th>Wire 6</th>\n",
       "      <th>Wire 7</th>\n",
       "      <th>Wire 8</th>\n",
       "      <th>Wire 9</th>\n",
       "    </tr>\n",
       "  </thead>\n",
       "  <tbody>\n",
       "    <tr>\n",
       "      <th>0</th>\n",
       "      <td>1</td>\n",
       "      <td>60.059998</td>\n",
       "      <td>NaN</td>\n",
       "      <td>NaN</td>\n",
       "      <td>NaN</td>\n",
       "      <td>NaN</td>\n",
       "      <td>NaN</td>\n",
       "      <td>NaN</td>\n",
       "      <td>NaN</td>\n",
       "      <td>NaN</td>\n",
       "    </tr>\n",
       "    <tr>\n",
       "      <th>1</th>\n",
       "      <td>2</td>\n",
       "      <td>96.052315</td>\n",
       "      <td>NaN</td>\n",
       "      <td>NaN</td>\n",
       "      <td>NaN</td>\n",
       "      <td>NaN</td>\n",
       "      <td>NaN</td>\n",
       "      <td>NaN</td>\n",
       "      <td>NaN</td>\n",
       "      <td>NaN</td>\n",
       "    </tr>\n",
       "    <tr>\n",
       "      <th>2</th>\n",
       "      <td>3</td>\n",
       "      <td>91.160157</td>\n",
       "      <td>NaN</td>\n",
       "      <td>NaN</td>\n",
       "      <td>NaN</td>\n",
       "      <td>NaN</td>\n",
       "      <td>NaN</td>\n",
       "      <td>NaN</td>\n",
       "      <td>NaN</td>\n",
       "      <td>NaN</td>\n",
       "    </tr>\n",
       "    <tr>\n",
       "      <th>3</th>\n",
       "      <td>4</td>\n",
       "      <td>89.063515</td>\n",
       "      <td>NaN</td>\n",
       "      <td>NaN</td>\n",
       "      <td>NaN</td>\n",
       "      <td>NaN</td>\n",
       "      <td>NaN</td>\n",
       "      <td>NaN</td>\n",
       "      <td>NaN</td>\n",
       "      <td>NaN</td>\n",
       "    </tr>\n",
       "    <tr>\n",
       "      <th>4</th>\n",
       "      <td>5</td>\n",
       "      <td>89.238236</td>\n",
       "      <td>9.11456</td>\n",
       "      <td>NaN</td>\n",
       "      <td>NaN</td>\n",
       "      <td>NaN</td>\n",
       "      <td>NaN</td>\n",
       "      <td>NaN</td>\n",
       "      <td>NaN</td>\n",
       "      <td>NaN</td>\n",
       "    </tr>\n",
       "    <tr>\n",
       "      <th>...</th>\n",
       "      <td>...</td>\n",
       "      <td>...</td>\n",
       "      <td>...</td>\n",
       "      <td>...</td>\n",
       "      <td>...</td>\n",
       "      <td>...</td>\n",
       "      <td>...</td>\n",
       "      <td>...</td>\n",
       "      <td>...</td>\n",
       "      <td>...</td>\n",
       "    </tr>\n",
       "    <tr>\n",
       "      <th>3076</th>\n",
       "      <td>3237</td>\n",
       "      <td>38.088959</td>\n",
       "      <td>NaN</td>\n",
       "      <td>NaN</td>\n",
       "      <td>NaN</td>\n",
       "      <td>NaN</td>\n",
       "      <td>NaN</td>\n",
       "      <td>NaN</td>\n",
       "      <td>NaN</td>\n",
       "      <td>NaN</td>\n",
       "    </tr>\n",
       "    <tr>\n",
       "      <th>3077</th>\n",
       "      <td>3238</td>\n",
       "      <td>56.128799</td>\n",
       "      <td>NaN</td>\n",
       "      <td>NaN</td>\n",
       "      <td>NaN</td>\n",
       "      <td>NaN</td>\n",
       "      <td>NaN</td>\n",
       "      <td>NaN</td>\n",
       "      <td>NaN</td>\n",
       "      <td>NaN</td>\n",
       "    </tr>\n",
       "    <tr>\n",
       "      <th>3078</th>\n",
       "      <td>3239</td>\n",
       "      <td>143.357761</td>\n",
       "      <td>NaN</td>\n",
       "      <td>NaN</td>\n",
       "      <td>NaN</td>\n",
       "      <td>NaN</td>\n",
       "      <td>NaN</td>\n",
       "      <td>NaN</td>\n",
       "      <td>NaN</td>\n",
       "      <td>NaN</td>\n",
       "    </tr>\n",
       "    <tr>\n",
       "      <th>3079</th>\n",
       "      <td>3240</td>\n",
       "      <td>34.070400</td>\n",
       "      <td>NaN</td>\n",
       "      <td>NaN</td>\n",
       "      <td>NaN</td>\n",
       "      <td>NaN</td>\n",
       "      <td>NaN</td>\n",
       "      <td>NaN</td>\n",
       "      <td>NaN</td>\n",
       "      <td>NaN</td>\n",
       "    </tr>\n",
       "    <tr>\n",
       "      <th>3080</th>\n",
       "      <td>3241</td>\n",
       "      <td>63.117595</td>\n",
       "      <td>NaN</td>\n",
       "      <td>NaN</td>\n",
       "      <td>NaN</td>\n",
       "      <td>NaN</td>\n",
       "      <td>NaN</td>\n",
       "      <td>NaN</td>\n",
       "      <td>NaN</td>\n",
       "      <td>NaN</td>\n",
       "    </tr>\n",
       "  </tbody>\n",
       "</table>\n",
       "<p>3080 rows × 10 columns</p>\n",
       "</div>"
      ],
      "text/plain": [
       "       key      Wire 1   Wire 2  Wire 3  Wire 4  Wire 5  Wire 6  Wire 7  \\\n",
       "0        1   60.059998      NaN     NaN     NaN     NaN     NaN     NaN   \n",
       "1        2   96.052315      NaN     NaN     NaN     NaN     NaN     NaN   \n",
       "2        3   91.160157      NaN     NaN     NaN     NaN     NaN     NaN   \n",
       "3        4   89.063515      NaN     NaN     NaN     NaN     NaN     NaN   \n",
       "4        5   89.238236  9.11456     NaN     NaN     NaN     NaN     NaN   \n",
       "...    ...         ...      ...     ...     ...     ...     ...     ...   \n",
       "3076  3237   38.088959      NaN     NaN     NaN     NaN     NaN     NaN   \n",
       "3077  3238   56.128799      NaN     NaN     NaN     NaN     NaN     NaN   \n",
       "3078  3239  143.357761      NaN     NaN     NaN     NaN     NaN     NaN   \n",
       "3079  3240   34.070400      NaN     NaN     NaN     NaN     NaN     NaN   \n",
       "3080  3241   63.117595      NaN     NaN     NaN     NaN     NaN     NaN   \n",
       "\n",
       "      Wire 8  Wire 9  \n",
       "0        NaN     NaN  \n",
       "1        NaN     NaN  \n",
       "2        NaN     NaN  \n",
       "3        NaN     NaN  \n",
       "4        NaN     NaN  \n",
       "...      ...     ...  \n",
       "3076     NaN     NaN  \n",
       "3077     NaN     NaN  \n",
       "3078     NaN     NaN  \n",
       "3079     NaN     NaN  \n",
       "3080     NaN     NaN  \n",
       "\n",
       "[3080 rows x 10 columns]"
      ]
     },
     "execution_count": 25,
     "metadata": {},
     "output_type": "execute_result"
    }
   ],
   "source": [
    "df_wire"
   ]
  },
  {
   "cell_type": "markdown",
   "metadata": {},
   "source": [
    "Так же заполним нулями пропуски в неиспользованных материалах."
   ]
  },
  {
   "cell_type": "code",
   "execution_count": 26,
   "metadata": {},
   "outputs": [],
   "source": [
    "df_wire = df_wire.fillna(0)"
   ]
  },
  {
   "cell_type": "code",
   "execution_count": 27,
   "metadata": {},
   "outputs": [
    {
     "name": "stdout",
     "output_type": "stream",
     "text": [
      "<class 'pandas.core.frame.DataFrame'>\n",
      "Index: 3080 entries, 0 to 3080\n",
      "Data columns (total 10 columns):\n",
      " #   Column  Non-Null Count  Dtype  \n",
      "---  ------  --------------  -----  \n",
      " 0   key     3080 non-null   int64  \n",
      " 1   Wire 1  3080 non-null   float64\n",
      " 2   Wire 2  3080 non-null   float64\n",
      " 3   Wire 3  3080 non-null   float64\n",
      " 4   Wire 4  3080 non-null   float64\n",
      " 5   Wire 5  3080 non-null   float64\n",
      " 6   Wire 6  3080 non-null   float64\n",
      " 7   Wire 7  3080 non-null   float64\n",
      " 8   Wire 8  3080 non-null   float64\n",
      " 9   Wire 9  3080 non-null   float64\n",
      "dtypes: float64(9), int64(1)\n",
      "memory usage: 264.7 KB\n"
     ]
    }
   ],
   "source": [
    "df_wire.info()"
   ]
  },
  {
   "cell_type": "code",
   "execution_count": 28,
   "metadata": {},
   "outputs": [
    {
     "data": {
      "text/html": [
       "<div>\n",
       "<style scoped>\n",
       "    .dataframe tbody tr th:only-of-type {\n",
       "        vertical-align: middle;\n",
       "    }\n",
       "\n",
       "    .dataframe tbody tr th {\n",
       "        vertical-align: top;\n",
       "    }\n",
       "\n",
       "    .dataframe thead th {\n",
       "        text-align: right;\n",
       "    }\n",
       "</style>\n",
       "<table border=\"1\" class=\"dataframe\">\n",
       "  <thead>\n",
       "    <tr style=\"text-align: right;\">\n",
       "      <th></th>\n",
       "      <th>key</th>\n",
       "      <th>wire_1</th>\n",
       "      <th>wire_2</th>\n",
       "      <th>wire_3</th>\n",
       "      <th>wire_4</th>\n",
       "      <th>wire_5</th>\n",
       "      <th>wire_6</th>\n",
       "      <th>wire_7</th>\n",
       "      <th>wire_8</th>\n",
       "      <th>wire_9</th>\n",
       "    </tr>\n",
       "  </thead>\n",
       "  <tbody>\n",
       "    <tr>\n",
       "      <th>count</th>\n",
       "      <td>3080.000000</td>\n",
       "      <td>3080.000000</td>\n",
       "      <td>3080.000000</td>\n",
       "      <td>3080.000000</td>\n",
       "      <td>3080.000000</td>\n",
       "      <td>3080.000000</td>\n",
       "      <td>3080.000000</td>\n",
       "      <td>3080.000000</td>\n",
       "      <td>3080.000000</td>\n",
       "      <td>3080.000000</td>\n",
       "    </tr>\n",
       "    <tr>\n",
       "      <th>mean</th>\n",
       "      <td>1623.266558</td>\n",
       "      <td>100.052472</td>\n",
       "      <td>17.718484</td>\n",
       "      <td>3.875782</td>\n",
       "      <td>0.261104</td>\n",
       "      <td>0.004913</td>\n",
       "      <td>1.138065</td>\n",
       "      <td>0.035854</td>\n",
       "      <td>0.330805</td>\n",
       "      <td>0.321596</td>\n",
       "    </tr>\n",
       "    <tr>\n",
       "      <th>std</th>\n",
       "      <td>933.105985</td>\n",
       "      <td>42.845739</td>\n",
       "      <td>33.521656</td>\n",
       "      <td>30.315258</td>\n",
       "      <td>4.294559</td>\n",
       "      <td>0.272660</td>\n",
       "      <td>8.959543</td>\n",
       "      <td>0.774316</td>\n",
       "      <td>4.393387</td>\n",
       "      <td>3.807517</td>\n",
       "    </tr>\n",
       "    <tr>\n",
       "      <th>min</th>\n",
       "      <td>1.000000</td>\n",
       "      <td>0.000000</td>\n",
       "      <td>0.000000</td>\n",
       "      <td>0.000000</td>\n",
       "      <td>0.000000</td>\n",
       "      <td>0.000000</td>\n",
       "      <td>0.000000</td>\n",
       "      <td>0.000000</td>\n",
       "      <td>0.000000</td>\n",
       "      <td>0.000000</td>\n",
       "    </tr>\n",
       "    <tr>\n",
       "      <th>25%</th>\n",
       "      <td>822.750000</td>\n",
       "      <td>70.260839</td>\n",
       "      <td>0.000000</td>\n",
       "      <td>0.000000</td>\n",
       "      <td>0.000000</td>\n",
       "      <td>0.000000</td>\n",
       "      <td>0.000000</td>\n",
       "      <td>0.000000</td>\n",
       "      <td>0.000000</td>\n",
       "      <td>0.000000</td>\n",
       "    </tr>\n",
       "    <tr>\n",
       "      <th>50%</th>\n",
       "      <td>1618.500000</td>\n",
       "      <td>100.133278</td>\n",
       "      <td>0.000000</td>\n",
       "      <td>0.000000</td>\n",
       "      <td>0.000000</td>\n",
       "      <td>0.000000</td>\n",
       "      <td>0.000000</td>\n",
       "      <td>0.000000</td>\n",
       "      <td>0.000000</td>\n",
       "      <td>0.000000</td>\n",
       "    </tr>\n",
       "    <tr>\n",
       "      <th>75%</th>\n",
       "      <td>2434.250000</td>\n",
       "      <td>125.820243</td>\n",
       "      <td>23.170420</td>\n",
       "      <td>0.000000</td>\n",
       "      <td>0.000000</td>\n",
       "      <td>0.000000</td>\n",
       "      <td>0.000000</td>\n",
       "      <td>0.000000</td>\n",
       "      <td>0.000000</td>\n",
       "      <td>0.000000</td>\n",
       "    </tr>\n",
       "    <tr>\n",
       "      <th>max</th>\n",
       "      <td>3241.000000</td>\n",
       "      <td>330.314424</td>\n",
       "      <td>282.780152</td>\n",
       "      <td>385.008668</td>\n",
       "      <td>113.231044</td>\n",
       "      <td>15.132000</td>\n",
       "      <td>180.454575</td>\n",
       "      <td>32.847674</td>\n",
       "      <td>102.762401</td>\n",
       "      <td>90.053604</td>\n",
       "    </tr>\n",
       "  </tbody>\n",
       "</table>\n",
       "</div>"
      ],
      "text/plain": [
       "               key       wire_1       wire_2       wire_3       wire_4  \\\n",
       "count  3080.000000  3080.000000  3080.000000  3080.000000  3080.000000   \n",
       "mean   1623.266558   100.052472    17.718484     3.875782     0.261104   \n",
       "std     933.105985    42.845739    33.521656    30.315258     4.294559   \n",
       "min       1.000000     0.000000     0.000000     0.000000     0.000000   \n",
       "25%     822.750000    70.260839     0.000000     0.000000     0.000000   \n",
       "50%    1618.500000   100.133278     0.000000     0.000000     0.000000   \n",
       "75%    2434.250000   125.820243    23.170420     0.000000     0.000000   \n",
       "max    3241.000000   330.314424   282.780152   385.008668   113.231044   \n",
       "\n",
       "            wire_5       wire_6       wire_7       wire_8       wire_9  \n",
       "count  3080.000000  3080.000000  3080.000000  3080.000000  3080.000000  \n",
       "mean      0.004913     1.138065     0.035854     0.330805     0.321596  \n",
       "std       0.272660     8.959543     0.774316     4.393387     3.807517  \n",
       "min       0.000000     0.000000     0.000000     0.000000     0.000000  \n",
       "25%       0.000000     0.000000     0.000000     0.000000     0.000000  \n",
       "50%       0.000000     0.000000     0.000000     0.000000     0.000000  \n",
       "75%       0.000000     0.000000     0.000000     0.000000     0.000000  \n",
       "max      15.132000   180.454575    32.847674   102.762401    90.053604  "
      ]
     },
     "execution_count": 28,
     "metadata": {},
     "output_type": "execute_result"
    }
   ],
   "source": [
    "df_wire = clean_columns(df_wire)\n",
    "df_wire.describe()"
   ]
  },
  {
   "cell_type": "code",
   "execution_count": 29,
   "metadata": {},
   "outputs": [
    {
     "data": {
      "image/png": "[encoded data removed]",
      "text/plain": [
       "<Figure size 800x500 with 1 Axes>"
      ]
     },
     "metadata": {},
     "output_type": "display_data"
    }
   ],
   "source": [
    "plt.figure(figsize = (8,5))\n",
    "ax = (df_wire.drop(['key'], axis=1)).sum().sort_values(ascending=False).plot(kind = 'bar')\n",
    "ax.set_title('Сравнение использования проволочных материалов')\n",
    "ax.set_ylabel('Суммарный объем использования')\n",
    "ax.set_xlabel('Тип проволочного материала');"
   ]
  },
  {
   "cell_type": "markdown",
   "metadata": {},
   "source": [
    "Как и в случае с сыпучими материалами, некоторые проволочные используются в малых количествах. Исключим самые редкие, оставив первые 4."
   ]
  },
  {
   "cell_type": "code",
   "execution_count": 30,
   "metadata": {},
   "outputs": [],
   "source": [
    "df_wire = df_wire.drop(['wire_8', 'wire_9', 'wire_4', 'wire_7', 'wire_5'], axis = 1)"
   ]
  },
  {
   "cell_type": "markdown",
   "metadata": {},
   "source": [
    "### Данные о подаче проволочных материалов (время)"
   ]
  },
  {
   "cell_type": "code",
   "execution_count": 31,
   "metadata": {},
   "outputs": [
    {
     "data": {
      "text/html": [
       "<div>\n",
       "<style scoped>\n",
       "    .dataframe tbody tr th:only-of-type {\n",
       "        vertical-align: middle;\n",
       "    }\n",
       "\n",
       "    .dataframe tbody tr th {\n",
       "        vertical-align: top;\n",
       "    }\n",
       "\n",
       "    .dataframe thead th {\n",
       "        text-align: right;\n",
       "    }\n",
       "</style>\n",
       "<table border=\"1\" class=\"dataframe\">\n",
       "  <thead>\n",
       "    <tr style=\"text-align: right;\">\n",
       "      <th></th>\n",
       "      <th>key</th>\n",
       "      <th>Wire 1</th>\n",
       "      <th>Wire 2</th>\n",
       "      <th>Wire 3</th>\n",
       "      <th>Wire 4</th>\n",
       "      <th>Wire 5</th>\n",
       "      <th>Wire 6</th>\n",
       "      <th>Wire 7</th>\n",
       "      <th>Wire 8</th>\n",
       "      <th>Wire 9</th>\n",
       "    </tr>\n",
       "  </thead>\n",
       "  <tbody>\n",
       "    <tr>\n",
       "      <th>0</th>\n",
       "      <td>1</td>\n",
       "      <td>2019-05-03 11:06:19</td>\n",
       "      <td>NaN</td>\n",
       "      <td>NaN</td>\n",
       "      <td>NaN</td>\n",
       "      <td>NaN</td>\n",
       "      <td>NaN</td>\n",
       "      <td>NaN</td>\n",
       "      <td>NaN</td>\n",
       "      <td>NaN</td>\n",
       "    </tr>\n",
       "    <tr>\n",
       "      <th>1</th>\n",
       "      <td>2</td>\n",
       "      <td>2019-05-03 11:36:50</td>\n",
       "      <td>NaN</td>\n",
       "      <td>NaN</td>\n",
       "      <td>NaN</td>\n",
       "      <td>NaN</td>\n",
       "      <td>NaN</td>\n",
       "      <td>NaN</td>\n",
       "      <td>NaN</td>\n",
       "      <td>NaN</td>\n",
       "    </tr>\n",
       "    <tr>\n",
       "      <th>2</th>\n",
       "      <td>3</td>\n",
       "      <td>2019-05-03 12:11:46</td>\n",
       "      <td>NaN</td>\n",
       "      <td>NaN</td>\n",
       "      <td>NaN</td>\n",
       "      <td>NaN</td>\n",
       "      <td>NaN</td>\n",
       "      <td>NaN</td>\n",
       "      <td>NaN</td>\n",
       "      <td>NaN</td>\n",
       "    </tr>\n",
       "    <tr>\n",
       "      <th>3</th>\n",
       "      <td>4</td>\n",
       "      <td>2019-05-03 12:43:22</td>\n",
       "      <td>NaN</td>\n",
       "      <td>NaN</td>\n",
       "      <td>NaN</td>\n",
       "      <td>NaN</td>\n",
       "      <td>NaN</td>\n",
       "      <td>NaN</td>\n",
       "      <td>NaN</td>\n",
       "      <td>NaN</td>\n",
       "    </tr>\n",
       "    <tr>\n",
       "      <th>4</th>\n",
       "      <td>5</td>\n",
       "      <td>2019-05-03 13:20:44</td>\n",
       "      <td>2019-05-03 13:15:34</td>\n",
       "      <td>NaN</td>\n",
       "      <td>NaN</td>\n",
       "      <td>NaN</td>\n",
       "      <td>NaN</td>\n",
       "      <td>NaN</td>\n",
       "      <td>NaN</td>\n",
       "      <td>NaN</td>\n",
       "    </tr>\n",
       "    <tr>\n",
       "      <th>...</th>\n",
       "      <td>...</td>\n",
       "      <td>...</td>\n",
       "      <td>...</td>\n",
       "      <td>...</td>\n",
       "      <td>...</td>\n",
       "      <td>...</td>\n",
       "      <td>...</td>\n",
       "      <td>...</td>\n",
       "      <td>...</td>\n",
       "      <td>...</td>\n",
       "    </tr>\n",
       "    <tr>\n",
       "      <th>3076</th>\n",
       "      <td>3237</td>\n",
       "      <td>2019-09-06 11:33:38</td>\n",
       "      <td>NaN</td>\n",
       "      <td>NaN</td>\n",
       "      <td>NaN</td>\n",
       "      <td>NaN</td>\n",
       "      <td>NaN</td>\n",
       "      <td>NaN</td>\n",
       "      <td>NaN</td>\n",
       "      <td>NaN</td>\n",
       "    </tr>\n",
       "    <tr>\n",
       "      <th>3077</th>\n",
       "      <td>3238</td>\n",
       "      <td>2019-09-06 12:18:35</td>\n",
       "      <td>NaN</td>\n",
       "      <td>NaN</td>\n",
       "      <td>NaN</td>\n",
       "      <td>NaN</td>\n",
       "      <td>NaN</td>\n",
       "      <td>NaN</td>\n",
       "      <td>NaN</td>\n",
       "      <td>NaN</td>\n",
       "    </tr>\n",
       "    <tr>\n",
       "      <th>3078</th>\n",
       "      <td>3239</td>\n",
       "      <td>2019-09-06 14:36:11</td>\n",
       "      <td>NaN</td>\n",
       "      <td>NaN</td>\n",
       "      <td>NaN</td>\n",
       "      <td>NaN</td>\n",
       "      <td>NaN</td>\n",
       "      <td>NaN</td>\n",
       "      <td>NaN</td>\n",
       "      <td>NaN</td>\n",
       "    </tr>\n",
       "    <tr>\n",
       "      <th>3079</th>\n",
       "      <td>3240</td>\n",
       "      <td>2019-09-06 15:33:55</td>\n",
       "      <td>NaN</td>\n",
       "      <td>NaN</td>\n",
       "      <td>NaN</td>\n",
       "      <td>NaN</td>\n",
       "      <td>NaN</td>\n",
       "      <td>NaN</td>\n",
       "      <td>NaN</td>\n",
       "      <td>NaN</td>\n",
       "    </tr>\n",
       "    <tr>\n",
       "      <th>3080</th>\n",
       "      <td>3241</td>\n",
       "      <td>2019-09-06 17:10:06</td>\n",
       "      <td>NaN</td>\n",
       "      <td>NaN</td>\n",
       "      <td>NaN</td>\n",
       "      <td>NaN</td>\n",
       "      <td>NaN</td>\n",
       "      <td>NaN</td>\n",
       "      <td>NaN</td>\n",
       "      <td>NaN</td>\n",
       "    </tr>\n",
       "  </tbody>\n",
       "</table>\n",
       "<p>3080 rows × 10 columns</p>\n",
       "</div>"
      ],
      "text/plain": [
       "       key               Wire 1               Wire 2 Wire 3 Wire 4 Wire 5  \\\n",
       "0        1  2019-05-03 11:06:19                  NaN    NaN    NaN    NaN   \n",
       "1        2  2019-05-03 11:36:50                  NaN    NaN    NaN    NaN   \n",
       "2        3  2019-05-03 12:11:46                  NaN    NaN    NaN    NaN   \n",
       "3        4  2019-05-03 12:43:22                  NaN    NaN    NaN    NaN   \n",
       "4        5  2019-05-03 13:20:44  2019-05-03 13:15:34    NaN    NaN    NaN   \n",
       "...    ...                  ...                  ...    ...    ...    ...   \n",
       "3076  3237  2019-09-06 11:33:38                  NaN    NaN    NaN    NaN   \n",
       "3077  3238  2019-09-06 12:18:35                  NaN    NaN    NaN    NaN   \n",
       "3078  3239  2019-09-06 14:36:11                  NaN    NaN    NaN    NaN   \n",
       "3079  3240  2019-09-06 15:33:55                  NaN    NaN    NaN    NaN   \n",
       "3080  3241  2019-09-06 17:10:06                  NaN    NaN    NaN    NaN   \n",
       "\n",
       "     Wire 6 Wire 7 Wire 8 Wire 9  \n",
       "0       NaN    NaN    NaN    NaN  \n",
       "1       NaN    NaN    NaN    NaN  \n",
       "2       NaN    NaN    NaN    NaN  \n",
       "3       NaN    NaN    NaN    NaN  \n",
       "4       NaN    NaN    NaN    NaN  \n",
       "...     ...    ...    ...    ...  \n",
       "3076    NaN    NaN    NaN    NaN  \n",
       "3077    NaN    NaN    NaN    NaN  \n",
       "3078    NaN    NaN    NaN    NaN  \n",
       "3079    NaN    NaN    NaN    NaN  \n",
       "3080    NaN    NaN    NaN    NaN  \n",
       "\n",
       "[3080 rows x 10 columns]"
      ]
     },
     "execution_count": 31,
     "metadata": {},
     "output_type": "execute_result"
    }
   ],
   "source": [
    "df_wire_time"
   ]
  },
  {
   "cell_type": "code",
   "execution_count": 32,
   "metadata": {},
   "outputs": [
    {
     "name": "stdout",
     "output_type": "stream",
     "text": [
      "<class 'pandas.core.frame.DataFrame'>\n",
      "Index: 3080 entries, 0 to 3080\n",
      "Data columns (total 10 columns):\n",
      " #   Column  Non-Null Count  Dtype \n",
      "---  ------  --------------  ----- \n",
      " 0   key     3080 non-null   int64 \n",
      " 1   Wire 1  3054 non-null   object\n",
      " 2   Wire 2  1079 non-null   object\n",
      " 3   Wire 3  63 non-null     object\n",
      " 4   Wire 4  14 non-null     object\n",
      " 5   Wire 5  1 non-null      object\n",
      " 6   Wire 6  73 non-null     object\n",
      " 7   Wire 7  11 non-null     object\n",
      " 8   Wire 8  19 non-null     object\n",
      " 9   Wire 9  29 non-null     object\n",
      "dtypes: int64(1), object(9)\n",
      "memory usage: 264.7+ KB\n"
     ]
    }
   ],
   "source": [
    "df_wire_time.info()"
   ]
  },
  {
   "cell_type": "code",
   "execution_count": 33,
   "metadata": {},
   "outputs": [
    {
     "name": "stdout",
     "output_type": "stream",
     "text": [
      "<class 'pandas.core.frame.DataFrame'>\n",
      "Index: 3080 entries, 0 to 3080\n",
      "Data columns (total 10 columns):\n",
      " #   Column  Non-Null Count  Dtype         \n",
      "---  ------  --------------  -----         \n",
      " 0   key     3080 non-null   int64         \n",
      " 1   wire_1  3054 non-null   datetime64[ns]\n",
      " 2   wire_2  1079 non-null   datetime64[ns]\n",
      " 3   wire_3  63 non-null     datetime64[ns]\n",
      " 4   wire_4  14 non-null     datetime64[ns]\n",
      " 5   wire_5  1 non-null      datetime64[ns]\n",
      " 6   wire_6  73 non-null     datetime64[ns]\n",
      " 7   wire_7  11 non-null     datetime64[ns]\n",
      " 8   wire_8  19 non-null     datetime64[ns]\n",
      " 9   wire_9  29 non-null     datetime64[ns]\n",
      "dtypes: datetime64[ns](9), int64(1)\n",
      "memory usage: 264.7 KB\n"
     ]
    }
   ],
   "source": [
    "df_wire_time = clean_columns(df_wire_time)\n",
    "cols = df_wire_time.columns.tolist()\n",
    "cols.remove('key')\n",
    "df_wire_time[cols] = df_wire_time[cols].astype('datetime64[ns]')\n",
    "df_wire_time.info()"
   ]
  },
  {
   "cell_type": "markdown",
   "metadata": {},
   "source": [
    "### Данные о продувке сплава газом"
   ]
  },
  {
   "cell_type": "code",
   "execution_count": 34,
   "metadata": {},
   "outputs": [
    {
     "data": {
      "text/html": [
       "<div>\n",
       "<style scoped>\n",
       "    .dataframe tbody tr th:only-of-type {\n",
       "        vertical-align: middle;\n",
       "    }\n",
       "\n",
       "    .dataframe tbody tr th {\n",
       "        vertical-align: top;\n",
       "    }\n",
       "\n",
       "    .dataframe thead th {\n",
       "        text-align: right;\n",
       "    }\n",
       "</style>\n",
       "<table border=\"1\" class=\"dataframe\">\n",
       "  <thead>\n",
       "    <tr style=\"text-align: right;\">\n",
       "      <th></th>\n",
       "      <th>key</th>\n",
       "      <th>Газ 1</th>\n",
       "    </tr>\n",
       "  </thead>\n",
       "  <tbody>\n",
       "    <tr>\n",
       "      <th>0</th>\n",
       "      <td>1</td>\n",
       "      <td>29.749986</td>\n",
       "    </tr>\n",
       "    <tr>\n",
       "      <th>1</th>\n",
       "      <td>2</td>\n",
       "      <td>12.555561</td>\n",
       "    </tr>\n",
       "    <tr>\n",
       "      <th>2</th>\n",
       "      <td>3</td>\n",
       "      <td>28.554793</td>\n",
       "    </tr>\n",
       "    <tr>\n",
       "      <th>3</th>\n",
       "      <td>4</td>\n",
       "      <td>18.841219</td>\n",
       "    </tr>\n",
       "    <tr>\n",
       "      <th>4</th>\n",
       "      <td>5</td>\n",
       "      <td>5.413692</td>\n",
       "    </tr>\n",
       "    <tr>\n",
       "      <th>...</th>\n",
       "      <td>...</td>\n",
       "      <td>...</td>\n",
       "    </tr>\n",
       "    <tr>\n",
       "      <th>3234</th>\n",
       "      <td>3237</td>\n",
       "      <td>5.543905</td>\n",
       "    </tr>\n",
       "    <tr>\n",
       "      <th>3235</th>\n",
       "      <td>3238</td>\n",
       "      <td>6.745669</td>\n",
       "    </tr>\n",
       "    <tr>\n",
       "      <th>3236</th>\n",
       "      <td>3239</td>\n",
       "      <td>16.023518</td>\n",
       "    </tr>\n",
       "    <tr>\n",
       "      <th>3237</th>\n",
       "      <td>3240</td>\n",
       "      <td>11.863103</td>\n",
       "    </tr>\n",
       "    <tr>\n",
       "      <th>3238</th>\n",
       "      <td>3241</td>\n",
       "      <td>12.680959</td>\n",
       "    </tr>\n",
       "  </tbody>\n",
       "</table>\n",
       "<p>3238 rows × 2 columns</p>\n",
       "</div>"
      ],
      "text/plain": [
       "       key      Газ 1\n",
       "0        1  29.749986\n",
       "1        2  12.555561\n",
       "2        3  28.554793\n",
       "3        4  18.841219\n",
       "4        5   5.413692\n",
       "...    ...        ...\n",
       "3234  3237   5.543905\n",
       "3235  3238   6.745669\n",
       "3236  3239  16.023518\n",
       "3237  3240  11.863103\n",
       "3238  3241  12.680959\n",
       "\n",
       "[3238 rows x 2 columns]"
      ]
     },
     "execution_count": 34,
     "metadata": {},
     "output_type": "execute_result"
    }
   ],
   "source": [
    "df_gas"
   ]
  },
  {
   "cell_type": "code",
   "execution_count": 35,
   "metadata": {},
   "outputs": [
    {
     "name": "stdout",
     "output_type": "stream",
     "text": [
      "<class 'pandas.core.frame.DataFrame'>\n",
      "Index: 3238 entries, 0 to 3238\n",
      "Data columns (total 2 columns):\n",
      " #   Column  Non-Null Count  Dtype  \n",
      "---  ------  --------------  -----  \n",
      " 0   key     3238 non-null   int64  \n",
      " 1   gas_1   3238 non-null   float64\n",
      "dtypes: float64(1), int64(1)\n",
      "memory usage: 75.9 KB\n"
     ]
    }
   ],
   "source": [
    "df_gas.columns = ['key', 'gas_1']\n",
    "df_gas.info()"
   ]
  },
  {
   "cell_type": "code",
   "execution_count": 36,
   "metadata": {},
   "outputs": [
    {
     "data": {
      "text/html": [
       "<div>\n",
       "<style scoped>\n",
       "    .dataframe tbody tr th:only-of-type {\n",
       "        vertical-align: middle;\n",
       "    }\n",
       "\n",
       "    .dataframe tbody tr th {\n",
       "        vertical-align: top;\n",
       "    }\n",
       "\n",
       "    .dataframe thead th {\n",
       "        text-align: right;\n",
       "    }\n",
       "</style>\n",
       "<table border=\"1\" class=\"dataframe\">\n",
       "  <thead>\n",
       "    <tr style=\"text-align: right;\">\n",
       "      <th></th>\n",
       "      <th>key</th>\n",
       "      <th>gas_1</th>\n",
       "    </tr>\n",
       "  </thead>\n",
       "  <tbody>\n",
       "    <tr>\n",
       "      <th>count</th>\n",
       "      <td>3238.000000</td>\n",
       "      <td>3238.000000</td>\n",
       "    </tr>\n",
       "    <tr>\n",
       "      <th>mean</th>\n",
       "      <td>1621.708771</td>\n",
       "      <td>11.001883</td>\n",
       "    </tr>\n",
       "    <tr>\n",
       "      <th>std</th>\n",
       "      <td>935.490478</td>\n",
       "      <td>6.221280</td>\n",
       "    </tr>\n",
       "    <tr>\n",
       "      <th>min</th>\n",
       "      <td>1.000000</td>\n",
       "      <td>0.008399</td>\n",
       "    </tr>\n",
       "    <tr>\n",
       "      <th>25%</th>\n",
       "      <td>812.250000</td>\n",
       "      <td>7.042678</td>\n",
       "    </tr>\n",
       "    <tr>\n",
       "      <th>50%</th>\n",
       "      <td>1621.500000</td>\n",
       "      <td>9.832531</td>\n",
       "    </tr>\n",
       "    <tr>\n",
       "      <th>75%</th>\n",
       "      <td>2431.750000</td>\n",
       "      <td>13.770937</td>\n",
       "    </tr>\n",
       "    <tr>\n",
       "      <th>max</th>\n",
       "      <td>3241.000000</td>\n",
       "      <td>77.995040</td>\n",
       "    </tr>\n",
       "  </tbody>\n",
       "</table>\n",
       "</div>"
      ],
      "text/plain": [
       "               key        gas_1\n",
       "count  3238.000000  3238.000000\n",
       "mean   1621.708771    11.001883\n",
       "std     935.490478     6.221280\n",
       "min       1.000000     0.008399\n",
       "25%     812.250000     7.042678\n",
       "50%    1621.500000     9.832531\n",
       "75%    2431.750000    13.770937\n",
       "max    3241.000000    77.995040"
      ]
     },
     "execution_count": 36,
     "metadata": {},
     "output_type": "execute_result"
    }
   ],
   "source": [
    "df_gas.describe()"
   ]
  },
  {
   "cell_type": "markdown",
   "metadata": {},
   "source": [
    "На первый взгляд аномальных значений нет, посмотрим на гистограмму."
   ]
  },
  {
   "cell_type": "code",
   "execution_count": 37,
   "metadata": {},
   "outputs": [
    {
     "data": {
      "text/plain": [
       "Text(0.5, 0, 'Значение')"
      ]
     },
     "execution_count": 37,
     "metadata": {},
     "output_type": "execute_result"
    },
    {
     "data": {
      "image/png": "[encoded data removed]",
      "text/plain": [
       "<Figure size 640x480 with 1 Axes>"
      ]
     },
     "metadata": {},
     "output_type": "display_data"
    }
   ],
   "source": [
    "plt.figure()\n",
    "ax = df_gas['gas_1'].hist(bins = 30)\n",
    "ax.set_title('Распределение данных о продувке газом')\n",
    "ax.set_ylabel('Количество наблюдений')\n",
    "ax.set_xlabel('Значение')"
   ]
  },
  {
   "cell_type": "code",
   "execution_count": 38,
   "metadata": {},
   "outputs": [
    {
     "data": {
      "image/png": "[encoded data removed]",
      "text/plain": [
       "<Figure size 640x480 with 1 Axes>"
      ]
     },
     "metadata": {},
     "output_type": "display_data"
    }
   ],
   "source": [
    "plt.figure()\n",
    "ax = df_gas.boxplot(column = 'gas_1')\n",
    "ax.set_title('Диаграмма размаха значений подачи газа')\n",
    "ax.set_ylabel('Значения')\n",
    "ax.set_xlabel('Объем поданного газа');"
   ]
  },
  {
   "cell_type": "markdown",
   "metadata": {},
   "source": [
    "С распределением всё в порядке. Выбросы так же присутствуют, но все удалять не будем, чтобы модель учитывала эти значения. Удалим только самые аномальные, с объемом поданного газа больше 60."
   ]
  },
  {
   "cell_type": "code",
   "execution_count": 39,
   "metadata": {},
   "outputs": [],
   "source": [
    "bad_keys = df_gas[df_gas['gas_1'] > 60]['key'].unique().tolist()\n",
    "clean_df(bad_keys)"
   ]
  },
  {
   "cell_type": "markdown",
   "metadata": {},
   "source": [
    "### Результаты измерения температуры"
   ]
  },
  {
   "cell_type": "code",
   "execution_count": 40,
   "metadata": {},
   "outputs": [
    {
     "data": {
      "text/html": [
       "<div>\n",
       "<style scoped>\n",
       "    .dataframe tbody tr th:only-of-type {\n",
       "        vertical-align: middle;\n",
       "    }\n",
       "\n",
       "    .dataframe tbody tr th {\n",
       "        vertical-align: top;\n",
       "    }\n",
       "\n",
       "    .dataframe thead th {\n",
       "        text-align: right;\n",
       "    }\n",
       "</style>\n",
       "<table border=\"1\" class=\"dataframe\">\n",
       "  <thead>\n",
       "    <tr style=\"text-align: right;\">\n",
       "      <th></th>\n",
       "      <th>key</th>\n",
       "      <th>Время замера</th>\n",
       "      <th>Температура</th>\n",
       "    </tr>\n",
       "  </thead>\n",
       "  <tbody>\n",
       "    <tr>\n",
       "      <th>0</th>\n",
       "      <td>1</td>\n",
       "      <td>2019-05-03 11:02:04</td>\n",
       "      <td>1571.0</td>\n",
       "    </tr>\n",
       "    <tr>\n",
       "      <th>1</th>\n",
       "      <td>1</td>\n",
       "      <td>2019-05-03 11:07:18</td>\n",
       "      <td>1604.0</td>\n",
       "    </tr>\n",
       "    <tr>\n",
       "      <th>2</th>\n",
       "      <td>1</td>\n",
       "      <td>2019-05-03 11:11:34</td>\n",
       "      <td>1618.0</td>\n",
       "    </tr>\n",
       "    <tr>\n",
       "      <th>3</th>\n",
       "      <td>1</td>\n",
       "      <td>2019-05-03 11:18:04</td>\n",
       "      <td>1601.0</td>\n",
       "    </tr>\n",
       "    <tr>\n",
       "      <th>4</th>\n",
       "      <td>1</td>\n",
       "      <td>2019-05-03 11:25:59</td>\n",
       "      <td>1606.0</td>\n",
       "    </tr>\n",
       "    <tr>\n",
       "      <th>...</th>\n",
       "      <td>...</td>\n",
       "      <td>...</td>\n",
       "      <td>...</td>\n",
       "    </tr>\n",
       "    <tr>\n",
       "      <th>18087</th>\n",
       "      <td>3241</td>\n",
       "      <td>2019-09-06 16:55:01</td>\n",
       "      <td>NaN</td>\n",
       "    </tr>\n",
       "    <tr>\n",
       "      <th>18088</th>\n",
       "      <td>3241</td>\n",
       "      <td>2019-09-06 17:06:38</td>\n",
       "      <td>NaN</td>\n",
       "    </tr>\n",
       "    <tr>\n",
       "      <th>18089</th>\n",
       "      <td>3241</td>\n",
       "      <td>2019-09-06 17:21:48</td>\n",
       "      <td>NaN</td>\n",
       "    </tr>\n",
       "    <tr>\n",
       "      <th>18090</th>\n",
       "      <td>3241</td>\n",
       "      <td>2019-09-06 17:24:44</td>\n",
       "      <td>NaN</td>\n",
       "    </tr>\n",
       "    <tr>\n",
       "      <th>18091</th>\n",
       "      <td>3241</td>\n",
       "      <td>2019-09-06 17:30:05</td>\n",
       "      <td>NaN</td>\n",
       "    </tr>\n",
       "  </tbody>\n",
       "</table>\n",
       "<p>18063 rows × 3 columns</p>\n",
       "</div>"
      ],
      "text/plain": [
       "        key         Время замера  Температура\n",
       "0         1  2019-05-03 11:02:04       1571.0\n",
       "1         1  2019-05-03 11:07:18       1604.0\n",
       "2         1  2019-05-03 11:11:34       1618.0\n",
       "3         1  2019-05-03 11:18:04       1601.0\n",
       "4         1  2019-05-03 11:25:59       1606.0\n",
       "...     ...                  ...          ...\n",
       "18087  3241  2019-09-06 16:55:01          NaN\n",
       "18088  3241  2019-09-06 17:06:38          NaN\n",
       "18089  3241  2019-09-06 17:21:48          NaN\n",
       "18090  3241  2019-09-06 17:24:44          NaN\n",
       "18091  3241  2019-09-06 17:30:05          NaN\n",
       "\n",
       "[18063 rows x 3 columns]"
      ]
     },
     "execution_count": 40,
     "metadata": {},
     "output_type": "execute_result"
    }
   ],
   "source": [
    "df_temp"
   ]
  },
  {
   "cell_type": "markdown",
   "metadata": {},
   "source": [
    "Есть пропущенные значения в замерах температуры. Приведем имена столбцов к соответствующему виду и скорректируем тип в столбце с временем."
   ]
  },
  {
   "cell_type": "code",
   "execution_count": 41,
   "metadata": {},
   "outputs": [],
   "source": [
    "df_temp.columns = ['key', 'time', 'temp']\n",
    "df_temp['time'] = df_temp['time'].astype('datetime64[ns]')"
   ]
  },
  {
   "cell_type": "code",
   "execution_count": 42,
   "metadata": {},
   "outputs": [
    {
     "name": "stdout",
     "output_type": "stream",
     "text": [
      "<class 'pandas.core.frame.DataFrame'>\n",
      "Index: 18063 entries, 0 to 18091\n",
      "Data columns (total 3 columns):\n",
      " #   Column  Non-Null Count  Dtype         \n",
      "---  ------  --------------  -----         \n",
      " 0   key     18063 non-null  int64         \n",
      " 1   time    18063 non-null  datetime64[ns]\n",
      " 2   temp    14636 non-null  float64       \n",
      "dtypes: datetime64[ns](1), float64(1), int64(1)\n",
      "memory usage: 564.5 KB\n"
     ]
    }
   ],
   "source": [
    "df_temp.info()"
   ]
  },
  {
   "cell_type": "markdown",
   "metadata": {},
   "source": [
    "Так как температура является для нас ключевым признаком, пропуски в этом столбце недопустимы. Удалим их."
   ]
  },
  {
   "cell_type": "code",
   "execution_count": 43,
   "metadata": {},
   "outputs": [],
   "source": [
    "bad_keys = df_temp[df_temp['temp'].isna()]['key'].unique().tolist()\n",
    "clean_df(bad_keys)"
   ]
  },
  {
   "cell_type": "code",
   "execution_count": 44,
   "metadata": {},
   "outputs": [
    {
     "name": "stdout",
     "output_type": "stream",
     "text": [
      "<class 'pandas.core.frame.DataFrame'>\n",
      "Index: 13897 entries, 0 to 13925\n",
      "Data columns (total 3 columns):\n",
      " #   Column  Non-Null Count  Dtype         \n",
      "---  ------  --------------  -----         \n",
      " 0   key     13897 non-null  int64         \n",
      " 1   time    13897 non-null  datetime64[ns]\n",
      " 2   temp    13897 non-null  float64       \n",
      "dtypes: datetime64[ns](1), float64(1), int64(1)\n",
      "memory usage: 434.3 KB\n"
     ]
    }
   ],
   "source": [
    "df_temp.info()"
   ]
  },
  {
   "cell_type": "markdown",
   "metadata": {},
   "source": [
    "Посмотрим на распределение данных."
   ]
  },
  {
   "cell_type": "code",
   "execution_count": 45,
   "metadata": {},
   "outputs": [
    {
     "data": {
      "text/plain": [
       "Text(0.5, 0, 'Значение')"
      ]
     },
     "execution_count": 45,
     "metadata": {},
     "output_type": "execute_result"
    },
    {
     "data": {
      "image/png": "[encoded data removed]",
      "text/plain": [
       "<Figure size 640x480 with 1 Axes>"
      ]
     },
     "metadata": {},
     "output_type": "display_data"
    }
   ],
   "source": [
    "plt.figure()\n",
    "ax = df_temp['temp'].hist(bins = 30)\n",
    "ax.set_title('Распределение замеров температуры')\n",
    "ax.set_ylabel('Количество наблюдений')\n",
    "ax.set_xlabel('Значение')"
   ]
  },
  {
   "cell_type": "code",
   "execution_count": 46,
   "metadata": {},
   "outputs": [
    {
     "data": {
      "image/png": "[encoded data removed]",
      "text/plain": [
       "<Figure size 640x480 with 1 Axes>"
      ]
     },
     "metadata": {},
     "output_type": "display_data"
    }
   ],
   "source": [
    "plt.figure()\n",
    "ax = df_temp.boxplot(column = 'temp')\n",
    "ax.set_title('Диаграмма размаха замеров температуры')\n",
    "ax.set_ylabel('Значения')\n",
    "ax.set_xlabel('Температура');"
   ]
  },
  {
   "cell_type": "markdown",
   "metadata": {},
   "source": [
    "Видим записи с аномально низкими значениями температуры. Их всего 5, это выбросы. Удалим записи, с замером температуры ниже 1450."
   ]
  },
  {
   "cell_type": "code",
   "execution_count": 47,
   "metadata": {},
   "outputs": [],
   "source": [
    "bad_keys = df_temp[df_temp['temp'] < 1450 ]['key'].unique().tolist()\n",
    "clean_df(bad_keys)"
   ]
  },
  {
   "cell_type": "code",
   "execution_count": 48,
   "metadata": {},
   "outputs": [
    {
     "data": {
      "text/plain": [
       "Text(0.5, 0, 'Значение')"
      ]
     },
     "execution_count": 48,
     "metadata": {},
     "output_type": "execute_result"
    },
    {
     "data": {
      "image/png": "[encoded data removed]",
      "text/plain": [
       "<Figure size 640x480 with 1 Axes>"
      ]
     },
     "metadata": {},
     "output_type": "display_data"
    }
   ],
   "source": [
    "plt.figure()\n",
    "ax = df_temp['temp'].hist(bins = 30)\n",
    "ax.set_title('Распределение замеров температуры')\n",
    "ax.set_ylabel('Количество наблюдений')\n",
    "ax.set_xlabel('Значение')"
   ]
  },
  {
   "cell_type": "markdown",
   "metadata": {},
   "source": [
    "## Промежуточный вывод"
   ]
  },
  {
   "cell_type": "markdown",
   "metadata": {},
   "source": [
    "- данные загружены и изучены;\n",
    "- проведена предобработка данных, исправлены имена столбцов и тип данных в столбцах с датой-временем;\n",
    "- устранены выбросы в данных об электродах;\n",
    "- устранены пропуски и выбросы в замерах температуры;\n",
    "- удалены малозначимые данные об объемах сыпучих и проволочных материалов;"
   ]
  },
  {
   "cell_type": "markdown",
   "metadata": {},
   "source": [
    "## Создание признаков и объединение таблиц"
   ]
  },
  {
   "cell_type": "markdown",
   "metadata": {},
   "source": [
    "Определимся с набором данных перед объединением:\n",
    "- нам не требуется информация о времени подачи материалов, таблицы bulk_time и wire_time исключаем;\n",
    "- в данных об электродах добавим рассчёт суммарной мощности, и суммарное время нагрева;\n",
    "- данные по газу оставляем полностью;\n",
    "- из данных о температуре берём только первый и последний замеры, время замера исключаем;"
   ]
  },
  {
   "cell_type": "markdown",
   "metadata": {},
   "source": [
    "### Данные об электродах"
   ]
  },
  {
   "cell_type": "markdown",
   "metadata": {},
   "source": [
    "Добавим столбец с суммарной мощностью в таблицу.\n",
    "\n",
    "$$\n",
    "S = \\sqrt{A^2 + R^2}\n",
    "$$\n",
    "\n",
    "Где S - суммарная мощность, A - активная мощность, R - реактивная мощность.\n",
    "\n",
    "Также рассчитаем суммарное время нагрева, и оставим итоговой таблице только суммы этих двух параметров, сгруппированные по номеру партии."
   ]
  },
  {
   "cell_type": "code",
   "execution_count": 49,
   "metadata": {},
   "outputs": [],
   "source": [
    "df_arc = df_arc.reset_index(drop=True)\n",
    "df_arc['total_power'] = (df_arc['active_power'] ** 2 + df_arc['reactive_power'] ** 2) ** (0.5)\n",
    "df_arc['heating_time'] = df_arc['arc_heating_end'] - df_arc['arc_heating_start']\n",
    "df_arc['heating_time'] = df_arc['heating_time'].apply(pd.Timedelta.total_seconds).astype('int')\n"
   ]
  },
  {
   "cell_type": "code",
   "execution_count": 50,
   "metadata": {},
   "outputs": [],
   "source": [
    "df_arc_final = df_arc.drop(['arc_heating_start', 'arc_heating_end'], axis=1)\\\n",
    "                     .groupby('key').sum()[['heating_time', 'total_power']].reset_index()"
   ]
  },
  {
   "cell_type": "code",
   "execution_count": 51,
   "metadata": {},
   "outputs": [
    {
     "data": {
      "text/html": [
       "<div>\n",
       "<style scoped>\n",
       "    .dataframe tbody tr th:only-of-type {\n",
       "        vertical-align: middle;\n",
       "    }\n",
       "\n",
       "    .dataframe tbody tr th {\n",
       "        vertical-align: top;\n",
       "    }\n",
       "\n",
       "    .dataframe thead th {\n",
       "        text-align: right;\n",
       "    }\n",
       "</style>\n",
       "<table border=\"1\" class=\"dataframe\">\n",
       "  <thead>\n",
       "    <tr style=\"text-align: right;\">\n",
       "      <th></th>\n",
       "      <th>key</th>\n",
       "      <th>heating_time</th>\n",
       "      <th>total_power</th>\n",
       "    </tr>\n",
       "  </thead>\n",
       "  <tbody>\n",
       "    <tr>\n",
       "      <th>0</th>\n",
       "      <td>1</td>\n",
       "      <td>1098</td>\n",
       "      <td>3.718736</td>\n",
       "    </tr>\n",
       "    <tr>\n",
       "      <th>1</th>\n",
       "      <td>2</td>\n",
       "      <td>811</td>\n",
       "      <td>2.588349</td>\n",
       "    </tr>\n",
       "    <tr>\n",
       "      <th>2</th>\n",
       "      <td>3</td>\n",
       "      <td>655</td>\n",
       "      <td>5.019223</td>\n",
       "    </tr>\n",
       "    <tr>\n",
       "      <th>3</th>\n",
       "      <td>4</td>\n",
       "      <td>741</td>\n",
       "      <td>3.400038</td>\n",
       "    </tr>\n",
       "    <tr>\n",
       "      <th>4</th>\n",
       "      <td>5</td>\n",
       "      <td>869</td>\n",
       "      <td>2.816980</td>\n",
       "    </tr>\n",
       "    <tr>\n",
       "      <th>...</th>\n",
       "      <td>...</td>\n",
       "      <td>...</td>\n",
       "      <td>...</td>\n",
       "    </tr>\n",
       "    <tr>\n",
       "      <th>2463</th>\n",
       "      <td>2495</td>\n",
       "      <td>723</td>\n",
       "      <td>3.868721</td>\n",
       "    </tr>\n",
       "    <tr>\n",
       "      <th>2464</th>\n",
       "      <td>2496</td>\n",
       "      <td>940</td>\n",
       "      <td>5.070316</td>\n",
       "    </tr>\n",
       "    <tr>\n",
       "      <th>2465</th>\n",
       "      <td>2497</td>\n",
       "      <td>569</td>\n",
       "      <td>4.360918</td>\n",
       "    </tr>\n",
       "    <tr>\n",
       "      <th>2466</th>\n",
       "      <td>2498</td>\n",
       "      <td>750</td>\n",
       "      <td>3.909917</td>\n",
       "    </tr>\n",
       "    <tr>\n",
       "      <th>2467</th>\n",
       "      <td>2499</td>\n",
       "      <td>883</td>\n",
       "      <td>2.169252</td>\n",
       "    </tr>\n",
       "  </tbody>\n",
       "</table>\n",
       "<p>2468 rows × 3 columns</p>\n",
       "</div>"
      ],
      "text/plain": [
       "       key  heating_time  total_power\n",
       "0        1          1098     3.718736\n",
       "1        2           811     2.588349\n",
       "2        3           655     5.019223\n",
       "3        4           741     3.400038\n",
       "4        5           869     2.816980\n",
       "...    ...           ...          ...\n",
       "2463  2495           723     3.868721\n",
       "2464  2496           940     5.070316\n",
       "2465  2497           569     4.360918\n",
       "2466  2498           750     3.909917\n",
       "2467  2499           883     2.169252\n",
       "\n",
       "[2468 rows x 3 columns]"
      ]
     },
     "execution_count": 51,
     "metadata": {},
     "output_type": "execute_result"
    }
   ],
   "source": [
    "df_arc_final"
   ]
  },
  {
   "cell_type": "markdown",
   "metadata": {},
   "source": [
    "### Данные о сыпучих материалах\n",
    "\n",
    "Сгруппируем ко номеру партии и просуммируем количество материалов"
   ]
  },
  {
   "cell_type": "code",
   "execution_count": 52,
   "metadata": {},
   "outputs": [],
   "source": [
    "df_bulk = df_bulk.reset_index(drop=True)\n",
    "df_bulk_final = df_bulk.groupby('key').sum().reset_index()"
   ]
  },
  {
   "cell_type": "code",
   "execution_count": 53,
   "metadata": {},
   "outputs": [
    {
     "data": {
      "text/html": [
       "<div>\n",
       "<style scoped>\n",
       "    .dataframe tbody tr th:only-of-type {\n",
       "        vertical-align: middle;\n",
       "    }\n",
       "\n",
       "    .dataframe tbody tr th {\n",
       "        vertical-align: top;\n",
       "    }\n",
       "\n",
       "    .dataframe thead th {\n",
       "        text-align: right;\n",
       "    }\n",
       "</style>\n",
       "<table border=\"1\" class=\"dataframe\">\n",
       "  <thead>\n",
       "    <tr style=\"text-align: right;\">\n",
       "      <th></th>\n",
       "      <th>key</th>\n",
       "      <th>bulk_3</th>\n",
       "      <th>bulk_4</th>\n",
       "      <th>bulk_6</th>\n",
       "      <th>bulk_10</th>\n",
       "      <th>bulk_11</th>\n",
       "      <th>bulk_12</th>\n",
       "      <th>bulk_14</th>\n",
       "      <th>bulk_15</th>\n",
       "    </tr>\n",
       "  </thead>\n",
       "  <tbody>\n",
       "    <tr>\n",
       "      <th>0</th>\n",
       "      <td>1</td>\n",
       "      <td>0.0</td>\n",
       "      <td>43.0</td>\n",
       "      <td>0.0</td>\n",
       "      <td>0.0</td>\n",
       "      <td>0.0</td>\n",
       "      <td>206.0</td>\n",
       "      <td>150.0</td>\n",
       "      <td>154.0</td>\n",
       "    </tr>\n",
       "    <tr>\n",
       "      <th>1</th>\n",
       "      <td>2</td>\n",
       "      <td>0.0</td>\n",
       "      <td>73.0</td>\n",
       "      <td>0.0</td>\n",
       "      <td>0.0</td>\n",
       "      <td>0.0</td>\n",
       "      <td>206.0</td>\n",
       "      <td>149.0</td>\n",
       "      <td>154.0</td>\n",
       "    </tr>\n",
       "    <tr>\n",
       "      <th>2</th>\n",
       "      <td>3</td>\n",
       "      <td>0.0</td>\n",
       "      <td>34.0</td>\n",
       "      <td>0.0</td>\n",
       "      <td>0.0</td>\n",
       "      <td>0.0</td>\n",
       "      <td>205.0</td>\n",
       "      <td>152.0</td>\n",
       "      <td>153.0</td>\n",
       "    </tr>\n",
       "    <tr>\n",
       "      <th>3</th>\n",
       "      <td>4</td>\n",
       "      <td>0.0</td>\n",
       "      <td>81.0</td>\n",
       "      <td>0.0</td>\n",
       "      <td>0.0</td>\n",
       "      <td>0.0</td>\n",
       "      <td>207.0</td>\n",
       "      <td>153.0</td>\n",
       "      <td>154.0</td>\n",
       "    </tr>\n",
       "    <tr>\n",
       "      <th>4</th>\n",
       "      <td>5</td>\n",
       "      <td>0.0</td>\n",
       "      <td>78.0</td>\n",
       "      <td>0.0</td>\n",
       "      <td>0.0</td>\n",
       "      <td>0.0</td>\n",
       "      <td>203.0</td>\n",
       "      <td>151.0</td>\n",
       "      <td>152.0</td>\n",
       "    </tr>\n",
       "    <tr>\n",
       "      <th>...</th>\n",
       "      <td>...</td>\n",
       "      <td>...</td>\n",
       "      <td>...</td>\n",
       "      <td>...</td>\n",
       "      <td>...</td>\n",
       "      <td>...</td>\n",
       "      <td>...</td>\n",
       "      <td>...</td>\n",
       "      <td>...</td>\n",
       "    </tr>\n",
       "    <tr>\n",
       "      <th>2396</th>\n",
       "      <td>2495</td>\n",
       "      <td>21.0</td>\n",
       "      <td>0.0</td>\n",
       "      <td>0.0</td>\n",
       "      <td>90.0</td>\n",
       "      <td>0.0</td>\n",
       "      <td>256.0</td>\n",
       "      <td>129.0</td>\n",
       "      <td>223.0</td>\n",
       "    </tr>\n",
       "    <tr>\n",
       "      <th>2397</th>\n",
       "      <td>2496</td>\n",
       "      <td>0.0</td>\n",
       "      <td>63.0</td>\n",
       "      <td>0.0</td>\n",
       "      <td>122.0</td>\n",
       "      <td>0.0</td>\n",
       "      <td>256.0</td>\n",
       "      <td>129.0</td>\n",
       "      <td>226.0</td>\n",
       "    </tr>\n",
       "    <tr>\n",
       "      <th>2398</th>\n",
       "      <td>2497</td>\n",
       "      <td>0.0</td>\n",
       "      <td>85.0</td>\n",
       "      <td>0.0</td>\n",
       "      <td>0.0</td>\n",
       "      <td>0.0</td>\n",
       "      <td>230.0</td>\n",
       "      <td>124.0</td>\n",
       "      <td>226.0</td>\n",
       "    </tr>\n",
       "    <tr>\n",
       "      <th>2399</th>\n",
       "      <td>2498</td>\n",
       "      <td>90.0</td>\n",
       "      <td>0.0</td>\n",
       "      <td>0.0</td>\n",
       "      <td>101.0</td>\n",
       "      <td>0.0</td>\n",
       "      <td>206.0</td>\n",
       "      <td>129.0</td>\n",
       "      <td>207.0</td>\n",
       "    </tr>\n",
       "    <tr>\n",
       "      <th>2400</th>\n",
       "      <td>2499</td>\n",
       "      <td>47.0</td>\n",
       "      <td>0.0</td>\n",
       "      <td>0.0</td>\n",
       "      <td>0.0</td>\n",
       "      <td>0.0</td>\n",
       "      <td>233.0</td>\n",
       "      <td>126.0</td>\n",
       "      <td>227.0</td>\n",
       "    </tr>\n",
       "  </tbody>\n",
       "</table>\n",
       "<p>2401 rows × 9 columns</p>\n",
       "</div>"
      ],
      "text/plain": [
       "       key  bulk_3  bulk_4  bulk_6  bulk_10  bulk_11  bulk_12  bulk_14  \\\n",
       "0        1     0.0    43.0     0.0      0.0      0.0    206.0    150.0   \n",
       "1        2     0.0    73.0     0.0      0.0      0.0    206.0    149.0   \n",
       "2        3     0.0    34.0     0.0      0.0      0.0    205.0    152.0   \n",
       "3        4     0.0    81.0     0.0      0.0      0.0    207.0    153.0   \n",
       "4        5     0.0    78.0     0.0      0.0      0.0    203.0    151.0   \n",
       "...    ...     ...     ...     ...      ...      ...      ...      ...   \n",
       "2396  2495    21.0     0.0     0.0     90.0      0.0    256.0    129.0   \n",
       "2397  2496     0.0    63.0     0.0    122.0      0.0    256.0    129.0   \n",
       "2398  2497     0.0    85.0     0.0      0.0      0.0    230.0    124.0   \n",
       "2399  2498    90.0     0.0     0.0    101.0      0.0    206.0    129.0   \n",
       "2400  2499    47.0     0.0     0.0      0.0      0.0    233.0    126.0   \n",
       "\n",
       "      bulk_15  \n",
       "0       154.0  \n",
       "1       154.0  \n",
       "2       153.0  \n",
       "3       154.0  \n",
       "4       152.0  \n",
       "...       ...  \n",
       "2396    223.0  \n",
       "2397    226.0  \n",
       "2398    226.0  \n",
       "2399    207.0  \n",
       "2400    227.0  \n",
       "\n",
       "[2401 rows x 9 columns]"
      ]
     },
     "execution_count": 53,
     "metadata": {},
     "output_type": "execute_result"
    }
   ],
   "source": [
    "df_bulk_final"
   ]
  },
  {
   "cell_type": "markdown",
   "metadata": {},
   "source": [
    "### Данные о проволочных материалах\n",
    "\n",
    "Аналогично предыдущему пункту"
   ]
  },
  {
   "cell_type": "code",
   "execution_count": 54,
   "metadata": {},
   "outputs": [],
   "source": [
    "df_wire = df_wire.reset_index(drop=True)\n",
    "df_wire_final = df_wire.groupby('key').sum().reset_index()"
   ]
  },
  {
   "cell_type": "code",
   "execution_count": 55,
   "metadata": {},
   "outputs": [
    {
     "data": {
      "text/html": [
       "<div>\n",
       "<style scoped>\n",
       "    .dataframe tbody tr th:only-of-type {\n",
       "        vertical-align: middle;\n",
       "    }\n",
       "\n",
       "    .dataframe tbody tr th {\n",
       "        vertical-align: top;\n",
       "    }\n",
       "\n",
       "    .dataframe thead th {\n",
       "        text-align: right;\n",
       "    }\n",
       "</style>\n",
       "<table border=\"1\" class=\"dataframe\">\n",
       "  <thead>\n",
       "    <tr style=\"text-align: right;\">\n",
       "      <th></th>\n",
       "      <th>key</th>\n",
       "      <th>wire_1</th>\n",
       "      <th>wire_2</th>\n",
       "      <th>wire_3</th>\n",
       "      <th>wire_6</th>\n",
       "    </tr>\n",
       "  </thead>\n",
       "  <tbody>\n",
       "    <tr>\n",
       "      <th>0</th>\n",
       "      <td>1</td>\n",
       "      <td>60.059998</td>\n",
       "      <td>0.00000</td>\n",
       "      <td>0.0</td>\n",
       "      <td>0.0</td>\n",
       "    </tr>\n",
       "    <tr>\n",
       "      <th>1</th>\n",
       "      <td>2</td>\n",
       "      <td>96.052315</td>\n",
       "      <td>0.00000</td>\n",
       "      <td>0.0</td>\n",
       "      <td>0.0</td>\n",
       "    </tr>\n",
       "    <tr>\n",
       "      <th>2</th>\n",
       "      <td>3</td>\n",
       "      <td>91.160157</td>\n",
       "      <td>0.00000</td>\n",
       "      <td>0.0</td>\n",
       "      <td>0.0</td>\n",
       "    </tr>\n",
       "    <tr>\n",
       "      <th>3</th>\n",
       "      <td>4</td>\n",
       "      <td>89.063515</td>\n",
       "      <td>0.00000</td>\n",
       "      <td>0.0</td>\n",
       "      <td>0.0</td>\n",
       "    </tr>\n",
       "    <tr>\n",
       "      <th>4</th>\n",
       "      <td>5</td>\n",
       "      <td>89.238236</td>\n",
       "      <td>9.11456</td>\n",
       "      <td>0.0</td>\n",
       "      <td>0.0</td>\n",
       "    </tr>\n",
       "    <tr>\n",
       "      <th>...</th>\n",
       "      <td>...</td>\n",
       "      <td>...</td>\n",
       "      <td>...</td>\n",
       "      <td>...</td>\n",
       "      <td>...</td>\n",
       "    </tr>\n",
       "    <tr>\n",
       "      <th>2361</th>\n",
       "      <td>2495</td>\n",
       "      <td>89.150879</td>\n",
       "      <td>0.00000</td>\n",
       "      <td>0.0</td>\n",
       "      <td>0.0</td>\n",
       "    </tr>\n",
       "    <tr>\n",
       "      <th>2362</th>\n",
       "      <td>2496</td>\n",
       "      <td>114.179527</td>\n",
       "      <td>0.00000</td>\n",
       "      <td>0.0</td>\n",
       "      <td>0.0</td>\n",
       "    </tr>\n",
       "    <tr>\n",
       "      <th>2363</th>\n",
       "      <td>2497</td>\n",
       "      <td>94.086723</td>\n",
       "      <td>9.04800</td>\n",
       "      <td>0.0</td>\n",
       "      <td>0.0</td>\n",
       "    </tr>\n",
       "    <tr>\n",
       "      <th>2364</th>\n",
       "      <td>2498</td>\n",
       "      <td>118.110717</td>\n",
       "      <td>0.00000</td>\n",
       "      <td>0.0</td>\n",
       "      <td>0.0</td>\n",
       "    </tr>\n",
       "    <tr>\n",
       "      <th>2365</th>\n",
       "      <td>2499</td>\n",
       "      <td>110.160958</td>\n",
       "      <td>50.00528</td>\n",
       "      <td>0.0</td>\n",
       "      <td>0.0</td>\n",
       "    </tr>\n",
       "  </tbody>\n",
       "</table>\n",
       "<p>2366 rows × 5 columns</p>\n",
       "</div>"
      ],
      "text/plain": [
       "       key      wire_1    wire_2  wire_3  wire_6\n",
       "0        1   60.059998   0.00000     0.0     0.0\n",
       "1        2   96.052315   0.00000     0.0     0.0\n",
       "2        3   91.160157   0.00000     0.0     0.0\n",
       "3        4   89.063515   0.00000     0.0     0.0\n",
       "4        5   89.238236   9.11456     0.0     0.0\n",
       "...    ...         ...       ...     ...     ...\n",
       "2361  2495   89.150879   0.00000     0.0     0.0\n",
       "2362  2496  114.179527   0.00000     0.0     0.0\n",
       "2363  2497   94.086723   9.04800     0.0     0.0\n",
       "2364  2498  118.110717   0.00000     0.0     0.0\n",
       "2365  2499  110.160958  50.00528     0.0     0.0\n",
       "\n",
       "[2366 rows x 5 columns]"
      ]
     },
     "execution_count": 55,
     "metadata": {},
     "output_type": "execute_result"
    }
   ],
   "source": [
    "df_wire_final"
   ]
  },
  {
   "cell_type": "markdown",
   "metadata": {},
   "source": [
    "### Данные о температуре"
   ]
  },
  {
   "cell_type": "code",
   "execution_count": 56,
   "metadata": {},
   "outputs": [
    {
     "data": {
      "text/html": [
       "<div>\n",
       "<style scoped>\n",
       "    .dataframe tbody tr th:only-of-type {\n",
       "        vertical-align: middle;\n",
       "    }\n",
       "\n",
       "    .dataframe tbody tr th {\n",
       "        vertical-align: top;\n",
       "    }\n",
       "\n",
       "    .dataframe thead th {\n",
       "        text-align: right;\n",
       "    }\n",
       "</style>\n",
       "<table border=\"1\" class=\"dataframe\">\n",
       "  <thead>\n",
       "    <tr style=\"text-align: right;\">\n",
       "      <th></th>\n",
       "      <th>key</th>\n",
       "      <th>time</th>\n",
       "      <th>temp</th>\n",
       "    </tr>\n",
       "  </thead>\n",
       "  <tbody>\n",
       "    <tr>\n",
       "      <th>0</th>\n",
       "      <td>1</td>\n",
       "      <td>2019-05-03 11:02:04</td>\n",
       "      <td>1571.0</td>\n",
       "    </tr>\n",
       "    <tr>\n",
       "      <th>1</th>\n",
       "      <td>1</td>\n",
       "      <td>2019-05-03 11:07:18</td>\n",
       "      <td>1604.0</td>\n",
       "    </tr>\n",
       "    <tr>\n",
       "      <th>2</th>\n",
       "      <td>1</td>\n",
       "      <td>2019-05-03 11:11:34</td>\n",
       "      <td>1618.0</td>\n",
       "    </tr>\n",
       "    <tr>\n",
       "      <th>3</th>\n",
       "      <td>1</td>\n",
       "      <td>2019-05-03 11:18:04</td>\n",
       "      <td>1601.0</td>\n",
       "    </tr>\n",
       "    <tr>\n",
       "      <th>4</th>\n",
       "      <td>1</td>\n",
       "      <td>2019-05-03 11:25:59</td>\n",
       "      <td>1606.0</td>\n",
       "    </tr>\n",
       "    <tr>\n",
       "      <th>...</th>\n",
       "      <td>...</td>\n",
       "      <td>...</td>\n",
       "      <td>...</td>\n",
       "    </tr>\n",
       "    <tr>\n",
       "      <th>13921</th>\n",
       "      <td>2499</td>\n",
       "      <td>2019-08-10 13:33:21</td>\n",
       "      <td>1569.0</td>\n",
       "    </tr>\n",
       "    <tr>\n",
       "      <th>13922</th>\n",
       "      <td>2499</td>\n",
       "      <td>2019-08-10 13:41:34</td>\n",
       "      <td>1604.0</td>\n",
       "    </tr>\n",
       "    <tr>\n",
       "      <th>13923</th>\n",
       "      <td>2499</td>\n",
       "      <td>2019-08-10 13:46:28</td>\n",
       "      <td>1593.0</td>\n",
       "    </tr>\n",
       "    <tr>\n",
       "      <th>13924</th>\n",
       "      <td>2499</td>\n",
       "      <td>2019-08-10 13:54:56</td>\n",
       "      <td>1588.0</td>\n",
       "    </tr>\n",
       "    <tr>\n",
       "      <th>13925</th>\n",
       "      <td>2499</td>\n",
       "      <td>2019-08-10 13:58:58</td>\n",
       "      <td>1603.0</td>\n",
       "    </tr>\n",
       "  </tbody>\n",
       "</table>\n",
       "<p>13876 rows × 3 columns</p>\n",
       "</div>"
      ],
      "text/plain": [
       "        key                time    temp\n",
       "0         1 2019-05-03 11:02:04  1571.0\n",
       "1         1 2019-05-03 11:07:18  1604.0\n",
       "2         1 2019-05-03 11:11:34  1618.0\n",
       "3         1 2019-05-03 11:18:04  1601.0\n",
       "4         1 2019-05-03 11:25:59  1606.0\n",
       "...     ...                 ...     ...\n",
       "13921  2499 2019-08-10 13:33:21  1569.0\n",
       "13922  2499 2019-08-10 13:41:34  1604.0\n",
       "13923  2499 2019-08-10 13:46:28  1593.0\n",
       "13924  2499 2019-08-10 13:54:56  1588.0\n",
       "13925  2499 2019-08-10 13:58:58  1603.0\n",
       "\n",
       "[13876 rows x 3 columns]"
      ]
     },
     "execution_count": 56,
     "metadata": {},
     "output_type": "execute_result"
    }
   ],
   "source": [
    "df_temp"
   ]
  },
  {
   "cell_type": "code",
   "execution_count": 57,
   "metadata": {},
   "outputs": [],
   "source": [
    "df_temp_final = df_temp.sort_values('time', ascending = True)\\\n",
    "                         .pivot_table(values=['temp','time'], index = 'key',\n",
    "                          aggfunc={'temp':['first','last'],'time': ['max','min']})\n",
    "df_temp_final.columns = ['first_temp', 'last_temp', 'last_time', 'first_time']\n",
    "df_temp_final = df_temp_final.drop(['last_time', 'first_time'], axis = 1).reset_index()"
   ]
  },
  {
   "cell_type": "code",
   "execution_count": 58,
   "metadata": {},
   "outputs": [
    {
     "data": {
      "text/html": [
       "<div>\n",
       "<style scoped>\n",
       "    .dataframe tbody tr th:only-of-type {\n",
       "        vertical-align: middle;\n",
       "    }\n",
       "\n",
       "    .dataframe tbody tr th {\n",
       "        vertical-align: top;\n",
       "    }\n",
       "\n",
       "    .dataframe thead th {\n",
       "        text-align: right;\n",
       "    }\n",
       "</style>\n",
       "<table border=\"1\" class=\"dataframe\">\n",
       "  <thead>\n",
       "    <tr style=\"text-align: right;\">\n",
       "      <th></th>\n",
       "      <th>key</th>\n",
       "      <th>first_temp</th>\n",
       "      <th>last_temp</th>\n",
       "    </tr>\n",
       "  </thead>\n",
       "  <tbody>\n",
       "    <tr>\n",
       "      <th>0</th>\n",
       "      <td>1</td>\n",
       "      <td>1571.0</td>\n",
       "      <td>1613.0</td>\n",
       "    </tr>\n",
       "    <tr>\n",
       "      <th>1</th>\n",
       "      <td>2</td>\n",
       "      <td>1581.0</td>\n",
       "      <td>1602.0</td>\n",
       "    </tr>\n",
       "    <tr>\n",
       "      <th>2</th>\n",
       "      <td>3</td>\n",
       "      <td>1596.0</td>\n",
       "      <td>1599.0</td>\n",
       "    </tr>\n",
       "    <tr>\n",
       "      <th>3</th>\n",
       "      <td>4</td>\n",
       "      <td>1601.0</td>\n",
       "      <td>1625.0</td>\n",
       "    </tr>\n",
       "    <tr>\n",
       "      <th>4</th>\n",
       "      <td>5</td>\n",
       "      <td>1576.0</td>\n",
       "      <td>1602.0</td>\n",
       "    </tr>\n",
       "    <tr>\n",
       "      <th>...</th>\n",
       "      <td>...</td>\n",
       "      <td>...</td>\n",
       "      <td>...</td>\n",
       "    </tr>\n",
       "    <tr>\n",
       "      <th>2465</th>\n",
       "      <td>2495</td>\n",
       "      <td>1570.0</td>\n",
       "      <td>1591.0</td>\n",
       "    </tr>\n",
       "    <tr>\n",
       "      <th>2466</th>\n",
       "      <td>2496</td>\n",
       "      <td>1554.0</td>\n",
       "      <td>1591.0</td>\n",
       "    </tr>\n",
       "    <tr>\n",
       "      <th>2467</th>\n",
       "      <td>2497</td>\n",
       "      <td>1571.0</td>\n",
       "      <td>1589.0</td>\n",
       "    </tr>\n",
       "    <tr>\n",
       "      <th>2468</th>\n",
       "      <td>2498</td>\n",
       "      <td>1591.0</td>\n",
       "      <td>1594.0</td>\n",
       "    </tr>\n",
       "    <tr>\n",
       "      <th>2469</th>\n",
       "      <td>2499</td>\n",
       "      <td>1569.0</td>\n",
       "      <td>1603.0</td>\n",
       "    </tr>\n",
       "  </tbody>\n",
       "</table>\n",
       "<p>2470 rows × 3 columns</p>\n",
       "</div>"
      ],
      "text/plain": [
       "       key  first_temp  last_temp\n",
       "0        1      1571.0     1613.0\n",
       "1        2      1581.0     1602.0\n",
       "2        3      1596.0     1599.0\n",
       "3        4      1601.0     1625.0\n",
       "4        5      1576.0     1602.0\n",
       "...    ...         ...        ...\n",
       "2465  2495      1570.0     1591.0\n",
       "2466  2496      1554.0     1591.0\n",
       "2467  2497      1571.0     1589.0\n",
       "2468  2498      1591.0     1594.0\n",
       "2469  2499      1569.0     1603.0\n",
       "\n",
       "[2470 rows x 3 columns]"
      ]
     },
     "execution_count": 58,
     "metadata": {},
     "output_type": "execute_result"
    }
   ],
   "source": [
    "df_temp_final"
   ]
  },
  {
   "cell_type": "markdown",
   "metadata": {},
   "source": [
    "### Итоговый датафрейм"
   ]
  },
  {
   "cell_type": "code",
   "execution_count": 59,
   "metadata": {},
   "outputs": [],
   "source": [
    "df = df_temp_final.merge(df_arc_final, on = 'key', how = 'inner')\n",
    "df = df.merge(df_bulk_final, on = 'key', how = 'inner')\n",
    "df = df.merge(df_wire_final, on = 'key', how = 'inner')\n",
    "df = df.merge(df_gas, on = 'key', how = 'inner')\n",
    "df = df.drop('key', axis = 1)"
   ]
  },
  {
   "cell_type": "code",
   "execution_count": 60,
   "metadata": {},
   "outputs": [
    {
     "data": {
      "text/html": [
       "<div>\n",
       "<style scoped>\n",
       "    .dataframe tbody tr th:only-of-type {\n",
       "        vertical-align: middle;\n",
       "    }\n",
       "\n",
       "    .dataframe tbody tr th {\n",
       "        vertical-align: top;\n",
       "    }\n",
       "\n",
       "    .dataframe thead th {\n",
       "        text-align: right;\n",
       "    }\n",
       "</style>\n",
       "<table border=\"1\" class=\"dataframe\">\n",
       "  <thead>\n",
       "    <tr style=\"text-align: right;\">\n",
       "      <th></th>\n",
       "      <th>first_temp</th>\n",
       "      <th>last_temp</th>\n",
       "      <th>heating_time</th>\n",
       "      <th>total_power</th>\n",
       "      <th>bulk_3</th>\n",
       "      <th>bulk_4</th>\n",
       "      <th>bulk_6</th>\n",
       "      <th>bulk_10</th>\n",
       "      <th>bulk_11</th>\n",
       "      <th>bulk_12</th>\n",
       "      <th>bulk_14</th>\n",
       "      <th>bulk_15</th>\n",
       "      <th>wire_1</th>\n",
       "      <th>wire_2</th>\n",
       "      <th>wire_3</th>\n",
       "      <th>wire_6</th>\n",
       "      <th>gas_1</th>\n",
       "    </tr>\n",
       "  </thead>\n",
       "  <tbody>\n",
       "    <tr>\n",
       "      <th>0</th>\n",
       "      <td>1571.0</td>\n",
       "      <td>1613.0</td>\n",
       "      <td>1098</td>\n",
       "      <td>3.718736</td>\n",
       "      <td>0.0</td>\n",
       "      <td>43.0</td>\n",
       "      <td>0.0</td>\n",
       "      <td>0.0</td>\n",
       "      <td>0.0</td>\n",
       "      <td>206.0</td>\n",
       "      <td>150.0</td>\n",
       "      <td>154.0</td>\n",
       "      <td>60.059998</td>\n",
       "      <td>0.00000</td>\n",
       "      <td>0.0</td>\n",
       "      <td>0.0</td>\n",
       "      <td>29.749986</td>\n",
       "    </tr>\n",
       "    <tr>\n",
       "      <th>1</th>\n",
       "      <td>1581.0</td>\n",
       "      <td>1602.0</td>\n",
       "      <td>811</td>\n",
       "      <td>2.588349</td>\n",
       "      <td>0.0</td>\n",
       "      <td>73.0</td>\n",
       "      <td>0.0</td>\n",
       "      <td>0.0</td>\n",
       "      <td>0.0</td>\n",
       "      <td>206.0</td>\n",
       "      <td>149.0</td>\n",
       "      <td>154.0</td>\n",
       "      <td>96.052315</td>\n",
       "      <td>0.00000</td>\n",
       "      <td>0.0</td>\n",
       "      <td>0.0</td>\n",
       "      <td>12.555561</td>\n",
       "    </tr>\n",
       "    <tr>\n",
       "      <th>2</th>\n",
       "      <td>1596.0</td>\n",
       "      <td>1599.0</td>\n",
       "      <td>655</td>\n",
       "      <td>5.019223</td>\n",
       "      <td>0.0</td>\n",
       "      <td>34.0</td>\n",
       "      <td>0.0</td>\n",
       "      <td>0.0</td>\n",
       "      <td>0.0</td>\n",
       "      <td>205.0</td>\n",
       "      <td>152.0</td>\n",
       "      <td>153.0</td>\n",
       "      <td>91.160157</td>\n",
       "      <td>0.00000</td>\n",
       "      <td>0.0</td>\n",
       "      <td>0.0</td>\n",
       "      <td>28.554793</td>\n",
       "    </tr>\n",
       "    <tr>\n",
       "      <th>3</th>\n",
       "      <td>1601.0</td>\n",
       "      <td>1625.0</td>\n",
       "      <td>741</td>\n",
       "      <td>3.400038</td>\n",
       "      <td>0.0</td>\n",
       "      <td>81.0</td>\n",
       "      <td>0.0</td>\n",
       "      <td>0.0</td>\n",
       "      <td>0.0</td>\n",
       "      <td>207.0</td>\n",
       "      <td>153.0</td>\n",
       "      <td>154.0</td>\n",
       "      <td>89.063515</td>\n",
       "      <td>0.00000</td>\n",
       "      <td>0.0</td>\n",
       "      <td>0.0</td>\n",
       "      <td>18.841219</td>\n",
       "    </tr>\n",
       "    <tr>\n",
       "      <th>4</th>\n",
       "      <td>1576.0</td>\n",
       "      <td>1602.0</td>\n",
       "      <td>869</td>\n",
       "      <td>2.816980</td>\n",
       "      <td>0.0</td>\n",
       "      <td>78.0</td>\n",
       "      <td>0.0</td>\n",
       "      <td>0.0</td>\n",
       "      <td>0.0</td>\n",
       "      <td>203.0</td>\n",
       "      <td>151.0</td>\n",
       "      <td>152.0</td>\n",
       "      <td>89.238236</td>\n",
       "      <td>9.11456</td>\n",
       "      <td>0.0</td>\n",
       "      <td>0.0</td>\n",
       "      <td>5.413692</td>\n",
       "    </tr>\n",
       "  </tbody>\n",
       "</table>\n",
       "</div>"
      ],
      "text/plain": [
       "   first_temp  last_temp  heating_time  total_power  bulk_3  bulk_4  bulk_6  \\\n",
       "0      1571.0     1613.0          1098     3.718736     0.0    43.0     0.0   \n",
       "1      1581.0     1602.0           811     2.588349     0.0    73.0     0.0   \n",
       "2      1596.0     1599.0           655     5.019223     0.0    34.0     0.0   \n",
       "3      1601.0     1625.0           741     3.400038     0.0    81.0     0.0   \n",
       "4      1576.0     1602.0           869     2.816980     0.0    78.0     0.0   \n",
       "\n",
       "   bulk_10  bulk_11  bulk_12  bulk_14  bulk_15     wire_1   wire_2  wire_3  \\\n",
       "0      0.0      0.0    206.0    150.0    154.0  60.059998  0.00000     0.0   \n",
       "1      0.0      0.0    206.0    149.0    154.0  96.052315  0.00000     0.0   \n",
       "2      0.0      0.0    205.0    152.0    153.0  91.160157  0.00000     0.0   \n",
       "3      0.0      0.0    207.0    153.0    154.0  89.063515  0.00000     0.0   \n",
       "4      0.0      0.0    203.0    151.0    152.0  89.238236  9.11456     0.0   \n",
       "\n",
       "   wire_6      gas_1  \n",
       "0     0.0  29.749986  \n",
       "1     0.0  12.555561  \n",
       "2     0.0  28.554793  \n",
       "3     0.0  18.841219  \n",
       "4     0.0   5.413692  "
      ]
     },
     "metadata": {},
     "output_type": "display_data"
    },
    {
     "name": "stdout",
     "output_type": "stream",
     "text": [
      "<class 'pandas.core.frame.DataFrame'>\n",
      "RangeIndex: 2322 entries, 0 to 2321\n",
      "Data columns (total 17 columns):\n",
      " #   Column        Non-Null Count  Dtype  \n",
      "---  ------        --------------  -----  \n",
      " 0   first_temp    2322 non-null   float64\n",
      " 1   last_temp     2322 non-null   float64\n",
      " 2   heating_time  2322 non-null   int64  \n",
      " 3   total_power   2322 non-null   float64\n",
      " 4   bulk_3        2322 non-null   float64\n",
      " 5   bulk_4        2322 non-null   float64\n",
      " 6   bulk_6        2322 non-null   float64\n",
      " 7   bulk_10       2322 non-null   float64\n",
      " 8   bulk_11       2322 non-null   float64\n",
      " 9   bulk_12       2322 non-null   float64\n",
      " 10  bulk_14       2322 non-null   float64\n",
      " 11  bulk_15       2322 non-null   float64\n",
      " 12  wire_1        2322 non-null   float64\n",
      " 13  wire_2        2322 non-null   float64\n",
      " 14  wire_3        2322 non-null   float64\n",
      " 15  wire_6        2322 non-null   float64\n",
      " 16  gas_1         2322 non-null   float64\n",
      "dtypes: float64(16), int64(1)\n",
      "memory usage: 308.5 KB\n"
     ]
    }
   ],
   "source": [
    "display(df.head())\n",
    "df.info()"
   ]
  },
  {
   "cell_type": "markdown",
   "metadata": {},
   "source": [
    "### Корреляция\n",
    "\n",
    "Построим тепловую карту для визуализации корреляции признаков"
   ]
  },
  {
   "cell_type": "code",
   "execution_count": 61,
   "metadata": {},
   "outputs": [
    {
     "data": {
      "image/png": "[encoded data removed]",
      "text/plain": [
       "<Figure size 1400x1000 with 2 Axes>"
      ]
     },
     "metadata": {},
     "output_type": "display_data"
    }
   ],
   "source": [
    "plt.figure(figsize = (14,10))\n",
    "plt.title('Матрица корреляций признаков')\n",
    "sns.heatmap(df.corr(), annot = True);"
   ]
  },
  {
   "cell_type": "markdown",
   "metadata": {},
   "source": [
    "Коэффициент корреляции у всех признаков не превышает 0.8. Оставляем всё как есть и переходим к проектированию моделей."
   ]
  },
  {
   "cell_type": "markdown",
   "metadata": {},
   "source": [
    "### Промежуточный вывод\n",
    "\n",
    "- рассчитали новые признаки;\n",
    "- сгруппировали данные по номеру партии;\n",
    "- отфильтровали данные с замерами температуры;\n",
    "- объединили данные в один датафрейм;\n",
    "- провели анализ корреляции признаков;"
   ]
  },
  {
   "cell_type": "markdown",
   "metadata": {},
   "source": [
    "## Обучение моделей\n",
    "\n",
    "По условию задачи, на необходимо достигнуть значения метрики MAE < 6.8 на тестовой выборке. Для подбора параметров и кросс-валидации будем использовать RandomizedSearchCV."
   ]
  },
  {
   "cell_type": "markdown",
   "metadata": {},
   "source": [
    "### Создание обучающей и тестовой выборок\n",
    "\n",
    "Определим признаки и целевой признак, разобьем выборки на обучающую и тестовую в соотношении 4:1"
   ]
  },
  {
   "cell_type": "code",
   "execution_count": 62,
   "metadata": {},
   "outputs": [],
   "source": [
    "features = df.drop('last_temp', axis = 1)\n",
    "target = df['last_temp']\n",
    "\n",
    "features_train, features_test, target_train, target_test = train_test_split(features, target, train_size = 0.75, random_state = STATE)"
   ]
  },
  {
   "cell_type": "markdown",
   "metadata": {},
   "source": [
    "### Выполним масштабирование признаков"
   ]
  },
  {
   "cell_type": "code",
   "execution_count": 63,
   "metadata": {},
   "outputs": [],
   "source": [
    "scaler = StandardScaler()\n",
    "\n",
    "scaler.fit(features_train)\n",
    "features_train = scaler.transform(features_train)\n",
    "features_test = scaler.transform(features_test)"
   ]
  },
  {
   "cell_type": "markdown",
   "metadata": {},
   "source": [
    "### Линейная регрессия\n",
    "\n",
    "У линейной регрессии нет гиперпараметров как таковых, поэтому передадим пустой словарь."
   ]
  },
  {
   "cell_type": "code",
   "execution_count": 64,
   "metadata": {},
   "outputs": [
    {
     "name": "stdout",
     "output_type": "stream",
     "text": [
      "MAE линейной регрессии: 6.495103481520448\n"
     ]
    }
   ],
   "source": [
    "params_linreg = {}\n",
    "\n",
    "model_linreg = LinearRegression()\n",
    "clf_lr = RandomizedSearchCV(model_linreg, params_linreg, scoring = 'neg_mean_absolute_error', cv = 5, n_jobs = -1)\n",
    "clf_lr.fit(features_train, target_train)\n",
    "lin_reg_score = -clf_lr.best_score_\n",
    "print('MAE линейной регрессии:', lin_reg_score)"
   ]
  },
  {
   "cell_type": "markdown",
   "metadata": {},
   "source": [
    "### Случайный лес"
   ]
  },
  {
   "cell_type": "code",
   "execution_count": 65,
   "metadata": {},
   "outputs": [
    {
     "name": "stdout",
     "output_type": "stream",
     "text": [
      "Параметры: {'n_estimators': 28, 'min_samples_split': 2, 'min_samples_leaf': 11, 'max_depth': 5}\n",
      "MAE случайного леса: 6.600956390146438\n"
     ]
    }
   ],
   "source": [
    "params_forest = {\n",
    "          'n_estimators': range (1, 30, 1),  \n",
    "          'max_depth': range (1, 6, 1),\n",
    "          'min_samples_leaf': range (1, 16, 2),\n",
    "          'min_samples_split': range (2, 14, 2) \n",
    "                }\n",
    "\n",
    "model_forest = RandomForestRegressor(random_state = STATE)\n",
    "clf_f = RandomizedSearchCV(model_forest, params_forest, scoring = 'neg_mean_absolute_error', cv = 5, n_jobs = -1, random_state = STATE)\n",
    "clf_f.fit(features_train, target_train)\n",
    "print('Параметры:', clf_f.best_params_)\n",
    "forest_score = -clf_f.best_score_\n",
    "print('MAE случайного леса:', forest_score)"
   ]
  },
  {
   "cell_type": "markdown",
   "metadata": {},
   "source": [
    "### CatBoost Regressor"
   ]
  },
  {
   "cell_type": "code",
   "execution_count": 66,
   "metadata": {},
   "outputs": [
    {
     "name": "stdout",
     "output_type": "stream",
     "text": [
      "Параметры: {'learning_rate': 0.05, 'iterations': 300, 'depth': 6}\n",
      "MAE CatBoost Regressor 6.263264259483001\n"
     ]
    }
   ],
   "source": [
    "params_cbr = {\n",
    "                'depth'         : range (1, 10, 1),\n",
    "                'learning_rate' : [0.01, 0.05, 0.1],\n",
    "                'iterations'    : [100, 150, 300]\n",
    "              }\n",
    "\n",
    "model_cbr = CatBoostRegressor(logging_level = 'Silent')\n",
    "clf_cbr = RandomizedSearchCV(model_cbr, params_cbr, scoring='neg_mean_absolute_error', cv = 5, n_jobs = -1, random_state = STATE)\n",
    "clf_cbr.fit(features_train, target_train)\n",
    "print('Параметры:', clf_cbr.best_params_)\n",
    "cbr_score = -clf_cbr.best_score_\n",
    "print('MAE CatBoost Regressor', cbr_score)"
   ]
  },
  {
   "cell_type": "markdown",
   "metadata": {},
   "source": [
    "### Optuna + CatBoost\n",
    "\n",
    "Попробуем улучшить результат кэтбуста, выполнив подбор большего количества гиперпараметров при помощи Optuna."
   ]
  },
  {
   "cell_type": "code",
   "execution_count": 67,
   "metadata": {},
   "outputs": [
    {
     "name": "stderr",
     "output_type": "stream",
     "text": [
      "[I 2023-09-05 14:53:42,550] A new study created in memory with name: no-name-be2565d8-b6be-4ef9-bdbb-25b0f18d1f6d\n",
      "[I 2023-09-05 14:53:43,965] Trial 3 finished with value: -6.350519609306252 and parameters: {'iterations': 589, 'learning_rate': 0.08608291668800666, 'depth': 3, 'subsample': 0.7783519819403187, 'colsample_bylevel': 0.3012687539829648, 'min_data_in_leaf': 62}. Best is trial 3 with value: -6.350519609306252.\n",
      "[I 2023-09-05 14:53:44,584] Trial 7 finished with value: -6.401317434879497 and parameters: {'iterations': 785, 'learning_rate': 0.013102856729365365, 'depth': 4, 'subsample': 0.6219627135811153, 'colsample_bylevel': 0.23158053083065902, 'min_data_in_leaf': 88}. Best is trial 3 with value: -6.350519609306252.\n",
      "[I 2023-09-05 14:53:45,496] Trial 5 finished with value: -6.347294770739216 and parameters: {'iterations': 818, 'learning_rate': 0.055391000843052554, 'depth': 3, 'subsample': 0.9779131971525449, 'colsample_bylevel': 0.7007018228758021, 'min_data_in_leaf': 40}. Best is trial 5 with value: -6.347294770739216.\n",
      "[I 2023-09-05 14:53:48,086] Trial 0 finished with value: -6.238217537178661 and parameters: {'iterations': 754, 'learning_rate': 0.023222488633288782, 'depth': 7, 'subsample': 0.42931164828583057, 'colsample_bylevel': 0.23480007742705536, 'min_data_in_leaf': 57}. Best is trial 0 with value: -6.238217537178661.\n",
      "[I 2023-09-05 14:53:49,584] Trial 4 finished with value: -6.278516334613132 and parameters: {'iterations': 608, 'learning_rate': 0.01736548107232047, 'depth': 6, 'subsample': 0.13018178171878764, 'colsample_bylevel': 0.7237266407709889, 'min_data_in_leaf': 30}. Best is trial 0 with value: -6.238217537178661.\n",
      "[I 2023-09-05 14:53:50,567] Trial 12 finished with value: -6.883216740930768 and parameters: {'iterations': 677, 'learning_rate': 0.005923519869458962, 'depth': 2, 'subsample': 0.24394567514053, 'colsample_bylevel': 0.4174770157519574, 'min_data_in_leaf': 20}. Best is trial 0 with value: -6.238217537178661.\n",
      "[I 2023-09-05 14:53:51,132] Trial 11 finished with value: -6.386380339713855 and parameters: {'iterations': 771, 'learning_rate': 0.08225335945992557, 'depth': 5, 'subsample': 0.7852150282014078, 'colsample_bylevel': 0.26155430091761234, 'min_data_in_leaf': 95}. Best is trial 0 with value: -6.238217537178661.\n",
      "[I 2023-09-05 14:53:52,569] Trial 10 finished with value: -6.350522458115236 and parameters: {'iterations': 589, 'learning_rate': 0.021926302914133184, 'depth': 8, 'subsample': 0.20652521149031194, 'colsample_bylevel': 0.22270303048180823, 'min_data_in_leaf': 90}. Best is trial 0 with value: -6.238217537178661.\n",
      "[I 2023-09-05 14:53:53,502] Trial 14 finished with value: -6.279413914229602 and parameters: {'iterations': 903, 'learning_rate': 0.04490779313589026, 'depth': 7, 'subsample': 0.950956448649184, 'colsample_bylevel': 0.10591101787946752, 'min_data_in_leaf': 20}. Best is trial 0 with value: -6.238217537178661.\n",
      "[I 2023-09-05 14:53:55,714] Trial 9 finished with value: -6.565385679616075 and parameters: {'iterations': 694, 'learning_rate': 0.08737769001022976, 'depth': 7, 'subsample': 0.07522551749973737, 'colsample_bylevel': 0.5698980399700447, 'min_data_in_leaf': 78}. Best is trial 0 with value: -6.238217537178661.\n",
      "[I 2023-09-05 14:53:56,404] Trial 15 finished with value: -6.595566201531358 and parameters: {'iterations': 746, 'learning_rate': 0.0051320408000176555, 'depth': 4, 'subsample': 0.4309593647835995, 'colsample_bylevel': 0.7907429370696383, 'min_data_in_leaf': 39}. Best is trial 0 with value: -6.238217537178661.\n",
      "[I 2023-09-05 14:54:11,634] Trial 8 finished with value: -6.323379577993542 and parameters: {'iterations': 790, 'learning_rate': 0.03361051507543682, 'depth': 8, 'subsample': 0.6560325767356443, 'colsample_bylevel': 0.6466623784108477, 'min_data_in_leaf': 25}. Best is trial 0 with value: -6.238217537178661.\n",
      "[I 2023-09-05 14:54:17,228] Trial 6 finished with value: -6.376431286704013 and parameters: {'iterations': 865, 'learning_rate': 0.043239057271125175, 'depth': 9, 'subsample': 0.9180946499531584, 'colsample_bylevel': 0.3210779755987659, 'min_data_in_leaf': 25}. Best is trial 0 with value: -6.238217537178661.\n",
      "[I 2023-09-05 14:54:17,700] Trial 2 finished with value: -6.499811185390056 and parameters: {'iterations': 601, 'learning_rate': 0.08219500817505608, 'depth': 10, 'subsample': 0.929699346890758, 'colsample_bylevel': 0.34623591736397463, 'min_data_in_leaf': 19}. Best is trial 0 with value: -6.238217537178661.\n",
      "[I 2023-09-05 14:54:25,918] Trial 21 finished with value: -6.268152203588025 and parameters: {'iterations': 524, 'learning_rate': 0.023198183361875166, 'depth': 6, 'subsample': 0.4768218094827696, 'colsample_bylevel': 0.9123642801181895, 'min_data_in_leaf': 60}. Best is trial 0 with value: -6.238217537178661.\n",
      "[I 2023-09-05 14:54:34,235] Trial 22 finished with value: -6.249034057822649 and parameters: {'iterations': 508, 'learning_rate': 0.02720411838642735, 'depth': 6, 'subsample': 0.4176637527873601, 'colsample_bylevel': 0.9373216652143819, 'min_data_in_leaf': 2}. Best is trial 0 with value: -6.238217537178661.\n",
      "[I 2023-09-05 14:54:35,090] Trial 23 finished with value: -6.528192861086703 and parameters: {'iterations': 508, 'learning_rate': 0.033158164080880556, 'depth': 1, 'subsample': 0.3615062120667359, 'colsample_bylevel': 0.9637258565377216, 'min_data_in_leaf': 3}. Best is trial 0 with value: -6.238217537178661.\n",
      "[I 2023-09-05 14:54:40,917] Trial 24 finished with value: -6.371475039299521 and parameters: {'iterations': 960, 'learning_rate': 0.0634744081930991, 'depth': 5, 'subsample': 0.3448883438823743, 'colsample_bylevel': 0.4909983819561299, 'min_data_in_leaf': 68}. Best is trial 0 with value: -6.238217537178661.\n",
      "[I 2023-09-05 14:54:55,159] Trial 1 finished with value: -6.621815378613746 and parameters: {'iterations': 600, 'learning_rate': 0.07891763813967322, 'depth': 10, 'subsample': 0.2276397921225666, 'colsample_bylevel': 0.8233502806407874, 'min_data_in_leaf': 20}. Best is trial 0 with value: -6.238217537178661.\n",
      "[I 2023-09-05 14:54:59,955] Trial 25 finished with value: -7.135847724219066 and parameters: {'iterations': 689, 'learning_rate': 0.0013783252166274934, 'depth': 7, 'subsample': 0.5348136936504064, 'colsample_bylevel': 0.8656793594037591, 'min_data_in_leaf': 6}. Best is trial 0 with value: -6.238217537178661.\n",
      "[I 2023-09-05 14:55:07,981] Trial 26 finished with value: -6.271412181485912 and parameters: {'iterations': 699, 'learning_rate': 0.0327304708934638, 'depth': 7, 'subsample': 0.5388743157317928, 'colsample_bylevel': 0.5541581088205969, 'min_data_in_leaf': 3}. Best is trial 0 with value: -6.238217537178661.\n",
      "[I 2023-09-05 14:55:12,218] Trial 18 finished with value: -6.381668179284686 and parameters: {'iterations': 528, 'learning_rate': 0.024401402389949856, 'depth': 10, 'subsample': 0.39724316726188363, 'colsample_bylevel': 0.9714795809211086, 'min_data_in_leaf': 59}. Best is trial 0 with value: -6.238217537178661.\n",
      "[I 2023-09-05 14:55:15,352] Trial 13 finished with value: -6.504978482975032 and parameters: {'iterations': 598, 'learning_rate': 0.07446993987830923, 'depth': 10, 'subsample': 0.7158436445465615, 'colsample_bylevel': 0.9677721384557468, 'min_data_in_leaf': 2}. Best is trial 0 with value: -6.238217537178661.\n",
      "[I 2023-09-05 14:55:16,741] Trial 28 finished with value: -6.234628704654973 and parameters: {'iterations': 505, 'learning_rate': 0.025149565254133647, 'depth': 6, 'subsample': 0.42579124536800006, 'colsample_bylevel': 0.9798726817797873, 'min_data_in_leaf': 54}. Best is trial 28 with value: -6.234628704654973.\n",
      "[I 2023-09-05 14:55:20,478] Trial 29 finished with value: -6.317747276597335 and parameters: {'iterations': 541, 'learning_rate': 0.01511587125236203, 'depth': 6, 'subsample': 0.4600988848671455, 'colsample_bylevel': 0.8197659463171026, 'min_data_in_leaf': 50}. Best is trial 28 with value: -6.234628704654973.\n",
      "[I 2023-09-05 14:55:24,417] Trial 30 finished with value: -6.25297076322087 and parameters: {'iterations': 549, 'learning_rate': 0.025737461811038385, 'depth': 6, 'subsample': 0.4752535977423611, 'colsample_bylevel': 0.9127289708584649, 'min_data_in_leaf': 50}. Best is trial 28 with value: -6.234628704654973.\n",
      "[I 2023-09-05 14:55:25,724] Trial 31 finished with value: -6.355191524957301 and parameters: {'iterations': 554, 'learning_rate': 0.09745816665436707, 'depth': 6, 'subsample': 0.3097892483847865, 'colsample_bylevel': 0.8937165163260414, 'min_data_in_leaf': 49}. Best is trial 28 with value: -6.234628704654973.\n",
      "[I 2023-09-05 14:55:27,287] Trial 19 finished with value: -6.4294435598252635 and parameters: {'iterations': 540, 'learning_rate': 0.027223305380128255, 'depth': 10, 'subsample': 0.3959152046138844, 'colsample_bylevel': 0.9369138760776392, 'min_data_in_leaf': 5}. Best is trial 28 with value: -6.234628704654973.\n",
      "[I 2023-09-05 14:55:27,527] Trial 20 finished with value: -6.390371848600102 and parameters: {'iterations': 510, 'learning_rate': 0.022195859311560304, 'depth': 10, 'subsample': 0.40409246248161823, 'colsample_bylevel': 0.9117345078019744, 'min_data_in_leaf': 57}. Best is trial 28 with value: -6.234628704654973.\n",
      "[I 2023-09-05 14:55:45,927] Trial 16 finished with value: -6.584114104961986 and parameters: {'iterations': 809, 'learning_rate': 0.07876216288363251, 'depth': 10, 'subsample': 0.771140570794527, 'colsample_bylevel': 0.953611429125417, 'min_data_in_leaf': 30}. Best is trial 28 with value: -6.234628704654973.\n",
      "[I 2023-09-05 14:55:52,341] Trial 32 finished with value: -6.277644650041931 and parameters: {'iterations': 645, 'learning_rate': 0.031204453085349956, 'depth': 8, 'subsample': 0.34319814981965774, 'colsample_bylevel': 0.8911871988128623, 'min_data_in_leaf': 47}. Best is trial 28 with value: -6.234628704654973.\n",
      "[I 2023-09-05 14:55:52,668] Trial 27 finished with value: -6.340234807850627 and parameters: {'iterations': 993, 'learning_rate': 0.029797893378810957, 'depth': 8, 'subsample': 0.3674165221053564, 'colsample_bylevel': 0.9727508069439614, 'min_data_in_leaf': 47}. Best is trial 28 with value: -6.234628704654973.\n",
      "[I 2023-09-05 14:55:53,008] Trial 33 finished with value: -6.3176357003936925 and parameters: {'iterations': 641, 'learning_rate': 0.03900974617639962, 'depth': 8, 'subsample': 0.34175831080398145, 'colsample_bylevel': 0.7781969568402386, 'min_data_in_leaf': 74}. Best is trial 28 with value: -6.234628704654973.\n",
      "[I 2023-09-05 14:55:53,816] Trial 34 finished with value: -6.359847233791976 and parameters: {'iterations': 645, 'learning_rate': 0.011062135956946533, 'depth': 8, 'subsample': 0.31274021646314915, 'colsample_bylevel': 0.7596676581649885, 'min_data_in_leaf': 73}. Best is trial 28 with value: -6.234628704654973.\n",
      "[I 2023-09-05 14:55:57,910] Trial 40 finished with value: -6.278837387168228 and parameters: {'iterations': 562, 'learning_rate': 0.03791374563832635, 'depth': 5, 'subsample': 0.5236324273425034, 'colsample_bylevel': 0.8285767766552388, 'min_data_in_leaf': 41}. Best is trial 28 with value: -6.234628704654973.\n",
      "[I 2023-09-05 14:55:58,738] Trial 38 finished with value: -6.2328220083518415 and parameters: {'iterations': 733, 'learning_rate': 0.03791308265325434, 'depth': 5, 'subsample': 0.5372683805023406, 'colsample_bylevel': 0.8159794368718318, 'min_data_in_leaf': 72}. Best is trial 38 with value: -6.2328220083518415.\n",
      "[I 2023-09-05 14:55:58,802] Trial 41 finished with value: -6.272864874960912 and parameters: {'iterations': 559, 'learning_rate': 0.0177260677349734, 'depth': 5, 'subsample': 0.4884572266019355, 'colsample_bylevel': 0.8482144234833222, 'min_data_in_leaf': 41}. Best is trial 38 with value: -6.2328220083518415.\n",
      "[I 2023-09-05 14:55:59,320] Trial 39 finished with value: -6.270622703359936 and parameters: {'iterations': 726, 'learning_rate': 0.037364639401554635, 'depth': 5, 'subsample': 0.4806876208252297, 'colsample_bylevel': 0.840894808768069, 'min_data_in_leaf': 71}. Best is trial 38 with value: -6.2328220083518415.\n",
      "[I 2023-09-05 14:56:00,853] Trial 35 finished with value: -6.354112600194856 and parameters: {'iterations': 636, 'learning_rate': 0.03890560296790879, 'depth': 8, 'subsample': 0.2836449044351895, 'colsample_bylevel': 0.9993808394700913, 'min_data_in_leaf': 73}. Best is trial 38 with value: -6.2328220083518415.\n",
      "[I 2023-09-05 14:56:01,439] Trial 36 finished with value: -6.33666660099805 and parameters: {'iterations': 642, 'learning_rate': 0.03857916822398635, 'depth': 8, 'subsample': 0.31122228627655035, 'colsample_bylevel': 0.999103980124163, 'min_data_in_leaf': 74}. Best is trial 38 with value: -6.2328220083518415.\n",
      "[I 2023-09-05 14:56:02,667] Trial 44 finished with value: -6.307431071989747 and parameters: {'iterations': 722, 'learning_rate': 0.04844917214109453, 'depth': 4, 'subsample': 0.5655190200044744, 'colsample_bylevel': 0.6683564074537981, 'min_data_in_leaf': 66}. Best is trial 38 with value: -6.2328220083518415.\n",
      "[I 2023-09-05 14:56:03,087] Trial 42 finished with value: -6.251428140194342 and parameters: {'iterations': 730, 'learning_rate': 0.021391491530471023, 'depth': 4, 'subsample': 0.4960313126791777, 'colsample_bylevel': 0.997507890481746, 'min_data_in_leaf': 65}. Best is trial 38 with value: -6.2328220083518415.\n",
      "[I 2023-09-05 14:56:03,460] Trial 43 finished with value: -6.315178725117159 and parameters: {'iterations': 735, 'learning_rate': 0.049943994470547294, 'depth': 4, 'subsample': 0.5877039141588344, 'colsample_bylevel': 0.8444021598041387, 'min_data_in_leaf': 67}. Best is trial 38 with value: -6.2328220083518415.\n",
      "[I 2023-09-05 14:56:04,077] Trial 45 finished with value: -6.289913298558583 and parameters: {'iterations': 849, 'learning_rate': 0.04931470541976227, 'depth': 4, 'subsample': 0.5875921846184684, 'colsample_bylevel': 0.6799464718480692, 'min_data_in_leaf': 81}. Best is trial 38 with value: -6.2328220083518415.\n",
      "[I 2023-09-05 14:56:05,637] Trial 46 finished with value: -6.320190166279163 and parameters: {'iterations': 872, 'learning_rate': 0.04956829491775892, 'depth': 4, 'subsample': 0.6001375319419853, 'colsample_bylevel': 0.7106782727973313, 'min_data_in_leaf': 79}. Best is trial 38 with value: -6.2328220083518415.\n",
      "[I 2023-09-05 14:56:05,959] Trial 47 finished with value: -6.321547235945043 and parameters: {'iterations': 868, 'learning_rate': 0.04561505369372117, 'depth': 4, 'subsample': 0.5980913926979271, 'colsample_bylevel': 0.7074229369494089, 'min_data_in_leaf': 65}. Best is trial 38 with value: -6.2328220083518415.\n",
      "[I 2023-09-05 14:56:05,998] Trial 49 finished with value: -6.289801756769528 and parameters: {'iterations': 858, 'learning_rate': 0.01924859108839856, 'depth': 3, 'subsample': 0.5945887186560719, 'colsample_bylevel': 0.7302980515981949, 'min_data_in_leaf': 80}. Best is trial 38 with value: -6.2328220083518415.\n",
      "[I 2023-09-05 14:56:06,848] Trial 17 finished with value: -6.4672962321907494 and parameters: {'iterations': 990, 'learning_rate': 0.03642900562365608, 'depth': 10, 'subsample': 0.4123494604392553, 'colsample_bylevel': 0.9457389348949596, 'min_data_in_leaf': 59}. Best is trial 38 with value: -6.2328220083518415.\n",
      "[I 2023-09-05 14:56:08,231] Trial 37 finished with value: -6.333261214009238 and parameters: {'iterations': 625, 'learning_rate': 0.042018670857161454, 'depth': 8, 'subsample': 0.2855668712440598, 'colsample_bylevel': 0.7880110290342003, 'min_data_in_leaf': 74}. Best is trial 38 with value: -6.2328220083518415.\n",
      "[I 2023-09-05 14:56:09,143] Trial 48 finished with value: -6.247538448431165 and parameters: {'iterations': 877, 'learning_rate': 0.02882848943465598, 'depth': 6, 'subsample': 0.4317743491909986, 'colsample_bylevel': 0.7189172778945457, 'min_data_in_leaf': 11}. Best is trial 38 with value: -6.2328220083518415.\n"
     ]
    },
    {
     "name": "stdout",
     "output_type": "stream",
     "text": [
      "Параметры: {'iterations': 733, 'learning_rate': 0.03791308265325434, 'depth': 5, 'subsample': 0.5372683805023406, 'colsample_bylevel': 0.8159794368718318, 'min_data_in_leaf': 72}\n",
      "MAE CatBoost Regressor 6.2328220083518415\n",
      "CPU times: user 17min 25s, sys: 37.6 s, total: 18min 3s\n",
      "Wall time: 2min 27s\n"
     ]
    }
   ],
   "source": [
    "%%time\n",
    "\n",
    "params = {\n",
    "        \"iterations\": optuna.distributions.IntDistribution(500, 1000),\n",
    "        \"learning_rate\": optuna.distributions.FloatDistribution(0.001, 0.1),\n",
    "        \"depth\": optuna.distributions.IntDistribution(1, 10),\n",
    "        \"subsample\": optuna.distributions.FloatDistribution(0.05, 1.0),\n",
    "        \"colsample_bylevel\": optuna.distributions.FloatDistribution(0.05, 1.0),\n",
    "        \"min_data_in_leaf\": optuna.distributions.IntDistribution(1, 100),\n",
    "    }\n",
    "\n",
    "opt_search_cbr = optuna.integration.OptunaSearchCV(model_cbr, params, cv = 5, n_trials = 50, \\\n",
    "                                               scoring = 'neg_mean_absolute_error', n_jobs = -1, random_state = STATE)\n",
    "opt_search_cbr.fit(features_train, target_train)\n",
    "\n",
    "print('Параметры:', opt_search_cbr.best_params_)\n",
    "opt_cbr_score = -opt_search_cbr.best_score_\n",
    "print('MAE CatBoost Regressor', opt_cbr_score)"
   ]
  },
  {
   "cell_type": "markdown",
   "metadata": {},
   "source": [
    "После подбора гиперпараметров с помощью OptunaSearchCV удалось незначительно улучшить метрику."
   ]
  },
  {
   "cell_type": "markdown",
   "metadata": {},
   "source": [
    "### Optuna + LigthGBM"
   ]
  },
  {
   "cell_type": "code",
   "execution_count": 68,
   "metadata": {},
   "outputs": [
    {
     "name": "stderr",
     "output_type": "stream",
     "text": [
      "[I 2023-09-05 14:56:09,554] A new study created in memory with name: no-name-688492dc-8aeb-42f2-a32f-39c30b39f513\n",
      "[I 2023-09-05 14:56:11,304] Trial 6 finished with value: -6.611059997132331 and parameters: {'n_estimators': 129, 'reg_alpha': 1.7901975177460967, 'reg_lambda': 6.507078282516211, 'colsample_bytree': 0.7394719261657409, 'subsample': 0.9971608232691194, 'learning_rate': 0.08526580120071196, 'max_depth': 1, 'num_leaves': 36, 'min_child_samples': 2, 'cat_smooth': 36}. Best is trial 6 with value: -6.611059997132331.\n",
      "[I 2023-09-05 14:56:11,765] Trial 3 finished with value: -6.676324989354844 and parameters: {'n_estimators': 150, 'reg_alpha': 9.425362548409094, 'reg_lambda': 6.842933931830329, 'colsample_bytree': 0.6349421583184434, 'subsample': 0.5947323271909214, 'learning_rate': 0.06061458318990379, 'max_depth': 1, 'num_leaves': 27, 'min_child_samples': 43, 'cat_smooth': 10}. Best is trial 6 with value: -6.611059997132331.\n",
      "[I 2023-09-05 14:56:14,666] Trial 8 finished with value: -6.3850376010345755 and parameters: {'n_estimators': 177, 'reg_alpha': 0.9127289892617941, 'reg_lambda': 7.755208143643863, 'colsample_bytree': 0.9054251857912148, 'subsample': 0.1448100448685398, 'learning_rate': 0.0637327780846099, 'max_depth': 2, 'num_leaves': 38, 'min_child_samples': 37, 'cat_smooth': 36}. Best is trial 8 with value: -6.3850376010345755.\n",
      "[I 2023-09-05 14:56:19,008] Trial 10 finished with value: -6.377072792121146 and parameters: {'n_estimators': 169, 'reg_alpha': 6.454536613671704, 'reg_lambda': 1.9949113142119563, 'colsample_bytree': 0.8480948652670659, 'subsample': 0.9298517693307239, 'learning_rate': 0.09974921645908486, 'max_depth': 3, 'num_leaves': 10, 'min_child_samples': 37, 'cat_smooth': 24}. Best is trial 10 with value: -6.377072792121146.\n",
      "[I 2023-09-05 14:56:23,415] Trial 4 finished with value: -6.3918401039726644 and parameters: {'n_estimators': 178, 'reg_alpha': 8.823200411307813, 'reg_lambda': 3.4315417370964294, 'colsample_bytree': 0.48572317783518765, 'subsample': 0.9700124587211509, 'learning_rate': 0.074721444517896, 'max_depth': 6, 'num_leaves': 30, 'min_child_samples': 35, 'cat_smooth': 25}. Best is trial 10 with value: -6.377072792121146.\n",
      "[I 2023-09-05 14:56:23,418] Trial 7 finished with value: -6.469874360182304 and parameters: {'n_estimators': 111, 'reg_alpha': 2.1876712883364298, 'reg_lambda': 1.3218201144497435, 'colsample_bytree': 0.5363302767049372, 'subsample': 0.5330588916750891, 'learning_rate': 0.07835182799104361, 'max_depth': 8, 'num_leaves': 33, 'min_child_samples': 15, 'cat_smooth': 13}. Best is trial 10 with value: -6.377072792121146.\n",
      "[I 2023-09-05 14:56:24,145] Trial 0 finished with value: -6.85456122989647 and parameters: {'n_estimators': 112, 'reg_alpha': 9.773266492440095, 'reg_lambda': 7.8214879277689215, 'colsample_bytree': 0.39253909725029207, 'subsample': 0.879755942221213, 'learning_rate': 0.022152767998038232, 'max_depth': 8, 'num_leaves': 23, 'min_child_samples': 9, 'cat_smooth': 15}. Best is trial 10 with value: -6.377072792121146.\n",
      "[I 2023-09-05 14:56:24,210] Trial 9 finished with value: -6.913310974820918 and parameters: {'n_estimators': 190, 'reg_alpha': 1.0881638454199771, 'reg_lambda': 3.7773917254035427, 'colsample_bytree': 0.1616203807233047, 'subsample': 0.8364683335859848, 'learning_rate': 0.029109586924967103, 'max_depth': 9, 'num_leaves': 26, 'min_child_samples': 50, 'cat_smooth': 50}. Best is trial 10 with value: -6.377072792121146.\n",
      "[I 2023-09-05 14:56:24,741] Trial 2 finished with value: -6.489484576552488 and parameters: {'n_estimators': 180, 'reg_alpha': 7.621378239713059, 'reg_lambda': 6.197765993902305, 'colsample_bytree': 0.4043677139699558, 'subsample': 0.4479538454504408, 'learning_rate': 0.09273289751245228, 'max_depth': 8, 'num_leaves': 17, 'min_child_samples': 39, 'cat_smooth': 19}. Best is trial 10 with value: -6.377072792121146.\n",
      "[I 2023-09-05 14:56:25,898] Trial 11 finished with value: -7.905693400851755 and parameters: {'n_estimators': 110, 'reg_alpha': 2.8722376585190537, 'reg_lambda': 7.279764208723423, 'colsample_bytree': 0.3902560484518725, 'subsample': 0.6998243693486246, 'learning_rate': 0.0018975796968306443, 'max_depth': 8, 'num_leaves': 11, 'min_child_samples': 38, 'cat_smooth': 13}. Best is trial 10 with value: -6.377072792121146.\n",
      "[I 2023-09-05 14:56:26,456] Trial 15 finished with value: -6.590965554592403 and parameters: {'n_estimators': 175, 'reg_alpha': 8.227570744421769, 'reg_lambda': 8.510758171155269, 'colsample_bytree': 0.34503044999306276, 'subsample': 0.15211105692846857, 'learning_rate': 0.0849563172766826, 'max_depth': 1, 'num_leaves': 22, 'min_child_samples': 49, 'cat_smooth': 46}. Best is trial 10 with value: -6.377072792121146.\n",
      "[I 2023-09-05 14:56:26,724] Trial 16 finished with value: -6.545692047686137 and parameters: {'n_estimators': 130, 'reg_alpha': 7.139487152008756, 'reg_lambda': 4.46191355088775, 'colsample_bytree': 0.7825132880231782, 'subsample': 0.059091349230048704, 'learning_rate': 0.06118999084607258, 'max_depth': 8, 'num_leaves': 3, 'min_child_samples': 12, 'cat_smooth': 37}. Best is trial 10 with value: -6.377072792121146.\n",
      "[I 2023-09-05 14:56:28,536] Trial 17 finished with value: -6.417195443825825 and parameters: {'n_estimators': 157, 'reg_alpha': 5.716581480540844, 'reg_lambda': 0.43716897114495246, 'colsample_bytree': 0.9786201798048314, 'subsample': 0.7481769385209701, 'learning_rate': 0.09870542204788721, 'max_depth': 4, 'num_leaves': 3, 'min_child_samples': 25, 'cat_smooth': 35}. Best is trial 10 with value: -6.377072792121146.\n",
      "[I 2023-09-05 14:56:28,646] Trial 1 finished with value: -7.440343532422683 and parameters: {'n_estimators': 183, 'reg_alpha': 1.8323627664435975, 'reg_lambda': 3.0028734664799726, 'colsample_bytree': 0.14986350454916422, 'subsample': 0.636235887571237, 'learning_rate': 0.011067177396536476, 'max_depth': 7, 'num_leaves': 29, 'min_child_samples': 27, 'cat_smooth': 6}. Best is trial 10 with value: -6.377072792121146.\n",
      "[I 2023-09-05 14:56:29,553] Trial 5 finished with value: -6.478574546065377 and parameters: {'n_estimators': 193, 'reg_alpha': 3.9113247906680098, 'reg_lambda': 4.6508413573428316, 'colsample_bytree': 0.8570963911139273, 'subsample': 0.9152011808927659, 'learning_rate': 0.06733500356227305, 'max_depth': 10, 'num_leaves': 43, 'min_child_samples': 27, 'cat_smooth': 40}. Best is trial 10 with value: -6.377072792121146.\n",
      "[I 2023-09-05 14:56:30,593] Trial 13 finished with value: -7.437855749538781 and parameters: {'n_estimators': 125, 'reg_alpha': 7.405795569933966, 'reg_lambda': 6.250679283535092, 'colsample_bytree': 0.3679880355956259, 'subsample': 0.40726622108002114, 'learning_rate': 0.006478946381487621, 'max_depth': 4, 'num_leaves': 49, 'min_child_samples': 34, 'cat_smooth': 17}. Best is trial 10 with value: -6.377072792121146.\n",
      "[I 2023-09-05 14:56:30,954] Trial 19 finished with value: -6.381524092362566 and parameters: {'n_estimators': 157, 'reg_alpha': 5.112576807275491, 'reg_lambda': 9.505517567963539, 'colsample_bytree': 0.8987169696329064, 'subsample': 0.3129235623691613, 'learning_rate': 0.09952528942356358, 'max_depth': 3, 'num_leaves': 49, 'min_child_samples': 27, 'cat_smooth': 2}. Best is trial 10 with value: -6.377072792121146.\n",
      "[I 2023-09-05 14:56:32,451] Trial 18 finished with value: -6.354575092733744 and parameters: {'n_estimators': 157, 'reg_alpha': 5.603624010004062, 'reg_lambda': 9.962949133995629, 'colsample_bytree': 0.9878108118049566, 'subsample': 0.10514816329011252, 'learning_rate': 0.05717210154886791, 'max_depth': 4, 'num_leaves': 49, 'min_child_samples': 28, 'cat_smooth': 34}. Best is trial 18 with value: -6.354575092733744.\n",
      "[I 2023-09-05 14:56:32,733] Trial 20 finished with value: -6.333421551035113 and parameters: {'n_estimators': 162, 'reg_alpha': 3.9499431330644317, 'reg_lambda': 9.925319765856846, 'colsample_bytree': 0.9996820726505444, 'subsample': 0.33393200555017566, 'learning_rate': 0.06763798136019862, 'max_depth': 3, 'num_leaves': 48, 'min_child_samples': 29, 'cat_smooth': 27}. Best is trial 20 with value: -6.333421551035113.\n",
      "[I 2023-09-05 14:56:33,224] Trial 14 finished with value: -6.332175016996603 and parameters: {'n_estimators': 157, 'reg_alpha': 6.169833393875673, 'reg_lambda': 4.658165551086559, 'colsample_bytree': 0.7652060928807828, 'subsample': 0.5792506430584655, 'learning_rate': 0.03910802810392959, 'max_depth': 5, 'num_leaves': 29, 'min_child_samples': 20, 'cat_smooth': 9}. Best is trial 14 with value: -6.332175016996603.\n",
      "[I 2023-09-05 14:56:33,676] Trial 12 finished with value: -6.5352258807292145 and parameters: {'n_estimators': 177, 'reg_alpha': 4.6273490365191385, 'reg_lambda': 1.769302470590135, 'colsample_bytree': 0.36097690831723067, 'subsample': 0.17677401998881437, 'learning_rate': 0.0905992484199918, 'max_depth': 5, 'num_leaves': 43, 'min_child_samples': 45, 'cat_smooth': 32}. Best is trial 14 with value: -6.332175016996603.\n",
      "[I 2023-09-05 14:56:33,883] Trial 21 finished with value: -6.3554291454120815 and parameters: {'n_estimators': 200, 'reg_alpha': 0.04366857388773715, 'reg_lambda': 8.861567102406338, 'colsample_bytree': 0.9994133829947367, 'subsample': 0.32776976599729757, 'learning_rate': 0.042163845940777336, 'max_depth': 3, 'num_leaves': 45, 'min_child_samples': 27, 'cat_smooth': 28}. Best is trial 14 with value: -6.332175016996603.\n",
      "[I 2023-09-05 14:56:33,962] Trial 22 finished with value: -6.364184685977771 and parameters: {'n_estimators': 161, 'reg_alpha': 0.5869991656195287, 'reg_lambda': 5.603604672449881, 'colsample_bytree': 0.9911554864004408, 'subsample': 0.37992223050028295, 'learning_rate': 0.043707699962361485, 'max_depth': 3, 'num_leaves': 49, 'min_child_samples': 32, 'cat_smooth': 27}. Best is trial 14 with value: -6.332175016996603.\n",
      "[I 2023-09-05 14:56:34,941] Trial 24 finished with value: -6.36496393535567 and parameters: {'n_estimators': 160, 'reg_alpha': 5.566969895101291, 'reg_lambda': 9.909784233265729, 'colsample_bytree': 0.9941262871739664, 'subsample': 0.3597269670878567, 'learning_rate': 0.09703030165128436, 'max_depth': 3, 'num_leaves': 12, 'min_child_samples': 20, 'cat_smooth': 25}. Best is trial 14 with value: -6.332175016996603.\n",
      "[I 2023-09-05 14:56:35,298] Trial 23 finished with value: -6.370553340831136 and parameters: {'n_estimators': 163, 'reg_alpha': 0.7555264984919277, 'reg_lambda': 9.702123828890858, 'colsample_bytree': 0.9892181476697297, 'subsample': 0.3035037706908692, 'learning_rate': 0.05039339652990449, 'max_depth': 3, 'num_leaves': 40, 'min_child_samples': 30, 'cat_smooth': 28}. Best is trial 14 with value: -6.332175016996603.\n",
      "[I 2023-09-05 14:56:39,108] Trial 25 finished with value: -6.364120624008504 and parameters: {'n_estimators': 166, 'reg_alpha': 6.279033240892707, 'reg_lambda': 9.982732220889323, 'colsample_bytree': 0.9982154619767225, 'subsample': 0.7492778612815856, 'learning_rate': 0.042878230210389334, 'max_depth': 5, 'num_leaves': 10, 'min_child_samples': 21, 'cat_smooth': 27}. Best is trial 14 with value: -6.332175016996603.\n",
      "[I 2023-09-05 14:56:41,067] Trial 27 finished with value: -6.351458016130889 and parameters: {'n_estimators': 143, 'reg_alpha': 4.112366413633707, 'reg_lambda': 5.503611036689614, 'colsample_bytree': 0.7263443960641226, 'subsample': 0.2523687682190939, 'learning_rate': 0.04880784426488561, 'max_depth': 5, 'num_leaves': 41, 'min_child_samples': 19, 'cat_smooth': 31}. Best is trial 14 with value: -6.332175016996603.\n",
      "[I 2023-09-05 14:56:41,292] Trial 26 finished with value: -6.370690374461641 and parameters: {'n_estimators': 141, 'reg_alpha': 4.180461348249266, 'reg_lambda': 9.957802818271706, 'colsample_bytree': 0.9968131356471892, 'subsample': 0.2719781928217638, 'learning_rate': 0.04599668948702783, 'max_depth': 5, 'num_leaves': 43, 'min_child_samples': 19, 'cat_smooth': 29}. Best is trial 14 with value: -6.332175016996603.\n",
      "[I 2023-09-05 14:56:41,651] Trial 28 finished with value: -6.391047682607801 and parameters: {'n_estimators': 142, 'reg_alpha': 6.189548168594516, 'reg_lambda': 9.89165506285549, 'colsample_bytree': 0.990650258563363, 'subsample': 0.3087598057994414, 'learning_rate': 0.04522209362967795, 'max_depth': 5, 'num_leaves': 43, 'min_child_samples': 19, 'cat_smooth': 30}. Best is trial 14 with value: -6.332175016996603.\n",
      "[I 2023-09-05 14:56:42,281] Trial 29 finished with value: -6.365133005608905 and parameters: {'n_estimators': 142, 'reg_alpha': 6.040839427760688, 'reg_lambda': 9.846310914813644, 'colsample_bytree': 0.9973800910713029, 'subsample': 0.2881018152725406, 'learning_rate': 0.04923424034699442, 'max_depth': 5, 'num_leaves': 39, 'min_child_samples': 19, 'cat_smooth': 21}. Best is trial 14 with value: -6.332175016996603.\n",
      "[I 2023-09-05 14:56:42,307] Trial 31 finished with value: -6.337775031846011 and parameters: {'n_estimators': 140, 'reg_alpha': 4.03818771401147, 'reg_lambda': 9.18317912234083, 'colsample_bytree': 0.7650553700642224, 'subsample': 0.27841987740418433, 'learning_rate': 0.05265119399451824, 'max_depth': 5, 'num_leaves': 39, 'min_child_samples': 22, 'cat_smooth': 21}. Best is trial 14 with value: -6.332175016996603.\n",
      "[I 2023-09-05 14:56:42,874] Trial 30 finished with value: -6.354792808053564 and parameters: {'n_estimators': 141, 'reg_alpha': 5.92939391434852, 'reg_lambda': 9.952052043515867, 'colsample_bytree': 0.7536069032693392, 'subsample': 0.2783838957336395, 'learning_rate': 0.0544860763489994, 'max_depth': 5, 'num_leaves': 39, 'min_child_samples': 20, 'cat_smooth': 21}. Best is trial 14 with value: -6.332175016996603.\n",
      "[I 2023-09-05 14:56:43,611] Trial 32 finished with value: -6.330599631986484 and parameters: {'n_estimators': 145, 'reg_alpha': 4.13626332998559, 'reg_lambda': 5.480628429853088, 'colsample_bytree': 0.7440759270795849, 'subsample': 0.5093661375753302, 'learning_rate': 0.054305294120513915, 'max_depth': 5, 'num_leaves': 34, 'min_child_samples': 20, 'cat_smooth': 21}. Best is trial 32 with value: -6.330599631986484.\n",
      "[I 2023-09-05 14:56:50,317] Trial 33 finished with value: -6.333917616462451 and parameters: {'n_estimators': 145, 'reg_alpha': 4.266874064795531, 'reg_lambda': 8.705658788895816, 'colsample_bytree': 0.7449121233530169, 'subsample': 0.5015352461184588, 'learning_rate': 0.05433671649745311, 'max_depth': 6, 'num_leaves': 34, 'min_child_samples': 20, 'cat_smooth': 21}. Best is trial 32 with value: -6.330599631986484.\n",
      "[I 2023-09-05 14:56:51,845] Trial 34 finished with value: -6.350645066835144 and parameters: {'n_estimators': 138, 'reg_alpha': 3.9107884793661505, 'reg_lambda': 5.383571009560299, 'colsample_bytree': 0.7129152887242451, 'subsample': 0.23892356785599017, 'learning_rate': 0.05219840333827232, 'max_depth': 6, 'num_leaves': 33, 'min_child_samples': 21, 'cat_smooth': 21}. Best is trial 32 with value: -6.330599631986484.\n",
      "[I 2023-09-05 14:56:54,401] Trial 36 finished with value: -6.35939790890014 and parameters: {'n_estimators': 147, 'reg_alpha': 3.204669035652096, 'reg_lambda': 5.336599363454327, 'colsample_bytree': 0.7043284401606086, 'subsample': 0.4669661571843994, 'learning_rate': 0.03284431309484854, 'max_depth': 6, 'num_leaves': 21, 'min_child_samples': 8, 'cat_smooth': 22}. Best is trial 32 with value: -6.330599631986484.\n",
      "[I 2023-09-05 14:56:55,372] Trial 35 finished with value: -6.339751124990476 and parameters: {'n_estimators': 139, 'reg_alpha': 3.328909185485877, 'reg_lambda': 5.435289245331568, 'colsample_bytree': 0.7143513861831872, 'subsample': 0.48530682917963497, 'learning_rate': 0.03450409951656316, 'max_depth': 6, 'num_leaves': 35, 'min_child_samples': 15, 'cat_smooth': 20}. Best is trial 32 with value: -6.330599631986484.\n",
      "[I 2023-09-05 14:56:56,507] Trial 38 finished with value: -6.3446442134425185 and parameters: {'n_estimators': 148, 'reg_alpha': 3.520551676509116, 'reg_lambda': 8.58129086294522, 'colsample_bytree': 0.7435637571950625, 'subsample': 0.4661619763931918, 'learning_rate': 0.036884256220973966, 'max_depth': 6, 'num_leaves': 34, 'min_child_samples': 14, 'cat_smooth': 22}. Best is trial 32 with value: -6.330599631986484.\n",
      "[I 2023-09-05 14:56:58,823] Trial 37 finished with value: -6.35896401027458 and parameters: {'n_estimators': 150, 'reg_alpha': 3.5564953899233624, 'reg_lambda': 5.303010547070866, 'colsample_bytree': 0.7016468766640696, 'subsample': 0.4717286828907373, 'learning_rate': 0.03489055357986793, 'max_depth': 6, 'num_leaves': 34, 'min_child_samples': 6, 'cat_smooth': 22}. Best is trial 32 with value: -6.330599631986484.\n",
      "[I 2023-09-05 14:56:59,072] Trial 40 finished with value: -6.363429502011241 and parameters: {'n_estimators': 149, 'reg_alpha': 3.142732900656664, 'reg_lambda': 8.565820644809909, 'colsample_bytree': 0.6813772642361124, 'subsample': 0.4776404822584271, 'learning_rate': 0.03163905649211074, 'max_depth': 6, 'num_leaves': 33, 'min_child_samples': 14, 'cat_smooth': 9}. Best is trial 32 with value: -6.330599631986484.\n",
      "[I 2023-09-05 14:56:59,866] Trial 39 finished with value: -6.333220867414994 and parameters: {'n_estimators': 149, 'reg_alpha': 3.532544041418171, 'reg_lambda': 5.172394603844669, 'colsample_bytree': 0.6810400629023878, 'subsample': 0.2182849928931338, 'learning_rate': 0.034598504175306063, 'max_depth': 7, 'num_leaves': 34, 'min_child_samples': 14, 'cat_smooth': 7}. Best is trial 32 with value: -6.330599631986484.\n",
      "[I 2023-09-05 14:57:06,464] Trial 42 finished with value: -6.35329429056314 and parameters: {'n_estimators': 150, 'reg_alpha': 3.0760913947163737, 'reg_lambda': 8.272003117106573, 'colsample_bytree': 0.6587751623559461, 'subsample': 0.4869842284722131, 'learning_rate': 0.03380329430558722, 'max_depth': 7, 'num_leaves': 23, 'min_child_samples': 15, 'cat_smooth': 9}. Best is trial 32 with value: -6.330599631986484.\n",
      "[I 2023-09-05 14:57:07,453] Trial 41 finished with value: -6.344474176848062 and parameters: {'n_estimators': 150, 'reg_alpha': 3.364388570039079, 'reg_lambda': 8.459113593721403, 'colsample_bytree': 0.6706900527121983, 'subsample': 0.4484077518171743, 'learning_rate': 0.03511150068500904, 'max_depth': 7, 'num_leaves': 33, 'min_child_samples': 15, 'cat_smooth': 7}. Best is trial 32 with value: -6.330599631986484.\n",
      "[I 2023-09-05 14:57:08,177] Trial 44 finished with value: -6.419095786217045 and parameters: {'n_estimators': 150, 'reg_alpha': 4.914076295786746, 'reg_lambda': 8.24938706021725, 'colsample_bytree': 0.6527233135298636, 'subsample': 0.5552411188330848, 'learning_rate': 0.0671995733468705, 'max_depth': 7, 'num_leaves': 29, 'min_child_samples': 24, 'cat_smooth': 9}. Best is trial 32 with value: -6.330599631986484.\n",
      "[I 2023-09-05 14:57:08,254] Trial 45 finished with value: -6.423080919752974 and parameters: {'n_estimators': 151, 'reg_alpha': 4.760115274789172, 'reg_lambda': 7.882983655100285, 'colsample_bytree': 0.6391337008637862, 'subsample': 0.5541982225183376, 'learning_rate': 0.07142484587379923, 'max_depth': 7, 'num_leaves': 30, 'min_child_samples': 24, 'cat_smooth': 9}. Best is trial 32 with value: -6.330599631986484.\n",
      "[I 2023-09-05 14:57:08,366] Trial 43 finished with value: -6.38579263044538 and parameters: {'n_estimators': 150, 'reg_alpha': 5.169509634446092, 'reg_lambda': 8.174854724041024, 'colsample_bytree': 0.6812289836176099, 'subsample': 0.5440714226121308, 'learning_rate': 0.064576996696778, 'max_depth': 7, 'num_leaves': 32, 'min_child_samples': 14, 'cat_smooth': 8}. Best is trial 32 with value: -6.330599631986484.\n",
      "[I 2023-09-05 14:57:08,397] Trial 46 finished with value: -6.38047385638868 and parameters: {'n_estimators': 101, 'reg_alpha': 4.817021212302608, 'reg_lambda': 7.953026611179865, 'colsample_bytree': 0.6464774706843563, 'subsample': 0.5871815080693709, 'learning_rate': 0.06382445973043964, 'max_depth': 7, 'num_leaves': 31, 'min_child_samples': 24, 'cat_smooth': 7}. Best is trial 32 with value: -6.330599631986484.\n",
      "[I 2023-09-05 14:57:08,838] Trial 47 finished with value: -6.431900453579074 and parameters: {'n_estimators': 119, 'reg_alpha': 5.0127244138556195, 'reg_lambda': 8.039272401528486, 'colsample_bytree': 0.6273768022141315, 'subsample': 0.5740820718309898, 'learning_rate': 0.06518467511244581, 'max_depth': 7, 'num_leaves': 28, 'min_child_samples': 23, 'cat_smooth': 16}. Best is trial 32 with value: -6.330599631986484.\n",
      "[I 2023-09-05 14:57:08,924] Trial 48 finished with value: -6.393173027259595 and parameters: {'n_estimators': 124, 'reg_alpha': 4.843029154833729, 'reg_lambda': 6.972422341064129, 'colsample_bytree': 0.6365577937843887, 'subsample': 0.5393286597495004, 'learning_rate': 0.06760628819539925, 'max_depth': 7, 'num_leaves': 29, 'min_child_samples': 25, 'cat_smooth': 5}. Best is trial 32 with value: -6.330599631986484.\n",
      "[I 2023-09-05 14:57:10,059] Trial 49 finished with value: -6.409034629265307 and parameters: {'n_estimators': 171, 'reg_alpha': 4.683733570518172, 'reg_lambda': 6.785994489309301, 'colsample_bytree': 0.6247562395518281, 'subsample': 0.5569684336614475, 'learning_rate': 0.06720674283574182, 'max_depth': 7, 'num_leaves': 30, 'min_child_samples': 24, 'cat_smooth': 4}. Best is trial 32 with value: -6.330599631986484.\n"
     ]
    },
    {
     "name": "stdout",
     "output_type": "stream",
     "text": [
      "Параметры: {'n_estimators': 145, 'reg_alpha': 4.13626332998559, 'reg_lambda': 5.480628429853088, 'colsample_bytree': 0.7440759270795849, 'subsample': 0.5093661375753302, 'learning_rate': 0.054305294120513915, 'max_depth': 5, 'num_leaves': 34, 'min_child_samples': 20, 'cat_smooth': 21}\n",
      "MAE LGBM Regressor 6.330599631986484\n",
      "CPU times: user 1min 1s, sys: 6min 23s, total: 7min 24s\n",
      "Wall time: 1min\n"
     ]
    }
   ],
   "source": [
    "%%time\n",
    "\n",
    "param_lgbm = {\n",
    "        'n_estimators': optuna.distributions.IntDistribution(100, 200), \n",
    "        'reg_alpha': optuna.distributions.FloatDistribution(0.001, 10.0),\n",
    "        'reg_lambda': optuna.distributions.FloatDistribution(0.001, 10.0),\n",
    "        'colsample_bytree': optuna.distributions.FloatDistribution(0.05, 1),\n",
    "        'subsample': optuna.distributions.FloatDistribution(0.05, 1.0),\n",
    "        'learning_rate': optuna.distributions.FloatDistribution(0.001, 0.1),\n",
    "        'max_depth': optuna.distributions.IntDistribution(1, 10),\n",
    "        'num_leaves' : optuna.distributions.IntDistribution(1, 50),\n",
    "        'min_child_samples': optuna.distributions.IntDistribution(1, 50),\n",
    "        'cat_smooth' : optuna.distributions.IntDistribution(1, 50)\n",
    "    }\n",
    "\n",
    "model_lgbm = LGBMRegressor(verbose = -1)\n",
    "opt_search_lgbm = optuna.integration.OptunaSearchCV(model_lgbm, param_lgbm, cv = 5, n_trials = 50, \\\n",
    "                                               scoring = 'neg_mean_absolute_error', n_jobs = -1, random_state = STATE)\n",
    "opt_search_lgbm.fit(features_train, target_train)\n",
    "\n",
    "print('Параметры:', opt_search_lgbm.best_params_)\n",
    "opt_lgbm_score = -opt_search_lgbm.best_score_\n",
    "print('MAE LGBM Regressor', opt_lgbm_score)"
   ]
  },
  {
   "cell_type": "markdown",
   "metadata": {},
   "source": [
    "### Тестирование"
   ]
  },
  {
   "cell_type": "code",
   "execution_count": 69,
   "metadata": {},
   "outputs": [],
   "source": [
    "results = pd.DataFrame({'Model': ['Linear Regression', 'Random Forest', 'Randomized Search Catboost', 'Optuna Catboost', 'Optuna LGBM' ],\n",
    "                        'MAE': [lin_reg_score, forest_score, cbr_score, opt_cbr_score, opt_lgbm_score]\n",
    "                       })"
   ]
  },
  {
   "cell_type": "code",
   "execution_count": 70,
   "metadata": {},
   "outputs": [
    {
     "data": {
      "text/html": [
       "<div>\n",
       "<style scoped>\n",
       "    .dataframe tbody tr th:only-of-type {\n",
       "        vertical-align: middle;\n",
       "    }\n",
       "\n",
       "    .dataframe tbody tr th {\n",
       "        vertical-align: top;\n",
       "    }\n",
       "\n",
       "    .dataframe thead th {\n",
       "        text-align: right;\n",
       "    }\n",
       "</style>\n",
       "<table border=\"1\" class=\"dataframe\">\n",
       "  <thead>\n",
       "    <tr style=\"text-align: right;\">\n",
       "      <th></th>\n",
       "      <th>Model</th>\n",
       "      <th>MAE</th>\n",
       "    </tr>\n",
       "  </thead>\n",
       "  <tbody>\n",
       "    <tr>\n",
       "      <th>0</th>\n",
       "      <td>Linear Regression</td>\n",
       "      <td>6.495103</td>\n",
       "    </tr>\n",
       "    <tr>\n",
       "      <th>1</th>\n",
       "      <td>Random Forest</td>\n",
       "      <td>6.600956</td>\n",
       "    </tr>\n",
       "    <tr>\n",
       "      <th>2</th>\n",
       "      <td>Randomized Search Catboost</td>\n",
       "      <td>6.263264</td>\n",
       "    </tr>\n",
       "    <tr>\n",
       "      <th>3</th>\n",
       "      <td>Optuna Catboost</td>\n",
       "      <td>6.232822</td>\n",
       "    </tr>\n",
       "    <tr>\n",
       "      <th>4</th>\n",
       "      <td>Optuna LGBM</td>\n",
       "      <td>6.330600</td>\n",
       "    </tr>\n",
       "  </tbody>\n",
       "</table>\n",
       "</div>"
      ],
      "text/plain": [
       "                        Model       MAE\n",
       "0           Linear Regression  6.495103\n",
       "1               Random Forest  6.600956\n",
       "2  Randomized Search Catboost  6.263264\n",
       "3             Optuna Catboost  6.232822\n",
       "4                 Optuna LGBM  6.330600"
      ]
     },
     "metadata": {},
     "output_type": "display_data"
    }
   ],
   "source": [
    "display(results)"
   ]
  },
  {
   "cell_type": "markdown",
   "metadata": {},
   "source": [
    "Из всех моделей, лучший результат показал Catboost с параметрами, подобранными при помощи OptunaSearchCV. Проверим лучшую модель на тестовой выборке."
   ]
  },
  {
   "cell_type": "code",
   "execution_count": 71,
   "metadata": {},
   "outputs": [
    {
     "name": "stdout",
     "output_type": "stream",
     "text": [
      "MAE 6.245462399775659\n"
     ]
    }
   ],
   "source": [
    "model_final = opt_search_cbr.best_estimator_\n",
    "preds = model_final.predict(features_test)\n",
    "final_score = mean_absolute_error(target_test, preds)\n",
    "print('MAE', final_score)"
   ]
  },
  {
   "cell_type": "markdown",
   "metadata": {},
   "source": [
    "### Сравнение важности признаков\n",
    "\n",
    "Построим график для сравнительного анализа важности признаков."
   ]
  },
  {
   "cell_type": "code",
   "execution_count": 72,
   "metadata": {},
   "outputs": [
    {
     "data": {
      "image/png": "[encoded data removed]",
      "text/plain": [
       "<Figure size 1200x500 with 1 Axes>"
      ]
     },
     "metadata": {},
     "output_type": "display_data"
    }
   ],
   "source": [
    "fi = pd.Series(model_final.feature_importances_, index=features.columns)\n",
    "fi = fi.sort_values(ascending=False)\n",
    "plt.figure(figsize=(12,5))\n",
    "ax = fi.plot(kind='bar')\n",
    "ax.set_title('Сравнение важности признаков')\n",
    "ax.set_ylabel('Уровень значимости')\n",
    "ax.set_xlabel('Признаки');"
   ]
  },
  {
   "cell_type": "markdown",
   "metadata": {},
   "source": [
    "### Промежуточный вывод\n",
    "\n",
    "- разделили данные на обучающую и тестовую выборки;\n",
    "- выполнили масштабирование признаков;\n",
    "- для кросс-валидации и автоматизации подбора гиперпараметров использовали RandomizedSearchCV и OptunaSearchCV;\n",
    "- обучили несколько моделей;\n",
    "- лучше всех показала себя модель CatBoost с параметрами Optuna;\n",
    "- значение целевой метрики MAE на тестовой выборке 6.23;\n",
    "- анализ важности признаков выявил два ключевых – это первичная температура ковша, и общее время нагрева. Значимость отдельных материалов пропорциональна объему их использования;"
   ]
  },
  {
   "cell_type": "markdown",
   "metadata": {},
   "source": [
    "## Отчет\n",
    "\n",
    "1) **План работы:**\n",
    "\n",
    "- изучить данные - обработать пропуски, исключить аномальные значения, проверить выбросы;\n",
    "- определиться с тем, какие данные нужно оставить, а какие не пригодятся;\n",
    "- определить, какие новые признаки можно сформировать из имеющихся данных;\n",
    "- выделить признаки для моделей;\n",
    "- объединить таблицы в итоговый датафрейм;\n",
    "- выполнить предобработку признаков и разделение на выборки;\n",
    "- построить и обучить разные модели;\n",
    "- выполнить тестирование лучшей модели и провести анализ значимости признаков;\n",
    "\n",
    "Все пункты плана были выполнены.\n",
    "\n",
    "2) **Трудности**\n",
    "\n",
    "Основная трудность заключалась в определении значимых признаков. Какую информацию нужно использовать, а какую исключить, и что считать объектом после определения признаков? После уточнения техпроцесса, логически было установлено, что объектом является ковш/номер партии. Было принято решение исключить данные о времени подачи сыпучих и проволочных материалов bulk_time и wire_time, и малоиспользуемые материалы.\n",
    "\n",
    "3) **Ключевые шаги** соответствуют плану работы. Главный момент – это уточнение технической информации у заказчика и определение объекта моделирования.\n",
    "\n",
    "4) **Модель** CatBoost Regressor показала себя лучше всех. Итоговая метрика качества MAE 6.23;\n",
    "\n",
    "   **Признаки для обучения модели**\n",
    "\n",
    "- first_temp - первичный замер температуры. Были оставлены только те партии, у которых были и первичный и финальный замеры;\n",
    "- heating_time - суммарное время нагрева ковша, было высчитано через разницу времени конца и начала нагрева;\n",
    "- total_power - суммарная мощность. Была рассчитана по формуле из имеющихся активных и реактивных мощностей;\n",
    "- bulk_3, bulk_4, bulk_6, bulk_10, bulk_11, bulk_12, bulk_14, bulk_15, wire_1, wire_2, wire_3, wire_6 - данные об объемах используемых материалов. Для улучшения точности предсказаний, были оставлены только те материалы, которые часто использовались.\n",
    "- gas_1 - данные о продувке газом взяты без изменений;\n",
    "- данные со всех таблиц были сгруппированы по номеру партии и объединены в один датафрейм таким образом, чтобы в финальную выборку попали только партии с полной информацией о необходимых признаках;\n",
    "\n",
    "   **Гиперпараметры модели (подобраны с помощью OptunaSearchCV):**\n",
    "  \n",
    "- iterations = 696;\n",
    "- learning_rate = 0.02605451823798683;\n",
    "- depth = 4;\n",
    "- subsample = 0.20373476986666944;\n",
    "- colsample_bylevel = 0.3844242012119434;\n",
    "- min_data_in_leaf = 4;\n",
    "- random_state = 1092023\n",
    "\n",
    "5) **Дальнейшие улучшения модели**\n",
    "   \n",
    "Исходя из значимости двух ключевых признаков - первичной температуры ковша и времени нагрева, в дальнейшем, можно продолжить работу над оптимизацией энергозатрат. К примеру, чтобы снизить колебания температуры в процессе, можно проанализировать данные о порядке подачи и составе материалов. У нас есть данные о времени нагрева после подачи каждого материала, уточнив данные о составе и строгости порядка подачи, можно будет оптимизировать процесс таким образом, чтобы сократить энергозатраты на промежуточный нагрев."
   ]
  },
  {
   "cell_type": "markdown",
   "metadata": {},
   "source": [
    "## Вывод\n",
    "\n",
    "Мы проанализировали данные о замешивании сплавов на металлургическом комбинате ООО «Так закаляем сталь». Для оптимизации расходов на энергопотребление и обслуживание, необходимо было построить модель, которая будет предсказывать температуру ковша с погрешностью не больше 6.8 градуса.\n",
    "\n",
    "На этапе **загрузки и изучения данных**, мы:\n",
    "- провели предобработку данных, исправили имена столбцов и тип данных в столбцах с датой-временем;\n",
    "- устранили выбросы в данных об электродах и подаче газа;\n",
    "- устранили пропуски и выбросы в замерах температуры;\n",
    "- удалены малозначимые данные об объемах сыпучих и проволочных материалов;\n",
    "\n",
    "На этапе **анализа признаков**, мы:\n",
    "- рассчитали новые признаки;\n",
    "- сгруппировали данные по номеру партии;\n",
    "- отфильтровали данные с замерами температуры;\n",
    "- объединили данные в один датафрейм;\n",
    "- провели анализ корреляции признаков;\n",
    "\n",
    "На этапе **обучения моделей**:\n",
    "- разделили данные на обучающую и тестовую выборки;\n",
    "- выполнили масштабирование признаков;\n",
    "- для кросс-валидации и автоматизации подбора гиперпараметров использовали RandomizedSearchCV и OptunaSearchCV;\n",
    "- обучили несколько моделей;\n",
    "- лучше всех показала себя модель CatBoost с параметрами Optuna;\n",
    "- необходимое значение целевой метрики MAE на тестовой выборке было достигнуто – 6.23;\n",
    "- анализ важности признаков выявил два ключевых – это первичная температура ковша, и общее время нагрева. Значимость отдельных материалов пропорциональна объему их использования;\n",
    "\n",
    "Для внедрения в эксплуатацию и дальнейшей работой над оптимизацией рекомендуется модель CatBoost."
   ]
  }
 ],
 "metadata": {
  "ExecuteTimeLog": [
   {
    "duration": 1328,
    "start_time": "2023-09-01T19:32:26.611Z"
   },
   {
    "duration": 237,
    "start_time": "2023-09-01T19:32:28.204Z"
   },
   {
    "duration": 48524,
    "start_time": "2023-09-01T19:32:52.234Z"
   },
   {
    "duration": 58,
    "start_time": "2023-09-01T19:34:09.411Z"
   },
   {
    "duration": 286,
    "start_time": "2023-09-01T19:34:12.040Z"
   },
   {
    "duration": 16,
    "start_time": "2023-09-01T19:38:55.392Z"
   },
   {
    "duration": 3,
    "start_time": "2023-09-01T19:38:59.226Z"
   },
   {
    "duration": 13,
    "start_time": "2023-09-01T19:39:00.634Z"
   },
   {
    "duration": 13,
    "start_time": "2023-09-01T19:39:02.035Z"
   },
   {
    "duration": 20,
    "start_time": "2023-09-01T19:39:03.333Z"
   },
   {
    "duration": 19,
    "start_time": "2023-09-01T19:39:07.059Z"
   },
   {
    "duration": 10,
    "start_time": "2023-09-01T19:47:09.509Z"
   },
   {
    "duration": 26462,
    "start_time": "2023-09-01T19:58:38.334Z"
   },
   {
    "duration": 1547,
    "start_time": "2023-09-01T19:59:04.799Z"
   },
   {
    "duration": 441,
    "start_time": "2023-09-01T19:59:19.971Z"
   },
   {
    "duration": 721,
    "start_time": "2023-09-01T20:00:38.108Z"
   },
   {
    "duration": 14,
    "start_time": "2023-09-01T20:00:47.156Z"
   },
   {
    "duration": 3,
    "start_time": "2023-09-01T20:00:49.472Z"
   },
   {
    "duration": 12,
    "start_time": "2023-09-01T20:00:51.814Z"
   },
   {
    "duration": 15,
    "start_time": "2023-09-01T20:00:52.917Z"
   },
   {
    "duration": 32,
    "start_time": "2023-09-01T20:00:54.384Z"
   },
   {
    "duration": 9,
    "start_time": "2023-09-01T20:00:56.938Z"
   },
   {
    "duration": 19,
    "start_time": "2023-09-01T20:01:58.781Z"
   },
   {
    "duration": 14,
    "start_time": "2023-09-01T20:02:00.895Z"
   },
   {
    "duration": 49,
    "start_time": "2023-09-01T20:02:02.637Z"
   },
   {
    "duration": 215,
    "start_time": "2023-09-01T20:02:11.026Z"
   },
   {
    "duration": 15,
    "start_time": "2023-09-01T20:02:20.489Z"
   },
   {
    "duration": 16,
    "start_time": "2023-09-01T20:02:23.853Z"
   },
   {
    "duration": 31,
    "start_time": "2023-09-01T20:02:32.925Z"
   },
   {
    "duration": 13,
    "start_time": "2023-09-01T20:02:38.300Z"
   },
   {
    "duration": 10,
    "start_time": "2023-09-01T20:02:42.871Z"
   },
   {
    "duration": 46,
    "start_time": "2023-09-01T20:02:43.018Z"
   },
   {
    "duration": 193,
    "start_time": "2023-09-01T20:02:44.204Z"
   },
   {
    "duration": 16,
    "start_time": "2023-09-01T20:02:54.375Z"
   },
   {
    "duration": 10,
    "start_time": "2023-09-01T20:02:56.571Z"
   },
   {
    "duration": 24,
    "start_time": "2023-09-01T20:02:58.002Z"
   },
   {
    "duration": 14,
    "start_time": "2023-09-01T20:03:00.315Z"
   },
   {
    "duration": 8,
    "start_time": "2023-09-01T20:03:02.200Z"
   },
   {
    "duration": 14,
    "start_time": "2023-09-01T20:03:03.463Z"
   },
   {
    "duration": 270,
    "start_time": "2023-09-01T20:03:06.314Z"
   },
   {
    "duration": 11,
    "start_time": "2023-09-01T20:04:14.261Z"
   },
   {
    "duration": 10,
    "start_time": "2023-09-01T20:04:22.723Z"
   },
   {
    "duration": 9,
    "start_time": "2023-09-01T20:04:23.143Z"
   },
   {
    "duration": 13,
    "start_time": "2023-09-01T20:04:26.515Z"
   },
   {
    "duration": 238,
    "start_time": "2023-09-01T20:04:27.587Z"
   },
   {
    "duration": 12,
    "start_time": "2023-09-01T20:04:37.413Z"
   },
   {
    "duration": 5,
    "start_time": "2023-09-01T20:04:44.863Z"
   },
   {
    "duration": 169,
    "start_time": "2023-09-01T20:04:47.037Z"
   },
   {
    "duration": 28801,
    "start_time": "2023-09-02T19:53:44.230Z"
   },
   {
    "duration": 1424,
    "start_time": "2023-09-02T19:54:13.033Z"
   },
   {
    "duration": 454,
    "start_time": "2023-09-02T19:54:23.278Z"
   },
   {
    "duration": 15,
    "start_time": "2023-09-02T19:54:44.194Z"
   },
   {
    "duration": 4,
    "start_time": "2023-09-02T19:54:46.506Z"
   },
   {
    "duration": 11,
    "start_time": "2023-09-02T19:54:47.796Z"
   },
   {
    "duration": 17,
    "start_time": "2023-09-02T19:54:48.782Z"
   },
   {
    "duration": 22,
    "start_time": "2023-09-02T19:54:49.795Z"
   },
   {
    "duration": 10,
    "start_time": "2023-09-02T19:54:51.871Z"
   },
   {
    "duration": 4,
    "start_time": "2023-09-02T19:55:26.910Z"
   },
   {
    "duration": 20,
    "start_time": "2023-09-02T19:55:28.758Z"
   },
   {
    "duration": 175,
    "start_time": "2023-09-02T19:55:44.762Z"
   },
   {
    "duration": 120,
    "start_time": "2023-09-02T19:55:45.968Z"
   },
   {
    "duration": 135,
    "start_time": "2023-09-02T19:55:46.985Z"
   },
   {
    "duration": 117,
    "start_time": "2023-09-02T19:55:49.408Z"
   },
   {
    "duration": 22,
    "start_time": "2023-09-02T19:56:23.305Z"
   },
   {
    "duration": 3,
    "start_time": "2023-09-02T19:56:25.848Z"
   },
   {
    "duration": 9,
    "start_time": "2023-09-02T19:56:28.217Z"
   },
   {
    "duration": 31135,
    "start_time": "2023-09-03T18:39:42.507Z"
   },
   {
    "duration": 2115,
    "start_time": "2023-09-03T18:40:13.645Z"
   },
   {
    "duration": 903,
    "start_time": "2023-09-03T18:40:15.762Z"
   },
   {
    "duration": 25,
    "start_time": "2023-09-03T18:40:16.667Z"
   },
   {
    "duration": 3,
    "start_time": "2023-09-03T18:40:16.694Z"
   },
   {
    "duration": 14,
    "start_time": "2023-09-03T18:40:16.699Z"
   },
   {
    "duration": 15,
    "start_time": "2023-09-03T18:40:16.715Z"
   },
   {
    "duration": 30,
    "start_time": "2023-09-03T18:40:16.732Z"
   },
   {
    "duration": 29,
    "start_time": "2023-09-03T18:40:16.764Z"
   },
   {
    "duration": 3,
    "start_time": "2023-09-03T18:40:16.796Z"
   },
   {
    "duration": 31,
    "start_time": "2023-09-03T18:40:16.801Z"
   },
   {
    "duration": 185,
    "start_time": "2023-09-03T18:40:16.833Z"
   },
   {
    "duration": 131,
    "start_time": "2023-09-03T18:40:17.019Z"
   },
   {
    "duration": 207,
    "start_time": "2023-09-03T18:40:17.152Z"
   },
   {
    "duration": 170,
    "start_time": "2023-09-03T18:40:17.361Z"
   },
   {
    "duration": 25,
    "start_time": "2023-09-03T18:40:17.533Z"
   },
   {
    "duration": 5,
    "start_time": "2023-09-03T18:40:17.561Z"
   },
   {
    "duration": 13,
    "start_time": "2023-09-03T18:40:17.581Z"
   },
   {
    "duration": 47,
    "start_time": "2023-09-03T18:40:17.595Z"
   },
   {
    "duration": 219,
    "start_time": "2023-09-03T18:40:17.644Z"
   },
   {
    "duration": 5,
    "start_time": "2023-09-03T18:40:17.865Z"
   },
   {
    "duration": 18,
    "start_time": "2023-09-03T18:40:17.882Z"
   },
   {
    "duration": 17,
    "start_time": "2023-09-03T18:40:17.902Z"
   },
   {
    "duration": 29,
    "start_time": "2023-09-03T18:40:17.921Z"
   },
   {
    "duration": 40,
    "start_time": "2023-09-03T18:40:17.952Z"
   },
   {
    "duration": 4,
    "start_time": "2023-09-03T18:40:17.994Z"
   },
   {
    "duration": 10,
    "start_time": "2023-09-03T18:40:18.001Z"
   },
   {
    "duration": 31,
    "start_time": "2023-09-03T18:40:18.015Z"
   },
   {
    "duration": 202,
    "start_time": "2023-09-03T18:40:18.048Z"
   },
   {
    "duration": 4,
    "start_time": "2023-09-03T18:40:18.252Z"
   },
   {
    "duration": 41,
    "start_time": "2023-09-03T18:40:18.257Z"
   },
   {
    "duration": 22,
    "start_time": "2023-09-03T18:40:18.299Z"
   },
   {
    "duration": 19,
    "start_time": "2023-09-03T18:40:18.323Z"
   },
   {
    "duration": 8,
    "start_time": "2023-09-03T18:40:18.344Z"
   },
   {
    "duration": 10,
    "start_time": "2023-09-03T18:40:18.354Z"
   },
   {
    "duration": 14,
    "start_time": "2023-09-03T18:40:18.366Z"
   },
   {
    "duration": 185,
    "start_time": "2023-09-03T18:40:18.384Z"
   },
   {
    "duration": 148,
    "start_time": "2023-09-03T18:40:18.570Z"
   },
   {
    "duration": 18,
    "start_time": "2023-09-03T18:40:18.720Z"
   },
   {
    "duration": 9,
    "start_time": "2023-09-03T18:40:18.740Z"
   },
   {
    "duration": 11,
    "start_time": "2023-09-03T18:40:18.750Z"
   },
   {
    "duration": 32,
    "start_time": "2023-09-03T18:40:18.763Z"
   },
   {
    "duration": 20,
    "start_time": "2023-09-03T18:40:18.797Z"
   },
   {
    "duration": 8,
    "start_time": "2023-09-03T18:40:18.818Z"
   },
   {
    "duration": 201,
    "start_time": "2023-09-03T18:40:18.828Z"
   },
   {
    "duration": 236,
    "start_time": "2023-09-03T18:40:19.032Z"
   },
   {
    "duration": 29,
    "start_time": "2023-09-03T18:40:19.270Z"
   },
   {
    "duration": 196,
    "start_time": "2023-09-03T18:40:19.300Z"
   },
   {
    "duration": 21,
    "start_time": "2023-09-03T18:40:19.497Z"
   },
   {
    "duration": 7,
    "start_time": "2023-09-03T18:40:19.520Z"
   },
   {
    "duration": 9,
    "start_time": "2023-09-03T18:40:19.529Z"
   },
   {
    "duration": 9,
    "start_time": "2023-09-03T18:40:19.539Z"
   },
   {
    "duration": 43,
    "start_time": "2023-09-03T18:40:19.550Z"
   },
   {
    "duration": 6,
    "start_time": "2023-09-03T18:40:19.595Z"
   },
   {
    "duration": 17,
    "start_time": "2023-09-03T18:40:19.603Z"
   },
   {
    "duration": 12,
    "start_time": "2023-09-03T18:40:19.622Z"
   },
   {
    "duration": 14,
    "start_time": "2023-09-03T18:40:19.635Z"
   },
   {
    "duration": 36,
    "start_time": "2023-09-03T18:40:19.651Z"
   },
   {
    "duration": 23,
    "start_time": "2023-09-03T18:40:19.689Z"
   },
   {
    "duration": 24,
    "start_time": "2023-09-03T18:40:19.713Z"
   },
   {
    "duration": 2090,
    "start_time": "2023-09-03T18:40:19.739Z"
   },
   {
    "duration": 7,
    "start_time": "2023-09-03T18:40:21.830Z"
   },
   {
    "duration": 30,
    "start_time": "2023-09-03T18:40:21.839Z"
   },
   {
    "duration": 125,
    "start_time": "2023-09-03T18:40:21.870Z"
   },
   {
    "duration": 3005,
    "start_time": "2023-09-03T18:40:21.997Z"
   },
   {
    "duration": 83085,
    "start_time": "2023-09-03T18:40:25.004Z"
   },
   {
    "duration": 4,
    "start_time": "2023-09-03T18:41:48.091Z"
   },
   {
    "duration": 244,
    "start_time": "2023-09-03T18:41:48.096Z"
   },
   {
    "duration": 124900,
    "start_time": "2023-09-04T04:33:22.627Z"
   },
   {
    "duration": 11004,
    "start_time": "2023-09-04T04:35:27.602Z"
   },
   {
    "duration": 1896,
    "start_time": "2023-09-04T04:35:38.609Z"
   },
   {
    "duration": 492,
    "start_time": "2023-09-04T04:35:40.515Z"
   },
   {
    "duration": 4,
    "start_time": "2023-09-04T04:35:41.013Z"
   },
   {
    "duration": 104,
    "start_time": "2023-09-04T04:35:41.019Z"
   },
   {
    "duration": 179,
    "start_time": "2023-09-04T04:35:41.125Z"
   },
   {
    "duration": 194,
    "start_time": "2023-09-04T04:35:41.313Z"
   },
   {
    "duration": 95,
    "start_time": "2023-09-04T04:35:41.513Z"
   },
   {
    "duration": 8,
    "start_time": "2023-09-04T04:35:41.615Z"
   },
   {
    "duration": 102,
    "start_time": "2023-09-04T04:35:41.703Z"
   },
   {
    "duration": 1097,
    "start_time": "2023-09-04T04:35:41.814Z"
   },
   {
    "duration": 994,
    "start_time": "2023-09-04T04:35:42.924Z"
   },
   {
    "duration": 892,
    "start_time": "2023-09-04T04:35:43.924Z"
   },
   {
    "duration": 685,
    "start_time": "2023-09-04T04:35:44.819Z"
   },
   {
    "duration": 191,
    "start_time": "2023-09-04T04:35:45.509Z"
   },
   {
    "duration": 4,
    "start_time": "2023-09-04T04:35:45.704Z"
   },
   {
    "duration": 107,
    "start_time": "2023-09-04T04:35:45.710Z"
   },
   {
    "duration": 282,
    "start_time": "2023-09-04T04:35:45.821Z"
   },
   {
    "duration": 1196,
    "start_time": "2023-09-04T04:35:46.108Z"
   },
   {
    "duration": 6,
    "start_time": "2023-09-04T04:35:47.313Z"
   },
   {
    "duration": 97,
    "start_time": "2023-09-04T04:42:49.903Z"
   },
   {
    "duration": 19,
    "start_time": "2023-09-04T04:42:51.400Z"
   },
   {
    "duration": 206,
    "start_time": "2023-09-04T04:42:53.301Z"
   },
   {
    "duration": 21,
    "start_time": "2023-09-04T04:42:54.302Z"
   },
   {
    "duration": 4,
    "start_time": "2023-09-04T04:42:54.827Z"
   },
   {
    "duration": 18,
    "start_time": "2023-09-04T04:42:55.102Z"
   },
   {
    "duration": 204,
    "start_time": "2023-09-04T04:42:55.304Z"
   },
   {
    "duration": 785,
    "start_time": "2023-09-04T04:42:55.827Z"
   },
   {
    "duration": 6,
    "start_time": "2023-09-04T04:42:56.618Z"
   },
   {
    "duration": 101,
    "start_time": "2023-09-04T04:42:56.808Z"
   },
   {
    "duration": 97,
    "start_time": "2023-09-04T04:42:57.330Z"
   },
   {
    "duration": 104,
    "start_time": "2023-09-04T04:42:57.906Z"
   },
   {
    "duration": 15,
    "start_time": "2023-09-04T04:42:59.005Z"
   },
   {
    "duration": 17,
    "start_time": "2023-09-04T04:42:59.202Z"
   },
   {
    "duration": 94,
    "start_time": "2023-09-04T04:42:59.420Z"
   },
   {
    "duration": 1092,
    "start_time": "2023-09-04T04:42:59.926Z"
   },
   {
    "duration": 787,
    "start_time": "2023-09-04T04:43:01.024Z"
   },
   {
    "duration": 102,
    "start_time": "2023-09-04T04:43:01.817Z"
   },
   {
    "duration": 194,
    "start_time": "2023-09-04T04:43:01.922Z"
   },
   {
    "duration": 114,
    "start_time": "2023-09-04T04:43:02.802Z"
   },
   {
    "duration": 99,
    "start_time": "2023-09-04T04:43:03.302Z"
   },
   {
    "duration": 102,
    "start_time": "2023-09-04T04:43:11.002Z"
   },
   {
    "duration": 17,
    "start_time": "2023-09-04T04:43:11.802Z"
   },
   {
    "duration": 1027,
    "start_time": "2023-09-04T04:43:13.202Z"
   },
   {
    "duration": 719,
    "start_time": "2023-09-04T04:43:14.308Z"
   },
   {
    "duration": 104,
    "start_time": "2023-09-04T04:43:15.902Z"
   },
   {
    "duration": 1513,
    "start_time": "2023-09-04T04:43:16.602Z"
   },
   {
    "duration": 104,
    "start_time": "2023-09-04T04:43:29.701Z"
   },
   {
    "duration": 13,
    "start_time": "2023-09-04T04:43:29.914Z"
   },
   {
    "duration": 12,
    "start_time": "2023-09-04T04:43:30.206Z"
   },
   {
    "duration": 20,
    "start_time": "2023-09-04T04:43:32.102Z"
   },
   {
    "duration": 118,
    "start_time": "2023-09-04T04:43:32.902Z"
   },
   {
    "duration": 10,
    "start_time": "2023-09-04T04:43:33.701Z"
   },
   {
    "duration": 26,
    "start_time": "2023-09-04T04:43:33.902Z"
   },
   {
    "duration": 16,
    "start_time": "2023-09-04T04:43:35.603Z"
   },
   {
    "duration": 97,
    "start_time": "2023-09-04T04:43:36.207Z"
   },
   {
    "duration": 22,
    "start_time": "2023-09-04T04:43:36.404Z"
   },
   {
    "duration": 97,
    "start_time": "2023-09-04T04:43:45.223Z"
   },
   {
    "duration": 111,
    "start_time": "2023-09-04T04:43:46.602Z"
   },
   {
    "duration": 10299,
    "start_time": "2023-09-04T04:44:39.505Z"
   },
   {
    "duration": 80,
    "start_time": "2023-09-04T04:45:23.722Z"
   },
   {
    "duration": 19,
    "start_time": "2023-09-04T04:45:25.102Z"
   },
   {
    "duration": 499,
    "start_time": "2023-09-04T04:45:52.304Z"
   },
   {
    "duration": 6802,
    "start_time": "2023-09-04T04:46:48.807Z"
   },
   {
    "duration": 52606,
    "start_time": "2023-09-04T04:47:32.602Z"
   },
   {
    "duration": 39475,
    "start_time": "2023-09-04T18:06:03.720Z"
   },
   {
    "duration": 4724,
    "start_time": "2023-09-04T18:06:46.409Z"
   },
   {
    "duration": 1213,
    "start_time": "2023-09-04T18:06:51.135Z"
   },
   {
    "duration": 25,
    "start_time": "2023-09-04T18:06:52.351Z"
   },
   {
    "duration": 3,
    "start_time": "2023-09-04T18:06:54.704Z"
   },
   {
    "duration": 12,
    "start_time": "2023-09-04T18:06:55.368Z"
   },
   {
    "duration": 15,
    "start_time": "2023-09-04T18:06:55.672Z"
   },
   {
    "duration": 20,
    "start_time": "2023-09-04T18:06:56.010Z"
   },
   {
    "duration": 11,
    "start_time": "2023-09-04T18:06:56.325Z"
   },
   {
    "duration": 8,
    "start_time": "2023-09-04T18:06:56.949Z"
   },
   {
    "duration": 17,
    "start_time": "2023-09-04T18:06:57.389Z"
   },
   {
    "duration": 196,
    "start_time": "2023-09-04T18:06:57.780Z"
   },
   {
    "duration": 143,
    "start_time": "2023-09-04T18:06:57.980Z"
   },
   {
    "duration": 177,
    "start_time": "2023-09-04T18:06:58.197Z"
   },
   {
    "duration": 291,
    "start_time": "2023-09-04T18:06:58.389Z"
   },
   {
    "duration": 26,
    "start_time": "2023-09-04T18:07:01.260Z"
   },
   {
    "duration": 3,
    "start_time": "2023-09-04T18:07:01.907Z"
   },
   {
    "duration": 14,
    "start_time": "2023-09-04T18:07:02.362Z"
   },
   {
    "duration": 43,
    "start_time": "2023-09-04T18:07:02.591Z"
   },
   {
    "duration": 266,
    "start_time": "2023-09-04T18:07:02.812Z"
   },
   {
    "duration": 6,
    "start_time": "2023-09-04T18:07:03.261Z"
   },
   {
    "duration": 15,
    "start_time": "2023-09-04T18:07:04.118Z"
   },
   {
    "duration": 19,
    "start_time": "2023-09-04T18:07:04.457Z"
   },
   {
    "duration": 45,
    "start_time": "2023-09-04T18:07:05.236Z"
   },
   {
    "duration": 13,
    "start_time": "2023-09-04T18:07:05.991Z"
   },
   {
    "duration": 3,
    "start_time": "2023-09-04T18:07:06.616Z"
   },
   {
    "duration": 9,
    "start_time": "2023-09-04T18:07:07.176Z"
   },
   {
    "duration": 38,
    "start_time": "2023-09-04T18:07:07.956Z"
   },
   {
    "duration": 190,
    "start_time": "2023-09-04T18:07:08.528Z"
   },
   {
    "duration": 5,
    "start_time": "2023-09-04T18:07:09.057Z"
   },
   {
    "duration": 20,
    "start_time": "2023-09-04T18:07:09.728Z"
   },
   {
    "duration": 14,
    "start_time": "2023-09-04T18:07:09.970Z"
   },
   {
    "duration": 32,
    "start_time": "2023-09-04T18:07:10.549Z"
   },
   {
    "duration": 8,
    "start_time": "2023-09-04T18:07:13.686Z"
   },
   {
    "duration": 8,
    "start_time": "2023-09-04T18:07:15.273Z"
   },
   {
    "duration": 12,
    "start_time": "2023-09-04T18:07:20.175Z"
   },
   {
    "duration": 214,
    "start_time": "2023-09-04T18:07:31.163Z"
   },
   {
    "duration": 172,
    "start_time": "2023-09-04T18:07:34.656Z"
   },
   {
    "duration": 18,
    "start_time": "2023-09-04T18:07:35.511Z"
   },
   {
    "duration": 14,
    "start_time": "2023-09-04T18:07:36.663Z"
   },
   {
    "duration": 11,
    "start_time": "2023-09-04T18:07:37.625Z"
   },
   {
    "duration": 9,
    "start_time": "2023-09-04T18:07:38.225Z"
   },
   {
    "duration": 48,
    "start_time": "2023-09-04T18:07:44.027Z"
   },
   {
    "duration": 11,
    "start_time": "2023-09-04T18:07:44.158Z"
   },
   {
    "duration": 219,
    "start_time": "2023-09-04T18:07:44.869Z"
   },
   {
    "duration": 131,
    "start_time": "2023-09-04T18:07:45.361Z"
   },
   {
    "duration": 27,
    "start_time": "2023-09-04T18:07:46.256Z"
   },
   {
    "duration": 212,
    "start_time": "2023-09-04T18:07:46.509Z"
   },
   {
    "duration": 35,
    "start_time": "2023-09-04T18:07:49.877Z"
   },
   {
    "duration": 12,
    "start_time": "2023-09-04T18:07:50.553Z"
   },
   {
    "duration": 8,
    "start_time": "2023-09-04T18:07:50.902Z"
   },
   {
    "duration": 6,
    "start_time": "2023-09-04T18:07:54.482Z"
   },
   {
    "duration": 23,
    "start_time": "2023-09-04T18:07:54.965Z"
   },
   {
    "duration": 6,
    "start_time": "2023-09-04T18:07:57.694Z"
   },
   {
    "duration": 11,
    "start_time": "2023-09-04T18:08:01.290Z"
   },
   {
    "duration": 11,
    "start_time": "2023-09-04T18:08:02.607Z"
   },
   {
    "duration": 17,
    "start_time": "2023-09-04T18:08:03.167Z"
   },
   {
    "duration": 9,
    "start_time": "2023-09-04T18:08:03.499Z"
   },
   {
    "duration": 16,
    "start_time": "2023-09-04T18:08:06.572Z"
   },
   {
    "duration": 20,
    "start_time": "2023-09-04T18:08:06.791Z"
   },
   {
    "duration": 2522,
    "start_time": "2023-09-04T18:08:08.693Z"
   },
   {
    "duration": 7,
    "start_time": "2023-09-04T18:08:11.218Z"
   },
   {
    "duration": 9,
    "start_time": "2023-09-04T18:08:17.095Z"
   },
   {
    "duration": 53,
    "start_time": "2023-09-04T18:08:20.213Z"
   }
  ],
  "kernelspec": {
   "display_name": "Python 3 (ipykernel)",
   "language": "python",
   "name": "python3"
  },
  "language_info": {
   "codemirror_mode": {
    "name": "ipython",
    "version": 3
   },
   "file_extension": ".py",
   "mimetype": "text/x-python",
   "name": "python",
   "nbconvert_exporter": "python",
   "pygments_lexer": "ipython3",
   "version": "3.11.4"
  },
  "toc": {
   "base_numbering": 1,
   "nav_menu": {},
   "number_sections": true,
   "sideBar": true,
   "skip_h1_title": true,
   "title_cell": "Table of Contents",
   "title_sidebar": "Contents",
   "toc_cell": true,
   "toc_position": {
    "height": "calc(100% - 180px)",
    "left": "10px",
    "top": "150px",
    "width": "288px"
   },
   "toc_section_display": true,
   "toc_window_display": false
  }
 },
 "nbformat": 4,
 "nbformat_minor": 4
}
