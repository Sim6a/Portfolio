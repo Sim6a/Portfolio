{
 "cells": [
  {
   "cell_type": "markdown",
   "id": "395e7bf3",
   "metadata": {},
   "source": [
    "# Сервис аренды самокатов GoFast.\n",
    "\n",
    "Нам передали данные о некоторых пользователях из нескольких городов, а также об их поездках. Необходимо праанализировать данные и проверить некоторые гипотезы, которые могут помочь бизнесу вырасти. В частности, нам нужно выяснить, являются ли платные пользователи более выгодными для компании.\n",
    "Чтобы совершать поездки по городу, пользователи сервиса GoFast пользуются мобильным приложением. Сервисом можно пользоваться:\n",
    "1) Без подписки:\n",
    "-  абонентская плата отсутствует;\n",
    "- стоимость одной минуты поездки — 8 рублей;\n",
    "- стоимость старта (начала поездки) — 50 рублей;\n",
    "\n",
    "2) С подпиской Ultra:\n",
    "- абонентская плата — 199 рублей в месяц;\n",
    "- стоимость одной минуты поездки — 6 рублей;\n",
    "- стоимость старта — бесплатно.\n"
   ]
  },
  {
   "cell_type": "markdown",
   "id": "b8c79511",
   "metadata": {},
   "source": [
    "# Описание данных\n",
    "\n",
    "1) Пользователи - users_go.csv\n",
    "- user_id - уникальный идентификатор пользователя\n",
    "- name - имя пользователя\n",
    "- age - возраст\n",
    "- city - город\n",
    "- subscription_type - тип подписки (free, ultra)\n",
    "\n",
    "2) Поездки — rides_go.csv\n",
    "- user_id - уникальный идентификатор пользователя\n",
    "- distance - расстояние, которое пользователь проехал в текущей сессии (в метрах)\n",
    "- duration - продолжительность сессии (в минутах) — время с того момента, как пользователь нажал кнопку «Начать поездку» до момента, как он нажал кнопку «Завершить поездку»\n",
    "- date - дата совершения поездки\n",
    "\n",
    "3) Подписки — subscriptions_go.csv\n",
    "- subscription_type - тип подписки\n",
    "- minute_price - стоимость одной минуты поездки по данной подписке\n",
    "- start_ride_price - стоимость начала поездки\n",
    "- subscription_fee - стоимость ежемесячного платежа"
   ]
  },
  {
   "cell_type": "markdown",
   "id": "7d25e6a5",
   "metadata": {},
   "source": [
    "**Импортируем библиотеки**"
   ]
  },
  {
   "cell_type": "code",
   "execution_count": 1,
   "id": "72576667",
   "metadata": {},
   "outputs": [],
   "source": [
    "import pandas as pd\n",
    "import numpy as np\n",
    "import seaborn as sns\n",
    "import matplotlib.pyplot as plt\n",
    "from scipy import stats as st\n",
    "from math import sqrt\n",
    "from math import factorial\n",
    "from scipy.stats import binom"
   ]
  },
  {
   "cell_type": "markdown",
   "id": "c42cbe00",
   "metadata": {},
   "source": [
    "## Загрузка данных"
   ]
  },
  {
   "cell_type": "markdown",
   "id": "a254fee9",
   "metadata": {},
   "source": [
    "**Считываем файлы**"
   ]
  },
  {
   "cell_type": "code",
   "execution_count": 2,
   "id": "eff9f206",
   "metadata": {},
   "outputs": [],
   "source": [
    "df_users = pd.read_csv('/datasets/users_go.csv')\n",
    "df_rides = pd.read_csv('/datasets/rides_go.csv')\n",
    "df_subs = pd.read_csv('/datasets/subscriptions_go.csv')"
   ]
  },
  {
   "cell_type": "markdown",
   "id": "5c2027b9",
   "metadata": {},
   "source": [
    "**Выводим и проверяем первые строки каждого набора**"
   ]
  },
  {
   "cell_type": "code",
   "execution_count": 3,
   "id": "d0979627",
   "metadata": {},
   "outputs": [
    {
     "data": {
      "text/html": [
       "<div>\n",
       "<style scoped>\n",
       "    .dataframe tbody tr th:only-of-type {\n",
       "        vertical-align: middle;\n",
       "    }\n",
       "\n",
       "    .dataframe tbody tr th {\n",
       "        vertical-align: top;\n",
       "    }\n",
       "\n",
       "    .dataframe thead th {\n",
       "        text-align: right;\n",
       "    }\n",
       "</style>\n",
       "<table border=\"1\" class=\"dataframe\">\n",
       "  <thead>\n",
       "    <tr style=\"text-align: right;\">\n",
       "      <th></th>\n",
       "      <th>user_id</th>\n",
       "      <th>name</th>\n",
       "      <th>age</th>\n",
       "      <th>city</th>\n",
       "      <th>subscription_type</th>\n",
       "    </tr>\n",
       "  </thead>\n",
       "  <tbody>\n",
       "    <tr>\n",
       "      <th>0</th>\n",
       "      <td>1</td>\n",
       "      <td>Кира</td>\n",
       "      <td>22</td>\n",
       "      <td>Тюмень</td>\n",
       "      <td>ultra</td>\n",
       "    </tr>\n",
       "    <tr>\n",
       "      <th>1</th>\n",
       "      <td>2</td>\n",
       "      <td>Станислав</td>\n",
       "      <td>31</td>\n",
       "      <td>Омск</td>\n",
       "      <td>ultra</td>\n",
       "    </tr>\n",
       "    <tr>\n",
       "      <th>2</th>\n",
       "      <td>3</td>\n",
       "      <td>Алексей</td>\n",
       "      <td>20</td>\n",
       "      <td>Москва</td>\n",
       "      <td>ultra</td>\n",
       "    </tr>\n",
       "    <tr>\n",
       "      <th>3</th>\n",
       "      <td>4</td>\n",
       "      <td>Константин</td>\n",
       "      <td>26</td>\n",
       "      <td>Ростов-на-Дону</td>\n",
       "      <td>ultra</td>\n",
       "    </tr>\n",
       "    <tr>\n",
       "      <th>4</th>\n",
       "      <td>5</td>\n",
       "      <td>Адель</td>\n",
       "      <td>28</td>\n",
       "      <td>Омск</td>\n",
       "      <td>ultra</td>\n",
       "    </tr>\n",
       "  </tbody>\n",
       "</table>\n",
       "</div>"
      ],
      "text/plain": [
       "   user_id        name  age            city subscription_type\n",
       "0        1        Кира   22          Тюмень             ultra\n",
       "1        2   Станислав   31            Омск             ultra\n",
       "2        3     Алексей   20          Москва             ultra\n",
       "3        4  Константин   26  Ростов-на-Дону             ultra\n",
       "4        5       Адель   28            Омск             ultra"
      ]
     },
     "metadata": {},
     "output_type": "display_data"
    },
    {
     "name": "stdout",
     "output_type": "stream",
     "text": [
      "<class 'pandas.core.frame.DataFrame'>\n",
      "RangeIndex: 1565 entries, 0 to 1564\n",
      "Data columns (total 5 columns):\n",
      " #   Column             Non-Null Count  Dtype \n",
      "---  ------             --------------  ----- \n",
      " 0   user_id            1565 non-null   int64 \n",
      " 1   name               1565 non-null   object\n",
      " 2   age                1565 non-null   int64 \n",
      " 3   city               1565 non-null   object\n",
      " 4   subscription_type  1565 non-null   object\n",
      "dtypes: int64(2), object(3)\n",
      "memory usage: 61.3+ KB\n"
     ]
    },
    {
     "data": {
      "text/html": [
       "<div>\n",
       "<style scoped>\n",
       "    .dataframe tbody tr th:only-of-type {\n",
       "        vertical-align: middle;\n",
       "    }\n",
       "\n",
       "    .dataframe tbody tr th {\n",
       "        vertical-align: top;\n",
       "    }\n",
       "\n",
       "    .dataframe thead th {\n",
       "        text-align: right;\n",
       "    }\n",
       "</style>\n",
       "<table border=\"1\" class=\"dataframe\">\n",
       "  <thead>\n",
       "    <tr style=\"text-align: right;\">\n",
       "      <th></th>\n",
       "      <th>user_id</th>\n",
       "      <th>distance</th>\n",
       "      <th>duration</th>\n",
       "      <th>date</th>\n",
       "    </tr>\n",
       "  </thead>\n",
       "  <tbody>\n",
       "    <tr>\n",
       "      <th>0</th>\n",
       "      <td>1</td>\n",
       "      <td>4409.919140</td>\n",
       "      <td>25.599769</td>\n",
       "      <td>2021-01-01</td>\n",
       "    </tr>\n",
       "    <tr>\n",
       "      <th>1</th>\n",
       "      <td>1</td>\n",
       "      <td>2617.592153</td>\n",
       "      <td>15.816871</td>\n",
       "      <td>2021-01-18</td>\n",
       "    </tr>\n",
       "    <tr>\n",
       "      <th>2</th>\n",
       "      <td>1</td>\n",
       "      <td>754.159807</td>\n",
       "      <td>6.232113</td>\n",
       "      <td>2021-04-20</td>\n",
       "    </tr>\n",
       "    <tr>\n",
       "      <th>3</th>\n",
       "      <td>1</td>\n",
       "      <td>2694.783254</td>\n",
       "      <td>18.511000</td>\n",
       "      <td>2021-08-11</td>\n",
       "    </tr>\n",
       "    <tr>\n",
       "      <th>4</th>\n",
       "      <td>1</td>\n",
       "      <td>4028.687306</td>\n",
       "      <td>26.265803</td>\n",
       "      <td>2021-08-28</td>\n",
       "    </tr>\n",
       "  </tbody>\n",
       "</table>\n",
       "</div>"
      ],
      "text/plain": [
       "   user_id     distance   duration        date\n",
       "0        1  4409.919140  25.599769  2021-01-01\n",
       "1        1  2617.592153  15.816871  2021-01-18\n",
       "2        1   754.159807   6.232113  2021-04-20\n",
       "3        1  2694.783254  18.511000  2021-08-11\n",
       "4        1  4028.687306  26.265803  2021-08-28"
      ]
     },
     "metadata": {},
     "output_type": "display_data"
    },
    {
     "name": "stdout",
     "output_type": "stream",
     "text": [
      "<class 'pandas.core.frame.DataFrame'>\n",
      "RangeIndex: 18068 entries, 0 to 18067\n",
      "Data columns (total 4 columns):\n",
      " #   Column    Non-Null Count  Dtype  \n",
      "---  ------    --------------  -----  \n",
      " 0   user_id   18068 non-null  int64  \n",
      " 1   distance  18068 non-null  float64\n",
      " 2   duration  18068 non-null  float64\n",
      " 3   date      18068 non-null  object \n",
      "dtypes: float64(2), int64(1), object(1)\n",
      "memory usage: 564.8+ KB\n"
     ]
    },
    {
     "data": {
      "text/html": [
       "<div>\n",
       "<style scoped>\n",
       "    .dataframe tbody tr th:only-of-type {\n",
       "        vertical-align: middle;\n",
       "    }\n",
       "\n",
       "    .dataframe tbody tr th {\n",
       "        vertical-align: top;\n",
       "    }\n",
       "\n",
       "    .dataframe thead th {\n",
       "        text-align: right;\n",
       "    }\n",
       "</style>\n",
       "<table border=\"1\" class=\"dataframe\">\n",
       "  <thead>\n",
       "    <tr style=\"text-align: right;\">\n",
       "      <th></th>\n",
       "      <th>subscription_type</th>\n",
       "      <th>minute_price</th>\n",
       "      <th>start_ride_price</th>\n",
       "      <th>subscription_fee</th>\n",
       "    </tr>\n",
       "  </thead>\n",
       "  <tbody>\n",
       "    <tr>\n",
       "      <th>0</th>\n",
       "      <td>free</td>\n",
       "      <td>8</td>\n",
       "      <td>50</td>\n",
       "      <td>0</td>\n",
       "    </tr>\n",
       "    <tr>\n",
       "      <th>1</th>\n",
       "      <td>ultra</td>\n",
       "      <td>6</td>\n",
       "      <td>0</td>\n",
       "      <td>199</td>\n",
       "    </tr>\n",
       "  </tbody>\n",
       "</table>\n",
       "</div>"
      ],
      "text/plain": [
       "  subscription_type  minute_price  start_ride_price  subscription_fee\n",
       "0              free             8                50                 0\n",
       "1             ultra             6                 0               199"
      ]
     },
     "metadata": {},
     "output_type": "display_data"
    },
    {
     "name": "stdout",
     "output_type": "stream",
     "text": [
      "<class 'pandas.core.frame.DataFrame'>\n",
      "RangeIndex: 2 entries, 0 to 1\n",
      "Data columns (total 4 columns):\n",
      " #   Column             Non-Null Count  Dtype \n",
      "---  ------             --------------  ----- \n",
      " 0   subscription_type  2 non-null      object\n",
      " 1   minute_price       2 non-null      int64 \n",
      " 2   start_ride_price   2 non-null      int64 \n",
      " 3   subscription_fee   2 non-null      int64 \n",
      "dtypes: int64(3), object(1)\n",
      "memory usage: 192.0+ bytes\n"
     ]
    }
   ],
   "source": [
    "display(df_users.head())\n",
    "df_users.info()\n",
    "\n",
    "display(df_rides.head())\n",
    "df_rides.info()\n",
    "\n",
    "display(df_subs.head())\n",
    "df_subs.info()"
   ]
  },
  {
   "cell_type": "markdown",
   "id": "297e51b0",
   "metadata": {},
   "source": [
    "Пропусков в данных нет, целочисленные типы можно значительно уменьшить для экономии памяти при помощи pd.to_numeric.\n",
    "\n",
    "Столбец с датой обработаем в следующем шаге."
   ]
  },
  {
   "cell_type": "code",
   "execution_count": 4,
   "id": "188a3e07",
   "metadata": {},
   "outputs": [
    {
     "data": {
      "text/plain": [
       "0      0\n",
       "1    199\n",
       "Name: subscription_fee, dtype: int16"
      ]
     },
     "execution_count": 4,
     "metadata": {},
     "output_type": "execute_result"
    }
   ],
   "source": [
    "pd.to_numeric(df_users['user_id'], downcast='integer')\n",
    "pd.to_numeric(df_users['age'], downcast='integer')\n",
    "\n",
    "pd.to_numeric(df_rides['user_id'], downcast='integer')\n",
    "pd.to_numeric(df_rides['distance'], downcast='float')\n",
    "pd.to_numeric(df_rides['duration'], downcast='float')\n",
    "\n",
    "pd.to_numeric(df_subs['minute_price'], downcast='integer')\n",
    "pd.to_numeric(df_subs['start_ride_price'], downcast='integer')\n",
    "pd.to_numeric(df_subs['subscription_fee'], downcast='integer')"
   ]
  },
  {
   "cell_type": "markdown",
   "id": "e95ebca7",
   "metadata": {},
   "source": [
    "## Предобработка данных"
   ]
  },
  {
   "cell_type": "markdown",
   "id": "e9a508c2",
   "metadata": {},
   "source": [
    "### Преобразуем столбец с датой в датафрейме поездок"
   ]
  },
  {
   "cell_type": "code",
   "execution_count": 5,
   "id": "af6d202c",
   "metadata": {},
   "outputs": [],
   "source": [
    "df_rides['date'] = pd.to_datetime(df_rides['date'], format='%Y-%m-%d')"
   ]
  },
  {
   "cell_type": "markdown",
   "id": "c8167aa2",
   "metadata": {},
   "source": [
    "### Добавим новый столбец с номером месяца"
   ]
  },
  {
   "cell_type": "code",
   "execution_count": 6,
   "id": "263cfb7c",
   "metadata": {},
   "outputs": [
    {
     "data": {
      "text/plain": [
       "0         1\n",
       "1         1\n",
       "2         4\n",
       "3         8\n",
       "4         8\n",
       "         ..\n",
       "18063    11\n",
       "18064    11\n",
       "18065    11\n",
       "18066    11\n",
       "18067    12\n",
       "Name: month, Length: 18068, dtype: int64"
      ]
     },
     "execution_count": 6,
     "metadata": {},
     "output_type": "execute_result"
    }
   ],
   "source": [
    "df_rides['month'] = pd.DatetimeIndex(df_rides['date']).month\n",
    "df_rides['month']"
   ]
  },
  {
   "cell_type": "markdown",
   "id": "3a7536bf",
   "metadata": {},
   "source": [
    "### Проверим, за какой период нам предоставили данные."
   ]
  },
  {
   "cell_type": "code",
   "execution_count": 7,
   "id": "e2bb56ab",
   "metadata": {},
   "outputs": [
    {
     "name": "stdout",
     "output_type": "stream",
     "text": [
      "Данные предоставлены за период c 2021-01-01 00:00:00 по 2021-12-30 00:00:00\n"
     ]
    }
   ],
   "source": [
    "print('Данные предоставлены за период c', df_rides['date'].min(), 'по', df_rides['date'].max())"
   ]
  },
  {
   "cell_type": "markdown",
   "id": "b11d4579",
   "metadata": {},
   "source": [
    "### Проверяем пропуски и дубликаты.\n",
    "\n",
    "Пропусков нет. Дубликаты присутствуют в малом количестве. Удалим их."
   ]
  },
  {
   "cell_type": "code",
   "execution_count": 8,
   "id": "145d974d",
   "metadata": {},
   "outputs": [
    {
     "name": "stdout",
     "output_type": "stream",
     "text": [
      "<class 'pandas.core.frame.DataFrame'>\n",
      "RangeIndex: 1565 entries, 0 to 1564\n",
      "Data columns (total 5 columns):\n",
      " #   Column             Non-Null Count  Dtype \n",
      "---  ------             --------------  ----- \n",
      " 0   user_id            1565 non-null   int64 \n",
      " 1   name               1565 non-null   object\n",
      " 2   age                1565 non-null   int64 \n",
      " 3   city               1565 non-null   object\n",
      " 4   subscription_type  1565 non-null   object\n",
      "dtypes: int64(2), object(3)\n",
      "memory usage: 61.3+ KB\n",
      "\n",
      "31\n",
      "\n",
      "<class 'pandas.core.frame.DataFrame'>\n",
      "RangeIndex: 18068 entries, 0 to 18067\n",
      "Data columns (total 5 columns):\n",
      " #   Column    Non-Null Count  Dtype         \n",
      "---  ------    --------------  -----         \n",
      " 0   user_id   18068 non-null  int64         \n",
      " 1   distance  18068 non-null  float64       \n",
      " 2   duration  18068 non-null  float64       \n",
      " 3   date      18068 non-null  datetime64[ns]\n",
      " 4   month     18068 non-null  int64         \n",
      "dtypes: datetime64[ns](1), float64(2), int64(2)\n",
      "memory usage: 705.9 KB\n",
      "\n",
      "0\n",
      "\n",
      "<class 'pandas.core.frame.DataFrame'>\n",
      "RangeIndex: 2 entries, 0 to 1\n",
      "Data columns (total 4 columns):\n",
      " #   Column             Non-Null Count  Dtype \n",
      "---  ------             --------------  ----- \n",
      " 0   subscription_type  2 non-null      object\n",
      " 1   minute_price       2 non-null      int64 \n",
      " 2   start_ride_price   2 non-null      int64 \n",
      " 3   subscription_fee   2 non-null      int64 \n",
      "dtypes: int64(3), object(1)\n",
      "memory usage: 192.0+ bytes\n",
      "\n",
      "0\n"
     ]
    }
   ],
   "source": [
    "df_users.info()\n",
    "print()\n",
    "print(df_users.duplicated().sum())\n",
    "print()\n",
    "\n",
    "df_rides.info()\n",
    "print()\n",
    "print(df_rides.duplicated().sum())\n",
    "print()\n",
    "\n",
    "df_subs.info()\n",
    "print()\n",
    "print(df_subs.duplicated().sum())"
   ]
  },
  {
   "cell_type": "markdown",
   "id": "53e959a8",
   "metadata": {},
   "source": [
    "###### Удаляем дубликаты."
   ]
  },
  {
   "cell_type": "code",
   "execution_count": 9,
   "id": "f7aa2fdf",
   "metadata": {},
   "outputs": [
    {
     "name": "stdout",
     "output_type": "stream",
     "text": [
      "0\n"
     ]
    }
   ],
   "source": [
    "df_users.drop_duplicates(inplace=True)\n",
    "print(df_users.duplicated().sum())"
   ]
  },
  {
   "cell_type": "markdown",
   "id": "212593c7",
   "metadata": {},
   "source": [
    "## Исследовательский анализ данных"
   ]
  },
  {
   "cell_type": "markdown",
   "id": "a138eac9",
   "metadata": {},
   "source": [
    "### Анализируем частоту встречаемости городов"
   ]
  },
  {
   "cell_type": "code",
   "execution_count": 10,
   "id": "e3a4274c",
   "metadata": {},
   "outputs": [
    {
     "data": {
      "text/html": [
       "<div>\n",
       "<style scoped>\n",
       "    .dataframe tbody tr th:only-of-type {\n",
       "        vertical-align: middle;\n",
       "    }\n",
       "\n",
       "    .dataframe tbody tr th {\n",
       "        vertical-align: top;\n",
       "    }\n",
       "\n",
       "    .dataframe thead th {\n",
       "        text-align: right;\n",
       "    }\n",
       "</style>\n",
       "<table border=\"1\" class=\"dataframe\">\n",
       "  <thead>\n",
       "    <tr style=\"text-align: right;\">\n",
       "      <th></th>\n",
       "      <th>city</th>\n",
       "      <th>user_count</th>\n",
       "    </tr>\n",
       "  </thead>\n",
       "  <tbody>\n",
       "    <tr>\n",
       "      <th>0</th>\n",
       "      <td>Екатеринбург</td>\n",
       "      <td>204</td>\n",
       "    </tr>\n",
       "    <tr>\n",
       "      <th>1</th>\n",
       "      <td>Краснодар</td>\n",
       "      <td>193</td>\n",
       "    </tr>\n",
       "    <tr>\n",
       "      <th>2</th>\n",
       "      <td>Москва</td>\n",
       "      <td>168</td>\n",
       "    </tr>\n",
       "    <tr>\n",
       "      <th>3</th>\n",
       "      <td>Омск</td>\n",
       "      <td>183</td>\n",
       "    </tr>\n",
       "    <tr>\n",
       "      <th>4</th>\n",
       "      <td>Пятигорск</td>\n",
       "      <td>219</td>\n",
       "    </tr>\n",
       "    <tr>\n",
       "      <th>5</th>\n",
       "      <td>Ростов-на-Дону</td>\n",
       "      <td>198</td>\n",
       "    </tr>\n",
       "    <tr>\n",
       "      <th>6</th>\n",
       "      <td>Сочи</td>\n",
       "      <td>189</td>\n",
       "    </tr>\n",
       "    <tr>\n",
       "      <th>7</th>\n",
       "      <td>Тюмень</td>\n",
       "      <td>180</td>\n",
       "    </tr>\n",
       "  </tbody>\n",
       "</table>\n",
       "</div>"
      ],
      "text/plain": [
       "             city  user_count\n",
       "0    Екатеринбург         204\n",
       "1       Краснодар         193\n",
       "2          Москва         168\n",
       "3            Омск         183\n",
       "4       Пятигорск         219\n",
       "5  Ростов-на-Дону         198\n",
       "6            Сочи         189\n",
       "7          Тюмень         180"
      ]
     },
     "metadata": {},
     "output_type": "display_data"
    },
    {
     "data": {
      "image/png": "[encoded data removed]",
      "text/plain": [
       "<Figure size 720x432 with 1 Axes>"
      ]
     },
     "metadata": {
      "needs_background": "light"
     },
     "output_type": "display_data"
    }
   ],
   "source": [
    "df_users_city = df_users.pivot_table(index='city', values='user_id', aggfunc='count')\n",
    "df_users_city.reset_index(inplace=True)\n",
    "df_users_city.rename(columns={'user_id':'user_count'}, inplace=True)\n",
    "display(df_users_city.head(8))\n",
    "\n",
    "plt.figure(figsize=(10, 6))\n",
    "sns.barplot(data=df_users_city.sort_values(by='user_count', ascending=False), x='user_count', y='city')\n",
    "plt.title('Количество пользователей по городам');"
   ]
  },
  {
   "cell_type": "markdown",
   "id": "c0b0016d",
   "metadata": {},
   "source": [
    "Видим, что больше всего пользователей сервиса живут в Пятигорске, а меньше всего в Москве."
   ]
  },
  {
   "cell_type": "markdown",
   "id": "ce624473",
   "metadata": {},
   "source": [
    "### Анализируем соотношение пользователей с подпиской и без подписки"
   ]
  },
  {
   "cell_type": "code",
   "execution_count": 11,
   "id": "c03d76f9",
   "metadata": {},
   "outputs": [
    {
     "data": {
      "text/plain": [
       "free     835\n",
       "ultra    699\n",
       "Name: subscription_type, dtype: int64"
      ]
     },
     "metadata": {},
     "output_type": "display_data"
    },
    {
     "data": {
      "image/png": "[encoded data removed]",
      "text/plain": [
       "<Figure size 432x288 with 1 Axes>"
      ]
     },
     "metadata": {},
     "output_type": "display_data"
    }
   ],
   "source": [
    "display(df_users['subscription_type'].value_counts())\n",
    "labels = ['Без подписки', 'С подпиской']\n",
    "plt.pie(df_users.groupby('subscription_type')['user_id'].count(), labels=labels, autopct='%1.1f%%')\n",
    "plt.title('Круговая диаграмма соотношения пользователей');"
   ]
  },
  {
   "cell_type": "markdown",
   "id": "e352fa6d",
   "metadata": {},
   "source": [
    "Почти половина пользователей пользуется подпиской, очень хороший результат."
   ]
  },
  {
   "cell_type": "markdown",
   "id": "d8a3187e",
   "metadata": {},
   "source": [
    "##### Анализируем возраст пользователей"
   ]
  },
  {
   "cell_type": "code",
   "execution_count": 12,
   "id": "06d379ab",
   "metadata": {},
   "outputs": [
    {
     "name": "stdout",
     "output_type": "stream",
     "text": [
      "25    145\n",
      "24    132\n",
      "26    131\n",
      "23    129\n",
      "27    119\n",
      "22    119\n",
      "28    112\n",
      "21     93\n",
      "20     71\n",
      "30     68\n",
      "29     68\n",
      "31     48\n",
      "19     47\n",
      "18     46\n",
      "32     41\n",
      "33     39\n",
      "17     26\n",
      "34     19\n",
      "16     19\n",
      "35     15\n",
      "15     13\n",
      "14      9\n",
      "13      8\n",
      "36      6\n",
      "12      4\n",
      "38      3\n",
      "37      2\n",
      "39      1\n",
      "43      1\n",
      "Name: age, dtype: int64\n"
     ]
    },
    {
     "data": {
      "image/png": "[encoded data removed]",
      "text/plain": [
       "<Figure size 432x288 with 1 Axes>"
      ]
     },
     "metadata": {
      "needs_background": "light"
     },
     "output_type": "display_data"
    }
   ],
   "source": [
    "print(df_users['age'].value_counts(ascending=False))\n",
    "\n",
    "\n",
    "df_users.hist(column='age', bins=30)\n",
    "plt.title('Гистограмма возраста пользователей')\n",
    "plt.xlabel('Возраст')\n",
    "plt.ylabel('Количество пользователей');"
   ]
  },
  {
   "cell_type": "markdown",
   "id": "2c7b2b18",
   "metadata": {},
   "source": [
    "Видим нормальное распределение. Средний возраст пользователя 25 лет. Меньше всего пользователей возрастом менее 15 и старше 35 лет."
   ]
  },
  {
   "cell_type": "markdown",
   "id": "4d38bbcf",
   "metadata": {},
   "source": [
    "### Анализируем расстояние, которое пользователь преодолел за одну поездку"
   ]
  },
  {
   "cell_type": "code",
   "execution_count": 13,
   "id": "ab1b0367",
   "metadata": {},
   "outputs": [
    {
     "data": {
      "image/png": "[encoded data removed]",
      "text/plain": [
       "<Figure size 432x288 with 1 Axes>"
      ]
     },
     "metadata": {
      "needs_background": "light"
     },
     "output_type": "display_data"
    }
   ],
   "source": [
    "df_rides.hist(column='distance', bins=50)\n",
    "plt.title('Гистограмма расстояния за одну поездку')\n",
    "plt.xlabel('Расстояние')\n",
    "plt.ylabel('Количество пользователей');"
   ]
  },
  {
   "cell_type": "markdown",
   "id": "2676a7c6",
   "metadata": {},
   "source": [
    "Видим, что в среднем пользователи проезжают 3000 метров. При этом выделяется отдельная категория коротких поездок (до 1500 метров) со своим пиком примерно на 600 метрах. Расстояние может быть нулевым, если пользователь сразу же отменил поездку, эти данные оставим."
   ]
  },
  {
   "cell_type": "markdown",
   "id": "5df70c5a",
   "metadata": {},
   "source": [
    "### Анализируем продолжительность поездок"
   ]
  },
  {
   "cell_type": "code",
   "execution_count": 14,
   "id": "61ee7704",
   "metadata": {},
   "outputs": [
    {
     "data": {
      "image/png": "[encoded data removed]",
      "text/plain": [
       "<Figure size 432x288 with 1 Axes>"
      ]
     },
     "metadata": {
      "needs_background": "light"
     },
     "output_type": "display_data"
    }
   ],
   "source": [
    "df_rides.hist(column='duration', bins=50)\n",
    "plt.title('Гистограмма продолжительности поездок')\n",
    "plt.xlabel('Продолжительность')\n",
    "plt.ylabel('Количество пользователей');"
   ]
  },
  {
   "cell_type": "markdown",
   "id": "f58e4a01",
   "metadata": {},
   "source": [
    "Средняя продолжительность поездки около 17 минут. Видим небольшой выброс вначале, рассмотрим подробнее."
   ]
  },
  {
   "cell_type": "code",
   "execution_count": 15,
   "id": "2fc85513",
   "metadata": {},
   "outputs": [
    {
     "data": {
      "image/png": "[encoded data removed]",
      "text/plain": [
       "<Figure size 432x288 with 1 Axes>"
      ]
     },
     "metadata": {
      "needs_background": "light"
     },
     "output_type": "display_data"
    }
   ],
   "source": [
    "df_rides.hist(column='duration', bins=50, range=(0,3))\n",
    "plt.title('Гистограмма продолжительности поездок')\n",
    "plt.xlabel('Продолжительность')\n",
    "plt.ylabel('Количество пользователей');"
   ]
  },
  {
   "cell_type": "markdown",
   "id": "84ba6d58",
   "metadata": {},
   "source": [
    "Небольшая часть поездок длилась всего пол минуты. Это может быть либо ошибка фиксации времени (минимальное фиксируемое время при ранней отмене поездки), либо доля пользователей, которым попался разряженный самокат."
   ]
  },
  {
   "cell_type": "markdown",
   "id": "e266326e",
   "metadata": {},
   "source": [
    "Посмотрим поближе на эти данные."
   ]
  },
  {
   "cell_type": "code",
   "execution_count": 16,
   "id": "93e14a68",
   "metadata": {},
   "outputs": [
    {
     "data": {
      "text/html": [
       "<div>\n",
       "<style scoped>\n",
       "    .dataframe tbody tr th:only-of-type {\n",
       "        vertical-align: middle;\n",
       "    }\n",
       "\n",
       "    .dataframe tbody tr th {\n",
       "        vertical-align: top;\n",
       "    }\n",
       "\n",
       "    .dataframe thead th {\n",
       "        text-align: right;\n",
       "    }\n",
       "</style>\n",
       "<table border=\"1\" class=\"dataframe\">\n",
       "  <thead>\n",
       "    <tr style=\"text-align: right;\">\n",
       "      <th></th>\n",
       "      <th>user_id</th>\n",
       "      <th>distance</th>\n",
       "      <th>duration</th>\n",
       "      <th>date</th>\n",
       "      <th>month</th>\n",
       "    </tr>\n",
       "  </thead>\n",
       "  <tbody>\n",
       "    <tr>\n",
       "      <th>6531</th>\n",
       "      <td>701</td>\n",
       "      <td>4196.445201</td>\n",
       "      <td>0.5</td>\n",
       "      <td>2021-08-31</td>\n",
       "      <td>8</td>\n",
       "    </tr>\n",
       "    <tr>\n",
       "      <th>6570</th>\n",
       "      <td>704</td>\n",
       "      <td>4830.824371</td>\n",
       "      <td>0.5</td>\n",
       "      <td>2021-10-14</td>\n",
       "      <td>10</td>\n",
       "    </tr>\n",
       "    <tr>\n",
       "      <th>6680</th>\n",
       "      <td>712</td>\n",
       "      <td>4684.004397</td>\n",
       "      <td>0.5</td>\n",
       "      <td>2021-03-04</td>\n",
       "      <td>3</td>\n",
       "    </tr>\n",
       "    <tr>\n",
       "      <th>6695</th>\n",
       "      <td>713</td>\n",
       "      <td>5215.642710</td>\n",
       "      <td>0.5</td>\n",
       "      <td>2021-02-25</td>\n",
       "      <td>2</td>\n",
       "    </tr>\n",
       "    <tr>\n",
       "      <th>6768</th>\n",
       "      <td>718</td>\n",
       "      <td>5197.436649</td>\n",
       "      <td>0.5</td>\n",
       "      <td>2021-02-11</td>\n",
       "      <td>2</td>\n",
       "    </tr>\n",
       "    <tr>\n",
       "      <th>...</th>\n",
       "      <td>...</td>\n",
       "      <td>...</td>\n",
       "      <td>...</td>\n",
       "      <td>...</td>\n",
       "      <td>...</td>\n",
       "    </tr>\n",
       "    <tr>\n",
       "      <th>17004</th>\n",
       "      <td>1460</td>\n",
       "      <td>5531.335845</td>\n",
       "      <td>0.5</td>\n",
       "      <td>2021-01-19</td>\n",
       "      <td>1</td>\n",
       "    </tr>\n",
       "    <tr>\n",
       "      <th>17242</th>\n",
       "      <td>1477</td>\n",
       "      <td>6724.932981</td>\n",
       "      <td>0.5</td>\n",
       "      <td>2021-01-12</td>\n",
       "      <td>1</td>\n",
       "    </tr>\n",
       "    <tr>\n",
       "      <th>17314</th>\n",
       "      <td>1483</td>\n",
       "      <td>4445.481070</td>\n",
       "      <td>0.5</td>\n",
       "      <td>2021-03-06</td>\n",
       "      <td>3</td>\n",
       "    </tr>\n",
       "    <tr>\n",
       "      <th>17505</th>\n",
       "      <td>1496</td>\n",
       "      <td>5722.551787</td>\n",
       "      <td>0.5</td>\n",
       "      <td>2021-02-14</td>\n",
       "      <td>2</td>\n",
       "    </tr>\n",
       "    <tr>\n",
       "      <th>17909</th>\n",
       "      <td>1524</td>\n",
       "      <td>4103.998874</td>\n",
       "      <td>0.5</td>\n",
       "      <td>2021-06-18</td>\n",
       "      <td>6</td>\n",
       "    </tr>\n",
       "  </tbody>\n",
       "</table>\n",
       "<p>95 rows × 5 columns</p>\n",
       "</div>"
      ],
      "text/plain": [
       "       user_id     distance  duration       date  month\n",
       "6531       701  4196.445201       0.5 2021-08-31      8\n",
       "6570       704  4830.824371       0.5 2021-10-14     10\n",
       "6680       712  4684.004397       0.5 2021-03-04      3\n",
       "6695       713  5215.642710       0.5 2021-02-25      2\n",
       "6768       718  5197.436649       0.5 2021-02-11      2\n",
       "...        ...          ...       ...        ...    ...\n",
       "17004     1460  5531.335845       0.5 2021-01-19      1\n",
       "17242     1477  6724.932981       0.5 2021-01-12      1\n",
       "17314     1483  4445.481070       0.5 2021-03-06      3\n",
       "17505     1496  5722.551787       0.5 2021-02-14      2\n",
       "17909     1524  4103.998874       0.5 2021-06-18      6\n",
       "\n",
       "[95 rows x 5 columns]"
      ]
     },
     "metadata": {},
     "output_type": "display_data"
    }
   ],
   "source": [
    "display(df_rides[df_rides['duration'] == 0.5])"
   ]
  },
  {
   "cell_type": "markdown",
   "id": "a2e68522",
   "metadata": {},
   "source": [
    "Видим, что расстояние, которое проехали пользователи не соответствует предположению об отмене поездки. Вероятнее всего 0.5 - это пол часа поездки. Причиной такой записи может быть техническая ошибка.\n",
    "\n",
    "В этих записях заменим 0.5 на 30."
   ]
  },
  {
   "cell_type": "code",
   "execution_count": 17,
   "id": "9dcd5630",
   "metadata": {},
   "outputs": [
    {
     "data": {
      "image/png": "[encoded data removed]",
      "text/plain": [
       "<Figure size 432x288 with 1 Axes>"
      ]
     },
     "metadata": {
      "needs_background": "light"
     },
     "output_type": "display_data"
    }
   ],
   "source": [
    "df_rides.loc[df_rides['duration'] == 0.5, 'duration'] = 30\n",
    "df_rides.hist(column='duration', bins=50)\n",
    "plt.title('Гистограмма продолжительности поездок')\n",
    "plt.xlabel('Продолжительность')\n",
    "plt.ylabel('Количество пользователей');"
   ]
  },
  {
   "cell_type": "markdown",
   "id": "2e2baad8",
   "metadata": {},
   "source": [
    "### Итоги анализа:\n",
    "\n",
    "- больше всего пользователей сервиса живут в Пятигорске, а меньше всего в Москве;\n",
    "- почти половина пользователей пользуется подпиской;\n",
    "- средний возраст пользователя 25 лет;\n",
    "- средняя продолжительность поездки около 17 минут;\n",
    "- иногда продолжительность поездок округляется до 0.5 и записывается в формате часов, а не минут."
   ]
  },
  {
   "cell_type": "markdown",
   "id": "4ef51331",
   "metadata": {},
   "source": [
    "## Объединение данных\n",
    "\n",
    "### Объединим данные о пользователях, поездках и подписках в один датафрейм.\n",
    "\n",
    "Создадим пустой датафрейм df и поместим в него информацию о пользователях и поездках."
   ]
  },
  {
   "cell_type": "code",
   "execution_count": 18,
   "id": "6bf288b5",
   "metadata": {},
   "outputs": [
    {
     "data": {
      "text/html": [
       "<div>\n",
       "<style scoped>\n",
       "    .dataframe tbody tr th:only-of-type {\n",
       "        vertical-align: middle;\n",
       "    }\n",
       "\n",
       "    .dataframe tbody tr th {\n",
       "        vertical-align: top;\n",
       "    }\n",
       "\n",
       "    .dataframe thead th {\n",
       "        text-align: right;\n",
       "    }\n",
       "</style>\n",
       "<table border=\"1\" class=\"dataframe\">\n",
       "  <thead>\n",
       "    <tr style=\"text-align: right;\">\n",
       "      <th></th>\n",
       "      <th>user_id</th>\n",
       "      <th>name</th>\n",
       "      <th>age</th>\n",
       "      <th>city</th>\n",
       "      <th>subscription_type</th>\n",
       "      <th>distance</th>\n",
       "      <th>duration</th>\n",
       "      <th>date</th>\n",
       "      <th>month</th>\n",
       "    </tr>\n",
       "  </thead>\n",
       "  <tbody>\n",
       "    <tr>\n",
       "      <th>0</th>\n",
       "      <td>1</td>\n",
       "      <td>Кира</td>\n",
       "      <td>22</td>\n",
       "      <td>Тюмень</td>\n",
       "      <td>ultra</td>\n",
       "      <td>4409.919140</td>\n",
       "      <td>25.599769</td>\n",
       "      <td>2021-01-01</td>\n",
       "      <td>1</td>\n",
       "    </tr>\n",
       "    <tr>\n",
       "      <th>1</th>\n",
       "      <td>1</td>\n",
       "      <td>Кира</td>\n",
       "      <td>22</td>\n",
       "      <td>Тюмень</td>\n",
       "      <td>ultra</td>\n",
       "      <td>2617.592153</td>\n",
       "      <td>15.816871</td>\n",
       "      <td>2021-01-18</td>\n",
       "      <td>1</td>\n",
       "    </tr>\n",
       "    <tr>\n",
       "      <th>2</th>\n",
       "      <td>1</td>\n",
       "      <td>Кира</td>\n",
       "      <td>22</td>\n",
       "      <td>Тюмень</td>\n",
       "      <td>ultra</td>\n",
       "      <td>754.159807</td>\n",
       "      <td>6.232113</td>\n",
       "      <td>2021-04-20</td>\n",
       "      <td>4</td>\n",
       "    </tr>\n",
       "    <tr>\n",
       "      <th>3</th>\n",
       "      <td>1</td>\n",
       "      <td>Кира</td>\n",
       "      <td>22</td>\n",
       "      <td>Тюмень</td>\n",
       "      <td>ultra</td>\n",
       "      <td>2694.783254</td>\n",
       "      <td>18.511000</td>\n",
       "      <td>2021-08-11</td>\n",
       "      <td>8</td>\n",
       "    </tr>\n",
       "    <tr>\n",
       "      <th>4</th>\n",
       "      <td>1</td>\n",
       "      <td>Кира</td>\n",
       "      <td>22</td>\n",
       "      <td>Тюмень</td>\n",
       "      <td>ultra</td>\n",
       "      <td>4028.687306</td>\n",
       "      <td>26.265803</td>\n",
       "      <td>2021-08-28</td>\n",
       "      <td>8</td>\n",
       "    </tr>\n",
       "  </tbody>\n",
       "</table>\n",
       "</div>"
      ],
      "text/plain": [
       "   user_id  name  age    city subscription_type     distance   duration  \\\n",
       "0        1  Кира   22  Тюмень             ultra  4409.919140  25.599769   \n",
       "1        1  Кира   22  Тюмень             ultra  2617.592153  15.816871   \n",
       "2        1  Кира   22  Тюмень             ultra   754.159807   6.232113   \n",
       "3        1  Кира   22  Тюмень             ultra  2694.783254  18.511000   \n",
       "4        1  Кира   22  Тюмень             ultra  4028.687306  26.265803   \n",
       "\n",
       "        date  month  \n",
       "0 2021-01-01      1  \n",
       "1 2021-01-18      1  \n",
       "2 2021-04-20      4  \n",
       "3 2021-08-11      8  \n",
       "4 2021-08-28      8  "
      ]
     },
     "metadata": {},
     "output_type": "display_data"
    },
    {
     "name": "stdout",
     "output_type": "stream",
     "text": [
      "df_rides (18068, 5)\n",
      "df_users (1534, 5)\n",
      "df (18068, 9)\n"
     ]
    }
   ],
   "source": [
    "df = pd.DataFrame()\n",
    "df = df_users.merge(df_rides, on='user_id')\n",
    "display(df.head())\n",
    "\n",
    "# проверяем\n",
    "print('df_rides', df_rides.shape)\n",
    "print('df_users', df_users.shape)\n",
    "print('df', df.shape)"
   ]
  },
  {
   "cell_type": "markdown",
   "id": "3c0ebeda",
   "metadata": {},
   "source": [
    "Добавляем информацию о подписках."
   ]
  },
  {
   "cell_type": "code",
   "execution_count": 19,
   "id": "06b03d27",
   "metadata": {},
   "outputs": [
    {
     "data": {
      "text/html": [
       "<div>\n",
       "<style scoped>\n",
       "    .dataframe tbody tr th:only-of-type {\n",
       "        vertical-align: middle;\n",
       "    }\n",
       "\n",
       "    .dataframe tbody tr th {\n",
       "        vertical-align: top;\n",
       "    }\n",
       "\n",
       "    .dataframe thead th {\n",
       "        text-align: right;\n",
       "    }\n",
       "</style>\n",
       "<table border=\"1\" class=\"dataframe\">\n",
       "  <thead>\n",
       "    <tr style=\"text-align: right;\">\n",
       "      <th></th>\n",
       "      <th>user_id</th>\n",
       "      <th>name</th>\n",
       "      <th>age</th>\n",
       "      <th>city</th>\n",
       "      <th>subscription_type</th>\n",
       "      <th>distance</th>\n",
       "      <th>duration</th>\n",
       "      <th>date</th>\n",
       "      <th>month</th>\n",
       "      <th>minute_price</th>\n",
       "      <th>start_ride_price</th>\n",
       "      <th>subscription_fee</th>\n",
       "    </tr>\n",
       "  </thead>\n",
       "  <tbody>\n",
       "    <tr>\n",
       "      <th>0</th>\n",
       "      <td>1</td>\n",
       "      <td>Кира</td>\n",
       "      <td>22</td>\n",
       "      <td>Тюмень</td>\n",
       "      <td>ultra</td>\n",
       "      <td>4409.919140</td>\n",
       "      <td>25.599769</td>\n",
       "      <td>2021-01-01</td>\n",
       "      <td>1</td>\n",
       "      <td>6</td>\n",
       "      <td>0</td>\n",
       "      <td>199</td>\n",
       "    </tr>\n",
       "    <tr>\n",
       "      <th>1</th>\n",
       "      <td>1</td>\n",
       "      <td>Кира</td>\n",
       "      <td>22</td>\n",
       "      <td>Тюмень</td>\n",
       "      <td>ultra</td>\n",
       "      <td>2617.592153</td>\n",
       "      <td>15.816871</td>\n",
       "      <td>2021-01-18</td>\n",
       "      <td>1</td>\n",
       "      <td>6</td>\n",
       "      <td>0</td>\n",
       "      <td>199</td>\n",
       "    </tr>\n",
       "    <tr>\n",
       "      <th>2</th>\n",
       "      <td>1</td>\n",
       "      <td>Кира</td>\n",
       "      <td>22</td>\n",
       "      <td>Тюмень</td>\n",
       "      <td>ultra</td>\n",
       "      <td>754.159807</td>\n",
       "      <td>6.232113</td>\n",
       "      <td>2021-04-20</td>\n",
       "      <td>4</td>\n",
       "      <td>6</td>\n",
       "      <td>0</td>\n",
       "      <td>199</td>\n",
       "    </tr>\n",
       "    <tr>\n",
       "      <th>3</th>\n",
       "      <td>1</td>\n",
       "      <td>Кира</td>\n",
       "      <td>22</td>\n",
       "      <td>Тюмень</td>\n",
       "      <td>ultra</td>\n",
       "      <td>2694.783254</td>\n",
       "      <td>18.511000</td>\n",
       "      <td>2021-08-11</td>\n",
       "      <td>8</td>\n",
       "      <td>6</td>\n",
       "      <td>0</td>\n",
       "      <td>199</td>\n",
       "    </tr>\n",
       "    <tr>\n",
       "      <th>4</th>\n",
       "      <td>1</td>\n",
       "      <td>Кира</td>\n",
       "      <td>22</td>\n",
       "      <td>Тюмень</td>\n",
       "      <td>ultra</td>\n",
       "      <td>4028.687306</td>\n",
       "      <td>26.265803</td>\n",
       "      <td>2021-08-28</td>\n",
       "      <td>8</td>\n",
       "      <td>6</td>\n",
       "      <td>0</td>\n",
       "      <td>199</td>\n",
       "    </tr>\n",
       "  </tbody>\n",
       "</table>\n",
       "</div>"
      ],
      "text/plain": [
       "   user_id  name  age    city subscription_type     distance   duration  \\\n",
       "0        1  Кира   22  Тюмень             ultra  4409.919140  25.599769   \n",
       "1        1  Кира   22  Тюмень             ultra  2617.592153  15.816871   \n",
       "2        1  Кира   22  Тюмень             ultra   754.159807   6.232113   \n",
       "3        1  Кира   22  Тюмень             ultra  2694.783254  18.511000   \n",
       "4        1  Кира   22  Тюмень             ultra  4028.687306  26.265803   \n",
       "\n",
       "        date  month  minute_price  start_ride_price  subscription_fee  \n",
       "0 2021-01-01      1             6                 0               199  \n",
       "1 2021-01-18      1             6                 0               199  \n",
       "2 2021-04-20      4             6                 0               199  \n",
       "3 2021-08-11      8             6                 0               199  \n",
       "4 2021-08-28      8             6                 0               199  "
      ]
     },
     "metadata": {},
     "output_type": "display_data"
    },
    {
     "name": "stdout",
     "output_type": "stream",
     "text": [
      "df_subs (2, 4)\n",
      "df (18068, 12)\n"
     ]
    }
   ],
   "source": [
    "df = df.merge(df_subs, on='subscription_type')\n",
    "display(df.head())\n",
    "\n",
    "# проверяем\n",
    "print('df_subs', df_subs.shape)\n",
    "print('df', df.shape)"
   ]
  },
  {
   "cell_type": "markdown",
   "id": "764ec8ea",
   "metadata": {},
   "source": [
    "Проверяем таблицу после объединения."
   ]
  },
  {
   "cell_type": "code",
   "execution_count": 20,
   "id": "1b196912",
   "metadata": {},
   "outputs": [
    {
     "name": "stdout",
     "output_type": "stream",
     "text": [
      "<class 'pandas.core.frame.DataFrame'>\n",
      "Int64Index: 18068 entries, 0 to 18067\n",
      "Data columns (total 12 columns):\n",
      " #   Column             Non-Null Count  Dtype         \n",
      "---  ------             --------------  -----         \n",
      " 0   user_id            18068 non-null  int64         \n",
      " 1   name               18068 non-null  object        \n",
      " 2   age                18068 non-null  int64         \n",
      " 3   city               18068 non-null  object        \n",
      " 4   subscription_type  18068 non-null  object        \n",
      " 5   distance           18068 non-null  float64       \n",
      " 6   duration           18068 non-null  float64       \n",
      " 7   date               18068 non-null  datetime64[ns]\n",
      " 8   month              18068 non-null  int64         \n",
      " 9   minute_price       18068 non-null  int64         \n",
      " 10  start_ride_price   18068 non-null  int64         \n",
      " 11  subscription_fee   18068 non-null  int64         \n",
      "dtypes: datetime64[ns](1), float64(2), int64(6), object(3)\n",
      "memory usage: 1.8+ MB\n",
      "None\n",
      "\n",
      "user_id              0\n",
      "name                 0\n",
      "age                  0\n",
      "city                 0\n",
      "subscription_type    0\n",
      "distance             0\n",
      "duration             0\n",
      "date                 0\n",
      "month                0\n",
      "minute_price         0\n",
      "start_ride_price     0\n",
      "subscription_fee     0\n",
      "dtype: int64\n",
      "\n",
      "Количество уникальных пользователей: 1534\n"
     ]
    }
   ],
   "source": [
    "print(df.info()) # смотрим строки и столбцы\n",
    "print()\n",
    "print(df.isnull().sum()) # смотрим пропуски\n",
    "print()\n",
    "print('Количество уникальных пользователей:',df['user_id'].nunique()) # смотрим уникальных пользователей"
   ]
  },
  {
   "cell_type": "markdown",
   "id": "bd829c3c",
   "metadata": {},
   "source": [
    "### Создаем два датафрейма с данными пользователей с подпиской и без."
   ]
  },
  {
   "cell_type": "code",
   "execution_count": 21,
   "id": "966294b7",
   "metadata": {
    "scrolled": true
   },
   "outputs": [
    {
     "name": "stdout",
     "output_type": "stream",
     "text": [
      "<class 'pandas.core.frame.DataFrame'>\n",
      "Int64Index: 6500 entries, 0 to 6499\n",
      "Data columns (total 12 columns):\n",
      " #   Column             Non-Null Count  Dtype         \n",
      "---  ------             --------------  -----         \n",
      " 0   user_id            6500 non-null   int64         \n",
      " 1   name               6500 non-null   object        \n",
      " 2   age                6500 non-null   int64         \n",
      " 3   city               6500 non-null   object        \n",
      " 4   subscription_type  6500 non-null   object        \n",
      " 5   distance           6500 non-null   float64       \n",
      " 6   duration           6500 non-null   float64       \n",
      " 7   date               6500 non-null   datetime64[ns]\n",
      " 8   month              6500 non-null   int64         \n",
      " 9   minute_price       6500 non-null   int64         \n",
      " 10  start_ride_price   6500 non-null   int64         \n",
      " 11  subscription_fee   6500 non-null   int64         \n",
      "dtypes: datetime64[ns](1), float64(2), int64(6), object(3)\n",
      "memory usage: 660.2+ KB\n",
      "\n",
      "<class 'pandas.core.frame.DataFrame'>\n",
      "Int64Index: 11568 entries, 6500 to 18067\n",
      "Data columns (total 12 columns):\n",
      " #   Column             Non-Null Count  Dtype         \n",
      "---  ------             --------------  -----         \n",
      " 0   user_id            11568 non-null  int64         \n",
      " 1   name               11568 non-null  object        \n",
      " 2   age                11568 non-null  int64         \n",
      " 3   city               11568 non-null  object        \n",
      " 4   subscription_type  11568 non-null  object        \n",
      " 5   distance           11568 non-null  float64       \n",
      " 6   duration           11568 non-null  float64       \n",
      " 7   date               11568 non-null  datetime64[ns]\n",
      " 8   month              11568 non-null  int64         \n",
      " 9   minute_price       11568 non-null  int64         \n",
      " 10  start_ride_price   11568 non-null  int64         \n",
      " 11  subscription_fee   11568 non-null  int64         \n",
      "dtypes: datetime64[ns](1), float64(2), int64(6), object(3)\n",
      "memory usage: 1.1+ MB\n"
     ]
    }
   ],
   "source": [
    "df_ultra = df[df['subscription_type'] == 'ultra'] # с подпиской\n",
    "df_free = df[df['subscription_type'] == 'free'] # бесплатные\n",
    "df_ultra.info()\n",
    "print()\n",
    "df_free.info()"
   ]
  },
  {
   "cell_type": "markdown",
   "id": "be617fe4",
   "metadata": {},
   "source": [
    "### Визуализируем информацию о расстоянии и времени поездок для пользователей обеих категорий.\n",
    "\n",
    "#### Сначала смотрим расстояние."
   ]
  },
  {
   "cell_type": "code",
   "execution_count": 22,
   "id": "5211ac8b",
   "metadata": {},
   "outputs": [
    {
     "name": "stdout",
     "output_type": "stream",
     "text": [
      "Платные пользователи:\n",
      "count    6500.000000\n",
      "mean     3115.445388\n",
      "std       836.895330\n",
      "min       244.210438\n",
      "25%      2785.444017\n",
      "50%      3148.637229\n",
      "75%      3560.574425\n",
      "max      5699.769662\n",
      "Name: distance, dtype: float64\n",
      "\n",
      "Бесплатные пользователи:\n",
      "count    11568.000000\n",
      "mean      3045.495282\n",
      "std       1246.173806\n",
      "min          0.855683\n",
      "25%       2366.562689\n",
      "50%       3114.648465\n",
      "75%       3905.697894\n",
      "max       7211.007745\n",
      "Name: distance, dtype: float64\n"
     ]
    },
    {
     "data": {
      "image/png": "[encoded data removed]",
      "text/plain": [
       "<Figure size 432x288 with 1 Axes>"
      ]
     },
     "metadata": {
      "needs_background": "light"
     },
     "output_type": "display_data"
    }
   ],
   "source": [
    "plt.hist(df_ultra['distance'], bins= 50, alpha = 0.5, label='ultra')\n",
    "plt.hist(df_free['distance'], bins=50, alpha = 0.3, label='free')\n",
    "plt.legend(loc='upper left')\n",
    "plt.title('Гистограммы расстояния поездок')\n",
    "plt.xlabel('Расстояние')\n",
    "plt.ylabel('Количество пользователей');\n",
    "\n",
    "print('Платные пользователи:')\n",
    "print(df_ultra['distance'].describe())\n",
    "print()\n",
    "print('Бесплатные пользователи:')\n",
    "print(df_free['distance'].describe())"
   ]
  },
  {
   "cell_type": "markdown",
   "id": "aaaebbaf",
   "metadata": {},
   "source": [
    "Видим, что распределения в целом похожи. У бесплатных пользователей наблюдается два пика - 2500 и 3500 метров. У платных в среднем 3000.\n",
    "\n",
    "Видим, что подгруппа коротких поездок (до 1500 метров) немного отличается у платных и бесплатных пользователей.\n",
    "Пользователи без подписки намного чаще совершают короткие поездки."
   ]
  },
  {
   "cell_type": "markdown",
   "id": "66a51640",
   "metadata": {},
   "source": [
    "#### Смотрим на продолжительность поездки"
   ]
  },
  {
   "cell_type": "code",
   "execution_count": 23,
   "id": "295d0660",
   "metadata": {},
   "outputs": [
    {
     "name": "stdout",
     "output_type": "stream",
     "text": [
      "Платные пользователи:\n",
      "count    6500.000000\n",
      "mean       18.541985\n",
      "std         5.572048\n",
      "min         3.760353\n",
      "25%        14.524654\n",
      "50%        18.178153\n",
      "75%        21.884129\n",
      "max        40.823963\n",
      "Name: duration, dtype: float64\n",
      "\n",
      "Бесплатные пользователи:\n",
      "count    11568.000000\n",
      "mean        17.633172\n",
      "std          6.239577\n",
      "min          2.035632\n",
      "25%         13.127082\n",
      "50%         17.446822\n",
      "75%         21.779484\n",
      "max         34.948498\n",
      "Name: duration, dtype: float64\n"
     ]
    },
    {
     "data": {
      "image/png": "[encoded data removed]",
      "text/plain": [
       "<Figure size 432x288 with 1 Axes>"
      ]
     },
     "metadata": {
      "needs_background": "light"
     },
     "output_type": "display_data"
    }
   ],
   "source": [
    "plt.hist(df_ultra['duration'], bins= 50, alpha = 0.5, label='ultra')\n",
    "plt.hist(df_free['duration'], bins=50, alpha = 0.3, label='free')\n",
    "plt.legend(loc='upper left')\n",
    "plt.title('Гистограммы продолжительности поездок')\n",
    "plt.xlabel('Продолжительность')\n",
    "plt.ylabel('Количество пользователей');\n",
    "\n",
    "print('Платные пользователи:')\n",
    "print(df_ultra['duration'].describe())\n",
    "print()\n",
    "print('Бесплатные пользователи:')\n",
    "print(df_free['duration'].describe())"
   ]
  },
  {
   "cell_type": "markdown",
   "id": "53a34ede",
   "metadata": {},
   "source": [
    "Видим, что среднее время ~17-18 минут и совпадает у обоих групп пользователей."
   ]
  },
  {
   "cell_type": "markdown",
   "id": "402d620f",
   "metadata": {},
   "source": [
    "## Подсчёт выручки\n",
    "\n",
    "Создадим датафрейм с агрегированными данными о поездках на основе датафрейма с объединёнными данными из шага 4: найдём суммарное расстояние, количество поездок и суммарное время для каждого пользователя за каждый месяц.\n"
   ]
  },
  {
   "cell_type": "code",
   "execution_count": 24,
   "id": "53049e0a",
   "metadata": {
    "scrolled": true
   },
   "outputs": [
    {
     "data": {
      "text/html": [
       "<div>\n",
       "<style scoped>\n",
       "    .dataframe tbody tr th:only-of-type {\n",
       "        vertical-align: middle;\n",
       "    }\n",
       "\n",
       "    .dataframe tbody tr th {\n",
       "        vertical-align: top;\n",
       "    }\n",
       "\n",
       "    .dataframe thead th {\n",
       "        text-align: right;\n",
       "    }\n",
       "</style>\n",
       "<table border=\"1\" class=\"dataframe\">\n",
       "  <thead>\n",
       "    <tr style=\"text-align: right;\">\n",
       "      <th></th>\n",
       "      <th>user_id</th>\n",
       "      <th>month</th>\n",
       "      <th>distance_sum</th>\n",
       "      <th>rides_count</th>\n",
       "      <th>duration_sum</th>\n",
       "      <th>minute_price</th>\n",
       "      <th>start_ride_price</th>\n",
       "      <th>subscription_fee</th>\n",
       "      <th>subscription_type</th>\n",
       "    </tr>\n",
       "  </thead>\n",
       "  <tbody>\n",
       "    <tr>\n",
       "      <th>0</th>\n",
       "      <td>1</td>\n",
       "      <td>1</td>\n",
       "      <td>7027.511294</td>\n",
       "      <td>2</td>\n",
       "      <td>42.0</td>\n",
       "      <td>6</td>\n",
       "      <td>0</td>\n",
       "      <td>199</td>\n",
       "      <td>ultra</td>\n",
       "    </tr>\n",
       "    <tr>\n",
       "      <th>1</th>\n",
       "      <td>1</td>\n",
       "      <td>4</td>\n",
       "      <td>754.159807</td>\n",
       "      <td>1</td>\n",
       "      <td>7.0</td>\n",
       "      <td>6</td>\n",
       "      <td>0</td>\n",
       "      <td>199</td>\n",
       "      <td>ultra</td>\n",
       "    </tr>\n",
       "    <tr>\n",
       "      <th>2</th>\n",
       "      <td>1</td>\n",
       "      <td>8</td>\n",
       "      <td>6723.470560</td>\n",
       "      <td>2</td>\n",
       "      <td>46.0</td>\n",
       "      <td>6</td>\n",
       "      <td>0</td>\n",
       "      <td>199</td>\n",
       "      <td>ultra</td>\n",
       "    </tr>\n",
       "    <tr>\n",
       "      <th>3</th>\n",
       "      <td>1</td>\n",
       "      <td>10</td>\n",
       "      <td>5809.911100</td>\n",
       "      <td>2</td>\n",
       "      <td>32.0</td>\n",
       "      <td>6</td>\n",
       "      <td>0</td>\n",
       "      <td>199</td>\n",
       "      <td>ultra</td>\n",
       "    </tr>\n",
       "    <tr>\n",
       "      <th>4</th>\n",
       "      <td>1</td>\n",
       "      <td>11</td>\n",
       "      <td>7003.499363</td>\n",
       "      <td>3</td>\n",
       "      <td>56.0</td>\n",
       "      <td>6</td>\n",
       "      <td>0</td>\n",
       "      <td>199</td>\n",
       "      <td>ultra</td>\n",
       "    </tr>\n",
       "    <tr>\n",
       "      <th>5</th>\n",
       "      <td>1</td>\n",
       "      <td>12</td>\n",
       "      <td>6751.629942</td>\n",
       "      <td>2</td>\n",
       "      <td>28.0</td>\n",
       "      <td>6</td>\n",
       "      <td>0</td>\n",
       "      <td>199</td>\n",
       "      <td>ultra</td>\n",
       "    </tr>\n",
       "    <tr>\n",
       "      <th>6</th>\n",
       "      <td>2</td>\n",
       "      <td>3</td>\n",
       "      <td>10187.723006</td>\n",
       "      <td>3</td>\n",
       "      <td>63.0</td>\n",
       "      <td>6</td>\n",
       "      <td>0</td>\n",
       "      <td>199</td>\n",
       "      <td>ultra</td>\n",
       "    </tr>\n",
       "    <tr>\n",
       "      <th>7</th>\n",
       "      <td>2</td>\n",
       "      <td>4</td>\n",
       "      <td>6164.381824</td>\n",
       "      <td>2</td>\n",
       "      <td>40.0</td>\n",
       "      <td>6</td>\n",
       "      <td>0</td>\n",
       "      <td>199</td>\n",
       "      <td>ultra</td>\n",
       "    </tr>\n",
       "    <tr>\n",
       "      <th>8</th>\n",
       "      <td>2</td>\n",
       "      <td>6</td>\n",
       "      <td>3255.338202</td>\n",
       "      <td>1</td>\n",
       "      <td>14.0</td>\n",
       "      <td>6</td>\n",
       "      <td>0</td>\n",
       "      <td>199</td>\n",
       "      <td>ultra</td>\n",
       "    </tr>\n",
       "    <tr>\n",
       "      <th>9</th>\n",
       "      <td>2</td>\n",
       "      <td>7</td>\n",
       "      <td>6780.722964</td>\n",
       "      <td>2</td>\n",
       "      <td>48.0</td>\n",
       "      <td>6</td>\n",
       "      <td>0</td>\n",
       "      <td>199</td>\n",
       "      <td>ultra</td>\n",
       "    </tr>\n",
       "  </tbody>\n",
       "</table>\n",
       "</div>"
      ],
      "text/plain": [
       "   user_id  month  distance_sum  rides_count  duration_sum  minute_price  \\\n",
       "0        1      1   7027.511294            2          42.0             6   \n",
       "1        1      4    754.159807            1           7.0             6   \n",
       "2        1      8   6723.470560            2          46.0             6   \n",
       "3        1     10   5809.911100            2          32.0             6   \n",
       "4        1     11   7003.499363            3          56.0             6   \n",
       "5        1     12   6751.629942            2          28.0             6   \n",
       "6        2      3  10187.723006            3          63.0             6   \n",
       "7        2      4   6164.381824            2          40.0             6   \n",
       "8        2      6   3255.338202            1          14.0             6   \n",
       "9        2      7   6780.722964            2          48.0             6   \n",
       "\n",
       "   start_ride_price  subscription_fee subscription_type  \n",
       "0                 0               199             ultra  \n",
       "1                 0               199             ultra  \n",
       "2                 0               199             ultra  \n",
       "3                 0               199             ultra  \n",
       "4                 0               199             ultra  \n",
       "5                 0               199             ultra  \n",
       "6                 0               199             ultra  \n",
       "7                 0               199             ultra  \n",
       "8                 0               199             ultra  \n",
       "9                 0               199             ultra  "
      ]
     },
     "metadata": {},
     "output_type": "display_data"
    }
   ],
   "source": [
    "df['duration'] = np.ceil(df['duration']) # округряем поездки до верхнего целого\n",
    "\n",
    "df_grouped = df.pivot_table(index=['user_id', 'month'], values=['distance','duration', 'subscription_type', 'start_ride_price', 'subscription_fee', 'minute_price'], \\\n",
    "                            aggfunc={'distance': 'sum', 'duration': ['sum', 'count'], 'subscription_type': 'first', 'start_ride_price': 'first', 'subscription_fee': 'first', 'minute_price': 'first'}) # группируем данные\n",
    "\n",
    "df_grouped.reset_index(inplace=True)\n",
    "df_grouped.columns = ['user_id', 'month', 'distance_sum', 'rides_count', 'duration_sum', 'minute_price', 'start_ride_price', 'subscription_fee', 'subscription_type'] # задаем названия столбцов\n",
    "display(df_grouped.head(10))"
   ]
  },
  {
   "cell_type": "markdown",
   "id": "4034b4e8",
   "metadata": {},
   "source": [
    "Добавим столбец с помесячной выручкой"
   ]
  },
  {
   "cell_type": "code",
   "execution_count": 25,
   "id": "66a972b3",
   "metadata": {},
   "outputs": [
    {
     "data": {
      "text/html": [
       "<div>\n",
       "<style scoped>\n",
       "    .dataframe tbody tr th:only-of-type {\n",
       "        vertical-align: middle;\n",
       "    }\n",
       "\n",
       "    .dataframe tbody tr th {\n",
       "        vertical-align: top;\n",
       "    }\n",
       "\n",
       "    .dataframe thead th {\n",
       "        text-align: right;\n",
       "    }\n",
       "</style>\n",
       "<table border=\"1\" class=\"dataframe\">\n",
       "  <thead>\n",
       "    <tr style=\"text-align: right;\">\n",
       "      <th></th>\n",
       "      <th>user_id</th>\n",
       "      <th>month</th>\n",
       "      <th>distance_sum</th>\n",
       "      <th>rides_count</th>\n",
       "      <th>duration_sum</th>\n",
       "      <th>minute_price</th>\n",
       "      <th>start_ride_price</th>\n",
       "      <th>subscription_fee</th>\n",
       "      <th>subscription_type</th>\n",
       "      <th>month_revenue</th>\n",
       "    </tr>\n",
       "  </thead>\n",
       "  <tbody>\n",
       "    <tr>\n",
       "      <th>0</th>\n",
       "      <td>1</td>\n",
       "      <td>1</td>\n",
       "      <td>7027.511294</td>\n",
       "      <td>2</td>\n",
       "      <td>42.0</td>\n",
       "      <td>6</td>\n",
       "      <td>0</td>\n",
       "      <td>199</td>\n",
       "      <td>ultra</td>\n",
       "      <td>451.0</td>\n",
       "    </tr>\n",
       "    <tr>\n",
       "      <th>1</th>\n",
       "      <td>1</td>\n",
       "      <td>4</td>\n",
       "      <td>754.159807</td>\n",
       "      <td>1</td>\n",
       "      <td>7.0</td>\n",
       "      <td>6</td>\n",
       "      <td>0</td>\n",
       "      <td>199</td>\n",
       "      <td>ultra</td>\n",
       "      <td>241.0</td>\n",
       "    </tr>\n",
       "    <tr>\n",
       "      <th>2</th>\n",
       "      <td>1</td>\n",
       "      <td>8</td>\n",
       "      <td>6723.470560</td>\n",
       "      <td>2</td>\n",
       "      <td>46.0</td>\n",
       "      <td>6</td>\n",
       "      <td>0</td>\n",
       "      <td>199</td>\n",
       "      <td>ultra</td>\n",
       "      <td>475.0</td>\n",
       "    </tr>\n",
       "    <tr>\n",
       "      <th>3</th>\n",
       "      <td>1</td>\n",
       "      <td>10</td>\n",
       "      <td>5809.911100</td>\n",
       "      <td>2</td>\n",
       "      <td>32.0</td>\n",
       "      <td>6</td>\n",
       "      <td>0</td>\n",
       "      <td>199</td>\n",
       "      <td>ultra</td>\n",
       "      <td>391.0</td>\n",
       "    </tr>\n",
       "    <tr>\n",
       "      <th>4</th>\n",
       "      <td>1</td>\n",
       "      <td>11</td>\n",
       "      <td>7003.499363</td>\n",
       "      <td>3</td>\n",
       "      <td>56.0</td>\n",
       "      <td>6</td>\n",
       "      <td>0</td>\n",
       "      <td>199</td>\n",
       "      <td>ultra</td>\n",
       "      <td>535.0</td>\n",
       "    </tr>\n",
       "  </tbody>\n",
       "</table>\n",
       "</div>"
      ],
      "text/plain": [
       "   user_id  month  distance_sum  rides_count  duration_sum  minute_price  \\\n",
       "0        1      1   7027.511294            2          42.0             6   \n",
       "1        1      4    754.159807            1           7.0             6   \n",
       "2        1      8   6723.470560            2          46.0             6   \n",
       "3        1     10   5809.911100            2          32.0             6   \n",
       "4        1     11   7003.499363            3          56.0             6   \n",
       "\n",
       "   start_ride_price  subscription_fee subscription_type  month_revenue  \n",
       "0                 0               199             ultra          451.0  \n",
       "1                 0               199             ultra          241.0  \n",
       "2                 0               199             ultra          475.0  \n",
       "3                 0               199             ultra          391.0  \n",
       "4                 0               199             ultra          535.0  "
      ]
     },
     "metadata": {},
     "output_type": "display_data"
    }
   ],
   "source": [
    "df_grouped['month_revenue'] = df_grouped['start_ride_price'] * df_grouped['rides_count'] +  df_grouped['duration_sum'] * df_grouped['minute_price'] + df_grouped['subscription_fee']\n",
    "display(df_grouped.head())"
   ]
  },
  {
   "cell_type": "markdown",
   "id": "41545ac0",
   "metadata": {},
   "source": [
    "## Проверка гипотез\n",
    "\n",
    "### Часть 1:\n",
    "\n",
    "H0: пользователи с подпиской тратят столько же времени на поездки, сколько и бесплатные пользователи.\n",
    "\n",
    "H1: пользователи с подпиской трятят больше времени на поездки, чем бесплатные пользователи.\n",
    "\n",
    "Используем при проверке тест st.ttest_ind для сравнениния двух генеральных совокупностей. Если pvalue меньше уровня статистической значимости alpha, то отвергаем нулевую гипотезу в пользу альтернативной."
   ]
  },
  {
   "cell_type": "code",
   "execution_count": 26,
   "id": "23ea867b",
   "metadata": {
    "scrolled": true
   },
   "outputs": [
    {
     "name": "stdout",
     "output_type": "stream",
     "text": [
      "p-value: 9.65242247012189e-23\n",
      "Отвергаем нулевую гипотезу: пользователи с подпиской тратят больше времени на поездки, чем бесплатные.\n"
     ]
    }
   ],
   "source": [
    "alpha = 0.05\n",
    "\n",
    "results = st.ttest_ind(df_ultra['duration'], df_free['duration'], alternative='greater')\n",
    "\n",
    "print('p-value:', results.pvalue)\n",
    "\n",
    "if results.pvalue < alpha:\n",
    "    print('Отвергаем нулевую гипотезу: пользователи с подпиской тратят больше времени на поездки, чем бесплатные.')\n",
    "else:\n",
    "    print('Нет оснований отвергнуть нулевую гипотезу: пользователи с подпиской тратят столько же времени, сколько и бесплатные.')"
   ]
  },
  {
   "cell_type": "markdown",
   "id": "c8838159",
   "metadata": {},
   "source": [
    "### Часть 2:\n",
    "\n",
    "H0: пользователи с подпиской за одну поездку проезжают 3130 метров.\n",
    "\n",
    "H1: пользователи с подпиской за одну поездку проезжают менее 3130 метров.\n",
    "\n",
    "Используем при проверке тест st.ttest_1samp для сравнениния двух генеральных совокупностей. Если pvalue меньше уровня статистической значимости alpha, то отвергаем нулевую гипотезу в пользу альтернативной."
   ]
  },
  {
   "cell_type": "code",
   "execution_count": 27,
   "id": "964775e6",
   "metadata": {},
   "outputs": [
    {
     "name": "stdout",
     "output_type": "stream",
     "text": [
      "p-value: 0.08046311521502146\n",
      "Нет оснований отвергнуть нулевую гипотезу: пользователи с подпиской за одну поездку проезжают не меньше 3130 метров.\n"
     ]
    }
   ],
   "source": [
    "alpha = 0.05\n",
    "opt_dist = 3130\n",
    "\n",
    "results = st.ttest_1samp(df_ultra['distance'], opt_dist, alternative='less')\n",
    "\n",
    "print('p-value:', results.pvalue)\n",
    "\n",
    "if results.pvalue < alpha:\n",
    "    print('Отвергаем нулевую гипотезу: пользователи с подпиской за одну поездку проезжают менее 3130 метров.')\n",
    "else:\n",
    "    print('Нет оснований отвергнуть нулевую гипотезу: пользователи с подпиской за одну поездку проезжают не меньше 3130 метров.')"
   ]
  },
  {
   "cell_type": "markdown",
   "id": "1a3bb85f",
   "metadata": {},
   "source": [
    "### Часть 3:\n",
    "\n",
    "H0: пользователи с подпиской приносят столько же помесячной выручки, сколько и пользователи без подписки.\n",
    "\n",
    "H1: пользователи с подпиской приносят больше помесячной выручки, чем пользователи без подписки.\n",
    "\n",
    "Используем при проверке тест st.ttest_ind для сравнениния двух генеральных совокупностей. Если pvalue меньше уровня статистической значимости alpha, то отвергаем нулевую гипотезу в пользу альтернативной."
   ]
  },
  {
   "cell_type": "code",
   "execution_count": 28,
   "id": "00bfc9a3",
   "metadata": {},
   "outputs": [
    {
     "name": "stdout",
     "output_type": "stream",
     "text": [
      "p-value: 7.430720991422216e-26\n",
      "Отвергаем нулевую гипотезу: пользователи с подпиской приносят больше помесячной выручки, чем пользователи без подписки.\n"
     ]
    }
   ],
   "source": [
    "alpha = 0.05\n",
    "\n",
    "results = st.ttest_ind(df_grouped.loc[df_grouped['subscription_type'] == 'ultra', 'month_revenue'], \\\n",
    "                       df_grouped.loc[df_grouped['subscription_type'] == 'free', 'month_revenue'], alternative='greater')\n",
    "\n",
    "print('p-value:', results.pvalue)\n",
    "\n",
    "if results.pvalue < alpha:\n",
    "    print('Отвергаем нулевую гипотезу: пользователи с подпиской приносят больше помесячной выручки, чем пользователи без подписки.')\n",
    "else:\n",
    "    print('Нет оснований отвергнуть нулевую гипотезу: пользователи с подпиской приносят столько же помесячной выручки, сколько и пользователи без подписки.')"
   ]
  },
  {
   "cell_type": "markdown",
   "id": "4efc91d9",
   "metadata": {},
   "source": [
    "### Часть 4: \n",
    "\n",
    "Представьте такую ситуацию: техническая команда сервиса обновила сервера, с которыми взаимодействует мобильное приложение. Она надеется, что из-за этого количество обращений в техподдержку значимо снизилось. Некоторый файл содержит для каждого пользователя данные о количестве обращений до обновления и после него. Какой тест вам понадобился бы для проверки этой гипотезы?\n",
    "\n",
    "Здесь мы используем гипотезу о равенстве средних для зависимых выборок. Применим метод scipy.stats.ttest_rel( ) в который передадим данные перед и после обновления. Параметр alternative = 'less'.\n",
    "\n",
    "H0: количество обращений после обновления равно количеству обращений до обновления.\n",
    "\n",
    "H1: количество обращений после обновления меньше количества обращений до обновления."
   ]
  },
  {
   "cell_type": "markdown",
   "id": "e6db0b5a",
   "metadata": {},
   "source": [
    "<p>\n",
    "<div class=\"alert-danger\">\n",
    "<b>Комментарий ревьюера ❌</b> \n",
    "\n",
    "\n",
    "Являются ли в данном случае выборки независимыми?"
   ]
  },
  {
   "cell_type": "markdown",
   "id": "f49d8c2e",
   "metadata": {},
   "source": [
    "<p>\n",
    "<div class=\"alert-success\">\n",
    "<b>Комментарий ревьюера 2 ✔️</b>\n",
    "\n",
    "    \n",
    "👍</div>"
   ]
  },
  {
   "cell_type": "markdown",
   "id": "61213c5e",
   "metadata": {},
   "source": [
    "## Распределения\n",
    "\n",
    "### Часть 1:\n",
    "\n",
    "Отделу маркетинга GoFast поставили задачу: нужно провести акцию с раздачей промокодов на один бесплатный месяц подписки, в рамках которой как минимум 100 существующих клиентов должны продлить эту подписку. То есть по завершении периода действия подписки пользователь может либо отказаться от неё, либо продлить, совершив соотвествующий платёж. Эта акция уже проводилась ранее и по итогу выяснилось, что после бесплатного пробного периода подписку продлевают 10% пользователей. Выясните, какое минимальное количество промокодов нужно разослать, чтобы вероятность не выполнить план была примерно 5%."
   ]
  },
  {
   "cell_type": "markdown",
   "id": "d7e847f0",
   "metadata": {},
   "source": [
    "Зададим биномиальное распределение с заданными параметрами методом binom в цикле и подберем такое минимальное количество промокодов n, при котором вероятность получить менее  положительных исходов будет 5%."
   ]
  },
  {
   "cell_type": "code",
   "execution_count": 29,
   "id": "95cd1d51",
   "metadata": {},
   "outputs": [
    {
     "name": "stdout",
     "output_type": "stream",
     "text": [
      "Необходимое количество промокодов для 95% выполнения плана = 1161\n"
     ]
    }
   ],
   "source": [
    "for n in range(800, 1800):\n",
    "    if binom.cdf(99, n, 0.1) <= 0.05:\n",
    "        print('Необходимое количество промокодов для 95% выполнения плана =', n)\n",
    "        break"
   ]
  },
  {
   "cell_type": "markdown",
   "id": "cacb7754",
   "metadata": {},
   "source": [
    "### Часть 2:\n",
    "\n",
    "Отдел маркетинга рассылает клиентам push-уведомления в мобильном приложении. Клиенты могут открыть его или не открывать. Известно, что уведомления открывают около 40 % получивших клиентов. Отдел планирует разослать 1 млн уведомлений. С помощью аппроксимации постройте примерный график распределения и оцените вероятность того, что уведомление откроют не более 399,5 тыс. пользователей."
   ]
  },
  {
   "cell_type": "code",
   "execution_count": 30,
   "id": "765f8fe6",
   "metadata": {},
   "outputs": [
    {
     "name": "stdout",
     "output_type": "stream",
     "text": [
      "0.15371708296369768\n"
     ]
    },
    {
     "data": {
      "image/png": "[encoded data removed]",
      "text/plain": [
       "<Figure size 432x288 with 1 Axes>"
      ]
     },
     "metadata": {
      "needs_background": "light"
     },
     "output_type": "display_data"
    }
   ],
   "source": [
    "n = 1000000 # количество уведомлений\n",
    "p = 0.4 # вероятность успеха\n",
    "\n",
    "mu = n * p\n",
    "sigma = sqrt(n * p * (1 - p))\n",
    "\n",
    "distr = st.norm(mu, sigma)\n",
    "\n",
    "sns.histplot(distr.rvs(100000))\n",
    "\n",
    "print(distr.cdf(399500))\n"
   ]
  },
  {
   "cell_type": "markdown",
   "id": "dfb471cd",
   "metadata": {},
   "source": [
    "## Общий вывод.\n",
    "\n",
    "Мы проанализировали работу сервиса аренды самокатов GoFast за период c 2021-01-01 по 2021-12-30. Ключевой целью было выяснить, являются ли платные подписчики более выгодными для компании.\n",
    "\n",
    "На этапе **предобработки** мы выполнили следующие действия: \n",
    "- добавили столбец с номером месяца;\n",
    "- удалили дубликаты;\n",
    "\n",
    "После **исследовательского анализа данных** мы сделали следующие выводы о пользователях:\n",
    "- больше всего пользователей сервиса живут в Пятигорске и Екатеринбурге, меньше всего в Москве;\n",
    "- бесплатных пользователей 54%, платных - 46% - почти половина пользуется подпиской, это очень хороший показатель;\n",
    "- средний возраст пользователя 25 лет, больше всего пользователей находятся в возрастном диапазоне от 20 до 30 лет;\n",
    "- и бесплатные и платные пользователи проезжают в среднем 3000 метров. При этом выделяется отдельная категория коротких поездок (до 1500 метров);\n",
    "- средняя продолжительность поездки около 17-18 минут у обоих групп пользователей;\n",
    "\n",
    "Для **подсчёта выручки** мы создали датафрейм с агрегированной информацией о поездках каждого пользователя и посчитали помесячную выручку.\n",
    "\n",
    "На основе проведенных исследований и расчетов, было выдвинуто несколько ключевых гипотез, проверка которых, позволила сделать следующие выводы:\n",
    "- пользователи с подпиской тратят больше времени на поездки, чем бесплатные пользователи, значит им нравится пользоваться сервисом;\n",
    "- пользователи с подпиской за одну поездку проезжают не меньше 3130 метров. Это больше оптимального расстояния одной поездки с точки зрения износа самоката. Стоит обратить внимание на их обслуживание.\n",
    "- пользователи с подпиской приносят больше помесячной выручки, чем пользователи без подписки. Факт говорит сам за себя.\n",
    "\n",
    "**Результаты работы показывают, что платные пользователи более выгодны для компании.**"
   ]
  }
 ],
 "metadata": {
  "ExecuteTimeLog": [
   {
    "duration": 1189,
    "start_time": "2023-05-21T09:16:38.318Z"
   },
   {
    "duration": 193,
    "start_time": "2023-05-21T09:16:39.509Z"
   },
   {
    "duration": 37,
    "start_time": "2023-05-21T09:16:39.703Z"
   },
   {
    "duration": 8,
    "start_time": "2023-05-21T09:16:39.741Z"
   },
   {
    "duration": 7,
    "start_time": "2023-05-21T09:16:39.751Z"
   },
   {
    "duration": 37,
    "start_time": "2023-05-21T09:16:39.759Z"
   },
   {
    "duration": 14,
    "start_time": "2023-05-21T09:16:39.797Z"
   },
   {
    "duration": 142,
    "start_time": "2023-05-21T09:16:39.812Z"
   },
   {
    "duration": 64,
    "start_time": "2023-05-21T09:16:39.956Z"
   },
   {
    "duration": 138,
    "start_time": "2023-05-21T09:16:40.022Z"
   },
   {
    "duration": 156,
    "start_time": "2023-05-21T09:16:40.162Z"
   },
   {
    "duration": 175,
    "start_time": "2023-05-21T09:16:40.320Z"
   },
   {
    "duration": 158,
    "start_time": "2023-05-21T09:16:40.496Z"
   },
   {
    "duration": 148,
    "start_time": "2023-05-21T09:16:40.656Z"
   },
   {
    "duration": 15,
    "start_time": "2023-05-21T09:16:40.805Z"
   },
   {
    "duration": 15,
    "start_time": "2023-05-21T09:16:40.821Z"
   },
   {
    "duration": 21,
    "start_time": "2023-05-21T09:16:40.837Z"
   },
   {
    "duration": 227,
    "start_time": "2023-05-21T09:16:40.859Z"
   },
   {
    "duration": 250,
    "start_time": "2023-05-21T09:16:41.087Z"
   },
   {
    "duration": 17,
    "start_time": "2023-05-21T09:16:41.338Z"
   },
   {
    "duration": 11,
    "start_time": "2023-05-21T09:16:41.356Z"
   },
   {
    "duration": 18,
    "start_time": "2023-05-21T09:16:41.368Z"
   },
   {
    "duration": 5,
    "start_time": "2023-05-21T09:16:41.388Z"
   },
   {
    "duration": 7,
    "start_time": "2023-05-21T09:16:41.394Z"
   },
   {
    "duration": 289,
    "start_time": "2023-05-21T09:16:41.402Z"
   },
   {
    "duration": 264,
    "start_time": "2023-05-21T09:16:41.693Z"
   },
   {
    "duration": 5,
    "start_time": "2023-05-21T09:27:25.771Z"
   },
   {
    "duration": 24,
    "start_time": "2023-05-21T09:36:01.337Z"
   },
   {
    "duration": 5,
    "start_time": "2023-05-21T09:37:52.469Z"
   },
   {
    "duration": 4,
    "start_time": "2023-05-21T09:41:13.025Z"
   },
   {
    "duration": 1429,
    "start_time": "2023-05-22T12:21:29.076Z"
   },
   {
    "duration": 234,
    "start_time": "2023-05-22T12:21:30.508Z"
   },
   {
    "duration": 56,
    "start_time": "2023-05-22T12:21:30.744Z"
   },
   {
    "duration": 13,
    "start_time": "2023-05-22T12:21:30.802Z"
   },
   {
    "duration": 95,
    "start_time": "2023-05-22T12:21:30.816Z"
   },
   {
    "duration": 50,
    "start_time": "2023-05-22T12:21:30.912Z"
   },
   {
    "duration": 56,
    "start_time": "2023-05-22T12:21:30.963Z"
   },
   {
    "duration": 91,
    "start_time": "2023-05-22T12:21:31.021Z"
   },
   {
    "duration": 31,
    "start_time": "2023-05-22T12:21:31.114Z"
   },
   {
    "duration": 241,
    "start_time": "2023-05-22T12:21:31.148Z"
   },
   {
    "duration": 71,
    "start_time": "2023-05-22T12:21:31.395Z"
   },
   {
    "duration": 255,
    "start_time": "2023-05-22T12:21:31.467Z"
   },
   {
    "duration": 215,
    "start_time": "2023-05-22T12:21:31.723Z"
   },
   {
    "duration": 251,
    "start_time": "2023-05-22T12:21:31.940Z"
   },
   {
    "duration": 190,
    "start_time": "2023-05-22T12:21:32.203Z"
   },
   {
    "duration": 23,
    "start_time": "2023-05-22T12:21:32.394Z"
   },
   {
    "duration": 200,
    "start_time": "2023-05-22T12:21:32.419Z"
   },
   {
    "duration": 25,
    "start_time": "2023-05-22T12:21:32.621Z"
   },
   {
    "duration": 23,
    "start_time": "2023-05-22T12:21:32.647Z"
   },
   {
    "duration": 34,
    "start_time": "2023-05-22T12:21:32.672Z"
   },
   {
    "duration": 35,
    "start_time": "2023-05-22T12:21:32.708Z"
   },
   {
    "duration": 285,
    "start_time": "2023-05-22T12:21:32.744Z"
   },
   {
    "duration": 367,
    "start_time": "2023-05-22T12:21:33.030Z"
   },
   {
    "duration": 53,
    "start_time": "2023-05-22T12:21:33.399Z"
   },
   {
    "duration": 14,
    "start_time": "2023-05-22T12:21:33.453Z"
   },
   {
    "duration": 17,
    "start_time": "2023-05-22T12:21:33.470Z"
   },
   {
    "duration": 25,
    "start_time": "2023-05-22T12:21:33.488Z"
   },
   {
    "duration": 10,
    "start_time": "2023-05-22T12:21:33.516Z"
   },
   {
    "duration": 52,
    "start_time": "2023-05-22T12:21:33.528Z"
   },
   {
    "duration": 362,
    "start_time": "2023-05-22T12:21:33.581Z"
   },
   {
    "duration": 8,
    "start_time": "2023-05-22T12:31:14.328Z"
   },
   {
    "duration": 112,
    "start_time": "2023-05-22T12:31:36.765Z"
   },
   {
    "duration": 7,
    "start_time": "2023-05-22T12:31:44.229Z"
   }
  ],
  "kernelspec": {
   "display_name": "Python 3 (ipykernel)",
   "language": "python",
   "name": "python3"
  },
  "language_info": {
   "codemirror_mode": {
    "name": "ipython",
    "version": 3
   },
   "file_extension": ".py",
   "mimetype": "text/x-python",
   "name": "python",
   "nbconvert_exporter": "python",
   "pygments_lexer": "ipython3",
   "version": "3.9.16"
  },
  "toc": {
   "base_numbering": "1",
   "nav_menu": {},
   "number_sections": true,
   "sideBar": true,
   "skip_h1_title": true,
   "title_cell": "Contents",
   "title_sidebar": "Contents",
   "toc_cell": true,
   "toc_position": {
    "height": "calc(100% - 180px)",
    "left": "10px",
    "top": "150px",
    "width": "288px"
   },
   "toc_section_display": true,
   "toc_window_display": true
  }
 },
 "nbformat": 4,
 "nbformat_minor": 5
}
