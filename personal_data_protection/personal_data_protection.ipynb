{
 "cells": [
  {
   "cell_type": "markdown",
   "metadata": {
    "toc": true
   },
   "source": [
    "<h1>Содержание<span class=\"tocSkip\"></span></h1>\n",
    "<div class=\"toc\"><ul class=\"toc-item\"><li><span><a href=\"#Загрузка-данных\" data-toc-modified-id=\"Загрузка-данных-1\"><span class=\"toc-item-num\">1&nbsp;&nbsp;</span>Загрузка данных</a></span><ul class=\"toc-item\"><li><span><a href=\"#Ипортируем-библиотеки\" data-toc-modified-id=\"Ипортируем-библиотеки-1.1\"><span class=\"toc-item-num\">1.1&nbsp;&nbsp;</span>Ипортируем библиотеки</a></span></li><li><span><a href=\"#Загружаем-датасет\" data-toc-modified-id=\"Загружаем-датасет-1.2\"><span class=\"toc-item-num\">1.2&nbsp;&nbsp;</span>Загружаем датасет</a></span></li><li><span><a href=\"#Выводим-первые-строки-и-информацию-о-датасете\" data-toc-modified-id=\"Выводим-первые-строки-и-информацию-о-датасете-1.3\"><span class=\"toc-item-num\">1.3&nbsp;&nbsp;</span>Выводим первые строки и информацию о датасете</a></span></li><li><span><a href=\"#Проверка-на-дубликаты\" data-toc-modified-id=\"Проверка-на-дубликаты-1.4\"><span class=\"toc-item-num\">1.4&nbsp;&nbsp;</span>Проверка на дубликаты</a></span></li><li><span><a href=\"#Матрица-корреляций\" data-toc-modified-id=\"Матрица-корреляций-1.5\"><span class=\"toc-item-num\">1.5&nbsp;&nbsp;</span>Матрица корреляций</a></span></li></ul></li><li><span><a href=\"#Умножение-матриц\" data-toc-modified-id=\"Умножение-матриц-2\"><span class=\"toc-item-num\">2&nbsp;&nbsp;</span>Умножение матриц</a></span></li><li><span><a href=\"#Алгоритм-преобразования\" data-toc-modified-id=\"Алгоритм-преобразования-3\"><span class=\"toc-item-num\">3&nbsp;&nbsp;</span>Алгоритм преобразования</a></span></li><li><span><a href=\"#Проверка-алгоритма\" data-toc-modified-id=\"Проверка-алгоритма-4\"><span class=\"toc-item-num\">4&nbsp;&nbsp;</span>Проверка алгоритма</a></span><ul class=\"toc-item\"><li><span><a href=\"#Определим-признаки-и-целевой-признак\" data-toc-modified-id=\"Определим-признаки-и-целевой-признак-4.1\"><span class=\"toc-item-num\">4.1&nbsp;&nbsp;</span>Определим признаки и целевой признак</a></span></li><li><span><a href=\"#Разделим-данные-на-обучающую-и-тестовую-выборки\" data-toc-modified-id=\"Разделим-данные-на-обучающую-и-тестовую-выборки-4.2\"><span class=\"toc-item-num\">4.2&nbsp;&nbsp;</span>Разделим данные на обучающую и тестовую выборки</a></span></li><li><span><a href=\"#Выполним-масштабирование-признаков\" data-toc-modified-id=\"Выполним-масштабирование-признаков-4.3\"><span class=\"toc-item-num\">4.3&nbsp;&nbsp;</span>Выполним масштабирование признаков</a></span></li><li><span><a href=\"#Создадим-случайную-матрицу-нужной-размерности-и-проверим-её-на-обратимость\" data-toc-modified-id=\"Создадим-случайную-матрицу-нужной-размерности-и-проверим-её-на-обратимость-4.4\"><span class=\"toc-item-num\">4.4&nbsp;&nbsp;</span>Создадим случайную матрицу нужной размерности и проверим её на обратимость</a></span></li><li><span><a href=\"#Умножаем-матрицы-признаков-в-обучающей-и-тестовой-выборках-на-случайную-матрицу\" data-toc-modified-id=\"Умножаем-матрицы-признаков-в-обучающей-и-тестовой-выборках-на-случайную-матрицу-4.5\"><span class=\"toc-item-num\">4.5&nbsp;&nbsp;</span>Умножаем матрицы признаков в обучающей и тестовой выборках на случайную матрицу</a></span></li><li><span><a href=\"#Создадим-модель-линейной-регрессии-и-сравним-результаты\" data-toc-modified-id=\"Создадим-модель-линейной-регрессии-и-сравним-результаты-4.6\"><span class=\"toc-item-num\">4.6&nbsp;&nbsp;</span>Создадим модель линейной регрессии и сравним результаты</a></span><ul class=\"toc-item\"><li><span><a href=\"#На-исходных-признаках\" data-toc-modified-id=\"На-исходных-признаках-4.6.1\"><span class=\"toc-item-num\">4.6.1&nbsp;&nbsp;</span>На исходных признаках</a></span></li><li><span><a href=\"#На-модифицированных-признаках\" data-toc-modified-id=\"На-модифицированных-признаках-4.6.2\"><span class=\"toc-item-num\">4.6.2&nbsp;&nbsp;</span>На модифицированных признаках</a></span></li></ul></li></ul></li><li><span><a href=\"#Вывод\" data-toc-modified-id=\"Вывод-5\"><span class=\"toc-item-num\">5&nbsp;&nbsp;</span>Вывод</a></span></li><li><span><a href=\"#Чек-лист-проверки\" data-toc-modified-id=\"Чек-лист-проверки-6\"><span class=\"toc-item-num\">6&nbsp;&nbsp;</span>Чек-лист проверки</a></span></li></ul></div>"
   ]
  },
  {
   "cell_type": "markdown",
   "metadata": {},
   "source": [
    "# Защита персональных данных клиентов"
   ]
  },
  {
   "cell_type": "markdown",
   "metadata": {},
   "source": [
    "Нужно разработать такой метод преобразования данных, чтобы по ним было сложно восстановить персональную информацию. Обоснуйте корректность его работы.\n",
    "\n",
    "Нужно защитить данные, чтобы при преобразовании качество моделей машинного обучения не ухудшилось."
   ]
  },
  {
   "cell_type": "markdown",
   "metadata": {},
   "source": [
    "## Загрузка данных"
   ]
  },
  {
   "cell_type": "markdown",
   "metadata": {},
   "source": [
    "### Импортируем библиотеки"
   ]
  },
  {
   "cell_type": "code",
   "execution_count": 1,
   "metadata": {},
   "outputs": [],
   "source": [
    "import pandas as pd\n",
    "import numpy as np\n",
    "import os\n",
    "import seaborn as sns\n",
    "import matplotlib.pyplot as plt\n",
    "\n",
    "from sklearn.preprocessing import StandardScaler\n",
    "from sklearn.model_selection import train_test_split\n",
    "from sklearn.linear_model import LinearRegression\n",
    "from sklearn.metrics import r2_score"
   ]
  },
  {
   "cell_type": "markdown",
   "metadata": {},
   "source": [
    "### Загружаем датасет"
   ]
  },
  {
   "cell_type": "code",
   "execution_count": 2,
   "metadata": {},
   "outputs": [],
   "source": [
    "path1 = 'insurance.csv'\n",
    "path2 = '/datasets/insurance.csv'\n",
    "\n",
    "def read_file(path1, path2):\n",
    "    if os.path.exists(path1):\n",
    "        df = pd.read_csv(path1)\n",
    "    elif os.path.exists(path2):\n",
    "        df = pd.read_csv(path2)\n",
    "    else:\n",
    "        print('File not found')\n",
    "    return df\n",
    "\n",
    "df = read_file(path1, path2)"
   ]
  },
  {
   "cell_type": "markdown",
   "metadata": {},
   "source": [
    "### Выводим первые строки и информацию о датасете"
   ]
  },
  {
   "cell_type": "code",
   "execution_count": 3,
   "metadata": {},
   "outputs": [
    {
     "name": "stdout",
     "output_type": "stream",
     "text": [
      "<class 'pandas.core.frame.DataFrame'>\n",
      "RangeIndex: 5000 entries, 0 to 4999\n",
      "Data columns (total 5 columns):\n",
      " #   Column             Non-Null Count  Dtype  \n",
      "---  ------             --------------  -----  \n",
      " 0   Пол                5000 non-null   int64  \n",
      " 1   Возраст            5000 non-null   float64\n",
      " 2   Зарплата           5000 non-null   float64\n",
      " 3   Члены семьи        5000 non-null   int64  \n",
      " 4   Страховые выплаты  5000 non-null   int64  \n",
      "dtypes: float64(2), int64(3)\n",
      "memory usage: 195.4 KB\n",
      "None\n"
     ]
    },
    {
     "data": {
      "text/html": [
       "<div>\n",
       "<style scoped>\n",
       "    .dataframe tbody tr th:only-of-type {\n",
       "        vertical-align: middle;\n",
       "    }\n",
       "\n",
       "    .dataframe tbody tr th {\n",
       "        vertical-align: top;\n",
       "    }\n",
       "\n",
       "    .dataframe thead th {\n",
       "        text-align: right;\n",
       "    }\n",
       "</style>\n",
       "<table border=\"1\" class=\"dataframe\">\n",
       "  <thead>\n",
       "    <tr style=\"text-align: right;\">\n",
       "      <th></th>\n",
       "      <th>Пол</th>\n",
       "      <th>Возраст</th>\n",
       "      <th>Зарплата</th>\n",
       "      <th>Члены семьи</th>\n",
       "      <th>Страховые выплаты</th>\n",
       "    </tr>\n",
       "  </thead>\n",
       "  <tbody>\n",
       "    <tr>\n",
       "      <th>0</th>\n",
       "      <td>1</td>\n",
       "      <td>41.0</td>\n",
       "      <td>49600.0</td>\n",
       "      <td>1</td>\n",
       "      <td>0</td>\n",
       "    </tr>\n",
       "    <tr>\n",
       "      <th>1</th>\n",
       "      <td>0</td>\n",
       "      <td>46.0</td>\n",
       "      <td>38000.0</td>\n",
       "      <td>1</td>\n",
       "      <td>1</td>\n",
       "    </tr>\n",
       "    <tr>\n",
       "      <th>2</th>\n",
       "      <td>0</td>\n",
       "      <td>29.0</td>\n",
       "      <td>21000.0</td>\n",
       "      <td>0</td>\n",
       "      <td>0</td>\n",
       "    </tr>\n",
       "    <tr>\n",
       "      <th>3</th>\n",
       "      <td>0</td>\n",
       "      <td>21.0</td>\n",
       "      <td>41700.0</td>\n",
       "      <td>2</td>\n",
       "      <td>0</td>\n",
       "    </tr>\n",
       "    <tr>\n",
       "      <th>4</th>\n",
       "      <td>1</td>\n",
       "      <td>28.0</td>\n",
       "      <td>26100.0</td>\n",
       "      <td>0</td>\n",
       "      <td>0</td>\n",
       "    </tr>\n",
       "  </tbody>\n",
       "</table>\n",
       "</div>"
      ],
      "text/plain": [
       "   Пол  Возраст  Зарплата  Члены семьи  Страховые выплаты\n",
       "0    1     41.0   49600.0            1                  0\n",
       "1    0     46.0   38000.0            1                  1\n",
       "2    0     29.0   21000.0            0                  0\n",
       "3    0     21.0   41700.0            2                  0\n",
       "4    1     28.0   26100.0            0                  0"
      ]
     },
     "metadata": {},
     "output_type": "display_data"
    }
   ],
   "source": [
    "print(df.info())\n",
    "display(df.head())"
   ]
  },
  {
   "cell_type": "markdown",
   "metadata": {},
   "source": [
    "Пропусков нет, проверим на дубликаты."
   ]
  },
  {
   "cell_type": "markdown",
   "metadata": {},
   "source": [
    "### Проверка на дубликаты"
   ]
  },
  {
   "cell_type": "code",
   "execution_count": 4,
   "metadata": {},
   "outputs": [
    {
     "data": {
      "text/html": [
       "<div>\n",
       "<style scoped>\n",
       "    .dataframe tbody tr th:only-of-type {\n",
       "        vertical-align: middle;\n",
       "    }\n",
       "\n",
       "    .dataframe tbody tr th {\n",
       "        vertical-align: top;\n",
       "    }\n",
       "\n",
       "    .dataframe thead th {\n",
       "        text-align: right;\n",
       "    }\n",
       "</style>\n",
       "<table border=\"1\" class=\"dataframe\">\n",
       "  <thead>\n",
       "    <tr style=\"text-align: right;\">\n",
       "      <th></th>\n",
       "      <th>Пол</th>\n",
       "      <th>Возраст</th>\n",
       "      <th>Зарплата</th>\n",
       "      <th>Члены семьи</th>\n",
       "      <th>Страховые выплаты</th>\n",
       "    </tr>\n",
       "  </thead>\n",
       "  <tbody>\n",
       "    <tr>\n",
       "      <th>281</th>\n",
       "      <td>1</td>\n",
       "      <td>39.0</td>\n",
       "      <td>48100.0</td>\n",
       "      <td>1</td>\n",
       "      <td>0</td>\n",
       "    </tr>\n",
       "    <tr>\n",
       "      <th>488</th>\n",
       "      <td>1</td>\n",
       "      <td>24.0</td>\n",
       "      <td>32900.0</td>\n",
       "      <td>1</td>\n",
       "      <td>0</td>\n",
       "    </tr>\n",
       "    <tr>\n",
       "      <th>513</th>\n",
       "      <td>0</td>\n",
       "      <td>31.0</td>\n",
       "      <td>37400.0</td>\n",
       "      <td>2</td>\n",
       "      <td>0</td>\n",
       "    </tr>\n",
       "    <tr>\n",
       "      <th>718</th>\n",
       "      <td>1</td>\n",
       "      <td>22.0</td>\n",
       "      <td>32600.0</td>\n",
       "      <td>1</td>\n",
       "      <td>0</td>\n",
       "    </tr>\n",
       "    <tr>\n",
       "      <th>785</th>\n",
       "      <td>0</td>\n",
       "      <td>20.0</td>\n",
       "      <td>35800.0</td>\n",
       "      <td>0</td>\n",
       "      <td>0</td>\n",
       "    </tr>\n",
       "    <tr>\n",
       "      <th>...</th>\n",
       "      <td>...</td>\n",
       "      <td>...</td>\n",
       "      <td>...</td>\n",
       "      <td>...</td>\n",
       "      <td>...</td>\n",
       "    </tr>\n",
       "    <tr>\n",
       "      <th>4793</th>\n",
       "      <td>1</td>\n",
       "      <td>24.0</td>\n",
       "      <td>37800.0</td>\n",
       "      <td>0</td>\n",
       "      <td>0</td>\n",
       "    </tr>\n",
       "    <tr>\n",
       "      <th>4902</th>\n",
       "      <td>1</td>\n",
       "      <td>35.0</td>\n",
       "      <td>38700.0</td>\n",
       "      <td>1</td>\n",
       "      <td>0</td>\n",
       "    </tr>\n",
       "    <tr>\n",
       "      <th>4935</th>\n",
       "      <td>1</td>\n",
       "      <td>19.0</td>\n",
       "      <td>32700.0</td>\n",
       "      <td>0</td>\n",
       "      <td>0</td>\n",
       "    </tr>\n",
       "    <tr>\n",
       "      <th>4945</th>\n",
       "      <td>1</td>\n",
       "      <td>21.0</td>\n",
       "      <td>45800.0</td>\n",
       "      <td>0</td>\n",
       "      <td>0</td>\n",
       "    </tr>\n",
       "    <tr>\n",
       "      <th>4965</th>\n",
       "      <td>0</td>\n",
       "      <td>22.0</td>\n",
       "      <td>40100.0</td>\n",
       "      <td>1</td>\n",
       "      <td>0</td>\n",
       "    </tr>\n",
       "  </tbody>\n",
       "</table>\n",
       "<p>153 rows × 5 columns</p>\n",
       "</div>"
      ],
      "text/plain": [
       "      Пол  Возраст  Зарплата  Члены семьи  Страховые выплаты\n",
       "281     1     39.0   48100.0            1                  0\n",
       "488     1     24.0   32900.0            1                  0\n",
       "513     0     31.0   37400.0            2                  0\n",
       "718     1     22.0   32600.0            1                  0\n",
       "785     0     20.0   35800.0            0                  0\n",
       "...   ...      ...       ...          ...                ...\n",
       "4793    1     24.0   37800.0            0                  0\n",
       "4902    1     35.0   38700.0            1                  0\n",
       "4935    1     19.0   32700.0            0                  0\n",
       "4945    1     21.0   45800.0            0                  0\n",
       "4965    0     22.0   40100.0            1                  0\n",
       "\n",
       "[153 rows x 5 columns]"
      ]
     },
     "metadata": {},
     "output_type": "display_data"
    }
   ],
   "source": [
    "display(df[df.duplicated()])"
   ]
  },
  {
   "cell_type": "markdown",
   "metadata": {},
   "source": [
    "153 дубликата - около 3% от общего набора данных, можем удалить их."
   ]
  },
  {
   "cell_type": "code",
   "execution_count": 5,
   "metadata": {},
   "outputs": [],
   "source": [
    "df = df.drop_duplicates()\n",
    "df.reset_index(drop=True , inplace=True)"
   ]
  },
  {
   "cell_type": "markdown",
   "metadata": {},
   "source": [
    "### Матрица корреляций\n",
    "\n",
    "Т.к. мы будем работать с линейной регрессией, построим тепловую карту матрицы корреляций, чтобы исключить мультиколлинеарность."
   ]
  },
  {
   "cell_type": "code",
   "execution_count": 6,
   "metadata": {},
   "outputs": [
    {
     "data": {
      "image/png": "[encoded data removed]",
      "text/plain": [
       "<Figure size 432x288 with 2 Axes>"
      ]
     },
     "metadata": {
      "needs_background": "light"
     },
     "output_type": "display_data"
    }
   ],
   "source": [
    "corr = sns.heatmap(df.corr(), annot=True)"
   ]
  },
  {
   "cell_type": "markdown",
   "metadata": {},
   "source": [
    "Все в порядке, дополнительная обработка не требуется. Видим, что возраст довольно сильно коррелирует с целевым признаком - страховыми выплатами. Вероятно, это связано с тем, что зрелые люди более сознательные, и чаще возвращают кредиты."
   ]
  },
  {
   "cell_type": "markdown",
   "metadata": {},
   "source": [
    "## Умножение матриц"
   ]
  },
  {
   "cell_type": "markdown",
   "metadata": {},
   "source": [
    "Обозначения:\n",
    "\n",
    "- $X$ — матрица признаков (нулевой столбец состоит из единиц)\n",
    "\n",
    "- $y$ — вектор целевого признака\n",
    "\n",
    "- $P$ — матрица, на которую умножаются признаки\n",
    "\n",
    "- $w$ — вектор весов линейной регрессии (нулевой элемент равен сдвигу)"
   ]
  },
  {
   "cell_type": "markdown",
   "metadata": {},
   "source": [
    "Предсказания:\n",
    "\n",
    "$$\n",
    "a = Xw\n",
    "$$\n",
    "\n",
    "Задача обучения:\n",
    "\n",
    "$$\n",
    "w = \\arg\\min_w MSE(Xw, y)\n",
    "$$\n",
    "\n",
    "Формула обучения:\n",
    "\n",
    "$$\n",
    "w = (X^T X)^{-1} X^T y\n",
    "$$"
   ]
  },
  {
   "cell_type": "markdown",
   "metadata": {},
   "source": [
    "Необходимо выяснить, изменится ли качество линейной регрессии, если матрицу признаков умножить на обратимую матрицу."
   ]
  },
  {
   "cell_type": "markdown",
   "metadata": {},
   "source": [
    "**Ответ:** Предположим, что качество линейной регрессии не изменится, и попробуем это доказать.\n",
    "\n",
    "**Обоснование:**\n",
    "\n",
    "\n",
    "3) Введем новую матрицу признаков X1, которая равна исходной матрице X, умноженной на обратимую матрицу P:\n",
    "\n",
    "$$\n",
    "X1 = XP\n",
    "$$\n",
    "\n",
    "4) Формула предсказаний для такой матрицы будет иметь вид:\n",
    "\n",
    "$$\n",
    "a1 = X1w1\n",
    "$$\n",
    "\n",
    "$$\n",
    "a1 = XPw1\n",
    "$$\n",
    "\n",
    "4) Тогда формула обучения будет выглядеть следующим образом:\n",
    "\n",
    "$$\n",
    "w1 = ((XP)^T XP)^{-1} (XP)^T y\n",
    "$$\n",
    "\n",
    "5) Раскроем множители в первых скобках: транспонированное произведение матриц равно произведению транспонированных матриц $(AB)^T = B^T A^T$\n",
    "\n",
    "$$\n",
    "w1 = (P^T X^T XP)^{-1} (XP)^T y\n",
    "$$\n",
    "\n",
    "6) По этому же правилу раскроем $(XP)^T$, получим:\n",
    "\n",
    "$$\n",
    "w1 = (P^T X^T XP)^{-1} P^T X^T y\n",
    "$$\n",
    "\n",
    "7) Представим выражение в скобках как произведение от трёх множителей:\n",
    "\n",
    "$$\n",
    "w1 = (P^T (X^T X) P)^{-1} P^T X^T y\n",
    "$$\n",
    "\n",
    "8) Согласно свойству $𝐴(𝐵𝐶)=(𝐴𝐵)𝐶$, получим:\n",
    "\n",
    "$$\n",
    "w1 = ((X^T X) P)^{-1} (P^T)^{-1} P^T X^T y\n",
    "$$\n",
    "\n",
    "9) Произведение обратной матрицы на себя дает единичную матрицу E:\n",
    "\n",
    "$$\n",
    "w1 = ((X^T X) P)^{-1} E X^T y\n",
    "$$\n",
    "\n",
    "$$\n",
    "w1 = ((X^T X) P)^{-1} X^T y\n",
    "$$\n",
    "\n",
    "10) Раскроем скобки:\n",
    "\n",
    "$$\n",
    "w1 = P^{-1} (X^T X)^{-1} X^T y\n",
    "$$\n",
    "\n",
    "11) Мы получили обратную матрицу $P^{-1}$, умноженную на стандартную формулу обучения $w$:\n",
    "\n",
    "$$\n",
    "w = (X^T X)^{-1} X^T y\n",
    "$$\n",
    "\n",
    "$$\n",
    "w1 = P^{-1} w\n",
    "$$\n",
    "\n",
    "12) Подставим это значение в формулу предсказаний:\n",
    "\n",
    "$$\n",
    "a1 = X P w1\n",
    "$$\n",
    "\n",
    "$$\n",
    "a1 = X P P^{-1} w\n",
    "$$\n",
    "\n",
    "13) Произведение квадратной матрицы на обратную, дает единичную матрицу E:\n",
    "\n",
    "$$\n",
    "a1 = X E w\n",
    "$$\n",
    "\n",
    "$$\n",
    "a1 = X w\n",
    "$$\n",
    "\n",
    "$$\n",
    "a1 = a\n",
    "$$\n",
    "\n",
    "Мы получили стандартную формулу предсказаний."
   ]
  },
  {
   "cell_type": "markdown",
   "metadata": {},
   "source": [
    "Таким образом, мы доказали, что предсказания для модифицированной матрицы признаков, равны  предсказаниям для исходной матрицы. Значит, качество модели не изменится."
   ]
  },
  {
   "cell_type": "markdown",
   "metadata": {},
   "source": [
    "## Алгоритм преобразования"
   ]
  },
  {
   "cell_type": "markdown",
   "metadata": {},
   "source": [
    "**Алгоритм**\n",
    "\n",
    "Исходя из предыдущего шага, для защиты персональных данных клиентов, можно предложить следующий алгоритм:\n",
    "\n",
    "1) Создать случайную матрицу, такой же размерности, как матрица признаков;\n",
    "2) Проверить её на обратимость;\n",
    "3) Перемножить матрицы признаков;\n",
    "4) Сравнить метрики на исходных признаках, и на модифицированных;"
   ]
  },
  {
   "cell_type": "markdown",
   "metadata": {},
   "source": [
    "**Обоснование**\n",
    "\n",
    "Согласно формулам из предыдущего пункта, полученные предсказания для модифицированной матрицы признаков, равны предсказаниям для исходной матрицы, значит, качество модели не изменится. Восстановить исходные признаки можно будет умножением на матрицу, обратную нашей случайной."
   ]
  },
  {
   "cell_type": "markdown",
   "metadata": {},
   "source": [
    "## Проверка алгоритма"
   ]
  },
  {
   "cell_type": "markdown",
   "metadata": {},
   "source": [
    "### Определим признаки и целевой признак"
   ]
  },
  {
   "cell_type": "code",
   "execution_count": 7,
   "metadata": {},
   "outputs": [],
   "source": [
    "features = df.drop('Страховые выплаты', axis=1)\n",
    "target = df['Страховые выплаты']"
   ]
  },
  {
   "cell_type": "markdown",
   "metadata": {},
   "source": [
    "### Разделим данные на обучающую и тестовую выборки"
   ]
  },
  {
   "cell_type": "code",
   "execution_count": 8,
   "metadata": {},
   "outputs": [
    {
     "name": "stdout",
     "output_type": "stream",
     "text": [
      "(3877, 4)\n",
      "(3877,)\n",
      "(970, 4)\n",
      "(970,)\n"
     ]
    }
   ],
   "source": [
    "features_train, features_test, target_train, target_test = train_test_split(\n",
    "    features, target, train_size=0.8, random_state=12345)\n",
    "\n",
    "print(features_train.shape)\n",
    "print(target_train.shape)\n",
    "print(features_test.shape)\n",
    "print(target_test.shape)"
   ]
  },
  {
   "cell_type": "markdown",
   "metadata": {},
   "source": [
    "### Выполним масштабирование признаков"
   ]
  },
  {
   "cell_type": "code",
   "execution_count": 9,
   "metadata": {},
   "outputs": [],
   "source": [
    "scaler = StandardScaler()\n",
    "scaler.fit(features_train)\n",
    "\n",
    "features_train = scaler.transform(features_train)\n",
    "features_test = scaler.transform(features_test)"
   ]
  },
  {
   "cell_type": "markdown",
   "metadata": {},
   "source": [
    "### Создадим случайную матрицу нужной размерности и проверим её на обратимость"
   ]
  },
  {
   "cell_type": "code",
   "execution_count": 10,
   "metadata": {},
   "outputs": [],
   "source": [
    "random_matrix = np.random.randint (0, 100, (features_train.shape[1], features_train.shape[1]))\n",
    "inv = np.linalg.inv(random_matrix)"
   ]
  },
  {
   "cell_type": "markdown",
   "metadata": {},
   "source": [
    "### Умножаем матрицы признаков в обучающей и тестовой выборках на случайную матрицу"
   ]
  },
  {
   "cell_type": "code",
   "execution_count": 11,
   "metadata": {},
   "outputs": [],
   "source": [
    "features_train_mod = features_train.dot(random_matrix)\n",
    "features_test_mod = features_test.dot(random_matrix)"
   ]
  },
  {
   "cell_type": "markdown",
   "metadata": {},
   "source": [
    "### Создадим модель линейной регрессии и сравним результаты\n",
    "\n",
    "#### На исходных признаках"
   ]
  },
  {
   "cell_type": "code",
   "execution_count": 12,
   "metadata": {},
   "outputs": [
    {
     "name": "stdout",
     "output_type": "stream",
     "text": [
      "R2 на исходных признаках: 0.4160549216151216\n"
     ]
    }
   ],
   "source": [
    "model = LinearRegression()\n",
    "\n",
    "model.fit(features_train, target_train)\n",
    "predictions = model.predict(features_test)\n",
    "r2_score_base = r2_score(target_test, predictions)\n",
    "print('R2 на исходных признаках:', r2_score_base)"
   ]
  },
  {
   "cell_type": "markdown",
   "metadata": {},
   "source": [
    "#### На модифицированных признаках"
   ]
  },
  {
   "cell_type": "code",
   "execution_count": 13,
   "metadata": {},
   "outputs": [
    {
     "name": "stdout",
     "output_type": "stream",
     "text": [
      "R2 на модифицированных признаках: 0.4160549216151217\n"
     ]
    }
   ],
   "source": [
    "model.fit(features_train_mod, target_train)\n",
    "predictions_mod = model.predict(features_test_mod)\n",
    "r2_score_mod = r2_score(target_test, predictions_mod)\n",
    "print('R2 на модифицированных признаках:', r2_score_mod)"
   ]
  },
  {
   "cell_type": "markdown",
   "metadata": {},
   "source": [
    "Значения метрик одинаковые, качество модели не изменилось.\n",
    "\n",
    "В дальнейшем, для восстановления исходных признаков, нужно умножить матрицу модифицированных признаков на матрицу, обратную случайной."
   ]
  },
  {
   "cell_type": "code",
   "execution_count": 14,
   "metadata": {},
   "outputs": [
    {
     "name": "stdout",
     "output_type": "stream",
     "text": [
      "[[-0.98948014 -0.3545612  -1.02538555 -1.11240251]\n",
      " [-0.98948014 -0.59008485  1.72277547 -0.19867697]\n",
      " [ 1.0106317   0.82305704  0.1838053  -0.19867697]\n",
      " ...\n",
      " [ 1.0106317  -1.29665579 -1.09533874 -0.19867697]\n",
      " [ 1.0106317   0.23424792 -0.10600077 -0.19867697]\n",
      " [-0.98948014  1.17634251  0.74343081  0.71504856]]\n",
      "\n",
      "[[-0.98948014 -0.3545612  -1.02538555 -1.11240251]\n",
      " [-0.98948014 -0.59008485  1.72277547 -0.19867697]\n",
      " [ 1.0106317   0.82305704  0.1838053  -0.19867697]\n",
      " ...\n",
      " [ 1.0106317  -1.29665579 -1.09533874 -0.19867697]\n",
      " [ 1.0106317   0.23424792 -0.10600077 -0.19867697]\n",
      " [-0.98948014  1.17634251  0.74343081  0.71504856]]\n"
     ]
    }
   ],
   "source": [
    "# сравнение\n",
    "print(features_train_mod.dot(inv))\n",
    "print()\n",
    "print(features_train)"
   ]
  },
  {
   "cell_type": "markdown",
   "metadata": {},
   "source": [
    "Исходные признаки получилось восстановить, алгоритм доказал свою работоспособность."
   ]
  },
  {
   "cell_type": "markdown",
   "metadata": {},
   "source": [
    "## Вывод\n",
    "\n",
    "Мы изучили данные клиентов страховой компании «Хоть потоп». Требовалось провести теоретический анализ, и предложить такой алгоритм защиты, который не ухудшит качество модели линейной регрессии.\n",
    "\n",
    "На этапе **загрузки данных** мы подготовили данные, проверили и избавились от дубликатов в датасете, проанализировали матрицу корреляций признаков.\n",
    "\n",
    "В **теоретической части** мы, исходя из известных формул для предсказаний и весов, доказали, что если матрицу признаков умножить на обратимую матрицу, то предсказания не изменятся, а значит и качество модели останется прежним.\n",
    "\n",
    "На следующем этапе, мы, основываясь на наших выводах, предложили **алгоритм преобразования** для защиты данных пользователей. Для этого матрица признаков умножается на случайную обратимую матрицу.\n",
    "\n",
    "В итоге, на этапе **проверки алгоритма**, мы обучили модель на исходных и модифицированных признаках и сравнили результаты. Показатели метрик совпали, качество модели не ухудшилось.\n",
    "\n",
    "Исходные признаки можно восстановить, умножив матрицу модифицированных признаков на матрицу, обратную случайной, таким образом, мы доказали работоспособность предложенного алгоритма."
   ]
  }
 ],
 "metadata": {
  "ExecuteTimeLog": [
   {
    "duration": 2337,
    "start_time": "2023-07-11T21:37:51.645Z"
   },
   {
    "duration": 165,
    "start_time": "2023-07-11T21:37:53.984Z"
   },
   {
    "duration": 38,
    "start_time": "2023-07-11T21:37:54.151Z"
   },
   {
    "duration": 5,
    "start_time": "2023-07-11T21:38:00.945Z"
   },
   {
    "duration": 2695,
    "start_time": "2023-07-13T10:15:45.150Z"
   },
   {
    "duration": 141,
    "start_time": "2023-07-13T10:15:47.847Z"
   },
   {
    "duration": 37,
    "start_time": "2023-07-13T10:15:47.990Z"
   },
   {
    "duration": 38,
    "start_time": "2023-07-13T10:15:48.031Z"
   },
   {
    "duration": 7,
    "start_time": "2023-07-13T10:15:48.071Z"
   },
   {
    "duration": 433,
    "start_time": "2023-07-13T10:15:48.079Z"
   },
   {
    "duration": 5,
    "start_time": "2023-07-13T10:15:48.520Z"
   },
   {
    "duration": 14,
    "start_time": "2023-07-13T10:15:48.527Z"
   },
   {
    "duration": 15,
    "start_time": "2023-07-13T10:15:48.543Z"
   },
   {
    "duration": 45,
    "start_time": "2023-07-13T10:15:48.560Z"
   },
   {
    "duration": 7,
    "start_time": "2023-07-13T10:15:48.612Z"
   },
   {
    "duration": 91,
    "start_time": "2023-07-13T10:15:48.622Z"
   },
   {
    "duration": 19,
    "start_time": "2023-07-13T10:15:48.716Z"
   },
   {
    "duration": 8,
    "start_time": "2023-07-13T10:15:48.737Z"
   },
   {
    "duration": 6,
    "start_time": "2023-07-13T10:16:24.825Z"
   },
   {
    "duration": 10,
    "start_time": "2023-07-13T10:16:45.414Z"
   }
  ],
  "kernelspec": {
   "display_name": "Python 3 (ipykernel)",
   "language": "python",
   "name": "python3"
  },
  "language_info": {
   "codemirror_mode": {
    "name": "ipython",
    "version": 3
   },
   "file_extension": ".py",
   "mimetype": "text/x-python",
   "name": "python",
   "nbconvert_exporter": "python",
   "pygments_lexer": "ipython3",
   "version": "3.9.16"
  },
  "toc": {
   "base_numbering": 1,
   "nav_menu": {},
   "number_sections": true,
   "sideBar": true,
   "skip_h1_title": true,
   "title_cell": "Содержание",
   "title_sidebar": "Contents",
   "toc_cell": true,
   "toc_position": {},
   "toc_section_display": true,
   "toc_window_display": false
  }
 },
 "nbformat": 4,
 "nbformat_minor": 4
}
