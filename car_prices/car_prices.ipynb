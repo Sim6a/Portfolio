{
 "cells": [
  {
   "cell_type": "markdown",
   "metadata": {
    "toc": true
   },
   "source": [
    "<h1>Table of Contents<span class=\"tocSkip\"></span></h1>\n",
    "<div class=\"toc\"><ul class=\"toc-item\"><li><span><a href=\"#Подготовка-данных\" data-toc-modified-id=\"Подготовка-данных-1\"><span class=\"toc-item-num\">1&nbsp;&nbsp;</span>Подготовка данных</a></span><ul class=\"toc-item\"><li><span><a href=\"#Импортируем-библиотеки\" data-toc-modified-id=\"Импортируем-библиотеки-1.1\"><span class=\"toc-item-num\">1.1&nbsp;&nbsp;</span>Импортируем библиотеки</a></span></li><li><span><a href=\"#Загружаем-датасет\" data-toc-modified-id=\"Загружаем-датасет-1.2\"><span class=\"toc-item-num\">1.2&nbsp;&nbsp;</span>Загружаем датасет</a></span></li><li><span><a href=\"#Проверка-на-дубликаты\" data-toc-modified-id=\"Проверка-на-дубликаты-1.3\"><span class=\"toc-item-num\">1.3&nbsp;&nbsp;</span>Проверка на дубликаты</a></span></li></ul></li><li><span><a href=\"#Анализ-данных\" data-toc-modified-id=\"Анализ-данных-2\"><span class=\"toc-item-num\">2&nbsp;&nbsp;</span>Анализ данных</a></span><ul class=\"toc-item\"><li><span><a href=\"#Цена\" data-toc-modified-id=\"Цена-2.1\"><span class=\"toc-item-num\">2.1&nbsp;&nbsp;</span>Цена</a></span></li><li><span><a href=\"#Тип-кузова\" data-toc-modified-id=\"Тип-кузова-2.2\"><span class=\"toc-item-num\">2.2&nbsp;&nbsp;</span>Тип кузова</a></span></li><li><span><a href=\"#Год-регистрации\" data-toc-modified-id=\"Год-регистрации-2.3\"><span class=\"toc-item-num\">2.3&nbsp;&nbsp;</span>Год регистрации</a></span></li><li><span><a href=\"#Тип-КПП\" data-toc-modified-id=\"Тип-КПП-2.4\"><span class=\"toc-item-num\">2.4&nbsp;&nbsp;</span>Тип КПП</a></span></li><li><span><a href=\"#Мощность\" data-toc-modified-id=\"Мощность-2.5\"><span class=\"toc-item-num\">2.5&nbsp;&nbsp;</span>Мощность</a></span></li><li><span><a href=\"#Модель\" data-toc-modified-id=\"Модель-2.6\"><span class=\"toc-item-num\">2.6&nbsp;&nbsp;</span>Модель</a></span></li><li><span><a href=\"#Пробег\" data-toc-modified-id=\"Пробег-2.7\"><span class=\"toc-item-num\">2.7&nbsp;&nbsp;</span>Пробег</a></span></li><li><span><a href=\"#Тип-топлива\" data-toc-modified-id=\"Тип-топлива-2.8\"><span class=\"toc-item-num\">2.8&nbsp;&nbsp;</span>Тип топлива</a></span></li><li><span><a href=\"#Марка-автомобиля\" data-toc-modified-id=\"Марка-автомобиля-2.9\"><span class=\"toc-item-num\">2.9&nbsp;&nbsp;</span>Марка автомобиля</a></span></li><li><span><a href=\"#Была-машина-в-ремонте,-или-нет\" data-toc-modified-id=\"Была-машина-в-ремонте,-или-нет-2.10\"><span class=\"toc-item-num\">2.10&nbsp;&nbsp;</span>Была машина в ремонте, или нет</a></span></li><li><span><a href=\"#Промежуточный-вывод\" data-toc-modified-id=\"Промежуточный-вывод-2.11\"><span class=\"toc-item-num\">2.11&nbsp;&nbsp;</span>Промежуточный вывод</a></span></li></ul></li><li><span><a href=\"#Обучение-моделей\" data-toc-modified-id=\"Обучение-моделей-3\"><span class=\"toc-item-num\">3&nbsp;&nbsp;</span>Обучение моделей</a></span><ul class=\"toc-item\"><li><span><a href=\"#Подготовка-данных\" data-toc-modified-id=\"Подготовка-данных-3.1\"><span class=\"toc-item-num\">3.1&nbsp;&nbsp;</span>Подготовка данных</a></span></li><li><span><a href=\"#Разделим-данные-на-обучающую-и-тестовую-выборки-в-соотношении-70/30\" data-toc-modified-id=\"Разделим-данные-на-обучающую-и-тестовую-выборки-в-соотношении-70/30-3.2\"><span class=\"toc-item-num\">3.2&nbsp;&nbsp;</span>Разделим данные на обучающую и тестовую выборки в соотношении 70/30</a></span></li><li><span><a href=\"#Выполним-кодирование-оставшихся-категориальных-признаков\" data-toc-modified-id=\"Выполним-кодирование-оставшихся-категориальных-признаков-3.3\"><span class=\"toc-item-num\">3.3&nbsp;&nbsp;</span>Выполним кодирование оставшихся категориальных признаков</a></span></li><li><span><a href=\"#Выполним-масштабирование-признаков\" data-toc-modified-id=\"Выполним-масштабирование-признаков-3.4\"><span class=\"toc-item-num\">3.4&nbsp;&nbsp;</span>Выполним масштабирование признаков</a></span></li><li><span><a href=\"#Метрика\" data-toc-modified-id=\"Метрика-3.5\"><span class=\"toc-item-num\">3.5&nbsp;&nbsp;</span>Метрика</a></span></li><li><span><a href=\"#Обучение\" data-toc-modified-id=\"Обучение-3.6\"><span class=\"toc-item-num\">3.6&nbsp;&nbsp;</span>Обучение</a></span><ul class=\"toc-item\"><li><span><a href=\"#Linear-Regression\" data-toc-modified-id=\"Linear-Regression-3.6.1\"><span class=\"toc-item-num\">3.6.1&nbsp;&nbsp;</span>Linear Regression</a></span></li><li><span><a href=\"#Decision-Tree\" data-toc-modified-id=\"Decision-Tree-3.6.2\"><span class=\"toc-item-num\">3.6.2&nbsp;&nbsp;</span>Decision Tree</a></span></li><li><span><a href=\"#LightGBM\" data-toc-modified-id=\"LightGBM-3.6.3\"><span class=\"toc-item-num\">3.6.3&nbsp;&nbsp;</span>LightGBM</a></span></li><li><span><a href=\"#CatBoost-Regressor\" data-toc-modified-id=\"CatBoost-Regressor-3.6.4\"><span class=\"toc-item-num\">3.6.4&nbsp;&nbsp;</span>CatBoost Regressor</a></span></li><li><span><a href=\"#Промежуточный-вывод\" data-toc-modified-id=\"Промежуточный-вывод-3.6.5\"><span class=\"toc-item-num\">3.6.5&nbsp;&nbsp;</span>Промежуточный вывод</a></span></li></ul></li></ul></li><li><span><a href=\"#Анализ-моделей\" data-toc-modified-id=\"Анализ-моделей-4\"><span class=\"toc-item-num\">4&nbsp;&nbsp;</span>Анализ моделей</a></span><ul class=\"toc-item\"><li><span><a href=\"#Тестирование\" data-toc-modified-id=\"Тестирование-4.1\"><span class=\"toc-item-num\">4.1&nbsp;&nbsp;</span>Тестирование</a></span></li></ul></li><li><span><a href=\"#Вывод\" data-toc-modified-id=\"Вывод-5\"><span class=\"toc-item-num\">5&nbsp;&nbsp;</span>Вывод</a></span></li><li><span><a href=\"#Чек-лист-проверки\" data-toc-modified-id=\"Чек-лист-проверки-6\"><span class=\"toc-item-num\">6&nbsp;&nbsp;</span>Чек-лист проверки</a></span></li></ul></div>"
   ]
  },
  {
   "cell_type": "markdown",
   "metadata": {},
   "source": [
    "# Определение стоимости автомобилей"
   ]
  },
  {
   "cell_type": "markdown",
   "metadata": {},
   "source": [
    "Сервис по продаже автомобилей с пробегом разрабатывает приложение для привлечения новых клиентов. В нём можно быстро узнать рыночную стоимость своего автомобиля. В нашем распоряжении исторические данные: технические характеристики, комплектации и цены автомобилей. Нужно построить модель для определения стоимости. \n",
    "\n",
    "Заказчику важны:\n",
    "\n",
    "- качество предсказания;\n",
    "- скорость предсказания;\n",
    "- время обучения."
   ]
  },
  {
   "cell_type": "markdown",
   "metadata": {},
   "source": [
    "Признаки:\n",
    "\n",
    "- DateCrawled — дата скачивания анкеты из базы\n",
    "- VehicleType — тип автомобильного кузова\n",
    "- RegistrationYear — год регистрации автомобиля\n",
    "- Gearbox — тип коробки передач\n",
    "- Power — мощность (л. с.)\n",
    "- Model — модель автомобиля\n",
    "- Kilometer — пробег (км)\n",
    "- RegistrationMonth — месяц регистрации автомобиля\n",
    "- FuelType — тип топлива\n",
    "- Brand — марка автомобиля\n",
    "- Repaired — была машина в ремонте или нет\n",
    "- DateCreated — дата создания анкеты\n",
    "- NumberOfPictures — количество фотографий автомобиля\n",
    "- PostalCode — почтовый индекс владельца анкеты (пользователя)\n",
    "- LastSeen — дата последней активности пользователя\n"
   ]
  },
  {
   "cell_type": "markdown",
   "metadata": {},
   "source": [
    "## Подготовка данных"
   ]
  },
  {
   "cell_type": "markdown",
   "metadata": {},
   "source": [
    "### Импортируем библиотеки"
   ]
  },
  {
   "cell_type": "code",
   "execution_count": 1,
   "metadata": {},
   "outputs": [],
   "source": [
    "import pandas as pd\n",
    "import numpy as np\n",
    "import os\n",
    "import seaborn as sns\n",
    "import matplotlib.pyplot as plt\n",
    "\n",
    "from sklearn.preprocessing import StandardScaler, OneHotEncoder, OrdinalEncoder\n",
    "from sklearn.model_selection import train_test_split, GridSearchCV\n",
    "\n",
    "from sklearn.linear_model import LinearRegression, SGDRegressor\n",
    "from sklearn.tree import DecisionTreeRegressor\n",
    "from sklearn.ensemble import RandomForestRegressor\n",
    "from catboost import CatBoostRegressor\n",
    "from lightgbm import LGBMRegressor\n",
    "from sklearn.dummy import DummyRegressor\n",
    "from sklearn.metrics import mean_squared_error, make_scorer\n",
    "\n",
    "from category_encoders.m_estimate import MEstimateEncoder\n",
    "\n",
    "import warnings\n",
    "\n",
    "warnings.filterwarnings('ignore')\n",
    "state = np.random.RandomState(12345)"
   ]
  },
  {
   "cell_type": "markdown",
   "metadata": {},
   "source": [
    "### Загружаем датасет"
   ]
  },
  {
   "cell_type": "code",
   "execution_count": 2,
   "metadata": {},
   "outputs": [],
   "source": [
    "path1 = 'autos.csv'\n",
    "path2 = '/datasets/autos.csv'\n",
    "\n",
    "def read_file(path1, path2):\n",
    "    if os.path.exists(path1):\n",
    "        df = pd.read_csv(path1, parse_dates = ['DateCrawled', 'LastSeen', 'DateCreated'])\n",
    "    elif os.path.exists(path2):\n",
    "        df = pd.read_csv(path2, parse_dates = ['DateCrawled', 'LastSeen', 'DateCreated'])\n",
    "    else:\n",
    "        print('File not found')\n",
    "    return df\n",
    "\n",
    "df = read_file(path1, path2)\n",
    "SIZE = df.shape[0]"
   ]
  },
  {
   "cell_type": "code",
   "execution_count": 3,
   "metadata": {},
   "outputs": [
    {
     "data": {
      "text/html": [
       "<div>\n",
       "<style scoped>\n",
       "    .dataframe tbody tr th:only-of-type {\n",
       "        vertical-align: middle;\n",
       "    }\n",
       "\n",
       "    .dataframe tbody tr th {\n",
       "        vertical-align: top;\n",
       "    }\n",
       "\n",
       "    .dataframe thead th {\n",
       "        text-align: right;\n",
       "    }\n",
       "</style>\n",
       "<table border=\"1\" class=\"dataframe\">\n",
       "  <thead>\n",
       "    <tr style=\"text-align: right;\">\n",
       "      <th></th>\n",
       "      <th>DateCrawled</th>\n",
       "      <th>Price</th>\n",
       "      <th>VehicleType</th>\n",
       "      <th>RegistrationYear</th>\n",
       "      <th>Gearbox</th>\n",
       "      <th>Power</th>\n",
       "      <th>Model</th>\n",
       "      <th>Kilometer</th>\n",
       "      <th>RegistrationMonth</th>\n",
       "      <th>FuelType</th>\n",
       "      <th>Brand</th>\n",
       "      <th>Repaired</th>\n",
       "      <th>DateCreated</th>\n",
       "      <th>NumberOfPictures</th>\n",
       "      <th>PostalCode</th>\n",
       "      <th>LastSeen</th>\n",
       "    </tr>\n",
       "  </thead>\n",
       "  <tbody>\n",
       "    <tr>\n",
       "      <th>0</th>\n",
       "      <td>2016-03-24 11:52:17</td>\n",
       "      <td>480</td>\n",
       "      <td>NaN</td>\n",
       "      <td>1993</td>\n",
       "      <td>manual</td>\n",
       "      <td>0</td>\n",
       "      <td>golf</td>\n",
       "      <td>150000</td>\n",
       "      <td>0</td>\n",
       "      <td>petrol</td>\n",
       "      <td>volkswagen</td>\n",
       "      <td>NaN</td>\n",
       "      <td>2016-03-24</td>\n",
       "      <td>0</td>\n",
       "      <td>70435</td>\n",
       "      <td>2016-04-07 03:16:57</td>\n",
       "    </tr>\n",
       "    <tr>\n",
       "      <th>1</th>\n",
       "      <td>2016-03-24 10:58:45</td>\n",
       "      <td>18300</td>\n",
       "      <td>coupe</td>\n",
       "      <td>2011</td>\n",
       "      <td>manual</td>\n",
       "      <td>190</td>\n",
       "      <td>NaN</td>\n",
       "      <td>125000</td>\n",
       "      <td>5</td>\n",
       "      <td>gasoline</td>\n",
       "      <td>audi</td>\n",
       "      <td>yes</td>\n",
       "      <td>2016-03-24</td>\n",
       "      <td>0</td>\n",
       "      <td>66954</td>\n",
       "      <td>2016-04-07 01:46:50</td>\n",
       "    </tr>\n",
       "    <tr>\n",
       "      <th>2</th>\n",
       "      <td>2016-03-14 12:52:21</td>\n",
       "      <td>9800</td>\n",
       "      <td>suv</td>\n",
       "      <td>2004</td>\n",
       "      <td>auto</td>\n",
       "      <td>163</td>\n",
       "      <td>grand</td>\n",
       "      <td>125000</td>\n",
       "      <td>8</td>\n",
       "      <td>gasoline</td>\n",
       "      <td>jeep</td>\n",
       "      <td>NaN</td>\n",
       "      <td>2016-03-14</td>\n",
       "      <td>0</td>\n",
       "      <td>90480</td>\n",
       "      <td>2016-04-05 12:47:46</td>\n",
       "    </tr>\n",
       "    <tr>\n",
       "      <th>3</th>\n",
       "      <td>2016-03-17 16:54:04</td>\n",
       "      <td>1500</td>\n",
       "      <td>small</td>\n",
       "      <td>2001</td>\n",
       "      <td>manual</td>\n",
       "      <td>75</td>\n",
       "      <td>golf</td>\n",
       "      <td>150000</td>\n",
       "      <td>6</td>\n",
       "      <td>petrol</td>\n",
       "      <td>volkswagen</td>\n",
       "      <td>no</td>\n",
       "      <td>2016-03-17</td>\n",
       "      <td>0</td>\n",
       "      <td>91074</td>\n",
       "      <td>2016-03-17 17:40:17</td>\n",
       "    </tr>\n",
       "    <tr>\n",
       "      <th>4</th>\n",
       "      <td>2016-03-31 17:25:20</td>\n",
       "      <td>3600</td>\n",
       "      <td>small</td>\n",
       "      <td>2008</td>\n",
       "      <td>manual</td>\n",
       "      <td>69</td>\n",
       "      <td>fabia</td>\n",
       "      <td>90000</td>\n",
       "      <td>7</td>\n",
       "      <td>gasoline</td>\n",
       "      <td>skoda</td>\n",
       "      <td>no</td>\n",
       "      <td>2016-03-31</td>\n",
       "      <td>0</td>\n",
       "      <td>60437</td>\n",
       "      <td>2016-04-06 10:17:21</td>\n",
       "    </tr>\n",
       "  </tbody>\n",
       "</table>\n",
       "</div>"
      ],
      "text/plain": [
       "          DateCrawled  Price VehicleType  RegistrationYear Gearbox  Power  \\\n",
       "0 2016-03-24 11:52:17    480         NaN              1993  manual      0   \n",
       "1 2016-03-24 10:58:45  18300       coupe              2011  manual    190   \n",
       "2 2016-03-14 12:52:21   9800         suv              2004    auto    163   \n",
       "3 2016-03-17 16:54:04   1500       small              2001  manual     75   \n",
       "4 2016-03-31 17:25:20   3600       small              2008  manual     69   \n",
       "\n",
       "   Model  Kilometer  RegistrationMonth  FuelType       Brand Repaired  \\\n",
       "0   golf     150000                  0    petrol  volkswagen      NaN   \n",
       "1    NaN     125000                  5  gasoline        audi      yes   \n",
       "2  grand     125000                  8  gasoline        jeep      NaN   \n",
       "3   golf     150000                  6    petrol  volkswagen       no   \n",
       "4  fabia      90000                  7  gasoline       skoda       no   \n",
       "\n",
       "  DateCreated  NumberOfPictures  PostalCode            LastSeen  \n",
       "0  2016-03-24                 0       70435 2016-04-07 03:16:57  \n",
       "1  2016-03-24                 0       66954 2016-04-07 01:46:50  \n",
       "2  2016-03-14                 0       90480 2016-04-05 12:47:46  \n",
       "3  2016-03-17                 0       91074 2016-03-17 17:40:17  \n",
       "4  2016-03-31                 0       60437 2016-04-06 10:17:21  "
      ]
     },
     "metadata": {},
     "output_type": "display_data"
    },
    {
     "name": "stdout",
     "output_type": "stream",
     "text": [
      "<class 'pandas.core.frame.DataFrame'>\n",
      "RangeIndex: 354369 entries, 0 to 354368\n",
      "Data columns (total 16 columns):\n",
      " #   Column              Non-Null Count   Dtype         \n",
      "---  ------              --------------   -----         \n",
      " 0   date_crawled        354369 non-null  datetime64[ns]\n",
      " 1   price               354369 non-null  int64         \n",
      " 2   vehicle_type        316879 non-null  object        \n",
      " 3   registration_year   354369 non-null  int64         \n",
      " 4   gearbox             334536 non-null  object        \n",
      " 5   power               354369 non-null  int64         \n",
      " 6   model               334664 non-null  object        \n",
      " 7   kilometer           354369 non-null  int64         \n",
      " 8   registration_month  354369 non-null  int64         \n",
      " 9   fuel_type           321474 non-null  object        \n",
      " 10  brand               354369 non-null  object        \n",
      " 11  repaired            283215 non-null  object        \n",
      " 12  date_created        354369 non-null  datetime64[ns]\n",
      " 13  number_of_pictures  354369 non-null  int64         \n",
      " 14  postal_code         354369 non-null  int64         \n",
      " 15  last_seen           354369 non-null  datetime64[ns]\n",
      "dtypes: datetime64[ns](3), int64(7), object(6)\n",
      "memory usage: 43.3+ MB\n"
     ]
    },
    {
     "data": {
      "text/plain": [
       "None"
      ]
     },
     "metadata": {},
     "output_type": "display_data"
    }
   ],
   "source": [
    "display(df.head())\n",
    "df.columns = ['date_crawled', 'price', 'vehicle_type', 'registration_year', 'gearbox',\n",
    "       'power', 'model', 'kilometer', 'registration_month', 'fuel_type', 'brand',\n",
    "       'repaired', 'date_created', 'number_of_pictures', 'postal_code',\n",
    "       'last_seen']\n",
    "display(df.info())"
   ]
  },
  {
   "cell_type": "markdown",
   "metadata": {},
   "source": [
    "### Проверка на дубликаты\n",
    "\n",
    "Удалим полные дубликаты."
   ]
  },
  {
   "cell_type": "code",
   "execution_count": 4,
   "metadata": {},
   "outputs": [
    {
     "name": "stdout",
     "output_type": "stream",
     "text": [
      "4\n"
     ]
    }
   ],
   "source": [
    "print(df.duplicated().sum())"
   ]
  },
  {
   "cell_type": "code",
   "execution_count": 5,
   "metadata": {},
   "outputs": [],
   "source": [
    "df = df.drop_duplicates()"
   ]
  },
  {
   "cell_type": "markdown",
   "metadata": {},
   "source": [
    "Удалим признаки, которые нам не пригодятся для обучения моделей:\n",
    "\n",
    "Данные базы:\n",
    "- DateCrawled — дата скачивания анкеты из базы;\n",
    "- NumberOfPictures — количество фотографий автомобиля;\n",
    "\n",
    "Данные авто:\n",
    "- RegistrationMonth — месяц регистрации автомобиля (нам важен только год);\n",
    "\n",
    "Данные пользователя:\n",
    "- PostalCode — почтовый индекс владельца анкеты (пользователя);\n",
    "- DateCreated — дата создания анкеты;\n",
    "- LastSeen — дата последней активности пользователя;"
   ]
  },
  {
   "cell_type": "code",
   "execution_count": 6,
   "metadata": {},
   "outputs": [
    {
     "name": "stdout",
     "output_type": "stream",
     "text": [
      "<class 'pandas.core.frame.DataFrame'>\n",
      "Int64Index: 354365 entries, 0 to 354368\n",
      "Data columns (total 10 columns):\n",
      " #   Column             Non-Null Count   Dtype \n",
      "---  ------             --------------   ----- \n",
      " 0   price              354365 non-null  int64 \n",
      " 1   vehicle_type       316875 non-null  object\n",
      " 2   registration_year  354365 non-null  int64 \n",
      " 3   gearbox            334532 non-null  object\n",
      " 4   power              354365 non-null  int64 \n",
      " 5   model              334660 non-null  object\n",
      " 6   kilometer          354365 non-null  int64 \n",
      " 7   fuel_type          321470 non-null  object\n",
      " 8   brand              354365 non-null  object\n",
      " 9   repaired           283211 non-null  object\n",
      "dtypes: int64(4), object(6)\n",
      "memory usage: 29.7+ MB\n"
     ]
    }
   ],
   "source": [
    "df = df.drop(['date_crawled', 'number_of_pictures', 'postal_code', 'last_seen',\\\n",
    "              'date_created', 'registration_month'], axis = 1)\n",
    "df.info()"
   ]
  },
  {
   "cell_type": "markdown",
   "metadata": {},
   "source": [
    "## Анализ данных\n",
    "\n",
    "Изучим столбцы датасета"
   ]
  },
  {
   "cell_type": "code",
   "execution_count": 7,
   "metadata": {},
   "outputs": [],
   "source": [
    "# функция для вывода инфы по колонкам\n",
    "def inf(col):\n",
    "    print(col.describe())\n",
    "    print()\n",
    "    print(col.value_counts())\n",
    "    print()\n",
    "    print(col.isna().sum())\n",
    "    print()\n",
    "    print(col.unique())"
   ]
  },
  {
   "cell_type": "markdown",
   "metadata": {},
   "source": [
    "### Цена"
   ]
  },
  {
   "cell_type": "code",
   "execution_count": 8,
   "metadata": {},
   "outputs": [
    {
     "name": "stdout",
     "output_type": "stream",
     "text": [
      "count    354365.000000\n",
      "mean       4416.679830\n",
      "std        4514.176349\n",
      "min           0.000000\n",
      "25%        1050.000000\n",
      "50%        2700.000000\n",
      "75%        6400.000000\n",
      "max       20000.000000\n",
      "Name: price, dtype: float64\n",
      "\n",
      "0        10772\n",
      "500       5670\n",
      "1500      5394\n",
      "1000      4648\n",
      "1200      4594\n",
      "         ...  \n",
      "13180        1\n",
      "10879        1\n",
      "2683         1\n",
      "634          1\n",
      "8188         1\n",
      "Name: price, Length: 3731, dtype: int64\n",
      "\n",
      "0\n",
      "\n",
      "[  480 18300  9800 ... 12395 18429 10985]\n"
     ]
    }
   ],
   "source": [
    "inf(df['price'])"
   ]
  },
  {
   "cell_type": "code",
   "execution_count": 9,
   "metadata": {},
   "outputs": [
    {
     "data": {
      "image/png": "[encoded data removed]",
      "text/plain": [
       "<Figure size 640x480 with 1 Axes>"
      ]
     },
     "metadata": {},
     "output_type": "display_data"
    }
   ],
   "source": [
    "plt.hist(df['price'], bins=50);"
   ]
  },
  {
   "cell_type": "markdown",
   "metadata": {},
   "source": [
    "Видим, что присутствуют нулевые значения. Мы не можем допустить такого в целевом признаке, удалим их."
   ]
  },
  {
   "cell_type": "code",
   "execution_count": 10,
   "metadata": {},
   "outputs": [],
   "source": [
    "df = df[df['price'] > 100]"
   ]
  },
  {
   "cell_type": "markdown",
   "metadata": {},
   "source": [
    "### Тип кузова"
   ]
  },
  {
   "cell_type": "code",
   "execution_count": 11,
   "metadata": {},
   "outputs": [
    {
     "name": "stdout",
     "output_type": "stream",
     "text": [
      "count     307769\n",
      "unique         8\n",
      "top        sedan\n",
      "freq       88965\n",
      "Name: vehicle_type, dtype: object\n",
      "\n",
      "sedan          88965\n",
      "small          77028\n",
      "wagon          63383\n",
      "bus            28256\n",
      "convertible    19807\n",
      "coupe          15532\n",
      "suv            11758\n",
      "other           3040\n",
      "Name: vehicle_type, dtype: int64\n",
      "\n",
      "32251\n",
      "\n",
      "[nan 'coupe' 'suv' 'small' 'sedan' 'convertible' 'bus' 'wagon' 'other']\n"
     ]
    }
   ],
   "source": [
    "inf(df['vehicle_type'])"
   ]
  },
  {
   "cell_type": "markdown",
   "metadata": {},
   "source": [
    "Присутствует много пропусков. У нас нет данных, чтобы заполнить их значениями. Заменим пропуски на other."
   ]
  },
  {
   "cell_type": "code",
   "execution_count": 12,
   "metadata": {},
   "outputs": [],
   "source": [
    "df['vehicle_type'].fillna(value='other', inplace=True)"
   ]
  },
  {
   "cell_type": "markdown",
   "metadata": {},
   "source": [
    "### Год регистрации"
   ]
  },
  {
   "cell_type": "code",
   "execution_count": 13,
   "metadata": {},
   "outputs": [
    {
     "name": "stdout",
     "output_type": "stream",
     "text": [
      "count    340020.000000\n",
      "mean       2003.976810\n",
      "std          69.885585\n",
      "min        1000.000000\n",
      "25%        1999.000000\n",
      "50%        2003.000000\n",
      "75%        2008.000000\n",
      "max        9999.000000\n",
      "Name: registration_year, dtype: float64\n",
      "\n",
      "2000    22496\n",
      "1999    21779\n",
      "2005    21341\n",
      "2006    19639\n",
      "2001    19549\n",
      "        ...  \n",
      "1946        1\n",
      "1949        1\n",
      "5300        1\n",
      "8888        1\n",
      "2290        1\n",
      "Name: registration_year, Length: 136, dtype: int64\n",
      "\n",
      "0\n",
      "\n",
      "[1993 2011 2004 2001 2008 1995 2014 1998 2005 1910 2016 2007 2009 2002\n",
      " 2018 1997 1990 2017 1981 2003 1994 1991 1984 2006 1999 2012 2010 2000\n",
      " 1992 2013 1996 1985 1989 2015 1982 1976 1983 1973 1969 1971 1987 1986\n",
      " 1988 1980 1970 1965 1945 1925 1974 1979 1955 1978 1972 1968 1977 1961\n",
      " 1966 1975 1963 1964 1960 1958 1967 1956 3200 1000 1941 9999 8888 1500\n",
      " 2200 4100 1962 1929 1957 1940 3000 2066 1949 2019 1937 1951 1800 1959\n",
      " 1953 1954 1234 5300 9000 2900 6000 5900 5911 1400 5000 1950 4000 1948\n",
      " 1952 8500 1932 3700 3800 4800 1942 7000 1935 1933 1936 1923 2290 1930\n",
      " 1001 9450 1944 2500 1943 1938 1934 1928 5555 5600 1600 1111 1039 1300\n",
      " 2800 1931 4500 1602 7800 1947 1927 7100 8200 1946]\n"
     ]
    }
   ],
   "source": [
    "inf(df['registration_year'])"
   ]
  },
  {
   "cell_type": "markdown",
   "metadata": {},
   "source": [
    "Пропусков нет, но присутствую аномальные значения. Удалим данные с датой регистрации раньше 1925 и старше 2023."
   ]
  },
  {
   "cell_type": "code",
   "execution_count": 14,
   "metadata": {},
   "outputs": [],
   "source": [
    "df = df[(df['registration_year'] > 1925) & (df['registration_year'] < 2016)]"
   ]
  },
  {
   "cell_type": "markdown",
   "metadata": {},
   "source": [
    "### Тип КПП"
   ]
  },
  {
   "cell_type": "code",
   "execution_count": 15,
   "metadata": {},
   "outputs": [
    {
     "name": "stdout",
     "output_type": "stream",
     "text": [
      "count     304334\n",
      "unique         2\n",
      "top       manual\n",
      "freq      242497\n",
      "Name: gearbox, dtype: object\n",
      "\n",
      "manual    242497\n",
      "auto       61837\n",
      "Name: gearbox, dtype: int64\n",
      "\n",
      "13172\n",
      "\n",
      "['manual' 'auto' nan]\n"
     ]
    }
   ],
   "source": [
    "inf(df['gearbox'])"
   ]
  },
  {
   "cell_type": "markdown",
   "metadata": {},
   "source": [
    "Присутствуют пропуски, но заполнить их нечем. Заменим неизвестные значения на unknown."
   ]
  },
  {
   "cell_type": "code",
   "execution_count": 16,
   "metadata": {},
   "outputs": [],
   "source": [
    "df['gearbox'].fillna(value='unknown', inplace=True)"
   ]
  },
  {
   "cell_type": "markdown",
   "metadata": {},
   "source": [
    "### Мощность"
   ]
  },
  {
   "cell_type": "code",
   "execution_count": 17,
   "metadata": {},
   "outputs": [
    {
     "name": "stdout",
     "output_type": "stream",
     "text": [
      "count    317506.000000\n",
      "mean        113.434785\n",
      "std         182.394605\n",
      "min           0.000000\n",
      "25%          75.000000\n",
      "50%         105.000000\n",
      "75%         143.000000\n",
      "max       20000.000000\n",
      "Name: power, dtype: float64\n",
      "\n",
      "6006        1\n",
      "1548        1\n",
      "2009        1\n",
      "1005        1\n",
      "1241        1\n",
      "        ...  \n",
      "140     12139\n",
      "150     13482\n",
      "60      14008\n",
      "75      21062\n",
      "0       28692\n",
      "Name: power, Length: 668, dtype: int64\n"
     ]
    },
    {
     "data": {
      "image/png": "[encoded data removed]",
      "text/plain": [
       "<Figure size 1000x600 with 1 Axes>"
      ]
     },
     "metadata": {},
     "output_type": "display_data"
    }
   ],
   "source": [
    "print(df['power'].describe())\n",
    "print()\n",
    "print(df['power'].value_counts().sort_values())\n",
    "\n",
    "plt.figure(figsize=(10, 6))\n",
    "plt.boxplot(df['power']);"
   ]
  },
  {
   "cell_type": "markdown",
   "metadata": {},
   "source": [
    "Присутсвтуют аномальные значения. Удалим позиции, со значением power больше 1500 (мощность Bugatti Chiron) и менее 10 л.с."
   ]
  },
  {
   "cell_type": "code",
   "execution_count": 18,
   "metadata": {},
   "outputs": [],
   "source": [
    "df = df[(df['power'] < 1500) & (df['power'] > 10)]"
   ]
  },
  {
   "cell_type": "markdown",
   "metadata": {},
   "source": [
    "### Модель"
   ]
  },
  {
   "cell_type": "code",
   "execution_count": 19,
   "metadata": {},
   "outputs": [
    {
     "name": "stdout",
     "output_type": "stream",
     "text": [
      "count     278352\n",
      "unique       249\n",
      "top         golf\n",
      "freq       23752\n",
      "Name: model, dtype: object\n",
      "\n",
      "golf                  23752\n",
      "other                 20066\n",
      "3er                   17109\n",
      "polo                  10249\n",
      "corsa                  9664\n",
      "                      ...  \n",
      "serie_2                   5\n",
      "i3                        5\n",
      "serie_3                   3\n",
      "range_rover_evoque        2\n",
      "rangerover                2\n",
      "Name: model, Length: 249, dtype: int64\n",
      "\n",
      "10094\n",
      "\n",
      "[nan 'grand' 'golf' 'fabia' '3er' '2_reihe' 'c_max' '3_reihe' 'passat'\n",
      " 'navara' 'twingo' 'a_klasse' 'scirocco' '5er' 'arosa' 'other' 'civic'\n",
      " 'transporter' 'punto' 'e_klasse' 'kadett' 'one' 'fortwo' 'clio' '1er'\n",
      " 'b_klasse' 'a8' 'jetta' 'fiesta' 'c_klasse' 'micra' 'vito' 'sprinter'\n",
      " '156' 'escort' 'forester' 'xc_reihe' 'scenic' 'ka' 'a1' 'focus' 'a4' 'tt'\n",
      " 'astra' 'a6' 'jazz' 'omega' 'polo' 'slk' '7er' 'combo' 'corsa' '80' '147'\n",
      " 'z_reihe' 'sorento' 'ibiza' 'mustang' 'eos' 'touran' 'getz' 'insignia'\n",
      " 'megane' 'a3' 'lupo' 'r19' 'caddy' 'mondeo' 'cordoba' 'colt' 'impreza'\n",
      " 'vectra' 'berlingo' 'tiguan' '6_reihe' 'c4' 'panda' 'up' 'i_reihe' 'ceed'\n",
      " 'kangoo' '5_reihe' 'yeti' 'octavia' 'zafira' 'mii' 'rx_reihe' '6er' 'fox'\n",
      " 'matiz' 'beetle' 'rio' 'touareg' 'logan' 'spider' 'cuore' 's_max' 'modus'\n",
      " 'a2' 'galaxy' 'c3' 'viano' 's_klasse' '1_reihe' 'sharan' 'avensis'\n",
      " 'roomster' 'sl' 'kaefer' 'santa' 'leon' 'cooper' '4_reihe' 'a5'\n",
      " 'sportage' 'laguna' 'ptcruiser' 'clk' 'primera' 'espace' 'exeo' '159'\n",
      " 'transit' 'juke' 'x_reihe' 'v40' 'carisma' 'accord' 'corolla' 'lanos'\n",
      " 'phaeton' 'verso' 'swift' 'rav' 'qashqai' 'picanto' 'boxster' 'superb'\n",
      " 'stilo' 'alhambra' 'roadster' 'ypsilon' 'galant' 'justy' '90' 'sirion'\n",
      " 'signum' 'crossfire' 'agila' 'duster' 'v50' 'mx_reihe' '500' 'meriva'\n",
      " 'c_reihe' 'v_klasse' 'm_klasse' 'yaris' 'c5' 'aygo' 'almera' 'seicento'\n",
      " 'cc' 'fusion' '911' 'bora' 'forfour' 'cl' 'tigra' '300c' '100' 'cr_reihe'\n",
      " 'spark' 'kuga' 'x_type' 'ducato' 's_type' 'x_trail' 'toledo' 'altea'\n",
      " 'voyager' 'calibra' 'carnival' 'v70' 'bravo' 'tucson' 'c1' 'citigo'\n",
      " 'jimny' 'cayenne' 'wrangler' 'lybra' 'lancer' 'captiva' 'discovery'\n",
      " 'freelander' 'sandero' 'q7' 'note' 'antara' '900' 'cherokee' 'clubman'\n",
      " 'defender' 'cx_reihe' 'legacy' 'pajero' 'c2' 'niva' 's60' 'm_reihe'\n",
      " 'nubira' 'vivaro' 'g_klasse' 'auris' 'lodgy' 'range_rover' '601' '850'\n",
      " 'q3' 'serie_2' 'glk' 'charade' 'croma' 'outlander' 'doblo' 'musa' '9000'\n",
      " 'kalos' 'v60' '200' '145' 'b_max' 'range_rover_sport' 'aveo' 'move'\n",
      " 'rangerover' 'q5' 'range_rover_evoque' 'materia' 'delta' 'terios' 'gl'\n",
      " 'kalina' 'elefantino' 'i3' 'samara' 'amarok' 'kappa' 'serie_3']\n"
     ]
    }
   ],
   "source": [
    "inf(df['model'])"
   ]
  },
  {
   "cell_type": "markdown",
   "metadata": {},
   "source": [
    "Присутствуют пропуски, заменим их на other."
   ]
  },
  {
   "cell_type": "code",
   "execution_count": 20,
   "metadata": {},
   "outputs": [],
   "source": [
    "df['model'].fillna(value='other', inplace=True)"
   ]
  },
  {
   "cell_type": "markdown",
   "metadata": {},
   "source": [
    "### Пробег"
   ]
  },
  {
   "cell_type": "code",
   "execution_count": 21,
   "metadata": {},
   "outputs": [
    {
     "name": "stdout",
     "output_type": "stream",
     "text": [
      "count    288446.000000\n",
      "mean     128165.167830\n",
      "std       36723.300851\n",
      "min        5000.000000\n",
      "25%      125000.000000\n",
      "50%      150000.000000\n",
      "75%      150000.000000\n",
      "max      150000.000000\n",
      "Name: kilometer, dtype: float64\n",
      "\n",
      "150000    190478\n",
      "125000     31206\n",
      "100000     12615\n",
      "90000      10152\n",
      "80000       8912\n",
      "70000       7729\n",
      "60000       6770\n",
      "50000       5616\n",
      "40000       4465\n",
      "30000       3856\n",
      "20000       3202\n",
      "5000        2532\n",
      "10000        913\n",
      "Name: kilometer, dtype: int64\n",
      "\n",
      "0\n",
      "\n",
      "[125000 150000  90000  30000  70000 100000  60000   5000  20000  80000\n",
      "  50000  40000  10000]\n"
     ]
    }
   ],
   "source": [
    "inf(df['kilometer'])"
   ]
  },
  {
   "cell_type": "markdown",
   "metadata": {},
   "source": [
    "Тут все в порядке. Очевидно, при занесении, можно было указать лишь примерный пробег."
   ]
  },
  {
   "cell_type": "markdown",
   "metadata": {},
   "source": [
    "### Тип топлива"
   ]
  },
  {
   "cell_type": "code",
   "execution_count": 22,
   "metadata": {},
   "outputs": [
    {
     "name": "stdout",
     "output_type": "stream",
     "text": [
      "count     275779\n",
      "unique         7\n",
      "top       petrol\n",
      "freq      183545\n",
      "Name: fuel_type, dtype: object\n",
      "\n",
      "petrol      183545\n",
      "gasoline     86797\n",
      "lpg           4620\n",
      "cng            474\n",
      "hybrid         197\n",
      "other           85\n",
      "electric        61\n",
      "Name: fuel_type, dtype: int64\n",
      "\n",
      "12667\n",
      "\n",
      "['gasoline' 'petrol' nan 'lpg' 'other' 'hybrid' 'cng' 'electric']\n"
     ]
    }
   ],
   "source": [
    "inf(df['fuel_type'])"
   ]
  },
  {
   "cell_type": "markdown",
   "metadata": {},
   "source": [
    "Petrol и gasoline - разные обозначения для бензина (petrol - в Британии и Индии, gasoline - в США). Выполним замену. Пропуски заменим на other."
   ]
  },
  {
   "cell_type": "code",
   "execution_count": 23,
   "metadata": {},
   "outputs": [],
   "source": [
    "df['fuel_type'] = df['fuel_type'].replace('petrol', 'gasoline')\n",
    "df['fuel_type'].fillna(value='other', inplace=True)"
   ]
  },
  {
   "cell_type": "markdown",
   "metadata": {},
   "source": [
    "### Марка автомобиля"
   ]
  },
  {
   "cell_type": "code",
   "execution_count": 24,
   "metadata": {},
   "outputs": [
    {
     "name": "stdout",
     "output_type": "stream",
     "text": [
      "count         288446\n",
      "unique            40\n",
      "top       volkswagen\n",
      "freq           62005\n",
      "Name: brand, dtype: object\n",
      "\n",
      "volkswagen        62005\n",
      "bmw               31755\n",
      "opel              31282\n",
      "mercedes_benz     26908\n",
      "audi              25134\n",
      "ford              19998\n",
      "renault           13444\n",
      "peugeot            9171\n",
      "fiat               7410\n",
      "seat               5670\n",
      "skoda              4874\n",
      "mazda              4596\n",
      "smart              4409\n",
      "citroen            4146\n",
      "toyota             3956\n",
      "nissan             3948\n",
      "hyundai            3057\n",
      "mini               2934\n",
      "volvo              2780\n",
      "mitsubishi         2412\n",
      "honda              2301\n",
      "kia                2048\n",
      "alfa_romeo         1925\n",
      "suzuki             1902\n",
      "sonstige_autos     1675\n",
      "chevrolet          1444\n",
      "chrysler           1144\n",
      "dacia               788\n",
      "subaru              627\n",
      "porsche             620\n",
      "daihatsu            591\n",
      "jeep                573\n",
      "saab                469\n",
      "land_rover          463\n",
      "jaguar              436\n",
      "daewoo              393\n",
      "lancia              369\n",
      "rover               348\n",
      "trabant             286\n",
      "lada                155\n",
      "Name: brand, dtype: int64\n",
      "\n",
      "0\n",
      "\n",
      "['audi' 'jeep' 'volkswagen' 'skoda' 'bmw' 'peugeot' 'ford' 'mazda'\n",
      " 'nissan' 'renault' 'mercedes_benz' 'seat' 'honda' 'fiat' 'opel' 'mini'\n",
      " 'smart' 'alfa_romeo' 'subaru' 'volvo' 'mitsubishi' 'kia' 'hyundai'\n",
      " 'suzuki' 'lancia' 'citroen' 'toyota' 'chevrolet' 'dacia' 'daihatsu'\n",
      " 'chrysler' 'sonstige_autos' 'jaguar' 'daewoo' 'rover' 'porsche' 'saab'\n",
      " 'trabant' 'land_rover' 'lada']\n"
     ]
    }
   ],
   "source": [
    "inf(df['brand'])"
   ]
  },
  {
   "cell_type": "markdown",
   "metadata": {},
   "source": [
    "Все в порядке."
   ]
  },
  {
   "cell_type": "markdown",
   "metadata": {},
   "source": [
    "### Была машина в ремонте, или нет"
   ]
  },
  {
   "cell_type": "code",
   "execution_count": 25,
   "metadata": {},
   "outputs": [
    {
     "name": "stdout",
     "output_type": "stream",
     "text": [
      "count     248777\n",
      "unique         2\n",
      "top           no\n",
      "freq      221320\n",
      "Name: repaired, dtype: object\n",
      "\n",
      "no     221320\n",
      "yes     27457\n",
      "Name: repaired, dtype: int64\n",
      "\n",
      "39669\n",
      "\n",
      "['yes' nan 'no']\n"
     ]
    }
   ],
   "source": [
    "inf(df['repaired'])"
   ]
  },
  {
   "cell_type": "markdown",
   "metadata": {},
   "source": [
    "Пропусков в этом столбце очень много. И в то же время он является крайне важным, при определении стоимости. Придется пожервовать частью данных."
   ]
  },
  {
   "cell_type": "code",
   "execution_count": 26,
   "metadata": {},
   "outputs": [],
   "source": [
    "df = df.dropna(subset=['repaired'])"
   ]
  },
  {
   "cell_type": "markdown",
   "metadata": {},
   "source": [
    "### Промежуточный вывод"
   ]
  },
  {
   "cell_type": "code",
   "execution_count": 27,
   "metadata": {},
   "outputs": [
    {
     "name": "stdout",
     "output_type": "stream",
     "text": [
      "<class 'pandas.core.frame.DataFrame'>\n",
      "RangeIndex: 248777 entries, 0 to 248776\n",
      "Data columns (total 10 columns):\n",
      " #   Column             Non-Null Count   Dtype \n",
      "---  ------             --------------   ----- \n",
      " 0   price              248777 non-null  int64 \n",
      " 1   vehicle_type       248777 non-null  object\n",
      " 2   registration_year  248777 non-null  int64 \n",
      " 3   gearbox            248777 non-null  object\n",
      " 4   power              248777 non-null  int64 \n",
      " 5   model              248777 non-null  object\n",
      " 6   kilometer          248777 non-null  int64 \n",
      " 7   fuel_type          248777 non-null  object\n",
      " 8   brand              248777 non-null  object\n",
      " 9   repaired           248777 non-null  object\n",
      "dtypes: int64(4), object(6)\n",
      "memory usage: 19.0+ MB\n"
     ]
    }
   ],
   "source": [
    "df.reset_index(drop=True, inplace=True)\n",
    "df.info()"
   ]
  },
  {
   "cell_type": "code",
   "execution_count": 28,
   "metadata": {},
   "outputs": [
    {
     "name": "stdout",
     "output_type": "stream",
     "text": [
      "36319\n"
     ]
    }
   ],
   "source": [
    "print(df.duplicated().sum())\n",
    "df = df.drop_duplicates()"
   ]
  },
  {
   "cell_type": "markdown",
   "metadata": {},
   "source": [
    "Мы изучили данные и подготовили их для дальнейшей работы:\n",
    "- удалили дубликаты;\n",
    "- заполнили часть пропусков;\n",
    "- исключили аномальные значения;\n",
    "- некоторой частью данных пришлось пожертвовать, т.к. было много пропусков в столбце repaired, который является одним из ключевых при ценообразовании (все хотят не битый автомобиль);\n",
    "\n",
    "В итоге у нас осталось 212 тысяч строк и 10 столбцов, с которыми будем работать на этапе обучения моделей."
   ]
  },
  {
   "cell_type": "code",
   "execution_count": 29,
   "metadata": {},
   "outputs": [
    {
     "name": "stdout",
     "output_type": "stream",
     "text": [
      "После предобработки удалено 40.04611012814326  % датасета\n"
     ]
    }
   ],
   "source": [
    "print('После предобработки удалено', 100 * (SIZE - df.shape[0]) / SIZE, ' % датасета')"
   ]
  },
  {
   "cell_type": "markdown",
   "metadata": {},
   "source": [
    "Большой частью данных пришлось пожертвовать - пришлось удалить пропуски в одном из ключевых столбцов, и большое количество выбросов."
   ]
  },
  {
   "cell_type": "markdown",
   "metadata": {},
   "source": [
    "## Обучение моделей"
   ]
  },
  {
   "cell_type": "markdown",
   "metadata": {},
   "source": [
    "### Подготовка данных\n",
    "\n",
    "Выполним кодирование категориальных признаков, определим признаки и целевой признак."
   ]
  },
  {
   "cell_type": "code",
   "execution_count": 30,
   "metadata": {},
   "outputs": [],
   "source": [
    "#OHE\n",
    "\n",
    "ohe_list = ['vehicle_type', 'gearbox', 'fuel_type', 'repaired']\n",
    "df_ohe = pd.get_dummies(df, columns=ohe_list, drop_first=True)"
   ]
  },
  {
   "cell_type": "code",
   "execution_count": 31,
   "metadata": {},
   "outputs": [],
   "source": [
    "features = df_ohe.drop('price', axis = 1)\n",
    "target = df_ohe['price']"
   ]
  },
  {
   "cell_type": "markdown",
   "metadata": {},
   "source": [
    "### Разделим данные на обучающую и тестовую выборки в соотношении 70/30"
   ]
  },
  {
   "cell_type": "code",
   "execution_count": 32,
   "metadata": {},
   "outputs": [
    {
     "name": "stdout",
     "output_type": "stream",
     "text": [
      "train: (148720, 20) (148720,)\n",
      "test: (63738, 20) (63738,)\n"
     ]
    }
   ],
   "source": [
    "features_train, features_test, target_train, target_test = train_test_split(\n",
    "    features, target, test_size=0.3, random_state=state)\n",
    "\n",
    "print('train:', features_train.shape, target_train.shape)\n",
    "print('test:', features_test.shape, target_test.shape)"
   ]
  },
  {
   "cell_type": "markdown",
   "metadata": {},
   "source": [
    "### Выполним кодирование оставшихся категориальных признаков"
   ]
  },
  {
   "cell_type": "code",
   "execution_count": 33,
   "metadata": {},
   "outputs": [],
   "source": [
    "me_list = ['brand', 'model']\n",
    "me_encoder = MEstimateEncoder()\n",
    "features_train[me_list] = me_encoder.fit_transform(features_train[me_list], target_train)\n",
    "features_test[me_list] = me_encoder.transform(features_test[me_list])"
   ]
  },
  {
   "cell_type": "code",
   "execution_count": 34,
   "metadata": {},
   "outputs": [
    {
     "data": {
      "text/html": [
       "<div>\n",
       "<style scoped>\n",
       "    .dataframe tbody tr th:only-of-type {\n",
       "        vertical-align: middle;\n",
       "    }\n",
       "\n",
       "    .dataframe tbody tr th {\n",
       "        vertical-align: top;\n",
       "    }\n",
       "\n",
       "    .dataframe thead th {\n",
       "        text-align: right;\n",
       "    }\n",
       "</style>\n",
       "<table border=\"1\" class=\"dataframe\">\n",
       "  <thead>\n",
       "    <tr style=\"text-align: right;\">\n",
       "      <th></th>\n",
       "      <th>registration_year</th>\n",
       "      <th>power</th>\n",
       "      <th>model</th>\n",
       "      <th>kilometer</th>\n",
       "      <th>brand</th>\n",
       "      <th>vehicle_type_convertible</th>\n",
       "      <th>vehicle_type_coupe</th>\n",
       "      <th>vehicle_type_other</th>\n",
       "      <th>vehicle_type_sedan</th>\n",
       "      <th>vehicle_type_small</th>\n",
       "      <th>vehicle_type_suv</th>\n",
       "      <th>vehicle_type_wagon</th>\n",
       "      <th>gearbox_manual</th>\n",
       "      <th>gearbox_unknown</th>\n",
       "      <th>fuel_type_electric</th>\n",
       "      <th>fuel_type_gasoline</th>\n",
       "      <th>fuel_type_hybrid</th>\n",
       "      <th>fuel_type_lpg</th>\n",
       "      <th>fuel_type_other</th>\n",
       "      <th>repaired_yes</th>\n",
       "    </tr>\n",
       "  </thead>\n",
       "  <tbody>\n",
       "    <tr>\n",
       "      <th>58199</th>\n",
       "      <td>2009</td>\n",
       "      <td>160</td>\n",
       "      <td>7199.726043</td>\n",
       "      <td>80000</td>\n",
       "      <td>7290.124159</td>\n",
       "      <td>1</td>\n",
       "      <td>0</td>\n",
       "      <td>0</td>\n",
       "      <td>0</td>\n",
       "      <td>0</td>\n",
       "      <td>0</td>\n",
       "      <td>0</td>\n",
       "      <td>1</td>\n",
       "      <td>0</td>\n",
       "      <td>0</td>\n",
       "      <td>0</td>\n",
       "      <td>0</td>\n",
       "      <td>0</td>\n",
       "      <td>1</td>\n",
       "      <td>0</td>\n",
       "    </tr>\n",
       "    <tr>\n",
       "      <th>57605</th>\n",
       "      <td>1996</td>\n",
       "      <td>90</td>\n",
       "      <td>2625.456942</td>\n",
       "      <td>150000</td>\n",
       "      <td>3490.582735</td>\n",
       "      <td>0</td>\n",
       "      <td>0</td>\n",
       "      <td>0</td>\n",
       "      <td>0</td>\n",
       "      <td>1</td>\n",
       "      <td>0</td>\n",
       "      <td>0</td>\n",
       "      <td>1</td>\n",
       "      <td>0</td>\n",
       "      <td>0</td>\n",
       "      <td>1</td>\n",
       "      <td>0</td>\n",
       "      <td>0</td>\n",
       "      <td>0</td>\n",
       "      <td>0</td>\n",
       "    </tr>\n",
       "    <tr>\n",
       "      <th>170192</th>\n",
       "      <td>2000</td>\n",
       "      <td>163</td>\n",
       "      <td>6103.071193</td>\n",
       "      <td>150000</td>\n",
       "      <td>6559.273543</td>\n",
       "      <td>0</td>\n",
       "      <td>0</td>\n",
       "      <td>0</td>\n",
       "      <td>0</td>\n",
       "      <td>0</td>\n",
       "      <td>0</td>\n",
       "      <td>1</td>\n",
       "      <td>0</td>\n",
       "      <td>0</td>\n",
       "      <td>0</td>\n",
       "      <td>1</td>\n",
       "      <td>0</td>\n",
       "      <td>0</td>\n",
       "      <td>0</td>\n",
       "      <td>0</td>\n",
       "    </tr>\n",
       "    <tr>\n",
       "      <th>217611</th>\n",
       "      <td>2005</td>\n",
       "      <td>65</td>\n",
       "      <td>3663.841931</td>\n",
       "      <td>80000</td>\n",
       "      <td>5588.212258</td>\n",
       "      <td>0</td>\n",
       "      <td>0</td>\n",
       "      <td>0</td>\n",
       "      <td>0</td>\n",
       "      <td>1</td>\n",
       "      <td>0</td>\n",
       "      <td>0</td>\n",
       "      <td>1</td>\n",
       "      <td>0</td>\n",
       "      <td>0</td>\n",
       "      <td>1</td>\n",
       "      <td>0</td>\n",
       "      <td>0</td>\n",
       "      <td>0</td>\n",
       "      <td>0</td>\n",
       "    </tr>\n",
       "    <tr>\n",
       "      <th>229163</th>\n",
       "      <td>1999</td>\n",
       "      <td>82</td>\n",
       "      <td>3963.702115</td>\n",
       "      <td>150000</td>\n",
       "      <td>6559.273543</td>\n",
       "      <td>0</td>\n",
       "      <td>0</td>\n",
       "      <td>0</td>\n",
       "      <td>1</td>\n",
       "      <td>0</td>\n",
       "      <td>0</td>\n",
       "      <td>0</td>\n",
       "      <td>1</td>\n",
       "      <td>0</td>\n",
       "      <td>0</td>\n",
       "      <td>1</td>\n",
       "      <td>0</td>\n",
       "      <td>0</td>\n",
       "      <td>0</td>\n",
       "      <td>0</td>\n",
       "    </tr>\n",
       "    <tr>\n",
       "      <th>...</th>\n",
       "      <td>...</td>\n",
       "      <td>...</td>\n",
       "      <td>...</td>\n",
       "      <td>...</td>\n",
       "      <td>...</td>\n",
       "      <td>...</td>\n",
       "      <td>...</td>\n",
       "      <td>...</td>\n",
       "      <td>...</td>\n",
       "      <td>...</td>\n",
       "      <td>...</td>\n",
       "      <td>...</td>\n",
       "      <td>...</td>\n",
       "      <td>...</td>\n",
       "      <td>...</td>\n",
       "      <td>...</td>\n",
       "      <td>...</td>\n",
       "      <td>...</td>\n",
       "      <td>...</td>\n",
       "      <td>...</td>\n",
       "    </tr>\n",
       "    <tr>\n",
       "      <th>120134</th>\n",
       "      <td>2001</td>\n",
       "      <td>136</td>\n",
       "      <td>5815.035561</td>\n",
       "      <td>150000</td>\n",
       "      <td>7114.770455</td>\n",
       "      <td>0</td>\n",
       "      <td>0</td>\n",
       "      <td>0</td>\n",
       "      <td>1</td>\n",
       "      <td>0</td>\n",
       "      <td>0</td>\n",
       "      <td>0</td>\n",
       "      <td>1</td>\n",
       "      <td>0</td>\n",
       "      <td>0</td>\n",
       "      <td>1</td>\n",
       "      <td>0</td>\n",
       "      <td>0</td>\n",
       "      <td>0</td>\n",
       "      <td>0</td>\n",
       "    </tr>\n",
       "    <tr>\n",
       "      <th>91699</th>\n",
       "      <td>2005</td>\n",
       "      <td>101</td>\n",
       "      <td>3735.815601</td>\n",
       "      <td>150000</td>\n",
       "      <td>3490.582735</td>\n",
       "      <td>0</td>\n",
       "      <td>0</td>\n",
       "      <td>0</td>\n",
       "      <td>1</td>\n",
       "      <td>0</td>\n",
       "      <td>0</td>\n",
       "      <td>0</td>\n",
       "      <td>1</td>\n",
       "      <td>0</td>\n",
       "      <td>0</td>\n",
       "      <td>1</td>\n",
       "      <td>0</td>\n",
       "      <td>0</td>\n",
       "      <td>0</td>\n",
       "      <td>0</td>\n",
       "    </tr>\n",
       "    <tr>\n",
       "      <th>147936</th>\n",
       "      <td>2007</td>\n",
       "      <td>109</td>\n",
       "      <td>10189.047960</td>\n",
       "      <td>80000</td>\n",
       "      <td>9441.376036</td>\n",
       "      <td>0</td>\n",
       "      <td>0</td>\n",
       "      <td>0</td>\n",
       "      <td>0</td>\n",
       "      <td>1</td>\n",
       "      <td>0</td>\n",
       "      <td>0</td>\n",
       "      <td>0</td>\n",
       "      <td>0</td>\n",
       "      <td>0</td>\n",
       "      <td>1</td>\n",
       "      <td>0</td>\n",
       "      <td>0</td>\n",
       "      <td>0</td>\n",
       "      <td>0</td>\n",
       "    </tr>\n",
       "    <tr>\n",
       "      <th>144391</th>\n",
       "      <td>2007</td>\n",
       "      <td>92</td>\n",
       "      <td>4637.504909</td>\n",
       "      <td>80000</td>\n",
       "      <td>4373.086410</td>\n",
       "      <td>0</td>\n",
       "      <td>0</td>\n",
       "      <td>0</td>\n",
       "      <td>0</td>\n",
       "      <td>1</td>\n",
       "      <td>0</td>\n",
       "      <td>0</td>\n",
       "      <td>1</td>\n",
       "      <td>0</td>\n",
       "      <td>0</td>\n",
       "      <td>1</td>\n",
       "      <td>0</td>\n",
       "      <td>0</td>\n",
       "      <td>0</td>\n",
       "      <td>0</td>\n",
       "    </tr>\n",
       "    <tr>\n",
       "      <th>82513</th>\n",
       "      <td>2008</td>\n",
       "      <td>90</td>\n",
       "      <td>2625.456942</td>\n",
       "      <td>80000</td>\n",
       "      <td>3490.582735</td>\n",
       "      <td>0</td>\n",
       "      <td>0</td>\n",
       "      <td>0</td>\n",
       "      <td>0</td>\n",
       "      <td>1</td>\n",
       "      <td>0</td>\n",
       "      <td>0</td>\n",
       "      <td>1</td>\n",
       "      <td>0</td>\n",
       "      <td>0</td>\n",
       "      <td>1</td>\n",
       "      <td>0</td>\n",
       "      <td>0</td>\n",
       "      <td>0</td>\n",
       "      <td>0</td>\n",
       "    </tr>\n",
       "  </tbody>\n",
       "</table>\n",
       "<p>148720 rows × 20 columns</p>\n",
       "</div>"
      ],
      "text/plain": [
       "        registration_year  power         model  kilometer        brand  \\\n",
       "58199                2009    160   7199.726043      80000  7290.124159   \n",
       "57605                1996     90   2625.456942     150000  3490.582735   \n",
       "170192               2000    163   6103.071193     150000  6559.273543   \n",
       "217611               2005     65   3663.841931      80000  5588.212258   \n",
       "229163               1999     82   3963.702115     150000  6559.273543   \n",
       "...                   ...    ...           ...        ...          ...   \n",
       "120134               2001    136   5815.035561     150000  7114.770455   \n",
       "91699                2005    101   3735.815601     150000  3490.582735   \n",
       "147936               2007    109  10189.047960      80000  9441.376036   \n",
       "144391               2007     92   4637.504909      80000  4373.086410   \n",
       "82513                2008     90   2625.456942      80000  3490.582735   \n",
       "\n",
       "        vehicle_type_convertible  vehicle_type_coupe  vehicle_type_other  \\\n",
       "58199                          1                   0                   0   \n",
       "57605                          0                   0                   0   \n",
       "170192                         0                   0                   0   \n",
       "217611                         0                   0                   0   \n",
       "229163                         0                   0                   0   \n",
       "...                          ...                 ...                 ...   \n",
       "120134                         0                   0                   0   \n",
       "91699                          0                   0                   0   \n",
       "147936                         0                   0                   0   \n",
       "144391                         0                   0                   0   \n",
       "82513                          0                   0                   0   \n",
       "\n",
       "        vehicle_type_sedan  vehicle_type_small  vehicle_type_suv  \\\n",
       "58199                    0                   0                 0   \n",
       "57605                    0                   1                 0   \n",
       "170192                   0                   0                 0   \n",
       "217611                   0                   1                 0   \n",
       "229163                   1                   0                 0   \n",
       "...                    ...                 ...               ...   \n",
       "120134                   1                   0                 0   \n",
       "91699                    1                   0                 0   \n",
       "147936                   0                   1                 0   \n",
       "144391                   0                   1                 0   \n",
       "82513                    0                   1                 0   \n",
       "\n",
       "        vehicle_type_wagon  gearbox_manual  gearbox_unknown  \\\n",
       "58199                    0               1                0   \n",
       "57605                    0               1                0   \n",
       "170192                   1               0                0   \n",
       "217611                   0               1                0   \n",
       "229163                   0               1                0   \n",
       "...                    ...             ...              ...   \n",
       "120134                   0               1                0   \n",
       "91699                    0               1                0   \n",
       "147936                   0               0                0   \n",
       "144391                   0               1                0   \n",
       "82513                    0               1                0   \n",
       "\n",
       "        fuel_type_electric  fuel_type_gasoline  fuel_type_hybrid  \\\n",
       "58199                    0                   0                 0   \n",
       "57605                    0                   1                 0   \n",
       "170192                   0                   1                 0   \n",
       "217611                   0                   1                 0   \n",
       "229163                   0                   1                 0   \n",
       "...                    ...                 ...               ...   \n",
       "120134                   0                   1                 0   \n",
       "91699                    0                   1                 0   \n",
       "147936                   0                   1                 0   \n",
       "144391                   0                   1                 0   \n",
       "82513                    0                   1                 0   \n",
       "\n",
       "        fuel_type_lpg  fuel_type_other  repaired_yes  \n",
       "58199               0                1             0  \n",
       "57605               0                0             0  \n",
       "170192              0                0             0  \n",
       "217611              0                0             0  \n",
       "229163              0                0             0  \n",
       "...               ...              ...           ...  \n",
       "120134              0                0             0  \n",
       "91699               0                0             0  \n",
       "147936              0                0             0  \n",
       "144391              0                0             0  \n",
       "82513               0                0             0  \n",
       "\n",
       "[148720 rows x 20 columns]"
      ]
     },
     "metadata": {},
     "output_type": "display_data"
    },
    {
     "data": {
      "text/html": [
       "<div>\n",
       "<style scoped>\n",
       "    .dataframe tbody tr th:only-of-type {\n",
       "        vertical-align: middle;\n",
       "    }\n",
       "\n",
       "    .dataframe tbody tr th {\n",
       "        vertical-align: top;\n",
       "    }\n",
       "\n",
       "    .dataframe thead th {\n",
       "        text-align: right;\n",
       "    }\n",
       "</style>\n",
       "<table border=\"1\" class=\"dataframe\">\n",
       "  <thead>\n",
       "    <tr style=\"text-align: right;\">\n",
       "      <th></th>\n",
       "      <th>registration_year</th>\n",
       "      <th>power</th>\n",
       "      <th>model</th>\n",
       "      <th>kilometer</th>\n",
       "      <th>brand</th>\n",
       "      <th>vehicle_type_convertible</th>\n",
       "      <th>vehicle_type_coupe</th>\n",
       "      <th>vehicle_type_other</th>\n",
       "      <th>vehicle_type_sedan</th>\n",
       "      <th>vehicle_type_small</th>\n",
       "      <th>vehicle_type_suv</th>\n",
       "      <th>vehicle_type_wagon</th>\n",
       "      <th>gearbox_manual</th>\n",
       "      <th>gearbox_unknown</th>\n",
       "      <th>fuel_type_electric</th>\n",
       "      <th>fuel_type_gasoline</th>\n",
       "      <th>fuel_type_hybrid</th>\n",
       "      <th>fuel_type_lpg</th>\n",
       "      <th>fuel_type_other</th>\n",
       "      <th>repaired_yes</th>\n",
       "    </tr>\n",
       "  </thead>\n",
       "  <tbody>\n",
       "    <tr>\n",
       "      <th>115874</th>\n",
       "      <td>2004</td>\n",
       "      <td>174</td>\n",
       "      <td>7534.693348</td>\n",
       "      <td>150000</td>\n",
       "      <td>5526.418685</td>\n",
       "      <td>0</td>\n",
       "      <td>0</td>\n",
       "      <td>0</td>\n",
       "      <td>0</td>\n",
       "      <td>0</td>\n",
       "      <td>0</td>\n",
       "      <td>0</td>\n",
       "      <td>0</td>\n",
       "      <td>0</td>\n",
       "      <td>0</td>\n",
       "      <td>1</td>\n",
       "      <td>0</td>\n",
       "      <td>0</td>\n",
       "      <td>0</td>\n",
       "      <td>1</td>\n",
       "    </tr>\n",
       "    <tr>\n",
       "      <th>247027</th>\n",
       "      <td>2011</td>\n",
       "      <td>140</td>\n",
       "      <td>7534.693348</td>\n",
       "      <td>90000</td>\n",
       "      <td>5526.418685</td>\n",
       "      <td>0</td>\n",
       "      <td>0</td>\n",
       "      <td>0</td>\n",
       "      <td>0</td>\n",
       "      <td>0</td>\n",
       "      <td>0</td>\n",
       "      <td>0</td>\n",
       "      <td>1</td>\n",
       "      <td>0</td>\n",
       "      <td>0</td>\n",
       "      <td>1</td>\n",
       "      <td>0</td>\n",
       "      <td>0</td>\n",
       "      <td>0</td>\n",
       "      <td>0</td>\n",
       "    </tr>\n",
       "    <tr>\n",
       "      <th>84832</th>\n",
       "      <td>2008</td>\n",
       "      <td>179</td>\n",
       "      <td>8280.697746</td>\n",
       "      <td>150000</td>\n",
       "      <td>4852.405328</td>\n",
       "      <td>0</td>\n",
       "      <td>0</td>\n",
       "      <td>0</td>\n",
       "      <td>1</td>\n",
       "      <td>0</td>\n",
       "      <td>0</td>\n",
       "      <td>0</td>\n",
       "      <td>0</td>\n",
       "      <td>0</td>\n",
       "      <td>0</td>\n",
       "      <td>1</td>\n",
       "      <td>0</td>\n",
       "      <td>0</td>\n",
       "      <td>0</td>\n",
       "      <td>1</td>\n",
       "    </tr>\n",
       "    <tr>\n",
       "      <th>123723</th>\n",
       "      <td>2004</td>\n",
       "      <td>343</td>\n",
       "      <td>12791.062501</td>\n",
       "      <td>150000</td>\n",
       "      <td>7114.770455</td>\n",
       "      <td>1</td>\n",
       "      <td>0</td>\n",
       "      <td>0</td>\n",
       "      <td>0</td>\n",
       "      <td>0</td>\n",
       "      <td>0</td>\n",
       "      <td>0</td>\n",
       "      <td>1</td>\n",
       "      <td>0</td>\n",
       "      <td>0</td>\n",
       "      <td>1</td>\n",
       "      <td>0</td>\n",
       "      <td>0</td>\n",
       "      <td>0</td>\n",
       "      <td>0</td>\n",
       "    </tr>\n",
       "    <tr>\n",
       "      <th>52284</th>\n",
       "      <td>2007</td>\n",
       "      <td>286</td>\n",
       "      <td>5815.035561</td>\n",
       "      <td>70000</td>\n",
       "      <td>7114.770455</td>\n",
       "      <td>0</td>\n",
       "      <td>1</td>\n",
       "      <td>0</td>\n",
       "      <td>0</td>\n",
       "      <td>0</td>\n",
       "      <td>0</td>\n",
       "      <td>0</td>\n",
       "      <td>0</td>\n",
       "      <td>0</td>\n",
       "      <td>0</td>\n",
       "      <td>1</td>\n",
       "      <td>0</td>\n",
       "      <td>0</td>\n",
       "      <td>0</td>\n",
       "      <td>0</td>\n",
       "    </tr>\n",
       "    <tr>\n",
       "      <th>...</th>\n",
       "      <td>...</td>\n",
       "      <td>...</td>\n",
       "      <td>...</td>\n",
       "      <td>...</td>\n",
       "      <td>...</td>\n",
       "      <td>...</td>\n",
       "      <td>...</td>\n",
       "      <td>...</td>\n",
       "      <td>...</td>\n",
       "      <td>...</td>\n",
       "      <td>...</td>\n",
       "      <td>...</td>\n",
       "      <td>...</td>\n",
       "      <td>...</td>\n",
       "      <td>...</td>\n",
       "      <td>...</td>\n",
       "      <td>...</td>\n",
       "      <td>...</td>\n",
       "      <td>...</td>\n",
       "      <td>...</td>\n",
       "    </tr>\n",
       "    <tr>\n",
       "      <th>132753</th>\n",
       "      <td>1991</td>\n",
       "      <td>65</td>\n",
       "      <td>4872.000008</td>\n",
       "      <td>40000</td>\n",
       "      <td>8273.463243</td>\n",
       "      <td>0</td>\n",
       "      <td>0</td>\n",
       "      <td>0</td>\n",
       "      <td>0</td>\n",
       "      <td>1</td>\n",
       "      <td>0</td>\n",
       "      <td>0</td>\n",
       "      <td>1</td>\n",
       "      <td>0</td>\n",
       "      <td>0</td>\n",
       "      <td>1</td>\n",
       "      <td>0</td>\n",
       "      <td>0</td>\n",
       "      <td>0</td>\n",
       "      <td>0</td>\n",
       "    </tr>\n",
       "    <tr>\n",
       "      <th>137478</th>\n",
       "      <td>2013</td>\n",
       "      <td>86</td>\n",
       "      <td>4872.000008</td>\n",
       "      <td>70000</td>\n",
       "      <td>6496.401421</td>\n",
       "      <td>0</td>\n",
       "      <td>0</td>\n",
       "      <td>0</td>\n",
       "      <td>1</td>\n",
       "      <td>0</td>\n",
       "      <td>0</td>\n",
       "      <td>0</td>\n",
       "      <td>1</td>\n",
       "      <td>0</td>\n",
       "      <td>0</td>\n",
       "      <td>1</td>\n",
       "      <td>0</td>\n",
       "      <td>0</td>\n",
       "      <td>0</td>\n",
       "      <td>0</td>\n",
       "    </tr>\n",
       "    <tr>\n",
       "      <th>233573</th>\n",
       "      <td>2009</td>\n",
       "      <td>136</td>\n",
       "      <td>6182.271617</td>\n",
       "      <td>125000</td>\n",
       "      <td>4852.405328</td>\n",
       "      <td>0</td>\n",
       "      <td>0</td>\n",
       "      <td>0</td>\n",
       "      <td>0</td>\n",
       "      <td>0</td>\n",
       "      <td>0</td>\n",
       "      <td>1</td>\n",
       "      <td>1</td>\n",
       "      <td>0</td>\n",
       "      <td>0</td>\n",
       "      <td>1</td>\n",
       "      <td>0</td>\n",
       "      <td>0</td>\n",
       "      <td>0</td>\n",
       "      <td>0</td>\n",
       "    </tr>\n",
       "    <tr>\n",
       "      <th>120240</th>\n",
       "      <td>1999</td>\n",
       "      <td>125</td>\n",
       "      <td>6739.399756</td>\n",
       "      <td>150000</td>\n",
       "      <td>7290.124159</td>\n",
       "      <td>0</td>\n",
       "      <td>0</td>\n",
       "      <td>0</td>\n",
       "      <td>0</td>\n",
       "      <td>0</td>\n",
       "      <td>0</td>\n",
       "      <td>1</td>\n",
       "      <td>1</td>\n",
       "      <td>0</td>\n",
       "      <td>0</td>\n",
       "      <td>0</td>\n",
       "      <td>0</td>\n",
       "      <td>0</td>\n",
       "      <td>1</td>\n",
       "      <td>1</td>\n",
       "    </tr>\n",
       "    <tr>\n",
       "      <th>240417</th>\n",
       "      <td>2006</td>\n",
       "      <td>190</td>\n",
       "      <td>6201.770103</td>\n",
       "      <td>150000</td>\n",
       "      <td>6559.273543</td>\n",
       "      <td>0</td>\n",
       "      <td>0</td>\n",
       "      <td>0</td>\n",
       "      <td>1</td>\n",
       "      <td>0</td>\n",
       "      <td>0</td>\n",
       "      <td>0</td>\n",
       "      <td>0</td>\n",
       "      <td>0</td>\n",
       "      <td>0</td>\n",
       "      <td>1</td>\n",
       "      <td>0</td>\n",
       "      <td>0</td>\n",
       "      <td>0</td>\n",
       "      <td>0</td>\n",
       "    </tr>\n",
       "  </tbody>\n",
       "</table>\n",
       "<p>63738 rows × 20 columns</p>\n",
       "</div>"
      ],
      "text/plain": [
       "        registration_year  power         model  kilometer        brand  \\\n",
       "115874               2004    174   7534.693348     150000  5526.418685   \n",
       "247027               2011    140   7534.693348      90000  5526.418685   \n",
       "84832                2008    179   8280.697746     150000  4852.405328   \n",
       "123723               2004    343  12791.062501     150000  7114.770455   \n",
       "52284                2007    286   5815.035561      70000  7114.770455   \n",
       "...                   ...    ...           ...        ...          ...   \n",
       "132753               1991     65   4872.000008      40000  8273.463243   \n",
       "137478               2013     86   4872.000008      70000  6496.401421   \n",
       "233573               2009    136   6182.271617     125000  4852.405328   \n",
       "120240               1999    125   6739.399756     150000  7290.124159   \n",
       "240417               2006    190   6201.770103     150000  6559.273543   \n",
       "\n",
       "        vehicle_type_convertible  vehicle_type_coupe  vehicle_type_other  \\\n",
       "115874                         0                   0                   0   \n",
       "247027                         0                   0                   0   \n",
       "84832                          0                   0                   0   \n",
       "123723                         1                   0                   0   \n",
       "52284                          0                   1                   0   \n",
       "...                          ...                 ...                 ...   \n",
       "132753                         0                   0                   0   \n",
       "137478                         0                   0                   0   \n",
       "233573                         0                   0                   0   \n",
       "120240                         0                   0                   0   \n",
       "240417                         0                   0                   0   \n",
       "\n",
       "        vehicle_type_sedan  vehicle_type_small  vehicle_type_suv  \\\n",
       "115874                   0                   0                 0   \n",
       "247027                   0                   0                 0   \n",
       "84832                    1                   0                 0   \n",
       "123723                   0                   0                 0   \n",
       "52284                    0                   0                 0   \n",
       "...                    ...                 ...               ...   \n",
       "132753                   0                   1                 0   \n",
       "137478                   1                   0                 0   \n",
       "233573                   0                   0                 0   \n",
       "120240                   0                   0                 0   \n",
       "240417                   1                   0                 0   \n",
       "\n",
       "        vehicle_type_wagon  gearbox_manual  gearbox_unknown  \\\n",
       "115874                   0               0                0   \n",
       "247027                   0               1                0   \n",
       "84832                    0               0                0   \n",
       "123723                   0               1                0   \n",
       "52284                    0               0                0   \n",
       "...                    ...             ...              ...   \n",
       "132753                   0               1                0   \n",
       "137478                   0               1                0   \n",
       "233573                   1               1                0   \n",
       "120240                   1               1                0   \n",
       "240417                   0               0                0   \n",
       "\n",
       "        fuel_type_electric  fuel_type_gasoline  fuel_type_hybrid  \\\n",
       "115874                   0                   1                 0   \n",
       "247027                   0                   1                 0   \n",
       "84832                    0                   1                 0   \n",
       "123723                   0                   1                 0   \n",
       "52284                    0                   1                 0   \n",
       "...                    ...                 ...               ...   \n",
       "132753                   0                   1                 0   \n",
       "137478                   0                   1                 0   \n",
       "233573                   0                   1                 0   \n",
       "120240                   0                   0                 0   \n",
       "240417                   0                   1                 0   \n",
       "\n",
       "        fuel_type_lpg  fuel_type_other  repaired_yes  \n",
       "115874              0                0             1  \n",
       "247027              0                0             0  \n",
       "84832               0                0             1  \n",
       "123723              0                0             0  \n",
       "52284               0                0             0  \n",
       "...               ...              ...           ...  \n",
       "132753              0                0             0  \n",
       "137478              0                0             0  \n",
       "233573              0                0             0  \n",
       "120240              0                1             1  \n",
       "240417              0                0             0  \n",
       "\n",
       "[63738 rows x 20 columns]"
      ]
     },
     "metadata": {},
     "output_type": "display_data"
    }
   ],
   "source": [
    "display(features_train)\n",
    "display(features_test)"
   ]
  },
  {
   "cell_type": "markdown",
   "metadata": {},
   "source": [
    "### Выполним масштабирование признаков"
   ]
  },
  {
   "cell_type": "code",
   "execution_count": 35,
   "metadata": {
    "scrolled": true
   },
   "outputs": [],
   "source": [
    "numeric = ['registration_year', 'power', 'kilometer']\n",
    "pd.options.mode.chained_assignment = None\n",
    "\n",
    "scaler = StandardScaler()\n",
    "scaler.fit(features_train[numeric])\n",
    "\n",
    "features_train[numeric] = scaler.transform(features_train[numeric])\n",
    "features_test[numeric] = scaler.transform(features_test[numeric])"
   ]
  },
  {
   "cell_type": "markdown",
   "metadata": {},
   "source": [
    "### Метрика"
   ]
  },
  {
   "cell_type": "code",
   "execution_count": 36,
   "metadata": {},
   "outputs": [],
   "source": [
    "def rmse(answ, pred):\n",
    "    return (mean_squared_error(answ, pred) ** 0.5)\n",
    "\n",
    "score = make_scorer(rmse, greater_is_better=False)"
   ]
  },
  {
   "cell_type": "markdown",
   "metadata": {},
   "source": [
    "### Обучение\n",
    "\n",
    "Будем использовать GridSearch для подбора гиперпараметров и кросс-валидации."
   ]
  },
  {
   "cell_type": "markdown",
   "metadata": {},
   "source": [
    "#### Linear Regression"
   ]
  },
  {
   "cell_type": "code",
   "execution_count": 37,
   "metadata": {},
   "outputs": [
    {
     "name": "stdout",
     "output_type": "stream",
     "text": [
      "RMSE линейной регрессии 2876.0439906144493\n",
      "CPU times: user 1.97 s, sys: 513 ms, total: 2.48 s\n",
      "Wall time: 1.77 s\n"
     ]
    }
   ],
   "source": [
    "%%time\n",
    "warnings.filterwarnings('ignore')\n",
    "\n",
    "model_lin_reg = LinearRegression(fit_intercept=False, normalize=True, copy_X=False)\n",
    "\n",
    "grid_lr = GridSearchCV(model_lin_reg, param_grid={}, scoring=score, cv=3, n_jobs=-1)\n",
    "grid_lr.fit(features_train, target_train)\n",
    "print('RMSE линейной регрессии', -grid_lr.best_score_)"
   ]
  },
  {
   "cell_type": "markdown",
   "metadata": {},
   "source": [
    "#### Decision Tree"
   ]
  },
  {
   "cell_type": "code",
   "execution_count": 38,
   "metadata": {},
   "outputs": [
    {
     "name": "stdout",
     "output_type": "stream",
     "text": [
      "Параметры: {'max_depth': 5, 'min_samples_leaf': 1, 'min_samples_split': 2}\n",
      "RMSE Решающего дерева: 2405.2488435937066\n",
      "CPU times: user 4.7 s, sys: 1.92 s, total: 6.62 s\n",
      "Wall time: 23.9 s\n"
     ]
    }
   ],
   "source": [
    "%%time\n",
    "\n",
    "params_tree = {\n",
    "          'max_depth': range (1, 6),\n",
    "          'min_samples_leaf': range (1, 20, 2),\n",
    "          'min_samples_split': range (2, 20, 2) \n",
    "              }\n",
    "\n",
    "model_tree = DecisionTreeRegressor(random_state=state)\n",
    "grid_tree = GridSearchCV(model_tree, params_tree, scoring=score, cv=3, n_jobs=-1)\n",
    "grid_tree.fit(features_train, target_train)\n",
    "print('Параметры:', grid_tree.best_params_)\n",
    "print('RMSE Решающего дерева:', -grid_tree.best_score_)\n",
    "\n"
   ]
  },
  {
   "cell_type": "markdown",
   "metadata": {},
   "source": [
    "#### LightGBM"
   ]
  },
  {
   "cell_type": "code",
   "execution_count": 39,
   "metadata": {
    "scrolled": true
   },
   "outputs": [
    {
     "name": "stdout",
     "output_type": "stream",
     "text": [
      "[LightGBM] [Warning] Auto-choosing row-wise multi-threading, the overhead of testing was 0.006670 seconds.\n",
      "You can set `force_row_wise=true` to remove the overhead.\n",
      "And if memory is not enough, you can set `force_col_wise=true`.\n",
      "[LightGBM] [Info] Total Bins 657\n",
      "[LightGBM] [Info] Number of data points in the train set: 148720, number of used features: 20\n",
      "[LightGBM] [Info] Start training from score 5333.125040\n",
      "[LightGBM] [Warning] No further splits with positive gain, best gain: -inf\n",
      "Параметры: {'learning_rate': 0.2, 'max_depth': 6, 'n_estimators': 250, 'num_leaves': 12}\n",
      "RMSE LightGBM: 1671.7344724786794\n",
      "CPU times: user 3.11 s, sys: 360 ms, total: 3.47 s\n",
      "Wall time: 58.9 s\n"
     ]
    }
   ],
   "source": [
    "%%time\n",
    "\n",
    "params_lgbm = {\n",
    "                'learning_rate': [0.1, 0.2],\n",
    "                'n_estimators': [100, 250],\n",
    "                'max_depth': [6, 12],\n",
    "                'num_leaves': [6, 12]\n",
    "              }\n",
    "\n",
    "model_lgbm = LGBMRegressor(random_state = state)\n",
    "grid_lgbm = GridSearchCV(model_lgbm, params_lgbm, scoring=score, n_jobs=-1)\n",
    "grid_lgbm.fit(features_train, target_train)\n",
    "print('Параметры:', grid_lgbm.best_params_)\n",
    "print('RMSE LightGBM:', -grid_lgbm.best_score_)"
   ]
  },
  {
   "cell_type": "markdown",
   "metadata": {},
   "source": [
    "#### CatBoost Regressor"
   ]
  },
  {
   "cell_type": "code",
   "execution_count": 40,
   "metadata": {
    "scrolled": true
   },
   "outputs": [
    {
     "name": "stdout",
     "output_type": "stream",
     "text": [
      "[LightGBM] [Warning] Auto-choosing col-wise multi-threading, the overhead of testing was 0.059084 seconds.\n",
      "You can set `force_col_wise=true` to remove the overhead.\n",
      "[LightGBM] [Info] Total Bins 652\n",
      "[LightGBM] [Info] Number of data points in the train set: 118976, number of used features: 20\n",
      "[LightGBM] [Info] Start training from score 5328.400257\n",
      "[LightGBM] [Warning] Auto-choosing row-wise multi-threading, the overhead of testing was 0.015841 seconds.\n",
      "You can set `force_row_wise=true` to remove the overhead.\n",
      "And if memory is not enough, you can set `force_col_wise=true`.\n",
      "[LightGBM] [Info] Total Bins 652\n",
      "[LightGBM] [Info] Number of data points in the train set: 118976, number of used features: 20\n",
      "[LightGBM] [Info] Start training from score 5332.974718\n",
      "[LightGBM] [Warning] Auto-choosing row-wise multi-threading, the overhead of testing was 0.020200 seconds.\n",
      "You can set `force_row_wise=true` to remove the overhead.\n",
      "And if memory is not enough, you can set `force_col_wise=true`.\n",
      "[LightGBM] [Info] Total Bins 652\n",
      "[LightGBM] [Info] Number of data points in the train set: 118976, number of used features: 20\n",
      "[LightGBM] [Info] Start training from score 5328.400257\n",
      "[LightGBM] [Warning] Auto-choosing row-wise multi-threading, the overhead of testing was 0.015415 seconds.\n",
      "You can set `force_row_wise=true` to remove the overhead.\n",
      "And if memory is not enough, you can set `force_col_wise=true`.\n",
      "[LightGBM] [Info] Total Bins 654\n",
      "[LightGBM] [Info] Number of data points in the train set: 118976, number of used features: 20\n",
      "[LightGBM] [Info] Start training from score 5329.083958\n",
      "[LightGBM] [Warning] Auto-choosing row-wise multi-threading, the overhead of testing was 0.013623 seconds.\n",
      "You can set `force_row_wise=true` to remove the overhead.\n",
      "And if memory is not enough, you can set `force_col_wise=true`.\n",
      "[LightGBM] [Info] Total Bins 652\n",
      "[LightGBM] [Info] Number of data points in the train set: 118976, number of used features: 20\n",
      "[LightGBM] [Info] Start training from score 5331.359703\n",
      "[LightGBM] [Warning] Auto-choosing row-wise multi-threading, the overhead of testing was 0.018101 seconds.\n",
      "You can set `force_row_wise=true` to remove the overhead.\n",
      "And if memory is not enough, you can set `force_col_wise=true`.\n",
      "[LightGBM] [Info] Total Bins 654\n",
      "[LightGBM] [Info] Number of data points in the train set: 118976, number of used features: 20\n",
      "[LightGBM] [Info] Start training from score 5329.083958\n",
      "[LightGBM] [Warning] Auto-choosing row-wise multi-threading, the overhead of testing was 0.019664 seconds.\n",
      "You can set `force_row_wise=true` to remove the overhead.\n",
      "And if memory is not enough, you can set `force_col_wise=true`.\n",
      "[LightGBM] [Info] Total Bins 652\n",
      "[LightGBM] [Info] Number of data points in the train set: 118976, number of used features: 20\n",
      "[LightGBM] [Info] Start training from score 5331.359703\n",
      "[LightGBM] [Warning] Auto-choosing row-wise multi-threading, the overhead of testing was 0.027850 seconds.\n",
      "You can set `force_row_wise=true` to remove the overhead.\n",
      "And if memory is not enough, you can set `force_col_wise=true`.\n",
      "[LightGBM] [Info] Total Bins 653\n",
      "[LightGBM] [Info] Number of data points in the train set: 118976, number of used features: 20\n",
      "[LightGBM] [Info] Start training from score 5343.806566\n",
      "[LightGBM] [Warning] Auto-choosing row-wise multi-threading, the overhead of testing was 0.015943 seconds.\n",
      "You can set `force_row_wise=true` to remove the overhead.\n",
      "And if memory is not enough, you can set `force_col_wise=true`.\n",
      "[LightGBM] [Info] Total Bins 652\n",
      "[LightGBM] [Info] Number of data points in the train set: 118976, number of used features: 20\n",
      "[LightGBM] [Info] Start training from score 5332.974718\n",
      "[LightGBM] [Warning] Auto-choosing row-wise multi-threading, the overhead of testing was 0.018739 seconds.\n",
      "You can set `force_row_wise=true` to remove the overhead.\n",
      "And if memory is not enough, you can set `force_col_wise=true`.\n",
      "[LightGBM] [Info] Total Bins 654\n",
      "[LightGBM] [Info] Number of data points in the train set: 118976, number of used features: 20\n",
      "[LightGBM] [Info] Start training from score 5329.083958\n",
      "[LightGBM] [Warning] Auto-choosing row-wise multi-threading, the overhead of testing was 0.018379 seconds.\n",
      "You can set `force_row_wise=true` to remove the overhead.\n",
      "And if memory is not enough, you can set `force_col_wise=true`.\n",
      "[LightGBM] [Info] Total Bins 652\n",
      "[LightGBM] [Info] Number of data points in the train set: 118976, number of used features: 20\n",
      "[LightGBM] [Info] Start training from score 5332.974718\n",
      "[LightGBM] [Warning] Auto-choosing row-wise multi-threading, the overhead of testing was 0.020281 seconds.\n",
      "You can set `force_row_wise=true` to remove the overhead.\n",
      "And if memory is not enough, you can set `force_col_wise=true`.\n",
      "[LightGBM] [Info] Total Bins 652\n",
      "[LightGBM] [Info] Number of data points in the train set: 118976, number of used features: 20\n",
      "[LightGBM] [Info] Start training from score 5328.400257\n",
      "[LightGBM] [Warning] Auto-choosing row-wise multi-threading, the overhead of testing was 0.020172 seconds.\n",
      "You can set `force_row_wise=true` to remove the overhead.\n",
      "And if memory is not enough, you can set `force_col_wise=true`.\n",
      "[LightGBM] [Info] Total Bins 652\n",
      "[LightGBM] [Info] Number of data points in the train set: 118976, number of used features: 20\n",
      "[LightGBM] [Info] Start training from score 5331.359703\n",
      "[LightGBM] [Warning] Auto-choosing row-wise multi-threading, the overhead of testing was 0.015690 seconds.\n",
      "You can set `force_row_wise=true` to remove the overhead.\n",
      "And if memory is not enough, you can set `force_col_wise=true`.\n",
      "[LightGBM] [Info] Total Bins 653\n",
      "[LightGBM] [Info] Number of data points in the train set: 118976, number of used features: 20\n",
      "[LightGBM] [Info] Start training from score 5343.806566\n",
      "0:\tlearn: 4740.5143712\ttotal: 74.9ms\tremaining: 2.17s\n",
      "1:\tlearn: 4707.4161132\ttotal: 103ms\tremaining: 1.44s\n",
      "2:\tlearn: 4675.3052918\ttotal: 123ms\tremaining: 1.1s\n",
      "3:\tlearn: 4643.4819898\ttotal: 144ms\tremaining: 936ms\n",
      "4:\tlearn: 4612.0440768\ttotal: 159ms\tremaining: 795ms\n",
      "5:\tlearn: 4580.7702565\ttotal: 194ms\tremaining: 777ms\n",
      "6:\tlearn: 4550.1233439\ttotal: 215ms\tremaining: 708ms\n",
      "7:\tlearn: 4520.0412042\ttotal: 238ms\tremaining: 654ms\n",
      "8:\tlearn: 4490.4949247\ttotal: 259ms\tremaining: 604ms\n",
      "9:\tlearn: 4460.8413933\ttotal: 282ms\tremaining: 564ms\n",
      "10:\tlearn: 4431.1024366\ttotal: 305ms\tremaining: 528ms\n",
      "11:\tlearn: 4402.0940030\ttotal: 332ms\tremaining: 497ms\n",
      "12:\tlearn: 4373.3336810\ttotal: 354ms\tremaining: 463ms\n",
      "13:\tlearn: 4345.5771285\ttotal: 383ms\tremaining: 438ms\n",
      "14:\tlearn: 4317.3222357\ttotal: 402ms\tremaining: 402ms\n",
      "15:\tlearn: 4289.3855000\ttotal: 442ms\tremaining: 387ms\n",
      "16:\tlearn: 4261.7395057\ttotal: 477ms\tremaining: 365ms\n",
      "17:\tlearn: 4234.8736124\ttotal: 496ms\tremaining: 331ms\n",
      "18:\tlearn: 4208.2701272\ttotal: 522ms\tremaining: 302ms\n",
      "19:\tlearn: 4181.7496496\ttotal: 551ms\tremaining: 275ms\n",
      "20:\tlearn: 4155.8364156\ttotal: 571ms\tremaining: 245ms\n",
      "21:\tlearn: 4129.9646696\ttotal: 591ms\tremaining: 215ms\n",
      "22:\tlearn: 4104.5480663\ttotal: 610ms\tremaining: 186ms\n",
      "23:\tlearn: 4079.1529264\ttotal: 642ms\tremaining: 161ms\n",
      "24:\tlearn: 4053.9724500\ttotal: 704ms\tremaining: 141ms\n",
      "25:\tlearn: 4029.2215412\ttotal: 729ms\tremaining: 112ms\n",
      "26:\tlearn: 4004.6401073\ttotal: 751ms\tremaining: 83.5ms\n",
      "27:\tlearn: 3980.3739170\ttotal: 769ms\tremaining: 54.9ms\n",
      "28:\tlearn: 3956.7473029\ttotal: 795ms\tremaining: 27.4ms\n",
      "29:\tlearn: 3933.0883308\ttotal: 821ms\tremaining: 0us\n",
      "0:\tlearn: 4440.1711626\ttotal: 30.1ms\tremaining: 872ms\n",
      "1:\tlearn: 4150.3954898\ttotal: 54.5ms\tremaining: 763ms\n",
      "2:\tlearn: 3900.2224461\ttotal: 78.1ms\tremaining: 703ms\n",
      "3:\tlearn: 3676.7663717\ttotal: 101ms\tremaining: 657ms\n",
      "4:\tlearn: 3475.8125755\ttotal: 117ms\tremaining: 584ms\n",
      "5:\tlearn: 3299.0560105\ttotal: 134ms\tremaining: 537ms\n",
      "6:\tlearn: 3150.2943502\ttotal: 165ms\tremaining: 542ms\n",
      "7:\tlearn: 3004.9860046\ttotal: 202ms\tremaining: 555ms\n",
      "8:\tlearn: 2880.7662668\ttotal: 221ms\tremaining: 515ms\n",
      "9:\tlearn: 2771.5896361\ttotal: 242ms\tremaining: 485ms\n",
      "10:\tlearn: 2679.0185721\ttotal: 262ms\tremaining: 452ms\n",
      "11:\tlearn: 2592.7556226\ttotal: 288ms\tremaining: 432ms\n",
      "12:\tlearn: 2518.6408391\ttotal: 313ms\tremaining: 409ms\n",
      "13:\tlearn: 2451.3594145\ttotal: 336ms\tremaining: 384ms\n",
      "14:\tlearn: 2392.0237782\ttotal: 366ms\tremaining: 366ms\n",
      "15:\tlearn: 2341.0317765\ttotal: 391ms\tremaining: 342ms\n",
      "16:\tlearn: 2292.4012268\ttotal: 416ms\tremaining: 318ms\n",
      "17:\tlearn: 2251.4205871\ttotal: 435ms\tremaining: 290ms\n",
      "18:\tlearn: 2213.0749359\ttotal: 460ms\tremaining: 266ms\n",
      "19:\tlearn: 2182.0187664\ttotal: 478ms\tremaining: 239ms\n",
      "20:\tlearn: 2152.0209553\ttotal: 494ms\tremaining: 212ms\n",
      "21:\tlearn: 2124.8444850\ttotal: 517ms\tremaining: 188ms\n",
      "22:\tlearn: 2102.8817373\ttotal: 539ms\tremaining: 164ms\n",
      "23:\tlearn: 2081.9361942\ttotal: 572ms\tremaining: 143ms\n",
      "24:\tlearn: 2064.3365962\ttotal: 596ms\tremaining: 119ms\n",
      "25:\tlearn: 2045.8611157\ttotal: 627ms\tremaining: 96.4ms\n",
      "26:\tlearn: 2031.1311090\ttotal: 643ms\tremaining: 71.4ms\n",
      "27:\tlearn: 2017.5152044\ttotal: 667ms\tremaining: 47.6ms\n",
      "28:\tlearn: 2004.4853255\ttotal: 697ms\tremaining: 24ms\n",
      "29:\tlearn: 1993.3468344\ttotal: 711ms\tremaining: 0us\n",
      "0:\tlearn: 4740.5143712\ttotal: 25.7ms\tremaining: 1.26s\n",
      "1:\tlearn: 4707.4161132\ttotal: 61.4ms\tremaining: 1.47s\n",
      "2:\tlearn: 4675.3052918\ttotal: 80.8ms\tremaining: 1.26s\n",
      "3:\tlearn: 4643.4819898\ttotal: 101ms\tremaining: 1.16s\n",
      "4:\tlearn: 4612.0440768\ttotal: 128ms\tremaining: 1.15s\n",
      "5:\tlearn: 4580.7702565\ttotal: 146ms\tremaining: 1.07s\n",
      "6:\tlearn: 4550.1233439\ttotal: 169ms\tremaining: 1.04s\n",
      "7:\tlearn: 4520.0412042\ttotal: 196ms\tremaining: 1.03s\n",
      "8:\tlearn: 4490.4949247\ttotal: 222ms\tremaining: 1.01s\n",
      "9:\tlearn: 4460.8413933\ttotal: 241ms\tremaining: 963ms\n",
      "10:\tlearn: 4431.1024366\ttotal: 274ms\tremaining: 972ms\n",
      "11:\tlearn: 4402.0940030\ttotal: 317ms\tremaining: 1s\n",
      "12:\tlearn: 4373.3336810\ttotal: 338ms\tremaining: 961ms\n",
      "13:\tlearn: 4345.5771285\ttotal: 352ms\tremaining: 906ms\n",
      "14:\tlearn: 4317.3222357\ttotal: 375ms\tremaining: 875ms\n",
      "15:\tlearn: 4289.3855000\ttotal: 403ms\tremaining: 856ms\n",
      "16:\tlearn: 4261.7395057\ttotal: 421ms\tremaining: 818ms\n",
      "17:\tlearn: 4234.8736124\ttotal: 443ms\tremaining: 788ms\n",
      "18:\tlearn: 4208.2701272\ttotal: 467ms\tremaining: 762ms\n",
      "19:\tlearn: 4181.7496496\ttotal: 492ms\tremaining: 738ms\n",
      "20:\tlearn: 4155.8364156\ttotal: 508ms\tremaining: 702ms\n",
      "21:\tlearn: 4129.9646696\ttotal: 543ms\tremaining: 690ms\n",
      "22:\tlearn: 4104.5480663\ttotal: 567ms\tremaining: 666ms\n",
      "23:\tlearn: 4079.1529264\ttotal: 583ms\tremaining: 631ms\n",
      "24:\tlearn: 4053.9724500\ttotal: 603ms\tremaining: 603ms\n",
      "25:\tlearn: 4029.2215412\ttotal: 629ms\tremaining: 580ms\n",
      "26:\tlearn: 4004.6401073\ttotal: 654ms\tremaining: 557ms\n",
      "27:\tlearn: 3980.3739170\ttotal: 676ms\tremaining: 531ms\n",
      "28:\tlearn: 3956.7473029\ttotal: 695ms\tremaining: 504ms\n",
      "29:\tlearn: 3933.0883308\ttotal: 719ms\tremaining: 479ms\n",
      "30:\tlearn: 3909.7334842\ttotal: 744ms\tremaining: 456ms\n",
      "31:\tlearn: 3886.7315351\ttotal: 770ms\tremaining: 433ms\n",
      "32:\tlearn: 3864.1132215\ttotal: 789ms\tremaining: 406ms\n",
      "33:\tlearn: 3841.8911962\ttotal: 804ms\tremaining: 379ms\n",
      "34:\tlearn: 3820.2381001\ttotal: 823ms\tremaining: 353ms\n",
      "35:\tlearn: 3798.5528181\ttotal: 841ms\tremaining: 327ms\n",
      "36:\tlearn: 3776.8943312\ttotal: 864ms\tremaining: 304ms\n",
      "37:\tlearn: 3755.3895048\ttotal: 893ms\tremaining: 282ms\n",
      "38:\tlearn: 3734.0723994\ttotal: 916ms\tremaining: 258ms\n",
      "39:\tlearn: 3713.2147043\ttotal: 934ms\tremaining: 233ms\n",
      "40:\tlearn: 3692.4515073\ttotal: 953ms\tremaining: 209ms\n",
      "41:\tlearn: 3671.9057631\ttotal: 980ms\tremaining: 187ms\n",
      "42:\tlearn: 3651.6694277\ttotal: 999ms\tremaining: 163ms\n",
      "43:\tlearn: 3631.3037914\ttotal: 1.02s\tremaining: 139ms\n",
      "44:\tlearn: 3611.7130805\ttotal: 1.04s\tremaining: 116ms\n",
      "45:\tlearn: 3592.0183411\ttotal: 1.06s\tremaining: 92.5ms\n",
      "46:\tlearn: 3572.3019932\ttotal: 1.09s\tremaining: 69.4ms\n",
      "47:\tlearn: 3553.4198471\ttotal: 1.11s\tremaining: 46.4ms\n",
      "48:\tlearn: 3534.8699939\ttotal: 1.14s\tremaining: 23.2ms\n",
      "49:\tlearn: 3516.2434400\ttotal: 1.16s\tremaining: 0us\n",
      "0:\tlearn: 4439.4524565\ttotal: 46.1ms\tremaining: 2.26s\n",
      "1:\tlearn: 4152.2190470\ttotal: 65.1ms\tremaining: 1.56s\n",
      "2:\tlearn: 3900.6348302\ttotal: 85.3ms\tremaining: 1.34s\n",
      "3:\tlearn: 3675.3098171\ttotal: 108ms\tremaining: 1.24s\n",
      "4:\tlearn: 3474.0049907\ttotal: 127ms\tremaining: 1.14s\n",
      "5:\tlearn: 3295.1916036\ttotal: 154ms\tremaining: 1.13s\n",
      "6:\tlearn: 3138.5604518\ttotal: 174ms\tremaining: 1.07s\n",
      "7:\tlearn: 2996.7403529\ttotal: 198ms\tremaining: 1.04s\n",
      "8:\tlearn: 2876.9658852\ttotal: 217ms\tremaining: 987ms\n",
      "9:\tlearn: 2768.7968011\ttotal: 246ms\tremaining: 982ms\n",
      "10:\tlearn: 2672.6526519\ttotal: 266ms\tremaining: 941ms\n",
      "11:\tlearn: 2587.7361447\ttotal: 291ms\tremaining: 921ms\n",
      "12:\tlearn: 2514.9456554\ttotal: 307ms\tremaining: 874ms\n",
      "13:\tlearn: 2446.7051932\ttotal: 331ms\tremaining: 851ms\n",
      "14:\tlearn: 2386.3135451\ttotal: 350ms\tremaining: 818ms\n",
      "15:\tlearn: 2335.0646370\ttotal: 373ms\tremaining: 792ms\n",
      "16:\tlearn: 2289.2781300\ttotal: 393ms\tremaining: 763ms\n",
      "17:\tlearn: 2248.3329481\ttotal: 422ms\tremaining: 749ms\n",
      "18:\tlearn: 2210.9121497\ttotal: 454ms\tremaining: 741ms\n",
      "19:\tlearn: 2179.7014651\ttotal: 475ms\tremaining: 712ms\n",
      "20:\tlearn: 2151.0731018\ttotal: 520ms\tremaining: 718ms\n",
      "21:\tlearn: 2123.6526233\ttotal: 545ms\tremaining: 694ms\n",
      "22:\tlearn: 2100.0888693\ttotal: 564ms\tremaining: 662ms\n",
      "23:\tlearn: 2079.2680982\ttotal: 591ms\tremaining: 640ms\n",
      "24:\tlearn: 2060.5728164\ttotal: 617ms\tremaining: 617ms\n",
      "25:\tlearn: 2044.1776661\ttotal: 656ms\tremaining: 605ms\n",
      "26:\tlearn: 2028.3616194\ttotal: 678ms\tremaining: 578ms\n",
      "27:\tlearn: 2014.5388770\ttotal: 706ms\tremaining: 554ms\n",
      "28:\tlearn: 2002.3046934\ttotal: 725ms\tremaining: 525ms\n",
      "29:\tlearn: 1992.5548058\ttotal: 744ms\tremaining: 496ms\n",
      "30:\tlearn: 1981.1516669\ttotal: 764ms\tremaining: 468ms\n",
      "31:\tlearn: 1971.5673828\ttotal: 788ms\tremaining: 443ms\n",
      "32:\tlearn: 1962.3102054\ttotal: 810ms\tremaining: 417ms\n",
      "33:\tlearn: 1954.9163085\ttotal: 829ms\tremaining: 390ms\n",
      "34:\tlearn: 1948.3001903\ttotal: 859ms\tremaining: 368ms\n",
      "35:\tlearn: 1940.1263237\ttotal: 892ms\tremaining: 347ms\n",
      "36:\tlearn: 1933.0238113\ttotal: 921ms\tremaining: 324ms\n",
      "37:\tlearn: 1923.3525344\ttotal: 942ms\tremaining: 298ms\n",
      "38:\tlearn: 1914.7604629\ttotal: 964ms\tremaining: 272ms\n",
      "39:\tlearn: 1908.6239564\ttotal: 977ms\tremaining: 244ms\n",
      "40:\tlearn: 1904.4808939\ttotal: 993ms\tremaining: 218ms\n",
      "41:\tlearn: 1900.0006074\ttotal: 1.01s\tremaining: 192ms\n",
      "42:\tlearn: 1894.0323455\ttotal: 1.03s\tremaining: 168ms\n",
      "43:\tlearn: 1886.6738831\ttotal: 1.05s\tremaining: 144ms\n",
      "44:\tlearn: 1882.1176430\ttotal: 1.07s\tremaining: 119ms\n",
      "45:\tlearn: 1878.8290105\ttotal: 1.1s\tremaining: 95.7ms\n",
      "46:\tlearn: 1875.4108951\ttotal: 1.12s\tremaining: 71.5ms\n",
      "47:\tlearn: 1870.7049717\ttotal: 1.14s\tremaining: 47.6ms\n",
      "48:\tlearn: 1867.7265261\ttotal: 1.16s\tremaining: 23.7ms\n",
      "49:\tlearn: 1863.7553921\ttotal: 1.18s\tremaining: 0us\n",
      "0:\tlearn: 4728.4225667\ttotal: 37.3ms\tremaining: 3.69s\n",
      "1:\tlearn: 4696.0132368\ttotal: 59ms\tremaining: 2.89s\n",
      "2:\tlearn: 4664.3482882\ttotal: 89.9ms\tremaining: 2.9s\n",
      "3:\tlearn: 4632.6835759\ttotal: 122ms\tremaining: 2.93s\n",
      "4:\tlearn: 4601.3490039\ttotal: 144ms\tremaining: 2.73s\n",
      "5:\tlearn: 4570.2167894\ttotal: 169ms\tremaining: 2.65s\n",
      "6:\tlearn: 4539.7775866\ttotal: 190ms\tremaining: 2.52s\n",
      "7:\tlearn: 4509.0861863\ttotal: 225ms\tremaining: 2.59s\n",
      "8:\tlearn: 4478.8492880\ttotal: 242ms\tremaining: 2.44s\n",
      "9:\tlearn: 4449.1686099\ttotal: 261ms\tremaining: 2.35s\n",
      "10:\tlearn: 4420.4759301\ttotal: 284ms\tremaining: 2.29s\n",
      "11:\tlearn: 4391.2907679\ttotal: 304ms\tremaining: 2.23s\n",
      "12:\tlearn: 4362.2506373\ttotal: 327ms\tremaining: 2.19s\n",
      "13:\tlearn: 4333.9760385\ttotal: 357ms\tremaining: 2.19s\n",
      "14:\tlearn: 4305.6866237\ttotal: 381ms\tremaining: 2.16s\n",
      "15:\tlearn: 4278.0118221\ttotal: 410ms\tremaining: 2.15s\n",
      "16:\tlearn: 4250.6536001\ttotal: 435ms\tremaining: 2.12s\n",
      "17:\tlearn: 4224.4358245\ttotal: 457ms\tremaining: 2.08s\n",
      "18:\tlearn: 4197.8292225\ttotal: 481ms\tremaining: 2.05s\n",
      "19:\tlearn: 4172.0932638\ttotal: 516ms\tremaining: 2.06s\n",
      "20:\tlearn: 4146.0931064\ttotal: 532ms\tremaining: 2s\n",
      "21:\tlearn: 4120.3574415\ttotal: 562ms\tremaining: 1.99s\n",
      "22:\tlearn: 4094.6490928\ttotal: 585ms\tremaining: 1.96s\n",
      "23:\tlearn: 4069.3799144\ttotal: 606ms\tremaining: 1.92s\n",
      "24:\tlearn: 4044.4169509\ttotal: 639ms\tremaining: 1.92s\n",
      "25:\tlearn: 4019.8362566\ttotal: 661ms\tremaining: 1.88s\n",
      "26:\tlearn: 3995.6331208\ttotal: 705ms\tremaining: 1.91s\n",
      "27:\tlearn: 3971.9617584\ttotal: 732ms\tremaining: 1.88s\n",
      "28:\tlearn: 3948.3594144\ttotal: 748ms\tremaining: 1.83s\n",
      "29:\tlearn: 3924.6460135\ttotal: 771ms\tremaining: 1.8s\n",
      "30:\tlearn: 3901.5854381\ttotal: 793ms\tremaining: 1.76s\n",
      "31:\tlearn: 3878.7810699\ttotal: 818ms\tremaining: 1.74s\n",
      "32:\tlearn: 3856.0460839\ttotal: 842ms\tremaining: 1.71s\n",
      "33:\tlearn: 3833.2790626\ttotal: 860ms\tremaining: 1.67s\n",
      "34:\tlearn: 3811.3234886\ttotal: 884ms\tremaining: 1.64s\n",
      "35:\tlearn: 3789.1505914\ttotal: 908ms\tremaining: 1.61s\n",
      "36:\tlearn: 3767.4312986\ttotal: 928ms\tremaining: 1.58s\n",
      "37:\tlearn: 3746.4338158\ttotal: 950ms\tremaining: 1.55s\n",
      "[LightGBM] [Warning] Auto-choosing row-wise multi-threading, the overhead of testing was 0.048516 seconds.\n",
      "You can set `force_row_wise=true` to remove the overhead.\n",
      "And if memory is not enough, you can set `force_col_wise=true`.\n",
      "[LightGBM] [Info] Total Bins 652\n",
      "[LightGBM] [Info] Number of data points in the train set: 118976, number of used features: 20\n",
      "[LightGBM] [Info] Start training from score 5328.400257\n",
      "[LightGBM] [Warning] Auto-choosing row-wise multi-threading, the overhead of testing was 0.017346 seconds.\n",
      "You can set `force_row_wise=true` to remove the overhead.\n",
      "And if memory is not enough, you can set `force_col_wise=true`.\n",
      "[LightGBM] [Info] Total Bins 654\n",
      "[LightGBM] [Info] Number of data points in the train set: 118976, number of used features: 20\n",
      "[LightGBM] [Info] Start training from score 5329.083958\n",
      "[LightGBM] [Warning] Auto-choosing row-wise multi-threading, the overhead of testing was 0.020775 seconds.\n",
      "You can set `force_row_wise=true` to remove the overhead.\n",
      "And if memory is not enough, you can set `force_col_wise=true`.\n",
      "[LightGBM] [Info] Total Bins 652\n",
      "[LightGBM] [Info] Number of data points in the train set: 118976, number of used features: 20\n",
      "[LightGBM] [Info] Start training from score 5331.359703\n",
      "[LightGBM] [Warning] Auto-choosing row-wise multi-threading, the overhead of testing was 0.016651 seconds.\n",
      "You can set `force_row_wise=true` to remove the overhead.\n",
      "And if memory is not enough, you can set `force_col_wise=true`.\n",
      "[LightGBM] [Info] Total Bins 653\n",
      "[LightGBM] [Info] Number of data points in the train set: 118976, number of used features: 20\n",
      "[LightGBM] [Info] Start training from score 5343.806566\n",
      "[LightGBM] [Warning] Auto-choosing row-wise multi-threading, the overhead of testing was 0.011643 seconds.\n",
      "You can set `force_row_wise=true` to remove the overhead.\n",
      "And if memory is not enough, you can set `force_col_wise=true`.\n",
      "[LightGBM] [Info] Total Bins 652\n",
      "[LightGBM] [Info] Number of data points in the train set: 118976, number of used features: 20\n",
      "[LightGBM] [Info] Start training from score 5332.974718\n",
      "[LightGBM] [Warning] Auto-choosing row-wise multi-threading, the overhead of testing was 0.019275 seconds.\n",
      "You can set `force_row_wise=true` to remove the overhead.\n",
      "And if memory is not enough, you can set `force_col_wise=true`.\n",
      "[LightGBM] [Info] Total Bins 652\n",
      "[LightGBM] [Info] Number of data points in the train set: 118976, number of used features: 20\n",
      "[LightGBM] [Info] Start training from score 5331.359703\n",
      "[LightGBM] [Warning] Auto-choosing row-wise multi-threading, the overhead of testing was 0.017114 seconds.\n",
      "You can set `force_row_wise=true` to remove the overhead.\n",
      "And if memory is not enough, you can set `force_col_wise=true`.\n",
      "[LightGBM] [Info] Total Bins 653\n",
      "[LightGBM] [Info] Number of data points in the train set: 118976, number of used features: 20\n",
      "[LightGBM] [Info] Start training from score 5343.806566\n",
      "[LightGBM] [Warning] Auto-choosing row-wise multi-threading, the overhead of testing was 0.017245 seconds.\n",
      "You can set `force_row_wise=true` to remove the overhead.\n",
      "And if memory is not enough, you can set `force_col_wise=true`.\n",
      "[LightGBM] [Info] Total Bins 653\n",
      "[LightGBM] [Info] Number of data points in the train set: 118976, number of used features: 20\n",
      "[LightGBM] [Info] Start training from score 5343.806566\n",
      "[LightGBM] [Warning] Auto-choosing row-wise multi-threading, the overhead of testing was 0.017824 seconds.\n",
      "You can set `force_row_wise=true` to remove the overhead.\n",
      "And if memory is not enough, you can set `force_col_wise=true`.\n",
      "[LightGBM] [Info] Total Bins 652\n",
      "[LightGBM] [Info] Number of data points in the train set: 118976, number of used features: 20\n",
      "[LightGBM] [Info] Start training from score 5331.359703\n",
      "[LightGBM] [Warning] Auto-choosing row-wise multi-threading, the overhead of testing was 0.021066 seconds.\n",
      "You can set `force_row_wise=true` to remove the overhead.\n",
      "And if memory is not enough, you can set `force_col_wise=true`.\n",
      "[LightGBM] [Info] Total Bins 653\n",
      "[LightGBM] [Info] Number of data points in the train set: 118976, number of used features: 20\n",
      "[LightGBM] [Info] Start training from score 5343.806566\n",
      "[LightGBM] [Warning] Auto-choosing row-wise multi-threading, the overhead of testing was 0.021561 seconds.\n",
      "You can set `force_row_wise=true` to remove the overhead.\n",
      "And if memory is not enough, you can set `force_col_wise=true`.\n",
      "[LightGBM] [Info] Total Bins 652\n",
      "[LightGBM] [Info] Number of data points in the train set: 118976, number of used features: 20\n",
      "[LightGBM] [Info] Start training from score 5331.359703\n",
      "[LightGBM] [Warning] Auto-choosing row-wise multi-threading, the overhead of testing was 0.014740 seconds.\n",
      "You can set `force_row_wise=true` to remove the overhead.\n",
      "And if memory is not enough, you can set `force_col_wise=true`.\n",
      "[LightGBM] [Info] Total Bins 652\n",
      "[LightGBM] [Info] Number of data points in the train set: 118976, number of used features: 20\n",
      "[LightGBM] [Info] Start training from score 5332.974718\n",
      "0:\tlearn: 4729.0822961\ttotal: 73.9ms\tremaining: 2.14s\n",
      "1:\tlearn: 4696.7224544\ttotal: 102ms\tremaining: 1.43s\n",
      "2:\tlearn: 4665.0618966\ttotal: 130ms\tremaining: 1.17s\n",
      "3:\tlearn: 4632.9857155\ttotal: 168ms\tremaining: 1.09s\n",
      "4:\tlearn: 4601.6311444\ttotal: 184ms\tremaining: 922ms\n",
      "5:\tlearn: 4570.3828946\ttotal: 195ms\tremaining: 780ms\n",
      "6:\tlearn: 4539.9260500\ttotal: 210ms\tremaining: 690ms\n",
      "7:\tlearn: 4509.2222624\ttotal: 236ms\tremaining: 649ms\n",
      "8:\tlearn: 4479.4085233\ttotal: 252ms\tremaining: 587ms\n",
      "9:\tlearn: 4449.7637634\ttotal: 269ms\tremaining: 538ms\n",
      "10:\tlearn: 4420.6964405\ttotal: 284ms\tremaining: 491ms\n",
      "11:\tlearn: 4391.9436678\ttotal: 303ms\tremaining: 455ms\n",
      "12:\tlearn: 4363.2310960\ttotal: 326ms\tremaining: 427ms\n",
      "13:\tlearn: 4334.7427982\ttotal: 351ms\tremaining: 401ms\n",
      "14:\tlearn: 4306.6852665\ttotal: 368ms\tremaining: 368ms\n",
      "15:\tlearn: 4278.9405287\ttotal: 390ms\tremaining: 341ms\n",
      "16:\tlearn: 4251.4465731\ttotal: 406ms\tremaining: 311ms\n",
      "17:\tlearn: 4225.1609584\ttotal: 431ms\tremaining: 287ms\n",
      "18:\tlearn: 4198.4536851\ttotal: 455ms\tremaining: 263ms\n",
      "19:\tlearn: 4172.0914800\ttotal: 485ms\tremaining: 242ms\n",
      "20:\tlearn: 4146.1362342\ttotal: 504ms\tremaining: 216ms\n",
      "21:\tlearn: 4120.1724215\ttotal: 527ms\tremaining: 192ms\n",
      "22:\tlearn: 4094.8954549\ttotal: 554ms\tremaining: 169ms\n",
      "23:\tlearn: 4069.5476954\ttotal: 576ms\tremaining: 144ms\n",
      "24:\tlearn: 4044.5380073\ttotal: 593ms\tremaining: 119ms\n",
      "25:\tlearn: 4019.7416428\ttotal: 622ms\tremaining: 95.7ms\n",
      "26:\tlearn: 3995.5785620\ttotal: 665ms\tremaining: 73.9ms\n",
      "27:\tlearn: 3971.4555530\ttotal: 722ms\tremaining: 51.6ms\n",
      "28:\tlearn: 3947.8649712\ttotal: 737ms\tremaining: 25.4ms\n",
      "29:\tlearn: 3924.2112836\ttotal: 769ms\tremaining: 0us\n",
      "0:\tlearn: 4608.5592913\ttotal: 37.9ms\tremaining: 1.1s\n",
      "1:\tlearn: 4454.3155684\ttotal: 82ms\tremaining: 1.15s\n",
      "2:\tlearn: 4310.6899360\ttotal: 103ms\tremaining: 925ms\n",
      "3:\tlearn: 4175.7573594\ttotal: 121ms\tremaining: 790ms\n",
      "4:\tlearn: 4046.5370787\ttotal: 139ms\tremaining: 694ms\n",
      "5:\tlearn: 3924.8516022\ttotal: 163ms\tremaining: 650ms\n",
      "6:\tlearn: 3809.5323906\ttotal: 186ms\tremaining: 611ms\n",
      "7:\tlearn: 3701.1832669\ttotal: 208ms\tremaining: 573ms\n",
      "8:\tlearn: 3599.6266848\ttotal: 222ms\tremaining: 519ms\n",
      "9:\tlearn: 3504.4832395\ttotal: 253ms\tremaining: 505ms\n",
      "10:\tlearn: 3412.1479653\ttotal: 271ms\tremaining: 468ms\n",
      "11:\tlearn: 3324.3502833\ttotal: 295ms\tremaining: 443ms\n",
      "12:\tlearn: 3241.3262058\ttotal: 316ms\tremaining: 413ms\n",
      "13:\tlearn: 3165.9753452\ttotal: 339ms\tremaining: 387ms\n",
      "14:\tlearn: 3094.6306081\ttotal: 359ms\tremaining: 359ms\n",
      "15:\tlearn: 3027.3311963\ttotal: 376ms\tremaining: 329ms\n",
      "16:\tlearn: 2962.0366463\ttotal: 393ms\tremaining: 301ms\n",
      "17:\tlearn: 2900.4699439\ttotal: 411ms\tremaining: 274ms\n",
      "18:\tlearn: 2843.7222980\ttotal: 431ms\tremaining: 250ms\n",
      "19:\tlearn: 2793.1518221\ttotal: 455ms\tremaining: 228ms\n",
      "20:\tlearn: 2743.3582627\ttotal: 478ms\tremaining: 205ms\n",
      "21:\tlearn: 2697.4001082\ttotal: 501ms\tremaining: 182ms\n",
      "22:\tlearn: 2651.6425013\ttotal: 526ms\tremaining: 160ms\n",
      "23:\tlearn: 2609.7943117\ttotal: 553ms\tremaining: 138ms\n",
      "24:\tlearn: 2569.6821184\ttotal: 572ms\tremaining: 114ms\n",
      "25:\tlearn: 2532.7404819\ttotal: 597ms\tremaining: 91.8ms\n",
      "26:\tlearn: 2497.9073943\ttotal: 622ms\tremaining: 69.1ms\n",
      "27:\tlearn: 2465.1092404\ttotal: 638ms\tremaining: 45.6ms\n",
      "28:\tlearn: 2433.2331594\ttotal: 658ms\tremaining: 22.7ms\n",
      "29:\tlearn: 2404.4819712\ttotal: 678ms\tremaining: 0us\n",
      "0:\tlearn: 4742.1192788\ttotal: 12.6ms\tremaining: 618ms\n",
      "1:\tlearn: 4709.5609868\ttotal: 51.9ms\tremaining: 1.24s\n",
      "2:\tlearn: 4677.5604646\ttotal: 78.7ms\tremaining: 1.23s\n",
      "3:\tlearn: 4645.4703175\ttotal: 114ms\tremaining: 1.31s\n",
      "4:\tlearn: 4613.9607767\ttotal: 150ms\tremaining: 1.35s\n",
      "5:\tlearn: 4582.6733387\ttotal: 181ms\tremaining: 1.33s\n",
      "6:\tlearn: 4552.1019962\ttotal: 204ms\tremaining: 1.25s\n",
      "7:\tlearn: 4521.4693107\ttotal: 228ms\tremaining: 1.19s\n",
      "8:\tlearn: 4491.6813660\ttotal: 245ms\tremaining: 1.12s\n",
      "9:\tlearn: 4462.1133980\ttotal: 276ms\tremaining: 1.1s\n",
      "10:\tlearn: 4432.6076227\ttotal: 298ms\tremaining: 1.06s\n",
      "11:\tlearn: 4403.4413847\ttotal: 334ms\tremaining: 1.06s\n",
      "12:\tlearn: 4374.5958647\ttotal: 367ms\tremaining: 1.04s\n",
      "13:\tlearn: 4345.8422142\ttotal: 409ms\tremaining: 1.05s\n",
      "14:\tlearn: 4317.7114507\ttotal: 455ms\tremaining: 1.06s\n",
      "15:\tlearn: 4289.7169747\ttotal: 479ms\tremaining: 1.02s\n",
      "16:\tlearn: 4262.7624969\ttotal: 496ms\tremaining: 963ms\n",
      "17:\tlearn: 4235.6209729\ttotal: 515ms\tremaining: 916ms\n",
      "18:\tlearn: 4208.6814672\ttotal: 532ms\tremaining: 869ms\n",
      "19:\tlearn: 4182.1862934\ttotal: 549ms\tremaining: 824ms\n",
      "20:\tlearn: 4156.1776230\ttotal: 570ms\tremaining: 787ms\n",
      "21:\tlearn: 4129.9091664\ttotal: 602ms\tremaining: 766ms\n",
      "22:\tlearn: 4104.4626806\ttotal: 619ms\tremaining: 726ms\n",
      "23:\tlearn: 4079.0950498\ttotal: 639ms\tremaining: 693ms\n",
      "24:\tlearn: 4054.4497999\ttotal: 678ms\tremaining: 678ms\n",
      "25:\tlearn: 4029.7591955\ttotal: 705ms\tremaining: 651ms\n",
      "26:\tlearn: 4005.4404816\ttotal: 724ms\tremaining: 616ms\n",
      "27:\tlearn: 3981.7890951\ttotal: 754ms\tremaining: 592ms\n",
      "28:\tlearn: 3958.7032440\ttotal: 781ms\tremaining: 566ms\n",
      "29:\tlearn: 3934.9475318\ttotal: 802ms\tremaining: 535ms\n",
      "30:\tlearn: 3911.6303787\ttotal: 828ms\tremaining: 507ms\n",
      "31:\tlearn: 3888.7216857\ttotal: 860ms\tremaining: 484ms\n",
      "32:\tlearn: 3865.9572650\ttotal: 880ms\tremaining: 453ms\n",
      "33:\tlearn: 3843.2220390\ttotal: 898ms\tremaining: 423ms\n",
      "34:\tlearn: 3820.9920020\ttotal: 922ms\tremaining: 395ms\n",
      "35:\tlearn: 3799.1432633\ttotal: 937ms\tremaining: 364ms\n",
      "36:\tlearn: 3777.9587741\ttotal: 956ms\tremaining: 336ms\n",
      "37:\tlearn: 3756.4263689\ttotal: 971ms\tremaining: 307ms\n",
      "38:\tlearn: 3735.2357313\ttotal: 995ms\tremaining: 281ms\n",
      "39:\tlearn: 3714.2633826\ttotal: 1.02s\tremaining: 254ms\n",
      "40:\tlearn: 3693.5332735\ttotal: 1.04s\tremaining: 227ms\n",
      "41:\tlearn: 3673.2771259\ttotal: 1.05s\tremaining: 201ms\n",
      "42:\tlearn: 3652.9338088\ttotal: 1.08s\tremaining: 176ms\n",
      "43:\tlearn: 3632.9771637\ttotal: 1.1s\tremaining: 150ms\n",
      "44:\tlearn: 3613.4759508\ttotal: 1.13s\tremaining: 126ms\n",
      "45:\tlearn: 3593.8102041\ttotal: 1.15s\tremaining: 100ms\n",
      "46:\tlearn: 3574.6249583\ttotal: 1.18s\tremaining: 75.1ms\n",
      "47:\tlearn: 3555.8432983\ttotal: 1.2s\tremaining: 49.9ms\n",
      "48:\tlearn: 3537.2336661\ttotal: 1.23s\tremaining: 25.1ms\n",
      "49:\tlearn: 3518.7574147\ttotal: 1.25s\tremaining: 0us\n",
      "0:\tlearn: 4608.5592913\ttotal: 17.5ms\tremaining: 856ms\n",
      "1:\tlearn: 4454.3155684\ttotal: 48.4ms\tremaining: 1.16s\n",
      "2:\tlearn: 4310.6899360\ttotal: 64.5ms\tremaining: 1.01s\n",
      "3:\tlearn: 4175.7573594\ttotal: 79.7ms\tremaining: 916ms\n",
      "4:\tlearn: 4046.5370787\ttotal: 105ms\tremaining: 946ms\n",
      "5:\tlearn: 3924.8516022\ttotal: 130ms\tremaining: 954ms\n",
      "6:\tlearn: 3809.5323906\ttotal: 160ms\tremaining: 983ms\n",
      "7:\tlearn: 3701.1832669\ttotal: 184ms\tremaining: 966ms\n",
      "8:\tlearn: 3599.6266848\ttotal: 217ms\tremaining: 987ms\n",
      "9:\tlearn: 3504.4832395\ttotal: 234ms\tremaining: 937ms\n",
      "10:\tlearn: 3412.1479653\ttotal: 254ms\tremaining: 900ms\n",
      "11:\tlearn: 3324.3502833\ttotal: 278ms\tremaining: 882ms\n",
      "12:\tlearn: 3241.3262058\ttotal: 304ms\tremaining: 865ms\n",
      "13:\tlearn: 3165.9753452\ttotal: 324ms\tremaining: 834ms\n",
      "14:\tlearn: 3094.6306081\ttotal: 344ms\tremaining: 802ms\n",
      "15:\tlearn: 3027.3311963\ttotal: 361ms\tremaining: 766ms\n",
      "16:\tlearn: 2962.0366463\ttotal: 391ms\tremaining: 760ms\n",
      "17:\tlearn: 2900.4699439\ttotal: 411ms\tremaining: 730ms\n",
      "18:\tlearn: 2843.7222980\ttotal: 444ms\tremaining: 725ms\n",
      "19:\tlearn: 2793.1518221\ttotal: 457ms\tremaining: 686ms\n",
      "20:\tlearn: 2743.3582627\ttotal: 473ms\tremaining: 653ms\n",
      "21:\tlearn: 2697.4001082\ttotal: 489ms\tremaining: 623ms\n",
      "22:\tlearn: 2651.6425013\ttotal: 510ms\tremaining: 599ms\n",
      "23:\tlearn: 2609.7943117\ttotal: 529ms\tremaining: 573ms\n",
      "24:\tlearn: 2569.6821184\ttotal: 545ms\tremaining: 545ms\n",
      "25:\tlearn: 2532.7404819\ttotal: 571ms\tremaining: 527ms\n",
      "26:\tlearn: 2497.9073943\ttotal: 600ms\tremaining: 511ms\n",
      "27:\tlearn: 2465.1092404\ttotal: 615ms\tremaining: 484ms\n",
      "28:\tlearn: 2433.2331594\ttotal: 637ms\tremaining: 461ms\n",
      "29:\tlearn: 2404.4819712\ttotal: 674ms\tremaining: 449ms\n",
      "30:\tlearn: 2376.4179796\ttotal: 702ms\tremaining: 430ms\n",
      "31:\tlearn: 2349.2442389\ttotal: 723ms\tremaining: 406ms\n",
      "32:\tlearn: 2324.1783220\ttotal: 742ms\tremaining: 382ms\n",
      "33:\tlearn: 2301.6581989\ttotal: 763ms\tremaining: 359ms\n",
      "34:\tlearn: 2280.5230975\ttotal: 786ms\tremaining: 337ms\n",
      "35:\tlearn: 2259.6780360\ttotal: 805ms\tremaining: 313ms\n",
      "36:\tlearn: 2239.6890570\ttotal: 825ms\tremaining: 290ms\n",
      "37:\tlearn: 2221.2726577\ttotal: 851ms\tremaining: 269ms\n",
      "38:\tlearn: 2204.1517754\ttotal: 868ms\tremaining: 245ms\n",
      "39:\tlearn: 2187.6194623\ttotal: 888ms\tremaining: 222ms\n",
      "40:\tlearn: 2172.1000851\ttotal: 916ms\tremaining: 201ms\n",
      "41:\tlearn: 2157.4885501\ttotal: 945ms\tremaining: 180ms\n",
      "42:\tlearn: 2144.1981226\ttotal: 967ms\tremaining: 157ms\n",
      "43:\tlearn: 2131.4291092\ttotal: 1s\tremaining: 137ms\n",
      "44:\tlearn: 2118.4758384\ttotal: 1.02s\tremaining: 114ms\n",
      "45:\tlearn: 2106.8345812\ttotal: 1.04s\tremaining: 90.7ms\n",
      "46:\tlearn: 2095.3626384\ttotal: 1.06s\tremaining: 67.9ms\n",
      "47:\tlearn: 2084.3972026\ttotal: 1.09s\tremaining: 45.4ms\n",
      "48:\tlearn: 2074.6192881\ttotal: 1.11s\tremaining: 22.7ms\n",
      "49:\tlearn: 2064.7476459\ttotal: 1.13s\tremaining: 0us\n",
      "0:\tlearn: 4733.9224452\ttotal: 26.1ms\tremaining: 2.58s\n",
      "1:\tlearn: 4701.5637577\ttotal: 56.1ms\tremaining: 2.75s\n",
      "2:\tlearn: 4669.7534740\ttotal: 72.5ms\tremaining: 2.34s\n",
      "3:\tlearn: 4638.0471128\ttotal: 106ms\tremaining: 2.54s\n",
      "4:\tlearn: 4606.8713320\ttotal: 129ms\tremaining: 2.44s\n",
      "5:\tlearn: 4575.6668543\ttotal: 167ms\tremaining: 2.61s\n",
      "6:\tlearn: 4545.4360244\ttotal: 185ms\tremaining: 2.46s\n",
      "7:\tlearn: 4515.1079190\ttotal: 207ms\tremaining: 2.38s\n",
      "8:\tlearn: 4484.7594579\ttotal: 239ms\tremaining: 2.41s\n",
      "9:\tlearn: 4455.5484018\ttotal: 263ms\tremaining: 2.37s\n",
      "10:\tlearn: 4426.5606866\ttotal: 281ms\tremaining: 2.27s\n",
      "11:\tlearn: 4397.6410622\ttotal: 318ms\tremaining: 2.33s\n",
      "12:\tlearn: 4368.6981415\ttotal: 342ms\tremaining: 2.29s\n",
      "13:\tlearn: 4340.2633738\ttotal: 365ms\tremaining: 2.24s\n",
      "14:\tlearn: 4312.2152149\ttotal: 384ms\tremaining: 2.18s\n",
      "15:\tlearn: 4284.1934758\ttotal: 407ms\tremaining: 2.13s\n",
      "16:\tlearn: 4256.5561852\ttotal: 426ms\tremaining: 2.08s\n",
      "17:\tlearn: 4229.4191958\ttotal: 448ms\tremaining: 2.04s\n",
      "18:\tlearn: 4202.7247923\ttotal: 473ms\tremaining: 2.01s\n",
      "19:\tlearn: 4176.4725023\ttotal: 492ms\tremaining: 1.97s\n",
      "20:\tlearn: 4150.8323717\ttotal: 506ms\tremaining: 1.9s\n",
      "21:\tlearn: 4125.0257156\ttotal: 528ms\tremaining: 1.87s\n",
      "22:\tlearn: 4099.3347017\ttotal: 554ms\tremaining: 1.86s\n",
      "23:\tlearn: 4074.0322134\ttotal: 576ms\tremaining: 1.82s\n",
      "24:\tlearn: 4048.9459061\ttotal: 597ms\tremaining: 1.79s\n",
      "25:\tlearn: 4024.4567329\ttotal: 616ms\tremaining: 1.75s\n",
      "26:\tlearn: 3999.9612818\ttotal: 634ms\tremaining: 1.72s\n",
      "27:\tlearn: 3975.7557754\ttotal: 655ms\tremaining: 1.68s\n",
      "28:\tlearn: 3952.3155344\ttotal: 678ms\tremaining: 1.66s\n",
      "29:\tlearn: 3928.8219021\ttotal: 694ms\tremaining: 1.62s\n",
      "30:\tlearn: 3905.4959819\ttotal: 717ms\tremaining: 1.6s\n",
      "31:\tlearn: 3882.5862210\ttotal: 742ms\tremaining: 1.58s\n",
      "32:\tlearn: 3860.2521738\ttotal: 781ms\tremaining: 1.58s\n",
      "33:\tlearn: 3837.9640571\ttotal: 798ms\tremaining: 1.55s\n",
      "34:\tlearn: 3815.6858332\ttotal: 814ms\tremaining: 1.51s\n",
      "35:\tlearn: 3793.3825492\ttotal: 860ms\tremaining: 1.53s\n",
      "36:\tlearn: 3772.0426334\ttotal: 886ms\tremaining: 1.51s\n",
      "37:\tlearn: 3750.2462251\ttotal: 913ms\tremaining: 1.49s\n",
      "38:\tlearn: 3729.1336537\ttotal: 933ms\tremaining: 1.46s\n",
      "39:\tlearn: 3708.2246542\ttotal: 961ms\tremaining: 1.44s\n",
      "40:\tlearn: 3687.2423492\ttotal: 991ms\tremaining: 1.43s\n",
      "41:\tlearn: 3666.8204319\ttotal: 1.01s\tremaining: 1.4s\n",
      "42:\tlearn: 3646.8570946\ttotal: 1.03s\tremaining: 1.37s\n",
      "43:\tlearn: 3626.6474946\ttotal: 1.06s\tremaining: 1.35s\n",
      "44:\tlearn: 3606.9800129\ttotal: 1.08s\tremaining: 1.32s\n",
      "45:\tlearn: 3587.6146326\ttotal: 1.1s\tremaining: 1.29s\n",
      "46:\tlearn: 3568.5699952\ttotal: 1.12s\tremaining: 1.26s\n",
      "47:\tlearn: 3549.6968616\ttotal: 1.14s\tremaining: 1.23s\n",
      "48:\tlearn: 3531.0846731\ttotal: 1.16s\tremaining: 1.21s\n",
      "49:\tlearn: 3512.5448220\ttotal: 1.18s\tremaining: 1.18s\n",
      "50:\tlearn: 3494.1174813\ttotal: 1.21s\tremaining: 1.16s\n",
      "51:\tlearn: 3475.7762356\ttotal: 1.23s\tremaining: 1.13s\n",
      "[LightGBM] [Warning] Auto-choosing row-wise multi-threading, the overhead of testing was 0.038878 seconds.\n",
      "You can set `force_row_wise=true` to remove the overhead.\n",
      "And if memory is not enough, you can set `force_col_wise=true`.\n",
      "[LightGBM] [Info] Total Bins 652\n",
      "[LightGBM] [Info] Number of data points in the train set: 118976, number of used features: 20\n",
      "[LightGBM] [Info] Start training from score 5332.974718\n",
      "[LightGBM] [Warning] Auto-choosing col-wise multi-threading, the overhead of testing was 0.030798 seconds.\n",
      "You can set `force_col_wise=true` to remove the overhead.\n",
      "[LightGBM] [Info] Total Bins 653\n",
      "[LightGBM] [Info] Number of data points in the train set: 118976, number of used features: 20\n",
      "[LightGBM] [Info] Start training from score 5343.806566\n",
      "[LightGBM] [Warning] Auto-choosing row-wise multi-threading, the overhead of testing was 0.016079 seconds.\n",
      "You can set `force_row_wise=true` to remove the overhead.\n",
      "And if memory is not enough, you can set `force_col_wise=true`.\n",
      "[LightGBM] [Info] Total Bins 652\n",
      "[LightGBM] [Info] Number of data points in the train set: 118976, number of used features: 20\n",
      "[LightGBM] [Info] Start training from score 5332.974718\n",
      "[LightGBM] [Warning] Auto-choosing row-wise multi-threading, the overhead of testing was 0.014766 seconds.\n",
      "You can set `force_row_wise=true` to remove the overhead.\n",
      "And if memory is not enough, you can set `force_col_wise=true`.\n",
      "[LightGBM] [Info] Total Bins 652\n",
      "[LightGBM] [Info] Number of data points in the train set: 118976, number of used features: 20\n",
      "[LightGBM] [Info] Start training from score 5328.400257\n",
      "[LightGBM] [Warning] Auto-choosing row-wise multi-threading, the overhead of testing was 0.016946 seconds.\n",
      "You can set `force_row_wise=true` to remove the overhead.\n",
      "And if memory is not enough, you can set `force_col_wise=true`.\n",
      "[LightGBM] [Info] Total Bins 652\n",
      "[LightGBM] [Info] Number of data points in the train set: 118976, number of used features: 20\n",
      "[LightGBM] [Info] Start training from score 5332.974718\n",
      "[LightGBM] [Warning] Auto-choosing row-wise multi-threading, the overhead of testing was 0.015285 seconds.\n",
      "You can set `force_row_wise=true` to remove the overhead.\n",
      "And if memory is not enough, you can set `force_col_wise=true`.\n",
      "[LightGBM] [Info] Total Bins 652\n",
      "[LightGBM] [Info] Number of data points in the train set: 118976, number of used features: 20\n",
      "[LightGBM] [Info] Start training from score 5328.400257\n",
      "[LightGBM] [Warning] Auto-choosing row-wise multi-threading, the overhead of testing was 0.019410 seconds.\n",
      "You can set `force_row_wise=true` to remove the overhead.\n",
      "And if memory is not enough, you can set `force_col_wise=true`.\n",
      "[LightGBM] [Info] Total Bins 654\n",
      "[LightGBM] [Info] Number of data points in the train set: 118976, number of used features: 20\n",
      "[LightGBM] [Info] Start training from score 5329.083958\n",
      "[LightGBM] [Warning] Auto-choosing row-wise multi-threading, the overhead of testing was 0.017681 seconds.\n",
      "You can set `force_row_wise=true` to remove the overhead.\n",
      "And if memory is not enough, you can set `force_col_wise=true`.\n",
      "[LightGBM] [Info] Total Bins 652\n",
      "[LightGBM] [Info] Number of data points in the train set: 118976, number of used features: 20\n",
      "[LightGBM] [Info] Start training from score 5331.359703\n",
      "[LightGBM] [Warning] Auto-choosing row-wise multi-threading, the overhead of testing was 0.038341 seconds.\n",
      "You can set `force_row_wise=true` to remove the overhead.\n",
      "And if memory is not enough, you can set `force_col_wise=true`.\n",
      "[LightGBM] [Info] Total Bins 652\n",
      "[LightGBM] [Info] Number of data points in the train set: 118976, number of used features: 20\n",
      "[LightGBM] [Info] Start training from score 5331.359703\n",
      "[LightGBM] [Warning] Auto-choosing col-wise multi-threading, the overhead of testing was 0.022569 seconds.\n",
      "You can set `force_col_wise=true` to remove the overhead.\n",
      "[LightGBM] [Info] Total Bins 653\n",
      "[LightGBM] [Info] Number of data points in the train set: 118976, number of used features: 20\n",
      "[LightGBM] [Info] Start training from score 5343.806566\n",
      "[LightGBM] [Warning] No further splits with positive gain, best gain: -inf\n",
      "[LightGBM] [Warning] No further splits with positive gain, best gain: -inf\n",
      "[LightGBM] [Warning] Auto-choosing row-wise multi-threading, the overhead of testing was 0.017319 seconds.\n",
      "You can set `force_row_wise=true` to remove the overhead.\n",
      "And if memory is not enough, you can set `force_col_wise=true`.\n",
      "[LightGBM] [Info] Total Bins 652\n",
      "[LightGBM] [Info] Number of data points in the train set: 118976, number of used features: 20\n",
      "[LightGBM] [Info] Start training from score 5332.974718\n",
      "0:\tlearn: 4602.2449026\ttotal: 87.3ms\tremaining: 2.53s\n",
      "1:\tlearn: 4446.9643719\ttotal: 111ms\tremaining: 1.55s\n",
      "2:\tlearn: 4302.5190034\ttotal: 133ms\tremaining: 1.2s\n",
      "3:\tlearn: 4166.2521071\ttotal: 156ms\tremaining: 1.01s\n",
      "4:\tlearn: 4037.8558659\ttotal: 186ms\tremaining: 932ms\n",
      "5:\tlearn: 3915.8780623\ttotal: 214ms\tremaining: 855ms\n",
      "6:\tlearn: 3804.3040425\ttotal: 241ms\tremaining: 792ms\n",
      "7:\tlearn: 3697.0349997\ttotal: 270ms\tremaining: 743ms\n",
      "8:\tlearn: 3592.3557467\ttotal: 289ms\tremaining: 673ms\n",
      "9:\tlearn: 3496.4203894\ttotal: 311ms\tremaining: 622ms\n",
      "10:\tlearn: 3406.3990522\ttotal: 328ms\tremaining: 566ms\n",
      "11:\tlearn: 3321.0377823\ttotal: 346ms\tremaining: 520ms\n",
      "12:\tlearn: 3239.7576422\ttotal: 362ms\tremaining: 474ms\n",
      "13:\tlearn: 3166.5130244\ttotal: 378ms\tremaining: 432ms\n",
      "14:\tlearn: 3092.7846928\ttotal: 411ms\tremaining: 411ms\n",
      "15:\tlearn: 3024.3394369\ttotal: 447ms\tremaining: 391ms\n",
      "16:\tlearn: 2962.2255680\ttotal: 463ms\tremaining: 354ms\n",
      "17:\tlearn: 2902.0680861\ttotal: 484ms\tremaining: 323ms\n",
      "18:\tlearn: 2846.7907783\ttotal: 509ms\tremaining: 294ms\n",
      "19:\tlearn: 2794.6333464\ttotal: 524ms\tremaining: 262ms\n",
      "20:\tlearn: 2745.0655502\ttotal: 547ms\tremaining: 234ms\n",
      "21:\tlearn: 2697.5586412\ttotal: 565ms\tremaining: 205ms\n",
      "22:\tlearn: 2653.8615338\ttotal: 582ms\tremaining: 177ms\n",
      "23:\tlearn: 2611.1947689\ttotal: 612ms\tremaining: 153ms\n",
      "24:\tlearn: 2571.6290073\ttotal: 641ms\tremaining: 128ms\n",
      "25:\tlearn: 2533.9689247\ttotal: 706ms\tremaining: 109ms\n",
      "26:\tlearn: 2499.6497394\ttotal: 737ms\tremaining: 81.9ms\n",
      "27:\tlearn: 2466.4098981\ttotal: 761ms\tremaining: 54.3ms\n",
      "28:\tlearn: 2436.5188317\ttotal: 781ms\tremaining: 26.9ms\n",
      "29:\tlearn: 2408.0103473\ttotal: 804ms\tremaining: 0us\n",
      "0:\tlearn: 4446.1450081\ttotal: 25.3ms\tremaining: 734ms\n",
      "1:\tlearn: 4157.8719664\ttotal: 41.3ms\tremaining: 579ms\n",
      "2:\tlearn: 3907.3555475\ttotal: 55.4ms\tremaining: 499ms\n",
      "3:\tlearn: 3683.6345142\ttotal: 78.4ms\tremaining: 510ms\n",
      "4:\tlearn: 3476.3444262\ttotal: 108ms\tremaining: 540ms\n",
      "5:\tlearn: 3298.5383837\ttotal: 151ms\tremaining: 604ms\n",
      "6:\tlearn: 3139.5560205\ttotal: 176ms\tremaining: 577ms\n",
      "7:\tlearn: 3000.4894768\ttotal: 203ms\tremaining: 557ms\n",
      "8:\tlearn: 2880.4330307\ttotal: 223ms\tremaining: 520ms\n",
      "9:\tlearn: 2768.9189458\ttotal: 254ms\tremaining: 508ms\n",
      "10:\tlearn: 2671.6539491\ttotal: 274ms\tremaining: 474ms\n",
      "11:\tlearn: 2585.6739700\ttotal: 311ms\tremaining: 467ms\n",
      "12:\tlearn: 2509.4155790\ttotal: 334ms\tremaining: 436ms\n",
      "13:\tlearn: 2445.9277036\ttotal: 355ms\tremaining: 406ms\n",
      "14:\tlearn: 2384.4619207\ttotal: 378ms\tremaining: 378ms\n",
      "15:\tlearn: 2331.6590415\ttotal: 395ms\tremaining: 346ms\n",
      "16:\tlearn: 2285.3956013\ttotal: 416ms\tremaining: 318ms\n",
      "17:\tlearn: 2245.8676400\ttotal: 434ms\tremaining: 289ms\n",
      "18:\tlearn: 2208.3251297\ttotal: 475ms\tremaining: 275ms\n",
      "19:\tlearn: 2176.0983904\ttotal: 496ms\tremaining: 248ms\n",
      "20:\tlearn: 2145.1225509\ttotal: 511ms\tremaining: 219ms\n",
      "21:\tlearn: 2118.7895289\ttotal: 547ms\tremaining: 199ms\n",
      "22:\tlearn: 2094.9579660\ttotal: 565ms\tremaining: 172ms\n",
      "23:\tlearn: 2072.4720265\ttotal: 583ms\tremaining: 146ms\n",
      "24:\tlearn: 2053.7962641\ttotal: 603ms\tremaining: 121ms\n",
      "25:\tlearn: 2036.1800354\ttotal: 622ms\tremaining: 95.7ms\n",
      "26:\tlearn: 2021.4624765\ttotal: 639ms\tremaining: 70.9ms\n",
      "27:\tlearn: 2008.3643783\ttotal: 665ms\tremaining: 47.5ms\n",
      "28:\tlearn: 1995.0694924\ttotal: 688ms\tremaining: 23.7ms\n",
      "29:\tlearn: 1983.3825688\ttotal: 703ms\tremaining: 0us\n",
      "0:\tlearn: 4611.3395858\ttotal: 29.2ms\tremaining: 1.43s\n",
      "1:\tlearn: 4457.0376408\ttotal: 55.4ms\tremaining: 1.33s\n",
      "2:\tlearn: 4313.0232168\ttotal: 78.2ms\tremaining: 1.23s\n",
      "3:\tlearn: 4176.2687047\ttotal: 98.6ms\tremaining: 1.13s\n",
      "4:\tlearn: 4045.3817774\ttotal: 117ms\tremaining: 1.05s\n",
      "5:\tlearn: 3926.5822805\ttotal: 132ms\tremaining: 971ms\n",
      "6:\tlearn: 3811.6358212\ttotal: 151ms\tremaining: 929ms\n",
      "7:\tlearn: 3702.5073589\ttotal: 167ms\tremaining: 879ms\n",
      "8:\tlearn: 3600.3794644\ttotal: 190ms\tremaining: 866ms\n",
      "9:\tlearn: 3503.8106979\ttotal: 205ms\tremaining: 818ms\n",
      "10:\tlearn: 3412.7337300\ttotal: 230ms\tremaining: 815ms\n",
      "11:\tlearn: 3328.9878357\ttotal: 268ms\tremaining: 847ms\n",
      "12:\tlearn: 3249.5110081\ttotal: 300ms\tremaining: 855ms\n",
      "13:\tlearn: 3173.3555593\ttotal: 324ms\tremaining: 834ms\n",
      "14:\tlearn: 3101.1378858\ttotal: 344ms\tremaining: 802ms\n",
      "15:\tlearn: 3033.5173393\ttotal: 364ms\tremaining: 775ms\n",
      "16:\tlearn: 2970.3834908\ttotal: 383ms\tremaining: 744ms\n",
      "17:\tlearn: 2909.8861085\ttotal: 401ms\tremaining: 712ms\n",
      "18:\tlearn: 2853.4786203\ttotal: 420ms\tremaining: 686ms\n",
      "19:\tlearn: 2802.1811552\ttotal: 449ms\tremaining: 674ms\n",
      "20:\tlearn: 2750.3180226\ttotal: 474ms\tremaining: 654ms\n",
      "21:\tlearn: 2702.4882081\ttotal: 494ms\tremaining: 629ms\n",
      "22:\tlearn: 2658.7976515\ttotal: 509ms\tremaining: 598ms\n",
      "23:\tlearn: 2617.0559393\ttotal: 542ms\tremaining: 588ms\n",
      "24:\tlearn: 2577.1230030\ttotal: 562ms\tremaining: 562ms\n",
      "25:\tlearn: 2539.1689480\ttotal: 585ms\tremaining: 540ms\n",
      "26:\tlearn: 2504.3349020\ttotal: 612ms\tremaining: 522ms\n",
      "27:\tlearn: 2471.4647812\ttotal: 629ms\tremaining: 494ms\n",
      "28:\tlearn: 2440.1950232\ttotal: 649ms\tremaining: 470ms\n",
      "29:\tlearn: 2410.8546780\ttotal: 670ms\tremaining: 446ms\n",
      "30:\tlearn: 2383.1732431\ttotal: 690ms\tremaining: 423ms\n",
      "31:\tlearn: 2356.9076254\ttotal: 721ms\tremaining: 406ms\n",
      "32:\tlearn: 2331.7262303\ttotal: 750ms\tremaining: 386ms\n",
      "33:\tlearn: 2308.0890846\ttotal: 775ms\tremaining: 365ms\n",
      "34:\tlearn: 2286.2568524\ttotal: 819ms\tremaining: 351ms\n",
      "35:\tlearn: 2266.1607043\ttotal: 844ms\tremaining: 328ms\n",
      "36:\tlearn: 2246.8418419\ttotal: 869ms\tremaining: 305ms\n",
      "37:\tlearn: 2230.0087666\ttotal: 891ms\tremaining: 281ms\n",
      "38:\tlearn: 2213.1443323\ttotal: 910ms\tremaining: 257ms\n",
      "39:\tlearn: 2197.0197473\ttotal: 927ms\tremaining: 232ms\n",
      "40:\tlearn: 2181.1005544\ttotal: 947ms\tremaining: 208ms\n",
      "41:\tlearn: 2166.0048274\ttotal: 971ms\tremaining: 185ms\n",
      "42:\tlearn: 2152.2686909\ttotal: 991ms\tremaining: 161ms\n",
      "43:\tlearn: 2139.1851189\ttotal: 1.01s\tremaining: 138ms\n",
      "44:\tlearn: 2126.1291821\ttotal: 1.04s\tremaining: 115ms\n",
      "45:\tlearn: 2114.3483159\ttotal: 1.05s\tremaining: 91.6ms\n",
      "46:\tlearn: 2103.4725636\ttotal: 1.08s\tremaining: 69.1ms\n",
      "47:\tlearn: 2092.6465946\ttotal: 1.1s\tremaining: 45.9ms\n",
      "48:\tlearn: 2082.3680015\ttotal: 1.12s\tremaining: 23ms\n",
      "49:\tlearn: 2072.5750737\ttotal: 1.16s\tremaining: 0us\n",
      "0:\tlearn: 4450.4122572\ttotal: 26.2ms\tremaining: 1.28s\n",
      "1:\tlearn: 4163.1813963\ttotal: 49.3ms\tremaining: 1.18s\n",
      "2:\tlearn: 3911.8210041\ttotal: 73.9ms\tremaining: 1.16s\n",
      "3:\tlearn: 3686.3944778\ttotal: 101ms\tremaining: 1.16s\n",
      "4:\tlearn: 3481.0305741\ttotal: 124ms\tremaining: 1.11s\n",
      "5:\tlearn: 3301.7981944\ttotal: 150ms\tremaining: 1.1s\n",
      "6:\tlearn: 3143.1753683\ttotal: 182ms\tremaining: 1.12s\n",
      "7:\tlearn: 3002.5939425\ttotal: 203ms\tremaining: 1.07s\n",
      "8:\tlearn: 2878.5027155\ttotal: 222ms\tremaining: 1.01s\n",
      "9:\tlearn: 2770.4175754\ttotal: 245ms\tremaining: 980ms\n",
      "10:\tlearn: 2676.1756750\ttotal: 265ms\tremaining: 938ms\n",
      "11:\tlearn: 2591.1992634\ttotal: 280ms\tremaining: 888ms\n",
      "12:\tlearn: 2517.0603242\ttotal: 300ms\tremaining: 855ms\n",
      "13:\tlearn: 2450.8159068\ttotal: 317ms\tremaining: 816ms\n",
      "14:\tlearn: 2391.0014220\ttotal: 349ms\tremaining: 813ms\n",
      "15:\tlearn: 2337.1788436\ttotal: 372ms\tremaining: 790ms\n",
      "16:\tlearn: 2292.9996033\ttotal: 391ms\tremaining: 758ms\n",
      "17:\tlearn: 2248.7367482\ttotal: 417ms\tremaining: 741ms\n",
      "18:\tlearn: 2214.1251300\ttotal: 442ms\tremaining: 721ms\n",
      "19:\tlearn: 2181.9256010\ttotal: 483ms\tremaining: 724ms\n",
      "20:\tlearn: 2152.6755645\ttotal: 503ms\tremaining: 694ms\n",
      "21:\tlearn: 2126.9984105\ttotal: 525ms\tremaining: 668ms\n",
      "22:\tlearn: 2103.7960320\ttotal: 545ms\tremaining: 640ms\n",
      "23:\tlearn: 2081.9222940\ttotal: 581ms\tremaining: 629ms\n",
      "24:\tlearn: 2063.6606873\ttotal: 612ms\tremaining: 612ms\n",
      "25:\tlearn: 2047.4371661\ttotal: 637ms\tremaining: 588ms\n",
      "26:\tlearn: 2032.9770682\ttotal: 657ms\tremaining: 560ms\n",
      "27:\tlearn: 2019.5323046\ttotal: 681ms\tremaining: 535ms\n",
      "28:\tlearn: 2008.4397542\ttotal: 697ms\tremaining: 505ms\n",
      "29:\tlearn: 1996.4246276\ttotal: 721ms\tremaining: 481ms\n",
      "30:\tlearn: 1986.5734061\ttotal: 744ms\tremaining: 456ms\n",
      "31:\tlearn: 1976.1033217\ttotal: 761ms\tremaining: 428ms\n",
      "32:\tlearn: 1966.5138576\ttotal: 787ms\tremaining: 406ms\n",
      "33:\tlearn: 1958.8745304\ttotal: 808ms\tremaining: 380ms\n",
      "34:\tlearn: 1952.4712589\ttotal: 842ms\tremaining: 361ms\n",
      "35:\tlearn: 1942.8298930\ttotal: 867ms\tremaining: 337ms\n",
      "36:\tlearn: 1936.8951155\ttotal: 889ms\tremaining: 312ms\n",
      "37:\tlearn: 1932.0279918\ttotal: 907ms\tremaining: 286ms\n",
      "38:\tlearn: 1926.3896627\ttotal: 928ms\tremaining: 262ms\n",
      "39:\tlearn: 1921.0560294\ttotal: 942ms\tremaining: 235ms\n",
      "40:\tlearn: 1916.9757762\ttotal: 974ms\tremaining: 214ms\n",
      "41:\tlearn: 1909.9724072\ttotal: 996ms\tremaining: 190ms\n",
      "42:\tlearn: 1905.8555683\ttotal: 1.01s\tremaining: 164ms\n",
      "43:\tlearn: 1900.4262310\ttotal: 1.03s\tremaining: 141ms\n",
      "44:\tlearn: 1895.5356826\ttotal: 1.05s\tremaining: 117ms\n",
      "45:\tlearn: 1888.1115750\ttotal: 1.08s\tremaining: 93.8ms\n",
      "46:\tlearn: 1881.5554490\ttotal: 1.09s\tremaining: 69.8ms\n",
      "47:\tlearn: 1876.1309648\ttotal: 1.11s\tremaining: 46.4ms\n",
      "48:\tlearn: 1870.4726380\ttotal: 1.13s\tremaining: 23.1ms\n",
      "49:\tlearn: 1867.1291514\ttotal: 1.15s\tremaining: 0us\n",
      "0:\tlearn: 4740.5143712\ttotal: 21.6ms\tremaining: 2.14s\n",
      "1:\tlearn: 4707.4161132\ttotal: 52.8ms\tremaining: 2.59s\n",
      "2:\tlearn: 4675.3052918\ttotal: 87.4ms\tremaining: 2.83s\n",
      "3:\tlearn: 4643.4819898\ttotal: 108ms\tremaining: 2.58s\n",
      "4:\tlearn: 4612.0440768\ttotal: 135ms\tremaining: 2.56s\n",
      "5:\tlearn: 4580.7702565\ttotal: 152ms\tremaining: 2.38s\n",
      "6:\tlearn: 4550.1233439\ttotal: 169ms\tremaining: 2.25s\n",
      "7:\tlearn: 4520.0412042\ttotal: 186ms\tremaining: 2.14s\n",
      "8:\tlearn: 4490.4949247\ttotal: 218ms\tremaining: 2.21s\n",
      "9:\tlearn: 4460.8413933\ttotal: 242ms\tremaining: 2.18s\n",
      "10:\tlearn: 4431.1024366\ttotal: 268ms\tremaining: 2.17s\n",
      "11:\tlearn: 4402.0940030\ttotal: 287ms\tremaining: 2.1s\n",
      "12:\tlearn: 4373.3336810\ttotal: 307ms\tremaining: 2.05s\n",
      "13:\tlearn: 4345.5771285\ttotal: 326ms\tremaining: 2s\n",
      "14:\tlearn: 4317.3222357\ttotal: 346ms\tremaining: 1.96s\n",
      "15:\tlearn: 4289.3855000\ttotal: 362ms\tremaining: 1.9s\n",
      "16:\tlearn: 4261.7395057\ttotal: 383ms\tremaining: 1.87s\n",
      "17:\tlearn: 4234.8736124\ttotal: 408ms\tremaining: 1.86s\n",
      "18:\tlearn: 4208.2701272\ttotal: 428ms\tremaining: 1.82s\n",
      "19:\tlearn: 4181.7496496\ttotal: 451ms\tremaining: 1.8s\n",
      "20:\tlearn: 4155.8364156\ttotal: 474ms\tremaining: 1.78s\n",
      "21:\tlearn: 4129.9646696\ttotal: 510ms\tremaining: 1.81s\n",
      "22:\tlearn: 4104.5480663\ttotal: 538ms\tremaining: 1.8s\n",
      "23:\tlearn: 4079.1529264\ttotal: 564ms\tremaining: 1.79s\n",
      "24:\tlearn: 4053.9724500\ttotal: 598ms\tremaining: 1.79s\n",
      "25:\tlearn: 4029.2215412\ttotal: 619ms\tremaining: 1.76s\n",
      "26:\tlearn: 4004.6401073\ttotal: 638ms\tremaining: 1.72s\n",
      "27:\tlearn: 3980.3739170\ttotal: 665ms\tremaining: 1.71s\n",
      "28:\tlearn: 3956.7473029\ttotal: 713ms\tremaining: 1.75s\n",
      "29:\tlearn: 3933.0883308\ttotal: 736ms\tremaining: 1.72s\n",
      "30:\tlearn: 3909.7334842\ttotal: 759ms\tremaining: 1.69s\n",
      "31:\tlearn: 3886.7315351\ttotal: 779ms\tremaining: 1.66s\n",
      "32:\tlearn: 3864.1132215\ttotal: 801ms\tremaining: 1.63s\n",
      "33:\tlearn: 3841.8911962\ttotal: 824ms\tremaining: 1.6s\n",
      "34:\tlearn: 3820.2381001\ttotal: 843ms\tremaining: 1.56s\n",
      "35:\tlearn: 3798.5528181\ttotal: 862ms\tremaining: 1.53s\n",
      "36:\tlearn: 3776.8943312\ttotal: 881ms\tremaining: 1.5s\n",
      "37:\tlearn: 3755.3895048\ttotal: 905ms\tremaining: 1.48s\n",
      "38:\tlearn: 3734.0723994\ttotal: 928ms\tremaining: 1.45s\n",
      "39:\tlearn: 3713.2147043\ttotal: 946ms\tremaining: 1.42s\n",
      "40:\tlearn: 3692.4515073\ttotal: 962ms\tremaining: 1.38s\n",
      "41:\tlearn: 3671.9057631\ttotal: 986ms\tremaining: 1.36s\n",
      "42:\tlearn: 3651.6694277\ttotal: 1.01s\tremaining: 1.34s\n",
      "43:\tlearn: 3631.3037914\ttotal: 1.03s\tremaining: 1.31s\n",
      "44:\tlearn: 3611.7130805\ttotal: 1.06s\tremaining: 1.29s\n",
      "45:\tlearn: 3592.0183411\ttotal: 1.07s\tremaining: 1.26s\n",
      "46:\tlearn: 3572.3019932\ttotal: 1.09s\tremaining: 1.23s\n",
      "47:\tlearn: 3553.4198471\ttotal: 1.11s\tremaining: 1.2s\n",
      "48:\tlearn: 3534.8699939\ttotal: 1.14s\tremaining: 1.19s\n",
      "49:\tlearn: 3516.2434400\ttotal: 1.16s\tremaining: 1.16s\n",
      "50:\tlearn: 3498.0859310\ttotal: 1.18s\tremaining: 1.13s\n",
      "51:\tlearn: 3479.9292824\ttotal: 1.21s\tremaining: 1.12s\n",
      "52:\tlearn: 3461.3590770\ttotal: 1.24s\tremaining: 1.1s\n",
      "53:\tlearn: 3443.2860217\ttotal: 1.27s\tremaining: 1.08s\n",
      "54:\tlearn: 3425.7747867\ttotal: 1.29s\tremaining: 1.06s\n",
      "55:\tlearn: 3408.4939736\ttotal: 1.31s\tremaining: 1.03s\n",
      "56:\tlearn: 3391.0379263\ttotal: 1.34s\tremaining: 1.01s\n",
      "57:\tlearn: 3374.0201274\ttotal: 1.36s\tremaining: 987ms\n",
      "58:\tlearn: 3357.5068699\ttotal: 1.38s\tremaining: 959ms\n",
      "[LightGBM] [Warning] Auto-choosing row-wise multi-threading, the overhead of testing was 0.051483 seconds.\n",
      "You can set `force_row_wise=true` to remove the overhead.\n",
      "And if memory is not enough, you can set `force_col_wise=true`.\n",
      "[LightGBM] [Info] Total Bins 652\n",
      "[LightGBM] [Info] Number of data points in the train set: 118976, number of used features: 20\n",
      "[LightGBM] [Info] Start training from score 5332.974718\n",
      "[LightGBM] [Warning] Auto-choosing row-wise multi-threading, the overhead of testing was 0.025475 seconds.\n",
      "You can set `force_row_wise=true` to remove the overhead.\n",
      "And if memory is not enough, you can set `force_col_wise=true`.\n",
      "[LightGBM] [Info] Total Bins 652\n",
      "[LightGBM] [Info] Number of data points in the train set: 118976, number of used features: 20\n",
      "[LightGBM] [Info] Start training from score 5328.400257\n",
      "[LightGBM] [Warning] Auto-choosing row-wise multi-threading, the overhead of testing was 0.016700 seconds.\n",
      "You can set `force_row_wise=true` to remove the overhead.\n",
      "And if memory is not enough, you can set `force_col_wise=true`.\n",
      "[LightGBM] [Info] Total Bins 653\n",
      "[LightGBM] [Info] Number of data points in the train set: 118976, number of used features: 20\n",
      "[LightGBM] [Info] Start training from score 5343.806566\n",
      "[LightGBM] [Warning] No further splits with positive gain, best gain: -inf\n",
      "[LightGBM] [Warning] Auto-choosing row-wise multi-threading, the overhead of testing was 0.021356 seconds.\n",
      "You can set `force_row_wise=true` to remove the overhead.\n",
      "And if memory is not enough, you can set `force_col_wise=true`.\n",
      "[LightGBM] [Info] Total Bins 653\n",
      "[LightGBM] [Info] Number of data points in the train set: 118976, number of used features: 20\n",
      "[LightGBM] [Info] Start training from score 5343.806566\n",
      "[LightGBM] [Warning] Auto-choosing row-wise multi-threading, the overhead of testing was 0.017415 seconds.\n",
      "You can set `force_row_wise=true` to remove the overhead.\n",
      "And if memory is not enough, you can set `force_col_wise=true`.\n",
      "[LightGBM] [Info] Total Bins 652\n",
      "[LightGBM] [Info] Number of data points in the train set: 118976, number of used features: 20\n",
      "[LightGBM] [Info] Start training from score 5332.974718\n",
      "[LightGBM] [Warning] Auto-choosing row-wise multi-threading, the overhead of testing was 0.019419 seconds.\n",
      "You can set `force_row_wise=true` to remove the overhead.\n",
      "And if memory is not enough, you can set `force_col_wise=true`.\n",
      "[LightGBM] [Info] Total Bins 652\n",
      "[LightGBM] [Info] Number of data points in the train set: 118976, number of used features: 20\n",
      "[LightGBM] [Info] Start training from score 5328.400257\n",
      "[LightGBM] [Warning] Auto-choosing row-wise multi-threading, the overhead of testing was 0.012225 seconds.\n",
      "You can set `force_row_wise=true` to remove the overhead.\n",
      "And if memory is not enough, you can set `force_col_wise=true`.\n",
      "[LightGBM] [Info] Total Bins 653\n",
      "[LightGBM] [Info] Number of data points in the train set: 118976, number of used features: 20\n",
      "[LightGBM] [Info] Start training from score 5343.806566\n",
      "[LightGBM] [Warning] Auto-choosing row-wise multi-threading, the overhead of testing was 0.019564 seconds.\n",
      "You can set `force_row_wise=true` to remove the overhead.\n",
      "And if memory is not enough, you can set `force_col_wise=true`.\n",
      "[LightGBM] [Info] Total Bins 652\n",
      "[LightGBM] [Info] Number of data points in the train set: 118976, number of used features: 20\n",
      "[LightGBM] [Info] Start training from score 5332.974718\n",
      "[LightGBM] [Warning] No further splits with positive gain, best gain: -inf\n",
      "[LightGBM] [Warning] No further splits with positive gain, best gain: -inf\n",
      "[LightGBM] [Warning] Auto-choosing row-wise multi-threading, the overhead of testing was 0.016879 seconds.\n",
      "You can set `force_row_wise=true` to remove the overhead.\n",
      "And if memory is not enough, you can set `force_col_wise=true`.\n",
      "[LightGBM] [Info] Total Bins 652\n",
      "[LightGBM] [Info] Number of data points in the train set: 118976, number of used features: 20\n",
      "[LightGBM] [Info] Start training from score 5328.400257\n",
      "[LightGBM] [Warning] Auto-choosing row-wise multi-threading, the overhead of testing was 0.017998 seconds.\n",
      "You can set `force_row_wise=true` to remove the overhead.\n",
      "And if memory is not enough, you can set `force_col_wise=true`.\n",
      "[LightGBM] [Info] Total Bins 654\n",
      "[LightGBM] [Info] Number of data points in the train set: 118976, number of used features: 20\n",
      "[LightGBM] [Info] Start training from score 5329.083958\n",
      "0:\tlearn: 4728.4225667\ttotal: 75.6ms\tremaining: 2.19s\n",
      "1:\tlearn: 4696.0132368\ttotal: 95.6ms\tremaining: 1.34s\n",
      "2:\tlearn: 4664.3482882\ttotal: 111ms\tremaining: 1s\n",
      "3:\tlearn: 4632.6835759\ttotal: 127ms\tremaining: 826ms\n",
      "4:\tlearn: 4601.3490039\ttotal: 149ms\tremaining: 744ms\n",
      "5:\tlearn: 4570.2167894\ttotal: 181ms\tremaining: 724ms\n",
      "6:\tlearn: 4539.7775866\ttotal: 213ms\tremaining: 701ms\n",
      "7:\tlearn: 4509.0861863\ttotal: 235ms\tremaining: 647ms\n",
      "8:\tlearn: 4478.8492880\ttotal: 256ms\tremaining: 597ms\n",
      "9:\tlearn: 4449.1686099\ttotal: 280ms\tremaining: 560ms\n",
      "10:\tlearn: 4420.4759301\ttotal: 312ms\tremaining: 539ms\n",
      "11:\tlearn: 4391.2907679\ttotal: 333ms\tremaining: 500ms\n",
      "12:\tlearn: 4362.2506373\ttotal: 351ms\tremaining: 459ms\n",
      "13:\tlearn: 4333.9760385\ttotal: 378ms\tremaining: 432ms\n",
      "14:\tlearn: 4305.6866237\ttotal: 401ms\tremaining: 401ms\n",
      "15:\tlearn: 4278.0118221\ttotal: 429ms\tremaining: 375ms\n",
      "16:\tlearn: 4250.6536001\ttotal: 459ms\tremaining: 351ms\n",
      "17:\tlearn: 4224.4358245\ttotal: 485ms\tremaining: 323ms\n",
      "18:\tlearn: 4197.8292225\ttotal: 503ms\tremaining: 291ms\n",
      "19:\tlearn: 4172.0932638\ttotal: 521ms\tremaining: 260ms\n",
      "20:\tlearn: 4146.0931064\ttotal: 542ms\tremaining: 232ms\n",
      "21:\tlearn: 4120.3574415\ttotal: 571ms\tremaining: 208ms\n",
      "22:\tlearn: 4094.6490928\ttotal: 593ms\tremaining: 180ms\n",
      "23:\tlearn: 4069.3799144\ttotal: 613ms\tremaining: 153ms\n",
      "24:\tlearn: 4044.4169509\ttotal: 631ms\tremaining: 126ms\n",
      "25:\tlearn: 4019.8362566\ttotal: 651ms\tremaining: 100ms\n",
      "26:\tlearn: 3995.6331208\ttotal: 691ms\tremaining: 76.7ms\n",
      "27:\tlearn: 3971.9617584\ttotal: 714ms\tremaining: 51ms\n",
      "28:\tlearn: 3948.3594144\ttotal: 737ms\tremaining: 25.4ms\n",
      "29:\tlearn: 3924.6460135\ttotal: 769ms\tremaining: 0us\n",
      "0:\tlearn: 4598.5483834\ttotal: 31ms\tremaining: 899ms\n",
      "1:\tlearn: 4444.6251323\ttotal: 53.1ms\tremaining: 744ms\n",
      "2:\tlearn: 4301.7910722\ttotal: 69.8ms\tremaining: 628ms\n",
      "3:\tlearn: 4165.3408396\ttotal: 95.9ms\tremaining: 623ms\n",
      "4:\tlearn: 4036.7575557\ttotal: 119ms\tremaining: 597ms\n",
      "5:\tlearn: 3915.5110463\ttotal: 147ms\tremaining: 589ms\n",
      "6:\tlearn: 3802.4190723\ttotal: 206ms\tremaining: 677ms\n",
      "7:\tlearn: 3694.0650375\ttotal: 239ms\tremaining: 658ms\n",
      "8:\tlearn: 3591.6953704\ttotal: 261ms\tremaining: 609ms\n",
      "9:\tlearn: 3497.0076082\ttotal: 286ms\tremaining: 573ms\n",
      "10:\tlearn: 3408.4568351\ttotal: 313ms\tremaining: 541ms\n",
      "11:\tlearn: 3321.1795279\ttotal: 342ms\tremaining: 512ms\n",
      "12:\tlearn: 3240.1862847\ttotal: 364ms\tremaining: 475ms\n",
      "13:\tlearn: 3163.6107981\ttotal: 393ms\tremaining: 449ms\n",
      "14:\tlearn: 3091.3744519\ttotal: 421ms\tremaining: 421ms\n",
      "15:\tlearn: 3024.7675238\ttotal: 440ms\tremaining: 385ms\n",
      "16:\tlearn: 2960.4802376\ttotal: 467ms\tremaining: 357ms\n",
      "17:\tlearn: 2901.0219610\ttotal: 482ms\tremaining: 321ms\n",
      "18:\tlearn: 2845.4010797\ttotal: 508ms\tremaining: 294ms\n",
      "19:\tlearn: 2793.2539252\ttotal: 530ms\tremaining: 265ms\n",
      "20:\tlearn: 2743.8908438\ttotal: 554ms\tremaining: 237ms\n",
      "21:\tlearn: 2698.2765835\ttotal: 581ms\tremaining: 211ms\n",
      "22:\tlearn: 2652.9988938\ttotal: 612ms\tremaining: 186ms\n",
      "23:\tlearn: 2610.3064100\ttotal: 639ms\tremaining: 160ms\n",
      "24:\tlearn: 2570.4511641\ttotal: 670ms\tremaining: 134ms\n",
      "25:\tlearn: 2533.7257076\ttotal: 700ms\tremaining: 108ms\n",
      "26:\tlearn: 2498.8942061\ttotal: 720ms\tremaining: 80ms\n",
      "27:\tlearn: 2465.0734732\ttotal: 738ms\tremaining: 52.7ms\n",
      "28:\tlearn: 2433.2708240\ttotal: 767ms\tremaining: 26.4ms\n",
      "29:\tlearn: 2404.7721794\ttotal: 777ms\tremaining: 0us\n",
      "0:\tlearn: 4602.2449026\ttotal: 32.9ms\tremaining: 1.61s\n",
      "1:\tlearn: 4446.9643719\ttotal: 59.4ms\tremaining: 1.43s\n",
      "2:\tlearn: 4302.5190034\ttotal: 81.3ms\tremaining: 1.27s\n",
      "3:\tlearn: 4166.2521071\ttotal: 104ms\tremaining: 1.19s\n",
      "4:\tlearn: 4037.8558659\ttotal: 132ms\tremaining: 1.19s\n",
      "5:\tlearn: 3915.8780623\ttotal: 156ms\tremaining: 1.14s\n",
      "6:\tlearn: 3804.3040425\ttotal: 176ms\tremaining: 1.08s\n",
      "7:\tlearn: 3697.0349997\ttotal: 196ms\tremaining: 1.03s\n",
      "8:\tlearn: 3592.3557467\ttotal: 221ms\tremaining: 1.01s\n",
      "9:\tlearn: 3496.4203894\ttotal: 242ms\tremaining: 967ms\n",
      "10:\tlearn: 3406.3990522\ttotal: 271ms\tremaining: 960ms\n",
      "11:\tlearn: 3321.0377823\ttotal: 318ms\tremaining: 1.01s\n",
      "12:\tlearn: 3239.7576422\ttotal: 334ms\tremaining: 950ms\n",
      "13:\tlearn: 3166.5130244\ttotal: 355ms\tremaining: 912ms\n",
      "14:\tlearn: 3092.7846928\ttotal: 379ms\tremaining: 884ms\n",
      "15:\tlearn: 3024.3394369\ttotal: 400ms\tremaining: 850ms\n",
      "16:\tlearn: 2962.2255680\ttotal: 420ms\tremaining: 815ms\n",
      "17:\tlearn: 2902.0680861\ttotal: 449ms\tremaining: 798ms\n",
      "18:\tlearn: 2846.7907783\ttotal: 471ms\tremaining: 768ms\n",
      "19:\tlearn: 2794.6333464\ttotal: 496ms\tremaining: 744ms\n",
      "20:\tlearn: 2745.0655502\ttotal: 534ms\tremaining: 737ms\n",
      "21:\tlearn: 2697.5586412\ttotal: 574ms\tremaining: 730ms\n",
      "22:\tlearn: 2653.8615338\ttotal: 593ms\tremaining: 696ms\n",
      "23:\tlearn: 2611.1947689\ttotal: 625ms\tremaining: 677ms\n",
      "24:\tlearn: 2571.6290073\ttotal: 647ms\tremaining: 647ms\n",
      "25:\tlearn: 2533.9689247\ttotal: 677ms\tremaining: 625ms\n",
      "26:\tlearn: 2499.6497394\ttotal: 699ms\tremaining: 596ms\n",
      "27:\tlearn: 2466.4098981\ttotal: 727ms\tremaining: 571ms\n",
      "28:\tlearn: 2436.5188317\ttotal: 744ms\tremaining: 539ms\n",
      "29:\tlearn: 2408.0103473\ttotal: 763ms\tremaining: 509ms\n",
      "30:\tlearn: 2380.6521014\ttotal: 778ms\tremaining: 477ms\n",
      "31:\tlearn: 2354.5333731\ttotal: 814ms\tremaining: 458ms\n",
      "32:\tlearn: 2330.5232621\ttotal: 845ms\tremaining: 435ms\n",
      "33:\tlearn: 2307.8372352\ttotal: 866ms\tremaining: 407ms\n",
      "34:\tlearn: 2286.6569108\ttotal: 887ms\tremaining: 380ms\n",
      "35:\tlearn: 2266.1364689\ttotal: 903ms\tremaining: 351ms\n",
      "36:\tlearn: 2246.7552522\ttotal: 924ms\tremaining: 325ms\n",
      "37:\tlearn: 2229.1474280\ttotal: 942ms\tremaining: 298ms\n",
      "38:\tlearn: 2211.6151973\ttotal: 966ms\tremaining: 272ms\n",
      "39:\tlearn: 2195.2934710\ttotal: 990ms\tremaining: 247ms\n",
      "40:\tlearn: 2180.2350112\ttotal: 1.01s\tremaining: 222ms\n",
      "41:\tlearn: 2165.7673186\ttotal: 1.03s\tremaining: 197ms\n",
      "42:\tlearn: 2152.0051558\ttotal: 1.06s\tremaining: 172ms\n",
      "43:\tlearn: 2138.5811230\ttotal: 1.07s\tremaining: 147ms\n",
      "44:\tlearn: 2125.7818742\ttotal: 1.09s\tremaining: 122ms\n",
      "45:\tlearn: 2113.4967624\ttotal: 1.11s\tremaining: 96.8ms\n",
      "46:\tlearn: 2102.1871119\ttotal: 1.13s\tremaining: 72.3ms\n",
      "47:\tlearn: 2092.2975588\ttotal: 1.15s\tremaining: 47.9ms\n",
      "48:\tlearn: 2082.2347428\ttotal: 1.17s\tremaining: 23.9ms\n",
      "49:\tlearn: 2072.8894515\ttotal: 1.2s\tremaining: 0us\n",
      "0:\tlearn: 4438.7646598\ttotal: 41.9ms\tremaining: 2.05s\n",
      "1:\tlearn: 4151.5087102\ttotal: 64.1ms\tremaining: 1.54s\n",
      "2:\tlearn: 3902.8581989\ttotal: 80ms\tremaining: 1.25s\n",
      "3:\tlearn: 3676.8170030\ttotal: 111ms\tremaining: 1.28s\n",
      "4:\tlearn: 3473.2866325\ttotal: 137ms\tremaining: 1.23s\n",
      "5:\tlearn: 3294.3617046\ttotal: 152ms\tremaining: 1.12s\n",
      "6:\tlearn: 3137.3486102\ttotal: 181ms\tremaining: 1.11s\n",
      "7:\tlearn: 2993.8794814\ttotal: 203ms\tremaining: 1.07s\n",
      "8:\tlearn: 2874.1800550\ttotal: 230ms\tremaining: 1.05s\n",
      "9:\tlearn: 2765.3581478\ttotal: 250ms\tremaining: 1s\n",
      "10:\tlearn: 2673.9111371\ttotal: 269ms\tremaining: 955ms\n",
      "11:\tlearn: 2590.7173983\ttotal: 296ms\tremaining: 937ms\n",
      "12:\tlearn: 2517.3506430\ttotal: 325ms\tremaining: 924ms\n",
      "13:\tlearn: 2450.4199545\ttotal: 339ms\tremaining: 873ms\n",
      "14:\tlearn: 2393.4583630\ttotal: 364ms\tremaining: 849ms\n",
      "15:\tlearn: 2340.7431152\ttotal: 382ms\tremaining: 811ms\n",
      "16:\tlearn: 2291.2177663\ttotal: 412ms\tremaining: 799ms\n",
      "17:\tlearn: 2250.6481699\ttotal: 439ms\tremaining: 781ms\n",
      "18:\tlearn: 2214.0265906\ttotal: 459ms\tremaining: 748ms\n",
      "19:\tlearn: 2179.0730935\ttotal: 480ms\tremaining: 721ms\n",
      "20:\tlearn: 2149.9200267\ttotal: 512ms\tremaining: 706ms\n",
      "21:\tlearn: 2123.0859878\ttotal: 525ms\tremaining: 668ms\n",
      "22:\tlearn: 2100.7446532\ttotal: 541ms\tremaining: 635ms\n",
      "23:\tlearn: 2079.2131279\ttotal: 559ms\tremaining: 606ms\n",
      "24:\tlearn: 2060.2904758\ttotal: 582ms\tremaining: 582ms\n",
      "25:\tlearn: 2042.8321275\ttotal: 602ms\tremaining: 556ms\n",
      "26:\tlearn: 2028.4936053\ttotal: 628ms\tremaining: 535ms\n",
      "27:\tlearn: 2015.1442263\ttotal: 653ms\tremaining: 513ms\n",
      "28:\tlearn: 2004.4725168\ttotal: 673ms\tremaining: 487ms\n",
      "29:\tlearn: 1993.1072272\ttotal: 694ms\tremaining: 463ms\n",
      "30:\tlearn: 1981.7504742\ttotal: 716ms\tremaining: 439ms\n",
      "31:\tlearn: 1971.6016354\ttotal: 734ms\tremaining: 413ms\n",
      "32:\tlearn: 1961.5081951\ttotal: 757ms\tremaining: 390ms\n",
      "33:\tlearn: 1951.2062961\ttotal: 800ms\tremaining: 377ms\n",
      "34:\tlearn: 1944.8094041\ttotal: 827ms\tremaining: 354ms\n",
      "35:\tlearn: 1937.7138478\ttotal: 851ms\tremaining: 331ms\n",
      "36:\tlearn: 1931.6702968\ttotal: 863ms\tremaining: 303ms\n",
      "37:\tlearn: 1922.9639214\ttotal: 892ms\tremaining: 282ms\n",
      "38:\tlearn: 1915.8364207\ttotal: 909ms\tremaining: 256ms\n",
      "39:\tlearn: 1911.1155014\ttotal: 938ms\tremaining: 234ms\n",
      "40:\tlearn: 1907.1500638\ttotal: 953ms\tremaining: 209ms\n",
      "41:\tlearn: 1901.8503171\ttotal: 975ms\tremaining: 186ms\n",
      "42:\tlearn: 1897.7178350\ttotal: 996ms\tremaining: 162ms\n",
      "43:\tlearn: 1890.1542566\ttotal: 1.02s\tremaining: 139ms\n",
      "44:\tlearn: 1884.9018404\ttotal: 1.04s\tremaining: 116ms\n",
      "45:\tlearn: 1878.9770699\ttotal: 1.06s\tremaining: 92.5ms\n",
      "46:\tlearn: 1875.0875868\ttotal: 1.08s\tremaining: 69ms\n",
      "47:\tlearn: 1869.9466457\ttotal: 1.11s\tremaining: 46.3ms\n",
      "48:\tlearn: 1866.7606672\ttotal: 1.13s\tremaining: 23.1ms\n",
      "49:\tlearn: 1864.0731228\ttotal: 1.15s\tremaining: 0us\n",
      "0:\tlearn: 4599.2201172\ttotal: 33.1ms\tremaining: 3.27s\n",
      "1:\tlearn: 4445.5606671\ttotal: 64.9ms\tremaining: 3.18s\n",
      "2:\tlearn: 4302.9780216\ttotal: 92.2ms\tremaining: 2.98s\n",
      "3:\tlearn: 4165.2388780\ttotal: 122ms\tremaining: 2.93s\n",
      "4:\tlearn: 4034.7097610\ttotal: 145ms\tremaining: 2.76s\n",
      "5:\tlearn: 3912.9055633\ttotal: 172ms\tremaining: 2.69s\n",
      "6:\tlearn: 3800.1955428\ttotal: 195ms\tremaining: 2.59s\n",
      "7:\tlearn: 3691.3895737\ttotal: 218ms\tremaining: 2.51s\n",
      "8:\tlearn: 3589.9224059\ttotal: 244ms\tremaining: 2.47s\n",
      "9:\tlearn: 3496.3291954\ttotal: 268ms\tremaining: 2.41s\n",
      "10:\tlearn: 3406.6543542\ttotal: 292ms\tremaining: 2.36s\n",
      "11:\tlearn: 3319.4693786\ttotal: 312ms\tremaining: 2.29s\n",
      "12:\tlearn: 3241.2691533\ttotal: 339ms\tremaining: 2.27s\n",
      "13:\tlearn: 3164.9951868\ttotal: 358ms\tremaining: 2.2s\n",
      "14:\tlearn: 3092.9096606\ttotal: 381ms\tremaining: 2.16s\n",
      "15:\tlearn: 3026.5890685\ttotal: 404ms\tremaining: 2.12s\n",
      "16:\tlearn: 2962.9510196\ttotal: 425ms\tremaining: 2.08s\n",
      "17:\tlearn: 2902.0535227\ttotal: 447ms\tremaining: 2.04s\n",
      "18:\tlearn: 2846.9126280\ttotal: 466ms\tremaining: 1.99s\n",
      "19:\tlearn: 2795.0373637\ttotal: 487ms\tremaining: 1.95s\n",
      "20:\tlearn: 2745.4302918\ttotal: 506ms\tremaining: 1.9s\n",
      "21:\tlearn: 2698.4114857\ttotal: 543ms\tremaining: 1.93s\n",
      "22:\tlearn: 2653.7026611\ttotal: 560ms\tremaining: 1.87s\n",
      "23:\tlearn: 2612.4475697\ttotal: 578ms\tremaining: 1.83s\n",
      "24:\tlearn: 2573.4439537\ttotal: 603ms\tremaining: 1.81s\n",
      "25:\tlearn: 2534.9032629\ttotal: 623ms\tremaining: 1.77s\n",
      "26:\tlearn: 2498.8668239\ttotal: 648ms\tremaining: 1.75s\n",
      "27:\tlearn: 2466.4125291\ttotal: 681ms\tremaining: 1.75s\n",
      "28:\tlearn: 2434.7403367\ttotal: 709ms\tremaining: 1.73s\n",
      "29:\tlearn: 2405.6395599\ttotal: 736ms\tremaining: 1.72s\n",
      "30:\tlearn: 2378.8634045\ttotal: 754ms\tremaining: 1.68s\n",
      "31:\tlearn: 2353.0137637\ttotal: 779ms\tremaining: 1.66s\n",
      "32:\tlearn: 2327.3027781\ttotal: 798ms\tremaining: 1.62s\n",
      "33:\tlearn: 2305.1029166\ttotal: 814ms\tremaining: 1.58s\n",
      "34:\tlearn: 2283.4413531\ttotal: 833ms\tremaining: 1.55s\n",
      "35:\tlearn: 2262.5937859\ttotal: 858ms\tremaining: 1.52s\n",
      "36:\tlearn: 2243.4394355\ttotal: 878ms\tremaining: 1.49s\n",
      "37:\tlearn: 2226.0869934\ttotal: 896ms\tremaining: 1.46s\n",
      "38:\tlearn: 2208.9070853\ttotal: 911ms\tremaining: 1.43s\n",
      "39:\tlearn: 2192.1830179\ttotal: 933ms\tremaining: 1.4s\n",
      "40:\tlearn: 2177.8434408\ttotal: 960ms\tremaining: 1.38s\n",
      "41:\tlearn: 2163.7450658\ttotal: 979ms\tremaining: 1.35s\n",
      "42:\tlearn: 2149.0595079\ttotal: 1s\tremaining: 1.33s\n",
      "43:\tlearn: 2135.6016003\ttotal: 1.03s\tremaining: 1.31s\n",
      "44:\tlearn: 2123.0603050\ttotal: 1.05s\tremaining: 1.28s\n",
      "45:\tlearn: 2110.3851263\ttotal: 1.07s\tremaining: 1.26s\n",
      "46:\tlearn: 2098.8266446\ttotal: 1.09s\tremaining: 1.23s\n",
      "47:\tlearn: 2087.7470875\ttotal: 1.12s\tremaining: 1.21s\n",
      "48:\tlearn: 2077.0763006\ttotal: 1.13s\tremaining: 1.18s\n",
      "49:\tlearn: 2067.1684842\ttotal: 1.15s\tremaining: 1.15s\n",
      "50:\tlearn: 2058.2499677\ttotal: 1.17s\tremaining: 1.12s\n",
      "51:\tlearn: 2048.9417887\ttotal: 1.18s\tremaining: 1.09s\n",
      "52:\tlearn: 2040.5274873\ttotal: 1.2s\tremaining: 1.07s\n",
      "53:\tlearn: 2032.4488257\ttotal: 1.23s\tremaining: 1.05s\n",
      "54:\tlearn: 2024.9915981\ttotal: 1.26s\tremaining: 1.03s\n",
      "55:\tlearn: 2017.5595455\ttotal: 1.28s\tremaining: 1s\n",
      "56:\tlearn: 2010.9012395\ttotal: 1.3s\tremaining: 981ms\n",
      "57:\tlearn: 2004.4761653\ttotal: 1.32s\tremaining: 956ms\n",
      "58:\tlearn: 1998.0946406\ttotal: 1.35s\tremaining: 940ms\n",
      "59:\tlearn: 1991.9214760\ttotal: 1.38s\tremaining: 920ms\n",
      "60:\tlearn: 1986.5529375\ttotal: 1.41s\tremaining: 900ms\n",
      "61:\tlearn: 1981.5667249\ttotal: 1.43s\tremaining: 879ms\n",
      "62:\tlearn: 1976.6767992\ttotal: 1.45s\tremaining: 851ms\n",
      "[LightGBM] [Warning] Auto-choosing row-wise multi-threading, the overhead of testing was 0.049349 seconds.\n",
      "You can set `force_row_wise=true` to remove the overhead.\n",
      "And if memory is not enough, you can set `force_col_wise=true`.\n",
      "[LightGBM] [Info] Total Bins 653\n",
      "[LightGBM] [Info] Number of data points in the train set: 118976, number of used features: 20\n",
      "[LightGBM] [Info] Start training from score 5343.806566\n",
      "[LightGBM] [Warning] Auto-choosing row-wise multi-threading, the overhead of testing was 0.016966 seconds.\n",
      "You can set `force_row_wise=true` to remove the overhead.\n",
      "And if memory is not enough, you can set `force_col_wise=true`.\n",
      "[LightGBM] [Info] Total Bins 652\n",
      "[LightGBM] [Info] Number of data points in the train set: 118976, number of used features: 20\n",
      "[LightGBM] [Info] Start training from score 5331.359703\n",
      "[LightGBM] [Warning] Auto-choosing row-wise multi-threading, the overhead of testing was 0.018389 seconds.\n",
      "You can set `force_row_wise=true` to remove the overhead.\n",
      "And if memory is not enough, you can set `force_col_wise=true`.\n",
      "[LightGBM] [Info] Total Bins 654\n",
      "[LightGBM] [Info] Number of data points in the train set: 118976, number of used features: 20\n",
      "[LightGBM] [Info] Start training from score 5329.083958\n",
      "[LightGBM] [Warning] No further splits with positive gain, best gain: -inf\n",
      "[LightGBM] [Warning] No further splits with positive gain, best gain: -inf\n",
      "[LightGBM] [Warning] No further splits with positive gain, best gain: -inf\n",
      "[LightGBM] [Warning] No further splits with positive gain, best gain: -inf\n",
      "[LightGBM] [Warning] Auto-choosing row-wise multi-threading, the overhead of testing was 0.022073 seconds.\n",
      "You can set `force_row_wise=true` to remove the overhead.\n",
      "And if memory is not enough, you can set `force_col_wise=true`.\n",
      "[LightGBM] [Info] Total Bins 652\n",
      "[LightGBM] [Info] Number of data points in the train set: 118976, number of used features: 20\n",
      "[LightGBM] [Info] Start training from score 5328.400257\n",
      "[LightGBM] [Warning] Auto-choosing row-wise multi-threading, the overhead of testing was 0.017628 seconds.\n",
      "You can set `force_row_wise=true` to remove the overhead.\n",
      "And if memory is not enough, you can set `force_col_wise=true`.\n",
      "[LightGBM] [Info] Total Bins 654\n",
      "[LightGBM] [Info] Number of data points in the train set: 118976, number of used features: 20\n",
      "[LightGBM] [Info] Start training from score 5329.083958\n",
      "[LightGBM] [Warning] No further splits with positive gain, best gain: -inf\n",
      "[LightGBM] [Warning] No further splits with positive gain, best gain: -inf\n",
      "[LightGBM] [Warning] Auto-choosing row-wise multi-threading, the overhead of testing was 0.012680 seconds.\n",
      "You can set `force_row_wise=true` to remove the overhead.\n",
      "And if memory is not enough, you can set `force_col_wise=true`.\n",
      "[LightGBM] [Info] Total Bins 652\n",
      "[LightGBM] [Info] Number of data points in the train set: 118976, number of used features: 20\n",
      "[LightGBM] [Info] Start training from score 5328.400257\n",
      "[LightGBM] [Warning] No further splits with positive gain, best gain: -inf\n",
      "[LightGBM] [Warning] No further splits with positive gain, best gain: -inf\n",
      "[LightGBM] [Warning] No further splits with positive gain, best gain: -inf\n",
      "[LightGBM] [Warning] Auto-choosing row-wise multi-threading, the overhead of testing was 0.011444 seconds.\n",
      "You can set `force_row_wise=true` to remove the overhead.\n",
      "And if memory is not enough, you can set `force_col_wise=true`.\n",
      "[LightGBM] [Info] Total Bins 654\n",
      "[LightGBM] [Info] Number of data points in the train set: 118976, number of used features: 20\n",
      "[LightGBM] [Info] Start training from score 5329.083958\n",
      "[LightGBM] [Warning] Auto-choosing row-wise multi-threading, the overhead of testing was 0.017946 seconds.\n",
      "You can set `force_row_wise=true` to remove the overhead.\n",
      "And if memory is not enough, you can set `force_col_wise=true`.\n",
      "[LightGBM] [Info] Total Bins 652\n",
      "[LightGBM] [Info] Number of data points in the train set: 118976, number of used features: 20\n",
      "[LightGBM] [Info] Start training from score 5328.400257\n",
      "0:\tlearn: 4733.9224452\ttotal: 85.8ms\tremaining: 2.49s\n",
      "1:\tlearn: 4701.5637577\ttotal: 115ms\tremaining: 1.61s\n",
      "2:\tlearn: 4669.7534740\ttotal: 132ms\tremaining: 1.19s\n",
      "3:\tlearn: 4638.0471128\ttotal: 150ms\tremaining: 978ms\n",
      "4:\tlearn: 4606.8713320\ttotal: 182ms\tremaining: 912ms\n",
      "5:\tlearn: 4575.6668543\ttotal: 213ms\tremaining: 852ms\n",
      "6:\tlearn: 4545.4360244\ttotal: 232ms\tremaining: 761ms\n",
      "7:\tlearn: 4515.1079190\ttotal: 252ms\tremaining: 694ms\n",
      "8:\tlearn: 4484.7594579\ttotal: 272ms\tremaining: 636ms\n",
      "9:\tlearn: 4455.5484018\ttotal: 291ms\tremaining: 583ms\n",
      "10:\tlearn: 4426.5606866\ttotal: 314ms\tremaining: 542ms\n",
      "11:\tlearn: 4397.6410622\ttotal: 338ms\tremaining: 507ms\n",
      "12:\tlearn: 4368.6981415\ttotal: 355ms\tremaining: 464ms\n",
      "13:\tlearn: 4340.2633738\ttotal: 376ms\tremaining: 429ms\n",
      "14:\tlearn: 4312.2152149\ttotal: 411ms\tremaining: 411ms\n",
      "15:\tlearn: 4284.1934758\ttotal: 443ms\tremaining: 388ms\n",
      "16:\tlearn: 4256.5561852\ttotal: 465ms\tremaining: 355ms\n",
      "17:\tlearn: 4229.4191958\ttotal: 485ms\tremaining: 323ms\n",
      "18:\tlearn: 4202.7247923\ttotal: 509ms\tremaining: 295ms\n",
      "19:\tlearn: 4176.4725023\ttotal: 526ms\tremaining: 263ms\n",
      "20:\tlearn: 4150.8323717\ttotal: 550ms\tremaining: 236ms\n",
      "21:\tlearn: 4125.0257156\ttotal: 576ms\tremaining: 209ms\n",
      "22:\tlearn: 4099.3347017\ttotal: 605ms\tremaining: 184ms\n",
      "23:\tlearn: 4074.0322134\ttotal: 625ms\tremaining: 156ms\n",
      "24:\tlearn: 4048.9459061\ttotal: 641ms\tremaining: 128ms\n",
      "25:\tlearn: 4024.4567329\ttotal: 683ms\tremaining: 105ms\n",
      "26:\tlearn: 3999.9612818\ttotal: 712ms\tremaining: 79.1ms\n",
      "27:\tlearn: 3975.7557754\ttotal: 743ms\tremaining: 53.1ms\n",
      "28:\tlearn: 3952.3155344\ttotal: 761ms\tremaining: 26.2ms\n",
      "29:\tlearn: 3928.8219021\ttotal: 793ms\tremaining: 0us\n",
      "0:\tlearn: 4450.4122572\ttotal: 32.8ms\tremaining: 952ms\n",
      "1:\tlearn: 4163.1813963\ttotal: 55.4ms\tremaining: 775ms\n",
      "2:\tlearn: 3911.8210041\ttotal: 87.9ms\tremaining: 791ms\n",
      "3:\tlearn: 3686.3944778\ttotal: 121ms\tremaining: 784ms\n",
      "4:\tlearn: 3481.0305741\ttotal: 149ms\tremaining: 746ms\n",
      "5:\tlearn: 3301.7981944\ttotal: 173ms\tremaining: 690ms\n",
      "6:\tlearn: 3143.1753683\ttotal: 187ms\tremaining: 615ms\n",
      "7:\tlearn: 3002.5939425\ttotal: 205ms\tremaining: 564ms\n",
      "8:\tlearn: 2878.5027155\ttotal: 225ms\tremaining: 524ms\n",
      "9:\tlearn: 2770.4175754\ttotal: 244ms\tremaining: 488ms\n",
      "10:\tlearn: 2676.1756750\ttotal: 269ms\tremaining: 465ms\n",
      "11:\tlearn: 2591.1992634\ttotal: 288ms\tremaining: 432ms\n",
      "12:\tlearn: 2517.0603242\ttotal: 309ms\tremaining: 404ms\n",
      "13:\tlearn: 2450.8159068\ttotal: 330ms\tremaining: 377ms\n",
      "14:\tlearn: 2391.0014220\ttotal: 362ms\tremaining: 362ms\n",
      "15:\tlearn: 2337.1788436\ttotal: 388ms\tremaining: 339ms\n",
      "16:\tlearn: 2292.9996033\ttotal: 415ms\tremaining: 318ms\n",
      "17:\tlearn: 2248.7367482\ttotal: 442ms\tremaining: 295ms\n",
      "18:\tlearn: 2214.1251300\ttotal: 464ms\tremaining: 269ms\n",
      "19:\tlearn: 2181.9256010\ttotal: 495ms\tremaining: 247ms\n",
      "20:\tlearn: 2152.6755645\ttotal: 512ms\tremaining: 220ms\n",
      "21:\tlearn: 2126.9984105\ttotal: 529ms\tremaining: 192ms\n",
      "22:\tlearn: 2103.7960320\ttotal: 545ms\tremaining: 166ms\n",
      "23:\tlearn: 2081.9222940\ttotal: 567ms\tremaining: 142ms\n",
      "24:\tlearn: 2063.6606873\ttotal: 595ms\tremaining: 119ms\n",
      "25:\tlearn: 2047.4371661\ttotal: 617ms\tremaining: 94.9ms\n",
      "26:\tlearn: 2032.9770682\ttotal: 643ms\tremaining: 71.5ms\n",
      "27:\tlearn: 2019.5323046\ttotal: 660ms\tremaining: 47.2ms\n",
      "28:\tlearn: 2008.4397542\ttotal: 683ms\tremaining: 23.5ms\n",
      "29:\tlearn: 1996.4246276\ttotal: 700ms\tremaining: 0us\n",
      "0:\tlearn: 4733.9224452\ttotal: 24.9ms\tremaining: 1.22s\n",
      "1:\tlearn: 4701.5637577\ttotal: 56.6ms\tremaining: 1.36s\n",
      "2:\tlearn: 4669.7534740\ttotal: 82.9ms\tremaining: 1.3s\n",
      "3:\tlearn: 4638.0471128\ttotal: 104ms\tremaining: 1.2s\n",
      "4:\tlearn: 4606.8713320\ttotal: 124ms\tremaining: 1.11s\n",
      "5:\tlearn: 4575.6668543\ttotal: 141ms\tremaining: 1.03s\n",
      "6:\tlearn: 4545.4360244\ttotal: 157ms\tremaining: 963ms\n",
      "7:\tlearn: 4515.1079190\ttotal: 187ms\tremaining: 983ms\n",
      "8:\tlearn: 4484.7594579\ttotal: 211ms\tremaining: 961ms\n",
      "9:\tlearn: 4455.5484018\ttotal: 234ms\tremaining: 937ms\n",
      "10:\tlearn: 4426.5606866\ttotal: 271ms\tremaining: 962ms\n",
      "11:\tlearn: 4397.6410622\ttotal: 313ms\tremaining: 990ms\n",
      "12:\tlearn: 4368.6981415\ttotal: 343ms\tremaining: 976ms\n",
      "13:\tlearn: 4340.2633738\ttotal: 369ms\tremaining: 948ms\n",
      "14:\tlearn: 4312.2152149\ttotal: 388ms\tremaining: 905ms\n",
      "15:\tlearn: 4284.1934758\ttotal: 406ms\tremaining: 863ms\n",
      "16:\tlearn: 4256.5561852\ttotal: 433ms\tremaining: 840ms\n",
      "17:\tlearn: 4229.4191958\ttotal: 459ms\tremaining: 817ms\n",
      "18:\tlearn: 4202.7247923\ttotal: 480ms\tremaining: 784ms\n",
      "19:\tlearn: 4176.4725023\ttotal: 503ms\tremaining: 755ms\n",
      "20:\tlearn: 4150.8323717\ttotal: 543ms\tremaining: 750ms\n",
      "21:\tlearn: 4125.0257156\ttotal: 572ms\tremaining: 728ms\n",
      "22:\tlearn: 4099.3347017\ttotal: 596ms\tremaining: 699ms\n",
      "23:\tlearn: 4074.0322134\ttotal: 615ms\tremaining: 667ms\n",
      "24:\tlearn: 4048.9459061\ttotal: 633ms\tremaining: 633ms\n",
      "25:\tlearn: 4024.4567329\ttotal: 649ms\tremaining: 599ms\n",
      "26:\tlearn: 3999.9612818\ttotal: 674ms\tremaining: 574ms\n",
      "27:\tlearn: 3975.7557754\ttotal: 694ms\tremaining: 545ms\n",
      "28:\tlearn: 3952.3155344\ttotal: 723ms\tremaining: 523ms\n",
      "29:\tlearn: 3928.8219021\ttotal: 745ms\tremaining: 496ms\n",
      "30:\tlearn: 3905.4959819\ttotal: 764ms\tremaining: 468ms\n",
      "31:\tlearn: 3882.5862210\ttotal: 789ms\tremaining: 444ms\n",
      "32:\tlearn: 3860.2521738\ttotal: 809ms\tremaining: 417ms\n",
      "33:\tlearn: 3837.9640571\ttotal: 831ms\tremaining: 391ms\n",
      "34:\tlearn: 3815.6858332\ttotal: 856ms\tremaining: 367ms\n",
      "35:\tlearn: 3793.3825492\ttotal: 883ms\tremaining: 343ms\n",
      "36:\tlearn: 3772.0426334\ttotal: 910ms\tremaining: 320ms\n",
      "37:\tlearn: 3750.2462251\ttotal: 941ms\tremaining: 297ms\n",
      "38:\tlearn: 3729.1336537\ttotal: 960ms\tremaining: 271ms\n",
      "39:\tlearn: 3708.2246542\ttotal: 986ms\tremaining: 246ms\n",
      "40:\tlearn: 3687.2423492\ttotal: 1.01s\tremaining: 222ms\n",
      "41:\tlearn: 3666.8204319\ttotal: 1.03s\tremaining: 197ms\n",
      "42:\tlearn: 3646.8570946\ttotal: 1.06s\tremaining: 172ms\n",
      "43:\tlearn: 3626.6474946\ttotal: 1.08s\tremaining: 147ms\n",
      "44:\tlearn: 3606.9800129\ttotal: 1.1s\tremaining: 122ms\n",
      "45:\tlearn: 3587.6146326\ttotal: 1.12s\tremaining: 97.2ms\n",
      "46:\tlearn: 3568.5699952\ttotal: 1.14s\tremaining: 72.8ms\n",
      "47:\tlearn: 3549.6968616\ttotal: 1.16s\tremaining: 48.2ms\n",
      "48:\tlearn: 3531.0846731\ttotal: 1.18s\tremaining: 24.2ms\n",
      "49:\tlearn: 3512.5448220\ttotal: 1.21s\tremaining: 0us\n",
      "0:\tlearn: 4440.1711626\ttotal: 22.2ms\tremaining: 1.09s\n",
      "1:\tlearn: 4150.3954898\ttotal: 39ms\tremaining: 936ms\n",
      "2:\tlearn: 3900.2224461\ttotal: 66.2ms\tremaining: 1.04s\n",
      "3:\tlearn: 3676.7663717\ttotal: 87.3ms\tremaining: 1s\n",
      "4:\tlearn: 3475.8125755\ttotal: 112ms\tremaining: 1.01s\n",
      "5:\tlearn: 3299.0560105\ttotal: 130ms\tremaining: 955ms\n",
      "6:\tlearn: 3150.2943502\ttotal: 149ms\tremaining: 913ms\n",
      "7:\tlearn: 3004.9860046\ttotal: 168ms\tremaining: 884ms\n",
      "8:\tlearn: 2880.7662668\ttotal: 192ms\tremaining: 876ms\n",
      "9:\tlearn: 2771.5896361\ttotal: 219ms\tremaining: 875ms\n",
      "10:\tlearn: 2679.0185721\ttotal: 246ms\tremaining: 874ms\n",
      "11:\tlearn: 2592.7556226\ttotal: 275ms\tremaining: 870ms\n",
      "12:\tlearn: 2518.6408391\ttotal: 301ms\tremaining: 858ms\n",
      "13:\tlearn: 2451.3594145\ttotal: 325ms\tremaining: 835ms\n",
      "14:\tlearn: 2392.0237782\ttotal: 354ms\tremaining: 826ms\n",
      "15:\tlearn: 2341.0317765\ttotal: 377ms\tremaining: 801ms\n",
      "16:\tlearn: 2292.4012268\ttotal: 411ms\tremaining: 797ms\n",
      "17:\tlearn: 2251.4205871\ttotal: 434ms\tremaining: 772ms\n",
      "18:\tlearn: 2213.0749359\ttotal: 455ms\tremaining: 742ms\n",
      "19:\tlearn: 2182.0187664\ttotal: 482ms\tremaining: 724ms\n",
      "20:\tlearn: 2152.0209553\ttotal: 503ms\tremaining: 694ms\n",
      "21:\tlearn: 2124.8444850\ttotal: 520ms\tremaining: 662ms\n",
      "22:\tlearn: 2102.8817373\ttotal: 545ms\tremaining: 640ms\n",
      "23:\tlearn: 2081.9361942\ttotal: 584ms\tremaining: 633ms\n",
      "24:\tlearn: 2064.3365962\ttotal: 604ms\tremaining: 604ms\n",
      "25:\tlearn: 2045.8611157\ttotal: 638ms\tremaining: 589ms\n",
      "26:\tlearn: 2031.1311090\ttotal: 664ms\tremaining: 566ms\n",
      "27:\tlearn: 2017.5152044\ttotal: 688ms\tremaining: 541ms\n",
      "28:\tlearn: 2004.4853255\ttotal: 710ms\tremaining: 514ms\n",
      "29:\tlearn: 1993.3468344\ttotal: 739ms\tremaining: 493ms\n",
      "30:\tlearn: 1982.8527559\ttotal: 760ms\tremaining: 466ms\n",
      "31:\tlearn: 1973.6545164\ttotal: 784ms\tremaining: 441ms\n",
      "32:\tlearn: 1965.7432306\ttotal: 824ms\tremaining: 424ms\n",
      "33:\tlearn: 1958.3040804\ttotal: 845ms\tremaining: 398ms\n",
      "34:\tlearn: 1951.2065935\ttotal: 863ms\tremaining: 370ms\n",
      "35:\tlearn: 1941.7348407\ttotal: 880ms\tremaining: 342ms\n",
      "36:\tlearn: 1935.2931115\ttotal: 900ms\tremaining: 316ms\n",
      "37:\tlearn: 1926.2419338\ttotal: 922ms\tremaining: 291ms\n",
      "38:\tlearn: 1920.1161789\ttotal: 945ms\tremaining: 267ms\n",
      "39:\tlearn: 1915.0181306\ttotal: 967ms\tremaining: 242ms\n",
      "40:\tlearn: 1910.9853057\ttotal: 993ms\tremaining: 218ms\n",
      "41:\tlearn: 1905.6588498\ttotal: 1.01s\tremaining: 194ms\n",
      "42:\tlearn: 1898.6766017\ttotal: 1.03s\tremaining: 168ms\n",
      "43:\tlearn: 1894.7071596\ttotal: 1.05s\tremaining: 143ms\n",
      "44:\tlearn: 1890.3855101\ttotal: 1.07s\tremaining: 119ms\n",
      "45:\tlearn: 1884.4714329\ttotal: 1.09s\tremaining: 95ms\n",
      "46:\tlearn: 1879.0465859\ttotal: 1.12s\tremaining: 71.5ms\n",
      "47:\tlearn: 1876.1187518\ttotal: 1.14s\tremaining: 47.6ms\n",
      "48:\tlearn: 1870.4974945\ttotal: 1.16s\tremaining: 23.7ms\n",
      "49:\tlearn: 1865.4911671\ttotal: 1.2s\tremaining: 0us\n",
      "0:\tlearn: 4611.3395858\ttotal: 23.7ms\tremaining: 2.34s\n",
      "1:\tlearn: 4457.0376408\ttotal: 43.4ms\tremaining: 2.13s\n",
      "2:\tlearn: 4313.0232168\ttotal: 71ms\tremaining: 2.3s\n",
      "3:\tlearn: 4176.2687047\ttotal: 102ms\tremaining: 2.46s\n",
      "4:\tlearn: 4045.3817774\ttotal: 127ms\tremaining: 2.42s\n",
      "5:\tlearn: 3926.5822805\ttotal: 149ms\tremaining: 2.33s\n",
      "6:\tlearn: 3811.6358212\ttotal: 174ms\tremaining: 2.31s\n",
      "7:\tlearn: 3702.5073589\ttotal: 200ms\tremaining: 2.3s\n",
      "8:\tlearn: 3600.3794644\ttotal: 223ms\tremaining: 2.25s\n",
      "9:\tlearn: 3503.8106979\ttotal: 248ms\tremaining: 2.23s\n",
      "10:\tlearn: 3412.7337300\ttotal: 266ms\tremaining: 2.15s\n",
      "11:\tlearn: 3328.9878357\ttotal: 290ms\tremaining: 2.12s\n",
      "12:\tlearn: 3249.5110081\ttotal: 313ms\tremaining: 2.1s\n",
      "13:\tlearn: 3173.3555593\ttotal: 332ms\tremaining: 2.04s\n",
      "14:\tlearn: 3101.1378858\ttotal: 355ms\tremaining: 2.01s\n",
      "15:\tlearn: 3033.5173393\ttotal: 378ms\tremaining: 1.99s\n",
      "16:\tlearn: 2970.3834908\ttotal: 394ms\tremaining: 1.92s\n",
      "17:\tlearn: 2909.8861085\ttotal: 426ms\tremaining: 1.94s\n",
      "18:\tlearn: 2853.4786203\ttotal: 449ms\tremaining: 1.92s\n",
      "19:\tlearn: 2802.1811552\ttotal: 471ms\tremaining: 1.88s\n",
      "20:\tlearn: 2750.3180226\ttotal: 490ms\tremaining: 1.84s\n",
      "21:\tlearn: 2702.4882081\ttotal: 512ms\tremaining: 1.81s\n",
      "22:\tlearn: 2658.7976515\ttotal: 536ms\tremaining: 1.79s\n",
      "23:\tlearn: 2617.0559393\ttotal: 557ms\tremaining: 1.76s\n",
      "24:\tlearn: 2577.1230030\ttotal: 582ms\tremaining: 1.75s\n",
      "25:\tlearn: 2539.1689480\ttotal: 611ms\tremaining: 1.74s\n",
      "26:\tlearn: 2504.3349020\ttotal: 641ms\tremaining: 1.73s\n",
      "27:\tlearn: 2471.4647812\ttotal: 661ms\tremaining: 1.7s\n",
      "28:\tlearn: 2440.1950232\ttotal: 679ms\tremaining: 1.66s\n",
      "29:\tlearn: 2410.8546780\ttotal: 699ms\tremaining: 1.63s\n",
      "30:\tlearn: 2383.1732431\ttotal: 717ms\tremaining: 1.59s\n",
      "31:\tlearn: 2356.9076254\ttotal: 739ms\tremaining: 1.57s\n",
      "32:\tlearn: 2331.7262303\ttotal: 765ms\tremaining: 1.55s\n",
      "33:\tlearn: 2308.0890846\ttotal: 787ms\tremaining: 1.53s\n",
      "34:\tlearn: 2286.2568524\ttotal: 809ms\tremaining: 1.5s\n",
      "35:\tlearn: 2266.1607043\ttotal: 826ms\tremaining: 1.47s\n",
      "36:\tlearn: 2246.8418419\ttotal: 844ms\tremaining: 1.44s\n",
      "37:\tlearn: 2230.0087666\ttotal: 867ms\tremaining: 1.41s\n",
      "38:\tlearn: 2213.1443323\ttotal: 886ms\tremaining: 1.39s\n",
      "39:\tlearn: 2197.0197473\ttotal: 906ms\tremaining: 1.36s\n",
      "40:\tlearn: 2181.1005544\ttotal: 932ms\tremaining: 1.34s\n",
      "41:\tlearn: 2166.0048274\ttotal: 953ms\tremaining: 1.32s\n",
      "42:\tlearn: 2152.2686909\ttotal: 980ms\tremaining: 1.3s\n",
      "43:\tlearn: 2139.1851189\ttotal: 1s\tremaining: 1.27s\n",
      "44:\tlearn: 2126.1291821\ttotal: 1.02s\tremaining: 1.25s\n",
      "45:\tlearn: 2114.3483159\ttotal: 1.04s\tremaining: 1.22s\n",
      "46:\tlearn: 2103.4725636\ttotal: 1.06s\tremaining: 1.2s\n",
      "47:\tlearn: 2092.6465946\ttotal: 1.08s\tremaining: 1.18s\n",
      "48:\tlearn: 2082.3680015\ttotal: 1.11s\tremaining: 1.16s\n",
      "49:\tlearn: 2072.5750737\ttotal: 1.14s\tremaining: 1.14s\n",
      "50:\tlearn: 2063.7790547\ttotal: 1.16s\tremaining: 1.11s\n",
      "51:\tlearn: 2055.4295060\ttotal: 1.19s\tremaining: 1.09s\n",
      "52:\tlearn: 2047.4584992\ttotal: 1.21s\tremaining: 1.07s\n",
      "53:\tlearn: 2039.8492199\ttotal: 1.23s\tremaining: 1.05s\n",
      "54:\tlearn: 2033.0389576\ttotal: 1.26s\tremaining: 1.03s\n",
      "55:\tlearn: 2024.9928210\ttotal: 1.28s\tremaining: 1.01s\n",
      "56:\tlearn: 2017.2065580\ttotal: 1.3s\tremaining: 982ms\n",
      "57:\tlearn: 2010.6352411\ttotal: 1.32s\tremaining: 957ms\n",
      "58:\tlearn: 2004.0837984\ttotal: 1.35s\tremaining: 940ms\n",
      "59:\tlearn: 1998.3850219\ttotal: 1.38s\tremaining: 918ms\n",
      "60:\tlearn: 1992.2148398\ttotal: 1.39s\tremaining: 891ms\n",
      "61:\tlearn: 1987.1170290\ttotal: 1.41s\tremaining: 867ms\n",
      "62:\tlearn: 1981.8663894\ttotal: 1.44s\tremaining: 844ms\n",
      "63:\tlearn: 1977.3596895\ttotal: 1.46s\tremaining: 819ms\n",
      "64:\tlearn: 1972.5558970\ttotal: 1.48s\tremaining: 795ms\n",
      "65:\tlearn: 1967.9391990\ttotal: 1.49s\tremaining: 769ms\n",
      "66:\tlearn: 1963.7775455\ttotal: 1.52s\tremaining: 751ms\n",
      "67:\tlearn: 1960.1273242\ttotal: 1.54s\tremaining: 726ms\n",
      "68:\tlearn: 1956.3021257\ttotal: 1.56s\tremaining: 701ms\n",
      "69:\tlearn: 1952.1224849\ttotal: 1.59s\tremaining: 682ms\n",
      "[LightGBM] [Warning] Auto-choosing row-wise multi-threading, the overhead of testing was 0.060259 seconds.\n",
      "You can set `force_row_wise=true` to remove the overhead.\n",
      "And if memory is not enough, you can set `force_col_wise=true`.\n",
      "[LightGBM] [Info] Total Bins 652\n",
      "[LightGBM] [Info] Number of data points in the train set: 118976, number of used features: 20\n",
      "[LightGBM] [Info] Start training from score 5331.359703\n",
      "[LightGBM] [Warning] Auto-choosing row-wise multi-threading, the overhead of testing was 0.033764 seconds.\n",
      "You can set `force_row_wise=true` to remove the overhead.\n",
      "And if memory is not enough, you can set `force_col_wise=true`.\n",
      "[LightGBM] [Info] Total Bins 653\n",
      "[LightGBM] [Info] Number of data points in the train set: 118976, number of used features: 20\n",
      "[LightGBM] [Info] Start training from score 5343.806566\n",
      "[LightGBM] [Warning] Auto-choosing row-wise multi-threading, the overhead of testing was 0.015201 seconds.\n",
      "You can set `force_row_wise=true` to remove the overhead.\n",
      "And if memory is not enough, you can set `force_col_wise=true`.\n",
      "[LightGBM] [Info] Total Bins 652\n",
      "[LightGBM] [Info] Number of data points in the train set: 118976, number of used features: 20\n",
      "[LightGBM] [Info] Start training from score 5332.974718\n",
      "[LightGBM] [Warning] No further splits with positive gain, best gain: -inf\n",
      "[LightGBM] [Warning] Auto-choosing row-wise multi-threading, the overhead of testing was 0.015798 seconds.\n",
      "You can set `force_row_wise=true` to remove the overhead.\n",
      "And if memory is not enough, you can set `force_col_wise=true`.\n",
      "[LightGBM] [Info] Total Bins 653\n",
      "[LightGBM] [Info] Number of data points in the train set: 118976, number of used features: 20\n",
      "[LightGBM] [Info] Start training from score 5343.806566\n",
      "[LightGBM] [Warning] Auto-choosing row-wise multi-threading, the overhead of testing was 0.017711 seconds.\n",
      "You can set `force_row_wise=true` to remove the overhead.\n",
      "And if memory is not enough, you can set `force_col_wise=true`.\n",
      "[LightGBM] [Info] Total Bins 652\n",
      "[LightGBM] [Info] Number of data points in the train set: 118976, number of used features: 20\n",
      "[LightGBM] [Info] Start training from score 5332.974718\n",
      "[LightGBM] [Warning] Auto-choosing row-wise multi-threading, the overhead of testing was 0.013188 seconds.\n",
      "You can set `force_row_wise=true` to remove the overhead.\n",
      "And if memory is not enough, you can set `force_col_wise=true`.\n",
      "[LightGBM] [Info] Total Bins 652\n",
      "[LightGBM] [Info] Number of data points in the train set: 118976, number of used features: 20\n",
      "[LightGBM] [Info] Start training from score 5332.974718\n",
      "[LightGBM] [Warning] Auto-choosing row-wise multi-threading, the overhead of testing was 0.019405 seconds.\n",
      "You can set `force_row_wise=true` to remove the overhead.\n",
      "And if memory is not enough, you can set `force_col_wise=true`.\n",
      "[LightGBM] [Info] Total Bins 652\n",
      "[LightGBM] [Info] Number of data points in the train set: 118976, number of used features: 20\n",
      "[LightGBM] [Info] Start training from score 5328.400257\n",
      "[LightGBM] [Warning] Auto-choosing row-wise multi-threading, the overhead of testing was 0.018941 seconds.\n",
      "You can set `force_row_wise=true` to remove the overhead.\n",
      "And if memory is not enough, you can set `force_col_wise=true`.\n",
      "[LightGBM] [Info] Total Bins 654\n",
      "[LightGBM] [Info] Number of data points in the train set: 118976, number of used features: 20\n",
      "[LightGBM] [Info] Start training from score 5329.083958\n",
      "[LightGBM] [Warning] Auto-choosing row-wise multi-threading, the overhead of testing was 0.012793 seconds.\n",
      "You can set `force_row_wise=true` to remove the overhead.\n",
      "And if memory is not enough, you can set `force_col_wise=true`.\n",
      "[LightGBM] [Info] Total Bins 652\n",
      "[LightGBM] [Info] Number of data points in the train set: 118976, number of used features: 20\n",
      "[LightGBM] [Info] Start training from score 5332.974718\n",
      "[LightGBM] [Warning] Auto-choosing row-wise multi-threading, the overhead of testing was 0.017175 seconds.\n",
      "You can set `force_row_wise=true` to remove the overhead.\n",
      "And if memory is not enough, you can set `force_col_wise=true`.\n",
      "[LightGBM] [Info] Total Bins 653\n",
      "[LightGBM] [Info] Number of data points in the train set: 118976, number of used features: 20\n",
      "[LightGBM] [Info] Start training from score 5343.806566\n",
      "0:\tlearn: 4742.1192788\ttotal: 91.1ms\tremaining: 2.64s\n",
      "1:\tlearn: 4709.5609868\ttotal: 110ms\tremaining: 1.54s\n",
      "2:\tlearn: 4677.5604646\ttotal: 127ms\tremaining: 1.14s\n",
      "3:\tlearn: 4645.4703175\ttotal: 153ms\tremaining: 996ms\n",
      "4:\tlearn: 4613.9607767\ttotal: 189ms\tremaining: 946ms\n",
      "5:\tlearn: 4582.6733387\ttotal: 206ms\tremaining: 825ms\n",
      "6:\tlearn: 4552.1019962\ttotal: 227ms\tremaining: 744ms\n",
      "7:\tlearn: 4521.4693107\ttotal: 249ms\tremaining: 686ms\n",
      "8:\tlearn: 4491.6813660\ttotal: 269ms\tremaining: 628ms\n",
      "9:\tlearn: 4462.1133980\ttotal: 290ms\tremaining: 579ms\n",
      "10:\tlearn: 4432.6076227\ttotal: 309ms\tremaining: 534ms\n",
      "11:\tlearn: 4403.4413847\ttotal: 347ms\tremaining: 521ms\n",
      "12:\tlearn: 4374.5958647\ttotal: 376ms\tremaining: 492ms\n",
      "13:\tlearn: 4345.8422142\ttotal: 398ms\tremaining: 455ms\n",
      "14:\tlearn: 4317.7114507\ttotal: 436ms\tremaining: 436ms\n",
      "15:\tlearn: 4289.7169747\ttotal: 458ms\tremaining: 401ms\n",
      "16:\tlearn: 4262.7624969\ttotal: 480ms\tremaining: 367ms\n",
      "17:\tlearn: 4235.6209729\ttotal: 509ms\tremaining: 339ms\n",
      "18:\tlearn: 4208.6814672\ttotal: 532ms\tremaining: 308ms\n",
      "19:\tlearn: 4182.1862934\ttotal: 559ms\tremaining: 280ms\n",
      "20:\tlearn: 4156.1776230\ttotal: 577ms\tremaining: 247ms\n",
      "21:\tlearn: 4129.9091664\ttotal: 595ms\tremaining: 216ms\n",
      "22:\tlearn: 4104.4626806\ttotal: 623ms\tremaining: 190ms\n",
      "23:\tlearn: 4079.0950498\ttotal: 667ms\tremaining: 167ms\n",
      "24:\tlearn: 4054.4497999\ttotal: 704ms\tremaining: 141ms\n",
      "25:\tlearn: 4029.7591955\ttotal: 720ms\tremaining: 111ms\n",
      "26:\tlearn: 4005.4404816\ttotal: 743ms\tremaining: 82.5ms\n",
      "27:\tlearn: 3981.7890951\ttotal: 776ms\tremaining: 55.5ms\n",
      "28:\tlearn: 3958.7032440\ttotal: 801ms\tremaining: 27.6ms\n",
      "29:\tlearn: 3934.9475318\ttotal: 816ms\tremaining: 0us\n",
      "0:\tlearn: 4729.0822961\ttotal: 53.8ms\tremaining: 2.64s\n",
      "1:\tlearn: 4696.7224544\ttotal: 82.9ms\tremaining: 1.99s\n",
      "2:\tlearn: 4665.0618966\ttotal: 101ms\tremaining: 1.59s\n",
      "3:\tlearn: 4632.9857155\ttotal: 122ms\tremaining: 1.4s\n",
      "4:\tlearn: 4601.6311444\ttotal: 142ms\tremaining: 1.28s\n",
      "5:\tlearn: 4570.3828946\ttotal: 159ms\tremaining: 1.17s\n",
      "6:\tlearn: 4539.9260500\ttotal: 175ms\tremaining: 1.08s\n",
      "7:\tlearn: 4509.2222624\ttotal: 201ms\tremaining: 1.05s\n",
      "8:\tlearn: 4479.4085233\ttotal: 230ms\tremaining: 1.05s\n",
      "9:\tlearn: 4449.7637634\ttotal: 246ms\tremaining: 986ms\n",
      "10:\tlearn: 4420.6964405\ttotal: 278ms\tremaining: 985ms\n",
      "11:\tlearn: 4391.9436678\ttotal: 301ms\tremaining: 952ms\n",
      "12:\tlearn: 4363.2310960\ttotal: 322ms\tremaining: 915ms\n",
      "13:\tlearn: 4334.7427982\ttotal: 345ms\tremaining: 886ms\n",
      "14:\tlearn: 4306.6852665\ttotal: 367ms\tremaining: 856ms\n",
      "15:\tlearn: 4278.9405287\ttotal: 397ms\tremaining: 843ms\n",
      "16:\tlearn: 4251.4465731\ttotal: 414ms\tremaining: 804ms\n",
      "17:\tlearn: 4225.1609584\ttotal: 436ms\tremaining: 774ms\n",
      "18:\tlearn: 4198.4536851\ttotal: 456ms\tremaining: 743ms\n",
      "19:\tlearn: 4172.0914800\ttotal: 478ms\tremaining: 717ms\n",
      "20:\tlearn: 4146.1362342\ttotal: 498ms\tremaining: 688ms\n",
      "21:\tlearn: 4120.1724215\ttotal: 518ms\tremaining: 659ms\n",
      "22:\tlearn: 4094.8954549\ttotal: 536ms\tremaining: 629ms\n",
      "23:\tlearn: 4069.5476954\ttotal: 562ms\tremaining: 609ms\n",
      "24:\tlearn: 4044.5380073\ttotal: 582ms\tremaining: 582ms\n",
      "25:\tlearn: 4019.7416428\ttotal: 596ms\tremaining: 550ms\n",
      "26:\tlearn: 3995.5785620\ttotal: 621ms\tremaining: 529ms\n",
      "27:\tlearn: 3971.4555530\ttotal: 641ms\tremaining: 504ms\n",
      "28:\tlearn: 3947.8649712\ttotal: 659ms\tremaining: 477ms\n",
      "29:\tlearn: 3924.2112836\ttotal: 687ms\tremaining: 458ms\n",
      "30:\tlearn: 3901.1968723\ttotal: 712ms\tremaining: 437ms\n",
      "31:\tlearn: 3878.4682066\ttotal: 724ms\tremaining: 408ms\n",
      "32:\tlearn: 3856.7300933\ttotal: 738ms\tremaining: 380ms\n",
      "33:\tlearn: 3833.9453744\ttotal: 786ms\tremaining: 370ms\n",
      "34:\tlearn: 3811.7706675\ttotal: 828ms\tremaining: 355ms\n",
      "35:\tlearn: 3790.0274792\ttotal: 853ms\tremaining: 332ms\n",
      "36:\tlearn: 3768.1769386\ttotal: 885ms\tremaining: 311ms\n",
      "37:\tlearn: 3747.2273616\ttotal: 907ms\tremaining: 286ms\n",
      "38:\tlearn: 3726.0410449\ttotal: 930ms\tremaining: 262ms\n",
      "39:\tlearn: 3705.0723633\ttotal: 948ms\tremaining: 237ms\n",
      "40:\tlearn: 3684.3534673\ttotal: 972ms\tremaining: 213ms\n",
      "41:\tlearn: 3663.8100834\ttotal: 998ms\tremaining: 190ms\n",
      "42:\tlearn: 3643.4728888\ttotal: 1.03s\tremaining: 168ms\n",
      "43:\tlearn: 3623.7507435\ttotal: 1.05s\tremaining: 144ms\n",
      "44:\tlearn: 3604.1602542\ttotal: 1.07s\tremaining: 119ms\n",
      "45:\tlearn: 3585.0641516\ttotal: 1.09s\tremaining: 94.7ms\n",
      "46:\tlearn: 3565.8989317\ttotal: 1.14s\tremaining: 72.8ms\n",
      "47:\tlearn: 3546.5816902\ttotal: 1.17s\tremaining: 48.8ms\n",
      "48:\tlearn: 3527.6374371\ttotal: 1.19s\tremaining: 24.3ms\n",
      "49:\tlearn: 3508.4811937\ttotal: 1.21s\tremaining: 0us\n",
      "0:\tlearn: 4598.5483834\ttotal: 34.8ms\tremaining: 1.71s\n",
      "1:\tlearn: 4444.6251323\ttotal: 59.4ms\tremaining: 1.43s\n",
      "2:\tlearn: 4301.7910722\ttotal: 88.9ms\tremaining: 1.39s\n",
      "3:\tlearn: 4165.3408396\ttotal: 113ms\tremaining: 1.3s\n",
      "4:\tlearn: 4036.7575557\ttotal: 130ms\tremaining: 1.17s\n",
      "5:\tlearn: 3915.5110463\ttotal: 149ms\tremaining: 1.09s\n",
      "6:\tlearn: 3802.4190723\ttotal: 170ms\tremaining: 1.04s\n",
      "7:\tlearn: 3694.0650375\ttotal: 196ms\tremaining: 1.03s\n",
      "8:\tlearn: 3591.6953704\ttotal: 217ms\tremaining: 987ms\n",
      "9:\tlearn: 3497.0076082\ttotal: 245ms\tremaining: 981ms\n",
      "10:\tlearn: 3408.4568351\ttotal: 278ms\tremaining: 987ms\n",
      "11:\tlearn: 3321.1795279\ttotal: 304ms\tremaining: 962ms\n",
      "12:\tlearn: 3240.1862847\ttotal: 330ms\tremaining: 940ms\n",
      "13:\tlearn: 3163.6107981\ttotal: 353ms\tremaining: 908ms\n",
      "14:\tlearn: 3091.3744519\ttotal: 373ms\tremaining: 870ms\n",
      "15:\tlearn: 3024.7675238\ttotal: 392ms\tremaining: 833ms\n",
      "16:\tlearn: 2960.4802376\ttotal: 416ms\tremaining: 808ms\n",
      "17:\tlearn: 2901.0219610\ttotal: 433ms\tremaining: 771ms\n",
      "18:\tlearn: 2845.4010797\ttotal: 461ms\tremaining: 752ms\n",
      "19:\tlearn: 2793.2539252\ttotal: 490ms\tremaining: 734ms\n",
      "20:\tlearn: 2743.8908438\ttotal: 511ms\tremaining: 706ms\n",
      "21:\tlearn: 2698.2765835\ttotal: 532ms\tremaining: 677ms\n",
      "22:\tlearn: 2652.9988938\ttotal: 553ms\tremaining: 649ms\n",
      "23:\tlearn: 2610.3064100\ttotal: 574ms\tremaining: 622ms\n",
      "24:\tlearn: 2570.4511641\ttotal: 594ms\tremaining: 594ms\n",
      "25:\tlearn: 2533.7257076\ttotal: 616ms\tremaining: 568ms\n",
      "26:\tlearn: 2498.8942061\ttotal: 643ms\tremaining: 547ms\n",
      "27:\tlearn: 2465.0734732\ttotal: 668ms\tremaining: 525ms\n",
      "28:\tlearn: 2433.2708240\ttotal: 687ms\tremaining: 498ms\n",
      "29:\tlearn: 2404.7721794\ttotal: 706ms\tremaining: 471ms\n",
      "30:\tlearn: 2378.5724046\ttotal: 743ms\tremaining: 455ms\n",
      "31:\tlearn: 2352.8969706\ttotal: 776ms\tremaining: 436ms\n",
      "32:\tlearn: 2328.3285750\ttotal: 799ms\tremaining: 411ms\n",
      "33:\tlearn: 2306.0137676\ttotal: 835ms\tremaining: 393ms\n",
      "34:\tlearn: 2284.1906010\ttotal: 878ms\tremaining: 376ms\n",
      "35:\tlearn: 2264.1213792\ttotal: 896ms\tremaining: 348ms\n",
      "36:\tlearn: 2244.7262342\ttotal: 927ms\tremaining: 326ms\n",
      "37:\tlearn: 2226.3642445\ttotal: 954ms\tremaining: 301ms\n",
      "38:\tlearn: 2209.2730045\ttotal: 974ms\tremaining: 275ms\n",
      "39:\tlearn: 2192.1140281\ttotal: 993ms\tremaining: 248ms\n",
      "40:\tlearn: 2176.2774924\ttotal: 1.02s\tremaining: 225ms\n",
      "41:\tlearn: 2162.6009612\ttotal: 1.04s\tremaining: 198ms\n",
      "42:\tlearn: 2148.8744737\ttotal: 1.06s\tremaining: 172ms\n",
      "43:\tlearn: 2135.1591399\ttotal: 1.08s\tremaining: 147ms\n",
      "44:\tlearn: 2122.5878198\ttotal: 1.1s\tremaining: 122ms\n",
      "45:\tlearn: 2110.2672910\ttotal: 1.12s\tremaining: 97.3ms\n",
      "46:\tlearn: 2099.1218188\ttotal: 1.14s\tremaining: 72.7ms\n",
      "47:\tlearn: 2087.9921953\ttotal: 1.16s\tremaining: 48.3ms\n",
      "48:\tlearn: 2078.1526795\ttotal: 1.18s\tremaining: 24.1ms\n",
      "49:\tlearn: 2067.9877725\ttotal: 1.2s\tremaining: 0us\n",
      "0:\tlearn: 4742.1192788\ttotal: 24.2ms\tremaining: 2.4s\n",
      "1:\tlearn: 4709.5609868\ttotal: 46.2ms\tremaining: 2.26s\n",
      "2:\tlearn: 4677.5604646\ttotal: 65.3ms\tremaining: 2.11s\n",
      "3:\tlearn: 4645.4703175\ttotal: 92.4ms\tremaining: 2.22s\n",
      "4:\tlearn: 4613.9607767\ttotal: 131ms\tremaining: 2.49s\n",
      "5:\tlearn: 4582.6733387\ttotal: 145ms\tremaining: 2.28s\n",
      "6:\tlearn: 4552.1019962\ttotal: 170ms\tremaining: 2.26s\n",
      "7:\tlearn: 4521.4693107\ttotal: 185ms\tremaining: 2.12s\n",
      "8:\tlearn: 4491.6813660\ttotal: 214ms\tremaining: 2.16s\n",
      "9:\tlearn: 4462.1133980\ttotal: 237ms\tremaining: 2.13s\n",
      "10:\tlearn: 4432.6076227\ttotal: 256ms\tremaining: 2.08s\n",
      "11:\tlearn: 4403.4413847\ttotal: 282ms\tremaining: 2.06s\n",
      "12:\tlearn: 4374.5958647\ttotal: 309ms\tremaining: 2.07s\n",
      "13:\tlearn: 4345.8422142\ttotal: 350ms\tremaining: 2.15s\n",
      "14:\tlearn: 4317.7114507\ttotal: 379ms\tremaining: 2.15s\n",
      "15:\tlearn: 4289.7169747\ttotal: 398ms\tremaining: 2.09s\n",
      "16:\tlearn: 4262.7624969\ttotal: 415ms\tremaining: 2.03s\n",
      "17:\tlearn: 4235.6209729\ttotal: 449ms\tremaining: 2.05s\n",
      "18:\tlearn: 4208.6814672\ttotal: 476ms\tremaining: 2.03s\n",
      "19:\tlearn: 4182.1862934\ttotal: 495ms\tremaining: 1.98s\n",
      "20:\tlearn: 4156.1776230\ttotal: 517ms\tremaining: 1.95s\n",
      "21:\tlearn: 4129.9091664\ttotal: 539ms\tremaining: 1.91s\n",
      "22:\tlearn: 4104.4626806\ttotal: 553ms\tremaining: 1.85s\n",
      "23:\tlearn: 4079.0950498\ttotal: 571ms\tremaining: 1.81s\n",
      "24:\tlearn: 4054.4497999\ttotal: 593ms\tremaining: 1.78s\n",
      "25:\tlearn: 4029.7591955\ttotal: 615ms\tremaining: 1.75s\n",
      "26:\tlearn: 4005.4404816\ttotal: 656ms\tremaining: 1.77s\n",
      "27:\tlearn: 3981.7890951\ttotal: 681ms\tremaining: 1.75s\n",
      "28:\tlearn: 3958.7032440\ttotal: 697ms\tremaining: 1.71s\n",
      "29:\tlearn: 3934.9475318\ttotal: 715ms\tremaining: 1.67s\n",
      "30:\tlearn: 3911.6303787\ttotal: 736ms\tremaining: 1.64s\n",
      "31:\tlearn: 3888.7216857\ttotal: 772ms\tremaining: 1.64s\n",
      "32:\tlearn: 3865.9572650\ttotal: 803ms\tremaining: 1.63s\n",
      "33:\tlearn: 3843.2220390\ttotal: 833ms\tremaining: 1.62s\n",
      "34:\tlearn: 3820.9920020\ttotal: 855ms\tremaining: 1.59s\n",
      "35:\tlearn: 3799.1432633\ttotal: 882ms\tremaining: 1.57s\n",
      "36:\tlearn: 3777.9587741\ttotal: 905ms\tremaining: 1.54s\n",
      "37:\tlearn: 3756.4263689\ttotal: 926ms\tremaining: 1.51s\n",
      "38:\tlearn: 3735.2357313\ttotal: 948ms\tremaining: 1.48s\n",
      "39:\tlearn: 3714.2633826\ttotal: 981ms\tremaining: 1.47s\n",
      "40:\tlearn: 3693.5332735\ttotal: 1.01s\tremaining: 1.46s\n",
      "41:\tlearn: 3673.2771259\ttotal: 1.03s\tremaining: 1.43s\n",
      "42:\tlearn: 3652.9338088\ttotal: 1.05s\tremaining: 1.4s\n",
      "43:\tlearn: 3632.9771637\ttotal: 1.07s\tremaining: 1.36s\n",
      "44:\tlearn: 3613.4759508\ttotal: 1.09s\tremaining: 1.33s\n",
      "45:\tlearn: 3593.8102041\ttotal: 1.12s\tremaining: 1.31s\n",
      "46:\tlearn: 3574.6249583\ttotal: 1.14s\tremaining: 1.29s\n",
      "47:\tlearn: 3555.8432983\ttotal: 1.16s\tremaining: 1.26s\n",
      "48:\tlearn: 3537.2336661\ttotal: 1.19s\tremaining: 1.23s\n",
      "49:\tlearn: 3518.7574147\ttotal: 1.21s\tremaining: 1.21s\n",
      "50:\tlearn: 3500.5229444\ttotal: 1.22s\tremaining: 1.18s\n",
      "51:\tlearn: 3481.9459267\ttotal: 1.25s\tremaining: 1.15s\n",
      "52:\tlearn: 3463.5646320\ttotal: 1.27s\tremaining: 1.13s\n",
      "53:\tlearn: 3445.9425305\ttotal: 1.29s\tremaining: 1.1s\n",
      "54:\tlearn: 3428.0190986\ttotal: 1.31s\tremaining: 1.07s\n",
      "55:\tlearn: 3410.6096893\ttotal: 1.33s\tremaining: 1.05s\n",
      "56:\tlearn: 3393.2850752\ttotal: 1.36s\tremaining: 1.03s\n",
      "57:\tlearn: 3376.9157205\ttotal: 1.38s\tremaining: 997ms\n",
      "58:\tlearn: 3360.6209754\ttotal: 1.4s\tremaining: 971ms\n",
      "59:\tlearn: 3344.1089906\ttotal: 1.43s\tremaining: 951ms\n",
      "60:\tlearn: 3327.8534224\ttotal: 1.46s\tremaining: 932ms\n",
      "61:\tlearn: 3311.4720681\ttotal: 1.48s\tremaining: 905ms\n",
      "62:\tlearn: 3295.2880136\ttotal: 1.51s\tremaining: 885ms\n",
      "63:\tlearn: 3279.1601065\ttotal: 1.52s\tremaining: 858ms\n",
      "64:\tlearn: 3263.5323655\ttotal: 1.55s\tremaining: 836ms\n",
      "65:\tlearn: 3248.1526521\ttotal: 1.58s\tremaining: 812ms\n",
      "66:\tlearn: 3232.7129944\ttotal: 1.6s\tremaining: 788ms\n",
      "67:\tlearn: 3218.0129840\ttotal: 1.62s\tremaining: 764ms\n",
      "68:\tlearn: 3202.9512954\ttotal: 1.65s\tremaining: 741ms\n",
      "69:\tlearn: 3187.8703495\ttotal: 1.67s\tremaining: 714ms\n",
      "70:\tlearn: 3173.3934050\ttotal: 1.68s\tremaining: 687ms\n",
      "71:\tlearn: 3158.6512888\ttotal: 1.7s\tremaining: 662ms\n",
      "72:\tlearn: 3143.7724873\ttotal: 1.73s\tremaining: 641ms\n",
      "73:\tlearn: 3129.5665589\ttotal: 1.75s\tremaining: 616ms\n",
      "74:\tlearn: 3115.4119799\ttotal: 1.78s\tremaining: 593ms\n",
      "75:\tlearn: 3101.5712888\ttotal: 1.8s\tremaining: 569ms\n",
      "76:\tlearn: 3087.9281680\ttotal: 1.83s\tremaining: 546ms\n",
      "77:\tlearn: 3074.6448655\ttotal: 1.85s\tremaining: 521ms\n",
      "78:\tlearn: 3061.1375092\ttotal: 1.86s\tremaining: 496ms\n",
      "79:\tlearn: 3047.4302040\ttotal: 1.9s\tremaining: 474ms\n",
      "80:\tlearn: 3034.8470152\ttotal: 1.92s\tremaining: 451ms\n",
      "81:\tlearn: 3022.3592866\ttotal: 1.95s\tremaining: 428ms\n",
      "82:\tlearn: 3009.5281311\ttotal: 1.97s\tremaining: 404ms\n",
      "83:\tlearn: 2997.1674154\ttotal: 2.01s\tremaining: 382ms\n",
      "84:\tlearn: 2984.7080643\ttotal: 2.02s\tremaining: 357ms\n",
      "85:\tlearn: 2972.4404073\ttotal: 2.05s\tremaining: 334ms\n",
      "86:\tlearn: 2960.0146340\ttotal: 2.07s\tremaining: 310ms\n",
      "87:\tlearn: 2947.8522928\ttotal: 2.1s\tremaining: 286ms\n",
      "88:\tlearn: 2935.9165209\ttotal: 2.13s\tremaining: 264ms\n",
      "89:\tlearn: 2924.1154570\ttotal: 2.17s\tremaining: 241ms\n",
      "90:\tlearn: 2912.5277110\ttotal: 2.19s\tremaining: 217ms\n",
      "91:\tlearn: 2900.6865161\ttotal: 2.22s\tremaining: 193ms\n",
      "92:\tlearn: 2889.4046015\ttotal: 2.24s\tremaining: 169ms\n",
      "93:\tlearn: 2878.1019127\ttotal: 2.26s\tremaining: 144ms\n",
      "94:\tlearn: 2867.0531686\ttotal: 2.29s\tremaining: 121ms\n",
      "95:\tlearn: 2856.3224363\ttotal: 2.31s\tremaining: 96.4ms\n",
      "[LightGBM] [Warning] Auto-choosing row-wise multi-threading, the overhead of testing was 0.061842 seconds.\n",
      "You can set `force_row_wise=true` to remove the overhead.\n",
      "And if memory is not enough, you can set `force_col_wise=true`.\n",
      "[LightGBM] [Info] Total Bins 652\n",
      "[LightGBM] [Info] Number of data points in the train set: 118976, number of used features: 20\n",
      "[LightGBM] [Info] Start training from score 5331.359703\n",
      "[LightGBM] [Warning] Auto-choosing col-wise multi-threading, the overhead of testing was 0.024900 seconds.\n",
      "You can set `force_col_wise=true` to remove the overhead.\n",
      "[LightGBM] [Info] Total Bins 652\n",
      "[LightGBM] [Info] Number of data points in the train set: 118976, number of used features: 20\n",
      "[LightGBM] [Info] Start training from score 5328.400257\n",
      "[LightGBM] [Warning] No further splits with positive gain, best gain: -inf\n",
      "[LightGBM] [Warning] No further splits with positive gain, best gain: -inf\n",
      "[LightGBM] [Warning] No further splits with positive gain, best gain: -inf\n",
      "[LightGBM] [Warning] Auto-choosing row-wise multi-threading, the overhead of testing was 0.015540 seconds.\n",
      "You can set `force_row_wise=true` to remove the overhead.\n",
      "And if memory is not enough, you can set `force_col_wise=true`.\n",
      "[LightGBM] [Info] Total Bins 652\n",
      "[LightGBM] [Info] Number of data points in the train set: 118976, number of used features: 20\n",
      "[LightGBM] [Info] Start training from score 5328.400257\n",
      "[LightGBM] [Warning] Auto-choosing row-wise multi-threading, the overhead of testing was 0.018814 seconds.\n",
      "You can set `force_row_wise=true` to remove the overhead.\n",
      "And if memory is not enough, you can set `force_col_wise=true`.\n",
      "[LightGBM] [Info] Total Bins 654\n",
      "[LightGBM] [Info] Number of data points in the train set: 118976, number of used features: 20\n",
      "[LightGBM] [Info] Start training from score 5329.083958\n",
      "[LightGBM] [Warning] Auto-choosing row-wise multi-threading, the overhead of testing was 0.013852 seconds.\n",
      "You can set `force_row_wise=true` to remove the overhead.\n",
      "And if memory is not enough, you can set `force_col_wise=true`.\n",
      "[LightGBM] [Info] Total Bins 652\n",
      "[LightGBM] [Info] Number of data points in the train set: 118976, number of used features: 20\n",
      "[LightGBM] [Info] Start training from score 5331.359703\n",
      "[LightGBM] [Warning] Auto-choosing row-wise multi-threading, the overhead of testing was 0.015840 seconds.\n",
      "You can set `force_row_wise=true` to remove the overhead.\n",
      "And if memory is not enough, you can set `force_col_wise=true`.\n",
      "[LightGBM] [Info] Total Bins 653\n",
      "[LightGBM] [Info] Number of data points in the train set: 118976, number of used features: 20\n",
      "[LightGBM] [Info] Start training from score 5343.806566\n",
      "[LightGBM] [Warning] Auto-choosing row-wise multi-threading, the overhead of testing was 0.020434 seconds.\n",
      "You can set `force_row_wise=true` to remove the overhead.\n",
      "And if memory is not enough, you can set `force_col_wise=true`.\n",
      "[LightGBM] [Info] Total Bins 652\n",
      "[LightGBM] [Info] Number of data points in the train set: 118976, number of used features: 20\n",
      "[LightGBM] [Info] Start training from score 5331.359703\n",
      "0:\tlearn: 4599.2201172\ttotal: 81.7ms\tremaining: 2.37s\n",
      "1:\tlearn: 4445.5606671\ttotal: 110ms\tremaining: 1.54s\n",
      "2:\tlearn: 4302.9780216\ttotal: 138ms\tremaining: 1.24s\n",
      "3:\tlearn: 4165.2388780\ttotal: 163ms\tremaining: 1.06s\n",
      "4:\tlearn: 4034.7097610\ttotal: 180ms\tremaining: 900ms\n",
      "5:\tlearn: 3912.9055633\ttotal: 209ms\tremaining: 834ms\n",
      "6:\tlearn: 3800.1955428\ttotal: 231ms\tremaining: 760ms\n",
      "7:\tlearn: 3691.3895737\ttotal: 253ms\tremaining: 695ms\n",
      "8:\tlearn: 3589.9224059\ttotal: 276ms\tremaining: 644ms\n",
      "9:\tlearn: 3496.3291954\ttotal: 299ms\tremaining: 599ms\n",
      "10:\tlearn: 3406.6543542\ttotal: 327ms\tremaining: 566ms\n",
      "11:\tlearn: 3319.4693786\ttotal: 348ms\tremaining: 522ms\n",
      "12:\tlearn: 3241.2691533\ttotal: 374ms\tremaining: 489ms\n",
      "13:\tlearn: 3164.9951868\ttotal: 397ms\tremaining: 453ms\n",
      "14:\tlearn: 3092.9096606\ttotal: 429ms\tremaining: 429ms\n",
      "15:\tlearn: 3026.5890685\ttotal: 460ms\tremaining: 402ms\n",
      "16:\tlearn: 2962.9510196\ttotal: 484ms\tremaining: 370ms\n",
      "17:\tlearn: 2902.0535227\ttotal: 509ms\tremaining: 339ms\n",
      "18:\tlearn: 2846.9126280\ttotal: 530ms\tremaining: 307ms\n",
      "19:\tlearn: 2795.0373637\ttotal: 550ms\tremaining: 275ms\n",
      "20:\tlearn: 2745.4302918\ttotal: 570ms\tremaining: 244ms\n",
      "21:\tlearn: 2698.4114857\ttotal: 598ms\tremaining: 218ms\n",
      "22:\tlearn: 2653.7026611\ttotal: 618ms\tremaining: 188ms\n",
      "23:\tlearn: 2612.4475697\ttotal: 661ms\tremaining: 165ms\n",
      "24:\tlearn: 2573.4439537\ttotal: 704ms\tremaining: 141ms\n",
      "25:\tlearn: 2534.9032629\ttotal: 719ms\tremaining: 111ms\n",
      "26:\tlearn: 2498.8668239\ttotal: 764ms\tremaining: 84.9ms\n",
      "27:\tlearn: 2466.4125291\ttotal: 780ms\tremaining: 55.7ms\n",
      "28:\tlearn: 2434.7403367\ttotal: 807ms\tremaining: 27.8ms\n",
      "29:\tlearn: 2405.6395599\ttotal: 825ms\tremaining: 0us\n",
      "0:\tlearn: 4438.7646598\ttotal: 49.4ms\tremaining: 1.43s\n",
      "1:\tlearn: 4151.5087102\ttotal: 79.7ms\tremaining: 1.11s\n",
      "2:\tlearn: 3902.8581989\ttotal: 101ms\tremaining: 906ms\n",
      "3:\tlearn: 3676.8170030\ttotal: 124ms\tremaining: 803ms\n",
      "4:\tlearn: 3473.2866325\ttotal: 152ms\tremaining: 762ms\n",
      "5:\tlearn: 3294.3617046\ttotal: 183ms\tremaining: 734ms\n",
      "6:\tlearn: 3137.3486102\ttotal: 200ms\tremaining: 658ms\n",
      "7:\tlearn: 2993.8794814\ttotal: 224ms\tremaining: 616ms\n",
      "8:\tlearn: 2874.1800550\ttotal: 250ms\tremaining: 584ms\n",
      "9:\tlearn: 2765.3581478\ttotal: 274ms\tremaining: 549ms\n",
      "10:\tlearn: 2673.9111371\ttotal: 296ms\tremaining: 511ms\n",
      "11:\tlearn: 2590.7173983\ttotal: 313ms\tremaining: 469ms\n",
      "12:\tlearn: 2517.3506430\ttotal: 330ms\tremaining: 432ms\n",
      "13:\tlearn: 2450.4199545\ttotal: 352ms\tremaining: 402ms\n",
      "14:\tlearn: 2393.4583630\ttotal: 373ms\tremaining: 373ms\n",
      "15:\tlearn: 2340.7431152\ttotal: 391ms\tremaining: 342ms\n",
      "16:\tlearn: 2291.2177663\ttotal: 411ms\tremaining: 314ms\n",
      "17:\tlearn: 2250.6481699\ttotal: 440ms\tremaining: 293ms\n",
      "18:\tlearn: 2214.0265906\ttotal: 463ms\tremaining: 268ms\n",
      "19:\tlearn: 2179.0730935\ttotal: 484ms\tremaining: 242ms\n",
      "20:\tlearn: 2149.9200267\ttotal: 508ms\tremaining: 218ms\n",
      "21:\tlearn: 2123.0859878\ttotal: 537ms\tremaining: 195ms\n",
      "22:\tlearn: 2100.7446532\ttotal: 559ms\tremaining: 170ms\n",
      "23:\tlearn: 2079.2131279\ttotal: 581ms\tremaining: 145ms\n",
      "24:\tlearn: 2060.2904758\ttotal: 603ms\tremaining: 121ms\n",
      "25:\tlearn: 2042.8321275\ttotal: 626ms\tremaining: 96.3ms\n",
      "26:\tlearn: 2028.4936053\ttotal: 646ms\tremaining: 71.8ms\n",
      "27:\tlearn: 2015.1442263\ttotal: 665ms\tremaining: 47.5ms\n",
      "28:\tlearn: 2004.4725168\ttotal: 692ms\tremaining: 23.8ms\n",
      "29:\tlearn: 1993.1072272\ttotal: 707ms\tremaining: 0us\n",
      "0:\tlearn: 4599.2201172\ttotal: 34ms\tremaining: 1.66s\n",
      "1:\tlearn: 4445.5606671\ttotal: 57ms\tremaining: 1.37s\n",
      "2:\tlearn: 4302.9780216\ttotal: 82.6ms\tremaining: 1.29s\n",
      "3:\tlearn: 4165.2388780\ttotal: 100ms\tremaining: 1.15s\n",
      "4:\tlearn: 4034.7097610\ttotal: 129ms\tremaining: 1.16s\n",
      "5:\tlearn: 3912.9055633\ttotal: 147ms\tremaining: 1.08s\n",
      "6:\tlearn: 3800.1955428\ttotal: 182ms\tremaining: 1.12s\n",
      "7:\tlearn: 3691.3895737\ttotal: 198ms\tremaining: 1.04s\n",
      "8:\tlearn: 3589.9224059\ttotal: 237ms\tremaining: 1.08s\n",
      "9:\tlearn: 3496.3291954\ttotal: 280ms\tremaining: 1.12s\n",
      "10:\tlearn: 3406.6543542\ttotal: 300ms\tremaining: 1.06s\n",
      "11:\tlearn: 3319.4693786\ttotal: 322ms\tremaining: 1.02s\n",
      "12:\tlearn: 3241.2691533\ttotal: 349ms\tremaining: 993ms\n",
      "13:\tlearn: 3164.9951868\ttotal: 368ms\tremaining: 946ms\n",
      "14:\tlearn: 3092.9096606\ttotal: 389ms\tremaining: 909ms\n",
      "15:\tlearn: 3026.5890685\ttotal: 410ms\tremaining: 872ms\n",
      "16:\tlearn: 2962.9510196\ttotal: 446ms\tremaining: 865ms\n",
      "17:\tlearn: 2902.0535227\ttotal: 469ms\tremaining: 833ms\n",
      "18:\tlearn: 2846.9126280\ttotal: 487ms\tremaining: 795ms\n",
      "19:\tlearn: 2795.0373637\ttotal: 515ms\tremaining: 773ms\n",
      "20:\tlearn: 2745.4302918\ttotal: 543ms\tremaining: 750ms\n",
      "21:\tlearn: 2698.4114857\ttotal: 562ms\tremaining: 716ms\n",
      "22:\tlearn: 2653.7026611\ttotal: 588ms\tremaining: 690ms\n",
      "23:\tlearn: 2612.4475697\ttotal: 605ms\tremaining: 656ms\n",
      "24:\tlearn: 2573.4439537\ttotal: 634ms\tremaining: 634ms\n",
      "25:\tlearn: 2534.9032629\ttotal: 661ms\tremaining: 610ms\n",
      "26:\tlearn: 2498.8668239\ttotal: 685ms\tremaining: 584ms\n",
      "27:\tlearn: 2466.4125291\ttotal: 713ms\tremaining: 560ms\n",
      "28:\tlearn: 2434.7403367\ttotal: 744ms\tremaining: 538ms\n",
      "29:\tlearn: 2405.6395599\ttotal: 773ms\tremaining: 516ms\n",
      "30:\tlearn: 2378.8634045\ttotal: 792ms\tremaining: 485ms\n",
      "31:\tlearn: 2353.0137637\ttotal: 828ms\tremaining: 466ms\n",
      "32:\tlearn: 2327.3027781\ttotal: 854ms\tremaining: 440ms\n",
      "33:\tlearn: 2305.1029166\ttotal: 881ms\tremaining: 415ms\n",
      "34:\tlearn: 2283.4413531\ttotal: 899ms\tremaining: 385ms\n",
      "35:\tlearn: 2262.5937859\ttotal: 922ms\tremaining: 359ms\n",
      "36:\tlearn: 2243.4394355\ttotal: 947ms\tremaining: 333ms\n",
      "37:\tlearn: 2226.0869934\ttotal: 969ms\tremaining: 306ms\n",
      "38:\tlearn: 2208.9070853\ttotal: 984ms\tremaining: 278ms\n",
      "39:\tlearn: 2192.1830179\ttotal: 1.01s\tremaining: 252ms\n",
      "40:\tlearn: 2177.8434408\ttotal: 1.03s\tremaining: 227ms\n",
      "41:\tlearn: 2163.7450658\ttotal: 1.06s\tremaining: 202ms\n",
      "42:\tlearn: 2149.0595079\ttotal: 1.08s\tremaining: 175ms\n",
      "43:\tlearn: 2135.6016003\ttotal: 1.11s\tremaining: 151ms\n",
      "44:\tlearn: 2123.0603050\ttotal: 1.13s\tremaining: 126ms\n",
      "45:\tlearn: 2110.3851263\ttotal: 1.16s\tremaining: 101ms\n",
      "46:\tlearn: 2098.8266446\ttotal: 1.2s\tremaining: 76.6ms\n",
      "47:\tlearn: 2087.7470875\ttotal: 1.22s\tremaining: 50.9ms\n",
      "48:\tlearn: 2077.0763006\ttotal: 1.25s\tremaining: 25.4ms\n",
      "49:\tlearn: 2067.1684842\ttotal: 1.32s\tremaining: 0us\n",
      "0:\tlearn: 4729.0822961\ttotal: 27.1ms\tremaining: 2.69s\n",
      "1:\tlearn: 4696.7224544\ttotal: 51.8ms\tremaining: 2.54s\n",
      "2:\tlearn: 4665.0618966\ttotal: 70.7ms\tremaining: 2.28s\n",
      "3:\tlearn: 4632.9857155\ttotal: 94.2ms\tremaining: 2.26s\n",
      "4:\tlearn: 4601.6311444\ttotal: 120ms\tremaining: 2.28s\n",
      "5:\tlearn: 4570.3828946\ttotal: 148ms\tremaining: 2.32s\n",
      "6:\tlearn: 4539.9260500\ttotal: 171ms\tremaining: 2.27s\n",
      "7:\tlearn: 4509.2222624\ttotal: 200ms\tremaining: 2.3s\n",
      "8:\tlearn: 4479.4085233\ttotal: 220ms\tremaining: 2.22s\n",
      "9:\tlearn: 4449.7637634\ttotal: 241ms\tremaining: 2.17s\n",
      "10:\tlearn: 4420.6964405\ttotal: 274ms\tremaining: 2.21s\n",
      "11:\tlearn: 4391.9436678\ttotal: 302ms\tremaining: 2.21s\n",
      "12:\tlearn: 4363.2310960\ttotal: 328ms\tremaining: 2.2s\n",
      "13:\tlearn: 4334.7427982\ttotal: 351ms\tremaining: 2.15s\n",
      "14:\tlearn: 4306.6852665\ttotal: 377ms\tremaining: 2.13s\n",
      "15:\tlearn: 4278.9405287\ttotal: 413ms\tremaining: 2.17s\n",
      "16:\tlearn: 4251.4465731\ttotal: 434ms\tremaining: 2.12s\n",
      "17:\tlearn: 4225.1609584\ttotal: 454ms\tremaining: 2.07s\n",
      "18:\tlearn: 4198.4536851\ttotal: 478ms\tremaining: 2.04s\n",
      "19:\tlearn: 4172.0914800\ttotal: 501ms\tremaining: 2s\n",
      "20:\tlearn: 4146.1362342\ttotal: 519ms\tremaining: 1.95s\n",
      "21:\tlearn: 4120.1724215\ttotal: 542ms\tremaining: 1.92s\n",
      "22:\tlearn: 4094.8954549\ttotal: 557ms\tremaining: 1.87s\n",
      "23:\tlearn: 4069.5476954\ttotal: 586ms\tremaining: 1.85s\n",
      "24:\tlearn: 4044.5380073\ttotal: 606ms\tremaining: 1.82s\n",
      "25:\tlearn: 4019.7416428\ttotal: 639ms\tremaining: 1.82s\n",
      "26:\tlearn: 3995.5785620\ttotal: 674ms\tremaining: 1.82s\n",
      "27:\tlearn: 3971.4555530\ttotal: 702ms\tremaining: 1.8s\n",
      "28:\tlearn: 3947.8649712\ttotal: 719ms\tremaining: 1.76s\n",
      "29:\tlearn: 3924.2112836\ttotal: 762ms\tremaining: 1.78s\n",
      "30:\tlearn: 3901.1968723\ttotal: 788ms\tremaining: 1.75s\n",
      "31:\tlearn: 3878.4682066\ttotal: 814ms\tremaining: 1.73s\n",
      "32:\tlearn: 3856.7300933\ttotal: 836ms\tremaining: 1.7s\n",
      "33:\tlearn: 3833.9453744\ttotal: 863ms\tremaining: 1.68s\n",
      "34:\tlearn: 3811.7706675\ttotal: 887ms\tremaining: 1.65s\n",
      "35:\tlearn: 3790.0274792\ttotal: 911ms\tremaining: 1.62s\n",
      "36:\tlearn: 3768.1769386\ttotal: 941ms\tremaining: 1.6s\n",
      "37:\tlearn: 3747.2273616\ttotal: 964ms\tremaining: 1.57s\n",
      "38:\tlearn: 3726.0410449\ttotal: 993ms\tremaining: 1.55s\n",
      "39:\tlearn: 3705.0723633\ttotal: 1.05s\tremaining: 1.57s\n",
      "40:\tlearn: 3684.3534673\ttotal: 1.07s\tremaining: 1.54s\n",
      "41:\tlearn: 3663.8100834\ttotal: 1.09s\tremaining: 1.5s\n",
      "42:\tlearn: 3643.4728888\ttotal: 1.12s\tremaining: 1.48s\n",
      "43:\tlearn: 3623.7507435\ttotal: 1.15s\tremaining: 1.47s\n",
      "44:\tlearn: 3604.1602542\ttotal: 1.17s\tremaining: 1.43s\n",
      "45:\tlearn: 3585.0641516\ttotal: 1.2s\tremaining: 1.4s\n",
      "46:\tlearn: 3565.8989317\ttotal: 1.22s\tremaining: 1.38s\n",
      "47:\tlearn: 3546.5816902\ttotal: 1.25s\tremaining: 1.35s\n",
      "48:\tlearn: 3527.6374371\ttotal: 1.29s\tremaining: 1.35s\n",
      "49:\tlearn: 3508.4811937\ttotal: 1.32s\tremaining: 1.32s\n",
      "50:\tlearn: 3490.2112721\ttotal: 1.34s\tremaining: 1.29s\n",
      "51:\tlearn: 3472.3052892\ttotal: 1.36s\tremaining: 1.26s\n",
      "52:\tlearn: 3454.5804616\ttotal: 1.38s\tremaining: 1.23s\n",
      "53:\tlearn: 3436.6054314\ttotal: 1.4s\tremaining: 1.2s\n",
      "54:\tlearn: 3419.4674383\ttotal: 1.43s\tremaining: 1.17s\n",
      "55:\tlearn: 3402.2115602\ttotal: 1.45s\tremaining: 1.14s\n",
      "56:\tlearn: 3384.9639200\ttotal: 1.47s\tremaining: 1.11s\n",
      "57:\tlearn: 3368.1174444\ttotal: 1.49s\tremaining: 1.08s\n",
      "58:\tlearn: 3352.0520632\ttotal: 1.51s\tremaining: 1.05s\n",
      "59:\tlearn: 3335.5968238\ttotal: 1.53s\tremaining: 1.02s\n",
      "60:\tlearn: 3319.0856406\ttotal: 1.55s\tremaining: 992ms\n",
      "61:\tlearn: 3302.9568940\ttotal: 1.57s\tremaining: 964ms\n",
      "62:\tlearn: 3286.9547910\ttotal: 1.6s\tremaining: 940ms\n",
      "63:\tlearn: 3271.5011731\ttotal: 1.63s\tremaining: 916ms\n",
      "64:\tlearn: 3256.2611094\ttotal: 1.65s\tremaining: 891ms\n",
      "65:\tlearn: 3240.6274718\ttotal: 1.67s\tremaining: 862ms\n",
      "66:\tlearn: 3225.1111235\ttotal: 1.71s\tremaining: 841ms\n",
      "67:\tlearn: 3210.0237696\ttotal: 1.73s\tremaining: 816ms\n",
      "68:\tlearn: 3195.4062875\ttotal: 1.76s\tremaining: 789ms\n",
      "69:\tlearn: 3180.7473639\ttotal: 1.77s\tremaining: 759ms\n",
      "70:\tlearn: 3165.9404108\ttotal: 1.79s\tremaining: 733ms\n",
      "71:\tlearn: 3151.7107589\ttotal: 1.81s\tremaining: 705ms\n",
      "72:\tlearn: 3137.2641731\ttotal: 1.83s\tremaining: 678ms\n",
      "73:\tlearn: 3123.2066174\ttotal: 1.86s\tremaining: 653ms\n",
      "74:\tlearn: 3109.1287041\ttotal: 1.88s\tremaining: 627ms\n",
      "75:\tlearn: 3095.4840312\ttotal: 1.9s\tremaining: 601ms\n",
      "76:\tlearn: 3081.6178813\ttotal: 1.93s\tremaining: 576ms\n",
      "77:\tlearn: 3067.9802303\ttotal: 1.95s\tremaining: 549ms\n",
      "78:\tlearn: 3054.3042276\ttotal: 1.97s\tremaining: 523ms\n",
      "79:\tlearn: 3041.5592109\ttotal: 2s\tremaining: 500ms\n",
      "80:\tlearn: 3028.7755004\ttotal: 2.02s\tremaining: 474ms\n",
      "81:\tlearn: 3015.8365536\ttotal: 2.04s\tremaining: 449ms\n",
      "82:\tlearn: 3003.1254650\ttotal: 2.07s\tremaining: 423ms\n",
      "83:\tlearn: 2990.8561883\ttotal: 2.09s\tremaining: 398ms\n",
      "84:\tlearn: 2978.3645306\ttotal: 2.11s\tremaining: 373ms\n",
      "85:\tlearn: 2966.0114576\ttotal: 2.14s\tremaining: 348ms\n",
      "86:\tlearn: 2954.0189490\ttotal: 2.16s\tremaining: 323ms\n",
      "87:\tlearn: 2942.0492459\ttotal: 2.18s\tremaining: 297ms\n",
      "88:\tlearn: 2929.7518707\ttotal: 2.2s\tremaining: 272ms\n",
      "89:\tlearn: 2917.9882366\ttotal: 2.23s\tremaining: 247ms\n",
      "90:\tlearn: 2906.3718699\ttotal: 2.24s\tremaining: 222ms\n",
      "91:\tlearn: 2894.9764975\ttotal: 2.26s\tremaining: 197ms\n",
      "92:\tlearn: 2883.7591157\ttotal: 2.29s\tremaining: 172ms\n",
      "93:\tlearn: 2872.8380233\ttotal: 2.31s\tremaining: 148ms\n",
      "94:\tlearn: 2862.1031604\ttotal: 2.33s\tremaining: 123ms\n",
      "95:\tlearn: 2850.7083068\ttotal: 2.36s\tremaining: 98.2ms\n",
      "96:\tlearn: 2839.9333144\ttotal: 2.38s\tremaining: 73.5ms\n",
      "97:\tlearn: 2829.3936588\ttotal: 2.4s\tremaining: 48.9ms\n",
      "98:\tlearn: 2818.7981336\ttotal: 2.42s\tremaining: 24.5ms\n",
      "99:\tlearn: 2808.4617323\ttotal: 2.44s\tremaining: 0us\n",
      "0:\tlearn: 4598.5483834\ttotal: 23.4ms\tremaining: 2.32s\n",
      "1:\tlearn: 4444.6251323\ttotal: 50.2ms\tremaining: 2.46s\n",
      "2:\tlearn: 4301.7910722\ttotal: 76.2ms\tremaining: 2.46s\n",
      "3:\tlearn: 4165.3408396\ttotal: 98.3ms\tremaining: 2.36s\n",
      "4:\tlearn: 4036.7575557\ttotal: 120ms\tremaining: 2.28s\n",
      "5:\tlearn: 3915.5110463\ttotal: 141ms\tremaining: 2.21s\n",
      "6:\tlearn: 3802.4190723\ttotal: 170ms\tremaining: 2.26s\n",
      "7:\tlearn: 3694.0650375\ttotal: 197ms\tremaining: 2.26s\n",
      "8:\tlearn: 3591.6953704\ttotal: 227ms\tremaining: 2.29s\n",
      "9:\tlearn: 3497.0076082\ttotal: 244ms\tremaining: 2.19s\n",
      "10:\tlearn: 3408.4568351\ttotal: 267ms\tremaining: 2.16s\n",
      "11:\tlearn: 3321.1795279\ttotal: 291ms\tremaining: 2.13s\n",
      "12:\tlearn: 3240.1862847\ttotal: 319ms\tremaining: 2.13s\n",
      "13:\tlearn: 3163.6107981\ttotal: 349ms\tremaining: 2.15s\n",
      "14:\tlearn: 3091.3744519\ttotal: 377ms\tremaining: 2.14s\n",
      "15:\tlearn: 3024.7675238\ttotal: 409ms\tremaining: 2.15s\n",
      "16:\tlearn: 2960.4802376\ttotal: 439ms\tremaining: 2.15s\n",
      "17:\tlearn: 2901.0219610\ttotal: 465ms\tremaining: 2.12s\n",
      "18:\tlearn: 2845.4010797\ttotal: 486ms\tremaining: 2.07s\n",
      "19:\tlearn: 2793.2539252\ttotal: 510ms\tremaining: 2.04s\n",
      "20:\tlearn: 2743.8908438\ttotal: 528ms\tremaining: 1.99s\n",
      "21:\tlearn: 2698.2765835\ttotal: 549ms\tremaining: 1.94s\n",
      "22:\tlearn: 2652.9988938\ttotal: 568ms\tremaining: 1.9s\n",
      "23:\tlearn: 2610.3064100\ttotal: 588ms\tremaining: 1.86s\n",
      "24:\tlearn: 2570.4511641\ttotal: 608ms\tremaining: 1.82s\n",
      "25:\tlearn: 2533.7257076\ttotal: 627ms\tremaining: 1.78s\n",
      "26:\tlearn: 2498.8942061\ttotal: 653ms\tremaining: 1.76s\n",
      "27:\tlearn: 2465.0734732\ttotal: 676ms\tremaining: 1.74s\n",
      "28:\tlearn: 2433.2708240\ttotal: 693ms\tremaining: 1.7s\n",
      "29:\tlearn: 2404.7721794\ttotal: 724ms\tremaining: 1.69s\n",
      "30:\tlearn: 2378.5724046\ttotal: 755ms\tremaining: 1.68s\n",
      "31:\tlearn: 2352.8969706\ttotal: 783ms\tremaining: 1.66s\n",
      "32:\tlearn: 2328.3285750\ttotal: 811ms\tremaining: 1.65s\n",
      "33:\tlearn: 2306.0137676\ttotal: 835ms\tremaining: 1.62s\n",
      "34:\tlearn: 2284.1906010\ttotal: 853ms\tremaining: 1.58s\n",
      "35:\tlearn: 2264.1213792\ttotal: 872ms\tremaining: 1.55s\n",
      "36:\tlearn: 2244.7262342\ttotal: 894ms\tremaining: 1.52s\n",
      "[LightGBM] [Warning] Auto-choosing row-wise multi-threading, the overhead of testing was 0.057767 seconds.\n",
      "You can set `force_row_wise=true` to remove the overhead.\n",
      "And if memory is not enough, you can set `force_col_wise=true`.\n",
      "[LightGBM] [Info] Total Bins 654\n",
      "[LightGBM] [Info] Number of data points in the train set: 118976, number of used features: 20\n",
      "[LightGBM] [Info] Start training from score 5329.083958\n",
      "[LightGBM] [Warning] Auto-choosing row-wise multi-threading, the overhead of testing was 0.052041 seconds.\n",
      "You can set `force_row_wise=true` to remove the overhead.\n",
      "And if memory is not enough, you can set `force_col_wise=true`.\n",
      "[LightGBM] [Info] Total Bins 654\n",
      "[LightGBM] [Info] Number of data points in the train set: 118976, number of used features: 20\n",
      "[LightGBM] [Info] Start training from score 5329.083958\n",
      "[LightGBM] [Warning] Auto-choosing row-wise multi-threading, the overhead of testing was 0.017073 seconds.\n",
      "You can set `force_row_wise=true` to remove the overhead.\n",
      "And if memory is not enough, you can set `force_col_wise=true`.\n",
      "[LightGBM] [Info] Total Bins 652\n",
      "[LightGBM] [Info] Number of data points in the train set: 118976, number of used features: 20\n",
      "[LightGBM] [Info] Start training from score 5331.359703\n",
      "[LightGBM] [Warning] Auto-choosing row-wise multi-threading, the overhead of testing was 0.013831 seconds.\n",
      "You can set `force_row_wise=true` to remove the overhead.\n",
      "And if memory is not enough, you can set `force_col_wise=true`.\n",
      "[LightGBM] [Info] Total Bins 654\n",
      "[LightGBM] [Info] Number of data points in the train set: 118976, number of used features: 20\n",
      "[LightGBM] [Info] Start training from score 5329.083958\n",
      "[LightGBM] [Warning] Auto-choosing row-wise multi-threading, the overhead of testing was 0.014976 seconds.\n",
      "You can set `force_row_wise=true` to remove the overhead.\n",
      "And if memory is not enough, you can set `force_col_wise=true`.\n",
      "[LightGBM] [Info] Total Bins 652\n",
      "[LightGBM] [Info] Number of data points in the train set: 118976, number of used features: 20\n",
      "[LightGBM] [Info] Start training from score 5331.359703\n",
      "[LightGBM] [Warning] Auto-choosing row-wise multi-threading, the overhead of testing was 0.011423 seconds.\n",
      "You can set `force_row_wise=true` to remove the overhead.\n",
      "And if memory is not enough, you can set `force_col_wise=true`.\n",
      "[LightGBM] [Info] Total Bins 652\n",
      "[LightGBM] [Info] Number of data points in the train set: 118976, number of used features: 20\n",
      "[LightGBM] [Info] Start training from score 5328.400257\n",
      "[LightGBM] [Warning] Auto-choosing row-wise multi-threading, the overhead of testing was 0.017535 seconds.\n",
      "You can set `force_row_wise=true` to remove the overhead.\n",
      "And if memory is not enough, you can set `force_col_wise=true`.\n",
      "[LightGBM] [Info] Total Bins 654\n",
      "[LightGBM] [Info] Number of data points in the train set: 118976, number of used features: 20\n",
      "[LightGBM] [Info] Start training from score 5329.083958\n",
      "[LightGBM] [Warning] No further splits with positive gain, best gain: -inf\n",
      "[LightGBM] [Warning] No further splits with positive gain, best gain: -inf\n",
      "[LightGBM] [Warning] No further splits with positive gain, best gain: -inf\n",
      "[LightGBM] [Warning] No further splits with positive gain, best gain: -inf\n",
      "[LightGBM] [Warning] Auto-choosing row-wise multi-threading, the overhead of testing was 0.017646 seconds.\n",
      "You can set `force_row_wise=true` to remove the overhead.\n",
      "And if memory is not enough, you can set `force_col_wise=true`.\n",
      "[LightGBM] [Info] Total Bins 654\n",
      "[LightGBM] [Info] Number of data points in the train set: 118976, number of used features: 20\n",
      "[LightGBM] [Info] Start training from score 5329.083958\n",
      "0:\tlearn: 4611.3395858\ttotal: 73ms\tremaining: 2.12s\n",
      "1:\tlearn: 4457.0376408\ttotal: 97.3ms\tremaining: 1.36s\n",
      "2:\tlearn: 4313.0232168\ttotal: 122ms\tremaining: 1.09s\n",
      "3:\tlearn: 4176.2687047\ttotal: 146ms\tremaining: 950ms\n",
      "4:\tlearn: 4045.3817774\ttotal: 163ms\tremaining: 816ms\n",
      "5:\tlearn: 3926.5822805\ttotal: 181ms\tremaining: 724ms\n",
      "6:\tlearn: 3811.6358212\ttotal: 210ms\tremaining: 689ms\n",
      "7:\tlearn: 3702.5073589\ttotal: 234ms\tremaining: 645ms\n",
      "8:\tlearn: 3600.3794644\ttotal: 254ms\tremaining: 592ms\n",
      "9:\tlearn: 3503.8106979\ttotal: 277ms\tremaining: 553ms\n",
      "10:\tlearn: 3412.7337300\ttotal: 298ms\tremaining: 516ms\n",
      "11:\tlearn: 3328.9878357\ttotal: 327ms\tremaining: 491ms\n",
      "12:\tlearn: 3249.5110081\ttotal: 348ms\tremaining: 456ms\n",
      "13:\tlearn: 3173.3555593\ttotal: 371ms\tremaining: 424ms\n",
      "14:\tlearn: 3101.1378858\ttotal: 386ms\tremaining: 386ms\n",
      "15:\tlearn: 3033.5173393\ttotal: 408ms\tremaining: 357ms\n",
      "16:\tlearn: 2970.3834908\ttotal: 440ms\tremaining: 336ms\n",
      "17:\tlearn: 2909.8861085\ttotal: 467ms\tremaining: 311ms\n",
      "18:\tlearn: 2853.4786203\ttotal: 494ms\tremaining: 286ms\n",
      "19:\tlearn: 2802.1811552\ttotal: 516ms\tremaining: 258ms\n",
      "20:\tlearn: 2750.3180226\ttotal: 536ms\tremaining: 230ms\n",
      "21:\tlearn: 2702.4882081\ttotal: 555ms\tremaining: 202ms\n",
      "22:\tlearn: 2658.7976515\ttotal: 575ms\tremaining: 175ms\n",
      "23:\tlearn: 2617.0559393\ttotal: 600ms\tremaining: 150ms\n",
      "24:\tlearn: 2577.1230030\ttotal: 631ms\tremaining: 126ms\n",
      "25:\tlearn: 2539.1689480\ttotal: 658ms\tremaining: 101ms\n",
      "26:\tlearn: 2504.3349020\ttotal: 713ms\tremaining: 79.2ms\n",
      "27:\tlearn: 2471.4647812\ttotal: 739ms\tremaining: 52.8ms\n",
      "28:\tlearn: 2440.1950232\ttotal: 760ms\tremaining: 26.2ms\n",
      "29:\tlearn: 2410.8546780\ttotal: 785ms\tremaining: 0us\n",
      "0:\tlearn: 4439.4524565\ttotal: 20.9ms\tremaining: 607ms\n",
      "1:\tlearn: 4152.2190470\ttotal: 47.5ms\tremaining: 666ms\n",
      "2:\tlearn: 3900.6348302\ttotal: 63.8ms\tremaining: 574ms\n",
      "3:\tlearn: 3675.3098171\ttotal: 101ms\tremaining: 657ms\n",
      "4:\tlearn: 3474.0049907\ttotal: 128ms\tremaining: 641ms\n",
      "5:\tlearn: 3295.1916036\ttotal: 146ms\tremaining: 584ms\n",
      "6:\tlearn: 3138.5604518\ttotal: 174ms\tremaining: 573ms\n",
      "7:\tlearn: 2996.7403529\ttotal: 198ms\tremaining: 545ms\n",
      "8:\tlearn: 2876.9658852\ttotal: 217ms\tremaining: 507ms\n",
      "9:\tlearn: 2768.7968011\ttotal: 241ms\tremaining: 482ms\n",
      "10:\tlearn: 2672.6526519\ttotal: 269ms\tremaining: 465ms\n",
      "11:\tlearn: 2587.7361447\ttotal: 293ms\tremaining: 440ms\n",
      "12:\tlearn: 2514.9456554\ttotal: 311ms\tremaining: 407ms\n",
      "13:\tlearn: 2446.7051932\ttotal: 335ms\tremaining: 383ms\n",
      "14:\tlearn: 2386.3135451\ttotal: 356ms\tremaining: 356ms\n",
      "15:\tlearn: 2335.0646370\ttotal: 376ms\tremaining: 329ms\n",
      "16:\tlearn: 2289.2781300\ttotal: 396ms\tremaining: 303ms\n",
      "17:\tlearn: 2248.3329481\ttotal: 420ms\tremaining: 280ms\n",
      "18:\tlearn: 2210.9121497\ttotal: 447ms\tremaining: 259ms\n",
      "19:\tlearn: 2179.7014651\ttotal: 466ms\tremaining: 233ms\n",
      "20:\tlearn: 2151.0731018\ttotal: 487ms\tremaining: 209ms\n",
      "21:\tlearn: 2123.6526233\ttotal: 508ms\tremaining: 185ms\n",
      "22:\tlearn: 2100.0888693\ttotal: 533ms\tremaining: 162ms\n",
      "23:\tlearn: 2079.2680982\ttotal: 547ms\tremaining: 137ms\n",
      "24:\tlearn: 2060.5728164\ttotal: 575ms\tremaining: 115ms\n",
      "25:\tlearn: 2044.1776661\ttotal: 596ms\tremaining: 91.8ms\n",
      "26:\tlearn: 2028.3616194\ttotal: 616ms\tremaining: 68.4ms\n",
      "27:\tlearn: 2014.5388770\ttotal: 639ms\tremaining: 45.6ms\n",
      "28:\tlearn: 2002.3046934\ttotal: 657ms\tremaining: 22.7ms\n",
      "29:\tlearn: 1992.5548058\ttotal: 681ms\tremaining: 0us\n",
      "0:\tlearn: 4728.4225667\ttotal: 15.2ms\tremaining: 745ms\n",
      "1:\tlearn: 4696.0132368\ttotal: 47.9ms\tremaining: 1.15s\n",
      "2:\tlearn: 4664.3482882\ttotal: 78.1ms\tremaining: 1.22s\n",
      "3:\tlearn: 4632.6835759\ttotal: 98.3ms\tremaining: 1.13s\n",
      "4:\tlearn: 4601.3490039\ttotal: 125ms\tremaining: 1.12s\n",
      "5:\tlearn: 4570.2167894\ttotal: 147ms\tremaining: 1.08s\n",
      "6:\tlearn: 4539.7775866\ttotal: 165ms\tremaining: 1.01s\n",
      "7:\tlearn: 4509.0861863\ttotal: 199ms\tremaining: 1.04s\n",
      "8:\tlearn: 4478.8492880\ttotal: 217ms\tremaining: 990ms\n",
      "9:\tlearn: 4449.1686099\ttotal: 245ms\tremaining: 978ms\n",
      "10:\tlearn: 4420.4759301\ttotal: 258ms\tremaining: 916ms\n",
      "11:\tlearn: 4391.2907679\ttotal: 296ms\tremaining: 938ms\n",
      "12:\tlearn: 4362.2506373\ttotal: 335ms\tremaining: 952ms\n",
      "13:\tlearn: 4333.9760385\ttotal: 360ms\tremaining: 925ms\n",
      "14:\tlearn: 4305.6866237\ttotal: 383ms\tremaining: 894ms\n",
      "15:\tlearn: 4278.0118221\ttotal: 415ms\tremaining: 881ms\n",
      "16:\tlearn: 4250.6536001\ttotal: 452ms\tremaining: 878ms\n",
      "17:\tlearn: 4224.4358245\ttotal: 476ms\tremaining: 846ms\n",
      "18:\tlearn: 4197.8292225\ttotal: 495ms\tremaining: 807ms\n",
      "19:\tlearn: 4172.0932638\ttotal: 517ms\tremaining: 775ms\n",
      "20:\tlearn: 4146.0931064\ttotal: 554ms\tremaining: 765ms\n",
      "21:\tlearn: 4120.3574415\ttotal: 583ms\tremaining: 742ms\n",
      "22:\tlearn: 4094.6490928\ttotal: 611ms\tremaining: 718ms\n",
      "23:\tlearn: 4069.3799144\ttotal: 630ms\tremaining: 683ms\n",
      "24:\tlearn: 4044.4169509\ttotal: 659ms\tremaining: 659ms\n",
      "25:\tlearn: 4019.8362566\ttotal: 685ms\tremaining: 632ms\n",
      "26:\tlearn: 3995.6331208\ttotal: 703ms\tremaining: 599ms\n",
      "27:\tlearn: 3971.9617584\ttotal: 719ms\tremaining: 565ms\n",
      "28:\tlearn: 3948.3594144\ttotal: 738ms\tremaining: 534ms\n",
      "29:\tlearn: 3924.6460135\ttotal: 776ms\tremaining: 517ms\n",
      "30:\tlearn: 3901.5854381\ttotal: 820ms\tremaining: 502ms\n",
      "31:\tlearn: 3878.7810699\ttotal: 840ms\tremaining: 472ms\n",
      "32:\tlearn: 3856.0460839\ttotal: 865ms\tremaining: 446ms\n",
      "33:\tlearn: 3833.2790626\ttotal: 884ms\tremaining: 416ms\n",
      "34:\tlearn: 3811.3234886\ttotal: 919ms\tremaining: 394ms\n",
      "35:\tlearn: 3789.1505914\ttotal: 947ms\tremaining: 368ms\n",
      "36:\tlearn: 3767.4312986\ttotal: 970ms\tremaining: 341ms\n",
      "37:\tlearn: 3746.4338158\ttotal: 986ms\tremaining: 311ms\n",
      "38:\tlearn: 3725.4037036\ttotal: 1.01s\tremaining: 284ms\n",
      "39:\tlearn: 3704.6348157\ttotal: 1.02s\tremaining: 256ms\n",
      "40:\tlearn: 3684.1128826\ttotal: 1.04s\tremaining: 229ms\n",
      "41:\tlearn: 3663.4370364\ttotal: 1.06s\tremaining: 202ms\n",
      "42:\tlearn: 3643.2730675\ttotal: 1.08s\tremaining: 177ms\n",
      "43:\tlearn: 3623.4587612\ttotal: 1.11s\tremaining: 151ms\n",
      "44:\tlearn: 3603.5114029\ttotal: 1.13s\tremaining: 126ms\n",
      "45:\tlearn: 3584.3025671\ttotal: 1.15s\tremaining: 100ms\n",
      "46:\tlearn: 3565.1795452\ttotal: 1.17s\tremaining: 74.6ms\n",
      "47:\tlearn: 3545.8030979\ttotal: 1.2s\tremaining: 49.9ms\n",
      "48:\tlearn: 3526.9038864\ttotal: 1.22s\tremaining: 24.9ms\n",
      "49:\tlearn: 3508.3983773\ttotal: 1.25s\tremaining: 0us\n",
      "0:\tlearn: 4446.1450081\ttotal: 22.6ms\tremaining: 1.11s\n",
      "1:\tlearn: 4157.8719664\ttotal: 61.2ms\tremaining: 1.47s\n",
      "2:\tlearn: 3907.3555475\ttotal: 90.2ms\tremaining: 1.41s\n",
      "3:\tlearn: 3683.6345142\ttotal: 114ms\tremaining: 1.31s\n",
      "4:\tlearn: 3476.3444262\ttotal: 137ms\tremaining: 1.23s\n",
      "5:\tlearn: 3298.5383837\ttotal: 170ms\tremaining: 1.24s\n",
      "6:\tlearn: 3139.5560205\ttotal: 208ms\tremaining: 1.28s\n",
      "7:\tlearn: 3000.4894768\ttotal: 229ms\tremaining: 1.2s\n",
      "8:\tlearn: 2880.4330307\ttotal: 256ms\tremaining: 1.17s\n",
      "9:\tlearn: 2768.9189458\ttotal: 283ms\tremaining: 1.13s\n",
      "10:\tlearn: 2671.6539491\ttotal: 307ms\tremaining: 1.09s\n",
      "11:\tlearn: 2585.6739700\ttotal: 356ms\tremaining: 1.13s\n",
      "12:\tlearn: 2509.4155790\ttotal: 372ms\tremaining: 1.06s\n",
      "13:\tlearn: 2445.9277036\ttotal: 391ms\tremaining: 1s\n",
      "14:\tlearn: 2384.4619207\ttotal: 427ms\tremaining: 996ms\n",
      "15:\tlearn: 2331.6590415\ttotal: 448ms\tremaining: 952ms\n",
      "16:\tlearn: 2285.3956013\ttotal: 465ms\tremaining: 903ms\n",
      "17:\tlearn: 2245.8676400\ttotal: 503ms\tremaining: 894ms\n",
      "18:\tlearn: 2208.3251297\ttotal: 522ms\tremaining: 851ms\n",
      "19:\tlearn: 2176.0983904\ttotal: 551ms\tremaining: 827ms\n",
      "20:\tlearn: 2145.1225509\ttotal: 576ms\tremaining: 795ms\n",
      "21:\tlearn: 2118.7895289\ttotal: 598ms\tremaining: 761ms\n",
      "22:\tlearn: 2094.9579660\ttotal: 632ms\tremaining: 742ms\n",
      "23:\tlearn: 2072.4720265\ttotal: 652ms\tremaining: 706ms\n",
      "24:\tlearn: 2053.7962641\ttotal: 673ms\tremaining: 673ms\n",
      "25:\tlearn: 2036.1800354\ttotal: 696ms\tremaining: 642ms\n",
      "26:\tlearn: 2021.4624765\ttotal: 739ms\tremaining: 629ms\n",
      "27:\tlearn: 2008.3643783\ttotal: 767ms\tremaining: 603ms\n",
      "28:\tlearn: 1995.0694924\ttotal: 791ms\tremaining: 573ms\n",
      "29:\tlearn: 1983.3825688\ttotal: 809ms\tremaining: 540ms\n",
      "30:\tlearn: 1973.2154763\ttotal: 840ms\tremaining: 515ms\n",
      "31:\tlearn: 1963.2621730\ttotal: 857ms\tremaining: 482ms\n",
      "32:\tlearn: 1952.3373319\ttotal: 882ms\tremaining: 454ms\n",
      "33:\tlearn: 1944.8460551\ttotal: 904ms\tremaining: 425ms\n",
      "34:\tlearn: 1937.9375606\ttotal: 922ms\tremaining: 395ms\n",
      "35:\tlearn: 1931.1996752\ttotal: 940ms\tremaining: 365ms\n",
      "36:\tlearn: 1925.9944068\ttotal: 953ms\tremaining: 335ms\n",
      "37:\tlearn: 1920.7381490\ttotal: 980ms\tremaining: 309ms\n",
      "38:\tlearn: 1914.0525804\ttotal: 999ms\tremaining: 282ms\n",
      "39:\tlearn: 1909.5873514\ttotal: 1.03s\tremaining: 259ms\n",
      "40:\tlearn: 1905.6293636\ttotal: 1.06s\tremaining: 232ms\n",
      "41:\tlearn: 1900.4853628\ttotal: 1.08s\tremaining: 205ms\n",
      "42:\tlearn: 1892.1628612\ttotal: 1.1s\tremaining: 180ms\n",
      "43:\tlearn: 1886.5893382\ttotal: 1.12s\tremaining: 153ms\n",
      "44:\tlearn: 1883.1009588\ttotal: 1.15s\tremaining: 128ms\n",
      "45:\tlearn: 1877.0423320\ttotal: 1.19s\tremaining: 104ms\n",
      "46:\tlearn: 1870.1175407\ttotal: 1.21s\tremaining: 77.5ms\n",
      "47:\tlearn: 1866.8357634\ttotal: 1.24s\tremaining: 51.6ms\n",
      "48:\tlearn: 1861.1180870\ttotal: 1.26s\tremaining: 25.7ms\n",
      "49:\tlearn: 1856.4452456\ttotal: 1.28s\tremaining: 0us\n",
      "0:\tlearn: 4602.2449026\ttotal: 28.4ms\tremaining: 2.81s\n",
      "1:\tlearn: 4446.9643719\ttotal: 49.6ms\tremaining: 2.43s\n",
      "2:\tlearn: 4302.5190034\ttotal: 74.6ms\tremaining: 2.41s\n",
      "3:\tlearn: 4166.2521071\ttotal: 89.2ms\tremaining: 2.14s\n",
      "4:\tlearn: 4037.8558659\ttotal: 113ms\tremaining: 2.15s\n",
      "5:\tlearn: 3915.8780623\ttotal: 140ms\tremaining: 2.2s\n",
      "6:\tlearn: 3804.3040425\ttotal: 160ms\tremaining: 2.13s\n",
      "7:\tlearn: 3697.0349997\ttotal: 191ms\tremaining: 2.19s\n",
      "8:\tlearn: 3592.3557467\ttotal: 220ms\tremaining: 2.23s\n",
      "9:\tlearn: 3496.4203894\ttotal: 249ms\tremaining: 2.24s\n",
      "10:\tlearn: 3406.3990522\ttotal: 274ms\tremaining: 2.21s\n",
      "11:\tlearn: 3321.0377823\ttotal: 297ms\tremaining: 2.17s\n",
      "12:\tlearn: 3239.7576422\ttotal: 318ms\tremaining: 2.13s\n",
      "13:\tlearn: 3166.5130244\ttotal: 341ms\tremaining: 2.1s\n",
      "14:\tlearn: 3092.7846928\ttotal: 358ms\tremaining: 2.03s\n",
      "15:\tlearn: 3024.3394369\ttotal: 382ms\tremaining: 2s\n",
      "16:\tlearn: 2962.2255680\ttotal: 404ms\tremaining: 1.97s\n",
      "17:\tlearn: 2902.0680861\ttotal: 433ms\tremaining: 1.97s\n",
      "18:\tlearn: 2846.7907783\ttotal: 456ms\tremaining: 1.94s\n",
      "19:\tlearn: 2794.6333464\ttotal: 482ms\tremaining: 1.93s\n",
      "20:\tlearn: 2745.0655502\ttotal: 508ms\tremaining: 1.91s\n",
      "21:\tlearn: 2697.5586412\ttotal: 523ms\tremaining: 1.85s\n",
      "22:\tlearn: 2653.8615338\ttotal: 537ms\tremaining: 1.8s\n",
      "23:\tlearn: 2611.1947689\ttotal: 567ms\tremaining: 1.8s\n",
      "24:\tlearn: 2571.6290073\ttotal: 589ms\tremaining: 1.77s\n",
      "25:\tlearn: 2533.9689247\ttotal: 618ms\tremaining: 1.76s\n",
      "26:\tlearn: 2499.6497394\ttotal: 644ms\tremaining: 1.74s\n",
      "27:\tlearn: 2466.4098981\ttotal: 660ms\tremaining: 1.7s\n",
      "28:\tlearn: 2436.5188317\ttotal: 679ms\tremaining: 1.66s\n",
      "29:\tlearn: 2408.0103473\ttotal: 704ms\tremaining: 1.64s\n",
      "30:\tlearn: 2380.6521014\ttotal: 727ms\tremaining: 1.62s\n",
      "31:\tlearn: 2354.5333731\ttotal: 755ms\tremaining: 1.6s\n",
      "32:\tlearn: 2330.5232621\ttotal: 779ms\tremaining: 1.58s\n",
      "33:\tlearn: 2307.8372352\ttotal: 807ms\tremaining: 1.57s\n",
      "34:\tlearn: 2286.6569108\ttotal: 827ms\tremaining: 1.54s\n",
      "35:\tlearn: 2266.1364689\ttotal: 853ms\tremaining: 1.51s\n",
      "36:\tlearn: 2246.7552522\ttotal: 876ms\tremaining: 1.49s\n",
      "37:\tlearn: 2229.1474280\ttotal: 894ms\tremaining: 1.46s\n",
      "38:\tlearn: 2211.6151973\ttotal: 916ms\tremaining: 1.43s\n",
      "39:\tlearn: 2195.2934710\ttotal: 937ms\tremaining: 1.41s\n",
      "40:\tlearn: 2180.2350112\ttotal: 969ms\tremaining: 1.39s\n",
      "41:\tlearn: 2165.7673186\ttotal: 990ms\tremaining: 1.37s\n",
      "42:\tlearn: 2152.0051558\ttotal: 1.01s\tremaining: 1.34s\n",
      "43:\tlearn: 2138.5811230\ttotal: 1.03s\tremaining: 1.31s\n",
      "44:\tlearn: 2125.7818742\ttotal: 1.06s\tremaining: 1.29s\n",
      "45:\tlearn: 2113.4967624\ttotal: 1.09s\tremaining: 1.28s\n",
      "46:\tlearn: 2102.1871119\ttotal: 1.12s\tremaining: 1.26s\n",
      "47:\tlearn: 2092.2975588\ttotal: 1.15s\tremaining: 1.24s\n",
      "48:\tlearn: 2082.2347428\ttotal: 1.17s\tremaining: 1.22s\n",
      "49:\tlearn: 2072.8894515\ttotal: 1.19s\tremaining: 1.19s\n",
      "50:\tlearn: 2064.0712190\ttotal: 1.22s\tremaining: 1.17s\n",
      "51:\tlearn: 2055.5196251\ttotal: 1.24s\tremaining: 1.14s\n",
      "52:\tlearn: 2047.1625396\ttotal: 1.26s\tremaining: 1.12s\n",
      "53:\tlearn: 2039.3350073\ttotal: 1.28s\tremaining: 1.09s\n",
      "54:\tlearn: 2032.2293203\ttotal: 1.31s\tremaining: 1.07s\n",
      "55:\tlearn: 2025.0485888\ttotal: 1.33s\tremaining: 1.05s\n",
      "56:\tlearn: 2018.3668124\ttotal: 1.35s\tremaining: 1.02s\n",
      "57:\tlearn: 2011.7567538\ttotal: 1.37s\tremaining: 995ms\n",
      "58:\tlearn: 2005.7575553\ttotal: 1.4s\tremaining: 971ms\n",
      "59:\tlearn: 2000.3637540\ttotal: 1.42s\tremaining: 945ms\n",
      "60:\tlearn: 1994.9349778\ttotal: 1.44s\tremaining: 918ms\n",
      "61:\tlearn: 1990.1918311\ttotal: 1.46s\tremaining: 895ms\n",
      "62:\tlearn: 1985.1137703\ttotal: 1.5s\tremaining: 879ms\n",
      "63:\tlearn: 1980.5659304\ttotal: 1.52s\tremaining: 854ms\n",
      "64:\tlearn: 1975.9565779\ttotal: 1.54s\tremaining: 829ms\n",
      "65:\tlearn: 1971.9642912\ttotal: 1.56s\tremaining: 803ms\n",
      "66:\tlearn: 1967.8987763\ttotal: 1.58s\tremaining: 779ms\n",
      "67:\tlearn: 1963.8639889\ttotal: 1.59s\tremaining: 751ms\n",
      "68:\tlearn: 1960.5177869\ttotal: 1.61s\tremaining: 726ms\n",
      "69:\tlearn: 1956.6709326\ttotal: 1.64s\tremaining: 703ms\n",
      "70:\tlearn: 1952.2966633\ttotal: 1.67s\tremaining: 682ms\n",
      "71:\tlearn: 1949.0357492\ttotal: 1.7s\tremaining: 659ms\n",
      "72:\tlearn: 1944.6631082\ttotal: 1.72s\tremaining: 637ms\n",
      "73:\tlearn: 1941.4133562\ttotal: 1.74s\tremaining: 611ms\n",
      "74:\tlearn: 1938.5802942\ttotal: 1.76s\tremaining: 587ms\n",
      "75:\tlearn: 1935.6392754\ttotal: 1.78s\tremaining: 561ms\n",
      "76:\tlearn: 1933.1867439\ttotal: 1.8s\tremaining: 538ms\n",
      "38:\tlearn: 3725.4037036\ttotal: 975ms\tremaining: 1.52s\n",
      "39:\tlearn: 3704.6348157\ttotal: 996ms\tremaining: 1.49s\n",
      "40:\tlearn: 3684.1128826\ttotal: 1.01s\tremaining: 1.46s\n",
      "41:\tlearn: 3663.4370364\ttotal: 1.03s\tremaining: 1.42s\n",
      "42:\tlearn: 3643.2730675\ttotal: 1.05s\tremaining: 1.39s\n",
      "43:\tlearn: 3623.4587612\ttotal: 1.07s\tremaining: 1.36s\n",
      "44:\tlearn: 3603.5114029\ttotal: 1.09s\tremaining: 1.33s\n",
      "45:\tlearn: 3584.3025671\ttotal: 1.11s\tremaining: 1.31s\n",
      "46:\tlearn: 3565.1795452\ttotal: 1.14s\tremaining: 1.29s\n",
      "47:\tlearn: 3545.8030979\ttotal: 1.17s\tremaining: 1.26s\n",
      "48:\tlearn: 3526.9038864\ttotal: 1.2s\tremaining: 1.25s\n",
      "49:\tlearn: 3508.3983773\ttotal: 1.22s\tremaining: 1.22s\n",
      "50:\tlearn: 3489.9360528\ttotal: 1.24s\tremaining: 1.19s\n",
      "51:\tlearn: 3471.8594657\ttotal: 1.26s\tremaining: 1.16s\n",
      "52:\tlearn: 3454.0988949\ttotal: 1.28s\tremaining: 1.14s\n",
      "53:\tlearn: 3436.1355766\ttotal: 1.31s\tremaining: 1.12s\n",
      "54:\tlearn: 3418.4372386\ttotal: 1.33s\tremaining: 1.09s\n",
      "55:\tlearn: 3400.6799312\ttotal: 1.35s\tremaining: 1.06s\n",
      "56:\tlearn: 3383.4395954\ttotal: 1.37s\tremaining: 1.03s\n",
      "57:\tlearn: 3366.5709726\ttotal: 1.39s\tremaining: 1.01s\n",
      "58:\tlearn: 3350.2360355\ttotal: 1.42s\tremaining: 988ms\n",
      "59:\tlearn: 3334.0171453\ttotal: 1.44s\tremaining: 960ms\n",
      "60:\tlearn: 3317.5305210\ttotal: 1.46s\tremaining: 931ms\n",
      "61:\tlearn: 3301.3431903\ttotal: 1.48s\tremaining: 910ms\n",
      "62:\tlearn: 3285.3820008\ttotal: 1.51s\tremaining: 887ms\n",
      "63:\tlearn: 3269.7176037\ttotal: 1.53s\tremaining: 862ms\n",
      "64:\tlearn: 3254.1974916\ttotal: 1.55s\tremaining: 836ms\n",
      "65:\tlearn: 3238.6323540\ttotal: 1.57s\tremaining: 810ms\n",
      "66:\tlearn: 3222.9749358\ttotal: 1.6s\tremaining: 788ms\n",
      "67:\tlearn: 3207.9686004\ttotal: 1.62s\tremaining: 762ms\n",
      "68:\tlearn: 3193.4389051\ttotal: 1.64s\tremaining: 736ms\n",
      "69:\tlearn: 3178.7468282\ttotal: 1.67s\tremaining: 715ms\n",
      "70:\tlearn: 3163.7989682\ttotal: 1.69s\tremaining: 689ms\n",
      "71:\tlearn: 3149.4124336\ttotal: 1.7s\tremaining: 662ms\n",
      "72:\tlearn: 3134.6766962\ttotal: 1.74s\tremaining: 643ms\n",
      "73:\tlearn: 3120.7117952\ttotal: 1.76s\tremaining: 620ms\n",
      "74:\tlearn: 3106.6740334\ttotal: 1.78s\tremaining: 595ms\n",
      "75:\tlearn: 3093.2665288\ttotal: 1.8s\tremaining: 570ms\n",
      "76:\tlearn: 3079.6959465\ttotal: 1.83s\tremaining: 548ms\n",
      "77:\tlearn: 3066.3879258\ttotal: 1.86s\tremaining: 524ms\n",
      "78:\tlearn: 3053.0443077\ttotal: 1.88s\tremaining: 500ms\n",
      "79:\tlearn: 3040.0939588\ttotal: 1.92s\tremaining: 480ms\n",
      "80:\tlearn: 3027.5517302\ttotal: 1.95s\tremaining: 458ms\n",
      "81:\tlearn: 3014.7360470\ttotal: 1.98s\tremaining: 436ms\n",
      "82:\tlearn: 3001.7722950\ttotal: 2s\tremaining: 410ms\n",
      "83:\tlearn: 2989.5809384\ttotal: 2.02s\tremaining: 385ms\n",
      "84:\tlearn: 2977.2441238\ttotal: 2.04s\tremaining: 360ms\n",
      "85:\tlearn: 2964.8431329\ttotal: 2.06s\tremaining: 336ms\n",
      "86:\tlearn: 2952.8293199\ttotal: 2.08s\tremaining: 311ms\n",
      "87:\tlearn: 2941.0410034\ttotal: 2.11s\tremaining: 287ms\n",
      "88:\tlearn: 2929.3391454\ttotal: 2.13s\tremaining: 264ms\n",
      "89:\tlearn: 2917.5802259\ttotal: 2.15s\tremaining: 239ms\n",
      "90:\tlearn: 2905.9896960\ttotal: 2.17s\tremaining: 215ms\n",
      "91:\tlearn: 2894.4285980\ttotal: 2.19s\tremaining: 191ms\n",
      "92:\tlearn: 2883.2273640\ttotal: 2.22s\tremaining: 167ms\n",
      "93:\tlearn: 2871.9856384\ttotal: 2.24s\tremaining: 143ms\n",
      "94:\tlearn: 2861.3197043\ttotal: 2.26s\tremaining: 119ms\n",
      "95:\tlearn: 2850.4716530\ttotal: 2.28s\tremaining: 94.9ms\n",
      "96:\tlearn: 2839.6028539\ttotal: 2.31s\tremaining: 71.3ms\n",
      "97:\tlearn: 2829.1453129\ttotal: 2.33s\tremaining: 47.6ms\n",
      "98:\tlearn: 2818.7540281\ttotal: 2.35s\tremaining: 23.7ms\n",
      "99:\tlearn: 2808.3813803\ttotal: 2.37s\tremaining: 0us\n",
      "0:\tlearn: 4438.7646598\ttotal: 20.4ms\tremaining: 2.02s\n",
      "1:\tlearn: 4151.5087102\ttotal: 39.8ms\tremaining: 1.95s\n",
      "2:\tlearn: 3902.8581989\ttotal: 60.7ms\tremaining: 1.96s\n",
      "3:\tlearn: 3676.8170030\ttotal: 80.5ms\tremaining: 1.93s\n",
      "4:\tlearn: 3473.2866325\ttotal: 106ms\tremaining: 2.01s\n",
      "5:\tlearn: 3294.3617046\ttotal: 129ms\tremaining: 2.02s\n",
      "6:\tlearn: 3137.3486102\ttotal: 149ms\tremaining: 1.97s\n",
      "7:\tlearn: 2993.8794814\ttotal: 168ms\tremaining: 1.93s\n",
      "8:\tlearn: 2874.1800550\ttotal: 189ms\tremaining: 1.91s\n",
      "9:\tlearn: 2765.3581478\ttotal: 209ms\tremaining: 1.88s\n",
      "10:\tlearn: 2673.9111371\ttotal: 228ms\tremaining: 1.85s\n",
      "11:\tlearn: 2590.7173983\ttotal: 253ms\tremaining: 1.85s\n",
      "12:\tlearn: 2517.3506430\ttotal: 279ms\tremaining: 1.87s\n",
      "13:\tlearn: 2450.4199545\ttotal: 314ms\tremaining: 1.93s\n",
      "14:\tlearn: 2393.4583630\ttotal: 336ms\tremaining: 1.9s\n",
      "15:\tlearn: 2340.7431152\ttotal: 353ms\tremaining: 1.85s\n",
      "16:\tlearn: 2291.2177663\ttotal: 374ms\tremaining: 1.82s\n",
      "17:\tlearn: 2250.6481699\ttotal: 394ms\tremaining: 1.79s\n",
      "18:\tlearn: 2214.0265906\ttotal: 416ms\tremaining: 1.77s\n",
      "19:\tlearn: 2179.0730935\ttotal: 441ms\tremaining: 1.76s\n",
      "20:\tlearn: 2149.9200267\ttotal: 471ms\tremaining: 1.77s\n",
      "21:\tlearn: 2123.0859878\ttotal: 492ms\tremaining: 1.74s\n",
      "22:\tlearn: 2100.7446532\ttotal: 505ms\tremaining: 1.69s\n",
      "23:\tlearn: 2079.2131279\ttotal: 528ms\tremaining: 1.67s\n",
      "24:\tlearn: 2060.2904758\ttotal: 545ms\tremaining: 1.64s\n",
      "25:\tlearn: 2042.8321275\ttotal: 565ms\tremaining: 1.61s\n",
      "26:\tlearn: 2028.4936053\ttotal: 583ms\tremaining: 1.58s\n",
      "27:\tlearn: 2015.1442263\ttotal: 603ms\tremaining: 1.55s\n",
      "28:\tlearn: 2004.4725168\ttotal: 624ms\tremaining: 1.53s\n",
      "29:\tlearn: 1993.1072272\ttotal: 645ms\tremaining: 1.51s\n",
      "30:\tlearn: 1981.7504742\ttotal: 667ms\tremaining: 1.49s\n",
      "31:\tlearn: 1971.6016354\ttotal: 688ms\tremaining: 1.46s\n",
      "32:\tlearn: 1961.5081951\ttotal: 708ms\tremaining: 1.44s\n",
      "33:\tlearn: 1951.2062961\ttotal: 726ms\tremaining: 1.41s\n",
      "34:\tlearn: 1944.8094041\ttotal: 746ms\tremaining: 1.39s\n",
      "35:\tlearn: 1937.7138478\ttotal: 766ms\tremaining: 1.36s\n",
      "36:\tlearn: 1931.6702968\ttotal: 794ms\tremaining: 1.35s\n",
      "37:\tlearn: 1922.9639214\ttotal: 819ms\tremaining: 1.34s\n",
      "38:\tlearn: 1915.8364207\ttotal: 843ms\tremaining: 1.32s\n",
      "39:\tlearn: 1911.1155014\ttotal: 864ms\tremaining: 1.29s\n",
      "40:\tlearn: 1907.1500638\ttotal: 884ms\tremaining: 1.27s\n",
      "41:\tlearn: 1901.8503171\ttotal: 902ms\tremaining: 1.25s\n",
      "42:\tlearn: 1897.7178350\ttotal: 925ms\tremaining: 1.23s\n",
      "43:\tlearn: 1890.1542566\ttotal: 950ms\tremaining: 1.21s\n",
      "44:\tlearn: 1884.9018404\ttotal: 968ms\tremaining: 1.18s\n",
      "45:\tlearn: 1878.9770699\ttotal: 997ms\tremaining: 1.17s\n",
      "46:\tlearn: 1875.0875868\ttotal: 1.03s\tremaining: 1.16s\n",
      "47:\tlearn: 1869.9466457\ttotal: 1.05s\tremaining: 1.14s\n",
      "48:\tlearn: 1866.7606672\ttotal: 1.08s\tremaining: 1.12s\n",
      "49:\tlearn: 1864.0731228\ttotal: 1.1s\tremaining: 1.1s\n",
      "50:\tlearn: 1859.3160207\ttotal: 1.11s\tremaining: 1.07s\n",
      "51:\tlearn: 1855.2248933\ttotal: 1.13s\tremaining: 1.05s\n",
      "52:\tlearn: 1852.9645281\ttotal: 1.15s\tremaining: 1.02s\n",
      "53:\tlearn: 1850.0710958\ttotal: 1.17s\tremaining: 995ms\n",
      "54:\tlearn: 1847.2030860\ttotal: 1.19s\tremaining: 975ms\n",
      "55:\tlearn: 1844.2432626\ttotal: 1.21s\tremaining: 950ms\n",
      "56:\tlearn: 1839.6565939\ttotal: 1.23s\tremaining: 925ms\n",
      "57:\tlearn: 1836.6828378\ttotal: 1.26s\tremaining: 910ms\n",
      "58:\tlearn: 1832.4272189\ttotal: 1.28s\tremaining: 892ms\n",
      "59:\tlearn: 1829.9979153\ttotal: 1.3s\tremaining: 868ms\n",
      "60:\tlearn: 1828.7435930\ttotal: 1.32s\tremaining: 844ms\n",
      "61:\tlearn: 1826.8235087\ttotal: 1.34s\tremaining: 819ms\n",
      "62:\tlearn: 1824.6553270\ttotal: 1.36s\tremaining: 798ms\n",
      "63:\tlearn: 1822.9120131\ttotal: 1.38s\tremaining: 779ms\n",
      "64:\tlearn: 1819.5185884\ttotal: 1.41s\tremaining: 761ms\n",
      "65:\tlearn: 1817.1165663\ttotal: 1.43s\tremaining: 738ms\n",
      "66:\tlearn: 1815.5862340\ttotal: 1.45s\tremaining: 713ms\n",
      "67:\tlearn: 1814.1706218\ttotal: 1.47s\tremaining: 692ms\n",
      "68:\tlearn: 1811.1506691\ttotal: 1.49s\tremaining: 671ms\n",
      "69:\tlearn: 1807.8389857\ttotal: 1.51s\tremaining: 649ms\n",
      "70:\tlearn: 1804.4862725\ttotal: 1.53s\tremaining: 626ms\n",
      "71:\tlearn: 1801.9799562\ttotal: 1.55s\tremaining: 603ms\n",
      "72:\tlearn: 1798.6303899\ttotal: 1.58s\tremaining: 583ms\n",
      "73:\tlearn: 1797.2468069\ttotal: 1.6s\tremaining: 561ms\n",
      "74:\tlearn: 1795.5712976\ttotal: 1.62s\tremaining: 542ms\n",
      "75:\tlearn: 1793.8776006\ttotal: 1.65s\tremaining: 522ms\n",
      "76:\tlearn: 1792.1896226\ttotal: 1.67s\tremaining: 499ms\n",
      "77:\tlearn: 1790.9931753\ttotal: 1.69s\tremaining: 477ms\n",
      "78:\tlearn: 1789.3372522\ttotal: 1.71s\tremaining: 455ms\n",
      "79:\tlearn: 1787.2288593\ttotal: 1.75s\tremaining: 438ms\n",
      "80:\tlearn: 1785.5060889\ttotal: 1.79s\tremaining: 420ms\n",
      "81:\tlearn: 1784.1613012\ttotal: 1.82s\tremaining: 400ms\n",
      "82:\tlearn: 1783.1858393\ttotal: 1.84s\tremaining: 377ms\n",
      "83:\tlearn: 1780.8977436\ttotal: 1.86s\tremaining: 354ms\n",
      "84:\tlearn: 1780.1469095\ttotal: 1.88s\tremaining: 332ms\n",
      "85:\tlearn: 1778.8453181\ttotal: 1.89s\tremaining: 308ms\n",
      "86:\tlearn: 1776.5338516\ttotal: 1.91s\tremaining: 286ms\n",
      "87:\tlearn: 1774.9152499\ttotal: 1.94s\tremaining: 264ms\n",
      "88:\tlearn: 1773.5088088\ttotal: 1.96s\tremaining: 242ms\n",
      "89:\tlearn: 1772.9756066\ttotal: 1.98s\tremaining: 220ms\n",
      "90:\tlearn: 1771.2708012\ttotal: 2s\tremaining: 198ms\n",
      "91:\tlearn: 1769.7035057\ttotal: 2.02s\tremaining: 176ms\n",
      "92:\tlearn: 1768.0323798\ttotal: 2.05s\tremaining: 154ms\n",
      "93:\tlearn: 1766.6484028\ttotal: 2.07s\tremaining: 132ms\n",
      "94:\tlearn: 1765.1244331\ttotal: 2.08s\tremaining: 110ms\n",
      "95:\tlearn: 1764.7339818\ttotal: 2.1s\tremaining: 87.5ms\n",
      "96:\tlearn: 1763.4960384\ttotal: 2.12s\tremaining: 65.6ms\n",
      "97:\tlearn: 1761.9903107\ttotal: 2.14s\tremaining: 43.7ms\n",
      "98:\tlearn: 1760.5024459\ttotal: 2.17s\tremaining: 21.9ms\n",
      "99:\tlearn: 1758.9072561\ttotal: 2.21s\tremaining: 0us\n",
      "0:\tlearn: 4602.6435107\ttotal: 29.6ms\tremaining: 858ms\n",
      "1:\tlearn: 4439.6331697\ttotal: 52.7ms\tremaining: 738ms\n",
      "2:\tlearn: 4288.1303802\ttotal: 76.7ms\tremaining: 691ms\n",
      "3:\tlearn: 4141.9900670\ttotal: 112ms\tremaining: 726ms\n",
      "4:\tlearn: 4004.9303612\ttotal: 163ms\tremaining: 814ms\n",
      "5:\tlearn: 3878.3062390\ttotal: 189ms\tremaining: 756ms\n",
      "6:\tlearn: 3755.4421169\ttotal: 218ms\tremaining: 717ms\n",
      "7:\tlearn: 3641.8136896\ttotal: 250ms\tremaining: 686ms\n",
      "8:\tlearn: 3536.1734618\ttotal: 271ms\tremaining: 632ms\n",
      "9:\tlearn: 3434.5243432\ttotal: 298ms\tremaining: 596ms\n",
      "10:\tlearn: 3339.0751100\ttotal: 324ms\tremaining: 559ms\n",
      "11:\tlearn: 3249.9818880\ttotal: 359ms\tremaining: 538ms\n",
      "12:\tlearn: 3163.2784272\ttotal: 389ms\tremaining: 509ms\n",
      "13:\tlearn: 3084.6480744\ttotal: 426ms\tremaining: 487ms\n",
      "14:\tlearn: 3010.2659556\ttotal: 448ms\tremaining: 448ms\n",
      "15:\tlearn: 2940.7622956\ttotal: 473ms\tremaining: 414ms\n",
      "16:\tlearn: 2874.5501025\ttotal: 499ms\tremaining: 382ms\n",
      "17:\tlearn: 2812.8262614\ttotal: 524ms\tremaining: 349ms\n",
      "18:\tlearn: 2752.9816942\ttotal: 545ms\tremaining: 316ms\n",
      "19:\tlearn: 2696.3020919\ttotal: 576ms\tremaining: 288ms\n",
      "20:\tlearn: 2643.7584161\ttotal: 602ms\tremaining: 258ms\n",
      "21:\tlearn: 2597.1415100\ttotal: 631ms\tremaining: 229ms\n",
      "22:\tlearn: 2552.9336493\ttotal: 661ms\tremaining: 201ms\n",
      "23:\tlearn: 2508.7478981\ttotal: 695ms\tremaining: 174ms\n",
      "24:\tlearn: 2469.1396753\ttotal: 724ms\tremaining: 145ms\n",
      "25:\tlearn: 2431.8126069\ttotal: 750ms\tremaining: 115ms\n",
      "26:\tlearn: 2395.7524058\ttotal: 785ms\tremaining: 87.2ms\n",
      "27:\tlearn: 2362.3493733\ttotal: 810ms\tremaining: 57.9ms\n",
      "28:\tlearn: 2330.8554944\ttotal: 843ms\tremaining: 29.1ms\n",
      "29:\tlearn: 2301.1197424\ttotal: 877ms\tremaining: 0us\n",
      "0:\tlearn: 4429.3182254\ttotal: 35.4ms\tremaining: 1.02s\n",
      "1:\tlearn: 4123.2860492\ttotal: 63.8ms\tremaining: 893ms\n",
      "2:\tlearn: 3856.4437949\ttotal: 83.1ms\tremaining: 748ms\n",
      "3:\tlearn: 3622.8250059\ttotal: 107ms\tremaining: 697ms\n",
      "4:\tlearn: 3413.2919007\ttotal: 140ms\tremaining: 700ms\n",
      "5:\tlearn: 3228.7206098\ttotal: 168ms\tremaining: 672ms\n",
      "6:\tlearn: 3064.0760819\ttotal: 202ms\tremaining: 663ms\n",
      "7:\tlearn: 2915.8700299\ttotal: 230ms\tremaining: 631ms\n",
      "8:\tlearn: 2784.9264569\ttotal: 280ms\tremaining: 653ms\n",
      "9:\tlearn: 2670.5864622\ttotal: 314ms\tremaining: 628ms\n",
      "10:\tlearn: 2570.0831654\ttotal: 344ms\tremaining: 594ms\n",
      "11:\tlearn: 2482.3515532\ttotal: 375ms\tremaining: 562ms\n",
      "12:\tlearn: 2405.2054527\ttotal: 398ms\tremaining: 521ms\n",
      "13:\tlearn: 2334.9924738\ttotal: 430ms\tremaining: 491ms\n",
      "14:\tlearn: 2276.4716317\ttotal: 453ms\tremaining: 453ms\n",
      "15:\tlearn: 2225.8623959\ttotal: 480ms\tremaining: 420ms\n",
      "16:\tlearn: 2179.3598369\ttotal: 501ms\tremaining: 383ms\n",
      "17:\tlearn: 2140.1378233\ttotal: 536ms\tremaining: 357ms\n",
      "18:\tlearn: 2106.2882507\ttotal: 578ms\tremaining: 334ms\n",
      "19:\tlearn: 2074.9601000\ttotal: 616ms\tremaining: 308ms\n",
      "20:\tlearn: 2048.7598975\ttotal: 657ms\tremaining: 282ms\n",
      "21:\tlearn: 2023.6553694\ttotal: 697ms\tremaining: 253ms\n",
      "22:\tlearn: 2003.5306674\ttotal: 720ms\tremaining: 219ms\n",
      "23:\tlearn: 1984.7515838\ttotal: 748ms\tremaining: 187ms\n",
      "24:\tlearn: 1967.7701742\ttotal: 775ms\tremaining: 155ms\n",
      "25:\tlearn: 1951.1806799\ttotal: 810ms\tremaining: 125ms\n",
      "26:\tlearn: 1938.4116184\ttotal: 838ms\tremaining: 93.2ms\n",
      "27:\tlearn: 1922.4437985\ttotal: 862ms\tremaining: 61.6ms\n",
      "28:\tlearn: 1907.6712742\ttotal: 893ms\tremaining: 30.8ms\n",
      "29:\tlearn: 1897.6374889\ttotal: 925ms\tremaining: 0us\n",
      "0:\tlearn: 4594.9999247\ttotal: 33.3ms\tremaining: 1.63s\n",
      "1:\tlearn: 4433.0361914\ttotal: 54ms\tremaining: 1.29s\n",
      "2:\tlearn: 4282.3623539\ttotal: 79.4ms\tremaining: 1.24s\n",
      "3:\tlearn: 4139.0856822\ttotal: 97.8ms\tremaining: 1.12s\n",
      "4:\tlearn: 4003.1347500\ttotal: 126ms\tremaining: 1.13s\n",
      "5:\tlearn: 3876.1744465\ttotal: 155ms\tremaining: 1.14s\n",
      "6:\tlearn: 3757.1962420\ttotal: 176ms\tremaining: 1.08s\n",
      "7:\tlearn: 3641.9384503\ttotal: 196ms\tremaining: 1.03s\n",
      "8:\tlearn: 3534.3145838\ttotal: 229ms\tremaining: 1.04s\n",
      "9:\tlearn: 3431.9629917\ttotal: 246ms\tremaining: 985ms\n",
      "10:\tlearn: 3335.2553059\ttotal: 269ms\tremaining: 953ms\n",
      "11:\tlearn: 3244.2838508\ttotal: 289ms\tremaining: 915ms\n",
      "12:\tlearn: 3160.3024508\ttotal: 316ms\tremaining: 899ms\n",
      "13:\tlearn: 3079.1962818\ttotal: 346ms\tremaining: 890ms\n",
      "14:\tlearn: 3004.0111127\ttotal: 373ms\tremaining: 870ms\n",
      "15:\tlearn: 2934.2053999\ttotal: 399ms\tremaining: 848ms\n",
      "16:\tlearn: 2868.7877621\ttotal: 426ms\tremaining: 826ms\n",
      "17:\tlearn: 2805.8048462\ttotal: 454ms\tremaining: 807ms\n",
      "18:\tlearn: 2746.1686242\ttotal: 479ms\tremaining: 781ms\n",
      "19:\tlearn: 2690.1611787\ttotal: 500ms\tremaining: 750ms\n",
      "20:\tlearn: 2638.9010710\ttotal: 528ms\tremaining: 729ms\n",
      "21:\tlearn: 2590.4155119\ttotal: 550ms\tremaining: 701ms\n",
      "22:\tlearn: 2546.4324750\ttotal: 570ms\tremaining: 669ms\n",
      "23:\tlearn: 2503.0190228\ttotal: 590ms\tremaining: 639ms\n",
      "24:\tlearn: 2462.9570704\ttotal: 615ms\tremaining: 615ms\n",
      "25:\tlearn: 2424.9325921\ttotal: 636ms\tremaining: 587ms\n",
      "26:\tlearn: 2389.8904581\ttotal: 666ms\tremaining: 567ms\n",
      "27:\tlearn: 2357.2427330\ttotal: 688ms\tremaining: 540ms\n",
      "28:\tlearn: 2327.0178525\ttotal: 711ms\tremaining: 515ms\n",
      "29:\tlearn: 2297.7818632\ttotal: 732ms\tremaining: 488ms\n",
      "30:\tlearn: 2271.7634235\ttotal: 752ms\tremaining: 461ms\n",
      "31:\tlearn: 2247.4340613\ttotal: 774ms\tremaining: 435ms\n",
      "32:\tlearn: 2224.1030585\ttotal: 795ms\tremaining: 409ms\n",
      "33:\tlearn: 2201.3187514\ttotal: 819ms\tremaining: 385ms\n",
      "34:\tlearn: 2180.7097220\ttotal: 843ms\tremaining: 361ms\n",
      "35:\tlearn: 2160.2066497\ttotal: 863ms\tremaining: 335ms\n",
      "36:\tlearn: 2143.1974048\ttotal: 883ms\tremaining: 310ms\n",
      "37:\tlearn: 2125.7366770\ttotal: 905ms\tremaining: 286ms\n",
      "38:\tlearn: 2110.0683904\ttotal: 924ms\tremaining: 261ms\n",
      "39:\tlearn: 2095.3032167\ttotal: 945ms\tremaining: 236ms\n",
      "40:\tlearn: 2081.2719865\ttotal: 974ms\tremaining: 214ms\n",
      "41:\tlearn: 2067.6977320\ttotal: 997ms\tremaining: 190ms\n",
      "42:\tlearn: 2054.7841040\ttotal: 1.02s\tremaining: 166ms\n",
      "43:\tlearn: 2042.3007901\ttotal: 1.04s\tremaining: 142ms\n",
      "44:\tlearn: 2031.2523599\ttotal: 1.06s\tremaining: 118ms\n",
      "45:\tlearn: 2019.7036301\ttotal: 1.09s\tremaining: 94.7ms\n",
      "46:\tlearn: 2010.1084771\ttotal: 1.11s\tremaining: 70.7ms\n",
      "47:\tlearn: 2000.1380164\ttotal: 1.14s\tremaining: 47.3ms\n",
      "48:\tlearn: 1991.6680797\ttotal: 1.16s\tremaining: 23.6ms\n",
      "49:\tlearn: 1983.1692737\ttotal: 1.18s\tremaining: 0us\n",
      "0:\tlearn: 4420.2026648\ttotal: 22.2ms\tremaining: 1.09s\n",
      "1:\tlearn: 4114.4494836\ttotal: 55ms\tremaining: 1.32s\n",
      "2:\tlearn: 3844.0473846\ttotal: 88.5ms\tremaining: 1.39s\n",
      "3:\tlearn: 3609.7613729\ttotal: 117ms\tremaining: 1.34s\n",
      "4:\tlearn: 3404.5968234\ttotal: 140ms\tremaining: 1.26s\n",
      "5:\tlearn: 3220.0592828\ttotal: 168ms\tremaining: 1.23s\n",
      "6:\tlearn: 3053.4215604\ttotal: 196ms\tremaining: 1.21s\n",
      "7:\tlearn: 2909.6673950\ttotal: 218ms\tremaining: 1.15s\n",
      "8:\tlearn: 2777.9347393\ttotal: 252ms\tremaining: 1.15s\n",
      "9:\tlearn: 2664.2315841\ttotal: 277ms\tremaining: 1.11s\n",
      "10:\tlearn: 2564.2054613\ttotal: 307ms\tremaining: 1.09s\n",
      "11:\tlearn: 2478.0418729\ttotal: 330ms\tremaining: 1.04s\n",
      "12:\tlearn: 2402.5698899\ttotal: 359ms\tremaining: 1.02s\n",
      "13:\tlearn: 2338.1328290\ttotal: 388ms\tremaining: 997ms\n",
      "14:\tlearn: 2279.1892568\ttotal: 409ms\tremaining: 954ms\n",
      "15:\tlearn: 2226.6960347\ttotal: 439ms\tremaining: 933ms\n",
      "16:\tlearn: 2180.1548441\ttotal: 486ms\tremaining: 943ms\n",
      "17:\tlearn: 2141.3771953\ttotal: 517ms\tremaining: 919ms\n",
      "18:\tlearn: 2106.7789774\ttotal: 548ms\tremaining: 893ms\n",
      "19:\tlearn: 2076.9791404\ttotal: 576ms\tremaining: 863ms\n",
      "20:\tlearn: 2052.3322846\ttotal: 608ms\tremaining: 840ms\n",
      "21:\tlearn: 2028.8535038\ttotal: 631ms\tremaining: 803ms\n",
      "22:\tlearn: 2006.5474145\ttotal: 652ms\tremaining: 765ms\n",
      "23:\tlearn: 1987.6528719\ttotal: 679ms\tremaining: 735ms\n",
      "24:\tlearn: 1971.7462656\ttotal: 703ms\tremaining: 703ms\n",
      "25:\tlearn: 1954.7441719\ttotal: 726ms\tremaining: 670ms\n",
      "26:\tlearn: 1941.9265828\ttotal: 752ms\tremaining: 641ms\n",
      "27:\tlearn: 1929.8371139\ttotal: 782ms\tremaining: 615ms\n",
      "28:\tlearn: 1916.5558048\ttotal: 804ms\tremaining: 582ms\n",
      "29:\tlearn: 1906.7711337\ttotal: 826ms\tremaining: 551ms\n",
      "30:\tlearn: 1893.2418941\ttotal: 857ms\tremaining: 525ms\n",
      "31:\tlearn: 1882.6048765\ttotal: 888ms\tremaining: 499ms\n",
      "52:\tlearn: 3457.4850324\ttotal: 1.24s\tremaining: 1.1s\n",
      "53:\tlearn: 3439.9045223\ttotal: 1.26s\tremaining: 1.08s\n",
      "54:\tlearn: 3422.5658354\ttotal: 1.3s\tremaining: 1.06s\n",
      "55:\tlearn: 3405.1943559\ttotal: 1.33s\tremaining: 1.04s\n",
      "56:\tlearn: 3388.0833637\ttotal: 1.35s\tremaining: 1.02s\n",
      "57:\tlearn: 3371.2815871\ttotal: 1.38s\tremaining: 998ms\n",
      "58:\tlearn: 3354.5068663\ttotal: 1.39s\tremaining: 969ms\n",
      "59:\tlearn: 3338.3315820\ttotal: 1.42s\tremaining: 944ms\n",
      "60:\tlearn: 3322.1204096\ttotal: 1.44s\tremaining: 921ms\n",
      "61:\tlearn: 3306.0832019\ttotal: 1.46s\tremaining: 893ms\n",
      "62:\tlearn: 3290.4356387\ttotal: 1.48s\tremaining: 870ms\n",
      "63:\tlearn: 3274.8935414\ttotal: 1.5s\tremaining: 847ms\n",
      "64:\tlearn: 3259.3148170\ttotal: 1.53s\tremaining: 826ms\n",
      "65:\tlearn: 3243.9083945\ttotal: 1.56s\tremaining: 802ms\n",
      "66:\tlearn: 3228.8830247\ttotal: 1.57s\tremaining: 775ms\n",
      "67:\tlearn: 3214.3571076\ttotal: 1.6s\tremaining: 752ms\n",
      "68:\tlearn: 3199.8973216\ttotal: 1.61s\tremaining: 726ms\n",
      "69:\tlearn: 3185.0794972\ttotal: 1.63s\tremaining: 700ms\n",
      "70:\tlearn: 3170.7606692\ttotal: 1.66s\tremaining: 678ms\n",
      "71:\tlearn: 3156.4471236\ttotal: 1.68s\tremaining: 652ms\n",
      "72:\tlearn: 3141.9943577\ttotal: 1.7s\tremaining: 629ms\n",
      "73:\tlearn: 3127.8614854\ttotal: 1.72s\tremaining: 604ms\n",
      "74:\tlearn: 3113.7899596\ttotal: 1.74s\tremaining: 579ms\n",
      "75:\tlearn: 3100.1683669\ttotal: 1.75s\tremaining: 554ms\n",
      "76:\tlearn: 3086.6563486\ttotal: 1.78s\tremaining: 531ms\n",
      "77:\tlearn: 3073.7041342\ttotal: 1.8s\tremaining: 507ms\n",
      "78:\tlearn: 3060.4499776\ttotal: 1.82s\tremaining: 485ms\n",
      "79:\tlearn: 3047.6515011\ttotal: 1.85s\tremaining: 462ms\n",
      "80:\tlearn: 3034.5385732\ttotal: 1.88s\tremaining: 441ms\n",
      "81:\tlearn: 3021.9126109\ttotal: 1.9s\tremaining: 418ms\n",
      "82:\tlearn: 3009.0966848\ttotal: 1.93s\tremaining: 396ms\n",
      "83:\tlearn: 2996.8204542\ttotal: 1.95s\tremaining: 372ms\n",
      "84:\tlearn: 2984.7466354\ttotal: 1.97s\tremaining: 348ms\n",
      "85:\tlearn: 2972.3852791\ttotal: 2s\tremaining: 325ms\n",
      "86:\tlearn: 2959.9171000\ttotal: 2.02s\tremaining: 303ms\n",
      "87:\tlearn: 2947.9316210\ttotal: 2.05s\tremaining: 280ms\n",
      "88:\tlearn: 2936.3432570\ttotal: 2.08s\tremaining: 257ms\n",
      "89:\tlearn: 2924.5663767\ttotal: 2.1s\tremaining: 234ms\n",
      "90:\tlearn: 2913.4112255\ttotal: 2.12s\tremaining: 210ms\n",
      "91:\tlearn: 2902.0243492\ttotal: 2.15s\tremaining: 187ms\n",
      "92:\tlearn: 2890.8408493\ttotal: 2.17s\tremaining: 163ms\n",
      "93:\tlearn: 2879.5639415\ttotal: 2.19s\tremaining: 140ms\n",
      "94:\tlearn: 2868.5919661\ttotal: 2.22s\tremaining: 117ms\n",
      "95:\tlearn: 2857.6365246\ttotal: 2.24s\tremaining: 93.3ms\n",
      "96:\tlearn: 2846.9667142\ttotal: 2.27s\tremaining: 70.3ms\n",
      "97:\tlearn: 2836.2392626\ttotal: 2.29s\tremaining: 46.7ms\n",
      "98:\tlearn: 2826.0503515\ttotal: 2.31s\tremaining: 23.3ms\n",
      "99:\tlearn: 2816.0780790\ttotal: 2.33s\tremaining: 0us\n",
      "0:\tlearn: 4439.4524565\ttotal: 13.6ms\tremaining: 1.34s\n",
      "1:\tlearn: 4152.2190470\ttotal: 30.8ms\tremaining: 1.51s\n",
      "2:\tlearn: 3900.6348302\ttotal: 60.8ms\tremaining: 1.96s\n",
      "3:\tlearn: 3675.3098171\ttotal: 128ms\tremaining: 3.08s\n",
      "4:\tlearn: 3474.0049907\ttotal: 158ms\tremaining: 2.99s\n",
      "5:\tlearn: 3295.1916036\ttotal: 186ms\tremaining: 2.91s\n",
      "6:\tlearn: 3138.5604518\ttotal: 201ms\tremaining: 2.67s\n",
      "7:\tlearn: 2996.7403529\ttotal: 232ms\tremaining: 2.66s\n",
      "8:\tlearn: 2876.9658852\ttotal: 257ms\tremaining: 2.6s\n",
      "9:\tlearn: 2768.7968011\ttotal: 283ms\tremaining: 2.54s\n",
      "10:\tlearn: 2672.6526519\ttotal: 305ms\tremaining: 2.46s\n",
      "11:\tlearn: 2587.7361447\ttotal: 323ms\tremaining: 2.37s\n",
      "12:\tlearn: 2514.9456554\ttotal: 348ms\tremaining: 2.33s\n",
      "13:\tlearn: 2446.7051932\ttotal: 369ms\tremaining: 2.26s\n",
      "14:\tlearn: 2386.3135451\ttotal: 395ms\tremaining: 2.24s\n",
      "15:\tlearn: 2335.0646370\ttotal: 411ms\tremaining: 2.16s\n",
      "16:\tlearn: 2289.2781300\ttotal: 435ms\tremaining: 2.12s\n",
      "17:\tlearn: 2248.3329481\ttotal: 452ms\tremaining: 2.06s\n",
      "18:\tlearn: 2210.9121497\ttotal: 475ms\tremaining: 2.02s\n",
      "19:\tlearn: 2179.7014651\ttotal: 498ms\tremaining: 1.99s\n",
      "20:\tlearn: 2151.0731018\ttotal: 516ms\tremaining: 1.94s\n",
      "21:\tlearn: 2123.6526233\ttotal: 542ms\tremaining: 1.92s\n",
      "22:\tlearn: 2100.0888693\ttotal: 563ms\tremaining: 1.88s\n",
      "23:\tlearn: 2079.2680982\ttotal: 578ms\tremaining: 1.83s\n",
      "24:\tlearn: 2060.5728164\ttotal: 592ms\tremaining: 1.78s\n",
      "25:\tlearn: 2044.1776661\ttotal: 619ms\tremaining: 1.76s\n",
      "26:\tlearn: 2028.3616194\ttotal: 644ms\tremaining: 1.74s\n",
      "27:\tlearn: 2014.5388770\ttotal: 666ms\tremaining: 1.71s\n",
      "28:\tlearn: 2002.3046934\ttotal: 683ms\tremaining: 1.67s\n",
      "29:\tlearn: 1992.5548058\ttotal: 702ms\tremaining: 1.64s\n",
      "30:\tlearn: 1981.1516669\ttotal: 725ms\tremaining: 1.61s\n",
      "31:\tlearn: 1971.5673828\ttotal: 749ms\tremaining: 1.59s\n",
      "32:\tlearn: 1962.3102054\ttotal: 773ms\tremaining: 1.57s\n",
      "33:\tlearn: 1954.9163085\ttotal: 788ms\tremaining: 1.53s\n",
      "34:\tlearn: 1948.3001903\ttotal: 802ms\tremaining: 1.49s\n",
      "35:\tlearn: 1940.1263237\ttotal: 824ms\tremaining: 1.47s\n",
      "36:\tlearn: 1933.0238113\ttotal: 854ms\tremaining: 1.45s\n",
      "37:\tlearn: 1923.3525344\ttotal: 876ms\tremaining: 1.43s\n",
      "38:\tlearn: 1914.7604629\ttotal: 904ms\tremaining: 1.41s\n",
      "39:\tlearn: 1908.6239564\ttotal: 921ms\tremaining: 1.38s\n",
      "40:\tlearn: 1904.4808939\ttotal: 942ms\tremaining: 1.35s\n",
      "41:\tlearn: 1900.0006074\ttotal: 957ms\tremaining: 1.32s\n",
      "42:\tlearn: 1894.0323455\ttotal: 990ms\tremaining: 1.31s\n",
      "43:\tlearn: 1886.6738831\ttotal: 1.01s\tremaining: 1.29s\n",
      "44:\tlearn: 1882.1176430\ttotal: 1.04s\tremaining: 1.27s\n",
      "45:\tlearn: 1878.8290105\ttotal: 1.06s\tremaining: 1.24s\n",
      "46:\tlearn: 1875.4108951\ttotal: 1.09s\tremaining: 1.23s\n",
      "47:\tlearn: 1870.7049717\ttotal: 1.11s\tremaining: 1.21s\n",
      "48:\tlearn: 1867.7265261\ttotal: 1.13s\tremaining: 1.18s\n",
      "49:\tlearn: 1863.7553921\ttotal: 1.15s\tremaining: 1.15s\n",
      "50:\tlearn: 1859.2447144\ttotal: 1.17s\tremaining: 1.12s\n",
      "51:\tlearn: 1856.3569071\ttotal: 1.2s\tremaining: 1.11s\n",
      "52:\tlearn: 1854.0167094\ttotal: 1.23s\tremaining: 1.09s\n",
      "53:\tlearn: 1850.8201609\ttotal: 1.25s\tremaining: 1.06s\n",
      "54:\tlearn: 1847.8412553\ttotal: 1.26s\tremaining: 1.03s\n",
      "55:\tlearn: 1845.1942989\ttotal: 1.28s\tremaining: 1.01s\n",
      "56:\tlearn: 1840.6138679\ttotal: 1.3s\tremaining: 982ms\n",
      "57:\tlearn: 1836.1807348\ttotal: 1.32s\tremaining: 955ms\n",
      "58:\tlearn: 1832.5760053\ttotal: 1.34s\tremaining: 929ms\n",
      "59:\tlearn: 1829.3255478\ttotal: 1.37s\tremaining: 911ms\n",
      "60:\tlearn: 1826.3025030\ttotal: 1.39s\tremaining: 891ms\n",
      "61:\tlearn: 1824.3367441\ttotal: 1.42s\tremaining: 868ms\n",
      "62:\tlearn: 1822.5047576\ttotal: 1.44s\tremaining: 848ms\n",
      "63:\tlearn: 1820.6602686\ttotal: 1.46s\tremaining: 821ms\n",
      "64:\tlearn: 1818.7321729\ttotal: 1.48s\tremaining: 796ms\n",
      "65:\tlearn: 1816.3707441\ttotal: 1.5s\tremaining: 773ms\n",
      "66:\tlearn: 1814.5912584\ttotal: 1.52s\tremaining: 750ms\n",
      "67:\tlearn: 1813.0220713\ttotal: 1.56s\tremaining: 733ms\n",
      "68:\tlearn: 1810.5709386\ttotal: 1.57s\tremaining: 708ms\n",
      "69:\tlearn: 1808.6798156\ttotal: 1.59s\tremaining: 683ms\n",
      "70:\tlearn: 1805.5038354\ttotal: 1.61s\tremaining: 660ms\n",
      "71:\tlearn: 1803.0839361\ttotal: 1.64s\tremaining: 637ms\n",
      "72:\tlearn: 1801.3806758\ttotal: 1.66s\tremaining: 614ms\n",
      "73:\tlearn: 1800.0801765\ttotal: 1.68s\tremaining: 589ms\n",
      "74:\tlearn: 1798.3804596\ttotal: 1.69s\tremaining: 565ms\n",
      "75:\tlearn: 1796.7113998\ttotal: 1.72s\tremaining: 545ms\n",
      "76:\tlearn: 1794.4537632\ttotal: 1.75s\tremaining: 522ms\n",
      "77:\tlearn: 1792.2613227\ttotal: 1.78s\tremaining: 502ms\n",
      "78:\tlearn: 1789.8334068\ttotal: 1.8s\tremaining: 478ms\n",
      "79:\tlearn: 1788.0513073\ttotal: 1.84s\tremaining: 460ms\n",
      "80:\tlearn: 1786.1521842\ttotal: 1.86s\tremaining: 437ms\n",
      "81:\tlearn: 1784.5918873\ttotal: 1.88s\tremaining: 412ms\n",
      "82:\tlearn: 1783.7388331\ttotal: 1.92s\tremaining: 393ms\n",
      "83:\tlearn: 1782.6308270\ttotal: 1.94s\tremaining: 369ms\n",
      "84:\tlearn: 1780.7676691\ttotal: 1.97s\tremaining: 347ms\n",
      "85:\tlearn: 1779.4387878\ttotal: 1.99s\tremaining: 323ms\n",
      "86:\tlearn: 1777.7304780\ttotal: 2s\tremaining: 299ms\n",
      "87:\tlearn: 1776.4782532\ttotal: 2.02s\tremaining: 276ms\n",
      "88:\tlearn: 1775.1347557\ttotal: 2.04s\tremaining: 252ms\n",
      "89:\tlearn: 1773.7887151\ttotal: 2.06s\tremaining: 229ms\n",
      "90:\tlearn: 1772.7793521\ttotal: 2.07s\tremaining: 205ms\n",
      "91:\tlearn: 1770.8301821\ttotal: 2.09s\tremaining: 182ms\n",
      "92:\tlearn: 1769.2087674\ttotal: 2.11s\tremaining: 159ms\n",
      "93:\tlearn: 1768.0690043\ttotal: 2.13s\tremaining: 136ms\n",
      "94:\tlearn: 1766.8611976\ttotal: 2.14s\tremaining: 113ms\n",
      "95:\tlearn: 1765.4210576\ttotal: 2.16s\tremaining: 90.1ms\n",
      "96:\tlearn: 1764.2773511\ttotal: 2.18s\tremaining: 67.5ms\n",
      "97:\tlearn: 1762.5741612\ttotal: 2.2s\tremaining: 44.9ms\n",
      "98:\tlearn: 1761.3383027\ttotal: 2.23s\tremaining: 22.5ms\n",
      "99:\tlearn: 1760.0238274\ttotal: 2.25s\tremaining: 0us\n",
      "0:\tlearn: 4590.2047285\ttotal: 23.2ms\tremaining: 674ms\n",
      "1:\tlearn: 4427.4231952\ttotal: 46.6ms\tremaining: 653ms\n",
      "2:\tlearn: 4274.6287515\ttotal: 87.4ms\tremaining: 786ms\n",
      "3:\tlearn: 4132.5740621\ttotal: 121ms\tremaining: 784ms\n",
      "4:\tlearn: 3995.2359625\ttotal: 152ms\tremaining: 758ms\n",
      "5:\tlearn: 3866.5848271\ttotal: 178ms\tremaining: 713ms\n",
      "6:\tlearn: 3746.4366634\ttotal: 203ms\tremaining: 668ms\n",
      "7:\tlearn: 3633.3590385\ttotal: 225ms\tremaining: 618ms\n",
      "8:\tlearn: 3524.3118272\ttotal: 248ms\tremaining: 579ms\n",
      "9:\tlearn: 3424.6273837\ttotal: 274ms\tremaining: 548ms\n",
      "10:\tlearn: 3329.6412860\ttotal: 304ms\tremaining: 526ms\n",
      "11:\tlearn: 3241.7004994\ttotal: 336ms\tremaining: 503ms\n",
      "12:\tlearn: 3154.8574735\ttotal: 371ms\tremaining: 485ms\n",
      "13:\tlearn: 3074.2175893\ttotal: 394ms\tremaining: 450ms\n",
      "14:\tlearn: 2998.8434720\ttotal: 426ms\tremaining: 426ms\n",
      "15:\tlearn: 2929.0371163\ttotal: 451ms\tremaining: 394ms\n",
      "16:\tlearn: 2864.0711233\ttotal: 477ms\tremaining: 365ms\n",
      "17:\tlearn: 2799.5602023\ttotal: 503ms\tremaining: 335ms\n",
      "18:\tlearn: 2741.4356041\ttotal: 539ms\tremaining: 312ms\n",
      "19:\tlearn: 2684.8407307\ttotal: 566ms\tremaining: 283ms\n",
      "20:\tlearn: 2632.1083552\ttotal: 591ms\tremaining: 253ms\n",
      "21:\tlearn: 2585.5356984\ttotal: 633ms\tremaining: 230ms\n",
      "22:\tlearn: 2539.4347693\ttotal: 665ms\tremaining: 202ms\n",
      "23:\tlearn: 2496.9850323\ttotal: 692ms\tremaining: 173ms\n",
      "24:\tlearn: 2458.5455304\ttotal: 720ms\tremaining: 144ms\n",
      "25:\tlearn: 2420.6114555\ttotal: 744ms\tremaining: 114ms\n",
      "26:\tlearn: 2385.2084906\ttotal: 773ms\tremaining: 85.9ms\n",
      "27:\tlearn: 2352.0067249\ttotal: 804ms\tremaining: 57.4ms\n",
      "28:\tlearn: 2321.6398853\ttotal: 832ms\tremaining: 28.7ms\n",
      "29:\tlearn: 2293.1469173\ttotal: 858ms\tremaining: 0us\n",
      "0:\tlearn: 4425.5035566\ttotal: 27.6ms\tremaining: 802ms\n",
      "1:\tlearn: 4118.9942787\ttotal: 54.5ms\tremaining: 763ms\n",
      "2:\tlearn: 3851.4074885\ttotal: 80.2ms\tremaining: 722ms\n",
      "3:\tlearn: 3616.3426938\ttotal: 110ms\tremaining: 716ms\n",
      "4:\tlearn: 3408.4030905\ttotal: 164ms\tremaining: 818ms\n",
      "5:\tlearn: 3221.5847609\ttotal: 188ms\tremaining: 752ms\n",
      "6:\tlearn: 3059.7181198\ttotal: 211ms\tremaining: 694ms\n",
      "7:\tlearn: 2914.7523876\ttotal: 237ms\tremaining: 653ms\n",
      "8:\tlearn: 2788.5825575\ttotal: 274ms\tremaining: 639ms\n",
      "9:\tlearn: 2674.2568917\ttotal: 307ms\tremaining: 614ms\n",
      "10:\tlearn: 2578.5363261\ttotal: 341ms\tremaining: 588ms\n",
      "11:\tlearn: 2494.5323989\ttotal: 363ms\tremaining: 545ms\n",
      "12:\tlearn: 2417.2287911\ttotal: 389ms\tremaining: 508ms\n",
      "13:\tlearn: 2352.1199605\ttotal: 434ms\tremaining: 496ms\n",
      "14:\tlearn: 2293.8319900\ttotal: 470ms\tremaining: 470ms\n",
      "15:\tlearn: 2241.7510569\ttotal: 509ms\tremaining: 445ms\n",
      "16:\tlearn: 2197.1133038\ttotal: 539ms\tremaining: 412ms\n",
      "17:\tlearn: 2158.1047742\ttotal: 585ms\tremaining: 390ms\n",
      "18:\tlearn: 2123.3261953\ttotal: 614ms\tremaining: 355ms\n",
      "19:\tlearn: 2093.1927280\ttotal: 640ms\tremaining: 320ms\n",
      "20:\tlearn: 2063.1636170\ttotal: 680ms\tremaining: 291ms\n",
      "21:\tlearn: 2039.9864554\ttotal: 713ms\tremaining: 259ms\n",
      "22:\tlearn: 2020.9851732\ttotal: 754ms\tremaining: 229ms\n",
      "23:\tlearn: 1998.2812893\ttotal: 786ms\tremaining: 197ms\n",
      "24:\tlearn: 1981.4951194\ttotal: 830ms\tremaining: 166ms\n",
      "25:\tlearn: 1965.4566994\ttotal: 856ms\tremaining: 132ms\n",
      "26:\tlearn: 1950.9184183\ttotal: 884ms\tremaining: 98.2ms\n",
      "27:\tlearn: 1939.3100401\ttotal: 905ms\tremaining: 64.6ms\n",
      "28:\tlearn: 1927.8463655\ttotal: 925ms\tremaining: 31.9ms\n",
      "29:\tlearn: 1914.4014810\ttotal: 954ms\tremaining: 0us\n",
      "0:\tlearn: 4602.6435107\ttotal: 27.5ms\tremaining: 1.35s\n",
      "1:\tlearn: 4439.6331697\ttotal: 46.7ms\tremaining: 1.12s\n",
      "2:\tlearn: 4288.1303802\ttotal: 68.3ms\tremaining: 1.07s\n",
      "3:\tlearn: 4141.9900670\ttotal: 92.7ms\tremaining: 1.06s\n",
      "4:\tlearn: 4004.9303612\ttotal: 113ms\tremaining: 1.02s\n",
      "5:\tlearn: 3878.3062390\ttotal: 134ms\tremaining: 983ms\n",
      "6:\tlearn: 3755.4421169\ttotal: 162ms\tremaining: 993ms\n",
      "7:\tlearn: 3641.8136896\ttotal: 181ms\tremaining: 952ms\n",
      "8:\tlearn: 3536.1734618\ttotal: 201ms\tremaining: 915ms\n",
      "9:\tlearn: 3434.5243432\ttotal: 228ms\tremaining: 912ms\n",
      "10:\tlearn: 3339.0751100\ttotal: 248ms\tremaining: 881ms\n",
      "11:\tlearn: 3249.9818880\ttotal: 273ms\tremaining: 864ms\n",
      "12:\tlearn: 3163.2784272\ttotal: 293ms\tremaining: 835ms\n",
      "13:\tlearn: 3084.6480744\ttotal: 316ms\tremaining: 813ms\n",
      "14:\tlearn: 3010.2659556\ttotal: 346ms\tremaining: 807ms\n",
      "15:\tlearn: 2940.7622956\ttotal: 375ms\tremaining: 798ms\n",
      "16:\tlearn: 2874.5501025\ttotal: 394ms\tremaining: 765ms\n",
      "17:\tlearn: 2812.8262614\ttotal: 416ms\tremaining: 740ms\n",
      "18:\tlearn: 2752.9816942\ttotal: 444ms\tremaining: 724ms\n",
      "19:\tlearn: 2696.3020919\ttotal: 473ms\tremaining: 709ms\n",
      "20:\tlearn: 2643.7584161\ttotal: 510ms\tremaining: 705ms\n",
      "21:\tlearn: 2597.1415100\ttotal: 531ms\tremaining: 676ms\n",
      "22:\tlearn: 2552.9336493\ttotal: 559ms\tremaining: 656ms\n",
      "23:\tlearn: 2508.7478981\ttotal: 579ms\tremaining: 627ms\n",
      "24:\tlearn: 2469.1396753\ttotal: 599ms\tremaining: 599ms\n",
      "25:\tlearn: 2431.8126069\ttotal: 624ms\tremaining: 576ms\n",
      "26:\tlearn: 2395.7524058\ttotal: 650ms\tremaining: 554ms\n",
      "27:\tlearn: 2362.3493733\ttotal: 672ms\tremaining: 528ms\n",
      "28:\tlearn: 2330.8554944\ttotal: 695ms\tremaining: 503ms\n",
      "29:\tlearn: 2301.1197424\ttotal: 720ms\tremaining: 480ms\n",
      "30:\tlearn: 2273.5938053\ttotal: 744ms\tremaining: 456ms\n",
      "31:\tlearn: 2247.9030320\ttotal: 764ms\tremaining: 430ms\n",
      "32:\tlearn: 2223.8383862\ttotal: 785ms\tremaining: 404ms\n",
      "33:\tlearn: 2201.8955023\ttotal: 813ms\tremaining: 383ms\n",
      "34:\tlearn: 2180.3989139\ttotal: 835ms\tremaining: 358ms\n",
      "35:\tlearn: 2160.6861284\ttotal: 853ms\tremaining: 332ms\n",
      "36:\tlearn: 2142.0310086\ttotal: 870ms\tremaining: 306ms\n",
      "37:\tlearn: 2125.2066059\ttotal: 890ms\tremaining: 281ms\n",
      "38:\tlearn: 2109.4148691\ttotal: 914ms\tremaining: 258ms\n",
      "39:\tlearn: 2093.2937637\ttotal: 934ms\tremaining: 233ms\n",
      "40:\tlearn: 2079.2442472\ttotal: 960ms\tremaining: 211ms\n",
      "41:\tlearn: 2065.5828634\ttotal: 981ms\tremaining: 187ms\n",
      "42:\tlearn: 2052.8797345\ttotal: 1.01s\tremaining: 164ms\n",
      "43:\tlearn: 2040.0743908\ttotal: 1.03s\tremaining: 141ms\n",
      "44:\tlearn: 2028.9060134\ttotal: 1.05s\tremaining: 117ms\n",
      "45:\tlearn: 2019.3163075\ttotal: 1.08s\tremaining: 93.7ms\n",
      "46:\tlearn: 2009.0812534\ttotal: 1.1s\tremaining: 70.1ms\n",
      "47:\tlearn: 2000.0241831\ttotal: 1.12s\tremaining: 46.5ms\n",
      "48:\tlearn: 1990.4616538\ttotal: 1.14s\tremaining: 23.3ms\n",
      "49:\tlearn: 1982.5173489\ttotal: 1.16s\tremaining: 0us\n",
      "0:\tlearn: 4432.8166071\ttotal: 28.5ms\tremaining: 1.4s\n",
      "1:\tlearn: 4125.7432666\ttotal: 59ms\tremaining: 1.42s\n",
      "2:\tlearn: 3862.4196362\ttotal: 91.5ms\tremaining: 1.43s\n",
      "3:\tlearn: 3623.8707973\ttotal: 127ms\tremaining: 1.46s\n",
      "4:\tlearn: 3410.9642138\ttotal: 152ms\tremaining: 1.37s\n",
      "5:\tlearn: 3225.8681513\ttotal: 184ms\tremaining: 1.35s\n",
      "6:\tlearn: 3063.1425457\ttotal: 200ms\tremaining: 1.23s\n",
      "7:\tlearn: 2916.8764864\ttotal: 222ms\tremaining: 1.17s\n",
      "8:\tlearn: 2790.2379543\ttotal: 246ms\tremaining: 1.12s\n",
      "9:\tlearn: 2676.2409073\ttotal: 271ms\tremaining: 1.08s\n",
      "10:\tlearn: 2576.2562898\ttotal: 298ms\tremaining: 1.06s\n",
      "11:\tlearn: 2489.2529893\ttotal: 323ms\tremaining: 1.02s\n",
      "12:\tlearn: 2413.4548589\ttotal: 347ms\tremaining: 988ms\n",
      "13:\tlearn: 2343.0515779\ttotal: 379ms\tremaining: 976ms\n",
      "14:\tlearn: 2285.9867769\ttotal: 397ms\tremaining: 927ms\n",
      "15:\tlearn: 2233.3921911\ttotal: 421ms\tremaining: 894ms\n",
      "16:\tlearn: 2189.8264767\ttotal: 452ms\tremaining: 877ms\n",
      "17:\tlearn: 2149.9344352\ttotal: 475ms\tremaining: 844ms\n",
      "18:\tlearn: 2115.0194570\ttotal: 494ms\tremaining: 806ms\n",
      "19:\tlearn: 2085.1554129\ttotal: 514ms\tremaining: 771ms\n",
      "20:\tlearn: 2058.6769997\ttotal: 539ms\tremaining: 744ms\n",
      "21:\tlearn: 2034.5889142\ttotal: 573ms\tremaining: 730ms\n",
      "22:\tlearn: 2014.1253328\ttotal: 598ms\tremaining: 702ms\n",
      "23:\tlearn: 1992.9388221\ttotal: 623ms\tremaining: 675ms\n",
      "24:\tlearn: 1972.3775399\ttotal: 646ms\tremaining: 646ms\n",
      "25:\tlearn: 1957.7426197\ttotal: 668ms\tremaining: 616ms\n",
      "26:\tlearn: 1944.5869792\ttotal: 700ms\tremaining: 596ms\n",
      "27:\tlearn: 1928.4422212\ttotal: 727ms\tremaining: 571ms\n",
      "28:\tlearn: 1917.7397179\ttotal: 749ms\tremaining: 543ms\n",
      "29:\tlearn: 1907.1397858\ttotal: 768ms\tremaining: 512ms\n",
      "30:\tlearn: 1898.3401458\ttotal: 796ms\tremaining: 488ms\n",
      "31:\tlearn: 1890.0510474\ttotal: 818ms\tremaining: 460ms\n",
      "32:\tlearn: 1882.7900006\ttotal: 846ms\tremaining: 436ms\n",
      "33:\tlearn: 1876.2009563\ttotal: 869ms\tremaining: 409ms\n",
      "34:\tlearn: 1870.3835090\ttotal: 889ms\tremaining: 381ms\n",
      "35:\tlearn: 1861.3201119\ttotal: 912ms\tremaining: 355ms\n",
      "36:\tlearn: 1852.8949634\ttotal: 931ms\tremaining: 327ms\n",
      "37:\tlearn: 1846.0523096\ttotal: 960ms\tremaining: 303ms\n",
      "38:\tlearn: 1839.9921447\ttotal: 984ms\tremaining: 278ms\n",
      "39:\tlearn: 1834.7742024\ttotal: 1.02s\tremaining: 255ms\n",
      "40:\tlearn: 1830.3041594\ttotal: 1.04s\tremaining: 228ms\n",
      "41:\tlearn: 1826.2917151\ttotal: 1.08s\tremaining: 206ms\n",
      "42:\tlearn: 1820.1424649\ttotal: 1.1s\tremaining: 179ms\n",
      "43:\tlearn: 1814.5859264\ttotal: 1.12s\tremaining: 152ms\n",
      "44:\tlearn: 1811.8873413\ttotal: 1.14s\tremaining: 126ms\n",
      "45:\tlearn: 1808.7628316\ttotal: 1.18s\tremaining: 103ms\n",
      "59:\tlearn: 3340.4222746\ttotal: 1.4s\tremaining: 930ms\n",
      "60:\tlearn: 3323.7408296\ttotal: 1.42s\tremaining: 906ms\n",
      "61:\tlearn: 3307.4836998\ttotal: 1.44s\tremaining: 885ms\n",
      "62:\tlearn: 3291.4685775\ttotal: 1.47s\tremaining: 861ms\n",
      "63:\tlearn: 3275.6374735\ttotal: 1.49s\tremaining: 838ms\n",
      "64:\tlearn: 3260.1811090\ttotal: 1.51s\tremaining: 815ms\n",
      "65:\tlearn: 3244.2025811\ttotal: 1.53s\tremaining: 790ms\n",
      "66:\tlearn: 3228.4368371\ttotal: 1.55s\tremaining: 766ms\n",
      "67:\tlearn: 3213.3936615\ttotal: 1.57s\tremaining: 741ms\n",
      "68:\tlearn: 3198.4497300\ttotal: 1.59s\tremaining: 716ms\n",
      "69:\tlearn: 3183.4914737\ttotal: 1.61s\tremaining: 692ms\n",
      "70:\tlearn: 3169.1057620\ttotal: 1.64s\tremaining: 669ms\n",
      "71:\tlearn: 3154.7440879\ttotal: 1.67s\tremaining: 648ms\n",
      "72:\tlearn: 3140.5936935\ttotal: 1.69s\tremaining: 624ms\n",
      "73:\tlearn: 3126.7886047\ttotal: 1.72s\tremaining: 605ms\n",
      "74:\tlearn: 3112.5536640\ttotal: 1.74s\tremaining: 581ms\n",
      "75:\tlearn: 3098.8536138\ttotal: 1.76s\tremaining: 557ms\n",
      "76:\tlearn: 3085.4238438\ttotal: 1.78s\tremaining: 533ms\n",
      "77:\tlearn: 3071.7272449\ttotal: 1.8s\tremaining: 509ms\n",
      "78:\tlearn: 3058.1498847\ttotal: 1.82s\tremaining: 485ms\n",
      "79:\tlearn: 3044.8656336\ttotal: 1.85s\tremaining: 462ms\n",
      "80:\tlearn: 3032.2631115\ttotal: 1.88s\tremaining: 441ms\n",
      "81:\tlearn: 3019.2524152\ttotal: 1.91s\tremaining: 419ms\n",
      "82:\tlearn: 3006.3646222\ttotal: 1.94s\tremaining: 397ms\n",
      "83:\tlearn: 2994.1406023\ttotal: 1.96s\tremaining: 374ms\n",
      "84:\tlearn: 2981.5472958\ttotal: 1.98s\tremaining: 350ms\n",
      "85:\tlearn: 2969.4901166\ttotal: 2s\tremaining: 326ms\n",
      "86:\tlearn: 2957.4667591\ttotal: 2.03s\tremaining: 304ms\n",
      "87:\tlearn: 2945.6811864\ttotal: 2.06s\tremaining: 281ms\n",
      "88:\tlearn: 2934.0036970\ttotal: 2.08s\tremaining: 257ms\n",
      "89:\tlearn: 2922.4486121\ttotal: 2.1s\tremaining: 233ms\n",
      "90:\tlearn: 2910.8484905\ttotal: 2.12s\tremaining: 210ms\n",
      "91:\tlearn: 2899.5216509\ttotal: 2.14s\tremaining: 186ms\n",
      "92:\tlearn: 2888.3127765\ttotal: 2.17s\tremaining: 163ms\n",
      "93:\tlearn: 2877.3392196\ttotal: 2.18s\tremaining: 139ms\n",
      "94:\tlearn: 2866.1716991\ttotal: 2.2s\tremaining: 116ms\n",
      "95:\tlearn: 2855.3202383\ttotal: 2.22s\tremaining: 92.5ms\n",
      "96:\tlearn: 2844.6353964\ttotal: 2.25s\tremaining: 69.5ms\n",
      "97:\tlearn: 2833.9653242\ttotal: 2.27s\tremaining: 46.2ms\n",
      "98:\tlearn: 2823.4408007\ttotal: 2.29s\tremaining: 23.1ms\n",
      "99:\tlearn: 2813.3240361\ttotal: 2.31s\tremaining: 0us\n",
      "0:\tlearn: 4450.4122572\ttotal: 28.9ms\tremaining: 2.86s\n",
      "1:\tlearn: 4163.1813963\ttotal: 62ms\tremaining: 3.04s\n",
      "2:\tlearn: 3911.8210041\ttotal: 82.2ms\tremaining: 2.66s\n",
      "3:\tlearn: 3686.3944778\ttotal: 110ms\tremaining: 2.64s\n",
      "4:\tlearn: 3481.0305741\ttotal: 144ms\tremaining: 2.74s\n",
      "5:\tlearn: 3301.7981944\ttotal: 166ms\tremaining: 2.6s\n",
      "6:\tlearn: 3143.1753683\ttotal: 190ms\tremaining: 2.52s\n",
      "7:\tlearn: 3002.5939425\ttotal: 209ms\tremaining: 2.41s\n",
      "8:\tlearn: 2878.5027155\ttotal: 229ms\tremaining: 2.32s\n",
      "9:\tlearn: 2770.4175754\ttotal: 246ms\tremaining: 2.22s\n",
      "10:\tlearn: 2676.1756750\ttotal: 269ms\tremaining: 2.18s\n",
      "11:\tlearn: 2591.1992634\ttotal: 296ms\tremaining: 2.17s\n",
      "12:\tlearn: 2517.0603242\ttotal: 321ms\tremaining: 2.15s\n",
      "13:\tlearn: 2450.8159068\ttotal: 338ms\tremaining: 2.08s\n",
      "14:\tlearn: 2391.0014220\ttotal: 356ms\tremaining: 2.02s\n",
      "15:\tlearn: 2337.1788436\ttotal: 374ms\tremaining: 1.97s\n",
      "16:\tlearn: 2292.9996033\ttotal: 396ms\tremaining: 1.93s\n",
      "17:\tlearn: 2248.7367482\ttotal: 413ms\tremaining: 1.88s\n",
      "18:\tlearn: 2214.1251300\ttotal: 433ms\tremaining: 1.85s\n",
      "19:\tlearn: 2181.9256010\ttotal: 455ms\tremaining: 1.82s\n",
      "20:\tlearn: 2152.6755645\ttotal: 480ms\tremaining: 1.81s\n",
      "21:\tlearn: 2126.9984105\ttotal: 505ms\tremaining: 1.79s\n",
      "22:\tlearn: 2103.7960320\ttotal: 524ms\tremaining: 1.75s\n",
      "23:\tlearn: 2081.9222940\ttotal: 544ms\tremaining: 1.72s\n",
      "24:\tlearn: 2063.6606873\ttotal: 565ms\tremaining: 1.69s\n",
      "25:\tlearn: 2047.4371661\ttotal: 580ms\tremaining: 1.65s\n",
      "26:\tlearn: 2032.9770682\ttotal: 602ms\tremaining: 1.63s\n",
      "27:\tlearn: 2019.5323046\ttotal: 622ms\tremaining: 1.6s\n",
      "28:\tlearn: 2008.4397542\ttotal: 647ms\tremaining: 1.58s\n",
      "29:\tlearn: 1996.4246276\ttotal: 667ms\tremaining: 1.56s\n",
      "30:\tlearn: 1986.5734061\ttotal: 691ms\tremaining: 1.54s\n",
      "31:\tlearn: 1976.1033217\ttotal: 718ms\tremaining: 1.53s\n",
      "32:\tlearn: 1966.5138576\ttotal: 736ms\tremaining: 1.49s\n",
      "33:\tlearn: 1958.8745304\ttotal: 752ms\tremaining: 1.46s\n",
      "34:\tlearn: 1952.4712589\ttotal: 766ms\tremaining: 1.42s\n",
      "35:\tlearn: 1942.8298930\ttotal: 788ms\tremaining: 1.4s\n",
      "36:\tlearn: 1936.8951155\ttotal: 809ms\tremaining: 1.38s\n",
      "37:\tlearn: 1932.0279918\ttotal: 826ms\tremaining: 1.35s\n",
      "38:\tlearn: 1926.3896627\ttotal: 845ms\tremaining: 1.32s\n",
      "39:\tlearn: 1921.0560294\ttotal: 866ms\tremaining: 1.3s\n",
      "40:\tlearn: 1916.9757762\ttotal: 882ms\tremaining: 1.27s\n",
      "41:\tlearn: 1909.9724072\ttotal: 901ms\tremaining: 1.24s\n",
      "42:\tlearn: 1905.8555683\ttotal: 926ms\tremaining: 1.23s\n",
      "43:\tlearn: 1900.4262310\ttotal: 946ms\tremaining: 1.2s\n",
      "44:\tlearn: 1895.5356826\ttotal: 973ms\tremaining: 1.19s\n",
      "45:\tlearn: 1888.1115750\ttotal: 1s\tremaining: 1.17s\n",
      "46:\tlearn: 1881.5554490\ttotal: 1.01s\tremaining: 1.14s\n",
      "47:\tlearn: 1876.1309648\ttotal: 1.04s\tremaining: 1.12s\n",
      "48:\tlearn: 1870.4726380\ttotal: 1.06s\tremaining: 1.11s\n",
      "49:\tlearn: 1867.1291514\ttotal: 1.09s\tremaining: 1.09s\n",
      "50:\tlearn: 1863.9013882\ttotal: 1.12s\tremaining: 1.07s\n",
      "51:\tlearn: 1859.5835115\ttotal: 1.13s\tremaining: 1.05s\n",
      "52:\tlearn: 1855.3987196\ttotal: 1.15s\tremaining: 1.02s\n",
      "53:\tlearn: 1851.8803197\ttotal: 1.18s\tremaining: 1.01s\n",
      "54:\tlearn: 1847.0351887\ttotal: 1.21s\tremaining: 993ms\n",
      "55:\tlearn: 1843.2074444\ttotal: 1.23s\tremaining: 969ms\n",
      "56:\tlearn: 1840.5567839\ttotal: 1.25s\tremaining: 946ms\n",
      "57:\tlearn: 1838.2686531\ttotal: 1.28s\tremaining: 925ms\n",
      "58:\tlearn: 1835.7819690\ttotal: 1.29s\tremaining: 900ms\n",
      "59:\tlearn: 1833.4909539\ttotal: 1.31s\tremaining: 874ms\n",
      "60:\tlearn: 1829.7231811\ttotal: 1.32s\tremaining: 848ms\n",
      "61:\tlearn: 1827.4360773\ttotal: 1.34s\tremaining: 824ms\n",
      "62:\tlearn: 1825.7103682\ttotal: 1.36s\tremaining: 800ms\n",
      "63:\tlearn: 1822.6751172\ttotal: 1.38s\tremaining: 777ms\n",
      "64:\tlearn: 1820.4652690\ttotal: 1.4s\tremaining: 756ms\n",
      "65:\tlearn: 1818.9349144\ttotal: 1.42s\tremaining: 733ms\n",
      "66:\tlearn: 1816.7724365\ttotal: 1.44s\tremaining: 711ms\n",
      "67:\tlearn: 1815.3143857\ttotal: 1.46s\tremaining: 689ms\n",
      "68:\tlearn: 1812.8299136\ttotal: 1.48s\tremaining: 664ms\n",
      "69:\tlearn: 1811.2378960\ttotal: 1.5s\tremaining: 642ms\n",
      "70:\tlearn: 1808.7789909\ttotal: 1.52s\tremaining: 620ms\n",
      "71:\tlearn: 1806.9579524\ttotal: 1.54s\tremaining: 599ms\n",
      "72:\tlearn: 1805.0354833\ttotal: 1.56s\tremaining: 577ms\n",
      "73:\tlearn: 1801.7924714\ttotal: 1.57s\tremaining: 554ms\n",
      "74:\tlearn: 1800.0790541\ttotal: 1.6s\tremaining: 533ms\n",
      "75:\tlearn: 1798.3482474\ttotal: 1.62s\tremaining: 511ms\n",
      "76:\tlearn: 1796.7684007\ttotal: 1.63s\tremaining: 488ms\n",
      "77:\tlearn: 1793.9084526\ttotal: 1.65s\tremaining: 466ms\n",
      "78:\tlearn: 1792.7236943\ttotal: 1.67s\tremaining: 443ms\n",
      "79:\tlearn: 1791.0651666\ttotal: 1.69s\tremaining: 424ms\n",
      "80:\tlearn: 1789.0009169\ttotal: 1.72s\tremaining: 402ms\n",
      "81:\tlearn: 1787.5456219\ttotal: 1.74s\tremaining: 381ms\n",
      "82:\tlearn: 1785.5647146\ttotal: 1.75s\tremaining: 359ms\n",
      "83:\tlearn: 1784.0786084\ttotal: 1.77s\tremaining: 338ms\n",
      "84:\tlearn: 1781.8727723\ttotal: 1.82s\tremaining: 321ms\n",
      "85:\tlearn: 1780.2739977\ttotal: 1.85s\tremaining: 302ms\n",
      "86:\tlearn: 1778.2038288\ttotal: 1.87s\tremaining: 280ms\n",
      "87:\tlearn: 1776.0067510\ttotal: 1.89s\tremaining: 257ms\n",
      "88:\tlearn: 1774.8205590\ttotal: 1.9s\tremaining: 235ms\n",
      "89:\tlearn: 1773.8881346\ttotal: 1.92s\tremaining: 213ms\n",
      "90:\tlearn: 1772.1253782\ttotal: 1.94s\tremaining: 192ms\n",
      "91:\tlearn: 1770.2309465\ttotal: 1.96s\tremaining: 170ms\n",
      "92:\tlearn: 1769.2416954\ttotal: 1.98s\tremaining: 149ms\n",
      "93:\tlearn: 1768.2296510\ttotal: 1.99s\tremaining: 127ms\n",
      "94:\tlearn: 1767.0635461\ttotal: 2.02s\tremaining: 106ms\n",
      "95:\tlearn: 1766.5541761\ttotal: 2.04s\tremaining: 85ms\n",
      "96:\tlearn: 1765.5729900\ttotal: 2.06s\tremaining: 63.9ms\n",
      "97:\tlearn: 1764.6313220\ttotal: 2.08s\tremaining: 42.5ms\n",
      "98:\tlearn: 1763.1939238\ttotal: 2.11s\tremaining: 21.3ms\n",
      "99:\tlearn: 1761.6942036\ttotal: 2.13s\tremaining: 0us\n",
      "0:\tlearn: 4738.8672773\ttotal: 30ms\tremaining: 869ms\n",
      "1:\tlearn: 4704.5226367\ttotal: 78.3ms\tremaining: 1.1s\n",
      "2:\tlearn: 4670.9162387\ttotal: 107ms\tremaining: 960ms\n",
      "3:\tlearn: 4636.9493646\ttotal: 138ms\tremaining: 896ms\n",
      "4:\tlearn: 4603.6894212\ttotal: 163ms\tremaining: 816ms\n",
      "5:\tlearn: 4571.1730980\ttotal: 192ms\tremaining: 767ms\n",
      "6:\tlearn: 4538.7170504\ttotal: 230ms\tremaining: 757ms\n",
      "7:\tlearn: 4506.2360430\ttotal: 281ms\tremaining: 774ms\n",
      "8:\tlearn: 4474.6671650\ttotal: 309ms\tremaining: 721ms\n",
      "9:\tlearn: 4443.1923431\ttotal: 327ms\tremaining: 655ms\n",
      "10:\tlearn: 4412.0637487\ttotal: 358ms\tremaining: 618ms\n",
      "11:\tlearn: 4381.4667725\ttotal: 380ms\tremaining: 570ms\n",
      "12:\tlearn: 4350.9015482\ttotal: 405ms\tremaining: 530ms\n",
      "13:\tlearn: 4320.9865945\ttotal: 430ms\tremaining: 491ms\n",
      "14:\tlearn: 4291.0502414\ttotal: 451ms\tremaining: 451ms\n",
      "15:\tlearn: 4261.7197593\ttotal: 473ms\tremaining: 414ms\n",
      "16:\tlearn: 4233.2577609\ttotal: 500ms\tremaining: 383ms\n",
      "17:\tlearn: 4204.2600205\ttotal: 521ms\tremaining: 348ms\n",
      "18:\tlearn: 4175.9400898\ttotal: 565ms\tremaining: 327ms\n",
      "19:\tlearn: 4148.0300985\ttotal: 588ms\tremaining: 294ms\n",
      "20:\tlearn: 4120.3965556\ttotal: 617ms\tremaining: 264ms\n",
      "21:\tlearn: 4093.0173625\ttotal: 644ms\tremaining: 234ms\n",
      "22:\tlearn: 4066.3593659\ttotal: 668ms\tremaining: 203ms\n",
      "23:\tlearn: 4039.4851587\ttotal: 699ms\tremaining: 175ms\n",
      "24:\tlearn: 4013.2873248\ttotal: 732ms\tremaining: 146ms\n",
      "25:\tlearn: 3987.3129431\ttotal: 758ms\tremaining: 117ms\n",
      "26:\tlearn: 3961.7209039\ttotal: 781ms\tremaining: 86.8ms\n",
      "27:\tlearn: 3936.4050578\ttotal: 807ms\tremaining: 57.6ms\n",
      "28:\tlearn: 3911.2559387\ttotal: 836ms\tremaining: 28.8ms\n",
      "29:\tlearn: 3886.0870450\ttotal: 861ms\tremaining: 0us\n",
      "0:\tlearn: 4420.2026648\ttotal: 29.7ms\tremaining: 862ms\n",
      "1:\tlearn: 4114.4494836\ttotal: 57.5ms\tremaining: 805ms\n",
      "2:\tlearn: 3844.0473846\ttotal: 98.3ms\tremaining: 885ms\n",
      "3:\tlearn: 3609.7613729\ttotal: 128ms\tremaining: 830ms\n",
      "4:\tlearn: 3404.5968234\ttotal: 152ms\tremaining: 758ms\n",
      "5:\tlearn: 3220.0592828\ttotal: 177ms\tremaining: 707ms\n",
      "6:\tlearn: 3053.4215604\ttotal: 211ms\tremaining: 695ms\n",
      "7:\tlearn: 2909.6673950\ttotal: 251ms\tremaining: 691ms\n",
      "8:\tlearn: 2777.9347393\ttotal: 279ms\tremaining: 650ms\n",
      "9:\tlearn: 2664.2315841\ttotal: 310ms\tremaining: 620ms\n",
      "10:\tlearn: 2564.2054613\ttotal: 340ms\tremaining: 587ms\n",
      "11:\tlearn: 2478.0418729\ttotal: 365ms\tremaining: 547ms\n",
      "12:\tlearn: 2402.5698899\ttotal: 398ms\tremaining: 520ms\n",
      "13:\tlearn: 2338.1328290\ttotal: 449ms\tremaining: 513ms\n",
      "14:\tlearn: 2279.1892568\ttotal: 477ms\tremaining: 477ms\n",
      "15:\tlearn: 2226.6960347\ttotal: 504ms\tremaining: 441ms\n",
      "16:\tlearn: 2180.1548441\ttotal: 528ms\tremaining: 404ms\n",
      "17:\tlearn: 2141.3771953\ttotal: 566ms\tremaining: 377ms\n",
      "18:\tlearn: 2106.7789774\ttotal: 593ms\tremaining: 343ms\n",
      "19:\tlearn: 2076.9791404\ttotal: 622ms\tremaining: 311ms\n",
      "20:\tlearn: 2052.3322846\ttotal: 670ms\tremaining: 287ms\n",
      "21:\tlearn: 2028.8535038\ttotal: 701ms\tremaining: 255ms\n",
      "22:\tlearn: 2006.5474145\ttotal: 727ms\tremaining: 221ms\n",
      "23:\tlearn: 1987.6528719\ttotal: 762ms\tremaining: 191ms\n",
      "24:\tlearn: 1971.7462656\ttotal: 816ms\tremaining: 163ms\n",
      "25:\tlearn: 1954.7441719\ttotal: 842ms\tremaining: 129ms\n",
      "26:\tlearn: 1941.9265828\ttotal: 859ms\tremaining: 95.4ms\n",
      "27:\tlearn: 1929.8371139\ttotal: 875ms\tremaining: 62.5ms\n",
      "28:\tlearn: 1916.5558048\ttotal: 901ms\tremaining: 31.1ms\n",
      "29:\tlearn: 1906.7711337\ttotal: 921ms\tremaining: 0us\n",
      "0:\tlearn: 4590.2047285\ttotal: 36.8ms\tremaining: 1.8s\n",
      "1:\tlearn: 4427.4231952\ttotal: 57.4ms\tremaining: 1.38s\n",
      "2:\tlearn: 4274.6287515\ttotal: 93ms\tremaining: 1.46s\n",
      "3:\tlearn: 4132.5740621\ttotal: 120ms\tremaining: 1.39s\n",
      "4:\tlearn: 3995.2359625\ttotal: 146ms\tremaining: 1.32s\n",
      "5:\tlearn: 3866.5848271\ttotal: 171ms\tremaining: 1.25s\n",
      "6:\tlearn: 3746.4366634\ttotal: 193ms\tremaining: 1.19s\n",
      "7:\tlearn: 3633.3590385\ttotal: 215ms\tremaining: 1.13s\n",
      "8:\tlearn: 3524.3118272\ttotal: 236ms\tremaining: 1.07s\n",
      "9:\tlearn: 3424.6273837\ttotal: 256ms\tremaining: 1.02s\n",
      "10:\tlearn: 3329.6412860\ttotal: 276ms\tremaining: 978ms\n",
      "11:\tlearn: 3241.7004994\ttotal: 300ms\tremaining: 951ms\n",
      "12:\tlearn: 3154.8574735\ttotal: 329ms\tremaining: 936ms\n",
      "13:\tlearn: 3074.2175893\ttotal: 351ms\tremaining: 903ms\n",
      "14:\tlearn: 2998.8434720\ttotal: 383ms\tremaining: 895ms\n",
      "15:\tlearn: 2929.0371163\ttotal: 407ms\tremaining: 865ms\n",
      "16:\tlearn: 2864.0711233\ttotal: 425ms\tremaining: 826ms\n",
      "17:\tlearn: 2799.5602023\ttotal: 448ms\tremaining: 796ms\n",
      "18:\tlearn: 2741.4356041\ttotal: 474ms\tremaining: 774ms\n",
      "19:\tlearn: 2684.8407307\ttotal: 500ms\tremaining: 751ms\n",
      "20:\tlearn: 2632.1083552\ttotal: 531ms\tremaining: 733ms\n",
      "21:\tlearn: 2585.5356984\ttotal: 553ms\tremaining: 704ms\n",
      "22:\tlearn: 2539.4347693\ttotal: 575ms\tremaining: 675ms\n",
      "23:\tlearn: 2496.9850323\ttotal: 606ms\tremaining: 657ms\n",
      "24:\tlearn: 2458.5455304\ttotal: 629ms\tremaining: 629ms\n",
      "25:\tlearn: 2420.6114555\ttotal: 650ms\tremaining: 600ms\n",
      "26:\tlearn: 2385.2084906\ttotal: 671ms\tremaining: 571ms\n",
      "27:\tlearn: 2352.0067249\ttotal: 689ms\tremaining: 541ms\n",
      "28:\tlearn: 2321.6398853\ttotal: 715ms\tremaining: 517ms\n",
      "29:\tlearn: 2293.1469173\ttotal: 736ms\tremaining: 491ms\n",
      "30:\tlearn: 2265.7120888\ttotal: 758ms\tremaining: 464ms\n",
      "31:\tlearn: 2239.7364138\ttotal: 778ms\tremaining: 438ms\n",
      "32:\tlearn: 2216.6828648\ttotal: 805ms\tremaining: 415ms\n",
      "33:\tlearn: 2194.9404803\ttotal: 827ms\tremaining: 389ms\n",
      "34:\tlearn: 2173.9093723\ttotal: 847ms\tremaining: 363ms\n",
      "35:\tlearn: 2154.3849403\ttotal: 871ms\tremaining: 339ms\n",
      "36:\tlearn: 2135.9180041\ttotal: 895ms\tremaining: 314ms\n",
      "37:\tlearn: 2118.2966449\ttotal: 913ms\tremaining: 288ms\n",
      "38:\tlearn: 2101.9908027\ttotal: 932ms\tremaining: 263ms\n",
      "39:\tlearn: 2087.2832616\ttotal: 952ms\tremaining: 238ms\n",
      "40:\tlearn: 2072.7390938\ttotal: 973ms\tremaining: 214ms\n",
      "41:\tlearn: 2059.6800808\ttotal: 994ms\tremaining: 189ms\n",
      "42:\tlearn: 2046.7250370\ttotal: 1.02s\tremaining: 167ms\n",
      "43:\tlearn: 2035.0935519\ttotal: 1.04s\tremaining: 142ms\n",
      "44:\tlearn: 2023.6956203\ttotal: 1.06s\tremaining: 118ms\n",
      "45:\tlearn: 2012.2986442\ttotal: 1.08s\tremaining: 94.4ms\n",
      "46:\tlearn: 2002.6155450\ttotal: 1.11s\tremaining: 71ms\n",
      "47:\tlearn: 1993.3720845\ttotal: 1.13s\tremaining: 47.3ms\n",
      "48:\tlearn: 1984.5015604\ttotal: 1.15s\tremaining: 23.6ms\n",
      "49:\tlearn: 1975.5696132\ttotal: 1.18s\tremaining: 0us\n",
      "0:\tlearn: 4425.5035566\ttotal: 25.7ms\tremaining: 1.26s\n",
      "1:\tlearn: 4118.9942787\ttotal: 49.6ms\tremaining: 1.19s\n",
      "2:\tlearn: 3851.4074885\ttotal: 77.9ms\tremaining: 1.22s\n",
      "3:\tlearn: 3616.3426938\ttotal: 102ms\tremaining: 1.17s\n",
      "4:\tlearn: 3408.4030905\ttotal: 120ms\tremaining: 1.08s\n",
      "5:\tlearn: 3221.5847609\ttotal: 150ms\tremaining: 1.1s\n",
      "6:\tlearn: 3059.7181198\ttotal: 170ms\tremaining: 1.05s\n",
      "7:\tlearn: 2914.7523876\ttotal: 195ms\tremaining: 1.02s\n",
      "8:\tlearn: 2788.5825575\ttotal: 225ms\tremaining: 1.03s\n",
      "9:\tlearn: 2674.2568917\ttotal: 248ms\tremaining: 992ms\n",
      "10:\tlearn: 2578.5363261\ttotal: 275ms\tremaining: 975ms\n",
      "11:\tlearn: 2494.5323989\ttotal: 307ms\tremaining: 973ms\n",
      "12:\tlearn: 2417.2287911\ttotal: 340ms\tremaining: 967ms\n",
      "13:\tlearn: 2352.1199605\ttotal: 370ms\tremaining: 951ms\n",
      "14:\tlearn: 2293.8319900\ttotal: 398ms\tremaining: 929ms\n",
      "15:\tlearn: 2241.7510569\ttotal: 417ms\tremaining: 885ms\n",
      "16:\tlearn: 2197.1133038\ttotal: 436ms\tremaining: 846ms\n",
      "17:\tlearn: 2158.1047742\ttotal: 464ms\tremaining: 825ms\n",
      "18:\tlearn: 2123.3261953\ttotal: 493ms\tremaining: 805ms\n",
      "19:\tlearn: 2093.1927280\ttotal: 519ms\tremaining: 778ms\n",
      "20:\tlearn: 2063.1636170\ttotal: 543ms\tremaining: 750ms\n",
      "21:\tlearn: 2039.9864554\ttotal: 562ms\tremaining: 715ms\n",
      "22:\tlearn: 2020.9851732\ttotal: 584ms\tremaining: 686ms\n",
      "23:\tlearn: 1998.2812893\ttotal: 607ms\tremaining: 658ms\n",
      "24:\tlearn: 1981.4951194\ttotal: 627ms\tremaining: 627ms\n",
      "25:\tlearn: 1965.4566994\ttotal: 655ms\tremaining: 605ms\n",
      "26:\tlearn: 1950.9184183\ttotal: 684ms\tremaining: 582ms\n",
      "27:\tlearn: 1939.3100401\ttotal: 707ms\tremaining: 556ms\n",
      "28:\tlearn: 1927.8463655\ttotal: 729ms\tremaining: 528ms\n",
      "29:\tlearn: 1914.4014810\ttotal: 748ms\tremaining: 499ms\n",
      "30:\tlearn: 1905.8321008\ttotal: 772ms\tremaining: 473ms\n",
      "31:\tlearn: 1895.7679369\ttotal: 812ms\tremaining: 457ms\n",
      "32:\tlearn: 1886.6795536\ttotal: 835ms\tremaining: 430ms\n",
      "33:\tlearn: 1879.4415115\ttotal: 857ms\tremaining: 403ms\n",
      "34:\tlearn: 1872.4107895\ttotal: 884ms\tremaining: 379ms\n",
      "35:\tlearn: 1866.4022219\ttotal: 921ms\tremaining: 358ms\n",
      "36:\tlearn: 1858.9818730\ttotal: 955ms\tremaining: 335ms\n",
      "37:\tlearn: 1853.2768771\ttotal: 988ms\tremaining: 312ms\n",
      "38:\tlearn: 1847.1917459\ttotal: 1.02s\tremaining: 287ms\n",
      "39:\tlearn: 1840.3904931\ttotal: 1.04s\tremaining: 260ms\n",
      "40:\tlearn: 1835.6153653\ttotal: 1.07s\tremaining: 235ms\n",
      "41:\tlearn: 1832.3253334\ttotal: 1.11s\tremaining: 212ms\n",
      "42:\tlearn: 1828.7803533\ttotal: 1.13s\tremaining: 185ms\n",
      "43:\tlearn: 1824.1516879\ttotal: 1.16s\tremaining: 158ms\n",
      "44:\tlearn: 1820.6469715\ttotal: 1.19s\tremaining: 132ms\n",
      "45:\tlearn: 1817.5651914\ttotal: 1.21s\tremaining: 106ms\n",
      "46:\tlearn: 1812.5447998\ttotal: 1.23s\tremaining: 78.7ms\n",
      "47:\tlearn: 1809.0250093\ttotal: 1.26s\tremaining: 52.5ms\n",
      "48:\tlearn: 1804.4280667\ttotal: 1.28s\tremaining: 26.2ms\n",
      "49:\tlearn: 1801.4297785\ttotal: 1.31s\tremaining: 0us\n",
      "0:\tlearn: 4738.8672773\ttotal: 24.7ms\tremaining: 2.45s\n",
      "1:\tlearn: 4704.5226367\ttotal: 54.1ms\tremaining: 2.65s\n",
      "2:\tlearn: 4670.9162387\ttotal: 79.8ms\tremaining: 2.58s\n",
      "63:\tlearn: 1970.7236587\ttotal: 1.47s\tremaining: 828ms\n",
      "64:\tlearn: 1966.0170114\ttotal: 1.49s\tremaining: 804ms\n",
      "65:\tlearn: 1961.5868603\ttotal: 1.51s\tremaining: 778ms\n",
      "66:\tlearn: 1957.5889822\ttotal: 1.52s\tremaining: 751ms\n",
      "67:\tlearn: 1953.8897327\ttotal: 1.55s\tremaining: 728ms\n",
      "68:\tlearn: 1950.6022306\ttotal: 1.57s\tremaining: 704ms\n",
      "69:\tlearn: 1946.1643427\ttotal: 1.59s\tremaining: 682ms\n",
      "70:\tlearn: 1941.8824712\ttotal: 1.61s\tremaining: 657ms\n",
      "71:\tlearn: 1938.3092788\ttotal: 1.64s\tremaining: 638ms\n",
      "72:\tlearn: 1933.4855870\ttotal: 1.66s\tremaining: 615ms\n",
      "73:\tlearn: 1929.9997275\ttotal: 1.69s\tremaining: 594ms\n",
      "74:\tlearn: 1927.1092265\ttotal: 1.71s\tremaining: 571ms\n",
      "75:\tlearn: 1923.7584051\ttotal: 1.74s\tremaining: 548ms\n",
      "76:\tlearn: 1919.8863909\ttotal: 1.75s\tremaining: 524ms\n",
      "77:\tlearn: 1916.5831816\ttotal: 1.78s\tremaining: 502ms\n",
      "78:\tlearn: 1913.3246994\ttotal: 1.79s\tremaining: 477ms\n",
      "79:\tlearn: 1910.0446180\ttotal: 1.82s\tremaining: 456ms\n",
      "80:\tlearn: 1907.7524567\ttotal: 1.85s\tremaining: 435ms\n",
      "81:\tlearn: 1905.2395394\ttotal: 1.89s\tremaining: 414ms\n",
      "82:\tlearn: 1903.0740418\ttotal: 1.91s\tremaining: 391ms\n",
      "83:\tlearn: 1900.9829851\ttotal: 1.93s\tremaining: 367ms\n",
      "84:\tlearn: 1898.4306372\ttotal: 1.96s\tremaining: 345ms\n",
      "85:\tlearn: 1894.9844874\ttotal: 1.97s\tremaining: 321ms\n",
      "86:\tlearn: 1893.1266446\ttotal: 1.99s\tremaining: 298ms\n",
      "87:\tlearn: 1891.1389259\ttotal: 2.01s\tremaining: 274ms\n",
      "88:\tlearn: 1889.1610138\ttotal: 2.03s\tremaining: 251ms\n",
      "89:\tlearn: 1887.5774866\ttotal: 2.05s\tremaining: 228ms\n",
      "90:\tlearn: 1883.8882861\ttotal: 2.07s\tremaining: 205ms\n",
      "91:\tlearn: 1880.6114199\ttotal: 2.09s\tremaining: 182ms\n",
      "92:\tlearn: 1878.4705067\ttotal: 2.11s\tremaining: 159ms\n",
      "93:\tlearn: 1875.7833890\ttotal: 2.14s\tremaining: 137ms\n",
      "94:\tlearn: 1874.3033044\ttotal: 2.16s\tremaining: 114ms\n",
      "95:\tlearn: 1872.0535334\ttotal: 2.18s\tremaining: 91ms\n",
      "96:\tlearn: 1870.5214883\ttotal: 2.21s\tremaining: 68.3ms\n",
      "97:\tlearn: 1868.8457680\ttotal: 2.23s\tremaining: 45.5ms\n",
      "98:\tlearn: 1867.1983427\ttotal: 2.25s\tremaining: 22.7ms\n",
      "99:\tlearn: 1866.0016366\ttotal: 2.27s\tremaining: 0us\n",
      "0:\tlearn: 4440.1711626\ttotal: 19.1ms\tremaining: 1.89s\n",
      "1:\tlearn: 4150.3954898\ttotal: 34ms\tremaining: 1.67s\n",
      "2:\tlearn: 3900.2224461\ttotal: 51.3ms\tremaining: 1.66s\n",
      "3:\tlearn: 3676.7663717\ttotal: 72.6ms\tremaining: 1.74s\n",
      "4:\tlearn: 3475.8125755\ttotal: 88.4ms\tremaining: 1.68s\n",
      "5:\tlearn: 3299.0560105\ttotal: 111ms\tremaining: 1.74s\n",
      "6:\tlearn: 3150.2943502\ttotal: 134ms\tremaining: 1.78s\n",
      "7:\tlearn: 3004.9860046\ttotal: 170ms\tremaining: 1.96s\n",
      "8:\tlearn: 2880.7662668\ttotal: 198ms\tremaining: 2.01s\n",
      "9:\tlearn: 2771.5896361\ttotal: 220ms\tremaining: 1.98s\n",
      "10:\tlearn: 2679.0185721\ttotal: 243ms\tremaining: 1.96s\n",
      "11:\tlearn: 2592.7556226\ttotal: 262ms\tremaining: 1.92s\n",
      "12:\tlearn: 2518.6408391\ttotal: 287ms\tremaining: 1.92s\n",
      "13:\tlearn: 2451.3594145\ttotal: 311ms\tremaining: 1.91s\n",
      "14:\tlearn: 2392.0237782\ttotal: 332ms\tremaining: 1.88s\n",
      "15:\tlearn: 2341.0317765\ttotal: 359ms\tremaining: 1.89s\n",
      "16:\tlearn: 2292.4012268\ttotal: 387ms\tremaining: 1.89s\n",
      "17:\tlearn: 2251.4205871\ttotal: 403ms\tremaining: 1.84s\n",
      "18:\tlearn: 2213.0749359\ttotal: 426ms\tremaining: 1.81s\n",
      "19:\tlearn: 2182.0187664\ttotal: 444ms\tremaining: 1.77s\n",
      "20:\tlearn: 2152.0209553\ttotal: 463ms\tremaining: 1.74s\n",
      "21:\tlearn: 2124.8444850\ttotal: 479ms\tremaining: 1.7s\n",
      "22:\tlearn: 2102.8817373\ttotal: 506ms\tremaining: 1.69s\n",
      "23:\tlearn: 2081.9361942\ttotal: 530ms\tremaining: 1.68s\n",
      "24:\tlearn: 2064.3365962\ttotal: 561ms\tremaining: 1.68s\n",
      "25:\tlearn: 2045.8611157\ttotal: 582ms\tremaining: 1.66s\n",
      "26:\tlearn: 2031.1311090\ttotal: 609ms\tremaining: 1.65s\n",
      "27:\tlearn: 2017.5152044\ttotal: 628ms\tremaining: 1.62s\n",
      "28:\tlearn: 2004.4853255\ttotal: 648ms\tremaining: 1.59s\n",
      "29:\tlearn: 1993.3468344\ttotal: 668ms\tremaining: 1.56s\n",
      "30:\tlearn: 1982.8527559\ttotal: 687ms\tremaining: 1.53s\n",
      "31:\tlearn: 1973.6545164\ttotal: 710ms\tremaining: 1.51s\n",
      "32:\tlearn: 1965.7432306\ttotal: 730ms\tremaining: 1.48s\n",
      "33:\tlearn: 1958.3040804\ttotal: 755ms\tremaining: 1.47s\n",
      "34:\tlearn: 1951.2065935\ttotal: 774ms\tremaining: 1.44s\n",
      "35:\tlearn: 1941.7348407\ttotal: 793ms\tremaining: 1.41s\n",
      "36:\tlearn: 1935.2931115\ttotal: 810ms\tremaining: 1.38s\n",
      "37:\tlearn: 1926.2419338\ttotal: 830ms\tremaining: 1.35s\n",
      "38:\tlearn: 1920.1161789\ttotal: 847ms\tremaining: 1.32s\n",
      "39:\tlearn: 1915.0181306\ttotal: 874ms\tremaining: 1.31s\n",
      "40:\tlearn: 1910.9853057\ttotal: 891ms\tremaining: 1.28s\n",
      "41:\tlearn: 1905.6588498\ttotal: 914ms\tremaining: 1.26s\n",
      "42:\tlearn: 1898.6766017\ttotal: 934ms\tremaining: 1.24s\n",
      "43:\tlearn: 1894.7071596\ttotal: 954ms\tremaining: 1.21s\n",
      "44:\tlearn: 1890.3855101\ttotal: 969ms\tremaining: 1.18s\n",
      "45:\tlearn: 1884.4714329\ttotal: 990ms\tremaining: 1.16s\n",
      "46:\tlearn: 1879.0465859\ttotal: 1.01s\tremaining: 1.14s\n",
      "47:\tlearn: 1876.1187518\ttotal: 1.04s\tremaining: 1.13s\n",
      "48:\tlearn: 1870.4974945\ttotal: 1.06s\tremaining: 1.11s\n",
      "49:\tlearn: 1865.4911671\ttotal: 1.09s\tremaining: 1.09s\n",
      "50:\tlearn: 1862.8684687\ttotal: 1.11s\tremaining: 1.07s\n",
      "51:\tlearn: 1859.4982930\ttotal: 1.13s\tremaining: 1.05s\n",
      "52:\tlearn: 1856.4745588\ttotal: 1.15s\tremaining: 1.02s\n",
      "53:\tlearn: 1853.9242057\ttotal: 1.17s\tremaining: 998ms\n",
      "54:\tlearn: 1850.7357701\ttotal: 1.19s\tremaining: 971ms\n",
      "55:\tlearn: 1848.5217510\ttotal: 1.2s\tremaining: 945ms\n",
      "56:\tlearn: 1846.2817760\ttotal: 1.22s\tremaining: 922ms\n",
      "57:\tlearn: 1843.1658393\ttotal: 1.25s\tremaining: 903ms\n",
      "58:\tlearn: 1839.0970342\ttotal: 1.26s\tremaining: 879ms\n",
      "59:\tlearn: 1837.1225963\ttotal: 1.28s\tremaining: 856ms\n",
      "60:\tlearn: 1834.3684490\ttotal: 1.31s\tremaining: 835ms\n",
      "61:\tlearn: 1831.0143083\ttotal: 1.33s\tremaining: 814ms\n",
      "62:\tlearn: 1828.9204248\ttotal: 1.35s\tremaining: 794ms\n",
      "63:\tlearn: 1826.9601557\ttotal: 1.38s\tremaining: 774ms\n",
      "64:\tlearn: 1823.2535586\ttotal: 1.41s\tremaining: 761ms\n",
      "65:\tlearn: 1821.2274901\ttotal: 1.43s\tremaining: 738ms\n",
      "66:\tlearn: 1818.8163181\ttotal: 1.46s\tremaining: 720ms\n",
      "67:\tlearn: 1817.5629651\ttotal: 1.49s\tremaining: 700ms\n",
      "68:\tlearn: 1814.5513415\ttotal: 1.5s\tremaining: 677ms\n",
      "69:\tlearn: 1812.1344782\ttotal: 1.53s\tremaining: 654ms\n",
      "70:\tlearn: 1808.9980274\ttotal: 1.55s\tremaining: 632ms\n",
      "71:\tlearn: 1806.1574417\ttotal: 1.57s\tremaining: 611ms\n",
      "72:\tlearn: 1804.6802790\ttotal: 1.58s\tremaining: 586ms\n",
      "73:\tlearn: 1803.0619116\ttotal: 1.6s\tremaining: 562ms\n",
      "74:\tlearn: 1801.2158720\ttotal: 1.63s\tremaining: 542ms\n",
      "75:\tlearn: 1799.3048190\ttotal: 1.65s\tremaining: 520ms\n",
      "76:\tlearn: 1797.2401315\ttotal: 1.69s\tremaining: 503ms\n",
      "77:\tlearn: 1796.4081726\ttotal: 1.71s\tremaining: 481ms\n",
      "78:\tlearn: 1795.0909907\ttotal: 1.73s\tremaining: 459ms\n",
      "79:\tlearn: 1792.6667048\ttotal: 1.8s\tremaining: 450ms\n",
      "80:\tlearn: 1790.4458296\ttotal: 1.83s\tremaining: 429ms\n",
      "81:\tlearn: 1789.5815053\ttotal: 1.85s\tremaining: 407ms\n",
      "82:\tlearn: 1787.5839985\ttotal: 1.87s\tremaining: 384ms\n",
      "83:\tlearn: 1786.5152172\ttotal: 1.9s\tremaining: 362ms\n",
      "84:\tlearn: 1785.1997449\ttotal: 1.92s\tremaining: 339ms\n",
      "85:\tlearn: 1783.8615910\ttotal: 1.94s\tremaining: 316ms\n",
      "86:\tlearn: 1782.5278940\ttotal: 1.96s\tremaining: 293ms\n",
      "87:\tlearn: 1781.1017363\ttotal: 1.98s\tremaining: 270ms\n",
      "88:\tlearn: 1779.5422831\ttotal: 2s\tremaining: 248ms\n",
      "89:\tlearn: 1778.5791974\ttotal: 2.02s\tremaining: 224ms\n",
      "90:\tlearn: 1776.4715757\ttotal: 2.04s\tremaining: 202ms\n",
      "91:\tlearn: 1774.4674835\ttotal: 2.06s\tremaining: 179ms\n",
      "92:\tlearn: 1773.3810758\ttotal: 2.08s\tremaining: 156ms\n",
      "93:\tlearn: 1772.4689710\ttotal: 2.1s\tremaining: 134ms\n",
      "94:\tlearn: 1771.3199529\ttotal: 2.12s\tremaining: 112ms\n",
      "95:\tlearn: 1769.4736585\ttotal: 2.14s\tremaining: 89.1ms\n",
      "96:\tlearn: 1768.3578362\ttotal: 2.16s\tremaining: 66.8ms\n",
      "97:\tlearn: 1767.1076278\ttotal: 2.18s\tremaining: 44.4ms\n",
      "98:\tlearn: 1765.9271793\ttotal: 2.23s\tremaining: 22.5ms\n",
      "99:\tlearn: 1764.4669308\ttotal: 2.26s\tremaining: 0us\n",
      "0:\tlearn: 4594.9999247\ttotal: 29ms\tremaining: 842ms\n",
      "1:\tlearn: 4433.0361914\ttotal: 62.2ms\tremaining: 871ms\n",
      "2:\tlearn: 4282.3623539\ttotal: 87ms\tremaining: 783ms\n",
      "3:\tlearn: 4139.0856822\ttotal: 133ms\tremaining: 864ms\n",
      "4:\tlearn: 4003.1347500\ttotal: 195ms\tremaining: 977ms\n",
      "5:\tlearn: 3876.1744465\ttotal: 229ms\tremaining: 915ms\n",
      "6:\tlearn: 3757.1962420\ttotal: 249ms\tremaining: 819ms\n",
      "7:\tlearn: 3641.9384503\ttotal: 300ms\tremaining: 824ms\n",
      "8:\tlearn: 3534.3145838\ttotal: 329ms\tremaining: 768ms\n",
      "9:\tlearn: 3431.9629917\ttotal: 358ms\tremaining: 716ms\n",
      "10:\tlearn: 3335.2553059\ttotal: 381ms\tremaining: 658ms\n",
      "11:\tlearn: 3244.2838508\ttotal: 404ms\tremaining: 606ms\n",
      "12:\tlearn: 3160.3024508\ttotal: 439ms\tremaining: 574ms\n",
      "13:\tlearn: 3079.1962818\ttotal: 481ms\tremaining: 549ms\n",
      "14:\tlearn: 3004.0111127\ttotal: 506ms\tremaining: 506ms\n",
      "15:\tlearn: 2934.2053999\ttotal: 533ms\tremaining: 466ms\n",
      "16:\tlearn: 2868.7877621\ttotal: 564ms\tremaining: 431ms\n",
      "17:\tlearn: 2805.8048462\ttotal: 586ms\tremaining: 391ms\n",
      "18:\tlearn: 2746.1686242\ttotal: 615ms\tremaining: 356ms\n",
      "19:\tlearn: 2690.1611787\ttotal: 635ms\tremaining: 317ms\n",
      "20:\tlearn: 2638.9010710\ttotal: 664ms\tremaining: 284ms\n",
      "21:\tlearn: 2590.4155119\ttotal: 697ms\tremaining: 253ms\n",
      "22:\tlearn: 2546.4324750\ttotal: 724ms\tremaining: 220ms\n",
      "23:\tlearn: 2503.0190228\ttotal: 756ms\tremaining: 189ms\n",
      "24:\tlearn: 2462.9570704\ttotal: 780ms\tremaining: 156ms\n",
      "25:\tlearn: 2424.9325921\ttotal: 808ms\tremaining: 124ms\n",
      "26:\tlearn: 2389.8904581\ttotal: 848ms\tremaining: 94.2ms\n",
      "27:\tlearn: 2357.2427330\ttotal: 876ms\tremaining: 62.6ms\n",
      "28:\tlearn: 2327.0178525\ttotal: 900ms\tremaining: 31ms\n",
      "29:\tlearn: 2297.7818632\ttotal: 927ms\tremaining: 0us\n",
      "0:\tlearn: 4740.3960356\ttotal: 31.4ms\tremaining: 1.54s\n",
      "1:\tlearn: 4706.0163857\ttotal: 61.5ms\tremaining: 1.48s\n",
      "2:\tlearn: 4672.5233708\ttotal: 98.8ms\tremaining: 1.55s\n",
      "3:\tlearn: 4638.7942738\ttotal: 127ms\tremaining: 1.46s\n",
      "4:\tlearn: 4605.8531258\ttotal: 154ms\tremaining: 1.39s\n",
      "5:\tlearn: 4572.9297716\ttotal: 184ms\tremaining: 1.35s\n",
      "6:\tlearn: 4540.7349378\ttotal: 207ms\tremaining: 1.27s\n",
      "7:\tlearn: 4508.6274126\ttotal: 239ms\tremaining: 1.26s\n",
      "8:\tlearn: 4476.8013941\ttotal: 285ms\tremaining: 1.3s\n",
      "9:\tlearn: 4445.2217214\ttotal: 322ms\tremaining: 1.29s\n",
      "10:\tlearn: 4414.1436961\ttotal: 345ms\tremaining: 1.22s\n",
      "11:\tlearn: 4383.5733737\ttotal: 380ms\tremaining: 1.2s\n",
      "12:\tlearn: 4353.1567840\ttotal: 416ms\tremaining: 1.19s\n",
      "13:\tlearn: 4323.0990952\ttotal: 442ms\tremaining: 1.14s\n",
      "14:\tlearn: 4293.2562313\ttotal: 476ms\tremaining: 1.11s\n",
      "15:\tlearn: 4263.8105404\ttotal: 492ms\tremaining: 1.05s\n",
      "16:\tlearn: 4235.0206178\ttotal: 529ms\tremaining: 1.03s\n",
      "17:\tlearn: 4206.1116905\ttotal: 555ms\tremaining: 986ms\n",
      "18:\tlearn: 4177.6980540\ttotal: 579ms\tremaining: 945ms\n",
      "19:\tlearn: 4149.9975684\ttotal: 633ms\tremaining: 950ms\n",
      "20:\tlearn: 4122.3182594\ttotal: 663ms\tremaining: 916ms\n",
      "21:\tlearn: 4095.1542605\ttotal: 684ms\tremaining: 870ms\n",
      "22:\tlearn: 4068.0617855\ttotal: 705ms\tremaining: 828ms\n",
      "23:\tlearn: 4041.5636154\ttotal: 737ms\tremaining: 799ms\n",
      "24:\tlearn: 4015.4413154\ttotal: 759ms\tremaining: 759ms\n",
      "25:\tlearn: 3989.0969639\ttotal: 780ms\tremaining: 720ms\n",
      "26:\tlearn: 3963.3027315\ttotal: 806ms\tremaining: 687ms\n",
      "27:\tlearn: 3937.6843094\ttotal: 830ms\tremaining: 652ms\n",
      "28:\tlearn: 3912.5786130\ttotal: 848ms\tremaining: 614ms\n",
      "29:\tlearn: 3887.7094769\ttotal: 892ms\tremaining: 594ms\n",
      "30:\tlearn: 3862.8383478\ttotal: 928ms\tremaining: 569ms\n",
      "31:\tlearn: 3838.7284791\ttotal: 986ms\tremaining: 555ms\n",
      "32:\tlearn: 3814.4107600\ttotal: 1.03s\tremaining: 532ms\n",
      "33:\tlearn: 3790.7550485\ttotal: 1.09s\tremaining: 511ms\n",
      "34:\tlearn: 3767.2519870\ttotal: 1.13s\tremaining: 482ms\n",
      "35:\tlearn: 3744.0895186\ttotal: 1.18s\tremaining: 459ms\n",
      "36:\tlearn: 3721.0092325\ttotal: 1.23s\tremaining: 432ms\n",
      "37:\tlearn: 3698.0060257\ttotal: 1.27s\tremaining: 402ms\n",
      "38:\tlearn: 3675.6560040\ttotal: 1.33s\tremaining: 374ms\n",
      "39:\tlearn: 3653.8916983\ttotal: 1.37s\tremaining: 344ms\n",
      "40:\tlearn: 3632.0213442\ttotal: 1.41s\tremaining: 310ms\n",
      "41:\tlearn: 3610.1972655\ttotal: 1.47s\tremaining: 280ms\n",
      "42:\tlearn: 3588.1594868\ttotal: 1.52s\tremaining: 247ms\n",
      "43:\tlearn: 3567.2603200\ttotal: 1.56s\tremaining: 213ms\n",
      "44:\tlearn: 3546.3745734\ttotal: 1.6s\tremaining: 178ms\n",
      "45:\tlearn: 3525.8078032\ttotal: 1.64s\tremaining: 143ms\n",
      "46:\tlearn: 3505.3596609\ttotal: 1.72s\tremaining: 109ms\n",
      "47:\tlearn: 3485.7736171\ttotal: 1.77s\tremaining: 73.7ms\n",
      "48:\tlearn: 3465.6623307\ttotal: 1.82s\tremaining: 37.2ms\n",
      "49:\tlearn: 3446.0567962\ttotal: 1.87s\tremaining: 0us\n",
      "0:\tlearn: 4421.2194748\ttotal: 51.5ms\tremaining: 2.52s\n",
      "1:\tlearn: 4117.3077991\ttotal: 120ms\tremaining: 2.88s\n",
      "2:\tlearn: 3849.0660968\ttotal: 188ms\tremaining: 2.95s\n",
      "3:\tlearn: 3612.5388570\ttotal: 242ms\tremaining: 2.79s\n",
      "4:\tlearn: 3406.5419090\ttotal: 282ms\tremaining: 2.54s\n",
      "5:\tlearn: 3221.8589068\ttotal: 326ms\tremaining: 2.39s\n",
      "6:\tlearn: 3054.9619301\ttotal: 374ms\tremaining: 2.3s\n",
      "7:\tlearn: 2911.3116793\ttotal: 425ms\tremaining: 2.23s\n",
      "8:\tlearn: 2780.3252722\ttotal: 520ms\tremaining: 2.37s\n",
      "9:\tlearn: 2667.2509104\ttotal: 571ms\tremaining: 2.29s\n",
      "10:\tlearn: 2567.5383257\ttotal: 625ms\tremaining: 2.21s\n",
      "11:\tlearn: 2480.2366559\ttotal: 677ms\tremaining: 2.14s\n",
      "12:\tlearn: 2403.6616236\ttotal: 737ms\tremaining: 2.1s\n",
      "13:\tlearn: 2336.5147518\ttotal: 794ms\tremaining: 2.04s\n",
      "14:\tlearn: 2277.0490107\ttotal: 838ms\tremaining: 1.95s\n",
      "15:\tlearn: 2226.4176325\ttotal: 906ms\tremaining: 1.92s\n",
      "16:\tlearn: 2182.7217613\ttotal: 978ms\tremaining: 1.9s\n",
      "17:\tlearn: 2141.3049981\ttotal: 1.04s\tremaining: 1.84s\n",
      "18:\tlearn: 2109.3949661\ttotal: 1.07s\tremaining: 1.75s\n",
      "19:\tlearn: 2077.6346893\ttotal: 1.1s\tremaining: 1.66s\n",
      "20:\tlearn: 2051.4566112\ttotal: 1.15s\tremaining: 1.59s\n",
      "21:\tlearn: 2029.2924927\ttotal: 1.18s\tremaining: 1.51s\n",
      "22:\tlearn: 2009.4899987\ttotal: 1.24s\tremaining: 1.46s\n",
      "23:\tlearn: 1987.5656624\ttotal: 1.28s\tremaining: 1.39s\n",
      "24:\tlearn: 1970.3433150\ttotal: 1.3s\tremaining: 1.3s\n",
      "25:\tlearn: 1955.0708697\ttotal: 1.33s\tremaining: 1.23s\n",
      "26:\tlearn: 1941.7428069\ttotal: 1.36s\tremaining: 1.16s\n",
      "27:\tlearn: 1929.6287059\ttotal: 1.4s\tremaining: 1.1s\n",
      "28:\tlearn: 1914.0646312\ttotal: 1.44s\tremaining: 1.04s\n",
      "29:\tlearn: 1901.5419633\ttotal: 1.46s\tremaining: 971ms\n",
      "30:\tlearn: 1889.1575648\ttotal: 1.49s\tremaining: 912ms\n",
      "31:\tlearn: 1879.0099525\ttotal: 1.53s\tremaining: 859ms\n",
      "32:\tlearn: 1870.9742926\ttotal: 1.56s\tremaining: 806ms\n",
      "33:\tlearn: 1863.8431427\ttotal: 1.59s\tremaining: 748ms\n",
      "34:\tlearn: 1856.1563232\ttotal: 1.61s\tremaining: 691ms\n",
      "35:\tlearn: 1851.1736145\ttotal: 1.64s\tremaining: 637ms\n",
      "36:\tlearn: 1844.8853255\ttotal: 1.66s\tremaining: 584ms\n",
      "37:\tlearn: 1837.1950244\ttotal: 1.68s\tremaining: 532ms\n",
      "38:\tlearn: 1832.9832557\ttotal: 1.71s\tremaining: 483ms\n",
      "39:\tlearn: 1826.9449485\ttotal: 1.74s\tremaining: 435ms\n",
      "40:\tlearn: 1822.3403968\ttotal: 1.77s\tremaining: 388ms\n",
      "41:\tlearn: 1818.7688016\ttotal: 1.8s\tremaining: 343ms\n",
      "42:\tlearn: 1814.0426962\ttotal: 1.83s\tremaining: 298ms\n",
      "43:\tlearn: 1809.3682339\ttotal: 1.85s\tremaining: 253ms\n",
      "44:\tlearn: 1806.5439170\ttotal: 1.87s\tremaining: 208ms\n",
      "45:\tlearn: 1801.9782121\ttotal: 1.9s\tremaining: 165ms\n",
      "46:\tlearn: 1798.7296196\ttotal: 1.92s\tremaining: 123ms\n",
      "47:\tlearn: 1795.1494392\ttotal: 1.95s\tremaining: 81.2ms\n",
      "48:\tlearn: 1792.4509515\ttotal: 1.97s\tremaining: 40.3ms\n",
      "49:\tlearn: 1789.3214397\ttotal: 2s\tremaining: 0us\n",
      "0:\tlearn: 4602.6435107\ttotal: 31.2ms\tremaining: 3.08s\n",
      "1:\tlearn: 4439.6331697\ttotal: 59.8ms\tremaining: 2.93s\n",
      "2:\tlearn: 4288.1303802\ttotal: 92.3ms\tremaining: 2.98s\n",
      "3:\tlearn: 4141.9900670\ttotal: 116ms\tremaining: 2.78s\n",
      "4:\tlearn: 4004.9303612\ttotal: 151ms\tremaining: 2.86s\n",
      "5:\tlearn: 3878.3062390\ttotal: 178ms\tremaining: 2.79s\n",
      "6:\tlearn: 3755.4421169\ttotal: 208ms\tremaining: 2.77s\n",
      "7:\tlearn: 3641.8136896\ttotal: 239ms\tremaining: 2.74s\n",
      "8:\tlearn: 3536.1734618\ttotal: 270ms\tremaining: 2.73s\n",
      "9:\tlearn: 3434.5243432\ttotal: 296ms\tremaining: 2.66s\n",
      "10:\tlearn: 3339.0751100\ttotal: 324ms\tremaining: 2.62s\n",
      "11:\tlearn: 3249.9818880\ttotal: 348ms\tremaining: 2.55s\n",
      "12:\tlearn: 3163.2784272\ttotal: 376ms\tremaining: 2.51s\n",
      "13:\tlearn: 3084.6480744\ttotal: 405ms\tremaining: 2.49s\n",
      "14:\tlearn: 3010.2659556\ttotal: 430ms\tremaining: 2.44s\n",
      "15:\tlearn: 2940.7622956\ttotal: 459ms\tremaining: 2.41s\n",
      "16:\tlearn: 2874.5501025\ttotal: 491ms\tremaining: 2.4s\n",
      "17:\tlearn: 2812.8262614\ttotal: 525ms\tremaining: 2.39s\n",
      "18:\tlearn: 2752.9816942\ttotal: 544ms\tremaining: 2.32s\n",
      "19:\tlearn: 2696.3020919\ttotal: 585ms\tremaining: 2.34s\n",
      "20:\tlearn: 2643.7584161\ttotal: 620ms\tremaining: 2.33s\n",
      "21:\tlearn: 2597.1415100\ttotal: 652ms\tremaining: 2.31s\n",
      "22:\tlearn: 2552.9336493\ttotal: 673ms\tremaining: 2.25s\n",
      "23:\tlearn: 2508.7478981\ttotal: 705ms\tremaining: 2.23s\n",
      "24:\tlearn: 2469.1396753\ttotal: 735ms\tremaining: 2.2s\n",
      "25:\tlearn: 2431.8126069\ttotal: 766ms\tremaining: 2.18s\n",
      "26:\tlearn: 2395.7524058\ttotal: 791ms\tremaining: 2.14s\n",
      "27:\tlearn: 2362.3493733\ttotal: 836ms\tremaining: 2.15s\n",
      "28:\tlearn: 2330.8554944\ttotal: 867ms\tremaining: 2.12s\n",
      "29:\tlearn: 2301.1197424\ttotal: 902ms\tremaining: 2.1s\n",
      "30:\tlearn: 2273.5938053\ttotal: 945ms\tremaining: 2.1s\n",
      "31:\tlearn: 2247.9030320\ttotal: 981ms\tremaining: 2.08s\n",
      "32:\tlearn: 2223.8383862\ttotal: 1.01s\tremaining: 2.06s\n",
      "33:\tlearn: 2201.8955023\ttotal: 1.05s\tremaining: 2.04s\n",
      "34:\tlearn: 2180.3989139\ttotal: 1.08s\tremaining: 2.01s\n",
      "35:\tlearn: 2160.6861284\ttotal: 1.1s\tremaining: 1.96s\n",
      "36:\tlearn: 2142.0310086\ttotal: 1.13s\tremaining: 1.92s\n",
      "37:\tlearn: 2226.3642445\ttotal: 923ms\tremaining: 1.5s\n",
      "38:\tlearn: 2209.2730045\ttotal: 951ms\tremaining: 1.49s\n",
      "39:\tlearn: 2192.1140281\ttotal: 976ms\tremaining: 1.46s\n",
      "40:\tlearn: 2176.2774924\ttotal: 998ms\tremaining: 1.44s\n",
      "41:\tlearn: 2162.6009612\ttotal: 1.02s\tremaining: 1.41s\n",
      "42:\tlearn: 2148.8744737\ttotal: 1.04s\tremaining: 1.38s\n",
      "43:\tlearn: 2135.1591399\ttotal: 1.06s\tremaining: 1.35s\n",
      "44:\tlearn: 2122.5878198\ttotal: 1.07s\tremaining: 1.31s\n",
      "45:\tlearn: 2110.2672910\ttotal: 1.09s\tremaining: 1.28s\n",
      "46:\tlearn: 2099.1218188\ttotal: 1.12s\tremaining: 1.26s\n",
      "47:\tlearn: 2087.9921953\ttotal: 1.14s\tremaining: 1.23s\n",
      "48:\tlearn: 2078.1526795\ttotal: 1.16s\tremaining: 1.21s\n",
      "49:\tlearn: 2067.9877725\ttotal: 1.19s\tremaining: 1.19s\n",
      "50:\tlearn: 2059.0635618\ttotal: 1.21s\tremaining: 1.16s\n",
      "51:\tlearn: 2050.4212927\ttotal: 1.23s\tremaining: 1.13s\n",
      "52:\tlearn: 2042.4060614\ttotal: 1.25s\tremaining: 1.1s\n",
      "53:\tlearn: 2034.8433874\ttotal: 1.26s\tremaining: 1.08s\n",
      "54:\tlearn: 2027.5527988\ttotal: 1.29s\tremaining: 1.05s\n",
      "55:\tlearn: 2020.8355297\ttotal: 1.3s\tremaining: 1.02s\n",
      "56:\tlearn: 2013.9987350\ttotal: 1.33s\tremaining: 1s\n",
      "57:\tlearn: 2008.0029019\ttotal: 1.35s\tremaining: 978ms\n",
      "58:\tlearn: 2002.1173425\ttotal: 1.38s\tremaining: 959ms\n",
      "59:\tlearn: 1996.0608793\ttotal: 1.4s\tremaining: 934ms\n",
      "60:\tlearn: 1989.5454370\ttotal: 1.44s\tremaining: 918ms\n",
      "61:\tlearn: 1984.7316941\ttotal: 1.46s\tremaining: 894ms\n",
      "62:\tlearn: 1979.6810712\ttotal: 1.48s\tremaining: 869ms\n",
      "63:\tlearn: 1973.0547162\ttotal: 1.5s\tremaining: 845ms\n",
      "64:\tlearn: 1968.2458504\ttotal: 1.52s\tremaining: 817ms\n",
      "65:\tlearn: 1963.8378257\ttotal: 1.55s\tremaining: 797ms\n",
      "66:\tlearn: 1958.6114155\ttotal: 1.57s\tremaining: 773ms\n",
      "67:\tlearn: 1954.6717120\ttotal: 1.59s\tremaining: 748ms\n",
      "68:\tlearn: 1950.8684351\ttotal: 1.61s\tremaining: 724ms\n",
      "69:\tlearn: 1946.9109853\ttotal: 1.64s\tremaining: 703ms\n",
      "70:\tlearn: 1943.2580409\ttotal: 1.68s\tremaining: 684ms\n",
      "71:\tlearn: 1939.4165913\ttotal: 1.7s\tremaining: 662ms\n",
      "72:\tlearn: 1935.3915112\ttotal: 1.72s\tremaining: 637ms\n",
      "73:\tlearn: 1931.7520190\ttotal: 1.74s\tremaining: 612ms\n",
      "74:\tlearn: 1928.4427186\ttotal: 1.77s\tremaining: 589ms\n",
      "75:\tlearn: 1925.5060729\ttotal: 1.79s\tremaining: 565ms\n",
      "76:\tlearn: 1922.9700773\ttotal: 1.81s\tremaining: 540ms\n",
      "77:\tlearn: 1919.7099998\ttotal: 1.83s\tremaining: 515ms\n",
      "78:\tlearn: 1916.0681292\ttotal: 1.84s\tremaining: 489ms\n",
      "79:\tlearn: 1913.2600513\ttotal: 1.86s\tremaining: 465ms\n",
      "80:\tlearn: 1911.0384111\ttotal: 1.88s\tremaining: 442ms\n",
      "81:\tlearn: 1908.9659632\ttotal: 1.91s\tremaining: 419ms\n",
      "82:\tlearn: 1905.0829074\ttotal: 1.93s\tremaining: 395ms\n",
      "83:\tlearn: 1903.0993005\ttotal: 1.95s\tremaining: 371ms\n",
      "84:\tlearn: 1899.6651783\ttotal: 1.96s\tremaining: 347ms\n",
      "85:\tlearn: 1897.4700992\ttotal: 1.98s\tremaining: 323ms\n",
      "86:\tlearn: 1895.6219929\ttotal: 2.01s\tremaining: 301ms\n",
      "87:\tlearn: 1892.7738236\ttotal: 2.05s\tremaining: 280ms\n",
      "88:\tlearn: 1890.9341282\ttotal: 2.07s\tremaining: 256ms\n",
      "89:\tlearn: 1889.1305047\ttotal: 2.09s\tremaining: 233ms\n",
      "90:\tlearn: 1885.4706972\ttotal: 2.11s\tremaining: 209ms\n",
      "91:\tlearn: 1882.8532909\ttotal: 2.13s\tremaining: 185ms\n",
      "92:\tlearn: 1880.6101813\ttotal: 2.15s\tremaining: 162ms\n",
      "93:\tlearn: 1878.2227053\ttotal: 2.17s\tremaining: 139ms\n",
      "94:\tlearn: 1876.1140701\ttotal: 2.2s\tremaining: 116ms\n",
      "95:\tlearn: 1873.7088449\ttotal: 2.22s\tremaining: 92.6ms\n",
      "96:\tlearn: 1872.4190127\ttotal: 2.24s\tremaining: 69.3ms\n",
      "97:\tlearn: 1871.0369481\ttotal: 2.25s\tremaining: 46ms\n",
      "98:\tlearn: 1869.4427884\ttotal: 2.27s\tremaining: 23ms\n",
      "99:\tlearn: 1866.2735293\ttotal: 2.29s\tremaining: 0us\n",
      "0:\tlearn: 4732.4873581\ttotal: 34.3ms\tremaining: 994ms\n",
      "1:\tlearn: 4698.4132330\ttotal: 64.4ms\tremaining: 902ms\n",
      "2:\tlearn: 4664.7596738\ttotal: 91.7ms\tremaining: 825ms\n",
      "3:\tlearn: 4631.7796530\ttotal: 125ms\tremaining: 813ms\n",
      "4:\tlearn: 4598.8209128\ttotal: 152ms\tremaining: 762ms\n",
      "5:\tlearn: 4566.2908498\ttotal: 177ms\tremaining: 710ms\n",
      "6:\tlearn: 4534.2914169\ttotal: 199ms\tremaining: 655ms\n",
      "7:\tlearn: 4502.3855672\ttotal: 225ms\tremaining: 620ms\n",
      "8:\tlearn: 4470.6580248\ttotal: 255ms\tremaining: 594ms\n",
      "9:\tlearn: 4439.2874606\ttotal: 299ms\tremaining: 599ms\n",
      "10:\tlearn: 4408.2112023\ttotal: 345ms\tremaining: 596ms\n",
      "11:\tlearn: 4377.7610645\ttotal: 403ms\tremaining: 604ms\n",
      "12:\tlearn: 4347.7927495\ttotal: 427ms\tremaining: 558ms\n",
      "13:\tlearn: 4318.0053361\ttotal: 460ms\tremaining: 525ms\n",
      "14:\tlearn: 4288.0771818\ttotal: 490ms\tremaining: 490ms\n",
      "15:\tlearn: 4259.0195859\ttotal: 519ms\tremaining: 454ms\n",
      "16:\tlearn: 4230.2553924\ttotal: 550ms\tremaining: 421ms\n",
      "17:\tlearn: 4201.9333734\ttotal: 583ms\tremaining: 389ms\n",
      "18:\tlearn: 4173.8758417\ttotal: 613ms\tremaining: 355ms\n",
      "19:\tlearn: 4146.3662036\ttotal: 635ms\tremaining: 317ms\n",
      "20:\tlearn: 4119.1142061\ttotal: 665ms\tremaining: 285ms\n",
      "21:\tlearn: 4091.7940977\ttotal: 698ms\tremaining: 254ms\n",
      "22:\tlearn: 4064.9073598\ttotal: 730ms\tremaining: 222ms\n",
      "23:\tlearn: 4038.6709414\ttotal: 752ms\tremaining: 188ms\n",
      "24:\tlearn: 4012.3900190\ttotal: 782ms\tremaining: 156ms\n",
      "25:\tlearn: 3986.7205932\ttotal: 842ms\tremaining: 129ms\n",
      "26:\tlearn: 3961.0843676\ttotal: 873ms\tremaining: 97ms\n",
      "27:\tlearn: 3935.7733862\ttotal: 905ms\tremaining: 64.7ms\n",
      "28:\tlearn: 3910.5781207\ttotal: 961ms\tremaining: 33.1ms\n",
      "29:\tlearn: 3885.5005883\ttotal: 983ms\tremaining: 0us\n",
      "0:\tlearn: 4600.2456685\ttotal: 38.4ms\tremaining: 1.11s\n",
      "1:\tlearn: 4436.8561841\ttotal: 70.5ms\tremaining: 987ms\n",
      "2:\tlearn: 4284.4881279\ttotal: 107ms\tremaining: 963ms\n",
      "3:\tlearn: 4138.2256734\ttotal: 137ms\tremaining: 892ms\n",
      "4:\tlearn: 4001.7997249\ttotal: 169ms\tremaining: 846ms\n",
      "5:\tlearn: 3873.0089663\ttotal: 201ms\tremaining: 803ms\n",
      "6:\tlearn: 3752.0611953\ttotal: 229ms\tremaining: 752ms\n",
      "7:\tlearn: 3638.9497404\ttotal: 254ms\tremaining: 700ms\n",
      "8:\tlearn: 3530.4503623\ttotal: 282ms\tremaining: 659ms\n",
      "9:\tlearn: 3428.7407679\ttotal: 322ms\tremaining: 644ms\n",
      "10:\tlearn: 3335.1793989\ttotal: 347ms\tremaining: 599ms\n",
      "11:\tlearn: 3243.5966459\ttotal: 373ms\tremaining: 559ms\n",
      "12:\tlearn: 3158.1086549\ttotal: 401ms\tremaining: 525ms\n",
      "13:\tlearn: 3078.5198722\ttotal: 434ms\tremaining: 496ms\n",
      "14:\tlearn: 3004.0384493\ttotal: 455ms\tremaining: 455ms\n",
      "15:\tlearn: 2934.5957630\ttotal: 483ms\tremaining: 422ms\n",
      "16:\tlearn: 2868.2649108\ttotal: 519ms\tremaining: 397ms\n",
      "17:\tlearn: 2805.2548451\ttotal: 552ms\tremaining: 368ms\n",
      "18:\tlearn: 2747.6639656\ttotal: 581ms\tremaining: 336ms\n",
      "19:\tlearn: 2690.9299742\ttotal: 611ms\tremaining: 305ms\n",
      "20:\tlearn: 2638.2115940\ttotal: 639ms\tremaining: 274ms\n",
      "21:\tlearn: 2592.1637736\ttotal: 677ms\tremaining: 246ms\n",
      "22:\tlearn: 2546.8911324\ttotal: 701ms\tremaining: 213ms\n",
      "23:\tlearn: 2502.9748223\ttotal: 731ms\tremaining: 183ms\n",
      "24:\tlearn: 2463.2012289\ttotal: 765ms\tremaining: 153ms\n",
      "25:\tlearn: 2425.8210145\ttotal: 795ms\tremaining: 122ms\n",
      "26:\tlearn: 2390.7972246\ttotal: 845ms\tremaining: 93.8ms\n",
      "27:\tlearn: 2356.7379696\ttotal: 888ms\tremaining: 63.4ms\n",
      "28:\tlearn: 2324.8610942\ttotal: 919ms\tremaining: 31.7ms\n",
      "29:\tlearn: 2295.8897285\ttotal: 944ms\tremaining: 0us\n",
      "0:\tlearn: 4726.6048107\ttotal: 23ms\tremaining: 1.13s\n",
      "1:\tlearn: 4692.2841032\ttotal: 49.6ms\tremaining: 1.19s\n",
      "2:\tlearn: 4658.4193605\ttotal: 97.6ms\tremaining: 1.53s\n",
      "3:\tlearn: 4624.7256811\ttotal: 141ms\tremaining: 1.62s\n",
      "4:\tlearn: 4591.4283552\ttotal: 178ms\tremaining: 1.6s\n",
      "5:\tlearn: 4558.9966911\ttotal: 206ms\tremaining: 1.51s\n",
      "6:\tlearn: 4527.0492363\ttotal: 225ms\tremaining: 1.38s\n",
      "7:\tlearn: 4495.0180612\ttotal: 260ms\tremaining: 1.36s\n",
      "8:\tlearn: 4463.1972002\ttotal: 307ms\tremaining: 1.4s\n",
      "9:\tlearn: 4432.2667877\ttotal: 344ms\tremaining: 1.38s\n",
      "10:\tlearn: 4401.5691027\ttotal: 372ms\tremaining: 1.32s\n",
      "11:\tlearn: 4370.9621615\ttotal: 402ms\tremaining: 1.27s\n",
      "12:\tlearn: 4340.9495402\ttotal: 435ms\tremaining: 1.24s\n",
      "13:\tlearn: 4311.0888371\ttotal: 475ms\tremaining: 1.22s\n",
      "14:\tlearn: 4281.0819978\ttotal: 499ms\tremaining: 1.17s\n",
      "15:\tlearn: 4251.9350052\ttotal: 521ms\tremaining: 1.11s\n",
      "16:\tlearn: 4223.1549046\ttotal: 547ms\tremaining: 1.06s\n",
      "17:\tlearn: 4194.6791049\ttotal: 575ms\tremaining: 1.02s\n",
      "18:\tlearn: 4166.2526979\ttotal: 599ms\tremaining: 977ms\n",
      "19:\tlearn: 4138.7189990\ttotal: 619ms\tremaining: 929ms\n",
      "20:\tlearn: 4111.0360396\ttotal: 682ms\tremaining: 942ms\n",
      "21:\tlearn: 4084.1443099\ttotal: 722ms\tremaining: 919ms\n",
      "22:\tlearn: 4057.6743365\ttotal: 750ms\tremaining: 881ms\n",
      "23:\tlearn: 4031.1522772\ttotal: 772ms\tremaining: 836ms\n",
      "24:\tlearn: 4004.7580664\ttotal: 800ms\tremaining: 800ms\n",
      "25:\tlearn: 3978.9576043\ttotal: 821ms\tremaining: 758ms\n",
      "26:\tlearn: 3953.1858440\ttotal: 841ms\tremaining: 717ms\n",
      "27:\tlearn: 3927.8955060\ttotal: 864ms\tremaining: 679ms\n",
      "28:\tlearn: 3902.7160708\ttotal: 891ms\tremaining: 645ms\n",
      "29:\tlearn: 3878.0105576\ttotal: 913ms\tremaining: 609ms\n",
      "30:\tlearn: 3853.2655094\ttotal: 938ms\tremaining: 575ms\n",
      "31:\tlearn: 3828.8497039\ttotal: 962ms\tremaining: 541ms\n",
      "32:\tlearn: 3804.7366940\ttotal: 984ms\tremaining: 507ms\n",
      "33:\tlearn: 3781.1822897\ttotal: 1.01s\tremaining: 475ms\n",
      "34:\tlearn: 3757.8965639\ttotal: 1.04s\tremaining: 446ms\n",
      "35:\tlearn: 3734.8918952\ttotal: 1.06s\tremaining: 412ms\n",
      "36:\tlearn: 3712.0257360\ttotal: 1.08s\tremaining: 382ms\n",
      "37:\tlearn: 3689.3320934\ttotal: 1.11s\tremaining: 352ms\n",
      "38:\tlearn: 3666.9612751\ttotal: 1.14s\tremaining: 323ms\n",
      "39:\tlearn: 3645.1600744\ttotal: 1.16s\tremaining: 290ms\n",
      "40:\tlearn: 3623.5376114\ttotal: 1.19s\tremaining: 260ms\n",
      "41:\tlearn: 3601.7695545\ttotal: 1.22s\tremaining: 233ms\n",
      "42:\tlearn: 3580.7670724\ttotal: 1.24s\tremaining: 203ms\n",
      "43:\tlearn: 3559.9784261\ttotal: 1.27s\tremaining: 173ms\n",
      "44:\tlearn: 3539.1558354\ttotal: 1.3s\tremaining: 144ms\n",
      "45:\tlearn: 3518.6542721\ttotal: 1.32s\tremaining: 115ms\n",
      "46:\tlearn: 3498.1431048\ttotal: 1.35s\tremaining: 86ms\n",
      "47:\tlearn: 3478.0889028\ttotal: 1.36s\tremaining: 56.9ms\n",
      "48:\tlearn: 3458.1789589\ttotal: 1.39s\tremaining: 28.4ms\n",
      "49:\tlearn: 3438.5119089\ttotal: 1.41s\tremaining: 0us\n",
      "0:\tlearn: 4600.2456685\ttotal: 32.7ms\tremaining: 1.6s\n",
      "1:\tlearn: 4436.8561841\ttotal: 60ms\tremaining: 1.44s\n",
      "2:\tlearn: 4284.4881279\ttotal: 85.2ms\tremaining: 1.33s\n",
      "3:\tlearn: 4138.2256734\ttotal: 109ms\tremaining: 1.25s\n",
      "4:\tlearn: 4001.7997249\ttotal: 133ms\tremaining: 1.19s\n",
      "5:\tlearn: 3873.0089663\ttotal: 162ms\tremaining: 1.19s\n",
      "6:\tlearn: 3752.0611953\ttotal: 187ms\tremaining: 1.15s\n",
      "7:\tlearn: 3638.9497404\ttotal: 210ms\tremaining: 1.1s\n",
      "8:\tlearn: 3530.4503623\ttotal: 236ms\tremaining: 1.08s\n",
      "9:\tlearn: 3428.7407679\ttotal: 260ms\tremaining: 1.04s\n",
      "10:\tlearn: 3335.1793989\ttotal: 285ms\tremaining: 1.01s\n",
      "11:\tlearn: 3243.5966459\ttotal: 316ms\tremaining: 1s\n",
      "12:\tlearn: 3158.1086549\ttotal: 344ms\tremaining: 980ms\n",
      "13:\tlearn: 3078.5198722\ttotal: 372ms\tremaining: 957ms\n",
      "14:\tlearn: 3004.0384493\ttotal: 401ms\tremaining: 935ms\n",
      "15:\tlearn: 2934.5957630\ttotal: 421ms\tremaining: 895ms\n",
      "16:\tlearn: 2868.2649108\ttotal: 457ms\tremaining: 888ms\n",
      "17:\tlearn: 2805.2548451\ttotal: 484ms\tremaining: 861ms\n",
      "18:\tlearn: 2747.6639656\ttotal: 510ms\tremaining: 831ms\n",
      "19:\tlearn: 2690.9299742\ttotal: 553ms\tremaining: 830ms\n",
      "20:\tlearn: 2638.2115940\ttotal: 585ms\tremaining: 807ms\n",
      "21:\tlearn: 2592.1637736\ttotal: 611ms\tremaining: 778ms\n",
      "22:\tlearn: 2546.8911324\ttotal: 634ms\tremaining: 744ms\n",
      "23:\tlearn: 2502.9748223\ttotal: 666ms\tremaining: 721ms\n",
      "24:\tlearn: 2463.2012289\ttotal: 696ms\tremaining: 696ms\n",
      "25:\tlearn: 2425.8210145\ttotal: 720ms\tremaining: 665ms\n",
      "26:\tlearn: 2390.7972246\ttotal: 744ms\tremaining: 633ms\n",
      "27:\tlearn: 2356.7379696\ttotal: 776ms\tremaining: 610ms\n",
      "28:\tlearn: 2324.8610942\ttotal: 806ms\tremaining: 583ms\n",
      "29:\tlearn: 2295.8897285\ttotal: 836ms\tremaining: 557ms\n",
      "30:\tlearn: 2268.3049297\ttotal: 860ms\tremaining: 527ms\n",
      "31:\tlearn: 2242.1996111\ttotal: 884ms\tremaining: 497ms\n",
      "32:\tlearn: 2217.7217379\ttotal: 914ms\tremaining: 471ms\n",
      "33:\tlearn: 2194.9031849\ttotal: 938ms\tremaining: 441ms\n",
      "34:\tlearn: 2173.7929338\ttotal: 965ms\tremaining: 414ms\n",
      "35:\tlearn: 2154.9350502\ttotal: 984ms\tremaining: 383ms\n",
      "36:\tlearn: 2136.6213321\ttotal: 1.01s\tremaining: 353ms\n",
      "37:\tlearn: 2119.1318183\ttotal: 1.03s\tremaining: 327ms\n",
      "38:\tlearn: 2103.3153621\ttotal: 1.06s\tremaining: 298ms\n",
      "39:\tlearn: 2087.7052498\ttotal: 1.08s\tremaining: 271ms\n",
      "40:\tlearn: 2073.4797786\ttotal: 1.12s\tremaining: 245ms\n",
      "41:\tlearn: 2059.7796020\ttotal: 1.14s\tremaining: 218ms\n",
      "42:\tlearn: 2047.4154565\ttotal: 1.17s\tremaining: 190ms\n",
      "43:\tlearn: 2034.9681938\ttotal: 1.2s\tremaining: 163ms\n",
      "44:\tlearn: 2023.4002119\ttotal: 1.23s\tremaining: 136ms\n",
      "45:\tlearn: 2013.1105860\ttotal: 1.25s\tremaining: 108ms\n",
      "46:\tlearn: 2003.2827984\ttotal: 1.28s\tremaining: 81.5ms\n",
      "47:\tlearn: 1992.8260966\ttotal: 1.3s\tremaining: 54.2ms\n",
      "48:\tlearn: 1983.6355964\ttotal: 1.33s\tremaining: 27.2ms\n",
      "49:\tlearn: 1975.3107555\ttotal: 1.37s\tremaining: 0us\n",
      "0:\tlearn: 4732.4873581\ttotal: 32.6ms\tremaining: 3.23s\n",
      "1:\tlearn: 4698.4132330\ttotal: 73.6ms\tremaining: 3.61s\n",
      "2:\tlearn: 4664.7596738\ttotal: 101ms\tremaining: 3.25s\n",
      "3:\tlearn: 4631.7796530\ttotal: 134ms\tremaining: 3.21s\n",
      "4:\tlearn: 4598.8209128\ttotal: 169ms\tremaining: 3.22s\n",
      "5:\tlearn: 4566.2908498\ttotal: 201ms\tremaining: 3.15s\n",
      "6:\tlearn: 4534.2914169\ttotal: 232ms\tremaining: 3.09s\n",
      "7:\tlearn: 4502.3855672\ttotal: 268ms\tremaining: 3.08s\n",
      "8:\tlearn: 4470.6580248\ttotal: 295ms\tremaining: 2.99s\n",
      "9:\tlearn: 4439.2874606\ttotal: 328ms\tremaining: 2.96s\n",
      "10:\tlearn: 4408.2112023\ttotal: 377ms\tremaining: 3.05s\n",
      "11:\tlearn: 4377.7610645\ttotal: 408ms\tremaining: 2.99s\n",
      "12:\tlearn: 4347.7927495\ttotal: 445ms\tremaining: 2.98s\n",
      "13:\tlearn: 4318.0053361\ttotal: 475ms\tremaining: 2.92s\n",
      "14:\tlearn: 4288.0771818\ttotal: 502ms\tremaining: 2.84s\n",
      "15:\tlearn: 4259.0195859\ttotal: 529ms\tremaining: 2.78s\n",
      "16:\tlearn: 4230.2553924\ttotal: 561ms\tremaining: 2.74s\n",
      "17:\tlearn: 4201.9333734\ttotal: 592ms\tremaining: 2.7s\n",
      "18:\tlearn: 4173.8758417\ttotal: 622ms\tremaining: 2.65s\n",
      "19:\tlearn: 4146.3662036\ttotal: 647ms\tremaining: 2.59s\n",
      "20:\tlearn: 4119.1142061\ttotal: 680ms\tremaining: 2.56s\n",
      "21:\tlearn: 4091.7940977\ttotal: 712ms\tremaining: 2.52s\n",
      "22:\tlearn: 4064.9073598\ttotal: 739ms\tremaining: 2.47s\n",
      "23:\tlearn: 4038.6709414\ttotal: 765ms\tremaining: 2.42s\n",
      "24:\tlearn: 4012.3900190\ttotal: 792ms\tremaining: 2.37s\n",
      "25:\tlearn: 3986.7205932\ttotal: 819ms\tremaining: 2.33s\n",
      "26:\tlearn: 3961.0843676\ttotal: 855ms\tremaining: 2.31s\n",
      "27:\tlearn: 3935.7733862\ttotal: 879ms\tremaining: 2.26s\n",
      "28:\tlearn: 3910.5781207\ttotal: 905ms\tremaining: 2.21s\n",
      "29:\tlearn: 3885.5005883\ttotal: 939ms\tremaining: 2.19s\n",
      "30:\tlearn: 3861.0407605\ttotal: 970ms\tremaining: 2.16s\n",
      "31:\tlearn: 3836.9081874\ttotal: 994ms\tremaining: 2.11s\n",
      "32:\tlearn: 3812.9879037\ttotal: 1.03s\tremaining: 2.09s\n",
      "33:\tlearn: 3789.6134379\ttotal: 1.06s\tremaining: 2.07s\n",
      "34:\tlearn: 3766.1730384\ttotal: 1.09s\tremaining: 2.02s\n",
      "35:\tlearn: 3743.2739567\ttotal: 1.11s\tremaining: 1.98s\n",
      "36:\tlearn: 3720.1809369\ttotal: 1.14s\tremaining: 1.95s\n",
      "37:\tlearn: 3697.4761196\ttotal: 1.17s\tremaining: 1.92s\n",
      "38:\tlearn: 3675.2846036\ttotal: 1.2s\tremaining: 1.88s\n",
      "39:\tlearn: 3653.3142178\ttotal: 1.23s\tremaining: 1.85s\n",
      "40:\tlearn: 3631.7654589\ttotal: 1.25s\tremaining: 1.8s\n",
      "41:\tlearn: 3610.4135593\ttotal: 1.28s\tremaining: 1.77s\n",
      "42:\tlearn: 3589.2131053\ttotal: 1.33s\tremaining: 1.76s\n",
      "43:\tlearn: 3568.2699785\ttotal: 1.36s\tremaining: 1.73s\n",
      "44:\tlearn: 3547.2215650\ttotal: 1.39s\tremaining: 1.69s\n",
      "45:\tlearn: 3526.6615014\ttotal: 1.41s\tremaining: 1.66s\n",
      "46:\tlearn: 3506.2368938\ttotal: 1.45s\tremaining: 1.63s\n",
      "47:\tlearn: 3486.1866158\ttotal: 1.47s\tremaining: 1.6s\n",
      "48:\tlearn: 3466.3477648\ttotal: 1.5s\tremaining: 1.56s\n",
      "49:\tlearn: 3446.9136804\ttotal: 1.54s\tremaining: 1.54s\n",
      "50:\tlearn: 3427.5731831\ttotal: 1.57s\tremaining: 1.51s\n",
      "51:\tlearn: 3408.5798828\ttotal: 1.61s\tremaining: 1.49s\n",
      "52:\tlearn: 3389.9368316\ttotal: 1.64s\tremaining: 1.45s\n",
      "53:\tlearn: 3371.2627632\ttotal: 1.66s\tremaining: 1.42s\n",
      "54:\tlearn: 3352.7554155\ttotal: 1.69s\tremaining: 1.38s\n",
      "55:\tlearn: 3333.9468047\ttotal: 1.73s\tremaining: 1.36s\n",
      "56:\tlearn: 3316.1769186\ttotal: 1.75s\tremaining: 1.32s\n",
      "57:\tlearn: 3298.2956422\ttotal: 1.8s\tremaining: 1.3s\n",
      "58:\tlearn: 3280.5848920\ttotal: 1.82s\tremaining: 1.27s\n",
      "59:\tlearn: 3263.2311915\ttotal: 1.86s\tremaining: 1.24s\n",
      "60:\tlearn: 3246.0210200\ttotal: 1.9s\tremaining: 1.22s\n",
      "61:\tlearn: 3228.8783735\ttotal: 1.94s\tremaining: 1.19s\n",
      "62:\tlearn: 3212.2360284\ttotal: 1.96s\tremaining: 1.15s\n",
      "63:\tlearn: 3195.4911090\ttotal: 1.99s\tremaining: 1.12s\n",
      "64:\tlearn: 3179.0419914\ttotal: 2.02s\tremaining: 1.08s\n",
      "65:\tlearn: 3163.1524226\ttotal: 2.05s\tremaining: 1.06s\n",
      "66:\tlearn: 3147.3332337\ttotal: 2.08s\tremaining: 1.02s\n",
      "67:\tlearn: 3131.2958525\ttotal: 2.1s\tremaining: 991ms\n",
      "68:\tlearn: 3115.6397449\ttotal: 2.13s\tremaining: 958ms\n",
      "69:\tlearn: 3100.2752712\ttotal: 2.16s\tremaining: 926ms\n",
      "70:\tlearn: 3084.4601415\ttotal: 2.19s\tremaining: 894ms\n",
      "71:\tlearn: 3068.9581607\ttotal: 2.21s\tremaining: 861ms\n",
      "72:\tlearn: 3053.6938851\ttotal: 2.25s\tremaining: 831ms\n",
      "73:\tlearn: 3039.2598378\ttotal: 2.27s\tremaining: 798ms\n",
      "74:\tlearn: 3024.7085794\ttotal: 2.3s\tremaining: 768ms\n",
      "75:\tlearn: 3010.4518618\ttotal: 2.35s\tremaining: 742ms\n",
      "76:\tlearn: 2996.0551890\ttotal: 2.37s\tremaining: 708ms\n",
      "77:\tlearn: 2981.7242235\ttotal: 2.4s\tremaining: 677ms\n",
      "78:\tlearn: 2967.6728907\ttotal: 2.42s\tremaining: 644ms\n",
      "79:\tlearn: 2954.0538199\ttotal: 2.45s\tremaining: 613ms\n",
      "80:\tlearn: 2940.4021063\ttotal: 2.47s\tremaining: 580ms\n",
      "77:\tlearn: 1929.3188255\ttotal: 1.82s\tremaining: 513ms\n",
      "78:\tlearn: 1926.6487142\ttotal: 1.83s\tremaining: 487ms\n",
      "79:\tlearn: 1923.7577949\ttotal: 1.86s\tremaining: 464ms\n",
      "80:\tlearn: 1921.5536099\ttotal: 1.88s\tremaining: 441ms\n",
      "81:\tlearn: 1917.1544500\ttotal: 1.9s\tremaining: 417ms\n",
      "82:\tlearn: 1915.0751949\ttotal: 1.92s\tremaining: 392ms\n",
      "83:\tlearn: 1913.0400386\ttotal: 1.93s\tremaining: 368ms\n",
      "84:\tlearn: 1910.8722594\ttotal: 1.95s\tremaining: 344ms\n",
      "85:\tlearn: 1908.7106275\ttotal: 1.97s\tremaining: 320ms\n",
      "86:\tlearn: 1906.7335277\ttotal: 1.99s\tremaining: 297ms\n",
      "87:\tlearn: 1904.7498559\ttotal: 2.01s\tremaining: 274ms\n",
      "88:\tlearn: 1902.4170789\ttotal: 2.03s\tremaining: 251ms\n",
      "89:\tlearn: 1900.7366087\ttotal: 2.05s\tremaining: 228ms\n",
      "90:\tlearn: 1896.6955708\ttotal: 2.07s\tremaining: 205ms\n",
      "91:\tlearn: 1893.6601262\ttotal: 2.1s\tremaining: 183ms\n",
      "92:\tlearn: 1892.1402169\ttotal: 2.12s\tremaining: 159ms\n",
      "93:\tlearn: 1890.4430341\ttotal: 2.13s\tremaining: 136ms\n",
      "94:\tlearn: 1888.6977558\ttotal: 2.15s\tremaining: 113ms\n",
      "95:\tlearn: 1884.9514475\ttotal: 2.18s\tremaining: 90.7ms\n",
      "96:\tlearn: 1882.9807550\ttotal: 2.2s\tremaining: 67.9ms\n",
      "97:\tlearn: 1881.6282156\ttotal: 2.21s\tremaining: 45.2ms\n",
      "98:\tlearn: 1879.8160875\ttotal: 2.24s\tremaining: 22.6ms\n",
      "99:\tlearn: 1876.2128441\ttotal: 2.26s\tremaining: 0us\n",
      "0:\tlearn: 4727.2951290\ttotal: 33.7ms\tremaining: 977ms\n",
      "1:\tlearn: 4692.7369901\ttotal: 68.1ms\tremaining: 954ms\n",
      "2:\tlearn: 4659.2488820\ttotal: 106ms\tremaining: 956ms\n",
      "3:\tlearn: 4625.8906976\ttotal: 142ms\tremaining: 924ms\n",
      "4:\tlearn: 4592.5134101\ttotal: 169ms\tremaining: 846ms\n",
      "5:\tlearn: 4559.7072331\ttotal: 199ms\tremaining: 794ms\n",
      "6:\tlearn: 4527.6359996\ttotal: 225ms\tremaining: 741ms\n",
      "7:\tlearn: 4495.7298482\ttotal: 263ms\tremaining: 723ms\n",
      "8:\tlearn: 4464.6071903\ttotal: 293ms\tremaining: 683ms\n",
      "9:\tlearn: 4433.1662047\ttotal: 323ms\tremaining: 647ms\n",
      "10:\tlearn: 4401.9022814\ttotal: 354ms\tremaining: 611ms\n",
      "11:\tlearn: 4371.4853481\ttotal: 387ms\tremaining: 581ms\n",
      "12:\tlearn: 4341.4908480\ttotal: 420ms\tremaining: 550ms\n",
      "13:\tlearn: 4311.6089397\ttotal: 452ms\tremaining: 517ms\n",
      "14:\tlearn: 4281.9357564\ttotal: 489ms\tremaining: 489ms\n",
      "15:\tlearn: 4252.3588984\ttotal: 515ms\tremaining: 450ms\n",
      "16:\tlearn: 4223.6997639\ttotal: 548ms\tremaining: 419ms\n",
      "17:\tlearn: 4195.2250276\ttotal: 575ms\tremaining: 383ms\n",
      "18:\tlearn: 4166.7396963\ttotal: 608ms\tremaining: 352ms\n",
      "19:\tlearn: 4138.9618885\ttotal: 656ms\tremaining: 328ms\n",
      "20:\tlearn: 4111.6670593\ttotal: 681ms\tremaining: 292ms\n",
      "21:\tlearn: 4084.4956598\ttotal: 711ms\tremaining: 258ms\n",
      "22:\tlearn: 4057.8264827\ttotal: 740ms\tremaining: 225ms\n",
      "23:\tlearn: 4031.4174908\ttotal: 773ms\tremaining: 193ms\n",
      "24:\tlearn: 4005.4726876\ttotal: 797ms\tremaining: 159ms\n",
      "25:\tlearn: 3979.6659545\ttotal: 828ms\tremaining: 127ms\n",
      "26:\tlearn: 3954.0106449\ttotal: 858ms\tremaining: 95.3ms\n",
      "27:\tlearn: 3928.6320798\ttotal: 900ms\tremaining: 64.3ms\n",
      "28:\tlearn: 3903.5201157\ttotal: 953ms\tremaining: 32.8ms\n",
      "29:\tlearn: 3878.8138660\ttotal: 991ms\tremaining: 0us\n",
      "0:\tlearn: 4740.3960356\ttotal: 26.4ms\tremaining: 766ms\n",
      "1:\tlearn: 4706.0163857\ttotal: 61.1ms\tremaining: 855ms\n",
      "2:\tlearn: 4672.5233708\ttotal: 93.4ms\tremaining: 841ms\n",
      "3:\tlearn: 4638.7942738\ttotal: 131ms\tremaining: 852ms\n",
      "4:\tlearn: 4605.8531258\ttotal: 160ms\tremaining: 800ms\n",
      "5:\tlearn: 4572.9297716\ttotal: 190ms\tremaining: 761ms\n",
      "6:\tlearn: 4540.7349378\ttotal: 219ms\tremaining: 721ms\n",
      "7:\tlearn: 4508.6274126\ttotal: 245ms\tremaining: 673ms\n",
      "8:\tlearn: 4476.8013941\ttotal: 273ms\tremaining: 637ms\n",
      "9:\tlearn: 4445.2217214\ttotal: 295ms\tremaining: 591ms\n",
      "10:\tlearn: 4414.1436961\ttotal: 325ms\tremaining: 561ms\n",
      "11:\tlearn: 4383.5733737\ttotal: 357ms\tremaining: 536ms\n",
      "12:\tlearn: 4353.1567840\ttotal: 380ms\tremaining: 497ms\n",
      "13:\tlearn: 4323.0990952\ttotal: 411ms\tremaining: 469ms\n",
      "14:\tlearn: 4293.2562313\ttotal: 442ms\tremaining: 442ms\n",
      "15:\tlearn: 4263.8105404\ttotal: 462ms\tremaining: 404ms\n",
      "16:\tlearn: 4235.0206178\ttotal: 565ms\tremaining: 432ms\n",
      "17:\tlearn: 4206.1116905\ttotal: 594ms\tremaining: 396ms\n",
      "18:\tlearn: 4177.6980540\ttotal: 623ms\tremaining: 360ms\n",
      "19:\tlearn: 4149.9975684\ttotal: 651ms\tremaining: 325ms\n",
      "20:\tlearn: 4122.3182594\ttotal: 679ms\tremaining: 291ms\n",
      "21:\tlearn: 4095.1542605\ttotal: 718ms\tremaining: 261ms\n",
      "22:\tlearn: 4068.0617855\ttotal: 743ms\tremaining: 226ms\n",
      "23:\tlearn: 4041.5636154\ttotal: 767ms\tremaining: 192ms\n",
      "24:\tlearn: 4015.4413154\ttotal: 805ms\tremaining: 161ms\n",
      "25:\tlearn: 3989.0969639\ttotal: 839ms\tremaining: 129ms\n",
      "26:\tlearn: 3963.3027315\ttotal: 872ms\tremaining: 96.9ms\n",
      "27:\tlearn: 3937.6843094\ttotal: 907ms\tremaining: 64.8ms\n",
      "28:\tlearn: 3912.5786130\ttotal: 966ms\tremaining: 33.3ms\n",
      "29:\tlearn: 3887.7094769\ttotal: 999ms\tremaining: 0us\n",
      "0:\tlearn: 4589.3750671\ttotal: 27.4ms\tremaining: 794ms\n",
      "1:\tlearn: 4427.0123256\ttotal: 53.3ms\tremaining: 746ms\n",
      "2:\tlearn: 4273.4263830\ttotal: 76.5ms\tremaining: 689ms\n",
      "3:\tlearn: 4127.8855699\ttotal: 103ms\tremaining: 669ms\n",
      "4:\tlearn: 3990.7977444\ttotal: 130ms\tremaining: 648ms\n",
      "5:\tlearn: 3861.8546614\ttotal: 174ms\tremaining: 698ms\n",
      "6:\tlearn: 3741.5496653\ttotal: 201ms\tremaining: 661ms\n",
      "7:\tlearn: 3628.2214795\ttotal: 232ms\tremaining: 637ms\n",
      "8:\tlearn: 3521.5746218\ttotal: 284ms\tremaining: 663ms\n",
      "9:\tlearn: 3421.2758469\ttotal: 322ms\tremaining: 643ms\n",
      "10:\tlearn: 3326.0559056\ttotal: 350ms\tremaining: 604ms\n",
      "11:\tlearn: 3237.5942911\ttotal: 374ms\tremaining: 561ms\n",
      "12:\tlearn: 3153.5857629\ttotal: 407ms\tremaining: 532ms\n",
      "13:\tlearn: 3074.7316631\ttotal: 437ms\tremaining: 500ms\n",
      "14:\tlearn: 3000.1323401\ttotal: 476ms\tremaining: 476ms\n",
      "15:\tlearn: 2929.4274532\ttotal: 504ms\tremaining: 441ms\n",
      "16:\tlearn: 2865.2189252\ttotal: 532ms\tremaining: 407ms\n",
      "17:\tlearn: 2800.8000301\ttotal: 557ms\tremaining: 371ms\n",
      "18:\tlearn: 2742.0398711\ttotal: 585ms\tremaining: 338ms\n",
      "19:\tlearn: 2684.5437614\ttotal: 607ms\tremaining: 303ms\n",
      "20:\tlearn: 2633.8354615\ttotal: 632ms\tremaining: 271ms\n",
      "21:\tlearn: 2586.0915675\ttotal: 655ms\tremaining: 238ms\n",
      "22:\tlearn: 2540.4047426\ttotal: 678ms\tremaining: 206ms\n",
      "23:\tlearn: 2496.3497329\ttotal: 697ms\tremaining: 174ms\n",
      "24:\tlearn: 2455.8827648\ttotal: 725ms\tremaining: 145ms\n",
      "25:\tlearn: 2418.4494589\ttotal: 760ms\tremaining: 117ms\n",
      "26:\tlearn: 2383.3995149\ttotal: 785ms\tremaining: 87.2ms\n",
      "27:\tlearn: 2351.8897540\ttotal: 828ms\tremaining: 59.1ms\n",
      "28:\tlearn: 2320.1656668\ttotal: 873ms\tremaining: 30.1ms\n",
      "29:\tlearn: 2290.9668288\ttotal: 903ms\tremaining: 0us\n",
      "0:\tlearn: 4727.2951290\ttotal: 29.7ms\tremaining: 1.45s\n",
      "1:\tlearn: 4692.7369901\ttotal: 70.7ms\tremaining: 1.7s\n",
      "2:\tlearn: 4659.2488820\ttotal: 107ms\tremaining: 1.67s\n",
      "3:\tlearn: 4625.8906976\ttotal: 131ms\tremaining: 1.51s\n",
      "4:\tlearn: 4592.5134101\ttotal: 155ms\tremaining: 1.4s\n",
      "5:\tlearn: 4559.7072331\ttotal: 186ms\tremaining: 1.36s\n",
      "6:\tlearn: 4527.6359996\ttotal: 222ms\tremaining: 1.36s\n",
      "7:\tlearn: 4495.7298482\ttotal: 250ms\tremaining: 1.31s\n",
      "8:\tlearn: 4464.6071903\ttotal: 274ms\tremaining: 1.25s\n",
      "9:\tlearn: 4433.1662047\ttotal: 317ms\tremaining: 1.27s\n",
      "10:\tlearn: 4401.9022814\ttotal: 337ms\tremaining: 1.2s\n",
      "11:\tlearn: 4371.4853481\ttotal: 365ms\tremaining: 1.16s\n",
      "12:\tlearn: 4341.4908480\ttotal: 395ms\tremaining: 1.12s\n",
      "13:\tlearn: 4311.6089397\ttotal: 439ms\tremaining: 1.13s\n",
      "14:\tlearn: 4281.9357564\ttotal: 473ms\tremaining: 1.1s\n",
      "15:\tlearn: 4252.3588984\ttotal: 506ms\tremaining: 1.08s\n",
      "16:\tlearn: 4223.6997639\ttotal: 527ms\tremaining: 1.02s\n",
      "17:\tlearn: 4195.2250276\ttotal: 567ms\tremaining: 1.01s\n",
      "18:\tlearn: 4166.7396963\ttotal: 594ms\tremaining: 970ms\n",
      "19:\tlearn: 4138.9618885\ttotal: 629ms\tremaining: 944ms\n",
      "20:\tlearn: 4111.6670593\ttotal: 664ms\tremaining: 916ms\n",
      "21:\tlearn: 4084.4956598\ttotal: 694ms\tremaining: 883ms\n",
      "22:\tlearn: 4057.8264827\ttotal: 721ms\tremaining: 847ms\n",
      "23:\tlearn: 4031.4174908\ttotal: 750ms\tremaining: 812ms\n",
      "24:\tlearn: 4005.4726876\ttotal: 772ms\tremaining: 772ms\n",
      "25:\tlearn: 3979.6659545\ttotal: 798ms\tremaining: 737ms\n",
      "26:\tlearn: 3954.0106449\ttotal: 823ms\tremaining: 701ms\n",
      "27:\tlearn: 3928.6320798\ttotal: 847ms\tremaining: 665ms\n",
      "28:\tlearn: 3903.5201157\ttotal: 871ms\tremaining: 631ms\n",
      "29:\tlearn: 3878.8138660\ttotal: 918ms\tremaining: 612ms\n",
      "30:\tlearn: 3854.3609662\ttotal: 946ms\tremaining: 580ms\n",
      "31:\tlearn: 3830.1481097\ttotal: 970ms\tremaining: 545ms\n",
      "32:\tlearn: 3806.2426149\ttotal: 1s\tremaining: 515ms\n",
      "33:\tlearn: 3782.3762250\ttotal: 1.02s\tremaining: 480ms\n",
      "34:\tlearn: 3759.1568922\ttotal: 1.05s\tremaining: 450ms\n",
      "35:\tlearn: 3735.8590711\ttotal: 1.07s\tremaining: 416ms\n",
      "36:\tlearn: 3712.7837894\ttotal: 1.1s\tremaining: 385ms\n",
      "37:\tlearn: 3690.0999928\ttotal: 1.12s\tremaining: 355ms\n",
      "38:\tlearn: 3667.9861321\ttotal: 1.15s\tremaining: 324ms\n",
      "39:\tlearn: 3645.8309877\ttotal: 1.17s\tremaining: 293ms\n",
      "40:\tlearn: 3623.9164973\ttotal: 1.19s\tremaining: 262ms\n",
      "41:\tlearn: 3602.6246049\ttotal: 1.21s\tremaining: 231ms\n",
      "42:\tlearn: 3581.3579356\ttotal: 1.23s\tremaining: 201ms\n",
      "43:\tlearn: 3560.2806418\ttotal: 1.25s\tremaining: 171ms\n",
      "44:\tlearn: 3539.2265642\ttotal: 1.28s\tremaining: 142ms\n",
      "45:\tlearn: 3519.1207879\ttotal: 1.3s\tremaining: 113ms\n",
      "46:\tlearn: 3498.5949251\ttotal: 1.33s\tremaining: 84.7ms\n",
      "47:\tlearn: 3478.5980866\ttotal: 1.35s\tremaining: 56.4ms\n",
      "48:\tlearn: 3458.5960952\ttotal: 1.37s\tremaining: 28ms\n",
      "49:\tlearn: 3439.3621970\ttotal: 1.4s\tremaining: 0us\n",
      "0:\tlearn: 4589.3750671\ttotal: 21.4ms\tremaining: 1.05s\n",
      "1:\tlearn: 4427.0123256\ttotal: 40.1ms\tremaining: 962ms\n",
      "2:\tlearn: 4273.4263830\ttotal: 62.5ms\tremaining: 979ms\n",
      "3:\tlearn: 4127.8855699\ttotal: 85.3ms\tremaining: 981ms\n",
      "4:\tlearn: 3990.7977444\ttotal: 108ms\tremaining: 975ms\n",
      "5:\tlearn: 3861.8546614\ttotal: 145ms\tremaining: 1.06s\n",
      "6:\tlearn: 3741.5496653\ttotal: 165ms\tremaining: 1.01s\n",
      "7:\tlearn: 3628.2214795\ttotal: 193ms\tremaining: 1.01s\n",
      "8:\tlearn: 3521.5746218\ttotal: 215ms\tremaining: 978ms\n",
      "9:\tlearn: 3421.2758469\ttotal: 232ms\tremaining: 929ms\n",
      "10:\tlearn: 3326.0559056\ttotal: 253ms\tremaining: 897ms\n",
      "11:\tlearn: 3237.5942911\ttotal: 281ms\tremaining: 889ms\n",
      "12:\tlearn: 3153.5857629\ttotal: 307ms\tremaining: 873ms\n",
      "13:\tlearn: 3074.7316631\ttotal: 327ms\tremaining: 841ms\n",
      "14:\tlearn: 3000.1323401\ttotal: 348ms\tremaining: 812ms\n",
      "15:\tlearn: 2929.4274532\ttotal: 368ms\tremaining: 782ms\n",
      "16:\tlearn: 2865.2189252\ttotal: 388ms\tremaining: 754ms\n",
      "17:\tlearn: 2800.8000301\ttotal: 409ms\tremaining: 727ms\n",
      "18:\tlearn: 2742.0398711\ttotal: 431ms\tremaining: 703ms\n",
      "19:\tlearn: 2684.5437614\ttotal: 451ms\tremaining: 677ms\n",
      "20:\tlearn: 2633.8354615\ttotal: 469ms\tremaining: 647ms\n",
      "21:\tlearn: 2586.0915675\ttotal: 490ms\tremaining: 624ms\n",
      "22:\tlearn: 2540.4047426\ttotal: 531ms\tremaining: 623ms\n",
      "23:\tlearn: 2496.3497329\ttotal: 553ms\tremaining: 599ms\n",
      "24:\tlearn: 2455.8827648\ttotal: 573ms\tremaining: 573ms\n",
      "25:\tlearn: 2418.4494589\ttotal: 596ms\tremaining: 550ms\n",
      "26:\tlearn: 2383.3995149\ttotal: 613ms\tremaining: 522ms\n",
      "27:\tlearn: 2351.8897540\ttotal: 642ms\tremaining: 505ms\n",
      "28:\tlearn: 2320.1656668\ttotal: 673ms\tremaining: 487ms\n",
      "29:\tlearn: 2290.9668288\ttotal: 696ms\tremaining: 464ms\n",
      "30:\tlearn: 2263.9465283\ttotal: 723ms\tremaining: 443ms\n",
      "31:\tlearn: 2237.9800989\ttotal: 747ms\tremaining: 420ms\n",
      "32:\tlearn: 2214.0973562\ttotal: 783ms\tremaining: 403ms\n",
      "33:\tlearn: 2191.2937784\ttotal: 804ms\tremaining: 378ms\n",
      "34:\tlearn: 2169.7886873\ttotal: 832ms\tremaining: 357ms\n",
      "35:\tlearn: 2150.8410099\ttotal: 863ms\tremaining: 336ms\n",
      "36:\tlearn: 2132.8621958\ttotal: 895ms\tremaining: 315ms\n",
      "37:\tlearn: 2115.8296602\ttotal: 919ms\tremaining: 290ms\n",
      "38:\tlearn: 2100.0247817\ttotal: 943ms\tremaining: 266ms\n",
      "39:\tlearn: 2085.0060988\ttotal: 969ms\tremaining: 242ms\n",
      "40:\tlearn: 2070.8607573\ttotal: 993ms\tremaining: 218ms\n",
      "41:\tlearn: 2057.6754549\ttotal: 1.02s\tremaining: 195ms\n",
      "42:\tlearn: 2045.3717682\ttotal: 1.06s\tremaining: 173ms\n",
      "43:\tlearn: 2034.4802610\ttotal: 1.09s\tremaining: 149ms\n",
      "44:\tlearn: 2022.9475016\ttotal: 1.13s\tremaining: 126ms\n",
      "45:\tlearn: 2013.1040823\ttotal: 1.16s\tremaining: 101ms\n",
      "46:\tlearn: 2002.7172553\ttotal: 1.2s\tremaining: 76.5ms\n",
      "47:\tlearn: 1992.8181622\ttotal: 1.22s\tremaining: 51ms\n",
      "48:\tlearn: 1984.0728664\ttotal: 1.25s\tremaining: 25.5ms\n",
      "49:\tlearn: 1975.4764263\ttotal: 1.27s\tremaining: 0us\n",
      "0:\tlearn: 4727.2951290\ttotal: 26.6ms\tremaining: 2.63s\n",
      "1:\tlearn: 4692.7369901\ttotal: 64ms\tremaining: 3.14s\n",
      "2:\tlearn: 4659.2488820\ttotal: 93.5ms\tremaining: 3.02s\n",
      "3:\tlearn: 4625.8906976\ttotal: 116ms\tremaining: 2.79s\n",
      "4:\tlearn: 4592.5134101\ttotal: 152ms\tremaining: 2.88s\n",
      "5:\tlearn: 4559.7072331\ttotal: 174ms\tremaining: 2.72s\n",
      "6:\tlearn: 4527.6359996\ttotal: 202ms\tremaining: 2.69s\n",
      "7:\tlearn: 4495.7298482\ttotal: 232ms\tremaining: 2.67s\n",
      "8:\tlearn: 4464.6071903\ttotal: 256ms\tremaining: 2.59s\n",
      "9:\tlearn: 4433.1662047\ttotal: 281ms\tremaining: 2.53s\n",
      "10:\tlearn: 4401.9022814\ttotal: 310ms\tremaining: 2.51s\n",
      "11:\tlearn: 4371.4853481\ttotal: 339ms\tremaining: 2.49s\n",
      "12:\tlearn: 4341.4908480\ttotal: 371ms\tremaining: 2.48s\n",
      "13:\tlearn: 4311.6089397\ttotal: 403ms\tremaining: 2.47s\n",
      "14:\tlearn: 4281.9357564\ttotal: 436ms\tremaining: 2.47s\n",
      "15:\tlearn: 4252.3588984\ttotal: 472ms\tremaining: 2.48s\n",
      "16:\tlearn: 4223.6997639\ttotal: 500ms\tremaining: 2.44s\n",
      "17:\tlearn: 4195.2250276\ttotal: 526ms\tremaining: 2.4s\n",
      "18:\tlearn: 4166.7396963\ttotal: 561ms\tremaining: 2.39s\n",
      "19:\tlearn: 4138.9618885\ttotal: 601ms\tremaining: 2.4s\n",
      "20:\tlearn: 4111.6670593\ttotal: 628ms\tremaining: 2.36s\n",
      "21:\tlearn: 4084.4956598\ttotal: 649ms\tremaining: 2.3s\n",
      "22:\tlearn: 4057.8264827\ttotal: 682ms\tremaining: 2.28s\n",
      "23:\tlearn: 4031.4174908\ttotal: 709ms\tremaining: 2.25s\n",
      "24:\tlearn: 4005.4726876\ttotal: 766ms\tremaining: 2.3s\n",
      "25:\tlearn: 3979.6659545\ttotal: 799ms\tremaining: 2.27s\n",
      "26:\tlearn: 3954.0106449\ttotal: 836ms\tremaining: 2.26s\n",
      "27:\tlearn: 3928.6320798\ttotal: 874ms\tremaining: 2.25s\n",
      "28:\tlearn: 3903.5201157\ttotal: 899ms\tremaining: 2.2s\n",
      "29:\tlearn: 3878.8138660\ttotal: 934ms\tremaining: 2.18s\n",
      "30:\tlearn: 3854.3609662\ttotal: 977ms\tremaining: 2.17s\n",
      "31:\tlearn: 3830.1481097\ttotal: 1s\tremaining: 2.13s\n",
      "32:\tlearn: 3806.2426149\ttotal: 1.02s\tremaining: 2.08s\n",
      "33:\tlearn: 3782.3762250\ttotal: 1.06s\tremaining: 2.06s\n",
      "34:\tlearn: 3759.1568922\ttotal: 1.1s\tremaining: 2.04s\n",
      "35:\tlearn: 3735.8590711\ttotal: 1.12s\tremaining: 2s\n",
      "36:\tlearn: 3712.7837894\ttotal: 1.15s\tremaining: 1.96s\n",
      "37:\tlearn: 3690.0999928\ttotal: 1.18s\tremaining: 1.93s\n",
      "38:\tlearn: 3667.9861321\ttotal: 1.21s\tremaining: 1.89s\n",
      "39:\tlearn: 3645.8309877\ttotal: 1.23s\tremaining: 1.85s\n",
      "40:\tlearn: 3623.9164973\ttotal: 1.26s\tremaining: 1.81s\n",
      "41:\tlearn: 3602.6246049\ttotal: 1.29s\tremaining: 1.78s\n",
      "42:\tlearn: 3581.3579356\ttotal: 1.32s\tremaining: 1.76s\n",
      "43:\tlearn: 3560.2806418\ttotal: 1.35s\tremaining: 1.71s\n",
      "44:\tlearn: 3539.2265642\ttotal: 1.39s\tremaining: 1.69s\n",
      "45:\tlearn: 3519.1207879\ttotal: 1.41s\tremaining: 1.66s\n",
      "46:\tlearn: 3498.5949251\ttotal: 1.44s\tremaining: 1.63s\n",
      "47:\tlearn: 3478.5980866\ttotal: 1.47s\tremaining: 1.59s\n",
      "48:\tlearn: 3458.5960952\ttotal: 1.5s\tremaining: 1.56s\n",
      "49:\tlearn: 3439.3621970\ttotal: 1.53s\tremaining: 1.53s\n",
      "50:\tlearn: 3420.0594084\ttotal: 1.56s\tremaining: 1.5s\n",
      "51:\tlearn: 3400.9317453\ttotal: 1.58s\tremaining: 1.46s\n",
      "52:\tlearn: 3382.0595851\ttotal: 1.6s\tremaining: 1.42s\n",
      "53:\tlearn: 3363.2513648\ttotal: 1.64s\tremaining: 1.39s\n",
      "54:\tlearn: 3344.6917421\ttotal: 1.67s\tremaining: 1.36s\n",
      "55:\tlearn: 3326.4329225\ttotal: 1.7s\tremaining: 1.33s\n",
      "56:\tlearn: 3308.4761097\ttotal: 1.73s\tremaining: 1.3s\n",
      "57:\tlearn: 3291.0384290\ttotal: 1.75s\tremaining: 1.26s\n",
      "58:\tlearn: 3273.3609467\ttotal: 1.78s\tremaining: 1.24s\n",
      "59:\tlearn: 3255.6061288\ttotal: 1.81s\tremaining: 1.21s\n",
      "60:\tlearn: 3238.1124894\ttotal: 1.84s\tremaining: 1.18s\n",
      "61:\tlearn: 3221.4434301\ttotal: 1.88s\tremaining: 1.15s\n",
      "62:\tlearn: 3204.6757977\ttotal: 1.93s\tremaining: 1.13s\n",
      "63:\tlearn: 3188.2100160\ttotal: 1.95s\tremaining: 1.1s\n",
      "64:\tlearn: 3171.8971859\ttotal: 1.98s\tremaining: 1.06s\n",
      "65:\tlearn: 3155.5661876\ttotal: 2.01s\tremaining: 1.03s\n",
      "66:\tlearn: 3139.3273321\ttotal: 2.03s\tremaining: 1000ms\n",
      "67:\tlearn: 3123.6308950\ttotal: 2.06s\tremaining: 967ms\n",
      "68:\tlearn: 3107.8604219\ttotal: 2.09s\tremaining: 938ms\n",
      "69:\tlearn: 3092.1293803\ttotal: 2.11s\tremaining: 905ms\n",
      "70:\tlearn: 3076.4119672\ttotal: 2.14s\tremaining: 876ms\n",
      "71:\tlearn: 3061.5444003\ttotal: 2.19s\tremaining: 850ms\n",
      "72:\tlearn: 3046.2952487\ttotal: 2.22s\tremaining: 821ms\n",
      "73:\tlearn: 3031.2485584\ttotal: 2.26s\tremaining: 794ms\n",
      "74:\tlearn: 3016.7073247\ttotal: 2.3s\tremaining: 767ms\n",
      "75:\tlearn: 3002.1884382\ttotal: 2.33s\tremaining: 735ms\n",
      "76:\tlearn: 2987.7950226\ttotal: 2.35s\tremaining: 701ms\n",
      "77:\tlearn: 2973.4888572\ttotal: 2.38s\tremaining: 670ms\n",
      "78:\tlearn: 2959.5284054\ttotal: 2.4s\tremaining: 638ms\n",
      "79:\tlearn: 2945.5583755\ttotal: 2.42s\tremaining: 606ms\n",
      "80:\tlearn: 2932.0542742\ttotal: 2.45s\tremaining: 574ms\n",
      "81:\tlearn: 2918.7205834\ttotal: 2.47s\tremaining: 543ms\n",
      "82:\tlearn: 2905.6838843\ttotal: 2.49s\tremaining: 511ms\n",
      "83:\tlearn: 2892.6181303\ttotal: 2.52s\tremaining: 480ms\n",
      "84:\tlearn: 2879.8123929\ttotal: 2.54s\tremaining: 449ms\n",
      "85:\tlearn: 2867.0041742\ttotal: 2.57s\tremaining: 418ms\n",
      "86:\tlearn: 2853.9547930\ttotal: 2.59s\tremaining: 386ms\n",
      "87:\tlearn: 2841.0874165\ttotal: 2.61s\tremaining: 356ms\n",
      "88:\tlearn: 2828.6843076\ttotal: 2.63s\tremaining: 326ms\n",
      "89:\tlearn: 2816.6352690\ttotal: 2.67s\tremaining: 296ms\n",
      "90:\tlearn: 2804.1941702\ttotal: 2.69s\tremaining: 266ms\n",
      "96:\tlearn: 2845.9578120\ttotal: 2.33s\tremaining: 72.2ms\n",
      "97:\tlearn: 2835.7039436\ttotal: 2.36s\tremaining: 48.1ms\n",
      "98:\tlearn: 2825.3247247\ttotal: 2.38s\tremaining: 24.1ms\n",
      "99:\tlearn: 2815.3181821\ttotal: 2.4s\tremaining: 0us\n",
      "0:\tlearn: 4608.5592913\ttotal: 19.9ms\tremaining: 1.97s\n",
      "1:\tlearn: 4454.3155684\ttotal: 37.3ms\tremaining: 1.83s\n",
      "2:\tlearn: 4310.6899360\ttotal: 62.5ms\tremaining: 2.02s\n",
      "3:\tlearn: 4175.7573594\ttotal: 102ms\tremaining: 2.45s\n",
      "4:\tlearn: 4046.5370787\ttotal: 122ms\tremaining: 2.32s\n",
      "5:\tlearn: 3924.8516022\ttotal: 143ms\tremaining: 2.24s\n",
      "6:\tlearn: 3809.5323906\ttotal: 178ms\tremaining: 2.37s\n",
      "7:\tlearn: 3701.1832669\ttotal: 210ms\tremaining: 2.42s\n",
      "8:\tlearn: 3599.6266848\ttotal: 236ms\tremaining: 2.38s\n",
      "9:\tlearn: 3504.4832395\ttotal: 258ms\tremaining: 2.32s\n",
      "10:\tlearn: 3412.1479653\ttotal: 275ms\tremaining: 2.22s\n",
      "11:\tlearn: 3324.3502833\ttotal: 298ms\tremaining: 2.19s\n",
      "12:\tlearn: 3241.3262058\ttotal: 324ms\tremaining: 2.17s\n",
      "13:\tlearn: 3165.9753452\ttotal: 346ms\tremaining: 2.12s\n",
      "14:\tlearn: 3094.6306081\ttotal: 366ms\tremaining: 2.07s\n",
      "15:\tlearn: 3027.3311963\ttotal: 392ms\tremaining: 2.06s\n",
      "16:\tlearn: 2962.0366463\ttotal: 416ms\tremaining: 2.03s\n",
      "17:\tlearn: 2900.4699439\ttotal: 434ms\tremaining: 1.98s\n",
      "18:\tlearn: 2843.7222980\ttotal: 459ms\tremaining: 1.96s\n",
      "19:\tlearn: 2793.1518221\ttotal: 476ms\tremaining: 1.9s\n",
      "20:\tlearn: 2743.3582627\ttotal: 496ms\tremaining: 1.86s\n",
      "21:\tlearn: 2697.4001082\ttotal: 521ms\tremaining: 1.85s\n",
      "22:\tlearn: 2651.6425013\ttotal: 548ms\tremaining: 1.83s\n",
      "23:\tlearn: 2609.7943117\ttotal: 568ms\tremaining: 1.8s\n",
      "24:\tlearn: 2569.6821184\ttotal: 587ms\tremaining: 1.76s\n",
      "25:\tlearn: 2532.7404819\ttotal: 617ms\tremaining: 1.76s\n",
      "26:\tlearn: 2497.9073943\ttotal: 635ms\tremaining: 1.72s\n",
      "27:\tlearn: 2465.1092404\ttotal: 653ms\tremaining: 1.68s\n",
      "28:\tlearn: 2433.2331594\ttotal: 683ms\tremaining: 1.67s\n",
      "29:\tlearn: 2404.4819712\ttotal: 715ms\tremaining: 1.67s\n",
      "30:\tlearn: 2376.4179796\ttotal: 739ms\tremaining: 1.64s\n",
      "31:\tlearn: 2349.2442389\ttotal: 758ms\tremaining: 1.61s\n",
      "32:\tlearn: 2324.1783220\ttotal: 780ms\tremaining: 1.58s\n",
      "33:\tlearn: 2301.6581989\ttotal: 797ms\tremaining: 1.55s\n",
      "34:\tlearn: 2280.5230975\ttotal: 822ms\tremaining: 1.53s\n",
      "35:\tlearn: 2259.6780360\ttotal: 857ms\tremaining: 1.52s\n",
      "36:\tlearn: 2239.6890570\ttotal: 875ms\tremaining: 1.49s\n",
      "37:\tlearn: 2221.2726577\ttotal: 900ms\tremaining: 1.47s\n",
      "38:\tlearn: 2204.1517754\ttotal: 931ms\tremaining: 1.46s\n",
      "39:\tlearn: 2187.6194623\ttotal: 958ms\tremaining: 1.44s\n",
      "40:\tlearn: 2172.1000851\ttotal: 986ms\tremaining: 1.42s\n",
      "41:\tlearn: 2157.4885501\ttotal: 1.01s\tremaining: 1.39s\n",
      "42:\tlearn: 2144.1981226\ttotal: 1.03s\tremaining: 1.36s\n",
      "43:\tlearn: 2131.4291092\ttotal: 1.05s\tremaining: 1.33s\n",
      "44:\tlearn: 2118.4758384\ttotal: 1.07s\tremaining: 1.31s\n",
      "45:\tlearn: 2106.8345812\ttotal: 1.1s\tremaining: 1.29s\n",
      "46:\tlearn: 2095.3626384\ttotal: 1.13s\tremaining: 1.27s\n",
      "47:\tlearn: 2084.3972026\ttotal: 1.14s\tremaining: 1.24s\n",
      "48:\tlearn: 2074.6192881\ttotal: 1.17s\tremaining: 1.22s\n",
      "49:\tlearn: 2064.7476459\ttotal: 1.19s\tremaining: 1.19s\n",
      "50:\tlearn: 2055.9944873\ttotal: 1.22s\tremaining: 1.17s\n",
      "51:\tlearn: 2046.5369474\ttotal: 1.25s\tremaining: 1.15s\n",
      "52:\tlearn: 2038.4167533\ttotal: 1.27s\tremaining: 1.12s\n",
      "53:\tlearn: 2031.1850801\ttotal: 1.29s\tremaining: 1.09s\n",
      "54:\tlearn: 2024.0164451\ttotal: 1.31s\tremaining: 1.08s\n",
      "55:\tlearn: 2017.0120315\ttotal: 1.34s\tremaining: 1.05s\n",
      "56:\tlearn: 2010.3149324\ttotal: 1.35s\tremaining: 1.02s\n",
      "57:\tlearn: 2004.3849935\ttotal: 1.37s\tremaining: 994ms\n",
      "58:\tlearn: 1997.0333985\ttotal: 1.4s\tremaining: 971ms\n",
      "59:\tlearn: 1991.0493179\ttotal: 1.42s\tremaining: 947ms\n",
      "60:\tlearn: 1984.9633193\ttotal: 1.45s\tremaining: 925ms\n",
      "61:\tlearn: 1979.9432667\ttotal: 1.47s\tremaining: 901ms\n",
      "62:\tlearn: 1974.4617735\ttotal: 1.49s\tremaining: 874ms\n",
      "63:\tlearn: 1969.1295548\ttotal: 1.51s\tremaining: 847ms\n",
      "64:\tlearn: 1964.4543154\ttotal: 1.52s\tremaining: 820ms\n",
      "65:\tlearn: 1960.0655403\ttotal: 1.54s\tremaining: 793ms\n",
      "66:\tlearn: 1955.5907518\ttotal: 1.56s\tremaining: 771ms\n",
      "67:\tlearn: 1951.6343616\ttotal: 1.58s\tremaining: 746ms\n",
      "68:\tlearn: 1948.2650782\ttotal: 1.6s\tremaining: 720ms\n",
      "69:\tlearn: 1944.0585311\ttotal: 1.63s\tremaining: 697ms\n",
      "70:\tlearn: 1940.4629220\ttotal: 1.64s\tremaining: 670ms\n",
      "71:\tlearn: 1936.6994365\ttotal: 1.66s\tremaining: 647ms\n",
      "72:\tlearn: 1933.1439293\ttotal: 1.68s\tremaining: 622ms\n",
      "73:\tlearn: 1929.7567802\ttotal: 1.7s\tremaining: 598ms\n",
      "74:\tlearn: 1926.7444147\ttotal: 1.72s\tremaining: 573ms\n",
      "75:\tlearn: 1924.2111397\ttotal: 1.74s\tremaining: 548ms\n",
      "76:\tlearn: 1921.0434029\ttotal: 1.76s\tremaining: 525ms\n",
      "77:\tlearn: 1918.4172570\ttotal: 1.78s\tremaining: 503ms\n",
      "78:\tlearn: 1914.1047286\ttotal: 1.82s\tremaining: 483ms\n",
      "79:\tlearn: 1911.6527562\ttotal: 1.84s\tremaining: 461ms\n",
      "80:\tlearn: 1909.4647767\ttotal: 1.86s\tremaining: 437ms\n",
      "81:\tlearn: 1905.2934806\ttotal: 1.88s\tremaining: 413ms\n",
      "82:\tlearn: 1902.7522019\ttotal: 1.91s\tremaining: 390ms\n",
      "83:\tlearn: 1899.8297734\ttotal: 1.93s\tremaining: 367ms\n",
      "84:\tlearn: 1896.9265727\ttotal: 1.96s\tremaining: 345ms\n",
      "85:\tlearn: 1894.7300942\ttotal: 1.98s\tremaining: 323ms\n",
      "86:\tlearn: 1891.0020529\ttotal: 2.01s\tremaining: 301ms\n",
      "87:\tlearn: 1888.9956298\ttotal: 2.03s\tremaining: 277ms\n",
      "88:\tlearn: 1886.4240885\ttotal: 2.07s\tremaining: 255ms\n",
      "89:\tlearn: 1884.6832644\ttotal: 2.1s\tremaining: 233ms\n",
      "90:\tlearn: 1882.6908153\ttotal: 2.12s\tremaining: 209ms\n",
      "91:\tlearn: 1880.9420791\ttotal: 2.13s\tremaining: 186ms\n",
      "92:\tlearn: 1877.6466991\ttotal: 2.17s\tremaining: 163ms\n",
      "93:\tlearn: 1876.0269717\ttotal: 2.2s\tremaining: 140ms\n",
      "94:\tlearn: 1874.3669227\ttotal: 2.22s\tremaining: 117ms\n",
      "95:\tlearn: 1872.3121696\ttotal: 2.23s\tremaining: 93.1ms\n",
      "96:\tlearn: 1870.1146431\ttotal: 2.26s\tremaining: 69.9ms\n",
      "97:\tlearn: 1868.1332856\ttotal: 2.28s\tremaining: 46.6ms\n",
      "98:\tlearn: 1865.0943041\ttotal: 2.31s\tremaining: 23.4ms\n",
      "99:\tlearn: 1861.8627853\ttotal: 2.33s\tremaining: 0us\n",
      "0:\tlearn: 4726.6048107\ttotal: 29.4ms\tremaining: 854ms\n",
      "1:\tlearn: 4692.2841032\ttotal: 120ms\tremaining: 1.68s\n",
      "2:\tlearn: 4658.4193605\ttotal: 141ms\tremaining: 1.27s\n",
      "3:\tlearn: 4624.7256811\ttotal: 170ms\tremaining: 1.1s\n",
      "4:\tlearn: 4591.4283552\ttotal: 204ms\tremaining: 1.02s\n",
      "5:\tlearn: 4558.9966911\ttotal: 238ms\tremaining: 952ms\n",
      "6:\tlearn: 4527.0492363\ttotal: 264ms\tremaining: 869ms\n",
      "7:\tlearn: 4495.0180612\ttotal: 292ms\tremaining: 802ms\n",
      "8:\tlearn: 4463.1972002\ttotal: 319ms\tremaining: 745ms\n",
      "9:\tlearn: 4432.2667877\ttotal: 349ms\tremaining: 699ms\n",
      "10:\tlearn: 4401.5691027\ttotal: 372ms\tremaining: 643ms\n",
      "11:\tlearn: 4370.9621615\ttotal: 400ms\tremaining: 599ms\n",
      "12:\tlearn: 4340.9495402\ttotal: 435ms\tremaining: 569ms\n",
      "13:\tlearn: 4311.0888371\ttotal: 462ms\tremaining: 529ms\n",
      "14:\tlearn: 4281.0819978\ttotal: 524ms\tremaining: 524ms\n",
      "15:\tlearn: 4251.9350052\ttotal: 549ms\tremaining: 481ms\n",
      "16:\tlearn: 4223.1549046\ttotal: 578ms\tremaining: 442ms\n",
      "17:\tlearn: 4194.6791049\ttotal: 603ms\tremaining: 402ms\n",
      "18:\tlearn: 4166.2526979\ttotal: 646ms\tremaining: 374ms\n",
      "19:\tlearn: 4138.7189990\ttotal: 676ms\tremaining: 338ms\n",
      "20:\tlearn: 4111.0360396\ttotal: 701ms\tremaining: 300ms\n",
      "21:\tlearn: 4084.1443099\ttotal: 732ms\tremaining: 266ms\n",
      "22:\tlearn: 4057.6743365\ttotal: 761ms\tremaining: 232ms\n",
      "23:\tlearn: 4031.1522772\ttotal: 804ms\tremaining: 201ms\n",
      "24:\tlearn: 4004.7580664\ttotal: 834ms\tremaining: 167ms\n",
      "25:\tlearn: 3978.9576043\ttotal: 854ms\tremaining: 131ms\n",
      "26:\tlearn: 3953.1858440\ttotal: 875ms\tremaining: 97.3ms\n",
      "27:\tlearn: 3927.8955060\ttotal: 897ms\tremaining: 64ms\n",
      "28:\tlearn: 3902.7160708\ttotal: 935ms\tremaining: 32.3ms\n",
      "29:\tlearn: 3878.0105576\ttotal: 974ms\tremaining: 0us\n",
      "0:\tlearn: 4432.8166071\ttotal: 26.2ms\tremaining: 760ms\n",
      "1:\tlearn: 4125.7432666\ttotal: 57.3ms\tremaining: 802ms\n",
      "2:\tlearn: 3862.4196362\ttotal: 84.6ms\tremaining: 762ms\n",
      "3:\tlearn: 3623.8707973\ttotal: 111ms\tremaining: 724ms\n",
      "4:\tlearn: 3410.9642138\ttotal: 139ms\tremaining: 696ms\n",
      "5:\tlearn: 3225.8681513\ttotal: 176ms\tremaining: 703ms\n",
      "6:\tlearn: 3063.1425457\ttotal: 210ms\tremaining: 690ms\n",
      "7:\tlearn: 2916.8764864\ttotal: 244ms\tremaining: 671ms\n",
      "8:\tlearn: 2790.2379543\ttotal: 275ms\tremaining: 642ms\n",
      "9:\tlearn: 2676.2409073\ttotal: 296ms\tremaining: 592ms\n",
      "10:\tlearn: 2576.2562898\ttotal: 324ms\tremaining: 559ms\n",
      "11:\tlearn: 2489.2529893\ttotal: 346ms\tremaining: 519ms\n",
      "12:\tlearn: 2413.4548589\ttotal: 372ms\tremaining: 486ms\n",
      "13:\tlearn: 2343.0515779\ttotal: 401ms\tremaining: 458ms\n",
      "14:\tlearn: 2285.9867769\ttotal: 435ms\tremaining: 435ms\n",
      "15:\tlearn: 2233.3921911\ttotal: 457ms\tremaining: 400ms\n",
      "16:\tlearn: 2189.8264767\ttotal: 484ms\tremaining: 370ms\n",
      "17:\tlearn: 2149.9344352\ttotal: 531ms\tremaining: 354ms\n",
      "18:\tlearn: 2115.0194570\ttotal: 560ms\tremaining: 324ms\n",
      "19:\tlearn: 2085.1554129\ttotal: 590ms\tremaining: 295ms\n",
      "20:\tlearn: 2058.6769997\ttotal: 623ms\tremaining: 267ms\n",
      "21:\tlearn: 2034.5889142\ttotal: 654ms\tremaining: 238ms\n",
      "22:\tlearn: 2014.1253328\ttotal: 684ms\tremaining: 208ms\n",
      "23:\tlearn: 1992.9388221\ttotal: 714ms\tremaining: 178ms\n",
      "24:\tlearn: 1972.3775399\ttotal: 739ms\tremaining: 148ms\n",
      "25:\tlearn: 1957.7426197\ttotal: 769ms\tremaining: 118ms\n",
      "26:\tlearn: 1944.5869792\ttotal: 796ms\tremaining: 88.4ms\n",
      "27:\tlearn: 1928.4422212\ttotal: 830ms\tremaining: 59.3ms\n",
      "28:\tlearn: 1917.7397179\ttotal: 884ms\tremaining: 30.5ms\n",
      "29:\tlearn: 1907.1397858\ttotal: 919ms\tremaining: 0us\n",
      "0:\tlearn: 4738.8672773\ttotal: 41.9ms\tremaining: 2.05s\n",
      "1:\tlearn: 4704.5226367\ttotal: 84ms\tremaining: 2.02s\n",
      "2:\tlearn: 4670.9162387\ttotal: 116ms\tremaining: 1.82s\n",
      "3:\tlearn: 4636.9493646\ttotal: 152ms\tremaining: 1.75s\n",
      "4:\tlearn: 4603.6894212\ttotal: 190ms\tremaining: 1.71s\n",
      "5:\tlearn: 4571.1730980\ttotal: 234ms\tremaining: 1.71s\n",
      "6:\tlearn: 4538.7170504\ttotal: 295ms\tremaining: 1.81s\n",
      "7:\tlearn: 4506.2360430\ttotal: 346ms\tremaining: 1.82s\n",
      "8:\tlearn: 4474.6671650\ttotal: 397ms\tremaining: 1.81s\n",
      "9:\tlearn: 4443.1923431\ttotal: 463ms\tremaining: 1.85s\n",
      "10:\tlearn: 4412.0637487\ttotal: 497ms\tremaining: 1.76s\n",
      "11:\tlearn: 4381.4667725\ttotal: 556ms\tremaining: 1.76s\n",
      "12:\tlearn: 4350.9015482\ttotal: 603ms\tremaining: 1.72s\n",
      "13:\tlearn: 4320.9865945\ttotal: 645ms\tremaining: 1.66s\n",
      "14:\tlearn: 4291.0502414\ttotal: 696ms\tremaining: 1.62s\n",
      "15:\tlearn: 4261.7197593\ttotal: 738ms\tremaining: 1.57s\n",
      "16:\tlearn: 4233.2577609\ttotal: 790ms\tremaining: 1.53s\n",
      "17:\tlearn: 4204.2600205\ttotal: 831ms\tremaining: 1.48s\n",
      "18:\tlearn: 4175.9400898\ttotal: 887ms\tremaining: 1.45s\n",
      "19:\tlearn: 4148.0300985\ttotal: 937ms\tremaining: 1.41s\n",
      "20:\tlearn: 4120.3965556\ttotal: 983ms\tremaining: 1.36s\n",
      "21:\tlearn: 4093.0173625\ttotal: 1.04s\tremaining: 1.33s\n",
      "22:\tlearn: 4066.3593659\ttotal: 1.09s\tremaining: 1.28s\n",
      "23:\tlearn: 4039.4851587\ttotal: 1.14s\tremaining: 1.24s\n",
      "24:\tlearn: 4013.2873248\ttotal: 1.19s\tremaining: 1.19s\n",
      "25:\tlearn: 3987.3129431\ttotal: 1.24s\tremaining: 1.14s\n",
      "26:\tlearn: 3961.7209039\ttotal: 1.3s\tremaining: 1.11s\n",
      "27:\tlearn: 3936.4050578\ttotal: 1.35s\tremaining: 1.06s\n",
      "28:\tlearn: 3911.2559387\ttotal: 1.4s\tremaining: 1.01s\n",
      "29:\tlearn: 3886.0870450\ttotal: 1.44s\tremaining: 961ms\n",
      "30:\tlearn: 3861.4414281\ttotal: 1.49s\tremaining: 911ms\n",
      "31:\tlearn: 3837.1936626\ttotal: 1.53s\tremaining: 860ms\n",
      "32:\tlearn: 3812.9720978\ttotal: 1.59s\tremaining: 820ms\n",
      "33:\tlearn: 3789.2288274\ttotal: 1.64s\tremaining: 773ms\n",
      "34:\tlearn: 3765.8565732\ttotal: 1.71s\tremaining: 732ms\n",
      "35:\tlearn: 3742.8610630\ttotal: 1.77s\tremaining: 687ms\n",
      "36:\tlearn: 3719.9348733\ttotal: 1.84s\tremaining: 646ms\n",
      "37:\tlearn: 3697.0127054\ttotal: 1.9s\tremaining: 601ms\n",
      "38:\tlearn: 3674.4208145\ttotal: 1.95s\tremaining: 550ms\n",
      "39:\tlearn: 3652.3099648\ttotal: 2s\tremaining: 500ms\n",
      "40:\tlearn: 3630.6818010\ttotal: 2.04s\tremaining: 449ms\n",
      "41:\tlearn: 3609.2209918\ttotal: 2.14s\tremaining: 408ms\n",
      "42:\tlearn: 3587.7376888\ttotal: 2.2s\tremaining: 358ms\n",
      "43:\tlearn: 3566.8634827\ttotal: 2.25s\tremaining: 307ms\n",
      "44:\tlearn: 3545.7311456\ttotal: 2.31s\tremaining: 256ms\n",
      "45:\tlearn: 3524.8353158\ttotal: 2.36s\tremaining: 205ms\n",
      "46:\tlearn: 3504.5589536\ttotal: 2.42s\tremaining: 154ms\n",
      "47:\tlearn: 3484.4258639\ttotal: 2.46s\tremaining: 102ms\n",
      "48:\tlearn: 3464.6062481\ttotal: 2.54s\tremaining: 51.9ms\n",
      "49:\tlearn: 3444.8721753\ttotal: 2.6s\tremaining: 0us\n",
      "0:\tlearn: 4740.3960356\ttotal: 33.3ms\tremaining: 3.3s\n",
      "1:\tlearn: 4706.0163857\ttotal: 76ms\tremaining: 3.72s\n",
      "2:\tlearn: 4672.5233708\ttotal: 97.6ms\tremaining: 3.15s\n",
      "3:\tlearn: 4638.7942738\ttotal: 140ms\tremaining: 3.35s\n",
      "4:\tlearn: 4605.8531258\ttotal: 185ms\tremaining: 3.51s\n",
      "5:\tlearn: 4572.9297716\ttotal: 217ms\tremaining: 3.4s\n",
      "6:\tlearn: 4540.7349378\ttotal: 262ms\tremaining: 3.48s\n",
      "7:\tlearn: 4508.6274126\ttotal: 287ms\tremaining: 3.3s\n",
      "8:\tlearn: 4476.8013941\ttotal: 315ms\tremaining: 3.19s\n",
      "9:\tlearn: 4445.2217214\ttotal: 343ms\tremaining: 3.09s\n",
      "10:\tlearn: 4414.1436961\ttotal: 369ms\tremaining: 2.98s\n",
      "11:\tlearn: 4383.5733737\ttotal: 409ms\tremaining: 3s\n",
      "12:\tlearn: 4353.1567840\ttotal: 435ms\tremaining: 2.91s\n",
      "13:\tlearn: 4323.0990952\ttotal: 458ms\tremaining: 2.81s\n",
      "14:\tlearn: 4293.2562313\ttotal: 483ms\tremaining: 2.73s\n",
      "15:\tlearn: 4263.8105404\ttotal: 507ms\tremaining: 2.66s\n",
      "16:\tlearn: 4235.0206178\ttotal: 559ms\tremaining: 2.73s\n",
      "17:\tlearn: 4206.1116905\ttotal: 595ms\tremaining: 2.71s\n",
      "18:\tlearn: 4177.6980540\ttotal: 626ms\tremaining: 2.67s\n",
      "19:\tlearn: 4149.9975684\ttotal: 658ms\tremaining: 2.63s\n",
      "20:\tlearn: 4122.3182594\ttotal: 689ms\tremaining: 2.59s\n",
      "21:\tlearn: 4095.1542605\ttotal: 714ms\tremaining: 2.53s\n",
      "22:\tlearn: 4068.0617855\ttotal: 750ms\tremaining: 2.51s\n",
      "23:\tlearn: 4041.5636154\ttotal: 787ms\tremaining: 2.49s\n",
      "24:\tlearn: 4015.4413154\ttotal: 816ms\tremaining: 2.45s\n",
      "25:\tlearn: 3989.0969639\ttotal: 844ms\tremaining: 2.4s\n",
      "26:\tlearn: 3963.3027315\ttotal: 870ms\tremaining: 2.35s\n",
      "27:\tlearn: 3937.6843094\ttotal: 901ms\tremaining: 2.32s\n",
      "28:\tlearn: 3912.5786130\ttotal: 955ms\tremaining: 2.34s\n",
      "29:\tlearn: 3887.7094769\ttotal: 982ms\tremaining: 2.29s\n",
      "30:\tlearn: 3862.8383478\ttotal: 1.02s\tremaining: 2.28s\n",
      "31:\tlearn: 3838.7284791\ttotal: 1.05s\tremaining: 2.24s\n",
      "32:\tlearn: 3814.4107600\ttotal: 1.08s\tremaining: 2.2s\n",
      "33:\tlearn: 3790.7550485\ttotal: 1.12s\tremaining: 2.18s\n",
      "34:\tlearn: 3767.2519870\ttotal: 1.15s\tremaining: 2.14s\n",
      "35:\tlearn: 3744.0895186\ttotal: 1.18s\tremaining: 2.09s\n",
      "36:\tlearn: 3721.0092325\ttotal: 1.2s\tremaining: 2.05s\n",
      "37:\tlearn: 3698.0060257\ttotal: 1.23s\tremaining: 2s\n",
      "38:\tlearn: 3675.6560040\ttotal: 1.26s\tremaining: 1.97s\n",
      "39:\tlearn: 3653.8916983\ttotal: 1.29s\tremaining: 1.94s\n",
      "40:\tlearn: 3632.0213442\ttotal: 1.32s\tremaining: 1.91s\n",
      "41:\tlearn: 3610.1972655\ttotal: 1.34s\tremaining: 1.86s\n",
      "42:\tlearn: 3588.1594868\ttotal: 1.38s\tremaining: 1.82s\n",
      "43:\tlearn: 3567.2603200\ttotal: 1.41s\tremaining: 1.79s\n",
      "44:\tlearn: 3546.3745734\ttotal: 1.44s\tremaining: 1.76s\n",
      "45:\tlearn: 3525.8078032\ttotal: 1.46s\tremaining: 1.71s\n",
      "46:\tlearn: 3505.3596609\ttotal: 1.49s\tremaining: 1.68s\n",
      "47:\tlearn: 3485.7736171\ttotal: 1.51s\tremaining: 1.64s\n",
      "48:\tlearn: 3465.6623307\ttotal: 1.58s\tremaining: 1.64s\n",
      "49:\tlearn: 3446.0567962\ttotal: 1.6s\tremaining: 1.6s\n",
      "50:\tlearn: 3426.5598672\ttotal: 1.63s\tremaining: 1.57s\n",
      "51:\tlearn: 3407.3834784\ttotal: 1.66s\tremaining: 1.53s\n",
      "52:\tlearn: 3388.4301247\ttotal: 1.7s\tremaining: 1.5s\n",
      "53:\tlearn: 3369.7242256\ttotal: 1.72s\tremaining: 1.47s\n",
      "54:\tlearn: 3350.9155122\ttotal: 1.76s\tremaining: 1.44s\n",
      "55:\tlearn: 3332.3299295\ttotal: 1.8s\tremaining: 1.42s\n",
      "56:\tlearn: 3314.2821701\ttotal: 1.84s\tremaining: 1.39s\n",
      "57:\tlearn: 3296.4072338\ttotal: 1.89s\tremaining: 1.37s\n",
      "58:\tlearn: 3278.6667235\ttotal: 1.93s\tremaining: 1.34s\n",
      "59:\tlearn: 3261.3138358\ttotal: 1.95s\tremaining: 1.3s\n",
      "60:\tlearn: 3243.7310781\ttotal: 1.98s\tremaining: 1.26s\n",
      "61:\tlearn: 3226.7254358\ttotal: 2s\tremaining: 1.23s\n",
      "62:\tlearn: 3209.8097503\ttotal: 2.03s\tremaining: 1.19s\n",
      "63:\tlearn: 3192.8692989\ttotal: 2.06s\tremaining: 1.16s\n",
      "64:\tlearn: 3176.3093459\ttotal: 2.08s\tremaining: 1.12s\n",
      "65:\tlearn: 3160.5197587\ttotal: 2.12s\tremaining: 1.09s\n",
      "66:\tlearn: 3144.6276315\ttotal: 2.15s\tremaining: 1.06s\n",
      "67:\tlearn: 3128.5545203\ttotal: 2.18s\tremaining: 1.02s\n",
      "68:\tlearn: 3112.6028906\ttotal: 2.21s\tremaining: 995ms\n",
      "69:\tlearn: 3097.2463802\ttotal: 2.25s\tremaining: 963ms\n",
      "70:\tlearn: 3081.8992611\ttotal: 2.27s\tremaining: 929ms\n",
      "71:\tlearn: 3067.0343674\ttotal: 2.3s\tremaining: 896ms\n",
      "72:\tlearn: 3051.8247519\ttotal: 2.33s\tremaining: 862ms\n",
      "73:\tlearn: 3037.0842519\ttotal: 2.35s\tremaining: 827ms\n",
      "74:\tlearn: 3022.1168004\ttotal: 2.4s\tremaining: 800ms\n",
      "75:\tlearn: 3007.9493908\ttotal: 2.44s\tremaining: 769ms\n",
      "76:\tlearn: 2993.6473371\ttotal: 2.46s\tremaining: 736ms\n",
      "77:\tlearn: 2979.0947098\ttotal: 2.5s\tremaining: 704ms\n",
      "78:\tlearn: 2965.0704463\ttotal: 2.53s\tremaining: 672ms\n",
      "79:\tlearn: 2951.0782134\ttotal: 2.57s\tremaining: 642ms\n",
      "80:\tlearn: 2937.4332193\ttotal: 2.59s\tremaining: 608ms\n",
      "81:\tlearn: 2923.8131381\ttotal: 2.62s\tremaining: 576ms\n",
      "82:\tlearn: 2910.2577887\ttotal: 2.66s\tremaining: 545ms\n",
      "83:\tlearn: 2897.0865084\ttotal: 2.69s\tremaining: 512ms\n",
      "84:\tlearn: 2884.0649265\ttotal: 2.74s\tremaining: 484ms\n",
      "85:\tlearn: 2871.1592061\ttotal: 2.79s\tremaining: 454ms\n",
      "86:\tlearn: 2858.7914285\ttotal: 2.83s\tremaining: 422ms\n",
      "87:\tlearn: 2845.7759284\ttotal: 2.87s\tremaining: 391ms\n",
      "88:\tlearn: 2833.5262825\ttotal: 2.91s\tremaining: 359ms\n",
      "89:\tlearn: 2821.3994139\ttotal: 2.95s\tremaining: 328ms\n",
      "70:\tlearn: 1948.4350873\ttotal: 1.61s\tremaining: 658ms\n",
      "71:\tlearn: 1943.5167736\ttotal: 1.63s\tremaining: 635ms\n",
      "72:\tlearn: 1939.6378710\ttotal: 1.65s\tremaining: 612ms\n",
      "73:\tlearn: 1935.2276098\ttotal: 1.68s\tremaining: 589ms\n",
      "74:\tlearn: 1932.5051868\ttotal: 1.69s\tremaining: 565ms\n",
      "75:\tlearn: 1928.6732166\ttotal: 1.72s\tremaining: 542ms\n",
      "76:\tlearn: 1926.0420533\ttotal: 1.74s\tremaining: 519ms\n",
      "77:\tlearn: 1922.8916185\ttotal: 1.75s\tremaining: 495ms\n",
      "78:\tlearn: 1920.2120491\ttotal: 1.78s\tremaining: 474ms\n",
      "79:\tlearn: 1916.7475491\ttotal: 1.81s\tremaining: 453ms\n",
      "80:\tlearn: 1914.2426423\ttotal: 1.84s\tremaining: 431ms\n",
      "81:\tlearn: 1911.9763922\ttotal: 1.86s\tremaining: 408ms\n",
      "82:\tlearn: 1909.3335111\ttotal: 1.88s\tremaining: 385ms\n",
      "83:\tlearn: 1906.9074082\ttotal: 1.91s\tremaining: 363ms\n",
      "84:\tlearn: 1903.8778563\ttotal: 1.93s\tremaining: 341ms\n",
      "85:\tlearn: 1901.3410213\ttotal: 1.94s\tremaining: 317ms\n",
      "86:\tlearn: 1898.5780783\ttotal: 1.97s\tremaining: 295ms\n",
      "87:\tlearn: 1895.8296930\ttotal: 1.99s\tremaining: 271ms\n",
      "88:\tlearn: 1892.7816751\ttotal: 2s\tremaining: 248ms\n",
      "89:\tlearn: 1891.0330828\ttotal: 2.02s\tremaining: 225ms\n",
      "90:\tlearn: 1887.3878584\ttotal: 2.04s\tremaining: 202ms\n",
      "91:\tlearn: 1884.5276364\ttotal: 2.07s\tremaining: 180ms\n",
      "92:\tlearn: 1882.0847726\ttotal: 2.1s\tremaining: 158ms\n",
      "93:\tlearn: 1879.9444053\ttotal: 2.12s\tremaining: 136ms\n",
      "94:\tlearn: 1876.6370777\ttotal: 2.14s\tremaining: 113ms\n",
      "95:\tlearn: 1873.6831716\ttotal: 2.16s\tremaining: 90.2ms\n",
      "96:\tlearn: 1872.0440369\ttotal: 2.18s\tremaining: 67.4ms\n",
      "97:\tlearn: 1870.5987391\ttotal: 2.21s\tremaining: 45.1ms\n",
      "98:\tlearn: 1868.8287664\ttotal: 2.23s\tremaining: 22.6ms\n",
      "99:\tlearn: 1866.0189122\ttotal: 2.25s\tremaining: 0us\n",
      "0:\tlearn: 4446.1450081\ttotal: 24.7ms\tremaining: 2.44s\n",
      "1:\tlearn: 4157.8719664\ttotal: 49ms\tremaining: 2.4s\n",
      "2:\tlearn: 3907.3555475\ttotal: 83ms\tremaining: 2.68s\n",
      "3:\tlearn: 3683.6345142\ttotal: 129ms\tremaining: 3.09s\n",
      "4:\tlearn: 3476.3444262\ttotal: 152ms\tremaining: 2.89s\n",
      "5:\tlearn: 3298.5383837\ttotal: 189ms\tremaining: 2.96s\n",
      "6:\tlearn: 3139.5560205\ttotal: 213ms\tremaining: 2.83s\n",
      "7:\tlearn: 3000.4894768\ttotal: 233ms\tremaining: 2.67s\n",
      "8:\tlearn: 2880.4330307\ttotal: 262ms\tremaining: 2.65s\n",
      "9:\tlearn: 2768.9189458\ttotal: 286ms\tremaining: 2.57s\n",
      "10:\tlearn: 2671.6539491\ttotal: 315ms\tremaining: 2.54s\n",
      "11:\tlearn: 2585.6739700\ttotal: 341ms\tremaining: 2.5s\n",
      "12:\tlearn: 2509.4155790\ttotal: 366ms\tremaining: 2.45s\n",
      "13:\tlearn: 2445.9277036\ttotal: 387ms\tremaining: 2.38s\n",
      "14:\tlearn: 2384.4619207\ttotal: 414ms\tremaining: 2.34s\n",
      "15:\tlearn: 2331.6590415\ttotal: 442ms\tremaining: 2.32s\n",
      "16:\tlearn: 2285.3956013\ttotal: 457ms\tremaining: 2.23s\n",
      "17:\tlearn: 2245.8676400\ttotal: 480ms\tremaining: 2.19s\n",
      "18:\tlearn: 2208.3251297\ttotal: 506ms\tremaining: 2.15s\n",
      "19:\tlearn: 2176.0983904\ttotal: 531ms\tremaining: 2.12s\n",
      "20:\tlearn: 2145.1225509\ttotal: 555ms\tremaining: 2.09s\n",
      "21:\tlearn: 2118.7895289\ttotal: 575ms\tremaining: 2.04s\n",
      "22:\tlearn: 2094.9579660\ttotal: 599ms\tremaining: 2s\n",
      "23:\tlearn: 2072.4720265\ttotal: 621ms\tremaining: 1.97s\n",
      "24:\tlearn: 2053.7962641\ttotal: 645ms\tremaining: 1.93s\n",
      "25:\tlearn: 2036.1800354\ttotal: 670ms\tremaining: 1.91s\n",
      "26:\tlearn: 2021.4624765\ttotal: 692ms\tremaining: 1.87s\n",
      "27:\tlearn: 2008.3643783\ttotal: 717ms\tremaining: 1.84s\n",
      "28:\tlearn: 1995.0694924\ttotal: 741ms\tremaining: 1.81s\n",
      "29:\tlearn: 1983.3825688\ttotal: 765ms\tremaining: 1.78s\n",
      "30:\tlearn: 1973.2154763\ttotal: 784ms\tremaining: 1.75s\n",
      "31:\tlearn: 1963.2621730\ttotal: 800ms\tremaining: 1.7s\n",
      "32:\tlearn: 1952.3373319\ttotal: 821ms\tremaining: 1.67s\n",
      "33:\tlearn: 1944.8460551\ttotal: 851ms\tremaining: 1.65s\n",
      "34:\tlearn: 1937.9375606\ttotal: 875ms\tremaining: 1.63s\n",
      "35:\tlearn: 1931.1996752\ttotal: 892ms\tremaining: 1.59s\n",
      "36:\tlearn: 1925.9944068\ttotal: 910ms\tremaining: 1.55s\n",
      "37:\tlearn: 1920.7381490\ttotal: 926ms\tremaining: 1.51s\n",
      "38:\tlearn: 1914.0525804\ttotal: 944ms\tremaining: 1.48s\n",
      "39:\tlearn: 1909.5873514\ttotal: 967ms\tremaining: 1.45s\n",
      "40:\tlearn: 1905.6293636\ttotal: 987ms\tremaining: 1.42s\n",
      "41:\tlearn: 1900.4853628\ttotal: 1.01s\tremaining: 1.4s\n",
      "42:\tlearn: 1892.1628612\ttotal: 1.05s\tremaining: 1.39s\n",
      "43:\tlearn: 1886.5893382\ttotal: 1.07s\tremaining: 1.37s\n",
      "44:\tlearn: 1883.1009588\ttotal: 1.1s\tremaining: 1.34s\n",
      "45:\tlearn: 1877.0423320\ttotal: 1.12s\tremaining: 1.31s\n",
      "46:\tlearn: 1870.1175407\ttotal: 1.15s\tremaining: 1.3s\n",
      "47:\tlearn: 1866.8357634\ttotal: 1.17s\tremaining: 1.26s\n",
      "48:\tlearn: 1861.1180870\ttotal: 1.2s\tremaining: 1.25s\n",
      "49:\tlearn: 1856.4452456\ttotal: 1.23s\tremaining: 1.23s\n",
      "50:\tlearn: 1853.2471569\ttotal: 1.26s\tremaining: 1.21s\n",
      "51:\tlearn: 1850.6263219\ttotal: 1.28s\tremaining: 1.19s\n",
      "52:\tlearn: 1847.5130211\ttotal: 1.31s\tremaining: 1.16s\n",
      "53:\tlearn: 1843.5051493\ttotal: 1.33s\tremaining: 1.14s\n",
      "54:\tlearn: 1841.0410004\ttotal: 1.36s\tremaining: 1.11s\n",
      "55:\tlearn: 1838.0524636\ttotal: 1.38s\tremaining: 1.09s\n",
      "56:\tlearn: 1835.6084278\ttotal: 1.41s\tremaining: 1.06s\n",
      "57:\tlearn: 1832.9157059\ttotal: 1.43s\tremaining: 1.04s\n",
      "58:\tlearn: 1829.9950607\ttotal: 1.45s\tremaining: 1.01s\n",
      "59:\tlearn: 1828.0143116\ttotal: 1.47s\tremaining: 983ms\n",
      "60:\tlearn: 1826.2118145\ttotal: 1.5s\tremaining: 959ms\n",
      "61:\tlearn: 1822.8124141\ttotal: 1.52s\tremaining: 934ms\n",
      "62:\tlearn: 1820.5136915\ttotal: 1.54s\tremaining: 907ms\n",
      "63:\tlearn: 1817.6547093\ttotal: 1.57s\tremaining: 882ms\n",
      "64:\tlearn: 1814.6108356\ttotal: 1.59s\tremaining: 858ms\n",
      "65:\tlearn: 1813.2572421\ttotal: 1.61s\tremaining: 829ms\n",
      "66:\tlearn: 1809.7489735\ttotal: 1.64s\tremaining: 807ms\n",
      "67:\tlearn: 1808.3172200\ttotal: 1.65s\tremaining: 777ms\n",
      "68:\tlearn: 1804.9902999\ttotal: 1.67s\tremaining: 750ms\n",
      "69:\tlearn: 1803.6639254\ttotal: 1.68s\tremaining: 720ms\n",
      "70:\tlearn: 1800.6263310\ttotal: 1.7s\tremaining: 695ms\n",
      "71:\tlearn: 1797.5737162\ttotal: 1.73s\tremaining: 671ms\n",
      "72:\tlearn: 1794.6842646\ttotal: 1.79s\tremaining: 664ms\n",
      "73:\tlearn: 1792.1843929\ttotal: 1.83s\tremaining: 643ms\n",
      "74:\tlearn: 1790.7865318\ttotal: 1.86s\tremaining: 619ms\n",
      "75:\tlearn: 1789.0198301\ttotal: 1.88s\tremaining: 592ms\n",
      "76:\tlearn: 1787.1904721\ttotal: 1.9s\tremaining: 567ms\n",
      "77:\tlearn: 1785.2162246\ttotal: 1.92s\tremaining: 542ms\n",
      "78:\tlearn: 1784.4234614\ttotal: 1.94s\tremaining: 516ms\n",
      "79:\tlearn: 1782.9198253\ttotal: 1.96s\tremaining: 490ms\n",
      "80:\tlearn: 1780.7263747\ttotal: 1.98s\tremaining: 464ms\n",
      "81:\tlearn: 1778.7796330\ttotal: 2s\tremaining: 439ms\n",
      "82:\tlearn: 1778.1427509\ttotal: 2.02s\tremaining: 415ms\n",
      "83:\tlearn: 1777.2586410\ttotal: 2.04s\tremaining: 390ms\n",
      "84:\tlearn: 1776.1993842\ttotal: 2.07s\tremaining: 365ms\n",
      "85:\tlearn: 1775.1587409\ttotal: 2.1s\tremaining: 341ms\n",
      "86:\tlearn: 1773.9254077\ttotal: 2.12s\tremaining: 317ms\n",
      "87:\tlearn: 1772.3637974\ttotal: 2.14s\tremaining: 292ms\n",
      "88:\tlearn: 1770.9239678\ttotal: 2.16s\tremaining: 267ms\n",
      "89:\tlearn: 1769.6412729\ttotal: 2.2s\tremaining: 245ms\n",
      "90:\tlearn: 1767.8154914\ttotal: 2.23s\tremaining: 221ms\n",
      "91:\tlearn: 1766.1667962\ttotal: 2.25s\tremaining: 196ms\n",
      "92:\tlearn: 1764.5743595\ttotal: 2.27s\tremaining: 171ms\n",
      "93:\tlearn: 1763.5766867\ttotal: 2.3s\tremaining: 147ms\n",
      "94:\tlearn: 1762.3194867\ttotal: 2.33s\tremaining: 122ms\n",
      "95:\tlearn: 1761.4026657\ttotal: 2.35s\tremaining: 97.9ms\n",
      "96:\tlearn: 1759.9716744\ttotal: 2.37s\tremaining: 73.3ms\n",
      "97:\tlearn: 1759.3026060\ttotal: 2.39s\tremaining: 48.7ms\n",
      "98:\tlearn: 1758.0447784\ttotal: 2.41s\tremaining: 24.4ms\n",
      "99:\tlearn: 1756.3603745\ttotal: 2.43s\tremaining: 0us\n",
      "0:\tlearn: 4421.2194748\ttotal: 31.8ms\tremaining: 923ms\n",
      "1:\tlearn: 4117.3077991\ttotal: 53.1ms\tremaining: 743ms\n",
      "2:\tlearn: 3849.0660968\ttotal: 83.9ms\tremaining: 755ms\n",
      "3:\tlearn: 3612.5388570\ttotal: 115ms\tremaining: 750ms\n",
      "4:\tlearn: 3406.5419090\ttotal: 140ms\tremaining: 700ms\n",
      "5:\tlearn: 3221.8589068\ttotal: 167ms\tremaining: 666ms\n",
      "6:\tlearn: 3054.9619301\ttotal: 201ms\tremaining: 660ms\n",
      "7:\tlearn: 2911.3116793\ttotal: 224ms\tremaining: 616ms\n",
      "8:\tlearn: 2780.3252722\ttotal: 249ms\tremaining: 581ms\n",
      "9:\tlearn: 2667.2509104\ttotal: 274ms\tremaining: 548ms\n",
      "10:\tlearn: 2567.5383257\ttotal: 309ms\tremaining: 534ms\n",
      "11:\tlearn: 2480.2366559\ttotal: 334ms\tremaining: 501ms\n",
      "12:\tlearn: 2403.6616236\ttotal: 365ms\tremaining: 477ms\n",
      "13:\tlearn: 2336.5147518\ttotal: 387ms\tremaining: 442ms\n",
      "14:\tlearn: 2277.0490107\ttotal: 412ms\tremaining: 412ms\n",
      "15:\tlearn: 2226.4176325\ttotal: 441ms\tremaining: 386ms\n",
      "16:\tlearn: 2182.7217613\ttotal: 468ms\tremaining: 358ms\n",
      "17:\tlearn: 2141.3049981\ttotal: 501ms\tremaining: 334ms\n",
      "18:\tlearn: 2109.3949661\ttotal: 528ms\tremaining: 306ms\n",
      "19:\tlearn: 2077.6346893\ttotal: 564ms\tremaining: 282ms\n",
      "20:\tlearn: 2051.4566112\ttotal: 595ms\tremaining: 255ms\n",
      "21:\tlearn: 2029.2924927\ttotal: 621ms\tremaining: 226ms\n",
      "22:\tlearn: 2009.4899987\ttotal: 646ms\tremaining: 196ms\n",
      "23:\tlearn: 1987.5656624\ttotal: 672ms\tremaining: 168ms\n",
      "24:\tlearn: 1970.3433150\ttotal: 700ms\tremaining: 140ms\n",
      "25:\tlearn: 1955.0708697\ttotal: 727ms\tremaining: 112ms\n",
      "26:\tlearn: 1941.7428069\ttotal: 753ms\tremaining: 83.6ms\n",
      "27:\tlearn: 1929.6287059\ttotal: 781ms\tremaining: 55.8ms\n",
      "28:\tlearn: 1914.0646312\ttotal: 822ms\tremaining: 28.3ms\n",
      "29:\tlearn: 1901.5419633\ttotal: 848ms\tremaining: 0us\n",
      "0:\tlearn: 4732.4873581\ttotal: 27.9ms\tremaining: 1.37s\n",
      "1:\tlearn: 4698.4132330\ttotal: 61.3ms\tremaining: 1.47s\n",
      "2:\tlearn: 4664.7596738\ttotal: 85.7ms\tremaining: 1.34s\n",
      "3:\tlearn: 4631.7796530\ttotal: 111ms\tremaining: 1.27s\n",
      "4:\tlearn: 4598.8209128\ttotal: 155ms\tremaining: 1.4s\n",
      "5:\tlearn: 4566.2908498\ttotal: 186ms\tremaining: 1.36s\n",
      "6:\tlearn: 4534.2914169\ttotal: 205ms\tremaining: 1.26s\n",
      "7:\tlearn: 4502.3855672\ttotal: 237ms\tremaining: 1.24s\n",
      "8:\tlearn: 4470.6580248\ttotal: 278ms\tremaining: 1.27s\n",
      "9:\tlearn: 4439.2874606\ttotal: 306ms\tremaining: 1.22s\n",
      "10:\tlearn: 4408.2112023\ttotal: 329ms\tremaining: 1.17s\n",
      "11:\tlearn: 4377.7610645\ttotal: 354ms\tremaining: 1.12s\n",
      "12:\tlearn: 4347.7927495\ttotal: 406ms\tremaining: 1.15s\n",
      "13:\tlearn: 4318.0053361\ttotal: 434ms\tremaining: 1.12s\n",
      "14:\tlearn: 4288.0771818\ttotal: 460ms\tremaining: 1.07s\n",
      "15:\tlearn: 4259.0195859\ttotal: 502ms\tremaining: 1.07s\n",
      "16:\tlearn: 4230.2553924\ttotal: 542ms\tremaining: 1.05s\n",
      "17:\tlearn: 4201.9333734\ttotal: 582ms\tremaining: 1.03s\n",
      "18:\tlearn: 4173.8758417\ttotal: 641ms\tremaining: 1.05s\n",
      "19:\tlearn: 4146.3662036\ttotal: 690ms\tremaining: 1.03s\n",
      "20:\tlearn: 4119.1142061\ttotal: 763ms\tremaining: 1.05s\n",
      "21:\tlearn: 4091.7940977\ttotal: 796ms\tremaining: 1.01s\n",
      "22:\tlearn: 4064.9073598\ttotal: 840ms\tremaining: 986ms\n",
      "23:\tlearn: 4038.6709414\ttotal: 889ms\tremaining: 963ms\n",
      "24:\tlearn: 4012.3900190\ttotal: 938ms\tremaining: 938ms\n",
      "25:\tlearn: 3986.7205932\ttotal: 983ms\tremaining: 907ms\n",
      "26:\tlearn: 3961.0843676\ttotal: 1.03s\tremaining: 881ms\n",
      "27:\tlearn: 3935.7733862\ttotal: 1.09s\tremaining: 855ms\n",
      "28:\tlearn: 3910.5781207\ttotal: 1.14s\tremaining: 823ms\n",
      "29:\tlearn: 3885.5005883\ttotal: 1.18s\tremaining: 788ms\n",
      "30:\tlearn: 3861.0407605\ttotal: 1.25s\tremaining: 764ms\n",
      "31:\tlearn: 3836.9081874\ttotal: 1.28s\tremaining: 719ms\n",
      "32:\tlearn: 3812.9879037\ttotal: 1.31s\tremaining: 676ms\n",
      "33:\tlearn: 3789.6134379\ttotal: 1.37s\tremaining: 644ms\n",
      "34:\tlearn: 3766.1730384\ttotal: 1.42s\tremaining: 608ms\n",
      "35:\tlearn: 3743.2739567\ttotal: 1.47s\tremaining: 571ms\n",
      "36:\tlearn: 3720.1809369\ttotal: 1.52s\tremaining: 534ms\n",
      "37:\tlearn: 3697.4761196\ttotal: 1.59s\tremaining: 501ms\n",
      "38:\tlearn: 3675.2846036\ttotal: 1.64s\tremaining: 461ms\n",
      "39:\tlearn: 3653.3142178\ttotal: 1.68s\tremaining: 421ms\n",
      "40:\tlearn: 3631.7654589\ttotal: 1.73s\tremaining: 380ms\n",
      "41:\tlearn: 3610.4135593\ttotal: 1.78s\tremaining: 339ms\n",
      "42:\tlearn: 3589.2131053\ttotal: 1.83s\tremaining: 297ms\n",
      "43:\tlearn: 3568.2699785\ttotal: 1.88s\tremaining: 257ms\n",
      "44:\tlearn: 3547.2215650\ttotal: 1.93s\tremaining: 215ms\n",
      "45:\tlearn: 3526.6615014\ttotal: 1.98s\tremaining: 172ms\n",
      "46:\tlearn: 3506.2368938\ttotal: 2.05s\tremaining: 131ms\n",
      "47:\tlearn: 3486.1866158\ttotal: 2.14s\tremaining: 89.2ms\n",
      "48:\tlearn: 3466.3477648\ttotal: 2.19s\tremaining: 44.8ms\n",
      "49:\tlearn: 3446.9136804\ttotal: 2.24s\tremaining: 0us\n",
      "0:\tlearn: 4429.3182254\ttotal: 48.2ms\tremaining: 2.36s\n",
      "1:\tlearn: 4123.2860492\ttotal: 98.8ms\tremaining: 2.37s\n",
      "2:\tlearn: 3856.4437949\ttotal: 148ms\tremaining: 2.31s\n",
      "3:\tlearn: 3622.8250059\ttotal: 202ms\tremaining: 2.32s\n",
      "4:\tlearn: 3413.2919007\ttotal: 254ms\tremaining: 2.28s\n",
      "5:\tlearn: 3228.7206098\ttotal: 305ms\tremaining: 2.23s\n",
      "6:\tlearn: 3064.0760819\ttotal: 385ms\tremaining: 2.37s\n",
      "7:\tlearn: 2915.8700299\ttotal: 471ms\tremaining: 2.47s\n",
      "8:\tlearn: 2784.9264569\ttotal: 554ms\tremaining: 2.52s\n",
      "9:\tlearn: 2670.5864622\ttotal: 611ms\tremaining: 2.44s\n",
      "10:\tlearn: 2570.0831654\ttotal: 686ms\tremaining: 2.43s\n",
      "11:\tlearn: 2482.3515532\ttotal: 717ms\tremaining: 2.27s\n",
      "12:\tlearn: 2405.2054527\ttotal: 755ms\tremaining: 2.15s\n",
      "13:\tlearn: 2334.9924738\ttotal: 784ms\tremaining: 2.02s\n",
      "14:\tlearn: 2276.4716317\ttotal: 817ms\tremaining: 1.91s\n",
      "15:\tlearn: 2225.8623959\ttotal: 848ms\tremaining: 1.8s\n",
      "16:\tlearn: 2179.3598369\ttotal: 873ms\tremaining: 1.69s\n",
      "17:\tlearn: 2140.1378233\ttotal: 904ms\tremaining: 1.61s\n",
      "18:\tlearn: 2106.2882507\ttotal: 936ms\tremaining: 1.53s\n",
      "19:\tlearn: 2074.9601000\ttotal: 967ms\tremaining: 1.45s\n",
      "20:\tlearn: 2048.7598975\ttotal: 994ms\tremaining: 1.37s\n",
      "21:\tlearn: 2023.6553694\ttotal: 1.04s\tremaining: 1.33s\n",
      "22:\tlearn: 2003.5306674\ttotal: 1.07s\tremaining: 1.26s\n",
      "23:\tlearn: 1984.7515838\ttotal: 1.1s\tremaining: 1.19s\n",
      "24:\tlearn: 1967.7701742\ttotal: 1.12s\tremaining: 1.12s\n",
      "25:\tlearn: 1951.1806799\ttotal: 1.15s\tremaining: 1.06s\n",
      "26:\tlearn: 1938.4116184\ttotal: 1.19s\tremaining: 1.01s\n",
      "27:\tlearn: 1922.4437985\ttotal: 1.22s\tremaining: 956ms\n",
      "28:\tlearn: 1907.6712742\ttotal: 1.24s\tremaining: 898ms\n",
      "29:\tlearn: 1897.6374889\ttotal: 1.26s\tremaining: 844ms\n",
      "30:\tlearn: 1888.2045741\ttotal: 1.29s\tremaining: 793ms\n",
      "31:\tlearn: 1879.3290284\ttotal: 1.31s\tremaining: 739ms\n",
      "32:\tlearn: 1869.1267197\ttotal: 1.34s\tremaining: 691ms\n",
      "33:\tlearn: 1862.4639460\ttotal: 1.37s\tremaining: 645ms\n",
      "34:\tlearn: 1856.3072308\ttotal: 1.4s\tremaining: 600ms\n",
      "35:\tlearn: 1849.0779452\ttotal: 1.43s\tremaining: 556ms\n",
      "36:\tlearn: 1843.8562166\ttotal: 1.47s\tremaining: 515ms\n",
      "37:\tlearn: 1836.0022394\ttotal: 1.5s\tremaining: 473ms\n",
      "38:\tlearn: 1830.0787319\ttotal: 1.52s\tremaining: 430ms\n",
      "39:\tlearn: 1826.0226127\ttotal: 1.54s\tremaining: 386ms\n",
      "40:\tlearn: 1821.5476020\ttotal: 1.58s\tremaining: 346ms\n",
      "41:\tlearn: 1816.6540551\ttotal: 1.61s\tremaining: 307ms\n",
      "42:\tlearn: 1811.4203714\ttotal: 1.64s\tremaining: 267ms\n",
      "43:\tlearn: 1807.8435867\ttotal: 1.67s\tremaining: 228ms\n",
      "44:\tlearn: 1804.3041574\ttotal: 1.7s\tremaining: 189ms\n",
      "45:\tlearn: 1800.5278023\ttotal: 1.73s\tremaining: 150ms\n",
      "46:\tlearn: 1795.1098751\ttotal: 1.76s\tremaining: 112ms\n",
      "47:\tlearn: 1792.4487386\ttotal: 1.78s\tremaining: 74.4ms\n",
      "48:\tlearn: 1789.5294233\ttotal: 1.82s\tremaining: 37.2ms\n",
      "49:\tlearn: 1787.3538568\ttotal: 1.85s\tremaining: 0us\n",
      "0:\tlearn: 4594.9999247\ttotal: 26ms\tremaining: 2.57s\n",
      "1:\tlearn: 4433.0361914\ttotal: 64.2ms\tremaining: 3.15s\n",
      "2:\tlearn: 4282.3623539\ttotal: 97.5ms\tremaining: 3.15s\n",
      "3:\tlearn: 4139.0856822\ttotal: 126ms\tremaining: 3.02s\n",
      "4:\tlearn: 4003.1347500\ttotal: 166ms\tremaining: 3.15s\n",
      "5:\tlearn: 3876.1744465\ttotal: 223ms\tremaining: 3.5s\n",
      "6:\tlearn: 3757.1962420\ttotal: 254ms\tremaining: 3.38s\n",
      "7:\tlearn: 3641.9384503\ttotal: 282ms\tremaining: 3.24s\n",
      "8:\tlearn: 3534.3145838\ttotal: 309ms\tremaining: 3.13s\n",
      "9:\tlearn: 3431.9629917\ttotal: 353ms\tremaining: 3.18s\n",
      "10:\tlearn: 3335.2553059\ttotal: 381ms\tremaining: 3.08s\n",
      "11:\tlearn: 3244.2838508\ttotal: 404ms\tremaining: 2.96s\n",
      "12:\tlearn: 3160.3024508\ttotal: 446ms\tremaining: 2.98s\n",
      "13:\tlearn: 3079.1962818\ttotal: 483ms\tremaining: 2.97s\n",
      "14:\tlearn: 3004.0111127\ttotal: 507ms\tremaining: 2.87s\n",
      "15:\tlearn: 2934.2053999\ttotal: 560ms\tremaining: 2.94s\n",
      "16:\tlearn: 2868.7877621\ttotal: 599ms\tremaining: 2.93s\n",
      "17:\tlearn: 2805.8048462\ttotal: 617ms\tremaining: 2.81s\n",
      "18:\tlearn: 2746.1686242\ttotal: 657ms\tremaining: 2.8s\n",
      "19:\tlearn: 2690.1611787\ttotal: 683ms\tremaining: 2.73s\n",
      "20:\tlearn: 2638.9010710\ttotal: 706ms\tremaining: 2.65s\n",
      "21:\tlearn: 2590.4155119\ttotal: 737ms\tremaining: 2.61s\n",
      "22:\tlearn: 2546.4324750\ttotal: 766ms\tremaining: 2.56s\n",
      "23:\tlearn: 2503.0190228\ttotal: 799ms\tremaining: 2.53s\n",
      "24:\tlearn: 2462.9570704\ttotal: 819ms\tremaining: 2.46s\n",
      "25:\tlearn: 2424.9325921\ttotal: 846ms\tremaining: 2.41s\n",
      "26:\tlearn: 2389.8904581\ttotal: 871ms\tremaining: 2.35s\n",
      "27:\tlearn: 2357.2427330\ttotal: 892ms\tremaining: 2.29s\n",
      "28:\tlearn: 2327.0178525\ttotal: 914ms\tremaining: 2.24s\n",
      "29:\tlearn: 2297.7818632\ttotal: 942ms\tremaining: 2.2s\n",
      "30:\tlearn: 2271.7634235\ttotal: 962ms\tremaining: 2.14s\n",
      "31:\tlearn: 2247.4340613\ttotal: 984ms\tremaining: 2.09s\n",
      "32:\tlearn: 2224.1030585\ttotal: 1.01s\tremaining: 2.06s\n",
      "33:\tlearn: 2201.3187514\ttotal: 1.04s\tremaining: 2.02s\n",
      "34:\tlearn: 2180.7097220\ttotal: 1.06s\tremaining: 1.98s\n",
      "35:\tlearn: 2160.2066497\ttotal: 1.09s\tremaining: 1.94s\n",
      "36:\tlearn: 2143.1974048\ttotal: 1.12s\tremaining: 1.91s\n",
      "37:\tlearn: 2125.7366770\ttotal: 1.14s\tremaining: 1.86s\n",
      "38:\tlearn: 2110.0683904\ttotal: 1.18s\tremaining: 1.84s\n",
      "39:\tlearn: 2095.3032167\ttotal: 1.2s\tremaining: 1.8s\n",
      "40:\tlearn: 2081.2719865\ttotal: 1.22s\tremaining: 1.76s\n",
      "41:\tlearn: 2067.6977320\ttotal: 1.24s\tremaining: 1.72s\n",
      "42:\tlearn: 2054.7841040\ttotal: 1.26s\tremaining: 1.68s\n",
      "43:\tlearn: 2042.3007901\ttotal: 1.29s\tremaining: 1.64s\n",
      "32:\tlearn: 1875.7462272\ttotal: 921ms\tremaining: 474ms\n",
      "33:\tlearn: 1867.0182190\ttotal: 946ms\tremaining: 445ms\n",
      "34:\tlearn: 1859.0654064\ttotal: 969ms\tremaining: 415ms\n",
      "35:\tlearn: 1852.1869555\ttotal: 988ms\tremaining: 384ms\n",
      "36:\tlearn: 1846.2214930\ttotal: 1.02s\tremaining: 360ms\n",
      "37:\tlearn: 1839.9795384\ttotal: 1.05s\tremaining: 332ms\n",
      "38:\tlearn: 1833.3080151\ttotal: 1.07s\tremaining: 303ms\n",
      "39:\tlearn: 1829.1252620\ttotal: 1.11s\tremaining: 277ms\n",
      "40:\tlearn: 1824.9997961\ttotal: 1.13s\tremaining: 249ms\n",
      "41:\tlearn: 1821.4807803\ttotal: 1.16s\tremaining: 221ms\n",
      "42:\tlearn: 1816.2479939\ttotal: 1.19s\tremaining: 194ms\n",
      "43:\tlearn: 1811.9661771\ttotal: 1.22s\tremaining: 166ms\n",
      "44:\tlearn: 1809.2639518\ttotal: 1.25s\tremaining: 139ms\n",
      "45:\tlearn: 1805.4710754\ttotal: 1.28s\tremaining: 112ms\n",
      "46:\tlearn: 1802.4550492\ttotal: 1.31s\tremaining: 83.8ms\n",
      "47:\tlearn: 1800.4013886\ttotal: 1.34s\tremaining: 55.8ms\n",
      "48:\tlearn: 1796.1174344\ttotal: 1.38s\tremaining: 28.1ms\n",
      "49:\tlearn: 1792.5075491\ttotal: 1.4s\tremaining: 0us\n",
      "0:\tlearn: 4590.2047285\ttotal: 32.4ms\tremaining: 3.2s\n",
      "1:\tlearn: 4427.4231952\ttotal: 64.4ms\tremaining: 3.16s\n",
      "2:\tlearn: 4274.6287515\ttotal: 88.6ms\tremaining: 2.86s\n",
      "3:\tlearn: 4132.5740621\ttotal: 118ms\tremaining: 2.83s\n",
      "4:\tlearn: 3995.2359625\ttotal: 146ms\tremaining: 2.77s\n",
      "5:\tlearn: 3866.5848271\ttotal: 173ms\tremaining: 2.71s\n",
      "6:\tlearn: 3746.4366634\ttotal: 205ms\tremaining: 2.72s\n",
      "7:\tlearn: 3633.3590385\ttotal: 237ms\tremaining: 2.73s\n",
      "8:\tlearn: 3524.3118272\ttotal: 270ms\tremaining: 2.73s\n",
      "9:\tlearn: 3424.6273837\ttotal: 298ms\tremaining: 2.68s\n",
      "10:\tlearn: 3329.6412860\ttotal: 328ms\tremaining: 2.65s\n",
      "11:\tlearn: 3241.7004994\ttotal: 360ms\tremaining: 2.64s\n",
      "12:\tlearn: 3154.8574735\ttotal: 384ms\tremaining: 2.57s\n",
      "13:\tlearn: 3074.2175893\ttotal: 405ms\tremaining: 2.48s\n",
      "14:\tlearn: 2998.8434720\ttotal: 427ms\tremaining: 2.42s\n",
      "15:\tlearn: 2929.0371163\ttotal: 457ms\tremaining: 2.4s\n",
      "16:\tlearn: 2864.0711233\ttotal: 490ms\tremaining: 2.39s\n",
      "17:\tlearn: 2799.5602023\ttotal: 520ms\tremaining: 2.37s\n",
      "18:\tlearn: 2741.4356041\ttotal: 542ms\tremaining: 2.31s\n",
      "19:\tlearn: 2684.8407307\ttotal: 564ms\tremaining: 2.26s\n",
      "20:\tlearn: 2632.1083552\ttotal: 590ms\tremaining: 2.22s\n",
      "21:\tlearn: 2585.5356984\ttotal: 622ms\tremaining: 2.2s\n",
      "22:\tlearn: 2539.4347693\ttotal: 647ms\tremaining: 2.17s\n",
      "23:\tlearn: 2496.9850323\ttotal: 695ms\tremaining: 2.2s\n",
      "24:\tlearn: 2458.5455304\ttotal: 724ms\tremaining: 2.17s\n",
      "25:\tlearn: 2420.6114555\ttotal: 749ms\tremaining: 2.13s\n",
      "26:\tlearn: 2385.2084906\ttotal: 781ms\tremaining: 2.11s\n",
      "27:\tlearn: 2352.0067249\ttotal: 809ms\tremaining: 2.08s\n",
      "28:\tlearn: 2321.6398853\ttotal: 834ms\tremaining: 2.04s\n",
      "29:\tlearn: 2293.1469173\ttotal: 867ms\tremaining: 2.02s\n",
      "30:\tlearn: 2265.7120888\ttotal: 895ms\tremaining: 1.99s\n",
      "31:\tlearn: 2239.7364138\ttotal: 922ms\tremaining: 1.96s\n",
      "32:\tlearn: 2216.6828648\ttotal: 966ms\tremaining: 1.96s\n",
      "33:\tlearn: 2194.9404803\ttotal: 993ms\tremaining: 1.93s\n",
      "34:\tlearn: 2173.9093723\ttotal: 1.02s\tremaining: 1.9s\n",
      "35:\tlearn: 2154.3849403\ttotal: 1.05s\tremaining: 1.86s\n",
      "36:\tlearn: 2135.9180041\ttotal: 1.07s\tremaining: 1.83s\n",
      "37:\tlearn: 2118.2966449\ttotal: 1.1s\tremaining: 1.8s\n",
      "38:\tlearn: 2101.9908027\ttotal: 1.13s\tremaining: 1.76s\n",
      "39:\tlearn: 2087.2832616\ttotal: 1.17s\tremaining: 1.76s\n",
      "40:\tlearn: 2072.7390938\ttotal: 1.22s\tremaining: 1.75s\n",
      "41:\tlearn: 2059.6800808\ttotal: 1.24s\tremaining: 1.72s\n",
      "42:\tlearn: 2046.7250370\ttotal: 1.29s\tremaining: 1.72s\n",
      "43:\tlearn: 2035.0935519\ttotal: 1.33s\tremaining: 1.7s\n",
      "44:\tlearn: 2023.6956203\ttotal: 1.36s\tremaining: 1.66s\n",
      "45:\tlearn: 2012.2986442\ttotal: 1.38s\tremaining: 1.62s\n",
      "46:\tlearn: 2002.6155450\ttotal: 1.4s\tremaining: 1.58s\n",
      "47:\tlearn: 1993.3720845\ttotal: 1.42s\tremaining: 1.54s\n",
      "48:\tlearn: 1984.5015604\ttotal: 1.44s\tremaining: 1.5s\n",
      "49:\tlearn: 1975.5696132\ttotal: 1.47s\tremaining: 1.47s\n",
      "50:\tlearn: 1967.4589253\ttotal: 1.5s\tremaining: 1.44s\n",
      "51:\tlearn: 1959.9874480\ttotal: 1.52s\tremaining: 1.4s\n",
      "52:\tlearn: 1952.7163000\ttotal: 1.54s\tremaining: 1.37s\n",
      "53:\tlearn: 1946.3954917\ttotal: 1.56s\tremaining: 1.33s\n",
      "54:\tlearn: 1937.8770098\ttotal: 1.59s\tremaining: 1.3s\n",
      "55:\tlearn: 1931.3879043\ttotal: 1.61s\tremaining: 1.26s\n",
      "56:\tlearn: 1925.0135610\ttotal: 1.64s\tremaining: 1.24s\n",
      "57:\tlearn: 1919.1262699\ttotal: 1.67s\tremaining: 1.21s\n",
      "58:\tlearn: 1913.9778936\ttotal: 1.69s\tremaining: 1.18s\n",
      "59:\tlearn: 1908.1834651\ttotal: 1.73s\tremaining: 1.15s\n",
      "60:\tlearn: 1903.0094650\ttotal: 1.75s\tremaining: 1.12s\n",
      "61:\tlearn: 1898.4173688\ttotal: 1.77s\tremaining: 1.09s\n",
      "62:\tlearn: 1894.0747266\ttotal: 1.8s\tremaining: 1.05s\n",
      "63:\tlearn: 1889.8295230\ttotal: 1.82s\tremaining: 1.02s\n",
      "64:\tlearn: 1885.5596035\ttotal: 1.84s\tremaining: 994ms\n",
      "65:\tlearn: 1881.9404375\ttotal: 1.87s\tremaining: 963ms\n",
      "66:\tlearn: 1878.2165116\ttotal: 1.89s\tremaining: 933ms\n",
      "67:\tlearn: 1874.1100416\ttotal: 1.92s\tremaining: 905ms\n",
      "68:\tlearn: 1870.4977613\ttotal: 1.95s\tremaining: 876ms\n",
      "69:\tlearn: 1867.2855401\ttotal: 1.97s\tremaining: 845ms\n",
      "70:\tlearn: 1862.7143327\ttotal: 1.99s\tremaining: 815ms\n",
      "71:\tlearn: 1859.7681317\ttotal: 2.02s\tremaining: 787ms\n",
      "72:\tlearn: 1855.3328634\ttotal: 2.05s\tremaining: 759ms\n",
      "73:\tlearn: 1852.8377144\ttotal: 2.09s\tremaining: 734ms\n",
      "74:\tlearn: 1848.3994539\ttotal: 2.13s\tremaining: 709ms\n",
      "75:\tlearn: 1845.0631602\ttotal: 2.18s\tremaining: 687ms\n",
      "76:\tlearn: 1842.3870870\ttotal: 2.21s\tremaining: 660ms\n",
      "77:\tlearn: 1839.6342362\ttotal: 2.23s\tremaining: 630ms\n",
      "78:\tlearn: 1836.3011552\ttotal: 2.26s\tremaining: 600ms\n",
      "79:\tlearn: 1832.7300399\ttotal: 2.27s\tremaining: 568ms\n",
      "80:\tlearn: 1829.7711873\ttotal: 2.28s\tremaining: 536ms\n",
      "81:\tlearn: 1827.7245934\ttotal: 2.3s\tremaining: 506ms\n",
      "82:\tlearn: 1825.5468500\ttotal: 2.33s\tremaining: 476ms\n",
      "83:\tlearn: 1822.7560220\ttotal: 2.35s\tremaining: 447ms\n",
      "84:\tlearn: 1821.0656281\ttotal: 2.36s\tremaining: 416ms\n",
      "85:\tlearn: 1817.8065787\ttotal: 2.38s\tremaining: 387ms\n",
      "86:\tlearn: 1815.0069980\ttotal: 2.4s\tremaining: 359ms\n",
      "87:\tlearn: 1813.3199804\ttotal: 2.42s\tremaining: 330ms\n",
      "88:\tlearn: 1811.9579342\ttotal: 2.44s\tremaining: 302ms\n",
      "89:\tlearn: 1809.1439564\ttotal: 2.47s\tremaining: 274ms\n",
      "90:\tlearn: 1806.8048200\ttotal: 2.48s\tremaining: 245ms\n",
      "91:\tlearn: 1804.3696251\ttotal: 2.5s\tremaining: 217ms\n",
      "92:\tlearn: 1802.7461358\ttotal: 2.51s\tremaining: 189ms\n",
      "93:\tlearn: 1800.9130477\ttotal: 2.55s\tremaining: 163ms\n",
      "94:\tlearn: 1798.9683054\ttotal: 2.58s\tremaining: 136ms\n",
      "95:\tlearn: 1797.4730169\ttotal: 2.6s\tremaining: 108ms\n",
      "96:\tlearn: 1795.0925271\ttotal: 2.62s\tremaining: 81.2ms\n",
      "97:\tlearn: 1793.8768641\ttotal: 2.64s\tremaining: 53.9ms\n",
      "98:\tlearn: 1792.4325686\ttotal: 2.67s\tremaining: 26.9ms\n",
      "99:\tlearn: 1790.4953966\ttotal: 2.69s\tremaining: 0us\n",
      "0:\tlearn: 4421.2194748\ttotal: 28.1ms\tremaining: 2.78s\n",
      "1:\tlearn: 4117.3077991\ttotal: 52.9ms\tremaining: 2.59s\n",
      "2:\tlearn: 3849.0660968\ttotal: 85.3ms\tremaining: 2.76s\n",
      "3:\tlearn: 3612.5388570\ttotal: 109ms\tremaining: 2.62s\n",
      "4:\tlearn: 3406.5419090\ttotal: 158ms\tremaining: 3s\n",
      "5:\tlearn: 3221.8589068\ttotal: 189ms\tremaining: 2.96s\n",
      "6:\tlearn: 3054.9619301\ttotal: 214ms\tremaining: 2.84s\n",
      "7:\tlearn: 2911.3116793\ttotal: 248ms\tremaining: 2.86s\n",
      "8:\tlearn: 2780.3252722\ttotal: 277ms\tremaining: 2.8s\n",
      "9:\tlearn: 2667.2509104\ttotal: 304ms\tremaining: 2.74s\n",
      "10:\tlearn: 2567.5383257\ttotal: 325ms\tremaining: 2.63s\n",
      "11:\tlearn: 2480.2366559\ttotal: 347ms\tremaining: 2.54s\n",
      "12:\tlearn: 2403.6616236\ttotal: 393ms\tremaining: 2.63s\n",
      "13:\tlearn: 2336.5147518\ttotal: 420ms\tremaining: 2.58s\n",
      "14:\tlearn: 2277.0490107\ttotal: 462ms\tremaining: 2.62s\n",
      "15:\tlearn: 2226.4176325\ttotal: 509ms\tremaining: 2.67s\n",
      "16:\tlearn: 2182.7217613\ttotal: 539ms\tremaining: 2.63s\n",
      "17:\tlearn: 2141.3049981\ttotal: 558ms\tremaining: 2.54s\n",
      "18:\tlearn: 2109.3949661\ttotal: 580ms\tremaining: 2.47s\n",
      "19:\tlearn: 2077.6346893\ttotal: 598ms\tremaining: 2.39s\n",
      "20:\tlearn: 2051.4566112\ttotal: 621ms\tremaining: 2.33s\n",
      "21:\tlearn: 2029.2924927\ttotal: 644ms\tremaining: 2.28s\n",
      "22:\tlearn: 2009.4899987\ttotal: 676ms\tremaining: 2.26s\n",
      "23:\tlearn: 1987.5656624\ttotal: 701ms\tremaining: 2.22s\n",
      "24:\tlearn: 1970.3433150\ttotal: 721ms\tremaining: 2.16s\n",
      "25:\tlearn: 1955.0708697\ttotal: 742ms\tremaining: 2.11s\n",
      "26:\tlearn: 1941.7428069\ttotal: 767ms\tremaining: 2.07s\n",
      "27:\tlearn: 1929.6287059\ttotal: 793ms\tremaining: 2.04s\n",
      "28:\tlearn: 1914.0646312\ttotal: 819ms\tremaining: 2s\n",
      "29:\tlearn: 1901.5419633\ttotal: 843ms\tremaining: 1.97s\n",
      "30:\tlearn: 1889.1575648\ttotal: 865ms\tremaining: 1.92s\n",
      "31:\tlearn: 1879.0099525\ttotal: 900ms\tremaining: 1.91s\n",
      "32:\tlearn: 1870.9742926\ttotal: 927ms\tremaining: 1.88s\n",
      "33:\tlearn: 1863.8431427\ttotal: 953ms\tremaining: 1.85s\n",
      "34:\tlearn: 1856.1563232\ttotal: 974ms\tremaining: 1.81s\n",
      "35:\tlearn: 1851.1736145\ttotal: 995ms\tremaining: 1.77s\n",
      "36:\tlearn: 1844.8853255\ttotal: 1.02s\tremaining: 1.75s\n",
      "37:\tlearn: 1837.1950244\ttotal: 1.05s\tremaining: 1.72s\n",
      "38:\tlearn: 1832.9832557\ttotal: 1.08s\tremaining: 1.69s\n",
      "39:\tlearn: 1826.9449485\ttotal: 1.1s\tremaining: 1.65s\n",
      "40:\tlearn: 1822.3403968\ttotal: 1.12s\tremaining: 1.61s\n",
      "41:\tlearn: 1818.7688016\ttotal: 1.15s\tremaining: 1.59s\n",
      "42:\tlearn: 1814.0426962\ttotal: 1.18s\tremaining: 1.56s\n",
      "43:\tlearn: 1809.3682339\ttotal: 1.21s\tremaining: 1.53s\n",
      "44:\tlearn: 1806.5439170\ttotal: 1.22s\tremaining: 1.5s\n",
      "45:\tlearn: 1801.9782121\ttotal: 1.26s\tremaining: 1.48s\n",
      "46:\tlearn: 1798.7296196\ttotal: 1.29s\tremaining: 1.46s\n",
      "47:\tlearn: 1795.1494392\ttotal: 1.32s\tremaining: 1.43s\n",
      "48:\tlearn: 1792.4509515\ttotal: 1.35s\tremaining: 1.4s\n",
      "49:\tlearn: 1789.3214397\ttotal: 1.38s\tremaining: 1.38s\n",
      "50:\tlearn: 1786.6551356\ttotal: 1.4s\tremaining: 1.35s\n",
      "51:\tlearn: 1784.3035650\ttotal: 1.43s\tremaining: 1.32s\n",
      "52:\tlearn: 1779.7655459\ttotal: 1.47s\tremaining: 1.3s\n",
      "53:\tlearn: 1775.9254099\ttotal: 1.49s\tremaining: 1.27s\n",
      "54:\tlearn: 1774.1488666\ttotal: 1.53s\tremaining: 1.25s\n",
      "55:\tlearn: 1772.1822776\ttotal: 1.55s\tremaining: 1.22s\n",
      "56:\tlearn: 1769.7252661\ttotal: 1.59s\tremaining: 1.2s\n",
      "57:\tlearn: 1766.6776268\ttotal: 1.61s\tremaining: 1.17s\n",
      "58:\tlearn: 1763.7647848\ttotal: 1.64s\tremaining: 1.14s\n",
      "59:\tlearn: 1761.9760371\ttotal: 1.66s\tremaining: 1.11s\n",
      "60:\tlearn: 1758.9602008\ttotal: 1.69s\tremaining: 1.08s\n",
      "61:\tlearn: 1757.3583390\ttotal: 1.71s\tremaining: 1.05s\n",
      "62:\tlearn: 1755.4358738\ttotal: 1.74s\tremaining: 1.02s\n",
      "63:\tlearn: 1752.2455184\ttotal: 1.78s\tremaining: 1000ms\n",
      "64:\tlearn: 1750.8926243\ttotal: 1.8s\tremaining: 969ms\n",
      "65:\tlearn: 1749.8775932\ttotal: 1.84s\tremaining: 947ms\n",
      "66:\tlearn: 1748.0278764\ttotal: 1.86s\tremaining: 918ms\n",
      "67:\tlearn: 1746.1012981\ttotal: 1.89s\tremaining: 889ms\n",
      "68:\tlearn: 1743.2611100\ttotal: 1.92s\tremaining: 862ms\n",
      "69:\tlearn: 1741.6502572\ttotal: 1.95s\tremaining: 834ms\n",
      "70:\tlearn: 1740.5741103\ttotal: 1.97s\tremaining: 805ms\n",
      "71:\tlearn: 1739.6157207\ttotal: 2.01s\tremaining: 780ms\n",
      "72:\tlearn: 1738.4017310\ttotal: 2.04s\tremaining: 754ms\n",
      "73:\tlearn: 1737.4045712\ttotal: 2.06s\tremaining: 725ms\n",
      "74:\tlearn: 1736.4029297\ttotal: 2.08s\tremaining: 695ms\n",
      "75:\tlearn: 1734.6476303\ttotal: 2.11s\tremaining: 667ms\n",
      "76:\tlearn: 1732.8488578\ttotal: 2.14s\tremaining: 638ms\n",
      "77:\tlearn: 1731.5804710\ttotal: 2.16s\tremaining: 609ms\n",
      "78:\tlearn: 1729.9208197\ttotal: 2.18s\tremaining: 581ms\n",
      "79:\tlearn: 1728.1051476\ttotal: 2.21s\tremaining: 552ms\n",
      "80:\tlearn: 1726.2648672\ttotal: 2.24s\tremaining: 525ms\n",
      "81:\tlearn: 1725.6490852\ttotal: 2.26s\tremaining: 497ms\n",
      "82:\tlearn: 1724.4978088\ttotal: 2.29s\tremaining: 470ms\n",
      "83:\tlearn: 1722.7739293\ttotal: 2.32s\tremaining: 443ms\n",
      "84:\tlearn: 1721.6845393\ttotal: 2.36s\tremaining: 416ms\n",
      "85:\tlearn: 1720.1581012\ttotal: 2.38s\tremaining: 388ms\n",
      "86:\tlearn: 1718.7697507\ttotal: 2.42s\tremaining: 361ms\n",
      "87:\tlearn: 1716.7635959\ttotal: 2.45s\tremaining: 334ms\n",
      "88:\tlearn: 1715.0259898\ttotal: 2.47s\tremaining: 305ms\n",
      "89:\tlearn: 1714.3316092\ttotal: 2.49s\tremaining: 277ms\n",
      "90:\tlearn: 1712.6829305\ttotal: 2.51s\tremaining: 248ms\n",
      "91:\tlearn: 1711.2998712\ttotal: 2.54s\tremaining: 220ms\n",
      "92:\tlearn: 1710.1450298\ttotal: 2.57s\tremaining: 193ms\n",
      "93:\tlearn: 1709.2543816\ttotal: 2.61s\tremaining: 167ms\n",
      "94:\tlearn: 1707.9563552\ttotal: 2.64s\tremaining: 139ms\n",
      "95:\tlearn: 1706.5867727\ttotal: 2.66s\tremaining: 111ms\n",
      "96:\tlearn: 1704.8148352\ttotal: 2.7s\tremaining: 83.4ms\n",
      "97:\tlearn: 1703.9373944\ttotal: 2.72s\tremaining: 55.6ms\n",
      "98:\tlearn: 1702.6755106\ttotal: 2.76s\tremaining: 27.9ms\n",
      "99:\tlearn: 1701.9897835\ttotal: 2.79s\tremaining: 0us\n",
      "0:\tlearn: 4737.6685823\ttotal: 53.7ms\tremaining: 1.56s\n",
      "1:\tlearn: 4701.9639142\ttotal: 113ms\tremaining: 1.58s\n",
      "2:\tlearn: 4666.5525766\ttotal: 158ms\tremaining: 1.42s\n",
      "3:\tlearn: 4632.5762338\ttotal: 201ms\tremaining: 1.3s\n",
      "4:\tlearn: 4598.2198701\ttotal: 253ms\tremaining: 1.26s\n",
      "5:\tlearn: 4563.8067300\ttotal: 294ms\tremaining: 1.18s\n",
      "6:\tlearn: 4529.6270225\ttotal: 330ms\tremaining: 1.08s\n",
      "7:\tlearn: 4496.5140030\ttotal: 378ms\tremaining: 1.04s\n",
      "8:\tlearn: 4463.6065173\ttotal: 423ms\tremaining: 986ms\n",
      "9:\tlearn: 4431.2282851\ttotal: 461ms\tremaining: 921ms\n",
      "10:\tlearn: 4399.3415431\ttotal: 523ms\tremaining: 903ms\n",
      "11:\tlearn: 4367.6203577\ttotal: 586ms\tremaining: 879ms\n",
      "12:\tlearn: 4336.0863129\ttotal: 623ms\tremaining: 815ms\n",
      "13:\tlearn: 4304.9351555\ttotal: 674ms\tremaining: 771ms\n",
      "14:\tlearn: 4274.4545101\ttotal: 723ms\tremaining: 723ms\n",
      "15:\tlearn: 4244.3632346\ttotal: 781ms\tremaining: 683ms\n",
      "16:\tlearn: 4214.7277606\ttotal: 846ms\tremaining: 647ms\n",
      "17:\tlearn: 4185.5726926\ttotal: 890ms\tremaining: 593ms\n",
      "18:\tlearn: 4156.1739134\ttotal: 932ms\tremaining: 539ms\n",
      "19:\tlearn: 4126.7993480\ttotal: 974ms\tremaining: 487ms\n",
      "20:\tlearn: 4097.9818323\ttotal: 1.03s\tremaining: 441ms\n",
      "21:\tlearn: 4069.4255294\ttotal: 1.11s\tremaining: 403ms\n",
      "22:\tlearn: 4041.6728907\ttotal: 1.18s\tremaining: 358ms\n",
      "23:\tlearn: 4013.8942970\ttotal: 1.23s\tremaining: 307ms\n",
      "24:\tlearn: 3986.5944792\ttotal: 1.29s\tremaining: 257ms\n",
      "25:\tlearn: 3959.8083914\ttotal: 1.33s\tremaining: 205ms\n",
      "26:\tlearn: 3933.0982851\ttotal: 1.38s\tremaining: 154ms\n",
      "27:\tlearn: 3906.9458208\ttotal: 1.43s\tremaining: 102ms\n",
      "28:\tlearn: 3880.5328848\ttotal: 1.51s\tremaining: 52ms\n",
      "29:\tlearn: 3854.5170491\ttotal: 1.57s\tremaining: 0us\n",
      "0:\tlearn: 4402.3842062\ttotal: 50.2ms\tremaining: 1.46s\n",
      "1:\tlearn: 4089.3336896\ttotal: 98.9ms\tremaining: 1.38s\n",
      "2:\tlearn: 3809.0723595\ttotal: 142ms\tremaining: 1.28s\n",
      "3:\tlearn: 3562.1394025\ttotal: 182ms\tremaining: 1.18s\n",
      "4:\tlearn: 3343.5138261\ttotal: 261ms\tremaining: 1.31s\n",
      "5:\tlearn: 3152.3351138\ttotal: 307ms\tremaining: 1.23s\n",
      "6:\tlearn: 2983.4642686\ttotal: 369ms\tremaining: 1.21s\n",
      "7:\tlearn: 2834.6000452\ttotal: 411ms\tremaining: 1.13s\n",
      "8:\tlearn: 2700.8357738\ttotal: 468ms\tremaining: 1.09s\n",
      "9:\tlearn: 2585.9348588\ttotal: 527ms\tremaining: 1.05s\n",
      "10:\tlearn: 2486.4185542\ttotal: 590ms\tremaining: 1.02s\n",
      "11:\tlearn: 2399.1454473\ttotal: 632ms\tremaining: 948ms\n",
      "12:\tlearn: 2324.0248924\ttotal: 676ms\tremaining: 884ms\n",
      "13:\tlearn: 2258.4346599\ttotal: 734ms\tremaining: 839ms\n",
      "14:\tlearn: 2202.3016149\ttotal: 775ms\tremaining: 775ms\n",
      "15:\tlearn: 2153.2946827\ttotal: 826ms\tremaining: 723ms\n",
      "16:\tlearn: 2110.1669334\ttotal: 870ms\tremaining: 665ms\n",
      "17:\tlearn: 2069.7096008\ttotal: 929ms\tremaining: 619ms\n",
      "18:\tlearn: 2035.3386990\ttotal: 974ms\tremaining: 564ms\n",
      "19:\tlearn: 2003.3839499\ttotal: 1.02s\tremaining: 510ms\n",
      "20:\tlearn: 1975.7716861\ttotal: 1.06s\tremaining: 457ms\n",
      "21:\tlearn: 1951.0306263\ttotal: 1.11s\tremaining: 405ms\n",
      "22:\tlearn: 1930.6999295\ttotal: 1.16s\tremaining: 354ms\n",
      "23:\tlearn: 1913.1783606\ttotal: 1.21s\tremaining: 302ms\n",
      "24:\tlearn: 1895.7708226\ttotal: 1.26s\tremaining: 253ms\n",
      "25:\tlearn: 1881.1738937\ttotal: 1.31s\tremaining: 201ms\n",
      "26:\tlearn: 1867.3151971\ttotal: 1.35s\tremaining: 150ms\n",
      "27:\tlearn: 1854.1981252\ttotal: 1.4s\tremaining: 99.7ms\n",
      "28:\tlearn: 1843.8762901\ttotal: 1.44s\tremaining: 49.7ms\n",
      "29:\tlearn: 1834.4822854\ttotal: 1.53s\tremaining: 0us\n",
      "0:\tlearn: 4598.1817715\ttotal: 76.6ms\tremaining: 3.75s\n",
      "1:\tlearn: 4428.9991398\ttotal: 149ms\tremaining: 3.58s\n",
      "2:\tlearn: 4268.5927178\ttotal: 203ms\tremaining: 3.17s\n",
      "3:\tlearn: 4120.6615601\ttotal: 279ms\tremaining: 3.21s\n",
      "4:\tlearn: 3976.9285520\ttotal: 328ms\tremaining: 2.95s\n",
      "5:\tlearn: 3841.4319306\ttotal: 388ms\tremaining: 2.84s\n",
      "6:\tlearn: 3717.2770493\ttotal: 437ms\tremaining: 2.69s\n",
      "7:\tlearn: 3601.1014443\ttotal: 480ms\tremaining: 2.52s\n",
      "8:\tlearn: 3488.8777052\ttotal: 532ms\tremaining: 2.42s\n",
      "9:\tlearn: 3383.2453600\ttotal: 585ms\tremaining: 2.34s\n",
      "10:\tlearn: 3284.3604282\ttotal: 631ms\tremaining: 2.24s\n",
      "11:\tlearn: 3191.1214677\ttotal: 672ms\tremaining: 2.13s\n",
      "12:\tlearn: 3103.2780299\ttotal: 728ms\tremaining: 2.07s\n",
      "13:\tlearn: 3020.3795784\ttotal: 768ms\tremaining: 1.98s\n",
      "14:\tlearn: 2941.9542895\ttotal: 815ms\tremaining: 1.9s\n",
      "15:\tlearn: 2870.2328710\ttotal: 881ms\tremaining: 1.87s\n",
      "16:\tlearn: 2802.8673895\ttotal: 921ms\tremaining: 1.79s\n",
      "17:\tlearn: 2738.6893687\ttotal: 973ms\tremaining: 1.73s\n",
      "18:\tlearn: 2677.6689846\ttotal: 1.03s\tremaining: 1.68s\n",
      "19:\tlearn: 2621.3385395\ttotal: 1.07s\tremaining: 1.6s\n",
      "20:\tlearn: 2568.2671194\ttotal: 1.11s\tremaining: 1.54s\n",
      "21:\tlearn: 2519.4805428\ttotal: 1.17s\tremaining: 1.49s\n",
      "22:\tlearn: 2473.8972811\ttotal: 1.21s\tremaining: 1.42s\n",
      "23:\tlearn: 2429.4598839\ttotal: 1.25s\tremaining: 1.36s\n",
      "24:\tlearn: 2387.3552099\ttotal: 1.3s\tremaining: 1.3s\n",
      "25:\tlearn: 2350.2369633\ttotal: 1.35s\tremaining: 1.25s\n",
      "46:\tlearn: 1803.8155969\ttotal: 1.21s\tremaining: 77.3ms\n",
      "47:\tlearn: 1800.8832249\ttotal: 1.24s\tremaining: 51.7ms\n",
      "48:\tlearn: 1796.3772280\ttotal: 1.28s\tremaining: 26.2ms\n",
      "49:\tlearn: 1792.2531889\ttotal: 1.31s\tremaining: 0us\n",
      "0:\tlearn: 4726.6048107\ttotal: 26ms\tremaining: 2.58s\n",
      "1:\tlearn: 4692.2841032\ttotal: 55.4ms\tremaining: 2.71s\n",
      "2:\tlearn: 4658.4193605\ttotal: 83.3ms\tremaining: 2.69s\n",
      "3:\tlearn: 4624.7256811\ttotal: 118ms\tremaining: 2.82s\n",
      "4:\tlearn: 4591.4283552\ttotal: 146ms\tremaining: 2.78s\n",
      "5:\tlearn: 4558.9966911\ttotal: 187ms\tremaining: 2.94s\n",
      "6:\tlearn: 4527.0492363\ttotal: 209ms\tremaining: 2.78s\n",
      "7:\tlearn: 4495.0180612\ttotal: 237ms\tremaining: 2.72s\n",
      "8:\tlearn: 4463.1972002\ttotal: 263ms\tremaining: 2.66s\n",
      "9:\tlearn: 4432.2667877\ttotal: 295ms\tremaining: 2.65s\n",
      "10:\tlearn: 4401.5691027\ttotal: 329ms\tremaining: 2.66s\n",
      "11:\tlearn: 4370.9621615\ttotal: 360ms\tremaining: 2.64s\n",
      "12:\tlearn: 4340.9495402\ttotal: 386ms\tremaining: 2.58s\n",
      "13:\tlearn: 4311.0888371\ttotal: 416ms\tremaining: 2.56s\n",
      "14:\tlearn: 4281.0819978\ttotal: 453ms\tremaining: 2.57s\n",
      "15:\tlearn: 4251.9350052\ttotal: 480ms\tremaining: 2.52s\n",
      "16:\tlearn: 4223.1549046\ttotal: 519ms\tremaining: 2.54s\n",
      "17:\tlearn: 4194.6791049\ttotal: 555ms\tremaining: 2.53s\n",
      "18:\tlearn: 4166.2526979\ttotal: 581ms\tremaining: 2.48s\n",
      "19:\tlearn: 4138.7189990\ttotal: 613ms\tremaining: 2.45s\n",
      "20:\tlearn: 4111.0360396\ttotal: 640ms\tremaining: 2.41s\n",
      "21:\tlearn: 4084.1443099\ttotal: 667ms\tremaining: 2.37s\n",
      "22:\tlearn: 4057.6743365\ttotal: 692ms\tremaining: 2.32s\n",
      "23:\tlearn: 4031.1522772\ttotal: 716ms\tremaining: 2.27s\n",
      "24:\tlearn: 4004.7580664\ttotal: 753ms\tremaining: 2.26s\n",
      "25:\tlearn: 3978.9576043\ttotal: 781ms\tremaining: 2.22s\n",
      "26:\tlearn: 3953.1858440\ttotal: 815ms\tremaining: 2.2s\n",
      "27:\tlearn: 3927.8955060\ttotal: 845ms\tremaining: 2.17s\n",
      "28:\tlearn: 3902.7160708\ttotal: 872ms\tremaining: 2.13s\n",
      "29:\tlearn: 3878.0105576\ttotal: 912ms\tremaining: 2.13s\n",
      "30:\tlearn: 3853.2655094\ttotal: 940ms\tremaining: 2.09s\n",
      "31:\tlearn: 3828.8497039\ttotal: 967ms\tremaining: 2.05s\n",
      "32:\tlearn: 3804.7366940\ttotal: 994ms\tremaining: 2.02s\n",
      "33:\tlearn: 3781.1822897\ttotal: 1.02s\tremaining: 1.99s\n",
      "34:\tlearn: 3757.8965639\ttotal: 1.05s\tremaining: 1.95s\n",
      "35:\tlearn: 3734.8918952\ttotal: 1.07s\tremaining: 1.91s\n",
      "36:\tlearn: 3712.0257360\ttotal: 1.11s\tremaining: 1.89s\n",
      "37:\tlearn: 3689.3320934\ttotal: 1.14s\tremaining: 1.86s\n",
      "38:\tlearn: 3666.9612751\ttotal: 1.18s\tremaining: 1.85s\n",
      "39:\tlearn: 3645.1600744\ttotal: 1.21s\tremaining: 1.81s\n",
      "40:\tlearn: 3623.5376114\ttotal: 1.24s\tremaining: 1.78s\n",
      "41:\tlearn: 3601.7695545\ttotal: 1.26s\tremaining: 1.75s\n",
      "42:\tlearn: 3580.7670724\ttotal: 1.29s\tremaining: 1.71s\n",
      "43:\tlearn: 3559.9784261\ttotal: 1.32s\tremaining: 1.68s\n",
      "44:\tlearn: 3539.1558354\ttotal: 1.36s\tremaining: 1.66s\n",
      "45:\tlearn: 3518.6542721\ttotal: 1.39s\tremaining: 1.63s\n",
      "46:\tlearn: 3498.1431048\ttotal: 1.42s\tremaining: 1.6s\n",
      "47:\tlearn: 3478.0889028\ttotal: 1.44s\tremaining: 1.56s\n",
      "48:\tlearn: 3458.1789589\ttotal: 1.48s\tremaining: 1.54s\n",
      "49:\tlearn: 3438.5119089\ttotal: 1.52s\tremaining: 1.52s\n",
      "50:\tlearn: 3419.2057119\ttotal: 1.55s\tremaining: 1.49s\n",
      "51:\tlearn: 3399.9175979\ttotal: 1.57s\tremaining: 1.45s\n",
      "52:\tlearn: 3381.0640492\ttotal: 1.6s\tremaining: 1.42s\n",
      "53:\tlearn: 3362.2273387\ttotal: 1.63s\tremaining: 1.39s\n",
      "54:\tlearn: 3343.6682684\ttotal: 1.65s\tremaining: 1.35s\n",
      "55:\tlearn: 3325.3707169\ttotal: 1.68s\tremaining: 1.32s\n",
      "56:\tlearn: 3307.4667985\ttotal: 1.7s\tremaining: 1.28s\n",
      "57:\tlearn: 3289.5780911\ttotal: 1.73s\tremaining: 1.25s\n",
      "58:\tlearn: 3271.9119487\ttotal: 1.75s\tremaining: 1.22s\n",
      "59:\tlearn: 3254.1846374\ttotal: 1.78s\tremaining: 1.19s\n",
      "60:\tlearn: 3237.0079989\ttotal: 1.81s\tremaining: 1.16s\n",
      "61:\tlearn: 3220.2769017\ttotal: 1.84s\tremaining: 1.13s\n",
      "62:\tlearn: 3203.1490780\ttotal: 1.86s\tremaining: 1.09s\n",
      "63:\tlearn: 3186.3945923\ttotal: 1.89s\tremaining: 1.06s\n",
      "64:\tlearn: 3170.0269987\ttotal: 1.91s\tremaining: 1.03s\n",
      "65:\tlearn: 3153.7454693\ttotal: 1.94s\tremaining: 998ms\n",
      "66:\tlearn: 3137.5325170\ttotal: 1.96s\tremaining: 964ms\n",
      "67:\tlearn: 3121.7227583\ttotal: 1.98s\tremaining: 933ms\n",
      "68:\tlearn: 3105.8686367\ttotal: 2.02s\tremaining: 905ms\n",
      "69:\tlearn: 3090.1216934\ttotal: 2.04s\tremaining: 875ms\n",
      "70:\tlearn: 3074.7285063\ttotal: 2.06s\tremaining: 843ms\n",
      "71:\tlearn: 3059.8330397\ttotal: 2.09s\tremaining: 813ms\n",
      "72:\tlearn: 3044.6484215\ttotal: 2.12s\tremaining: 783ms\n",
      "73:\tlearn: 3029.8970257\ttotal: 2.15s\tremaining: 755ms\n",
      "74:\tlearn: 3015.1342640\ttotal: 2.19s\tremaining: 730ms\n",
      "75:\tlearn: 3000.7416553\ttotal: 2.22s\tremaining: 700ms\n",
      "76:\tlearn: 2986.2599016\ttotal: 2.24s\tremaining: 670ms\n",
      "77:\tlearn: 2972.0877700\ttotal: 2.27s\tremaining: 639ms\n",
      "78:\tlearn: 2958.0976602\ttotal: 2.29s\tremaining: 610ms\n",
      "79:\tlearn: 2944.1133927\ttotal: 2.34s\tremaining: 585ms\n",
      "80:\tlearn: 2930.5385853\ttotal: 2.38s\tremaining: 559ms\n",
      "81:\tlearn: 2917.3949756\ttotal: 2.43s\tremaining: 533ms\n",
      "82:\tlearn: 2904.1153823\ttotal: 2.46s\tremaining: 504ms\n",
      "83:\tlearn: 2891.2045681\ttotal: 2.49s\tremaining: 475ms\n",
      "84:\tlearn: 2878.4893373\ttotal: 2.53s\tremaining: 447ms\n",
      "85:\tlearn: 2865.4797610\ttotal: 2.58s\tremaining: 419ms\n",
      "86:\tlearn: 2852.6385699\ttotal: 2.61s\tremaining: 391ms\n",
      "87:\tlearn: 2840.3203946\ttotal: 2.67s\tremaining: 365ms\n",
      "88:\tlearn: 2827.9235796\ttotal: 2.74s\tremaining: 339ms\n",
      "89:\tlearn: 2815.8364856\ttotal: 2.77s\tremaining: 308ms\n",
      "90:\tlearn: 2803.5339918\ttotal: 2.8s\tremaining: 277ms\n",
      "91:\tlearn: 2791.4023243\ttotal: 2.82s\tremaining: 245ms\n",
      "92:\tlearn: 2779.9002319\ttotal: 2.85s\tremaining: 214ms\n",
      "93:\tlearn: 2768.0375287\ttotal: 2.87s\tremaining: 183ms\n",
      "94:\tlearn: 2756.6345504\ttotal: 2.91s\tremaining: 153ms\n",
      "95:\tlearn: 2745.5649569\ttotal: 2.93s\tremaining: 122ms\n",
      "96:\tlearn: 2734.3666429\ttotal: 2.95s\tremaining: 91.4ms\n",
      "97:\tlearn: 2723.4815331\ttotal: 2.98s\tremaining: 60.8ms\n",
      "98:\tlearn: 2712.6701535\ttotal: 3.01s\tremaining: 30.4ms\n",
      "99:\tlearn: 2701.8219036\ttotal: 3.04s\tremaining: 0us\n",
      "0:\tlearn: 4425.5035566\ttotal: 34.7ms\tremaining: 3.44s\n",
      "1:\tlearn: 4118.9942787\ttotal: 57.1ms\tremaining: 2.8s\n",
      "2:\tlearn: 3851.4074885\ttotal: 84.7ms\tremaining: 2.74s\n",
      "3:\tlearn: 3616.3426938\ttotal: 131ms\tremaining: 3.14s\n",
      "4:\tlearn: 3408.4030905\ttotal: 166ms\tremaining: 3.16s\n",
      "5:\tlearn: 3221.5847609\ttotal: 212ms\tremaining: 3.33s\n",
      "6:\tlearn: 3059.7181198\ttotal: 267ms\tremaining: 3.54s\n",
      "7:\tlearn: 2914.7523876\ttotal: 296ms\tremaining: 3.4s\n",
      "8:\tlearn: 2788.5825575\ttotal: 335ms\tremaining: 3.39s\n",
      "9:\tlearn: 2674.2568917\ttotal: 366ms\tremaining: 3.3s\n",
      "10:\tlearn: 2578.5363261\ttotal: 416ms\tremaining: 3.37s\n",
      "11:\tlearn: 2494.5323989\ttotal: 475ms\tremaining: 3.48s\n",
      "12:\tlearn: 2417.2287911\ttotal: 534ms\tremaining: 3.58s\n",
      "13:\tlearn: 2352.1199605\ttotal: 602ms\tremaining: 3.7s\n",
      "14:\tlearn: 2293.8319900\ttotal: 652ms\tremaining: 3.7s\n",
      "15:\tlearn: 2241.7510569\ttotal: 709ms\tremaining: 3.72s\n",
      "16:\tlearn: 2197.1133038\ttotal: 752ms\tremaining: 3.67s\n",
      "17:\tlearn: 2158.1047742\ttotal: 792ms\tremaining: 3.61s\n",
      "18:\tlearn: 2123.3261953\ttotal: 851ms\tremaining: 3.63s\n",
      "19:\tlearn: 2093.1927280\ttotal: 916ms\tremaining: 3.66s\n",
      "20:\tlearn: 2063.1636170\ttotal: 968ms\tremaining: 3.64s\n",
      "21:\tlearn: 2039.9864554\ttotal: 1.06s\tremaining: 3.78s\n",
      "22:\tlearn: 2020.9851732\ttotal: 1.11s\tremaining: 3.71s\n",
      "23:\tlearn: 1998.2812893\ttotal: 1.15s\tremaining: 3.63s\n",
      "24:\tlearn: 1981.4951194\ttotal: 1.18s\tremaining: 3.54s\n",
      "25:\tlearn: 1965.4566994\ttotal: 1.21s\tremaining: 3.44s\n",
      "26:\tlearn: 1950.9184183\ttotal: 1.24s\tremaining: 3.36s\n",
      "27:\tlearn: 1939.3100401\ttotal: 1.27s\tremaining: 3.27s\n",
      "28:\tlearn: 1927.8463655\ttotal: 1.29s\tremaining: 3.17s\n",
      "29:\tlearn: 1914.4014810\ttotal: 1.34s\tremaining: 3.13s\n",
      "30:\tlearn: 1905.8321008\ttotal: 1.36s\tremaining: 3.04s\n",
      "31:\tlearn: 1895.7679369\ttotal: 1.39s\tremaining: 2.96s\n",
      "32:\tlearn: 1886.6795536\ttotal: 1.42s\tremaining: 2.88s\n",
      "33:\tlearn: 1879.4415115\ttotal: 1.45s\tremaining: 2.81s\n",
      "34:\tlearn: 1872.4107895\ttotal: 1.48s\tremaining: 2.74s\n",
      "35:\tlearn: 1866.4022219\ttotal: 1.51s\tremaining: 2.69s\n",
      "36:\tlearn: 1858.9818730\ttotal: 1.54s\tremaining: 2.62s\n",
      "37:\tlearn: 1853.2768771\ttotal: 1.57s\tremaining: 2.56s\n",
      "38:\tlearn: 1847.1917459\ttotal: 1.61s\tremaining: 2.51s\n",
      "39:\tlearn: 1840.3904931\ttotal: 1.64s\tremaining: 2.46s\n",
      "40:\tlearn: 1835.6153653\ttotal: 1.67s\tremaining: 2.4s\n",
      "41:\tlearn: 1832.3253334\ttotal: 1.69s\tremaining: 2.33s\n",
      "42:\tlearn: 1828.7803533\ttotal: 1.71s\tremaining: 2.26s\n",
      "43:\tlearn: 1824.1516879\ttotal: 1.73s\tremaining: 2.2s\n",
      "44:\tlearn: 1820.6469715\ttotal: 1.75s\tremaining: 2.14s\n",
      "45:\tlearn: 1817.5651914\ttotal: 1.78s\tremaining: 2.09s\n",
      "46:\tlearn: 1812.5447998\ttotal: 1.81s\tremaining: 2.04s\n",
      "47:\tlearn: 1809.0250093\ttotal: 1.85s\tremaining: 2.01s\n",
      "48:\tlearn: 1804.4280667\ttotal: 1.89s\tremaining: 1.97s\n",
      "49:\tlearn: 1801.4297785\ttotal: 1.92s\tremaining: 1.92s\n",
      "50:\tlearn: 1798.6917738\ttotal: 1.94s\tremaining: 1.87s\n",
      "51:\tlearn: 1795.7493279\ttotal: 1.97s\tremaining: 1.81s\n",
      "52:\tlearn: 1791.7813631\ttotal: 2s\tremaining: 1.77s\n",
      "53:\tlearn: 1788.2900690\ttotal: 2.02s\tremaining: 1.73s\n",
      "54:\tlearn: 1784.4105948\ttotal: 2.06s\tremaining: 1.68s\n",
      "55:\tlearn: 1781.1962666\ttotal: 2.08s\tremaining: 1.63s\n",
      "56:\tlearn: 1778.6492512\ttotal: 2.1s\tremaining: 1.59s\n",
      "57:\tlearn: 1775.9333316\ttotal: 2.14s\tremaining: 1.55s\n",
      "58:\tlearn: 1773.4933541\ttotal: 2.17s\tremaining: 1.51s\n",
      "59:\tlearn: 1771.6660045\ttotal: 2.19s\tremaining: 1.46s\n",
      "60:\tlearn: 1769.1753117\ttotal: 2.22s\tremaining: 1.42s\n",
      "61:\tlearn: 1767.3142262\ttotal: 2.24s\tremaining: 1.38s\n",
      "62:\tlearn: 1765.7030753\ttotal: 2.27s\tremaining: 1.33s\n",
      "63:\tlearn: 1763.8708755\ttotal: 2.29s\tremaining: 1.29s\n",
      "64:\tlearn: 1761.6301781\ttotal: 2.32s\tremaining: 1.25s\n",
      "65:\tlearn: 1759.9127358\ttotal: 2.35s\tremaining: 1.21s\n",
      "66:\tlearn: 1758.7653383\ttotal: 2.38s\tremaining: 1.17s\n",
      "67:\tlearn: 1757.0637298\ttotal: 2.4s\tremaining: 1.13s\n",
      "68:\tlearn: 1755.0125986\ttotal: 2.42s\tremaining: 1.09s\n",
      "69:\tlearn: 1753.5622672\ttotal: 2.45s\tremaining: 1.05s\n",
      "70:\tlearn: 1752.4671625\ttotal: 2.48s\tremaining: 1.01s\n",
      "71:\tlearn: 1751.0132638\ttotal: 2.52s\tremaining: 978ms\n",
      "72:\tlearn: 1749.3754605\ttotal: 2.56s\tremaining: 946ms\n",
      "73:\tlearn: 1747.0479258\ttotal: 2.6s\tremaining: 914ms\n",
      "74:\tlearn: 1744.7262559\ttotal: 2.63s\tremaining: 877ms\n",
      "75:\tlearn: 1742.4313033\ttotal: 2.66s\tremaining: 840ms\n",
      "76:\tlearn: 1740.7264545\ttotal: 2.69s\tremaining: 802ms\n",
      "77:\tlearn: 1739.3174648\ttotal: 2.71s\tremaining: 765ms\n",
      "78:\tlearn: 1737.9640506\ttotal: 2.75s\tremaining: 730ms\n",
      "79:\tlearn: 1736.7314229\ttotal: 2.78s\tremaining: 695ms\n",
      "80:\tlearn: 1735.3708059\ttotal: 2.81s\tremaining: 659ms\n",
      "81:\tlearn: 1733.9626789\ttotal: 2.83s\tremaining: 620ms\n",
      "82:\tlearn: 1732.6169497\ttotal: 2.86s\tremaining: 586ms\n",
      "83:\tlearn: 1731.4936595\ttotal: 2.89s\tremaining: 551ms\n",
      "84:\tlearn: 1730.7534949\ttotal: 2.92s\tremaining: 515ms\n",
      "85:\tlearn: 1729.2924333\ttotal: 2.95s\tremaining: 481ms\n",
      "86:\tlearn: 1727.6441044\ttotal: 2.98s\tremaining: 446ms\n",
      "87:\tlearn: 1726.0023087\ttotal: 3.01s\tremaining: 411ms\n",
      "88:\tlearn: 1724.6364921\ttotal: 3.04s\tremaining: 376ms\n",
      "89:\tlearn: 1723.3295233\ttotal: 3.06s\tremaining: 340ms\n",
      "90:\tlearn: 1721.3888587\ttotal: 3.09s\tremaining: 305ms\n",
      "91:\tlearn: 1720.0686830\ttotal: 3.12s\tremaining: 271ms\n",
      "92:\tlearn: 1719.2677433\ttotal: 3.14s\tremaining: 237ms\n",
      "93:\tlearn: 1717.8884583\ttotal: 3.17s\tremaining: 202ms\n",
      "94:\tlearn: 1717.0083108\ttotal: 3.2s\tremaining: 169ms\n",
      "95:\tlearn: 1716.3261001\ttotal: 3.23s\tremaining: 134ms\n",
      "96:\tlearn: 1715.1889014\ttotal: 3.27s\tremaining: 101ms\n",
      "97:\tlearn: 1714.2407510\ttotal: 3.31s\tremaining: 67.5ms\n",
      "98:\tlearn: 1712.4566861\ttotal: 3.34s\tremaining: 33.7ms\n",
      "99:\tlearn: 1711.4555852\ttotal: 3.36s\tremaining: 0us\n",
      "0:\tlearn: 4580.6023352\ttotal: 53.9ms\tremaining: 1.56s\n",
      "1:\tlearn: 4412.6264006\ttotal: 113ms\tremaining: 1.58s\n",
      "2:\tlearn: 4252.8997426\ttotal: 161ms\tremaining: 1.45s\n",
      "3:\tlearn: 4102.1373791\ttotal: 200ms\tremaining: 1.3s\n",
      "4:\tlearn: 3962.2301486\ttotal: 236ms\tremaining: 1.18s\n",
      "5:\tlearn: 3830.4938740\ttotal: 286ms\tremaining: 1.15s\n",
      "6:\tlearn: 3705.8476703\ttotal: 335ms\tremaining: 1.1s\n",
      "7:\tlearn: 3587.5511937\ttotal: 382ms\tremaining: 1.05s\n",
      "8:\tlearn: 3475.4787828\ttotal: 431ms\tremaining: 1.01s\n",
      "9:\tlearn: 3372.0410850\ttotal: 477ms\tremaining: 954ms\n",
      "10:\tlearn: 3272.8228455\ttotal: 552ms\tremaining: 953ms\n",
      "11:\tlearn: 3178.4138767\ttotal: 594ms\tremaining: 891ms\n",
      "12:\tlearn: 3090.7375682\ttotal: 637ms\tremaining: 833ms\n",
      "13:\tlearn: 3006.9900612\ttotal: 680ms\tremaining: 777ms\n",
      "14:\tlearn: 2929.3461069\ttotal: 718ms\tremaining: 718ms\n",
      "15:\tlearn: 2859.3461247\ttotal: 772ms\tremaining: 675ms\n",
      "16:\tlearn: 2793.4005617\ttotal: 819ms\tremaining: 627ms\n",
      "17:\tlearn: 2728.8709679\ttotal: 858ms\tremaining: 572ms\n",
      "18:\tlearn: 2668.9017280\ttotal: 896ms\tremaining: 519ms\n",
      "19:\tlearn: 2612.5973777\ttotal: 944ms\tremaining: 472ms\n",
      "20:\tlearn: 2560.5254988\ttotal: 996ms\tremaining: 427ms\n",
      "21:\tlearn: 2510.7791204\ttotal: 1.05s\tremaining: 381ms\n",
      "22:\tlearn: 2465.3051539\ttotal: 1.09s\tremaining: 331ms\n",
      "23:\tlearn: 2423.0975198\ttotal: 1.15s\tremaining: 286ms\n",
      "24:\tlearn: 2382.3003158\ttotal: 1.21s\tremaining: 242ms\n",
      "25:\tlearn: 2344.5472731\ttotal: 1.26s\tremaining: 194ms\n",
      "26:\tlearn: 2309.4830834\ttotal: 1.31s\tremaining: 146ms\n",
      "27:\tlearn: 2277.1715825\ttotal: 1.36s\tremaining: 97.5ms\n",
      "28:\tlearn: 2246.1774167\ttotal: 1.43s\tremaining: 49.1ms\n",
      "29:\tlearn: 2216.3757426\ttotal: 1.47s\tremaining: 0us\n",
      "0:\tlearn: 4725.7897127\ttotal: 60.2ms\tremaining: 2.95s\n",
      "1:\tlearn: 4690.1148178\ttotal: 108ms\tremaining: 2.6s\n",
      "2:\tlearn: 4655.0648176\ttotal: 152ms\tremaining: 2.38s\n",
      "3:\tlearn: 4620.3908669\ttotal: 198ms\tremaining: 2.28s\n",
      "4:\tlearn: 4586.1463821\ttotal: 243ms\tremaining: 2.19s\n",
      "5:\tlearn: 4552.5410298\ttotal: 295ms\tremaining: 2.16s\n",
      "6:\tlearn: 4519.6879805\ttotal: 336ms\tremaining: 2.06s\n",
      "7:\tlearn: 4486.9765144\ttotal: 383ms\tremaining: 2.01s\n",
      "8:\tlearn: 4453.9779069\ttotal: 428ms\tremaining: 1.95s\n",
      "9:\tlearn: 4421.3144492\ttotal: 478ms\tremaining: 1.91s\n",
      "10:\tlearn: 4389.7756418\ttotal: 522ms\tremaining: 1.85s\n",
      "11:\tlearn: 4357.6884985\ttotal: 573ms\tremaining: 1.81s\n",
      "12:\tlearn: 4325.9939285\ttotal: 621ms\tremaining: 1.77s\n",
      "13:\tlearn: 4295.1799456\ttotal: 662ms\tremaining: 1.7s\n",
      "14:\tlearn: 4264.4400063\ttotal: 710ms\tremaining: 1.66s\n",
      "15:\tlearn: 4234.9364420\ttotal: 754ms\tremaining: 1.6s\n",
      "16:\tlearn: 4205.4818176\ttotal: 805ms\tremaining: 1.56s\n",
      "17:\tlearn: 4175.9583465\ttotal: 858ms\tremaining: 1.52s\n",
      "18:\tlearn: 4146.4692101\ttotal: 923ms\tremaining: 1.51s\n",
      "19:\tlearn: 4117.4959870\ttotal: 976ms\tremaining: 1.46s\n",
      "20:\tlearn: 4088.5789664\ttotal: 1.02s\tremaining: 1.41s\n",
      "21:\tlearn: 4060.3084774\ttotal: 1.11s\tremaining: 1.41s\n",
      "22:\tlearn: 4032.3385287\ttotal: 1.19s\tremaining: 1.39s\n",
      "23:\tlearn: 4004.6222858\ttotal: 1.25s\tremaining: 1.35s\n",
      "24:\tlearn: 3977.2332935\ttotal: 1.3s\tremaining: 1.3s\n",
      "25:\tlearn: 3950.0459809\ttotal: 1.36s\tremaining: 1.25s\n",
      "26:\tlearn: 3923.1302015\ttotal: 1.41s\tremaining: 1.2s\n",
      "27:\tlearn: 3896.5711768\ttotal: 1.46s\tremaining: 1.15s\n",
      "28:\tlearn: 3870.5335975\ttotal: 1.5s\tremaining: 1.09s\n",
      "29:\tlearn: 3844.7545763\ttotal: 1.55s\tremaining: 1.03s\n",
      "30:\tlearn: 3819.1853620\ttotal: 1.61s\tremaining: 985ms\n",
      "31:\tlearn: 3794.2676383\ttotal: 1.64s\tremaining: 925ms\n",
      "32:\tlearn: 3769.4459460\ttotal: 1.69s\tremaining: 870ms\n",
      "33:\tlearn: 3744.5625853\ttotal: 1.74s\tremaining: 817ms\n",
      "34:\tlearn: 3720.2087575\ttotal: 1.78s\tremaining: 764ms\n",
      "35:\tlearn: 3696.3397183\ttotal: 1.84s\tremaining: 714ms\n",
      "36:\tlearn: 3672.4826381\ttotal: 1.88s\tremaining: 661ms\n",
      "37:\tlearn: 3648.7833360\ttotal: 1.93s\tremaining: 610ms\n",
      "38:\tlearn: 3625.5673057\ttotal: 1.98s\tremaining: 558ms\n",
      "39:\tlearn: 3602.7295707\ttotal: 2.04s\tremaining: 509ms\n",
      "40:\tlearn: 3580.5798392\ttotal: 2.08s\tremaining: 456ms\n",
      "41:\tlearn: 3558.0646562\ttotal: 2.12s\tremaining: 405ms\n",
      "42:\tlearn: 3535.9680183\ttotal: 2.17s\tremaining: 354ms\n",
      "43:\tlearn: 3514.2692654\ttotal: 2.21s\tremaining: 302ms\n",
      "44:\tlearn: 3492.5323766\ttotal: 2.27s\tremaining: 253ms\n",
      "45:\tlearn: 3471.1859012\ttotal: 2.32s\tremaining: 202ms\n",
      "46:\tlearn: 3449.9515712\ttotal: 2.39s\tremaining: 152ms\n",
      "47:\tlearn: 3429.3446926\ttotal: 2.44s\tremaining: 102ms\n",
      "48:\tlearn: 3408.7893779\ttotal: 2.49s\tremaining: 50.8ms\n",
      "49:\tlearn: 3388.5090551\ttotal: 2.54s\tremaining: 0us\n",
      "0:\tlearn: 4594.1894194\ttotal: 67.6ms\tremaining: 3.31s\n",
      "1:\tlearn: 4425.7001576\ttotal: 111ms\tremaining: 2.67s\n",
      "2:\tlearn: 4266.8549760\ttotal: 150ms\tremaining: 2.35s\n",
      "3:\tlearn: 4115.8661260\ttotal: 191ms\tremaining: 2.2s\n",
      "4:\tlearn: 3973.4665282\ttotal: 241ms\tremaining: 2.17s\n",
      "5:\tlearn: 3838.0282567\ttotal: 298ms\tremaining: 2.18s\n",
      "6:\tlearn: 3713.7944972\ttotal: 344ms\tremaining: 2.11s\n",
      "7:\tlearn: 3594.5288778\ttotal: 381ms\tremaining: 2s\n",
      "8:\tlearn: 3481.9470957\ttotal: 437ms\tremaining: 1.99s\n",
      "9:\tlearn: 3377.0152342\ttotal: 479ms\tremaining: 1.92s\n",
      "10:\tlearn: 3277.1959268\ttotal: 544ms\tremaining: 1.93s\n",
      "11:\tlearn: 3183.2165857\ttotal: 586ms\tremaining: 1.85s\n",
      "12:\tlearn: 3095.6460967\ttotal: 644ms\tremaining: 1.83s\n",
      "13:\tlearn: 3012.6639878\ttotal: 693ms\tremaining: 1.78s\n",
      "14:\tlearn: 2936.7524568\ttotal: 760ms\tremaining: 1.77s\n",
      "15:\tlearn: 2864.2422035\ttotal: 825ms\tremaining: 1.75s\n",
      "16:\tlearn: 2797.4206852\ttotal: 880ms\tremaining: 1.71s\n",
      "17:\tlearn: 2735.7607665\ttotal: 933ms\tremaining: 1.66s\n",
      "18:\tlearn: 2676.1694088\ttotal: 993ms\tremaining: 1.62s\n",
      "19:\tlearn: 2618.5849474\ttotal: 1.05s\tremaining: 1.57s\n",
      "3:\tlearn: 4636.9493646\ttotal: 106ms\tremaining: 2.55s\n",
      "4:\tlearn: 4603.6894212\ttotal: 125ms\tremaining: 2.38s\n",
      "5:\tlearn: 4571.1730980\ttotal: 148ms\tremaining: 2.31s\n",
      "6:\tlearn: 4538.7170504\ttotal: 172ms\tremaining: 2.29s\n",
      "7:\tlearn: 4506.2360430\ttotal: 202ms\tremaining: 2.33s\n",
      "8:\tlearn: 4474.6671650\ttotal: 233ms\tremaining: 2.36s\n",
      "9:\tlearn: 4443.1923431\ttotal: 268ms\tremaining: 2.41s\n",
      "10:\tlearn: 4412.0637487\ttotal: 299ms\tremaining: 2.42s\n",
      "11:\tlearn: 4381.4667725\ttotal: 336ms\tremaining: 2.46s\n",
      "12:\tlearn: 4350.9015482\ttotal: 364ms\tremaining: 2.43s\n",
      "13:\tlearn: 4320.9865945\ttotal: 390ms\tremaining: 2.39s\n",
      "14:\tlearn: 4291.0502414\ttotal: 411ms\tremaining: 2.33s\n",
      "15:\tlearn: 4261.7197593\ttotal: 441ms\tremaining: 2.32s\n",
      "16:\tlearn: 4233.2577609\ttotal: 463ms\tremaining: 2.26s\n",
      "17:\tlearn: 4204.2600205\ttotal: 510ms\tremaining: 2.32s\n",
      "18:\tlearn: 4175.9400898\ttotal: 536ms\tremaining: 2.28s\n",
      "19:\tlearn: 4148.0300985\ttotal: 576ms\tremaining: 2.3s\n",
      "20:\tlearn: 4120.3965556\ttotal: 608ms\tremaining: 2.29s\n",
      "21:\tlearn: 4093.0173625\ttotal: 638ms\tremaining: 2.26s\n",
      "22:\tlearn: 4066.3593659\ttotal: 674ms\tremaining: 2.25s\n",
      "23:\tlearn: 4039.4851587\ttotal: 708ms\tremaining: 2.24s\n",
      "24:\tlearn: 4013.2873248\ttotal: 732ms\tremaining: 2.2s\n",
      "25:\tlearn: 3987.3129431\ttotal: 766ms\tremaining: 2.18s\n",
      "26:\tlearn: 3961.7209039\ttotal: 800ms\tremaining: 2.16s\n",
      "27:\tlearn: 3936.4050578\ttotal: 841ms\tremaining: 2.16s\n",
      "28:\tlearn: 3911.2559387\ttotal: 871ms\tremaining: 2.13s\n",
      "29:\tlearn: 3886.0870450\ttotal: 903ms\tremaining: 2.11s\n",
      "30:\tlearn: 3861.4414281\ttotal: 933ms\tremaining: 2.08s\n",
      "31:\tlearn: 3837.1936626\ttotal: 963ms\tremaining: 2.05s\n",
      "32:\tlearn: 3812.9720978\ttotal: 997ms\tremaining: 2.02s\n",
      "33:\tlearn: 3789.2288274\ttotal: 1.03s\tremaining: 1.99s\n",
      "34:\tlearn: 3765.8565732\ttotal: 1.05s\tremaining: 1.96s\n",
      "35:\tlearn: 3742.8610630\ttotal: 1.08s\tremaining: 1.92s\n",
      "36:\tlearn: 3719.9348733\ttotal: 1.14s\tremaining: 1.93s\n",
      "37:\tlearn: 3697.0127054\ttotal: 1.16s\tremaining: 1.89s\n",
      "38:\tlearn: 3674.4208145\ttotal: 1.18s\tremaining: 1.85s\n",
      "39:\tlearn: 3652.3099648\ttotal: 1.21s\tremaining: 1.82s\n",
      "40:\tlearn: 3630.6818010\ttotal: 1.24s\tremaining: 1.78s\n",
      "41:\tlearn: 3609.2209918\ttotal: 1.26s\tremaining: 1.75s\n",
      "42:\tlearn: 3587.7376888\ttotal: 1.29s\tremaining: 1.71s\n",
      "43:\tlearn: 3566.8634827\ttotal: 1.32s\tremaining: 1.68s\n",
      "44:\tlearn: 3545.7311456\ttotal: 1.38s\tremaining: 1.68s\n",
      "45:\tlearn: 3524.8353158\ttotal: 1.4s\tremaining: 1.65s\n",
      "46:\tlearn: 3504.5589536\ttotal: 1.46s\tremaining: 1.64s\n",
      "47:\tlearn: 3484.4258639\ttotal: 1.49s\tremaining: 1.61s\n",
      "48:\tlearn: 3464.6062481\ttotal: 1.52s\tremaining: 1.58s\n",
      "49:\tlearn: 3444.8721753\ttotal: 1.55s\tremaining: 1.55s\n",
      "50:\tlearn: 3425.5393289\ttotal: 1.61s\tremaining: 1.55s\n",
      "51:\tlearn: 3406.2929790\ttotal: 1.66s\tremaining: 1.53s\n",
      "52:\tlearn: 3387.3037698\ttotal: 1.71s\tremaining: 1.52s\n",
      "53:\tlearn: 3368.5592310\ttotal: 1.76s\tremaining: 1.5s\n",
      "54:\tlearn: 3349.9777882\ttotal: 1.81s\tremaining: 1.48s\n",
      "55:\tlearn: 3331.7246432\ttotal: 1.86s\tremaining: 1.46s\n",
      "56:\tlearn: 3313.4537252\ttotal: 1.93s\tremaining: 1.46s\n",
      "57:\tlearn: 3295.4681660\ttotal: 1.99s\tremaining: 1.44s\n",
      "58:\tlearn: 3277.7157211\ttotal: 2.06s\tremaining: 1.43s\n",
      "59:\tlearn: 3260.2297055\ttotal: 2.11s\tremaining: 1.4s\n",
      "60:\tlearn: 3242.9457442\ttotal: 2.14s\tremaining: 1.37s\n",
      "61:\tlearn: 3225.6250122\ttotal: 2.19s\tremaining: 1.34s\n",
      "62:\tlearn: 3208.7005321\ttotal: 2.22s\tremaining: 1.3s\n",
      "63:\tlearn: 3192.0777623\ttotal: 2.28s\tremaining: 1.28s\n",
      "64:\tlearn: 3175.6490193\ttotal: 2.33s\tremaining: 1.25s\n",
      "65:\tlearn: 3159.2190991\ttotal: 2.38s\tremaining: 1.22s\n",
      "66:\tlearn: 3143.5006810\ttotal: 2.42s\tremaining: 1.19s\n",
      "67:\tlearn: 3127.5035654\ttotal: 2.46s\tremaining: 1.16s\n",
      "68:\tlearn: 3111.3062108\ttotal: 2.5s\tremaining: 1.12s\n",
      "69:\tlearn: 3095.5237655\ttotal: 2.54s\tremaining: 1.09s\n",
      "70:\tlearn: 3080.0765459\ttotal: 2.59s\tremaining: 1.06s\n",
      "71:\tlearn: 3065.1856953\ttotal: 2.65s\tremaining: 1.03s\n",
      "72:\tlearn: 3050.3397382\ttotal: 2.68s\tremaining: 991ms\n",
      "73:\tlearn: 3035.7943581\ttotal: 2.73s\tremaining: 958ms\n",
      "74:\tlearn: 3020.8680762\ttotal: 2.76s\tremaining: 920ms\n",
      "75:\tlearn: 3006.5640988\ttotal: 2.79s\tremaining: 880ms\n",
      "76:\tlearn: 2992.0513690\ttotal: 2.81s\tremaining: 841ms\n",
      "77:\tlearn: 2977.6367770\ttotal: 2.84s\tremaining: 802ms\n",
      "78:\tlearn: 2963.6753617\ttotal: 2.86s\tremaining: 761ms\n",
      "79:\tlearn: 2949.8646728\ttotal: 2.88s\tremaining: 721ms\n",
      "80:\tlearn: 2936.5155181\ttotal: 2.9s\tremaining: 681ms\n",
      "81:\tlearn: 2922.9442374\ttotal: 2.94s\tremaining: 645ms\n",
      "82:\tlearn: 2909.3732487\ttotal: 2.96s\tremaining: 605ms\n",
      "83:\tlearn: 2896.1062516\ttotal: 2.98s\tremaining: 568ms\n",
      "84:\tlearn: 2883.4520806\ttotal: 3.01s\tremaining: 531ms\n",
      "85:\tlearn: 2870.4862219\ttotal: 3.03s\tremaining: 494ms\n",
      "86:\tlearn: 2857.6109156\ttotal: 3.06s\tremaining: 457ms\n",
      "87:\tlearn: 2844.6288967\ttotal: 3.1s\tremaining: 423ms\n",
      "88:\tlearn: 2832.2449586\ttotal: 3.14s\tremaining: 389ms\n",
      "89:\tlearn: 2819.8452817\ttotal: 3.16s\tremaining: 352ms\n",
      "90:\tlearn: 2807.7442608\ttotal: 3.2s\tremaining: 316ms\n",
      "91:\tlearn: 2795.7565468\ttotal: 3.23s\tremaining: 281ms\n",
      "92:\tlearn: 2783.9681698\ttotal: 3.25s\tremaining: 245ms\n",
      "93:\tlearn: 2772.3014474\ttotal: 3.27s\tremaining: 209ms\n",
      "94:\tlearn: 2760.8303573\ttotal: 3.3s\tremaining: 174ms\n",
      "95:\tlearn: 2749.7902163\ttotal: 3.33s\tremaining: 139ms\n",
      "96:\tlearn: 2738.2507785\ttotal: 3.35s\tremaining: 104ms\n",
      "97:\tlearn: 2726.9459893\ttotal: 3.37s\tremaining: 68.8ms\n",
      "98:\tlearn: 2715.7533708\ttotal: 3.43s\tremaining: 34.7ms\n",
      "99:\tlearn: 2704.7849564\ttotal: 3.48s\tremaining: 0us\n",
      "0:\tlearn: 4420.2026648\ttotal: 31.6ms\tremaining: 3.13s\n",
      "1:\tlearn: 4114.4494836\ttotal: 61.3ms\tremaining: 3s\n",
      "2:\tlearn: 3844.0473846\ttotal: 81.5ms\tremaining: 2.63s\n",
      "3:\tlearn: 3609.7613729\ttotal: 104ms\tremaining: 2.49s\n",
      "4:\tlearn: 3404.5968234\ttotal: 130ms\tremaining: 2.46s\n",
      "5:\tlearn: 3220.0592828\ttotal: 152ms\tremaining: 2.38s\n",
      "6:\tlearn: 3053.4215604\ttotal: 174ms\tremaining: 2.31s\n",
      "7:\tlearn: 2909.6673950\ttotal: 199ms\tremaining: 2.29s\n",
      "8:\tlearn: 2777.9347393\ttotal: 227ms\tremaining: 2.29s\n",
      "9:\tlearn: 2664.2315841\ttotal: 279ms\tremaining: 2.51s\n",
      "10:\tlearn: 2564.2054613\ttotal: 311ms\tremaining: 2.51s\n",
      "11:\tlearn: 2478.0418729\ttotal: 338ms\tremaining: 2.48s\n",
      "12:\tlearn: 2402.5698899\ttotal: 369ms\tremaining: 2.47s\n",
      "13:\tlearn: 2338.1328290\ttotal: 399ms\tremaining: 2.45s\n",
      "14:\tlearn: 2279.1892568\ttotal: 423ms\tremaining: 2.39s\n",
      "15:\tlearn: 2226.6960347\ttotal: 453ms\tremaining: 2.38s\n",
      "16:\tlearn: 2180.1548441\ttotal: 474ms\tremaining: 2.31s\n",
      "17:\tlearn: 2141.3771953\ttotal: 501ms\tremaining: 2.28s\n",
      "18:\tlearn: 2106.7789774\ttotal: 523ms\tremaining: 2.23s\n",
      "19:\tlearn: 2076.9791404\ttotal: 551ms\tremaining: 2.2s\n",
      "20:\tlearn: 2052.3322846\ttotal: 574ms\tremaining: 2.16s\n",
      "21:\tlearn: 2028.8535038\ttotal: 596ms\tremaining: 2.11s\n",
      "22:\tlearn: 2006.5474145\ttotal: 629ms\tremaining: 2.11s\n",
      "23:\tlearn: 1987.6528719\ttotal: 668ms\tremaining: 2.12s\n",
      "24:\tlearn: 1971.7462656\ttotal: 689ms\tremaining: 2.07s\n",
      "25:\tlearn: 1954.7441719\ttotal: 710ms\tremaining: 2.02s\n",
      "26:\tlearn: 1941.9265828\ttotal: 733ms\tremaining: 1.98s\n",
      "27:\tlearn: 1929.8371139\ttotal: 757ms\tremaining: 1.95s\n",
      "28:\tlearn: 1916.5558048\ttotal: 774ms\tremaining: 1.9s\n",
      "29:\tlearn: 1906.7711337\ttotal: 793ms\tremaining: 1.85s\n",
      "30:\tlearn: 1893.2418941\ttotal: 822ms\tremaining: 1.83s\n",
      "31:\tlearn: 1882.6048765\ttotal: 846ms\tremaining: 1.8s\n",
      "32:\tlearn: 1875.7462272\ttotal: 871ms\tremaining: 1.77s\n",
      "33:\tlearn: 1867.0182190\ttotal: 898ms\tremaining: 1.74s\n",
      "34:\tlearn: 1859.0654064\ttotal: 927ms\tremaining: 1.72s\n",
      "35:\tlearn: 1852.1869555\ttotal: 956ms\tremaining: 1.7s\n",
      "36:\tlearn: 1846.2214930\ttotal: 978ms\tremaining: 1.66s\n",
      "37:\tlearn: 1839.9795384\ttotal: 1.02s\tremaining: 1.66s\n",
      "38:\tlearn: 1833.3080151\ttotal: 1.05s\tremaining: 1.64s\n",
      "39:\tlearn: 1829.1252620\ttotal: 1.07s\tremaining: 1.61s\n",
      "40:\tlearn: 1824.9997961\ttotal: 1.1s\tremaining: 1.58s\n",
      "41:\tlearn: 1821.4807803\ttotal: 1.13s\tremaining: 1.55s\n",
      "42:\tlearn: 1816.2479939\ttotal: 1.16s\tremaining: 1.54s\n",
      "43:\tlearn: 1811.9661771\ttotal: 1.2s\tremaining: 1.52s\n",
      "44:\tlearn: 1809.2639518\ttotal: 1.22s\tremaining: 1.5s\n",
      "45:\tlearn: 1805.4710754\ttotal: 1.25s\tremaining: 1.47s\n",
      "46:\tlearn: 1802.4550492\ttotal: 1.28s\tremaining: 1.45s\n",
      "47:\tlearn: 1800.4013886\ttotal: 1.31s\tremaining: 1.42s\n",
      "48:\tlearn: 1796.1174344\ttotal: 1.33s\tremaining: 1.39s\n",
      "49:\tlearn: 1792.5075491\ttotal: 1.36s\tremaining: 1.36s\n",
      "50:\tlearn: 1790.4849307\ttotal: 1.38s\tremaining: 1.33s\n",
      "51:\tlearn: 1786.4269534\ttotal: 1.41s\tremaining: 1.3s\n",
      "52:\tlearn: 1783.2332033\ttotal: 1.44s\tremaining: 1.28s\n",
      "53:\tlearn: 1780.2248757\ttotal: 1.47s\tremaining: 1.25s\n",
      "54:\tlearn: 1777.4806908\ttotal: 1.5s\tremaining: 1.22s\n",
      "55:\tlearn: 1774.4539842\ttotal: 1.52s\tremaining: 1.2s\n",
      "56:\tlearn: 1772.5764308\ttotal: 1.54s\tremaining: 1.16s\n",
      "57:\tlearn: 1768.7987763\ttotal: 1.57s\tremaining: 1.14s\n",
      "58:\tlearn: 1767.0719553\ttotal: 1.59s\tremaining: 1.11s\n",
      "59:\tlearn: 1765.1315410\ttotal: 1.62s\tremaining: 1.08s\n",
      "60:\tlearn: 1763.1074827\ttotal: 1.65s\tremaining: 1.05s\n",
      "61:\tlearn: 1761.6029206\ttotal: 1.67s\tremaining: 1.02s\n",
      "62:\tlearn: 1759.3613975\ttotal: 1.7s\tremaining: 998ms\n",
      "63:\tlearn: 1757.3055417\ttotal: 1.72s\tremaining: 969ms\n",
      "64:\tlearn: 1754.9741180\ttotal: 1.75s\tremaining: 940ms\n",
      "65:\tlearn: 1753.4206908\ttotal: 1.77s\tremaining: 910ms\n",
      "66:\tlearn: 1751.3201860\ttotal: 1.79s\tremaining: 882ms\n",
      "67:\tlearn: 1749.8324807\ttotal: 1.81s\tremaining: 853ms\n",
      "68:\tlearn: 1747.2579667\ttotal: 1.84s\tremaining: 826ms\n",
      "69:\tlearn: 1745.6533281\ttotal: 1.86s\tremaining: 798ms\n",
      "70:\tlearn: 1744.3125515\ttotal: 1.89s\tremaining: 772ms\n",
      "71:\tlearn: 1743.0871004\ttotal: 1.91s\tremaining: 744ms\n",
      "72:\tlearn: 1741.3503939\ttotal: 1.93s\tremaining: 715ms\n",
      "73:\tlearn: 1739.9925495\ttotal: 1.96s\tremaining: 687ms\n",
      "74:\tlearn: 1737.7312091\ttotal: 1.99s\tremaining: 665ms\n",
      "75:\tlearn: 1736.4757032\ttotal: 2.01s\tremaining: 636ms\n",
      "76:\tlearn: 1734.7546357\ttotal: 2.04s\tremaining: 608ms\n",
      "77:\tlearn: 1733.0832254\ttotal: 2.06s\tremaining: 581ms\n",
      "78:\tlearn: 1730.8058990\ttotal: 2.09s\tremaining: 556ms\n",
      "79:\tlearn: 1729.0207271\ttotal: 2.12s\tremaining: 531ms\n",
      "80:\tlearn: 1727.2339461\ttotal: 2.15s\tremaining: 505ms\n",
      "81:\tlearn: 1726.1584352\ttotal: 2.18s\tremaining: 478ms\n",
      "82:\tlearn: 1724.9440049\ttotal: 2.21s\tremaining: 452ms\n",
      "83:\tlearn: 1723.5999301\ttotal: 2.23s\tremaining: 425ms\n",
      "84:\tlearn: 1722.5433019\ttotal: 2.25s\tremaining: 398ms\n",
      "85:\tlearn: 1720.7503906\ttotal: 2.3s\tremaining: 375ms\n",
      "86:\tlearn: 1719.1269211\ttotal: 2.32s\tremaining: 347ms\n",
      "87:\tlearn: 1717.1529270\ttotal: 2.36s\tremaining: 322ms\n",
      "88:\tlearn: 1715.8273514\ttotal: 2.38s\tremaining: 295ms\n",
      "89:\tlearn: 1715.1816561\ttotal: 2.4s\tremaining: 267ms\n",
      "90:\tlearn: 1714.0243853\ttotal: 2.42s\tremaining: 240ms\n",
      "91:\tlearn: 1713.2244394\ttotal: 2.45s\tremaining: 213ms\n",
      "92:\tlearn: 1712.2591007\ttotal: 2.47s\tremaining: 186ms\n",
      "93:\tlearn: 1710.4340019\ttotal: 2.5s\tremaining: 160ms\n",
      "94:\tlearn: 1709.4396572\ttotal: 2.54s\tremaining: 134ms\n",
      "95:\tlearn: 1708.8789991\ttotal: 2.56s\tremaining: 107ms\n",
      "96:\tlearn: 1708.1534653\ttotal: 2.6s\tremaining: 80.3ms\n",
      "97:\tlearn: 1707.3170457\ttotal: 2.62s\tremaining: 53.5ms\n",
      "98:\tlearn: 1705.5514725\ttotal: 2.66s\tremaining: 26.9ms\n",
      "99:\tlearn: 1704.3862617\ttotal: 2.69s\tremaining: 0us\n",
      "0:\tlearn: 4598.1817715\ttotal: 40.2ms\tremaining: 1.17s\n",
      "1:\tlearn: 4428.9991398\ttotal: 105ms\tremaining: 1.47s\n",
      "2:\tlearn: 4268.5927178\ttotal: 143ms\tremaining: 1.29s\n",
      "3:\tlearn: 4120.6615601\ttotal: 208ms\tremaining: 1.35s\n",
      "4:\tlearn: 3976.9285520\ttotal: 259ms\tremaining: 1.3s\n",
      "5:\tlearn: 3841.4319306\ttotal: 335ms\tremaining: 1.34s\n",
      "6:\tlearn: 3717.2770493\ttotal: 393ms\tremaining: 1.29s\n",
      "7:\tlearn: 3601.1014443\ttotal: 437ms\tremaining: 1.2s\n",
      "8:\tlearn: 3488.8777052\ttotal: 481ms\tremaining: 1.12s\n",
      "9:\tlearn: 3383.2453600\ttotal: 531ms\tremaining: 1.06s\n",
      "10:\tlearn: 3284.3604282\ttotal: 567ms\tremaining: 979ms\n",
      "11:\tlearn: 3191.1214677\ttotal: 610ms\tremaining: 916ms\n",
      "12:\tlearn: 3103.2780299\ttotal: 660ms\tremaining: 863ms\n",
      "13:\tlearn: 3020.3795784\ttotal: 720ms\tremaining: 823ms\n",
      "14:\tlearn: 2941.9542895\ttotal: 768ms\tremaining: 768ms\n",
      "15:\tlearn: 2870.2328710\ttotal: 823ms\tremaining: 720ms\n",
      "16:\tlearn: 2802.8673895\ttotal: 870ms\tremaining: 665ms\n",
      "17:\tlearn: 2738.6893687\ttotal: 912ms\tremaining: 608ms\n",
      "18:\tlearn: 2677.6689846\ttotal: 973ms\tremaining: 563ms\n",
      "19:\tlearn: 2621.3385395\ttotal: 1.02s\tremaining: 510ms\n",
      "20:\tlearn: 2568.2671194\ttotal: 1.07s\tremaining: 461ms\n",
      "21:\tlearn: 2519.4805428\ttotal: 1.12s\tremaining: 409ms\n",
      "22:\tlearn: 2473.8972811\ttotal: 1.17s\tremaining: 356ms\n",
      "23:\tlearn: 2429.4598839\ttotal: 1.21s\tremaining: 303ms\n",
      "24:\tlearn: 2387.3552099\ttotal: 1.25s\tremaining: 251ms\n",
      "25:\tlearn: 2350.2369633\ttotal: 1.31s\tremaining: 202ms\n",
      "26:\tlearn: 2314.2511057\ttotal: 1.34s\tremaining: 149ms\n",
      "27:\tlearn: 2281.2359736\ttotal: 1.38s\tremaining: 98.9ms\n",
      "28:\tlearn: 2249.8438906\ttotal: 1.45s\tremaining: 50ms\n",
      "29:\tlearn: 2220.2336408\ttotal: 1.5s\tremaining: 0us\n",
      "0:\tlearn: 4417.0438476\ttotal: 48.5ms\tremaining: 1.41s\n",
      "1:\tlearn: 4098.9744140\ttotal: 112ms\tremaining: 1.56s\n",
      "2:\tlearn: 3818.2917508\ttotal: 170ms\tremaining: 1.53s\n",
      "3:\tlearn: 3576.6141964\ttotal: 217ms\tremaining: 1.41s\n",
      "4:\tlearn: 3355.7534355\ttotal: 256ms\tremaining: 1.28s\n",
      "5:\tlearn: 3161.5355601\ttotal: 296ms\tremaining: 1.18s\n",
      "6:\tlearn: 2990.0256900\ttotal: 335ms\tremaining: 1.1s\n",
      "7:\tlearn: 2840.0463646\ttotal: 382ms\tremaining: 1.05s\n",
      "8:\tlearn: 2706.4509326\ttotal: 439ms\tremaining: 1.02s\n",
      "9:\tlearn: 2590.6585806\ttotal: 486ms\tremaining: 973ms\n",
      "10:\tlearn: 2489.3633205\ttotal: 532ms\tremaining: 919ms\n",
      "11:\tlearn: 2401.4857172\ttotal: 585ms\tremaining: 878ms\n",
      "12:\tlearn: 2321.1888936\ttotal: 635ms\tremaining: 830ms\n",
      "13:\tlearn: 2254.4469249\ttotal: 667ms\tremaining: 762ms\n",
      "14:\tlearn: 2197.2725852\ttotal: 712ms\tremaining: 712ms\n",
      "15:\tlearn: 2147.8574079\ttotal: 751ms\tremaining: 657ms\n",
      "16:\tlearn: 2101.8501035\ttotal: 817ms\tremaining: 625ms\n",
      "17:\tlearn: 2063.5900338\ttotal: 860ms\tremaining: 574ms\n",
      "18:\tlearn: 2030.8212223\ttotal: 903ms\tremaining: 523ms\n",
      "19:\tlearn: 2000.9151144\ttotal: 948ms\tremaining: 474ms\n",
      "20:\tlearn: 1974.9216719\ttotal: 999ms\tremaining: 428ms\n",
      "21:\tlearn: 1949.6354945\ttotal: 1.08s\tremaining: 392ms\n",
      "22:\tlearn: 1926.8985520\ttotal: 1.14s\tremaining: 348ms\n",
      "23:\tlearn: 1907.3530607\ttotal: 1.2s\tremaining: 301ms\n",
      "24:\tlearn: 1890.8459447\ttotal: 1.29s\tremaining: 259ms\n",
      "25:\tlearn: 1875.9230854\ttotal: 1.38s\tremaining: 213ms\n",
      "26:\tlearn: 1861.4540641\ttotal: 1.45s\tremaining: 161ms\n",
      "27:\tlearn: 1848.4995326\ttotal: 1.48s\tremaining: 106ms\n",
      "28:\tlearn: 1836.7847761\ttotal: 1.53s\tremaining: 52.8ms\n",
      "29:\tlearn: 1826.3906949\ttotal: 1.58s\tremaining: 0us\n",
      "0:\tlearn: 4588.5853024\ttotal: 37ms\tremaining: 1.81s\n",
      "1:\tlearn: 4419.9118601\ttotal: 73.6ms\tremaining: 1.77s\n",
      "2:\tlearn: 4261.9477380\ttotal: 124ms\tremaining: 1.94s\n",
      "3:\tlearn: 4115.2928280\ttotal: 170ms\tremaining: 1.96s\n",
      "4:\tlearn: 3973.4312529\ttotal: 243ms\tremaining: 2.19s\n",
      "5:\tlearn: 3839.0827478\ttotal: 296ms\tremaining: 2.17s\n",
      "6:\tlearn: 3712.3687344\ttotal: 344ms\tremaining: 2.12s\n",
      "7:\tlearn: 3593.6210771\ttotal: 404ms\tremaining: 2.12s\n",
      "8:\tlearn: 3481.5395858\ttotal: 457ms\tremaining: 2.08s\n",
      "9:\tlearn: 3376.9437176\ttotal: 503ms\tremaining: 2.01s\n",
      "10:\tlearn: 3279.9496184\ttotal: 550ms\tremaining: 1.95s\n",
      "11:\tlearn: 3185.0794857\ttotal: 607ms\tremaining: 1.92s\n",
      "12:\tlearn: 3097.2891993\ttotal: 645ms\tremaining: 1.83s\n",
      "13:\tlearn: 3017.1907120\ttotal: 696ms\tremaining: 1.79s\n",
      "14:\tlearn: 2940.9914549\ttotal: 736ms\tremaining: 1.72s\n",
      "15:\tlearn: 2869.2633754\ttotal: 781ms\tremaining: 1.66s\n",
      "16:\tlearn: 2801.7905690\ttotal: 839ms\tremaining: 1.63s\n",
      "17:\tlearn: 2736.4540089\ttotal: 887ms\tremaining: 1.58s\n",
      "18:\tlearn: 2675.5758740\ttotal: 930ms\tremaining: 1.52s\n",
      "19:\tlearn: 2620.8854313\ttotal: 973ms\tremaining: 1.46s\n",
      "20:\tlearn: 2567.6706993\ttotal: 1.02s\tremaining: 1.41s\n",
      "21:\tlearn: 2517.9445182\ttotal: 1.08s\tremaining: 1.37s\n",
      "22:\tlearn: 2472.1825713\ttotal: 1.13s\tremaining: 1.33s\n",
      "23:\tlearn: 2428.3890435\ttotal: 1.2s\tremaining: 1.3s\n",
      "24:\tlearn: 2387.5288391\ttotal: 1.24s\tremaining: 1.24s\n",
      "25:\tlearn: 2351.2496888\ttotal: 1.29s\tremaining: 1.19s\n",
      "26:\tlearn: 2315.4464608\ttotal: 1.33s\tremaining: 1.13s\n",
      "27:\tlearn: 2283.1249388\ttotal: 1.39s\tremaining: 1.09s\n",
      "28:\tlearn: 2253.1753529\ttotal: 1.43s\tremaining: 1.04s\n",
      "29:\tlearn: 2223.5483806\ttotal: 1.48s\tremaining: 985ms\n",
      "30:\tlearn: 2196.5884918\ttotal: 1.53s\tremaining: 936ms\n",
      "31:\tlearn: 2171.1070514\ttotal: 1.57s\tremaining: 881ms\n",
      "32:\tlearn: 2147.9046149\ttotal: 1.6s\tremaining: 826ms\n",
      "33:\tlearn: 2125.8492667\ttotal: 1.64s\tremaining: 774ms\n",
      "34:\tlearn: 2105.8906747\ttotal: 1.69s\tremaining: 723ms\n",
      "35:\tlearn: 2086.6928769\ttotal: 1.73s\tremaining: 673ms\n",
      "36:\tlearn: 2068.9053286\ttotal: 1.79s\tremaining: 630ms\n",
      "37:\tlearn: 2052.7428468\ttotal: 1.83s\tremaining: 579ms\n",
      "38:\tlearn: 2036.1919640\ttotal: 1.87s\tremaining: 528ms\n",
      "39:\tlearn: 2021.4426691\ttotal: 1.91s\tremaining: 478ms\n",
      "40:\tlearn: 2008.6275853\ttotal: 1.96s\tremaining: 429ms\n",
      "41:\tlearn: 1996.0605183\ttotal: 1.99s\tremaining: 380ms\n",
      "42:\tlearn: 1984.0236851\ttotal: 2.06s\tremaining: 335ms\n",
      "43:\tlearn: 1971.2107024\ttotal: 2.11s\tremaining: 287ms\n",
      "44:\tlearn: 1960.4411165\ttotal: 2.16s\tremaining: 240ms\n",
      "45:\tlearn: 1950.2686960\ttotal: 2.2s\tremaining: 192ms\n",
      "46:\tlearn: 1938.6958090\ttotal: 2.26s\tremaining: 144ms\n",
      "37:\tlearn: 2125.2066059\ttotal: 1.15s\tremaining: 1.87s\n",
      "38:\tlearn: 2109.4148691\ttotal: 1.17s\tremaining: 1.83s\n",
      "39:\tlearn: 2093.2937637\ttotal: 1.2s\tremaining: 1.8s\n",
      "40:\tlearn: 2079.2442472\ttotal: 1.23s\tremaining: 1.76s\n",
      "41:\tlearn: 2065.5828634\ttotal: 1.25s\tremaining: 1.73s\n",
      "42:\tlearn: 2052.8797345\ttotal: 1.28s\tremaining: 1.69s\n",
      "43:\tlearn: 2040.0743908\ttotal: 1.3s\tremaining: 1.66s\n",
      "44:\tlearn: 2028.9060134\ttotal: 1.33s\tremaining: 1.62s\n",
      "45:\tlearn: 2019.3163075\ttotal: 1.35s\tremaining: 1.59s\n",
      "46:\tlearn: 2009.0812534\ttotal: 1.38s\tremaining: 1.56s\n",
      "47:\tlearn: 2000.0241831\ttotal: 1.4s\tremaining: 1.52s\n",
      "48:\tlearn: 1990.4616538\ttotal: 1.43s\tremaining: 1.49s\n",
      "49:\tlearn: 1982.5173489\ttotal: 1.46s\tremaining: 1.46s\n",
      "50:\tlearn: 1974.3510884\ttotal: 1.5s\tremaining: 1.44s\n",
      "51:\tlearn: 1967.3651235\ttotal: 1.52s\tremaining: 1.41s\n",
      "52:\tlearn: 1960.0465787\ttotal: 1.55s\tremaining: 1.37s\n",
      "53:\tlearn: 1951.2089835\ttotal: 1.57s\tremaining: 1.33s\n",
      "54:\tlearn: 1943.7074201\ttotal: 1.58s\tremaining: 1.29s\n",
      "55:\tlearn: 1937.4704222\ttotal: 1.61s\tremaining: 1.27s\n",
      "56:\tlearn: 1931.5276312\ttotal: 1.64s\tremaining: 1.24s\n",
      "57:\tlearn: 1924.2563278\ttotal: 1.67s\tremaining: 1.21s\n",
      "58:\tlearn: 1917.4291127\ttotal: 1.71s\tremaining: 1.19s\n",
      "59:\tlearn: 1912.1567805\ttotal: 1.74s\tremaining: 1.16s\n",
      "60:\tlearn: 1907.3316103\ttotal: 1.78s\tremaining: 1.14s\n",
      "61:\tlearn: 1901.9645859\ttotal: 1.82s\tremaining: 1.12s\n",
      "62:\tlearn: 1897.6826106\ttotal: 1.86s\tremaining: 1.09s\n",
      "63:\tlearn: 1892.3460588\ttotal: 1.9s\tremaining: 1.07s\n",
      "64:\tlearn: 1887.9387055\ttotal: 1.94s\tremaining: 1.05s\n",
      "65:\tlearn: 1884.3298976\ttotal: 1.98s\tremaining: 1.02s\n",
      "66:\tlearn: 1880.7178735\ttotal: 2.03s\tremaining: 998ms\n",
      "67:\tlearn: 1875.4730165\ttotal: 2.08s\tremaining: 976ms\n",
      "68:\tlearn: 1870.8673097\ttotal: 2.14s\tremaining: 960ms\n",
      "69:\tlearn: 1867.5617715\ttotal: 2.19s\tremaining: 937ms\n",
      "70:\tlearn: 1864.2562677\ttotal: 2.23s\tremaining: 911ms\n",
      "71:\tlearn: 1861.2800557\ttotal: 2.26s\tremaining: 878ms\n",
      "72:\tlearn: 1858.0010104\ttotal: 2.28s\tremaining: 843ms\n",
      "73:\tlearn: 1855.2802339\ttotal: 2.3s\tremaining: 810ms\n",
      "74:\tlearn: 1850.9347156\ttotal: 2.33s\tremaining: 776ms\n",
      "75:\tlearn: 1847.6009163\ttotal: 2.35s\tremaining: 744ms\n",
      "76:\tlearn: 1844.3974448\ttotal: 2.39s\tremaining: 713ms\n",
      "77:\tlearn: 1841.5729430\ttotal: 2.41s\tremaining: 681ms\n",
      "78:\tlearn: 1838.9508447\ttotal: 2.44s\tremaining: 649ms\n",
      "79:\tlearn: 1836.1420628\ttotal: 2.47s\tremaining: 617ms\n",
      "80:\tlearn: 1832.5593458\ttotal: 2.49s\tremaining: 585ms\n",
      "81:\tlearn: 1830.0576558\ttotal: 2.52s\tremaining: 553ms\n",
      "82:\tlearn: 1828.1646987\ttotal: 2.54s\tremaining: 520ms\n",
      "83:\tlearn: 1825.4343594\ttotal: 2.59s\tremaining: 494ms\n",
      "84:\tlearn: 1823.4968113\ttotal: 2.62s\tremaining: 463ms\n",
      "85:\tlearn: 1820.4644751\ttotal: 2.65s\tremaining: 431ms\n",
      "86:\tlearn: 1817.6127774\ttotal: 2.68s\tremaining: 400ms\n",
      "87:\tlearn: 1815.7186371\ttotal: 2.71s\tremaining: 370ms\n",
      "88:\tlearn: 1814.2133321\ttotal: 2.75s\tremaining: 339ms\n",
      "89:\tlearn: 1812.7410354\ttotal: 2.78s\tremaining: 309ms\n",
      "90:\tlearn: 1810.2249030\ttotal: 2.81s\tremaining: 277ms\n",
      "91:\tlearn: 1808.8493035\ttotal: 2.83s\tremaining: 247ms\n",
      "92:\tlearn: 1807.5159667\ttotal: 2.87s\tremaining: 216ms\n",
      "93:\tlearn: 1805.4374210\ttotal: 2.91s\tremaining: 186ms\n",
      "94:\tlearn: 1803.8649839\ttotal: 2.95s\tremaining: 155ms\n",
      "95:\tlearn: 1802.1424376\ttotal: 2.98s\tremaining: 124ms\n",
      "96:\tlearn: 1800.7325753\ttotal: 3.01s\tremaining: 93ms\n",
      "97:\tlearn: 1798.5982672\ttotal: 3.03s\tremaining: 61.8ms\n",
      "98:\tlearn: 1796.2144763\ttotal: 3.06s\tremaining: 30.9ms\n",
      "99:\tlearn: 1794.8462839\ttotal: 3.09s\tremaining: 0us\n",
      "0:\tlearn: 4429.3182254\ttotal: 21.5ms\tremaining: 2.13s\n",
      "1:\tlearn: 4123.2860492\ttotal: 50.7ms\tremaining: 2.48s\n",
      "2:\tlearn: 3856.4437949\ttotal: 79.1ms\tremaining: 2.56s\n",
      "3:\tlearn: 3622.8250059\ttotal: 97ms\tremaining: 2.33s\n",
      "4:\tlearn: 3413.2919007\ttotal: 127ms\tremaining: 2.42s\n",
      "5:\tlearn: 3228.7206098\ttotal: 167ms\tremaining: 2.62s\n",
      "6:\tlearn: 3064.0760819\ttotal: 193ms\tremaining: 2.56s\n",
      "7:\tlearn: 2915.8700299\ttotal: 217ms\tremaining: 2.49s\n",
      "8:\tlearn: 2784.9264569\ttotal: 250ms\tremaining: 2.53s\n",
      "9:\tlearn: 2670.5864622\ttotal: 270ms\tremaining: 2.43s\n",
      "10:\tlearn: 2570.0831654\ttotal: 293ms\tremaining: 2.37s\n",
      "11:\tlearn: 2482.3515532\ttotal: 316ms\tremaining: 2.31s\n",
      "12:\tlearn: 2405.2054527\ttotal: 342ms\tremaining: 2.29s\n",
      "13:\tlearn: 2334.9924738\ttotal: 376ms\tremaining: 2.31s\n",
      "14:\tlearn: 2276.4716317\ttotal: 400ms\tremaining: 2.27s\n",
      "15:\tlearn: 2225.8623959\ttotal: 429ms\tremaining: 2.25s\n",
      "16:\tlearn: 2179.3598369\ttotal: 461ms\tremaining: 2.25s\n",
      "17:\tlearn: 2140.1378233\ttotal: 489ms\tremaining: 2.23s\n",
      "18:\tlearn: 2106.2882507\ttotal: 505ms\tremaining: 2.15s\n",
      "19:\tlearn: 2074.9601000\ttotal: 536ms\tremaining: 2.14s\n",
      "20:\tlearn: 2048.7598975\ttotal: 566ms\tremaining: 2.13s\n",
      "21:\tlearn: 2023.6553694\ttotal: 596ms\tremaining: 2.11s\n",
      "22:\tlearn: 2003.5306674\ttotal: 621ms\tremaining: 2.08s\n",
      "23:\tlearn: 1984.7515838\ttotal: 654ms\tremaining: 2.07s\n",
      "24:\tlearn: 1967.7701742\ttotal: 680ms\tremaining: 2.04s\n",
      "25:\tlearn: 1951.1806799\ttotal: 701ms\tremaining: 1.99s\n",
      "26:\tlearn: 1938.4116184\ttotal: 720ms\tremaining: 1.95s\n",
      "27:\tlearn: 1922.4437985\ttotal: 743ms\tremaining: 1.91s\n",
      "28:\tlearn: 1907.6712742\ttotal: 768ms\tremaining: 1.88s\n",
      "29:\tlearn: 1897.6374889\ttotal: 794ms\tremaining: 1.85s\n",
      "30:\tlearn: 1888.2045741\ttotal: 817ms\tremaining: 1.82s\n",
      "31:\tlearn: 1879.3290284\ttotal: 849ms\tremaining: 1.8s\n",
      "32:\tlearn: 1869.1267197\ttotal: 873ms\tremaining: 1.77s\n",
      "33:\tlearn: 1862.4639460\ttotal: 897ms\tremaining: 1.74s\n",
      "34:\tlearn: 1856.3072308\ttotal: 929ms\tremaining: 1.73s\n",
      "35:\tlearn: 1849.0779452\ttotal: 954ms\tremaining: 1.7s\n",
      "36:\tlearn: 1843.8562166\ttotal: 980ms\tremaining: 1.67s\n",
      "37:\tlearn: 1836.0022394\ttotal: 1s\tremaining: 1.64s\n",
      "38:\tlearn: 1830.0787319\ttotal: 1.04s\tremaining: 1.63s\n",
      "39:\tlearn: 1826.0226127\ttotal: 1.07s\tremaining: 1.61s\n",
      "40:\tlearn: 1821.5476020\ttotal: 1.09s\tremaining: 1.57s\n",
      "41:\tlearn: 1816.6540551\ttotal: 1.12s\tremaining: 1.55s\n",
      "42:\tlearn: 1811.4203714\ttotal: 1.15s\tremaining: 1.52s\n",
      "43:\tlearn: 1807.8435867\ttotal: 1.17s\tremaining: 1.49s\n",
      "44:\tlearn: 1804.3041574\ttotal: 1.2s\tremaining: 1.46s\n",
      "45:\tlearn: 1800.5278023\ttotal: 1.22s\tremaining: 1.43s\n",
      "46:\tlearn: 1795.1098751\ttotal: 1.26s\tremaining: 1.42s\n",
      "47:\tlearn: 1792.4487386\ttotal: 1.28s\tremaining: 1.39s\n",
      "48:\tlearn: 1789.5294233\ttotal: 1.3s\tremaining: 1.35s\n",
      "49:\tlearn: 1787.3538568\ttotal: 1.33s\tremaining: 1.33s\n",
      "50:\tlearn: 1782.3152690\ttotal: 1.36s\tremaining: 1.3s\n",
      "51:\tlearn: 1779.9763888\ttotal: 1.38s\tremaining: 1.28s\n",
      "52:\tlearn: 1777.3443474\ttotal: 1.41s\tremaining: 1.25s\n",
      "53:\tlearn: 1773.5306575\ttotal: 1.43s\tremaining: 1.22s\n",
      "54:\tlearn: 1771.9871369\ttotal: 1.46s\tremaining: 1.2s\n",
      "55:\tlearn: 1769.3543401\ttotal: 1.49s\tremaining: 1.17s\n",
      "56:\tlearn: 1766.6442812\ttotal: 1.52s\tremaining: 1.14s\n",
      "57:\tlearn: 1763.5429301\ttotal: 1.55s\tremaining: 1.12s\n",
      "58:\tlearn: 1760.9821958\ttotal: 1.58s\tremaining: 1.1s\n",
      "59:\tlearn: 1759.2073467\ttotal: 1.61s\tremaining: 1.07s\n",
      "60:\tlearn: 1757.5982992\ttotal: 1.64s\tremaining: 1.05s\n",
      "61:\tlearn: 1754.8934234\ttotal: 1.67s\tremaining: 1.02s\n",
      "62:\tlearn: 1752.5742038\ttotal: 1.69s\tremaining: 992ms\n",
      "63:\tlearn: 1749.6184365\ttotal: 1.72s\tremaining: 966ms\n",
      "64:\tlearn: 1747.0072705\ttotal: 1.74s\tremaining: 939ms\n",
      "65:\tlearn: 1745.3813830\ttotal: 1.77s\tremaining: 910ms\n",
      "66:\tlearn: 1744.1733636\ttotal: 1.8s\tremaining: 886ms\n",
      "67:\tlearn: 1742.5961939\ttotal: 1.82s\tremaining: 858ms\n",
      "68:\tlearn: 1740.1435417\ttotal: 1.85s\tremaining: 834ms\n",
      "69:\tlearn: 1738.3563164\ttotal: 1.89s\tremaining: 809ms\n",
      "70:\tlearn: 1736.7129026\ttotal: 1.92s\tremaining: 785ms\n",
      "71:\tlearn: 1735.5492458\ttotal: 1.95s\tremaining: 757ms\n",
      "72:\tlearn: 1733.8212188\ttotal: 1.97s\tremaining: 729ms\n",
      "73:\tlearn: 1732.0280246\ttotal: 2s\tremaining: 704ms\n",
      "74:\tlearn: 1730.8468648\ttotal: 2.02s\tremaining: 675ms\n",
      "75:\tlearn: 1729.2931079\ttotal: 2.06s\tremaining: 649ms\n",
      "76:\tlearn: 1727.4707938\ttotal: 2.08s\tremaining: 621ms\n",
      "77:\tlearn: 1726.2198100\ttotal: 2.11s\tremaining: 594ms\n",
      "78:\tlearn: 1725.0943682\ttotal: 2.13s\tremaining: 567ms\n",
      "79:\tlearn: 1723.6328831\ttotal: 2.17s\tremaining: 542ms\n",
      "80:\tlearn: 1722.3653123\ttotal: 2.19s\tremaining: 514ms\n",
      "81:\tlearn: 1721.6885424\ttotal: 2.22s\tremaining: 488ms\n",
      "82:\tlearn: 1720.6422541\ttotal: 2.25s\tremaining: 462ms\n",
      "83:\tlearn: 1719.2855903\ttotal: 2.29s\tremaining: 436ms\n",
      "84:\tlearn: 1718.4694241\ttotal: 2.31s\tremaining: 408ms\n",
      "85:\tlearn: 1717.4790620\ttotal: 2.33s\tremaining: 380ms\n",
      "86:\tlearn: 1715.5710305\ttotal: 2.36s\tremaining: 353ms\n",
      "87:\tlearn: 1714.1330568\ttotal: 2.4s\tremaining: 327ms\n",
      "88:\tlearn: 1712.3944644\ttotal: 2.43s\tremaining: 301ms\n",
      "89:\tlearn: 1711.5905404\ttotal: 2.45s\tremaining: 272ms\n",
      "90:\tlearn: 1710.3861411\ttotal: 2.48s\tremaining: 245ms\n",
      "91:\tlearn: 1709.1206842\ttotal: 2.51s\tremaining: 218ms\n",
      "92:\tlearn: 1708.3873858\ttotal: 2.54s\tremaining: 191ms\n",
      "93:\tlearn: 1707.1923471\ttotal: 2.57s\tremaining: 164ms\n",
      "94:\tlearn: 1706.3774399\ttotal: 2.59s\tremaining: 136ms\n",
      "95:\tlearn: 1705.2548239\ttotal: 2.61s\tremaining: 109ms\n",
      "96:\tlearn: 1704.4793250\ttotal: 2.65s\tremaining: 82ms\n",
      "97:\tlearn: 1703.4088581\ttotal: 2.69s\tremaining: 54.8ms\n",
      "98:\tlearn: 1702.2804694\ttotal: 2.71s\tremaining: 27.4ms\n",
      "99:\tlearn: 1701.5834346\ttotal: 2.73s\tremaining: 0us\n",
      "0:\tlearn: 4588.5853024\ttotal: 54.6ms\tremaining: 1.58s\n",
      "1:\tlearn: 4419.9118601\ttotal: 116ms\tremaining: 1.63s\n",
      "2:\tlearn: 4261.9477380\ttotal: 174ms\tremaining: 1.56s\n",
      "3:\tlearn: 4115.2928280\ttotal: 238ms\tremaining: 1.55s\n",
      "4:\tlearn: 3973.4312529\ttotal: 287ms\tremaining: 1.44s\n",
      "5:\tlearn: 3839.0827478\ttotal: 329ms\tremaining: 1.31s\n",
      "6:\tlearn: 3712.3687344\ttotal: 368ms\tremaining: 1.21s\n",
      "7:\tlearn: 3593.6210771\ttotal: 406ms\tremaining: 1.12s\n",
      "8:\tlearn: 3481.5395858\ttotal: 465ms\tremaining: 1.08s\n",
      "9:\tlearn: 3376.9437176\ttotal: 516ms\tremaining: 1.03s\n",
      "10:\tlearn: 3279.9496184\ttotal: 553ms\tremaining: 956ms\n",
      "11:\tlearn: 3185.0794857\ttotal: 595ms\tremaining: 892ms\n",
      "12:\tlearn: 3097.2891993\ttotal: 649ms\tremaining: 848ms\n",
      "13:\tlearn: 3017.1907120\ttotal: 704ms\tremaining: 805ms\n",
      "14:\tlearn: 2940.9914549\ttotal: 756ms\tremaining: 756ms\n",
      "15:\tlearn: 2869.2633754\ttotal: 794ms\tremaining: 695ms\n",
      "16:\tlearn: 2801.7905690\ttotal: 833ms\tremaining: 637ms\n",
      "17:\tlearn: 2736.4540089\ttotal: 876ms\tremaining: 584ms\n",
      "18:\tlearn: 2675.5758740\ttotal: 927ms\tremaining: 537ms\n",
      "19:\tlearn: 2620.8854313\ttotal: 997ms\tremaining: 499ms\n",
      "20:\tlearn: 2567.6706993\ttotal: 1.05s\tremaining: 450ms\n",
      "21:\tlearn: 2517.9445182\ttotal: 1.1s\tremaining: 400ms\n",
      "22:\tlearn: 2472.1825713\ttotal: 1.14s\tremaining: 348ms\n",
      "23:\tlearn: 2428.3890435\ttotal: 1.2s\tremaining: 301ms\n",
      "24:\tlearn: 2387.5288391\ttotal: 1.26s\tremaining: 252ms\n",
      "25:\tlearn: 2351.2496888\ttotal: 1.3s\tremaining: 201ms\n",
      "26:\tlearn: 2315.4464608\ttotal: 1.35s\tremaining: 150ms\n",
      "27:\tlearn: 2283.1249388\ttotal: 1.41s\tremaining: 101ms\n",
      "28:\tlearn: 2253.1753529\ttotal: 1.46s\tremaining: 50.4ms\n",
      "29:\tlearn: 2223.5483806\ttotal: 1.52s\tremaining: 0us\n",
      "0:\tlearn: 4739.5155302\ttotal: 44.3ms\tremaining: 2.17s\n",
      "1:\tlearn: 4703.9010116\ttotal: 101ms\tremaining: 2.42s\n",
      "2:\tlearn: 4668.2232678\ttotal: 143ms\tremaining: 2.24s\n",
      "3:\tlearn: 4633.4926575\ttotal: 191ms\tremaining: 2.19s\n",
      "4:\tlearn: 4598.8476572\ttotal: 247ms\tremaining: 2.23s\n",
      "5:\tlearn: 4564.5125422\ttotal: 287ms\tremaining: 2.1s\n",
      "6:\tlearn: 4530.4047732\ttotal: 341ms\tremaining: 2.09s\n",
      "7:\tlearn: 4496.9885825\ttotal: 386ms\tremaining: 2.03s\n",
      "8:\tlearn: 4464.0210653\ttotal: 450ms\tremaining: 2.05s\n",
      "9:\tlearn: 4431.2537515\ttotal: 497ms\tremaining: 1.99s\n",
      "10:\tlearn: 4399.6763677\ttotal: 559ms\tremaining: 1.98s\n",
      "11:\tlearn: 4367.8046766\ttotal: 606ms\tremaining: 1.92s\n",
      "12:\tlearn: 4336.4474093\ttotal: 653ms\tremaining: 1.86s\n",
      "13:\tlearn: 4305.1883234\ttotal: 698ms\tremaining: 1.79s\n",
      "14:\tlearn: 4274.6428306\ttotal: 752ms\tremaining: 1.75s\n",
      "15:\tlearn: 4245.0775432\ttotal: 827ms\tremaining: 1.76s\n",
      "16:\tlearn: 4215.5057704\ttotal: 888ms\tremaining: 1.72s\n",
      "17:\tlearn: 4185.9945434\ttotal: 941ms\tremaining: 1.67s\n",
      "18:\tlearn: 4156.4931358\ttotal: 976ms\tremaining: 1.59s\n",
      "19:\tlearn: 4127.1636871\ttotal: 1.02s\tremaining: 1.53s\n",
      "20:\tlearn: 4098.1598798\ttotal: 1.06s\tremaining: 1.46s\n",
      "21:\tlearn: 4069.8091006\ttotal: 1.09s\tremaining: 1.39s\n",
      "22:\tlearn: 4042.2686639\ttotal: 1.12s\tremaining: 1.32s\n",
      "23:\tlearn: 4014.5333070\ttotal: 1.17s\tremaining: 1.27s\n",
      "24:\tlearn: 3987.0964460\ttotal: 1.23s\tremaining: 1.23s\n",
      "25:\tlearn: 3960.4008933\ttotal: 1.27s\tremaining: 1.17s\n",
      "26:\tlearn: 3933.9692631\ttotal: 1.31s\tremaining: 1.12s\n",
      "27:\tlearn: 3907.7765235\ttotal: 1.38s\tremaining: 1.08s\n",
      "28:\tlearn: 3881.6145717\ttotal: 1.44s\tremaining: 1.04s\n",
      "29:\tlearn: 3855.7955003\ttotal: 1.48s\tremaining: 989ms\n",
      "30:\tlearn: 3830.1089101\ttotal: 1.53s\tremaining: 937ms\n",
      "31:\tlearn: 3804.9780067\ttotal: 1.59s\tremaining: 894ms\n",
      "32:\tlearn: 3779.9469942\ttotal: 1.63s\tremaining: 839ms\n",
      "33:\tlearn: 3755.1172433\ttotal: 1.67s\tremaining: 786ms\n",
      "34:\tlearn: 3730.8011099\ttotal: 1.74s\tremaining: 744ms\n",
      "35:\tlearn: 3706.4585319\ttotal: 1.78s\tremaining: 693ms\n",
      "36:\tlearn: 3682.5946401\ttotal: 1.84s\tremaining: 647ms\n",
      "37:\tlearn: 3659.1927274\ttotal: 1.88s\tremaining: 595ms\n",
      "38:\tlearn: 3636.0492553\ttotal: 1.95s\tremaining: 549ms\n",
      "39:\tlearn: 3613.0273698\ttotal: 1.99s\tremaining: 498ms\n",
      "40:\tlearn: 3590.6039906\ttotal: 2.03s\tremaining: 445ms\n",
      "41:\tlearn: 3567.8924746\ttotal: 2.09s\tremaining: 398ms\n",
      "42:\tlearn: 3546.0176309\ttotal: 2.13s\tremaining: 347ms\n",
      "43:\tlearn: 3524.2081344\ttotal: 2.18s\tremaining: 297ms\n",
      "44:\tlearn: 3502.4378209\ttotal: 2.23s\tremaining: 247ms\n",
      "45:\tlearn: 3481.0785711\ttotal: 2.28s\tremaining: 198ms\n",
      "46:\tlearn: 3459.9971599\ttotal: 2.33s\tremaining: 149ms\n",
      "47:\tlearn: 3439.0647934\ttotal: 2.37s\tremaining: 98.9ms\n",
      "48:\tlearn: 3418.4033381\ttotal: 2.41s\tremaining: 49.2ms\n",
      "49:\tlearn: 3397.9171217\ttotal: 2.46s\tremaining: 0us\n",
      "0:\tlearn: 4580.6023352\ttotal: 34.7ms\tremaining: 1.7s\n",
      "1:\tlearn: 4412.6264006\ttotal: 81.2ms\tremaining: 1.95s\n",
      "2:\tlearn: 4252.8997426\ttotal: 134ms\tremaining: 2.1s\n",
      "3:\tlearn: 4102.1373791\ttotal: 177ms\tremaining: 2.03s\n",
      "4:\tlearn: 3962.2301486\ttotal: 214ms\tremaining: 1.92s\n",
      "5:\tlearn: 3830.4938740\ttotal: 262ms\tremaining: 1.92s\n",
      "6:\tlearn: 3705.8476703\ttotal: 308ms\tremaining: 1.89s\n",
      "7:\tlearn: 3587.5511937\ttotal: 366ms\tremaining: 1.92s\n",
      "8:\tlearn: 3475.4787828\ttotal: 416ms\tremaining: 1.89s\n",
      "9:\tlearn: 3372.0410850\ttotal: 464ms\tremaining: 1.85s\n",
      "10:\tlearn: 3272.8228455\ttotal: 506ms\tremaining: 1.79s\n",
      "11:\tlearn: 3178.4138767\ttotal: 557ms\tremaining: 1.76s\n",
      "12:\tlearn: 3090.7375682\ttotal: 605ms\tremaining: 1.72s\n",
      "13:\tlearn: 3006.9900612\ttotal: 650ms\tremaining: 1.67s\n",
      "14:\tlearn: 2929.3461069\ttotal: 717ms\tremaining: 1.67s\n",
      "15:\tlearn: 2859.3461247\ttotal: 766ms\tremaining: 1.63s\n",
      "16:\tlearn: 2793.4005617\ttotal: 827ms\tremaining: 1.6s\n",
      "17:\tlearn: 2728.8709679\ttotal: 874ms\tremaining: 1.55s\n",
      "18:\tlearn: 2668.9017280\ttotal: 926ms\tremaining: 1.51s\n",
      "19:\tlearn: 2612.5973777\ttotal: 978ms\tremaining: 1.47s\n",
      "20:\tlearn: 2560.5254988\ttotal: 1.03s\tremaining: 1.42s\n",
      "21:\tlearn: 2510.7791204\ttotal: 1.07s\tremaining: 1.36s\n",
      "22:\tlearn: 2465.3051539\ttotal: 1.11s\tremaining: 1.3s\n",
      "23:\tlearn: 2423.0975198\ttotal: 1.17s\tremaining: 1.26s\n",
      "24:\tlearn: 2382.3003158\ttotal: 1.21s\tremaining: 1.21s\n",
      "25:\tlearn: 2344.5472731\ttotal: 1.25s\tremaining: 1.16s\n",
      "26:\tlearn: 2309.4830834\ttotal: 1.32s\tremaining: 1.13s\n",
      "27:\tlearn: 2277.1715825\ttotal: 1.36s\tremaining: 1.07s\n",
      "28:\tlearn: 2246.1774167\ttotal: 1.42s\tremaining: 1.03s\n",
      "29:\tlearn: 2216.3757426\ttotal: 1.46s\tremaining: 970ms\n",
      "30:\tlearn: 2189.3013214\ttotal: 1.51s\tremaining: 929ms\n",
      "31:\tlearn: 2164.5913310\ttotal: 1.55s\tremaining: 873ms\n",
      "32:\tlearn: 2141.8071208\ttotal: 1.6s\tremaining: 827ms\n",
      "33:\tlearn: 2119.4302447\ttotal: 1.66s\tremaining: 781ms\n",
      "34:\tlearn: 2099.3114368\ttotal: 1.72s\tremaining: 736ms\n",
      "35:\tlearn: 2078.9894479\ttotal: 1.77s\tremaining: 688ms\n",
      "36:\tlearn: 2061.0871257\ttotal: 1.81s\tremaining: 637ms\n",
      "37:\tlearn: 2043.9555768\ttotal: 1.86s\tremaining: 586ms\n",
      "38:\tlearn: 2027.5489588\ttotal: 1.9s\tremaining: 536ms\n",
      "39:\tlearn: 2012.3776606\ttotal: 1.95s\tremaining: 488ms\n",
      "40:\tlearn: 1999.0131481\ttotal: 2.01s\tremaining: 441ms\n",
      "41:\tlearn: 1985.6294082\ttotal: 2.07s\tremaining: 394ms\n",
      "42:\tlearn: 1973.8524031\ttotal: 2.11s\tremaining: 343ms\n",
      "43:\tlearn: 1962.3898081\ttotal: 2.16s\tremaining: 294ms\n",
      "44:\tlearn: 1951.9643303\ttotal: 2.21s\tremaining: 245ms\n",
      "45:\tlearn: 1940.7987411\ttotal: 2.25s\tremaining: 196ms\n",
      "46:\tlearn: 1930.9495306\ttotal: 2.3s\tremaining: 147ms\n",
      "47:\tlearn: 1921.7956353\ttotal: 2.35s\tremaining: 98.1ms\n",
      "48:\tlearn: 1912.4689393\ttotal: 2.4s\tremaining: 48.9ms\n",
      "49:\tlearn: 1904.2199709\ttotal: 2.44s\tremaining: 0us\n",
      "0:\tlearn: 4731.2176580\ttotal: 39.6ms\tremaining: 3.92s\n",
      "1:\tlearn: 4695.7604760\ttotal: 87.7ms\tremaining: 4.3s\n",
      "2:\tlearn: 4660.6498049\ttotal: 128ms\tremaining: 4.14s\n",
      "3:\tlearn: 4625.8596346\ttotal: 165ms\tremaining: 3.95s\n",
      "4:\tlearn: 4591.3209675\ttotal: 218ms\tremaining: 4.14s\n",
      "5:\tlearn: 4557.8557135\ttotal: 271ms\tremaining: 4.24s\n",
      "6:\tlearn: 4524.5476514\ttotal: 319ms\tremaining: 4.24s\n",
      "7:\tlearn: 4491.7861971\ttotal: 357ms\tremaining: 4.1s\n",
      "8:\tlearn: 4458.6632901\ttotal: 393ms\tremaining: 3.97s\n",
      "9:\tlearn: 4426.3099304\ttotal: 430ms\tremaining: 3.87s\n",
      "10:\tlearn: 4394.1193486\ttotal: 482ms\tremaining: 3.9s\n",
      "91:\tlearn: 2792.3371769\ttotal: 2.71s\tremaining: 236ms\n",
      "92:\tlearn: 2780.8269101\ttotal: 2.74s\tremaining: 207ms\n",
      "93:\tlearn: 2769.0006044\ttotal: 2.77s\tremaining: 177ms\n",
      "94:\tlearn: 2757.2901942\ttotal: 2.79s\tremaining: 147ms\n",
      "95:\tlearn: 2746.4185706\ttotal: 2.81s\tremaining: 117ms\n",
      "96:\tlearn: 2735.0916032\ttotal: 2.84s\tremaining: 88ms\n",
      "97:\tlearn: 2723.9312443\ttotal: 2.87s\tremaining: 58.6ms\n",
      "98:\tlearn: 2713.4283261\ttotal: 2.91s\tremaining: 29.4ms\n",
      "99:\tlearn: 2702.3041875\ttotal: 2.94s\tremaining: 0us\n",
      "0:\tlearn: 4589.3750671\ttotal: 43.3ms\tremaining: 4.29s\n",
      "1:\tlearn: 4427.0123256\ttotal: 91.3ms\tremaining: 4.47s\n",
      "2:\tlearn: 4273.4263830\ttotal: 129ms\tremaining: 4.17s\n",
      "3:\tlearn: 4127.8855699\ttotal: 170ms\tremaining: 4.09s\n",
      "4:\tlearn: 3990.7977444\ttotal: 216ms\tremaining: 4.1s\n",
      "5:\tlearn: 3861.8546614\ttotal: 266ms\tremaining: 4.16s\n",
      "6:\tlearn: 3741.5496653\ttotal: 301ms\tremaining: 4s\n",
      "7:\tlearn: 3628.2214795\ttotal: 334ms\tremaining: 3.84s\n",
      "8:\tlearn: 3521.5746218\ttotal: 397ms\tremaining: 4.01s\n",
      "9:\tlearn: 3421.2758469\ttotal: 433ms\tremaining: 3.9s\n",
      "10:\tlearn: 3326.0559056\ttotal: 465ms\tremaining: 3.76s\n",
      "11:\tlearn: 3237.5942911\ttotal: 517ms\tremaining: 3.79s\n",
      "12:\tlearn: 3153.5857629\ttotal: 585ms\tremaining: 3.91s\n",
      "13:\tlearn: 3074.7316631\ttotal: 642ms\tremaining: 3.95s\n",
      "14:\tlearn: 3000.1323401\ttotal: 731ms\tremaining: 4.14s\n",
      "15:\tlearn: 2929.4274532\ttotal: 777ms\tremaining: 4.08s\n",
      "16:\tlearn: 2865.2189252\ttotal: 835ms\tremaining: 4.08s\n",
      "17:\tlearn: 2800.8000301\ttotal: 877ms\tremaining: 3.99s\n",
      "18:\tlearn: 2742.0398711\ttotal: 913ms\tremaining: 3.89s\n",
      "19:\tlearn: 2684.5437614\ttotal: 950ms\tremaining: 3.8s\n",
      "20:\tlearn: 2633.8354615\ttotal: 973ms\tremaining: 3.66s\n",
      "21:\tlearn: 2586.0915675\ttotal: 1.01s\tremaining: 3.57s\n",
      "22:\tlearn: 2540.4047426\ttotal: 1.06s\tremaining: 3.56s\n",
      "23:\tlearn: 2496.3497329\ttotal: 1.1s\tremaining: 3.5s\n",
      "24:\tlearn: 2455.8827648\ttotal: 1.12s\tremaining: 3.37s\n",
      "25:\tlearn: 2418.4494589\ttotal: 1.18s\tremaining: 3.35s\n",
      "26:\tlearn: 2383.3995149\ttotal: 1.22s\tremaining: 3.31s\n",
      "27:\tlearn: 2351.8897540\ttotal: 1.24s\tremaining: 3.19s\n",
      "28:\tlearn: 2320.1656668\ttotal: 1.26s\tremaining: 3.1s\n",
      "29:\tlearn: 2290.9668288\ttotal: 1.28s\tremaining: 3s\n",
      "30:\tlearn: 2263.9465283\ttotal: 1.31s\tremaining: 2.91s\n",
      "31:\tlearn: 2237.9800989\ttotal: 1.33s\tremaining: 2.83s\n",
      "32:\tlearn: 2214.0973562\ttotal: 1.35s\tremaining: 2.74s\n",
      "33:\tlearn: 2191.2937784\ttotal: 1.37s\tremaining: 2.66s\n",
      "34:\tlearn: 2169.7886873\ttotal: 1.4s\tremaining: 2.59s\n",
      "35:\tlearn: 2150.8410099\ttotal: 1.42s\tremaining: 2.53s\n",
      "36:\tlearn: 2132.8621958\ttotal: 1.45s\tremaining: 2.46s\n",
      "37:\tlearn: 2115.8296602\ttotal: 1.47s\tremaining: 2.4s\n",
      "38:\tlearn: 2100.0247817\ttotal: 1.49s\tremaining: 2.33s\n",
      "39:\tlearn: 2085.0060988\ttotal: 1.51s\tremaining: 2.27s\n",
      "40:\tlearn: 2070.8607573\ttotal: 1.53s\tremaining: 2.21s\n",
      "41:\tlearn: 2057.6754549\ttotal: 1.57s\tremaining: 2.17s\n",
      "42:\tlearn: 2045.3717682\ttotal: 1.61s\tremaining: 2.13s\n",
      "43:\tlearn: 2034.4802610\ttotal: 1.63s\tremaining: 2.08s\n",
      "44:\tlearn: 2022.9475016\ttotal: 1.66s\tremaining: 2.03s\n",
      "45:\tlearn: 2013.1040823\ttotal: 1.68s\tremaining: 1.98s\n",
      "46:\tlearn: 2002.7172553\ttotal: 1.7s\tremaining: 1.92s\n",
      "47:\tlearn: 1992.8181622\ttotal: 1.73s\tremaining: 1.88s\n",
      "48:\tlearn: 1984.0728664\ttotal: 1.76s\tremaining: 1.83s\n",
      "49:\tlearn: 1975.4764263\ttotal: 1.78s\tremaining: 1.78s\n",
      "50:\tlearn: 1966.7607280\ttotal: 1.8s\tremaining: 1.73s\n",
      "51:\tlearn: 1959.2861179\ttotal: 1.83s\tremaining: 1.69s\n",
      "52:\tlearn: 1952.0032972\ttotal: 1.86s\tremaining: 1.65s\n",
      "53:\tlearn: 1945.5118938\ttotal: 1.88s\tremaining: 1.6s\n",
      "54:\tlearn: 1937.9000342\ttotal: 1.92s\tremaining: 1.57s\n",
      "55:\tlearn: 1931.8111533\ttotal: 1.95s\tremaining: 1.53s\n",
      "56:\tlearn: 1925.6348409\ttotal: 1.99s\tremaining: 1.5s\n",
      "57:\tlearn: 1919.4878459\ttotal: 2.02s\tremaining: 1.46s\n",
      "58:\tlearn: 1914.1041007\ttotal: 2.04s\tremaining: 1.42s\n",
      "59:\tlearn: 1908.2685253\ttotal: 2.07s\tremaining: 1.38s\n",
      "60:\tlearn: 1903.7038891\ttotal: 2.09s\tremaining: 1.34s\n",
      "61:\tlearn: 1898.6089232\ttotal: 2.15s\tremaining: 1.32s\n",
      "62:\tlearn: 1894.3358203\ttotal: 2.18s\tremaining: 1.28s\n",
      "63:\tlearn: 1890.3400562\ttotal: 2.21s\tremaining: 1.24s\n",
      "64:\tlearn: 1885.2525776\ttotal: 2.23s\tremaining: 1.2s\n",
      "65:\tlearn: 1881.6342211\ttotal: 2.26s\tremaining: 1.17s\n",
      "66:\tlearn: 1876.0149753\ttotal: 2.28s\tremaining: 1.12s\n",
      "67:\tlearn: 1872.9036619\ttotal: 2.31s\tremaining: 1.09s\n",
      "68:\tlearn: 1868.8818645\ttotal: 2.35s\tremaining: 1.05s\n",
      "69:\tlearn: 1864.9837156\ttotal: 2.37s\tremaining: 1.01s\n",
      "70:\tlearn: 1861.6449243\ttotal: 2.4s\tremaining: 978ms\n",
      "71:\tlearn: 1858.3122957\ttotal: 2.42s\tremaining: 943ms\n",
      "72:\tlearn: 1854.3391423\ttotal: 2.45s\tremaining: 908ms\n",
      "73:\tlearn: 1850.8443716\ttotal: 2.48s\tremaining: 871ms\n",
      "74:\tlearn: 1846.7785227\ttotal: 2.5s\tremaining: 833ms\n",
      "75:\tlearn: 1844.2930218\ttotal: 2.53s\tremaining: 798ms\n",
      "76:\tlearn: 1841.5130671\ttotal: 2.56s\tremaining: 765ms\n",
      "77:\tlearn: 1838.9182198\ttotal: 2.58s\tremaining: 729ms\n",
      "78:\tlearn: 1836.8830519\ttotal: 2.61s\tremaining: 695ms\n",
      "79:\tlearn: 1834.5188296\ttotal: 2.64s\tremaining: 661ms\n",
      "80:\tlearn: 1831.4097308\ttotal: 2.67s\tremaining: 628ms\n",
      "81:\tlearn: 1829.4761322\ttotal: 2.71s\tremaining: 594ms\n",
      "82:\tlearn: 1827.8787545\ttotal: 2.72s\tremaining: 558ms\n",
      "83:\tlearn: 1825.7747901\ttotal: 2.74s\tremaining: 522ms\n",
      "84:\tlearn: 1823.9720579\ttotal: 2.79s\tremaining: 492ms\n",
      "85:\tlearn: 1821.1072728\ttotal: 2.82s\tremaining: 459ms\n",
      "86:\tlearn: 1817.8676247\ttotal: 2.85s\tremaining: 426ms\n",
      "87:\tlearn: 1815.3485638\ttotal: 2.87s\tremaining: 392ms\n",
      "88:\tlearn: 1813.6857907\ttotal: 2.9s\tremaining: 358ms\n",
      "89:\tlearn: 1811.9552008\ttotal: 2.92s\tremaining: 325ms\n",
      "90:\tlearn: 1810.3220247\ttotal: 2.95s\tremaining: 292ms\n",
      "91:\tlearn: 1808.6995390\ttotal: 2.98s\tremaining: 259ms\n",
      "92:\tlearn: 1807.0717592\ttotal: 3.01s\tremaining: 226ms\n",
      "93:\tlearn: 1804.8930744\ttotal: 3.03s\tremaining: 194ms\n",
      "94:\tlearn: 1803.1621165\ttotal: 3.06s\tremaining: 161ms\n",
      "95:\tlearn: 1802.1163657\ttotal: 3.08s\tremaining: 128ms\n",
      "96:\tlearn: 1800.5980751\ttotal: 3.11s\tremaining: 96.2ms\n",
      "97:\tlearn: 1799.1891158\ttotal: 3.14s\tremaining: 64ms\n",
      "98:\tlearn: 1797.7829956\ttotal: 3.16s\tremaining: 31.9ms\n",
      "99:\tlearn: 1796.6151856\ttotal: 3.18s\tremaining: 0us\n",
      "0:\tlearn: 4739.5155302\ttotal: 50.6ms\tremaining: 1.47s\n",
      "1:\tlearn: 4703.9010116\ttotal: 104ms\tremaining: 1.46s\n",
      "2:\tlearn: 4668.2232678\ttotal: 144ms\tremaining: 1.3s\n",
      "3:\tlearn: 4633.4926575\ttotal: 189ms\tremaining: 1.23s\n",
      "4:\tlearn: 4598.8476572\ttotal: 237ms\tremaining: 1.18s\n",
      "5:\tlearn: 4564.5125422\ttotal: 287ms\tremaining: 1.15s\n",
      "6:\tlearn: 4530.4047732\ttotal: 342ms\tremaining: 1.12s\n",
      "7:\tlearn: 4496.9885825\ttotal: 387ms\tremaining: 1.06s\n",
      "8:\tlearn: 4464.0210653\ttotal: 431ms\tremaining: 1.01s\n",
      "9:\tlearn: 4431.2537515\ttotal: 480ms\tremaining: 960ms\n",
      "10:\tlearn: 4399.6763677\ttotal: 527ms\tremaining: 910ms\n",
      "11:\tlearn: 4367.8046766\ttotal: 590ms\tremaining: 885ms\n",
      "12:\tlearn: 4336.4474093\ttotal: 633ms\tremaining: 828ms\n",
      "13:\tlearn: 4305.1883234\ttotal: 676ms\tremaining: 773ms\n",
      "14:\tlearn: 4274.6428306\ttotal: 724ms\tremaining: 724ms\n",
      "15:\tlearn: 4245.0775432\ttotal: 761ms\tremaining: 666ms\n",
      "16:\tlearn: 4215.5057704\ttotal: 802ms\tremaining: 613ms\n",
      "17:\tlearn: 4185.9945434\ttotal: 846ms\tremaining: 564ms\n",
      "18:\tlearn: 4156.4931358\ttotal: 884ms\tremaining: 512ms\n",
      "19:\tlearn: 4127.1636871\ttotal: 961ms\tremaining: 480ms\n",
      "20:\tlearn: 4098.1598798\ttotal: 1.02s\tremaining: 436ms\n",
      "21:\tlearn: 4069.8091006\ttotal: 1.06s\tremaining: 385ms\n",
      "22:\tlearn: 4042.2686639\ttotal: 1.11s\tremaining: 338ms\n",
      "23:\tlearn: 4014.5333070\ttotal: 1.17s\tremaining: 293ms\n",
      "24:\tlearn: 3987.0964460\ttotal: 1.22s\tremaining: 244ms\n",
      "25:\tlearn: 3960.4008933\ttotal: 1.26s\tremaining: 194ms\n",
      "26:\tlearn: 3933.9692631\ttotal: 1.32s\tremaining: 147ms\n",
      "27:\tlearn: 3907.7765235\ttotal: 1.36s\tremaining: 97.1ms\n",
      "28:\tlearn: 3881.6145717\ttotal: 1.41s\tremaining: 48.5ms\n",
      "29:\tlearn: 3855.7955003\ttotal: 1.45s\tremaining: 0us\n",
      "0:\tlearn: 4594.1894194\ttotal: 49.6ms\tremaining: 1.44s\n",
      "1:\tlearn: 4425.7001576\ttotal: 103ms\tremaining: 1.45s\n",
      "2:\tlearn: 4266.8549760\ttotal: 145ms\tremaining: 1.3s\n",
      "3:\tlearn: 4115.8661260\ttotal: 187ms\tremaining: 1.22s\n",
      "4:\tlearn: 3973.4665282\ttotal: 252ms\tremaining: 1.26s\n",
      "5:\tlearn: 3838.0282567\ttotal: 305ms\tremaining: 1.22s\n",
      "6:\tlearn: 3713.7944972\ttotal: 351ms\tremaining: 1.15s\n",
      "7:\tlearn: 3594.5288778\ttotal: 411ms\tremaining: 1.13s\n",
      "8:\tlearn: 3481.9470957\ttotal: 456ms\tremaining: 1.06s\n",
      "9:\tlearn: 3377.0152342\ttotal: 506ms\tremaining: 1.01s\n",
      "10:\tlearn: 3277.1959268\ttotal: 547ms\tremaining: 945ms\n",
      "11:\tlearn: 3183.2165857\ttotal: 603ms\tremaining: 905ms\n",
      "12:\tlearn: 3095.6460967\ttotal: 660ms\tremaining: 863ms\n",
      "13:\tlearn: 3012.6639878\ttotal: 740ms\tremaining: 846ms\n",
      "14:\tlearn: 2936.7524568\ttotal: 780ms\tremaining: 780ms\n",
      "15:\tlearn: 2864.2422035\ttotal: 847ms\tremaining: 741ms\n",
      "16:\tlearn: 2797.4206852\ttotal: 912ms\tremaining: 698ms\n",
      "17:\tlearn: 2735.7607665\ttotal: 964ms\tremaining: 643ms\n",
      "18:\tlearn: 2676.1694088\ttotal: 1.02s\tremaining: 590ms\n",
      "19:\tlearn: 2618.5849474\ttotal: 1.06s\tremaining: 531ms\n",
      "20:\tlearn: 2565.4548171\ttotal: 1.11s\tremaining: 478ms\n",
      "21:\tlearn: 2515.3233854\ttotal: 1.17s\tremaining: 425ms\n",
      "22:\tlearn: 2469.7610496\ttotal: 1.22s\tremaining: 373ms\n",
      "23:\tlearn: 2427.2332003\ttotal: 1.26s\tremaining: 316ms\n",
      "24:\tlearn: 2386.8406066\ttotal: 1.32s\tremaining: 265ms\n",
      "25:\tlearn: 2348.5403983\ttotal: 1.39s\tremaining: 214ms\n",
      "26:\tlearn: 2312.6974880\ttotal: 1.44s\tremaining: 160ms\n",
      "27:\tlearn: 2278.3740872\ttotal: 1.48s\tremaining: 106ms\n",
      "28:\tlearn: 2248.0286034\ttotal: 1.53s\tremaining: 52.7ms\n",
      "29:\tlearn: 2218.4688311\ttotal: 1.56s\tremaining: 0us\n",
      "0:\tlearn: 4731.2176580\ttotal: 60.3ms\tremaining: 2.96s\n",
      "1:\tlearn: 4695.7604760\ttotal: 115ms\tremaining: 2.77s\n",
      "2:\tlearn: 4660.6498049\ttotal: 173ms\tremaining: 2.71s\n",
      "3:\tlearn: 4625.8596346\ttotal: 238ms\tremaining: 2.74s\n",
      "4:\tlearn: 4591.3209675\ttotal: 320ms\tremaining: 2.88s\n",
      "5:\tlearn: 4557.8557135\ttotal: 377ms\tremaining: 2.76s\n",
      "6:\tlearn: 4524.5476514\ttotal: 416ms\tremaining: 2.55s\n",
      "7:\tlearn: 4491.7861971\ttotal: 459ms\tremaining: 2.41s\n",
      "8:\tlearn: 4458.6632901\ttotal: 499ms\tremaining: 2.27s\n",
      "9:\tlearn: 4426.3099304\ttotal: 537ms\tremaining: 2.15s\n",
      "10:\tlearn: 4394.1193486\ttotal: 578ms\tremaining: 2.05s\n",
      "11:\tlearn: 4362.4393955\ttotal: 638ms\tremaining: 2.02s\n",
      "12:\tlearn: 4331.3226356\ttotal: 686ms\tremaining: 1.95s\n",
      "13:\tlearn: 4300.0631953\ttotal: 734ms\tremaining: 1.89s\n",
      "14:\tlearn: 4269.6090771\ttotal: 777ms\tremaining: 1.81s\n",
      "15:\tlearn: 4240.2170800\ttotal: 817ms\tremaining: 1.74s\n",
      "16:\tlearn: 4210.7466170\ttotal: 902ms\tremaining: 1.75s\n",
      "17:\tlearn: 4181.3461980\ttotal: 943ms\tremaining: 1.68s\n",
      "18:\tlearn: 4152.5076886\ttotal: 984ms\tremaining: 1.6s\n",
      "19:\tlearn: 4123.5250522\ttotal: 1.02s\tremaining: 1.53s\n",
      "20:\tlearn: 4094.7809974\ttotal: 1.06s\tremaining: 1.47s\n",
      "21:\tlearn: 4066.2684213\ttotal: 1.13s\tremaining: 1.44s\n",
      "22:\tlearn: 4038.8074404\ttotal: 1.16s\tremaining: 1.36s\n",
      "23:\tlearn: 4011.3067700\ttotal: 1.2s\tremaining: 1.3s\n",
      "24:\tlearn: 3984.0269135\ttotal: 1.24s\tremaining: 1.24s\n",
      "25:\tlearn: 3957.3964801\ttotal: 1.29s\tremaining: 1.19s\n",
      "26:\tlearn: 3930.6195806\ttotal: 1.33s\tremaining: 1.14s\n",
      "27:\tlearn: 3904.4857474\ttotal: 1.39s\tremaining: 1.09s\n",
      "28:\tlearn: 3878.4598413\ttotal: 1.43s\tremaining: 1.04s\n",
      "29:\tlearn: 3852.6475553\ttotal: 1.48s\tremaining: 989ms\n",
      "30:\tlearn: 3827.0103679\ttotal: 1.53s\tremaining: 940ms\n",
      "31:\tlearn: 3801.4582402\ttotal: 1.58s\tremaining: 891ms\n",
      "32:\tlearn: 3776.5102033\ttotal: 1.63s\tremaining: 838ms\n",
      "33:\tlearn: 3751.4705049\ttotal: 1.68s\tremaining: 789ms\n",
      "34:\tlearn: 3727.2785055\ttotal: 1.72s\tremaining: 738ms\n",
      "35:\tlearn: 3703.0228780\ttotal: 1.75s\tremaining: 683ms\n",
      "36:\tlearn: 3679.3760532\ttotal: 1.81s\tremaining: 636ms\n",
      "37:\tlearn: 3655.8389055\ttotal: 1.86s\tremaining: 587ms\n",
      "38:\tlearn: 3632.3015864\ttotal: 1.9s\tremaining: 537ms\n",
      "39:\tlearn: 3609.2135498\ttotal: 1.94s\tremaining: 485ms\n",
      "40:\tlearn: 3586.5839674\ttotal: 1.98s\tremaining: 435ms\n",
      "41:\tlearn: 3564.3358297\ttotal: 2.05s\tremaining: 390ms\n",
      "42:\tlearn: 3542.3197992\ttotal: 2.1s\tremaining: 342ms\n",
      "43:\tlearn: 3520.7835518\ttotal: 2.16s\tremaining: 295ms\n",
      "44:\tlearn: 3499.0832437\ttotal: 2.21s\tremaining: 245ms\n",
      "45:\tlearn: 3477.5169749\ttotal: 2.26s\tremaining: 197ms\n",
      "46:\tlearn: 3456.4533096\ttotal: 2.31s\tremaining: 148ms\n",
      "47:\tlearn: 3435.7537349\ttotal: 2.36s\tremaining: 98.5ms\n",
      "48:\tlearn: 3415.2364775\ttotal: 2.41s\tremaining: 49.2ms\n",
      "49:\tlearn: 3394.8159260\ttotal: 2.46s\tremaining: 0us\n",
      "0:\tlearn: 4405.7801593\ttotal: 50.6ms\tremaining: 2.48s\n",
      "1:\tlearn: 4092.2507382\ttotal: 115ms\tremaining: 2.75s\n",
      "2:\tlearn: 3810.7479299\ttotal: 199ms\tremaining: 3.12s\n",
      "3:\tlearn: 3563.7823200\ttotal: 249ms\tremaining: 2.87s\n",
      "4:\tlearn: 3346.1906754\ttotal: 306ms\tremaining: 2.76s\n",
      "5:\tlearn: 3157.9230831\ttotal: 358ms\tremaining: 2.62s\n",
      "6:\tlearn: 2985.3758840\ttotal: 406ms\tremaining: 2.5s\n",
      "7:\tlearn: 2831.9150536\ttotal: 457ms\tremaining: 2.4s\n",
      "8:\tlearn: 2698.7199026\ttotal: 490ms\tremaining: 2.23s\n",
      "9:\tlearn: 2582.7197981\ttotal: 537ms\tremaining: 2.15s\n",
      "10:\tlearn: 2484.1771289\ttotal: 594ms\tremaining: 2.11s\n",
      "11:\tlearn: 2396.6061337\ttotal: 637ms\tremaining: 2.02s\n",
      "12:\tlearn: 2321.3686232\ttotal: 678ms\tremaining: 1.93s\n",
      "13:\tlearn: 2256.9918161\ttotal: 724ms\tremaining: 1.86s\n",
      "14:\tlearn: 2199.6370370\ttotal: 786ms\tremaining: 1.83s\n",
      "15:\tlearn: 2150.3455414\ttotal: 839ms\tremaining: 1.78s\n",
      "16:\tlearn: 2104.3226885\ttotal: 884ms\tremaining: 1.72s\n",
      "17:\tlearn: 2065.2937331\ttotal: 928ms\tremaining: 1.65s\n",
      "18:\tlearn: 2031.9478833\ttotal: 970ms\tremaining: 1.58s\n",
      "19:\tlearn: 2000.9329051\ttotal: 1.03s\tremaining: 1.54s\n",
      "20:\tlearn: 1974.6060848\ttotal: 1.09s\tremaining: 1.5s\n",
      "21:\tlearn: 1950.9707063\ttotal: 1.14s\tremaining: 1.45s\n",
      "22:\tlearn: 1929.7659108\ttotal: 1.2s\tremaining: 1.4s\n",
      "23:\tlearn: 1909.7000137\ttotal: 1.24s\tremaining: 1.35s\n",
      "24:\tlearn: 1893.0487438\ttotal: 1.29s\tremaining: 1.29s\n",
      "25:\tlearn: 1877.8004941\ttotal: 1.33s\tremaining: 1.23s\n",
      "26:\tlearn: 1863.4037323\ttotal: 1.38s\tremaining: 1.18s\n",
      "27:\tlearn: 1849.7965795\ttotal: 1.42s\tremaining: 1.12s\n",
      "28:\tlearn: 1839.5918264\ttotal: 1.48s\tremaining: 1.07s\n",
      "29:\tlearn: 1830.8357057\ttotal: 1.54s\tremaining: 1.02s\n",
      "30:\tlearn: 1822.2114458\ttotal: 1.59s\tremaining: 974ms\n",
      "31:\tlearn: 1815.4667304\ttotal: 1.64s\tremaining: 921ms\n",
      "32:\tlearn: 1806.8084312\ttotal: 1.7s\tremaining: 877ms\n",
      "33:\tlearn: 1799.3873968\ttotal: 1.78s\tremaining: 836ms\n",
      "34:\tlearn: 1791.7147227\ttotal: 1.81s\tremaining: 778ms\n",
      "35:\tlearn: 1786.2589650\ttotal: 1.86s\tremaining: 722ms\n",
      "36:\tlearn: 1781.5534277\ttotal: 1.9s\tremaining: 668ms\n",
      "37:\tlearn: 1776.4419466\ttotal: 1.95s\tremaining: 614ms\n",
      "38:\tlearn: 1772.1203235\ttotal: 1.99s\tremaining: 562ms\n",
      "39:\tlearn: 1766.2970089\ttotal: 2.05s\tremaining: 514ms\n",
      "40:\tlearn: 1762.7489546\ttotal: 2.1s\tremaining: 462ms\n",
      "41:\tlearn: 1759.7876456\ttotal: 2.16s\tremaining: 411ms\n",
      "42:\tlearn: 1756.6387772\ttotal: 2.21s\tremaining: 359ms\n",
      "43:\tlearn: 1752.6622749\ttotal: 2.25s\tremaining: 307ms\n",
      "44:\tlearn: 1750.2249565\ttotal: 2.3s\tremaining: 256ms\n",
      "45:\tlearn: 1746.8839333\ttotal: 2.35s\tremaining: 204ms\n",
      "46:\tlearn: 1744.4542042\ttotal: 2.41s\tremaining: 154ms\n",
      "47:\tlearn: 1740.4407490\ttotal: 2.46s\tremaining: 102ms\n",
      "48:\tlearn: 1737.4073747\ttotal: 2.55s\tremaining: 52.1ms\n",
      "49:\tlearn: 1734.3622667\ttotal: 2.59s\tremaining: 0us\n",
      "0:\tlearn: 4724.8713165\ttotal: 47.5ms\tremaining: 4.7s\n",
      "1:\tlearn: 4689.4784766\ttotal: 97.3ms\tremaining: 4.77s\n",
      "2:\tlearn: 4654.5476087\ttotal: 146ms\tremaining: 4.72s\n",
      "3:\tlearn: 4620.0082311\ttotal: 197ms\tremaining: 4.72s\n",
      "4:\tlearn: 4585.9766670\ttotal: 244ms\tremaining: 4.63s\n",
      "5:\tlearn: 4552.4515214\ttotal: 291ms\tremaining: 4.56s\n",
      "6:\tlearn: 4518.9647156\ttotal: 344ms\tremaining: 4.57s\n",
      "7:\tlearn: 4485.8781327\ttotal: 408ms\tremaining: 4.69s\n",
      "8:\tlearn: 4453.1668176\ttotal: 461ms\tremaining: 4.66s\n",
      "9:\tlearn: 4420.9944148\ttotal: 529ms\tremaining: 4.76s\n",
      "10:\tlearn: 4389.3617389\ttotal: 603ms\tremaining: 4.88s\n",
      "11:\tlearn: 4357.3240646\ttotal: 651ms\tremaining: 4.78s\n",
      "12:\tlearn: 4326.1505388\ttotal: 714ms\tremaining: 4.78s\n",
      "13:\tlearn: 4295.1919746\ttotal: 782ms\tremaining: 4.81s\n",
      "14:\tlearn: 4264.6434181\ttotal: 825ms\tremaining: 4.68s\n",
      "15:\tlearn: 4235.2406268\ttotal: 880ms\tremaining: 4.62s\n",
      "16:\tlearn: 4205.7643527\ttotal: 928ms\tremaining: 4.53s\n",
      "17:\tlearn: 4176.2677499\ttotal: 985ms\tremaining: 4.49s\n",
      "18:\tlearn: 4147.3511918\ttotal: 1.05s\tremaining: 4.47s\n",
      "19:\tlearn: 4118.2062502\ttotal: 1.13s\tremaining: 4.5s\n",
      "20:\tlearn: 4089.5545458\ttotal: 1.19s\tremaining: 4.48s\n",
      "21:\tlearn: 4061.0537158\ttotal: 1.24s\tremaining: 4.38s\n",
      "22:\tlearn: 4032.8336779\ttotal: 1.28s\tremaining: 4.28s\n",
      "23:\tlearn: 4005.2154188\ttotal: 1.33s\tremaining: 4.22s\n",
      "24:\tlearn: 3977.8520873\ttotal: 1.38s\tremaining: 4.13s\n",
      "25:\tlearn: 3950.6286529\ttotal: 1.41s\tremaining: 4.03s\n",
      "26:\tlearn: 3924.0944326\ttotal: 1.48s\tremaining: 4s\n",
      "27:\tlearn: 3897.8417306\ttotal: 1.52s\tremaining: 3.92s\n",
      "28:\tlearn: 3871.7288631\ttotal: 1.59s\tremaining: 3.9s\n",
      "29:\tlearn: 3846.0099711\ttotal: 1.63s\tremaining: 3.81s\n",
      "30:\tlearn: 3820.3704252\ttotal: 1.69s\tremaining: 3.77s\n",
      "31:\tlearn: 3795.1897674\ttotal: 1.74s\tremaining: 3.69s\n",
      "32:\tlearn: 3770.1488830\ttotal: 1.78s\tremaining: 3.63s\n",
      "33:\tlearn: 3745.2097994\ttotal: 1.83s\tremaining: 3.56s\n",
      "34:\tlearn: 3720.8391070\ttotal: 1.88s\tremaining: 3.5s\n",
      "90:\tlearn: 2809.4674839\ttotal: 2.99s\tremaining: 295ms\n",
      "91:\tlearn: 2797.2830048\ttotal: 3.02s\tremaining: 263ms\n",
      "92:\tlearn: 2785.3544777\ttotal: 3.08s\tremaining: 232ms\n",
      "93:\tlearn: 2773.3554851\ttotal: 3.12s\tremaining: 199ms\n",
      "94:\tlearn: 2761.7143680\ttotal: 3.17s\tremaining: 167ms\n",
      "95:\tlearn: 2750.3199502\ttotal: 3.2s\tremaining: 133ms\n",
      "96:\tlearn: 2739.2433783\ttotal: 3.23s\tremaining: 99.9ms\n",
      "97:\tlearn: 2728.0822606\ttotal: 3.25s\tremaining: 66.4ms\n",
      "98:\tlearn: 2717.1369585\ttotal: 3.28s\tremaining: 33.2ms\n",
      "99:\tlearn: 2706.5639650\ttotal: 3.31s\tremaining: 0us\n",
      "0:\tlearn: 4432.8166071\ttotal: 21.9ms\tremaining: 2.16s\n",
      "1:\tlearn: 4125.7432666\ttotal: 43.9ms\tremaining: 2.15s\n",
      "2:\tlearn: 3862.4196362\ttotal: 76.2ms\tremaining: 2.46s\n",
      "3:\tlearn: 3623.8707973\ttotal: 97ms\tremaining: 2.33s\n",
      "4:\tlearn: 3410.9642138\ttotal: 137ms\tremaining: 2.6s\n",
      "5:\tlearn: 3225.8681513\ttotal: 164ms\tremaining: 2.57s\n",
      "6:\tlearn: 3063.1425457\ttotal: 201ms\tremaining: 2.67s\n",
      "7:\tlearn: 2916.8764864\ttotal: 226ms\tremaining: 2.6s\n",
      "8:\tlearn: 2790.2379543\ttotal: 259ms\tremaining: 2.62s\n",
      "9:\tlearn: 2676.2409073\ttotal: 288ms\tremaining: 2.59s\n",
      "10:\tlearn: 2576.2562898\ttotal: 317ms\tremaining: 2.57s\n",
      "11:\tlearn: 2489.2529893\ttotal: 365ms\tremaining: 2.68s\n",
      "12:\tlearn: 2413.4548589\ttotal: 396ms\tremaining: 2.65s\n",
      "13:\tlearn: 2343.0515779\ttotal: 450ms\tremaining: 2.76s\n",
      "14:\tlearn: 2285.9867769\ttotal: 489ms\tremaining: 2.77s\n",
      "15:\tlearn: 2233.3921911\ttotal: 518ms\tremaining: 2.72s\n",
      "16:\tlearn: 2189.8264767\ttotal: 539ms\tremaining: 2.63s\n",
      "17:\tlearn: 2149.9344352\ttotal: 567ms\tremaining: 2.58s\n",
      "18:\tlearn: 2115.0194570\ttotal: 592ms\tremaining: 2.52s\n",
      "19:\tlearn: 2085.1554129\ttotal: 609ms\tremaining: 2.44s\n",
      "20:\tlearn: 2058.6769997\ttotal: 630ms\tremaining: 2.37s\n",
      "21:\tlearn: 2034.5889142\ttotal: 647ms\tremaining: 2.29s\n",
      "22:\tlearn: 2014.1253328\ttotal: 670ms\tremaining: 2.24s\n",
      "23:\tlearn: 1992.9388221\ttotal: 697ms\tremaining: 2.21s\n",
      "24:\tlearn: 1972.3775399\ttotal: 721ms\tremaining: 2.16s\n",
      "25:\tlearn: 1957.7426197\ttotal: 748ms\tremaining: 2.13s\n",
      "26:\tlearn: 1944.5869792\ttotal: 773ms\tremaining: 2.09s\n",
      "27:\tlearn: 1928.4422212\ttotal: 795ms\tremaining: 2.04s\n",
      "28:\tlearn: 1917.7397179\ttotal: 830ms\tremaining: 2.03s\n",
      "29:\tlearn: 1907.1397858\ttotal: 880ms\tremaining: 2.05s\n",
      "30:\tlearn: 1898.3401458\ttotal: 901ms\tremaining: 2s\n",
      "31:\tlearn: 1890.0510474\ttotal: 931ms\tremaining: 1.98s\n",
      "32:\tlearn: 1882.7900006\ttotal: 956ms\tremaining: 1.94s\n",
      "33:\tlearn: 1876.2009563\ttotal: 978ms\tremaining: 1.9s\n",
      "34:\tlearn: 1870.3835090\ttotal: 1.02s\tremaining: 1.9s\n",
      "35:\tlearn: 1861.3201119\ttotal: 1.04s\tremaining: 1.86s\n",
      "36:\tlearn: 1852.8949634\ttotal: 1.07s\tremaining: 1.83s\n",
      "37:\tlearn: 1846.0523096\ttotal: 1.1s\tremaining: 1.79s\n",
      "38:\tlearn: 1839.9921447\ttotal: 1.12s\tremaining: 1.75s\n",
      "39:\tlearn: 1834.7742024\ttotal: 1.15s\tremaining: 1.72s\n",
      "40:\tlearn: 1830.3041594\ttotal: 1.17s\tremaining: 1.68s\n",
      "41:\tlearn: 1826.2917151\ttotal: 1.2s\tremaining: 1.65s\n",
      "42:\tlearn: 1820.1424649\ttotal: 1.24s\tremaining: 1.65s\n",
      "43:\tlearn: 1814.5859264\ttotal: 1.26s\tremaining: 1.61s\n",
      "44:\tlearn: 1811.8873413\ttotal: 1.29s\tremaining: 1.57s\n",
      "45:\tlearn: 1808.7628316\ttotal: 1.32s\tremaining: 1.55s\n",
      "46:\tlearn: 1803.8155969\ttotal: 1.34s\tremaining: 1.51s\n",
      "47:\tlearn: 1800.8832249\ttotal: 1.36s\tremaining: 1.48s\n",
      "48:\tlearn: 1796.3772280\ttotal: 1.39s\tremaining: 1.45s\n",
      "49:\tlearn: 1792.2531889\ttotal: 1.42s\tremaining: 1.42s\n",
      "50:\tlearn: 1789.0561351\ttotal: 1.44s\tremaining: 1.39s\n",
      "51:\tlearn: 1786.1619077\ttotal: 1.47s\tremaining: 1.36s\n",
      "52:\tlearn: 1784.5061752\ttotal: 1.5s\tremaining: 1.33s\n",
      "53:\tlearn: 1780.8586204\ttotal: 1.53s\tremaining: 1.3s\n",
      "54:\tlearn: 1779.0911888\ttotal: 1.55s\tremaining: 1.27s\n",
      "55:\tlearn: 1777.2587739\ttotal: 1.57s\tremaining: 1.24s\n",
      "56:\tlearn: 1775.1301600\ttotal: 1.6s\tremaining: 1.21s\n",
      "57:\tlearn: 1771.9602790\ttotal: 1.62s\tremaining: 1.17s\n",
      "58:\tlearn: 1768.8598941\ttotal: 1.65s\tremaining: 1.14s\n",
      "59:\tlearn: 1766.8885692\ttotal: 1.67s\tremaining: 1.11s\n",
      "60:\tlearn: 1765.1460991\ttotal: 1.7s\tremaining: 1.08s\n",
      "61:\tlearn: 1763.1525348\ttotal: 1.73s\tremaining: 1.06s\n",
      "62:\tlearn: 1760.8352773\ttotal: 1.76s\tremaining: 1.03s\n",
      "63:\tlearn: 1758.6373177\ttotal: 1.79s\tremaining: 1s\n",
      "64:\tlearn: 1756.8733577\ttotal: 1.81s\tremaining: 974ms\n",
      "65:\tlearn: 1754.7180262\ttotal: 1.83s\tremaining: 944ms\n",
      "66:\tlearn: 1752.9458450\ttotal: 1.86s\tremaining: 917ms\n",
      "67:\tlearn: 1750.6274353\ttotal: 1.89s\tremaining: 888ms\n",
      "68:\tlearn: 1749.0372931\ttotal: 1.91s\tremaining: 860ms\n",
      "69:\tlearn: 1746.7082819\ttotal: 1.94s\tremaining: 830ms\n",
      "70:\tlearn: 1744.8611120\ttotal: 1.96s\tremaining: 800ms\n",
      "71:\tlearn: 1743.6494682\ttotal: 1.98s\tremaining: 771ms\n",
      "72:\tlearn: 1740.4494515\ttotal: 2.02s\tremaining: 749ms\n",
      "73:\tlearn: 1738.7302361\ttotal: 2.05s\tremaining: 719ms\n",
      "74:\tlearn: 1736.4448552\ttotal: 2.08s\tremaining: 692ms\n",
      "75:\tlearn: 1734.7163735\ttotal: 2.1s\tremaining: 663ms\n",
      "76:\tlearn: 1732.6646257\ttotal: 2.12s\tremaining: 633ms\n",
      "77:\tlearn: 1731.2231619\ttotal: 2.15s\tremaining: 605ms\n",
      "78:\tlearn: 1730.4665896\ttotal: 2.18s\tremaining: 579ms\n",
      "79:\tlearn: 1729.4390588\ttotal: 2.21s\tremaining: 554ms\n",
      "80:\tlearn: 1728.1858666\ttotal: 2.25s\tremaining: 527ms\n",
      "81:\tlearn: 1727.2752379\ttotal: 2.27s\tremaining: 498ms\n",
      "82:\tlearn: 1725.4486398\ttotal: 2.29s\tremaining: 469ms\n",
      "83:\tlearn: 1723.7132437\ttotal: 2.32s\tremaining: 441ms\n",
      "84:\tlearn: 1722.0187652\ttotal: 2.34s\tremaining: 413ms\n",
      "85:\tlearn: 1720.5273553\ttotal: 2.37s\tremaining: 386ms\n",
      "86:\tlearn: 1718.8870004\ttotal: 2.39s\tremaining: 357ms\n",
      "87:\tlearn: 1717.8687326\ttotal: 2.42s\tremaining: 330ms\n",
      "88:\tlearn: 1716.2393281\ttotal: 2.45s\tremaining: 303ms\n",
      "89:\tlearn: 1715.5066113\ttotal: 2.49s\tremaining: 277ms\n",
      "90:\tlearn: 1713.8944468\ttotal: 2.52s\tremaining: 249ms\n",
      "91:\tlearn: 1713.0622427\ttotal: 2.54s\tremaining: 221ms\n",
      "92:\tlearn: 1712.4440922\ttotal: 2.57s\tremaining: 194ms\n",
      "93:\tlearn: 1711.6068178\ttotal: 2.6s\tremaining: 166ms\n",
      "94:\tlearn: 1710.6706980\ttotal: 2.63s\tremaining: 138ms\n",
      "95:\tlearn: 1709.9728339\ttotal: 2.65s\tremaining: 110ms\n",
      "96:\tlearn: 1709.2466685\ttotal: 2.68s\tremaining: 82.8ms\n",
      "97:\tlearn: 1707.6068408\ttotal: 2.7s\tremaining: 55.2ms\n",
      "98:\tlearn: 1706.3557770\ttotal: 2.73s\tremaining: 27.6ms\n",
      "99:\tlearn: 1705.2106799\ttotal: 2.76s\tremaining: 0us\n",
      "0:\tlearn: 4582.5936211\ttotal: 41.9ms\tremaining: 1.22s\n",
      "1:\tlearn: 4413.5328324\ttotal: 102ms\tremaining: 1.43s\n",
      "2:\tlearn: 4253.5496088\ttotal: 148ms\tremaining: 1.33s\n",
      "3:\tlearn: 4103.1059131\ttotal: 197ms\tremaining: 1.28s\n",
      "4:\tlearn: 3962.4004976\ttotal: 244ms\tremaining: 1.22s\n",
      "5:\tlearn: 3831.0038748\ttotal: 305ms\tremaining: 1.22s\n",
      "6:\tlearn: 3703.9797558\ttotal: 363ms\tremaining: 1.19s\n",
      "7:\tlearn: 3585.3194546\ttotal: 417ms\tremaining: 1.15s\n",
      "8:\tlearn: 3473.8243517\ttotal: 476ms\tremaining: 1.11s\n",
      "9:\tlearn: 3369.7314775\ttotal: 524ms\tremaining: 1.05s\n",
      "10:\tlearn: 3270.8290434\ttotal: 563ms\tremaining: 973ms\n",
      "11:\tlearn: 3176.7047905\ttotal: 606ms\tremaining: 910ms\n",
      "12:\tlearn: 3089.0089072\ttotal: 673ms\tremaining: 880ms\n",
      "13:\tlearn: 3005.9138718\ttotal: 739ms\tremaining: 845ms\n",
      "14:\tlearn: 2930.6117465\ttotal: 809ms\tremaining: 809ms\n",
      "15:\tlearn: 2861.0848849\ttotal: 867ms\tremaining: 759ms\n",
      "16:\tlearn: 2793.2685810\ttotal: 914ms\tremaining: 699ms\n",
      "17:\tlearn: 2728.7502211\ttotal: 964ms\tremaining: 643ms\n",
      "18:\tlearn: 2669.2057105\ttotal: 1.01s\tremaining: 585ms\n",
      "19:\tlearn: 2612.8850502\ttotal: 1.05s\tremaining: 525ms\n",
      "20:\tlearn: 2558.4357880\ttotal: 1.11s\tremaining: 477ms\n",
      "21:\tlearn: 2508.3265795\ttotal: 1.16s\tremaining: 422ms\n",
      "22:\tlearn: 2461.1321531\ttotal: 1.24s\tremaining: 378ms\n",
      "23:\tlearn: 2417.8362729\ttotal: 1.28s\tremaining: 321ms\n",
      "24:\tlearn: 2377.8044574\ttotal: 1.33s\tremaining: 265ms\n",
      "25:\tlearn: 2339.9630493\ttotal: 1.36s\tremaining: 210ms\n",
      "26:\tlearn: 2303.8553560\ttotal: 1.41s\tremaining: 157ms\n",
      "27:\tlearn: 2270.4543610\ttotal: 1.46s\tremaining: 105ms\n",
      "28:\tlearn: 2240.0136439\ttotal: 1.51s\tremaining: 52.1ms\n",
      "29:\tlearn: 2211.2062465\ttotal: 1.55s\tremaining: 0us\n",
      "0:\tlearn: 4412.5039419\ttotal: 49.5ms\tremaining: 1.43s\n",
      "1:\tlearn: 4098.6193639\ttotal: 95.5ms\tremaining: 1.34s\n",
      "2:\tlearn: 3824.8760965\ttotal: 152ms\tremaining: 1.37s\n",
      "3:\tlearn: 3574.6169769\ttotal: 179ms\tremaining: 1.17s\n",
      "4:\tlearn: 3356.9812870\ttotal: 207ms\tremaining: 1.03s\n",
      "5:\tlearn: 3163.5419080\ttotal: 279ms\tremaining: 1.11s\n",
      "6:\tlearn: 2990.4367486\ttotal: 319ms\tremaining: 1.05s\n",
      "7:\tlearn: 2840.5998758\ttotal: 376ms\tremaining: 1.03s\n",
      "8:\tlearn: 2707.6736167\ttotal: 417ms\tremaining: 973ms\n",
      "9:\tlearn: 2594.0806214\ttotal: 455ms\tremaining: 910ms\n",
      "10:\tlearn: 2495.9375817\ttotal: 501ms\tremaining: 866ms\n",
      "11:\tlearn: 2405.8967339\ttotal: 553ms\tremaining: 830ms\n",
      "12:\tlearn: 2329.7601776\ttotal: 613ms\tremaining: 802ms\n",
      "13:\tlearn: 2266.2382196\ttotal: 668ms\tremaining: 763ms\n",
      "14:\tlearn: 2207.7631561\ttotal: 719ms\tremaining: 719ms\n",
      "15:\tlearn: 2158.2948999\ttotal: 766ms\tremaining: 671ms\n",
      "16:\tlearn: 2114.8058228\ttotal: 806ms\tremaining: 616ms\n",
      "17:\tlearn: 2076.8744047\ttotal: 864ms\tremaining: 576ms\n",
      "18:\tlearn: 2039.9210028\ttotal: 911ms\tremaining: 528ms\n",
      "19:\tlearn: 2009.5722483\ttotal: 948ms\tremaining: 474ms\n",
      "20:\tlearn: 1983.0586638\ttotal: 988ms\tremaining: 423ms\n",
      "21:\tlearn: 1960.9962288\ttotal: 1.03s\tremaining: 374ms\n",
      "22:\tlearn: 1938.7267064\ttotal: 1.06s\tremaining: 324ms\n",
      "23:\tlearn: 1919.0830089\ttotal: 1.09s\tremaining: 274ms\n",
      "24:\tlearn: 1903.1957153\ttotal: 1.14s\tremaining: 228ms\n",
      "25:\tlearn: 1888.4286327\ttotal: 1.18s\tremaining: 182ms\n",
      "26:\tlearn: 1873.7327535\ttotal: 1.24s\tremaining: 138ms\n",
      "27:\tlearn: 1861.8649277\ttotal: 1.28s\tremaining: 91.8ms\n",
      "28:\tlearn: 1850.4075179\ttotal: 1.33s\tremaining: 45.8ms\n",
      "29:\tlearn: 1841.1333500\ttotal: 1.36s\tremaining: 0us\n",
      "0:\tlearn: 4582.5936211\ttotal: 64.2ms\tremaining: 3.15s\n",
      "1:\tlearn: 4413.5328324\ttotal: 113ms\tremaining: 2.71s\n",
      "2:\tlearn: 4253.5496088\ttotal: 153ms\tremaining: 2.4s\n",
      "3:\tlearn: 4103.1059131\ttotal: 196ms\tremaining: 2.26s\n",
      "4:\tlearn: 3962.4004976\ttotal: 228ms\tremaining: 2.05s\n",
      "5:\tlearn: 3831.0038748\ttotal: 263ms\tremaining: 1.93s\n",
      "6:\tlearn: 3703.9797558\ttotal: 322ms\tremaining: 1.98s\n",
      "7:\tlearn: 3585.3194546\ttotal: 389ms\tremaining: 2.04s\n",
      "8:\tlearn: 3473.8243517\ttotal: 432ms\tremaining: 1.97s\n",
      "9:\tlearn: 3369.7314775\ttotal: 464ms\tremaining: 1.85s\n",
      "10:\tlearn: 3270.8290434\ttotal: 509ms\tremaining: 1.8s\n",
      "11:\tlearn: 3176.7047905\ttotal: 548ms\tremaining: 1.74s\n",
      "12:\tlearn: 3089.0089072\ttotal: 593ms\tremaining: 1.69s\n",
      "13:\tlearn: 3005.9138718\ttotal: 643ms\tremaining: 1.65s\n",
      "14:\tlearn: 2930.6117465\ttotal: 677ms\tremaining: 1.58s\n",
      "15:\tlearn: 2861.0848849\ttotal: 722ms\tremaining: 1.53s\n",
      "16:\tlearn: 2793.2685810\ttotal: 769ms\tremaining: 1.49s\n",
      "17:\tlearn: 2728.7502211\ttotal: 822ms\tremaining: 1.46s\n",
      "18:\tlearn: 2669.2057105\ttotal: 878ms\tremaining: 1.43s\n",
      "19:\tlearn: 2612.8850502\ttotal: 920ms\tremaining: 1.38s\n",
      "20:\tlearn: 2558.4357880\ttotal: 953ms\tremaining: 1.32s\n",
      "21:\tlearn: 2508.3265795\ttotal: 1000ms\tremaining: 1.27s\n",
      "22:\tlearn: 2461.1321531\ttotal: 1.05s\tremaining: 1.24s\n",
      "23:\tlearn: 2417.8362729\ttotal: 1.11s\tremaining: 1.2s\n",
      "24:\tlearn: 2377.8044574\ttotal: 1.16s\tremaining: 1.16s\n",
      "25:\tlearn: 2339.9630493\ttotal: 1.19s\tremaining: 1.1s\n",
      "26:\tlearn: 2303.8553560\ttotal: 1.23s\tremaining: 1.05s\n",
      "27:\tlearn: 2270.4543610\ttotal: 1.27s\tremaining: 1s\n",
      "28:\tlearn: 2240.0136439\ttotal: 1.32s\tremaining: 957ms\n",
      "29:\tlearn: 2211.2062465\ttotal: 1.37s\tremaining: 916ms\n",
      "30:\tlearn: 2183.7820624\ttotal: 1.43s\tremaining: 878ms\n",
      "31:\tlearn: 2158.3132050\ttotal: 1.46s\tremaining: 821ms\n",
      "32:\tlearn: 2135.7011291\ttotal: 1.52s\tremaining: 782ms\n",
      "33:\tlearn: 2112.6947137\ttotal: 1.58s\tremaining: 743ms\n",
      "34:\tlearn: 2092.6035846\ttotal: 1.63s\tremaining: 701ms\n",
      "35:\tlearn: 2071.9747817\ttotal: 1.68s\tremaining: 654ms\n",
      "36:\tlearn: 2053.3727733\ttotal: 1.75s\tremaining: 615ms\n",
      "37:\tlearn: 2036.9716430\ttotal: 1.79s\tremaining: 565ms\n",
      "38:\tlearn: 2021.5162786\ttotal: 1.83s\tremaining: 518ms\n",
      "39:\tlearn: 2006.2137674\ttotal: 1.88s\tremaining: 470ms\n",
      "40:\tlearn: 1993.0103916\ttotal: 1.93s\tremaining: 423ms\n",
      "41:\tlearn: 1978.8698998\ttotal: 1.98s\tremaining: 376ms\n",
      "42:\tlearn: 1967.3094616\ttotal: 2.02s\tremaining: 329ms\n",
      "43:\tlearn: 1955.0129260\ttotal: 2.06s\tremaining: 281ms\n",
      "44:\tlearn: 1944.5279910\ttotal: 2.11s\tremaining: 235ms\n",
      "45:\tlearn: 1933.5695912\ttotal: 2.16s\tremaining: 188ms\n",
      "46:\tlearn: 1924.1088742\ttotal: 2.22s\tremaining: 142ms\n",
      "47:\tlearn: 1915.0172789\ttotal: 2.27s\tremaining: 94.4ms\n",
      "48:\tlearn: 1906.7231867\ttotal: 2.31s\tremaining: 47.2ms\n",
      "49:\tlearn: 1898.7428661\ttotal: 2.36s\tremaining: 0us\n",
      "0:\tlearn: 4412.5039419\ttotal: 41.4ms\tremaining: 2.03s\n",
      "1:\tlearn: 4098.6193639\ttotal: 109ms\tremaining: 2.6s\n",
      "2:\tlearn: 3824.8760965\ttotal: 144ms\tremaining: 2.25s\n",
      "3:\tlearn: 3574.6169769\ttotal: 194ms\tremaining: 2.23s\n",
      "4:\tlearn: 3356.9812870\ttotal: 237ms\tremaining: 2.13s\n",
      "5:\tlearn: 3163.5419080\ttotal: 289ms\tremaining: 2.12s\n",
      "6:\tlearn: 2990.4367486\ttotal: 332ms\tremaining: 2.04s\n",
      "7:\tlearn: 2840.5998758\ttotal: 384ms\tremaining: 2.02s\n",
      "8:\tlearn: 2707.6736167\ttotal: 434ms\tremaining: 1.98s\n",
      "9:\tlearn: 2594.0806214\ttotal: 468ms\tremaining: 1.87s\n",
      "10:\tlearn: 2495.9375817\ttotal: 513ms\tremaining: 1.82s\n",
      "11:\tlearn: 2405.8967339\ttotal: 561ms\tremaining: 1.78s\n",
      "12:\tlearn: 2329.7601776\ttotal: 601ms\tremaining: 1.71s\n",
      "13:\tlearn: 2266.2382196\ttotal: 654ms\tremaining: 1.68s\n",
      "14:\tlearn: 2207.7631561\ttotal: 708ms\tremaining: 1.65s\n",
      "15:\tlearn: 2158.2948999\ttotal: 749ms\tremaining: 1.59s\n",
      "16:\tlearn: 2114.8058228\ttotal: 807ms\tremaining: 1.57s\n",
      "17:\tlearn: 2076.8744047\ttotal: 844ms\tremaining: 1.5s\n",
      "18:\tlearn: 2039.9210028\ttotal: 896ms\tremaining: 1.46s\n",
      "19:\tlearn: 2009.5722483\ttotal: 935ms\tremaining: 1.4s\n",
      "20:\tlearn: 1983.0586638\ttotal: 990ms\tremaining: 1.37s\n",
      "21:\tlearn: 1960.9962288\ttotal: 1.04s\tremaining: 1.32s\n",
      "22:\tlearn: 1938.7267064\ttotal: 1.12s\tremaining: 1.31s\n",
      "23:\tlearn: 1919.0830089\ttotal: 1.16s\tremaining: 1.25s\n",
      "24:\tlearn: 1903.1957153\ttotal: 1.19s\tremaining: 1.19s\n",
      "25:\tlearn: 1888.4286327\ttotal: 1.23s\tremaining: 1.13s\n",
      "26:\tlearn: 1873.7327535\ttotal: 1.26s\tremaining: 1.07s\n",
      "27:\tlearn: 1861.8649277\ttotal: 1.33s\tremaining: 1.04s\n",
      "28:\tlearn: 1850.4075179\ttotal: 1.39s\tremaining: 1.01s\n",
      "29:\tlearn: 1841.1333500\ttotal: 1.46s\tremaining: 974ms\n",
      "30:\tlearn: 1832.9760468\ttotal: 1.52s\tremaining: 930ms\n",
      "31:\tlearn: 1825.3702239\ttotal: 1.59s\tremaining: 893ms\n",
      "32:\tlearn: 1818.5553878\ttotal: 1.69s\tremaining: 868ms\n",
      "33:\tlearn: 1811.0203726\ttotal: 1.73s\tremaining: 816ms\n",
      "34:\tlearn: 1805.2778801\ttotal: 1.84s\tremaining: 788ms\n",
      "35:\tlearn: 1800.8375409\ttotal: 1.89s\tremaining: 736ms\n",
      "36:\tlearn: 1794.6388034\ttotal: 1.95s\tremaining: 685ms\n",
      "37:\tlearn: 1787.9510550\ttotal: 2.01s\tremaining: 634ms\n",
      "38:\tlearn: 1782.3955531\ttotal: 2.06s\tremaining: 582ms\n",
      "39:\tlearn: 1777.1051856\ttotal: 2.1s\tremaining: 525ms\n",
      "40:\tlearn: 1771.8790763\ttotal: 2.14s\tremaining: 470ms\n",
      "41:\tlearn: 1767.2147113\ttotal: 2.2s\tremaining: 419ms\n",
      "42:\tlearn: 1764.6971775\ttotal: 2.26s\tremaining: 368ms\n",
      "43:\tlearn: 1761.3374369\ttotal: 2.33s\tremaining: 317ms\n",
      "44:\tlearn: 1758.1225246\ttotal: 2.38s\tremaining: 264ms\n",
      "45:\tlearn: 1754.7573493\ttotal: 2.43s\tremaining: 211ms\n",
      "46:\tlearn: 1752.0622530\ttotal: 2.48s\tremaining: 158ms\n",
      "47:\tlearn: 1749.9357122\ttotal: 2.54s\tremaining: 106ms\n",
      "48:\tlearn: 1747.1947540\ttotal: 2.58s\tremaining: 52.8ms\n",
      "49:\tlearn: 1744.7690515\ttotal: 2.64s\tremaining: 0us\n",
      "0:\tlearn: 4582.5936211\ttotal: 48.4ms\tremaining: 4.79s\n",
      "1:\tlearn: 4413.5328324\ttotal: 110ms\tremaining: 5.4s\n",
      "2:\tlearn: 4253.5496088\ttotal: 169ms\tremaining: 5.46s\n",
      "3:\tlearn: 4103.1059131\ttotal: 220ms\tremaining: 5.28s\n",
      "4:\tlearn: 3962.4004976\ttotal: 261ms\tremaining: 4.96s\n",
      "5:\tlearn: 3831.0038748\ttotal: 338ms\tremaining: 5.29s\n",
      "6:\tlearn: 3703.9797558\ttotal: 381ms\tremaining: 5.06s\n",
      "7:\tlearn: 3585.3194546\ttotal: 456ms\tremaining: 5.25s\n",
      "8:\tlearn: 3473.8243517\ttotal: 507ms\tremaining: 5.12s\n",
      "9:\tlearn: 3369.7314775\ttotal: 557ms\tremaining: 5.01s\n",
      "10:\tlearn: 3270.8290434\ttotal: 613ms\tremaining: 4.96s\n",
      "11:\tlearn: 3176.7047905\ttotal: 661ms\tremaining: 4.85s\n",
      "12:\tlearn: 3089.0089072\ttotal: 727ms\tremaining: 4.86s\n",
      "13:\tlearn: 3005.9138718\ttotal: 796ms\tremaining: 4.89s\n",
      "14:\tlearn: 2930.6117465\ttotal: 845ms\tremaining: 4.79s\n",
      "15:\tlearn: 2861.0848849\ttotal: 908ms\tremaining: 4.77s\n",
      "16:\tlearn: 2793.2685810\ttotal: 946ms\tremaining: 4.62s\n",
      "17:\tlearn: 2728.7502211\ttotal: 988ms\tremaining: 4.5s\n",
      "18:\tlearn: 2669.2057105\ttotal: 1.04s\tremaining: 4.44s\n",
      "19:\tlearn: 2612.8850502\ttotal: 1.09s\tremaining: 4.35s\n",
      "20:\tlearn: 2558.4357880\ttotal: 1.14s\tremaining: 4.3s\n",
      "21:\tlearn: 2508.3265795\ttotal: 1.19s\tremaining: 4.22s\n",
      "22:\tlearn: 2461.1321531\ttotal: 1.24s\tremaining: 4.16s\n",
      "23:\tlearn: 2417.8362729\ttotal: 1.31s\tremaining: 4.16s\n",
      "24:\tlearn: 2377.8044574\ttotal: 1.35s\tremaining: 4.05s\n",
      "25:\tlearn: 2339.9630493\ttotal: 1.4s\tremaining: 3.97s\n",
      "26:\tlearn: 2303.8553560\ttotal: 1.45s\tremaining: 3.92s\n",
      "27:\tlearn: 2270.4543610\ttotal: 1.51s\tremaining: 3.88s\n",
      "28:\tlearn: 2240.0136439\ttotal: 1.55s\tremaining: 3.8s\n",
      "29:\tlearn: 2211.2062465\ttotal: 1.61s\tremaining: 3.77s\n",
      "30:\tlearn: 2183.7820624\ttotal: 1.66s\tremaining: 3.7s\n",
      "31:\tlearn: 2158.3132050\ttotal: 1.71s\tremaining: 3.63s\n",
      "32:\tlearn: 2135.7011291\ttotal: 1.74s\tremaining: 3.53s\n",
      "33:\tlearn: 2112.6947137\ttotal: 1.79s\tremaining: 3.47s\n",
      "81:\tlearn: 2926.8507898\ttotal: 2.5s\tremaining: 549ms\n",
      "82:\tlearn: 2913.3369707\ttotal: 2.55s\tremaining: 522ms\n",
      "83:\tlearn: 2900.1773804\ttotal: 2.58s\tremaining: 492ms\n",
      "84:\tlearn: 2887.3330075\ttotal: 2.61s\tremaining: 461ms\n",
      "85:\tlearn: 2874.3818157\ttotal: 2.64s\tremaining: 430ms\n",
      "86:\tlearn: 2861.7461345\ttotal: 2.68s\tremaining: 400ms\n",
      "87:\tlearn: 2849.5451930\ttotal: 2.74s\tremaining: 374ms\n",
      "88:\tlearn: 2837.0102813\ttotal: 2.79s\tremaining: 345ms\n",
      "89:\tlearn: 2824.5538667\ttotal: 2.81s\tremaining: 313ms\n",
      "90:\tlearn: 2812.5728739\ttotal: 2.83s\tremaining: 280ms\n",
      "91:\tlearn: 2800.5656596\ttotal: 2.85s\tremaining: 248ms\n",
      "92:\tlearn: 2789.0402050\ttotal: 2.87s\tremaining: 216ms\n",
      "93:\tlearn: 2777.5948919\ttotal: 2.89s\tremaining: 184ms\n",
      "94:\tlearn: 2766.1554591\ttotal: 2.91s\tremaining: 153ms\n",
      "95:\tlearn: 2754.6713744\ttotal: 2.92s\tremaining: 122ms\n",
      "96:\tlearn: 2743.6015255\ttotal: 2.94s\tremaining: 90.9ms\n",
      "97:\tlearn: 2732.7457699\ttotal: 2.96s\tremaining: 60.3ms\n",
      "98:\tlearn: 2722.1310667\ttotal: 2.98s\tremaining: 30.1ms\n",
      "99:\tlearn: 2711.5546113\ttotal: 3s\tremaining: 0us\n",
      "0:\tlearn: 4600.2456685\ttotal: 24.9ms\tremaining: 2.46s\n",
      "1:\tlearn: 4436.8561841\ttotal: 45.2ms\tremaining: 2.22s\n",
      "2:\tlearn: 4284.4881279\ttotal: 59.9ms\tremaining: 1.94s\n",
      "3:\tlearn: 4138.2256734\ttotal: 75.8ms\tremaining: 1.82s\n",
      "4:\tlearn: 4001.7997249\ttotal: 99.5ms\tremaining: 1.89s\n",
      "5:\tlearn: 3873.0089663\ttotal: 127ms\tremaining: 1.99s\n",
      "6:\tlearn: 3752.0611953\ttotal: 151ms\tremaining: 2.01s\n",
      "7:\tlearn: 3638.9497404\ttotal: 174ms\tremaining: 2s\n",
      "8:\tlearn: 3530.4503623\ttotal: 197ms\tremaining: 1.99s\n",
      "9:\tlearn: 3428.7407679\ttotal: 224ms\tremaining: 2.01s\n",
      "10:\tlearn: 3335.1793989\ttotal: 251ms\tremaining: 2.03s\n",
      "11:\tlearn: 3243.5966459\ttotal: 293ms\tremaining: 2.15s\n",
      "12:\tlearn: 3158.1086549\ttotal: 329ms\tremaining: 2.2s\n",
      "13:\tlearn: 3078.5198722\ttotal: 360ms\tremaining: 2.21s\n",
      "14:\tlearn: 3004.0384493\ttotal: 382ms\tremaining: 2.16s\n",
      "15:\tlearn: 2934.5957630\ttotal: 412ms\tremaining: 2.16s\n",
      "16:\tlearn: 2868.2649108\ttotal: 438ms\tremaining: 2.14s\n",
      "17:\tlearn: 2805.2548451\ttotal: 484ms\tremaining: 2.2s\n",
      "18:\tlearn: 2747.6639656\ttotal: 520ms\tremaining: 2.22s\n",
      "19:\tlearn: 2690.9299742\ttotal: 546ms\tremaining: 2.18s\n",
      "20:\tlearn: 2638.2115940\ttotal: 571ms\tremaining: 2.15s\n",
      "21:\tlearn: 2592.1637736\ttotal: 596ms\tremaining: 2.11s\n",
      "22:\tlearn: 2546.8911324\ttotal: 618ms\tremaining: 2.07s\n",
      "23:\tlearn: 2502.9748223\ttotal: 661ms\tremaining: 2.09s\n",
      "24:\tlearn: 2463.2012289\ttotal: 703ms\tremaining: 2.11s\n",
      "25:\tlearn: 2425.8210145\ttotal: 733ms\tremaining: 2.09s\n",
      "26:\tlearn: 2390.7972246\ttotal: 757ms\tremaining: 2.05s\n",
      "27:\tlearn: 2356.7379696\ttotal: 801ms\tremaining: 2.06s\n",
      "28:\tlearn: 2324.8610942\ttotal: 849ms\tremaining: 2.08s\n",
      "29:\tlearn: 2295.8897285\ttotal: 913ms\tremaining: 2.13s\n",
      "30:\tlearn: 2268.3049297\ttotal: 963ms\tremaining: 2.14s\n",
      "31:\tlearn: 2242.1996111\ttotal: 992ms\tremaining: 2.11s\n",
      "32:\tlearn: 2217.7217379\ttotal: 1.03s\tremaining: 2.09s\n",
      "33:\tlearn: 2194.9031849\ttotal: 1.06s\tremaining: 2.06s\n",
      "34:\tlearn: 2173.7929338\ttotal: 1.09s\tremaining: 2.02s\n",
      "35:\tlearn: 2154.9350502\ttotal: 1.11s\tremaining: 1.97s\n",
      "36:\tlearn: 2136.6213321\ttotal: 1.13s\tremaining: 1.93s\n",
      "37:\tlearn: 2119.1318183\ttotal: 1.18s\tremaining: 1.92s\n",
      "38:\tlearn: 2103.3153621\ttotal: 1.21s\tremaining: 1.9s\n",
      "39:\tlearn: 2087.7052498\ttotal: 1.24s\tremaining: 1.87s\n",
      "40:\tlearn: 2073.4797786\ttotal: 1.27s\tremaining: 1.83s\n",
      "41:\tlearn: 2059.7796020\ttotal: 1.3s\tremaining: 1.79s\n",
      "42:\tlearn: 2047.4154565\ttotal: 1.33s\tremaining: 1.77s\n",
      "43:\tlearn: 2034.9681938\ttotal: 1.36s\tremaining: 1.74s\n",
      "44:\tlearn: 2023.4002119\ttotal: 1.4s\tremaining: 1.71s\n",
      "45:\tlearn: 2013.1105860\ttotal: 1.42s\tremaining: 1.66s\n",
      "46:\tlearn: 2003.2827984\ttotal: 1.44s\tremaining: 1.62s\n",
      "47:\tlearn: 1992.8260966\ttotal: 1.47s\tremaining: 1.59s\n",
      "48:\tlearn: 1983.6355964\ttotal: 1.5s\tremaining: 1.56s\n",
      "49:\tlearn: 1975.3107555\ttotal: 1.52s\tremaining: 1.52s\n",
      "50:\tlearn: 1966.6003129\ttotal: 1.56s\tremaining: 1.5s\n",
      "51:\tlearn: 1959.1678399\ttotal: 1.59s\tremaining: 1.47s\n",
      "52:\tlearn: 1952.0344739\ttotal: 1.61s\tremaining: 1.43s\n",
      "53:\tlearn: 1945.7584722\ttotal: 1.64s\tremaining: 1.4s\n",
      "54:\tlearn: 1937.1611544\ttotal: 1.66s\tremaining: 1.36s\n",
      "55:\tlearn: 1930.8843097\ttotal: 1.69s\tremaining: 1.33s\n",
      "56:\tlearn: 1925.0618873\ttotal: 1.72s\tremaining: 1.3s\n",
      "57:\tlearn: 1917.9901452\ttotal: 1.74s\tremaining: 1.26s\n",
      "58:\tlearn: 1911.1349682\ttotal: 1.79s\tremaining: 1.24s\n",
      "59:\tlearn: 1905.1230075\ttotal: 1.81s\tremaining: 1.21s\n",
      "60:\tlearn: 1899.8413060\ttotal: 1.84s\tremaining: 1.18s\n",
      "61:\tlearn: 1895.0486708\ttotal: 1.87s\tremaining: 1.14s\n",
      "62:\tlearn: 1890.0971269\ttotal: 1.9s\tremaining: 1.11s\n",
      "63:\tlearn: 1885.1118539\ttotal: 1.92s\tremaining: 1.08s\n",
      "64:\tlearn: 1880.8800138\ttotal: 1.94s\tremaining: 1.05s\n",
      "65:\tlearn: 1877.2588484\ttotal: 1.97s\tremaining: 1.01s\n",
      "66:\tlearn: 1873.5347742\ttotal: 1.99s\tremaining: 982ms\n",
      "67:\tlearn: 1870.1316794\ttotal: 2.02s\tremaining: 952ms\n",
      "68:\tlearn: 1865.3842177\ttotal: 2.04s\tremaining: 919ms\n",
      "69:\tlearn: 1861.8099135\ttotal: 2.08s\tremaining: 892ms\n",
      "70:\tlearn: 1857.1172107\ttotal: 2.11s\tremaining: 861ms\n",
      "71:\tlearn: 1854.2707627\ttotal: 2.14s\tremaining: 831ms\n",
      "72:\tlearn: 1850.0354848\ttotal: 2.18s\tremaining: 806ms\n",
      "73:\tlearn: 1846.9894318\ttotal: 2.2s\tremaining: 773ms\n",
      "74:\tlearn: 1843.9421503\ttotal: 2.24s\tremaining: 746ms\n",
      "75:\tlearn: 1840.9738371\ttotal: 2.28s\tremaining: 719ms\n",
      "76:\tlearn: 1837.9572991\ttotal: 2.3s\tremaining: 688ms\n",
      "77:\tlearn: 1835.4824387\ttotal: 2.33s\tremaining: 658ms\n",
      "78:\tlearn: 1831.6620851\ttotal: 2.37s\tremaining: 630ms\n",
      "79:\tlearn: 1828.9229163\ttotal: 2.39s\tremaining: 598ms\n",
      "80:\tlearn: 1826.0791803\ttotal: 2.42s\tremaining: 567ms\n",
      "81:\tlearn: 1822.6251340\ttotal: 2.45s\tremaining: 538ms\n",
      "82:\tlearn: 1820.4876932\ttotal: 2.48s\tremaining: 508ms\n",
      "83:\tlearn: 1818.3960037\ttotal: 2.5s\tremaining: 477ms\n",
      "84:\tlearn: 1816.8019365\ttotal: 2.52s\tremaining: 446ms\n",
      "85:\tlearn: 1813.6717172\ttotal: 2.56s\tremaining: 417ms\n",
      "86:\tlearn: 1810.8562312\ttotal: 2.59s\tremaining: 387ms\n",
      "87:\tlearn: 1809.0165983\ttotal: 2.6s\tremaining: 355ms\n",
      "88:\tlearn: 1807.5915433\ttotal: 2.63s\tremaining: 325ms\n",
      "89:\tlearn: 1805.9567202\ttotal: 2.65s\tremaining: 295ms\n",
      "90:\tlearn: 1803.2786371\ttotal: 2.68s\tremaining: 265ms\n",
      "91:\tlearn: 1801.1030355\ttotal: 2.71s\tremaining: 236ms\n",
      "92:\tlearn: 1799.1819982\ttotal: 2.74s\tremaining: 206ms\n",
      "93:\tlearn: 1797.4918886\ttotal: 2.77s\tremaining: 177ms\n",
      "94:\tlearn: 1795.1407979\ttotal: 2.79s\tremaining: 147ms\n",
      "95:\tlearn: 1793.6248636\ttotal: 2.81s\tremaining: 117ms\n",
      "96:\tlearn: 1792.1216140\ttotal: 2.84s\tremaining: 87.7ms\n",
      "97:\tlearn: 1790.5505001\ttotal: 2.86s\tremaining: 58.4ms\n",
      "98:\tlearn: 1789.3289146\ttotal: 2.9s\tremaining: 29.3ms\n",
      "99:\tlearn: 1787.4822693\ttotal: 2.93s\tremaining: 0us\n",
      "0:\tlearn: 4731.2176580\ttotal: 40.7ms\tremaining: 1.18s\n",
      "1:\tlearn: 4695.7604760\ttotal: 86.2ms\tremaining: 1.21s\n",
      "2:\tlearn: 4660.6498049\ttotal: 139ms\tremaining: 1.25s\n",
      "3:\tlearn: 4625.8596346\ttotal: 202ms\tremaining: 1.31s\n",
      "4:\tlearn: 4591.3209675\ttotal: 254ms\tremaining: 1.27s\n",
      "5:\tlearn: 4557.8557135\ttotal: 337ms\tremaining: 1.35s\n",
      "6:\tlearn: 4524.5476514\ttotal: 395ms\tremaining: 1.3s\n",
      "7:\tlearn: 4491.7861971\ttotal: 444ms\tremaining: 1.22s\n",
      "8:\tlearn: 4458.6632901\ttotal: 489ms\tremaining: 1.14s\n",
      "9:\tlearn: 4426.3099304\ttotal: 543ms\tremaining: 1.08s\n",
      "10:\tlearn: 4394.1193486\ttotal: 584ms\tremaining: 1.01s\n",
      "11:\tlearn: 4362.4393955\ttotal: 626ms\tremaining: 940ms\n",
      "12:\tlearn: 4331.3226356\ttotal: 674ms\tremaining: 881ms\n",
      "13:\tlearn: 4300.0631953\ttotal: 730ms\tremaining: 835ms\n",
      "14:\tlearn: 4269.6090771\ttotal: 793ms\tremaining: 793ms\n",
      "15:\tlearn: 4240.2170800\ttotal: 840ms\tremaining: 735ms\n",
      "16:\tlearn: 4210.7466170\ttotal: 895ms\tremaining: 684ms\n",
      "17:\tlearn: 4181.3461980\ttotal: 954ms\tremaining: 636ms\n",
      "18:\tlearn: 4152.5076886\ttotal: 1.01s\tremaining: 584ms\n",
      "19:\tlearn: 4123.5250522\ttotal: 1.05s\tremaining: 526ms\n",
      "20:\tlearn: 4094.7809974\ttotal: 1.12s\tremaining: 481ms\n",
      "21:\tlearn: 4066.2684213\ttotal: 1.17s\tremaining: 426ms\n",
      "22:\tlearn: 4038.8074404\ttotal: 1.22s\tremaining: 373ms\n",
      "23:\tlearn: 4011.3067700\ttotal: 1.3s\tremaining: 325ms\n",
      "24:\tlearn: 3984.0269135\ttotal: 1.35s\tremaining: 270ms\n",
      "25:\tlearn: 3957.3964801\ttotal: 1.41s\tremaining: 217ms\n",
      "26:\tlearn: 3930.6195806\ttotal: 1.45s\tremaining: 161ms\n",
      "27:\tlearn: 3904.4857474\ttotal: 1.49s\tremaining: 106ms\n",
      "28:\tlearn: 3878.4598413\ttotal: 1.53s\tremaining: 52.8ms\n",
      "29:\tlearn: 3852.6475553\ttotal: 1.57s\tremaining: 0us\n",
      "0:\tlearn: 4405.7801593\ttotal: 53.2ms\tremaining: 1.54s\n",
      "1:\tlearn: 4092.2507382\ttotal: 99.6ms\tremaining: 1.39s\n",
      "2:\tlearn: 3810.7479299\ttotal: 149ms\tremaining: 1.34s\n",
      "3:\tlearn: 3563.7823200\ttotal: 218ms\tremaining: 1.42s\n",
      "4:\tlearn: 3346.1906754\ttotal: 256ms\tremaining: 1.28s\n",
      "5:\tlearn: 3157.9230831\ttotal: 318ms\tremaining: 1.27s\n",
      "6:\tlearn: 2985.3758840\ttotal: 369ms\tremaining: 1.21s\n",
      "7:\tlearn: 2831.9150536\ttotal: 451ms\tremaining: 1.24s\n",
      "8:\tlearn: 2698.7199026\ttotal: 509ms\tremaining: 1.19s\n",
      "9:\tlearn: 2582.7197981\ttotal: 550ms\tremaining: 1.1s\n",
      "10:\tlearn: 2484.1771289\ttotal: 601ms\tremaining: 1.04s\n",
      "11:\tlearn: 2396.6061337\ttotal: 656ms\tremaining: 984ms\n",
      "12:\tlearn: 2321.3686232\ttotal: 711ms\tremaining: 930ms\n",
      "13:\tlearn: 2256.9918161\ttotal: 773ms\tremaining: 883ms\n",
      "14:\tlearn: 2199.6370370\ttotal: 815ms\tremaining: 815ms\n",
      "15:\tlearn: 2150.3455414\ttotal: 870ms\tremaining: 762ms\n",
      "16:\tlearn: 2104.3226885\ttotal: 927ms\tremaining: 709ms\n",
      "17:\tlearn: 2065.2937331\ttotal: 976ms\tremaining: 651ms\n",
      "18:\tlearn: 2031.9478833\ttotal: 1.02s\tremaining: 591ms\n",
      "19:\tlearn: 2000.9329051\ttotal: 1.07s\tremaining: 533ms\n",
      "20:\tlearn: 1974.6060848\ttotal: 1.12s\tremaining: 479ms\n",
      "21:\tlearn: 1950.9707063\ttotal: 1.18s\tremaining: 429ms\n",
      "22:\tlearn: 1929.7659108\ttotal: 1.23s\tremaining: 374ms\n",
      "23:\tlearn: 1909.7000137\ttotal: 1.28s\tremaining: 320ms\n",
      "24:\tlearn: 1893.0487438\ttotal: 1.32s\tremaining: 264ms\n",
      "25:\tlearn: 1877.8004941\ttotal: 1.37s\tremaining: 211ms\n",
      "26:\tlearn: 1863.4037323\ttotal: 1.43s\tremaining: 159ms\n",
      "27:\tlearn: 1849.7965795\ttotal: 1.48s\tremaining: 105ms\n",
      "28:\tlearn: 1839.5918264\ttotal: 1.52s\tremaining: 52.6ms\n",
      "29:\tlearn: 1830.8357057\ttotal: 1.58s\tremaining: 0us\n",
      "0:\tlearn: 4737.6685823\ttotal: 36.2ms\tremaining: 1.77s\n",
      "1:\tlearn: 4701.9639142\ttotal: 70.1ms\tremaining: 1.68s\n",
      "2:\tlearn: 4666.5525766\ttotal: 103ms\tremaining: 1.62s\n",
      "3:\tlearn: 4632.5762338\ttotal: 146ms\tremaining: 1.67s\n",
      "4:\tlearn: 4598.2198701\ttotal: 187ms\tremaining: 1.69s\n",
      "5:\tlearn: 4563.8067300\ttotal: 227ms\tremaining: 1.67s\n",
      "6:\tlearn: 4529.6270225\ttotal: 264ms\tremaining: 1.62s\n",
      "7:\tlearn: 4496.5140030\ttotal: 310ms\tremaining: 1.63s\n",
      "8:\tlearn: 4463.6065173\ttotal: 382ms\tremaining: 1.74s\n",
      "9:\tlearn: 4431.2282851\ttotal: 433ms\tremaining: 1.73s\n",
      "10:\tlearn: 4399.3415431\ttotal: 477ms\tremaining: 1.69s\n",
      "11:\tlearn: 4367.6203577\ttotal: 520ms\tremaining: 1.65s\n",
      "12:\tlearn: 4336.0863129\ttotal: 562ms\tremaining: 1.6s\n",
      "13:\tlearn: 4304.9351555\ttotal: 618ms\tremaining: 1.59s\n",
      "14:\tlearn: 4274.4545101\ttotal: 662ms\tremaining: 1.54s\n",
      "15:\tlearn: 4244.3632346\ttotal: 709ms\tremaining: 1.51s\n",
      "16:\tlearn: 4214.7277606\ttotal: 759ms\tremaining: 1.47s\n",
      "17:\tlearn: 4185.5726926\ttotal: 806ms\tremaining: 1.43s\n",
      "18:\tlearn: 4156.1739134\ttotal: 864ms\tremaining: 1.41s\n",
      "19:\tlearn: 4126.7993480\ttotal: 907ms\tremaining: 1.36s\n",
      "20:\tlearn: 4097.9818323\ttotal: 956ms\tremaining: 1.32s\n",
      "21:\tlearn: 4069.4255294\ttotal: 1.01s\tremaining: 1.29s\n",
      "22:\tlearn: 4041.6728907\ttotal: 1.07s\tremaining: 1.26s\n",
      "23:\tlearn: 4013.8942970\ttotal: 1.13s\tremaining: 1.22s\n",
      "24:\tlearn: 3986.5944792\ttotal: 1.18s\tremaining: 1.18s\n",
      "25:\tlearn: 3959.8083914\ttotal: 1.24s\tremaining: 1.14s\n",
      "26:\tlearn: 3933.0982851\ttotal: 1.29s\tremaining: 1.1s\n",
      "27:\tlearn: 3906.9458208\ttotal: 1.34s\tremaining: 1.05s\n",
      "28:\tlearn: 3880.5328848\ttotal: 1.4s\tremaining: 1.01s\n",
      "29:\tlearn: 3854.5170491\ttotal: 1.45s\tremaining: 964ms\n",
      "30:\tlearn: 3828.6418318\ttotal: 1.5s\tremaining: 920ms\n",
      "31:\tlearn: 3803.4983831\ttotal: 1.54s\tremaining: 869ms\n",
      "32:\tlearn: 3778.5625804\ttotal: 1.58s\tremaining: 813ms\n",
      "33:\tlearn: 3753.6049314\ttotal: 1.63s\tremaining: 767ms\n",
      "34:\tlearn: 3729.2115376\ttotal: 1.7s\tremaining: 728ms\n",
      "35:\tlearn: 3705.5064579\ttotal: 1.76s\tremaining: 684ms\n",
      "36:\tlearn: 3681.5561184\ttotal: 1.8s\tremaining: 634ms\n",
      "37:\tlearn: 3657.7673509\ttotal: 1.85s\tremaining: 585ms\n",
      "38:\tlearn: 3634.5253719\ttotal: 1.91s\tremaining: 539ms\n",
      "39:\tlearn: 3611.7295520\ttotal: 1.97s\tremaining: 492ms\n",
      "40:\tlearn: 3589.1522897\ttotal: 2.01s\tremaining: 441ms\n",
      "41:\tlearn: 3566.6442535\ttotal: 2.06s\tremaining: 392ms\n",
      "42:\tlearn: 3544.4130282\ttotal: 2.1s\tremaining: 343ms\n",
      "43:\tlearn: 3522.3557931\ttotal: 2.16s\tremaining: 294ms\n",
      "44:\tlearn: 3500.7352744\ttotal: 2.21s\tremaining: 246ms\n",
      "45:\tlearn: 3479.3836403\ttotal: 2.28s\tremaining: 198ms\n",
      "46:\tlearn: 3457.9452248\ttotal: 2.33s\tremaining: 149ms\n",
      "47:\tlearn: 3437.0755921\ttotal: 2.39s\tremaining: 99.4ms\n",
      "48:\tlearn: 3416.4919539\ttotal: 2.45s\tremaining: 50ms\n",
      "49:\tlearn: 3395.8101468\ttotal: 2.5s\tremaining: 0us\n",
      "0:\tlearn: 4402.3842062\ttotal: 56.2ms\tremaining: 2.75s\n",
      "1:\tlearn: 4089.3336896\ttotal: 94.6ms\tremaining: 2.27s\n",
      "2:\tlearn: 3809.0723595\ttotal: 140ms\tremaining: 2.2s\n",
      "3:\tlearn: 3562.1394025\ttotal: 193ms\tremaining: 2.22s\n",
      "4:\tlearn: 3343.5138261\ttotal: 242ms\tremaining: 2.17s\n",
      "5:\tlearn: 3152.3351138\ttotal: 310ms\tremaining: 2.27s\n",
      "6:\tlearn: 2983.4642686\ttotal: 365ms\tremaining: 2.24s\n",
      "7:\tlearn: 2834.6000452\ttotal: 416ms\tremaining: 2.18s\n",
      "8:\tlearn: 2700.8357738\ttotal: 469ms\tremaining: 2.13s\n",
      "9:\tlearn: 2585.9348588\ttotal: 523ms\tremaining: 2.09s\n",
      "10:\tlearn: 2486.4185542\ttotal: 562ms\tremaining: 1.99s\n",
      "11:\tlearn: 2399.1454473\ttotal: 621ms\tremaining: 1.97s\n",
      "12:\tlearn: 2324.0248924\ttotal: 684ms\tremaining: 1.95s\n",
      "13:\tlearn: 2258.4346599\ttotal: 737ms\tremaining: 1.89s\n",
      "14:\tlearn: 2202.3016149\ttotal: 775ms\tremaining: 1.81s\n",
      "15:\tlearn: 2153.2946827\ttotal: 824ms\tremaining: 1.75s\n",
      "16:\tlearn: 2110.1669334\ttotal: 874ms\tremaining: 1.7s\n",
      "17:\tlearn: 2069.7096008\ttotal: 918ms\tremaining: 1.63s\n",
      "18:\tlearn: 2035.3386990\ttotal: 963ms\tremaining: 1.57s\n",
      "19:\tlearn: 2003.3839499\ttotal: 1.01s\tremaining: 1.52s\n",
      "20:\tlearn: 1975.7716861\ttotal: 1.06s\tremaining: 1.46s\n",
      "21:\tlearn: 1951.0306263\ttotal: 1.1s\tremaining: 1.41s\n",
      "22:\tlearn: 1930.6999295\ttotal: 1.17s\tremaining: 1.37s\n",
      "23:\tlearn: 1913.1783606\ttotal: 1.21s\tremaining: 1.31s\n",
      "24:\tlearn: 1895.7708226\ttotal: 1.27s\tremaining: 1.27s\n",
      "25:\tlearn: 1881.1738937\ttotal: 1.31s\tremaining: 1.21s\n",
      "26:\tlearn: 1867.3151971\ttotal: 1.38s\tremaining: 1.17s\n",
      "27:\tlearn: 1854.1981252\ttotal: 1.45s\tremaining: 1.14s\n",
      "28:\tlearn: 1843.8762901\ttotal: 1.56s\tremaining: 1.13s\n",
      "29:\tlearn: 1834.4822854\ttotal: 1.62s\tremaining: 1.08s\n",
      "30:\tlearn: 1824.3870088\ttotal: 1.7s\tremaining: 1.04s\n",
      "31:\tlearn: 1816.1146514\ttotal: 1.75s\tremaining: 987ms\n",
      "32:\tlearn: 1809.3819548\ttotal: 1.82s\tremaining: 936ms\n",
      "33:\tlearn: 1802.6628500\ttotal: 1.86s\tremaining: 877ms\n",
      "34:\tlearn: 1796.3074681\ttotal: 1.91s\tremaining: 821ms\n",
      "35:\tlearn: 1791.7413447\ttotal: 1.96s\tremaining: 760ms\n",
      "36:\tlearn: 1787.1276256\ttotal: 2.03s\tremaining: 715ms\n",
      "37:\tlearn: 1779.5200446\ttotal: 2.07s\tremaining: 655ms\n",
      "38:\tlearn: 1773.2867786\ttotal: 2.13s\tremaining: 601ms\n",
      "39:\tlearn: 1768.0331584\ttotal: 2.18s\tremaining: 546ms\n",
      "40:\tlearn: 1762.8041929\ttotal: 2.23s\tremaining: 490ms\n",
      "41:\tlearn: 1758.3800709\ttotal: 2.29s\tremaining: 436ms\n",
      "42:\tlearn: 1755.3002313\ttotal: 2.36s\tremaining: 384ms\n",
      "43:\tlearn: 1752.0058853\ttotal: 2.41s\tremaining: 329ms\n",
      "44:\tlearn: 1749.0086372\ttotal: 2.46s\tremaining: 274ms\n",
      "45:\tlearn: 1745.2858136\ttotal: 2.51s\tremaining: 218ms\n",
      "46:\tlearn: 1742.9011898\ttotal: 2.56s\tremaining: 163ms\n",
      "47:\tlearn: 1741.1117679\ttotal: 2.61s\tremaining: 109ms\n",
      "48:\tlearn: 1738.5693511\ttotal: 2.66s\tremaining: 54.3ms\n",
      "49:\tlearn: 1736.4228298\ttotal: 2.71s\tremaining: 0us\n",
      "0:\tlearn: 4598.1817715\ttotal: 43.9ms\tremaining: 4.34s\n",
      "1:\tlearn: 4428.9991398\ttotal: 94.8ms\tremaining: 4.65s\n",
      "2:\tlearn: 4268.5927178\ttotal: 157ms\tremaining: 5.07s\n",
      "3:\tlearn: 4120.6615601\ttotal: 201ms\tremaining: 4.83s\n",
      "4:\tlearn: 3976.9285520\ttotal: 254ms\tremaining: 4.83s\n",
      "5:\tlearn: 3841.4319306\ttotal: 313ms\tremaining: 4.91s\n",
      "6:\tlearn: 3717.2770493\ttotal: 349ms\tremaining: 4.64s\n",
      "7:\tlearn: 3601.1014443\ttotal: 403ms\tremaining: 4.63s\n",
      "8:\tlearn: 3488.8777052\ttotal: 443ms\tremaining: 4.48s\n",
      "9:\tlearn: 3383.2453600\ttotal: 494ms\tremaining: 4.45s\n",
      "10:\tlearn: 3284.3604282\ttotal: 564ms\tremaining: 4.56s\n",
      "11:\tlearn: 3191.1214677\ttotal: 632ms\tremaining: 4.63s\n",
      "12:\tlearn: 3103.2780299\ttotal: 700ms\tremaining: 4.68s\n",
      "13:\tlearn: 3020.3795784\ttotal: 756ms\tremaining: 4.64s\n",
      "14:\tlearn: 2941.9542895\ttotal: 801ms\tremaining: 4.54s\n",
      "15:\tlearn: 2870.2328710\ttotal: 859ms\tremaining: 4.51s\n",
      "16:\tlearn: 2802.8673895\ttotal: 923ms\tremaining: 4.51s\n",
      "17:\tlearn: 2738.6893687\ttotal: 970ms\tremaining: 4.42s\n",
      "18:\tlearn: 2677.6689846\ttotal: 1.04s\tremaining: 4.42s\n",
      "19:\tlearn: 2621.3385395\ttotal: 1.09s\tremaining: 4.36s\n",
      "20:\tlearn: 2568.2671194\ttotal: 1.15s\tremaining: 4.34s\n",
      "21:\tlearn: 2519.4805428\ttotal: 1.21s\tremaining: 4.29s\n",
      "22:\tlearn: 2473.8972811\ttotal: 1.26s\tremaining: 4.22s\n",
      "23:\tlearn: 2429.4598839\ttotal: 1.31s\tremaining: 4.16s\n",
      "24:\tlearn: 2387.3552099\ttotal: 1.38s\tremaining: 4.13s\n",
      "0:\tlearn: 4412.6245215\ttotal: 74.1ms\tremaining: 7.34s\n",
      "1:\tlearn: 4093.8389351\ttotal: 87.3ms\tremaining: 4.28s\n",
      "2:\tlearn: 3812.0603558\ttotal: 100ms\tremaining: 3.25s\n",
      "3:\tlearn: 3570.5085029\ttotal: 113ms\tremaining: 2.71s\n",
      "4:\tlearn: 3348.8417791\ttotal: 125ms\tremaining: 2.37s\n",
      "5:\tlearn: 3154.9125116\ttotal: 137ms\tremaining: 2.14s\n",
      "6:\tlearn: 2986.3091287\ttotal: 148ms\tremaining: 1.96s\n",
      "7:\tlearn: 2834.9620312\ttotal: 160ms\tremaining: 1.84s\n",
      "8:\tlearn: 2700.3805633\ttotal: 172ms\tremaining: 1.74s\n",
      "9:\tlearn: 2582.6725016\ttotal: 184ms\tremaining: 1.65s\n",
      "10:\tlearn: 2483.4207670\ttotal: 195ms\tremaining: 1.58s\n",
      "11:\tlearn: 2395.6575118\ttotal: 206ms\tremaining: 1.51s\n",
      "12:\tlearn: 2320.6818127\ttotal: 218ms\tremaining: 1.46s\n",
      "13:\tlearn: 2253.2995324\ttotal: 229ms\tremaining: 1.4s\n",
      "14:\tlearn: 2196.4881374\ttotal: 240ms\tremaining: 1.36s\n",
      "15:\tlearn: 2149.7134060\ttotal: 252ms\tremaining: 1.32s\n",
      "16:\tlearn: 2104.6092870\ttotal: 263ms\tremaining: 1.28s\n",
      "17:\tlearn: 2065.3455570\ttotal: 274ms\tremaining: 1.25s\n",
      "18:\tlearn: 2032.8443211\ttotal: 286ms\tremaining: 1.22s\n",
      "19:\tlearn: 2003.2589318\ttotal: 297ms\tremaining: 1.19s\n",
      "20:\tlearn: 1976.5784820\ttotal: 309ms\tremaining: 1.16s\n",
      "21:\tlearn: 1950.8603636\ttotal: 320ms\tremaining: 1.13s\n",
      "22:\tlearn: 1930.5498620\ttotal: 331ms\tremaining: 1.11s\n",
      "23:\tlearn: 1914.0968789\ttotal: 343ms\tremaining: 1.08s\n",
      "24:\tlearn: 1898.5976487\ttotal: 354ms\tremaining: 1.06s\n",
      "25:\tlearn: 1883.3281992\ttotal: 365ms\tremaining: 1.04s\n",
      "26:\tlearn: 1867.5833152\ttotal: 377ms\tremaining: 1.02s\n",
      "27:\tlearn: 1855.4019136\ttotal: 388ms\tremaining: 997ms\n",
      "28:\tlearn: 1844.7154386\ttotal: 399ms\tremaining: 978ms\n",
      "29:\tlearn: 1835.0272901\ttotal: 411ms\tremaining: 959ms\n",
      "30:\tlearn: 1826.9375766\ttotal: 423ms\tremaining: 940ms\n",
      "31:\tlearn: 1819.6458179\ttotal: 434ms\tremaining: 922ms\n",
      "32:\tlearn: 1810.7100127\ttotal: 446ms\tremaining: 905ms\n",
      "33:\tlearn: 1805.2902059\ttotal: 458ms\tremaining: 888ms\n",
      "34:\tlearn: 1796.5194412\ttotal: 469ms\tremaining: 871ms\n",
      "35:\tlearn: 1791.2747617\ttotal: 482ms\tremaining: 857ms\n",
      "36:\tlearn: 1786.6202408\ttotal: 494ms\tremaining: 840ms\n",
      "37:\tlearn: 1782.1343596\ttotal: 505ms\tremaining: 824ms\n",
      "38:\tlearn: 1774.9094962\ttotal: 517ms\tremaining: 809ms\n",
      "39:\tlearn: 1769.6154981\ttotal: 528ms\tremaining: 792ms\n",
      "40:\tlearn: 1764.2786213\ttotal: 540ms\tremaining: 778ms\n",
      "41:\tlearn: 1761.0398953\ttotal: 553ms\tremaining: 763ms\n",
      "42:\tlearn: 1758.0510693\ttotal: 565ms\tremaining: 748ms\n",
      "43:\tlearn: 1754.3065637\ttotal: 577ms\tremaining: 734ms\n",
      "44:\tlearn: 1750.1357349\ttotal: 588ms\tremaining: 719ms\n",
      "45:\tlearn: 1747.2775055\ttotal: 600ms\tremaining: 705ms\n",
      "46:\tlearn: 1744.8140779\ttotal: 612ms\tremaining: 691ms\n",
      "47:\tlearn: 1741.3116371\ttotal: 626ms\tremaining: 678ms\n",
      "48:\tlearn: 1737.5007630\ttotal: 639ms\tremaining: 665ms\n",
      "49:\tlearn: 1734.6216582\ttotal: 651ms\tremaining: 651ms\n",
      "50:\tlearn: 1732.4725180\ttotal: 663ms\tremaining: 637ms\n",
      "51:\tlearn: 1730.5293912\ttotal: 675ms\tremaining: 623ms\n",
      "52:\tlearn: 1728.1001610\ttotal: 687ms\tremaining: 609ms\n",
      "53:\tlearn: 1725.5592641\ttotal: 700ms\tremaining: 596ms\n",
      "54:\tlearn: 1723.5623080\ttotal: 712ms\tremaining: 583ms\n",
      "55:\tlearn: 1721.9105032\ttotal: 725ms\tremaining: 570ms\n",
      "56:\tlearn: 1719.9711063\ttotal: 738ms\tremaining: 557ms\n",
      "57:\tlearn: 1717.7179700\ttotal: 750ms\tremaining: 543ms\n",
      "58:\tlearn: 1715.8676851\ttotal: 762ms\tremaining: 529ms\n",
      "59:\tlearn: 1713.0723990\ttotal: 773ms\tremaining: 515ms\n",
      "60:\tlearn: 1711.0657982\ttotal: 785ms\tremaining: 502ms\n",
      "61:\tlearn: 1709.8815156\ttotal: 798ms\tremaining: 489ms\n",
      "62:\tlearn: 1707.4038074\ttotal: 810ms\tremaining: 475ms\n",
      "63:\tlearn: 1705.0326732\ttotal: 821ms\tremaining: 462ms\n",
      "64:\tlearn: 1703.9345250\ttotal: 834ms\tremaining: 449ms\n",
      "65:\tlearn: 1702.0532342\ttotal: 846ms\tremaining: 436ms\n",
      "66:\tlearn: 1700.2547654\ttotal: 859ms\tremaining: 423ms\n",
      "67:\tlearn: 1698.4520863\ttotal: 870ms\tremaining: 410ms\n",
      "68:\tlearn: 1697.0724232\ttotal: 883ms\tremaining: 397ms\n",
      "69:\tlearn: 1695.2151861\ttotal: 895ms\tremaining: 384ms\n",
      "70:\tlearn: 1692.6572156\ttotal: 906ms\tremaining: 370ms\n",
      "71:\tlearn: 1691.3918710\ttotal: 919ms\tremaining: 357ms\n",
      "72:\tlearn: 1690.3762672\ttotal: 930ms\tremaining: 344ms\n",
      "73:\tlearn: 1688.8276450\ttotal: 942ms\tremaining: 331ms\n",
      "74:\tlearn: 1688.0207823\ttotal: 955ms\tremaining: 318ms\n",
      "75:\tlearn: 1686.1493001\ttotal: 966ms\tremaining: 305ms\n",
      "76:\tlearn: 1684.3125341\ttotal: 978ms\tremaining: 292ms\n",
      "77:\tlearn: 1683.1816952\ttotal: 990ms\tremaining: 279ms\n",
      "78:\tlearn: 1681.9358194\ttotal: 1s\tremaining: 266ms\n",
      "79:\tlearn: 1681.1573928\ttotal: 1.01s\tremaining: 254ms\n",
      "80:\tlearn: 1679.7002009\ttotal: 1.03s\tremaining: 241ms\n",
      "81:\tlearn: 1678.1102370\ttotal: 1.04s\tremaining: 228ms\n",
      "82:\tlearn: 1676.6075156\ttotal: 1.05s\tremaining: 215ms\n",
      "83:\tlearn: 1675.5874748\ttotal: 1.06s\tremaining: 202ms\n",
      "84:\tlearn: 1674.0237643\ttotal: 1.07s\tremaining: 190ms\n",
      "85:\tlearn: 1672.7984527\ttotal: 1.09s\tremaining: 177ms\n",
      "86:\tlearn: 1671.7795990\ttotal: 1.1s\tremaining: 164ms\n",
      "87:\tlearn: 1670.5021712\ttotal: 1.11s\tremaining: 152ms\n",
      "88:\tlearn: 1669.8481331\ttotal: 1.12s\tremaining: 139ms\n",
      "89:\tlearn: 1668.6095567\ttotal: 1.14s\tremaining: 126ms\n",
      "90:\tlearn: 1667.7425171\ttotal: 1.15s\tremaining: 114ms\n",
      "91:\tlearn: 1666.4583746\ttotal: 1.16s\tremaining: 101ms\n",
      "92:\tlearn: 1664.8223214\ttotal: 1.17s\tremaining: 88.2ms\n",
      "93:\tlearn: 1663.6785869\ttotal: 1.18s\tremaining: 75.6ms\n",
      "94:\tlearn: 1662.5409090\ttotal: 1.2s\tremaining: 62.9ms\n",
      "95:\tlearn: 1661.5828138\ttotal: 1.21s\tremaining: 50.4ms\n",
      "96:\tlearn: 1660.3841455\ttotal: 1.22s\tremaining: 37.8ms\n",
      "97:\tlearn: 1659.3680745\ttotal: 1.23s\tremaining: 25.2ms\n",
      "98:\tlearn: 1658.4199627\ttotal: 1.25s\tremaining: 12.6ms\n",
      "99:\tlearn: 1657.1363124\ttotal: 1.26s\tremaining: 0us\n",
      "Параметры: {'depth': 10, 'iterations': 100, 'learning_rate': 0.1}\n",
      "RMSE CatBoostRegressor: 1705.9398895725487\n",
      "CPU times: user 5.26 s, sys: 1.04 s, total: 6.3 s\n",
      "Wall time: 40.2 s\n"
     ]
    }
   ],
   "source": [
    "%%time\n",
    "\n",
    "params_cbr = {\n",
    "                'depth'         : [6, 8, 10],\n",
    "                'learning_rate' : [0.01, 0.05, 0.1],\n",
    "                'iterations'    : [30, 50, 100]\n",
    "              }\n",
    "\n",
    "model_cbr = CatBoostRegressor()\n",
    "grid_cbr = GridSearchCV(model_cbr, params_cbr, scoring=score, n_jobs=-1)\n",
    "grid_cbr.fit(features_train, target_train)\n",
    "print('Параметры:', grid_cbr.best_params_)\n",
    "print('RMSE CatBoostRegressor:', -grid_cbr.best_score_)"
   ]
  },
  {
   "cell_type": "markdown",
   "metadata": {},
   "source": [
    "#### Промежуточный вывод\n",
    "\n",
    "- мы разделили данные на обучающую и тестовые выборки;\n",
    "- закодировали категориальные признаки при помощи OrdinalEncoder;\n",
    "- выполнили масштабирование численных признаков;\n",
    "- задали метрику для оценки качества моделей;\n",
    "- обучили несколько моделей при помощи GridSerchCV;\n",
    "- лучше всего показала себя модель LightGBM;"
   ]
  },
  {
   "cell_type": "markdown",
   "metadata": {},
   "source": [
    "## Анализ моделей"
   ]
  },
  {
   "cell_type": "markdown",
   "metadata": {},
   "source": [
    "Обратимся к документации GridSearchCV для проведения анализа моделей.\n",
    "\n",
    "Данные о результатах обучения хранятся в словаре **cv_results_**\n",
    "\n",
    "Рассмотрим словарь на примере линейной регрессии, т.к. для неё мы не перебирали параметры и обучили только одну модель."
   ]
  },
  {
   "cell_type": "code",
   "execution_count": 41,
   "metadata": {},
   "outputs": [
    {
     "data": {
      "text/plain": [
       "{'mean_fit_time': array([0.25177439]),\n",
       " 'std_fit_time': array([0.00373667]),\n",
       " 'mean_score_time': array([0.00466601]),\n",
       " 'std_score_time': array([0.0001136]),\n",
       " 'params': [{}],\n",
       " 'split0_test_score': array([-2874.77664424]),\n",
       " 'split1_test_score': array([-2858.50833268]),\n",
       " 'split2_test_score': array([-2894.84699492]),\n",
       " 'mean_test_score': array([-2876.04399061]),\n",
       " 'std_test_score': array([14.86223892]),\n",
       " 'rank_test_score': array([1], dtype=int32)}"
      ]
     },
     "metadata": {},
     "output_type": "display_data"
    }
   ],
   "source": [
    "display(grid_lr.cv_results_)"
   ]
  },
  {
   "cell_type": "markdown",
   "metadata": {},
   "source": [
    "- mean_fit_time - среднее время обучения;\n",
    "- mean_score_time - среднее время вычисления метрики. Для вычисления метрики нужно получить предсказания, поэтому данное значение можно рассматривать как время для их получения;\n",
    "\n",
    "Т.к. это массивы, нам нужно взять значение, относящееся к лучшей модели. Это можно сделать при помощи атрибута **best_index_**."
   ]
  },
  {
   "cell_type": "code",
   "execution_count": 42,
   "metadata": {},
   "outputs": [
    {
     "data": {
      "text/html": [
       "<div>\n",
       "<style scoped>\n",
       "    .dataframe tbody tr th:only-of-type {\n",
       "        vertical-align: middle;\n",
       "    }\n",
       "\n",
       "    .dataframe tbody tr th {\n",
       "        vertical-align: top;\n",
       "    }\n",
       "\n",
       "    .dataframe thead th {\n",
       "        text-align: right;\n",
       "    }\n",
       "</style>\n",
       "<table border=\"1\" class=\"dataframe\">\n",
       "  <thead>\n",
       "    <tr style=\"text-align: right;\">\n",
       "      <th></th>\n",
       "      <th>Модель</th>\n",
       "      <th>Время обучения</th>\n",
       "      <th>Время предсказаний</th>\n",
       "      <th>RMSE</th>\n",
       "    </tr>\n",
       "  </thead>\n",
       "  <tbody>\n",
       "    <tr>\n",
       "      <th>0</th>\n",
       "      <td>Linear Regression</td>\n",
       "      <td>0.251774</td>\n",
       "      <td>0.004666</td>\n",
       "      <td>2876.043991</td>\n",
       "    </tr>\n",
       "    <tr>\n",
       "      <th>1</th>\n",
       "      <td>Decision Tree</td>\n",
       "      <td>0.201790</td>\n",
       "      <td>0.007063</td>\n",
       "      <td>2405.248844</td>\n",
       "    </tr>\n",
       "    <tr>\n",
       "      <th>2</th>\n",
       "      <td>LightGBM</td>\n",
       "      <td>10.327837</td>\n",
       "      <td>0.064805</td>\n",
       "      <td>1671.734472</td>\n",
       "    </tr>\n",
       "    <tr>\n",
       "      <th>3</th>\n",
       "      <td>CatBoost Regressor</td>\n",
       "      <td>4.309274</td>\n",
       "      <td>0.008415</td>\n",
       "      <td>1705.939890</td>\n",
       "    </tr>\n",
       "  </tbody>\n",
       "</table>\n",
       "</div>"
      ],
      "text/plain": [
       "               Модель  Время обучения  Время предсказаний         RMSE\n",
       "0   Linear Regression        0.251774            0.004666  2876.043991\n",
       "1       Decision Tree        0.201790            0.007063  2405.248844\n",
       "2            LightGBM       10.327837            0.064805  1671.734472\n",
       "3  CatBoost Regressor        4.309274            0.008415  1705.939890"
      ]
     },
     "metadata": {},
     "output_type": "display_data"
    }
   ],
   "source": [
    "best_fit_lr = grid_lr.cv_results_['mean_fit_time'][grid_lr.best_index_]\n",
    "results = pd.DataFrame({\n",
    "    'Модель':          ['Linear Regression', 'Decision Tree', 'LightGBM', 'CatBoost Regressor'],\n",
    "    'Время обучения':    [grid_lr.cv_results_['mean_fit_time'][grid_lr.best_index_],\n",
    "                       grid_tree.cv_results_['mean_fit_time'][grid_tree.best_index_],\n",
    "                       grid_lgbm.cv_results_['mean_fit_time'][grid_lgbm.best_index_],\n",
    "                       grid_cbr.cv_results_['mean_fit_time'][grid_cbr.best_index_]],\n",
    "    'Время предсказаний': [grid_lr.cv_results_['mean_score_time'][grid_lr.best_index_],\n",
    "                       grid_tree.cv_results_['mean_score_time'][grid_tree.best_index_],\n",
    "                       grid_lgbm.cv_results_['mean_score_time'][grid_lgbm.best_index_],\n",
    "                       grid_cbr.cv_results_['mean_score_time'][grid_cbr.best_index_]],\n",
    "    'RMSE':            [-grid_lr.best_score_,\n",
    "                       -grid_tree.best_score_,\n",
    "                       -grid_lgbm.best_score_,\n",
    "                       -grid_cbr.best_score_]                      \n",
    "                          \n",
    "                      \n",
    "})\n",
    "display(results)"
   ]
  },
  {
   "cell_type": "markdown",
   "metadata": {},
   "source": [
    "Лучшая метрика - у модели LightGBM, затем, с небольшим отрывом - CatBoost Regressor. Быстрее всех обучается модель решающего дерева, но на перебор параметров у него уходит больше всего времени. Время предсказаний у всех моделей моделей небольшое, выделяется только LightGBM. Она же и обучается дольше остальных. Но, с учетом лучшего результата - это не так страшно."
   ]
  },
  {
   "cell_type": "markdown",
   "metadata": {},
   "source": [
    "### Тестирование"
   ]
  },
  {
   "cell_type": "code",
   "execution_count": 43,
   "metadata": {},
   "outputs": [
    {
     "name": "stdout",
     "output_type": "stream",
     "text": [
      "[LightGBM] [Warning] Auto-choosing row-wise multi-threading, the overhead of testing was 0.004421 seconds.\n",
      "You can set `force_row_wise=true` to remove the overhead.\n",
      "And if memory is not enough, you can set `force_col_wise=true`.\n",
      "[LightGBM] [Info] Total Bins 657\n",
      "[LightGBM] [Info] Number of data points in the train set: 148720, number of used features: 20\n",
      "[LightGBM] [Info] Start training from score 5333.125040\n",
      "[LightGBM] [Warning] No further splits with positive gain, best gain: -inf\n",
      "RMSE после тестирования 1657.0773453649967\n"
     ]
    }
   ],
   "source": [
    "model = LGBMRegressor(**grid_lgbm.best_params_, random_state = state)\n",
    "model.fit(features_train, target_train)\n",
    "preds = model.predict(features_test)\n",
    "print('RMSE после тестирования', rmse(target_test, preds))"
   ]
  },
  {
   "cell_type": "markdown",
   "metadata": {},
   "source": [
    "## Вывод\n",
    "\n",
    "Мы проанализировали исторические данные сервис по продаже автомобилей с пробегом «Не бит, не крашен». Для разработки приложения с целью привлечения новых клиентов, нужно создать и обучить модель, которая будет предсказывать стоимость автомобилей.\n",
    "\n",
    "В процессе **анализа данных**, мы:\n",
    "- изучили данные и подготовили их для дальнейшей работы;\n",
    "- удалили дубликаты;\n",
    "- заполнили часть пропусков;\n",
    "- исключили аномальные значения;\n",
    "- некоторой частью данных пришлось пожертвовать, т.к. было много пропусков в столбце repaired, который является одним из ключевых при ценообразовании (все хотят не битый автомобиль);\n",
    "\n",
    "На этапе **подготовки к обучению**, мы:\n",
    "- определили признаки и целевой признак;\n",
    "- разделили данные на обучающую, валидационную и тестовую выборки;\n",
    "- выполнили кодирование категориальных признаков при помощи OrdinalEncoder;\n",
    "- выполнили масштабирование признаков;\n",
    "- создали функцию для подсчета метрики rmse и создали свой оценщик;\n",
    "\n",
    "На этапе **обучения** мы рассмотрели несколько моделей, подобрали оптимальные гиперпараметры при помощь GridSearchCV.\n",
    "\n",
    "После **анализа результатов и тестирования** к дальнейшему применению рекомендуется модель LightGBM. Было достигнуто значение целевой метрики RMSE 1657, время обучения и получения предсказаний - удовлетворительные."
   ]
  }
 ],
 "metadata": {
  "ExecuteTimeLog": [
   {
    "duration": 1662,
    "start_time": "2023-07-20T16:29:15.927Z"
   },
   {
    "duration": 3133,
    "start_time": "2023-07-20T16:29:17.591Z"
   },
   {
    "duration": 139,
    "start_time": "2023-07-20T16:29:20.726Z"
   },
   {
    "duration": 310,
    "start_time": "2023-07-20T16:29:20.867Z"
   },
   {
    "duration": 365,
    "start_time": "2023-07-20T16:29:21.179Z"
   },
   {
    "duration": 123,
    "start_time": "2023-07-20T16:29:21.545Z"
   },
   {
    "duration": 4,
    "start_time": "2023-07-20T16:29:21.669Z"
   },
   {
    "duration": 38,
    "start_time": "2023-07-20T16:29:21.674Z"
   },
   {
    "duration": 221,
    "start_time": "2023-07-20T16:29:21.714Z"
   },
   {
    "duration": 39,
    "start_time": "2023-07-20T16:29:21.938Z"
   },
   {
    "duration": 122,
    "start_time": "2023-07-20T16:29:21.978Z"
   },
   {
    "duration": 19,
    "start_time": "2023-07-20T16:29:22.102Z"
   },
   {
    "duration": 28,
    "start_time": "2023-07-20T16:29:22.123Z"
   },
   {
    "duration": 25,
    "start_time": "2023-07-20T16:29:22.167Z"
   },
   {
    "duration": 122,
    "start_time": "2023-07-20T16:29:22.194Z"
   },
   {
    "duration": 62,
    "start_time": "2023-07-20T16:29:22.318Z"
   },
   {
    "duration": 24,
    "start_time": "2023-07-20T16:29:22.382Z"
   },
   {
    "duration": 22,
    "start_time": "2023-07-20T16:29:22.408Z"
   },
   {
    "duration": 112,
    "start_time": "2023-07-20T16:29:22.432Z"
   },
   {
    "duration": 24,
    "start_time": "2023-07-20T16:29:22.546Z"
   },
   {
    "duration": 23,
    "start_time": "2023-07-20T16:29:22.572Z"
   },
   {
    "duration": 94,
    "start_time": "2023-07-20T16:29:22.597Z"
   },
   {
    "duration": 28,
    "start_time": "2023-07-20T16:29:22.692Z"
   },
   {
    "duration": 103,
    "start_time": "2023-07-20T16:29:22.721Z"
   },
   {
    "duration": 92,
    "start_time": "2023-07-20T16:29:22.825Z"
   },
   {
    "duration": 31,
    "start_time": "2023-07-20T16:29:22.918Z"
   },
   {
    "duration": 76,
    "start_time": "2023-07-20T16:29:22.951Z"
   },
   {
    "duration": 5070,
    "start_time": "2023-07-20T16:29:23.030Z"
   },
   {
    "duration": 2009,
    "start_time": "2023-07-20T16:29:28.101Z"
   },
   {
    "duration": 128,
    "start_time": "2023-07-20T16:29:30.112Z"
   },
   {
    "duration": 4,
    "start_time": "2023-07-20T16:29:30.241Z"
   },
   {
    "duration": 34724,
    "start_time": "2023-07-20T16:29:30.246Z"
   },
   {
    "duration": 745675,
    "start_time": "2023-07-20T16:30:04.972Z"
   },
   {
    "duration": 134,
    "start_time": "2023-07-20T16:44:38.106Z"
   },
   {
    "duration": 119,
    "start_time": "2023-07-20T16:45:01.879Z"
   },
   {
    "duration": 3,
    "start_time": "2023-07-20T16:45:19.646Z"
   },
   {
    "duration": 3,
    "start_time": "2023-07-20T16:46:03.276Z"
   },
   {
    "duration": 3,
    "start_time": "2023-07-20T16:48:35.782Z"
   },
   {
    "duration": 998,
    "start_time": "2023-07-20T16:49:02.493Z"
   },
   {
    "duration": 3,
    "start_time": "2023-07-20T16:49:44.254Z"
   },
   {
    "duration": 5,
    "start_time": "2023-07-20T16:57:13.929Z"
   },
   {
    "duration": 4,
    "start_time": "2023-07-20T16:57:57.760Z"
   },
   {
    "duration": 5,
    "start_time": "2023-07-20T17:00:51.580Z"
   },
   {
    "duration": 4,
    "start_time": "2023-07-20T17:02:48.887Z"
   },
   {
    "duration": 200025,
    "start_time": "2023-07-20T17:04:40.047Z"
   },
   {
    "duration": 34990,
    "start_time": "2023-07-20T17:17:49.370Z"
   },
   {
    "duration": 58181,
    "start_time": "2023-07-20T17:20:00.327Z"
   },
   {
    "duration": 41,
    "start_time": "2023-07-20T17:22:21.545Z"
   },
   {
    "duration": 35934,
    "start_time": "2023-07-20T17:24:27.477Z"
   },
   {
    "duration": 1290,
    "start_time": "2023-07-20T17:26:59.778Z"
   },
   {
    "duration": 314035,
    "start_time": "2023-07-20T17:27:20.567Z"
   },
   {
    "duration": 517666,
    "start_time": "2023-07-20T17:35:16.003Z"
   },
   {
    "duration": 4,
    "start_time": "2023-07-20T18:13:35.929Z"
   },
   {
    "duration": 5,
    "start_time": "2023-07-20T18:13:42.023Z"
   },
   {
    "duration": 67,
    "start_time": "2023-07-20T18:13:59.976Z"
   },
   {
    "duration": 6,
    "start_time": "2023-07-20T18:14:13.947Z"
   },
   {
    "duration": 5,
    "start_time": "2023-07-20T18:22:23.444Z"
   },
   {
    "duration": 6,
    "start_time": "2023-07-20T18:22:28.476Z"
   },
   {
    "duration": 8,
    "start_time": "2023-07-20T18:23:32.404Z"
   },
   {
    "duration": 63,
    "start_time": "2023-07-20T18:24:40.638Z"
   },
   {
    "duration": 10,
    "start_time": "2023-07-20T18:25:10.237Z"
   },
   {
    "duration": 4,
    "start_time": "2023-07-20T18:26:08.479Z"
   },
   {
    "duration": 82,
    "start_time": "2023-07-20T18:27:10.700Z"
   },
   {
    "duration": 83,
    "start_time": "2023-07-20T18:27:14.729Z"
   },
   {
    "duration": 72,
    "start_time": "2023-07-20T18:28:02.792Z"
   },
   {
    "duration": 78,
    "start_time": "2023-07-20T18:28:23.765Z"
   },
   {
    "duration": 67,
    "start_time": "2023-07-20T18:28:34.236Z"
   },
   {
    "duration": 59,
    "start_time": "2023-07-20T18:28:50.450Z"
   },
   {
    "duration": 63,
    "start_time": "2023-07-20T18:29:08.740Z"
   },
   {
    "duration": 70,
    "start_time": "2023-07-20T18:29:45.229Z"
   },
   {
    "duration": 89,
    "start_time": "2023-07-20T18:29:56.326Z"
   },
   {
    "duration": 11,
    "start_time": "2023-07-20T18:30:02.524Z"
   },
   {
    "duration": 8,
    "start_time": "2023-07-20T18:30:12.508Z"
   },
   {
    "duration": 16,
    "start_time": "2023-07-20T18:30:43.156Z"
   },
   {
    "duration": 14,
    "start_time": "2023-07-20T18:31:21.088Z"
   },
   {
    "duration": 3,
    "start_time": "2023-07-20T18:31:32.375Z"
   },
   {
    "duration": 3,
    "start_time": "2023-07-20T18:32:13.839Z"
   },
   {
    "duration": 9,
    "start_time": "2023-07-20T18:33:15.416Z"
   },
   {
    "duration": 9,
    "start_time": "2023-07-20T18:34:46.728Z"
   },
   {
    "duration": 15,
    "start_time": "2023-07-20T18:35:09.968Z"
   },
   {
    "duration": 6,
    "start_time": "2023-07-20T18:37:31.332Z"
   },
   {
    "duration": 12,
    "start_time": "2023-07-20T18:37:41.384Z"
   },
   {
    "duration": 12,
    "start_time": "2023-07-20T18:37:56.951Z"
   },
   {
    "duration": 28761,
    "start_time": "2023-07-20T18:41:12.907Z"
   },
   {
    "duration": 12,
    "start_time": "2023-07-20T18:41:58.199Z"
   },
   {
    "duration": 74,
    "start_time": "2023-07-20T18:47:35.946Z"
   },
   {
    "duration": 6,
    "start_time": "2023-07-20T18:47:47.804Z"
   },
   {
    "duration": 6,
    "start_time": "2023-07-20T18:49:49.828Z"
   },
   {
    "duration": 5,
    "start_time": "2023-07-20T18:50:16.759Z"
   },
   {
    "duration": 3,
    "start_time": "2023-07-20T18:51:10.043Z"
   },
   {
    "duration": 12,
    "start_time": "2023-07-20T18:51:22.011Z"
   },
   {
    "duration": 2,
    "start_time": "2023-07-20T18:53:07.742Z"
   },
   {
    "duration": 2,
    "start_time": "2023-07-20T18:53:53.487Z"
   },
   {
    "duration": 5464,
    "start_time": "2023-07-20T18:55:13.912Z"
   },
   {
    "duration": 5449,
    "start_time": "2023-07-20T18:59:00.038Z"
   },
   {
    "duration": 1596,
    "start_time": "2023-07-20T19:09:01.907Z"
   },
   {
    "duration": 2996,
    "start_time": "2023-07-20T19:09:03.505Z"
   },
   {
    "duration": 100,
    "start_time": "2023-07-20T19:09:06.503Z"
   },
   {
    "duration": 302,
    "start_time": "2023-07-20T19:09:06.605Z"
   },
   {
    "duration": 340,
    "start_time": "2023-07-20T19:09:06.909Z"
   },
   {
    "duration": 123,
    "start_time": "2023-07-20T19:09:07.251Z"
   },
   {
    "duration": 4,
    "start_time": "2023-07-20T19:09:07.375Z"
   },
   {
    "duration": 33,
    "start_time": "2023-07-20T19:09:07.380Z"
   },
   {
    "duration": 201,
    "start_time": "2023-07-20T19:09:07.415Z"
   },
   {
    "duration": 33,
    "start_time": "2023-07-20T19:09:07.619Z"
   },
   {
    "duration": 117,
    "start_time": "2023-07-20T19:09:07.654Z"
   },
   {
    "duration": 19,
    "start_time": "2023-07-20T19:09:07.773Z"
   },
   {
    "duration": 32,
    "start_time": "2023-07-20T19:09:07.794Z"
   },
   {
    "duration": 25,
    "start_time": "2023-07-20T19:09:07.828Z"
   },
   {
    "duration": 110,
    "start_time": "2023-07-20T19:09:07.871Z"
   },
   {
    "duration": 53,
    "start_time": "2023-07-20T19:09:07.982Z"
   },
   {
    "duration": 45,
    "start_time": "2023-07-20T19:09:08.037Z"
   },
   {
    "duration": 23,
    "start_time": "2023-07-20T19:09:08.084Z"
   },
   {
    "duration": 106,
    "start_time": "2023-07-20T19:09:08.109Z"
   },
   {
    "duration": 16,
    "start_time": "2023-07-20T19:09:08.217Z"
   },
   {
    "duration": 35,
    "start_time": "2023-07-20T19:09:08.234Z"
   },
   {
    "duration": 99,
    "start_time": "2023-07-20T19:09:08.271Z"
   },
   {
    "duration": 29,
    "start_time": "2023-07-20T19:09:08.372Z"
   },
   {
    "duration": 112,
    "start_time": "2023-07-20T19:09:08.402Z"
   },
   {
    "duration": 96,
    "start_time": "2023-07-20T19:09:08.515Z"
   },
   {
    "duration": 32,
    "start_time": "2023-07-20T19:09:08.613Z"
   },
   {
    "duration": 70,
    "start_time": "2023-07-20T19:09:08.647Z"
   },
   {
    "duration": 4758,
    "start_time": "2023-07-20T19:09:08.720Z"
   },
   {
    "duration": 1143,
    "start_time": "2023-07-20T19:09:13.480Z"
   },
   {
    "duration": 116,
    "start_time": "2023-07-20T19:09:14.625Z"
   },
   {
    "duration": 3,
    "start_time": "2023-07-20T19:09:14.742Z"
   },
   {
    "duration": 29226,
    "start_time": "2023-07-20T19:09:14.747Z"
   },
   {
    "duration": 632701,
    "start_time": "2023-07-20T19:09:43.976Z"
   },
   {
    "duration": 429694,
    "start_time": "2023-07-20T19:20:16.679Z"
   },
   {
    "duration": 308568,
    "start_time": "2023-07-20T19:27:26.375Z"
   },
   {
    "duration": 6,
    "start_time": "2023-07-20T19:32:34.944Z"
   },
   {
    "duration": 10,
    "start_time": "2023-07-20T19:32:34.951Z"
   },
   {
    "duration": 13,
    "start_time": "2023-07-20T19:32:34.962Z"
   },
   {
    "duration": 5508,
    "start_time": "2023-07-20T19:32:34.976Z"
   },
   {
    "duration": 2001,
    "start_time": "2023-07-21T11:54:47.770Z"
   },
   {
    "duration": 1578,
    "start_time": "2023-07-21T11:54:49.774Z"
   },
   {
    "duration": 112,
    "start_time": "2023-07-21T11:54:51.354Z"
   },
   {
    "duration": 337,
    "start_time": "2023-07-21T11:54:51.468Z"
   },
   {
    "duration": 387,
    "start_time": "2023-07-21T11:54:51.808Z"
   },
   {
    "duration": 119,
    "start_time": "2023-07-21T11:54:52.197Z"
   },
   {
    "duration": 4,
    "start_time": "2023-07-21T11:54:52.325Z"
   },
   {
    "duration": 45,
    "start_time": "2023-07-21T11:54:52.330Z"
   },
   {
    "duration": 228,
    "start_time": "2023-07-21T11:54:52.377Z"
   },
   {
    "duration": 89,
    "start_time": "2023-07-21T11:55:40.438Z"
   },
   {
    "duration": 19,
    "start_time": "2023-07-21T11:55:49.291Z"
   },
   {
    "duration": 20,
    "start_time": "2023-07-21T11:55:54.406Z"
   },
   {
    "duration": 36,
    "start_time": "2023-07-21T11:56:15.507Z"
   },
   {
    "duration": 103,
    "start_time": "2023-07-21T11:56:20.119Z"
   },
   {
    "duration": 28,
    "start_time": "2023-07-21T11:57:14.644Z"
   },
   {
    "duration": 27,
    "start_time": "2023-07-21T11:59:14.880Z"
   },
   {
    "duration": 6,
    "start_time": "2023-07-21T11:59:18.216Z"
   },
   {
    "duration": 1103,
    "start_time": "2023-07-21T11:59:18.224Z"
   },
   {
    "duration": 121,
    "start_time": "2023-07-21T11:59:19.329Z"
   },
   {
    "duration": 309,
    "start_time": "2023-07-21T11:59:19.453Z"
   },
   {
    "duration": 329,
    "start_time": "2023-07-21T11:59:19.764Z"
   },
   {
    "duration": 107,
    "start_time": "2023-07-21T11:59:20.095Z"
   },
   {
    "duration": 4,
    "start_time": "2023-07-21T11:59:20.209Z"
   },
   {
    "duration": 62,
    "start_time": "2023-07-21T11:59:20.215Z"
   },
   {
    "duration": 205,
    "start_time": "2023-07-21T11:59:20.280Z"
   },
   {
    "duration": 29,
    "start_time": "2023-07-21T11:59:20.487Z"
   },
   {
    "duration": 105,
    "start_time": "2023-07-21T11:59:20.518Z"
   },
   {
    "duration": 17,
    "start_time": "2023-07-21T11:59:20.625Z"
   },
   {
    "duration": 80,
    "start_time": "2023-07-21T11:59:20.644Z"
   },
   {
    "duration": 58,
    "start_time": "2023-07-21T11:59:20.726Z"
   },
   {
    "duration": 94,
    "start_time": "2023-07-21T11:59:20.786Z"
   },
   {
    "duration": 37,
    "start_time": "2023-07-21T11:59:20.882Z"
   },
   {
    "duration": 15,
    "start_time": "2023-07-21T11:59:26.703Z"
   },
   {
    "duration": 244,
    "start_time": "2023-07-21T12:01:23.376Z"
   },
   {
    "duration": 164,
    "start_time": "2023-07-21T12:01:44.346Z"
   },
   {
    "duration": 270,
    "start_time": "2023-07-21T12:01:52.868Z"
   },
   {
    "duration": 338,
    "start_time": "2023-07-21T12:01:55.845Z"
   },
   {
    "duration": 1612,
    "start_time": "2023-07-21T12:02:00.679Z"
   },
   {
    "duration": 145,
    "start_time": "2023-07-21T12:03:27.645Z"
   },
   {
    "duration": 154,
    "start_time": "2023-07-21T12:03:53.309Z"
   },
   {
    "duration": 180,
    "start_time": "2023-07-21T12:05:09.285Z"
   },
   {
    "duration": 165,
    "start_time": "2023-07-21T12:05:15.649Z"
   },
   {
    "duration": 330,
    "start_time": "2023-07-21T12:06:02.521Z"
   },
   {
    "duration": 6,
    "start_time": "2023-07-21T12:17:51.034Z"
   },
   {
    "duration": 1281,
    "start_time": "2023-07-21T12:17:51.043Z"
   },
   {
    "duration": 112,
    "start_time": "2023-07-21T12:17:52.326Z"
   },
   {
    "duration": 302,
    "start_time": "2023-07-21T12:17:52.440Z"
   },
   {
    "duration": 336,
    "start_time": "2023-07-21T12:17:52.745Z"
   },
   {
    "duration": 116,
    "start_time": "2023-07-21T12:17:53.083Z"
   },
   {
    "duration": 3,
    "start_time": "2023-07-21T12:17:53.209Z"
   },
   {
    "duration": 58,
    "start_time": "2023-07-21T12:17:53.214Z"
   },
   {
    "duration": 217,
    "start_time": "2023-07-21T12:17:53.274Z"
   },
   {
    "duration": 31,
    "start_time": "2023-07-21T12:17:53.493Z"
   },
   {
    "duration": 225,
    "start_time": "2023-07-21T12:17:53.526Z"
   },
   {
    "duration": 21,
    "start_time": "2023-07-21T12:17:53.753Z"
   },
   {
    "duration": 50,
    "start_time": "2023-07-21T12:17:53.776Z"
   },
   {
    "duration": 28,
    "start_time": "2023-07-21T12:17:53.830Z"
   },
   {
    "duration": 105,
    "start_time": "2023-07-21T12:17:53.860Z"
   },
   {
    "duration": 17,
    "start_time": "2023-07-21T12:17:53.967Z"
   },
   {
    "duration": 199,
    "start_time": "2023-07-21T12:17:53.986Z"
   },
   {
    "duration": 48,
    "start_time": "2023-07-21T12:17:54.188Z"
   },
   {
    "duration": 106,
    "start_time": "2023-07-21T12:17:54.239Z"
   },
   {
    "duration": 19,
    "start_time": "2023-07-21T12:17:54.347Z"
   },
   {
    "duration": 41,
    "start_time": "2023-07-21T12:17:54.368Z"
   },
   {
    "duration": 103,
    "start_time": "2023-07-21T12:17:54.411Z"
   },
   {
    "duration": 30,
    "start_time": "2023-07-21T12:17:54.516Z"
   },
   {
    "duration": 118,
    "start_time": "2023-07-21T12:17:54.548Z"
   },
   {
    "duration": 102,
    "start_time": "2023-07-21T12:17:54.668Z"
   },
   {
    "duration": 73,
    "start_time": "2023-07-21T12:17:54.774Z"
   },
   {
    "duration": 174,
    "start_time": "2023-07-21T12:17:54.850Z"
   },
   {
    "duration": 79,
    "start_time": "2023-07-21T12:18:57.075Z"
   },
   {
    "duration": 1166,
    "start_time": "2023-07-21T12:22:43.372Z"
   },
   {
    "duration": 4,
    "start_time": "2023-07-21T12:24:23.612Z"
   },
   {
    "duration": 5,
    "start_time": "2023-07-21T12:24:31.534Z"
   },
   {
    "duration": 1204,
    "start_time": "2023-07-21T12:24:31.542Z"
   },
   {
    "duration": 111,
    "start_time": "2023-07-21T12:24:32.748Z"
   },
   {
    "duration": 292,
    "start_time": "2023-07-21T12:24:32.861Z"
   },
   {
    "duration": 342,
    "start_time": "2023-07-21T12:24:33.156Z"
   },
   {
    "duration": 124,
    "start_time": "2023-07-21T12:24:33.500Z"
   },
   {
    "duration": 3,
    "start_time": "2023-07-21T12:24:33.626Z"
   },
   {
    "duration": 34,
    "start_time": "2023-07-21T12:24:33.631Z"
   },
   {
    "duration": 230,
    "start_time": "2023-07-21T12:24:33.667Z"
   },
   {
    "duration": 31,
    "start_time": "2023-07-21T12:24:33.899Z"
   },
   {
    "duration": 117,
    "start_time": "2023-07-21T12:24:33.932Z"
   },
   {
    "duration": 17,
    "start_time": "2023-07-21T12:24:34.051Z"
   },
   {
    "duration": 41,
    "start_time": "2023-07-21T12:24:34.071Z"
   },
   {
    "duration": 28,
    "start_time": "2023-07-21T12:24:34.114Z"
   },
   {
    "duration": 111,
    "start_time": "2023-07-21T12:24:34.145Z"
   },
   {
    "duration": 16,
    "start_time": "2023-07-21T12:24:34.258Z"
   },
   {
    "duration": 178,
    "start_time": "2023-07-21T12:24:34.276Z"
   },
   {
    "duration": 28,
    "start_time": "2023-07-21T12:24:34.456Z"
   },
   {
    "duration": 105,
    "start_time": "2023-07-21T12:24:34.486Z"
   },
   {
    "duration": 22,
    "start_time": "2023-07-21T12:24:34.593Z"
   },
   {
    "duration": 27,
    "start_time": "2023-07-21T12:24:34.617Z"
   },
   {
    "duration": 103,
    "start_time": "2023-07-21T12:24:34.646Z"
   },
   {
    "duration": 28,
    "start_time": "2023-07-21T12:24:34.751Z"
   },
   {
    "duration": 98,
    "start_time": "2023-07-21T12:24:34.781Z"
   },
   {
    "duration": 93,
    "start_time": "2023-07-21T12:24:34.881Z"
   },
   {
    "duration": 58,
    "start_time": "2023-07-21T12:24:34.976Z"
   },
   {
    "duration": 57,
    "start_time": "2023-07-21T12:24:35.036Z"
   },
   {
    "duration": 4,
    "start_time": "2023-07-21T12:24:39.770Z"
   },
   {
    "duration": 125,
    "start_time": "2023-07-21T12:27:58.848Z"
   },
   {
    "duration": 139,
    "start_time": "2023-07-21T12:28:26.008Z"
   },
   {
    "duration": 366,
    "start_time": "2023-07-21T12:29:07.994Z"
   },
   {
    "duration": 4,
    "start_time": "2023-07-21T12:29:12.334Z"
   },
   {
    "duration": 232,
    "start_time": "2023-07-21T12:30:05.347Z"
   },
   {
    "duration": 54,
    "start_time": "2023-07-21T12:30:09.283Z"
   },
   {
    "duration": 5,
    "start_time": "2023-07-21T12:39:26.562Z"
   },
   {
    "duration": 1166,
    "start_time": "2023-07-21T12:39:26.570Z"
   },
   {
    "duration": 114,
    "start_time": "2023-07-21T12:39:27.738Z"
   },
   {
    "duration": 307,
    "start_time": "2023-07-21T12:39:27.854Z"
   },
   {
    "duration": 337,
    "start_time": "2023-07-21T12:39:28.164Z"
   },
   {
    "duration": 116,
    "start_time": "2023-07-21T12:39:28.503Z"
   },
   {
    "duration": 4,
    "start_time": "2023-07-21T12:39:28.621Z"
   },
   {
    "duration": 108,
    "start_time": "2023-07-21T12:39:28.627Z"
   },
   {
    "duration": 224,
    "start_time": "2023-07-21T12:39:28.737Z"
   },
   {
    "duration": 29,
    "start_time": "2023-07-21T12:39:28.963Z"
   },
   {
    "duration": 100,
    "start_time": "2023-07-21T12:39:28.995Z"
   },
   {
    "duration": 17,
    "start_time": "2023-07-21T12:39:29.110Z"
   },
   {
    "duration": 53,
    "start_time": "2023-07-21T12:39:29.129Z"
   },
   {
    "duration": 33,
    "start_time": "2023-07-21T12:39:29.185Z"
   },
   {
    "duration": 95,
    "start_time": "2023-07-21T12:39:29.220Z"
   },
   {
    "duration": 16,
    "start_time": "2023-07-21T12:39:29.317Z"
   },
   {
    "duration": 211,
    "start_time": "2023-07-21T12:39:29.335Z"
   },
   {
    "duration": 25,
    "start_time": "2023-07-21T12:39:29.549Z"
   },
   {
    "duration": 102,
    "start_time": "2023-07-21T12:39:29.576Z"
   },
   {
    "duration": 29,
    "start_time": "2023-07-21T12:39:29.680Z"
   },
   {
    "duration": 42,
    "start_time": "2023-07-21T12:39:29.711Z"
   },
   {
    "duration": 91,
    "start_time": "2023-07-21T12:39:29.756Z"
   },
   {
    "duration": 28,
    "start_time": "2023-07-21T12:39:29.848Z"
   },
   {
    "duration": 105,
    "start_time": "2023-07-21T12:39:29.878Z"
   },
   {
    "duration": 97,
    "start_time": "2023-07-21T12:39:29.986Z"
   },
   {
    "duration": 45,
    "start_time": "2023-07-21T12:39:30.085Z"
   },
   {
    "duration": 57,
    "start_time": "2023-07-21T12:39:30.132Z"
   },
   {
    "duration": 282,
    "start_time": "2023-07-21T12:39:30.191Z"
   },
   {
    "duration": 4,
    "start_time": "2023-07-21T12:39:30.475Z"
   },
   {
    "duration": 13,
    "start_time": "2023-07-21T12:39:51.874Z"
   },
   {
    "duration": 55,
    "start_time": "2023-07-21T12:42:17.727Z"
   },
   {
    "duration": 60,
    "start_time": "2023-07-21T12:42:23.412Z"
   },
   {
    "duration": 216,
    "start_time": "2023-07-21T12:53:48.659Z"
   },
   {
    "duration": 32,
    "start_time": "2023-07-21T12:53:53.989Z"
   },
   {
    "duration": 209,
    "start_time": "2023-07-21T13:04:06.623Z"
   },
   {
    "duration": 27,
    "start_time": "2023-07-21T13:04:08.536Z"
   },
   {
    "duration": 239,
    "start_time": "2023-07-21T13:06:30.683Z"
   },
   {
    "duration": 34,
    "start_time": "2023-07-21T13:06:33.107Z"
   },
   {
    "duration": 124,
    "start_time": "2023-07-21T13:07:09.706Z"
   },
   {
    "duration": 5,
    "start_time": "2023-07-21T13:07:15.583Z"
   },
   {
    "duration": 1190,
    "start_time": "2023-07-21T13:07:15.589Z"
   },
   {
    "duration": 134,
    "start_time": "2023-07-21T13:07:16.781Z"
   },
   {
    "duration": 319,
    "start_time": "2023-07-21T13:07:16.918Z"
   },
   {
    "duration": 340,
    "start_time": "2023-07-21T13:07:17.240Z"
   },
   {
    "duration": 109,
    "start_time": "2023-07-21T13:07:17.582Z"
   },
   {
    "duration": 16,
    "start_time": "2023-07-21T13:07:17.694Z"
   },
   {
    "duration": 153,
    "start_time": "2023-07-21T13:07:17.712Z"
   },
   {
    "duration": 343,
    "start_time": "2023-07-21T13:07:17.869Z"
   },
   {
    "duration": 32,
    "start_time": "2023-07-21T13:07:18.214Z"
   },
   {
    "duration": 116,
    "start_time": "2023-07-21T13:07:18.248Z"
   },
   {
    "duration": 18,
    "start_time": "2023-07-21T13:07:18.366Z"
   },
   {
    "duration": 50,
    "start_time": "2023-07-21T13:07:18.385Z"
   },
   {
    "duration": 36,
    "start_time": "2023-07-21T13:07:18.437Z"
   },
   {
    "duration": 95,
    "start_time": "2023-07-21T13:07:18.475Z"
   },
   {
    "duration": 16,
    "start_time": "2023-07-21T13:07:18.572Z"
   },
   {
    "duration": 195,
    "start_time": "2023-07-21T13:07:18.590Z"
   },
   {
    "duration": 36,
    "start_time": "2023-07-21T13:07:18.787Z"
   },
   {
    "duration": 93,
    "start_time": "2023-07-21T13:07:18.825Z"
   },
   {
    "duration": 14,
    "start_time": "2023-07-21T13:07:18.920Z"
   },
   {
    "duration": 32,
    "start_time": "2023-07-21T13:07:18.936Z"
   },
   {
    "duration": 92,
    "start_time": "2023-07-21T13:07:18.970Z"
   },
   {
    "duration": 27,
    "start_time": "2023-07-21T13:07:19.064Z"
   },
   {
    "duration": 108,
    "start_time": "2023-07-21T13:07:19.108Z"
   },
   {
    "duration": 91,
    "start_time": "2023-07-21T13:07:19.218Z"
   },
   {
    "duration": 50,
    "start_time": "2023-07-21T13:07:19.310Z"
   },
   {
    "duration": 99,
    "start_time": "2023-07-21T13:07:19.363Z"
   },
   {
    "duration": 284,
    "start_time": "2023-07-21T13:07:19.464Z"
   },
   {
    "duration": 4,
    "start_time": "2023-07-21T13:07:19.751Z"
   },
   {
    "duration": 40,
    "start_time": "2023-07-21T13:07:19.756Z"
   },
   {
    "duration": 54,
    "start_time": "2023-07-21T13:07:19.798Z"
   },
   {
    "duration": 199,
    "start_time": "2023-07-21T13:07:21.991Z"
   },
   {
    "duration": 16,
    "start_time": "2023-07-21T13:07:28.472Z"
   },
   {
    "duration": 7,
    "start_time": "2023-07-21T13:07:35.579Z"
   },
   {
    "duration": 1301,
    "start_time": "2023-07-21T13:07:35.588Z"
   },
   {
    "duration": 103,
    "start_time": "2023-07-21T13:07:36.890Z"
   },
   {
    "duration": 312,
    "start_time": "2023-07-21T13:07:36.996Z"
   },
   {
    "duration": 346,
    "start_time": "2023-07-21T13:07:37.310Z"
   },
   {
    "duration": 110,
    "start_time": "2023-07-21T13:07:37.658Z"
   },
   {
    "duration": 4,
    "start_time": "2023-07-21T13:07:37.770Z"
   },
   {
    "duration": 47,
    "start_time": "2023-07-21T13:07:37.776Z"
   },
   {
    "duration": 228,
    "start_time": "2023-07-21T13:07:37.825Z"
   },
   {
    "duration": 30,
    "start_time": "2023-07-21T13:07:38.056Z"
   },
   {
    "duration": 121,
    "start_time": "2023-07-21T13:07:38.088Z"
   },
   {
    "duration": 16,
    "start_time": "2023-07-21T13:07:38.211Z"
   },
   {
    "duration": 33,
    "start_time": "2023-07-21T13:07:38.230Z"
   },
   {
    "duration": 27,
    "start_time": "2023-07-21T13:07:38.265Z"
   },
   {
    "duration": 103,
    "start_time": "2023-07-21T13:07:38.310Z"
   },
   {
    "duration": 16,
    "start_time": "2023-07-21T13:07:38.415Z"
   },
   {
    "duration": 178,
    "start_time": "2023-07-21T13:07:38.433Z"
   },
   {
    "duration": 30,
    "start_time": "2023-07-21T13:07:38.613Z"
   },
   {
    "duration": 112,
    "start_time": "2023-07-21T13:07:38.645Z"
   },
   {
    "duration": 15,
    "start_time": "2023-07-21T13:07:38.759Z"
   },
   {
    "duration": 36,
    "start_time": "2023-07-21T13:07:38.776Z"
   },
   {
    "duration": 97,
    "start_time": "2023-07-21T13:07:38.814Z"
   },
   {
    "duration": 28,
    "start_time": "2023-07-21T13:07:38.913Z"
   },
   {
    "duration": 101,
    "start_time": "2023-07-21T13:07:38.943Z"
   },
   {
    "duration": 97,
    "start_time": "2023-07-21T13:07:39.046Z"
   },
   {
    "duration": 35,
    "start_time": "2023-07-21T13:07:39.145Z"
   },
   {
    "duration": 75,
    "start_time": "2023-07-21T13:07:39.181Z"
   },
   {
    "duration": 297,
    "start_time": "2023-07-21T13:07:39.260Z"
   },
   {
    "duration": 4,
    "start_time": "2023-07-21T13:07:39.559Z"
   },
   {
    "duration": 36,
    "start_time": "2023-07-21T13:07:39.565Z"
   },
   {
    "duration": 56,
    "start_time": "2023-07-21T13:07:39.603Z"
   },
   {
    "duration": 235,
    "start_time": "2023-07-21T13:07:46.434Z"
   },
   {
    "duration": 5,
    "start_time": "2023-07-21T13:08:51.413Z"
   },
   {
    "duration": 1170,
    "start_time": "2023-07-21T13:08:51.420Z"
   },
   {
    "duration": 103,
    "start_time": "2023-07-21T13:08:52.592Z"
   },
   {
    "duration": 292,
    "start_time": "2023-07-21T13:08:52.709Z"
   },
   {
    "duration": 320,
    "start_time": "2023-07-21T13:08:53.003Z"
   },
   {
    "duration": 114,
    "start_time": "2023-07-21T13:08:53.325Z"
   },
   {
    "duration": 3,
    "start_time": "2023-07-21T13:08:53.441Z"
   },
   {
    "duration": 70,
    "start_time": "2023-07-21T13:08:53.446Z"
   },
   {
    "duration": 219,
    "start_time": "2023-07-21T13:08:53.519Z"
   },
   {
    "duration": 26,
    "start_time": "2023-07-21T13:08:53.740Z"
   },
   {
    "duration": 113,
    "start_time": "2023-07-21T13:08:53.768Z"
   },
   {
    "duration": 16,
    "start_time": "2023-07-21T13:08:53.883Z"
   },
   {
    "duration": 49,
    "start_time": "2023-07-21T13:08:53.908Z"
   },
   {
    "duration": 52,
    "start_time": "2023-07-21T13:08:53.959Z"
   },
   {
    "duration": 115,
    "start_time": "2023-07-21T13:08:54.013Z"
   },
   {
    "duration": 16,
    "start_time": "2023-07-21T13:08:54.130Z"
   },
   {
    "duration": 174,
    "start_time": "2023-07-21T13:08:54.148Z"
   },
   {
    "duration": 25,
    "start_time": "2023-07-21T13:08:54.324Z"
   },
   {
    "duration": 114,
    "start_time": "2023-07-21T13:08:54.351Z"
   },
   {
    "duration": 14,
    "start_time": "2023-07-21T13:08:54.467Z"
   },
   {
    "duration": 42,
    "start_time": "2023-07-21T13:08:54.483Z"
   },
   {
    "duration": 90,
    "start_time": "2023-07-21T13:08:54.527Z"
   },
   {
    "duration": 27,
    "start_time": "2023-07-21T13:08:54.619Z"
   },
   {
    "duration": 94,
    "start_time": "2023-07-21T13:08:54.650Z"
   },
   {
    "duration": 83,
    "start_time": "2023-07-21T13:08:54.745Z"
   },
   {
    "duration": 39,
    "start_time": "2023-07-21T13:08:54.830Z"
   },
   {
    "duration": 63,
    "start_time": "2023-07-21T13:08:54.871Z"
   },
   {
    "duration": 330,
    "start_time": "2023-07-21T13:08:54.937Z"
   },
   {
    "duration": 4,
    "start_time": "2023-07-21T13:08:55.269Z"
   },
   {
    "duration": 35,
    "start_time": "2023-07-21T13:08:55.275Z"
   },
   {
    "duration": 100,
    "start_time": "2023-07-21T13:08:55.312Z"
   },
   {
    "duration": 376,
    "start_time": "2023-07-21T13:08:55.413Z"
   },
   {
    "duration": 34,
    "start_time": "2023-07-21T13:08:58.619Z"
   },
   {
    "duration": 35,
    "start_time": "2023-07-21T13:09:06.687Z"
   },
   {
    "duration": 14,
    "start_time": "2023-07-21T13:09:49.165Z"
   },
   {
    "duration": 119,
    "start_time": "2023-07-21T13:09:56.211Z"
   },
   {
    "duration": 6,
    "start_time": "2023-07-21T13:09:58.832Z"
   },
   {
    "duration": 6,
    "start_time": "2023-07-21T13:10:07.257Z"
   },
   {
    "duration": 17,
    "start_time": "2023-07-21T13:10:32.595Z"
   },
   {
    "duration": 14,
    "start_time": "2023-07-21T13:14:27.521Z"
   },
   {
    "duration": 17,
    "start_time": "2023-07-21T13:18:03.355Z"
   },
   {
    "duration": 5,
    "start_time": "2023-07-21T13:23:07.338Z"
   },
   {
    "duration": 5,
    "start_time": "2023-07-21T13:25:14.462Z"
   },
   {
    "duration": 1125,
    "start_time": "2023-07-21T13:25:14.470Z"
   },
   {
    "duration": 102,
    "start_time": "2023-07-21T13:25:15.597Z"
   },
   {
    "duration": 370,
    "start_time": "2023-07-21T13:25:15.709Z"
   },
   {
    "duration": 333,
    "start_time": "2023-07-21T13:25:16.082Z"
   },
   {
    "duration": 120,
    "start_time": "2023-07-21T13:25:16.417Z"
   },
   {
    "duration": 3,
    "start_time": "2023-07-21T13:25:16.539Z"
   },
   {
    "duration": 50,
    "start_time": "2023-07-21T13:25:16.544Z"
   },
   {
    "duration": 226,
    "start_time": "2023-07-21T13:25:16.595Z"
   },
   {
    "duration": 26,
    "start_time": "2023-07-21T13:25:16.823Z"
   },
   {
    "duration": 108,
    "start_time": "2023-07-21T13:25:16.852Z"
   },
   {
    "duration": 17,
    "start_time": "2023-07-21T13:25:16.963Z"
   },
   {
    "duration": 44,
    "start_time": "2023-07-21T13:25:16.982Z"
   },
   {
    "duration": 26,
    "start_time": "2023-07-21T13:25:17.028Z"
   },
   {
    "duration": 98,
    "start_time": "2023-07-21T13:25:17.056Z"
   },
   {
    "duration": 16,
    "start_time": "2023-07-21T13:25:17.156Z"
   },
   {
    "duration": 180,
    "start_time": "2023-07-21T13:25:17.174Z"
   },
   {
    "duration": 27,
    "start_time": "2023-07-21T13:25:17.357Z"
   },
   {
    "duration": 97,
    "start_time": "2023-07-21T13:25:17.387Z"
   },
   {
    "duration": 26,
    "start_time": "2023-07-21T13:25:17.486Z"
   },
   {
    "duration": 34,
    "start_time": "2023-07-21T13:25:17.514Z"
   },
   {
    "duration": 92,
    "start_time": "2023-07-21T13:25:17.550Z"
   },
   {
    "duration": 27,
    "start_time": "2023-07-21T13:25:17.644Z"
   },
   {
    "duration": 102,
    "start_time": "2023-07-21T13:25:17.673Z"
   },
   {
    "duration": 89,
    "start_time": "2023-07-21T13:25:17.777Z"
   },
   {
    "duration": 58,
    "start_time": "2023-07-21T13:25:17.867Z"
   },
   {
    "duration": 58,
    "start_time": "2023-07-21T13:25:17.926Z"
   },
   {
    "duration": 272,
    "start_time": "2023-07-21T13:25:17.986Z"
   },
   {
    "duration": 4,
    "start_time": "2023-07-21T13:25:18.261Z"
   },
   {
    "duration": 42,
    "start_time": "2023-07-21T13:25:18.267Z"
   },
   {
    "duration": 67,
    "start_time": "2023-07-21T13:25:18.311Z"
   },
   {
    "duration": 203,
    "start_time": "2023-07-21T13:25:18.380Z"
   },
   {
    "duration": 329,
    "start_time": "2023-07-21T13:26:00.135Z"
   },
   {
    "duration": 6,
    "start_time": "2023-07-21T13:26:03.655Z"
   },
   {
    "duration": 21,
    "start_time": "2023-07-21T13:26:15.912Z"
   },
   {
    "duration": 36,
    "start_time": "2023-07-21T13:26:31.778Z"
   },
   {
    "duration": 35,
    "start_time": "2023-07-21T13:26:46.933Z"
   },
   {
    "duration": 6,
    "start_time": "2023-07-21T13:27:24.121Z"
   },
   {
    "duration": 1136,
    "start_time": "2023-07-21T13:27:24.133Z"
   },
   {
    "duration": 103,
    "start_time": "2023-07-21T13:27:25.271Z"
   },
   {
    "duration": 293,
    "start_time": "2023-07-21T13:27:25.376Z"
   },
   {
    "duration": 370,
    "start_time": "2023-07-21T13:27:25.671Z"
   },
   {
    "duration": 147,
    "start_time": "2023-07-21T13:27:26.043Z"
   },
   {
    "duration": 4,
    "start_time": "2023-07-21T13:27:26.191Z"
   },
   {
    "duration": 60,
    "start_time": "2023-07-21T13:27:26.197Z"
   },
   {
    "duration": 209,
    "start_time": "2023-07-21T13:27:26.259Z"
   },
   {
    "duration": 41,
    "start_time": "2023-07-21T13:27:26.471Z"
   },
   {
    "duration": 105,
    "start_time": "2023-07-21T13:27:26.514Z"
   },
   {
    "duration": 18,
    "start_time": "2023-07-21T13:27:26.621Z"
   },
   {
    "duration": 53,
    "start_time": "2023-07-21T13:27:26.640Z"
   },
   {
    "duration": 53,
    "start_time": "2023-07-21T13:27:26.695Z"
   },
   {
    "duration": 100,
    "start_time": "2023-07-21T13:27:26.752Z"
   },
   {
    "duration": 17,
    "start_time": "2023-07-21T13:27:26.855Z"
   },
   {
    "duration": 324,
    "start_time": "2023-07-21T13:27:26.874Z"
   },
   {
    "duration": 31,
    "start_time": "2023-07-21T13:27:27.200Z"
   },
   {
    "duration": 93,
    "start_time": "2023-07-21T13:27:27.233Z"
   },
   {
    "duration": 15,
    "start_time": "2023-07-21T13:27:27.328Z"
   },
   {
    "duration": 42,
    "start_time": "2023-07-21T13:27:27.345Z"
   },
   {
    "duration": 94,
    "start_time": "2023-07-21T13:27:27.389Z"
   },
   {
    "duration": 34,
    "start_time": "2023-07-21T13:27:27.485Z"
   },
   {
    "duration": 99,
    "start_time": "2023-07-21T13:27:27.522Z"
   },
   {
    "duration": 90,
    "start_time": "2023-07-21T13:27:27.623Z"
   },
   {
    "duration": 37,
    "start_time": "2023-07-21T13:27:27.714Z"
   },
   {
    "duration": 73,
    "start_time": "2023-07-21T13:27:27.752Z"
   },
   {
    "duration": 255,
    "start_time": "2023-07-21T13:27:27.827Z"
   },
   {
    "duration": 3,
    "start_time": "2023-07-21T13:27:28.084Z"
   },
   {
    "duration": 33,
    "start_time": "2023-07-21T13:27:28.089Z"
   },
   {
    "duration": 74,
    "start_time": "2023-07-21T13:27:28.124Z"
   },
   {
    "duration": 315,
    "start_time": "2023-07-21T13:27:28.200Z"
   },
   {
    "duration": 6,
    "start_time": "2023-07-21T13:27:30.339Z"
   },
   {
    "duration": 38,
    "start_time": "2023-07-21T13:27:33.880Z"
   },
   {
    "duration": 6,
    "start_time": "2023-07-21T13:28:02.693Z"
   },
   {
    "duration": 1334,
    "start_time": "2023-07-21T13:28:02.701Z"
   },
   {
    "duration": 109,
    "start_time": "2023-07-21T13:28:04.037Z"
   },
   {
    "duration": 306,
    "start_time": "2023-07-21T13:28:04.148Z"
   },
   {
    "duration": 333,
    "start_time": "2023-07-21T13:28:04.456Z"
   },
   {
    "duration": 107,
    "start_time": "2023-07-21T13:28:04.791Z"
   },
   {
    "duration": 8,
    "start_time": "2023-07-21T13:28:04.900Z"
   },
   {
    "duration": 29,
    "start_time": "2023-07-21T13:28:04.910Z"
   },
   {
    "duration": 230,
    "start_time": "2023-07-21T13:28:04.942Z"
   },
   {
    "duration": 43,
    "start_time": "2023-07-21T13:28:05.174Z"
   },
   {
    "duration": 103,
    "start_time": "2023-07-21T13:28:05.219Z"
   },
   {
    "duration": 17,
    "start_time": "2023-07-21T13:28:05.324Z"
   },
   {
    "duration": 30,
    "start_time": "2023-07-21T13:28:05.343Z"
   },
   {
    "duration": 42,
    "start_time": "2023-07-21T13:28:05.375Z"
   },
   {
    "duration": 99,
    "start_time": "2023-07-21T13:28:05.419Z"
   },
   {
    "duration": 16,
    "start_time": "2023-07-21T13:28:05.520Z"
   },
   {
    "duration": 175,
    "start_time": "2023-07-21T13:28:05.538Z"
   },
   {
    "duration": 25,
    "start_time": "2023-07-21T13:28:05.716Z"
   },
   {
    "duration": 101,
    "start_time": "2023-07-21T13:28:05.743Z"
   },
   {
    "duration": 17,
    "start_time": "2023-07-21T13:28:05.846Z"
   },
   {
    "duration": 45,
    "start_time": "2023-07-21T13:28:05.865Z"
   },
   {
    "duration": 115,
    "start_time": "2023-07-21T13:28:05.913Z"
   },
   {
    "duration": 34,
    "start_time": "2023-07-21T13:28:06.031Z"
   },
   {
    "duration": 114,
    "start_time": "2023-07-21T13:28:06.069Z"
   },
   {
    "duration": 91,
    "start_time": "2023-07-21T13:28:06.185Z"
   },
   {
    "duration": 46,
    "start_time": "2023-07-21T13:28:06.278Z"
   },
   {
    "duration": 59,
    "start_time": "2023-07-21T13:28:06.326Z"
   },
   {
    "duration": 273,
    "start_time": "2023-07-21T13:28:06.387Z"
   },
   {
    "duration": 4,
    "start_time": "2023-07-21T13:28:06.662Z"
   },
   {
    "duration": 32,
    "start_time": "2023-07-21T13:28:06.667Z"
   },
   {
    "duration": 62,
    "start_time": "2023-07-21T13:28:06.701Z"
   },
   {
    "duration": 346,
    "start_time": "2023-07-21T13:28:06.764Z"
   },
   {
    "duration": 6,
    "start_time": "2023-07-21T13:28:07.112Z"
   },
   {
    "duration": 118,
    "start_time": "2023-07-21T13:28:10.546Z"
   },
   {
    "duration": 14,
    "start_time": "2023-07-21T13:31:09.299Z"
   },
   {
    "duration": 16,
    "start_time": "2023-07-21T13:31:40.050Z"
   },
   {
    "duration": 5,
    "start_time": "2023-07-21T13:33:59.078Z"
   },
   {
    "duration": 1218,
    "start_time": "2023-07-21T13:33:59.086Z"
   },
   {
    "duration": 109,
    "start_time": "2023-07-21T13:34:00.308Z"
   },
   {
    "duration": 304,
    "start_time": "2023-07-21T13:34:00.419Z"
   },
   {
    "duration": 337,
    "start_time": "2023-07-21T13:34:00.725Z"
   },
   {
    "duration": 114,
    "start_time": "2023-07-21T13:34:01.064Z"
   },
   {
    "duration": 20,
    "start_time": "2023-07-21T13:34:01.179Z"
   },
   {
    "duration": 78,
    "start_time": "2023-07-21T13:34:01.201Z"
   },
   {
    "duration": 283,
    "start_time": "2023-07-21T13:34:01.281Z"
   },
   {
    "duration": 26,
    "start_time": "2023-07-21T13:34:01.567Z"
   },
   {
    "duration": 152,
    "start_time": "2023-07-21T13:34:01.595Z"
   },
   {
    "duration": 42,
    "start_time": "2023-07-21T13:34:01.749Z"
   },
   {
    "duration": 95,
    "start_time": "2023-07-21T13:34:01.793Z"
   },
   {
    "duration": 65,
    "start_time": "2023-07-21T13:34:01.890Z"
   },
   {
    "duration": 131,
    "start_time": "2023-07-21T13:34:01.957Z"
   },
   {
    "duration": 169,
    "start_time": "2023-07-21T13:34:02.090Z"
   },
   {
    "duration": 295,
    "start_time": "2023-07-21T13:34:02.261Z"
   },
   {
    "duration": 26,
    "start_time": "2023-07-21T13:34:02.558Z"
   },
   {
    "duration": 98,
    "start_time": "2023-07-21T13:34:02.586Z"
   },
   {
    "duration": 26,
    "start_time": "2023-07-21T13:34:02.686Z"
   },
   {
    "duration": 38,
    "start_time": "2023-07-21T13:34:02.714Z"
   },
   {
    "duration": 88,
    "start_time": "2023-07-21T13:34:02.755Z"
   },
   {
    "duration": 28,
    "start_time": "2023-07-21T13:34:02.845Z"
   },
   {
    "duration": 116,
    "start_time": "2023-07-21T13:34:02.875Z"
   },
   {
    "duration": 94,
    "start_time": "2023-07-21T13:34:02.993Z"
   },
   {
    "duration": 53,
    "start_time": "2023-07-21T13:34:03.089Z"
   },
   {
    "duration": 73,
    "start_time": "2023-07-21T13:34:03.144Z"
   },
   {
    "duration": 254,
    "start_time": "2023-07-21T13:34:03.222Z"
   },
   {
    "duration": 4,
    "start_time": "2023-07-21T13:34:03.478Z"
   },
   {
    "duration": 163,
    "start_time": "2023-07-21T13:34:03.484Z"
   },
   {
    "duration": 52,
    "start_time": "2023-07-21T13:34:03.649Z"
   },
   {
    "duration": 255,
    "start_time": "2023-07-21T13:34:03.703Z"
   },
   {
    "duration": 6,
    "start_time": "2023-07-21T13:34:03.960Z"
   },
   {
    "duration": 122,
    "start_time": "2023-07-21T13:34:09.100Z"
   },
   {
    "duration": 121,
    "start_time": "2023-07-21T13:37:01.533Z"
   },
   {
    "duration": 21,
    "start_time": "2023-07-21T13:37:26.651Z"
   },
   {
    "duration": 94,
    "start_time": "2023-07-21T13:41:34.133Z"
   },
   {
    "duration": 4,
    "start_time": "2023-07-21T13:41:48.128Z"
   },
   {
    "duration": 5,
    "start_time": "2023-07-21T13:41:57.017Z"
   },
   {
    "duration": 7,
    "start_time": "2023-07-21T13:44:36.144Z"
   },
   {
    "duration": 1197,
    "start_time": "2023-07-21T13:44:36.154Z"
   },
   {
    "duration": 111,
    "start_time": "2023-07-21T13:44:37.353Z"
   },
   {
    "duration": 305,
    "start_time": "2023-07-21T13:44:37.467Z"
   },
   {
    "duration": 341,
    "start_time": "2023-07-21T13:44:37.774Z"
   },
   {
    "duration": 117,
    "start_time": "2023-07-21T13:44:38.117Z"
   },
   {
    "duration": 4,
    "start_time": "2023-07-21T13:44:38.236Z"
   },
   {
    "duration": 40,
    "start_time": "2023-07-21T13:44:38.242Z"
   },
   {
    "duration": 229,
    "start_time": "2023-07-21T13:44:38.284Z"
   },
   {
    "duration": 37,
    "start_time": "2023-07-21T13:44:38.516Z"
   },
   {
    "duration": 117,
    "start_time": "2023-07-21T13:44:38.554Z"
   },
   {
    "duration": 17,
    "start_time": "2023-07-21T13:44:38.672Z"
   },
   {
    "duration": 43,
    "start_time": "2023-07-21T13:44:38.691Z"
   },
   {
    "duration": 35,
    "start_time": "2023-07-21T13:44:38.737Z"
   },
   {
    "duration": 112,
    "start_time": "2023-07-21T13:44:38.775Z"
   },
   {
    "duration": 25,
    "start_time": "2023-07-21T13:44:38.889Z"
   },
   {
    "duration": 178,
    "start_time": "2023-07-21T13:44:38.916Z"
   },
   {
    "duration": 31,
    "start_time": "2023-07-21T13:44:39.096Z"
   },
   {
    "duration": 100,
    "start_time": "2023-07-21T13:44:39.128Z"
   },
   {
    "duration": 14,
    "start_time": "2023-07-21T13:44:39.230Z"
   },
   {
    "duration": 50,
    "start_time": "2023-07-21T13:44:39.246Z"
   },
   {
    "duration": 92,
    "start_time": "2023-07-21T13:44:39.298Z"
   },
   {
    "duration": 41,
    "start_time": "2023-07-21T13:44:39.393Z"
   },
   {
    "duration": 143,
    "start_time": "2023-07-21T13:44:39.436Z"
   },
   {
    "duration": 126,
    "start_time": "2023-07-21T13:44:39.582Z"
   },
   {
    "duration": 36,
    "start_time": "2023-07-21T13:44:39.711Z"
   },
   {
    "duration": 76,
    "start_time": "2023-07-21T13:44:39.749Z"
   },
   {
    "duration": 287,
    "start_time": "2023-07-21T13:44:39.828Z"
   },
   {
    "duration": 4,
    "start_time": "2023-07-21T13:44:40.117Z"
   },
   {
    "duration": 60,
    "start_time": "2023-07-21T13:44:40.123Z"
   },
   {
    "duration": 92,
    "start_time": "2023-07-21T13:44:40.185Z"
   },
   {
    "duration": 315,
    "start_time": "2023-07-21T13:44:40.279Z"
   },
   {
    "duration": 12,
    "start_time": "2023-07-21T13:44:40.596Z"
   },
   {
    "duration": 6,
    "start_time": "2023-07-21T13:45:03.083Z"
   },
   {
    "duration": 16,
    "start_time": "2023-07-21T13:45:10.549Z"
   },
   {
    "duration": 6,
    "start_time": "2023-07-21T13:45:15.660Z"
   },
   {
    "duration": 1434,
    "start_time": "2023-07-21T13:45:15.669Z"
   },
   {
    "duration": 121,
    "start_time": "2023-07-21T13:45:17.105Z"
   },
   {
    "duration": 313,
    "start_time": "2023-07-21T13:45:17.229Z"
   },
   {
    "duration": 382,
    "start_time": "2023-07-21T13:45:17.545Z"
   },
   {
    "duration": 124,
    "start_time": "2023-07-21T13:45:17.929Z"
   },
   {
    "duration": 4,
    "start_time": "2023-07-21T13:45:18.055Z"
   },
   {
    "duration": 66,
    "start_time": "2023-07-21T13:45:18.061Z"
   },
   {
    "duration": 261,
    "start_time": "2023-07-21T13:45:18.130Z"
   },
   {
    "duration": 39,
    "start_time": "2023-07-21T13:45:18.394Z"
   },
   {
    "duration": 164,
    "start_time": "2023-07-21T13:45:18.435Z"
   },
   {
    "duration": 29,
    "start_time": "2023-07-21T13:45:18.601Z"
   },
   {
    "duration": 52,
    "start_time": "2023-07-21T13:45:18.632Z"
   },
   {
    "duration": 40,
    "start_time": "2023-07-21T13:45:18.686Z"
   },
   {
    "duration": 124,
    "start_time": "2023-07-21T13:45:18.732Z"
   },
   {
    "duration": 26,
    "start_time": "2023-07-21T13:45:18.858Z"
   },
   {
    "duration": 266,
    "start_time": "2023-07-21T13:45:18.887Z"
   },
   {
    "duration": 30,
    "start_time": "2023-07-21T13:45:19.156Z"
   },
   {
    "duration": 174,
    "start_time": "2023-07-21T13:45:19.188Z"
   },
   {
    "duration": 29,
    "start_time": "2023-07-21T13:45:19.365Z"
   },
   {
    "duration": 49,
    "start_time": "2023-07-21T13:45:19.409Z"
   },
   {
    "duration": 119,
    "start_time": "2023-07-21T13:45:19.460Z"
   },
   {
    "duration": 55,
    "start_time": "2023-07-21T13:45:19.581Z"
   },
   {
    "duration": 126,
    "start_time": "2023-07-21T13:45:19.638Z"
   },
   {
    "duration": 106,
    "start_time": "2023-07-21T13:45:19.765Z"
   },
   {
    "duration": 130,
    "start_time": "2023-07-21T13:45:19.873Z"
   },
   {
    "duration": 137,
    "start_time": "2023-07-21T13:45:20.006Z"
   },
   {
    "duration": 456,
    "start_time": "2023-07-21T13:45:20.147Z"
   },
   {
    "duration": 6,
    "start_time": "2023-07-21T13:45:20.605Z"
   },
   {
    "duration": 43,
    "start_time": "2023-07-21T13:45:20.613Z"
   },
   {
    "duration": 117,
    "start_time": "2023-07-21T13:45:20.659Z"
   },
   {
    "duration": 349,
    "start_time": "2023-07-21T13:45:23.233Z"
   },
   {
    "duration": 6,
    "start_time": "2023-07-21T13:45:26.238Z"
   },
   {
    "duration": 22,
    "start_time": "2023-07-21T13:45:47.215Z"
   },
   {
    "duration": 7,
    "start_time": "2023-07-21T13:45:49.946Z"
   },
   {
    "duration": 1144,
    "start_time": "2023-07-21T13:45:49.955Z"
   },
   {
    "duration": 240,
    "start_time": "2023-07-21T13:45:51.101Z"
   },
   {
    "duration": 303,
    "start_time": "2023-07-21T13:45:51.343Z"
   },
   {
    "duration": 361,
    "start_time": "2023-07-21T13:45:51.649Z"
   },
   {
    "duration": 119,
    "start_time": "2023-07-21T13:45:52.012Z"
   },
   {
    "duration": 3,
    "start_time": "2023-07-21T13:45:52.134Z"
   },
   {
    "duration": 40,
    "start_time": "2023-07-21T13:45:52.139Z"
   },
   {
    "duration": 224,
    "start_time": "2023-07-21T13:45:52.181Z"
   },
   {
    "duration": 27,
    "start_time": "2023-07-21T13:45:52.409Z"
   },
   {
    "duration": 124,
    "start_time": "2023-07-21T13:45:52.438Z"
   },
   {
    "duration": 16,
    "start_time": "2023-07-21T13:45:52.565Z"
   },
   {
    "duration": 57,
    "start_time": "2023-07-21T13:45:52.583Z"
   },
   {
    "duration": 29,
    "start_time": "2023-07-21T13:45:52.644Z"
   },
   {
    "duration": 112,
    "start_time": "2023-07-21T13:45:52.675Z"
   },
   {
    "duration": 28,
    "start_time": "2023-07-21T13:45:52.789Z"
   },
   {
    "duration": 179,
    "start_time": "2023-07-21T13:45:52.819Z"
   },
   {
    "duration": 36,
    "start_time": "2023-07-21T13:45:52.999Z"
   },
   {
    "duration": 115,
    "start_time": "2023-07-21T13:45:53.037Z"
   },
   {
    "duration": 15,
    "start_time": "2023-07-21T13:45:53.153Z"
   },
   {
    "duration": 28,
    "start_time": "2023-07-21T13:45:53.169Z"
   },
   {
    "duration": 91,
    "start_time": "2023-07-21T13:45:53.208Z"
   },
   {
    "duration": 45,
    "start_time": "2023-07-21T13:45:53.302Z"
   },
   {
    "duration": 127,
    "start_time": "2023-07-21T13:45:53.349Z"
   },
   {
    "duration": 99,
    "start_time": "2023-07-21T13:45:53.477Z"
   },
   {
    "duration": 57,
    "start_time": "2023-07-21T13:45:53.579Z"
   },
   {
    "duration": 85,
    "start_time": "2023-07-21T13:45:53.638Z"
   },
   {
    "duration": 256,
    "start_time": "2023-07-21T13:45:53.725Z"
   },
   {
    "duration": 5,
    "start_time": "2023-07-21T13:45:53.983Z"
   },
   {
    "duration": 38,
    "start_time": "2023-07-21T13:45:53.990Z"
   },
   {
    "duration": 57,
    "start_time": "2023-07-21T13:45:54.031Z"
   },
   {
    "duration": 343,
    "start_time": "2023-07-21T13:45:54.090Z"
   },
   {
    "duration": 18,
    "start_time": "2023-07-21T13:45:56.588Z"
   },
   {
    "duration": 5,
    "start_time": "2023-07-21T13:46:05.610Z"
   },
   {
    "duration": 1214,
    "start_time": "2023-07-21T13:46:05.618Z"
   },
   {
    "duration": 111,
    "start_time": "2023-07-21T13:46:06.834Z"
   },
   {
    "duration": 301,
    "start_time": "2023-07-21T13:46:06.948Z"
   },
   {
    "duration": 355,
    "start_time": "2023-07-21T13:46:07.251Z"
   },
   {
    "duration": 108,
    "start_time": "2023-07-21T13:46:07.609Z"
   },
   {
    "duration": 3,
    "start_time": "2023-07-21T13:46:07.719Z"
   },
   {
    "duration": 45,
    "start_time": "2023-07-21T13:46:07.724Z"
   },
   {
    "duration": 228,
    "start_time": "2023-07-21T13:46:07.773Z"
   },
   {
    "duration": 34,
    "start_time": "2023-07-21T13:46:08.004Z"
   },
   {
    "duration": 111,
    "start_time": "2023-07-21T13:46:08.040Z"
   },
   {
    "duration": 18,
    "start_time": "2023-07-21T13:46:08.153Z"
   },
   {
    "duration": 42,
    "start_time": "2023-07-21T13:46:08.173Z"
   },
   {
    "duration": 27,
    "start_time": "2023-07-21T13:46:08.217Z"
   },
   {
    "duration": 109,
    "start_time": "2023-07-21T13:46:08.247Z"
   },
   {
    "duration": 17,
    "start_time": "2023-07-21T13:46:08.358Z"
   },
   {
    "duration": 185,
    "start_time": "2023-07-21T13:46:08.377Z"
   },
   {
    "duration": 26,
    "start_time": "2023-07-21T13:46:08.564Z"
   },
   {
    "duration": 108,
    "start_time": "2023-07-21T13:46:08.592Z"
   },
   {
    "duration": 17,
    "start_time": "2023-07-21T13:46:08.709Z"
   },
   {
    "duration": 42,
    "start_time": "2023-07-21T13:46:08.728Z"
   },
   {
    "duration": 84,
    "start_time": "2023-07-21T13:46:08.772Z"
   },
   {
    "duration": 27,
    "start_time": "2023-07-21T13:46:08.858Z"
   },
   {
    "duration": 98,
    "start_time": "2023-07-21T13:46:08.888Z"
   },
   {
    "duration": 88,
    "start_time": "2023-07-21T13:46:08.987Z"
   },
   {
    "duration": 50,
    "start_time": "2023-07-21T13:46:09.076Z"
   },
   {
    "duration": 60,
    "start_time": "2023-07-21T13:46:09.128Z"
   },
   {
    "duration": 290,
    "start_time": "2023-07-21T13:46:09.190Z"
   },
   {
    "duration": 5,
    "start_time": "2023-07-21T13:46:09.482Z"
   },
   {
    "duration": 40,
    "start_time": "2023-07-21T13:46:09.490Z"
   },
   {
    "duration": 56,
    "start_time": "2023-07-21T13:46:09.532Z"
   },
   {
    "duration": 330,
    "start_time": "2023-07-21T13:46:09.590Z"
   },
   {
    "duration": 7,
    "start_time": "2023-07-21T13:46:12.706Z"
   },
   {
    "duration": 94,
    "start_time": "2023-07-21T13:46:20.439Z"
   },
   {
    "duration": 7,
    "start_time": "2023-07-21T13:46:22.394Z"
   },
   {
    "duration": 5,
    "start_time": "2023-07-21T13:46:33.565Z"
   },
   {
    "duration": 119,
    "start_time": "2023-07-21T13:47:47.766Z"
   },
   {
    "duration": 16,
    "start_time": "2023-07-21T13:48:07.614Z"
   },
   {
    "duration": 5,
    "start_time": "2023-07-21T13:48:36.650Z"
   },
   {
    "duration": 1081,
    "start_time": "2023-07-21T13:48:36.658Z"
   },
   {
    "duration": 108,
    "start_time": "2023-07-21T13:48:37.741Z"
   },
   {
    "duration": 300,
    "start_time": "2023-07-21T13:48:37.851Z"
   },
   {
    "duration": 317,
    "start_time": "2023-07-21T13:48:38.153Z"
   },
   {
    "duration": 111,
    "start_time": "2023-07-21T13:48:38.472Z"
   },
   {
    "duration": 4,
    "start_time": "2023-07-21T13:48:38.584Z"
   },
   {
    "duration": 44,
    "start_time": "2023-07-21T13:48:38.590Z"
   },
   {
    "duration": 228,
    "start_time": "2023-07-21T13:48:38.636Z"
   },
   {
    "duration": 31,
    "start_time": "2023-07-21T13:48:38.866Z"
   },
   {
    "duration": 116,
    "start_time": "2023-07-21T13:48:38.899Z"
   },
   {
    "duration": 17,
    "start_time": "2023-07-21T13:48:39.017Z"
   },
   {
    "duration": 40,
    "start_time": "2023-07-21T13:48:39.035Z"
   },
   {
    "duration": 32,
    "start_time": "2023-07-21T13:48:39.078Z"
   },
   {
    "duration": 98,
    "start_time": "2023-07-21T13:48:39.112Z"
   },
   {
    "duration": 17,
    "start_time": "2023-07-21T13:48:39.211Z"
   },
   {
    "duration": 182,
    "start_time": "2023-07-21T13:48:39.229Z"
   },
   {
    "duration": 33,
    "start_time": "2023-07-21T13:48:39.413Z"
   },
   {
    "duration": 134,
    "start_time": "2023-07-21T13:48:39.449Z"
   },
   {
    "duration": 25,
    "start_time": "2023-07-21T13:48:39.586Z"
   },
   {
    "duration": 27,
    "start_time": "2023-07-21T13:48:39.613Z"
   },
   {
    "duration": 101,
    "start_time": "2023-07-21T13:48:39.642Z"
   },
   {
    "duration": 42,
    "start_time": "2023-07-21T13:48:39.745Z"
   },
   {
    "duration": 134,
    "start_time": "2023-07-21T13:48:39.790Z"
   },
   {
    "duration": 106,
    "start_time": "2023-07-21T13:48:39.926Z"
   },
   {
    "duration": 42,
    "start_time": "2023-07-21T13:48:40.034Z"
   },
   {
    "duration": 67,
    "start_time": "2023-07-21T13:48:40.079Z"
   },
   {
    "duration": 265,
    "start_time": "2023-07-21T13:48:40.148Z"
   },
   {
    "duration": 5,
    "start_time": "2023-07-21T13:48:40.415Z"
   },
   {
    "duration": 32,
    "start_time": "2023-07-21T13:48:40.422Z"
   },
   {
    "duration": 55,
    "start_time": "2023-07-21T13:48:40.456Z"
   },
   {
    "duration": 319,
    "start_time": "2023-07-21T13:48:40.513Z"
   },
   {
    "duration": 5,
    "start_time": "2023-07-21T13:48:40.834Z"
   },
   {
    "duration": 89,
    "start_time": "2023-07-21T13:48:43.655Z"
   },
   {
    "duration": 5,
    "start_time": "2023-07-21T13:48:48.049Z"
   },
   {
    "duration": 16,
    "start_time": "2023-07-21T13:48:53.080Z"
   },
   {
    "duration": 81,
    "start_time": "2023-07-21T13:49:42.670Z"
   },
   {
    "duration": 13,
    "start_time": "2023-07-21T13:49:44.709Z"
   },
   {
    "duration": 91,
    "start_time": "2023-07-21T13:50:05.446Z"
   },
   {
    "duration": 108,
    "start_time": "2023-07-21T13:51:13.859Z"
   },
   {
    "duration": 6,
    "start_time": "2023-07-21T13:52:17.166Z"
   },
   {
    "duration": 1098,
    "start_time": "2023-07-21T13:52:17.174Z"
   },
   {
    "duration": 111,
    "start_time": "2023-07-21T13:52:18.274Z"
   },
   {
    "duration": 303,
    "start_time": "2023-07-21T13:52:18.386Z"
   },
   {
    "duration": 342,
    "start_time": "2023-07-21T13:52:18.692Z"
   },
   {
    "duration": 119,
    "start_time": "2023-07-21T13:52:19.036Z"
   },
   {
    "duration": 4,
    "start_time": "2023-07-21T13:52:19.157Z"
   },
   {
    "duration": 79,
    "start_time": "2023-07-21T13:52:19.163Z"
   },
   {
    "duration": 261,
    "start_time": "2023-07-21T13:52:19.244Z"
   },
   {
    "duration": 30,
    "start_time": "2023-07-21T13:52:19.509Z"
   },
   {
    "duration": 131,
    "start_time": "2023-07-21T13:52:19.542Z"
   },
   {
    "duration": 35,
    "start_time": "2023-07-21T13:52:19.676Z"
   },
   {
    "duration": 33,
    "start_time": "2023-07-21T13:52:19.713Z"
   },
   {
    "duration": 27,
    "start_time": "2023-07-21T13:52:19.749Z"
   },
   {
    "duration": 102,
    "start_time": "2023-07-21T13:52:19.778Z"
   },
   {
    "duration": 29,
    "start_time": "2023-07-21T13:52:19.882Z"
   },
   {
    "duration": 173,
    "start_time": "2023-07-21T13:52:19.913Z"
   },
   {
    "duration": 32,
    "start_time": "2023-07-21T13:52:20.088Z"
   },
   {
    "duration": 109,
    "start_time": "2023-07-21T13:52:20.122Z"
   },
   {
    "duration": 15,
    "start_time": "2023-07-21T13:52:20.234Z"
   },
   {
    "duration": 52,
    "start_time": "2023-07-21T13:52:20.251Z"
   },
   {
    "duration": 119,
    "start_time": "2023-07-21T13:52:20.305Z"
   },
   {
    "duration": 31,
    "start_time": "2023-07-21T13:52:20.427Z"
   },
   {
    "duration": 102,
    "start_time": "2023-07-21T13:52:20.460Z"
   },
   {
    "duration": 107,
    "start_time": "2023-07-21T13:52:20.565Z"
   },
   {
    "duration": 47,
    "start_time": "2023-07-21T13:52:20.674Z"
   },
   {
    "duration": 59,
    "start_time": "2023-07-21T13:52:20.723Z"
   },
   {
    "duration": 276,
    "start_time": "2023-07-21T13:52:20.784Z"
   },
   {
    "duration": 4,
    "start_time": "2023-07-21T13:52:21.062Z"
   },
   {
    "duration": 59,
    "start_time": "2023-07-21T13:52:21.068Z"
   },
   {
    "duration": 85,
    "start_time": "2023-07-21T13:52:21.129Z"
   },
   {
    "duration": 330,
    "start_time": "2023-07-21T13:52:21.215Z"
   },
   {
    "duration": 5,
    "start_time": "2023-07-21T13:52:21.547Z"
   },
   {
    "duration": 174,
    "start_time": "2023-07-21T13:52:30.545Z"
   },
   {
    "duration": 16,
    "start_time": "2023-07-21T13:52:51.277Z"
   },
   {
    "duration": 5,
    "start_time": "2023-07-21T13:53:11.434Z"
   },
   {
    "duration": 1119,
    "start_time": "2023-07-21T13:53:11.441Z"
   },
   {
    "duration": 110,
    "start_time": "2023-07-21T13:53:12.562Z"
   },
   {
    "duration": 299,
    "start_time": "2023-07-21T13:53:12.674Z"
   },
   {
    "duration": 326,
    "start_time": "2023-07-21T13:53:12.976Z"
   },
   {
    "duration": 106,
    "start_time": "2023-07-21T13:53:13.303Z"
   },
   {
    "duration": 3,
    "start_time": "2023-07-21T13:53:13.412Z"
   },
   {
    "duration": 46,
    "start_time": "2023-07-21T13:53:13.417Z"
   },
   {
    "duration": 353,
    "start_time": "2023-07-21T13:53:13.465Z"
   },
   {
    "duration": 27,
    "start_time": "2023-07-21T13:53:13.819Z"
   },
   {
    "duration": 110,
    "start_time": "2023-07-21T13:53:13.848Z"
   },
   {
    "duration": 18,
    "start_time": "2023-07-21T13:53:13.960Z"
   },
   {
    "duration": 46,
    "start_time": "2023-07-21T13:53:13.980Z"
   },
   {
    "duration": 60,
    "start_time": "2023-07-21T13:53:14.029Z"
   },
   {
    "duration": 104,
    "start_time": "2023-07-21T13:53:14.091Z"
   },
   {
    "duration": 17,
    "start_time": "2023-07-21T13:53:14.197Z"
   },
   {
    "duration": 201,
    "start_time": "2023-07-21T13:53:14.216Z"
   },
   {
    "duration": 23,
    "start_time": "2023-07-21T13:53:14.419Z"
   },
   {
    "duration": 112,
    "start_time": "2023-07-21T13:53:14.444Z"
   },
   {
    "duration": 15,
    "start_time": "2023-07-21T13:53:14.558Z"
   },
   {
    "duration": 64,
    "start_time": "2023-07-21T13:53:14.575Z"
   },
   {
    "duration": 115,
    "start_time": "2023-07-21T13:53:14.640Z"
   },
   {
    "duration": 52,
    "start_time": "2023-07-21T13:53:14.757Z"
   },
   {
    "duration": 108,
    "start_time": "2023-07-21T13:53:14.811Z"
   },
   {
    "duration": 98,
    "start_time": "2023-07-21T13:53:14.921Z"
   },
   {
    "duration": 35,
    "start_time": "2023-07-21T13:53:15.021Z"
   },
   {
    "duration": 77,
    "start_time": "2023-07-21T13:53:15.058Z"
   },
   {
    "duration": 264,
    "start_time": "2023-07-21T13:53:15.137Z"
   },
   {
    "duration": 7,
    "start_time": "2023-07-21T13:53:15.403Z"
   },
   {
    "duration": 41,
    "start_time": "2023-07-21T13:53:15.412Z"
   },
   {
    "duration": 77,
    "start_time": "2023-07-21T13:53:15.455Z"
   },
   {
    "duration": 352,
    "start_time": "2023-07-21T13:53:15.534Z"
   },
   {
    "duration": 7,
    "start_time": "2023-07-21T13:53:15.888Z"
   },
   {
    "duration": 110,
    "start_time": "2023-07-21T13:53:19.012Z"
   },
   {
    "duration": 16,
    "start_time": "2023-07-21T13:53:48.892Z"
   },
   {
    "duration": 6,
    "start_time": "2023-07-21T13:54:00.904Z"
   },
   {
    "duration": 1189,
    "start_time": "2023-07-21T13:54:00.912Z"
   },
   {
    "duration": 108,
    "start_time": "2023-07-21T13:54:02.103Z"
   },
   {
    "duration": 333,
    "start_time": "2023-07-21T13:54:02.214Z"
   },
   {
    "duration": 360,
    "start_time": "2023-07-21T13:54:02.549Z"
   },
   {
    "duration": 106,
    "start_time": "2023-07-21T13:54:02.911Z"
   },
   {
    "duration": 5,
    "start_time": "2023-07-21T13:54:03.019Z"
   },
   {
    "duration": 90,
    "start_time": "2023-07-21T13:54:03.026Z"
   },
   {
    "duration": 222,
    "start_time": "2023-07-21T13:54:03.118Z"
   },
   {
    "duration": 26,
    "start_time": "2023-07-21T13:54:03.342Z"
   },
   {
    "duration": 109,
    "start_time": "2023-07-21T13:54:03.370Z"
   },
   {
    "duration": 30,
    "start_time": "2023-07-21T13:54:03.481Z"
   },
   {
    "duration": 29,
    "start_time": "2023-07-21T13:54:03.513Z"
   },
   {
    "duration": 44,
    "start_time": "2023-07-21T13:54:03.544Z"
   },
   {
    "duration": 97,
    "start_time": "2023-07-21T13:54:03.590Z"
   },
   {
    "duration": 24,
    "start_time": "2023-07-21T13:54:03.689Z"
   },
   {
    "duration": 212,
    "start_time": "2023-07-21T13:54:03.714Z"
   },
   {
    "duration": 25,
    "start_time": "2023-07-21T13:54:03.928Z"
   },
   {
    "duration": 119,
    "start_time": "2023-07-21T13:54:03.955Z"
   },
   {
    "duration": 34,
    "start_time": "2023-07-21T13:54:04.076Z"
   },
   {
    "duration": 21,
    "start_time": "2023-07-21T13:54:04.112Z"
   },
   {
    "duration": 132,
    "start_time": "2023-07-21T13:54:04.136Z"
   },
   {
    "duration": 41,
    "start_time": "2023-07-21T13:54:04.271Z"
   },
   {
    "duration": 109,
    "start_time": "2023-07-21T13:54:04.314Z"
   },
   {
    "duration": 93,
    "start_time": "2023-07-21T13:54:04.425Z"
   },
   {
    "duration": 36,
    "start_time": "2023-07-21T13:54:04.520Z"
   },
   {
    "duration": 76,
    "start_time": "2023-07-21T13:54:04.558Z"
   },
   {
    "duration": 262,
    "start_time": "2023-07-21T13:54:04.639Z"
   },
   {
    "duration": 9,
    "start_time": "2023-07-21T13:54:04.903Z"
   },
   {
    "duration": 32,
    "start_time": "2023-07-21T13:54:04.914Z"
   },
   {
    "duration": 57,
    "start_time": "2023-07-21T13:54:04.948Z"
   },
   {
    "duration": 330,
    "start_time": "2023-07-21T13:54:05.007Z"
   },
   {
    "duration": 5,
    "start_time": "2023-07-21T13:54:05.339Z"
   },
   {
    "duration": 168,
    "start_time": "2023-07-21T13:54:05.346Z"
   },
   {
    "duration": 0,
    "start_time": "2023-07-21T13:54:05.516Z"
   },
   {
    "duration": 0,
    "start_time": "2023-07-21T13:54:05.518Z"
   },
   {
    "duration": 0,
    "start_time": "2023-07-21T13:54:05.520Z"
   },
   {
    "duration": 0,
    "start_time": "2023-07-21T13:54:05.521Z"
   },
   {
    "duration": 0,
    "start_time": "2023-07-21T13:54:05.523Z"
   },
   {
    "duration": 0,
    "start_time": "2023-07-21T13:54:05.525Z"
   },
   {
    "duration": 0,
    "start_time": "2023-07-21T13:54:05.526Z"
   },
   {
    "duration": 0,
    "start_time": "2023-07-21T13:54:05.527Z"
   },
   {
    "duration": 0,
    "start_time": "2023-07-21T13:54:05.529Z"
   },
   {
    "duration": 0,
    "start_time": "2023-07-21T13:54:05.531Z"
   },
   {
    "duration": 0,
    "start_time": "2023-07-21T13:54:05.533Z"
   },
   {
    "duration": 17,
    "start_time": "2023-07-21T13:54:21.248Z"
   },
   {
    "duration": 5,
    "start_time": "2023-07-21T13:54:52.749Z"
   },
   {
    "duration": 1075,
    "start_time": "2023-07-21T13:54:52.757Z"
   },
   {
    "duration": 109,
    "start_time": "2023-07-21T13:54:53.833Z"
   },
   {
    "duration": 309,
    "start_time": "2023-07-21T13:54:53.944Z"
   },
   {
    "duration": 359,
    "start_time": "2023-07-21T13:54:54.256Z"
   },
   {
    "duration": 103,
    "start_time": "2023-07-21T13:54:54.617Z"
   },
   {
    "duration": 4,
    "start_time": "2023-07-21T13:54:54.722Z"
   },
   {
    "duration": 38,
    "start_time": "2023-07-21T13:54:54.727Z"
   },
   {
    "duration": 197,
    "start_time": "2023-07-21T13:54:54.767Z"
   },
   {
    "duration": 26,
    "start_time": "2023-07-21T13:54:54.965Z"
   },
   {
    "duration": 100,
    "start_time": "2023-07-21T13:54:54.993Z"
   },
   {
    "duration": 19,
    "start_time": "2023-07-21T13:54:55.094Z"
   },
   {
    "duration": 33,
    "start_time": "2023-07-21T13:54:55.115Z"
   },
   {
    "duration": 83,
    "start_time": "2023-07-21T13:54:55.151Z"
   },
   {
    "duration": 112,
    "start_time": "2023-07-21T13:54:55.236Z"
   },
   {
    "duration": 15,
    "start_time": "2023-07-21T13:54:55.349Z"
   },
   {
    "duration": 180,
    "start_time": "2023-07-21T13:54:55.366Z"
   },
   {
    "duration": 76,
    "start_time": "2023-07-21T13:54:55.547Z"
   },
   {
    "duration": 105,
    "start_time": "2023-07-21T13:54:55.625Z"
   },
   {
    "duration": 14,
    "start_time": "2023-07-21T13:54:55.731Z"
   },
   {
    "duration": 69,
    "start_time": "2023-07-21T13:54:55.747Z"
   },
   {
    "duration": 131,
    "start_time": "2023-07-21T13:54:55.818Z"
   },
   {
    "duration": 42,
    "start_time": "2023-07-21T13:54:55.952Z"
   },
   {
    "duration": 201,
    "start_time": "2023-07-21T13:54:55.996Z"
   },
   {
    "duration": 115,
    "start_time": "2023-07-21T13:54:56.200Z"
   },
   {
    "duration": 54,
    "start_time": "2023-07-21T13:54:56.317Z"
   },
   {
    "duration": 58,
    "start_time": "2023-07-21T13:54:56.373Z"
   },
   {
    "duration": 269,
    "start_time": "2023-07-21T13:54:56.432Z"
   },
   {
    "duration": 7,
    "start_time": "2023-07-21T13:54:56.703Z"
   },
   {
    "duration": 46,
    "start_time": "2023-07-21T13:54:56.712Z"
   },
   {
    "duration": 60,
    "start_time": "2023-07-21T13:54:56.760Z"
   },
   {
    "duration": 335,
    "start_time": "2023-07-21T13:54:56.822Z"
   },
   {
    "duration": 5,
    "start_time": "2023-07-21T13:54:57.159Z"
   },
   {
    "duration": 118,
    "start_time": "2023-07-21T13:55:00.873Z"
   },
   {
    "duration": 5,
    "start_time": "2023-07-21T13:55:45.462Z"
   },
   {
    "duration": 1263,
    "start_time": "2023-07-21T13:55:45.469Z"
   },
   {
    "duration": 106,
    "start_time": "2023-07-21T13:55:46.734Z"
   },
   {
    "duration": 283,
    "start_time": "2023-07-21T13:55:46.842Z"
   },
   {
    "duration": 320,
    "start_time": "2023-07-21T13:55:47.127Z"
   },
   {
    "duration": 105,
    "start_time": "2023-07-21T13:55:47.449Z"
   },
   {
    "duration": 3,
    "start_time": "2023-07-21T13:55:47.556Z"
   },
   {
    "duration": 40,
    "start_time": "2023-07-21T13:55:47.561Z"
   },
   {
    "duration": 231,
    "start_time": "2023-07-21T13:55:47.603Z"
   },
   {
    "duration": 27,
    "start_time": "2023-07-21T13:55:47.837Z"
   },
   {
    "duration": 108,
    "start_time": "2023-07-21T13:55:47.866Z"
   },
   {
    "duration": 17,
    "start_time": "2023-07-21T13:55:47.975Z"
   },
   {
    "duration": 39,
    "start_time": "2023-07-21T13:55:48.008Z"
   },
   {
    "duration": 39,
    "start_time": "2023-07-21T13:55:48.049Z"
   },
   {
    "duration": 94,
    "start_time": "2023-07-21T13:55:48.090Z"
   },
   {
    "duration": 27,
    "start_time": "2023-07-21T13:55:48.186Z"
   },
   {
    "duration": 185,
    "start_time": "2023-07-21T13:55:48.215Z"
   },
   {
    "duration": 28,
    "start_time": "2023-07-21T13:55:48.403Z"
   },
   {
    "duration": 103,
    "start_time": "2023-07-21T13:55:48.433Z"
   },
   {
    "duration": 14,
    "start_time": "2023-07-21T13:55:48.538Z"
   },
   {
    "duration": 30,
    "start_time": "2023-07-21T13:55:48.554Z"
   },
   {
    "duration": 92,
    "start_time": "2023-07-21T13:55:48.586Z"
   },
   {
    "duration": 42,
    "start_time": "2023-07-21T13:55:48.680Z"
   },
   {
    "duration": 97,
    "start_time": "2023-07-21T13:55:48.724Z"
   },
   {
    "duration": 97,
    "start_time": "2023-07-21T13:55:48.823Z"
   },
   {
    "duration": 35,
    "start_time": "2023-07-21T13:55:48.922Z"
   },
   {
    "duration": 73,
    "start_time": "2023-07-21T13:55:48.959Z"
   },
   {
    "duration": 264,
    "start_time": "2023-07-21T13:55:49.036Z"
   },
   {
    "duration": 8,
    "start_time": "2023-07-21T13:55:49.302Z"
   },
   {
    "duration": 40,
    "start_time": "2023-07-21T13:55:49.312Z"
   },
   {
    "duration": 76,
    "start_time": "2023-07-21T13:55:49.354Z"
   },
   {
    "duration": 338,
    "start_time": "2023-07-21T13:55:49.432Z"
   },
   {
    "duration": 6,
    "start_time": "2023-07-21T13:55:49.772Z"
   },
   {
    "duration": 162,
    "start_time": "2023-07-21T13:55:51.958Z"
   },
   {
    "duration": 70,
    "start_time": "2023-07-21T13:56:35.668Z"
   },
   {
    "duration": 23,
    "start_time": "2023-07-21T13:57:34.176Z"
   },
   {
    "duration": 7,
    "start_time": "2023-07-21T13:57:59.911Z"
   },
   {
    "duration": 1160,
    "start_time": "2023-07-21T13:57:59.921Z"
   },
   {
    "duration": 114,
    "start_time": "2023-07-21T13:58:01.083Z"
   },
   {
    "duration": 471,
    "start_time": "2023-07-21T13:58:01.209Z"
   },
   {
    "duration": 350,
    "start_time": "2023-07-21T13:58:01.683Z"
   },
   {
    "duration": 113,
    "start_time": "2023-07-21T13:58:02.035Z"
   },
   {
    "duration": 15,
    "start_time": "2023-07-21T13:58:02.152Z"
   },
   {
    "duration": 81,
    "start_time": "2023-07-21T13:58:02.172Z"
   },
   {
    "duration": 276,
    "start_time": "2023-07-21T13:58:02.255Z"
   },
   {
    "duration": 26,
    "start_time": "2023-07-21T13:58:02.534Z"
   },
   {
    "duration": 113,
    "start_time": "2023-07-21T13:58:02.562Z"
   },
   {
    "duration": 36,
    "start_time": "2023-07-21T13:58:02.677Z"
   },
   {
    "duration": 35,
    "start_time": "2023-07-21T13:58:02.715Z"
   },
   {
    "duration": 51,
    "start_time": "2023-07-21T13:58:02.752Z"
   },
   {
    "duration": 102,
    "start_time": "2023-07-21T13:58:02.806Z"
   },
   {
    "duration": 17,
    "start_time": "2023-07-21T13:58:02.910Z"
   },
   {
    "duration": 179,
    "start_time": "2023-07-21T13:58:02.929Z"
   },
   {
    "duration": 25,
    "start_time": "2023-07-21T13:58:03.110Z"
   },
   {
    "duration": 112,
    "start_time": "2023-07-21T13:58:03.137Z"
   },
   {
    "duration": 25,
    "start_time": "2023-07-21T13:58:03.251Z"
   },
   {
    "duration": 51,
    "start_time": "2023-07-21T13:58:03.279Z"
   },
   {
    "duration": 97,
    "start_time": "2023-07-21T13:58:03.333Z"
   },
   {
    "duration": 28,
    "start_time": "2023-07-21T13:58:03.432Z"
   },
   {
    "duration": 106,
    "start_time": "2023-07-21T13:58:03.463Z"
   },
   {
    "duration": 100,
    "start_time": "2023-07-21T13:58:03.571Z"
   },
   {
    "duration": 56,
    "start_time": "2023-07-21T13:58:03.673Z"
   },
   {
    "duration": 59,
    "start_time": "2023-07-21T13:58:03.731Z"
   },
   {
    "duration": 286,
    "start_time": "2023-07-21T13:58:03.810Z"
   },
   {
    "duration": 11,
    "start_time": "2023-07-21T13:58:04.098Z"
   },
   {
    "duration": 28,
    "start_time": "2023-07-21T13:58:04.111Z"
   },
   {
    "duration": 56,
    "start_time": "2023-07-21T13:58:04.141Z"
   },
   {
    "duration": 352,
    "start_time": "2023-07-21T13:58:04.198Z"
   },
   {
    "duration": 6,
    "start_time": "2023-07-21T13:58:04.552Z"
   },
   {
    "duration": 76,
    "start_time": "2023-07-21T13:58:04.560Z"
   },
   {
    "duration": 150,
    "start_time": "2023-07-21T13:58:20.747Z"
   },
   {
    "duration": 80,
    "start_time": "2023-07-21T13:59:08.047Z"
   },
   {
    "duration": 27,
    "start_time": "2023-07-21T14:06:04.340Z"
   },
   {
    "duration": 6,
    "start_time": "2023-07-21T14:06:12.934Z"
   },
   {
    "duration": 1111,
    "start_time": "2023-07-21T14:06:12.943Z"
   },
   {
    "duration": 110,
    "start_time": "2023-07-21T14:06:14.056Z"
   },
   {
    "duration": 296,
    "start_time": "2023-07-21T14:06:14.168Z"
   },
   {
    "duration": 342,
    "start_time": "2023-07-21T14:06:14.466Z"
   },
   {
    "duration": 111,
    "start_time": "2023-07-21T14:06:14.810Z"
   },
   {
    "duration": 3,
    "start_time": "2023-07-21T14:06:14.924Z"
   },
   {
    "duration": 47,
    "start_time": "2023-07-21T14:06:14.929Z"
   },
   {
    "duration": 234,
    "start_time": "2023-07-21T14:06:14.978Z"
   },
   {
    "duration": 26,
    "start_time": "2023-07-21T14:06:15.214Z"
   },
   {
    "duration": 110,
    "start_time": "2023-07-21T14:06:15.242Z"
   },
   {
    "duration": 16,
    "start_time": "2023-07-21T14:06:15.354Z"
   },
   {
    "duration": 41,
    "start_time": "2023-07-21T14:06:15.372Z"
   },
   {
    "duration": 119,
    "start_time": "2023-07-21T14:06:15.416Z"
   },
   {
    "duration": 95,
    "start_time": "2023-07-21T14:06:15.537Z"
   },
   {
    "duration": 16,
    "start_time": "2023-07-21T14:06:15.634Z"
   },
   {
    "duration": 198,
    "start_time": "2023-07-21T14:06:15.651Z"
   },
   {
    "duration": 27,
    "start_time": "2023-07-21T14:06:15.851Z"
   },
   {
    "duration": 117,
    "start_time": "2023-07-21T14:06:15.883Z"
   },
   {
    "duration": 19,
    "start_time": "2023-07-21T14:06:16.009Z"
   },
   {
    "duration": 64,
    "start_time": "2023-07-21T14:06:16.031Z"
   },
   {
    "duration": 92,
    "start_time": "2023-07-21T14:06:16.098Z"
   },
   {
    "duration": 28,
    "start_time": "2023-07-21T14:06:16.209Z"
   },
   {
    "duration": 103,
    "start_time": "2023-07-21T14:06:16.239Z"
   },
   {
    "duration": 96,
    "start_time": "2023-07-21T14:06:16.343Z"
   },
   {
    "duration": 35,
    "start_time": "2023-07-21T14:06:16.441Z"
   },
   {
    "duration": 73,
    "start_time": "2023-07-21T14:06:16.478Z"
   },
   {
    "duration": 258,
    "start_time": "2023-07-21T14:06:16.553Z"
   },
   {
    "duration": 4,
    "start_time": "2023-07-21T14:06:16.814Z"
   },
   {
    "duration": 32,
    "start_time": "2023-07-21T14:06:16.820Z"
   },
   {
    "duration": 62,
    "start_time": "2023-07-21T14:06:16.854Z"
   },
   {
    "duration": 337,
    "start_time": "2023-07-21T14:06:16.918Z"
   },
   {
    "duration": 7,
    "start_time": "2023-07-21T14:06:17.257Z"
   },
   {
    "duration": 77,
    "start_time": "2023-07-21T14:06:17.266Z"
   },
   {
    "duration": 145,
    "start_time": "2023-07-21T14:06:50.067Z"
   },
   {
    "duration": 44,
    "start_time": "2023-07-21T14:07:21.512Z"
   },
   {
    "duration": 31,
    "start_time": "2023-07-21T14:08:23.438Z"
   },
   {
    "duration": 33,
    "start_time": "2023-07-21T14:08:34.747Z"
   },
   {
    "duration": 6,
    "start_time": "2023-07-21T14:11:43.107Z"
   },
   {
    "duration": 1125,
    "start_time": "2023-07-21T14:11:43.115Z"
   },
   {
    "duration": 117,
    "start_time": "2023-07-21T14:11:44.242Z"
   },
   {
    "duration": 291,
    "start_time": "2023-07-21T14:11:44.361Z"
   },
   {
    "duration": 342,
    "start_time": "2023-07-21T14:11:44.655Z"
   },
   {
    "duration": 110,
    "start_time": "2023-07-21T14:11:44.999Z"
   },
   {
    "duration": 5,
    "start_time": "2023-07-21T14:11:45.111Z"
   },
   {
    "duration": 63,
    "start_time": "2023-07-21T14:11:45.118Z"
   },
   {
    "duration": 209,
    "start_time": "2023-07-21T14:11:45.183Z"
   },
   {
    "duration": 33,
    "start_time": "2023-07-21T14:11:45.394Z"
   },
   {
    "duration": 109,
    "start_time": "2023-07-21T14:11:45.429Z"
   },
   {
    "duration": 17,
    "start_time": "2023-07-21T14:11:45.540Z"
   },
   {
    "duration": 37,
    "start_time": "2023-07-21T14:11:45.558Z"
   },
   {
    "duration": 33,
    "start_time": "2023-07-21T14:11:45.598Z"
   },
   {
    "duration": 101,
    "start_time": "2023-07-21T14:11:45.633Z"
   },
   {
    "duration": 16,
    "start_time": "2023-07-21T14:11:45.736Z"
   },
   {
    "duration": 177,
    "start_time": "2023-07-21T14:11:45.754Z"
   },
   {
    "duration": 24,
    "start_time": "2023-07-21T14:11:45.933Z"
   },
   {
    "duration": 115,
    "start_time": "2023-07-21T14:11:45.959Z"
   },
   {
    "duration": 17,
    "start_time": "2023-07-21T14:11:46.077Z"
   },
   {
    "duration": 38,
    "start_time": "2023-07-21T14:11:46.097Z"
   },
   {
    "duration": 90,
    "start_time": "2023-07-21T14:11:46.137Z"
   },
   {
    "duration": 29,
    "start_time": "2023-07-21T14:11:46.229Z"
   },
   {
    "duration": 102,
    "start_time": "2023-07-21T14:11:46.260Z"
   },
   {
    "duration": 118,
    "start_time": "2023-07-21T14:11:46.364Z"
   },
   {
    "duration": 52,
    "start_time": "2023-07-21T14:11:46.484Z"
   },
   {
    "duration": 78,
    "start_time": "2023-07-21T14:11:46.539Z"
   },
   {
    "duration": 262,
    "start_time": "2023-07-21T14:11:46.619Z"
   },
   {
    "duration": 4,
    "start_time": "2023-07-21T14:11:46.883Z"
   },
   {
    "duration": 31,
    "start_time": "2023-07-21T14:11:46.888Z"
   },
   {
    "duration": 57,
    "start_time": "2023-07-21T14:11:46.921Z"
   },
   {
    "duration": 337,
    "start_time": "2023-07-21T14:11:46.979Z"
   },
   {
    "duration": 6,
    "start_time": "2023-07-21T14:11:47.318Z"
   },
   {
    "duration": 7,
    "start_time": "2023-07-21T14:20:15.842Z"
   },
   {
    "duration": 1161,
    "start_time": "2023-07-21T14:20:15.851Z"
   },
   {
    "duration": 108,
    "start_time": "2023-07-21T14:20:17.014Z"
   },
   {
    "duration": 287,
    "start_time": "2023-07-21T14:20:17.124Z"
   },
   {
    "duration": 325,
    "start_time": "2023-07-21T14:20:17.413Z"
   },
   {
    "duration": 113,
    "start_time": "2023-07-21T14:20:17.740Z"
   },
   {
    "duration": 4,
    "start_time": "2023-07-21T14:20:17.855Z"
   },
   {
    "duration": 40,
    "start_time": "2023-07-21T14:20:17.861Z"
   },
   {
    "duration": 260,
    "start_time": "2023-07-21T14:20:17.909Z"
   },
   {
    "duration": 26,
    "start_time": "2023-07-21T14:20:18.172Z"
   },
   {
    "duration": 151,
    "start_time": "2023-07-21T14:20:18.200Z"
   },
   {
    "duration": 33,
    "start_time": "2023-07-21T14:20:18.354Z"
   },
   {
    "duration": 110,
    "start_time": "2023-07-21T14:20:18.389Z"
   },
   {
    "duration": 27,
    "start_time": "2023-07-21T14:20:18.501Z"
   },
   {
    "duration": 101,
    "start_time": "2023-07-21T14:20:18.530Z"
   },
   {
    "duration": 16,
    "start_time": "2023-07-21T14:20:18.633Z"
   },
   {
    "duration": 320,
    "start_time": "2023-07-21T14:20:18.651Z"
   },
   {
    "duration": 35,
    "start_time": "2023-07-21T14:20:18.974Z"
   },
   {
    "duration": 100,
    "start_time": "2023-07-21T14:20:19.011Z"
   },
   {
    "duration": 16,
    "start_time": "2023-07-21T14:20:19.113Z"
   },
   {
    "duration": 35,
    "start_time": "2023-07-21T14:20:19.130Z"
   },
   {
    "duration": 92,
    "start_time": "2023-07-21T14:20:19.167Z"
   },
   {
    "duration": 28,
    "start_time": "2023-07-21T14:20:19.260Z"
   },
   {
    "duration": 102,
    "start_time": "2023-07-21T14:20:19.291Z"
   },
   {
    "duration": 128,
    "start_time": "2023-07-21T14:20:19.408Z"
   },
   {
    "duration": 35,
    "start_time": "2023-07-21T14:20:19.537Z"
   },
   {
    "duration": 70,
    "start_time": "2023-07-21T14:20:19.574Z"
   },
   {
    "duration": 297,
    "start_time": "2023-07-21T14:20:19.648Z"
   },
   {
    "duration": 3,
    "start_time": "2023-07-21T14:20:19.947Z"
   },
   {
    "duration": 52,
    "start_time": "2023-07-21T14:20:19.952Z"
   },
   {
    "duration": 72,
    "start_time": "2023-07-21T14:20:20.006Z"
   },
   {
    "duration": 17,
    "start_time": "2023-07-21T14:20:26.862Z"
   },
   {
    "duration": 5,
    "start_time": "2023-07-21T14:20:50.027Z"
   },
   {
    "duration": 1093,
    "start_time": "2023-07-21T14:20:50.035Z"
   },
   {
    "duration": 108,
    "start_time": "2023-07-21T14:20:51.130Z"
   },
   {
    "duration": 294,
    "start_time": "2023-07-21T14:20:51.240Z"
   },
   {
    "duration": 325,
    "start_time": "2023-07-21T14:20:51.537Z"
   },
   {
    "duration": 108,
    "start_time": "2023-07-21T14:20:51.864Z"
   },
   {
    "duration": 4,
    "start_time": "2023-07-21T14:20:51.975Z"
   },
   {
    "duration": 79,
    "start_time": "2023-07-21T14:20:51.981Z"
   },
   {
    "duration": 227,
    "start_time": "2023-07-21T14:20:52.061Z"
   },
   {
    "duration": 34,
    "start_time": "2023-07-21T14:20:52.290Z"
   },
   {
    "duration": 101,
    "start_time": "2023-07-21T14:20:52.327Z"
   },
   {
    "duration": 17,
    "start_time": "2023-07-21T14:20:52.430Z"
   },
   {
    "duration": 45,
    "start_time": "2023-07-21T14:20:52.450Z"
   },
   {
    "duration": 33,
    "start_time": "2023-07-21T14:20:52.497Z"
   },
   {
    "duration": 99,
    "start_time": "2023-07-21T14:20:52.532Z"
   },
   {
    "duration": 16,
    "start_time": "2023-07-21T14:20:52.633Z"
   },
   {
    "duration": 172,
    "start_time": "2023-07-21T14:20:52.651Z"
   },
   {
    "duration": 24,
    "start_time": "2023-07-21T14:20:52.825Z"
   },
   {
    "duration": 102,
    "start_time": "2023-07-21T14:20:52.851Z"
   },
   {
    "duration": 14,
    "start_time": "2023-07-21T14:20:52.955Z"
   },
   {
    "duration": 38,
    "start_time": "2023-07-21T14:20:52.971Z"
   },
   {
    "duration": 81,
    "start_time": "2023-07-21T14:20:53.011Z"
   },
   {
    "duration": 40,
    "start_time": "2023-07-21T14:20:53.094Z"
   },
   {
    "duration": 119,
    "start_time": "2023-07-21T14:20:53.136Z"
   },
   {
    "duration": 92,
    "start_time": "2023-07-21T14:20:53.257Z"
   },
   {
    "duration": 36,
    "start_time": "2023-07-21T14:20:53.351Z"
   },
   {
    "duration": 71,
    "start_time": "2023-07-21T14:20:53.389Z"
   },
   {
    "duration": 259,
    "start_time": "2023-07-21T14:20:53.462Z"
   },
   {
    "duration": 4,
    "start_time": "2023-07-21T14:20:53.723Z"
   },
   {
    "duration": 42,
    "start_time": "2023-07-21T14:20:53.729Z"
   },
   {
    "duration": 64,
    "start_time": "2023-07-21T14:20:53.773Z"
   },
   {
    "duration": 327,
    "start_time": "2023-07-21T14:20:53.839Z"
   },
   {
    "duration": 64,
    "start_time": "2023-07-21T14:20:58.147Z"
   },
   {
    "duration": 3,
    "start_time": "2023-07-21T14:23:16.607Z"
   },
   {
    "duration": 15,
    "start_time": "2023-07-21T14:24:30.774Z"
   },
   {
    "duration": 5,
    "start_time": "2023-07-21T14:24:45.089Z"
   },
   {
    "duration": 1198,
    "start_time": "2023-07-21T14:24:45.096Z"
   },
   {
    "duration": 99,
    "start_time": "2023-07-21T14:24:46.296Z"
   },
   {
    "duration": 300,
    "start_time": "2023-07-21T14:24:46.409Z"
   },
   {
    "duration": 348,
    "start_time": "2023-07-21T14:24:46.711Z"
   },
   {
    "duration": 103,
    "start_time": "2023-07-21T14:24:47.061Z"
   },
   {
    "duration": 3,
    "start_time": "2023-07-21T14:24:47.167Z"
   },
   {
    "duration": 44,
    "start_time": "2023-07-21T14:24:47.172Z"
   },
   {
    "duration": 222,
    "start_time": "2023-07-21T14:24:47.219Z"
   },
   {
    "duration": 26,
    "start_time": "2023-07-21T14:24:47.443Z"
   },
   {
    "duration": 107,
    "start_time": "2023-07-21T14:24:47.471Z"
   },
   {
    "duration": 16,
    "start_time": "2023-07-21T14:24:47.580Z"
   },
   {
    "duration": 37,
    "start_time": "2023-07-21T14:24:47.609Z"
   },
   {
    "duration": 37,
    "start_time": "2023-07-21T14:24:47.647Z"
   },
   {
    "duration": 88,
    "start_time": "2023-07-21T14:24:47.686Z"
   },
   {
    "duration": 17,
    "start_time": "2023-07-21T14:24:47.776Z"
   },
   {
    "duration": 187,
    "start_time": "2023-07-21T14:24:47.794Z"
   },
   {
    "duration": 35,
    "start_time": "2023-07-21T14:24:47.983Z"
   },
   {
    "duration": 94,
    "start_time": "2023-07-21T14:24:48.019Z"
   },
   {
    "duration": 14,
    "start_time": "2023-07-21T14:24:48.115Z"
   },
   {
    "duration": 49,
    "start_time": "2023-07-21T14:24:48.131Z"
   },
   {
    "duration": 104,
    "start_time": "2023-07-21T14:24:48.182Z"
   },
   {
    "duration": 39,
    "start_time": "2023-07-21T14:24:48.288Z"
   },
   {
    "duration": 97,
    "start_time": "2023-07-21T14:24:48.330Z"
   },
   {
    "duration": 93,
    "start_time": "2023-07-21T14:24:48.429Z"
   },
   {
    "duration": 35,
    "start_time": "2023-07-21T14:24:48.524Z"
   },
   {
    "duration": 75,
    "start_time": "2023-07-21T14:24:48.561Z"
   },
   {
    "duration": 257,
    "start_time": "2023-07-21T14:24:48.637Z"
   },
   {
    "duration": 3,
    "start_time": "2023-07-21T14:24:48.896Z"
   },
   {
    "duration": 16,
    "start_time": "2023-07-21T14:24:48.909Z"
   },
   {
    "duration": 52,
    "start_time": "2023-07-21T14:24:48.928Z"
   },
   {
    "duration": 506,
    "start_time": "2023-07-21T14:24:51.102Z"
   },
   {
    "duration": 24,
    "start_time": "2023-07-21T14:25:20.463Z"
   },
   {
    "duration": 409,
    "start_time": "2023-07-21T14:26:37.804Z"
   },
   {
    "duration": 66,
    "start_time": "2023-07-21T14:27:24.567Z"
   },
   {
    "duration": 70,
    "start_time": "2023-07-21T14:27:36.862Z"
   },
   {
    "duration": 54,
    "start_time": "2023-07-21T14:27:44.290Z"
   },
   {
    "duration": 708,
    "start_time": "2023-07-21T14:27:49.340Z"
   },
   {
    "duration": 23,
    "start_time": "2023-07-21T14:28:07.157Z"
   },
   {
    "duration": 24,
    "start_time": "2023-07-21T14:28:13.722Z"
   },
   {
    "duration": 5,
    "start_time": "2023-07-21T14:32:41.834Z"
   },
   {
    "duration": 5,
    "start_time": "2023-07-21T14:33:10.240Z"
   },
   {
    "duration": 1106,
    "start_time": "2023-07-21T14:33:10.247Z"
   },
   {
    "duration": 105,
    "start_time": "2023-07-21T14:33:11.357Z"
   },
   {
    "duration": 291,
    "start_time": "2023-07-21T14:33:11.464Z"
   },
   {
    "duration": 323,
    "start_time": "2023-07-21T14:33:11.757Z"
   },
   {
    "duration": 109,
    "start_time": "2023-07-21T14:33:12.082Z"
   },
   {
    "duration": 16,
    "start_time": "2023-07-21T14:33:12.193Z"
   },
   {
    "duration": 41,
    "start_time": "2023-07-21T14:33:12.211Z"
   },
   {
    "duration": 211,
    "start_time": "2023-07-21T14:33:12.255Z"
   },
   {
    "duration": 27,
    "start_time": "2023-07-21T14:33:12.469Z"
   },
   {
    "duration": 107,
    "start_time": "2023-07-21T14:33:12.509Z"
   },
   {
    "duration": 17,
    "start_time": "2023-07-21T14:33:12.618Z"
   },
   {
    "duration": 48,
    "start_time": "2023-07-21T14:33:12.637Z"
   },
   {
    "duration": 33,
    "start_time": "2023-07-21T14:33:12.687Z"
   },
   {
    "duration": 104,
    "start_time": "2023-07-21T14:33:12.722Z"
   },
   {
    "duration": 16,
    "start_time": "2023-07-21T14:33:12.828Z"
   },
   {
    "duration": 186,
    "start_time": "2023-07-21T14:33:12.845Z"
   },
   {
    "duration": 25,
    "start_time": "2023-07-21T14:33:13.033Z"
   },
   {
    "duration": 108,
    "start_time": "2023-07-21T14:33:13.060Z"
   },
   {
    "duration": 14,
    "start_time": "2023-07-21T14:33:13.170Z"
   },
   {
    "duration": 47,
    "start_time": "2023-07-21T14:33:13.186Z"
   },
   {
    "duration": 97,
    "start_time": "2023-07-21T14:33:13.234Z"
   },
   {
    "duration": 28,
    "start_time": "2023-07-21T14:33:13.333Z"
   },
   {
    "duration": 103,
    "start_time": "2023-07-21T14:33:13.364Z"
   },
   {
    "duration": 89,
    "start_time": "2023-07-21T14:33:13.468Z"
   },
   {
    "duration": 50,
    "start_time": "2023-07-21T14:33:13.559Z"
   },
   {
    "duration": 72,
    "start_time": "2023-07-21T14:33:13.611Z"
   },
   {
    "duration": 289,
    "start_time": "2023-07-21T14:33:13.685Z"
   },
   {
    "duration": 4,
    "start_time": "2023-07-21T14:33:13.977Z"
   },
   {
    "duration": 41,
    "start_time": "2023-07-21T14:33:13.984Z"
   },
   {
    "duration": 81,
    "start_time": "2023-07-21T14:33:14.027Z"
   },
   {
    "duration": 717,
    "start_time": "2023-07-21T14:33:14.110Z"
   },
   {
    "duration": 0,
    "start_time": "2023-07-21T14:33:14.829Z"
   },
   {
    "duration": 5,
    "start_time": "2023-07-21T14:33:30.225Z"
   },
   {
    "duration": 1086,
    "start_time": "2023-07-21T14:33:30.232Z"
   },
   {
    "duration": 115,
    "start_time": "2023-07-21T14:33:31.319Z"
   },
   {
    "duration": 313,
    "start_time": "2023-07-21T14:33:31.436Z"
   },
   {
    "duration": 357,
    "start_time": "2023-07-21T14:33:31.751Z"
   },
   {
    "duration": 112,
    "start_time": "2023-07-21T14:33:32.110Z"
   },
   {
    "duration": 26,
    "start_time": "2023-07-21T14:33:32.224Z"
   },
   {
    "duration": 209,
    "start_time": "2023-07-21T14:33:32.252Z"
   },
   {
    "duration": 407,
    "start_time": "2023-07-21T14:33:32.465Z"
   },
   {
    "duration": 27,
    "start_time": "2023-07-21T14:33:32.873Z"
   },
   {
    "duration": 127,
    "start_time": "2023-07-21T14:33:32.909Z"
   },
   {
    "duration": 17,
    "start_time": "2023-07-21T14:33:33.038Z"
   },
   {
    "duration": 74,
    "start_time": "2023-07-21T14:33:33.057Z"
   },
   {
    "duration": 72,
    "start_time": "2023-07-21T14:33:33.133Z"
   },
   {
    "duration": 105,
    "start_time": "2023-07-21T14:33:33.207Z"
   },
   {
    "duration": 16,
    "start_time": "2023-07-21T14:33:33.314Z"
   },
   {
    "duration": 330,
    "start_time": "2023-07-21T14:33:33.332Z"
   },
   {
    "duration": 25,
    "start_time": "2023-07-21T14:33:33.664Z"
   },
   {
    "duration": 207,
    "start_time": "2023-07-21T14:33:33.692Z"
   },
   {
    "duration": 21,
    "start_time": "2023-07-21T14:33:33.901Z"
   },
   {
    "duration": 96,
    "start_time": "2023-07-21T14:33:33.924Z"
   },
   {
    "duration": 105,
    "start_time": "2023-07-21T14:33:34.022Z"
   },
   {
    "duration": 29,
    "start_time": "2023-07-21T14:33:34.129Z"
   },
   {
    "duration": 100,
    "start_time": "2023-07-21T14:33:34.162Z"
   },
   {
    "duration": 95,
    "start_time": "2023-07-21T14:33:34.264Z"
   },
   {
    "duration": 48,
    "start_time": "2023-07-21T14:33:34.361Z"
   },
   {
    "duration": 124,
    "start_time": "2023-07-21T14:33:34.411Z"
   },
   {
    "duration": 301,
    "start_time": "2023-07-21T14:33:34.537Z"
   },
   {
    "duration": 4,
    "start_time": "2023-07-21T14:33:34.840Z"
   },
   {
    "duration": 80,
    "start_time": "2023-07-21T14:33:34.847Z"
   },
   {
    "duration": 64,
    "start_time": "2023-07-21T14:33:34.929Z"
   },
   {
    "duration": 6,
    "start_time": "2023-07-21T14:33:50.414Z"
   },
   {
    "duration": 1141,
    "start_time": "2023-07-21T14:33:50.423Z"
   },
   {
    "duration": 105,
    "start_time": "2023-07-21T14:33:51.566Z"
   },
   {
    "duration": 298,
    "start_time": "2023-07-21T14:33:51.673Z"
   },
   {
    "duration": 346,
    "start_time": "2023-07-21T14:33:51.974Z"
   },
   {
    "duration": 102,
    "start_time": "2023-07-21T14:33:52.323Z"
   },
   {
    "duration": 6,
    "start_time": "2023-07-21T14:33:52.427Z"
   },
   {
    "duration": 43,
    "start_time": "2023-07-21T14:33:52.434Z"
   },
   {
    "duration": 210,
    "start_time": "2023-07-21T14:33:52.479Z"
   },
   {
    "duration": 39,
    "start_time": "2023-07-21T14:33:52.692Z"
   },
   {
    "duration": 110,
    "start_time": "2023-07-21T14:33:52.733Z"
   },
   {
    "duration": 16,
    "start_time": "2023-07-21T14:33:52.846Z"
   },
   {
    "duration": 51,
    "start_time": "2023-07-21T14:33:52.865Z"
   },
   {
    "duration": 24,
    "start_time": "2023-07-21T14:33:52.920Z"
   },
   {
    "duration": 100,
    "start_time": "2023-07-21T14:33:52.947Z"
   },
   {
    "duration": 16,
    "start_time": "2023-07-21T14:33:53.049Z"
   },
   {
    "duration": 198,
    "start_time": "2023-07-21T14:33:53.067Z"
   },
   {
    "duration": 24,
    "start_time": "2023-07-21T14:33:53.267Z"
   },
   {
    "duration": 100,
    "start_time": "2023-07-21T14:33:53.292Z"
   },
   {
    "duration": 98,
    "start_time": "2023-07-21T14:33:53.408Z"
   },
   {
    "duration": 39,
    "start_time": "2023-07-21T14:33:53.508Z"
   },
   {
    "duration": 81,
    "start_time": "2023-07-21T14:33:53.549Z"
   },
   {
    "duration": 26,
    "start_time": "2023-07-21T14:33:53.632Z"
   },
   {
    "duration": 146,
    "start_time": "2023-07-21T14:33:53.659Z"
   },
   {
    "duration": 80,
    "start_time": "2023-07-21T14:33:53.807Z"
   },
   {
    "duration": 46,
    "start_time": "2023-07-21T14:33:53.889Z"
   },
   {
    "duration": 71,
    "start_time": "2023-07-21T14:33:53.937Z"
   },
   {
    "duration": 252,
    "start_time": "2023-07-21T14:33:54.010Z"
   },
   {
    "duration": 4,
    "start_time": "2023-07-21T14:33:54.264Z"
   },
   {
    "duration": 26,
    "start_time": "2023-07-21T14:33:54.270Z"
   },
   {
    "duration": 64,
    "start_time": "2023-07-21T14:33:54.298Z"
   },
   {
    "duration": 534,
    "start_time": "2023-07-21T14:34:00.305Z"
   },
   {
    "duration": 406,
    "start_time": "2023-07-21T14:34:03.628Z"
   },
   {
    "duration": 6,
    "start_time": "2023-07-21T14:34:36.525Z"
   },
   {
    "duration": 1085,
    "start_time": "2023-07-21T14:34:36.533Z"
   },
   {
    "duration": 105,
    "start_time": "2023-07-21T14:34:37.620Z"
   },
   {
    "duration": 288,
    "start_time": "2023-07-21T14:34:37.728Z"
   },
   {
    "duration": 314,
    "start_time": "2023-07-21T14:34:38.018Z"
   },
   {
    "duration": 103,
    "start_time": "2023-07-21T14:34:38.334Z"
   },
   {
    "duration": 4,
    "start_time": "2023-07-21T14:34:38.439Z"
   },
   {
    "duration": 76,
    "start_time": "2023-07-21T14:34:38.444Z"
   },
   {
    "duration": 206,
    "start_time": "2023-07-21T14:34:38.522Z"
   },
   {
    "duration": 25,
    "start_time": "2023-07-21T14:34:38.731Z"
   },
   {
    "duration": 107,
    "start_time": "2023-07-21T14:34:38.758Z"
   },
   {
    "duration": 16,
    "start_time": "2023-07-21T14:34:38.867Z"
   },
   {
    "duration": 67,
    "start_time": "2023-07-21T14:34:38.884Z"
   },
   {
    "duration": 25,
    "start_time": "2023-07-21T14:34:38.953Z"
   },
   {
    "duration": 96,
    "start_time": "2023-07-21T14:34:38.980Z"
   },
   {
    "duration": 15,
    "start_time": "2023-07-21T14:34:39.078Z"
   },
   {
    "duration": 180,
    "start_time": "2023-07-21T14:34:39.095Z"
   },
   {
    "duration": 35,
    "start_time": "2023-07-21T14:34:39.277Z"
   },
   {
    "duration": 96,
    "start_time": "2023-07-21T14:34:39.314Z"
   },
   {
    "duration": 24,
    "start_time": "2023-07-21T14:34:39.413Z"
   },
   {
    "duration": 45,
    "start_time": "2023-07-21T14:34:39.440Z"
   },
   {
    "duration": 90,
    "start_time": "2023-07-21T14:34:39.486Z"
   },
   {
    "duration": 39,
    "start_time": "2023-07-21T14:34:39.579Z"
   },
   {
    "duration": 94,
    "start_time": "2023-07-21T14:34:39.620Z"
   },
   {
    "duration": 94,
    "start_time": "2023-07-21T14:34:39.716Z"
   },
   {
    "duration": 35,
    "start_time": "2023-07-21T14:34:39.811Z"
   },
   {
    "duration": 74,
    "start_time": "2023-07-21T14:34:39.848Z"
   },
   {
    "duration": 274,
    "start_time": "2023-07-21T14:34:39.926Z"
   },
   {
    "duration": 8,
    "start_time": "2023-07-21T14:34:40.202Z"
   },
   {
    "duration": 50,
    "start_time": "2023-07-21T14:34:40.212Z"
   },
   {
    "duration": 70,
    "start_time": "2023-07-21T14:34:40.263Z"
   },
   {
    "duration": 548,
    "start_time": "2023-07-21T14:34:47.556Z"
   },
   {
    "duration": 349,
    "start_time": "2023-07-21T14:35:50.096Z"
   },
   {
    "duration": 329,
    "start_time": "2023-07-21T14:35:56.951Z"
   },
   {
    "duration": 384,
    "start_time": "2023-07-21T14:36:02.842Z"
   },
   {
    "duration": 384,
    "start_time": "2023-07-21T14:36:08.266Z"
   },
   {
    "duration": 341,
    "start_time": "2023-07-21T14:36:25.388Z"
   },
   {
    "duration": 36,
    "start_time": "2023-07-21T14:36:33.494Z"
   },
   {
    "duration": 2,
    "start_time": "2023-07-21T14:37:44.624Z"
   },
   {
    "duration": 22,
    "start_time": "2023-07-21T14:37:55.289Z"
   },
   {
    "duration": 17,
    "start_time": "2023-07-21T14:38:04.390Z"
   },
   {
    "duration": 22,
    "start_time": "2023-07-21T14:38:19.768Z"
   },
   {
    "duration": 50,
    "start_time": "2023-07-21T14:39:15.615Z"
   },
   {
    "duration": 569,
    "start_time": "2023-07-21T14:39:27.610Z"
   },
   {
    "duration": 65,
    "start_time": "2023-07-21T14:39:34.488Z"
   },
   {
    "duration": 61,
    "start_time": "2023-07-21T14:39:47.788Z"
   },
   {
    "duration": 423,
    "start_time": "2023-07-21T14:39:51.491Z"
   },
   {
    "duration": 246,
    "start_time": "2023-07-21T14:39:53.740Z"
   },
   {
    "duration": 52,
    "start_time": "2023-07-21T14:40:11.162Z"
   },
   {
    "duration": 514,
    "start_time": "2023-07-21T14:40:14.828Z"
   },
   {
    "duration": 182,
    "start_time": "2023-07-21T14:40:16.608Z"
   },
   {
    "duration": 37,
    "start_time": "2023-07-21T14:40:20.788Z"
   },
   {
    "duration": 353,
    "start_time": "2023-07-21T14:40:28.846Z"
   },
   {
    "duration": 126,
    "start_time": "2023-07-21T14:40:32.148Z"
   },
   {
    "duration": 124,
    "start_time": "2023-07-21T14:40:34.695Z"
   },
   {
    "duration": 446,
    "start_time": "2023-07-21T14:40:58.692Z"
   },
   {
    "duration": 80,
    "start_time": "2023-07-21T14:41:07.863Z"
   },
   {
    "duration": 61,
    "start_time": "2023-07-21T14:41:16.128Z"
   },
   {
    "duration": 195,
    "start_time": "2023-07-21T14:42:01.565Z"
   },
   {
    "duration": 6,
    "start_time": "2023-07-21T14:42:12.189Z"
   },
   {
    "duration": 1127,
    "start_time": "2023-07-21T14:42:12.197Z"
   },
   {
    "duration": 108,
    "start_time": "2023-07-21T14:42:13.326Z"
   },
   {
    "duration": 308,
    "start_time": "2023-07-21T14:42:13.436Z"
   },
   {
    "duration": 335,
    "start_time": "2023-07-21T14:42:13.747Z"
   },
   {
    "duration": 104,
    "start_time": "2023-07-21T14:42:14.084Z"
   },
   {
    "duration": 4,
    "start_time": "2023-07-21T14:42:14.189Z"
   },
   {
    "duration": 27,
    "start_time": "2023-07-21T14:42:14.208Z"
   },
   {
    "duration": 229,
    "start_time": "2023-07-21T14:42:14.237Z"
   },
   {
    "duration": 41,
    "start_time": "2023-07-21T14:42:14.468Z"
   },
   {
    "duration": 107,
    "start_time": "2023-07-21T14:42:14.511Z"
   },
   {
    "duration": 16,
    "start_time": "2023-07-21T14:42:14.620Z"
   },
   {
    "duration": 38,
    "start_time": "2023-07-21T14:42:14.638Z"
   },
   {
    "duration": 33,
    "start_time": "2023-07-21T14:42:14.680Z"
   },
   {
    "duration": 101,
    "start_time": "2023-07-21T14:42:14.715Z"
   },
   {
    "duration": 16,
    "start_time": "2023-07-21T14:42:14.818Z"
   },
   {
    "duration": 179,
    "start_time": "2023-07-21T14:42:14.836Z"
   },
   {
    "duration": 27,
    "start_time": "2023-07-21T14:42:15.017Z"
   },
   {
    "duration": 114,
    "start_time": "2023-07-21T14:42:15.046Z"
   },
   {
    "duration": 14,
    "start_time": "2023-07-21T14:42:15.162Z"
   },
   {
    "duration": 36,
    "start_time": "2023-07-21T14:42:15.178Z"
   },
   {
    "duration": 99,
    "start_time": "2023-07-21T14:42:15.217Z"
   },
   {
    "duration": 27,
    "start_time": "2023-07-21T14:42:15.319Z"
   },
   {
    "duration": 102,
    "start_time": "2023-07-21T14:42:15.348Z"
   },
   {
    "duration": 91,
    "start_time": "2023-07-21T14:42:15.452Z"
   },
   {
    "duration": 39,
    "start_time": "2023-07-21T14:42:15.545Z"
   },
   {
    "duration": 73,
    "start_time": "2023-07-21T14:42:15.586Z"
   },
   {
    "duration": 290,
    "start_time": "2023-07-21T14:42:15.661Z"
   },
   {
    "duration": 5,
    "start_time": "2023-07-21T14:42:15.953Z"
   },
   {
    "duration": 66,
    "start_time": "2023-07-21T14:42:15.960Z"
   },
   {
    "duration": 88,
    "start_time": "2023-07-21T14:42:16.029Z"
   },
   {
    "duration": 579,
    "start_time": "2023-07-21T14:42:16.119Z"
   },
   {
    "duration": 1,
    "start_time": "2023-07-21T14:42:16.699Z"
   },
   {
    "duration": 0,
    "start_time": "2023-07-21T14:42:16.701Z"
   },
   {
    "duration": 0,
    "start_time": "2023-07-21T14:42:16.709Z"
   },
   {
    "duration": 55,
    "start_time": "2023-07-21T14:42:29.206Z"
   },
   {
    "duration": 574,
    "start_time": "2023-07-21T14:42:34.436Z"
   },
   {
    "duration": 53,
    "start_time": "2023-07-21T14:42:41.541Z"
   },
   {
    "duration": 717,
    "start_time": "2023-07-21T14:42:45.418Z"
   },
   {
    "duration": 114,
    "start_time": "2023-07-21T14:44:28.803Z"
   },
   {
    "duration": 3,
    "start_time": "2023-07-21T14:44:39.137Z"
   },
   {
    "duration": 741,
    "start_time": "2023-07-21T14:44:41.988Z"
   },
   {
    "duration": 100638,
    "start_time": "2023-07-21T14:44:46.334Z"
   },
   {
    "duration": 796630,
    "start_time": "2023-07-21T14:46:46.096Z"
   },
   {
    "duration": 392539,
    "start_time": "2023-07-21T15:00:21.674Z"
   },
   {
    "duration": 6,
    "start_time": "2023-07-21T15:07:28.984Z"
   },
   {
    "duration": 13,
    "start_time": "2023-07-21T15:07:32.596Z"
   },
   {
    "duration": 5162,
    "start_time": "2023-07-21T15:07:46.457Z"
   },
   {
    "duration": 3419,
    "start_time": "2023-07-21T15:38:06.141Z"
   },
   {
    "duration": 1621,
    "start_time": "2023-07-21T15:38:09.562Z"
   },
   {
    "duration": 137,
    "start_time": "2023-07-21T15:38:11.186Z"
   },
   {
    "duration": 320,
    "start_time": "2023-07-21T15:38:11.324Z"
   },
   {
    "duration": 439,
    "start_time": "2023-07-21T15:38:11.647Z"
   },
   {
    "duration": 148,
    "start_time": "2023-07-21T15:38:12.095Z"
   },
   {
    "duration": 3,
    "start_time": "2023-07-21T15:38:12.245Z"
   },
   {
    "duration": 51,
    "start_time": "2023-07-21T15:38:12.251Z"
   },
   {
    "duration": 221,
    "start_time": "2023-07-21T15:38:12.303Z"
   },
   {
    "duration": 29,
    "start_time": "2023-07-21T15:38:12.526Z"
   },
   {
    "duration": 163,
    "start_time": "2023-07-21T15:38:12.557Z"
   },
   {
    "duration": 27,
    "start_time": "2023-07-21T15:38:12.723Z"
   },
   {
    "duration": 49,
    "start_time": "2023-07-21T15:38:12.752Z"
   },
   {
    "duration": 22,
    "start_time": "2023-07-21T15:38:12.815Z"
   },
   {
    "duration": 110,
    "start_time": "2023-07-21T15:38:12.839Z"
   },
   {
    "duration": 33,
    "start_time": "2023-07-21T15:38:12.951Z"
   },
   {
    "duration": 169,
    "start_time": "2023-07-21T15:38:12.987Z"
   },
   {
    "duration": 29,
    "start_time": "2023-07-21T15:38:13.157Z"
   },
   {
    "duration": 110,
    "start_time": "2023-07-21T15:38:13.191Z"
   },
   {
    "duration": 17,
    "start_time": "2023-07-21T15:38:13.303Z"
   },
   {
    "duration": 25,
    "start_time": "2023-07-21T15:38:13.322Z"
   },
   {
    "duration": 133,
    "start_time": "2023-07-21T15:38:13.349Z"
   },
   {
    "duration": 36,
    "start_time": "2023-07-21T15:38:13.495Z"
   },
   {
    "duration": 111,
    "start_time": "2023-07-21T15:38:13.533Z"
   },
   {
    "duration": 110,
    "start_time": "2023-07-21T15:38:13.645Z"
   },
   {
    "duration": 42,
    "start_time": "2023-07-21T15:38:13.757Z"
   },
   {
    "duration": 83,
    "start_time": "2023-07-21T15:38:13.801Z"
   },
   {
    "duration": 313,
    "start_time": "2023-07-21T15:38:13.886Z"
   },
   {
    "duration": 10,
    "start_time": "2023-07-21T15:38:14.203Z"
   },
   {
    "duration": 18,
    "start_time": "2023-07-21T15:38:14.216Z"
   },
   {
    "duration": 85,
    "start_time": "2023-07-21T15:38:14.237Z"
   },
   {
    "duration": 912,
    "start_time": "2023-07-21T15:38:14.326Z"
   },
   {
    "duration": 0,
    "start_time": "2023-07-21T15:38:15.245Z"
   },
   {
    "duration": 0,
    "start_time": "2023-07-21T15:38:15.247Z"
   },
   {
    "duration": 0,
    "start_time": "2023-07-21T15:38:15.248Z"
   },
   {
    "duration": 647,
    "start_time": "2023-07-21T15:42:11.656Z"
   },
   {
    "duration": 10428,
    "start_time": "2023-07-21T15:42:14.314Z"
   },
   {
    "duration": 21,
    "start_time": "2023-07-21T15:42:26.567Z"
   },
   {
    "duration": 241,
    "start_time": "2023-07-21T15:42:37.960Z"
   },
   {
    "duration": 29,
    "start_time": "2023-07-21T15:43:28.149Z"
   },
   {
    "duration": 29,
    "start_time": "2023-07-21T15:44:29.137Z"
   },
   {
    "duration": 3,
    "start_time": "2023-07-21T15:44:49.036Z"
   },
   {
    "duration": 6,
    "start_time": "2023-07-21T16:27:28.310Z"
   },
   {
    "duration": 1166,
    "start_time": "2023-07-21T16:27:28.318Z"
   },
   {
    "duration": 110,
    "start_time": "2023-07-21T16:27:29.486Z"
   },
   {
    "duration": 299,
    "start_time": "2023-07-21T16:27:29.608Z"
   },
   {
    "duration": 353,
    "start_time": "2023-07-21T16:27:29.909Z"
   },
   {
    "duration": 117,
    "start_time": "2023-07-21T16:27:30.264Z"
   },
   {
    "duration": 6,
    "start_time": "2023-07-21T16:27:30.382Z"
   },
   {
    "duration": 51,
    "start_time": "2023-07-21T16:27:30.390Z"
   },
   {
    "duration": 367,
    "start_time": "2023-07-21T16:27:30.444Z"
   },
   {
    "duration": 28,
    "start_time": "2023-07-21T16:27:30.813Z"
   },
   {
    "duration": 132,
    "start_time": "2023-07-21T16:27:30.843Z"
   },
   {
    "duration": 22,
    "start_time": "2023-07-21T16:27:30.977Z"
   },
   {
    "duration": 95,
    "start_time": "2023-07-21T16:27:31.008Z"
   },
   {
    "duration": 46,
    "start_time": "2023-07-21T16:27:31.105Z"
   },
   {
    "duration": 113,
    "start_time": "2023-07-21T16:27:31.153Z"
   },
   {
    "duration": 18,
    "start_time": "2023-07-21T16:27:31.268Z"
   },
   {
    "duration": 221,
    "start_time": "2023-07-21T16:27:31.288Z"
   },
   {
    "duration": 28,
    "start_time": "2023-07-21T16:27:31.511Z"
   },
   {
    "duration": 113,
    "start_time": "2023-07-21T16:27:31.541Z"
   },
   {
    "duration": 28,
    "start_time": "2023-07-21T16:27:31.656Z"
   },
   {
    "duration": 68,
    "start_time": "2023-07-21T16:27:31.686Z"
   },
   {
    "duration": 96,
    "start_time": "2023-07-21T16:27:31.755Z"
   },
   {
    "duration": 29,
    "start_time": "2023-07-21T16:27:31.853Z"
   },
   {
    "duration": 133,
    "start_time": "2023-07-21T16:27:31.885Z"
   },
   {
    "duration": 105,
    "start_time": "2023-07-21T16:27:32.020Z"
   },
   {
    "duration": 35,
    "start_time": "2023-07-21T16:27:32.128Z"
   },
   {
    "duration": 91,
    "start_time": "2023-07-21T16:27:32.166Z"
   },
   {
    "duration": 316,
    "start_time": "2023-07-21T16:27:32.259Z"
   },
   {
    "duration": 4,
    "start_time": "2023-07-21T16:27:32.577Z"
   },
   {
    "duration": 38,
    "start_time": "2023-07-21T16:27:32.583Z"
   },
   {
    "duration": 95,
    "start_time": "2023-07-21T16:27:32.623Z"
   },
   {
    "duration": 207,
    "start_time": "2023-07-21T16:27:36.794Z"
   },
   {
    "duration": 58,
    "start_time": "2023-07-21T16:27:50.924Z"
   },
   {
    "duration": 190,
    "start_time": "2023-07-21T16:27:55.751Z"
   },
   {
    "duration": 136,
    "start_time": "2023-07-21T16:27:57.746Z"
   },
   {
    "duration": 131,
    "start_time": "2023-07-21T16:27:58.829Z"
   },
   {
    "duration": 54,
    "start_time": "2023-07-21T16:28:02.059Z"
   },
   {
    "duration": 206,
    "start_time": "2023-07-21T16:28:05.562Z"
   },
   {
    "duration": 42,
    "start_time": "2023-07-21T16:28:11.803Z"
   },
   {
    "duration": 161,
    "start_time": "2023-07-21T16:28:46.507Z"
   },
   {
    "duration": 21,
    "start_time": "2023-07-21T16:29:11.334Z"
   },
   {
    "duration": 349,
    "start_time": "2023-07-21T16:29:22.511Z"
   },
   {
    "duration": 62,
    "start_time": "2023-07-21T16:29:26.759Z"
   },
   {
    "duration": 6,
    "start_time": "2023-07-21T16:30:35.155Z"
   },
   {
    "duration": 1182,
    "start_time": "2023-07-21T16:30:35.163Z"
   },
   {
    "duration": 109,
    "start_time": "2023-07-21T16:30:36.347Z"
   },
   {
    "duration": 308,
    "start_time": "2023-07-21T16:30:36.458Z"
   },
   {
    "duration": 337,
    "start_time": "2023-07-21T16:30:36.768Z"
   },
   {
    "duration": 122,
    "start_time": "2023-07-21T16:30:37.109Z"
   },
   {
    "duration": 11,
    "start_time": "2023-07-21T16:30:37.233Z"
   },
   {
    "duration": 57,
    "start_time": "2023-07-21T16:30:37.246Z"
   },
   {
    "duration": 233,
    "start_time": "2023-07-21T16:30:37.306Z"
   },
   {
    "duration": 27,
    "start_time": "2023-07-21T16:30:37.540Z"
   },
   {
    "duration": 118,
    "start_time": "2023-07-21T16:30:37.569Z"
   },
   {
    "duration": 26,
    "start_time": "2023-07-21T16:30:37.689Z"
   },
   {
    "duration": 68,
    "start_time": "2023-07-21T16:30:37.717Z"
   },
   {
    "duration": 39,
    "start_time": "2023-07-21T16:30:37.787Z"
   },
   {
    "duration": 148,
    "start_time": "2023-07-21T16:30:37.829Z"
   },
   {
    "duration": 30,
    "start_time": "2023-07-21T16:30:37.979Z"
   },
   {
    "duration": 199,
    "start_time": "2023-07-21T16:30:38.011Z"
   },
   {
    "duration": 26,
    "start_time": "2023-07-21T16:30:38.213Z"
   },
   {
    "duration": 114,
    "start_time": "2023-07-21T16:30:38.241Z"
   },
   {
    "duration": 15,
    "start_time": "2023-07-21T16:30:38.357Z"
   },
   {
    "duration": 52,
    "start_time": "2023-07-21T16:30:38.373Z"
   },
   {
    "duration": 107,
    "start_time": "2023-07-21T16:30:38.428Z"
   },
   {
    "duration": 28,
    "start_time": "2023-07-21T16:30:38.538Z"
   },
   {
    "duration": 111,
    "start_time": "2023-07-21T16:30:38.569Z"
   },
   {
    "duration": 110,
    "start_time": "2023-07-21T16:30:38.683Z"
   },
   {
    "duration": 54,
    "start_time": "2023-07-21T16:30:38.794Z"
   },
   {
    "duration": 68,
    "start_time": "2023-07-21T16:30:38.850Z"
   },
   {
    "duration": 269,
    "start_time": "2023-07-21T16:30:38.920Z"
   },
   {
    "duration": 5,
    "start_time": "2023-07-21T16:30:39.191Z"
   },
   {
    "duration": 49,
    "start_time": "2023-07-21T16:30:39.197Z"
   },
   {
    "duration": 71,
    "start_time": "2023-07-21T16:30:39.248Z"
   },
   {
    "duration": 195,
    "start_time": "2023-07-21T16:30:42.256Z"
   },
   {
    "duration": 57,
    "start_time": "2023-07-21T16:30:49.114Z"
   },
   {
    "duration": 201,
    "start_time": "2023-07-21T16:30:51.895Z"
   },
   {
    "duration": 62,
    "start_time": "2023-07-21T16:30:55.014Z"
   },
   {
    "duration": 206,
    "start_time": "2023-07-21T16:30:58.759Z"
   },
   {
    "duration": 19,
    "start_time": "2023-07-21T16:31:03.855Z"
   },
   {
    "duration": 18,
    "start_time": "2023-07-21T16:31:20.787Z"
   },
   {
    "duration": 29,
    "start_time": "2023-07-21T16:31:49.708Z"
   },
   {
    "duration": 17,
    "start_time": "2023-07-21T16:31:58.438Z"
   },
   {
    "duration": 10098,
    "start_time": "2023-07-21T16:32:19.603Z"
   },
   {
    "duration": 40,
    "start_time": "2023-07-21T16:32:32.337Z"
   },
   {
    "duration": 24,
    "start_time": "2023-07-21T16:32:57.619Z"
   },
   {
    "duration": 7,
    "start_time": "2023-07-21T16:33:07.423Z"
   },
   {
    "duration": 1172,
    "start_time": "2023-07-21T16:33:07.433Z"
   },
   {
    "duration": 156,
    "start_time": "2023-07-21T16:33:08.608Z"
   },
   {
    "duration": 328,
    "start_time": "2023-07-21T16:33:08.766Z"
   },
   {
    "duration": 374,
    "start_time": "2023-07-21T16:33:09.097Z"
   },
   {
    "duration": 127,
    "start_time": "2023-07-21T16:33:09.473Z"
   },
   {
    "duration": 5,
    "start_time": "2023-07-21T16:33:09.609Z"
   },
   {
    "duration": 66,
    "start_time": "2023-07-21T16:33:09.616Z"
   },
   {
    "duration": 268,
    "start_time": "2023-07-21T16:33:09.684Z"
   },
   {
    "duration": 31,
    "start_time": "2023-07-21T16:33:09.954Z"
   },
   {
    "duration": 130,
    "start_time": "2023-07-21T16:33:09.987Z"
   },
   {
    "duration": 18,
    "start_time": "2023-07-21T16:33:10.120Z"
   },
   {
    "duration": 31,
    "start_time": "2023-07-21T16:33:10.139Z"
   },
   {
    "duration": 49,
    "start_time": "2023-07-21T16:33:10.173Z"
   },
   {
    "duration": 121,
    "start_time": "2023-07-21T16:33:10.224Z"
   },
   {
    "duration": 19,
    "start_time": "2023-07-21T16:33:10.347Z"
   },
   {
    "duration": 194,
    "start_time": "2023-07-21T16:33:10.367Z"
   },
   {
    "duration": 24,
    "start_time": "2023-07-21T16:33:10.563Z"
   },
   {
    "duration": 130,
    "start_time": "2023-07-21T16:33:10.589Z"
   },
   {
    "duration": 22,
    "start_time": "2023-07-21T16:33:10.721Z"
   },
   {
    "duration": 24,
    "start_time": "2023-07-21T16:33:10.746Z"
   },
   {
    "duration": 109,
    "start_time": "2023-07-21T16:33:10.773Z"
   },
   {
    "duration": 39,
    "start_time": "2023-07-21T16:33:10.883Z"
   },
   {
    "duration": 116,
    "start_time": "2023-07-21T16:33:10.924Z"
   },
   {
    "duration": 98,
    "start_time": "2023-07-21T16:33:11.042Z"
   },
   {
    "duration": 34,
    "start_time": "2023-07-21T16:33:11.143Z"
   },
   {
    "duration": 84,
    "start_time": "2023-07-21T16:33:11.180Z"
   },
   {
    "duration": 313,
    "start_time": "2023-07-21T16:33:11.266Z"
   },
   {
    "duration": 5,
    "start_time": "2023-07-21T16:33:11.581Z"
   },
   {
    "duration": 34,
    "start_time": "2023-07-21T16:33:11.588Z"
   },
   {
    "duration": 101,
    "start_time": "2023-07-21T16:33:11.625Z"
   },
   {
    "duration": 298,
    "start_time": "2023-07-21T16:33:17.007Z"
   },
   {
    "duration": 72,
    "start_time": "2023-07-21T16:33:29.392Z"
   },
   {
    "duration": 87,
    "start_time": "2023-07-21T16:33:30.908Z"
   },
   {
    "duration": 213,
    "start_time": "2023-07-21T16:33:33.959Z"
   },
   {
    "duration": 26,
    "start_time": "2023-07-21T16:33:51.116Z"
   },
   {
    "duration": 53,
    "start_time": "2023-07-21T16:35:47.004Z"
   },
   {
    "duration": 13,
    "start_time": "2023-07-21T16:39:54.446Z"
   },
   {
    "duration": 16,
    "start_time": "2023-07-21T16:40:07.818Z"
   },
   {
    "duration": 13,
    "start_time": "2023-07-21T16:41:04.203Z"
   },
   {
    "duration": 3360,
    "start_time": "2023-07-21T16:41:44.907Z"
   },
   {
    "duration": 300,
    "start_time": "2023-07-21T16:42:14.207Z"
   },
   {
    "duration": 2219,
    "start_time": "2023-07-21T16:43:20.840Z"
   },
   {
    "duration": 6,
    "start_time": "2023-07-21T16:43:23.062Z"
   },
   {
    "duration": 1170,
    "start_time": "2023-07-21T16:43:23.070Z"
   },
   {
    "duration": 101,
    "start_time": "2023-07-21T16:43:24.243Z"
   },
   {
    "duration": 306,
    "start_time": "2023-07-21T16:43:24.345Z"
   },
   {
    "duration": 333,
    "start_time": "2023-07-21T16:43:24.653Z"
   },
   {
    "duration": 112,
    "start_time": "2023-07-21T16:43:24.988Z"
   },
   {
    "duration": 5,
    "start_time": "2023-07-21T16:43:25.109Z"
   },
   {
    "duration": 36,
    "start_time": "2023-07-21T16:43:25.117Z"
   },
   {
    "duration": 229,
    "start_time": "2023-07-21T16:43:25.155Z"
   },
   {
    "duration": 37,
    "start_time": "2023-07-21T16:43:25.386Z"
   },
   {
    "duration": 104,
    "start_time": "2023-07-21T16:43:25.426Z"
   },
   {
    "duration": 17,
    "start_time": "2023-07-21T16:43:25.533Z"
   },
   {
    "duration": 55,
    "start_time": "2023-07-21T16:43:25.552Z"
   },
   {
    "duration": 29,
    "start_time": "2023-07-21T16:43:25.609Z"
   },
   {
    "duration": 129,
    "start_time": "2023-07-21T16:43:25.640Z"
   },
   {
    "duration": 25,
    "start_time": "2023-07-21T16:43:25.772Z"
   },
   {
    "duration": 287,
    "start_time": "2023-07-21T16:43:25.809Z"
   },
   {
    "duration": 27,
    "start_time": "2023-07-21T16:43:26.098Z"
   },
   {
    "duration": 164,
    "start_time": "2023-07-21T16:43:26.127Z"
   },
   {
    "duration": 19,
    "start_time": "2023-07-21T16:43:26.293Z"
   },
   {
    "duration": 35,
    "start_time": "2023-07-21T16:43:26.314Z"
   },
   {
    "duration": 95,
    "start_time": "2023-07-21T16:43:26.350Z"
   },
   {
    "duration": 26,
    "start_time": "2023-07-21T16:43:26.447Z"
   },
   {
    "duration": 109,
    "start_time": "2023-07-21T16:43:26.475Z"
   },
   {
    "duration": 98,
    "start_time": "2023-07-21T16:43:26.586Z"
   },
   {
    "duration": 51,
    "start_time": "2023-07-21T16:43:26.686Z"
   },
   {
    "duration": 84,
    "start_time": "2023-07-21T16:43:26.741Z"
   },
   {
    "duration": 292,
    "start_time": "2023-07-21T16:43:26.827Z"
   },
   {
    "duration": 7,
    "start_time": "2023-07-21T16:43:27.122Z"
   },
   {
    "duration": 39,
    "start_time": "2023-07-21T16:43:27.131Z"
   },
   {
    "duration": 95,
    "start_time": "2023-07-21T16:43:27.172Z"
   },
   {
    "duration": 2,
    "start_time": "2023-07-21T16:43:27.269Z"
   },
   {
    "duration": 30,
    "start_time": "2023-07-21T16:43:27.273Z"
   },
   {
    "duration": 25,
    "start_time": "2023-07-21T16:46:37.968Z"
   },
   {
    "duration": 439,
    "start_time": "2023-07-21T16:46:52.178Z"
   },
   {
    "duration": 19,
    "start_time": "2023-07-21T16:46:55.362Z"
   },
   {
    "duration": 2553,
    "start_time": "2023-07-21T16:47:55.495Z"
   },
   {
    "duration": 7,
    "start_time": "2023-07-21T16:47:58.051Z"
   },
   {
    "duration": 1186,
    "start_time": "2023-07-21T16:47:58.059Z"
   },
   {
    "duration": 123,
    "start_time": "2023-07-21T16:47:59.248Z"
   },
   {
    "duration": 383,
    "start_time": "2023-07-21T16:47:59.374Z"
   },
   {
    "duration": 419,
    "start_time": "2023-07-21T16:47:59.759Z"
   },
   {
    "duration": 117,
    "start_time": "2023-07-21T16:48:00.180Z"
   },
   {
    "duration": 13,
    "start_time": "2023-07-21T16:48:00.300Z"
   },
   {
    "duration": 87,
    "start_time": "2023-07-21T16:48:00.315Z"
   },
   {
    "duration": 268,
    "start_time": "2023-07-21T16:48:00.406Z"
   },
   {
    "duration": 51,
    "start_time": "2023-07-21T16:48:00.676Z"
   },
   {
    "duration": 111,
    "start_time": "2023-07-21T16:48:00.730Z"
   },
   {
    "duration": 18,
    "start_time": "2023-07-21T16:48:00.843Z"
   },
   {
    "duration": 86,
    "start_time": "2023-07-21T16:48:00.862Z"
   },
   {
    "duration": 52,
    "start_time": "2023-07-21T16:48:00.950Z"
   },
   {
    "duration": 126,
    "start_time": "2023-07-21T16:48:01.004Z"
   },
   {
    "duration": 20,
    "start_time": "2023-07-21T16:48:01.133Z"
   },
   {
    "duration": 231,
    "start_time": "2023-07-21T16:48:01.155Z"
   },
   {
    "duration": 37,
    "start_time": "2023-07-21T16:48:01.389Z"
   },
   {
    "duration": 162,
    "start_time": "2023-07-21T16:48:01.429Z"
   },
   {
    "duration": 25,
    "start_time": "2023-07-21T16:48:01.594Z"
   },
   {
    "duration": 65,
    "start_time": "2023-07-21T16:48:01.621Z"
   },
   {
    "duration": 112,
    "start_time": "2023-07-21T16:48:01.689Z"
   },
   {
    "duration": 41,
    "start_time": "2023-07-21T16:48:01.809Z"
   },
   {
    "duration": 169,
    "start_time": "2023-07-21T16:48:01.852Z"
   },
   {
    "duration": 107,
    "start_time": "2023-07-21T16:48:02.027Z"
   },
   {
    "duration": 36,
    "start_time": "2023-07-21T16:48:02.136Z"
   },
   {
    "duration": 112,
    "start_time": "2023-07-21T16:48:02.176Z"
   },
   {
    "duration": 337,
    "start_time": "2023-07-21T16:48:02.290Z"
   },
   {
    "duration": 5,
    "start_time": "2023-07-21T16:48:02.629Z"
   },
   {
    "duration": 129,
    "start_time": "2023-07-21T16:48:02.636Z"
   },
   {
    "duration": 75,
    "start_time": "2023-07-21T16:48:02.768Z"
   },
   {
    "duration": 528,
    "start_time": "2023-07-21T16:48:15.826Z"
   },
   {
    "duration": 38,
    "start_time": "2023-07-21T16:48:18.944Z"
   },
   {
    "duration": 83,
    "start_time": "2023-07-21T16:51:13.812Z"
   },
   {
    "duration": 51,
    "start_time": "2023-07-21T16:51:15.846Z"
   },
   {
    "duration": 2426,
    "start_time": "2023-07-21T16:53:12.090Z"
   },
   {
    "duration": 11,
    "start_time": "2023-07-21T16:53:14.520Z"
   },
   {
    "duration": 1204,
    "start_time": "2023-07-21T16:53:14.533Z"
   },
   {
    "duration": 128,
    "start_time": "2023-07-21T16:53:15.740Z"
   },
   {
    "duration": 443,
    "start_time": "2023-07-21T16:53:15.870Z"
   },
   {
    "duration": 360,
    "start_time": "2023-07-21T16:53:16.317Z"
   },
   {
    "duration": 109,
    "start_time": "2023-07-21T16:53:16.679Z"
   },
   {
    "duration": 4,
    "start_time": "2023-07-21T16:53:16.790Z"
   },
   {
    "duration": 53,
    "start_time": "2023-07-21T16:53:16.796Z"
   },
   {
    "duration": 241,
    "start_time": "2023-07-21T16:53:16.852Z"
   },
   {
    "duration": 47,
    "start_time": "2023-07-21T16:53:17.095Z"
   },
   {
    "duration": 118,
    "start_time": "2023-07-21T16:53:17.144Z"
   },
   {
    "duration": 18,
    "start_time": "2023-07-21T16:53:17.264Z"
   },
   {
    "duration": 54,
    "start_time": "2023-07-21T16:53:17.284Z"
   },
   {
    "duration": 28,
    "start_time": "2023-07-21T16:53:17.340Z"
   },
   {
    "duration": 117,
    "start_time": "2023-07-21T16:53:17.370Z"
   },
   {
    "duration": 28,
    "start_time": "2023-07-21T16:53:17.489Z"
   },
   {
    "duration": 196,
    "start_time": "2023-07-21T16:53:17.520Z"
   },
   {
    "duration": 28,
    "start_time": "2023-07-21T16:53:17.718Z"
   },
   {
    "duration": 113,
    "start_time": "2023-07-21T16:53:17.748Z"
   },
   {
    "duration": 15,
    "start_time": "2023-07-21T16:53:17.862Z"
   },
   {
    "duration": 42,
    "start_time": "2023-07-21T16:53:17.879Z"
   },
   {
    "duration": 119,
    "start_time": "2023-07-21T16:53:17.923Z"
   },
   {
    "duration": 29,
    "start_time": "2023-07-21T16:53:18.044Z"
   },
   {
    "duration": 106,
    "start_time": "2023-07-21T16:53:18.074Z"
   },
   {
    "duration": 89,
    "start_time": "2023-07-21T16:53:18.182Z"
   },
   {
    "duration": 61,
    "start_time": "2023-07-21T16:53:18.273Z"
   },
   {
    "duration": 71,
    "start_time": "2023-07-21T16:53:18.338Z"
   },
   {
    "duration": 298,
    "start_time": "2023-07-21T16:53:18.411Z"
   },
   {
    "duration": 4,
    "start_time": "2023-07-21T16:53:18.711Z"
   },
   {
    "duration": 54,
    "start_time": "2023-07-21T16:53:18.717Z"
   },
   {
    "duration": 71,
    "start_time": "2023-07-21T16:53:18.774Z"
   },
   {
    "duration": 454,
    "start_time": "2023-07-21T16:53:18.847Z"
   },
   {
    "duration": 95,
    "start_time": "2023-07-21T16:53:19.303Z"
   },
   {
    "duration": 55,
    "start_time": "2023-07-21T16:53:19.400Z"
   },
   {
    "duration": 147,
    "start_time": "2023-07-21T16:53:19.457Z"
   },
   {
    "duration": 4,
    "start_time": "2023-07-21T16:53:19.608Z"
   },
   {
    "duration": 1211,
    "start_time": "2023-07-21T16:53:19.614Z"
   },
   {
    "duration": 147123,
    "start_time": "2023-07-21T16:53:20.827Z"
   },
   {
    "duration": 2301,
    "start_time": "2023-07-21T17:57:56.479Z"
   },
   {
    "duration": 2898,
    "start_time": "2023-07-21T17:57:58.782Z"
   },
   {
    "duration": 1420,
    "start_time": "2023-07-21T17:58:01.685Z"
   },
   {
    "duration": 116,
    "start_time": "2023-07-21T17:58:03.107Z"
   },
   {
    "duration": 356,
    "start_time": "2023-07-21T17:58:03.225Z"
   },
   {
    "duration": 401,
    "start_time": "2023-07-21T17:58:03.583Z"
   },
   {
    "duration": 119,
    "start_time": "2023-07-21T17:58:03.986Z"
   },
   {
    "duration": 3,
    "start_time": "2023-07-21T17:58:04.108Z"
   },
   {
    "duration": 69,
    "start_time": "2023-07-21T17:58:04.114Z"
   },
   {
    "duration": 223,
    "start_time": "2023-07-21T17:58:04.185Z"
   },
   {
    "duration": 37,
    "start_time": "2023-07-21T17:58:04.410Z"
   },
   {
    "duration": 113,
    "start_time": "2023-07-21T17:58:04.449Z"
   },
   {
    "duration": 32,
    "start_time": "2023-07-21T17:58:04.564Z"
   },
   {
    "duration": 42,
    "start_time": "2023-07-21T17:58:04.598Z"
   },
   {
    "duration": 28,
    "start_time": "2023-07-21T17:58:04.642Z"
   },
   {
    "duration": 280,
    "start_time": "2023-07-21T17:58:04.671Z"
   },
   {
    "duration": 16,
    "start_time": "2023-07-21T17:58:04.953Z"
   },
   {
    "duration": 269,
    "start_time": "2023-07-21T17:58:04.971Z"
   },
   {
    "duration": 26,
    "start_time": "2023-07-21T17:58:05.242Z"
   },
   {
    "duration": 101,
    "start_time": "2023-07-21T17:58:05.270Z"
   },
   {
    "duration": 14,
    "start_time": "2023-07-21T17:58:05.373Z"
   },
   {
    "duration": 39,
    "start_time": "2023-07-21T17:58:05.389Z"
   },
   {
    "duration": 88,
    "start_time": "2023-07-21T17:58:05.430Z"
   },
   {
    "duration": 28,
    "start_time": "2023-07-21T17:58:05.520Z"
   },
   {
    "duration": 108,
    "start_time": "2023-07-21T17:58:05.549Z"
   },
   {
    "duration": 89,
    "start_time": "2023-07-21T17:58:05.659Z"
   },
   {
    "duration": 34,
    "start_time": "2023-07-21T17:58:05.752Z"
   },
   {
    "duration": 86,
    "start_time": "2023-07-21T17:58:05.788Z"
   },
   {
    "duration": 432,
    "start_time": "2023-07-21T17:58:05.876Z"
   },
   {
    "duration": 5,
    "start_time": "2023-07-21T17:58:06.310Z"
   },
   {
    "duration": 38,
    "start_time": "2023-07-21T17:58:06.317Z"
   },
   {
    "duration": 75,
    "start_time": "2023-07-21T17:58:06.357Z"
   },
   {
    "duration": 405,
    "start_time": "2023-07-21T17:58:06.434Z"
   },
   {
    "duration": 94,
    "start_time": "2023-07-21T17:58:06.841Z"
   },
   {
    "duration": 36,
    "start_time": "2023-07-21T17:58:06.937Z"
   },
   {
    "duration": 140,
    "start_time": "2023-07-21T17:58:06.975Z"
   },
   {
    "duration": 3,
    "start_time": "2023-07-21T17:58:07.118Z"
   },
   {
    "duration": 1089,
    "start_time": "2023-07-21T17:58:07.123Z"
   },
   {
    "duration": 140840,
    "start_time": "2023-07-21T17:58:08.214Z"
   },
   {
    "duration": 3608762,
    "start_time": "2023-07-21T18:00:29.056Z"
   },
   {
    "duration": 376597,
    "start_time": "2023-07-21T19:00:37.820Z"
   },
   {
    "duration": 8,
    "start_time": "2023-07-21T19:06:54.419Z"
   },
   {
    "duration": 22,
    "start_time": "2023-07-21T19:06:54.429Z"
   },
   {
    "duration": 135984,
    "start_time": "2023-07-21T19:06:54.453Z"
   },
   {
    "duration": 1729,
    "start_time": "2023-07-22T21:06:11.421Z"
   },
   {
    "duration": 3029,
    "start_time": "2023-07-22T21:06:36.826Z"
   },
   {
    "duration": 2982,
    "start_time": "2023-07-22T21:06:43.720Z"
   },
   {
    "duration": 2058,
    "start_time": "2023-07-22T21:11:15.674Z"
   },
   {
    "duration": 1098,
    "start_time": "2023-07-22T21:11:17.735Z"
   },
   {
    "duration": 113,
    "start_time": "2023-07-22T21:11:18.835Z"
   },
   {
    "duration": 292,
    "start_time": "2023-07-22T21:11:18.950Z"
   },
   {
    "duration": 295,
    "start_time": "2023-07-22T21:11:19.244Z"
   },
   {
    "duration": 132,
    "start_time": "2023-07-22T21:11:19.541Z"
   },
   {
    "duration": 4,
    "start_time": "2023-07-22T21:11:19.675Z"
   },
   {
    "duration": 76,
    "start_time": "2023-07-22T21:11:19.681Z"
   },
   {
    "duration": 274,
    "start_time": "2023-07-22T21:11:19.760Z"
   },
   {
    "duration": 25,
    "start_time": "2023-07-22T21:11:20.036Z"
   },
   {
    "duration": 114,
    "start_time": "2023-07-22T21:11:20.063Z"
   },
   {
    "duration": 16,
    "start_time": "2023-07-22T21:11:20.179Z"
   },
   {
    "duration": 112,
    "start_time": "2023-07-22T21:11:20.197Z"
   },
   {
    "duration": 51,
    "start_time": "2023-07-22T21:11:20.312Z"
   },
   {
    "duration": 114,
    "start_time": "2023-07-22T21:11:20.365Z"
   },
   {
    "duration": 17,
    "start_time": "2023-07-22T21:11:20.481Z"
   },
   {
    "duration": 268,
    "start_time": "2023-07-22T21:11:20.501Z"
   },
   {
    "duration": 28,
    "start_time": "2023-07-22T21:11:20.771Z"
   },
   {
    "duration": 104,
    "start_time": "2023-07-22T21:11:20.812Z"
   },
   {
    "duration": 14,
    "start_time": "2023-07-22T21:11:20.918Z"
   },
   {
    "duration": 43,
    "start_time": "2023-07-22T21:11:20.934Z"
   },
   {
    "duration": 104,
    "start_time": "2023-07-22T21:11:20.979Z"
   },
   {
    "duration": 38,
    "start_time": "2023-07-22T21:11:21.084Z"
   },
   {
    "duration": 97,
    "start_time": "2023-07-22T21:11:21.124Z"
   },
   {
    "duration": 90,
    "start_time": "2023-07-22T21:11:21.223Z"
   },
   {
    "duration": 42,
    "start_time": "2023-07-22T21:11:21.316Z"
   },
   {
    "duration": 72,
    "start_time": "2023-07-22T21:11:21.360Z"
   },
   {
    "duration": 240,
    "start_time": "2023-07-22T21:11:21.434Z"
   },
   {
    "duration": 4,
    "start_time": "2023-07-22T21:11:21.676Z"
   },
   {
    "duration": 78,
    "start_time": "2023-07-22T21:11:30.068Z"
   },
   {
    "duration": 17,
    "start_time": "2023-07-22T21:11:31.491Z"
   },
   {
    "duration": 34,
    "start_time": "2023-07-22T21:11:37.168Z"
   },
   {
    "duration": 383,
    "start_time": "2023-07-22T21:11:44.214Z"
   },
   {
    "duration": 34,
    "start_time": "2023-07-22T21:11:50.034Z"
   },
   {
    "duration": 96,
    "start_time": "2023-07-22T21:12:05.452Z"
   },
   {
    "duration": 3,
    "start_time": "2023-07-22T21:12:35.440Z"
   },
   {
    "duration": 1110,
    "start_time": "2023-07-22T21:12:39.819Z"
   },
   {
    "duration": 2157,
    "start_time": "2023-07-22T21:16:31.418Z"
   },
   {
    "duration": 965,
    "start_time": "2023-07-22T21:16:33.578Z"
   },
   {
    "duration": 102,
    "start_time": "2023-07-22T21:16:34.545Z"
   },
   {
    "duration": 252,
    "start_time": "2023-07-22T21:16:34.648Z"
   },
   {
    "duration": 263,
    "start_time": "2023-07-22T21:16:34.902Z"
   },
   {
    "duration": 101,
    "start_time": "2023-07-22T21:16:35.166Z"
   },
   {
    "duration": 4,
    "start_time": "2023-07-22T21:16:35.269Z"
   },
   {
    "duration": 42,
    "start_time": "2023-07-22T21:16:35.275Z"
   },
   {
    "duration": 207,
    "start_time": "2023-07-22T21:16:35.319Z"
   },
   {
    "duration": 25,
    "start_time": "2023-07-22T21:16:35.528Z"
   },
   {
    "duration": 100,
    "start_time": "2023-07-22T21:16:35.555Z"
   },
   {
    "duration": 27,
    "start_time": "2023-07-22T21:16:35.657Z"
   },
   {
    "duration": 26,
    "start_time": "2023-07-22T21:16:35.686Z"
   },
   {
    "duration": 31,
    "start_time": "2023-07-22T21:16:35.715Z"
   },
   {
    "duration": 92,
    "start_time": "2023-07-22T21:16:35.747Z"
   },
   {
    "duration": 15,
    "start_time": "2023-07-22T21:16:35.840Z"
   },
   {
    "duration": 160,
    "start_time": "2023-07-22T21:16:35.856Z"
   },
   {
    "duration": 21,
    "start_time": "2023-07-22T21:16:36.018Z"
   },
   {
    "duration": 96,
    "start_time": "2023-07-22T21:16:36.041Z"
   },
   {
    "duration": 13,
    "start_time": "2023-07-22T21:16:36.139Z"
   },
   {
    "duration": 38,
    "start_time": "2023-07-22T21:16:36.153Z"
   },
   {
    "duration": 87,
    "start_time": "2023-07-22T21:16:36.193Z"
   },
   {
    "duration": 37,
    "start_time": "2023-07-22T21:16:36.281Z"
   },
   {
    "duration": 99,
    "start_time": "2023-07-22T21:16:36.320Z"
   },
   {
    "duration": 76,
    "start_time": "2023-07-22T21:16:36.421Z"
   },
   {
    "duration": 31,
    "start_time": "2023-07-22T21:16:36.513Z"
   },
   {
    "duration": 67,
    "start_time": "2023-07-22T21:16:36.546Z"
   },
   {
    "duration": 231,
    "start_time": "2023-07-22T21:16:45.489Z"
   },
   {
    "duration": 194,
    "start_time": "2023-07-22T21:16:49.386Z"
   },
   {
    "duration": 49,
    "start_time": "2023-07-22T21:16:51.227Z"
   },
   {
    "duration": 2063,
    "start_time": "2023-07-22T21:17:33.397Z"
   },
   {
    "duration": 955,
    "start_time": "2023-07-22T21:17:35.463Z"
   },
   {
    "duration": 104,
    "start_time": "2023-07-22T21:17:36.420Z"
   },
   {
    "duration": 252,
    "start_time": "2023-07-22T21:17:36.526Z"
   },
   {
    "duration": 259,
    "start_time": "2023-07-22T21:17:36.781Z"
   },
   {
    "duration": 95,
    "start_time": "2023-07-22T21:17:37.042Z"
   },
   {
    "duration": 4,
    "start_time": "2023-07-22T21:17:37.138Z"
   },
   {
    "duration": 28,
    "start_time": "2023-07-22T21:17:37.144Z"
   },
   {
    "duration": 213,
    "start_time": "2023-07-22T21:17:37.173Z"
   },
   {
    "duration": 33,
    "start_time": "2023-07-22T21:17:37.388Z"
   },
   {
    "duration": 106,
    "start_time": "2023-07-22T21:17:37.423Z"
   },
   {
    "duration": 15,
    "start_time": "2023-07-22T21:17:37.530Z"
   },
   {
    "duration": 32,
    "start_time": "2023-07-22T21:17:37.547Z"
   },
   {
    "duration": 36,
    "start_time": "2023-07-22T21:17:37.582Z"
   },
   {
    "duration": 95,
    "start_time": "2023-07-22T21:17:37.619Z"
   },
   {
    "duration": 17,
    "start_time": "2023-07-22T21:17:37.716Z"
   },
   {
    "duration": 155,
    "start_time": "2023-07-22T21:17:37.735Z"
   },
   {
    "duration": 28,
    "start_time": "2023-07-22T21:17:37.892Z"
   },
   {
    "duration": 94,
    "start_time": "2023-07-22T21:17:37.922Z"
   },
   {
    "duration": 14,
    "start_time": "2023-07-22T21:17:38.017Z"
   },
   {
    "duration": 20,
    "start_time": "2023-07-22T21:17:38.032Z"
   },
   {
    "duration": 103,
    "start_time": "2023-07-22T21:17:38.053Z"
   },
   {
    "duration": 28,
    "start_time": "2023-07-22T21:17:38.157Z"
   },
   {
    "duration": 94,
    "start_time": "2023-07-22T21:17:38.187Z"
   },
   {
    "duration": 85,
    "start_time": "2023-07-22T21:17:38.283Z"
   },
   {
    "duration": 46,
    "start_time": "2023-07-22T21:17:38.369Z"
   },
   {
    "duration": 53,
    "start_time": "2023-07-22T21:17:38.417Z"
   },
   {
    "duration": 243,
    "start_time": "2023-07-22T21:17:38.471Z"
   },
   {
    "duration": 4,
    "start_time": "2023-07-22T21:17:38.717Z"
   },
   {
    "duration": 95,
    "start_time": "2023-07-22T21:17:38.722Z"
   },
   {
    "duration": 18,
    "start_time": "2023-07-22T21:17:38.819Z"
   },
   {
    "duration": 38,
    "start_time": "2023-07-22T21:17:38.838Z"
   },
   {
    "duration": 413,
    "start_time": "2023-07-22T21:17:38.878Z"
   },
   {
    "duration": 60,
    "start_time": "2023-07-22T21:17:39.293Z"
   },
   {
    "duration": 108,
    "start_time": "2023-07-22T21:17:39.355Z"
   },
   {
    "duration": 3,
    "start_time": "2023-07-22T21:17:39.464Z"
   },
   {
    "duration": 1097,
    "start_time": "2023-07-22T21:17:48.425Z"
   },
   {
    "duration": 7625,
    "start_time": "2023-07-23T10:02:42.218Z"
   },
   {
    "duration": 2524,
    "start_time": "2023-07-23T10:02:49.846Z"
   },
   {
    "duration": 131,
    "start_time": "2023-07-23T10:02:52.372Z"
   },
   {
    "duration": 454,
    "start_time": "2023-07-23T10:02:52.506Z"
   },
   {
    "duration": 456,
    "start_time": "2023-07-23T10:02:52.962Z"
   },
   {
    "duration": 187,
    "start_time": "2023-07-23T10:02:53.420Z"
   },
   {
    "duration": 5,
    "start_time": "2023-07-23T10:02:53.609Z"
   },
   {
    "duration": 51,
    "start_time": "2023-07-23T10:02:53.616Z"
   },
   {
    "duration": 251,
    "start_time": "2023-07-23T10:02:53.669Z"
   },
   {
    "duration": 55,
    "start_time": "2023-07-23T10:02:53.925Z"
   },
   {
    "duration": 166,
    "start_time": "2023-07-23T10:02:53.982Z"
   },
   {
    "duration": 35,
    "start_time": "2023-07-23T10:02:54.150Z"
   },
   {
    "duration": 36,
    "start_time": "2023-07-23T10:02:54.188Z"
   },
   {
    "duration": 42,
    "start_time": "2023-07-23T10:02:54.227Z"
   },
   {
    "duration": 133,
    "start_time": "2023-07-23T10:02:54.272Z"
   },
   {
    "duration": 27,
    "start_time": "2023-07-23T10:02:54.409Z"
   },
   {
    "duration": 362,
    "start_time": "2023-07-23T10:02:54.438Z"
   },
   {
    "duration": 29,
    "start_time": "2023-07-23T10:02:54.802Z"
   },
   {
    "duration": 165,
    "start_time": "2023-07-23T10:02:54.834Z"
   },
   {
    "duration": 23,
    "start_time": "2023-07-23T10:02:55.002Z"
   },
   {
    "duration": 46,
    "start_time": "2023-07-23T10:02:55.027Z"
   },
   {
    "duration": 119,
    "start_time": "2023-07-23T10:02:55.074Z"
   },
   {
    "duration": 30,
    "start_time": "2023-07-23T10:02:55.194Z"
   },
   {
    "duration": 119,
    "start_time": "2023-07-23T10:02:55.226Z"
   },
   {
    "duration": 118,
    "start_time": "2023-07-23T10:02:55.347Z"
   },
   {
    "duration": 53,
    "start_time": "2023-07-23T10:02:55.474Z"
   },
   {
    "duration": 97,
    "start_time": "2023-07-23T10:02:55.529Z"
   },
   {
    "duration": 329,
    "start_time": "2023-07-23T10:02:55.629Z"
   },
   {
    "duration": 5,
    "start_time": "2023-07-23T10:02:55.960Z"
   },
   {
    "duration": 160,
    "start_time": "2023-07-23T10:02:55.967Z"
   },
   {
    "duration": 19,
    "start_time": "2023-07-23T10:02:56.129Z"
   },
   {
    "duration": 62,
    "start_time": "2023-07-23T10:02:56.160Z"
   },
   {
    "duration": 555,
    "start_time": "2023-07-23T10:02:56.225Z"
   },
   {
    "duration": 49,
    "start_time": "2023-07-23T10:02:56.783Z"
   },
   {
    "duration": 148,
    "start_time": "2023-07-23T10:02:56.834Z"
   },
   {
    "duration": 5,
    "start_time": "2023-07-23T10:02:56.984Z"
   },
   {
    "duration": 1195,
    "start_time": "2023-07-23T10:02:56.992Z"
   },
   {
    "duration": 146417,
    "start_time": "2023-07-23T10:02:58.189Z"
   },
   {
    "duration": 1589944,
    "start_time": "2023-07-23T10:05:24.608Z"
   },
   {
    "duration": 1216,
    "start_time": "2023-07-23T10:31:54.554Z"
   },
   {
    "duration": 6,
    "start_time": "2023-07-23T10:31:55.772Z"
   },
   {
    "duration": 24,
    "start_time": "2023-07-23T10:31:55.780Z"
   },
   {
    "duration": 0,
    "start_time": "2023-07-23T10:31:55.807Z"
   },
   {
    "duration": 5778,
    "start_time": "2023-07-23T10:44:07.177Z"
   },
   {
    "duration": 1414,
    "start_time": "2023-07-23T10:44:12.959Z"
   },
   {
    "duration": 128,
    "start_time": "2023-07-23T10:44:14.375Z"
   },
   {
    "duration": 306,
    "start_time": "2023-07-23T10:44:14.506Z"
   },
   {
    "duration": 367,
    "start_time": "2023-07-23T10:44:14.813Z"
   },
   {
    "duration": 160,
    "start_time": "2023-07-23T10:44:15.182Z"
   },
   {
    "duration": 5,
    "start_time": "2023-07-23T10:44:15.345Z"
   },
   {
    "duration": 31,
    "start_time": "2023-07-23T10:44:15.353Z"
   },
   {
    "duration": 235,
    "start_time": "2023-07-23T10:44:15.385Z"
   },
   {
    "duration": 47,
    "start_time": "2023-07-23T10:44:15.622Z"
   },
   {
    "duration": 138,
    "start_time": "2023-07-23T10:44:15.671Z"
   },
   {
    "duration": 29,
    "start_time": "2023-07-23T10:44:15.811Z"
   },
   {
    "duration": 28,
    "start_time": "2023-07-23T10:44:15.843Z"
   },
   {
    "duration": 21,
    "start_time": "2023-07-23T10:44:15.873Z"
   },
   {
    "duration": 138,
    "start_time": "2023-07-23T10:44:15.895Z"
   },
   {
    "duration": 26,
    "start_time": "2023-07-23T10:44:16.039Z"
   },
   {
    "duration": 240,
    "start_time": "2023-07-23T10:44:16.066Z"
   },
   {
    "duration": 30,
    "start_time": "2023-07-23T10:44:16.308Z"
   },
   {
    "duration": 116,
    "start_time": "2023-07-23T10:44:16.341Z"
   },
   {
    "duration": 14,
    "start_time": "2023-07-23T10:44:16.459Z"
   },
   {
    "duration": 33,
    "start_time": "2023-07-23T10:44:16.475Z"
   },
   {
    "duration": 104,
    "start_time": "2023-07-23T10:44:16.510Z"
   },
   {
    "duration": 30,
    "start_time": "2023-07-23T10:44:16.615Z"
   },
   {
    "duration": 117,
    "start_time": "2023-07-23T10:44:16.647Z"
   },
   {
    "duration": 84,
    "start_time": "2023-07-23T10:44:16.766Z"
   },
   {
    "duration": 32,
    "start_time": "2023-07-23T10:44:16.853Z"
   },
   {
    "duration": 75,
    "start_time": "2023-07-23T10:44:16.887Z"
   },
   {
    "duration": 228,
    "start_time": "2023-07-23T10:44:16.965Z"
   },
   {
    "duration": 3,
    "start_time": "2023-07-23T10:44:17.195Z"
   },
   {
    "duration": 91,
    "start_time": "2023-07-23T10:44:17.199Z"
   },
   {
    "duration": 15,
    "start_time": "2023-07-23T10:44:17.292Z"
   },
   {
    "duration": 51,
    "start_time": "2023-07-23T10:44:17.309Z"
   },
   {
    "duration": 391,
    "start_time": "2023-07-23T10:44:17.362Z"
   },
   {
    "duration": 37,
    "start_time": "2023-07-23T10:44:17.755Z"
   },
   {
    "duration": 117,
    "start_time": "2023-07-23T10:44:17.793Z"
   },
   {
    "duration": 4,
    "start_time": "2023-07-23T10:44:17.911Z"
   },
   {
    "duration": 1135,
    "start_time": "2023-07-23T10:44:17.916Z"
   },
   {
    "duration": 126902,
    "start_time": "2023-07-23T10:44:19.132Z"
   },
   {
    "duration": 2434603,
    "start_time": "2023-07-23T10:46:26.037Z"
   },
   {
    "duration": 442812,
    "start_time": "2023-07-23T11:27:00.642Z"
   },
   {
    "duration": 4,
    "start_time": "2023-07-23T11:34:23.456Z"
   },
   {
    "duration": 16,
    "start_time": "2023-07-23T11:34:23.462Z"
   },
   {
    "duration": 25674,
    "start_time": "2023-07-23T11:34:23.480Z"
   }
  ],
  "kernelspec": {
   "display_name": "Python 3 (ipykernel)",
   "language": "python",
   "name": "python3"
  },
  "language_info": {
   "codemirror_mode": {
    "name": "ipython",
    "version": 3
   },
   "file_extension": ".py",
   "mimetype": "text/x-python",
   "name": "python",
   "nbconvert_exporter": "python",
   "pygments_lexer": "ipython3",
   "version": "3.11.4"
  },
  "toc": {
   "base_numbering": 1,
   "nav_menu": {},
   "number_sections": true,
   "sideBar": true,
   "skip_h1_title": true,
   "title_cell": "Table of Contents",
   "title_sidebar": "Contents",
   "toc_cell": true,
   "toc_position": {},
   "toc_section_display": true,
   "toc_window_display": false
  }
 },
 "nbformat": 4,
 "nbformat_minor": 4
}
